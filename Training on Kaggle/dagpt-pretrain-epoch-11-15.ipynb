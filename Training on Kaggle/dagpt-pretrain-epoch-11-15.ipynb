{
 "cells": [
  {
   "cell_type": "markdown",
   "id": "26a94537",
   "metadata": {
    "papermill": {
     "duration": 0.019604,
     "end_time": "2024-10-13T00:43:09.758492",
     "exception": false,
     "start_time": "2024-10-13T00:43:09.738888",
     "status": "completed"
    },
    "tags": []
   },
   "source": [
    "# Import Library"
   ]
  },
  {
   "cell_type": "code",
   "execution_count": 1,
   "id": "e35092fa",
   "metadata": {
    "execution": {
     "iopub.execute_input": "2024-10-13T00:43:09.795490Z",
     "iopub.status.busy": "2024-10-13T00:43:09.795175Z",
     "iopub.status.idle": "2024-10-13T00:43:13.906550Z",
     "shell.execute_reply": "2024-10-13T00:43:13.905576Z"
    },
    "papermill": {
     "duration": 4.132076,
     "end_time": "2024-10-13T00:43:13.908944",
     "exception": false,
     "start_time": "2024-10-13T00:43:09.776868",
     "status": "completed"
    },
    "tags": []
   },
   "outputs": [],
   "source": [
    "import numpy as np\n",
    "import pandas as pd\n",
    "\n",
    "from tokenizers import Tokenizer\n",
    "\n",
    "import json\n",
    "import os\n",
    "import math\n",
    "from tqdm.auto import tqdm\n",
    "\n",
    "from torch.nn.modules.transformer import _generate_square_subsequent_mask\n",
    "from torch.utils.data import Dataset, DataLoader\n",
    "import torch\n",
    "import torch.nn as nn"
   ]
  },
  {
   "cell_type": "markdown",
   "id": "feec9b81",
   "metadata": {
    "papermill": {
     "duration": 0.017269,
     "end_time": "2024-10-13T00:43:13.945337",
     "exception": false,
     "start_time": "2024-10-13T00:43:13.928068",
     "status": "completed"
    },
    "tags": []
   },
   "source": [
    "# Load DaTokenizer"
   ]
  },
  {
   "cell_type": "code",
   "execution_count": 2,
   "id": "b611e20a",
   "metadata": {
    "execution": {
     "iopub.execute_input": "2024-10-13T00:43:13.981781Z",
     "iopub.status.busy": "2024-10-13T00:43:13.981365Z",
     "iopub.status.idle": "2024-10-13T00:43:14.044725Z",
     "shell.execute_reply": "2024-10-13T00:43:14.043798Z"
    },
    "papermill": {
     "duration": 0.083833,
     "end_time": "2024-10-13T00:43:14.046759",
     "exception": false,
     "start_time": "2024-10-13T00:43:13.962926",
     "status": "completed"
    },
    "tags": []
   },
   "outputs": [
    {
     "name": "stdout",
     "output_type": "stream",
     "text": [
      "Encoded IDs: [1559, 1647, 1827, 999, 1267, 990, 997, 1025, 1821]\n",
      "Decoded Text: Viêm nang lông thường thấy khi da bị ...\n"
     ]
    }
   ],
   "source": [
    "tokenizer = Tokenizer.from_file(\"/kaggle/input/datokenizer/other/default/1/tokenizer.json\")\n",
    "\n",
    "# Sample use\n",
    "encoded = tokenizer.encode(\"Viêm nang lông thường thấy khi da bị ...\")\n",
    "decoded = tokenizer.decode(encoded.ids, skip_special_tokens=False)\n",
    "\n",
    "print(\"Encoded IDs:\", encoded.ids)\n",
    "print(\"Decoded Text:\", decoded)"
   ]
  },
  {
   "cell_type": "markdown",
   "id": "029c53ec",
   "metadata": {
    "papermill": {
     "duration": 0.017239,
     "end_time": "2024-10-13T00:43:14.081697",
     "exception": false,
     "start_time": "2024-10-13T00:43:14.064458",
     "status": "completed"
    },
    "tags": []
   },
   "source": [
    "# Load CSV"
   ]
  },
  {
   "cell_type": "code",
   "execution_count": 3,
   "id": "f7c428e4",
   "metadata": {
    "execution": {
     "iopub.execute_input": "2024-10-13T00:43:14.117469Z",
     "iopub.status.busy": "2024-10-13T00:43:14.117157Z",
     "iopub.status.idle": "2024-10-13T00:43:17.318138Z",
     "shell.execute_reply": "2024-10-13T00:43:17.317127Z"
    },
    "papermill": {
     "duration": 3.221509,
     "end_time": "2024-10-13T00:43:17.320450",
     "exception": false,
     "start_time": "2024-10-13T00:43:14.098941",
     "status": "completed"
    },
    "tags": []
   },
   "outputs": [
    {
     "data": {
      "text/html": [
       "<div>\n",
       "<style scoped>\n",
       "    .dataframe tbody tr th:only-of-type {\n",
       "        vertical-align: middle;\n",
       "    }\n",
       "\n",
       "    .dataframe tbody tr th {\n",
       "        vertical-align: top;\n",
       "    }\n",
       "\n",
       "    .dataframe thead th {\n",
       "        text-align: right;\n",
       "    }\n",
       "</style>\n",
       "<table border=\"1\" class=\"dataframe\">\n",
       "  <thead>\n",
       "    <tr style=\"text-align: right;\">\n",
       "      <th></th>\n",
       "      <th>text</th>\n",
       "    </tr>\n",
       "  </thead>\n",
       "  <tbody>\n",
       "    <tr>\n",
       "      <th>0</th>\n",
       "      <td>Theo báo cáo của Tổ chức Y tế Thế giới, tim mạ...</td>\n",
       "    </tr>\n",
       "    <tr>\n",
       "      <th>1</th>\n",
       "      <td>Các serovars khác nhau của Chlamydia trachomat...</td>\n",
       "    </tr>\n",
       "  </tbody>\n",
       "</table>\n",
       "</div>"
      ],
      "text/plain": [
       "                                                text\n",
       "0  Theo báo cáo của Tổ chức Y tế Thế giới, tim mạ...\n",
       "1  Các serovars khác nhau của Chlamydia trachomat..."
      ]
     },
     "execution_count": 3,
     "metadata": {},
     "output_type": "execute_result"
    }
   ],
   "source": [
    "df_train = pd.read_csv(\"/kaggle/input/dataset-for-dagpt/pretrain_data.csv\")\n",
    "df_train.head(2)"
   ]
  },
  {
   "cell_type": "code",
   "execution_count": 4,
   "id": "3bcbd47a",
   "metadata": {
    "execution": {
     "iopub.execute_input": "2024-10-13T00:43:17.357878Z",
     "iopub.status.busy": "2024-10-13T00:43:17.357572Z",
     "iopub.status.idle": "2024-10-13T00:43:17.715455Z",
     "shell.execute_reply": "2024-10-13T00:43:17.714564Z"
    },
    "papermill": {
     "duration": 0.378999,
     "end_time": "2024-10-13T00:43:17.717889",
     "exception": false,
     "start_time": "2024-10-13T00:43:17.338890",
     "status": "completed"
    },
    "tags": []
   },
   "outputs": [
    {
     "data": {
      "text/html": [
       "<div>\n",
       "<style scoped>\n",
       "    .dataframe tbody tr th:only-of-type {\n",
       "        vertical-align: middle;\n",
       "    }\n",
       "\n",
       "    .dataframe tbody tr th {\n",
       "        vertical-align: top;\n",
       "    }\n",
       "\n",
       "    .dataframe thead th {\n",
       "        text-align: right;\n",
       "    }\n",
       "</style>\n",
       "<table border=\"1\" class=\"dataframe\">\n",
       "  <thead>\n",
       "    <tr style=\"text-align: right;\">\n",
       "      <th></th>\n",
       "      <th>text</th>\n",
       "    </tr>\n",
       "  </thead>\n",
       "  <tbody>\n",
       "    <tr>\n",
       "      <th>0</th>\n",
       "      <td>Bệnh ghẻ, một căn bệnh da liễu khá phổ biến, t...</td>\n",
       "    </tr>\n",
       "    <tr>\n",
       "      <th>1</th>\n",
       "      <td>Sinh thiết là một xét nghiệm quan trọng trong ...</td>\n",
       "    </tr>\n",
       "  </tbody>\n",
       "</table>\n",
       "</div>"
      ],
      "text/plain": [
       "                                                text\n",
       "0  Bệnh ghẻ, một căn bệnh da liễu khá phổ biến, t...\n",
       "1  Sinh thiết là một xét nghiệm quan trọng trong ..."
      ]
     },
     "execution_count": 4,
     "metadata": {},
     "output_type": "execute_result"
    }
   ],
   "source": [
    "df_test = pd.read_csv(\"/kaggle/input/dataset-for-dagpt/pretrain_test.csv\")\n",
    "df_test.head(2)"
   ]
  },
  {
   "cell_type": "markdown",
   "id": "80084070",
   "metadata": {
    "papermill": {
     "duration": 0.017726,
     "end_time": "2024-10-13T00:43:17.754733",
     "exception": false,
     "start_time": "2024-10-13T00:43:17.737007",
     "status": "completed"
    },
    "tags": []
   },
   "source": [
    "# Preprocessing Data & Building Dataset"
   ]
  },
  {
   "cell_type": "markdown",
   "id": "7f6e3daf",
   "metadata": {
    "papermill": {
     "duration": 0.017653,
     "end_time": "2024-10-13T00:43:17.790267",
     "exception": false,
     "start_time": "2024-10-13T00:43:17.772614",
     "status": "completed"
    },
    "tags": []
   },
   "source": [
    "Data đã được xử lí một số trước đó, nên hiện tại ta chỉ thay kí tự xuống hàng thành ký tự đặc biệt `NEWLINE` và tokenize"
   ]
  },
  {
   "cell_type": "code",
   "execution_count": 5,
   "id": "557a247d",
   "metadata": {
    "execution": {
     "iopub.execute_input": "2024-10-13T00:43:17.828421Z",
     "iopub.status.busy": "2024-10-13T00:43:17.828077Z",
     "iopub.status.idle": "2024-10-13T00:43:17.832529Z",
     "shell.execute_reply": "2024-10-13T00:43:17.831678Z"
    },
    "papermill": {
     "duration": 0.025006,
     "end_time": "2024-10-13T00:43:17.834362",
     "exception": false,
     "start_time": "2024-10-13T00:43:17.809356",
     "status": "completed"
    },
    "tags": []
   },
   "outputs": [],
   "source": [
    "def preprocessing_str(s):\n",
    "    return tokenizer.encode(s.replace(\"\\n\",\"[NEWLINE]\")).ids"
   ]
  },
  {
   "cell_type": "code",
   "execution_count": 6,
   "id": "a4eff3dd",
   "metadata": {
    "execution": {
     "iopub.execute_input": "2024-10-13T00:43:17.871871Z",
     "iopub.status.busy": "2024-10-13T00:43:17.871572Z",
     "iopub.status.idle": "2024-10-13T00:43:17.879628Z",
     "shell.execute_reply": "2024-10-13T00:43:17.878696Z"
    },
    "papermill": {
     "duration": 0.02936,
     "end_time": "2024-10-13T00:43:17.881523",
     "exception": false,
     "start_time": "2024-10-13T00:43:17.852163",
     "status": "completed"
    },
    "tags": []
   },
   "outputs": [],
   "source": [
    "class MyDataset(Dataset):\n",
    "    def __init__(self, df, max_len=256):\n",
    "        self.data = []\n",
    "        self.label = []\n",
    "        for text in df['text']:\n",
    "            checked = True\n",
    "            tokens = preprocessing_str(text)\n",
    "            while len(tokens) <= max_len:\n",
    "                checked = False\n",
    "                tokens = tokens + [tokenizer.token_to_id(\"[PAD]\")]\n",
    "            for i in range(0, len(tokens)- max_len, max_len):\n",
    "                self.data.append(tokens[i:i+max_len])\n",
    "                self.label.append(tokens[i+1:i+1+max_len])\n",
    "\n",
    "    def __len__(self):\n",
    "        return len(self.data)\n",
    "\n",
    "    def __getitem__(self, idx):\n",
    "        return torch.tensor(self.data[idx], dtype=torch.long), torch.tensor(self.label[idx], dtype=torch.long)"
   ]
  },
  {
   "cell_type": "code",
   "execution_count": 7,
   "id": "e6f2380b",
   "metadata": {
    "execution": {
     "iopub.execute_input": "2024-10-13T00:43:17.918340Z",
     "iopub.status.busy": "2024-10-13T00:43:17.918023Z",
     "iopub.status.idle": "2024-10-13T00:44:02.164029Z",
     "shell.execute_reply": "2024-10-13T00:44:02.163035Z"
    },
    "papermill": {
     "duration": 44.286326,
     "end_time": "2024-10-13T00:44:02.185648",
     "exception": false,
     "start_time": "2024-10-13T00:43:17.899322",
     "status": "completed"
    },
    "tags": []
   },
   "outputs": [
    {
     "data": {
      "text/plain": [
       "83805"
      ]
     },
     "execution_count": 7,
     "metadata": {},
     "output_type": "execute_result"
    }
   ],
   "source": [
    "data_train = MyDataset(df_train)\n",
    "len(data_train)"
   ]
  },
  {
   "cell_type": "markdown",
   "id": "26635b87",
   "metadata": {
    "papermill": {
     "duration": 0.019678,
     "end_time": "2024-10-13T00:44:02.224498",
     "exception": false,
     "start_time": "2024-10-13T00:44:02.204820",
     "status": "completed"
    },
    "tags": []
   },
   "source": [
    "# Model Setup"
   ]
  },
  {
   "cell_type": "code",
   "execution_count": 8,
   "id": "d3fbd3cc",
   "metadata": {
    "execution": {
     "iopub.execute_input": "2024-10-13T00:44:02.266757Z",
     "iopub.status.busy": "2024-10-13T00:44:02.265849Z",
     "iopub.status.idle": "2024-10-13T00:44:02.299932Z",
     "shell.execute_reply": "2024-10-13T00:44:02.299039Z"
    },
    "papermill": {
     "duration": 0.057781,
     "end_time": "2024-10-13T00:44:02.302253",
     "exception": false,
     "start_time": "2024-10-13T00:44:02.244472",
     "status": "completed"
    },
    "tags": []
   },
   "outputs": [],
   "source": [
    "class TokenEmbedding(nn.Module):\n",
    "    \n",
    "    def __init__(self, vocab_size:int, d_model:int):\n",
    "        super(TokenEmbedding, self).__init__()\n",
    "        self.embedding_layer = nn.Embedding(vocab_size, d_model)\n",
    "        self.d_model = d_model\n",
    "    \n",
    "    def forward(self, tokens: torch.Tensor):\n",
    "        return self.embedding_layer(tokens.long()) * math.sqrt(self.d_model)\n",
    "    \n",
    "class PositionalEncoding(nn.Module):\n",
    "    \n",
    "    def __init__(self, max_length_seq:int, d_model:int, dropout_rate:float):\n",
    "        super(PositionalEncoding, self).__init__()\n",
    "        den = torch.exp(- torch.arange(0, d_model, 2)* math.log(10000) / d_model)\n",
    "        pos = torch.arange(0, max_length_seq).reshape(max_length_seq, 1)\n",
    "        PE = torch.zeros((max_length_seq, d_model))\n",
    "        PE[:, 0::2] = torch.sin(pos * den)\n",
    "        PE[:, 1::2] = torch.cos(pos * den)\n",
    "        PE = PE.unsqueeze(-2)\n",
    "        self.register_buffer(\"PE\", PE)\n",
    "        self.dropout_layer = nn.Dropout(dropout_rate)\n",
    "        \n",
    "    def forward(self, token_embedding: torch.Tensor):\n",
    "        return self.dropout_layer(token_embedding + self.PE[:token_embedding.size(0), :])\n",
    "    \n",
    "class DecoderOnlyBlock(nn.Module):\n",
    "    \n",
    "    def __init__(self, d_model, num_heads, d_ff,dropout_rate=0.0, batch_first=True):\n",
    "        super(DecoderOnlyBlock, self).__init__()\n",
    "        \n",
    "        # Masked Multihead Attention\n",
    "        self.mmha = nn.MultiheadAttention(embed_dim=d_model, num_heads=num_heads, dropout=dropout_rate, batch_first=batch_first)\n",
    "        \n",
    "        # Normalize 1\n",
    "        self.norm1 = nn.LayerNorm(normalized_shape= d_model, eps=1e-05, elementwise_affine=True, bias=True)\n",
    "        \n",
    "        # Feed forward\n",
    "        self.feed_forward = nn.Sequential(\n",
    "            nn.Linear(in_features=d_model, out_features=d_ff, bias=True),\n",
    "            nn.ReLU(),\n",
    "            nn.Linear(in_features=d_ff, out_features=d_model, bias=True),\n",
    "        )\n",
    "        \n",
    "        # Normalize 2\n",
    "        self.norm2 = nn.LayerNorm(normalized_shape= d_model, eps=1e-05, elementwise_affine=True, bias=True)\n",
    "        \n",
    "        # Dropout\n",
    "        self.dropout = nn.Dropout(dropout_rate)\n",
    "        \n",
    "        \n",
    "    def forward(self, x, attn_mask=None, key_padding_mask=None):\n",
    "        # Block 1\n",
    "        mmha_output, _ = self.mmha(query=x,\n",
    "                                   key=x,\n",
    "                                   value=x,\n",
    "                                   key_padding_mask=key_padding_mask, need_weights=False, \n",
    "                                   attn_mask=attn_mask, \n",
    "                                   average_attn_weights=True, is_causal=False)\n",
    "        \n",
    "        x = self.norm1(x + self.dropout(mmha_output))\n",
    "        \n",
    "        # Block 2\n",
    "        ff_output = self.feed_forward(x)\n",
    "        x = self.norm2(x + self.dropout(ff_output))\n",
    "        \n",
    "        return x"
   ]
  },
  {
   "cell_type": "code",
   "execution_count": 9,
   "id": "dfbd921d",
   "metadata": {
    "execution": {
     "iopub.execute_input": "2024-10-13T00:44:02.344985Z",
     "iopub.status.busy": "2024-10-13T00:44:02.344192Z",
     "iopub.status.idle": "2024-10-13T00:44:02.354034Z",
     "shell.execute_reply": "2024-10-13T00:44:02.352889Z"
    },
    "papermill": {
     "duration": 0.033685,
     "end_time": "2024-10-13T00:44:02.356330",
     "exception": false,
     "start_time": "2024-10-13T00:44:02.322645",
     "status": "completed"
    },
    "tags": []
   },
   "outputs": [],
   "source": [
    "class DaGPT(nn.Module):\n",
    "    def __init__(self, d_model, vocab_size, max_len_seq, num_heads, d_ff, num_of_block, dropout_rate=0.0, batch_first=True):\n",
    "        super(DaGPT, self).__init__()\n",
    "        self.token_embedding = TokenEmbedding(vocab_size, d_model)\n",
    "        self.position_embedding = PositionalEncoding(max_len_seq, d_model, dropout_rate)\n",
    "        self.dropout = nn.Dropout(dropout_rate)\n",
    "        \n",
    "        self.decoder_blocks = nn.ModuleList([\n",
    "            DecoderOnlyBlock(d_model=d_model, num_heads=num_heads, d_ff=d_ff,dropout_rate=dropout_rate, batch_first=batch_first) \n",
    "            for _ in range(num_of_block)\n",
    "        ])\n",
    "        \n",
    "        self.linear_out = nn.Linear(in_features=d_model, out_features=vocab_size, bias=True)\n",
    "        \n",
    "    def forward(self, x, attn_mask=None, key_padding_mask=None):\n",
    "        x = self.token_embedding(x)\n",
    "        x = self.position_embedding(x)\n",
    "        \n",
    "        for block in self.decoder_blocks:\n",
    "            x = block(x, attn_mask=attn_mask, key_padding_mask=key_padding_mask)\n",
    "            \n",
    "        logits = self.linear_out(x)\n",
    "        \n",
    "        return logits  "
   ]
  },
  {
   "cell_type": "code",
   "execution_count": 10,
   "id": "da2e13a1",
   "metadata": {
    "execution": {
     "iopub.execute_input": "2024-10-13T00:44:02.398688Z",
     "iopub.status.busy": "2024-10-13T00:44:02.397767Z",
     "iopub.status.idle": "2024-10-13T00:44:04.284242Z",
     "shell.execute_reply": "2024-10-13T00:44:04.283161Z"
    },
    "papermill": {
     "duration": 1.909974,
     "end_time": "2024-10-13T00:44:04.286368",
     "exception": false,
     "start_time": "2024-10-13T00:44:02.376394",
     "status": "completed"
    },
    "tags": []
   },
   "outputs": [
    {
     "name": "stdout",
     "output_type": "stream",
     "text": [
      "Tổng số tham số: 208100494\n"
     ]
    }
   ],
   "source": [
    "model = DaGPT(d_model=768,\n",
    "               vocab_size=tokenizer.get_vocab_size(),\n",
    "               max_len_seq=256,\n",
    "               num_heads=16,\n",
    "               d_ff=3072, \n",
    "               num_of_block=24, \n",
    "               dropout_rate=0.1, \n",
    "               batch_first=True)\n",
    "\n",
    "total_params = sum(p.numel() for p in model.parameters())\n",
    "print(f\"Tổng số tham số: {total_params}\")"
   ]
  },
  {
   "cell_type": "code",
   "execution_count": 11,
   "id": "de2a3fd1",
   "metadata": {
    "execution": {
     "iopub.execute_input": "2024-10-13T00:44:04.324278Z",
     "iopub.status.busy": "2024-10-13T00:44:04.323890Z",
     "iopub.status.idle": "2024-10-13T00:44:04.799711Z",
     "shell.execute_reply": "2024-10-13T00:44:04.798762Z"
    },
    "papermill": {
     "duration": 0.497195,
     "end_time": "2024-10-13T00:44:04.801938",
     "exception": false,
     "start_time": "2024-10-13T00:44:04.304743",
     "status": "completed"
    },
    "tags": []
   },
   "outputs": [
    {
     "data": {
      "text/plain": [
       "device(type='cuda')"
      ]
     },
     "execution_count": 11,
     "metadata": {},
     "output_type": "execute_result"
    }
   ],
   "source": [
    "device = torch.device(\"cuda\" if torch.cuda.is_available() else \"cpu\")\n",
    "model.to(device)\n",
    "device"
   ]
  },
  {
   "cell_type": "markdown",
   "id": "056803a9",
   "metadata": {
    "papermill": {
     "duration": 0.018264,
     "end_time": "2024-10-13T00:44:04.838978",
     "exception": false,
     "start_time": "2024-10-13T00:44:04.820714",
     "status": "completed"
    },
    "tags": []
   },
   "source": [
    "# Load model weight"
   ]
  },
  {
   "cell_type": "code",
   "execution_count": 12,
   "id": "11c4ab62",
   "metadata": {
    "execution": {
     "iopub.execute_input": "2024-10-13T00:44:04.881022Z",
     "iopub.status.busy": "2024-10-13T00:44:04.880647Z",
     "iopub.status.idle": "2024-10-13T00:44:11.535201Z",
     "shell.execute_reply": "2024-10-13T00:44:11.534261Z"
    },
    "papermill": {
     "duration": 6.680237,
     "end_time": "2024-10-13T00:44:11.537296",
     "exception": false,
     "start_time": "2024-10-13T00:44:04.857059",
     "status": "completed"
    },
    "tags": []
   },
   "outputs": [
    {
     "name": "stderr",
     "output_type": "stream",
     "text": [
      "/tmp/ipykernel_24/3779578551.py:1: FutureWarning: You are using `torch.load` with `weights_only=False` (the current default value), which uses the default pickle module implicitly. It is possible to construct malicious pickle data which will execute arbitrary code during unpickling (See https://github.com/pytorch/pytorch/blob/main/SECURITY.md#untrusted-models for more details). In a future release, the default value for `weights_only` will be flipped to `True`. This limits the functions that could be executed during unpickling. Arbitrary objects will no longer be allowed to be loaded via this mode unless they are explicitly allowlisted by the user via `torch.serialization.add_safe_globals`. We recommend you start setting `weights_only=True` for any use case where you don't have full control of the loaded file. Please open an issue on GitHub for any issues related to this experimental feature.\n",
      "  model.load_state_dict(torch.load('/kaggle/input/dagpt-pretrain-epoch-6-10/model_weights.pth'))\n"
     ]
    },
    {
     "data": {
      "text/plain": [
       "<All keys matched successfully>"
      ]
     },
     "execution_count": 12,
     "metadata": {},
     "output_type": "execute_result"
    }
   ],
   "source": [
    "model.load_state_dict(torch.load('/kaggle/input/dagpt-pretrain-epoch-6-10/model_weights.pth'))"
   ]
  },
  {
   "cell_type": "markdown",
   "id": "005f3ff0",
   "metadata": {
    "papermill": {
     "duration": 0.018352,
     "end_time": "2024-10-13T00:44:11.574840",
     "exception": false,
     "start_time": "2024-10-13T00:44:11.556488",
     "status": "completed"
    },
    "tags": []
   },
   "source": [
    "# Greedy Inference Function"
   ]
  },
  {
   "cell_type": "code",
   "execution_count": 13,
   "id": "d2589f96",
   "metadata": {
    "execution": {
     "iopub.execute_input": "2024-10-13T00:44:11.612760Z",
     "iopub.status.busy": "2024-10-13T00:44:11.612447Z",
     "iopub.status.idle": "2024-10-13T00:44:11.619786Z",
     "shell.execute_reply": "2024-10-13T00:44:11.619002Z"
    },
    "papermill": {
     "duration": 0.028669,
     "end_time": "2024-10-13T00:44:11.621711",
     "exception": false,
     "start_time": "2024-10-13T00:44:11.593042",
     "status": "completed"
    },
    "tags": []
   },
   "outputs": [],
   "source": [
    "def greedy_inference(prompt, max_len_seq=256, max_len_gen=50, temperature=1):\n",
    "    model.eval()\n",
    "    result = []\n",
    "    with torch.no_grad():\n",
    "        tokens_idx = preprocessing_str(prompt)\n",
    "        for i in range(max_len_gen):\n",
    "            tgt = torch.tensor(tokens_idx, dtype=torch.long).unsqueeze(0).to(device)\n",
    "            logits = model(tgt)\n",
    "            probs = torch.softmax(logits[:,-1,:] / temperature, dim=-1)\n",
    "            next_token = torch.argmax(probs, dim=-1).item()\n",
    "            result.append(next_token)\n",
    "            if len(tokens_idx) < max_len_seq:\n",
    "                tokens_idx = tokens_idx+[next_token] \n",
    "            else:\n",
    "                tokens_idx = tokens_idx[1:]+[next_token]\n",
    "        return tokenizer.decode(result)"
   ]
  },
  {
   "cell_type": "code",
   "execution_count": 14,
   "id": "27769a39",
   "metadata": {
    "execution": {
     "iopub.execute_input": "2024-10-13T00:44:11.659329Z",
     "iopub.status.busy": "2024-10-13T00:44:11.659020Z",
     "iopub.status.idle": "2024-10-13T00:44:12.469765Z",
     "shell.execute_reply": "2024-10-13T00:44:12.468784Z"
    },
    "papermill": {
     "duration": 0.832031,
     "end_time": "2024-10-13T00:44:12.472064",
     "exception": false,
     "start_time": "2024-10-13T00:44:11.640033",
     "status": "completed"
    },
    "tags": []
   },
   "outputs": [
    {
     "data": {
      "text/plain": [
       "'một loại nấm gây bệnh . Nấm da đầu , thường gặp , thường gặp , đặc biệt là các bệnh lý nội tiết , bệnh lý nội tiết , bệnh lý nội tiết , bệnh lý nội tiết , nội tiết , nội tiết , nội tiết , nội'"
      ]
     },
     "execution_count": 14,
     "metadata": {},
     "output_type": "execute_result"
    }
   ],
   "source": [
    "greedy_inference(\"Chốc là\")"
   ]
  },
  {
   "cell_type": "markdown",
   "id": "2d6c1038",
   "metadata": {
    "papermill": {
     "duration": 0.018603,
     "end_time": "2024-10-13T00:44:12.510144",
     "exception": false,
     "start_time": "2024-10-13T00:44:12.491541",
     "status": "completed"
    },
    "tags": []
   },
   "source": [
    "# Model Training"
   ]
  },
  {
   "cell_type": "code",
   "execution_count": 15,
   "id": "cfde4719",
   "metadata": {
    "execution": {
     "iopub.execute_input": "2024-10-13T00:44:12.548969Z",
     "iopub.status.busy": "2024-10-13T00:44:12.548631Z",
     "iopub.status.idle": "2024-10-13T00:44:13.686685Z",
     "shell.execute_reply": "2024-10-13T00:44:13.685913Z"
    },
    "papermill": {
     "duration": 1.159806,
     "end_time": "2024-10-13T00:44:13.688890",
     "exception": false,
     "start_time": "2024-10-13T00:44:12.529084",
     "status": "completed"
    },
    "tags": []
   },
   "outputs": [],
   "source": [
    "batch_size = 20\n",
    "max_len = 256\n",
    "epochs = 5\n",
    "\n",
    "# DataLoader\n",
    "train_loader = DataLoader(data_train, batch_size=batch_size, shuffle=True)\n",
    "len_loader = len(train_loader)  # Tính độ dài của DataLoader\n",
    "total_steps = epochs * len_loader\n",
    "\n",
    "# Optimize\n",
    "optimizer = torch.optim.AdamW(model.parameters(), lr=1e-5, betas=(0.9, 0.999), eps=1e-8)\n",
    "\n",
    "# Loss \n",
    "criterion = nn.CrossEntropyLoss(ignore_index=tokenizer.token_to_id(\"[PAD]\"))"
   ]
  },
  {
   "cell_type": "code",
   "execution_count": 16,
   "id": "78788fac",
   "metadata": {
    "execution": {
     "iopub.execute_input": "2024-10-13T00:44:13.727911Z",
     "iopub.status.busy": "2024-10-13T00:44:13.727475Z",
     "iopub.status.idle": "2024-10-13T07:16:36.944782Z",
     "shell.execute_reply": "2024-10-13T07:16:36.943664Z"
    },
    "papermill": {
     "duration": 23543.238988,
     "end_time": "2024-10-13T07:16:36.946902",
     "exception": false,
     "start_time": "2024-10-13T00:44:13.707914",
     "status": "completed"
    },
    "tags": []
   },
   "outputs": [
    {
     "data": {
      "application/vnd.jupyter.widget-view+json": {
       "model_id": "2ca7ea430ce0439abe9086482c330e24",
       "version_major": 2,
       "version_minor": 0
      },
      "text/plain": [
       "EPOCH 1/5: 0it [00:00, ?it/s]"
      ]
     },
     "metadata": {},
     "output_type": "display_data"
    },
    {
     "name": "stdout",
     "output_type": "stream",
     "text": [
      "Final Loss: 3.064621950214161\n",
      "Test Greedy Inference: Theo báo cáo của | Bộ Y tế , Bộ Y tế , Bộ Y tế , Bộ Y tế , Bộ Y tế , Bộ Y tế , Bộ Y tế , Bộ Y tế , Bộ Y tế , Bộ Y tế , Bộ Y tế , Bộ Y tế , Bộ Y\n"
     ]
    },
    {
     "data": {
      "application/vnd.jupyter.widget-view+json": {
       "model_id": "1d9e2566b6b0487980b65c4736b0e3b4",
       "version_major": 2,
       "version_minor": 0
      },
      "text/plain": [
       "EPOCH 2/5: 0it [00:00, ?it/s]"
      ]
     },
     "metadata": {},
     "output_type": "display_data"
    },
    {
     "name": "stdout",
     "output_type": "stream",
     "text": [
      "Final Loss: 3.0065694111282686\n",
      "Test Greedy Inference: Theo báo cáo của | Bộ Y tế , Bộ Y tế , Bộ Y tế , Bộ Y tế , Bộ Y tế , Bộ Y tế , Bộ Y tế , Bộ Y tế , Bộ Y tế , Bộ Y tế , Bộ Y tế . 1 . 1 .\n"
     ]
    },
    {
     "data": {
      "application/vnd.jupyter.widget-view+json": {
       "model_id": "a86e2f5e52394f05a9a82edc38d821a7",
       "version_major": 2,
       "version_minor": 0
      },
      "text/plain": [
       "EPOCH 3/5: 0it [00:00, ?it/s]"
      ]
     },
     "metadata": {},
     "output_type": "display_data"
    },
    {
     "name": "stdout",
     "output_type": "stream",
     "text": [
      "Final Loss: 2.953496770283056\n",
      "Test Greedy Inference: Theo báo cáo của | Bộ Y tế , Bộ Y tế ban hành Thông tư này , Bộ Y tế ban hành Thông tư này . Điều trị để điều trị . Điều trị . Điều trị . Điều trị . Điều trị . Điều trị .\n"
     ]
    },
    {
     "data": {
      "application/vnd.jupyter.widget-view+json": {
       "model_id": "a2af9f5fd95245d0a199f907b98ba5d9",
       "version_major": 2,
       "version_minor": 0
      },
      "text/plain": [
       "EPOCH 4/5: 0it [00:00, ?it/s]"
      ]
     },
     "metadata": {},
     "output_type": "display_data"
    },
    {
     "name": "stdout",
     "output_type": "stream",
     "text": [
      "Final Loss: 2.9050493077656103\n",
      "Test Greedy Inference: Theo báo cáo của | Bộ Y tế , Bộ Y tế , Bộ Y tế . 1 . 1 . 1 . 1 . 1 . 1 . 1 . 1 . 1 . 1 . 2 . 2 . 2\n"
     ]
    },
    {
     "data": {
      "application/vnd.jupyter.widget-view+json": {
       "model_id": "ae3de7fc712547579e8b330aac131f82",
       "version_major": 2,
       "version_minor": 0
      },
      "text/plain": [
       "EPOCH 5/5: 0it [00:00, ?it/s]"
      ]
     },
     "metadata": {},
     "output_type": "display_data"
    },
    {
     "name": "stdout",
     "output_type": "stream",
     "text": [
      "Final Loss: 2.8603174552175656\n",
      "Test Greedy Inference: Theo báo cáo của | Bộ Y tế , Bộ Y tế , Bộ Y tế . 1 . 1 . 1 . 1 . 1 . 1 . 1 . 1 . 2 . 2 . 2 . 2 . 2\n"
     ]
    }
   ],
   "source": [
    "# Training\n",
    "for epoch in range(epochs):\n",
    "    model.train()\n",
    "\n",
    "    total_loss = 0\n",
    "    steps = 0\n",
    "\n",
    "    for i, batch in tqdm(enumerate(train_loader), desc=f\"EPOCH {epoch+1}/{epochs}\"):\n",
    "        data, label = batch\n",
    "        data, label = data.to(device), label.to(device)\n",
    "        data_padding_mask = (data == tokenizer.token_to_id(\"[PAD]\")).to(torch.float)\n",
    "        data_mmha_mask = _generate_square_subsequent_mask(data.size(1)).to(device)\n",
    "        \n",
    "        optimizer.zero_grad()\n",
    "\n",
    "        logits = model(data, data_mmha_mask, data_padding_mask)\n",
    "        \n",
    "        B, T, C = logits.shape\n",
    "        logits = logits.view(B*T, C)\n",
    "        label = label.view(B*T)\n",
    "\n",
    "        loss = criterion(logits, label)\n",
    "        total_loss += loss.item()\n",
    "\n",
    "        loss.backward()\n",
    "        optimizer.step()\n",
    "        steps += 1\n",
    "    \n",
    "    final_loss = total_loss / steps\n",
    "    print(f\"Final Loss: {final_loss}\")\n",
    "    print(\"Test Greedy Inference: Theo báo cáo của | \",end=\"\")\n",
    "    print(greedy_inference(\"Theo báo cáo của\"))"
   ]
  },
  {
   "cell_type": "markdown",
   "id": "3dc66f43",
   "metadata": {
    "papermill": {
     "duration": 0.020099,
     "end_time": "2024-10-13T07:16:36.987831",
     "exception": false,
     "start_time": "2024-10-13T07:16:36.967732",
     "status": "completed"
    },
    "tags": []
   },
   "source": [
    "# Save model weights"
   ]
  },
  {
   "cell_type": "code",
   "execution_count": 17,
   "id": "691dc0a0",
   "metadata": {
    "execution": {
     "iopub.execute_input": "2024-10-13T07:16:37.030022Z",
     "iopub.status.busy": "2024-10-13T07:16:37.029613Z",
     "iopub.status.idle": "2024-10-13T07:16:38.147343Z",
     "shell.execute_reply": "2024-10-13T07:16:38.146408Z"
    },
    "papermill": {
     "duration": 1.141684,
     "end_time": "2024-10-13T07:16:38.149738",
     "exception": false,
     "start_time": "2024-10-13T07:16:37.008054",
     "status": "completed"
    },
    "tags": []
   },
   "outputs": [],
   "source": [
    "torch.save(model.state_dict(), '/kaggle/working/model_weights.pth')"
   ]
  },
  {
   "cell_type": "code",
   "execution_count": null,
   "id": "678eeed5",
   "metadata": {
    "papermill": {
     "duration": 0.020285,
     "end_time": "2024-10-13T07:16:38.190795",
     "exception": false,
     "start_time": "2024-10-13T07:16:38.170510",
     "status": "completed"
    },
    "tags": []
   },
   "outputs": [],
   "source": []
  }
 ],
 "metadata": {
  "kaggle": {
   "accelerator": "gpu",
   "dataSources": [
    {
     "datasetId": 5853334,
     "sourceId": 9603094,
     "sourceType": "datasetVersion"
    },
    {
     "sourceId": 200621912,
     "sourceType": "kernelVersion"
    },
    {
     "modelId": 136861,
     "modelInstanceId": 113562,
     "sourceId": 134279,
     "sourceType": "modelInstanceVersion"
    }
   ],
   "isGpuEnabled": true,
   "isInternetEnabled": true,
   "language": "python",
   "sourceType": "notebook"
  },
  "kernelspec": {
   "display_name": "Python 3",
   "language": "python",
   "name": "python3"
  },
  "language_info": {
   "codemirror_mode": {
    "name": "ipython",
    "version": 3
   },
   "file_extension": ".py",
   "mimetype": "text/x-python",
   "name": "python",
   "nbconvert_exporter": "python",
   "pygments_lexer": "ipython3",
   "version": "3.10.14"
  },
  "papermill": {
   "default_parameters": {},
   "duration": 23614.48188,
   "end_time": "2024-10-13T07:16:41.477685",
   "environment_variables": {},
   "exception": null,
   "input_path": "__notebook__.ipynb",
   "output_path": "__notebook__.ipynb",
   "parameters": {},
   "start_time": "2024-10-13T00:43:06.995805",
   "version": "2.6.0"
  },
  "widgets": {
   "application/vnd.jupyter.widget-state+json": {
    "state": {
     "07817852fb5a4cfba651a3c442ab4d5e": {
      "model_module": "@jupyter-widgets/controls",
      "model_module_version": "1.5.0",
      "model_name": "ProgressStyleModel",
      "state": {
       "_model_module": "@jupyter-widgets/controls",
       "_model_module_version": "1.5.0",
       "_model_name": "ProgressStyleModel",
       "_view_count": null,
       "_view_module": "@jupyter-widgets/base",
       "_view_module_version": "1.2.0",
       "_view_name": "StyleView",
       "bar_color": null,
       "description_width": ""
      }
     },
     "11176c2447b0425a917ee1f3720f12a7": {
      "model_module": "@jupyter-widgets/base",
      "model_module_version": "1.2.0",
      "model_name": "LayoutModel",
      "state": {
       "_model_module": "@jupyter-widgets/base",
       "_model_module_version": "1.2.0",
       "_model_name": "LayoutModel",
       "_view_count": null,
       "_view_module": "@jupyter-widgets/base",
       "_view_module_version": "1.2.0",
       "_view_name": "LayoutView",
       "align_content": null,
       "align_items": null,
       "align_self": null,
       "border": null,
       "bottom": null,
       "display": null,
       "flex": null,
       "flex_flow": null,
       "grid_area": null,
       "grid_auto_columns": null,
       "grid_auto_flow": null,
       "grid_auto_rows": null,
       "grid_column": null,
       "grid_gap": null,
       "grid_row": null,
       "grid_template_areas": null,
       "grid_template_columns": null,
       "grid_template_rows": null,
       "height": null,
       "justify_content": null,
       "justify_items": null,
       "left": null,
       "margin": null,
       "max_height": null,
       "max_width": null,
       "min_height": null,
       "min_width": null,
       "object_fit": null,
       "object_position": null,
       "order": null,
       "overflow": null,
       "overflow_x": null,
       "overflow_y": null,
       "padding": null,
       "right": null,
       "top": null,
       "visibility": null,
       "width": "20px"
      }
     },
     "141066c4172744a9bb0b6ea8f0c6be50": {
      "model_module": "@jupyter-widgets/controls",
      "model_module_version": "1.5.0",
      "model_name": "ProgressStyleModel",
      "state": {
       "_model_module": "@jupyter-widgets/controls",
       "_model_module_version": "1.5.0",
       "_model_name": "ProgressStyleModel",
       "_view_count": null,
       "_view_module": "@jupyter-widgets/base",
       "_view_module_version": "1.2.0",
       "_view_name": "StyleView",
       "bar_color": null,
       "description_width": ""
      }
     },
     "19bf1234e6324037a7cdb2366f304c11": {
      "model_module": "@jupyter-widgets/base",
      "model_module_version": "1.2.0",
      "model_name": "LayoutModel",
      "state": {
       "_model_module": "@jupyter-widgets/base",
       "_model_module_version": "1.2.0",
       "_model_name": "LayoutModel",
       "_view_count": null,
       "_view_module": "@jupyter-widgets/base",
       "_view_module_version": "1.2.0",
       "_view_name": "LayoutView",
       "align_content": null,
       "align_items": null,
       "align_self": null,
       "border": null,
       "bottom": null,
       "display": null,
       "flex": null,
       "flex_flow": null,
       "grid_area": null,
       "grid_auto_columns": null,
       "grid_auto_flow": null,
       "grid_auto_rows": null,
       "grid_column": null,
       "grid_gap": null,
       "grid_row": null,
       "grid_template_areas": null,
       "grid_template_columns": null,
       "grid_template_rows": null,
       "height": null,
       "justify_content": null,
       "justify_items": null,
       "left": null,
       "margin": null,
       "max_height": null,
       "max_width": null,
       "min_height": null,
       "min_width": null,
       "object_fit": null,
       "object_position": null,
       "order": null,
       "overflow": null,
       "overflow_x": null,
       "overflow_y": null,
       "padding": null,
       "right": null,
       "top": null,
       "visibility": null,
       "width": null
      }
     },
     "1c5d947caad141f38741c2ee14746fef": {
      "model_module": "@jupyter-widgets/controls",
      "model_module_version": "1.5.0",
      "model_name": "HTMLModel",
      "state": {
       "_dom_classes": [],
       "_model_module": "@jupyter-widgets/controls",
       "_model_module_version": "1.5.0",
       "_model_name": "HTMLModel",
       "_view_count": null,
       "_view_module": "@jupyter-widgets/controls",
       "_view_module_version": "1.5.0",
       "_view_name": "HTMLView",
       "description": "",
       "description_tooltip": null,
       "layout": "IPY_MODEL_7c0260655d0547abbaf5c22a8897c1b7",
       "placeholder": "​",
       "style": "IPY_MODEL_478ad5131ce442b5b8b8af2a2bc5ad43",
       "value": " 4191/? [1:18:23&lt;00:00,  1.02s/it]"
      }
     },
     "1d9e2566b6b0487980b65c4736b0e3b4": {
      "model_module": "@jupyter-widgets/controls",
      "model_module_version": "1.5.0",
      "model_name": "HBoxModel",
      "state": {
       "_dom_classes": [],
       "_model_module": "@jupyter-widgets/controls",
       "_model_module_version": "1.5.0",
       "_model_name": "HBoxModel",
       "_view_count": null,
       "_view_module": "@jupyter-widgets/controls",
       "_view_module_version": "1.5.0",
       "_view_name": "HBoxView",
       "box_style": "",
       "children": [
        "IPY_MODEL_b2c2f1a1c5af442ca689a9409d692083",
        "IPY_MODEL_965a35675a354183b4eeb4140a600976",
        "IPY_MODEL_76bc93316f6246ec8adf89e857656a4e"
       ],
       "layout": "IPY_MODEL_494bbdd59e88486e8b4976df5af3b74f"
      }
     },
     "1f586224c3c9456c81ccd4f3d3f6f157": {
      "model_module": "@jupyter-widgets/controls",
      "model_module_version": "1.5.0",
      "model_name": "DescriptionStyleModel",
      "state": {
       "_model_module": "@jupyter-widgets/controls",
       "_model_module_version": "1.5.0",
       "_model_name": "DescriptionStyleModel",
       "_view_count": null,
       "_view_module": "@jupyter-widgets/base",
       "_view_module_version": "1.2.0",
       "_view_name": "StyleView",
       "description_width": ""
      }
     },
     "22745aa5def843cfa3dc71a85676736a": {
      "model_module": "@jupyter-widgets/base",
      "model_module_version": "1.2.0",
      "model_name": "LayoutModel",
      "state": {
       "_model_module": "@jupyter-widgets/base",
       "_model_module_version": "1.2.0",
       "_model_name": "LayoutModel",
       "_view_count": null,
       "_view_module": "@jupyter-widgets/base",
       "_view_module_version": "1.2.0",
       "_view_name": "LayoutView",
       "align_content": null,
       "align_items": null,
       "align_self": null,
       "border": null,
       "bottom": null,
       "display": null,
       "flex": null,
       "flex_flow": null,
       "grid_area": null,
       "grid_auto_columns": null,
       "grid_auto_flow": null,
       "grid_auto_rows": null,
       "grid_column": null,
       "grid_gap": null,
       "grid_row": null,
       "grid_template_areas": null,
       "grid_template_columns": null,
       "grid_template_rows": null,
       "height": null,
       "justify_content": null,
       "justify_items": null,
       "left": null,
       "margin": null,
       "max_height": null,
       "max_width": null,
       "min_height": null,
       "min_width": null,
       "object_fit": null,
       "object_position": null,
       "order": null,
       "overflow": null,
       "overflow_x": null,
       "overflow_y": null,
       "padding": null,
       "right": null,
       "top": null,
       "visibility": null,
       "width": null
      }
     },
     "23748c334d594537b35b57c3656e4317": {
      "model_module": "@jupyter-widgets/base",
      "model_module_version": "1.2.0",
      "model_name": "LayoutModel",
      "state": {
       "_model_module": "@jupyter-widgets/base",
       "_model_module_version": "1.2.0",
       "_model_name": "LayoutModel",
       "_view_count": null,
       "_view_module": "@jupyter-widgets/base",
       "_view_module_version": "1.2.0",
       "_view_name": "LayoutView",
       "align_content": null,
       "align_items": null,
       "align_self": null,
       "border": null,
       "bottom": null,
       "display": null,
       "flex": null,
       "flex_flow": null,
       "grid_area": null,
       "grid_auto_columns": null,
       "grid_auto_flow": null,
       "grid_auto_rows": null,
       "grid_column": null,
       "grid_gap": null,
       "grid_row": null,
       "grid_template_areas": null,
       "grid_template_columns": null,
       "grid_template_rows": null,
       "height": null,
       "justify_content": null,
       "justify_items": null,
       "left": null,
       "margin": null,
       "max_height": null,
       "max_width": null,
       "min_height": null,
       "min_width": null,
       "object_fit": null,
       "object_position": null,
       "order": null,
       "overflow": null,
       "overflow_x": null,
       "overflow_y": null,
       "padding": null,
       "right": null,
       "top": null,
       "visibility": null,
       "width": null
      }
     },
     "2c81fff4843b426cb6a2854176504b68": {
      "model_module": "@jupyter-widgets/controls",
      "model_module_version": "1.5.0",
      "model_name": "DescriptionStyleModel",
      "state": {
       "_model_module": "@jupyter-widgets/controls",
       "_model_module_version": "1.5.0",
       "_model_name": "DescriptionStyleModel",
       "_view_count": null,
       "_view_module": "@jupyter-widgets/base",
       "_view_module_version": "1.2.0",
       "_view_name": "StyleView",
       "description_width": ""
      }
     },
     "2ca7ea430ce0439abe9086482c330e24": {
      "model_module": "@jupyter-widgets/controls",
      "model_module_version": "1.5.0",
      "model_name": "HBoxModel",
      "state": {
       "_dom_classes": [],
       "_model_module": "@jupyter-widgets/controls",
       "_model_module_version": "1.5.0",
       "_model_name": "HBoxModel",
       "_view_count": null,
       "_view_module": "@jupyter-widgets/controls",
       "_view_module_version": "1.5.0",
       "_view_name": "HBoxView",
       "box_style": "",
       "children": [
        "IPY_MODEL_6f7a8cc381c84e5d858089d4d36fda9f",
        "IPY_MODEL_d87b5fbbe5b64e4aa5806eab7cc6d6d5",
        "IPY_MODEL_59978a47e18f4ef59b58e972dd1a91bc"
       ],
       "layout": "IPY_MODEL_4de4923c50004a93bbd7a8fd966f865d"
      }
     },
     "37f7dc3c5a8446648e738c0cda082232": {
      "model_module": "@jupyter-widgets/base",
      "model_module_version": "1.2.0",
      "model_name": "LayoutModel",
      "state": {
       "_model_module": "@jupyter-widgets/base",
       "_model_module_version": "1.2.0",
       "_model_name": "LayoutModel",
       "_view_count": null,
       "_view_module": "@jupyter-widgets/base",
       "_view_module_version": "1.2.0",
       "_view_name": "LayoutView",
       "align_content": null,
       "align_items": null,
       "align_self": null,
       "border": null,
       "bottom": null,
       "display": null,
       "flex": null,
       "flex_flow": null,
       "grid_area": null,
       "grid_auto_columns": null,
       "grid_auto_flow": null,
       "grid_auto_rows": null,
       "grid_column": null,
       "grid_gap": null,
       "grid_row": null,
       "grid_template_areas": null,
       "grid_template_columns": null,
       "grid_template_rows": null,
       "height": null,
       "justify_content": null,
       "justify_items": null,
       "left": null,
       "margin": null,
       "max_height": null,
       "max_width": null,
       "min_height": null,
       "min_width": null,
       "object_fit": null,
       "object_position": null,
       "order": null,
       "overflow": null,
       "overflow_x": null,
       "overflow_y": null,
       "padding": null,
       "right": null,
       "top": null,
       "visibility": null,
       "width": null
      }
     },
     "3e1bbc43fae5439493a599fe48c0a96a": {
      "model_module": "@jupyter-widgets/controls",
      "model_module_version": "1.5.0",
      "model_name": "ProgressStyleModel",
      "state": {
       "_model_module": "@jupyter-widgets/controls",
       "_model_module_version": "1.5.0",
       "_model_name": "ProgressStyleModel",
       "_view_count": null,
       "_view_module": "@jupyter-widgets/base",
       "_view_module_version": "1.2.0",
       "_view_name": "StyleView",
       "bar_color": null,
       "description_width": ""
      }
     },
     "438d2eeeef5c4d9490dbcc45839fcc99": {
      "model_module": "@jupyter-widgets/base",
      "model_module_version": "1.2.0",
      "model_name": "LayoutModel",
      "state": {
       "_model_module": "@jupyter-widgets/base",
       "_model_module_version": "1.2.0",
       "_model_name": "LayoutModel",
       "_view_count": null,
       "_view_module": "@jupyter-widgets/base",
       "_view_module_version": "1.2.0",
       "_view_name": "LayoutView",
       "align_content": null,
       "align_items": null,
       "align_self": null,
       "border": null,
       "bottom": null,
       "display": null,
       "flex": null,
       "flex_flow": null,
       "grid_area": null,
       "grid_auto_columns": null,
       "grid_auto_flow": null,
       "grid_auto_rows": null,
       "grid_column": null,
       "grid_gap": null,
       "grid_row": null,
       "grid_template_areas": null,
       "grid_template_columns": null,
       "grid_template_rows": null,
       "height": null,
       "justify_content": null,
       "justify_items": null,
       "left": null,
       "margin": null,
       "max_height": null,
       "max_width": null,
       "min_height": null,
       "min_width": null,
       "object_fit": null,
       "object_position": null,
       "order": null,
       "overflow": null,
       "overflow_x": null,
       "overflow_y": null,
       "padding": null,
       "right": null,
       "top": null,
       "visibility": null,
       "width": "20px"
      }
     },
     "478ad5131ce442b5b8b8af2a2bc5ad43": {
      "model_module": "@jupyter-widgets/controls",
      "model_module_version": "1.5.0",
      "model_name": "DescriptionStyleModel",
      "state": {
       "_model_module": "@jupyter-widgets/controls",
       "_model_module_version": "1.5.0",
       "_model_name": "DescriptionStyleModel",
       "_view_count": null,
       "_view_module": "@jupyter-widgets/base",
       "_view_module_version": "1.2.0",
       "_view_name": "StyleView",
       "description_width": ""
      }
     },
     "494bbdd59e88486e8b4976df5af3b74f": {
      "model_module": "@jupyter-widgets/base",
      "model_module_version": "1.2.0",
      "model_name": "LayoutModel",
      "state": {
       "_model_module": "@jupyter-widgets/base",
       "_model_module_version": "1.2.0",
       "_model_name": "LayoutModel",
       "_view_count": null,
       "_view_module": "@jupyter-widgets/base",
       "_view_module_version": "1.2.0",
       "_view_name": "LayoutView",
       "align_content": null,
       "align_items": null,
       "align_self": null,
       "border": null,
       "bottom": null,
       "display": null,
       "flex": null,
       "flex_flow": null,
       "grid_area": null,
       "grid_auto_columns": null,
       "grid_auto_flow": null,
       "grid_auto_rows": null,
       "grid_column": null,
       "grid_gap": null,
       "grid_row": null,
       "grid_template_areas": null,
       "grid_template_columns": null,
       "grid_template_rows": null,
       "height": null,
       "justify_content": null,
       "justify_items": null,
       "left": null,
       "margin": null,
       "max_height": null,
       "max_width": null,
       "min_height": null,
       "min_width": null,
       "object_fit": null,
       "object_position": null,
       "order": null,
       "overflow": null,
       "overflow_x": null,
       "overflow_y": null,
       "padding": null,
       "right": null,
       "top": null,
       "visibility": null,
       "width": null
      }
     },
     "498220ccfe89471ca8e96924cd4b2aea": {
      "model_module": "@jupyter-widgets/base",
      "model_module_version": "1.2.0",
      "model_name": "LayoutModel",
      "state": {
       "_model_module": "@jupyter-widgets/base",
       "_model_module_version": "1.2.0",
       "_model_name": "LayoutModel",
       "_view_count": null,
       "_view_module": "@jupyter-widgets/base",
       "_view_module_version": "1.2.0",
       "_view_name": "LayoutView",
       "align_content": null,
       "align_items": null,
       "align_self": null,
       "border": null,
       "bottom": null,
       "display": null,
       "flex": null,
       "flex_flow": null,
       "grid_area": null,
       "grid_auto_columns": null,
       "grid_auto_flow": null,
       "grid_auto_rows": null,
       "grid_column": null,
       "grid_gap": null,
       "grid_row": null,
       "grid_template_areas": null,
       "grid_template_columns": null,
       "grid_template_rows": null,
       "height": null,
       "justify_content": null,
       "justify_items": null,
       "left": null,
       "margin": null,
       "max_height": null,
       "max_width": null,
       "min_height": null,
       "min_width": null,
       "object_fit": null,
       "object_position": null,
       "order": null,
       "overflow": null,
       "overflow_x": null,
       "overflow_y": null,
       "padding": null,
       "right": null,
       "top": null,
       "visibility": null,
       "width": "20px"
      }
     },
     "4de4923c50004a93bbd7a8fd966f865d": {
      "model_module": "@jupyter-widgets/base",
      "model_module_version": "1.2.0",
      "model_name": "LayoutModel",
      "state": {
       "_model_module": "@jupyter-widgets/base",
       "_model_module_version": "1.2.0",
       "_model_name": "LayoutModel",
       "_view_count": null,
       "_view_module": "@jupyter-widgets/base",
       "_view_module_version": "1.2.0",
       "_view_name": "LayoutView",
       "align_content": null,
       "align_items": null,
       "align_self": null,
       "border": null,
       "bottom": null,
       "display": null,
       "flex": null,
       "flex_flow": null,
       "grid_area": null,
       "grid_auto_columns": null,
       "grid_auto_flow": null,
       "grid_auto_rows": null,
       "grid_column": null,
       "grid_gap": null,
       "grid_row": null,
       "grid_template_areas": null,
       "grid_template_columns": null,
       "grid_template_rows": null,
       "height": null,
       "justify_content": null,
       "justify_items": null,
       "left": null,
       "margin": null,
       "max_height": null,
       "max_width": null,
       "min_height": null,
       "min_width": null,
       "object_fit": null,
       "object_position": null,
       "order": null,
       "overflow": null,
       "overflow_x": null,
       "overflow_y": null,
       "padding": null,
       "right": null,
       "top": null,
       "visibility": null,
       "width": null
      }
     },
     "572c62f9c8dd496f86469a8f6fcd9586": {
      "model_module": "@jupyter-widgets/controls",
      "model_module_version": "1.5.0",
      "model_name": "FloatProgressModel",
      "state": {
       "_dom_classes": [],
       "_model_module": "@jupyter-widgets/controls",
       "_model_module_version": "1.5.0",
       "_model_name": "FloatProgressModel",
       "_view_count": null,
       "_view_module": "@jupyter-widgets/controls",
       "_view_module_version": "1.5.0",
       "_view_name": "ProgressView",
       "bar_style": "success",
       "description": "",
       "description_tooltip": null,
       "layout": "IPY_MODEL_11176c2447b0425a917ee1f3720f12a7",
       "max": 1.0,
       "min": 0.0,
       "orientation": "horizontal",
       "style": "IPY_MODEL_e624431fa85c4aa2b3b75bf6d8ca572c",
       "value": 1.0
      }
     },
     "59978a47e18f4ef59b58e972dd1a91bc": {
      "model_module": "@jupyter-widgets/controls",
      "model_module_version": "1.5.0",
      "model_name": "HTMLModel",
      "state": {
       "_dom_classes": [],
       "_model_module": "@jupyter-widgets/controls",
       "_model_module_version": "1.5.0",
       "_model_name": "HTMLModel",
       "_view_count": null,
       "_view_module": "@jupyter-widgets/controls",
       "_view_module_version": "1.5.0",
       "_view_name": "HTMLView",
       "description": "",
       "description_tooltip": null,
       "layout": "IPY_MODEL_7ea6b1a300734d20bdcfc7f1cc3a88b9",
       "placeholder": "​",
       "style": "IPY_MODEL_76563baaa6364498bc6439c65f90c445",
       "value": " 4191/? [1:18:25&lt;00:00,  1.07s/it]"
      }
     },
     "5ddf7bee91224d14b286bb1281e3522d": {
      "model_module": "@jupyter-widgets/base",
      "model_module_version": "1.2.0",
      "model_name": "LayoutModel",
      "state": {
       "_model_module": "@jupyter-widgets/base",
       "_model_module_version": "1.2.0",
       "_model_name": "LayoutModel",
       "_view_count": null,
       "_view_module": "@jupyter-widgets/base",
       "_view_module_version": "1.2.0",
       "_view_name": "LayoutView",
       "align_content": null,
       "align_items": null,
       "align_self": null,
       "border": null,
       "bottom": null,
       "display": null,
       "flex": null,
       "flex_flow": null,
       "grid_area": null,
       "grid_auto_columns": null,
       "grid_auto_flow": null,
       "grid_auto_rows": null,
       "grid_column": null,
       "grid_gap": null,
       "grid_row": null,
       "grid_template_areas": null,
       "grid_template_columns": null,
       "grid_template_rows": null,
       "height": null,
       "justify_content": null,
       "justify_items": null,
       "left": null,
       "margin": null,
       "max_height": null,
       "max_width": null,
       "min_height": null,
       "min_width": null,
       "object_fit": null,
       "object_position": null,
       "order": null,
       "overflow": null,
       "overflow_x": null,
       "overflow_y": null,
       "padding": null,
       "right": null,
       "top": null,
       "visibility": null,
       "width": null
      }
     },
     "6a7129ef67d843fbb165f2651f667ced": {
      "model_module": "@jupyter-widgets/base",
      "model_module_version": "1.2.0",
      "model_name": "LayoutModel",
      "state": {
       "_model_module": "@jupyter-widgets/base",
       "_model_module_version": "1.2.0",
       "_model_name": "LayoutModel",
       "_view_count": null,
       "_view_module": "@jupyter-widgets/base",
       "_view_module_version": "1.2.0",
       "_view_name": "LayoutView",
       "align_content": null,
       "align_items": null,
       "align_self": null,
       "border": null,
       "bottom": null,
       "display": null,
       "flex": null,
       "flex_flow": null,
       "grid_area": null,
       "grid_auto_columns": null,
       "grid_auto_flow": null,
       "grid_auto_rows": null,
       "grid_column": null,
       "grid_gap": null,
       "grid_row": null,
       "grid_template_areas": null,
       "grid_template_columns": null,
       "grid_template_rows": null,
       "height": null,
       "justify_content": null,
       "justify_items": null,
       "left": null,
       "margin": null,
       "max_height": null,
       "max_width": null,
       "min_height": null,
       "min_width": null,
       "object_fit": null,
       "object_position": null,
       "order": null,
       "overflow": null,
       "overflow_x": null,
       "overflow_y": null,
       "padding": null,
       "right": null,
       "top": null,
       "visibility": null,
       "width": null
      }
     },
     "6f7a8cc381c84e5d858089d4d36fda9f": {
      "model_module": "@jupyter-widgets/controls",
      "model_module_version": "1.5.0",
      "model_name": "HTMLModel",
      "state": {
       "_dom_classes": [],
       "_model_module": "@jupyter-widgets/controls",
       "_model_module_version": "1.5.0",
       "_model_name": "HTMLModel",
       "_view_count": null,
       "_view_module": "@jupyter-widgets/controls",
       "_view_module_version": "1.5.0",
       "_view_name": "HTMLView",
       "description": "",
       "description_tooltip": null,
       "layout": "IPY_MODEL_6a7129ef67d843fbb165f2651f667ced",
       "placeholder": "​",
       "style": "IPY_MODEL_d392a4a905e745f28348aff0b5547d05",
       "value": "EPOCH 1/5: "
      }
     },
     "706ba02d4afc4fb6a83a121acce0f165": {
      "model_module": "@jupyter-widgets/controls",
      "model_module_version": "1.5.0",
      "model_name": "ProgressStyleModel",
      "state": {
       "_model_module": "@jupyter-widgets/controls",
       "_model_module_version": "1.5.0",
       "_model_name": "ProgressStyleModel",
       "_view_count": null,
       "_view_module": "@jupyter-widgets/base",
       "_view_module_version": "1.2.0",
       "_view_name": "StyleView",
       "bar_color": null,
       "description_width": ""
      }
     },
     "74b747022fdb4844a9840fde1dc9bd30": {
      "model_module": "@jupyter-widgets/controls",
      "model_module_version": "1.5.0",
      "model_name": "HTMLModel",
      "state": {
       "_dom_classes": [],
       "_model_module": "@jupyter-widgets/controls",
       "_model_module_version": "1.5.0",
       "_model_name": "HTMLModel",
       "_view_count": null,
       "_view_module": "@jupyter-widgets/controls",
       "_view_module_version": "1.5.0",
       "_view_name": "HTMLView",
       "description": "",
       "description_tooltip": null,
       "layout": "IPY_MODEL_5ddf7bee91224d14b286bb1281e3522d",
       "placeholder": "​",
       "style": "IPY_MODEL_1f586224c3c9456c81ccd4f3d3f6f157",
       "value": " 4191/? [1:18:25&lt;00:00,  1.02s/it]"
      }
     },
     "76563baaa6364498bc6439c65f90c445": {
      "model_module": "@jupyter-widgets/controls",
      "model_module_version": "1.5.0",
      "model_name": "DescriptionStyleModel",
      "state": {
       "_model_module": "@jupyter-widgets/controls",
       "_model_module_version": "1.5.0",
       "_model_name": "DescriptionStyleModel",
       "_view_count": null,
       "_view_module": "@jupyter-widgets/base",
       "_view_module_version": "1.2.0",
       "_view_name": "StyleView",
       "description_width": ""
      }
     },
     "76bc93316f6246ec8adf89e857656a4e": {
      "model_module": "@jupyter-widgets/controls",
      "model_module_version": "1.5.0",
      "model_name": "HTMLModel",
      "state": {
       "_dom_classes": [],
       "_model_module": "@jupyter-widgets/controls",
       "_model_module_version": "1.5.0",
       "_model_name": "HTMLModel",
       "_view_count": null,
       "_view_module": "@jupyter-widgets/controls",
       "_view_module_version": "1.5.0",
       "_view_name": "HTMLView",
       "description": "",
       "description_tooltip": null,
       "layout": "IPY_MODEL_22745aa5def843cfa3dc71a85676736a",
       "placeholder": "​",
       "style": "IPY_MODEL_f47c10529b184797923c114ef27986b2",
       "value": " 4191/? [1:18:35&lt;00:00,  1.02s/it]"
      }
     },
     "7947571938ef415bbddc1b6bbbc2bf47": {
      "model_module": "@jupyter-widgets/base",
      "model_module_version": "1.2.0",
      "model_name": "LayoutModel",
      "state": {
       "_model_module": "@jupyter-widgets/base",
       "_model_module_version": "1.2.0",
       "_model_name": "LayoutModel",
       "_view_count": null,
       "_view_module": "@jupyter-widgets/base",
       "_view_module_version": "1.2.0",
       "_view_name": "LayoutView",
       "align_content": null,
       "align_items": null,
       "align_self": null,
       "border": null,
       "bottom": null,
       "display": null,
       "flex": null,
       "flex_flow": null,
       "grid_area": null,
       "grid_auto_columns": null,
       "grid_auto_flow": null,
       "grid_auto_rows": null,
       "grid_column": null,
       "grid_gap": null,
       "grid_row": null,
       "grid_template_areas": null,
       "grid_template_columns": null,
       "grid_template_rows": null,
       "height": null,
       "justify_content": null,
       "justify_items": null,
       "left": null,
       "margin": null,
       "max_height": null,
       "max_width": null,
       "min_height": null,
       "min_width": null,
       "object_fit": null,
       "object_position": null,
       "order": null,
       "overflow": null,
       "overflow_x": null,
       "overflow_y": null,
       "padding": null,
       "right": null,
       "top": null,
       "visibility": null,
       "width": null
      }
     },
     "79854868471948329dbda987e3f26468": {
      "model_module": "@jupyter-widgets/controls",
      "model_module_version": "1.5.0",
      "model_name": "HTMLModel",
      "state": {
       "_dom_classes": [],
       "_model_module": "@jupyter-widgets/controls",
       "_model_module_version": "1.5.0",
       "_model_name": "HTMLModel",
       "_view_count": null,
       "_view_module": "@jupyter-widgets/controls",
       "_view_module_version": "1.5.0",
       "_view_name": "HTMLView",
       "description": "",
       "description_tooltip": null,
       "layout": "IPY_MODEL_23748c334d594537b35b57c3656e4317",
       "placeholder": "​",
       "style": "IPY_MODEL_af5f936880324c4094906aad1d17a49a",
       "value": " 4191/? [1:18:29&lt;00:00,  1.02s/it]"
      }
     },
     "7c0260655d0547abbaf5c22a8897c1b7": {
      "model_module": "@jupyter-widgets/base",
      "model_module_version": "1.2.0",
      "model_name": "LayoutModel",
      "state": {
       "_model_module": "@jupyter-widgets/base",
       "_model_module_version": "1.2.0",
       "_model_name": "LayoutModel",
       "_view_count": null,
       "_view_module": "@jupyter-widgets/base",
       "_view_module_version": "1.2.0",
       "_view_name": "LayoutView",
       "align_content": null,
       "align_items": null,
       "align_self": null,
       "border": null,
       "bottom": null,
       "display": null,
       "flex": null,
       "flex_flow": null,
       "grid_area": null,
       "grid_auto_columns": null,
       "grid_auto_flow": null,
       "grid_auto_rows": null,
       "grid_column": null,
       "grid_gap": null,
       "grid_row": null,
       "grid_template_areas": null,
       "grid_template_columns": null,
       "grid_template_rows": null,
       "height": null,
       "justify_content": null,
       "justify_items": null,
       "left": null,
       "margin": null,
       "max_height": null,
       "max_width": null,
       "min_height": null,
       "min_width": null,
       "object_fit": null,
       "object_position": null,
       "order": null,
       "overflow": null,
       "overflow_x": null,
       "overflow_y": null,
       "padding": null,
       "right": null,
       "top": null,
       "visibility": null,
       "width": null
      }
     },
     "7ea6b1a300734d20bdcfc7f1cc3a88b9": {
      "model_module": "@jupyter-widgets/base",
      "model_module_version": "1.2.0",
      "model_name": "LayoutModel",
      "state": {
       "_model_module": "@jupyter-widgets/base",
       "_model_module_version": "1.2.0",
       "_model_name": "LayoutModel",
       "_view_count": null,
       "_view_module": "@jupyter-widgets/base",
       "_view_module_version": "1.2.0",
       "_view_name": "LayoutView",
       "align_content": null,
       "align_items": null,
       "align_self": null,
       "border": null,
       "bottom": null,
       "display": null,
       "flex": null,
       "flex_flow": null,
       "grid_area": null,
       "grid_auto_columns": null,
       "grid_auto_flow": null,
       "grid_auto_rows": null,
       "grid_column": null,
       "grid_gap": null,
       "grid_row": null,
       "grid_template_areas": null,
       "grid_template_columns": null,
       "grid_template_rows": null,
       "height": null,
       "justify_content": null,
       "justify_items": null,
       "left": null,
       "margin": null,
       "max_height": null,
       "max_width": null,
       "min_height": null,
       "min_width": null,
       "object_fit": null,
       "object_position": null,
       "order": null,
       "overflow": null,
       "overflow_x": null,
       "overflow_y": null,
       "padding": null,
       "right": null,
       "top": null,
       "visibility": null,
       "width": null
      }
     },
     "870d23163add4fd5ab9d019dc609208b": {
      "model_module": "@jupyter-widgets/base",
      "model_module_version": "1.2.0",
      "model_name": "LayoutModel",
      "state": {
       "_model_module": "@jupyter-widgets/base",
       "_model_module_version": "1.2.0",
       "_model_name": "LayoutModel",
       "_view_count": null,
       "_view_module": "@jupyter-widgets/base",
       "_view_module_version": "1.2.0",
       "_view_name": "LayoutView",
       "align_content": null,
       "align_items": null,
       "align_self": null,
       "border": null,
       "bottom": null,
       "display": null,
       "flex": null,
       "flex_flow": null,
       "grid_area": null,
       "grid_auto_columns": null,
       "grid_auto_flow": null,
       "grid_auto_rows": null,
       "grid_column": null,
       "grid_gap": null,
       "grid_row": null,
       "grid_template_areas": null,
       "grid_template_columns": null,
       "grid_template_rows": null,
       "height": null,
       "justify_content": null,
       "justify_items": null,
       "left": null,
       "margin": null,
       "max_height": null,
       "max_width": null,
       "min_height": null,
       "min_width": null,
       "object_fit": null,
       "object_position": null,
       "order": null,
       "overflow": null,
       "overflow_x": null,
       "overflow_y": null,
       "padding": null,
       "right": null,
       "top": null,
       "visibility": null,
       "width": null
      }
     },
     "8a4c46a7297e4bebbf67dd39e02a6a10": {
      "model_module": "@jupyter-widgets/base",
      "model_module_version": "1.2.0",
      "model_name": "LayoutModel",
      "state": {
       "_model_module": "@jupyter-widgets/base",
       "_model_module_version": "1.2.0",
       "_model_name": "LayoutModel",
       "_view_count": null,
       "_view_module": "@jupyter-widgets/base",
       "_view_module_version": "1.2.0",
       "_view_name": "LayoutView",
       "align_content": null,
       "align_items": null,
       "align_self": null,
       "border": null,
       "bottom": null,
       "display": null,
       "flex": null,
       "flex_flow": null,
       "grid_area": null,
       "grid_auto_columns": null,
       "grid_auto_flow": null,
       "grid_auto_rows": null,
       "grid_column": null,
       "grid_gap": null,
       "grid_row": null,
       "grid_template_areas": null,
       "grid_template_columns": null,
       "grid_template_rows": null,
       "height": null,
       "justify_content": null,
       "justify_items": null,
       "left": null,
       "margin": null,
       "max_height": null,
       "max_width": null,
       "min_height": null,
       "min_width": null,
       "object_fit": null,
       "object_position": null,
       "order": null,
       "overflow": null,
       "overflow_x": null,
       "overflow_y": null,
       "padding": null,
       "right": null,
       "top": null,
       "visibility": null,
       "width": null
      }
     },
     "965a35675a354183b4eeb4140a600976": {
      "model_module": "@jupyter-widgets/controls",
      "model_module_version": "1.5.0",
      "model_name": "FloatProgressModel",
      "state": {
       "_dom_classes": [],
       "_model_module": "@jupyter-widgets/controls",
       "_model_module_version": "1.5.0",
       "_model_name": "FloatProgressModel",
       "_view_count": null,
       "_view_module": "@jupyter-widgets/controls",
       "_view_module_version": "1.5.0",
       "_view_name": "ProgressView",
       "bar_style": "success",
       "description": "",
       "description_tooltip": null,
       "layout": "IPY_MODEL_498220ccfe89471ca8e96924cd4b2aea",
       "max": 1.0,
       "min": 0.0,
       "orientation": "horizontal",
       "style": "IPY_MODEL_141066c4172744a9bb0b6ea8f0c6be50",
       "value": 1.0
      }
     },
     "9cc9d5e181534439b8efb8a43ae6289a": {
      "model_module": "@jupyter-widgets/base",
      "model_module_version": "1.2.0",
      "model_name": "LayoutModel",
      "state": {
       "_model_module": "@jupyter-widgets/base",
       "_model_module_version": "1.2.0",
       "_model_name": "LayoutModel",
       "_view_count": null,
       "_view_module": "@jupyter-widgets/base",
       "_view_module_version": "1.2.0",
       "_view_name": "LayoutView",
       "align_content": null,
       "align_items": null,
       "align_self": null,
       "border": null,
       "bottom": null,
       "display": null,
       "flex": null,
       "flex_flow": null,
       "grid_area": null,
       "grid_auto_columns": null,
       "grid_auto_flow": null,
       "grid_auto_rows": null,
       "grid_column": null,
       "grid_gap": null,
       "grid_row": null,
       "grid_template_areas": null,
       "grid_template_columns": null,
       "grid_template_rows": null,
       "height": null,
       "justify_content": null,
       "justify_items": null,
       "left": null,
       "margin": null,
       "max_height": null,
       "max_width": null,
       "min_height": null,
       "min_width": null,
       "object_fit": null,
       "object_position": null,
       "order": null,
       "overflow": null,
       "overflow_x": null,
       "overflow_y": null,
       "padding": null,
       "right": null,
       "top": null,
       "visibility": null,
       "width": null
      }
     },
     "a2af9f5fd95245d0a199f907b98ba5d9": {
      "model_module": "@jupyter-widgets/controls",
      "model_module_version": "1.5.0",
      "model_name": "HBoxModel",
      "state": {
       "_dom_classes": [],
       "_model_module": "@jupyter-widgets/controls",
       "_model_module_version": "1.5.0",
       "_model_name": "HBoxModel",
       "_view_count": null,
       "_view_module": "@jupyter-widgets/controls",
       "_view_module_version": "1.5.0",
       "_view_name": "HBoxView",
       "box_style": "",
       "children": [
        "IPY_MODEL_bf5e4376e08442b39509b4e21e8513a2",
        "IPY_MODEL_da5292dae08e4a7683dfd5d98619a2d7",
        "IPY_MODEL_1c5d947caad141f38741c2ee14746fef"
       ],
       "layout": "IPY_MODEL_a361fbd09fcf485999674e3b2baf840b"
      }
     },
     "a361fbd09fcf485999674e3b2baf840b": {
      "model_module": "@jupyter-widgets/base",
      "model_module_version": "1.2.0",
      "model_name": "LayoutModel",
      "state": {
       "_model_module": "@jupyter-widgets/base",
       "_model_module_version": "1.2.0",
       "_model_name": "LayoutModel",
       "_view_count": null,
       "_view_module": "@jupyter-widgets/base",
       "_view_module_version": "1.2.0",
       "_view_name": "LayoutView",
       "align_content": null,
       "align_items": null,
       "align_self": null,
       "border": null,
       "bottom": null,
       "display": null,
       "flex": null,
       "flex_flow": null,
       "grid_area": null,
       "grid_auto_columns": null,
       "grid_auto_flow": null,
       "grid_auto_rows": null,
       "grid_column": null,
       "grid_gap": null,
       "grid_row": null,
       "grid_template_areas": null,
       "grid_template_columns": null,
       "grid_template_rows": null,
       "height": null,
       "justify_content": null,
       "justify_items": null,
       "left": null,
       "margin": null,
       "max_height": null,
       "max_width": null,
       "min_height": null,
       "min_width": null,
       "object_fit": null,
       "object_position": null,
       "order": null,
       "overflow": null,
       "overflow_x": null,
       "overflow_y": null,
       "padding": null,
       "right": null,
       "top": null,
       "visibility": null,
       "width": null
      }
     },
     "a3813c457355473c954044eba5930326": {
      "model_module": "@jupyter-widgets/base",
      "model_module_version": "1.2.0",
      "model_name": "LayoutModel",
      "state": {
       "_model_module": "@jupyter-widgets/base",
       "_model_module_version": "1.2.0",
       "_model_name": "LayoutModel",
       "_view_count": null,
       "_view_module": "@jupyter-widgets/base",
       "_view_module_version": "1.2.0",
       "_view_name": "LayoutView",
       "align_content": null,
       "align_items": null,
       "align_self": null,
       "border": null,
       "bottom": null,
       "display": null,
       "flex": null,
       "flex_flow": null,
       "grid_area": null,
       "grid_auto_columns": null,
       "grid_auto_flow": null,
       "grid_auto_rows": null,
       "grid_column": null,
       "grid_gap": null,
       "grid_row": null,
       "grid_template_areas": null,
       "grid_template_columns": null,
       "grid_template_rows": null,
       "height": null,
       "justify_content": null,
       "justify_items": null,
       "left": null,
       "margin": null,
       "max_height": null,
       "max_width": null,
       "min_height": null,
       "min_width": null,
       "object_fit": null,
       "object_position": null,
       "order": null,
       "overflow": null,
       "overflow_x": null,
       "overflow_y": null,
       "padding": null,
       "right": null,
       "top": null,
       "visibility": null,
       "width": "20px"
      }
     },
     "a7bcac255d0e48a7877e033bbe97e2e9": {
      "model_module": "@jupyter-widgets/base",
      "model_module_version": "1.2.0",
      "model_name": "LayoutModel",
      "state": {
       "_model_module": "@jupyter-widgets/base",
       "_model_module_version": "1.2.0",
       "_model_name": "LayoutModel",
       "_view_count": null,
       "_view_module": "@jupyter-widgets/base",
       "_view_module_version": "1.2.0",
       "_view_name": "LayoutView",
       "align_content": null,
       "align_items": null,
       "align_self": null,
       "border": null,
       "bottom": null,
       "display": null,
       "flex": null,
       "flex_flow": null,
       "grid_area": null,
       "grid_auto_columns": null,
       "grid_auto_flow": null,
       "grid_auto_rows": null,
       "grid_column": null,
       "grid_gap": null,
       "grid_row": null,
       "grid_template_areas": null,
       "grid_template_columns": null,
       "grid_template_rows": null,
       "height": null,
       "justify_content": null,
       "justify_items": null,
       "left": null,
       "margin": null,
       "max_height": null,
       "max_width": null,
       "min_height": null,
       "min_width": null,
       "object_fit": null,
       "object_position": null,
       "order": null,
       "overflow": null,
       "overflow_x": null,
       "overflow_y": null,
       "padding": null,
       "right": null,
       "top": null,
       "visibility": null,
       "width": "20px"
      }
     },
     "a86e2f5e52394f05a9a82edc38d821a7": {
      "model_module": "@jupyter-widgets/controls",
      "model_module_version": "1.5.0",
      "model_name": "HBoxModel",
      "state": {
       "_dom_classes": [],
       "_model_module": "@jupyter-widgets/controls",
       "_model_module_version": "1.5.0",
       "_model_name": "HBoxModel",
       "_view_count": null,
       "_view_module": "@jupyter-widgets/controls",
       "_view_module_version": "1.5.0",
       "_view_name": "HBoxView",
       "box_style": "",
       "children": [
        "IPY_MODEL_f4cd9ff5a2114de9a3c4d05af7850d47",
        "IPY_MODEL_a93601b1be7f47f0b8bca86151d36a3f",
        "IPY_MODEL_74b747022fdb4844a9840fde1dc9bd30"
       ],
       "layout": "IPY_MODEL_870d23163add4fd5ab9d019dc609208b"
      }
     },
     "a93601b1be7f47f0b8bca86151d36a3f": {
      "model_module": "@jupyter-widgets/controls",
      "model_module_version": "1.5.0",
      "model_name": "FloatProgressModel",
      "state": {
       "_dom_classes": [],
       "_model_module": "@jupyter-widgets/controls",
       "_model_module_version": "1.5.0",
       "_model_name": "FloatProgressModel",
       "_view_count": null,
       "_view_module": "@jupyter-widgets/controls",
       "_view_module_version": "1.5.0",
       "_view_name": "ProgressView",
       "bar_style": "success",
       "description": "",
       "description_tooltip": null,
       "layout": "IPY_MODEL_a3813c457355473c954044eba5930326",
       "max": 1.0,
       "min": 0.0,
       "orientation": "horizontal",
       "style": "IPY_MODEL_706ba02d4afc4fb6a83a121acce0f165",
       "value": 1.0
      }
     },
     "ae3de7fc712547579e8b330aac131f82": {
      "model_module": "@jupyter-widgets/controls",
      "model_module_version": "1.5.0",
      "model_name": "HBoxModel",
      "state": {
       "_dom_classes": [],
       "_model_module": "@jupyter-widgets/controls",
       "_model_module_version": "1.5.0",
       "_model_name": "HBoxModel",
       "_view_count": null,
       "_view_module": "@jupyter-widgets/controls",
       "_view_module_version": "1.5.0",
       "_view_name": "HBoxView",
       "box_style": "",
       "children": [
        "IPY_MODEL_fa023e70bb3748be877ba1b7673da7c1",
        "IPY_MODEL_572c62f9c8dd496f86469a8f6fcd9586",
        "IPY_MODEL_79854868471948329dbda987e3f26468"
       ],
       "layout": "IPY_MODEL_19bf1234e6324037a7cdb2366f304c11"
      }
     },
     "af5f936880324c4094906aad1d17a49a": {
      "model_module": "@jupyter-widgets/controls",
      "model_module_version": "1.5.0",
      "model_name": "DescriptionStyleModel",
      "state": {
       "_model_module": "@jupyter-widgets/controls",
       "_model_module_version": "1.5.0",
       "_model_name": "DescriptionStyleModel",
       "_view_count": null,
       "_view_module": "@jupyter-widgets/base",
       "_view_module_version": "1.2.0",
       "_view_name": "StyleView",
       "description_width": ""
      }
     },
     "b2c2f1a1c5af442ca689a9409d692083": {
      "model_module": "@jupyter-widgets/controls",
      "model_module_version": "1.5.0",
      "model_name": "HTMLModel",
      "state": {
       "_dom_classes": [],
       "_model_module": "@jupyter-widgets/controls",
       "_model_module_version": "1.5.0",
       "_model_name": "HTMLModel",
       "_view_count": null,
       "_view_module": "@jupyter-widgets/controls",
       "_view_module_version": "1.5.0",
       "_view_name": "HTMLView",
       "description": "",
       "description_tooltip": null,
       "layout": "IPY_MODEL_7947571938ef415bbddc1b6bbbc2bf47",
       "placeholder": "​",
       "style": "IPY_MODEL_f33cc3f62ddf468ba58463a256d5f451",
       "value": "EPOCH 2/5: "
      }
     },
     "bf5e4376e08442b39509b4e21e8513a2": {
      "model_module": "@jupyter-widgets/controls",
      "model_module_version": "1.5.0",
      "model_name": "HTMLModel",
      "state": {
       "_dom_classes": [],
       "_model_module": "@jupyter-widgets/controls",
       "_model_module_version": "1.5.0",
       "_model_name": "HTMLModel",
       "_view_count": null,
       "_view_module": "@jupyter-widgets/controls",
       "_view_module_version": "1.5.0",
       "_view_name": "HTMLView",
       "description": "",
       "description_tooltip": null,
       "layout": "IPY_MODEL_8a4c46a7297e4bebbf67dd39e02a6a10",
       "placeholder": "​",
       "style": "IPY_MODEL_2c81fff4843b426cb6a2854176504b68",
       "value": "EPOCH 4/5: "
      }
     },
     "c92d3b7be6614f9b81b3919f1a148460": {
      "model_module": "@jupyter-widgets/controls",
      "model_module_version": "1.5.0",
      "model_name": "DescriptionStyleModel",
      "state": {
       "_model_module": "@jupyter-widgets/controls",
       "_model_module_version": "1.5.0",
       "_model_name": "DescriptionStyleModel",
       "_view_count": null,
       "_view_module": "@jupyter-widgets/base",
       "_view_module_version": "1.2.0",
       "_view_name": "StyleView",
       "description_width": ""
      }
     },
     "cd97627e8b8049e1900972f309a488e6": {
      "model_module": "@jupyter-widgets/controls",
      "model_module_version": "1.5.0",
      "model_name": "DescriptionStyleModel",
      "state": {
       "_model_module": "@jupyter-widgets/controls",
       "_model_module_version": "1.5.0",
       "_model_name": "DescriptionStyleModel",
       "_view_count": null,
       "_view_module": "@jupyter-widgets/base",
       "_view_module_version": "1.2.0",
       "_view_name": "StyleView",
       "description_width": ""
      }
     },
     "d392a4a905e745f28348aff0b5547d05": {
      "model_module": "@jupyter-widgets/controls",
      "model_module_version": "1.5.0",
      "model_name": "DescriptionStyleModel",
      "state": {
       "_model_module": "@jupyter-widgets/controls",
       "_model_module_version": "1.5.0",
       "_model_name": "DescriptionStyleModel",
       "_view_count": null,
       "_view_module": "@jupyter-widgets/base",
       "_view_module_version": "1.2.0",
       "_view_name": "StyleView",
       "description_width": ""
      }
     },
     "d87b5fbbe5b64e4aa5806eab7cc6d6d5": {
      "model_module": "@jupyter-widgets/controls",
      "model_module_version": "1.5.0",
      "model_name": "FloatProgressModel",
      "state": {
       "_dom_classes": [],
       "_model_module": "@jupyter-widgets/controls",
       "_model_module_version": "1.5.0",
       "_model_name": "FloatProgressModel",
       "_view_count": null,
       "_view_module": "@jupyter-widgets/controls",
       "_view_module_version": "1.5.0",
       "_view_name": "ProgressView",
       "bar_style": "success",
       "description": "",
       "description_tooltip": null,
       "layout": "IPY_MODEL_a7bcac255d0e48a7877e033bbe97e2e9",
       "max": 1.0,
       "min": 0.0,
       "orientation": "horizontal",
       "style": "IPY_MODEL_3e1bbc43fae5439493a599fe48c0a96a",
       "value": 1.0
      }
     },
     "da5292dae08e4a7683dfd5d98619a2d7": {
      "model_module": "@jupyter-widgets/controls",
      "model_module_version": "1.5.0",
      "model_name": "FloatProgressModel",
      "state": {
       "_dom_classes": [],
       "_model_module": "@jupyter-widgets/controls",
       "_model_module_version": "1.5.0",
       "_model_name": "FloatProgressModel",
       "_view_count": null,
       "_view_module": "@jupyter-widgets/controls",
       "_view_module_version": "1.5.0",
       "_view_name": "ProgressView",
       "bar_style": "success",
       "description": "",
       "description_tooltip": null,
       "layout": "IPY_MODEL_438d2eeeef5c4d9490dbcc45839fcc99",
       "max": 1.0,
       "min": 0.0,
       "orientation": "horizontal",
       "style": "IPY_MODEL_07817852fb5a4cfba651a3c442ab4d5e",
       "value": 1.0
      }
     },
     "e624431fa85c4aa2b3b75bf6d8ca572c": {
      "model_module": "@jupyter-widgets/controls",
      "model_module_version": "1.5.0",
      "model_name": "ProgressStyleModel",
      "state": {
       "_model_module": "@jupyter-widgets/controls",
       "_model_module_version": "1.5.0",
       "_model_name": "ProgressStyleModel",
       "_view_count": null,
       "_view_module": "@jupyter-widgets/base",
       "_view_module_version": "1.2.0",
       "_view_name": "StyleView",
       "bar_color": null,
       "description_width": ""
      }
     },
     "f33cc3f62ddf468ba58463a256d5f451": {
      "model_module": "@jupyter-widgets/controls",
      "model_module_version": "1.5.0",
      "model_name": "DescriptionStyleModel",
      "state": {
       "_model_module": "@jupyter-widgets/controls",
       "_model_module_version": "1.5.0",
       "_model_name": "DescriptionStyleModel",
       "_view_count": null,
       "_view_module": "@jupyter-widgets/base",
       "_view_module_version": "1.2.0",
       "_view_name": "StyleView",
       "description_width": ""
      }
     },
     "f47c10529b184797923c114ef27986b2": {
      "model_module": "@jupyter-widgets/controls",
      "model_module_version": "1.5.0",
      "model_name": "DescriptionStyleModel",
      "state": {
       "_model_module": "@jupyter-widgets/controls",
       "_model_module_version": "1.5.0",
       "_model_name": "DescriptionStyleModel",
       "_view_count": null,
       "_view_module": "@jupyter-widgets/base",
       "_view_module_version": "1.2.0",
       "_view_name": "StyleView",
       "description_width": ""
      }
     },
     "f4cd9ff5a2114de9a3c4d05af7850d47": {
      "model_module": "@jupyter-widgets/controls",
      "model_module_version": "1.5.0",
      "model_name": "HTMLModel",
      "state": {
       "_dom_classes": [],
       "_model_module": "@jupyter-widgets/controls",
       "_model_module_version": "1.5.0",
       "_model_name": "HTMLModel",
       "_view_count": null,
       "_view_module": "@jupyter-widgets/controls",
       "_view_module_version": "1.5.0",
       "_view_name": "HTMLView",
       "description": "",
       "description_tooltip": null,
       "layout": "IPY_MODEL_37f7dc3c5a8446648e738c0cda082232",
       "placeholder": "​",
       "style": "IPY_MODEL_cd97627e8b8049e1900972f309a488e6",
       "value": "EPOCH 3/5: "
      }
     },
     "fa023e70bb3748be877ba1b7673da7c1": {
      "model_module": "@jupyter-widgets/controls",
      "model_module_version": "1.5.0",
      "model_name": "HTMLModel",
      "state": {
       "_dom_classes": [],
       "_model_module": "@jupyter-widgets/controls",
       "_model_module_version": "1.5.0",
       "_model_name": "HTMLModel",
       "_view_count": null,
       "_view_module": "@jupyter-widgets/controls",
       "_view_module_version": "1.5.0",
       "_view_name": "HTMLView",
       "description": "",
       "description_tooltip": null,
       "layout": "IPY_MODEL_9cc9d5e181534439b8efb8a43ae6289a",
       "placeholder": "​",
       "style": "IPY_MODEL_c92d3b7be6614f9b81b3919f1a148460",
       "value": "EPOCH 5/5: "
      }
     }
    },
    "version_major": 2,
    "version_minor": 0
   }
  }
 },
 "nbformat": 4,
 "nbformat_minor": 5
}
