{
 "cells": [
  {
   "cell_type": "markdown",
   "id": "e58b0d72",
   "metadata": {
    "papermill": {
     "duration": 0.019426,
     "end_time": "2024-10-13T07:52:03.392143",
     "exception": false,
     "start_time": "2024-10-13T07:52:03.372717",
     "status": "completed"
    },
    "tags": []
   },
   "source": [
    "# Import Library"
   ]
  },
  {
   "cell_type": "code",
   "execution_count": 1,
   "id": "4c2f5bb8",
   "metadata": {
    "execution": {
     "iopub.execute_input": "2024-10-13T07:52:03.431590Z",
     "iopub.status.busy": "2024-10-13T07:52:03.431189Z",
     "iopub.status.idle": "2024-10-13T07:52:07.644311Z",
     "shell.execute_reply": "2024-10-13T07:52:07.643146Z"
    },
    "papermill": {
     "duration": 4.235503,
     "end_time": "2024-10-13T07:52:07.647044",
     "exception": false,
     "start_time": "2024-10-13T07:52:03.411541",
     "status": "completed"
    },
    "tags": []
   },
   "outputs": [],
   "source": [
    "import numpy as np\n",
    "import pandas as pd\n",
    "\n",
    "from tokenizers import Tokenizer\n",
    "\n",
    "import json\n",
    "import os\n",
    "import math\n",
    "from tqdm.auto import tqdm\n",
    "\n",
    "from torch.nn.modules.transformer import _generate_square_subsequent_mask\n",
    "from torch.utils.data import Dataset, DataLoader\n",
    "import torch\n",
    "import torch.nn as nn"
   ]
  },
  {
   "cell_type": "markdown",
   "id": "3b9b13b1",
   "metadata": {
    "papermill": {
     "duration": 0.018685,
     "end_time": "2024-10-13T07:52:07.686409",
     "exception": false,
     "start_time": "2024-10-13T07:52:07.667724",
     "status": "completed"
    },
    "tags": []
   },
   "source": [
    "# Load DaTokenizer"
   ]
  },
  {
   "cell_type": "code",
   "execution_count": 2,
   "id": "f91b2e85",
   "metadata": {
    "execution": {
     "iopub.execute_input": "2024-10-13T07:52:07.746573Z",
     "iopub.status.busy": "2024-10-13T07:52:07.745868Z",
     "iopub.status.idle": "2024-10-13T07:52:07.825043Z",
     "shell.execute_reply": "2024-10-13T07:52:07.823890Z"
    },
    "papermill": {
     "duration": 0.112618,
     "end_time": "2024-10-13T07:52:07.827050",
     "exception": false,
     "start_time": "2024-10-13T07:52:07.714432",
     "status": "completed"
    },
    "tags": []
   },
   "outputs": [
    {
     "name": "stdout",
     "output_type": "stream",
     "text": [
      "Encoded IDs: [1559, 1647, 1827, 999, 1267, 990, 997, 1025, 1821]\n",
      "Decoded Text: Viêm nang lông thường thấy khi da bị ...\n"
     ]
    }
   ],
   "source": [
    "tokenizer = Tokenizer.from_file(\"/kaggle/input/datokenizer/other/default/1/tokenizer.json\")\n",
    "\n",
    "# Sample use\n",
    "encoded = tokenizer.encode(\"Viêm nang lông thường thấy khi da bị ...\")\n",
    "decoded = tokenizer.decode(encoded.ids, skip_special_tokens=False)\n",
    "\n",
    "print(\"Encoded IDs:\", encoded.ids)\n",
    "print(\"Decoded Text:\", decoded)"
   ]
  },
  {
   "cell_type": "markdown",
   "id": "533e1539",
   "metadata": {
    "papermill": {
     "duration": 0.017684,
     "end_time": "2024-10-13T07:52:07.862937",
     "exception": false,
     "start_time": "2024-10-13T07:52:07.845253",
     "status": "completed"
    },
    "tags": []
   },
   "source": [
    "# Load CSV"
   ]
  },
  {
   "cell_type": "code",
   "execution_count": 3,
   "id": "7fbee5d7",
   "metadata": {
    "execution": {
     "iopub.execute_input": "2024-10-13T07:52:07.913005Z",
     "iopub.status.busy": "2024-10-13T07:52:07.912065Z",
     "iopub.status.idle": "2024-10-13T07:52:11.009120Z",
     "shell.execute_reply": "2024-10-13T07:52:11.008002Z"
    },
    "papermill": {
     "duration": 3.127607,
     "end_time": "2024-10-13T07:52:11.011536",
     "exception": false,
     "start_time": "2024-10-13T07:52:07.883929",
     "status": "completed"
    },
    "tags": []
   },
   "outputs": [
    {
     "data": {
      "text/html": [
       "<div>\n",
       "<style scoped>\n",
       "    .dataframe tbody tr th:only-of-type {\n",
       "        vertical-align: middle;\n",
       "    }\n",
       "\n",
       "    .dataframe tbody tr th {\n",
       "        vertical-align: top;\n",
       "    }\n",
       "\n",
       "    .dataframe thead th {\n",
       "        text-align: right;\n",
       "    }\n",
       "</style>\n",
       "<table border=\"1\" class=\"dataframe\">\n",
       "  <thead>\n",
       "    <tr style=\"text-align: right;\">\n",
       "      <th></th>\n",
       "      <th>text</th>\n",
       "    </tr>\n",
       "  </thead>\n",
       "  <tbody>\n",
       "    <tr>\n",
       "      <th>0</th>\n",
       "      <td>Theo báo cáo của Tổ chức Y tế Thế giới, tim mạ...</td>\n",
       "    </tr>\n",
       "    <tr>\n",
       "      <th>1</th>\n",
       "      <td>Các serovars khác nhau của Chlamydia trachomat...</td>\n",
       "    </tr>\n",
       "  </tbody>\n",
       "</table>\n",
       "</div>"
      ],
      "text/plain": [
       "                                                text\n",
       "0  Theo báo cáo của Tổ chức Y tế Thế giới, tim mạ...\n",
       "1  Các serovars khác nhau của Chlamydia trachomat..."
      ]
     },
     "execution_count": 3,
     "metadata": {},
     "output_type": "execute_result"
    }
   ],
   "source": [
    "df_train = pd.read_csv(\"/kaggle/input/dataset-for-dagpt/pretrain_data.csv\")\n",
    "df_train.head(2)"
   ]
  },
  {
   "cell_type": "code",
   "execution_count": 4,
   "id": "b52df6eb",
   "metadata": {
    "execution": {
     "iopub.execute_input": "2024-10-13T07:52:11.050805Z",
     "iopub.status.busy": "2024-10-13T07:52:11.050448Z",
     "iopub.status.idle": "2024-10-13T07:52:11.430862Z",
     "shell.execute_reply": "2024-10-13T07:52:11.429885Z"
    },
    "papermill": {
     "duration": 0.402958,
     "end_time": "2024-10-13T07:52:11.432951",
     "exception": false,
     "start_time": "2024-10-13T07:52:11.029993",
     "status": "completed"
    },
    "tags": []
   },
   "outputs": [
    {
     "data": {
      "text/html": [
       "<div>\n",
       "<style scoped>\n",
       "    .dataframe tbody tr th:only-of-type {\n",
       "        vertical-align: middle;\n",
       "    }\n",
       "\n",
       "    .dataframe tbody tr th {\n",
       "        vertical-align: top;\n",
       "    }\n",
       "\n",
       "    .dataframe thead th {\n",
       "        text-align: right;\n",
       "    }\n",
       "</style>\n",
       "<table border=\"1\" class=\"dataframe\">\n",
       "  <thead>\n",
       "    <tr style=\"text-align: right;\">\n",
       "      <th></th>\n",
       "      <th>text</th>\n",
       "    </tr>\n",
       "  </thead>\n",
       "  <tbody>\n",
       "    <tr>\n",
       "      <th>0</th>\n",
       "      <td>Bệnh ghẻ, một căn bệnh da liễu khá phổ biến, t...</td>\n",
       "    </tr>\n",
       "    <tr>\n",
       "      <th>1</th>\n",
       "      <td>Sinh thiết là một xét nghiệm quan trọng trong ...</td>\n",
       "    </tr>\n",
       "  </tbody>\n",
       "</table>\n",
       "</div>"
      ],
      "text/plain": [
       "                                                text\n",
       "0  Bệnh ghẻ, một căn bệnh da liễu khá phổ biến, t...\n",
       "1  Sinh thiết là một xét nghiệm quan trọng trong ..."
      ]
     },
     "execution_count": 4,
     "metadata": {},
     "output_type": "execute_result"
    }
   ],
   "source": [
    "df_test = pd.read_csv(\"/kaggle/input/dataset-for-dagpt/pretrain_test.csv\")\n",
    "df_test.head(2)"
   ]
  },
  {
   "cell_type": "markdown",
   "id": "67e35e70",
   "metadata": {
    "papermill": {
     "duration": 0.018404,
     "end_time": "2024-10-13T07:52:11.470158",
     "exception": false,
     "start_time": "2024-10-13T07:52:11.451754",
     "status": "completed"
    },
    "tags": []
   },
   "source": [
    "# Preprocessing Data & Building Dataset"
   ]
  },
  {
   "cell_type": "markdown",
   "id": "12866c2b",
   "metadata": {
    "papermill": {
     "duration": 0.017843,
     "end_time": "2024-10-13T07:52:11.506019",
     "exception": false,
     "start_time": "2024-10-13T07:52:11.488176",
     "status": "completed"
    },
    "tags": []
   },
   "source": [
    "Data đã được xử lí một số trước đó, nên hiện tại ta chỉ thay kí tự xuống hàng thành ký tự đặc biệt `NEWLINE` và tokenize"
   ]
  },
  {
   "cell_type": "code",
   "execution_count": 5,
   "id": "140e39b0",
   "metadata": {
    "execution": {
     "iopub.execute_input": "2024-10-13T07:52:11.544038Z",
     "iopub.status.busy": "2024-10-13T07:52:11.543171Z",
     "iopub.status.idle": "2024-10-13T07:52:11.547811Z",
     "shell.execute_reply": "2024-10-13T07:52:11.546996Z"
    },
    "papermill": {
     "duration": 0.025686,
     "end_time": "2024-10-13T07:52:11.549899",
     "exception": false,
     "start_time": "2024-10-13T07:52:11.524213",
     "status": "completed"
    },
    "tags": []
   },
   "outputs": [],
   "source": [
    "def preprocessing_str(s):\n",
    "    return tokenizer.encode(s.replace(\"\\n\",\"[NEWLINE]\")).ids"
   ]
  },
  {
   "cell_type": "code",
   "execution_count": 6,
   "id": "7141061e",
   "metadata": {
    "execution": {
     "iopub.execute_input": "2024-10-13T07:52:11.588128Z",
     "iopub.status.busy": "2024-10-13T07:52:11.587342Z",
     "iopub.status.idle": "2024-10-13T07:52:11.595364Z",
     "shell.execute_reply": "2024-10-13T07:52:11.594451Z"
    },
    "papermill": {
     "duration": 0.029227,
     "end_time": "2024-10-13T07:52:11.597224",
     "exception": false,
     "start_time": "2024-10-13T07:52:11.567997",
     "status": "completed"
    },
    "tags": []
   },
   "outputs": [],
   "source": [
    "class MyDataset(Dataset):\n",
    "    def __init__(self, df, max_len=256):\n",
    "        self.data = []\n",
    "        self.label = []\n",
    "        for text in df['text']:\n",
    "            checked = True\n",
    "            tokens = preprocessing_str(text)\n",
    "            while len(tokens) <= max_len:\n",
    "                checked = False\n",
    "                tokens = tokens + [tokenizer.token_to_id(\"[PAD]\")]\n",
    "            for i in range(0, len(tokens)- max_len, max_len):\n",
    "                self.data.append(tokens[i:i+max_len])\n",
    "                self.label.append(tokens[i+1:i+1+max_len])\n",
    "\n",
    "    def __len__(self):\n",
    "        return len(self.data)\n",
    "\n",
    "    def __getitem__(self, idx):\n",
    "        return torch.tensor(self.data[idx], dtype=torch.long), torch.tensor(self.label[idx], dtype=torch.long)"
   ]
  },
  {
   "cell_type": "code",
   "execution_count": 7,
   "id": "96f502ab",
   "metadata": {
    "execution": {
     "iopub.execute_input": "2024-10-13T07:52:11.636673Z",
     "iopub.status.busy": "2024-10-13T07:52:11.635900Z",
     "iopub.status.idle": "2024-10-13T07:52:57.859916Z",
     "shell.execute_reply": "2024-10-13T07:52:57.858885Z"
    },
    "papermill": {
     "duration": 46.264681,
     "end_time": "2024-10-13T07:52:57.880876",
     "exception": false,
     "start_time": "2024-10-13T07:52:11.616195",
     "status": "completed"
    },
    "tags": []
   },
   "outputs": [
    {
     "data": {
      "text/plain": [
       "83805"
      ]
     },
     "execution_count": 7,
     "metadata": {},
     "output_type": "execute_result"
    }
   ],
   "source": [
    "data_train = MyDataset(df_train)\n",
    "len(data_train)"
   ]
  },
  {
   "cell_type": "markdown",
   "id": "57a28707",
   "metadata": {
    "papermill": {
     "duration": 0.01804,
     "end_time": "2024-10-13T07:52:57.917325",
     "exception": false,
     "start_time": "2024-10-13T07:52:57.899285",
     "status": "completed"
    },
    "tags": []
   },
   "source": [
    "# Model Setup"
   ]
  },
  {
   "cell_type": "code",
   "execution_count": 8,
   "id": "282f498a",
   "metadata": {
    "execution": {
     "iopub.execute_input": "2024-10-13T07:52:57.957418Z",
     "iopub.status.busy": "2024-10-13T07:52:57.957019Z",
     "iopub.status.idle": "2024-10-13T07:52:57.988285Z",
     "shell.execute_reply": "2024-10-13T07:52:57.987262Z"
    },
    "papermill": {
     "duration": 0.054229,
     "end_time": "2024-10-13T07:52:57.990290",
     "exception": false,
     "start_time": "2024-10-13T07:52:57.936061",
     "status": "completed"
    },
    "tags": []
   },
   "outputs": [],
   "source": [
    "class TokenEmbedding(nn.Module):\n",
    "    \n",
    "    def __init__(self, vocab_size:int, d_model:int):\n",
    "        super(TokenEmbedding, self).__init__()\n",
    "        self.embedding_layer = nn.Embedding(vocab_size, d_model)\n",
    "        self.d_model = d_model\n",
    "    \n",
    "    def forward(self, tokens: torch.Tensor):\n",
    "        return self.embedding_layer(tokens.long()) * math.sqrt(self.d_model)\n",
    "    \n",
    "class PositionalEncoding(nn.Module):\n",
    "    \n",
    "    def __init__(self, max_length_seq:int, d_model:int, dropout_rate:float):\n",
    "        super(PositionalEncoding, self).__init__()\n",
    "        den = torch.exp(- torch.arange(0, d_model, 2)* math.log(10000) / d_model)\n",
    "        pos = torch.arange(0, max_length_seq).reshape(max_length_seq, 1)\n",
    "        PE = torch.zeros((max_length_seq, d_model))\n",
    "        PE[:, 0::2] = torch.sin(pos * den)\n",
    "        PE[:, 1::2] = torch.cos(pos * den)\n",
    "        PE = PE.unsqueeze(-2)\n",
    "        self.register_buffer(\"PE\", PE)\n",
    "        self.dropout_layer = nn.Dropout(dropout_rate)\n",
    "        \n",
    "    def forward(self, token_embedding: torch.Tensor):\n",
    "        return self.dropout_layer(token_embedding + self.PE[:token_embedding.size(0), :])\n",
    "    \n",
    "class DecoderOnlyBlock(nn.Module):\n",
    "    \n",
    "    def __init__(self, d_model, num_heads, d_ff,dropout_rate=0.0, batch_first=True):\n",
    "        super(DecoderOnlyBlock, self).__init__()\n",
    "        \n",
    "        # Masked Multihead Attention\n",
    "        self.mmha = nn.MultiheadAttention(embed_dim=d_model, num_heads=num_heads, dropout=dropout_rate, batch_first=batch_first)\n",
    "        \n",
    "        # Normalize 1\n",
    "        self.norm1 = nn.LayerNorm(normalized_shape= d_model, eps=1e-05, elementwise_affine=True, bias=True)\n",
    "        \n",
    "        # Feed forward\n",
    "        self.feed_forward = nn.Sequential(\n",
    "            nn.Linear(in_features=d_model, out_features=d_ff, bias=True),\n",
    "            nn.ReLU(),\n",
    "            nn.Linear(in_features=d_ff, out_features=d_model, bias=True),\n",
    "        )\n",
    "        \n",
    "        # Normalize 2\n",
    "        self.norm2 = nn.LayerNorm(normalized_shape= d_model, eps=1e-05, elementwise_affine=True, bias=True)\n",
    "        \n",
    "        # Dropout\n",
    "        self.dropout = nn.Dropout(dropout_rate)\n",
    "        \n",
    "        \n",
    "    def forward(self, x, attn_mask=None, key_padding_mask=None):\n",
    "        # Block 1\n",
    "        mmha_output, _ = self.mmha(query=x,\n",
    "                                   key=x,\n",
    "                                   value=x,\n",
    "                                   key_padding_mask=key_padding_mask, need_weights=False, \n",
    "                                   attn_mask=attn_mask, \n",
    "                                   average_attn_weights=True, is_causal=False)\n",
    "        \n",
    "        x = self.norm1(x + self.dropout(mmha_output))\n",
    "        \n",
    "        # Block 2\n",
    "        ff_output = self.feed_forward(x)\n",
    "        x = self.norm2(x + self.dropout(ff_output))\n",
    "        \n",
    "        return x"
   ]
  },
  {
   "cell_type": "code",
   "execution_count": 9,
   "id": "70e86a74",
   "metadata": {
    "execution": {
     "iopub.execute_input": "2024-10-13T07:52:58.029542Z",
     "iopub.status.busy": "2024-10-13T07:52:58.029230Z",
     "iopub.status.idle": "2024-10-13T07:52:58.037318Z",
     "shell.execute_reply": "2024-10-13T07:52:58.036474Z"
    },
    "papermill": {
     "duration": 0.030593,
     "end_time": "2024-10-13T07:52:58.039564",
     "exception": false,
     "start_time": "2024-10-13T07:52:58.008971",
     "status": "completed"
    },
    "tags": []
   },
   "outputs": [],
   "source": [
    "class DaGPT(nn.Module):\n",
    "    def __init__(self, d_model, vocab_size, max_len_seq, num_heads, d_ff, num_of_block, dropout_rate=0.0, batch_first=True):\n",
    "        super(DaGPT, self).__init__()\n",
    "        self.token_embedding = TokenEmbedding(vocab_size, d_model)\n",
    "        self.position_embedding = PositionalEncoding(max_len_seq, d_model, dropout_rate)\n",
    "        self.dropout = nn.Dropout(dropout_rate)\n",
    "        \n",
    "        self.decoder_blocks = nn.ModuleList([\n",
    "            DecoderOnlyBlock(d_model=d_model, num_heads=num_heads, d_ff=d_ff,dropout_rate=dropout_rate, batch_first=batch_first) \n",
    "            for _ in range(num_of_block)\n",
    "        ])\n",
    "        \n",
    "        self.linear_out = nn.Linear(in_features=d_model, out_features=vocab_size, bias=True)\n",
    "        \n",
    "    def forward(self, x, attn_mask=None, key_padding_mask=None):\n",
    "        x = self.token_embedding(x)\n",
    "        x = self.position_embedding(x)\n",
    "        \n",
    "        for block in self.decoder_blocks:\n",
    "            x = block(x, attn_mask=attn_mask, key_padding_mask=key_padding_mask)\n",
    "            \n",
    "        logits = self.linear_out(x)\n",
    "        \n",
    "        return logits  "
   ]
  },
  {
   "cell_type": "code",
   "execution_count": 10,
   "id": "a6fdcefe",
   "metadata": {
    "execution": {
     "iopub.execute_input": "2024-10-13T07:52:58.080128Z",
     "iopub.status.busy": "2024-10-13T07:52:58.079807Z",
     "iopub.status.idle": "2024-10-13T07:52:59.977328Z",
     "shell.execute_reply": "2024-10-13T07:52:59.976414Z"
    },
    "papermill": {
     "duration": 1.920165,
     "end_time": "2024-10-13T07:52:59.979754",
     "exception": false,
     "start_time": "2024-10-13T07:52:58.059589",
     "status": "completed"
    },
    "tags": []
   },
   "outputs": [
    {
     "name": "stdout",
     "output_type": "stream",
     "text": [
      "Tổng số tham số: 208100494\n"
     ]
    }
   ],
   "source": [
    "model = DaGPT(d_model=768,\n",
    "               vocab_size=tokenizer.get_vocab_size(),\n",
    "               max_len_seq=256,\n",
    "               num_heads=16,\n",
    "               d_ff=3072, \n",
    "               num_of_block=24, \n",
    "               dropout_rate=0.1, \n",
    "               batch_first=True)\n",
    "\n",
    "total_params = sum(p.numel() for p in model.parameters())\n",
    "print(f\"Tổng số tham số: {total_params}\")"
   ]
  },
  {
   "cell_type": "code",
   "execution_count": 11,
   "id": "13465fef",
   "metadata": {
    "execution": {
     "iopub.execute_input": "2024-10-13T07:53:00.018341Z",
     "iopub.status.busy": "2024-10-13T07:53:00.018010Z",
     "iopub.status.idle": "2024-10-13T07:53:00.495528Z",
     "shell.execute_reply": "2024-10-13T07:53:00.494600Z"
    },
    "papermill": {
     "duration": 0.499199,
     "end_time": "2024-10-13T07:53:00.497526",
     "exception": false,
     "start_time": "2024-10-13T07:52:59.998327",
     "status": "completed"
    },
    "tags": []
   },
   "outputs": [
    {
     "data": {
      "text/plain": [
       "device(type='cuda')"
      ]
     },
     "execution_count": 11,
     "metadata": {},
     "output_type": "execute_result"
    }
   ],
   "source": [
    "device = torch.device(\"cuda\" if torch.cuda.is_available() else \"cpu\")\n",
    "model.to(device)\n",
    "device"
   ]
  },
  {
   "cell_type": "markdown",
   "id": "b8c8d11c",
   "metadata": {
    "papermill": {
     "duration": 0.018549,
     "end_time": "2024-10-13T07:53:00.535471",
     "exception": false,
     "start_time": "2024-10-13T07:53:00.516922",
     "status": "completed"
    },
    "tags": []
   },
   "source": [
    "# Load model weight"
   ]
  },
  {
   "cell_type": "code",
   "execution_count": 12,
   "id": "3f5e3397",
   "metadata": {
    "execution": {
     "iopub.execute_input": "2024-10-13T07:53:00.576246Z",
     "iopub.status.busy": "2024-10-13T07:53:00.575903Z",
     "iopub.status.idle": "2024-10-13T07:53:06.972102Z",
     "shell.execute_reply": "2024-10-13T07:53:06.971120Z"
    },
    "papermill": {
     "duration": 6.418536,
     "end_time": "2024-10-13T07:53:06.974130",
     "exception": false,
     "start_time": "2024-10-13T07:53:00.555594",
     "status": "completed"
    },
    "tags": []
   },
   "outputs": [
    {
     "name": "stderr",
     "output_type": "stream",
     "text": [
      "/tmp/ipykernel_21/2761597111.py:1: FutureWarning: You are using `torch.load` with `weights_only=False` (the current default value), which uses the default pickle module implicitly. It is possible to construct malicious pickle data which will execute arbitrary code during unpickling (See https://github.com/pytorch/pytorch/blob/main/SECURITY.md#untrusted-models for more details). In a future release, the default value for `weights_only` will be flipped to `True`. This limits the functions that could be executed during unpickling. Arbitrary objects will no longer be allowed to be loaded via this mode unless they are explicitly allowlisted by the user via `torch.serialization.add_safe_globals`. We recommend you start setting `weights_only=True` for any use case where you don't have full control of the loaded file. Please open an issue on GitHub for any issues related to this experimental feature.\n",
      "  model.load_state_dict(torch.load('/kaggle/input/dagpt-pretrain-epoch-11-15/model_weights.pth'))\n"
     ]
    },
    {
     "data": {
      "text/plain": [
       "<All keys matched successfully>"
      ]
     },
     "execution_count": 12,
     "metadata": {},
     "output_type": "execute_result"
    }
   ],
   "source": [
    "model.load_state_dict(torch.load('/kaggle/input/dagpt-pretrain-epoch-11-15/model_weights.pth'))"
   ]
  },
  {
   "cell_type": "markdown",
   "id": "f414cd33",
   "metadata": {
    "papermill": {
     "duration": 0.019105,
     "end_time": "2024-10-13T07:53:07.012643",
     "exception": false,
     "start_time": "2024-10-13T07:53:06.993538",
     "status": "completed"
    },
    "tags": []
   },
   "source": [
    "# Greedy Inference Function"
   ]
  },
  {
   "cell_type": "code",
   "execution_count": 13,
   "id": "4c1f1a8e",
   "metadata": {
    "execution": {
     "iopub.execute_input": "2024-10-13T07:53:07.052673Z",
     "iopub.status.busy": "2024-10-13T07:53:07.052265Z",
     "iopub.status.idle": "2024-10-13T07:53:07.060223Z",
     "shell.execute_reply": "2024-10-13T07:53:07.059184Z"
    },
    "papermill": {
     "duration": 0.030927,
     "end_time": "2024-10-13T07:53:07.062312",
     "exception": false,
     "start_time": "2024-10-13T07:53:07.031385",
     "status": "completed"
    },
    "tags": []
   },
   "outputs": [],
   "source": [
    "def greedy_inference(prompt, max_len_seq=256, max_len_gen=50, temperature=1):\n",
    "    model.eval()\n",
    "    result = []\n",
    "    with torch.no_grad():\n",
    "        tokens_idx = preprocessing_str(prompt)\n",
    "        for i in range(max_len_gen):\n",
    "            tgt = torch.tensor(tokens_idx, dtype=torch.long).unsqueeze(0).to(device)\n",
    "            logits = model(tgt)\n",
    "            probs = torch.softmax(logits[:,-1,:] / temperature, dim=-1)\n",
    "            next_token = torch.argmax(probs, dim=-1).item()\n",
    "            result.append(next_token)\n",
    "            if len(tokens_idx) < max_len_seq:\n",
    "                tokens_idx = tokens_idx+[next_token] \n",
    "            else:\n",
    "                tokens_idx = tokens_idx[1:]+[next_token]\n",
    "        return tokenizer.decode(result)"
   ]
  },
  {
   "cell_type": "code",
   "execution_count": 14,
   "id": "eaae0a1a",
   "metadata": {
    "execution": {
     "iopub.execute_input": "2024-10-13T07:53:07.101585Z",
     "iopub.status.busy": "2024-10-13T07:53:07.101253Z",
     "iopub.status.idle": "2024-10-13T07:53:08.001347Z",
     "shell.execute_reply": "2024-10-13T07:53:08.000428Z"
    },
    "papermill": {
     "duration": 0.921962,
     "end_time": "2024-10-13T07:53:08.003466",
     "exception": false,
     "start_time": "2024-10-13T07:53:07.081504",
     "status": "completed"
    },
    "tags": []
   },
   "outputs": [
    {
     "data": {
      "text/plain": [
       "'một bệnh nhiễm trùng da phổ biến . Các dấu hiệu và các vấn đề nghiêm trọng . Các vấn đề nghiêm trọng . Các vấn đề nghiêm trọng . Các vấn đề nghiêm trọng . Các vấn đề nghiêm trọng , bao gồm :'"
      ]
     },
     "execution_count": 14,
     "metadata": {},
     "output_type": "execute_result"
    }
   ],
   "source": [
    "greedy_inference(\"Chốc là\")"
   ]
  },
  {
   "cell_type": "markdown",
   "id": "61213ac6",
   "metadata": {
    "papermill": {
     "duration": 0.019385,
     "end_time": "2024-10-13T07:53:08.042186",
     "exception": false,
     "start_time": "2024-10-13T07:53:08.022801",
     "status": "completed"
    },
    "tags": []
   },
   "source": [
    "# Model Training"
   ]
  },
  {
   "cell_type": "code",
   "execution_count": 15,
   "id": "68ef1a3b",
   "metadata": {
    "execution": {
     "iopub.execute_input": "2024-10-13T07:53:08.082388Z",
     "iopub.status.busy": "2024-10-13T07:53:08.081780Z",
     "iopub.status.idle": "2024-10-13T07:53:09.269714Z",
     "shell.execute_reply": "2024-10-13T07:53:09.268818Z"
    },
    "papermill": {
     "duration": 1.210464,
     "end_time": "2024-10-13T07:53:09.272095",
     "exception": false,
     "start_time": "2024-10-13T07:53:08.061631",
     "status": "completed"
    },
    "tags": []
   },
   "outputs": [],
   "source": [
    "batch_size = 20\n",
    "max_len = 256\n",
    "epochs = 5\n",
    "\n",
    "# DataLoader\n",
    "train_loader = DataLoader(data_train, batch_size=batch_size, shuffle=True)\n",
    "len_loader = len(train_loader)  # Tính độ dài của DataLoader\n",
    "total_steps = epochs * len_loader\n",
    "\n",
    "# Optimize\n",
    "optimizer = torch.optim.AdamW(model.parameters(), lr=1e-5, betas=(0.9, 0.999), eps=1e-8)\n",
    "\n",
    "# Loss \n",
    "criterion = nn.CrossEntropyLoss(ignore_index=tokenizer.token_to_id(\"[PAD]\"))"
   ]
  },
  {
   "cell_type": "code",
   "execution_count": 16,
   "id": "a864c76b",
   "metadata": {
    "execution": {
     "iopub.execute_input": "2024-10-13T07:53:09.312103Z",
     "iopub.status.busy": "2024-10-13T07:53:09.311369Z",
     "iopub.status.idle": "2024-10-13T14:26:08.274068Z",
     "shell.execute_reply": "2024-10-13T14:26:08.273019Z"
    },
    "papermill": {
     "duration": 23578.984791,
     "end_time": "2024-10-13T14:26:08.276375",
     "exception": false,
     "start_time": "2024-10-13T07:53:09.291584",
     "status": "completed"
    },
    "tags": []
   },
   "outputs": [
    {
     "data": {
      "application/vnd.jupyter.widget-view+json": {
       "model_id": "6787a174c6f24db996c737c90824f611",
       "version_major": 2,
       "version_minor": 0
      },
      "text/plain": [
       "EPOCH 1/5: 0it [00:00, ?it/s]"
      ]
     },
     "metadata": {},
     "output_type": "display_data"
    },
    {
     "name": "stdout",
     "output_type": "stream",
     "text": [
      "Final Loss: 2.8226798472726466\n",
      "Test Greedy Inference 01: Theo báo cáo của | Bộ Y tế , Bộ Y tế ban hành Thông tư số 63 / TT - BYT ngày 01 / TT - BYT ngày 01 / TT - BYT ngày 01 / 2021 , Bộ Y tế hướng dẫn số 63 / 2021 , Bộ Y tế hướng dẫn số\n",
      "Test Greedy Inference 02: Viêm nang lông là | tình trạng viêm nhiễm ở nang lông bị viêm . Bệnh thường gặp ở nang lông . Bệnh thường gặp ở nang lông . Bệnh thường gặp ở các nang lông . Các nang lông . Các nang lông bị ảnh hưởng . Các nang lông bị ảnh hưởng .\n",
      "Test Greedy Inference 03: Cách điều trị bệnh | da do ánh sáng bao gồm sử dụng ánh sáng , sử dụng ánh sáng , sử dụng ánh sáng , sử dụng ánh sáng , ánh sáng , ánh sáng , ánh sáng , ánh sáng , ánh sáng , ánh sáng , ánh sáng , ánh sáng ,\n"
     ]
    },
    {
     "data": {
      "application/vnd.jupyter.widget-view+json": {
       "model_id": "d0e39a4d348c4a68b50aebba702666fa",
       "version_major": 2,
       "version_minor": 0
      },
      "text/plain": [
       "EPOCH 2/5: 0it [00:00, ?it/s]"
      ]
     },
     "metadata": {},
     "output_type": "display_data"
    },
    {
     "name": "stdout",
     "output_type": "stream",
     "text": [
      "Final Loss: 2.7824570885764985\n",
      "Test Greedy Inference 01: Theo báo cáo của | Bộ Y tế , Bộ Y tế , Bộ Y tế , Bộ Y tế , Bộ Y tế ban hành . 1 . 1 . 1 . 1 . 1 . 1 . 1 . 1 . 1 .\n",
      "Test Greedy Inference 02: Viêm nang lông là | tình trạng viêm nhiễm ở nang lông . Viêm nang lông . Viêm nang lông bị viêm nang lông bị viêm nang lông bị viêm nang lông bị viêm nang lông bị viêm nang lông bị viêm nang lông bị viêm nang lông bị viêm nang lông bị viêm nang\n",
      "Test Greedy Inference 03: Cách điều trị bệnh | da do ánh sáng bao gồm sử dụng ánh sáng , sử dụng ánh sáng , sử dụng ánh sáng , sử dụng ánh sáng , ánh sáng , ánh sáng , ánh sáng , ánh sáng , ánh sáng , ánh sáng , ánh sáng , ánh sáng ,\n"
     ]
    },
    {
     "data": {
      "application/vnd.jupyter.widget-view+json": {
       "model_id": "27ef3d96db3f40f6a2232b01630c7fcf",
       "version_major": 2,
       "version_minor": 0
      },
      "text/plain": [
       "EPOCH 3/5: 0it [00:00, ?it/s]"
      ]
     },
     "metadata": {},
     "output_type": "display_data"
    },
    {
     "name": "stdout",
     "output_type": "stream",
     "text": [
      "Final Loss: 2.7446407303267404\n",
      "Test Greedy Inference 01: Theo báo cáo của | Bộ Y tế , Bộ Y tế ban hành Thông tư số 02 / TT - BYT ngày 31 / TT - BYT ngày 31 / 2021 của Bộ Y tế về việc Bộ Y tế về việc thực hiện Bộ Y tế về việc thực hiện việc thực hiện\n",
      "Test Greedy Inference 02: Viêm nang lông là | tình trạng viêm nhiễm ở nang lông . Tình trạng viêm nang lông bị viêm do vi khuẩn , sưng , sưng , sưng , sưng , sưng , sưng , sưng , sưng , sưng , sưng , sưng , sưng , sưng , sưng , sưng , sưng\n",
      "Test Greedy Inference 03: Cách điều trị bệnh | da do ánh sáng bao gồm sử dụng ánh sáng , sử dụng ánh sáng , sử dụng ánh sáng , sử dụng ánh sáng , ánh sáng , ánh sáng , ánh sáng , ánh sáng , ánh sáng , ánh sáng , ánh sáng , ánh sáng ,\n"
     ]
    },
    {
     "data": {
      "application/vnd.jupyter.widget-view+json": {
       "model_id": "744b176a2a144a4588ae4f02279569f8",
       "version_major": 2,
       "version_minor": 0
      },
      "text/plain": [
       "EPOCH 4/5: 0it [00:00, ?it/s]"
      ]
     },
     "metadata": {},
     "output_type": "display_data"
    },
    {
     "name": "stdout",
     "output_type": "stream",
     "text": [
      "Final Loss: 2.7086477318915967\n",
      "Test Greedy Inference 01: Theo báo cáo của | Bộ Y tế , Bộ Y tế , Bộ Y tế , Bộ Y tế , Bộ Y tế , Bộ Y tế , Bộ Y tế , Bộ Y tế , Bộ Y tế , Bộ Y tế , Bộ Y tế , Bộ Y tế , Bộ Y\n",
      "Test Greedy Inference 02: Viêm nang lông là | tình trạng viêm nhiễm ở nang lông . Tình trạng viêm nang lông bị viêm nang lông bị viêm nang lông bị ảnh hưởng . Viêm nang lông bị viêm nang lông bị viêm nang lông bị viêm nang lông bị tắc nghẽn , có thể . Điều trị .\n",
      "Test Greedy Inference 03: Cách điều trị bệnh | vảy nến bao gồm cả điều trị tại nhà . Điều trị tại nhà . Điều trị tại nhà . Điều trị tại nhà . Điều trị tại nhà . Điều trị tại nhà . Điều trị tại nhà . Điều trị tại nhà . Điều trị tại nhà .\n"
     ]
    },
    {
     "data": {
      "application/vnd.jupyter.widget-view+json": {
       "model_id": "e8bee8dece7b4d03a32b9397816f8744",
       "version_major": 2,
       "version_minor": 0
      },
      "text/plain": [
       "EPOCH 5/5: 0it [00:00, ?it/s]"
      ]
     },
     "metadata": {},
     "output_type": "display_data"
    },
    {
     "name": "stdout",
     "output_type": "stream",
     "text": [
      "Final Loss: 2.6747889107435876\n",
      "Test Greedy Inference 01: Theo báo cáo của | Bộ Y tế , Bộ Y tế hướng dẫn của Bộ Y tế . Điều 1 . 1 . 1 . 1 . 2 . 2 . 2 . 2 . 2 . 2 . 2 . 2\n",
      "Test Greedy Inference 02: Viêm nang lông là | tình trạng viêm , nang lông bị viêm , nang lông bị viêm , nang lông bị viêm , nang lông bị viêm , nang lông bị viêm , nang lông bị viêm , nang lông bị viêm , nang lông bị viêm , viêm , viêm , viêm ,\n",
      "Test Greedy Inference 03: Cách điều trị bệnh | da do ánh sáng bao gồm sử dụng thuốc bôi ngoài da , thuốc , thuốc , thuốc , thuốc , thuốc , thuốc , thuốc , thuốc , thuốc , thuốc , thuốc , thuốc , thuốc , thuốc , thuốc , thuốc , thuốc , thuốc , thuốc\n"
     ]
    }
   ],
   "source": [
    "# Training\n",
    "for epoch in range(epochs):\n",
    "    model.train()\n",
    "\n",
    "    total_loss = 0\n",
    "    steps = 0\n",
    "\n",
    "    for i, batch in tqdm(enumerate(train_loader), desc=f\"EPOCH {epoch+1}/{epochs}\"):\n",
    "        data, label = batch\n",
    "        data, label = data.to(device), label.to(device)\n",
    "        data_padding_mask = (data == tokenizer.token_to_id(\"[PAD]\")).to(torch.float)\n",
    "        data_mmha_mask = _generate_square_subsequent_mask(data.size(1)).to(device)\n",
    "        \n",
    "        optimizer.zero_grad()\n",
    "\n",
    "        logits = model(data, data_mmha_mask, data_padding_mask)\n",
    "        \n",
    "        B, T, C = logits.shape\n",
    "        logits = logits.view(B*T, C)\n",
    "        label = label.view(B*T)\n",
    "\n",
    "        loss = criterion(logits, label)\n",
    "        total_loss += loss.item()\n",
    "\n",
    "        loss.backward()\n",
    "        optimizer.step()\n",
    "        steps += 1\n",
    "    \n",
    "    final_loss = total_loss / steps\n",
    "    print(f\"Final Loss: {final_loss}\")\n",
    "    print(\"Test Greedy Inference 01: Theo báo cáo của | \",end=\"\")\n",
    "    print(greedy_inference(\"Theo báo cáo của\"))\n",
    "    print(\"Test Greedy Inference 02: Viêm nang lông là | \",end=\"\")\n",
    "    print(greedy_inference(\"Viêm nang lông là\"))\n",
    "    print(\"Test Greedy Inference 03: Cách điều trị bệnh | \",end=\"\")\n",
    "    print(greedy_inference(\"Cách điều trị bệnh\"))"
   ]
  },
  {
   "cell_type": "markdown",
   "id": "8361bd0c",
   "metadata": {
    "papermill": {
     "duration": 0.020768,
     "end_time": "2024-10-13T14:26:08.318379",
     "exception": false,
     "start_time": "2024-10-13T14:26:08.297611",
     "status": "completed"
    },
    "tags": []
   },
   "source": [
    "# Save model weights"
   ]
  },
  {
   "cell_type": "code",
   "execution_count": 17,
   "id": "a41b73be",
   "metadata": {
    "execution": {
     "iopub.execute_input": "2024-10-13T14:26:08.362040Z",
     "iopub.status.busy": "2024-10-13T14:26:08.361257Z",
     "iopub.status.idle": "2024-10-13T14:26:09.432042Z",
     "shell.execute_reply": "2024-10-13T14:26:09.430913Z"
    },
    "papermill": {
     "duration": 1.095018,
     "end_time": "2024-10-13T14:26:09.434335",
     "exception": false,
     "start_time": "2024-10-13T14:26:08.339317",
     "status": "completed"
    },
    "tags": []
   },
   "outputs": [],
   "source": [
    "torch.save(model.state_dict(), '/kaggle/working/model_weights.pth')"
   ]
  },
  {
   "cell_type": "code",
   "execution_count": null,
   "id": "f4d0d249",
   "metadata": {
    "papermill": {
     "duration": 0.020796,
     "end_time": "2024-10-13T14:26:09.476260",
     "exception": false,
     "start_time": "2024-10-13T14:26:09.455464",
     "status": "completed"
    },
    "tags": []
   },
   "outputs": [],
   "source": []
  }
 ],
 "metadata": {
  "kaggle": {
   "accelerator": "gpu",
   "dataSources": [
    {
     "datasetId": 5853334,
     "sourceId": 9603094,
     "sourceType": "datasetVersion"
    },
    {
     "sourceId": 200682127,
     "sourceType": "kernelVersion"
    },
    {
     "modelId": 136861,
     "modelInstanceId": 113562,
     "sourceId": 134279,
     "sourceType": "modelInstanceVersion"
    }
   ],
   "isGpuEnabled": true,
   "isInternetEnabled": true,
   "language": "python",
   "sourceType": "notebook"
  },
  "kernelspec": {
   "display_name": "Python 3",
   "language": "python",
   "name": "python3"
  },
  "language_info": {
   "codemirror_mode": {
    "name": "ipython",
    "version": 3
   },
   "file_extension": ".py",
   "mimetype": "text/x-python",
   "name": "python",
   "nbconvert_exporter": "python",
   "pygments_lexer": "ipython3",
   "version": "3.10.14"
  },
  "papermill": {
   "default_parameters": {},
   "duration": 23651.065262,
   "end_time": "2024-10-13T14:26:11.624880",
   "environment_variables": {},
   "exception": null,
   "input_path": "__notebook__.ipynb",
   "output_path": "__notebook__.ipynb",
   "parameters": {},
   "start_time": "2024-10-13T07:52:00.559618",
   "version": "2.6.0"
  },
  "widgets": {
   "application/vnd.jupyter.widget-state+json": {
    "state": {
     "04612e9deab14d3e9e03b183bdfb749e": {
      "model_module": "@jupyter-widgets/controls",
      "model_module_version": "1.5.0",
      "model_name": "HTMLModel",
      "state": {
       "_dom_classes": [],
       "_model_module": "@jupyter-widgets/controls",
       "_model_module_version": "1.5.0",
       "_model_name": "HTMLModel",
       "_view_count": null,
       "_view_module": "@jupyter-widgets/controls",
       "_view_module_version": "1.5.0",
       "_view_name": "HTMLView",
       "description": "",
       "description_tooltip": null,
       "layout": "IPY_MODEL_6df30f476f23449c8316fbb3fef5aa7d",
       "placeholder": "​",
       "style": "IPY_MODEL_09d83fd359d549b3b636f47dc7a6715a",
       "value": " 4191/? [1:18:30&lt;00:00,  1.02s/it]"
      }
     },
     "056ea678fee945678bfeb0d06ff770b5": {
      "model_module": "@jupyter-widgets/controls",
      "model_module_version": "1.5.0",
      "model_name": "ProgressStyleModel",
      "state": {
       "_model_module": "@jupyter-widgets/controls",
       "_model_module_version": "1.5.0",
       "_model_name": "ProgressStyleModel",
       "_view_count": null,
       "_view_module": "@jupyter-widgets/base",
       "_view_module_version": "1.2.0",
       "_view_name": "StyleView",
       "bar_color": null,
       "description_width": ""
      }
     },
     "09d83fd359d549b3b636f47dc7a6715a": {
      "model_module": "@jupyter-widgets/controls",
      "model_module_version": "1.5.0",
      "model_name": "DescriptionStyleModel",
      "state": {
       "_model_module": "@jupyter-widgets/controls",
       "_model_module_version": "1.5.0",
       "_model_name": "DescriptionStyleModel",
       "_view_count": null,
       "_view_module": "@jupyter-widgets/base",
       "_view_module_version": "1.2.0",
       "_view_name": "StyleView",
       "description_width": ""
      }
     },
     "0bebb6ab4fbc4621b73503035fd8102e": {
      "model_module": "@jupyter-widgets/base",
      "model_module_version": "1.2.0",
      "model_name": "LayoutModel",
      "state": {
       "_model_module": "@jupyter-widgets/base",
       "_model_module_version": "1.2.0",
       "_model_name": "LayoutModel",
       "_view_count": null,
       "_view_module": "@jupyter-widgets/base",
       "_view_module_version": "1.2.0",
       "_view_name": "LayoutView",
       "align_content": null,
       "align_items": null,
       "align_self": null,
       "border": null,
       "bottom": null,
       "display": null,
       "flex": null,
       "flex_flow": null,
       "grid_area": null,
       "grid_auto_columns": null,
       "grid_auto_flow": null,
       "grid_auto_rows": null,
       "grid_column": null,
       "grid_gap": null,
       "grid_row": null,
       "grid_template_areas": null,
       "grid_template_columns": null,
       "grid_template_rows": null,
       "height": null,
       "justify_content": null,
       "justify_items": null,
       "left": null,
       "margin": null,
       "max_height": null,
       "max_width": null,
       "min_height": null,
       "min_width": null,
       "object_fit": null,
       "object_position": null,
       "order": null,
       "overflow": null,
       "overflow_x": null,
       "overflow_y": null,
       "padding": null,
       "right": null,
       "top": null,
       "visibility": null,
       "width": null
      }
     },
     "10185a9c9f674318a62c80da5f202e98": {
      "model_module": "@jupyter-widgets/base",
      "model_module_version": "1.2.0",
      "model_name": "LayoutModel",
      "state": {
       "_model_module": "@jupyter-widgets/base",
       "_model_module_version": "1.2.0",
       "_model_name": "LayoutModel",
       "_view_count": null,
       "_view_module": "@jupyter-widgets/base",
       "_view_module_version": "1.2.0",
       "_view_name": "LayoutView",
       "align_content": null,
       "align_items": null,
       "align_self": null,
       "border": null,
       "bottom": null,
       "display": null,
       "flex": null,
       "flex_flow": null,
       "grid_area": null,
       "grid_auto_columns": null,
       "grid_auto_flow": null,
       "grid_auto_rows": null,
       "grid_column": null,
       "grid_gap": null,
       "grid_row": null,
       "grid_template_areas": null,
       "grid_template_columns": null,
       "grid_template_rows": null,
       "height": null,
       "justify_content": null,
       "justify_items": null,
       "left": null,
       "margin": null,
       "max_height": null,
       "max_width": null,
       "min_height": null,
       "min_width": null,
       "object_fit": null,
       "object_position": null,
       "order": null,
       "overflow": null,
       "overflow_x": null,
       "overflow_y": null,
       "padding": null,
       "right": null,
       "top": null,
       "visibility": null,
       "width": null
      }
     },
     "125fd973acf848939b29a1ef6fc10ea3": {
      "model_module": "@jupyter-widgets/controls",
      "model_module_version": "1.5.0",
      "model_name": "HTMLModel",
      "state": {
       "_dom_classes": [],
       "_model_module": "@jupyter-widgets/controls",
       "_model_module_version": "1.5.0",
       "_model_name": "HTMLModel",
       "_view_count": null,
       "_view_module": "@jupyter-widgets/controls",
       "_view_module_version": "1.5.0",
       "_view_name": "HTMLView",
       "description": "",
       "description_tooltip": null,
       "layout": "IPY_MODEL_ee4478d46f6445efb48fbbe16126f493",
       "placeholder": "​",
       "style": "IPY_MODEL_65ce0c1c7a6c4485a6cd77516d1f5f46",
       "value": " 4191/? [1:18:33&lt;00:00,  1.02s/it]"
      }
     },
     "13519005cab74746ad262aae87dd9116": {
      "model_module": "@jupyter-widgets/controls",
      "model_module_version": "1.5.0",
      "model_name": "DescriptionStyleModel",
      "state": {
       "_model_module": "@jupyter-widgets/controls",
       "_model_module_version": "1.5.0",
       "_model_name": "DescriptionStyleModel",
       "_view_count": null,
       "_view_module": "@jupyter-widgets/base",
       "_view_module_version": "1.2.0",
       "_view_name": "StyleView",
       "description_width": ""
      }
     },
     "1934217f1a834d7b8a4c717cdf9b071a": {
      "model_module": "@jupyter-widgets/controls",
      "model_module_version": "1.5.0",
      "model_name": "ProgressStyleModel",
      "state": {
       "_model_module": "@jupyter-widgets/controls",
       "_model_module_version": "1.5.0",
       "_model_name": "ProgressStyleModel",
       "_view_count": null,
       "_view_module": "@jupyter-widgets/base",
       "_view_module_version": "1.2.0",
       "_view_name": "StyleView",
       "bar_color": null,
       "description_width": ""
      }
     },
     "19b36843bd84467c8003d4d1db4918e0": {
      "model_module": "@jupyter-widgets/controls",
      "model_module_version": "1.5.0",
      "model_name": "HTMLModel",
      "state": {
       "_dom_classes": [],
       "_model_module": "@jupyter-widgets/controls",
       "_model_module_version": "1.5.0",
       "_model_name": "HTMLModel",
       "_view_count": null,
       "_view_module": "@jupyter-widgets/controls",
       "_view_module_version": "1.5.0",
       "_view_name": "HTMLView",
       "description": "",
       "description_tooltip": null,
       "layout": "IPY_MODEL_e8e9f9d15fd24c4a98bfdb1fc5f9bfcf",
       "placeholder": "​",
       "style": "IPY_MODEL_db73518e0c534fc9a138fbf3dc2f5488",
       "value": " 4191/? [1:18:34&lt;00:00,  1.02s/it]"
      }
     },
     "23b958dd653b4a73b1952c44b22c6cff": {
      "model_module": "@jupyter-widgets/base",
      "model_module_version": "1.2.0",
      "model_name": "LayoutModel",
      "state": {
       "_model_module": "@jupyter-widgets/base",
       "_model_module_version": "1.2.0",
       "_model_name": "LayoutModel",
       "_view_count": null,
       "_view_module": "@jupyter-widgets/base",
       "_view_module_version": "1.2.0",
       "_view_name": "LayoutView",
       "align_content": null,
       "align_items": null,
       "align_self": null,
       "border": null,
       "bottom": null,
       "display": null,
       "flex": null,
       "flex_flow": null,
       "grid_area": null,
       "grid_auto_columns": null,
       "grid_auto_flow": null,
       "grid_auto_rows": null,
       "grid_column": null,
       "grid_gap": null,
       "grid_row": null,
       "grid_template_areas": null,
       "grid_template_columns": null,
       "grid_template_rows": null,
       "height": null,
       "justify_content": null,
       "justify_items": null,
       "left": null,
       "margin": null,
       "max_height": null,
       "max_width": null,
       "min_height": null,
       "min_width": null,
       "object_fit": null,
       "object_position": null,
       "order": null,
       "overflow": null,
       "overflow_x": null,
       "overflow_y": null,
       "padding": null,
       "right": null,
       "top": null,
       "visibility": null,
       "width": "20px"
      }
     },
     "260a4408c6f244d8846a1f0870645e47": {
      "model_module": "@jupyter-widgets/controls",
      "model_module_version": "1.5.0",
      "model_name": "DescriptionStyleModel",
      "state": {
       "_model_module": "@jupyter-widgets/controls",
       "_model_module_version": "1.5.0",
       "_model_name": "DescriptionStyleModel",
       "_view_count": null,
       "_view_module": "@jupyter-widgets/base",
       "_view_module_version": "1.2.0",
       "_view_name": "StyleView",
       "description_width": ""
      }
     },
     "264d2ab6aaac42e8bb982d3cf478af2d": {
      "model_module": "@jupyter-widgets/controls",
      "model_module_version": "1.5.0",
      "model_name": "HTMLModel",
      "state": {
       "_dom_classes": [],
       "_model_module": "@jupyter-widgets/controls",
       "_model_module_version": "1.5.0",
       "_model_name": "HTMLModel",
       "_view_count": null,
       "_view_module": "@jupyter-widgets/controls",
       "_view_module_version": "1.5.0",
       "_view_name": "HTMLView",
       "description": "",
       "description_tooltip": null,
       "layout": "IPY_MODEL_cf057aee5ee44abe810d1ff5f24a3391",
       "placeholder": "​",
       "style": "IPY_MODEL_13519005cab74746ad262aae87dd9116",
       "value": " 4191/? [1:18:34&lt;00:00,  1.02s/it]"
      }
     },
     "27ef3d96db3f40f6a2232b01630c7fcf": {
      "model_module": "@jupyter-widgets/controls",
      "model_module_version": "1.5.0",
      "model_name": "HBoxModel",
      "state": {
       "_dom_classes": [],
       "_model_module": "@jupyter-widgets/controls",
       "_model_module_version": "1.5.0",
       "_model_name": "HBoxModel",
       "_view_count": null,
       "_view_module": "@jupyter-widgets/controls",
       "_view_module_version": "1.5.0",
       "_view_name": "HBoxView",
       "box_style": "",
       "children": [
        "IPY_MODEL_9eb80d409ce04378b86cd4235c765299",
        "IPY_MODEL_6848d32647cb4669b58e797b6abcc018",
        "IPY_MODEL_125fd973acf848939b29a1ef6fc10ea3"
       ],
       "layout": "IPY_MODEL_eae237a128534f1d9bed8a4c71789b9f"
      }
     },
     "31387a329b4b4d0badd18094bb9fbab7": {
      "model_module": "@jupyter-widgets/base",
      "model_module_version": "1.2.0",
      "model_name": "LayoutModel",
      "state": {
       "_model_module": "@jupyter-widgets/base",
       "_model_module_version": "1.2.0",
       "_model_name": "LayoutModel",
       "_view_count": null,
       "_view_module": "@jupyter-widgets/base",
       "_view_module_version": "1.2.0",
       "_view_name": "LayoutView",
       "align_content": null,
       "align_items": null,
       "align_self": null,
       "border": null,
       "bottom": null,
       "display": null,
       "flex": null,
       "flex_flow": null,
       "grid_area": null,
       "grid_auto_columns": null,
       "grid_auto_flow": null,
       "grid_auto_rows": null,
       "grid_column": null,
       "grid_gap": null,
       "grid_row": null,
       "grid_template_areas": null,
       "grid_template_columns": null,
       "grid_template_rows": null,
       "height": null,
       "justify_content": null,
       "justify_items": null,
       "left": null,
       "margin": null,
       "max_height": null,
       "max_width": null,
       "min_height": null,
       "min_width": null,
       "object_fit": null,
       "object_position": null,
       "order": null,
       "overflow": null,
       "overflow_x": null,
       "overflow_y": null,
       "padding": null,
       "right": null,
       "top": null,
       "visibility": null,
       "width": "20px"
      }
     },
     "33c190009b9540478f045b2e42f65203": {
      "model_module": "@jupyter-widgets/controls",
      "model_module_version": "1.5.0",
      "model_name": "DescriptionStyleModel",
      "state": {
       "_model_module": "@jupyter-widgets/controls",
       "_model_module_version": "1.5.0",
       "_model_name": "DescriptionStyleModel",
       "_view_count": null,
       "_view_module": "@jupyter-widgets/base",
       "_view_module_version": "1.2.0",
       "_view_name": "StyleView",
       "description_width": ""
      }
     },
     "41f261c4b1d848d296dc79ae9662a590": {
      "model_module": "@jupyter-widgets/base",
      "model_module_version": "1.2.0",
      "model_name": "LayoutModel",
      "state": {
       "_model_module": "@jupyter-widgets/base",
       "_model_module_version": "1.2.0",
       "_model_name": "LayoutModel",
       "_view_count": null,
       "_view_module": "@jupyter-widgets/base",
       "_view_module_version": "1.2.0",
       "_view_name": "LayoutView",
       "align_content": null,
       "align_items": null,
       "align_self": null,
       "border": null,
       "bottom": null,
       "display": null,
       "flex": null,
       "flex_flow": null,
       "grid_area": null,
       "grid_auto_columns": null,
       "grid_auto_flow": null,
       "grid_auto_rows": null,
       "grid_column": null,
       "grid_gap": null,
       "grid_row": null,
       "grid_template_areas": null,
       "grid_template_columns": null,
       "grid_template_rows": null,
       "height": null,
       "justify_content": null,
       "justify_items": null,
       "left": null,
       "margin": null,
       "max_height": null,
       "max_width": null,
       "min_height": null,
       "min_width": null,
       "object_fit": null,
       "object_position": null,
       "order": null,
       "overflow": null,
       "overflow_x": null,
       "overflow_y": null,
       "padding": null,
       "right": null,
       "top": null,
       "visibility": null,
       "width": "20px"
      }
     },
     "45873df7aeda4038955cd0f292dbf8e6": {
      "model_module": "@jupyter-widgets/controls",
      "model_module_version": "1.5.0",
      "model_name": "HTMLModel",
      "state": {
       "_dom_classes": [],
       "_model_module": "@jupyter-widgets/controls",
       "_model_module_version": "1.5.0",
       "_model_name": "HTMLModel",
       "_view_count": null,
       "_view_module": "@jupyter-widgets/controls",
       "_view_module_version": "1.5.0",
       "_view_name": "HTMLView",
       "description": "",
       "description_tooltip": null,
       "layout": "IPY_MODEL_838608f3095d47d0b64f3d89d185274b",
       "placeholder": "​",
       "style": "IPY_MODEL_260a4408c6f244d8846a1f0870645e47",
       "value": "EPOCH 1/5: "
      }
     },
     "65ce0c1c7a6c4485a6cd77516d1f5f46": {
      "model_module": "@jupyter-widgets/controls",
      "model_module_version": "1.5.0",
      "model_name": "DescriptionStyleModel",
      "state": {
       "_model_module": "@jupyter-widgets/controls",
       "_model_module_version": "1.5.0",
       "_model_name": "DescriptionStyleModel",
       "_view_count": null,
       "_view_module": "@jupyter-widgets/base",
       "_view_module_version": "1.2.0",
       "_view_name": "StyleView",
       "description_width": ""
      }
     },
     "6787a174c6f24db996c737c90824f611": {
      "model_module": "@jupyter-widgets/controls",
      "model_module_version": "1.5.0",
      "model_name": "HBoxModel",
      "state": {
       "_dom_classes": [],
       "_model_module": "@jupyter-widgets/controls",
       "_model_module_version": "1.5.0",
       "_model_name": "HBoxModel",
       "_view_count": null,
       "_view_module": "@jupyter-widgets/controls",
       "_view_module_version": "1.5.0",
       "_view_name": "HBoxView",
       "box_style": "",
       "children": [
        "IPY_MODEL_45873df7aeda4038955cd0f292dbf8e6",
        "IPY_MODEL_e9a4b5513db1407b95d7f7834db5c094",
        "IPY_MODEL_19b36843bd84467c8003d4d1db4918e0"
       ],
       "layout": "IPY_MODEL_f5bd0e0015fc4d8dabf6dc0e0d97dd1d"
      }
     },
     "6848d32647cb4669b58e797b6abcc018": {
      "model_module": "@jupyter-widgets/controls",
      "model_module_version": "1.5.0",
      "model_name": "FloatProgressModel",
      "state": {
       "_dom_classes": [],
       "_model_module": "@jupyter-widgets/controls",
       "_model_module_version": "1.5.0",
       "_model_name": "FloatProgressModel",
       "_view_count": null,
       "_view_module": "@jupyter-widgets/controls",
       "_view_module_version": "1.5.0",
       "_view_name": "ProgressView",
       "bar_style": "success",
       "description": "",
       "description_tooltip": null,
       "layout": "IPY_MODEL_31387a329b4b4d0badd18094bb9fbab7",
       "max": 1.0,
       "min": 0.0,
       "orientation": "horizontal",
       "style": "IPY_MODEL_1934217f1a834d7b8a4c717cdf9b071a",
       "value": 1.0
      }
     },
     "689c6b2cbf4c4b3facacca84c4f7ad8b": {
      "model_module": "@jupyter-widgets/base",
      "model_module_version": "1.2.0",
      "model_name": "LayoutModel",
      "state": {
       "_model_module": "@jupyter-widgets/base",
       "_model_module_version": "1.2.0",
       "_model_name": "LayoutModel",
       "_view_count": null,
       "_view_module": "@jupyter-widgets/base",
       "_view_module_version": "1.2.0",
       "_view_name": "LayoutView",
       "align_content": null,
       "align_items": null,
       "align_self": null,
       "border": null,
       "bottom": null,
       "display": null,
       "flex": null,
       "flex_flow": null,
       "grid_area": null,
       "grid_auto_columns": null,
       "grid_auto_flow": null,
       "grid_auto_rows": null,
       "grid_column": null,
       "grid_gap": null,
       "grid_row": null,
       "grid_template_areas": null,
       "grid_template_columns": null,
       "grid_template_rows": null,
       "height": null,
       "justify_content": null,
       "justify_items": null,
       "left": null,
       "margin": null,
       "max_height": null,
       "max_width": null,
       "min_height": null,
       "min_width": null,
       "object_fit": null,
       "object_position": null,
       "order": null,
       "overflow": null,
       "overflow_x": null,
       "overflow_y": null,
       "padding": null,
       "right": null,
       "top": null,
       "visibility": null,
       "width": null
      }
     },
     "6df30f476f23449c8316fbb3fef5aa7d": {
      "model_module": "@jupyter-widgets/base",
      "model_module_version": "1.2.0",
      "model_name": "LayoutModel",
      "state": {
       "_model_module": "@jupyter-widgets/base",
       "_model_module_version": "1.2.0",
       "_model_name": "LayoutModel",
       "_view_count": null,
       "_view_module": "@jupyter-widgets/base",
       "_view_module_version": "1.2.0",
       "_view_name": "LayoutView",
       "align_content": null,
       "align_items": null,
       "align_self": null,
       "border": null,
       "bottom": null,
       "display": null,
       "flex": null,
       "flex_flow": null,
       "grid_area": null,
       "grid_auto_columns": null,
       "grid_auto_flow": null,
       "grid_auto_rows": null,
       "grid_column": null,
       "grid_gap": null,
       "grid_row": null,
       "grid_template_areas": null,
       "grid_template_columns": null,
       "grid_template_rows": null,
       "height": null,
       "justify_content": null,
       "justify_items": null,
       "left": null,
       "margin": null,
       "max_height": null,
       "max_width": null,
       "min_height": null,
       "min_width": null,
       "object_fit": null,
       "object_position": null,
       "order": null,
       "overflow": null,
       "overflow_x": null,
       "overflow_y": null,
       "padding": null,
       "right": null,
       "top": null,
       "visibility": null,
       "width": null
      }
     },
     "744b176a2a144a4588ae4f02279569f8": {
      "model_module": "@jupyter-widgets/controls",
      "model_module_version": "1.5.0",
      "model_name": "HBoxModel",
      "state": {
       "_dom_classes": [],
       "_model_module": "@jupyter-widgets/controls",
       "_model_module_version": "1.5.0",
       "_model_name": "HBoxModel",
       "_view_count": null,
       "_view_module": "@jupyter-widgets/controls",
       "_view_module_version": "1.5.0",
       "_view_name": "HBoxView",
       "box_style": "",
       "children": [
        "IPY_MODEL_cf5b14de7715499f949d18c9e5aab6f0",
        "IPY_MODEL_ba7eb2fb85e84f43a0ac18778333974b",
        "IPY_MODEL_04612e9deab14d3e9e03b183bdfb749e"
       ],
       "layout": "IPY_MODEL_88dbb7238be546ee8bbdc3d1b996dcea"
      }
     },
     "7b53d8a934174ee3a85017d751dc1fe9": {
      "model_module": "@jupyter-widgets/base",
      "model_module_version": "1.2.0",
      "model_name": "LayoutModel",
      "state": {
       "_model_module": "@jupyter-widgets/base",
       "_model_module_version": "1.2.0",
       "_model_name": "LayoutModel",
       "_view_count": null,
       "_view_module": "@jupyter-widgets/base",
       "_view_module_version": "1.2.0",
       "_view_name": "LayoutView",
       "align_content": null,
       "align_items": null,
       "align_self": null,
       "border": null,
       "bottom": null,
       "display": null,
       "flex": null,
       "flex_flow": null,
       "grid_area": null,
       "grid_auto_columns": null,
       "grid_auto_flow": null,
       "grid_auto_rows": null,
       "grid_column": null,
       "grid_gap": null,
       "grid_row": null,
       "grid_template_areas": null,
       "grid_template_columns": null,
       "grid_template_rows": null,
       "height": null,
       "justify_content": null,
       "justify_items": null,
       "left": null,
       "margin": null,
       "max_height": null,
       "max_width": null,
       "min_height": null,
       "min_width": null,
       "object_fit": null,
       "object_position": null,
       "order": null,
       "overflow": null,
       "overflow_x": null,
       "overflow_y": null,
       "padding": null,
       "right": null,
       "top": null,
       "visibility": null,
       "width": "20px"
      }
     },
     "7e798d8585ba4d629e032442a6763d94": {
      "model_module": "@jupyter-widgets/controls",
      "model_module_version": "1.5.0",
      "model_name": "ProgressStyleModel",
      "state": {
       "_model_module": "@jupyter-widgets/controls",
       "_model_module_version": "1.5.0",
       "_model_name": "ProgressStyleModel",
       "_view_count": null,
       "_view_module": "@jupyter-widgets/base",
       "_view_module_version": "1.2.0",
       "_view_name": "StyleView",
       "bar_color": null,
       "description_width": ""
      }
     },
     "7f22ca206d7745ba922ca4048d765b5e": {
      "model_module": "@jupyter-widgets/controls",
      "model_module_version": "1.5.0",
      "model_name": "HTMLModel",
      "state": {
       "_dom_classes": [],
       "_model_module": "@jupyter-widgets/controls",
       "_model_module_version": "1.5.0",
       "_model_name": "HTMLModel",
       "_view_count": null,
       "_view_module": "@jupyter-widgets/controls",
       "_view_module_version": "1.5.0",
       "_view_name": "HTMLView",
       "description": "",
       "description_tooltip": null,
       "layout": "IPY_MODEL_ecb25ec407b74aab9d001d1dc71af35f",
       "placeholder": "​",
       "style": "IPY_MODEL_9d088e84de2845c4886bdfe37f367df7",
       "value": "EPOCH 5/5: "
      }
     },
     "838608f3095d47d0b64f3d89d185274b": {
      "model_module": "@jupyter-widgets/base",
      "model_module_version": "1.2.0",
      "model_name": "LayoutModel",
      "state": {
       "_model_module": "@jupyter-widgets/base",
       "_model_module_version": "1.2.0",
       "_model_name": "LayoutModel",
       "_view_count": null,
       "_view_module": "@jupyter-widgets/base",
       "_view_module_version": "1.2.0",
       "_view_name": "LayoutView",
       "align_content": null,
       "align_items": null,
       "align_self": null,
       "border": null,
       "bottom": null,
       "display": null,
       "flex": null,
       "flex_flow": null,
       "grid_area": null,
       "grid_auto_columns": null,
       "grid_auto_flow": null,
       "grid_auto_rows": null,
       "grid_column": null,
       "grid_gap": null,
       "grid_row": null,
       "grid_template_areas": null,
       "grid_template_columns": null,
       "grid_template_rows": null,
       "height": null,
       "justify_content": null,
       "justify_items": null,
       "left": null,
       "margin": null,
       "max_height": null,
       "max_width": null,
       "min_height": null,
       "min_width": null,
       "object_fit": null,
       "object_position": null,
       "order": null,
       "overflow": null,
       "overflow_x": null,
       "overflow_y": null,
       "padding": null,
       "right": null,
       "top": null,
       "visibility": null,
       "width": null
      }
     },
     "8784f07f96384439a29104ceac6d82b1": {
      "model_module": "@jupyter-widgets/controls",
      "model_module_version": "1.5.0",
      "model_name": "DescriptionStyleModel",
      "state": {
       "_model_module": "@jupyter-widgets/controls",
       "_model_module_version": "1.5.0",
       "_model_name": "DescriptionStyleModel",
       "_view_count": null,
       "_view_module": "@jupyter-widgets/base",
       "_view_module_version": "1.2.0",
       "_view_name": "StyleView",
       "description_width": ""
      }
     },
     "88dbb7238be546ee8bbdc3d1b996dcea": {
      "model_module": "@jupyter-widgets/base",
      "model_module_version": "1.2.0",
      "model_name": "LayoutModel",
      "state": {
       "_model_module": "@jupyter-widgets/base",
       "_model_module_version": "1.2.0",
       "_model_name": "LayoutModel",
       "_view_count": null,
       "_view_module": "@jupyter-widgets/base",
       "_view_module_version": "1.2.0",
       "_view_name": "LayoutView",
       "align_content": null,
       "align_items": null,
       "align_self": null,
       "border": null,
       "bottom": null,
       "display": null,
       "flex": null,
       "flex_flow": null,
       "grid_area": null,
       "grid_auto_columns": null,
       "grid_auto_flow": null,
       "grid_auto_rows": null,
       "grid_column": null,
       "grid_gap": null,
       "grid_row": null,
       "grid_template_areas": null,
       "grid_template_columns": null,
       "grid_template_rows": null,
       "height": null,
       "justify_content": null,
       "justify_items": null,
       "left": null,
       "margin": null,
       "max_height": null,
       "max_width": null,
       "min_height": null,
       "min_width": null,
       "object_fit": null,
       "object_position": null,
       "order": null,
       "overflow": null,
       "overflow_x": null,
       "overflow_y": null,
       "padding": null,
       "right": null,
       "top": null,
       "visibility": null,
       "width": null
      }
     },
     "8d3b3c27dd3c4dc9a05e7c4778263ee4": {
      "model_module": "@jupyter-widgets/controls",
      "model_module_version": "1.5.0",
      "model_name": "HTMLModel",
      "state": {
       "_dom_classes": [],
       "_model_module": "@jupyter-widgets/controls",
       "_model_module_version": "1.5.0",
       "_model_name": "HTMLModel",
       "_view_count": null,
       "_view_module": "@jupyter-widgets/controls",
       "_view_module_version": "1.5.0",
       "_view_name": "HTMLView",
       "description": "",
       "description_tooltip": null,
       "layout": "IPY_MODEL_9990160a0d0448b7b12d16acec1c7a24",
       "placeholder": "​",
       "style": "IPY_MODEL_b14fa43c9c724270b64b5ddf440ff771",
       "value": " 4191/? [1:18:37&lt;00:00,  1.02s/it]"
      }
     },
     "8d46a0c79d564c00b42e929b1f016b53": {
      "model_module": "@jupyter-widgets/controls",
      "model_module_version": "1.5.0",
      "model_name": "ProgressStyleModel",
      "state": {
       "_model_module": "@jupyter-widgets/controls",
       "_model_module_version": "1.5.0",
       "_model_name": "ProgressStyleModel",
       "_view_count": null,
       "_view_module": "@jupyter-widgets/base",
       "_view_module_version": "1.2.0",
       "_view_name": "StyleView",
       "bar_color": null,
       "description_width": ""
      }
     },
     "8f0023563e56485f913a8b962d866042": {
      "model_module": "@jupyter-widgets/controls",
      "model_module_version": "1.5.0",
      "model_name": "ProgressStyleModel",
      "state": {
       "_model_module": "@jupyter-widgets/controls",
       "_model_module_version": "1.5.0",
       "_model_name": "ProgressStyleModel",
       "_view_count": null,
       "_view_module": "@jupyter-widgets/base",
       "_view_module_version": "1.2.0",
       "_view_name": "StyleView",
       "bar_color": null,
       "description_width": ""
      }
     },
     "9990160a0d0448b7b12d16acec1c7a24": {
      "model_module": "@jupyter-widgets/base",
      "model_module_version": "1.2.0",
      "model_name": "LayoutModel",
      "state": {
       "_model_module": "@jupyter-widgets/base",
       "_model_module_version": "1.2.0",
       "_model_name": "LayoutModel",
       "_view_count": null,
       "_view_module": "@jupyter-widgets/base",
       "_view_module_version": "1.2.0",
       "_view_name": "LayoutView",
       "align_content": null,
       "align_items": null,
       "align_self": null,
       "border": null,
       "bottom": null,
       "display": null,
       "flex": null,
       "flex_flow": null,
       "grid_area": null,
       "grid_auto_columns": null,
       "grid_auto_flow": null,
       "grid_auto_rows": null,
       "grid_column": null,
       "grid_gap": null,
       "grid_row": null,
       "grid_template_areas": null,
       "grid_template_columns": null,
       "grid_template_rows": null,
       "height": null,
       "justify_content": null,
       "justify_items": null,
       "left": null,
       "margin": null,
       "max_height": null,
       "max_width": null,
       "min_height": null,
       "min_width": null,
       "object_fit": null,
       "object_position": null,
       "order": null,
       "overflow": null,
       "overflow_x": null,
       "overflow_y": null,
       "padding": null,
       "right": null,
       "top": null,
       "visibility": null,
       "width": null
      }
     },
     "9d088e84de2845c4886bdfe37f367df7": {
      "model_module": "@jupyter-widgets/controls",
      "model_module_version": "1.5.0",
      "model_name": "DescriptionStyleModel",
      "state": {
       "_model_module": "@jupyter-widgets/controls",
       "_model_module_version": "1.5.0",
       "_model_name": "DescriptionStyleModel",
       "_view_count": null,
       "_view_module": "@jupyter-widgets/base",
       "_view_module_version": "1.2.0",
       "_view_name": "StyleView",
       "description_width": ""
      }
     },
     "9eb80d409ce04378b86cd4235c765299": {
      "model_module": "@jupyter-widgets/controls",
      "model_module_version": "1.5.0",
      "model_name": "HTMLModel",
      "state": {
       "_dom_classes": [],
       "_model_module": "@jupyter-widgets/controls",
       "_model_module_version": "1.5.0",
       "_model_name": "HTMLModel",
       "_view_count": null,
       "_view_module": "@jupyter-widgets/controls",
       "_view_module_version": "1.5.0",
       "_view_name": "HTMLView",
       "description": "",
       "description_tooltip": null,
       "layout": "IPY_MODEL_0bebb6ab4fbc4621b73503035fd8102e",
       "placeholder": "​",
       "style": "IPY_MODEL_33c190009b9540478f045b2e42f65203",
       "value": "EPOCH 3/5: "
      }
     },
     "a35d3dbd71de4ee392e63dbab2365f62": {
      "model_module": "@jupyter-widgets/base",
      "model_module_version": "1.2.0",
      "model_name": "LayoutModel",
      "state": {
       "_model_module": "@jupyter-widgets/base",
       "_model_module_version": "1.2.0",
       "_model_name": "LayoutModel",
       "_view_count": null,
       "_view_module": "@jupyter-widgets/base",
       "_view_module_version": "1.2.0",
       "_view_name": "LayoutView",
       "align_content": null,
       "align_items": null,
       "align_self": null,
       "border": null,
       "bottom": null,
       "display": null,
       "flex": null,
       "flex_flow": null,
       "grid_area": null,
       "grid_auto_columns": null,
       "grid_auto_flow": null,
       "grid_auto_rows": null,
       "grid_column": null,
       "grid_gap": null,
       "grid_row": null,
       "grid_template_areas": null,
       "grid_template_columns": null,
       "grid_template_rows": null,
       "height": null,
       "justify_content": null,
       "justify_items": null,
       "left": null,
       "margin": null,
       "max_height": null,
       "max_width": null,
       "min_height": null,
       "min_width": null,
       "object_fit": null,
       "object_position": null,
       "order": null,
       "overflow": null,
       "overflow_x": null,
       "overflow_y": null,
       "padding": null,
       "right": null,
       "top": null,
       "visibility": null,
       "width": "20px"
      }
     },
     "a838d1ea60d34bdba3743abb834d3b99": {
      "model_module": "@jupyter-widgets/controls",
      "model_module_version": "1.5.0",
      "model_name": "FloatProgressModel",
      "state": {
       "_dom_classes": [],
       "_model_module": "@jupyter-widgets/controls",
       "_model_module_version": "1.5.0",
       "_model_name": "FloatProgressModel",
       "_view_count": null,
       "_view_module": "@jupyter-widgets/controls",
       "_view_module_version": "1.5.0",
       "_view_name": "ProgressView",
       "bar_style": "success",
       "description": "",
       "description_tooltip": null,
       "layout": "IPY_MODEL_23b958dd653b4a73b1952c44b22c6cff",
       "max": 1.0,
       "min": 0.0,
       "orientation": "horizontal",
       "style": "IPY_MODEL_8f0023563e56485f913a8b962d866042",
       "value": 1.0
      }
     },
     "b14fa43c9c724270b64b5ddf440ff771": {
      "model_module": "@jupyter-widgets/controls",
      "model_module_version": "1.5.0",
      "model_name": "DescriptionStyleModel",
      "state": {
       "_model_module": "@jupyter-widgets/controls",
       "_model_module_version": "1.5.0",
       "_model_name": "DescriptionStyleModel",
       "_view_count": null,
       "_view_module": "@jupyter-widgets/base",
       "_view_module_version": "1.2.0",
       "_view_name": "StyleView",
       "description_width": ""
      }
     },
     "ba7eb2fb85e84f43a0ac18778333974b": {
      "model_module": "@jupyter-widgets/controls",
      "model_module_version": "1.5.0",
      "model_name": "FloatProgressModel",
      "state": {
       "_dom_classes": [],
       "_model_module": "@jupyter-widgets/controls",
       "_model_module_version": "1.5.0",
       "_model_name": "FloatProgressModel",
       "_view_count": null,
       "_view_module": "@jupyter-widgets/controls",
       "_view_module_version": "1.5.0",
       "_view_name": "ProgressView",
       "bar_style": "success",
       "description": "",
       "description_tooltip": null,
       "layout": "IPY_MODEL_7b53d8a934174ee3a85017d751dc1fe9",
       "max": 1.0,
       "min": 0.0,
       "orientation": "horizontal",
       "style": "IPY_MODEL_056ea678fee945678bfeb0d06ff770b5",
       "value": 1.0
      }
     },
     "c4fa92cd43774cceaacdf243c6216652": {
      "model_module": "@jupyter-widgets/controls",
      "model_module_version": "1.5.0",
      "model_name": "DescriptionStyleModel",
      "state": {
       "_model_module": "@jupyter-widgets/controls",
       "_model_module_version": "1.5.0",
       "_model_name": "DescriptionStyleModel",
       "_view_count": null,
       "_view_module": "@jupyter-widgets/base",
       "_view_module_version": "1.2.0",
       "_view_name": "StyleView",
       "description_width": ""
      }
     },
     "cf057aee5ee44abe810d1ff5f24a3391": {
      "model_module": "@jupyter-widgets/base",
      "model_module_version": "1.2.0",
      "model_name": "LayoutModel",
      "state": {
       "_model_module": "@jupyter-widgets/base",
       "_model_module_version": "1.2.0",
       "_model_name": "LayoutModel",
       "_view_count": null,
       "_view_module": "@jupyter-widgets/base",
       "_view_module_version": "1.2.0",
       "_view_name": "LayoutView",
       "align_content": null,
       "align_items": null,
       "align_self": null,
       "border": null,
       "bottom": null,
       "display": null,
       "flex": null,
       "flex_flow": null,
       "grid_area": null,
       "grid_auto_columns": null,
       "grid_auto_flow": null,
       "grid_auto_rows": null,
       "grid_column": null,
       "grid_gap": null,
       "grid_row": null,
       "grid_template_areas": null,
       "grid_template_columns": null,
       "grid_template_rows": null,
       "height": null,
       "justify_content": null,
       "justify_items": null,
       "left": null,
       "margin": null,
       "max_height": null,
       "max_width": null,
       "min_height": null,
       "min_width": null,
       "object_fit": null,
       "object_position": null,
       "order": null,
       "overflow": null,
       "overflow_x": null,
       "overflow_y": null,
       "padding": null,
       "right": null,
       "top": null,
       "visibility": null,
       "width": null
      }
     },
     "cf5b14de7715499f949d18c9e5aab6f0": {
      "model_module": "@jupyter-widgets/controls",
      "model_module_version": "1.5.0",
      "model_name": "HTMLModel",
      "state": {
       "_dom_classes": [],
       "_model_module": "@jupyter-widgets/controls",
       "_model_module_version": "1.5.0",
       "_model_name": "HTMLModel",
       "_view_count": null,
       "_view_module": "@jupyter-widgets/controls",
       "_view_module_version": "1.5.0",
       "_view_name": "HTMLView",
       "description": "",
       "description_tooltip": null,
       "layout": "IPY_MODEL_689c6b2cbf4c4b3facacca84c4f7ad8b",
       "placeholder": "​",
       "style": "IPY_MODEL_8784f07f96384439a29104ceac6d82b1",
       "value": "EPOCH 4/5: "
      }
     },
     "d0e39a4d348c4a68b50aebba702666fa": {
      "model_module": "@jupyter-widgets/controls",
      "model_module_version": "1.5.0",
      "model_name": "HBoxModel",
      "state": {
       "_dom_classes": [],
       "_model_module": "@jupyter-widgets/controls",
       "_model_module_version": "1.5.0",
       "_model_name": "HBoxModel",
       "_view_count": null,
       "_view_module": "@jupyter-widgets/controls",
       "_view_module_version": "1.5.0",
       "_view_name": "HBoxView",
       "box_style": "",
       "children": [
        "IPY_MODEL_ffa53e997db0405b9d50dcf82aac73e4",
        "IPY_MODEL_a838d1ea60d34bdba3743abb834d3b99",
        "IPY_MODEL_8d3b3c27dd3c4dc9a05e7c4778263ee4"
       ],
       "layout": "IPY_MODEL_10185a9c9f674318a62c80da5f202e98"
      }
     },
     "d9a52af5b35a4219b4c9cbf18071b2ae": {
      "model_module": "@jupyter-widgets/base",
      "model_module_version": "1.2.0",
      "model_name": "LayoutModel",
      "state": {
       "_model_module": "@jupyter-widgets/base",
       "_model_module_version": "1.2.0",
       "_model_name": "LayoutModel",
       "_view_count": null,
       "_view_module": "@jupyter-widgets/base",
       "_view_module_version": "1.2.0",
       "_view_name": "LayoutView",
       "align_content": null,
       "align_items": null,
       "align_self": null,
       "border": null,
       "bottom": null,
       "display": null,
       "flex": null,
       "flex_flow": null,
       "grid_area": null,
       "grid_auto_columns": null,
       "grid_auto_flow": null,
       "grid_auto_rows": null,
       "grid_column": null,
       "grid_gap": null,
       "grid_row": null,
       "grid_template_areas": null,
       "grid_template_columns": null,
       "grid_template_rows": null,
       "height": null,
       "justify_content": null,
       "justify_items": null,
       "left": null,
       "margin": null,
       "max_height": null,
       "max_width": null,
       "min_height": null,
       "min_width": null,
       "object_fit": null,
       "object_position": null,
       "order": null,
       "overflow": null,
       "overflow_x": null,
       "overflow_y": null,
       "padding": null,
       "right": null,
       "top": null,
       "visibility": null,
       "width": null
      }
     },
     "db73518e0c534fc9a138fbf3dc2f5488": {
      "model_module": "@jupyter-widgets/controls",
      "model_module_version": "1.5.0",
      "model_name": "DescriptionStyleModel",
      "state": {
       "_model_module": "@jupyter-widgets/controls",
       "_model_module_version": "1.5.0",
       "_model_name": "DescriptionStyleModel",
       "_view_count": null,
       "_view_module": "@jupyter-widgets/base",
       "_view_module_version": "1.2.0",
       "_view_name": "StyleView",
       "description_width": ""
      }
     },
     "e8bee8dece7b4d03a32b9397816f8744": {
      "model_module": "@jupyter-widgets/controls",
      "model_module_version": "1.5.0",
      "model_name": "HBoxModel",
      "state": {
       "_dom_classes": [],
       "_model_module": "@jupyter-widgets/controls",
       "_model_module_version": "1.5.0",
       "_model_name": "HBoxModel",
       "_view_count": null,
       "_view_module": "@jupyter-widgets/controls",
       "_view_module_version": "1.5.0",
       "_view_name": "HBoxView",
       "box_style": "",
       "children": [
        "IPY_MODEL_7f22ca206d7745ba922ca4048d765b5e",
        "IPY_MODEL_f31306823d514364b8cf4e3a6e056da9",
        "IPY_MODEL_264d2ab6aaac42e8bb982d3cf478af2d"
       ],
       "layout": "IPY_MODEL_f1b395a013ad4118b5cf40cec2f2066c"
      }
     },
     "e8e9f9d15fd24c4a98bfdb1fc5f9bfcf": {
      "model_module": "@jupyter-widgets/base",
      "model_module_version": "1.2.0",
      "model_name": "LayoutModel",
      "state": {
       "_model_module": "@jupyter-widgets/base",
       "_model_module_version": "1.2.0",
       "_model_name": "LayoutModel",
       "_view_count": null,
       "_view_module": "@jupyter-widgets/base",
       "_view_module_version": "1.2.0",
       "_view_name": "LayoutView",
       "align_content": null,
       "align_items": null,
       "align_self": null,
       "border": null,
       "bottom": null,
       "display": null,
       "flex": null,
       "flex_flow": null,
       "grid_area": null,
       "grid_auto_columns": null,
       "grid_auto_flow": null,
       "grid_auto_rows": null,
       "grid_column": null,
       "grid_gap": null,
       "grid_row": null,
       "grid_template_areas": null,
       "grid_template_columns": null,
       "grid_template_rows": null,
       "height": null,
       "justify_content": null,
       "justify_items": null,
       "left": null,
       "margin": null,
       "max_height": null,
       "max_width": null,
       "min_height": null,
       "min_width": null,
       "object_fit": null,
       "object_position": null,
       "order": null,
       "overflow": null,
       "overflow_x": null,
       "overflow_y": null,
       "padding": null,
       "right": null,
       "top": null,
       "visibility": null,
       "width": null
      }
     },
     "e9a4b5513db1407b95d7f7834db5c094": {
      "model_module": "@jupyter-widgets/controls",
      "model_module_version": "1.5.0",
      "model_name": "FloatProgressModel",
      "state": {
       "_dom_classes": [],
       "_model_module": "@jupyter-widgets/controls",
       "_model_module_version": "1.5.0",
       "_model_name": "FloatProgressModel",
       "_view_count": null,
       "_view_module": "@jupyter-widgets/controls",
       "_view_module_version": "1.5.0",
       "_view_name": "ProgressView",
       "bar_style": "success",
       "description": "",
       "description_tooltip": null,
       "layout": "IPY_MODEL_41f261c4b1d848d296dc79ae9662a590",
       "max": 1.0,
       "min": 0.0,
       "orientation": "horizontal",
       "style": "IPY_MODEL_8d46a0c79d564c00b42e929b1f016b53",
       "value": 1.0
      }
     },
     "eae237a128534f1d9bed8a4c71789b9f": {
      "model_module": "@jupyter-widgets/base",
      "model_module_version": "1.2.0",
      "model_name": "LayoutModel",
      "state": {
       "_model_module": "@jupyter-widgets/base",
       "_model_module_version": "1.2.0",
       "_model_name": "LayoutModel",
       "_view_count": null,
       "_view_module": "@jupyter-widgets/base",
       "_view_module_version": "1.2.0",
       "_view_name": "LayoutView",
       "align_content": null,
       "align_items": null,
       "align_self": null,
       "border": null,
       "bottom": null,
       "display": null,
       "flex": null,
       "flex_flow": null,
       "grid_area": null,
       "grid_auto_columns": null,
       "grid_auto_flow": null,
       "grid_auto_rows": null,
       "grid_column": null,
       "grid_gap": null,
       "grid_row": null,
       "grid_template_areas": null,
       "grid_template_columns": null,
       "grid_template_rows": null,
       "height": null,
       "justify_content": null,
       "justify_items": null,
       "left": null,
       "margin": null,
       "max_height": null,
       "max_width": null,
       "min_height": null,
       "min_width": null,
       "object_fit": null,
       "object_position": null,
       "order": null,
       "overflow": null,
       "overflow_x": null,
       "overflow_y": null,
       "padding": null,
       "right": null,
       "top": null,
       "visibility": null,
       "width": null
      }
     },
     "ecb25ec407b74aab9d001d1dc71af35f": {
      "model_module": "@jupyter-widgets/base",
      "model_module_version": "1.2.0",
      "model_name": "LayoutModel",
      "state": {
       "_model_module": "@jupyter-widgets/base",
       "_model_module_version": "1.2.0",
       "_model_name": "LayoutModel",
       "_view_count": null,
       "_view_module": "@jupyter-widgets/base",
       "_view_module_version": "1.2.0",
       "_view_name": "LayoutView",
       "align_content": null,
       "align_items": null,
       "align_self": null,
       "border": null,
       "bottom": null,
       "display": null,
       "flex": null,
       "flex_flow": null,
       "grid_area": null,
       "grid_auto_columns": null,
       "grid_auto_flow": null,
       "grid_auto_rows": null,
       "grid_column": null,
       "grid_gap": null,
       "grid_row": null,
       "grid_template_areas": null,
       "grid_template_columns": null,
       "grid_template_rows": null,
       "height": null,
       "justify_content": null,
       "justify_items": null,
       "left": null,
       "margin": null,
       "max_height": null,
       "max_width": null,
       "min_height": null,
       "min_width": null,
       "object_fit": null,
       "object_position": null,
       "order": null,
       "overflow": null,
       "overflow_x": null,
       "overflow_y": null,
       "padding": null,
       "right": null,
       "top": null,
       "visibility": null,
       "width": null
      }
     },
     "ee4478d46f6445efb48fbbe16126f493": {
      "model_module": "@jupyter-widgets/base",
      "model_module_version": "1.2.0",
      "model_name": "LayoutModel",
      "state": {
       "_model_module": "@jupyter-widgets/base",
       "_model_module_version": "1.2.0",
       "_model_name": "LayoutModel",
       "_view_count": null,
       "_view_module": "@jupyter-widgets/base",
       "_view_module_version": "1.2.0",
       "_view_name": "LayoutView",
       "align_content": null,
       "align_items": null,
       "align_self": null,
       "border": null,
       "bottom": null,
       "display": null,
       "flex": null,
       "flex_flow": null,
       "grid_area": null,
       "grid_auto_columns": null,
       "grid_auto_flow": null,
       "grid_auto_rows": null,
       "grid_column": null,
       "grid_gap": null,
       "grid_row": null,
       "grid_template_areas": null,
       "grid_template_columns": null,
       "grid_template_rows": null,
       "height": null,
       "justify_content": null,
       "justify_items": null,
       "left": null,
       "margin": null,
       "max_height": null,
       "max_width": null,
       "min_height": null,
       "min_width": null,
       "object_fit": null,
       "object_position": null,
       "order": null,
       "overflow": null,
       "overflow_x": null,
       "overflow_y": null,
       "padding": null,
       "right": null,
       "top": null,
       "visibility": null,
       "width": null
      }
     },
     "f1b395a013ad4118b5cf40cec2f2066c": {
      "model_module": "@jupyter-widgets/base",
      "model_module_version": "1.2.0",
      "model_name": "LayoutModel",
      "state": {
       "_model_module": "@jupyter-widgets/base",
       "_model_module_version": "1.2.0",
       "_model_name": "LayoutModel",
       "_view_count": null,
       "_view_module": "@jupyter-widgets/base",
       "_view_module_version": "1.2.0",
       "_view_name": "LayoutView",
       "align_content": null,
       "align_items": null,
       "align_self": null,
       "border": null,
       "bottom": null,
       "display": null,
       "flex": null,
       "flex_flow": null,
       "grid_area": null,
       "grid_auto_columns": null,
       "grid_auto_flow": null,
       "grid_auto_rows": null,
       "grid_column": null,
       "grid_gap": null,
       "grid_row": null,
       "grid_template_areas": null,
       "grid_template_columns": null,
       "grid_template_rows": null,
       "height": null,
       "justify_content": null,
       "justify_items": null,
       "left": null,
       "margin": null,
       "max_height": null,
       "max_width": null,
       "min_height": null,
       "min_width": null,
       "object_fit": null,
       "object_position": null,
       "order": null,
       "overflow": null,
       "overflow_x": null,
       "overflow_y": null,
       "padding": null,
       "right": null,
       "top": null,
       "visibility": null,
       "width": null
      }
     },
     "f31306823d514364b8cf4e3a6e056da9": {
      "model_module": "@jupyter-widgets/controls",
      "model_module_version": "1.5.0",
      "model_name": "FloatProgressModel",
      "state": {
       "_dom_classes": [],
       "_model_module": "@jupyter-widgets/controls",
       "_model_module_version": "1.5.0",
       "_model_name": "FloatProgressModel",
       "_view_count": null,
       "_view_module": "@jupyter-widgets/controls",
       "_view_module_version": "1.5.0",
       "_view_name": "ProgressView",
       "bar_style": "success",
       "description": "",
       "description_tooltip": null,
       "layout": "IPY_MODEL_a35d3dbd71de4ee392e63dbab2365f62",
       "max": 1.0,
       "min": 0.0,
       "orientation": "horizontal",
       "style": "IPY_MODEL_7e798d8585ba4d629e032442a6763d94",
       "value": 1.0
      }
     },
     "f5bd0e0015fc4d8dabf6dc0e0d97dd1d": {
      "model_module": "@jupyter-widgets/base",
      "model_module_version": "1.2.0",
      "model_name": "LayoutModel",
      "state": {
       "_model_module": "@jupyter-widgets/base",
       "_model_module_version": "1.2.0",
       "_model_name": "LayoutModel",
       "_view_count": null,
       "_view_module": "@jupyter-widgets/base",
       "_view_module_version": "1.2.0",
       "_view_name": "LayoutView",
       "align_content": null,
       "align_items": null,
       "align_self": null,
       "border": null,
       "bottom": null,
       "display": null,
       "flex": null,
       "flex_flow": null,
       "grid_area": null,
       "grid_auto_columns": null,
       "grid_auto_flow": null,
       "grid_auto_rows": null,
       "grid_column": null,
       "grid_gap": null,
       "grid_row": null,
       "grid_template_areas": null,
       "grid_template_columns": null,
       "grid_template_rows": null,
       "height": null,
       "justify_content": null,
       "justify_items": null,
       "left": null,
       "margin": null,
       "max_height": null,
       "max_width": null,
       "min_height": null,
       "min_width": null,
       "object_fit": null,
       "object_position": null,
       "order": null,
       "overflow": null,
       "overflow_x": null,
       "overflow_y": null,
       "padding": null,
       "right": null,
       "top": null,
       "visibility": null,
       "width": null
      }
     },
     "ffa53e997db0405b9d50dcf82aac73e4": {
      "model_module": "@jupyter-widgets/controls",
      "model_module_version": "1.5.0",
      "model_name": "HTMLModel",
      "state": {
       "_dom_classes": [],
       "_model_module": "@jupyter-widgets/controls",
       "_model_module_version": "1.5.0",
       "_model_name": "HTMLModel",
       "_view_count": null,
       "_view_module": "@jupyter-widgets/controls",
       "_view_module_version": "1.5.0",
       "_view_name": "HTMLView",
       "description": "",
       "description_tooltip": null,
       "layout": "IPY_MODEL_d9a52af5b35a4219b4c9cbf18071b2ae",
       "placeholder": "​",
       "style": "IPY_MODEL_c4fa92cd43774cceaacdf243c6216652",
       "value": "EPOCH 2/5: "
      }
     }
    },
    "version_major": 2,
    "version_minor": 0
   }
  }
 },
 "nbformat": 4,
 "nbformat_minor": 5
}
