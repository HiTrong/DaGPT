{
 "cells": [
  {
   "cell_type": "markdown",
   "id": "d69e54d9",
   "metadata": {
    "papermill": {
     "duration": 0.007342,
     "end_time": "2024-10-12T07:28:39.981933",
     "exception": false,
     "start_time": "2024-10-12T07:28:39.974591",
     "status": "completed"
    },
    "tags": []
   },
   "source": [
    "# Import Library"
   ]
  },
  {
   "cell_type": "code",
   "execution_count": 1,
   "id": "e61178c8",
   "metadata": {
    "execution": {
     "iopub.execute_input": "2024-10-12T07:28:39.996936Z",
     "iopub.status.busy": "2024-10-12T07:28:39.996199Z",
     "iopub.status.idle": "2024-10-12T07:28:55.014147Z",
     "shell.execute_reply": "2024-10-12T07:28:55.013171Z"
    },
    "papermill": {
     "duration": 15.027818,
     "end_time": "2024-10-12T07:28:55.016357",
     "exception": false,
     "start_time": "2024-10-12T07:28:39.988539",
     "status": "completed"
    },
    "tags": []
   },
   "outputs": [
    {
     "name": "stdout",
     "output_type": "stream",
     "text": [
      "Collecting rouge_score\r\n",
      "  Downloading rouge_score-0.1.2.tar.gz (17 kB)\r\n",
      "  Preparing metadata (setup.py) ... \u001b[?25l-\b \bdone\r\n",
      "\u001b[?25hRequirement already satisfied: absl-py in /opt/conda/lib/python3.10/site-packages (from rouge_score) (1.4.0)\r\n",
      "Requirement already satisfied: nltk in /opt/conda/lib/python3.10/site-packages (from rouge_score) (3.2.4)\r\n",
      "Requirement already satisfied: numpy in /opt/conda/lib/python3.10/site-packages (from rouge_score) (1.26.4)\r\n",
      "Requirement already satisfied: six>=1.14.0 in /opt/conda/lib/python3.10/site-packages (from rouge_score) (1.16.0)\r\n",
      "Building wheels for collected packages: rouge_score\r\n",
      "  Building wheel for rouge_score (setup.py) ... \u001b[?25l-\b \b\\\b \bdone\r\n",
      "\u001b[?25h  Created wheel for rouge_score: filename=rouge_score-0.1.2-py3-none-any.whl size=24934 sha256=1c1bc8cdec5fd1d32a392ade8964f3f65c5a049c2a9188e33d142611be21f1ed\r\n",
      "  Stored in directory: /root/.cache/pip/wheels/5f/dd/89/461065a73be61a532ff8599a28e9beef17985c9e9c31e541b4\r\n",
      "Successfully built rouge_score\r\n",
      "Installing collected packages: rouge_score\r\n",
      "Successfully installed rouge_score-0.1.2\r\n"
     ]
    }
   ],
   "source": [
    "!pip install rouge_score"
   ]
  },
  {
   "cell_type": "code",
   "execution_count": 2,
   "id": "42a4addc",
   "metadata": {
    "execution": {
     "iopub.execute_input": "2024-10-12T07:28:55.034042Z",
     "iopub.status.busy": "2024-10-12T07:28:55.033679Z",
     "iopub.status.idle": "2024-10-12T07:29:01.105827Z",
     "shell.execute_reply": "2024-10-12T07:29:01.104983Z"
    },
    "papermill": {
     "duration": 6.084212,
     "end_time": "2024-10-12T07:29:01.108264",
     "exception": false,
     "start_time": "2024-10-12T07:28:55.024052",
     "status": "completed"
    },
    "tags": []
   },
   "outputs": [],
   "source": [
    "import numpy as np\n",
    "import pandas as pd\n",
    "\n",
    "from tokenizers import Tokenizer\n",
    "import json\n",
    "import os\n",
    "import math\n",
    "from tqdm.auto import tqdm\n",
    "\n",
    "import nltk\n",
    "from nltk.translate.bleu_score import sentence_bleu\n",
    "from rouge_score import rouge_scorer\n",
    "\n",
    "from torch.nn.modules.transformer import _generate_square_subsequent_mask\n",
    "from torch.utils.data import Dataset, DataLoader\n",
    "import torch\n",
    "import torch.nn as nn"
   ]
  },
  {
   "cell_type": "markdown",
   "id": "dc965c58",
   "metadata": {
    "papermill": {
     "duration": 0.007106,
     "end_time": "2024-10-12T07:29:01.123041",
     "exception": false,
     "start_time": "2024-10-12T07:29:01.115935",
     "status": "completed"
    },
    "tags": []
   },
   "source": [
    "# Load DaTokenizer"
   ]
  },
  {
   "cell_type": "code",
   "execution_count": 3,
   "id": "ff382c5f",
   "metadata": {
    "execution": {
     "iopub.execute_input": "2024-10-12T07:29:01.139494Z",
     "iopub.status.busy": "2024-10-12T07:29:01.138500Z",
     "iopub.status.idle": "2024-10-12T07:29:01.209131Z",
     "shell.execute_reply": "2024-10-12T07:29:01.208217Z"
    },
    "papermill": {
     "duration": 0.080901,
     "end_time": "2024-10-12T07:29:01.211225",
     "exception": false,
     "start_time": "2024-10-12T07:29:01.130324",
     "status": "completed"
    },
    "tags": []
   },
   "outputs": [
    {
     "name": "stdout",
     "output_type": "stream",
     "text": [
      "Encoded IDs: [1559, 1647, 1827, 999, 1267, 990, 997, 1025, 1821]\n",
      "Decoded Text: Viêm nang lông thường thấy khi da bị ...\n"
     ]
    }
   ],
   "source": [
    "tokenizer = Tokenizer.from_file(\"/kaggle/input/datokenizer/other/default/1/tokenizer.json\")\n",
    "\n",
    "# Sample use\n",
    "encoded = tokenizer.encode(\"Viêm nang lông thường thấy khi da bị ...\")\n",
    "decoded = tokenizer.decode(encoded.ids, skip_special_tokens=False)\n",
    "\n",
    "print(\"Encoded IDs:\", encoded.ids)\n",
    "print(\"Decoded Text:\", decoded)"
   ]
  },
  {
   "cell_type": "markdown",
   "id": "c83cf82e",
   "metadata": {
    "papermill": {
     "duration": 0.007211,
     "end_time": "2024-10-12T07:29:01.225894",
     "exception": false,
     "start_time": "2024-10-12T07:29:01.218683",
     "status": "completed"
    },
    "tags": []
   },
   "source": [
    "# Load CSV"
   ]
  },
  {
   "cell_type": "code",
   "execution_count": 4,
   "id": "2d0d7adc",
   "metadata": {
    "execution": {
     "iopub.execute_input": "2024-10-12T07:29:01.242026Z",
     "iopub.status.busy": "2024-10-12T07:29:01.241291Z",
     "iopub.status.idle": "2024-10-12T07:29:04.331371Z",
     "shell.execute_reply": "2024-10-12T07:29:04.330495Z"
    },
    "papermill": {
     "duration": 3.100201,
     "end_time": "2024-10-12T07:29:04.333358",
     "exception": false,
     "start_time": "2024-10-12T07:29:01.233157",
     "status": "completed"
    },
    "tags": []
   },
   "outputs": [
    {
     "data": {
      "text/html": [
       "<div>\n",
       "<style scoped>\n",
       "    .dataframe tbody tr th:only-of-type {\n",
       "        vertical-align: middle;\n",
       "    }\n",
       "\n",
       "    .dataframe tbody tr th {\n",
       "        vertical-align: top;\n",
       "    }\n",
       "\n",
       "    .dataframe thead th {\n",
       "        text-align: right;\n",
       "    }\n",
       "</style>\n",
       "<table border=\"1\" class=\"dataframe\">\n",
       "  <thead>\n",
       "    <tr style=\"text-align: right;\">\n",
       "      <th></th>\n",
       "      <th>text</th>\n",
       "    </tr>\n",
       "  </thead>\n",
       "  <tbody>\n",
       "    <tr>\n",
       "      <th>0</th>\n",
       "      <td>Theo báo cáo của Tổ chức Y tế Thế giới, tim mạ...</td>\n",
       "    </tr>\n",
       "    <tr>\n",
       "      <th>1</th>\n",
       "      <td>Các serovars khác nhau của Chlamydia trachomat...</td>\n",
       "    </tr>\n",
       "  </tbody>\n",
       "</table>\n",
       "</div>"
      ],
      "text/plain": [
       "                                                text\n",
       "0  Theo báo cáo của Tổ chức Y tế Thế giới, tim mạ...\n",
       "1  Các serovars khác nhau của Chlamydia trachomat..."
      ]
     },
     "execution_count": 4,
     "metadata": {},
     "output_type": "execute_result"
    }
   ],
   "source": [
    "df_train = pd.read_csv(\"/kaggle/input/dataset-for-dagpt/pretrain_data.csv\")\n",
    "df_train.head(2)"
   ]
  },
  {
   "cell_type": "code",
   "execution_count": 5,
   "id": "dea21ef6",
   "metadata": {
    "execution": {
     "iopub.execute_input": "2024-10-12T07:29:04.350706Z",
     "iopub.status.busy": "2024-10-12T07:29:04.349947Z",
     "iopub.status.idle": "2024-10-12T07:29:04.723930Z",
     "shell.execute_reply": "2024-10-12T07:29:04.722971Z"
    },
    "papermill": {
     "duration": 0.384914,
     "end_time": "2024-10-12T07:29:04.726176",
     "exception": false,
     "start_time": "2024-10-12T07:29:04.341262",
     "status": "completed"
    },
    "tags": []
   },
   "outputs": [
    {
     "data": {
      "text/html": [
       "<div>\n",
       "<style scoped>\n",
       "    .dataframe tbody tr th:only-of-type {\n",
       "        vertical-align: middle;\n",
       "    }\n",
       "\n",
       "    .dataframe tbody tr th {\n",
       "        vertical-align: top;\n",
       "    }\n",
       "\n",
       "    .dataframe thead th {\n",
       "        text-align: right;\n",
       "    }\n",
       "</style>\n",
       "<table border=\"1\" class=\"dataframe\">\n",
       "  <thead>\n",
       "    <tr style=\"text-align: right;\">\n",
       "      <th></th>\n",
       "      <th>text</th>\n",
       "    </tr>\n",
       "  </thead>\n",
       "  <tbody>\n",
       "    <tr>\n",
       "      <th>0</th>\n",
       "      <td>Bệnh ghẻ, một căn bệnh da liễu khá phổ biến, t...</td>\n",
       "    </tr>\n",
       "    <tr>\n",
       "      <th>1</th>\n",
       "      <td>Sinh thiết là một xét nghiệm quan trọng trong ...</td>\n",
       "    </tr>\n",
       "  </tbody>\n",
       "</table>\n",
       "</div>"
      ],
      "text/plain": [
       "                                                text\n",
       "0  Bệnh ghẻ, một căn bệnh da liễu khá phổ biến, t...\n",
       "1  Sinh thiết là một xét nghiệm quan trọng trong ..."
      ]
     },
     "execution_count": 5,
     "metadata": {},
     "output_type": "execute_result"
    }
   ],
   "source": [
    "df_test = pd.read_csv(\"/kaggle/input/dataset-for-dagpt/pretrain_test.csv\")\n",
    "df_test.head(2)"
   ]
  },
  {
   "cell_type": "markdown",
   "id": "d8240023",
   "metadata": {
    "papermill": {
     "duration": 0.008077,
     "end_time": "2024-10-12T07:29:04.742676",
     "exception": false,
     "start_time": "2024-10-12T07:29:04.734599",
     "status": "completed"
    },
    "tags": []
   },
   "source": [
    "# Preprocessing Data & Building Dataset"
   ]
  },
  {
   "cell_type": "markdown",
   "id": "1fa70a6e",
   "metadata": {
    "papermill": {
     "duration": 0.007749,
     "end_time": "2024-10-12T07:29:04.758400",
     "exception": false,
     "start_time": "2024-10-12T07:29:04.750651",
     "status": "completed"
    },
    "tags": []
   },
   "source": [
    "Data đã được xử lí một số trước đó, nên hiện tại ta chỉ thay kí tự xuống hàng thành ký tự đặc biệt `NEWLINE` và tokenize"
   ]
  },
  {
   "cell_type": "code",
   "execution_count": 6,
   "id": "2e49d8b4",
   "metadata": {
    "execution": {
     "iopub.execute_input": "2024-10-12T07:29:04.775282Z",
     "iopub.status.busy": "2024-10-12T07:29:04.774644Z",
     "iopub.status.idle": "2024-10-12T07:29:04.779015Z",
     "shell.execute_reply": "2024-10-12T07:29:04.778208Z"
    },
    "papermill": {
     "duration": 0.014867,
     "end_time": "2024-10-12T07:29:04.780907",
     "exception": false,
     "start_time": "2024-10-12T07:29:04.766040",
     "status": "completed"
    },
    "tags": []
   },
   "outputs": [],
   "source": [
    "def preprocessing_str(s):\n",
    "    return tokenizer.encode(s.replace(\"\\n\",\"[NEWLINE]\")).ids"
   ]
  },
  {
   "cell_type": "code",
   "execution_count": 7,
   "id": "263802f8",
   "metadata": {
    "execution": {
     "iopub.execute_input": "2024-10-12T07:29:04.797609Z",
     "iopub.status.busy": "2024-10-12T07:29:04.797327Z",
     "iopub.status.idle": "2024-10-12T07:29:04.805257Z",
     "shell.execute_reply": "2024-10-12T07:29:04.804420Z"
    },
    "papermill": {
     "duration": 0.018496,
     "end_time": "2024-10-12T07:29:04.807085",
     "exception": false,
     "start_time": "2024-10-12T07:29:04.788589",
     "status": "completed"
    },
    "tags": []
   },
   "outputs": [],
   "source": [
    "class MyDataset(Dataset):\n",
    "    def __init__(self, df, max_len=256):\n",
    "        self.data = []\n",
    "        self.label = []\n",
    "        for text in df['text']:\n",
    "            checked = True\n",
    "            tokens = preprocessing_str(text)\n",
    "            while len(tokens) <= max_len:\n",
    "                checked = False\n",
    "                tokens = tokens + [tokenizer.token_to_id(\"[PAD]\")]\n",
    "\n",
    "            for i in range(0, len(tokens)- max_len, max_len):\n",
    "                self.data.append(tokens[i:i+max_len])\n",
    "                self.label.append(tokens[i+1:i+1+max_len])\n",
    "                \n",
    "    def __len__(self):\n",
    "        return len(self.data)\n",
    "\n",
    "    def __getitem__(self, idx):\n",
    "        return torch.tensor(self.data[idx], dtype=torch.long), torch.tensor(self.label[idx], dtype=torch.long)"
   ]
  },
  {
   "cell_type": "code",
   "execution_count": 8,
   "id": "cafa91c7",
   "metadata": {
    "execution": {
     "iopub.execute_input": "2024-10-12T07:29:04.823747Z",
     "iopub.status.busy": "2024-10-12T07:29:04.823213Z",
     "iopub.status.idle": "2024-10-12T07:29:49.112952Z",
     "shell.execute_reply": "2024-10-12T07:29:49.111943Z"
    },
    "papermill": {
     "duration": 44.307678,
     "end_time": "2024-10-12T07:29:49.122401",
     "exception": false,
     "start_time": "2024-10-12T07:29:04.814723",
     "status": "completed"
    },
    "tags": []
   },
   "outputs": [
    {
     "data": {
      "text/plain": [
       "83805"
      ]
     },
     "execution_count": 8,
     "metadata": {},
     "output_type": "execute_result"
    }
   ],
   "source": [
    "data_train = MyDataset(df_train)\n",
    "len(data_train)"
   ]
  },
  {
   "cell_type": "markdown",
   "id": "caa6eb4f",
   "metadata": {
    "papermill": {
     "duration": 0.007605,
     "end_time": "2024-10-12T07:29:49.137879",
     "exception": false,
     "start_time": "2024-10-12T07:29:49.130274",
     "status": "completed"
    },
    "tags": []
   },
   "source": [
    "# Model Setup"
   ]
  },
  {
   "cell_type": "code",
   "execution_count": 9,
   "id": "e0a21672",
   "metadata": {
    "execution": {
     "iopub.execute_input": "2024-10-12T07:29:49.154911Z",
     "iopub.status.busy": "2024-10-12T07:29:49.154563Z",
     "iopub.status.idle": "2024-10-12T07:29:49.614435Z",
     "shell.execute_reply": "2024-10-12T07:29:49.613405Z"
    },
    "papermill": {
     "duration": 0.470885,
     "end_time": "2024-10-12T07:29:49.616531",
     "exception": false,
     "start_time": "2024-10-12T07:29:49.145646",
     "status": "completed"
    },
    "tags": []
   },
   "outputs": [],
   "source": [
    "class TokenEmbedding(nn.Module):\n",
    "    \n",
    "    def __init__(self, vocab_size:int, d_model:int):\n",
    "        super(TokenEmbedding, self).__init__()\n",
    "        self.embedding_layer = nn.Embedding(vocab_size, d_model)\n",
    "        self.d_model = d_model\n",
    "    \n",
    "    def forward(self, tokens: torch.Tensor):\n",
    "        return self.embedding_layer(tokens.long()) * math.sqrt(self.d_model)\n",
    "    \n",
    "class PositionalEncoding(nn.Module):\n",
    "    \n",
    "    def __init__(self, max_length_seq:int, d_model:int, dropout_rate:float):\n",
    "        super(PositionalEncoding, self).__init__()\n",
    "        den = torch.exp(- torch.arange(0, d_model, 2)* math.log(10000) / d_model)\n",
    "        pos = torch.arange(0, max_length_seq).reshape(max_length_seq, 1)\n",
    "        PE = torch.zeros((max_length_seq, d_model))\n",
    "        PE[:, 0::2] = torch.sin(pos * den)\n",
    "        PE[:, 1::2] = torch.cos(pos * den)\n",
    "        PE = PE.unsqueeze(-2)\n",
    "        self.register_buffer(\"PE\", PE)\n",
    "        self.dropout_layer = nn.Dropout(dropout_rate)\n",
    "        \n",
    "    def forward(self, token_embedding: torch.Tensor):\n",
    "        return self.dropout_layer(token_embedding + self.PE[:token_embedding.size(0), :])\n",
    "    \n",
    "class DecoderOnlyBlock(nn.Module):\n",
    "    \n",
    "    def __init__(self, d_model, num_heads, d_ff,dropout_rate=0.0, batch_first=True):\n",
    "        super(DecoderOnlyBlock, self).__init__()\n",
    "        \n",
    "        # Masked Multihead Attention\n",
    "        self.mmha = nn.MultiheadAttention(embed_dim=d_model, num_heads=num_heads, dropout=dropout_rate, batch_first=batch_first)\n",
    "        \n",
    "        # Normalize 1\n",
    "        self.norm1 = nn.LayerNorm(normalized_shape= d_model, eps=1e-05, elementwise_affine=True, bias=True)\n",
    "        \n",
    "        # Feed forward\n",
    "        self.feed_forward = nn.Sequential(\n",
    "            nn.Linear(in_features=d_model, out_features=d_ff, bias=True),\n",
    "            nn.ReLU(),\n",
    "            nn.Linear(in_features=d_ff, out_features=d_model, bias=True),\n",
    "        )\n",
    "        \n",
    "        # Normalize 2\n",
    "        self.norm2 = nn.LayerNorm(normalized_shape= d_model, eps=1e-05, elementwise_affine=True, bias=True)\n",
    "        \n",
    "        # Dropout\n",
    "        self.dropout = nn.Dropout(dropout_rate)\n",
    "        \n",
    "        \n",
    "    def forward(self, x, attn_mask=None, key_padding_mask=None):\n",
    "        # Block 1\n",
    "        mmha_output, _ = self.mmha(query=x,\n",
    "                                   key=x,\n",
    "                                   value=x,\n",
    "                                   key_padding_mask=key_padding_mask, need_weights=False, \n",
    "                                   attn_mask=attn_mask, \n",
    "                                   average_attn_weights=True, is_causal=False)\n",
    "        \n",
    "        x = self.norm1(x + self.dropout(mmha_output))\n",
    "        \n",
    "        # Block 2\n",
    "        ff_output = self.feed_forward(x)\n",
    "        x = self.norm2(x + self.dropout(ff_output))\n",
    "        \n",
    "        return x"
   ]
  },
  {
   "cell_type": "code",
   "execution_count": 10,
   "id": "8797528c",
   "metadata": {
    "execution": {
     "iopub.execute_input": "2024-10-12T07:29:49.634245Z",
     "iopub.status.busy": "2024-10-12T07:29:49.633937Z",
     "iopub.status.idle": "2024-10-12T07:29:49.642296Z",
     "shell.execute_reply": "2024-10-12T07:29:49.641409Z"
    },
    "papermill": {
     "duration": 0.019423,
     "end_time": "2024-10-12T07:29:49.644449",
     "exception": false,
     "start_time": "2024-10-12T07:29:49.625026",
     "status": "completed"
    },
    "tags": []
   },
   "outputs": [],
   "source": [
    "class DaGPT(nn.Module):\n",
    "    def __init__(self, d_model, vocab_size, max_len_seq, num_heads, d_ff, num_of_block, dropout_rate=0.0, batch_first=True):\n",
    "        super(DaGPT, self).__init__()\n",
    "        self.token_embedding = TokenEmbedding(vocab_size, d_model)\n",
    "        self.position_embedding = PositionalEncoding(max_len_seq, d_model, dropout_rate)\n",
    "        self.dropout = nn.Dropout(dropout_rate)\n",
    "        \n",
    "        self.decoder_blocks = nn.ModuleList([\n",
    "            DecoderOnlyBlock(d_model=d_model, num_heads=num_heads, d_ff=d_ff,dropout_rate=dropout_rate, batch_first=batch_first) \n",
    "            for _ in range(num_of_block)\n",
    "        ])\n",
    "        \n",
    "        self.linear_out = nn.Linear(in_features=d_model, out_features=vocab_size, bias=True)\n",
    "        \n",
    "    def forward(self, x, attn_mask=None, key_padding_mask=None):\n",
    "        x = self.token_embedding(x)\n",
    "        x = self.position_embedding(x)\n",
    "        \n",
    "        for block in self.decoder_blocks:\n",
    "            x = block(x, attn_mask=attn_mask, key_padding_mask=key_padding_mask)\n",
    "            \n",
    "        logits = self.linear_out(x)\n",
    "        \n",
    "        return logits  "
   ]
  },
  {
   "cell_type": "code",
   "execution_count": 11,
   "id": "5f29052f",
   "metadata": {
    "execution": {
     "iopub.execute_input": "2024-10-12T07:29:49.661360Z",
     "iopub.status.busy": "2024-10-12T07:29:49.661085Z",
     "iopub.status.idle": "2024-10-12T07:29:51.492239Z",
     "shell.execute_reply": "2024-10-12T07:29:51.491072Z"
    },
    "papermill": {
     "duration": 1.84219,
     "end_time": "2024-10-12T07:29:51.494486",
     "exception": false,
     "start_time": "2024-10-12T07:29:49.652296",
     "status": "completed"
    },
    "tags": []
   },
   "outputs": [
    {
     "name": "stdout",
     "output_type": "stream",
     "text": [
      "Tổng số tham số: 208100494\n"
     ]
    }
   ],
   "source": [
    "model = DaGPT(d_model=768,\n",
    "               vocab_size=tokenizer.get_vocab_size(),\n",
    "               max_len_seq=256,\n",
    "               num_heads=16,\n",
    "               d_ff=3072, \n",
    "               num_of_block=24, \n",
    "               dropout_rate=0.1, \n",
    "               batch_first=True)\n",
    "\n",
    "total_params = sum(p.numel() for p in model.parameters())\n",
    "print(f\"Tổng số tham số: {total_params}\")"
   ]
  },
  {
   "cell_type": "code",
   "execution_count": 12,
   "id": "3a38fffb",
   "metadata": {
    "execution": {
     "iopub.execute_input": "2024-10-12T07:29:51.512680Z",
     "iopub.status.busy": "2024-10-12T07:29:51.511968Z",
     "iopub.status.idle": "2024-10-12T07:29:51.986672Z",
     "shell.execute_reply": "2024-10-12T07:29:51.985813Z"
    },
    "papermill": {
     "duration": 0.486117,
     "end_time": "2024-10-12T07:29:51.988841",
     "exception": false,
     "start_time": "2024-10-12T07:29:51.502724",
     "status": "completed"
    },
    "tags": []
   },
   "outputs": [
    {
     "data": {
      "text/plain": [
       "device(type='cuda')"
      ]
     },
     "execution_count": 12,
     "metadata": {},
     "output_type": "execute_result"
    }
   ],
   "source": [
    "device = torch.device(\"cuda\" if torch.cuda.is_available() else \"cpu\")\n",
    "model.to(device)\n",
    "device"
   ]
  },
  {
   "cell_type": "markdown",
   "id": "a609079b",
   "metadata": {
    "papermill": {
     "duration": 0.008075,
     "end_time": "2024-10-12T07:29:52.005301",
     "exception": false,
     "start_time": "2024-10-12T07:29:51.997226",
     "status": "completed"
    },
    "tags": []
   },
   "source": [
    "# Greedy Inference Function"
   ]
  },
  {
   "cell_type": "code",
   "execution_count": 13,
   "id": "c2d2f444",
   "metadata": {
    "execution": {
     "iopub.execute_input": "2024-10-12T07:29:52.022914Z",
     "iopub.status.busy": "2024-10-12T07:29:52.022151Z",
     "iopub.status.idle": "2024-10-12T07:29:52.029654Z",
     "shell.execute_reply": "2024-10-12T07:29:52.028812Z"
    },
    "papermill": {
     "duration": 0.018312,
     "end_time": "2024-10-12T07:29:52.031570",
     "exception": false,
     "start_time": "2024-10-12T07:29:52.013258",
     "status": "completed"
    },
    "tags": []
   },
   "outputs": [],
   "source": [
    "def greedy_inference(prompt, max_len_seq=256, max_len_gen=50, temperature=1):\n",
    "    model.eval()\n",
    "    result = []\n",
    "    with torch.no_grad():\n",
    "        tokens_idx = tokenizer.encode(prompt).ids\n",
    "        for i in range(max_len_gen):\n",
    "            tgt = torch.tensor(tokens_idx, dtype=torch.long).unsqueeze(0).to(device)\n",
    "            logits = model(tgt)\n",
    "            probs = torch.softmax(logits[:,-1,:] / temperature, dim=-1)\n",
    "            next_token = torch.argmax(probs, dim=-1).item()\n",
    "            result.append(next_token)\n",
    "            if len(tokens_idx) < max_len_seq:\n",
    "                tokens_idx = tokens_idx+[next_token] \n",
    "            else:\n",
    "                tokens_idx = tokens_idx[1:]+[next_token]\n",
    "        return tokenizer.decode(result)"
   ]
  },
  {
   "cell_type": "markdown",
   "id": "8a87fb57",
   "metadata": {
    "papermill": {
     "duration": 0.00782,
     "end_time": "2024-10-12T07:29:52.047337",
     "exception": false,
     "start_time": "2024-10-12T07:29:52.039517",
     "status": "completed"
    },
    "tags": []
   },
   "source": [
    "# Model Training"
   ]
  },
  {
   "cell_type": "code",
   "execution_count": 14,
   "id": "2701ad70",
   "metadata": {
    "execution": {
     "iopub.execute_input": "2024-10-12T07:29:52.064638Z",
     "iopub.status.busy": "2024-10-12T07:29:52.064379Z",
     "iopub.status.idle": "2024-10-12T07:29:53.220433Z",
     "shell.execute_reply": "2024-10-12T07:29:53.219672Z"
    },
    "papermill": {
     "duration": 1.167031,
     "end_time": "2024-10-12T07:29:53.222690",
     "exception": false,
     "start_time": "2024-10-12T07:29:52.055659",
     "status": "completed"
    },
    "tags": []
   },
   "outputs": [],
   "source": [
    "batch_size = 20\n",
    "max_len = 256\n",
    "epochs = 5\n",
    "\n",
    "# DataLoader\n",
    "train_loader = DataLoader(data_train, batch_size=batch_size, shuffle=True)\n",
    "len_loader = len(train_loader)  # Tính độ dài của DataLoader\n",
    "total_steps = epochs * len_loader\n",
    "\n",
    "# Optimize\n",
    "optimizer = torch.optim.AdamW(model.parameters(), lr=1e-5, betas=(0.9, 0.999), eps=1e-8)\n",
    "\n",
    "# Loss \n",
    "criterion = nn.CrossEntropyLoss(ignore_index=tokenizer.token_to_id(\"[PAD]\"))"
   ]
  },
  {
   "cell_type": "code",
   "execution_count": 15,
   "id": "d5b4882d",
   "metadata": {
    "execution": {
     "iopub.execute_input": "2024-10-12T07:29:53.240655Z",
     "iopub.status.busy": "2024-10-12T07:29:53.240228Z",
     "iopub.status.idle": "2024-10-12T14:06:02.471823Z",
     "shell.execute_reply": "2024-10-12T14:06:02.470845Z"
    },
    "papermill": {
     "duration": 23769.243073,
     "end_time": "2024-10-12T14:06:02.474172",
     "exception": false,
     "start_time": "2024-10-12T07:29:53.231099",
     "status": "completed"
    },
    "tags": []
   },
   "outputs": [
    {
     "data": {
      "application/vnd.jupyter.widget-view+json": {
       "model_id": "027284c622554ba4a7249e8fc12609f0",
       "version_major": 2,
       "version_minor": 0
      },
      "text/plain": [
       "EPOCH 1/5: 0it [00:00, ?it/s]"
      ]
     },
     "metadata": {},
     "output_type": "display_data"
    },
    {
     "name": "stdout",
     "output_type": "stream",
     "text": [
      "Final Loss: 5.311314072651045\n",
      "Test Greedy Inference: Theo báo cáo của | bệnh nhân . Bệnh nhân có thể được sử dụng thuốc . Các thuốc Các thuốc Các thuốc Các thuốc Các thuốc Các thuốc Các thuốc Các thuốc Các thuốc Các thuốc Các thuốc Các thuốc\n"
     ]
    },
    {
     "data": {
      "application/vnd.jupyter.widget-view+json": {
       "model_id": "d52b47c67d474475b0cfd8ce4c94141d",
       "version_major": 2,
       "version_minor": 0
      },
      "text/plain": [
       "EPOCH 2/5: 0it [00:00, ?it/s]"
      ]
     },
     "metadata": {},
     "output_type": "display_data"
    },
    {
     "name": "stdout",
     "output_type": "stream",
     "text": [
      "Final Loss: 4.373368770630767\n",
      "Test Greedy Inference: Theo báo cáo của | Bộ Y tế . 1 . 1 . 1 . 1 . 1 . 1 . 1 . 1 . 1 . 1 . 1 . 1 . 1 . 1 . 1 . 1 . 1 . 1 . 1 . 1 . 1\n"
     ]
    },
    {
     "data": {
      "application/vnd.jupyter.widget-view+json": {
       "model_id": "7062f690effe4f6ea3acbe8c4f7615cd",
       "version_major": 2,
       "version_minor": 0
      },
      "text/plain": [
       "EPOCH 3/5: 0it [00:00, ?it/s]"
      ]
     },
     "metadata": {},
     "output_type": "display_data"
    },
    {
     "name": "stdout",
     "output_type": "stream",
     "text": [
      "Final Loss: 4.043043113044952\n",
      "Test Greedy Inference: Theo báo cáo của | thuốc , thuốc , thuốc , thuốc , thuốc , thuốc , thuốc , thuốc , thuốc , thuốc , thuốc chống trầm cảm , thuốc chống trầm cảm , thuốc chống trầm cảm , thuốc chống trầm cảm , thuốc chống trầm cảm , thuốc chống trầm cảm ,\n"
     ]
    },
    {
     "data": {
      "application/vnd.jupyter.widget-view+json": {
       "model_id": "3664543f8ee34bf4859848d858cf02a2",
       "version_major": 2,
       "version_minor": 0
      },
      "text/plain": [
       "EPOCH 4/5: 0it [00:00, ?it/s]"
      ]
     },
     "metadata": {},
     "output_type": "display_data"
    },
    {
     "name": "stdout",
     "output_type": "stream",
     "text": [
      "Final Loss: 3.799244232321093\n",
      "Test Greedy Inference: Theo báo cáo của | Luật này , Bộ Y tế , Bộ Y tế . 1 . 2 . 2 . 2 . 2 . 2 . 2 . 2 . 3 . 3 . 4 . 4 . 4 .\n"
     ]
    },
    {
     "data": {
      "application/vnd.jupyter.widget-view+json": {
       "model_id": "516ffd4074c04d33886150aebd45a5cc",
       "version_major": 2,
       "version_minor": 0
      },
      "text/plain": [
       "EPOCH 5/5: 0it [00:00, ?it/s]"
      ]
     },
     "metadata": {},
     "output_type": "display_data"
    },
    {
     "name": "stdout",
     "output_type": "stream",
     "text": [
      "Final Loss: 3.6192425844123783\n",
      "Test Greedy Inference: Theo báo cáo của | Luật này , báo cáo của Luật này , báo cáo của Luật này , báo cáo của Luật này , báo cáo của Luật này , báo cáo của Luật này , báo cáo của Luật này , báo cáo của Luật này , báo cáo của Luật này\n"
     ]
    }
   ],
   "source": [
    "# Training\n",
    "for epoch in range(epochs):\n",
    "    model.train()\n",
    "\n",
    "    total_loss = 0\n",
    "    steps = 0\n",
    "\n",
    "    for i, batch in tqdm(enumerate(train_loader), desc=f\"EPOCH {epoch+1}/{epochs}\"):\n",
    "        data, label = batch\n",
    "        data, label = data.to(device), label.to(device)\n",
    "        data_padding_mask = (data == tokenizer.token_to_id(\"[PAD]\")).to(torch.float)\n",
    "        data_mmha_mask = _generate_square_subsequent_mask(data.size(1)).to(device)\n",
    "        \n",
    "        optimizer.zero_grad()\n",
    "\n",
    "        logits = model(data, data_mmha_mask, data_padding_mask)\n",
    "        \n",
    "        B, T, C = logits.shape\n",
    "        logits = logits.view(B*T, C)\n",
    "        label = label.view(B*T)\n",
    "\n",
    "        loss = criterion(logits, label)\n",
    "        total_loss += loss.item()\n",
    "\n",
    "        loss.backward()\n",
    "        optimizer.step()\n",
    "        steps += 1\n",
    "    \n",
    "    final_loss = total_loss / steps\n",
    "    print(f\"Final Loss: {final_loss}\")\n",
    "    print(\"Test Greedy Inference: Theo báo cáo của | \",end=\"\")\n",
    "    print(greedy_inference(\"Theo báo cáo của\"))"
   ]
  },
  {
   "cell_type": "markdown",
   "id": "37019b49",
   "metadata": {
    "papermill": {
     "duration": 0.00959,
     "end_time": "2024-10-12T14:06:02.493675",
     "exception": false,
     "start_time": "2024-10-12T14:06:02.484085",
     "status": "completed"
    },
    "tags": []
   },
   "source": [
    "# Save model weights"
   ]
  },
  {
   "cell_type": "code",
   "execution_count": 16,
   "id": "f39f45a4",
   "metadata": {
    "execution": {
     "iopub.execute_input": "2024-10-12T14:06:02.515194Z",
     "iopub.status.busy": "2024-10-12T14:06:02.514555Z",
     "iopub.status.idle": "2024-10-12T14:06:03.701621Z",
     "shell.execute_reply": "2024-10-12T14:06:03.700821Z"
    },
    "papermill": {
     "duration": 1.200554,
     "end_time": "2024-10-12T14:06:03.703944",
     "exception": false,
     "start_time": "2024-10-12T14:06:02.503390",
     "status": "completed"
    },
    "tags": []
   },
   "outputs": [],
   "source": [
    "torch.save(model.state_dict(), '/kaggle/working/model_weights.pth')"
   ]
  },
  {
   "cell_type": "code",
   "execution_count": null,
   "id": "c41daf1e",
   "metadata": {
    "papermill": {
     "duration": 0.009728,
     "end_time": "2024-10-12T14:06:03.723885",
     "exception": false,
     "start_time": "2024-10-12T14:06:03.714157",
     "status": "completed"
    },
    "tags": []
   },
   "outputs": [],
   "source": []
  }
 ],
 "metadata": {
  "kaggle": {
   "accelerator": "gpu",
   "dataSources": [
    {
     "datasetId": 5853334,
     "sourceId": 9603094,
     "sourceType": "datasetVersion"
    },
    {
     "isSourceIdPinned": true,
     "modelId": 136861,
     "modelInstanceId": 113562,
     "sourceId": 134279,
     "sourceType": "modelInstanceVersion"
    }
   ],
   "dockerImageVersionId": 30786,
   "isGpuEnabled": true,
   "isInternetEnabled": true,
   "language": "python",
   "sourceType": "notebook"
  },
  "kernelspec": {
   "display_name": "Python 3",
   "language": "python",
   "name": "python3"
  },
  "language_info": {
   "codemirror_mode": {
    "name": "ipython",
    "version": 3
   },
   "file_extension": ".py",
   "mimetype": "text/x-python",
   "name": "python",
   "nbconvert_exporter": "python",
   "pygments_lexer": "ipython3",
   "version": "3.10.14"
  },
  "papermill": {
   "default_parameters": {},
   "duration": 23849.922118,
   "end_time": "2024-10-12T14:06:07.253325",
   "environment_variables": {},
   "exception": null,
   "input_path": "__notebook__.ipynb",
   "output_path": "__notebook__.ipynb",
   "parameters": {},
   "start_time": "2024-10-12T07:28:37.331207",
   "version": "2.6.0"
  },
  "widgets": {
   "application/vnd.jupyter.widget-state+json": {
    "state": {
     "002a390c759840c0acfd6fe4ee965ff7": {
      "model_module": "@jupyter-widgets/base",
      "model_module_version": "1.2.0",
      "model_name": "LayoutModel",
      "state": {
       "_model_module": "@jupyter-widgets/base",
       "_model_module_version": "1.2.0",
       "_model_name": "LayoutModel",
       "_view_count": null,
       "_view_module": "@jupyter-widgets/base",
       "_view_module_version": "1.2.0",
       "_view_name": "LayoutView",
       "align_content": null,
       "align_items": null,
       "align_self": null,
       "border": null,
       "bottom": null,
       "display": null,
       "flex": null,
       "flex_flow": null,
       "grid_area": null,
       "grid_auto_columns": null,
       "grid_auto_flow": null,
       "grid_auto_rows": null,
       "grid_column": null,
       "grid_gap": null,
       "grid_row": null,
       "grid_template_areas": null,
       "grid_template_columns": null,
       "grid_template_rows": null,
       "height": null,
       "justify_content": null,
       "justify_items": null,
       "left": null,
       "margin": null,
       "max_height": null,
       "max_width": null,
       "min_height": null,
       "min_width": null,
       "object_fit": null,
       "object_position": null,
       "order": null,
       "overflow": null,
       "overflow_x": null,
       "overflow_y": null,
       "padding": null,
       "right": null,
       "top": null,
       "visibility": null,
       "width": "20px"
      }
     },
     "027284c622554ba4a7249e8fc12609f0": {
      "model_module": "@jupyter-widgets/controls",
      "model_module_version": "1.5.0",
      "model_name": "HBoxModel",
      "state": {
       "_dom_classes": [],
       "_model_module": "@jupyter-widgets/controls",
       "_model_module_version": "1.5.0",
       "_model_name": "HBoxModel",
       "_view_count": null,
       "_view_module": "@jupyter-widgets/controls",
       "_view_module_version": "1.5.0",
       "_view_name": "HBoxView",
       "box_style": "",
       "children": [
        "IPY_MODEL_1080bc292b1d427f915c451ac41255d4",
        "IPY_MODEL_66c716272bd54447b08a84b367abccfc",
        "IPY_MODEL_24e9b0af60164ee694af9765ac0a1f94"
       ],
       "layout": "IPY_MODEL_28d14e76e76b46d593a1f481070b96bf"
      }
     },
     "04d2267959484eae93c2f58b49735ed6": {
      "model_module": "@jupyter-widgets/base",
      "model_module_version": "1.2.0",
      "model_name": "LayoutModel",
      "state": {
       "_model_module": "@jupyter-widgets/base",
       "_model_module_version": "1.2.0",
       "_model_name": "LayoutModel",
       "_view_count": null,
       "_view_module": "@jupyter-widgets/base",
       "_view_module_version": "1.2.0",
       "_view_name": "LayoutView",
       "align_content": null,
       "align_items": null,
       "align_self": null,
       "border": null,
       "bottom": null,
       "display": null,
       "flex": null,
       "flex_flow": null,
       "grid_area": null,
       "grid_auto_columns": null,
       "grid_auto_flow": null,
       "grid_auto_rows": null,
       "grid_column": null,
       "grid_gap": null,
       "grid_row": null,
       "grid_template_areas": null,
       "grid_template_columns": null,
       "grid_template_rows": null,
       "height": null,
       "justify_content": null,
       "justify_items": null,
       "left": null,
       "margin": null,
       "max_height": null,
       "max_width": null,
       "min_height": null,
       "min_width": null,
       "object_fit": null,
       "object_position": null,
       "order": null,
       "overflow": null,
       "overflow_x": null,
       "overflow_y": null,
       "padding": null,
       "right": null,
       "top": null,
       "visibility": null,
       "width": null
      }
     },
     "0c3ea6a834524006867cb7d52d71d913": {
      "model_module": "@jupyter-widgets/controls",
      "model_module_version": "1.5.0",
      "model_name": "ProgressStyleModel",
      "state": {
       "_model_module": "@jupyter-widgets/controls",
       "_model_module_version": "1.5.0",
       "_model_name": "ProgressStyleModel",
       "_view_count": null,
       "_view_module": "@jupyter-widgets/base",
       "_view_module_version": "1.2.0",
       "_view_name": "StyleView",
       "bar_color": null,
       "description_width": ""
      }
     },
     "1080bc292b1d427f915c451ac41255d4": {
      "model_module": "@jupyter-widgets/controls",
      "model_module_version": "1.5.0",
      "model_name": "HTMLModel",
      "state": {
       "_dom_classes": [],
       "_model_module": "@jupyter-widgets/controls",
       "_model_module_version": "1.5.0",
       "_model_name": "HTMLModel",
       "_view_count": null,
       "_view_module": "@jupyter-widgets/controls",
       "_view_module_version": "1.5.0",
       "_view_name": "HTMLView",
       "description": "",
       "description_tooltip": null,
       "layout": "IPY_MODEL_eb3bb63c594342e88345c4fd1bcb999b",
       "placeholder": "​",
       "style": "IPY_MODEL_b6af99404c7f41c8a26b4d5e1e7396f2",
       "value": "EPOCH 1/5: "
      }
     },
     "1aa4640f48484ee69029247fa42c6658": {
      "model_module": "@jupyter-widgets/controls",
      "model_module_version": "1.5.0",
      "model_name": "DescriptionStyleModel",
      "state": {
       "_model_module": "@jupyter-widgets/controls",
       "_model_module_version": "1.5.0",
       "_model_name": "DescriptionStyleModel",
       "_view_count": null,
       "_view_module": "@jupyter-widgets/base",
       "_view_module_version": "1.2.0",
       "_view_name": "StyleView",
       "description_width": ""
      }
     },
     "1b1672c8606d49da9378764139c8e575": {
      "model_module": "@jupyter-widgets/controls",
      "model_module_version": "1.5.0",
      "model_name": "ProgressStyleModel",
      "state": {
       "_model_module": "@jupyter-widgets/controls",
       "_model_module_version": "1.5.0",
       "_model_name": "ProgressStyleModel",
       "_view_count": null,
       "_view_module": "@jupyter-widgets/base",
       "_view_module_version": "1.2.0",
       "_view_name": "StyleView",
       "bar_color": null,
       "description_width": ""
      }
     },
     "24e9b0af60164ee694af9765ac0a1f94": {
      "model_module": "@jupyter-widgets/controls",
      "model_module_version": "1.5.0",
      "model_name": "HTMLModel",
      "state": {
       "_dom_classes": [],
       "_model_module": "@jupyter-widgets/controls",
       "_model_module_version": "1.5.0",
       "_model_name": "HTMLModel",
       "_view_count": null,
       "_view_module": "@jupyter-widgets/controls",
       "_view_module_version": "1.5.0",
       "_view_name": "HTMLView",
       "description": "",
       "description_tooltip": null,
       "layout": "IPY_MODEL_c3465bf513fe41918460a930d6906244",
       "placeholder": "​",
       "style": "IPY_MODEL_902baaeb03f749109cc1df675160ad90",
       "value": " 4191/? [1:19:07&lt;00:00,  1.03s/it]"
      }
     },
     "27034b7a784f4a7e964655d54789e56f": {
      "model_module": "@jupyter-widgets/controls",
      "model_module_version": "1.5.0",
      "model_name": "HTMLModel",
      "state": {
       "_dom_classes": [],
       "_model_module": "@jupyter-widgets/controls",
       "_model_module_version": "1.5.0",
       "_model_name": "HTMLModel",
       "_view_count": null,
       "_view_module": "@jupyter-widgets/controls",
       "_view_module_version": "1.5.0",
       "_view_name": "HTMLView",
       "description": "",
       "description_tooltip": null,
       "layout": "IPY_MODEL_6d1d09813bc74ef0a507c42b509972ae",
       "placeholder": "​",
       "style": "IPY_MODEL_34ed6ab945214d3f9e5a6605d1d70dfc",
       "value": " 4191/? [1:19:12&lt;00:00,  1.03s/it]"
      }
     },
     "277305225a944dc799f866c153730fde": {
      "model_module": "@jupyter-widgets/base",
      "model_module_version": "1.2.0",
      "model_name": "LayoutModel",
      "state": {
       "_model_module": "@jupyter-widgets/base",
       "_model_module_version": "1.2.0",
       "_model_name": "LayoutModel",
       "_view_count": null,
       "_view_module": "@jupyter-widgets/base",
       "_view_module_version": "1.2.0",
       "_view_name": "LayoutView",
       "align_content": null,
       "align_items": null,
       "align_self": null,
       "border": null,
       "bottom": null,
       "display": null,
       "flex": null,
       "flex_flow": null,
       "grid_area": null,
       "grid_auto_columns": null,
       "grid_auto_flow": null,
       "grid_auto_rows": null,
       "grid_column": null,
       "grid_gap": null,
       "grid_row": null,
       "grid_template_areas": null,
       "grid_template_columns": null,
       "grid_template_rows": null,
       "height": null,
       "justify_content": null,
       "justify_items": null,
       "left": null,
       "margin": null,
       "max_height": null,
       "max_width": null,
       "min_height": null,
       "min_width": null,
       "object_fit": null,
       "object_position": null,
       "order": null,
       "overflow": null,
       "overflow_x": null,
       "overflow_y": null,
       "padding": null,
       "right": null,
       "top": null,
       "visibility": null,
       "width": null
      }
     },
     "28d14e76e76b46d593a1f481070b96bf": {
      "model_module": "@jupyter-widgets/base",
      "model_module_version": "1.2.0",
      "model_name": "LayoutModel",
      "state": {
       "_model_module": "@jupyter-widgets/base",
       "_model_module_version": "1.2.0",
       "_model_name": "LayoutModel",
       "_view_count": null,
       "_view_module": "@jupyter-widgets/base",
       "_view_module_version": "1.2.0",
       "_view_name": "LayoutView",
       "align_content": null,
       "align_items": null,
       "align_self": null,
       "border": null,
       "bottom": null,
       "display": null,
       "flex": null,
       "flex_flow": null,
       "grid_area": null,
       "grid_auto_columns": null,
       "grid_auto_flow": null,
       "grid_auto_rows": null,
       "grid_column": null,
       "grid_gap": null,
       "grid_row": null,
       "grid_template_areas": null,
       "grid_template_columns": null,
       "grid_template_rows": null,
       "height": null,
       "justify_content": null,
       "justify_items": null,
       "left": null,
       "margin": null,
       "max_height": null,
       "max_width": null,
       "min_height": null,
       "min_width": null,
       "object_fit": null,
       "object_position": null,
       "order": null,
       "overflow": null,
       "overflow_x": null,
       "overflow_y": null,
       "padding": null,
       "right": null,
       "top": null,
       "visibility": null,
       "width": null
      }
     },
     "28d93fcc00694e7cb65d26999062bfcc": {
      "model_module": "@jupyter-widgets/base",
      "model_module_version": "1.2.0",
      "model_name": "LayoutModel",
      "state": {
       "_model_module": "@jupyter-widgets/base",
       "_model_module_version": "1.2.0",
       "_model_name": "LayoutModel",
       "_view_count": null,
       "_view_module": "@jupyter-widgets/base",
       "_view_module_version": "1.2.0",
       "_view_name": "LayoutView",
       "align_content": null,
       "align_items": null,
       "align_self": null,
       "border": null,
       "bottom": null,
       "display": null,
       "flex": null,
       "flex_flow": null,
       "grid_area": null,
       "grid_auto_columns": null,
       "grid_auto_flow": null,
       "grid_auto_rows": null,
       "grid_column": null,
       "grid_gap": null,
       "grid_row": null,
       "grid_template_areas": null,
       "grid_template_columns": null,
       "grid_template_rows": null,
       "height": null,
       "justify_content": null,
       "justify_items": null,
       "left": null,
       "margin": null,
       "max_height": null,
       "max_width": null,
       "min_height": null,
       "min_width": null,
       "object_fit": null,
       "object_position": null,
       "order": null,
       "overflow": null,
       "overflow_x": null,
       "overflow_y": null,
       "padding": null,
       "right": null,
       "top": null,
       "visibility": null,
       "width": null
      }
     },
     "33a38649b2c74d39a59037bc4840595c": {
      "model_module": "@jupyter-widgets/base",
      "model_module_version": "1.2.0",
      "model_name": "LayoutModel",
      "state": {
       "_model_module": "@jupyter-widgets/base",
       "_model_module_version": "1.2.0",
       "_model_name": "LayoutModel",
       "_view_count": null,
       "_view_module": "@jupyter-widgets/base",
       "_view_module_version": "1.2.0",
       "_view_name": "LayoutView",
       "align_content": null,
       "align_items": null,
       "align_self": null,
       "border": null,
       "bottom": null,
       "display": null,
       "flex": null,
       "flex_flow": null,
       "grid_area": null,
       "grid_auto_columns": null,
       "grid_auto_flow": null,
       "grid_auto_rows": null,
       "grid_column": null,
       "grid_gap": null,
       "grid_row": null,
       "grid_template_areas": null,
       "grid_template_columns": null,
       "grid_template_rows": null,
       "height": null,
       "justify_content": null,
       "justify_items": null,
       "left": null,
       "margin": null,
       "max_height": null,
       "max_width": null,
       "min_height": null,
       "min_width": null,
       "object_fit": null,
       "object_position": null,
       "order": null,
       "overflow": null,
       "overflow_x": null,
       "overflow_y": null,
       "padding": null,
       "right": null,
       "top": null,
       "visibility": null,
       "width": "20px"
      }
     },
     "34ed6ab945214d3f9e5a6605d1d70dfc": {
      "model_module": "@jupyter-widgets/controls",
      "model_module_version": "1.5.0",
      "model_name": "DescriptionStyleModel",
      "state": {
       "_model_module": "@jupyter-widgets/controls",
       "_model_module_version": "1.5.0",
       "_model_name": "DescriptionStyleModel",
       "_view_count": null,
       "_view_module": "@jupyter-widgets/base",
       "_view_module_version": "1.2.0",
       "_view_name": "StyleView",
       "description_width": ""
      }
     },
     "363e60e3d2e64ee9ae98708d6ce5b1dc": {
      "model_module": "@jupyter-widgets/controls",
      "model_module_version": "1.5.0",
      "model_name": "DescriptionStyleModel",
      "state": {
       "_model_module": "@jupyter-widgets/controls",
       "_model_module_version": "1.5.0",
       "_model_name": "DescriptionStyleModel",
       "_view_count": null,
       "_view_module": "@jupyter-widgets/base",
       "_view_module_version": "1.2.0",
       "_view_name": "StyleView",
       "description_width": ""
      }
     },
     "3664543f8ee34bf4859848d858cf02a2": {
      "model_module": "@jupyter-widgets/controls",
      "model_module_version": "1.5.0",
      "model_name": "HBoxModel",
      "state": {
       "_dom_classes": [],
       "_model_module": "@jupyter-widgets/controls",
       "_model_module_version": "1.5.0",
       "_model_name": "HBoxModel",
       "_view_count": null,
       "_view_module": "@jupyter-widgets/controls",
       "_view_module_version": "1.5.0",
       "_view_name": "HBoxView",
       "box_style": "",
       "children": [
        "IPY_MODEL_978c6a980c9b4fc5859057e6a5888ef8",
        "IPY_MODEL_d468f17a611a465b8fc019fc7d5e0322",
        "IPY_MODEL_27034b7a784f4a7e964655d54789e56f"
       ],
       "layout": "IPY_MODEL_28d93fcc00694e7cb65d26999062bfcc"
      }
     },
     "4435d23cc8064552a04ff5d66d442885": {
      "model_module": "@jupyter-widgets/base",
      "model_module_version": "1.2.0",
      "model_name": "LayoutModel",
      "state": {
       "_model_module": "@jupyter-widgets/base",
       "_model_module_version": "1.2.0",
       "_model_name": "LayoutModel",
       "_view_count": null,
       "_view_module": "@jupyter-widgets/base",
       "_view_module_version": "1.2.0",
       "_view_name": "LayoutView",
       "align_content": null,
       "align_items": null,
       "align_self": null,
       "border": null,
       "bottom": null,
       "display": null,
       "flex": null,
       "flex_flow": null,
       "grid_area": null,
       "grid_auto_columns": null,
       "grid_auto_flow": null,
       "grid_auto_rows": null,
       "grid_column": null,
       "grid_gap": null,
       "grid_row": null,
       "grid_template_areas": null,
       "grid_template_columns": null,
       "grid_template_rows": null,
       "height": null,
       "justify_content": null,
       "justify_items": null,
       "left": null,
       "margin": null,
       "max_height": null,
       "max_width": null,
       "min_height": null,
       "min_width": null,
       "object_fit": null,
       "object_position": null,
       "order": null,
       "overflow": null,
       "overflow_x": null,
       "overflow_y": null,
       "padding": null,
       "right": null,
       "top": null,
       "visibility": null,
       "width": null
      }
     },
     "4bc9a6b8f3e140ec84f6c2ac1bdde270": {
      "model_module": "@jupyter-widgets/controls",
      "model_module_version": "1.5.0",
      "model_name": "HTMLModel",
      "state": {
       "_dom_classes": [],
       "_model_module": "@jupyter-widgets/controls",
       "_model_module_version": "1.5.0",
       "_model_name": "HTMLModel",
       "_view_count": null,
       "_view_module": "@jupyter-widgets/controls",
       "_view_module_version": "1.5.0",
       "_view_name": "HTMLView",
       "description": "",
       "description_tooltip": null,
       "layout": "IPY_MODEL_547c736b2b644cd4af082570622ab9fb",
       "placeholder": "​",
       "style": "IPY_MODEL_363e60e3d2e64ee9ae98708d6ce5b1dc",
       "value": " 4191/? [1:19:15&lt;00:00,  1.03s/it]"
      }
     },
     "4d36e2740342420ea872ca29a78f6f79": {
      "model_module": "@jupyter-widgets/controls",
      "model_module_version": "1.5.0",
      "model_name": "FloatProgressModel",
      "state": {
       "_dom_classes": [],
       "_model_module": "@jupyter-widgets/controls",
       "_model_module_version": "1.5.0",
       "_model_name": "FloatProgressModel",
       "_view_count": null,
       "_view_module": "@jupyter-widgets/controls",
       "_view_module_version": "1.5.0",
       "_view_name": "ProgressView",
       "bar_style": "success",
       "description": "",
       "description_tooltip": null,
       "layout": "IPY_MODEL_33a38649b2c74d39a59037bc4840595c",
       "max": 1.0,
       "min": 0.0,
       "orientation": "horizontal",
       "style": "IPY_MODEL_1b1672c8606d49da9378764139c8e575",
       "value": 1.0
      }
     },
     "516ffd4074c04d33886150aebd45a5cc": {
      "model_module": "@jupyter-widgets/controls",
      "model_module_version": "1.5.0",
      "model_name": "HBoxModel",
      "state": {
       "_dom_classes": [],
       "_model_module": "@jupyter-widgets/controls",
       "_model_module_version": "1.5.0",
       "_model_name": "HBoxModel",
       "_view_count": null,
       "_view_module": "@jupyter-widgets/controls",
       "_view_module_version": "1.5.0",
       "_view_name": "HBoxView",
       "box_style": "",
       "children": [
        "IPY_MODEL_9bc5098087134b8780968d9f1812b06b",
        "IPY_MODEL_734561fafeb94b9aa3c12ee6e596ad43",
        "IPY_MODEL_4bc9a6b8f3e140ec84f6c2ac1bdde270"
       ],
       "layout": "IPY_MODEL_fd0aa34a4d6c44a59f5959aed9360ff3"
      }
     },
     "547c736b2b644cd4af082570622ab9fb": {
      "model_module": "@jupyter-widgets/base",
      "model_module_version": "1.2.0",
      "model_name": "LayoutModel",
      "state": {
       "_model_module": "@jupyter-widgets/base",
       "_model_module_version": "1.2.0",
       "_model_name": "LayoutModel",
       "_view_count": null,
       "_view_module": "@jupyter-widgets/base",
       "_view_module_version": "1.2.0",
       "_view_name": "LayoutView",
       "align_content": null,
       "align_items": null,
       "align_self": null,
       "border": null,
       "bottom": null,
       "display": null,
       "flex": null,
       "flex_flow": null,
       "grid_area": null,
       "grid_auto_columns": null,
       "grid_auto_flow": null,
       "grid_auto_rows": null,
       "grid_column": null,
       "grid_gap": null,
       "grid_row": null,
       "grid_template_areas": null,
       "grid_template_columns": null,
       "grid_template_rows": null,
       "height": null,
       "justify_content": null,
       "justify_items": null,
       "left": null,
       "margin": null,
       "max_height": null,
       "max_width": null,
       "min_height": null,
       "min_width": null,
       "object_fit": null,
       "object_position": null,
       "order": null,
       "overflow": null,
       "overflow_x": null,
       "overflow_y": null,
       "padding": null,
       "right": null,
       "top": null,
       "visibility": null,
       "width": null
      }
     },
     "60008c58628740a891b0a506facff920": {
      "model_module": "@jupyter-widgets/controls",
      "model_module_version": "1.5.0",
      "model_name": "DescriptionStyleModel",
      "state": {
       "_model_module": "@jupyter-widgets/controls",
       "_model_module_version": "1.5.0",
       "_model_name": "DescriptionStyleModel",
       "_view_count": null,
       "_view_module": "@jupyter-widgets/base",
       "_view_module_version": "1.2.0",
       "_view_name": "StyleView",
       "description_width": ""
      }
     },
     "6281debdb72841b4adf40468fe9393e6": {
      "model_module": "@jupyter-widgets/controls",
      "model_module_version": "1.5.0",
      "model_name": "HTMLModel",
      "state": {
       "_dom_classes": [],
       "_model_module": "@jupyter-widgets/controls",
       "_model_module_version": "1.5.0",
       "_model_name": "HTMLModel",
       "_view_count": null,
       "_view_module": "@jupyter-widgets/controls",
       "_view_module_version": "1.5.0",
       "_view_name": "HTMLView",
       "description": "",
       "description_tooltip": null,
       "layout": "IPY_MODEL_4435d23cc8064552a04ff5d66d442885",
       "placeholder": "​",
       "style": "IPY_MODEL_6c44aa3007ad40f4b98037cca83cb9dd",
       "value": "EPOCH 2/5: "
      }
     },
     "66c716272bd54447b08a84b367abccfc": {
      "model_module": "@jupyter-widgets/controls",
      "model_module_version": "1.5.0",
      "model_name": "FloatProgressModel",
      "state": {
       "_dom_classes": [],
       "_model_module": "@jupyter-widgets/controls",
       "_model_module_version": "1.5.0",
       "_model_name": "FloatProgressModel",
       "_view_count": null,
       "_view_module": "@jupyter-widgets/controls",
       "_view_module_version": "1.5.0",
       "_view_name": "ProgressView",
       "bar_style": "success",
       "description": "",
       "description_tooltip": null,
       "layout": "IPY_MODEL_002a390c759840c0acfd6fe4ee965ff7",
       "max": 1.0,
       "min": 0.0,
       "orientation": "horizontal",
       "style": "IPY_MODEL_0c3ea6a834524006867cb7d52d71d913",
       "value": 1.0
      }
     },
     "6c44aa3007ad40f4b98037cca83cb9dd": {
      "model_module": "@jupyter-widgets/controls",
      "model_module_version": "1.5.0",
      "model_name": "DescriptionStyleModel",
      "state": {
       "_model_module": "@jupyter-widgets/controls",
       "_model_module_version": "1.5.0",
       "_model_name": "DescriptionStyleModel",
       "_view_count": null,
       "_view_module": "@jupyter-widgets/base",
       "_view_module_version": "1.2.0",
       "_view_name": "StyleView",
       "description_width": ""
      }
     },
     "6d1d09813bc74ef0a507c42b509972ae": {
      "model_module": "@jupyter-widgets/base",
      "model_module_version": "1.2.0",
      "model_name": "LayoutModel",
      "state": {
       "_model_module": "@jupyter-widgets/base",
       "_model_module_version": "1.2.0",
       "_model_name": "LayoutModel",
       "_view_count": null,
       "_view_module": "@jupyter-widgets/base",
       "_view_module_version": "1.2.0",
       "_view_name": "LayoutView",
       "align_content": null,
       "align_items": null,
       "align_self": null,
       "border": null,
       "bottom": null,
       "display": null,
       "flex": null,
       "flex_flow": null,
       "grid_area": null,
       "grid_auto_columns": null,
       "grid_auto_flow": null,
       "grid_auto_rows": null,
       "grid_column": null,
       "grid_gap": null,
       "grid_row": null,
       "grid_template_areas": null,
       "grid_template_columns": null,
       "grid_template_rows": null,
       "height": null,
       "justify_content": null,
       "justify_items": null,
       "left": null,
       "margin": null,
       "max_height": null,
       "max_width": null,
       "min_height": null,
       "min_width": null,
       "object_fit": null,
       "object_position": null,
       "order": null,
       "overflow": null,
       "overflow_x": null,
       "overflow_y": null,
       "padding": null,
       "right": null,
       "top": null,
       "visibility": null,
       "width": null
      }
     },
     "6f3f670029bc4fdf988a5e16f4c8d1b3": {
      "model_module": "@jupyter-widgets/controls",
      "model_module_version": "1.5.0",
      "model_name": "ProgressStyleModel",
      "state": {
       "_model_module": "@jupyter-widgets/controls",
       "_model_module_version": "1.5.0",
       "_model_name": "ProgressStyleModel",
       "_view_count": null,
       "_view_module": "@jupyter-widgets/base",
       "_view_module_version": "1.2.0",
       "_view_name": "StyleView",
       "bar_color": null,
       "description_width": ""
      }
     },
     "7062f690effe4f6ea3acbe8c4f7615cd": {
      "model_module": "@jupyter-widgets/controls",
      "model_module_version": "1.5.0",
      "model_name": "HBoxModel",
      "state": {
       "_dom_classes": [],
       "_model_module": "@jupyter-widgets/controls",
       "_model_module_version": "1.5.0",
       "_model_name": "HBoxModel",
       "_view_count": null,
       "_view_module": "@jupyter-widgets/controls",
       "_view_module_version": "1.5.0",
       "_view_name": "HBoxView",
       "box_style": "",
       "children": [
        "IPY_MODEL_a09f5ae7f7ff47aba212a590ebbe8202",
        "IPY_MODEL_c645f52a2229488299115ff41515b556",
        "IPY_MODEL_fa09727ec0b2412d9cc5fbb1a0258874"
       ],
       "layout": "IPY_MODEL_04d2267959484eae93c2f58b49735ed6"
      }
     },
     "734561fafeb94b9aa3c12ee6e596ad43": {
      "model_module": "@jupyter-widgets/controls",
      "model_module_version": "1.5.0",
      "model_name": "FloatProgressModel",
      "state": {
       "_dom_classes": [],
       "_model_module": "@jupyter-widgets/controls",
       "_model_module_version": "1.5.0",
       "_model_name": "FloatProgressModel",
       "_view_count": null,
       "_view_module": "@jupyter-widgets/controls",
       "_view_module_version": "1.5.0",
       "_view_name": "ProgressView",
       "bar_style": "success",
       "description": "",
       "description_tooltip": null,
       "layout": "IPY_MODEL_952d11be5b364d6c890c9400abeb08f6",
       "max": 1.0,
       "min": 0.0,
       "orientation": "horizontal",
       "style": "IPY_MODEL_fe71192f7e3f4c41847ffe65323b172b",
       "value": 1.0
      }
     },
     "78b236e2aae846f28c83b98389e0e6ac": {
      "model_module": "@jupyter-widgets/base",
      "model_module_version": "1.2.0",
      "model_name": "LayoutModel",
      "state": {
       "_model_module": "@jupyter-widgets/base",
       "_model_module_version": "1.2.0",
       "_model_name": "LayoutModel",
       "_view_count": null,
       "_view_module": "@jupyter-widgets/base",
       "_view_module_version": "1.2.0",
       "_view_name": "LayoutView",
       "align_content": null,
       "align_items": null,
       "align_self": null,
       "border": null,
       "bottom": null,
       "display": null,
       "flex": null,
       "flex_flow": null,
       "grid_area": null,
       "grid_auto_columns": null,
       "grid_auto_flow": null,
       "grid_auto_rows": null,
       "grid_column": null,
       "grid_gap": null,
       "grid_row": null,
       "grid_template_areas": null,
       "grid_template_columns": null,
       "grid_template_rows": null,
       "height": null,
       "justify_content": null,
       "justify_items": null,
       "left": null,
       "margin": null,
       "max_height": null,
       "max_width": null,
       "min_height": null,
       "min_width": null,
       "object_fit": null,
       "object_position": null,
       "order": null,
       "overflow": null,
       "overflow_x": null,
       "overflow_y": null,
       "padding": null,
       "right": null,
       "top": null,
       "visibility": null,
       "width": null
      }
     },
     "902baaeb03f749109cc1df675160ad90": {
      "model_module": "@jupyter-widgets/controls",
      "model_module_version": "1.5.0",
      "model_name": "DescriptionStyleModel",
      "state": {
       "_model_module": "@jupyter-widgets/controls",
       "_model_module_version": "1.5.0",
       "_model_name": "DescriptionStyleModel",
       "_view_count": null,
       "_view_module": "@jupyter-widgets/base",
       "_view_module_version": "1.2.0",
       "_view_name": "StyleView",
       "description_width": ""
      }
     },
     "952d11be5b364d6c890c9400abeb08f6": {
      "model_module": "@jupyter-widgets/base",
      "model_module_version": "1.2.0",
      "model_name": "LayoutModel",
      "state": {
       "_model_module": "@jupyter-widgets/base",
       "_model_module_version": "1.2.0",
       "_model_name": "LayoutModel",
       "_view_count": null,
       "_view_module": "@jupyter-widgets/base",
       "_view_module_version": "1.2.0",
       "_view_name": "LayoutView",
       "align_content": null,
       "align_items": null,
       "align_self": null,
       "border": null,
       "bottom": null,
       "display": null,
       "flex": null,
       "flex_flow": null,
       "grid_area": null,
       "grid_auto_columns": null,
       "grid_auto_flow": null,
       "grid_auto_rows": null,
       "grid_column": null,
       "grid_gap": null,
       "grid_row": null,
       "grid_template_areas": null,
       "grid_template_columns": null,
       "grid_template_rows": null,
       "height": null,
       "justify_content": null,
       "justify_items": null,
       "left": null,
       "margin": null,
       "max_height": null,
       "max_width": null,
       "min_height": null,
       "min_width": null,
       "object_fit": null,
       "object_position": null,
       "order": null,
       "overflow": null,
       "overflow_x": null,
       "overflow_y": null,
       "padding": null,
       "right": null,
       "top": null,
       "visibility": null,
       "width": "20px"
      }
     },
     "978c6a980c9b4fc5859057e6a5888ef8": {
      "model_module": "@jupyter-widgets/controls",
      "model_module_version": "1.5.0",
      "model_name": "HTMLModel",
      "state": {
       "_dom_classes": [],
       "_model_module": "@jupyter-widgets/controls",
       "_model_module_version": "1.5.0",
       "_model_name": "HTMLModel",
       "_view_count": null,
       "_view_module": "@jupyter-widgets/controls",
       "_view_module_version": "1.5.0",
       "_view_name": "HTMLView",
       "description": "",
       "description_tooltip": null,
       "layout": "IPY_MODEL_78b236e2aae846f28c83b98389e0e6ac",
       "placeholder": "​",
       "style": "IPY_MODEL_c3cee81109994009822ef2d110641168",
       "value": "EPOCH 4/5: "
      }
     },
     "9a6ef41b790c4381bc0c1b3155c375f8": {
      "model_module": "@jupyter-widgets/base",
      "model_module_version": "1.2.0",
      "model_name": "LayoutModel",
      "state": {
       "_model_module": "@jupyter-widgets/base",
       "_model_module_version": "1.2.0",
       "_model_name": "LayoutModel",
       "_view_count": null,
       "_view_module": "@jupyter-widgets/base",
       "_view_module_version": "1.2.0",
       "_view_name": "LayoutView",
       "align_content": null,
       "align_items": null,
       "align_self": null,
       "border": null,
       "bottom": null,
       "display": null,
       "flex": null,
       "flex_flow": null,
       "grid_area": null,
       "grid_auto_columns": null,
       "grid_auto_flow": null,
       "grid_auto_rows": null,
       "grid_column": null,
       "grid_gap": null,
       "grid_row": null,
       "grid_template_areas": null,
       "grid_template_columns": null,
       "grid_template_rows": null,
       "height": null,
       "justify_content": null,
       "justify_items": null,
       "left": null,
       "margin": null,
       "max_height": null,
       "max_width": null,
       "min_height": null,
       "min_width": null,
       "object_fit": null,
       "object_position": null,
       "order": null,
       "overflow": null,
       "overflow_x": null,
       "overflow_y": null,
       "padding": null,
       "right": null,
       "top": null,
       "visibility": null,
       "width": null
      }
     },
     "9bc5098087134b8780968d9f1812b06b": {
      "model_module": "@jupyter-widgets/controls",
      "model_module_version": "1.5.0",
      "model_name": "HTMLModel",
      "state": {
       "_dom_classes": [],
       "_model_module": "@jupyter-widgets/controls",
       "_model_module_version": "1.5.0",
       "_model_name": "HTMLModel",
       "_view_count": null,
       "_view_module": "@jupyter-widgets/controls",
       "_view_module_version": "1.5.0",
       "_view_name": "HTMLView",
       "description": "",
       "description_tooltip": null,
       "layout": "IPY_MODEL_b3affb95ba2f4c219619b9e2062ca2e7",
       "placeholder": "​",
       "style": "IPY_MODEL_60008c58628740a891b0a506facff920",
       "value": "EPOCH 5/5: "
      }
     },
     "9f171a8fdc5e45508ea77f967a6badfd": {
      "model_module": "@jupyter-widgets/controls",
      "model_module_version": "1.5.0",
      "model_name": "ProgressStyleModel",
      "state": {
       "_model_module": "@jupyter-widgets/controls",
       "_model_module_version": "1.5.0",
       "_model_name": "ProgressStyleModel",
       "_view_count": null,
       "_view_module": "@jupyter-widgets/base",
       "_view_module_version": "1.2.0",
       "_view_name": "StyleView",
       "bar_color": null,
       "description_width": ""
      }
     },
     "a09f5ae7f7ff47aba212a590ebbe8202": {
      "model_module": "@jupyter-widgets/controls",
      "model_module_version": "1.5.0",
      "model_name": "HTMLModel",
      "state": {
       "_dom_classes": [],
       "_model_module": "@jupyter-widgets/controls",
       "_model_module_version": "1.5.0",
       "_model_name": "HTMLModel",
       "_view_count": null,
       "_view_module": "@jupyter-widgets/controls",
       "_view_module_version": "1.5.0",
       "_view_name": "HTMLView",
       "description": "",
       "description_tooltip": null,
       "layout": "IPY_MODEL_d40891e03cdf4b089ae5ec568664ecaa",
       "placeholder": "​",
       "style": "IPY_MODEL_e160c3ade35549f9a84cf17535d60bf8",
       "value": "EPOCH 3/5: "
      }
     },
     "b3affb95ba2f4c219619b9e2062ca2e7": {
      "model_module": "@jupyter-widgets/base",
      "model_module_version": "1.2.0",
      "model_name": "LayoutModel",
      "state": {
       "_model_module": "@jupyter-widgets/base",
       "_model_module_version": "1.2.0",
       "_model_name": "LayoutModel",
       "_view_count": null,
       "_view_module": "@jupyter-widgets/base",
       "_view_module_version": "1.2.0",
       "_view_name": "LayoutView",
       "align_content": null,
       "align_items": null,
       "align_self": null,
       "border": null,
       "bottom": null,
       "display": null,
       "flex": null,
       "flex_flow": null,
       "grid_area": null,
       "grid_auto_columns": null,
       "grid_auto_flow": null,
       "grid_auto_rows": null,
       "grid_column": null,
       "grid_gap": null,
       "grid_row": null,
       "grid_template_areas": null,
       "grid_template_columns": null,
       "grid_template_rows": null,
       "height": null,
       "justify_content": null,
       "justify_items": null,
       "left": null,
       "margin": null,
       "max_height": null,
       "max_width": null,
       "min_height": null,
       "min_width": null,
       "object_fit": null,
       "object_position": null,
       "order": null,
       "overflow": null,
       "overflow_x": null,
       "overflow_y": null,
       "padding": null,
       "right": null,
       "top": null,
       "visibility": null,
       "width": null
      }
     },
     "b6af99404c7f41c8a26b4d5e1e7396f2": {
      "model_module": "@jupyter-widgets/controls",
      "model_module_version": "1.5.0",
      "model_name": "DescriptionStyleModel",
      "state": {
       "_model_module": "@jupyter-widgets/controls",
       "_model_module_version": "1.5.0",
       "_model_name": "DescriptionStyleModel",
       "_view_count": null,
       "_view_module": "@jupyter-widgets/base",
       "_view_module_version": "1.2.0",
       "_view_name": "StyleView",
       "description_width": ""
      }
     },
     "c3465bf513fe41918460a930d6906244": {
      "model_module": "@jupyter-widgets/base",
      "model_module_version": "1.2.0",
      "model_name": "LayoutModel",
      "state": {
       "_model_module": "@jupyter-widgets/base",
       "_model_module_version": "1.2.0",
       "_model_name": "LayoutModel",
       "_view_count": null,
       "_view_module": "@jupyter-widgets/base",
       "_view_module_version": "1.2.0",
       "_view_name": "LayoutView",
       "align_content": null,
       "align_items": null,
       "align_self": null,
       "border": null,
       "bottom": null,
       "display": null,
       "flex": null,
       "flex_flow": null,
       "grid_area": null,
       "grid_auto_columns": null,
       "grid_auto_flow": null,
       "grid_auto_rows": null,
       "grid_column": null,
       "grid_gap": null,
       "grid_row": null,
       "grid_template_areas": null,
       "grid_template_columns": null,
       "grid_template_rows": null,
       "height": null,
       "justify_content": null,
       "justify_items": null,
       "left": null,
       "margin": null,
       "max_height": null,
       "max_width": null,
       "min_height": null,
       "min_width": null,
       "object_fit": null,
       "object_position": null,
       "order": null,
       "overflow": null,
       "overflow_x": null,
       "overflow_y": null,
       "padding": null,
       "right": null,
       "top": null,
       "visibility": null,
       "width": null
      }
     },
     "c3cee81109994009822ef2d110641168": {
      "model_module": "@jupyter-widgets/controls",
      "model_module_version": "1.5.0",
      "model_name": "DescriptionStyleModel",
      "state": {
       "_model_module": "@jupyter-widgets/controls",
       "_model_module_version": "1.5.0",
       "_model_name": "DescriptionStyleModel",
       "_view_count": null,
       "_view_module": "@jupyter-widgets/base",
       "_view_module_version": "1.2.0",
       "_view_name": "StyleView",
       "description_width": ""
      }
     },
     "c645f52a2229488299115ff41515b556": {
      "model_module": "@jupyter-widgets/controls",
      "model_module_version": "1.5.0",
      "model_name": "FloatProgressModel",
      "state": {
       "_dom_classes": [],
       "_model_module": "@jupyter-widgets/controls",
       "_model_module_version": "1.5.0",
       "_model_name": "FloatProgressModel",
       "_view_count": null,
       "_view_module": "@jupyter-widgets/controls",
       "_view_module_version": "1.5.0",
       "_view_name": "ProgressView",
       "bar_style": "success",
       "description": "",
       "description_tooltip": null,
       "layout": "IPY_MODEL_df993308441c48588cac94a010220c6d",
       "max": 1.0,
       "min": 0.0,
       "orientation": "horizontal",
       "style": "IPY_MODEL_9f171a8fdc5e45508ea77f967a6badfd",
       "value": 1.0
      }
     },
     "cc2cdaa2f1d242f5a6a8e15786c124c6": {
      "model_module": "@jupyter-widgets/controls",
      "model_module_version": "1.5.0",
      "model_name": "DescriptionStyleModel",
      "state": {
       "_model_module": "@jupyter-widgets/controls",
       "_model_module_version": "1.5.0",
       "_model_name": "DescriptionStyleModel",
       "_view_count": null,
       "_view_module": "@jupyter-widgets/base",
       "_view_module_version": "1.2.0",
       "_view_name": "StyleView",
       "description_width": ""
      }
     },
     "d40891e03cdf4b089ae5ec568664ecaa": {
      "model_module": "@jupyter-widgets/base",
      "model_module_version": "1.2.0",
      "model_name": "LayoutModel",
      "state": {
       "_model_module": "@jupyter-widgets/base",
       "_model_module_version": "1.2.0",
       "_model_name": "LayoutModel",
       "_view_count": null,
       "_view_module": "@jupyter-widgets/base",
       "_view_module_version": "1.2.0",
       "_view_name": "LayoutView",
       "align_content": null,
       "align_items": null,
       "align_self": null,
       "border": null,
       "bottom": null,
       "display": null,
       "flex": null,
       "flex_flow": null,
       "grid_area": null,
       "grid_auto_columns": null,
       "grid_auto_flow": null,
       "grid_auto_rows": null,
       "grid_column": null,
       "grid_gap": null,
       "grid_row": null,
       "grid_template_areas": null,
       "grid_template_columns": null,
       "grid_template_rows": null,
       "height": null,
       "justify_content": null,
       "justify_items": null,
       "left": null,
       "margin": null,
       "max_height": null,
       "max_width": null,
       "min_height": null,
       "min_width": null,
       "object_fit": null,
       "object_position": null,
       "order": null,
       "overflow": null,
       "overflow_x": null,
       "overflow_y": null,
       "padding": null,
       "right": null,
       "top": null,
       "visibility": null,
       "width": null
      }
     },
     "d468f17a611a465b8fc019fc7d5e0322": {
      "model_module": "@jupyter-widgets/controls",
      "model_module_version": "1.5.0",
      "model_name": "FloatProgressModel",
      "state": {
       "_dom_classes": [],
       "_model_module": "@jupyter-widgets/controls",
       "_model_module_version": "1.5.0",
       "_model_name": "FloatProgressModel",
       "_view_count": null,
       "_view_module": "@jupyter-widgets/controls",
       "_view_module_version": "1.5.0",
       "_view_name": "ProgressView",
       "bar_style": "success",
       "description": "",
       "description_tooltip": null,
       "layout": "IPY_MODEL_e468203ef30d4d278b7c25d09a6303cc",
       "max": 1.0,
       "min": 0.0,
       "orientation": "horizontal",
       "style": "IPY_MODEL_6f3f670029bc4fdf988a5e16f4c8d1b3",
       "value": 1.0
      }
     },
     "d52b47c67d474475b0cfd8ce4c94141d": {
      "model_module": "@jupyter-widgets/controls",
      "model_module_version": "1.5.0",
      "model_name": "HBoxModel",
      "state": {
       "_dom_classes": [],
       "_model_module": "@jupyter-widgets/controls",
       "_model_module_version": "1.5.0",
       "_model_name": "HBoxModel",
       "_view_count": null,
       "_view_module": "@jupyter-widgets/controls",
       "_view_module_version": "1.5.0",
       "_view_name": "HBoxView",
       "box_style": "",
       "children": [
        "IPY_MODEL_6281debdb72841b4adf40468fe9393e6",
        "IPY_MODEL_4d36e2740342420ea872ca29a78f6f79",
        "IPY_MODEL_eabcc8f2425146abbac0d84ec0c600a6"
       ],
       "layout": "IPY_MODEL_deff4dc559d2405cb4660e0d680805bf"
      }
     },
     "deff4dc559d2405cb4660e0d680805bf": {
      "model_module": "@jupyter-widgets/base",
      "model_module_version": "1.2.0",
      "model_name": "LayoutModel",
      "state": {
       "_model_module": "@jupyter-widgets/base",
       "_model_module_version": "1.2.0",
       "_model_name": "LayoutModel",
       "_view_count": null,
       "_view_module": "@jupyter-widgets/base",
       "_view_module_version": "1.2.0",
       "_view_name": "LayoutView",
       "align_content": null,
       "align_items": null,
       "align_self": null,
       "border": null,
       "bottom": null,
       "display": null,
       "flex": null,
       "flex_flow": null,
       "grid_area": null,
       "grid_auto_columns": null,
       "grid_auto_flow": null,
       "grid_auto_rows": null,
       "grid_column": null,
       "grid_gap": null,
       "grid_row": null,
       "grid_template_areas": null,
       "grid_template_columns": null,
       "grid_template_rows": null,
       "height": null,
       "justify_content": null,
       "justify_items": null,
       "left": null,
       "margin": null,
       "max_height": null,
       "max_width": null,
       "min_height": null,
       "min_width": null,
       "object_fit": null,
       "object_position": null,
       "order": null,
       "overflow": null,
       "overflow_x": null,
       "overflow_y": null,
       "padding": null,
       "right": null,
       "top": null,
       "visibility": null,
       "width": null
      }
     },
     "df993308441c48588cac94a010220c6d": {
      "model_module": "@jupyter-widgets/base",
      "model_module_version": "1.2.0",
      "model_name": "LayoutModel",
      "state": {
       "_model_module": "@jupyter-widgets/base",
       "_model_module_version": "1.2.0",
       "_model_name": "LayoutModel",
       "_view_count": null,
       "_view_module": "@jupyter-widgets/base",
       "_view_module_version": "1.2.0",
       "_view_name": "LayoutView",
       "align_content": null,
       "align_items": null,
       "align_self": null,
       "border": null,
       "bottom": null,
       "display": null,
       "flex": null,
       "flex_flow": null,
       "grid_area": null,
       "grid_auto_columns": null,
       "grid_auto_flow": null,
       "grid_auto_rows": null,
       "grid_column": null,
       "grid_gap": null,
       "grid_row": null,
       "grid_template_areas": null,
       "grid_template_columns": null,
       "grid_template_rows": null,
       "height": null,
       "justify_content": null,
       "justify_items": null,
       "left": null,
       "margin": null,
       "max_height": null,
       "max_width": null,
       "min_height": null,
       "min_width": null,
       "object_fit": null,
       "object_position": null,
       "order": null,
       "overflow": null,
       "overflow_x": null,
       "overflow_y": null,
       "padding": null,
       "right": null,
       "top": null,
       "visibility": null,
       "width": "20px"
      }
     },
     "e160c3ade35549f9a84cf17535d60bf8": {
      "model_module": "@jupyter-widgets/controls",
      "model_module_version": "1.5.0",
      "model_name": "DescriptionStyleModel",
      "state": {
       "_model_module": "@jupyter-widgets/controls",
       "_model_module_version": "1.5.0",
       "_model_name": "DescriptionStyleModel",
       "_view_count": null,
       "_view_module": "@jupyter-widgets/base",
       "_view_module_version": "1.2.0",
       "_view_name": "StyleView",
       "description_width": ""
      }
     },
     "e468203ef30d4d278b7c25d09a6303cc": {
      "model_module": "@jupyter-widgets/base",
      "model_module_version": "1.2.0",
      "model_name": "LayoutModel",
      "state": {
       "_model_module": "@jupyter-widgets/base",
       "_model_module_version": "1.2.0",
       "_model_name": "LayoutModel",
       "_view_count": null,
       "_view_module": "@jupyter-widgets/base",
       "_view_module_version": "1.2.0",
       "_view_name": "LayoutView",
       "align_content": null,
       "align_items": null,
       "align_self": null,
       "border": null,
       "bottom": null,
       "display": null,
       "flex": null,
       "flex_flow": null,
       "grid_area": null,
       "grid_auto_columns": null,
       "grid_auto_flow": null,
       "grid_auto_rows": null,
       "grid_column": null,
       "grid_gap": null,
       "grid_row": null,
       "grid_template_areas": null,
       "grid_template_columns": null,
       "grid_template_rows": null,
       "height": null,
       "justify_content": null,
       "justify_items": null,
       "left": null,
       "margin": null,
       "max_height": null,
       "max_width": null,
       "min_height": null,
       "min_width": null,
       "object_fit": null,
       "object_position": null,
       "order": null,
       "overflow": null,
       "overflow_x": null,
       "overflow_y": null,
       "padding": null,
       "right": null,
       "top": null,
       "visibility": null,
       "width": "20px"
      }
     },
     "eabcc8f2425146abbac0d84ec0c600a6": {
      "model_module": "@jupyter-widgets/controls",
      "model_module_version": "1.5.0",
      "model_name": "HTMLModel",
      "state": {
       "_dom_classes": [],
       "_model_module": "@jupyter-widgets/controls",
       "_model_module_version": "1.5.0",
       "_model_name": "HTMLModel",
       "_view_count": null,
       "_view_module": "@jupyter-widgets/controls",
       "_view_module_version": "1.5.0",
       "_view_name": "HTMLView",
       "description": "",
       "description_tooltip": null,
       "layout": "IPY_MODEL_277305225a944dc799f866c153730fde",
       "placeholder": "​",
       "style": "IPY_MODEL_cc2cdaa2f1d242f5a6a8e15786c124c6",
       "value": " 4191/? [1:19:17&lt;00:00,  1.03s/it]"
      }
     },
     "eb3bb63c594342e88345c4fd1bcb999b": {
      "model_module": "@jupyter-widgets/base",
      "model_module_version": "1.2.0",
      "model_name": "LayoutModel",
      "state": {
       "_model_module": "@jupyter-widgets/base",
       "_model_module_version": "1.2.0",
       "_model_name": "LayoutModel",
       "_view_count": null,
       "_view_module": "@jupyter-widgets/base",
       "_view_module_version": "1.2.0",
       "_view_name": "LayoutView",
       "align_content": null,
       "align_items": null,
       "align_self": null,
       "border": null,
       "bottom": null,
       "display": null,
       "flex": null,
       "flex_flow": null,
       "grid_area": null,
       "grid_auto_columns": null,
       "grid_auto_flow": null,
       "grid_auto_rows": null,
       "grid_column": null,
       "grid_gap": null,
       "grid_row": null,
       "grid_template_areas": null,
       "grid_template_columns": null,
       "grid_template_rows": null,
       "height": null,
       "justify_content": null,
       "justify_items": null,
       "left": null,
       "margin": null,
       "max_height": null,
       "max_width": null,
       "min_height": null,
       "min_width": null,
       "object_fit": null,
       "object_position": null,
       "order": null,
       "overflow": null,
       "overflow_x": null,
       "overflow_y": null,
       "padding": null,
       "right": null,
       "top": null,
       "visibility": null,
       "width": null
      }
     },
     "fa09727ec0b2412d9cc5fbb1a0258874": {
      "model_module": "@jupyter-widgets/controls",
      "model_module_version": "1.5.0",
      "model_name": "HTMLModel",
      "state": {
       "_dom_classes": [],
       "_model_module": "@jupyter-widgets/controls",
       "_model_module_version": "1.5.0",
       "_model_name": "HTMLModel",
       "_view_count": null,
       "_view_module": "@jupyter-widgets/controls",
       "_view_module_version": "1.5.0",
       "_view_name": "HTMLView",
       "description": "",
       "description_tooltip": null,
       "layout": "IPY_MODEL_9a6ef41b790c4381bc0c1b3155c375f8",
       "placeholder": "​",
       "style": "IPY_MODEL_1aa4640f48484ee69029247fa42c6658",
       "value": " 4191/? [1:19:12&lt;00:00,  1.03s/it]"
      }
     },
     "fd0aa34a4d6c44a59f5959aed9360ff3": {
      "model_module": "@jupyter-widgets/base",
      "model_module_version": "1.2.0",
      "model_name": "LayoutModel",
      "state": {
       "_model_module": "@jupyter-widgets/base",
       "_model_module_version": "1.2.0",
       "_model_name": "LayoutModel",
       "_view_count": null,
       "_view_module": "@jupyter-widgets/base",
       "_view_module_version": "1.2.0",
       "_view_name": "LayoutView",
       "align_content": null,
       "align_items": null,
       "align_self": null,
       "border": null,
       "bottom": null,
       "display": null,
       "flex": null,
       "flex_flow": null,
       "grid_area": null,
       "grid_auto_columns": null,
       "grid_auto_flow": null,
       "grid_auto_rows": null,
       "grid_column": null,
       "grid_gap": null,
       "grid_row": null,
       "grid_template_areas": null,
       "grid_template_columns": null,
       "grid_template_rows": null,
       "height": null,
       "justify_content": null,
       "justify_items": null,
       "left": null,
       "margin": null,
       "max_height": null,
       "max_width": null,
       "min_height": null,
       "min_width": null,
       "object_fit": null,
       "object_position": null,
       "order": null,
       "overflow": null,
       "overflow_x": null,
       "overflow_y": null,
       "padding": null,
       "right": null,
       "top": null,
       "visibility": null,
       "width": null
      }
     },
     "fe71192f7e3f4c41847ffe65323b172b": {
      "model_module": "@jupyter-widgets/controls",
      "model_module_version": "1.5.0",
      "model_name": "ProgressStyleModel",
      "state": {
       "_model_module": "@jupyter-widgets/controls",
       "_model_module_version": "1.5.0",
       "_model_name": "ProgressStyleModel",
       "_view_count": null,
       "_view_module": "@jupyter-widgets/base",
       "_view_module_version": "1.2.0",
       "_view_name": "StyleView",
       "bar_color": null,
       "description_width": ""
      }
     }
    },
    "version_major": 2,
    "version_minor": 0
   }
  }
 },
 "nbformat": 4,
 "nbformat_minor": 5
}
