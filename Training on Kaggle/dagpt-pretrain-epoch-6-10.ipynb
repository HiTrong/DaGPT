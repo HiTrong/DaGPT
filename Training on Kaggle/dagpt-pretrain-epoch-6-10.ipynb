{
 "cells": [
  {
   "cell_type": "markdown",
   "id": "8b267a03",
   "metadata": {
    "papermill": {
     "duration": 0.020808,
     "end_time": "2024-10-12T14:52:13.203374",
     "exception": false,
     "start_time": "2024-10-12T14:52:13.182566",
     "status": "completed"
    },
    "tags": []
   },
   "source": [
    "# Import Library"
   ]
  },
  {
   "cell_type": "code",
   "execution_count": 1,
   "id": "eac84891",
   "metadata": {
    "execution": {
     "iopub.execute_input": "2024-10-12T14:52:13.244677Z",
     "iopub.status.busy": "2024-10-12T14:52:13.244236Z",
     "iopub.status.idle": "2024-10-12T14:52:17.904596Z",
     "shell.execute_reply": "2024-10-12T14:52:17.903524Z"
    },
    "papermill": {
     "duration": 4.686977,
     "end_time": "2024-10-12T14:52:17.910744",
     "exception": false,
     "start_time": "2024-10-12T14:52:13.223767",
     "status": "completed"
    },
    "tags": []
   },
   "outputs": [],
   "source": [
    "import numpy as np\n",
    "import pandas as pd\n",
    "\n",
    "from tokenizers import Tokenizer\n",
    "\n",
    "import json\n",
    "import os\n",
    "import math\n",
    "from tqdm.auto import tqdm\n",
    "\n",
    "from torch.nn.modules.transformer import _generate_square_subsequent_mask\n",
    "from torch.utils.data import Dataset, DataLoader\n",
    "import torch\n",
    "import torch.nn as nn"
   ]
  },
  {
   "cell_type": "markdown",
   "id": "301c683a",
   "metadata": {
    "papermill": {
     "duration": 0.021144,
     "end_time": "2024-10-12T14:52:17.952880",
     "exception": false,
     "start_time": "2024-10-12T14:52:17.931736",
     "status": "completed"
    },
    "tags": []
   },
   "source": [
    "# Load DaTokenizer"
   ]
  },
  {
   "cell_type": "code",
   "execution_count": 2,
   "id": "3244ab79",
   "metadata": {
    "execution": {
     "iopub.execute_input": "2024-10-12T14:52:17.996091Z",
     "iopub.status.busy": "2024-10-12T14:52:17.995379Z",
     "iopub.status.idle": "2024-10-12T14:52:18.076659Z",
     "shell.execute_reply": "2024-10-12T14:52:18.075438Z"
    },
    "papermill": {
     "duration": 0.105895,
     "end_time": "2024-10-12T14:52:18.079160",
     "exception": false,
     "start_time": "2024-10-12T14:52:17.973265",
     "status": "completed"
    },
    "tags": []
   },
   "outputs": [
    {
     "name": "stdout",
     "output_type": "stream",
     "text": [
      "Encoded IDs: [1559, 1647, 1827, 999, 1267, 990, 997, 1025, 1821]\n",
      "Decoded Text: Viêm nang lông thường thấy khi da bị ...\n"
     ]
    }
   ],
   "source": [
    "tokenizer = Tokenizer.from_file(\"/kaggle/input/datokenizer/other/default/1/tokenizer.json\")\n",
    "\n",
    "# Sample use\n",
    "encoded = tokenizer.encode(\"Viêm nang lông thường thấy khi da bị ...\")\n",
    "decoded = tokenizer.decode(encoded.ids, skip_special_tokens=False)\n",
    "\n",
    "print(\"Encoded IDs:\", encoded.ids)\n",
    "print(\"Decoded Text:\", decoded)"
   ]
  },
  {
   "cell_type": "markdown",
   "id": "6561589b",
   "metadata": {
    "papermill": {
     "duration": 0.02021,
     "end_time": "2024-10-12T14:52:18.119938",
     "exception": false,
     "start_time": "2024-10-12T14:52:18.099728",
     "status": "completed"
    },
    "tags": []
   },
   "source": [
    "# Load CSV"
   ]
  },
  {
   "cell_type": "code",
   "execution_count": 3,
   "id": "24259ae1",
   "metadata": {
    "execution": {
     "iopub.execute_input": "2024-10-12T14:52:18.175335Z",
     "iopub.status.busy": "2024-10-12T14:52:18.174902Z",
     "iopub.status.idle": "2024-10-12T14:52:21.442967Z",
     "shell.execute_reply": "2024-10-12T14:52:21.441719Z"
    },
    "papermill": {
     "duration": 3.297802,
     "end_time": "2024-10-12T14:52:21.445452",
     "exception": false,
     "start_time": "2024-10-12T14:52:18.147650",
     "status": "completed"
    },
    "tags": []
   },
   "outputs": [
    {
     "data": {
      "text/html": [
       "<div>\n",
       "<style scoped>\n",
       "    .dataframe tbody tr th:only-of-type {\n",
       "        vertical-align: middle;\n",
       "    }\n",
       "\n",
       "    .dataframe tbody tr th {\n",
       "        vertical-align: top;\n",
       "    }\n",
       "\n",
       "    .dataframe thead th {\n",
       "        text-align: right;\n",
       "    }\n",
       "</style>\n",
       "<table border=\"1\" class=\"dataframe\">\n",
       "  <thead>\n",
       "    <tr style=\"text-align: right;\">\n",
       "      <th></th>\n",
       "      <th>text</th>\n",
       "    </tr>\n",
       "  </thead>\n",
       "  <tbody>\n",
       "    <tr>\n",
       "      <th>0</th>\n",
       "      <td>Theo báo cáo của Tổ chức Y tế Thế giới, tim mạ...</td>\n",
       "    </tr>\n",
       "    <tr>\n",
       "      <th>1</th>\n",
       "      <td>Các serovars khác nhau của Chlamydia trachomat...</td>\n",
       "    </tr>\n",
       "  </tbody>\n",
       "</table>\n",
       "</div>"
      ],
      "text/plain": [
       "                                                text\n",
       "0  Theo báo cáo của Tổ chức Y tế Thế giới, tim mạ...\n",
       "1  Các serovars khác nhau của Chlamydia trachomat..."
      ]
     },
     "execution_count": 3,
     "metadata": {},
     "output_type": "execute_result"
    }
   ],
   "source": [
    "df_train = pd.read_csv(\"/kaggle/input/dataset-for-dagpt/pretrain_data.csv\")\n",
    "df_train.head(2)"
   ]
  },
  {
   "cell_type": "code",
   "execution_count": 4,
   "id": "5596c472",
   "metadata": {
    "execution": {
     "iopub.execute_input": "2024-10-12T14:52:21.487949Z",
     "iopub.status.busy": "2024-10-12T14:52:21.487310Z",
     "iopub.status.idle": "2024-10-12T14:52:21.877853Z",
     "shell.execute_reply": "2024-10-12T14:52:21.876549Z"
    },
    "papermill": {
     "duration": 0.414417,
     "end_time": "2024-10-12T14:52:21.880363",
     "exception": false,
     "start_time": "2024-10-12T14:52:21.465946",
     "status": "completed"
    },
    "tags": []
   },
   "outputs": [
    {
     "data": {
      "text/html": [
       "<div>\n",
       "<style scoped>\n",
       "    .dataframe tbody tr th:only-of-type {\n",
       "        vertical-align: middle;\n",
       "    }\n",
       "\n",
       "    .dataframe tbody tr th {\n",
       "        vertical-align: top;\n",
       "    }\n",
       "\n",
       "    .dataframe thead th {\n",
       "        text-align: right;\n",
       "    }\n",
       "</style>\n",
       "<table border=\"1\" class=\"dataframe\">\n",
       "  <thead>\n",
       "    <tr style=\"text-align: right;\">\n",
       "      <th></th>\n",
       "      <th>text</th>\n",
       "    </tr>\n",
       "  </thead>\n",
       "  <tbody>\n",
       "    <tr>\n",
       "      <th>0</th>\n",
       "      <td>Bệnh ghẻ, một căn bệnh da liễu khá phổ biến, t...</td>\n",
       "    </tr>\n",
       "    <tr>\n",
       "      <th>1</th>\n",
       "      <td>Sinh thiết là một xét nghiệm quan trọng trong ...</td>\n",
       "    </tr>\n",
       "  </tbody>\n",
       "</table>\n",
       "</div>"
      ],
      "text/plain": [
       "                                                text\n",
       "0  Bệnh ghẻ, một căn bệnh da liễu khá phổ biến, t...\n",
       "1  Sinh thiết là một xét nghiệm quan trọng trong ..."
      ]
     },
     "execution_count": 4,
     "metadata": {},
     "output_type": "execute_result"
    }
   ],
   "source": [
    "df_test = pd.read_csv(\"/kaggle/input/dataset-for-dagpt/pretrain_test.csv\")\n",
    "df_test.head(2)"
   ]
  },
  {
   "cell_type": "markdown",
   "id": "6099e798",
   "metadata": {
    "papermill": {
     "duration": 0.019701,
     "end_time": "2024-10-12T14:52:21.921903",
     "exception": false,
     "start_time": "2024-10-12T14:52:21.902202",
     "status": "completed"
    },
    "tags": []
   },
   "source": [
    "# Preprocessing Data & Building Dataset"
   ]
  },
  {
   "cell_type": "markdown",
   "id": "8c5769da",
   "metadata": {
    "papermill": {
     "duration": 0.021673,
     "end_time": "2024-10-12T14:52:21.964680",
     "exception": false,
     "start_time": "2024-10-12T14:52:21.943007",
     "status": "completed"
    },
    "tags": []
   },
   "source": [
    "Data đã được xử lí một số trước đó, nên hiện tại ta chỉ thay kí tự xuống hàng thành ký tự đặc biệt `NEWLINE` và tokenize"
   ]
  },
  {
   "cell_type": "code",
   "execution_count": 5,
   "id": "d2a796e3",
   "metadata": {
    "execution": {
     "iopub.execute_input": "2024-10-12T14:52:22.008436Z",
     "iopub.status.busy": "2024-10-12T14:52:22.007717Z",
     "iopub.status.idle": "2024-10-12T14:52:22.012941Z",
     "shell.execute_reply": "2024-10-12T14:52:22.011821Z"
    },
    "papermill": {
     "duration": 0.029758,
     "end_time": "2024-10-12T14:52:22.015287",
     "exception": false,
     "start_time": "2024-10-12T14:52:21.985529",
     "status": "completed"
    },
    "tags": []
   },
   "outputs": [],
   "source": [
    "def preprocessing_str(s):\n",
    "    return tokenizer.encode(s.replace(\"\\n\",\"[NEWLINE]\")).ids"
   ]
  },
  {
   "cell_type": "code",
   "execution_count": 6,
   "id": "b99792c9",
   "metadata": {
    "execution": {
     "iopub.execute_input": "2024-10-12T14:52:22.057866Z",
     "iopub.status.busy": "2024-10-12T14:52:22.057437Z",
     "iopub.status.idle": "2024-10-12T14:52:22.066943Z",
     "shell.execute_reply": "2024-10-12T14:52:22.065874Z"
    },
    "papermill": {
     "duration": 0.034632,
     "end_time": "2024-10-12T14:52:22.069404",
     "exception": false,
     "start_time": "2024-10-12T14:52:22.034772",
     "status": "completed"
    },
    "tags": []
   },
   "outputs": [],
   "source": [
    "class MyDataset(Dataset):\n",
    "    def __init__(self, df, max_len=256):\n",
    "        self.data = []\n",
    "        self.label = []\n",
    "        for text in df['text']:\n",
    "            checked = True\n",
    "            tokens = preprocessing_str(text)\n",
    "            while len(tokens) <= max_len:\n",
    "                checked = False\n",
    "                tokens = tokens + [tokenizer.token_to_id(\"[PAD]\")]\n",
    "            for i in range(0, len(tokens)- max_len, max_len):\n",
    "                self.data.append(tokens[i:i+max_len])\n",
    "                self.label.append(tokens[i+1:i+1+max_len])\n",
    "\n",
    "    def __len__(self):\n",
    "        return len(self.data)\n",
    "\n",
    "    def __getitem__(self, idx):\n",
    "        return torch.tensor(self.data[idx], dtype=torch.long), torch.tensor(self.label[idx], dtype=torch.long)"
   ]
  },
  {
   "cell_type": "code",
   "execution_count": 7,
   "id": "deb9c540",
   "metadata": {
    "execution": {
     "iopub.execute_input": "2024-10-12T14:52:22.111589Z",
     "iopub.status.busy": "2024-10-12T14:52:22.111103Z",
     "iopub.status.idle": "2024-10-12T14:53:16.582291Z",
     "shell.execute_reply": "2024-10-12T14:53:16.581194Z"
    },
    "papermill": {
     "duration": 54.515106,
     "end_time": "2024-10-12T14:53:16.604702",
     "exception": false,
     "start_time": "2024-10-12T14:52:22.089596",
     "status": "completed"
    },
    "tags": []
   },
   "outputs": [
    {
     "data": {
      "text/plain": [
       "83805"
      ]
     },
     "execution_count": 7,
     "metadata": {},
     "output_type": "execute_result"
    }
   ],
   "source": [
    "data_train = MyDataset(df_train)\n",
    "len(data_train)"
   ]
  },
  {
   "cell_type": "markdown",
   "id": "8e9f17b1",
   "metadata": {
    "papermill": {
     "duration": 0.020669,
     "end_time": "2024-10-12T14:53:16.645947",
     "exception": false,
     "start_time": "2024-10-12T14:53:16.625278",
     "status": "completed"
    },
    "tags": []
   },
   "source": [
    "# Model Setup"
   ]
  },
  {
   "cell_type": "code",
   "execution_count": 8,
   "id": "da589985",
   "metadata": {
    "execution": {
     "iopub.execute_input": "2024-10-12T14:53:16.687884Z",
     "iopub.status.busy": "2024-10-12T14:53:16.687415Z",
     "iopub.status.idle": "2024-10-12T14:53:16.720965Z",
     "shell.execute_reply": "2024-10-12T14:53:16.719856Z"
    },
    "papermill": {
     "duration": 0.056999,
     "end_time": "2024-10-12T14:53:16.723060",
     "exception": false,
     "start_time": "2024-10-12T14:53:16.666061",
     "status": "completed"
    },
    "tags": []
   },
   "outputs": [],
   "source": [
    "class TokenEmbedding(nn.Module):\n",
    "    \n",
    "    def __init__(self, vocab_size:int, d_model:int):\n",
    "        super(TokenEmbedding, self).__init__()\n",
    "        self.embedding_layer = nn.Embedding(vocab_size, d_model)\n",
    "        self.d_model = d_model\n",
    "    \n",
    "    def forward(self, tokens: torch.Tensor):\n",
    "        return self.embedding_layer(tokens.long()) * math.sqrt(self.d_model)\n",
    "    \n",
    "class PositionalEncoding(nn.Module):\n",
    "    \n",
    "    def __init__(self, max_length_seq:int, d_model:int, dropout_rate:float):\n",
    "        super(PositionalEncoding, self).__init__()\n",
    "        den = torch.exp(- torch.arange(0, d_model, 2)* math.log(10000) / d_model)\n",
    "        pos = torch.arange(0, max_length_seq).reshape(max_length_seq, 1)\n",
    "        PE = torch.zeros((max_length_seq, d_model))\n",
    "        PE[:, 0::2] = torch.sin(pos * den)\n",
    "        PE[:, 1::2] = torch.cos(pos * den)\n",
    "        PE = PE.unsqueeze(-2)\n",
    "        self.register_buffer(\"PE\", PE)\n",
    "        self.dropout_layer = nn.Dropout(dropout_rate)\n",
    "        \n",
    "    def forward(self, token_embedding: torch.Tensor):\n",
    "        return self.dropout_layer(token_embedding + self.PE[:token_embedding.size(0), :])\n",
    "    \n",
    "class DecoderOnlyBlock(nn.Module):\n",
    "    \n",
    "    def __init__(self, d_model, num_heads, d_ff,dropout_rate=0.0, batch_first=True):\n",
    "        super(DecoderOnlyBlock, self).__init__()\n",
    "        \n",
    "        # Masked Multihead Attention\n",
    "        self.mmha = nn.MultiheadAttention(embed_dim=d_model, num_heads=num_heads, dropout=dropout_rate, batch_first=batch_first)\n",
    "        \n",
    "        # Normalize 1\n",
    "        self.norm1 = nn.LayerNorm(normalized_shape= d_model, eps=1e-05, elementwise_affine=True, bias=True)\n",
    "        \n",
    "        # Feed forward\n",
    "        self.feed_forward = nn.Sequential(\n",
    "            nn.Linear(in_features=d_model, out_features=d_ff, bias=True),\n",
    "            nn.ReLU(),\n",
    "            nn.Linear(in_features=d_ff, out_features=d_model, bias=True),\n",
    "        )\n",
    "        \n",
    "        # Normalize 2\n",
    "        self.norm2 = nn.LayerNorm(normalized_shape= d_model, eps=1e-05, elementwise_affine=True, bias=True)\n",
    "        \n",
    "        # Dropout\n",
    "        self.dropout = nn.Dropout(dropout_rate)\n",
    "        \n",
    "        \n",
    "    def forward(self, x, attn_mask=None, key_padding_mask=None):\n",
    "        # Block 1\n",
    "        mmha_output, _ = self.mmha(query=x,\n",
    "                                   key=x,\n",
    "                                   value=x,\n",
    "                                   key_padding_mask=key_padding_mask, need_weights=False, \n",
    "                                   attn_mask=attn_mask, \n",
    "                                   average_attn_weights=True, is_causal=False)\n",
    "        \n",
    "        x = self.norm1(x + self.dropout(mmha_output))\n",
    "        \n",
    "        # Block 2\n",
    "        ff_output = self.feed_forward(x)\n",
    "        x = self.norm2(x + self.dropout(ff_output))\n",
    "        \n",
    "        return x"
   ]
  },
  {
   "cell_type": "code",
   "execution_count": 9,
   "id": "3d8ff674",
   "metadata": {
    "execution": {
     "iopub.execute_input": "2024-10-12T14:53:16.766856Z",
     "iopub.status.busy": "2024-10-12T14:53:16.766429Z",
     "iopub.status.idle": "2024-10-12T14:53:16.776809Z",
     "shell.execute_reply": "2024-10-12T14:53:16.775846Z"
    },
    "papermill": {
     "duration": 0.034934,
     "end_time": "2024-10-12T14:53:16.779028",
     "exception": false,
     "start_time": "2024-10-12T14:53:16.744094",
     "status": "completed"
    },
    "tags": []
   },
   "outputs": [],
   "source": [
    "class DaGPT(nn.Module):\n",
    "    def __init__(self, d_model, vocab_size, max_len_seq, num_heads, d_ff, num_of_block, dropout_rate=0.0, batch_first=True):\n",
    "        super(DaGPT, self).__init__()\n",
    "        self.token_embedding = TokenEmbedding(vocab_size, d_model)\n",
    "        self.position_embedding = PositionalEncoding(max_len_seq, d_model, dropout_rate)\n",
    "        self.dropout = nn.Dropout(dropout_rate)\n",
    "        \n",
    "        self.decoder_blocks = nn.ModuleList([\n",
    "            DecoderOnlyBlock(d_model=d_model, num_heads=num_heads, d_ff=d_ff,dropout_rate=dropout_rate, batch_first=batch_first) \n",
    "            for _ in range(num_of_block)\n",
    "        ])\n",
    "        \n",
    "        self.linear_out = nn.Linear(in_features=d_model, out_features=vocab_size, bias=True)\n",
    "        \n",
    "    def forward(self, x, attn_mask=None, key_padding_mask=None):\n",
    "        x = self.token_embedding(x)\n",
    "        x = self.position_embedding(x)\n",
    "        \n",
    "        for block in self.decoder_blocks:\n",
    "            x = block(x, attn_mask=attn_mask, key_padding_mask=key_padding_mask)\n",
    "            \n",
    "        logits = self.linear_out(x)\n",
    "        \n",
    "        return logits  "
   ]
  },
  {
   "cell_type": "code",
   "execution_count": 10,
   "id": "0bf84ec0",
   "metadata": {
    "execution": {
     "iopub.execute_input": "2024-10-12T14:53:16.822991Z",
     "iopub.status.busy": "2024-10-12T14:53:16.822586Z",
     "iopub.status.idle": "2024-10-12T14:53:18.933515Z",
     "shell.execute_reply": "2024-10-12T14:53:18.932524Z"
    },
    "papermill": {
     "duration": 2.135589,
     "end_time": "2024-10-12T14:53:18.935864",
     "exception": false,
     "start_time": "2024-10-12T14:53:16.800275",
     "status": "completed"
    },
    "tags": []
   },
   "outputs": [
    {
     "name": "stdout",
     "output_type": "stream",
     "text": [
      "Tổng số tham số: 208100494\n"
     ]
    }
   ],
   "source": [
    "model = DaGPT(d_model=768,\n",
    "               vocab_size=tokenizer.get_vocab_size(),\n",
    "               max_len_seq=256,\n",
    "               num_heads=16,\n",
    "               d_ff=3072, \n",
    "               num_of_block=24, \n",
    "               dropout_rate=0.1, \n",
    "               batch_first=True)\n",
    "\n",
    "total_params = sum(p.numel() for p in model.parameters())\n",
    "print(f\"Tổng số tham số: {total_params}\")"
   ]
  },
  {
   "cell_type": "code",
   "execution_count": 11,
   "id": "f4d4656d",
   "metadata": {
    "execution": {
     "iopub.execute_input": "2024-10-12T14:53:18.980096Z",
     "iopub.status.busy": "2024-10-12T14:53:18.979671Z",
     "iopub.status.idle": "2024-10-12T14:53:19.480849Z",
     "shell.execute_reply": "2024-10-12T14:53:19.479619Z"
    },
    "papermill": {
     "duration": 0.526405,
     "end_time": "2024-10-12T14:53:19.483403",
     "exception": false,
     "start_time": "2024-10-12T14:53:18.956998",
     "status": "completed"
    },
    "tags": []
   },
   "outputs": [
    {
     "data": {
      "text/plain": [
       "device(type='cuda')"
      ]
     },
     "execution_count": 11,
     "metadata": {},
     "output_type": "execute_result"
    }
   ],
   "source": [
    "device = torch.device(\"cuda\" if torch.cuda.is_available() else \"cpu\")\n",
    "model.to(device)\n",
    "device"
   ]
  },
  {
   "cell_type": "markdown",
   "id": "0fbfcf0b",
   "metadata": {
    "papermill": {
     "duration": 0.021561,
     "end_time": "2024-10-12T14:53:19.526797",
     "exception": false,
     "start_time": "2024-10-12T14:53:19.505236",
     "status": "completed"
    },
    "tags": []
   },
   "source": [
    "# Load model weight"
   ]
  },
  {
   "cell_type": "code",
   "execution_count": 12,
   "id": "172949ee",
   "metadata": {
    "execution": {
     "iopub.execute_input": "2024-10-12T14:53:19.572678Z",
     "iopub.status.busy": "2024-10-12T14:53:19.572274Z",
     "iopub.status.idle": "2024-10-12T14:53:26.871758Z",
     "shell.execute_reply": "2024-10-12T14:53:26.870689Z"
    },
    "papermill": {
     "duration": 7.32507,
     "end_time": "2024-10-12T14:53:26.874133",
     "exception": false,
     "start_time": "2024-10-12T14:53:19.549063",
     "status": "completed"
    },
    "tags": []
   },
   "outputs": [
    {
     "name": "stderr",
     "output_type": "stream",
     "text": [
      "/tmp/ipykernel_22/3045564232.py:1: FutureWarning: You are using `torch.load` with `weights_only=False` (the current default value), which uses the default pickle module implicitly. It is possible to construct malicious pickle data which will execute arbitrary code during unpickling (See https://github.com/pytorch/pytorch/blob/main/SECURITY.md#untrusted-models for more details). In a future release, the default value for `weights_only` will be flipped to `True`. This limits the functions that could be executed during unpickling. Arbitrary objects will no longer be allowed to be loaded via this mode unless they are explicitly allowlisted by the user via `torch.serialization.add_safe_globals`. We recommend you start setting `weights_only=True` for any use case where you don't have full control of the loaded file. Please open an issue on GitHub for any issues related to this experimental feature.\n",
      "  model.load_state_dict(torch.load('/kaggle/input/dagpt-pretrain-epoch-1-5/model_weights.pth'))\n"
     ]
    },
    {
     "data": {
      "text/plain": [
       "<All keys matched successfully>"
      ]
     },
     "execution_count": 12,
     "metadata": {},
     "output_type": "execute_result"
    }
   ],
   "source": [
    "model.load_state_dict(torch.load('/kaggle/input/dagpt-pretrain-epoch-1-5/model_weights.pth'))"
   ]
  },
  {
   "cell_type": "markdown",
   "id": "8963e15d",
   "metadata": {
    "papermill": {
     "duration": 0.021888,
     "end_time": "2024-10-12T14:53:26.918314",
     "exception": false,
     "start_time": "2024-10-12T14:53:26.896426",
     "status": "completed"
    },
    "tags": []
   },
   "source": [
    "# Greedy Inference Function"
   ]
  },
  {
   "cell_type": "code",
   "execution_count": 13,
   "id": "37ee1a83",
   "metadata": {
    "execution": {
     "iopub.execute_input": "2024-10-12T14:53:26.964629Z",
     "iopub.status.busy": "2024-10-12T14:53:26.963647Z",
     "iopub.status.idle": "2024-10-12T14:53:26.972372Z",
     "shell.execute_reply": "2024-10-12T14:53:26.971332Z"
    },
    "papermill": {
     "duration": 0.033985,
     "end_time": "2024-10-12T14:53:26.974423",
     "exception": false,
     "start_time": "2024-10-12T14:53:26.940438",
     "status": "completed"
    },
    "tags": []
   },
   "outputs": [],
   "source": [
    "def greedy_inference(prompt, max_len_seq=256, max_len_gen=50, temperature=1):\n",
    "    model.eval()\n",
    "    result = []\n",
    "    with torch.no_grad():\n",
    "        tokens_idx = preprocessing_str(prompt)\n",
    "        for i in range(max_len_gen):\n",
    "            tgt = torch.tensor(tokens_idx, dtype=torch.long).unsqueeze(0).to(device)\n",
    "            logits = model(tgt)\n",
    "            probs = torch.softmax(logits[:,-1,:] / temperature, dim=-1)\n",
    "            next_token = torch.argmax(probs, dim=-1).item()\n",
    "            result.append(next_token)\n",
    "            if len(tokens_idx) < max_len_seq:\n",
    "                tokens_idx = tokens_idx+[next_token] \n",
    "            else:\n",
    "                tokens_idx = tokens_idx[1:]+[next_token]\n",
    "        return tokenizer.decode(result)"
   ]
  },
  {
   "cell_type": "code",
   "execution_count": 14,
   "id": "d8a8c0b8",
   "metadata": {
    "execution": {
     "iopub.execute_input": "2024-10-12T14:53:27.021227Z",
     "iopub.status.busy": "2024-10-12T14:53:27.020778Z",
     "iopub.status.idle": "2024-10-12T14:53:27.955994Z",
     "shell.execute_reply": "2024-10-12T14:53:27.954963Z"
    },
    "papermill": {
     "duration": 0.963449,
     "end_time": "2024-10-12T14:53:27.958520",
     "exception": false,
     "start_time": "2024-10-12T14:53:26.995071",
     "status": "completed"
    },
    "tags": []
   },
   "outputs": [
    {
     "data": {
      "text/plain": [
       "'một loại nấm gây nấm Candida . Nấm tóc , nấm tóc tóc tóc tóc tóc tóc tóc tóc tóc tóc tóc tóc tóc tóc tóc tóc tóc tóc tóc tóc tóc tóc tóc tóc tóc tóc tóc tóc tóc tóc tóc tóc tóc tóc tóc tóc tóc tóc tóc'"
      ]
     },
     "execution_count": 14,
     "metadata": {},
     "output_type": "execute_result"
    }
   ],
   "source": [
    "greedy_inference(\"Chốc là\")"
   ]
  },
  {
   "cell_type": "markdown",
   "id": "c81393fa",
   "metadata": {
    "papermill": {
     "duration": 0.022562,
     "end_time": "2024-10-12T14:53:28.003402",
     "exception": false,
     "start_time": "2024-10-12T14:53:27.980840",
     "status": "completed"
    },
    "tags": []
   },
   "source": [
    "# Model Training"
   ]
  },
  {
   "cell_type": "code",
   "execution_count": 15,
   "id": "a342aa0f",
   "metadata": {
    "execution": {
     "iopub.execute_input": "2024-10-12T14:53:28.049460Z",
     "iopub.status.busy": "2024-10-12T14:53:28.048399Z",
     "iopub.status.idle": "2024-10-12T14:53:29.401133Z",
     "shell.execute_reply": "2024-10-12T14:53:29.400037Z"
    },
    "papermill": {
     "duration": 1.378907,
     "end_time": "2024-10-12T14:53:29.404048",
     "exception": false,
     "start_time": "2024-10-12T14:53:28.025141",
     "status": "completed"
    },
    "tags": []
   },
   "outputs": [],
   "source": [
    "batch_size = 20\n",
    "max_len = 256\n",
    "epochs = 5\n",
    "\n",
    "# DataLoader\n",
    "train_loader = DataLoader(data_train, batch_size=batch_size, shuffle=True)\n",
    "len_loader = len(train_loader)  # Tính độ dài của DataLoader\n",
    "total_steps = epochs * len_loader\n",
    "\n",
    "# Optimize\n",
    "optimizer = torch.optim.AdamW(model.parameters(), lr=1e-5, betas=(0.9, 0.999), eps=1e-8)\n",
    "\n",
    "# Loss \n",
    "criterion = nn.CrossEntropyLoss(ignore_index=tokenizer.token_to_id(\"[PAD]\"))"
   ]
  },
  {
   "cell_type": "code",
   "execution_count": 16,
   "id": "5af38145",
   "metadata": {
    "execution": {
     "iopub.execute_input": "2024-10-12T14:53:29.448741Z",
     "iopub.status.busy": "2024-10-12T14:53:29.447833Z",
     "iopub.status.idle": "2024-10-12T21:29:26.650915Z",
     "shell.execute_reply": "2024-10-12T21:29:26.649930Z"
    },
    "papermill": {
     "duration": 23757.227641,
     "end_time": "2024-10-12T21:29:26.653158",
     "exception": false,
     "start_time": "2024-10-12T14:53:29.425517",
     "status": "completed"
    },
    "tags": []
   },
   "outputs": [
    {
     "data": {
      "application/vnd.jupyter.widget-view+json": {
       "model_id": "2e667ae6a68541f1b63e5cec8ac6f838",
       "version_major": 2,
       "version_minor": 0
      },
      "text/plain": [
       "EPOCH 1/5: 0it [00:00, ?it/s]"
      ]
     },
     "metadata": {},
     "output_type": "display_data"
    },
    {
     "name": "stdout",
     "output_type": "stream",
     "text": [
      "Final Loss: 3.483508892771567\n",
      "Test Greedy Inference: Theo báo cáo của | Bộ Y tế , Bộ Y tế , Bộ Y tế , Bộ Y tế . 1 . 2 . 2 . 2 . 2 . 2 . 2 . 2 . 2 . 4 . 4 .\n"
     ]
    },
    {
     "data": {
      "application/vnd.jupyter.widget-view+json": {
       "model_id": "a3918f341ba64938951293ff4754a925",
       "version_major": 2,
       "version_minor": 0
      },
      "text/plain": [
       "EPOCH 2/5: 0it [00:00, ?it/s]"
      ]
     },
     "metadata": {},
     "output_type": "display_data"
    },
    {
     "name": "stdout",
     "output_type": "stream",
     "text": [
      "Final Loss: 3.3697676788335538\n",
      "Test Greedy Inference: Theo báo cáo của | Bộ Y tế ban hành ban hành ban hành nghề dược , dược , dược , dược , dược , dược , dược , dược , dược liệu , dược liệu , dược liệu , dược liệu , dược liệu , dược liệu , dược liệu , dược liệu ,\n"
     ]
    },
    {
     "data": {
      "application/vnd.jupyter.widget-view+json": {
       "model_id": "fda4b150ab0943de98423369f80bb81c",
       "version_major": 2,
       "version_minor": 0
      },
      "text/plain": [
       "EPOCH 3/5: 0it [00:00, ?it/s]"
      ]
     },
     "metadata": {},
     "output_type": "display_data"
    },
    {
     "name": "stdout",
     "output_type": "stream",
     "text": [
      "Final Loss: 3.274896780137827\n",
      "Test Greedy Inference: Theo báo cáo của | Bộ Y tế ban hành Thông tư này , Bộ Y tế , Bộ Y tế , Bộ Y tế , Bộ Y tế , Bộ Y tế , Bộ Y tế , Bộ Y tế , Bộ Y tế , Bộ Y tế , Bộ Y tế , Bộ\n"
     ]
    },
    {
     "data": {
      "application/vnd.jupyter.widget-view+json": {
       "model_id": "72589730c7d148e6adaaf52eaa299cd4",
       "version_major": 2,
       "version_minor": 0
      },
      "text/plain": [
       "EPOCH 4/5: 0it [00:00, ?it/s]"
      ]
     },
     "metadata": {},
     "output_type": "display_data"
    },
    {
     "name": "stdout",
     "output_type": "stream",
     "text": [
      "Final Loss: 3.194199988222498\n",
      "Test Greedy Inference: Theo báo cáo của | Bộ Y tế , Bộ Y tế , Bộ Y tế , Bộ Y tế , Bộ Y tế , Bộ Y tế , Bộ Y tế , Bộ Y tế , Bộ Y tế . 1 . 1 . 1 . 1 . 1\n"
     ]
    },
    {
     "data": {
      "application/vnd.jupyter.widget-view+json": {
       "model_id": "4ffd021095a1482b8e93505d306452ae",
       "version_major": 2,
       "version_minor": 0
      },
      "text/plain": [
       "EPOCH 5/5: 0it [00:00, ?it/s]"
      ]
     },
     "metadata": {},
     "output_type": "display_data"
    },
    {
     "name": "stdout",
     "output_type": "stream",
     "text": [
      "Final Loss: 3.1231513422731854\n",
      "Test Greedy Inference: Theo báo cáo của | Bộ Y tế , Bộ Y tế , Bộ Y tế , Bộ Y tế , Bộ Y tế , Bộ Y tế . 1 . 1 . 1 . 1 . 1 . 1 . 2 . 2 . 2\n"
     ]
    }
   ],
   "source": [
    "# Training\n",
    "for epoch in range(epochs):\n",
    "    model.train()\n",
    "\n",
    "    total_loss = 0\n",
    "    steps = 0\n",
    "\n",
    "    for i, batch in tqdm(enumerate(train_loader), desc=f\"EPOCH {epoch+1}/{epochs}\"):\n",
    "        data, label = batch\n",
    "        data, label = data.to(device), label.to(device)\n",
    "        data_padding_mask = (data == tokenizer.token_to_id(\"[PAD]\")).to(torch.float)\n",
    "        data_mmha_mask = _generate_square_subsequent_mask(data.size(1)).to(device)\n",
    "        \n",
    "        optimizer.zero_grad()\n",
    "\n",
    "        logits = model(data, data_mmha_mask, data_padding_mask)\n",
    "        \n",
    "        B, T, C = logits.shape\n",
    "        logits = logits.view(B*T, C)\n",
    "        label = label.view(B*T)\n",
    "\n",
    "        loss = criterion(logits, label)\n",
    "        total_loss += loss.item()\n",
    "\n",
    "        loss.backward()\n",
    "        optimizer.step()\n",
    "        steps += 1\n",
    "    \n",
    "    final_loss = total_loss / steps\n",
    "    print(f\"Final Loss: {final_loss}\")\n",
    "    print(\"Test Greedy Inference: Theo báo cáo của | \",end=\"\")\n",
    "    print(greedy_inference(\"Theo báo cáo của\"))"
   ]
  },
  {
   "cell_type": "markdown",
   "id": "560a317c",
   "metadata": {
    "papermill": {
     "duration": 0.020318,
     "end_time": "2024-10-12T21:29:26.694577",
     "exception": false,
     "start_time": "2024-10-12T21:29:26.674259",
     "status": "completed"
    },
    "tags": []
   },
   "source": [
    "# Save model weights"
   ]
  },
  {
   "cell_type": "code",
   "execution_count": 17,
   "id": "00fc6c3b",
   "metadata": {
    "execution": {
     "iopub.execute_input": "2024-10-12T21:29:26.737310Z",
     "iopub.status.busy": "2024-10-12T21:29:26.736461Z",
     "iopub.status.idle": "2024-10-12T21:29:27.918541Z",
     "shell.execute_reply": "2024-10-12T21:29:27.917688Z"
    },
    "papermill": {
     "duration": 1.205843,
     "end_time": "2024-10-12T21:29:27.920878",
     "exception": false,
     "start_time": "2024-10-12T21:29:26.715035",
     "status": "completed"
    },
    "tags": []
   },
   "outputs": [],
   "source": [
    "torch.save(model.state_dict(), '/kaggle/working/model_weights.pth')"
   ]
  },
  {
   "cell_type": "code",
   "execution_count": null,
   "id": "7c567b0b",
   "metadata": {
    "papermill": {
     "duration": 0.020839,
     "end_time": "2024-10-12T21:29:27.962330",
     "exception": false,
     "start_time": "2024-10-12T21:29:27.941491",
     "status": "completed"
    },
    "tags": []
   },
   "outputs": [],
   "source": []
  }
 ],
 "metadata": {
  "kaggle": {
   "accelerator": "none",
   "dataSources": [
    {
     "datasetId": 5853334,
     "sourceId": 9603094,
     "sourceType": "datasetVersion"
    },
    {
     "sourceId": 200569630,
     "sourceType": "kernelVersion"
    },
    {
     "isSourceIdPinned": true,
     "modelId": 136861,
     "modelInstanceId": 113562,
     "sourceId": 134279,
     "sourceType": "modelInstanceVersion"
    }
   ],
   "dockerImageVersionId": 30787,
   "isGpuEnabled": false,
   "isInternetEnabled": true,
   "language": "python",
   "sourceType": "notebook"
  },
  "kernelspec": {
   "display_name": "Python 3",
   "language": "python",
   "name": "python3"
  },
  "language_info": {
   "codemirror_mode": {
    "name": "ipython",
    "version": 3
   },
   "file_extension": ".py",
   "mimetype": "text/x-python",
   "name": "python",
   "nbconvert_exporter": "python",
   "pygments_lexer": "ipython3",
   "version": "3.10.14"
  },
  "papermill": {
   "default_parameters": {},
   "duration": 23839.981043,
   "end_time": "2024-10-12T21:29:30.109802",
   "environment_variables": {},
   "exception": null,
   "input_path": "__notebook__.ipynb",
   "output_path": "__notebook__.ipynb",
   "parameters": {},
   "start_time": "2024-10-12T14:52:10.128759",
   "version": "2.6.0"
  },
  "widgets": {
   "application/vnd.jupyter.widget-state+json": {
    "state": {
     "002642c607164f3e86cd933dc05fa4a4": {
      "model_module": "@jupyter-widgets/controls",
      "model_module_version": "1.5.0",
      "model_name": "FloatProgressModel",
      "state": {
       "_dom_classes": [],
       "_model_module": "@jupyter-widgets/controls",
       "_model_module_version": "1.5.0",
       "_model_name": "FloatProgressModel",
       "_view_count": null,
       "_view_module": "@jupyter-widgets/controls",
       "_view_module_version": "1.5.0",
       "_view_name": "ProgressView",
       "bar_style": "success",
       "description": "",
       "description_tooltip": null,
       "layout": "IPY_MODEL_46018f150d614ab9ad1201d0cd0e478b",
       "max": 1.0,
       "min": 0.0,
       "orientation": "horizontal",
       "style": "IPY_MODEL_bac5a62c11824e42b3380eba8d4893f7",
       "value": 1.0
      }
     },
     "0102da6edffe40f49b0638f2a753202e": {
      "model_module": "@jupyter-widgets/controls",
      "model_module_version": "1.5.0",
      "model_name": "DescriptionStyleModel",
      "state": {
       "_model_module": "@jupyter-widgets/controls",
       "_model_module_version": "1.5.0",
       "_model_name": "DescriptionStyleModel",
       "_view_count": null,
       "_view_module": "@jupyter-widgets/base",
       "_view_module_version": "1.2.0",
       "_view_name": "StyleView",
       "description_width": ""
      }
     },
     "015cb1a0527a4fb19ee2bb3ddf036daa": {
      "model_module": "@jupyter-widgets/controls",
      "model_module_version": "1.5.0",
      "model_name": "HTMLModel",
      "state": {
       "_dom_classes": [],
       "_model_module": "@jupyter-widgets/controls",
       "_model_module_version": "1.5.0",
       "_model_name": "HTMLModel",
       "_view_count": null,
       "_view_module": "@jupyter-widgets/controls",
       "_view_module_version": "1.5.0",
       "_view_name": "HTMLView",
       "description": "",
       "description_tooltip": null,
       "layout": "IPY_MODEL_313b94c9f1d74471835b356e0d1d7f53",
       "placeholder": "​",
       "style": "IPY_MODEL_971f609cc8cd4e0ab17c630cda1ad494",
       "value": "EPOCH 5/5: "
      }
     },
     "0170bf06e82c432db7904c4b8d19468e": {
      "model_module": "@jupyter-widgets/controls",
      "model_module_version": "1.5.0",
      "model_name": "DescriptionStyleModel",
      "state": {
       "_model_module": "@jupyter-widgets/controls",
       "_model_module_version": "1.5.0",
       "_model_name": "DescriptionStyleModel",
       "_view_count": null,
       "_view_module": "@jupyter-widgets/base",
       "_view_module_version": "1.2.0",
       "_view_name": "StyleView",
       "description_width": ""
      }
     },
     "07a14b63886546f68b0eb30548fe2090": {
      "model_module": "@jupyter-widgets/base",
      "model_module_version": "1.2.0",
      "model_name": "LayoutModel",
      "state": {
       "_model_module": "@jupyter-widgets/base",
       "_model_module_version": "1.2.0",
       "_model_name": "LayoutModel",
       "_view_count": null,
       "_view_module": "@jupyter-widgets/base",
       "_view_module_version": "1.2.0",
       "_view_name": "LayoutView",
       "align_content": null,
       "align_items": null,
       "align_self": null,
       "border": null,
       "bottom": null,
       "display": null,
       "flex": null,
       "flex_flow": null,
       "grid_area": null,
       "grid_auto_columns": null,
       "grid_auto_flow": null,
       "grid_auto_rows": null,
       "grid_column": null,
       "grid_gap": null,
       "grid_row": null,
       "grid_template_areas": null,
       "grid_template_columns": null,
       "grid_template_rows": null,
       "height": null,
       "justify_content": null,
       "justify_items": null,
       "left": null,
       "margin": null,
       "max_height": null,
       "max_width": null,
       "min_height": null,
       "min_width": null,
       "object_fit": null,
       "object_position": null,
       "order": null,
       "overflow": null,
       "overflow_x": null,
       "overflow_y": null,
       "padding": null,
       "right": null,
       "top": null,
       "visibility": null,
       "width": null
      }
     },
     "0adf452c81564b6d95583e7be33fc417": {
      "model_module": "@jupyter-widgets/base",
      "model_module_version": "1.2.0",
      "model_name": "LayoutModel",
      "state": {
       "_model_module": "@jupyter-widgets/base",
       "_model_module_version": "1.2.0",
       "_model_name": "LayoutModel",
       "_view_count": null,
       "_view_module": "@jupyter-widgets/base",
       "_view_module_version": "1.2.0",
       "_view_name": "LayoutView",
       "align_content": null,
       "align_items": null,
       "align_self": null,
       "border": null,
       "bottom": null,
       "display": null,
       "flex": null,
       "flex_flow": null,
       "grid_area": null,
       "grid_auto_columns": null,
       "grid_auto_flow": null,
       "grid_auto_rows": null,
       "grid_column": null,
       "grid_gap": null,
       "grid_row": null,
       "grid_template_areas": null,
       "grid_template_columns": null,
       "grid_template_rows": null,
       "height": null,
       "justify_content": null,
       "justify_items": null,
       "left": null,
       "margin": null,
       "max_height": null,
       "max_width": null,
       "min_height": null,
       "min_width": null,
       "object_fit": null,
       "object_position": null,
       "order": null,
       "overflow": null,
       "overflow_x": null,
       "overflow_y": null,
       "padding": null,
       "right": null,
       "top": null,
       "visibility": null,
       "width": "20px"
      }
     },
     "153606d542c64b40830c443c86303141": {
      "model_module": "@jupyter-widgets/controls",
      "model_module_version": "1.5.0",
      "model_name": "FloatProgressModel",
      "state": {
       "_dom_classes": [],
       "_model_module": "@jupyter-widgets/controls",
       "_model_module_version": "1.5.0",
       "_model_name": "FloatProgressModel",
       "_view_count": null,
       "_view_module": "@jupyter-widgets/controls",
       "_view_module_version": "1.5.0",
       "_view_name": "ProgressView",
       "bar_style": "success",
       "description": "",
       "description_tooltip": null,
       "layout": "IPY_MODEL_0adf452c81564b6d95583e7be33fc417",
       "max": 1.0,
       "min": 0.0,
       "orientation": "horizontal",
       "style": "IPY_MODEL_fb0125db856f475794f49c9911163ba7",
       "value": 1.0
      }
     },
     "1933c8712502479aac0377ca50c42ba4": {
      "model_module": "@jupyter-widgets/base",
      "model_module_version": "1.2.0",
      "model_name": "LayoutModel",
      "state": {
       "_model_module": "@jupyter-widgets/base",
       "_model_module_version": "1.2.0",
       "_model_name": "LayoutModel",
       "_view_count": null,
       "_view_module": "@jupyter-widgets/base",
       "_view_module_version": "1.2.0",
       "_view_name": "LayoutView",
       "align_content": null,
       "align_items": null,
       "align_self": null,
       "border": null,
       "bottom": null,
       "display": null,
       "flex": null,
       "flex_flow": null,
       "grid_area": null,
       "grid_auto_columns": null,
       "grid_auto_flow": null,
       "grid_auto_rows": null,
       "grid_column": null,
       "grid_gap": null,
       "grid_row": null,
       "grid_template_areas": null,
       "grid_template_columns": null,
       "grid_template_rows": null,
       "height": null,
       "justify_content": null,
       "justify_items": null,
       "left": null,
       "margin": null,
       "max_height": null,
       "max_width": null,
       "min_height": null,
       "min_width": null,
       "object_fit": null,
       "object_position": null,
       "order": null,
       "overflow": null,
       "overflow_x": null,
       "overflow_y": null,
       "padding": null,
       "right": null,
       "top": null,
       "visibility": null,
       "width": null
      }
     },
     "1aebc222b0644b0381c5a81d027caed8": {
      "model_module": "@jupyter-widgets/base",
      "model_module_version": "1.2.0",
      "model_name": "LayoutModel",
      "state": {
       "_model_module": "@jupyter-widgets/base",
       "_model_module_version": "1.2.0",
       "_model_name": "LayoutModel",
       "_view_count": null,
       "_view_module": "@jupyter-widgets/base",
       "_view_module_version": "1.2.0",
       "_view_name": "LayoutView",
       "align_content": null,
       "align_items": null,
       "align_self": null,
       "border": null,
       "bottom": null,
       "display": null,
       "flex": null,
       "flex_flow": null,
       "grid_area": null,
       "grid_auto_columns": null,
       "grid_auto_flow": null,
       "grid_auto_rows": null,
       "grid_column": null,
       "grid_gap": null,
       "grid_row": null,
       "grid_template_areas": null,
       "grid_template_columns": null,
       "grid_template_rows": null,
       "height": null,
       "justify_content": null,
       "justify_items": null,
       "left": null,
       "margin": null,
       "max_height": null,
       "max_width": null,
       "min_height": null,
       "min_width": null,
       "object_fit": null,
       "object_position": null,
       "order": null,
       "overflow": null,
       "overflow_x": null,
       "overflow_y": null,
       "padding": null,
       "right": null,
       "top": null,
       "visibility": null,
       "width": null
      }
     },
     "23a84c8e271c4aabacc3357c8e66d818": {
      "model_module": "@jupyter-widgets/controls",
      "model_module_version": "1.5.0",
      "model_name": "FloatProgressModel",
      "state": {
       "_dom_classes": [],
       "_model_module": "@jupyter-widgets/controls",
       "_model_module_version": "1.5.0",
       "_model_name": "FloatProgressModel",
       "_view_count": null,
       "_view_module": "@jupyter-widgets/controls",
       "_view_module_version": "1.5.0",
       "_view_name": "ProgressView",
       "bar_style": "success",
       "description": "",
       "description_tooltip": null,
       "layout": "IPY_MODEL_7b2925ab242944c6a4a19289402b0a16",
       "max": 1.0,
       "min": 0.0,
       "orientation": "horizontal",
       "style": "IPY_MODEL_3fdc24d310f447b4956c2f7bd1a14a55",
       "value": 1.0
      }
     },
     "2c140723f15f4f509072354eb879e9ec": {
      "model_module": "@jupyter-widgets/controls",
      "model_module_version": "1.5.0",
      "model_name": "HTMLModel",
      "state": {
       "_dom_classes": [],
       "_model_module": "@jupyter-widgets/controls",
       "_model_module_version": "1.5.0",
       "_model_name": "HTMLModel",
       "_view_count": null,
       "_view_module": "@jupyter-widgets/controls",
       "_view_module_version": "1.5.0",
       "_view_name": "HTMLView",
       "description": "",
       "description_tooltip": null,
       "layout": "IPY_MODEL_60c54d93685c4f8881bbf28137926287",
       "placeholder": "​",
       "style": "IPY_MODEL_3be9ed89a25d4d30bbc86225f401af05",
       "value": "EPOCH 2/5: "
      }
     },
     "2e667ae6a68541f1b63e5cec8ac6f838": {
      "model_module": "@jupyter-widgets/controls",
      "model_module_version": "1.5.0",
      "model_name": "HBoxModel",
      "state": {
       "_dom_classes": [],
       "_model_module": "@jupyter-widgets/controls",
       "_model_module_version": "1.5.0",
       "_model_name": "HBoxModel",
       "_view_count": null,
       "_view_module": "@jupyter-widgets/controls",
       "_view_module_version": "1.5.0",
       "_view_name": "HBoxView",
       "box_style": "",
       "children": [
        "IPY_MODEL_d098aa4db1b54f908f310d6ad211b236",
        "IPY_MODEL_002642c607164f3e86cd933dc05fa4a4",
        "IPY_MODEL_b62877fc651f4c9da16b8647d481d33f"
       ],
       "layout": "IPY_MODEL_8b7e714596684b5b825db9eff9df4dba"
      }
     },
     "313b94c9f1d74471835b356e0d1d7f53": {
      "model_module": "@jupyter-widgets/base",
      "model_module_version": "1.2.0",
      "model_name": "LayoutModel",
      "state": {
       "_model_module": "@jupyter-widgets/base",
       "_model_module_version": "1.2.0",
       "_model_name": "LayoutModel",
       "_view_count": null,
       "_view_module": "@jupyter-widgets/base",
       "_view_module_version": "1.2.0",
       "_view_name": "LayoutView",
       "align_content": null,
       "align_items": null,
       "align_self": null,
       "border": null,
       "bottom": null,
       "display": null,
       "flex": null,
       "flex_flow": null,
       "grid_area": null,
       "grid_auto_columns": null,
       "grid_auto_flow": null,
       "grid_auto_rows": null,
       "grid_column": null,
       "grid_gap": null,
       "grid_row": null,
       "grid_template_areas": null,
       "grid_template_columns": null,
       "grid_template_rows": null,
       "height": null,
       "justify_content": null,
       "justify_items": null,
       "left": null,
       "margin": null,
       "max_height": null,
       "max_width": null,
       "min_height": null,
       "min_width": null,
       "object_fit": null,
       "object_position": null,
       "order": null,
       "overflow": null,
       "overflow_x": null,
       "overflow_y": null,
       "padding": null,
       "right": null,
       "top": null,
       "visibility": null,
       "width": null
      }
     },
     "39d787101f394a29bb70491f80f37d0f": {
      "model_module": "@jupyter-widgets/controls",
      "model_module_version": "1.5.0",
      "model_name": "HTMLModel",
      "state": {
       "_dom_classes": [],
       "_model_module": "@jupyter-widgets/controls",
       "_model_module_version": "1.5.0",
       "_model_name": "HTMLModel",
       "_view_count": null,
       "_view_module": "@jupyter-widgets/controls",
       "_view_module_version": "1.5.0",
       "_view_name": "HTMLView",
       "description": "",
       "description_tooltip": null,
       "layout": "IPY_MODEL_3daa1dee2b6e40f4ae57cb2d8432a92f",
       "placeholder": "​",
       "style": "IPY_MODEL_bd3b134757454434814855142b195903",
       "value": " 4191/? [1:19:09&lt;00:00,  1.03s/it]"
      }
     },
     "3be9ed89a25d4d30bbc86225f401af05": {
      "model_module": "@jupyter-widgets/controls",
      "model_module_version": "1.5.0",
      "model_name": "DescriptionStyleModel",
      "state": {
       "_model_module": "@jupyter-widgets/controls",
       "_model_module_version": "1.5.0",
       "_model_name": "DescriptionStyleModel",
       "_view_count": null,
       "_view_module": "@jupyter-widgets/base",
       "_view_module_version": "1.2.0",
       "_view_name": "StyleView",
       "description_width": ""
      }
     },
     "3daa1dee2b6e40f4ae57cb2d8432a92f": {
      "model_module": "@jupyter-widgets/base",
      "model_module_version": "1.2.0",
      "model_name": "LayoutModel",
      "state": {
       "_model_module": "@jupyter-widgets/base",
       "_model_module_version": "1.2.0",
       "_model_name": "LayoutModel",
       "_view_count": null,
       "_view_module": "@jupyter-widgets/base",
       "_view_module_version": "1.2.0",
       "_view_name": "LayoutView",
       "align_content": null,
       "align_items": null,
       "align_self": null,
       "border": null,
       "bottom": null,
       "display": null,
       "flex": null,
       "flex_flow": null,
       "grid_area": null,
       "grid_auto_columns": null,
       "grid_auto_flow": null,
       "grid_auto_rows": null,
       "grid_column": null,
       "grid_gap": null,
       "grid_row": null,
       "grid_template_areas": null,
       "grid_template_columns": null,
       "grid_template_rows": null,
       "height": null,
       "justify_content": null,
       "justify_items": null,
       "left": null,
       "margin": null,
       "max_height": null,
       "max_width": null,
       "min_height": null,
       "min_width": null,
       "object_fit": null,
       "object_position": null,
       "order": null,
       "overflow": null,
       "overflow_x": null,
       "overflow_y": null,
       "padding": null,
       "right": null,
       "top": null,
       "visibility": null,
       "width": null
      }
     },
     "3fdc24d310f447b4956c2f7bd1a14a55": {
      "model_module": "@jupyter-widgets/controls",
      "model_module_version": "1.5.0",
      "model_name": "ProgressStyleModel",
      "state": {
       "_model_module": "@jupyter-widgets/controls",
       "_model_module_version": "1.5.0",
       "_model_name": "ProgressStyleModel",
       "_view_count": null,
       "_view_module": "@jupyter-widgets/base",
       "_view_module_version": "1.2.0",
       "_view_name": "StyleView",
       "bar_color": null,
       "description_width": ""
      }
     },
     "4505b81db38347b68e5876f5ec4a73e4": {
      "model_module": "@jupyter-widgets/controls",
      "model_module_version": "1.5.0",
      "model_name": "HTMLModel",
      "state": {
       "_dom_classes": [],
       "_model_module": "@jupyter-widgets/controls",
       "_model_module_version": "1.5.0",
       "_model_name": "HTMLModel",
       "_view_count": null,
       "_view_module": "@jupyter-widgets/controls",
       "_view_module_version": "1.5.0",
       "_view_name": "HTMLView",
       "description": "",
       "description_tooltip": null,
       "layout": "IPY_MODEL_9cad94656e5546819e84a3a19f2d9d67",
       "placeholder": "​",
       "style": "IPY_MODEL_9b7360cefb5745ff958a558dfa09ecd0",
       "value": " 4191/? [1:19:12&lt;00:00,  1.03s/it]"
      }
     },
     "46018f150d614ab9ad1201d0cd0e478b": {
      "model_module": "@jupyter-widgets/base",
      "model_module_version": "1.2.0",
      "model_name": "LayoutModel",
      "state": {
       "_model_module": "@jupyter-widgets/base",
       "_model_module_version": "1.2.0",
       "_model_name": "LayoutModel",
       "_view_count": null,
       "_view_module": "@jupyter-widgets/base",
       "_view_module_version": "1.2.0",
       "_view_name": "LayoutView",
       "align_content": null,
       "align_items": null,
       "align_self": null,
       "border": null,
       "bottom": null,
       "display": null,
       "flex": null,
       "flex_flow": null,
       "grid_area": null,
       "grid_auto_columns": null,
       "grid_auto_flow": null,
       "grid_auto_rows": null,
       "grid_column": null,
       "grid_gap": null,
       "grid_row": null,
       "grid_template_areas": null,
       "grid_template_columns": null,
       "grid_template_rows": null,
       "height": null,
       "justify_content": null,
       "justify_items": null,
       "left": null,
       "margin": null,
       "max_height": null,
       "max_width": null,
       "min_height": null,
       "min_width": null,
       "object_fit": null,
       "object_position": null,
       "order": null,
       "overflow": null,
       "overflow_x": null,
       "overflow_y": null,
       "padding": null,
       "right": null,
       "top": null,
       "visibility": null,
       "width": "20px"
      }
     },
     "4ffd021095a1482b8e93505d306452ae": {
      "model_module": "@jupyter-widgets/controls",
      "model_module_version": "1.5.0",
      "model_name": "HBoxModel",
      "state": {
       "_dom_classes": [],
       "_model_module": "@jupyter-widgets/controls",
       "_model_module_version": "1.5.0",
       "_model_name": "HBoxModel",
       "_view_count": null,
       "_view_module": "@jupyter-widgets/controls",
       "_view_module_version": "1.5.0",
       "_view_name": "HBoxView",
       "box_style": "",
       "children": [
        "IPY_MODEL_015cb1a0527a4fb19ee2bb3ddf036daa",
        "IPY_MODEL_779046f73be24e469ce4cd862012991b",
        "IPY_MODEL_5555ecf31ca0486680036b48aef35ff6"
       ],
       "layout": "IPY_MODEL_aef2947389594cf7a50213ce4af74841"
      }
     },
     "50c59689e70d4432bed1175ce8c154f2": {
      "model_module": "@jupyter-widgets/base",
      "model_module_version": "1.2.0",
      "model_name": "LayoutModel",
      "state": {
       "_model_module": "@jupyter-widgets/base",
       "_model_module_version": "1.2.0",
       "_model_name": "LayoutModel",
       "_view_count": null,
       "_view_module": "@jupyter-widgets/base",
       "_view_module_version": "1.2.0",
       "_view_name": "LayoutView",
       "align_content": null,
       "align_items": null,
       "align_self": null,
       "border": null,
       "bottom": null,
       "display": null,
       "flex": null,
       "flex_flow": null,
       "grid_area": null,
       "grid_auto_columns": null,
       "grid_auto_flow": null,
       "grid_auto_rows": null,
       "grid_column": null,
       "grid_gap": null,
       "grid_row": null,
       "grid_template_areas": null,
       "grid_template_columns": null,
       "grid_template_rows": null,
       "height": null,
       "justify_content": null,
       "justify_items": null,
       "left": null,
       "margin": null,
       "max_height": null,
       "max_width": null,
       "min_height": null,
       "min_width": null,
       "object_fit": null,
       "object_position": null,
       "order": null,
       "overflow": null,
       "overflow_x": null,
       "overflow_y": null,
       "padding": null,
       "right": null,
       "top": null,
       "visibility": null,
       "width": null
      }
     },
     "53e08f1f7031413e86eb804c0c1977a7": {
      "model_module": "@jupyter-widgets/base",
      "model_module_version": "1.2.0",
      "model_name": "LayoutModel",
      "state": {
       "_model_module": "@jupyter-widgets/base",
       "_model_module_version": "1.2.0",
       "_model_name": "LayoutModel",
       "_view_count": null,
       "_view_module": "@jupyter-widgets/base",
       "_view_module_version": "1.2.0",
       "_view_name": "LayoutView",
       "align_content": null,
       "align_items": null,
       "align_self": null,
       "border": null,
       "bottom": null,
       "display": null,
       "flex": null,
       "flex_flow": null,
       "grid_area": null,
       "grid_auto_columns": null,
       "grid_auto_flow": null,
       "grid_auto_rows": null,
       "grid_column": null,
       "grid_gap": null,
       "grid_row": null,
       "grid_template_areas": null,
       "grid_template_columns": null,
       "grid_template_rows": null,
       "height": null,
       "justify_content": null,
       "justify_items": null,
       "left": null,
       "margin": null,
       "max_height": null,
       "max_width": null,
       "min_height": null,
       "min_width": null,
       "object_fit": null,
       "object_position": null,
       "order": null,
       "overflow": null,
       "overflow_x": null,
       "overflow_y": null,
       "padding": null,
       "right": null,
       "top": null,
       "visibility": null,
       "width": "20px"
      }
     },
     "541c1cfa0ed74e11aa0e0efeecac8780": {
      "model_module": "@jupyter-widgets/base",
      "model_module_version": "1.2.0",
      "model_name": "LayoutModel",
      "state": {
       "_model_module": "@jupyter-widgets/base",
       "_model_module_version": "1.2.0",
       "_model_name": "LayoutModel",
       "_view_count": null,
       "_view_module": "@jupyter-widgets/base",
       "_view_module_version": "1.2.0",
       "_view_name": "LayoutView",
       "align_content": null,
       "align_items": null,
       "align_self": null,
       "border": null,
       "bottom": null,
       "display": null,
       "flex": null,
       "flex_flow": null,
       "grid_area": null,
       "grid_auto_columns": null,
       "grid_auto_flow": null,
       "grid_auto_rows": null,
       "grid_column": null,
       "grid_gap": null,
       "grid_row": null,
       "grid_template_areas": null,
       "grid_template_columns": null,
       "grid_template_rows": null,
       "height": null,
       "justify_content": null,
       "justify_items": null,
       "left": null,
       "margin": null,
       "max_height": null,
       "max_width": null,
       "min_height": null,
       "min_width": null,
       "object_fit": null,
       "object_position": null,
       "order": null,
       "overflow": null,
       "overflow_x": null,
       "overflow_y": null,
       "padding": null,
       "right": null,
       "top": null,
       "visibility": null,
       "width": null
      }
     },
     "5555ecf31ca0486680036b48aef35ff6": {
      "model_module": "@jupyter-widgets/controls",
      "model_module_version": "1.5.0",
      "model_name": "HTMLModel",
      "state": {
       "_dom_classes": [],
       "_model_module": "@jupyter-widgets/controls",
       "_model_module_version": "1.5.0",
       "_model_name": "HTMLModel",
       "_view_count": null,
       "_view_module": "@jupyter-widgets/controls",
       "_view_module_version": "1.5.0",
       "_view_name": "HTMLView",
       "description": "",
       "description_tooltip": null,
       "layout": "IPY_MODEL_541c1cfa0ed74e11aa0e0efeecac8780",
       "placeholder": "​",
       "style": "IPY_MODEL_72ed5e79457348959f28ac9ccf99fca3",
       "value": " 4191/? [1:19:13&lt;00:00,  1.03s/it]"
      }
     },
     "596361d130b04a2099908c15a8726c19": {
      "model_module": "@jupyter-widgets/base",
      "model_module_version": "1.2.0",
      "model_name": "LayoutModel",
      "state": {
       "_model_module": "@jupyter-widgets/base",
       "_model_module_version": "1.2.0",
       "_model_name": "LayoutModel",
       "_view_count": null,
       "_view_module": "@jupyter-widgets/base",
       "_view_module_version": "1.2.0",
       "_view_name": "LayoutView",
       "align_content": null,
       "align_items": null,
       "align_self": null,
       "border": null,
       "bottom": null,
       "display": null,
       "flex": null,
       "flex_flow": null,
       "grid_area": null,
       "grid_auto_columns": null,
       "grid_auto_flow": null,
       "grid_auto_rows": null,
       "grid_column": null,
       "grid_gap": null,
       "grid_row": null,
       "grid_template_areas": null,
       "grid_template_columns": null,
       "grid_template_rows": null,
       "height": null,
       "justify_content": null,
       "justify_items": null,
       "left": null,
       "margin": null,
       "max_height": null,
       "max_width": null,
       "min_height": null,
       "min_width": null,
       "object_fit": null,
       "object_position": null,
       "order": null,
       "overflow": null,
       "overflow_x": null,
       "overflow_y": null,
       "padding": null,
       "right": null,
       "top": null,
       "visibility": null,
       "width": null
      }
     },
     "60c54d93685c4f8881bbf28137926287": {
      "model_module": "@jupyter-widgets/base",
      "model_module_version": "1.2.0",
      "model_name": "LayoutModel",
      "state": {
       "_model_module": "@jupyter-widgets/base",
       "_model_module_version": "1.2.0",
       "_model_name": "LayoutModel",
       "_view_count": null,
       "_view_module": "@jupyter-widgets/base",
       "_view_module_version": "1.2.0",
       "_view_name": "LayoutView",
       "align_content": null,
       "align_items": null,
       "align_self": null,
       "border": null,
       "bottom": null,
       "display": null,
       "flex": null,
       "flex_flow": null,
       "grid_area": null,
       "grid_auto_columns": null,
       "grid_auto_flow": null,
       "grid_auto_rows": null,
       "grid_column": null,
       "grid_gap": null,
       "grid_row": null,
       "grid_template_areas": null,
       "grid_template_columns": null,
       "grid_template_rows": null,
       "height": null,
       "justify_content": null,
       "justify_items": null,
       "left": null,
       "margin": null,
       "max_height": null,
       "max_width": null,
       "min_height": null,
       "min_width": null,
       "object_fit": null,
       "object_position": null,
       "order": null,
       "overflow": null,
       "overflow_x": null,
       "overflow_y": null,
       "padding": null,
       "right": null,
       "top": null,
       "visibility": null,
       "width": null
      }
     },
     "72589730c7d148e6adaaf52eaa299cd4": {
      "model_module": "@jupyter-widgets/controls",
      "model_module_version": "1.5.0",
      "model_name": "HBoxModel",
      "state": {
       "_dom_classes": [],
       "_model_module": "@jupyter-widgets/controls",
       "_model_module_version": "1.5.0",
       "_model_name": "HBoxModel",
       "_view_count": null,
       "_view_module": "@jupyter-widgets/controls",
       "_view_module_version": "1.5.0",
       "_view_name": "HBoxView",
       "box_style": "",
       "children": [
        "IPY_MODEL_82a9b9218dcd4a46be88bf5c1355b7c5",
        "IPY_MODEL_153606d542c64b40830c443c86303141",
        "IPY_MODEL_39d787101f394a29bb70491f80f37d0f"
       ],
       "layout": "IPY_MODEL_596361d130b04a2099908c15a8726c19"
      }
     },
     "72ed5e79457348959f28ac9ccf99fca3": {
      "model_module": "@jupyter-widgets/controls",
      "model_module_version": "1.5.0",
      "model_name": "DescriptionStyleModel",
      "state": {
       "_model_module": "@jupyter-widgets/controls",
       "_model_module_version": "1.5.0",
       "_model_name": "DescriptionStyleModel",
       "_view_count": null,
       "_view_module": "@jupyter-widgets/base",
       "_view_module_version": "1.2.0",
       "_view_name": "StyleView",
       "description_width": ""
      }
     },
     "7590bb82e5304c3ca4973849141b4c55": {
      "model_module": "@jupyter-widgets/controls",
      "model_module_version": "1.5.0",
      "model_name": "ProgressStyleModel",
      "state": {
       "_model_module": "@jupyter-widgets/controls",
       "_model_module_version": "1.5.0",
       "_model_name": "ProgressStyleModel",
       "_view_count": null,
       "_view_module": "@jupyter-widgets/base",
       "_view_module_version": "1.2.0",
       "_view_name": "StyleView",
       "bar_color": null,
       "description_width": ""
      }
     },
     "779046f73be24e469ce4cd862012991b": {
      "model_module": "@jupyter-widgets/controls",
      "model_module_version": "1.5.0",
      "model_name": "FloatProgressModel",
      "state": {
       "_dom_classes": [],
       "_model_module": "@jupyter-widgets/controls",
       "_model_module_version": "1.5.0",
       "_model_name": "FloatProgressModel",
       "_view_count": null,
       "_view_module": "@jupyter-widgets/controls",
       "_view_module_version": "1.5.0",
       "_view_name": "ProgressView",
       "bar_style": "success",
       "description": "",
       "description_tooltip": null,
       "layout": "IPY_MODEL_ffa604aedbfe4df096a6b963fe498cbf",
       "max": 1.0,
       "min": 0.0,
       "orientation": "horizontal",
       "style": "IPY_MODEL_eb22aefd25474223822a508119fa638d",
       "value": 1.0
      }
     },
     "7b2925ab242944c6a4a19289402b0a16": {
      "model_module": "@jupyter-widgets/base",
      "model_module_version": "1.2.0",
      "model_name": "LayoutModel",
      "state": {
       "_model_module": "@jupyter-widgets/base",
       "_model_module_version": "1.2.0",
       "_model_name": "LayoutModel",
       "_view_count": null,
       "_view_module": "@jupyter-widgets/base",
       "_view_module_version": "1.2.0",
       "_view_name": "LayoutView",
       "align_content": null,
       "align_items": null,
       "align_self": null,
       "border": null,
       "bottom": null,
       "display": null,
       "flex": null,
       "flex_flow": null,
       "grid_area": null,
       "grid_auto_columns": null,
       "grid_auto_flow": null,
       "grid_auto_rows": null,
       "grid_column": null,
       "grid_gap": null,
       "grid_row": null,
       "grid_template_areas": null,
       "grid_template_columns": null,
       "grid_template_rows": null,
       "height": null,
       "justify_content": null,
       "justify_items": null,
       "left": null,
       "margin": null,
       "max_height": null,
       "max_width": null,
       "min_height": null,
       "min_width": null,
       "object_fit": null,
       "object_position": null,
       "order": null,
       "overflow": null,
       "overflow_x": null,
       "overflow_y": null,
       "padding": null,
       "right": null,
       "top": null,
       "visibility": null,
       "width": "20px"
      }
     },
     "82a9b9218dcd4a46be88bf5c1355b7c5": {
      "model_module": "@jupyter-widgets/controls",
      "model_module_version": "1.5.0",
      "model_name": "HTMLModel",
      "state": {
       "_dom_classes": [],
       "_model_module": "@jupyter-widgets/controls",
       "_model_module_version": "1.5.0",
       "_model_name": "HTMLModel",
       "_view_count": null,
       "_view_module": "@jupyter-widgets/controls",
       "_view_module_version": "1.5.0",
       "_view_name": "HTMLView",
       "description": "",
       "description_tooltip": null,
       "layout": "IPY_MODEL_50c59689e70d4432bed1175ce8c154f2",
       "placeholder": "​",
       "style": "IPY_MODEL_f31bdde8581a4ae09a9ed3c1ae59905b",
       "value": "EPOCH 4/5: "
      }
     },
     "8a017a0c953d4a7a94eb58562450fc58": {
      "model_module": "@jupyter-widgets/controls",
      "model_module_version": "1.5.0",
      "model_name": "FloatProgressModel",
      "state": {
       "_dom_classes": [],
       "_model_module": "@jupyter-widgets/controls",
       "_model_module_version": "1.5.0",
       "_model_name": "FloatProgressModel",
       "_view_count": null,
       "_view_module": "@jupyter-widgets/controls",
       "_view_module_version": "1.5.0",
       "_view_name": "ProgressView",
       "bar_style": "success",
       "description": "",
       "description_tooltip": null,
       "layout": "IPY_MODEL_53e08f1f7031413e86eb804c0c1977a7",
       "max": 1.0,
       "min": 0.0,
       "orientation": "horizontal",
       "style": "IPY_MODEL_7590bb82e5304c3ca4973849141b4c55",
       "value": 1.0
      }
     },
     "8b7e714596684b5b825db9eff9df4dba": {
      "model_module": "@jupyter-widgets/base",
      "model_module_version": "1.2.0",
      "model_name": "LayoutModel",
      "state": {
       "_model_module": "@jupyter-widgets/base",
       "_model_module_version": "1.2.0",
       "_model_name": "LayoutModel",
       "_view_count": null,
       "_view_module": "@jupyter-widgets/base",
       "_view_module_version": "1.2.0",
       "_view_name": "LayoutView",
       "align_content": null,
       "align_items": null,
       "align_self": null,
       "border": null,
       "bottom": null,
       "display": null,
       "flex": null,
       "flex_flow": null,
       "grid_area": null,
       "grid_auto_columns": null,
       "grid_auto_flow": null,
       "grid_auto_rows": null,
       "grid_column": null,
       "grid_gap": null,
       "grid_row": null,
       "grid_template_areas": null,
       "grid_template_columns": null,
       "grid_template_rows": null,
       "height": null,
       "justify_content": null,
       "justify_items": null,
       "left": null,
       "margin": null,
       "max_height": null,
       "max_width": null,
       "min_height": null,
       "min_width": null,
       "object_fit": null,
       "object_position": null,
       "order": null,
       "overflow": null,
       "overflow_x": null,
       "overflow_y": null,
       "padding": null,
       "right": null,
       "top": null,
       "visibility": null,
       "width": null
      }
     },
     "971f609cc8cd4e0ab17c630cda1ad494": {
      "model_module": "@jupyter-widgets/controls",
      "model_module_version": "1.5.0",
      "model_name": "DescriptionStyleModel",
      "state": {
       "_model_module": "@jupyter-widgets/controls",
       "_model_module_version": "1.5.0",
       "_model_name": "DescriptionStyleModel",
       "_view_count": null,
       "_view_module": "@jupyter-widgets/base",
       "_view_module_version": "1.2.0",
       "_view_name": "StyleView",
       "description_width": ""
      }
     },
     "9b7360cefb5745ff958a558dfa09ecd0": {
      "model_module": "@jupyter-widgets/controls",
      "model_module_version": "1.5.0",
      "model_name": "DescriptionStyleModel",
      "state": {
       "_model_module": "@jupyter-widgets/controls",
       "_model_module_version": "1.5.0",
       "_model_name": "DescriptionStyleModel",
       "_view_count": null,
       "_view_module": "@jupyter-widgets/base",
       "_view_module_version": "1.2.0",
       "_view_name": "StyleView",
       "description_width": ""
      }
     },
     "9cad94656e5546819e84a3a19f2d9d67": {
      "model_module": "@jupyter-widgets/base",
      "model_module_version": "1.2.0",
      "model_name": "LayoutModel",
      "state": {
       "_model_module": "@jupyter-widgets/base",
       "_model_module_version": "1.2.0",
       "_model_name": "LayoutModel",
       "_view_count": null,
       "_view_module": "@jupyter-widgets/base",
       "_view_module_version": "1.2.0",
       "_view_name": "LayoutView",
       "align_content": null,
       "align_items": null,
       "align_self": null,
       "border": null,
       "bottom": null,
       "display": null,
       "flex": null,
       "flex_flow": null,
       "grid_area": null,
       "grid_auto_columns": null,
       "grid_auto_flow": null,
       "grid_auto_rows": null,
       "grid_column": null,
       "grid_gap": null,
       "grid_row": null,
       "grid_template_areas": null,
       "grid_template_columns": null,
       "grid_template_rows": null,
       "height": null,
       "justify_content": null,
       "justify_items": null,
       "left": null,
       "margin": null,
       "max_height": null,
       "max_width": null,
       "min_height": null,
       "min_width": null,
       "object_fit": null,
       "object_position": null,
       "order": null,
       "overflow": null,
       "overflow_x": null,
       "overflow_y": null,
       "padding": null,
       "right": null,
       "top": null,
       "visibility": null,
       "width": null
      }
     },
     "9fb2a21f737b430887ca753ae4b64873": {
      "model_module": "@jupyter-widgets/controls",
      "model_module_version": "1.5.0",
      "model_name": "HTMLModel",
      "state": {
       "_dom_classes": [],
       "_model_module": "@jupyter-widgets/controls",
       "_model_module_version": "1.5.0",
       "_model_name": "HTMLModel",
       "_view_count": null,
       "_view_module": "@jupyter-widgets/controls",
       "_view_module_version": "1.5.0",
       "_view_name": "HTMLView",
       "description": "",
       "description_tooltip": null,
       "layout": "IPY_MODEL_c15b254cfd7d47a99b7b5e9924785622",
       "placeholder": "​",
       "style": "IPY_MODEL_0170bf06e82c432db7904c4b8d19468e",
       "value": " 4191/? [1:19:08&lt;00:00,  1.02s/it]"
      }
     },
     "a3918f341ba64938951293ff4754a925": {
      "model_module": "@jupyter-widgets/controls",
      "model_module_version": "1.5.0",
      "model_name": "HBoxModel",
      "state": {
       "_dom_classes": [],
       "_model_module": "@jupyter-widgets/controls",
       "_model_module_version": "1.5.0",
       "_model_name": "HBoxModel",
       "_view_count": null,
       "_view_module": "@jupyter-widgets/controls",
       "_view_module_version": "1.5.0",
       "_view_name": "HBoxView",
       "box_style": "",
       "children": [
        "IPY_MODEL_2c140723f15f4f509072354eb879e9ec",
        "IPY_MODEL_23a84c8e271c4aabacc3357c8e66d818",
        "IPY_MODEL_4505b81db38347b68e5876f5ec4a73e4"
       ],
       "layout": "IPY_MODEL_07a14b63886546f68b0eb30548fe2090"
      }
     },
     "aef2947389594cf7a50213ce4af74841": {
      "model_module": "@jupyter-widgets/base",
      "model_module_version": "1.2.0",
      "model_name": "LayoutModel",
      "state": {
       "_model_module": "@jupyter-widgets/base",
       "_model_module_version": "1.2.0",
       "_model_name": "LayoutModel",
       "_view_count": null,
       "_view_module": "@jupyter-widgets/base",
       "_view_module_version": "1.2.0",
       "_view_name": "LayoutView",
       "align_content": null,
       "align_items": null,
       "align_self": null,
       "border": null,
       "bottom": null,
       "display": null,
       "flex": null,
       "flex_flow": null,
       "grid_area": null,
       "grid_auto_columns": null,
       "grid_auto_flow": null,
       "grid_auto_rows": null,
       "grid_column": null,
       "grid_gap": null,
       "grid_row": null,
       "grid_template_areas": null,
       "grid_template_columns": null,
       "grid_template_rows": null,
       "height": null,
       "justify_content": null,
       "justify_items": null,
       "left": null,
       "margin": null,
       "max_height": null,
       "max_width": null,
       "min_height": null,
       "min_width": null,
       "object_fit": null,
       "object_position": null,
       "order": null,
       "overflow": null,
       "overflow_x": null,
       "overflow_y": null,
       "padding": null,
       "right": null,
       "top": null,
       "visibility": null,
       "width": null
      }
     },
     "b45e445115404862b9302d5c8f467e1a": {
      "model_module": "@jupyter-widgets/controls",
      "model_module_version": "1.5.0",
      "model_name": "HTMLModel",
      "state": {
       "_dom_classes": [],
       "_model_module": "@jupyter-widgets/controls",
       "_model_module_version": "1.5.0",
       "_model_name": "HTMLModel",
       "_view_count": null,
       "_view_module": "@jupyter-widgets/controls",
       "_view_module_version": "1.5.0",
       "_view_name": "HTMLView",
       "description": "",
       "description_tooltip": null,
       "layout": "IPY_MODEL_ba98a915842c41d487f55f6de1ccdae1",
       "placeholder": "​",
       "style": "IPY_MODEL_d76b5d3da7dc46c4bca137600d9b9c13",
       "value": "EPOCH 3/5: "
      }
     },
     "b62877fc651f4c9da16b8647d481d33f": {
      "model_module": "@jupyter-widgets/controls",
      "model_module_version": "1.5.0",
      "model_name": "HTMLModel",
      "state": {
       "_dom_classes": [],
       "_model_module": "@jupyter-widgets/controls",
       "_model_module_version": "1.5.0",
       "_model_name": "HTMLModel",
       "_view_count": null,
       "_view_module": "@jupyter-widgets/controls",
       "_view_module_version": "1.5.0",
       "_view_name": "HTMLView",
       "description": "",
       "description_tooltip": null,
       "layout": "IPY_MODEL_e8dc7fb821484fafae5e49629af26500",
       "placeholder": "​",
       "style": "IPY_MODEL_0102da6edffe40f49b0638f2a753202e",
       "value": " 4191/? [1:19:09&lt;00:00,  1.08s/it]"
      }
     },
     "ba98a915842c41d487f55f6de1ccdae1": {
      "model_module": "@jupyter-widgets/base",
      "model_module_version": "1.2.0",
      "model_name": "LayoutModel",
      "state": {
       "_model_module": "@jupyter-widgets/base",
       "_model_module_version": "1.2.0",
       "_model_name": "LayoutModel",
       "_view_count": null,
       "_view_module": "@jupyter-widgets/base",
       "_view_module_version": "1.2.0",
       "_view_name": "LayoutView",
       "align_content": null,
       "align_items": null,
       "align_self": null,
       "border": null,
       "bottom": null,
       "display": null,
       "flex": null,
       "flex_flow": null,
       "grid_area": null,
       "grid_auto_columns": null,
       "grid_auto_flow": null,
       "grid_auto_rows": null,
       "grid_column": null,
       "grid_gap": null,
       "grid_row": null,
       "grid_template_areas": null,
       "grid_template_columns": null,
       "grid_template_rows": null,
       "height": null,
       "justify_content": null,
       "justify_items": null,
       "left": null,
       "margin": null,
       "max_height": null,
       "max_width": null,
       "min_height": null,
       "min_width": null,
       "object_fit": null,
       "object_position": null,
       "order": null,
       "overflow": null,
       "overflow_x": null,
       "overflow_y": null,
       "padding": null,
       "right": null,
       "top": null,
       "visibility": null,
       "width": null
      }
     },
     "bac5a62c11824e42b3380eba8d4893f7": {
      "model_module": "@jupyter-widgets/controls",
      "model_module_version": "1.5.0",
      "model_name": "ProgressStyleModel",
      "state": {
       "_model_module": "@jupyter-widgets/controls",
       "_model_module_version": "1.5.0",
       "_model_name": "ProgressStyleModel",
       "_view_count": null,
       "_view_module": "@jupyter-widgets/base",
       "_view_module_version": "1.2.0",
       "_view_name": "StyleView",
       "bar_color": null,
       "description_width": ""
      }
     },
     "bd3b134757454434814855142b195903": {
      "model_module": "@jupyter-widgets/controls",
      "model_module_version": "1.5.0",
      "model_name": "DescriptionStyleModel",
      "state": {
       "_model_module": "@jupyter-widgets/controls",
       "_model_module_version": "1.5.0",
       "_model_name": "DescriptionStyleModel",
       "_view_count": null,
       "_view_module": "@jupyter-widgets/base",
       "_view_module_version": "1.2.0",
       "_view_name": "StyleView",
       "description_width": ""
      }
     },
     "c15b254cfd7d47a99b7b5e9924785622": {
      "model_module": "@jupyter-widgets/base",
      "model_module_version": "1.2.0",
      "model_name": "LayoutModel",
      "state": {
       "_model_module": "@jupyter-widgets/base",
       "_model_module_version": "1.2.0",
       "_model_name": "LayoutModel",
       "_view_count": null,
       "_view_module": "@jupyter-widgets/base",
       "_view_module_version": "1.2.0",
       "_view_name": "LayoutView",
       "align_content": null,
       "align_items": null,
       "align_self": null,
       "border": null,
       "bottom": null,
       "display": null,
       "flex": null,
       "flex_flow": null,
       "grid_area": null,
       "grid_auto_columns": null,
       "grid_auto_flow": null,
       "grid_auto_rows": null,
       "grid_column": null,
       "grid_gap": null,
       "grid_row": null,
       "grid_template_areas": null,
       "grid_template_columns": null,
       "grid_template_rows": null,
       "height": null,
       "justify_content": null,
       "justify_items": null,
       "left": null,
       "margin": null,
       "max_height": null,
       "max_width": null,
       "min_height": null,
       "min_width": null,
       "object_fit": null,
       "object_position": null,
       "order": null,
       "overflow": null,
       "overflow_x": null,
       "overflow_y": null,
       "padding": null,
       "right": null,
       "top": null,
       "visibility": null,
       "width": null
      }
     },
     "d098aa4db1b54f908f310d6ad211b236": {
      "model_module": "@jupyter-widgets/controls",
      "model_module_version": "1.5.0",
      "model_name": "HTMLModel",
      "state": {
       "_dom_classes": [],
       "_model_module": "@jupyter-widgets/controls",
       "_model_module_version": "1.5.0",
       "_model_name": "HTMLModel",
       "_view_count": null,
       "_view_module": "@jupyter-widgets/controls",
       "_view_module_version": "1.5.0",
       "_view_name": "HTMLView",
       "description": "",
       "description_tooltip": null,
       "layout": "IPY_MODEL_1aebc222b0644b0381c5a81d027caed8",
       "placeholder": "​",
       "style": "IPY_MODEL_d4069bc8afc944c8b9ba8c9e741ac04e",
       "value": "EPOCH 1/5: "
      }
     },
     "d4069bc8afc944c8b9ba8c9e741ac04e": {
      "model_module": "@jupyter-widgets/controls",
      "model_module_version": "1.5.0",
      "model_name": "DescriptionStyleModel",
      "state": {
       "_model_module": "@jupyter-widgets/controls",
       "_model_module_version": "1.5.0",
       "_model_name": "DescriptionStyleModel",
       "_view_count": null,
       "_view_module": "@jupyter-widgets/base",
       "_view_module_version": "1.2.0",
       "_view_name": "StyleView",
       "description_width": ""
      }
     },
     "d76b5d3da7dc46c4bca137600d9b9c13": {
      "model_module": "@jupyter-widgets/controls",
      "model_module_version": "1.5.0",
      "model_name": "DescriptionStyleModel",
      "state": {
       "_model_module": "@jupyter-widgets/controls",
       "_model_module_version": "1.5.0",
       "_model_name": "DescriptionStyleModel",
       "_view_count": null,
       "_view_module": "@jupyter-widgets/base",
       "_view_module_version": "1.2.0",
       "_view_name": "StyleView",
       "description_width": ""
      }
     },
     "e8dc7fb821484fafae5e49629af26500": {
      "model_module": "@jupyter-widgets/base",
      "model_module_version": "1.2.0",
      "model_name": "LayoutModel",
      "state": {
       "_model_module": "@jupyter-widgets/base",
       "_model_module_version": "1.2.0",
       "_model_name": "LayoutModel",
       "_view_count": null,
       "_view_module": "@jupyter-widgets/base",
       "_view_module_version": "1.2.0",
       "_view_name": "LayoutView",
       "align_content": null,
       "align_items": null,
       "align_self": null,
       "border": null,
       "bottom": null,
       "display": null,
       "flex": null,
       "flex_flow": null,
       "grid_area": null,
       "grid_auto_columns": null,
       "grid_auto_flow": null,
       "grid_auto_rows": null,
       "grid_column": null,
       "grid_gap": null,
       "grid_row": null,
       "grid_template_areas": null,
       "grid_template_columns": null,
       "grid_template_rows": null,
       "height": null,
       "justify_content": null,
       "justify_items": null,
       "left": null,
       "margin": null,
       "max_height": null,
       "max_width": null,
       "min_height": null,
       "min_width": null,
       "object_fit": null,
       "object_position": null,
       "order": null,
       "overflow": null,
       "overflow_x": null,
       "overflow_y": null,
       "padding": null,
       "right": null,
       "top": null,
       "visibility": null,
       "width": null
      }
     },
     "eb22aefd25474223822a508119fa638d": {
      "model_module": "@jupyter-widgets/controls",
      "model_module_version": "1.5.0",
      "model_name": "ProgressStyleModel",
      "state": {
       "_model_module": "@jupyter-widgets/controls",
       "_model_module_version": "1.5.0",
       "_model_name": "ProgressStyleModel",
       "_view_count": null,
       "_view_module": "@jupyter-widgets/base",
       "_view_module_version": "1.2.0",
       "_view_name": "StyleView",
       "bar_color": null,
       "description_width": ""
      }
     },
     "f31bdde8581a4ae09a9ed3c1ae59905b": {
      "model_module": "@jupyter-widgets/controls",
      "model_module_version": "1.5.0",
      "model_name": "DescriptionStyleModel",
      "state": {
       "_model_module": "@jupyter-widgets/controls",
       "_model_module_version": "1.5.0",
       "_model_name": "DescriptionStyleModel",
       "_view_count": null,
       "_view_module": "@jupyter-widgets/base",
       "_view_module_version": "1.2.0",
       "_view_name": "StyleView",
       "description_width": ""
      }
     },
     "fb0125db856f475794f49c9911163ba7": {
      "model_module": "@jupyter-widgets/controls",
      "model_module_version": "1.5.0",
      "model_name": "ProgressStyleModel",
      "state": {
       "_model_module": "@jupyter-widgets/controls",
       "_model_module_version": "1.5.0",
       "_model_name": "ProgressStyleModel",
       "_view_count": null,
       "_view_module": "@jupyter-widgets/base",
       "_view_module_version": "1.2.0",
       "_view_name": "StyleView",
       "bar_color": null,
       "description_width": ""
      }
     },
     "fda4b150ab0943de98423369f80bb81c": {
      "model_module": "@jupyter-widgets/controls",
      "model_module_version": "1.5.0",
      "model_name": "HBoxModel",
      "state": {
       "_dom_classes": [],
       "_model_module": "@jupyter-widgets/controls",
       "_model_module_version": "1.5.0",
       "_model_name": "HBoxModel",
       "_view_count": null,
       "_view_module": "@jupyter-widgets/controls",
       "_view_module_version": "1.5.0",
       "_view_name": "HBoxView",
       "box_style": "",
       "children": [
        "IPY_MODEL_b45e445115404862b9302d5c8f467e1a",
        "IPY_MODEL_8a017a0c953d4a7a94eb58562450fc58",
        "IPY_MODEL_9fb2a21f737b430887ca753ae4b64873"
       ],
       "layout": "IPY_MODEL_1933c8712502479aac0377ca50c42ba4"
      }
     },
     "ffa604aedbfe4df096a6b963fe498cbf": {
      "model_module": "@jupyter-widgets/base",
      "model_module_version": "1.2.0",
      "model_name": "LayoutModel",
      "state": {
       "_model_module": "@jupyter-widgets/base",
       "_model_module_version": "1.2.0",
       "_model_name": "LayoutModel",
       "_view_count": null,
       "_view_module": "@jupyter-widgets/base",
       "_view_module_version": "1.2.0",
       "_view_name": "LayoutView",
       "align_content": null,
       "align_items": null,
       "align_self": null,
       "border": null,
       "bottom": null,
       "display": null,
       "flex": null,
       "flex_flow": null,
       "grid_area": null,
       "grid_auto_columns": null,
       "grid_auto_flow": null,
       "grid_auto_rows": null,
       "grid_column": null,
       "grid_gap": null,
       "grid_row": null,
       "grid_template_areas": null,
       "grid_template_columns": null,
       "grid_template_rows": null,
       "height": null,
       "justify_content": null,
       "justify_items": null,
       "left": null,
       "margin": null,
       "max_height": null,
       "max_width": null,
       "min_height": null,
       "min_width": null,
       "object_fit": null,
       "object_position": null,
       "order": null,
       "overflow": null,
       "overflow_x": null,
       "overflow_y": null,
       "padding": null,
       "right": null,
       "top": null,
       "visibility": null,
       "width": "20px"
      }
     }
    },
    "version_major": 2,
    "version_minor": 0
   }
  }
 },
 "nbformat": 4,
 "nbformat_minor": 5
}
