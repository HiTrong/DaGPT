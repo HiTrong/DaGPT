{
 "cells": [
  {
   "cell_type": "markdown",
   "metadata": {},
   "source": [
    "# Import Thư viện"
   ]
  },
  {
   "cell_type": "code",
   "execution_count": 1,
   "metadata": {},
   "outputs": [
    {
     "name": "stderr",
     "output_type": "stream",
     "text": [
      "c:\\Users\\ADMIN\\Desktop\\DaGPT\\Data Preprocessing\\.venv\\Lib\\site-packages\\tqdm\\auto.py:21: TqdmWarning: IProgress not found. Please update jupyter and ipywidgets. See https://ipywidgets.readthedocs.io/en/stable/user_install.html\n",
      "  from .autonotebook import tqdm as notebook_tqdm\n"
     ]
    }
   ],
   "source": [
    "import json\n",
    "import pandas as pd\n",
    "import process_func\n",
    "from process_func import pretrain_pipeline, finetune_pipeline\n",
    "import warnings\n",
    "warnings.filterwarnings(\"ignore\")"
   ]
  },
  {
   "cell_type": "markdown",
   "metadata": {},
   "source": [
    "# Load configuration"
   ]
  },
  {
   "cell_type": "code",
   "execution_count": 2,
   "metadata": {},
   "outputs": [],
   "source": [
    "pretrain_config_path = \"pretrain_config.json\"\n",
    "with open(pretrain_config_path, \"r\", encoding='utf-8') as f:\n",
    "    pretrain_configs = json.load(f)\n",
    "    \n",
    "finetune_config_path = \"finetune_config.json\"\n",
    "with open(finetune_config_path, \"r\", encoding='utf-8') as f:\n",
    "    finetune_configs = json.load(f)"
   ]
  },
  {
   "cell_type": "markdown",
   "metadata": {},
   "source": [
    "# Pipeline"
   ]
  },
  {
   "cell_type": "code",
   "execution_count": 3,
   "metadata": {},
   "outputs": [
    {
     "name": "stderr",
     "output_type": "stream",
     "text": [
      "Processing Queue dieutri: 100%|██████████| 5/5 [00:06<00:00,  1.30s/it]\n",
      "Processing Queue eDoctor: 100%|██████████| 5/5 [00:00<00:00,  5.64it/s]\n",
      "Processing Queue Ivie: 100%|██████████| 5/5 [00:03<00:00,  1.33it/s]\n",
      "Processing Queue Medlatec: 100%|██████████| 5/5 [00:01<00:00,  3.53it/s]\n",
      "Processing Queue Tâm Anh: 100%|██████████| 5/5 [00:01<00:00,  4.23it/s]\n",
      "Processing Queue Data Augmentation: 100%|██████████| 5/5 [00:01<00:00,  4.41it/s]\n",
      "Processing Queue Data Augmentation2: 100%|██████████| 5/5 [00:00<00:00,  6.26it/s]\n"
     ]
    },
    {
     "name": "stdout",
     "output_type": "stream",
     "text": [
      "Data train saved to: pretrain_data.csv\n",
      "Data test saved to: pretrain_test.csv\n"
     ]
    },
    {
     "name": "stderr",
     "output_type": "stream",
     "text": [
      "Processing Queue eDoctor: 100%|██████████| 6/6 [00:00<00:00, 33.69it/s]\n",
      "Processing Queue Ivie: 100%|██████████| 6/6 [00:00<00:00,  7.46it/s]\n",
      "Processing Queue Data Synthetic: 100%|██████████| 6/6 [00:05<00:00,  1.06it/s]\n"
     ]
    },
    {
     "name": "stdout",
     "output_type": "stream",
     "text": [
      "Data train saved to: finetune_data.csv\n",
      "Data test saved to: finetune_test.csv\n"
     ]
    }
   ],
   "source": [
    "pretrain, pretrain_test = pretrain_pipeline(pretrain_configs)\n",
    "finetune, finetune_test = finetune_pipeline(finetune_configs)"
   ]
  },
  {
   "cell_type": "code",
   "execution_count": 4,
   "metadata": {},
   "outputs": [
    {
     "data": {
      "text/plain": [
       "(33045, 3672)"
      ]
     },
     "execution_count": 4,
     "metadata": {},
     "output_type": "execute_result"
    }
   ],
   "source": [
    "pretrain.size, pretrain_test.size"
   ]
  },
  {
   "cell_type": "code",
   "execution_count": 5,
   "metadata": {},
   "outputs": [
    {
     "data": {
      "text/plain": [
       "(31306, 3479)"
      ]
     },
     "execution_count": 5,
     "metadata": {},
     "output_type": "execute_result"
    }
   ],
   "source": [
    "finetune.size, finetune_test.size"
   ]
  }
 ],
 "metadata": {
  "kernelspec": {
   "display_name": ".venv",
   "language": "python",
   "name": "python3"
  },
  "language_info": {
   "codemirror_mode": {
    "name": "ipython",
    "version": 3
   },
   "file_extension": ".py",
   "mimetype": "text/x-python",
   "name": "python",
   "nbconvert_exporter": "python",
   "pygments_lexer": "ipython3",
   "version": "3.11.1"
  }
 },
 "nbformat": 4,
 "nbformat_minor": 2
}
