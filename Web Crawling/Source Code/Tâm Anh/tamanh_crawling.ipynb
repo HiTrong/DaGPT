{
 "cells": [
  {
   "cell_type": "markdown",
   "metadata": {},
   "source": [
    "# Import thư viện"
   ]
  },
  {
   "cell_type": "code",
   "execution_count": 1,
   "metadata": {},
   "outputs": [
    {
     "name": "stderr",
     "output_type": "stream",
     "text": [
      "d:\\TLCN\\Source Code\\GPT test\\gptenv\\lib\\site-packages\\tqdm\\auto.py:21: TqdmWarning: IProgress not found. Please update jupyter and ipywidgets. See https://ipywidgets.readthedocs.io/en/stable/user_install.html\n",
      "  from .autonotebook import tqdm as notebook_tqdm\n"
     ]
    }
   ],
   "source": [
    "import requests\n",
    "from bs4 import BeautifulSoup\n",
    "from tqdm.auto import tqdm\n",
    "import pandas as pd\n",
    "import time\n",
    "import re"
   ]
  },
  {
   "cell_type": "markdown",
   "metadata": {},
   "source": [
    "# Url seed"
   ]
  },
  {
   "cell_type": "code",
   "execution_count": 2,
   "metadata": {},
   "outputs": [],
   "source": [
    "url_seed = []\n",
    "\n",
    "with open('url_seed.txt', \"r\") as f:\n",
    "    for line in f:\n",
    "        url_seed.append(line.strip())"
   ]
  },
  {
   "cell_type": "markdown",
   "metadata": {},
   "source": [
    "# Crawling"
   ]
  },
  {
   "cell_type": "code",
   "execution_count": 3,
   "metadata": {},
   "outputs": [],
   "source": [
    "data_dict = {\n",
    "    \"title\": [],\n",
    "    \"text\": []\n",
    "}"
   ]
  },
  {
   "cell_type": "code",
   "execution_count": 4,
   "metadata": {},
   "outputs": [
    {
     "name": "stderr",
     "output_type": "stream",
     "text": [
      "Xử lý 749 links:   0%|          | 0/749 [00:00<?, ?it/s]"
     ]
    },
    {
     "name": "stderr",
     "output_type": "stream",
     "text": [
      "Xử lý 749 links: 100%|██████████| 749/749 [14:45<00:00,  1.18s/it]\n"
     ]
    }
   ],
   "source": [
    "def get_html(url):\n",
    "    while True:\n",
    "        try:\n",
    "            # Gửi yêu cầu HTTP để lấy nội dung HTML\n",
    "            response = requests.get(url, timeout=10)\n",
    "            \n",
    "            if response.status_code == 200:\n",
    "                html_content = response.text\n",
    "                return html_content\n",
    "        except:\n",
    "            print(f\"Unable to connect to {url}! Try again in 3 seconds\")\n",
    "            time.sleep(3)\n",
    "\n",
    "for link in tqdm(url_seed, desc=f\"Xử lý {len(url_seed)} links: \"):\n",
    "    html_content = get_html(link)\n",
    "    soup = BeautifulSoup(html_content, 'html.parser')\n",
    "    title = soup.find_all('h1')[0].text\n",
    "    text = \"\"\n",
    "    elements = soup.find_all('p')\n",
    "    for element in elements[1:]:\n",
    "        text = text + re.sub(r'\\n+', '\\n', element.text).strip()\n",
    "    data_dict[\"title\"].append(title)\n",
    "    data_dict[\"text\"].append(text)\n",
    "        "
   ]
  },
  {
   "cell_type": "markdown",
   "metadata": {},
   "source": [
    "# Save csv"
   ]
  },
  {
   "cell_type": "code",
   "execution_count": 5,
   "metadata": {},
   "outputs": [],
   "source": [
    "df = pd.DataFrame(data_dict)\n",
    "df.to_csv(\"tamanh_data_crawling.csv\")"
   ]
  }
 ],
 "metadata": {
  "kernelspec": {
   "display_name": "Python 3",
   "language": "python",
   "name": "python3"
  },
  "language_info": {
   "codemirror_mode": {
    "name": "ipython",
    "version": 3
   },
   "file_extension": ".py",
   "mimetype": "text/x-python",
   "name": "python",
   "nbconvert_exporter": "python",
   "pygments_lexer": "ipython3",
   "version": "3.10.14"
  }
 },
 "nbformat": 4,
 "nbformat_minor": 2
}
