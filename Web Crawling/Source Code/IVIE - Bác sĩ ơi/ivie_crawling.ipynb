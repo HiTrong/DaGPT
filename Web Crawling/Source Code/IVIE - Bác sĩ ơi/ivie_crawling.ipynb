{
 "cells": [
  {
   "cell_type": "markdown",
   "metadata": {},
   "source": [
    "# Import thư viện"
   ]
  },
  {
   "cell_type": "code",
   "execution_count": 1,
   "metadata": {},
   "outputs": [
    {
     "name": "stderr",
     "output_type": "stream",
     "text": [
      "d:\\TLCN\\Source Code\\GPT test\\gptenv\\lib\\site-packages\\tqdm\\auto.py:21: TqdmWarning: IProgress not found. Please update jupyter and ipywidgets. See https://ipywidgets.readthedocs.io/en/stable/user_install.html\n",
      "  from .autonotebook import tqdm as notebook_tqdm\n"
     ]
    }
   ],
   "source": [
    "import requests\n",
    "from bs4 import BeautifulSoup\n",
    "from tqdm.auto import tqdm\n",
    "from selenium import webdriver\n",
    "from selenium.webdriver.chrome.service import Service\n",
    "from webdriver_manager.chrome import ChromeDriverManager\n",
    "from selenium.webdriver.common.by import By\n",
    "from concurrent.futures import ThreadPoolExecutor\n",
    "import re\n",
    "import time "
   ]
  },
  {
   "cell_type": "markdown",
   "metadata": {},
   "source": [
    "# Url seed"
   ]
  },
  {
   "cell_type": "code",
   "execution_count": 2,
   "metadata": {},
   "outputs": [],
   "source": [
    "url_seed = \"https://ivie.vn/cong-dong\"\n",
    "url_page_template = \"https://ivie.vn/cong-dong?page={}\"\n",
    "url_template = \"https://ivie.vn{}\""
   ]
  },
  {
   "cell_type": "markdown",
   "metadata": {},
   "source": [
    "# Crawling\n",
    "\n",
    "Chạy song song với 10 workers"
   ]
  },
  {
   "cell_type": "code",
   "execution_count": 3,
   "metadata": {},
   "outputs": [],
   "source": [
    "data_dict = {\n",
    "    \"specialty\": [], \n",
    "    \"title\": [],\n",
    "    \"gender\": [],\n",
    "    \"age\": [],\n",
    "    \"text\": []\n",
    "}"
   ]
  },
  {
   "cell_type": "code",
   "execution_count": 4,
   "metadata": {},
   "outputs": [],
   "source": [
    "def get_html(url):\n",
    "    while True:\n",
    "        # Gửi yêu cầu HTTP để lấy nội dung HTML\n",
    "        response = requests.get(url)\n",
    "        \n",
    "        if response.status_code == 200:\n",
    "            html_content = response.text\n",
    "            return html_content\n",
    "        \n",
    "        \n",
    "        \n",
    "        print(f\"Unable to connect to {url}! Try again in 3 seconds\")\n",
    "        time.sleep(3)\n",
    "        \n",
    "def get_html_selenium(url):\n",
    "    while True:\n",
    "        try:\n",
    "            # Khởi động trình duyệt Chrome với WebDriverManager\n",
    "            driver = webdriver.Chrome(service=Service(ChromeDriverManager().install()))\n",
    "            driver.set_page_load_timeout(10)\n",
    "            # Điều hướng đến trang web\n",
    "            driver.get(url)\n",
    "\n",
    "            # Lấy mã HTML của trang\n",
    "            html_source = driver.page_source\n",
    "            driver.quit()\n",
    "            return html_source\n",
    "        except:\n",
    "            print(f\"Can't get connection to {url}! Try again in 3 seconds.\")\n",
    "            time.sleep(3)\n",
    "\n",
    "def get_qa(url):\n",
    "    try:\n",
    "        html_content = get_html(url)\n",
    "        soup = BeautifulSoup(html_content, 'html.parser')\n",
    "        title = soup.find_all('h1')[0].text\n",
    "        \n",
    "        QA_detail = []\n",
    "        elements = soup.select('div.col.d-flex')\n",
    "        for element in elements:\n",
    "            QA_detail.append(element.text)\n",
    "            \n",
    "        text = \"\"\n",
    "        elements = soup.select('.description')\n",
    "        answered = True\n",
    "        for i, element in enumerate(elements):\n",
    "            t = element.text\n",
    "            match = re.search(r'(Nữ|Nam), (\\d+) tuổi(.*)', QA_detail[i], re.DOTALL) # Nếu match thì đây là câu hỏi\n",
    "            if match and t in QA_detail[i]:\n",
    "                answered = False\n",
    "                gender = match.group(1)\n",
    "                age = match.group(2)\n",
    "                if text != \"\":\n",
    "                    text += \"\\n\"\n",
    "                else:\n",
    "                    text += \"Người dùng: \" + title + \" \" + t\n",
    "                    continue\n",
    "                text += \"Người dùng: \" + t\n",
    "            else:\n",
    "                if text != \"\":\n",
    "                    text += \"\\n\"\n",
    "                if answered == False:\n",
    "                    text += \"Bác sĩ AI:\"\n",
    "                    answered = True\n",
    "                text += \" \" + t\n",
    "    \n",
    "        specialty = \"\"\n",
    "        for e in soup.select('.specialist'):\n",
    "            specialty += e.text + \", \"\n",
    "        specialty = specialty[:-2]\n",
    "        return text, specialty, title, gender, age\n",
    "    except:\n",
    "        print(\"Error with this QA!\")\n",
    "        return None\n",
    "\n",
    "def crawling_one_page(page_id):\n",
    "    url = url_page_template.format(page_id)\n",
    "    html_content = get_html_selenium(url)\n",
    "        \n",
    "    # Lấy các QA từ các href hợp lệ \n",
    "    url_qa = []\n",
    "    soup = BeautifulSoup(html_content, 'html.parser')\n",
    "    links = soup.find_all('a')\n",
    "    for link in links:\n",
    "        href = link.get('href')\n",
    "        if href is not None:\n",
    "            if \"/cong-dong?id=\" in href:\n",
    "                url_qa.append(url_template.format(href))\n",
    "    for u in tqdm(url_qa, desc=f\"Processing page {page_id}: \"):\n",
    "        result_qa = get_qa(u)\n",
    "        if result_qa is not None:\n",
    "            text, specialty, title, gender, age = result_qa\n",
    "            data_dict[\"text\"].append(text)\n",
    "            data_dict[\"gender\"].append(gender)\n",
    "            data_dict[\"age\"].append(age)\n",
    "            data_dict[\"specialty\"].append(specialty)\n",
    "            data_dict[\"title\"].append(title) "
   ]
  },
  {
   "cell_type": "code",
   "execution_count": 5,
   "metadata": {},
   "outputs": [
    {
     "name": "stdout",
     "output_type": "stream",
     "text": [
      "Can't get connection to https://ivie.vn/cong-dong?page=3! Try again in 3 seconds.\n",
      "Can't get connection to https://ivie.vn/cong-dong?page=5! Try again in 3 seconds.\n",
      "Can't get connection to https://ivie.vn/cong-dong?page=4! Try again in 3 seconds.\n"
     ]
    },
    {
     "name": "stderr",
     "output_type": "stream",
     "text": [
      "Processing page 2: 100%|██████████| 4/4 [00:04<00:00,  1.06s/it]\n",
      "Processing page 1: 100%|██████████| 7/7 [00:07<00:00,  1.02s/it]\n"
     ]
    },
    {
     "name": "stdout",
     "output_type": "stream",
     "text": [
      "Can't get connection to https://ivie.vn/cong-dong?page=3! Try again in 3 seconds.\n"
     ]
    },
    {
     "name": "stderr",
     "output_type": "stream",
     "text": [
      "Processing page 5:   0%|          | 0/5 [00:00<?, ?it/s]\n",
      "Processing page 5:  20%|██        | 1/5 [00:01<00:04,  1.05s/it]\n",
      "Processing page 5:  40%|████      | 2/5 [00:02<00:03,  1.03s/it]\n",
      "\u001b[A\n",
      "Processing page 5:  60%|██████    | 3/5 [00:03<00:02,  1.01s/it]\n",
      "\u001b[A\n",
      "\n",
      "Processing page 5:  80%|████████  | 4/5 [00:04<00:01,  1.09s/it]\n",
      "\u001b[A\n",
      "\n",
      "Processing page 5: 100%|██████████| 5/5 [00:04<00:00,  1.01it/s]\n",
      "\n",
      "\u001b[A\n",
      "\n",
      "\u001b[A\u001b[A\n",
      "Processing page 6: 100%|██████████| 7/7 [00:06<00:00,  1.06it/s]\n",
      "\n",
      "\n",
      "\u001b[A\u001b[A\n",
      "Processing page 4: 100%|██████████| 8/8 [00:07<00:00,  1.14it/s]\n",
      "\n",
      "\n",
      "\u001b[A\u001b[A\n",
      "\n",
      "Processing page 7: 100%|██████████| 5/5 [00:05<00:00,  1.11s/it]\n",
      "Processing page 3: 100%|██████████| 6/6 [00:04<00:00,  1.25it/s]\n",
      "Processing page 9:   0%|          | 0/4 [00:00<?, ?it/s]"
     ]
    },
    {
     "name": "stdout",
     "output_type": "stream",
     "text": [
      "Can't get connection to https://ivie.vn/cong-dong?page=10! Try again in 3 seconds.\n"
     ]
    },
    {
     "name": "stderr",
     "output_type": "stream",
     "text": [
      "Processing page 8: 100%|██████████| 5/5 [00:04<00:00,  1.01it/s]\n",
      "Processing page 9: 100%|██████████| 4/4 [00:04<00:00,  1.08s/it]\n"
     ]
    },
    {
     "name": "stdout",
     "output_type": "stream",
     "text": [
      "Can't get connection to https://ivie.vn/cong-dong?page=11! Try again in 3 seconds.\n",
      "Can't get connection to https://ivie.vn/cong-dong?page=12! Try again in 3 seconds.\n",
      "Can't get connection to https://ivie.vn/cong-dong?page=13! Try again in 3 seconds.\n"
     ]
    },
    {
     "name": "stderr",
     "output_type": "stream",
     "text": [
      "Processing page 14:  75%|███████▌  | 3/4 [00:03<00:01,  1.06s/it]"
     ]
    },
    {
     "name": "stdout",
     "output_type": "stream",
     "text": [
      "Can't get connection to https://ivie.vn/cong-dong?page=10! Try again in 3 seconds.\n"
     ]
    },
    {
     "name": "stderr",
     "output_type": "stream",
     "text": [
      "Processing page 14: 100%|██████████| 4/4 [00:04<00:00,  1.07s/it]\n",
      "Processing page 11: : 0it [00:00, ?it/s]\n"
     ]
    },
    {
     "name": "stdout",
     "output_type": "stream",
     "text": [
      "Can't get connection to https://ivie.vn/cong-dong?page=12! Try again in 3 seconds.\n"
     ]
    },
    {
     "name": "stderr",
     "output_type": "stream",
     "text": [
      "Processing page 13:  57%|█████▋    | 4/7 [00:04<00:03,  1.15s/it]"
     ]
    },
    {
     "name": "stdout",
     "output_type": "stream",
     "text": [
      "Can't get connection to https://ivie.vn/cong-dong?page=16! Try again in 3 seconds.\n"
     ]
    },
    {
     "name": "stderr",
     "output_type": "stream",
     "text": [
      "Processing page 13: 100%|██████████| 7/7 [00:07<00:00,  1.10s/it]\n",
      "Processing page 15: 100%|██████████| 6/6 [00:06<00:00,  1.02s/it]\n",
      "Processing page 10: 100%|██████████| 8/8 [00:07<00:00,  1.12it/s]\n",
      "Processing page 12: 100%|██████████| 3/3 [00:06<00:00,  2.22s/it]\n"
     ]
    },
    {
     "name": "stdout",
     "output_type": "stream",
     "text": [
      "Can't get connection to https://ivie.vn/cong-dong?page=16! Try again in 3 seconds.\n",
      "Can't get connection to https://ivie.vn/cong-dong?page=18! Try again in 3 seconds.\n",
      "Can't get connection to https://ivie.vn/cong-dong?page=17! Try again in 3 seconds.\n",
      "Can't get connection to https://ivie.vn/cong-dong?page=19! Try again in 3 seconds.\n"
     ]
    },
    {
     "name": "stderr",
     "output_type": "stream",
     "text": [
      "Processing page 20: 100%|██████████| 7/7 [00:07<00:00,  1.04s/it]\n"
     ]
    },
    {
     "name": "stdout",
     "output_type": "stream",
     "text": [
      "Can't get connection to https://ivie.vn/cong-dong?page=16! Try again in 3 seconds.\n"
     ]
    },
    {
     "name": "stderr",
     "output_type": "stream",
     "text": [
      "Processing page 18: : 0it [00:00, ?it/s]\n"
     ]
    },
    {
     "name": "stdout",
     "output_type": "stream",
     "text": [
      "Can't get connection to https://ivie.vn/cong-dong?page=17! Try again in 3 seconds.\n"
     ]
    },
    {
     "name": "stderr",
     "output_type": "stream",
     "text": [
      "Processing page 19: : 0it [00:00, ?it/s]\n",
      "Processing page 21: : 0it [00:00, ?it/s]\n"
     ]
    },
    {
     "name": "stdout",
     "output_type": "stream",
     "text": [
      "Can't get connection to https://ivie.vn/cong-dong?page=22! Try again in 3 seconds.\n",
      "Can't get connection to https://ivie.vn/cong-dong?page=23! Try again in 3 seconds.\n"
     ]
    },
    {
     "name": "stderr",
     "output_type": "stream",
     "text": [
      "Processing page 16:  20%|██        | 1/5 [00:00<00:03,  1.02it/s]"
     ]
    },
    {
     "name": "stdout",
     "output_type": "stream",
     "text": [
      "Can't get connection to https://ivie.vn/cong-dong?page=17! Try again in 3 seconds.\n"
     ]
    },
    {
     "name": "stderr",
     "output_type": "stream",
     "text": [
      "Processing page 16: 100%|██████████| 5/5 [00:04<00:00,  1.12it/s]\n"
     ]
    },
    {
     "name": "stdout",
     "output_type": "stream",
     "text": [
      "Can't get connection to https://ivie.vn/cong-dong?page=24! Try again in 3 seconds.\n",
      "Can't get connection to https://ivie.vn/cong-dong?page=23! Try again in 3 seconds.\n"
     ]
    },
    {
     "name": "stderr",
     "output_type": "stream",
     "text": [
      "Processing page 22:   0%|          | 0/5 [00:00<?, ?it/s]"
     ]
    },
    {
     "name": "stdout",
     "output_type": "stream",
     "text": [
      "Can't get connection to https://ivie.vn/cong-dong?page=25! Try again in 3 seconds.\n"
     ]
    },
    {
     "name": "stderr",
     "output_type": "stream",
     "text": [
      "Processing page 22:  40%|████      | 2/5 [00:02<00:03,  1.22s/it]"
     ]
    },
    {
     "name": "stdout",
     "output_type": "stream",
     "text": [
      "Can't get connection to https://ivie.vn/cong-dong?page=17! Try again in 3 seconds.\n"
     ]
    },
    {
     "name": "stderr",
     "output_type": "stream",
     "text": [
      "Processing page 22: 100%|██████████| 5/5 [00:05<00:00,  1.13s/it]\n"
     ]
    },
    {
     "name": "stdout",
     "output_type": "stream",
     "text": [
      "Can't get connection to https://ivie.vn/cong-dong?page=24! Try again in 3 seconds.\n"
     ]
    },
    {
     "name": "stderr",
     "output_type": "stream",
     "text": [
      "Processing page 23:  11%|█         | 1/9 [00:01<00:08,  1.00s/it]\n",
      "Processing page 23:  22%|██▏       | 2/9 [00:02<00:07,  1.03s/it]\n",
      "Processing page 23:  33%|███▎      | 3/9 [00:03<00:06,  1.05s/it]"
     ]
    },
    {
     "name": "stdout",
     "output_type": "stream",
     "text": [
      "Can't get connection to https://ivie.vn/cong-dong?page=17! Try again in 3 seconds.\n"
     ]
    },
    {
     "name": "stderr",
     "output_type": "stream",
     "text": [
      "\n",
      "Processing page 23:  44%|████▍     | 4/9 [00:04<00:05,  1.05s/it]\n",
      "Processing page 23:  56%|█████▌    | 5/9 [00:05<00:04,  1.10s/it]\n",
      "Processing page 23:  67%|██████▋   | 6/9 [00:06<00:03,  1.06s/it]\n",
      "Processing page 25: 100%|██████████| 5/5 [00:05<00:00,  1.09s/it]\n",
      "Processing page 26: 100%|██████████| 6/6 [00:06<00:00,  1.10s/it]\n",
      "Processing page 23: 100%|██████████| 9/9 [00:09<00:00,  1.04s/it]\n"
     ]
    },
    {
     "name": "stdout",
     "output_type": "stream",
     "text": [
      "Can't get connection to https://ivie.vn/cong-dong?page=24! Try again in 3 seconds.\n",
      "Can't get connection to https://ivie.vn/cong-dong?page=27! Try again in 3 seconds.\n",
      "Can't get connection to https://ivie.vn/cong-dong?page=28! Try again in 3 seconds.\n"
     ]
    },
    {
     "name": "stderr",
     "output_type": "stream",
     "text": [
      "Processing page 29:  86%|████████▌ | 6/7 [00:06<00:00,  1.00it/s]\n",
      "Processing page 29: 100%|██████████| 7/7 [00:07<00:00,  1.01s/it]\n",
      "\n",
      "\u001b[A\n",
      "\u001b[A\n",
      "Processing page 17: 100%|██████████| 9/9 [00:10<00:00,  1.21s/it]\n",
      "\n",
      "\u001b[A\n",
      "\u001b[A\n",
      "\u001b[A\n",
      "Processing page 24: 100%|██████████| 7/7 [00:08<00:00,  1.23s/it]\n"
     ]
    },
    {
     "name": "stdout",
     "output_type": "stream",
     "text": [
      "Can't get connection to https://ivie.vn/cong-dong?page=27! Try again in 3 seconds.\n"
     ]
    },
    {
     "name": "stderr",
     "output_type": "stream",
     "text": [
      "Processing page 28: 100%|██████████| 3/3 [00:02<00:00,  1.03it/s]\n"
     ]
    },
    {
     "name": "stdout",
     "output_type": "stream",
     "text": [
      "Can't get connection to https://ivie.vn/cong-dong?page=31! Try again in 3 seconds.\n"
     ]
    },
    {
     "name": "stderr",
     "output_type": "stream",
     "text": []
    },
    {
     "name": "stdout",
     "output_type": "stream",
     "text": [
      "Can't get connection to https://ivie.vn/cong-dong?page=32! Try again in 3 seconds.\n"
     ]
    },
    {
     "name": "stderr",
     "output_type": "stream",
     "text": [
      "Processing page 30: 100%|██████████| 7/7 [00:07<00:00,  1.03s/it]\n",
      "Processing page 27:  43%|████▎     | 3/7 [00:07<00:07,  1.99s/it]\n",
      "Processing page 31: : 0it [00:00, ?it/s]\n",
      "Processing page 27:  71%|███████▏  | 5/7 [00:09<00:02,  1.38s/it]\n",
      "Processing page 27:  86%|████████▌ | 6/7 [00:10<00:01,  1.24s/it]\n",
      "Processing page 33: 100%|██████████| 7/7 [00:07<00:00,  1.01s/it]\n",
      "Processing page 27: 100%|██████████| 7/7 [00:11<00:00,  1.62s/it]\n",
      "\n",
      "Processing page 32:   0%|          | 0/3 [00:00<?, ?it/s]\n",
      "Processing page 32:  33%|███▎      | 1/3 [00:01<00:02,  1.09s/it]\n",
      "Processing page 32:  67%|██████▋   | 2/3 [00:02<00:01,  1.08s/it]\n",
      "Processing page 34: 100%|██████████| 5/5 [00:05<00:00,  1.04s/it]\n",
      "Processing page 32: 100%|██████████| 3/3 [00:03<00:00,  1.05s/it]\n",
      "Processing page 35:  43%|████▎     | 3/7 [00:03<00:04,  1.02s/it]\n",
      "Processing page 35:  57%|█████▋    | 4/7 [00:04<00:03,  1.03s/it]\n",
      "Processing page 35:  71%|███████▏  | 5/7 [00:05<00:02,  1.06s/it]\n",
      "Processing page 35:  86%|████████▌ | 6/7 [00:06<00:01,  1.03s/it]\n",
      "Processing page 35: 100%|██████████| 7/7 [00:07<00:00,  1.03s/it]\n",
      "\n",
      "Processing page 37: 100%|██████████| 4/4 [00:04<00:00,  1.00s/it]\n",
      "Processing page 39: : 0it [00:00, ?it/s]\n",
      "Processing page 38: : 0it [00:00, ?it/s]\n",
      "Processing page 36: 100%|██████████| 6/6 [00:06<00:00,  1.01s/it]\n",
      "Processing page 40:  75%|███████▌  | 3/4 [00:03<00:01,  1.05s/it]\n",
      "Processing page 40: 100%|██████████| 4/4 [00:04<00:00,  1.05s/it]\n",
      "Processing page 42: 100%|██████████| 3/3 [00:03<00:00,  1.11s/it]\n",
      "\n",
      "\u001b[A"
     ]
    },
    {
     "name": "stdout",
     "output_type": "stream",
     "text": [
      "Can't get connection to https://ivie.vn/cong-dong?page=44! Try again in 3 seconds.\n"
     ]
    },
    {
     "name": "stderr",
     "output_type": "stream",
     "text": [
      "\n",
      "\u001b[A\n",
      "\u001b[A\n",
      "\u001b[A\n",
      "\u001b[A\n",
      "Processing page 43:   0%|          | 0/3 [00:00<?, ?it/s]\n",
      "Processing page 43:  33%|███▎      | 1/3 [00:01<00:02,  1.03s/it]\n",
      "Processing page 41: 100%|██████████| 8/8 [00:08<00:00,  1.04s/it]\n",
      "Processing page 43: 100%|██████████| 3/3 [00:03<00:00,  1.00s/it]\n"
     ]
    },
    {
     "name": "stdout",
     "output_type": "stream",
     "text": [
      "Can't get connection to https://ivie.vn/cong-dong?page=45! Try again in 3 seconds.\n",
      "Can't get connection to https://ivie.vn/cong-dong?page=46! Try again in 3 seconds.\n",
      "Can't get connection to https://ivie.vn/cong-dong?page=44! Try again in 3 seconds.\n"
     ]
    },
    {
     "name": "stderr",
     "output_type": "stream",
     "text": [
      "Processing page 47: 100%|██████████| 6/6 [00:07<00:00,  1.21s/it]\n"
     ]
    },
    {
     "name": "stdout",
     "output_type": "stream",
     "text": [
      "Can't get connection to https://ivie.vn/cong-dong?page=48! Try again in 3 seconds.\n",
      "Can't get connection to https://ivie.vn/cong-dong?page=45! Try again in 3 seconds.\n"
     ]
    },
    {
     "name": "stderr",
     "output_type": "stream",
     "text": [
      "Processing page 46:  78%|███████▊  | 7/9 [00:07<00:02,  1.01s/it]\n",
      "Processing page 49: : 0it [00:00, ?it/s]\n",
      "Processing page 46: 100%|██████████| 9/9 [00:09<00:00,  1.03s/it]\n",
      "Processing page 44: 100%|██████████| 3/3 [00:03<00:00,  1.08s/it]\n",
      "Processing page 48:  40%|████      | 2/5 [00:02<00:03,  1.02s/it]"
     ]
    },
    {
     "name": "stdout",
     "output_type": "stream",
     "text": [
      "Can't get connection to https://ivie.vn/cong-dong?page=45! Try again in 3 seconds.\n"
     ]
    },
    {
     "name": "stderr",
     "output_type": "stream",
     "text": [
      "Processing page 48: 100%|██████████| 5/5 [00:05<00:00,  1.00s/it]\n",
      "Processing page 50:  50%|█████     | 4/8 [00:04<00:04,  1.01s/it]\n",
      "Processing page 50:  62%|██████▎   | 5/8 [00:05<00:02,  1.00it/s]\n",
      "Processing page 50:  75%|███████▌  | 6/8 [00:06<00:02,  1.00s/it]\n",
      "Processing page 50:  88%|████████▊ | 7/8 [00:07<00:01,  1.01s/it]\n",
      "Processing page 50: 100%|██████████| 8/8 [00:08<00:00,  1.02s/it]\n",
      "\n",
      "Processing page 51: 100%|██████████| 7/7 [00:07<00:00,  1.03s/it]\n",
      "\n",
      "\u001b[A\n",
      "\u001b[A"
     ]
    },
    {
     "name": "stdout",
     "output_type": "stream",
     "text": [
      "Can't get connection to https://ivie.vn/cong-dong?page=53! Try again in 3 seconds.\n"
     ]
    },
    {
     "name": "stderr",
     "output_type": "stream",
     "text": [
      "\n",
      "\u001b[A\n",
      "Processing page 52: 100%|██████████| 8/8 [00:08<00:00,  1.04s/it]\n",
      "Processing page 45: 100%|██████████| 7/7 [00:07<00:00,  1.05s/it]\n",
      "Processing page 54: 100%|██████████| 5/5 [00:05<00:00,  1.02s/it]\n",
      "Processing page 56: : 0it [00:00, ?it/s]\n"
     ]
    },
    {
     "name": "stdout",
     "output_type": "stream",
     "text": [
      "Can't get connection to https://ivie.vn/cong-dong?page=55! Try again in 3 seconds.\n"
     ]
    },
    {
     "name": "stderr",
     "output_type": "stream",
     "text": [
      "Processing page 53: 100%|██████████| 6/6 [00:06<00:00,  1.03s/it]\n"
     ]
    },
    {
     "name": "stdout",
     "output_type": "stream",
     "text": [
      "Can't get connection to https://ivie.vn/cong-dong?page=59! Try again in 3 seconds.\n"
     ]
    },
    {
     "name": "stderr",
     "output_type": "stream",
     "text": [
      "Processing page 57: 100%|██████████| 7/7 [00:07<00:00,  1.03s/it]\n"
     ]
    },
    {
     "name": "stdout",
     "output_type": "stream",
     "text": [
      "Can't get connection to https://ivie.vn/cong-dong?page=58! Try again in 3 seconds.\n",
      "Can't get connection to https://ivie.vn/cong-dong?page=60! Try again in 3 seconds.\n",
      "Can't get connection to https://ivie.vn/cong-dong?page=55! Try again in 3 seconds.\n"
     ]
    },
    {
     "name": "stderr",
     "output_type": "stream",
     "text": [
      "Processing page 61: 100%|██████████| 5/5 [00:05<00:00,  1.15s/it]\n",
      "Processing page 59:  29%|██▊       | 2/7 [00:02<00:05,  1.09s/it]"
     ]
    },
    {
     "name": "stdout",
     "output_type": "stream",
     "text": [
      "Can't get connection to https://ivie.vn/cong-dong?page=58! Try again in 3 seconds.\n"
     ]
    },
    {
     "name": "stderr",
     "output_type": "stream",
     "text": [
      "Processing page 59: 100%|██████████| 7/7 [00:07<00:00,  1.09s/it]\n",
      "Processing page 55:  38%|███▊      | 3/8 [00:02<00:04,  1.02it/s]\n",
      "\u001b[A\n",
      "Processing page 55:  50%|█████     | 4/8 [00:04<00:04,  1.04s/it]\n",
      "Processing page 55:  62%|██████▎   | 5/8 [00:05<00:03,  1.03s/it]\n",
      "Processing page 55:  75%|███████▌  | 6/8 [00:06<00:02,  1.03s/it]\n",
      "Processing page 55:  88%|████████▊ | 7/8 [00:07<00:01,  1.02s/it]\n",
      "Processing page 55: 100%|██████████| 8/8 [00:08<00:00,  1.01s/it]\n",
      "Processing page 60: 100%|██████████| 6/6 [00:07<00:00,  1.26s/it]\n",
      "\n",
      "Processing page 62: 100%|██████████| 6/6 [00:06<00:00,  1.03s/it]\n",
      "Processing page 58: 100%|██████████| 4/4 [00:04<00:00,  1.07s/it]\n",
      "Processing page 63: 100%|██████████| 6/6 [00:06<00:00,  1.06s/it]\n",
      "Processing page 64:  29%|██▊       | 2/7 [00:02<00:05,  1.08s/it]"
     ]
    },
    {
     "name": "stdout",
     "output_type": "stream",
     "text": [
      "Can't get connection to https://ivie.vn/cong-dong?page=65! Try again in 3 seconds.\n"
     ]
    },
    {
     "name": "stderr",
     "output_type": "stream",
     "text": [
      "Processing page 64: 100%|██████████| 7/7 [00:07<00:00,  1.01s/it]\n",
      "Processing page 66: 100%|██████████| 4/4 [00:03<00:00,  1.18it/s]\n",
      "Processing page 67: 100%|██████████| 5/5 [00:05<00:00,  1.02s/it]\n",
      "Processing page 68: 100%|██████████| 6/6 [00:06<00:00,  1.04s/it]\n"
     ]
    },
    {
     "name": "stdout",
     "output_type": "stream",
     "text": [
      "Can't get connection to https://ivie.vn/cong-dong?page=69! Try again in 3 seconds.\n"
     ]
    },
    {
     "name": "stderr",
     "output_type": "stream",
     "text": [
      "Processing page 65:  71%|███████▏  | 5/7 [00:05<00:02,  1.04s/it]\n",
      "Processing page 70: 100%|██████████| 6/6 [00:06<00:00,  1.02s/it]\n",
      "\n",
      "Processing page 65: 100%|██████████| 7/7 [00:07<00:00,  1.04s/it]\n",
      "\n",
      "Processing page 72:   0%|          | 0/7 [00:00<?, ?it/s]\n",
      "Processing page 72:  14%|█▍        | 1/7 [00:01<00:06,  1.07s/it]\n",
      "Processing page 72:  29%|██▊       | 2/7 [00:02<00:05,  1.11s/it]\n",
      "Processing page 72:  43%|████▎     | 3/7 [00:03<00:04,  1.13s/it]\n",
      "Processing page 72:  57%|█████▋    | 4/7 [00:04<00:03,  1.09s/it]\n",
      "Processing page 72:  71%|███████▏  | 5/7 [00:05<00:02,  1.06s/it]\n",
      "Processing page 71: 100%|██████████| 8/8 [00:08<00:00,  1.05s/it]\n",
      "Processing page 72: 100%|██████████| 7/7 [00:07<00:00,  1.06s/it]\n",
      "Processing page 69:  17%|█▋        | 1/6 [00:01<00:05,  1.07s/it]"
     ]
    },
    {
     "name": "stdout",
     "output_type": "stream",
     "text": [
      "Can't get connection to https://ivie.vn/cong-dong?page=73! Try again in 3 seconds.\n"
     ]
    },
    {
     "name": "stderr",
     "output_type": "stream",
     "text": [
      "Processing page 69:  33%|███▎      | 2/6 [00:02<00:04,  1.07s/it]"
     ]
    },
    {
     "name": "stdout",
     "output_type": "stream",
     "text": [
      "Can't get connection to https://ivie.vn/cong-dong?page=74! Try again in 3 seconds.\n"
     ]
    },
    {
     "name": "stderr",
     "output_type": "stream",
     "text": [
      "Processing page 69: 100%|██████████| 6/6 [00:06<00:00,  1.06s/it]\n"
     ]
    },
    {
     "name": "stdout",
     "output_type": "stream",
     "text": [
      "Can't get connection to https://ivie.vn/cong-dong?page=75! Try again in 3 seconds.\n"
     ]
    },
    {
     "name": "stderr",
     "output_type": "stream",
     "text": [
      "Processing page 76: 100%|██████████| 4/4 [00:04<00:00,  1.10s/it]\n",
      "Processing page 74: 100%|██████████| 3/3 [00:03<00:00,  1.04s/it]\n",
      "Processing page 73: 100%|██████████| 5/5 [00:04<00:00,  1.10it/s]\n"
     ]
    },
    {
     "name": "stdout",
     "output_type": "stream",
     "text": [
      "Can't get connection to https://ivie.vn/cong-dong?page=75! Try again in 3 seconds.\n"
     ]
    },
    {
     "name": "stderr",
     "output_type": "stream",
     "text": [
      "Processing page 77: : 0it [00:00, ?it/s] [00:00<?, ?it/s]\n",
      "Processing page 78: 100%|██████████| 5/5 [00:05<00:00,  1.09s/it]\n",
      "Processing page 79: : 0it [00:00, ?it/s] [00:00<?, ?it/s]\n",
      "Processing page 80: 100%|██████████| 7/7 [00:07<00:00,  1.13s/it]\n"
     ]
    },
    {
     "name": "stdout",
     "output_type": "stream",
     "text": [
      "Can't get connection to https://ivie.vn/cong-dong?page=82! Try again in 3 seconds.\n"
     ]
    },
    {
     "name": "stderr",
     "output_type": "stream",
     "text": [
      "Processing page 81: 100%|██████████| 4/4 [00:04<00:00,  1.11s/it]\n",
      "Processing page 75: 100%|██████████| 5/5 [00:05<00:00,  1.07s/it]\n"
     ]
    },
    {
     "name": "stdout",
     "output_type": "stream",
     "text": [
      "Can't get connection to https://ivie.vn/cong-dong?page=83! Try again in 3 seconds.\n",
      "Can't get connection to https://ivie.vn/cong-dong?page=84! Try again in 3 seconds.\n"
     ]
    },
    {
     "name": "stderr",
     "output_type": "stream",
     "text": [
      "Processing page 85:  67%|██████▋   | 6/9 [00:06<00:03,  1.05s/it]\n",
      "Processing page 85:  78%|███████▊  | 7/9 [00:07<00:02,  1.02s/it]\n",
      "Processing page 85:  89%|████████▉ | 8/9 [00:08<00:01,  1.03s/it]\n",
      "Processing page 85: 100%|██████████| 9/9 [00:09<00:00,  1.05s/it]\n",
      "\n",
      "\u001b[A\n",
      "Processing page 82: 100%|██████████| 6/6 [00:05<00:00,  1.01it/s]\n",
      "\n",
      "Processing page 86: 100%|██████████| 5/5 [00:05<00:00,  1.04s/it]\n",
      "Processing page 83: 100%|██████████| 5/5 [00:05<00:00,  1.02s/it]\n",
      "Processing page 84: 100%|██████████| 4/4 [00:04<00:00,  1.03s/it]\n",
      "Processing page 88:  17%|█▋        | 1/6 [00:01<00:05,  1.04s/it]\n",
      "Processing page 88:  33%|███▎      | 2/6 [00:02<00:04,  1.03s/it]\n",
      "Processing page 88:  50%|█████     | 3/6 [00:03<00:03,  1.03s/it]\n",
      "Processing page 88:  67%|██████▋   | 4/6 [00:04<00:02,  1.02s/it]\n",
      "Processing page 88:  83%|████████▎ | 5/6 [00:05<00:01,  1.00s/it]\n",
      "Processing page 89: 100%|██████████| 4/4 [00:04<00:00,  1.01s/it]\n",
      "Processing page 88: 100%|██████████| 6/6 [00:06<00:00,  1.00s/it]\n"
     ]
    },
    {
     "name": "stdout",
     "output_type": "stream",
     "text": [
      "Can't get connection to https://ivie.vn/cong-dong?page=90! Try again in 3 seconds.\n"
     ]
    },
    {
     "name": "stderr",
     "output_type": "stream",
     "text": [
      "Processing page 87: 100%|██████████| 6/6 [00:06<00:00,  1.01s/it]\n",
      "Processing page 91: 100%|██████████| 8/8 [00:07<00:00,  1.00it/s]\n",
      "Processing page 92:   0%|          | 0/4 [00:00<?, ?it/s]"
     ]
    },
    {
     "name": "stdout",
     "output_type": "stream",
     "text": [
      "Can't get connection to https://ivie.vn/cong-dong?page=94! Try again in 3 seconds.\n"
     ]
    },
    {
     "name": "stderr",
     "output_type": "stream",
     "text": [
      "Processing page 92: 100%|██████████| 4/4 [00:04<00:00,  1.01s/it]\n",
      "Processing page 93: 100%|██████████| 6/6 [00:05<00:00,  1.09it/s]\n",
      "Processing page 90:  17%|█▋        | 1/6 [00:00<00:04,  1.01it/s]"
     ]
    },
    {
     "name": "stdout",
     "output_type": "stream",
     "text": [
      "Can't get connection to https://ivie.vn/cong-dong?page=95! Try again in 3 seconds.\n"
     ]
    },
    {
     "name": "stderr",
     "output_type": "stream",
     "text": [
      "Processing page 90: 100%|██████████| 6/6 [00:06<00:00,  1.07s/it]\n",
      "Processing page 96:  38%|███▊      | 3/8 [00:03<00:05,  1.07s/it]\n",
      "Processing page 96:  50%|█████     | 4/8 [00:04<00:04,  1.06s/it]\n",
      "Processing page 96:  62%|██████▎   | 5/8 [00:05<00:03,  1.03s/it]\n",
      "Processing page 96:  75%|███████▌  | 6/8 [00:06<00:02,  1.01s/it]\n",
      "Processing page 96:  88%|████████▊ | 7/8 [00:07<00:01,  1.01s/it]\n",
      "Processing page 96: 100%|██████████| 8/8 [00:08<00:00,  1.04s/it]\n",
      "\n",
      "\u001b[A"
     ]
    },
    {
     "name": "stdout",
     "output_type": "stream",
     "text": [
      "Can't get connection to https://ivie.vn/cong-dong?page=98! Try again in 3 seconds.\n"
     ]
    },
    {
     "name": "stderr",
     "output_type": "stream",
     "text": [
      "Processing page 94: 100%|██████████| 8/8 [00:07<00:00,  1.02it/s]\n",
      "\n",
      "Processing page 95:  17%|█▋        | 1/6 [00:00<00:04,  1.04it/s]\n",
      "Processing page 95:  33%|███▎      | 2/6 [00:01<00:03,  1.04it/s]\n",
      "Processing page 95:  50%|█████     | 3/6 [00:02<00:02,  1.05it/s]\n",
      "Processing page 97: 100%|██████████| 9/9 [00:09<00:00,  1.02s/it]\n",
      "Processing page 95: 100%|██████████| 6/6 [00:06<00:00,  1.02s/it]\n",
      "Processing page 99:  83%|████████▎ | 5/6 [00:05<00:01,  1.12s/it]\n",
      "Processing page 99: 100%|██████████| 6/6 [00:06<00:00,  1.12s/it]\n",
      "\n",
      "\u001b[A"
     ]
    },
    {
     "name": "stdout",
     "output_type": "stream",
     "text": [
      "Can't get connection to https://ivie.vn/cong-dong?page=102! Try again in 3 seconds.\n"
     ]
    },
    {
     "name": "stderr",
     "output_type": "stream",
     "text": [
      "Processing page 98:   0%|          | 0/6 [00:00<?, ?it/s]\n",
      "Processing page 100: 100%|██████████| 7/7 [00:07<00:00,  1.11s/it]\n",
      "\n",
      "Processing page 98:  33%|███▎      | 2/6 [00:02<00:04,  1.09s/it]\n",
      "Processing page 101: 100%|██████████| 4/4 [00:04<00:00,  1.12s/it]\n",
      "Processing page 98: 100%|██████████| 6/6 [00:06<00:00,  1.06s/it]\n",
      "Processing page 104: : 0it [00:00, ?it/s] [00:05<00:02,  1.04s/it]\n",
      "Processing page 103: 100%|██████████| 7/7 [00:07<00:00,  1.04s/it]\n",
      "Processing page 102:   0%|          | 0/4 [00:00<?, ?it/s]"
     ]
    },
    {
     "name": "stdout",
     "output_type": "stream",
     "text": [
      "Can't get connection to https://ivie.vn/cong-dong?page=106! Try again in 3 seconds.\n"
     ]
    },
    {
     "name": "stderr",
     "output_type": "stream",
     "text": [
      "Processing page 102: 100%|██████████| 4/4 [00:04<00:00,  1.06s/it]\n",
      "Processing page 105: 100%|██████████| 9/9 [00:09<00:00,  1.07s/it]\n",
      "Processing page 107: 100%|██████████| 7/7 [00:06<00:00,  1.14it/s]\n"
     ]
    },
    {
     "name": "stdout",
     "output_type": "stream",
     "text": [
      "Can't get connection to https://ivie.vn/cong-dong?page=109! Try again in 3 seconds.\n",
      "Can't get connection to https://ivie.vn/cong-dong?page=108! Try again in 3 seconds.\n"
     ]
    },
    {
     "name": "stderr",
     "output_type": "stream",
     "text": [
      "Processing page 110: 100%|██████████| 2/2 [00:02<00:00,  1.11s/it]\n",
      "Processing page 106: 100%|██████████| 5/5 [00:04<00:00,  1.07it/s]\n"
     ]
    },
    {
     "name": "stdout",
     "output_type": "stream",
     "text": [
      "Can't get connection to https://ivie.vn/cong-dong?page=111! Try again in 3 seconds.\n",
      "Can't get connection to https://ivie.vn/cong-dong?page=108! Try again in 3 seconds.\n",
      "Can't get connection to https://ivie.vn/cong-dong?page=109! Try again in 3 seconds.\n"
     ]
    },
    {
     "name": "stderr",
     "output_type": "stream",
     "text": [
      "Processing page 111: 100%|██████████| 4/4 [00:04<00:00,  1.02s/it]\n"
     ]
    },
    {
     "name": "stdout",
     "output_type": "stream",
     "text": [
      "Can't get connection to https://ivie.vn/cong-dong?page=109! Try again in 3 seconds.\n",
      "Can't get connection to https://ivie.vn/cong-dong?page=112! Try again in 3 seconds.\n"
     ]
    },
    {
     "name": "stderr",
     "output_type": "stream",
     "text": [
      "Processing page 108: 100%|██████████| 6/6 [00:06<00:00,  1.00s/it]\n",
      "Processing page 113: 100%|██████████| 4/4 [00:03<00:00,  1.02it/s]\n",
      "Processing page 114: 100%|██████████| 6/6 [00:06<00:00,  1.03s/it]\n",
      "Processing page 109:   0%|          | 0/8 [00:00<?, ?it/s]\n",
      "Processing page 109:  12%|█▎        | 1/8 [00:01<00:07,  1.09s/it]\n",
      "Processing page 109:  25%|██▌       | 2/8 [00:02<00:06,  1.12s/it]\n",
      "Processing page 116: 100%|██████████| 2/2 [00:01<00:00,  1.01it/s]\n"
     ]
    },
    {
     "name": "stdout",
     "output_type": "stream",
     "text": [
      "Can't get connection to https://ivie.vn/cong-dong?page=112! Try again in 3 seconds.\n"
     ]
    },
    {
     "name": "stderr",
     "output_type": "stream",
     "text": [
      "Processing page 115: 100%|██████████| 8/8 [00:07<00:00,  1.03it/s]\n",
      "Processing page 109: 100%|██████████| 8/8 [00:08<00:00,  1.03s/it]\n"
     ]
    },
    {
     "name": "stdout",
     "output_type": "stream",
     "text": [
      "Can't get connection to https://ivie.vn/cong-dong?page=117! Try again in 3 seconds.\n"
     ]
    },
    {
     "name": "stderr",
     "output_type": "stream",
     "text": [
      "Processing page 118:  62%|██████▎   | 5/8 [00:05<00:03,  1.02s/it]\n",
      "\u001b[A\n",
      "\n",
      "Processing page 119: : 0it [00:00, ?it/s]\n",
      "Processing page 118:  75%|███████▌  | 6/8 [00:06<00:02,  1.03s/it]\n",
      "Processing page 118:  88%|████████▊ | 7/8 [00:07<00:01,  1.04s/it]\n",
      "Processing page 118: 100%|██████████| 8/8 [00:08<00:00,  1.04s/it]\n",
      "\n",
      "Processing page 112: 100%|██████████| 7/7 [00:07<00:00,  1.07s/it]\n",
      "Processing page 117:  33%|███▎      | 2/6 [00:02<00:04,  1.05s/it]\n",
      "Processing page 117:  50%|█████     | 3/6 [00:03<00:03,  1.05s/it]\n",
      "Processing page 117:  67%|██████▋   | 4/6 [00:04<00:02,  1.04s/it]\n",
      "Processing page 117:  83%|████████▎ | 5/6 [00:05<00:01,  1.02s/it]\n",
      "Processing page 117: 100%|██████████| 6/6 [00:06<00:00,  1.03s/it]\n",
      "\n",
      "\u001b[A\n",
      "Processing page 120: 100%|██████████| 9/9 [00:13<00:00,  1.48s/it]\n",
      "Processing page 122: : 0it [00:00, ?it/s] [00:03<00:01,  1.04s/it]\n",
      "Processing page 121: 100%|██████████| 4/4 [00:04<00:00,  1.05s/it]\n",
      "Processing page 123: 100%|██████████| 2/2 [00:02<00:00,  1.03s/it]\n",
      "Processing page 124: 100%|██████████| 4/4 [00:04<00:00,  1.02s/it]\n",
      "Processing page 125: 100%|██████████| 5/5 [00:05<00:00,  1.05s/it]\n",
      "Processing page 126: 100%|██████████| 4/4 [00:04<00:00,  1.03s/it]\n",
      "Processing page 128: 100%|██████████| 4/4 [00:04<00:00,  1.00s/it]\n"
     ]
    },
    {
     "name": "stdout",
     "output_type": "stream",
     "text": [
      "Can't get connection to https://ivie.vn/cong-dong?page=129! Try again in 3 seconds.\n"
     ]
    },
    {
     "name": "stderr",
     "output_type": "stream",
     "text": [
      "Processing page 127: 100%|██████████| 7/7 [00:07<00:00,  1.02s/it]\n"
     ]
    },
    {
     "name": "stdout",
     "output_type": "stream",
     "text": [
      "Can't get connection to https://ivie.vn/cong-dong?page=130! Try again in 3 seconds.\n",
      "Can't get connection to https://ivie.vn/cong-dong?page=131! Try again in 3 seconds.\n"
     ]
    },
    {
     "name": "stderr",
     "output_type": "stream",
     "text": [
      "Processing page 133:  40%|████      | 2/5 [00:01<00:02,  1.03it/s]"
     ]
    },
    {
     "name": "stdout",
     "output_type": "stream",
     "text": [
      "Can't get connection to https://ivie.vn/cong-dong?page=132! Try again in 3 seconds.\n"
     ]
    },
    {
     "name": "stderr",
     "output_type": "stream",
     "text": [
      "Processing page 133: 100%|██████████| 5/5 [00:04<00:00,  1.04it/s]\n",
      "Processing page 129:  33%|███▎      | 2/6 [00:02<00:04,  1.05s/it]"
     ]
    },
    {
     "name": "stdout",
     "output_type": "stream",
     "text": [
      "Can't get connection to https://ivie.vn/cong-dong?page=130! Try again in 3 seconds.\n"
     ]
    },
    {
     "name": "stderr",
     "output_type": "stream",
     "text": [
      "Processing page 129: 100%|██████████| 6/6 [00:06<00:00,  1.05s/it]\n",
      "Processing page 131: 100%|██████████| 7/7 [00:08<00:00,  1.19s/it]\n",
      "Processing page 134: 100%|██████████| 6/6 [00:06<00:00,  1.04s/it]\n",
      "Processing page 132: 100%|██████████| 7/7 [00:06<00:00,  1.05it/s]\n",
      "Processing page 135: 100%|██████████| 6/6 [00:05<00:00,  1.01it/s]\n",
      "Processing page 136: 100%|██████████| 4/4 [00:04<00:00,  1.08s/it]\n",
      "Processing page 130: 100%|██████████| 8/8 [00:08<00:00,  1.04s/it]\n",
      "Processing page 138: : 0it [00:00, ?it/s] [00:02<00:03,  1.07s/it]\n",
      "Processing page 137: 100%|██████████| 5/5 [00:05<00:00,  1.03s/it]\n",
      "Processing page 139:  40%|████      | 2/5 [00:01<00:02,  1.02it/s]"
     ]
    },
    {
     "name": "stdout",
     "output_type": "stream",
     "text": [
      "Can't get connection to https://ivie.vn/cong-dong?page=140! Try again in 3 seconds.\n"
     ]
    },
    {
     "name": "stderr",
     "output_type": "stream",
     "text": [
      "Processing page 139: 100%|██████████| 5/5 [00:04<00:00,  1.01it/s]\n",
      "Processing page 141: 100%|██████████| 6/6 [00:06<00:00,  1.01s/it]\n",
      "Processing page 142: 100%|██████████| 6/6 [00:06<00:00,  1.04s/it]\n",
      "Processing page 144: : 0it [00:00, ?it/s]\n"
     ]
    },
    {
     "name": "stdout",
     "output_type": "stream",
     "text": [
      "Can't get connection to https://ivie.vn/cong-dong?page=143! Try again in 3 seconds.\n",
      "Can't get connection to https://ivie.vn/cong-dong?page=140! Try again in 3 seconds.\n",
      "Can't get connection to https://ivie.vn/cong-dong?page=145! Try again in 3 seconds.\n"
     ]
    },
    {
     "name": "stderr",
     "output_type": "stream",
     "text": [
      "Processing page 146:  57%|█████▋    | 4/7 [00:04<00:03,  1.08s/it]"
     ]
    },
    {
     "name": "stdout",
     "output_type": "stream",
     "text": [
      "Can't get connection to https://ivie.vn/cong-dong?page=147! Try again in 3 seconds.\n"
     ]
    },
    {
     "name": "stderr",
     "output_type": "stream",
     "text": [
      "Processing page 146: 100%|██████████| 7/7 [00:07<00:00,  1.04s/it]\n",
      "Processing page 143:  62%|██████▎   | 5/8 [00:05<00:03,  1.03s/it]"
     ]
    },
    {
     "name": "stdout",
     "output_type": "stream",
     "text": [
      "Can't get connection to https://ivie.vn/cong-dong?page=145! Try again in 3 seconds.\n"
     ]
    },
    {
     "name": "stderr",
     "output_type": "stream",
     "text": [
      "Processing page 143: 100%|██████████| 8/8 [00:08<00:00,  1.06s/it]\n",
      "Processing page 140: 100%|██████████| 6/6 [00:06<00:00,  1.03s/it]\n",
      "Processing page 148: 100%|██████████| 5/5 [00:05<00:00,  1.05s/it]\n",
      "Processing page 147: 100%|██████████| 2/2 [00:02<00:00,  1.12s/it]\n",
      "Processing page 149:  50%|█████     | 3/6 [00:03<00:03,  1.06s/it]"
     ]
    },
    {
     "name": "stdout",
     "output_type": "stream",
     "text": [
      "Can't get connection to https://ivie.vn/cong-dong?page=150! Try again in 3 seconds.\n"
     ]
    },
    {
     "name": "stderr",
     "output_type": "stream",
     "text": [
      "Processing page 149: 100%|██████████| 6/6 [00:06<00:00,  1.05s/it]\n",
      "Processing page 145: 100%|██████████| 8/8 [00:08<00:00,  1.01s/it]\n",
      "Processing page 151:  71%|███████▏  | 5/7 [00:06<00:03,  1.56s/it]"
     ]
    },
    {
     "name": "stdout",
     "output_type": "stream",
     "text": [
      "Can't get connection to https://ivie.vn/cong-dong?page=152! Try again in 3 seconds.\n"
     ]
    },
    {
     "name": "stderr",
     "output_type": "stream",
     "text": [
      "Processing page 151: 100%|██████████| 7/7 [00:08<00:00,  1.24s/it]\n",
      "Processing page 153: 100%|██████████| 3/3 [00:03<00:00,  1.04s/it]\n",
      "Processing page 154: 100%|██████████| 4/4 [00:04<00:00,  1.01s/it]\n",
      "Processing page 155:  14%|█▍        | 1/7 [00:01<00:06,  1.07s/it]\n",
      "Processing page 155:  29%|██▊       | 2/7 [00:02<00:05,  1.11s/it]\n",
      "Processing page 150: 100%|██████████| 7/7 [00:07<00:00,  1.05s/it]\n",
      "\n",
      "Processing page 156: : 0it [00:00, ?it/s]\n",
      "\n",
      "\u001b[A\n",
      "\u001b[A\n",
      "Processing page 152: 100%|██████████| 5/5 [00:05<00:00,  1.02s/it]\n"
     ]
    },
    {
     "name": "stdout",
     "output_type": "stream",
     "text": [
      "Can't get connection to https://ivie.vn/cong-dong?page=157! Try again in 3 seconds.\n",
      "Can't get connection to https://ivie.vn/cong-dong?page=158! Try again in 3 seconds.\n"
     ]
    },
    {
     "name": "stderr",
     "output_type": "stream",
     "text": [
      "Processing page 155:  57%|█████▋    | 4/7 [00:24<00:26,  8.98s/it]"
     ]
    },
    {
     "name": "stdout",
     "output_type": "stream",
     "text": [
      "Error with this QA!\n"
     ]
    },
    {
     "name": "stderr",
     "output_type": "stream",
     "text": [
      "Processing page 155:  71%|███████▏  | 5/7 [00:25<00:12,  6.10s/it]"
     ]
    },
    {
     "name": "stdout",
     "output_type": "stream",
     "text": [
      "Can't get connection to https://ivie.vn/cong-dong?page=159! Try again in 3 seconds.\n"
     ]
    },
    {
     "name": "stderr",
     "output_type": "stream",
     "text": [
      "Processing page 155:  86%|████████▌ | 6/7 [00:27<00:04,  4.91s/it]"
     ]
    },
    {
     "name": "stdout",
     "output_type": "stream",
     "text": [
      "Can't get connection to https://ivie.vn/cong-dong?page=157! Try again in 3 seconds.\n"
     ]
    },
    {
     "name": "stderr",
     "output_type": "stream",
     "text": [
      "Processing page 155: 100%|██████████| 7/7 [00:29<00:00,  4.28s/it]\n",
      "Processing page 160: 100%|██████████| 6/6 [00:10<00:00,  1.73s/it]\n"
     ]
    },
    {
     "name": "stdout",
     "output_type": "stream",
     "text": [
      "Can't get connection to https://ivie.vn/cong-dong?page=158! Try again in 3 seconds.\n",
      "Can't get connection to https://ivie.vn/cong-dong?page=159! Try again in 3 seconds.\n",
      "Can't get connection to https://ivie.vn/cong-dong?page=161! Try again in 3 seconds.\n",
      "Can't get connection to https://ivie.vn/cong-dong?page=162! Try again in 3 seconds.\n"
     ]
    },
    {
     "name": "stderr",
     "output_type": "stream",
     "text": [
      "Processing page 157: 100%|██████████| 8/8 [00:09<00:00,  1.13s/it]\n",
      "Processing page 159:  14%|█▍        | 1/7 [00:01<00:06,  1.12s/it]\n",
      "\u001b[A"
     ]
    },
    {
     "name": "stdout",
     "output_type": "stream",
     "text": [
      "Can't get connection to https://ivie.vn/cong-dong?page=161! Try again in 3 seconds.\n"
     ]
    },
    {
     "name": "stderr",
     "output_type": "stream",
     "text": [
      "Processing page 159:  29%|██▊       | 2/7 [00:02<00:05,  1.04s/it]\n",
      "Processing page 159:  43%|████▎     | 3/7 [00:03<00:04,  1.02s/it]\n",
      "Processing page 159:  57%|█████▋    | 4/7 [00:04<00:03,  1.04s/it]\n",
      "Processing page 158: 100%|██████████| 5/5 [00:05<00:00,  1.07s/it]\n",
      "\n",
      "Processing page 159:  86%|████████▌ | 6/7 [00:06<00:01,  1.04s/it]\n",
      "Processing page 159: 100%|██████████| 7/7 [00:07<00:00,  1.04s/it]\n",
      "\n",
      "\u001b[A\n",
      "\u001b[A\n",
      "Processing page 162: 100%|██████████| 8/8 [00:08<00:00,  1.04s/it]\n",
      "Processing page 163:  75%|███████▌  | 6/8 [00:07<00:02,  1.14s/it]"
     ]
    },
    {
     "name": "stdout",
     "output_type": "stream",
     "text": [
      "Can't get connection to https://ivie.vn/cong-dong?page=165! Try again in 3 seconds.\n"
     ]
    },
    {
     "name": "stderr",
     "output_type": "stream",
     "text": [
      "Processing page 163: 100%|██████████| 8/8 [00:08<00:00,  1.12s/it]\n"
     ]
    },
    {
     "name": "stdout",
     "output_type": "stream",
     "text": [
      "Can't get connection to https://ivie.vn/cong-dong?page=166! Try again in 3 seconds.\n",
      "Can't get connection to https://ivie.vn/cong-dong?page=161! Try again in 3 seconds.\n",
      "Can't get connection to https://ivie.vn/cong-dong?page=164! Try again in 3 seconds.\n",
      "Can't get connection to https://ivie.vn/cong-dong?page=167! Try again in 3 seconds.\n"
     ]
    },
    {
     "name": "stderr",
     "output_type": "stream",
     "text": [
      "Processing page 161: : 0it [00:00, ?it/s]\n",
      "Processing page 165:  33%|███▎      | 2/6 [00:02<00:04,  1.02s/it]"
     ]
    },
    {
     "name": "stdout",
     "output_type": "stream",
     "text": [
      "Can't get connection to https://ivie.vn/cong-dong?page=166! Try again in 3 seconds.\n"
     ]
    },
    {
     "name": "stderr",
     "output_type": "stream",
     "text": [
      "Processing page 165: 100%|██████████| 6/6 [00:06<00:00,  1.00s/it]\n",
      "Processing page 167:  56%|█████▌    | 5/9 [00:04<00:03,  1.03it/s]\n",
      "Processing page 167:  78%|███████▊  | 7/9 [00:06<00:01,  1.01it/s]\n",
      "Processing page 167:  89%|████████▉ | 8/9 [00:07<00:00,  1.01it/s]\n",
      "\u001b[A"
     ]
    },
    {
     "name": "stdout",
     "output_type": "stream",
     "text": [
      "Can't get connection to https://ivie.vn/cong-dong?page=169! Try again in 3 seconds.\n"
     ]
    },
    {
     "name": "stderr",
     "output_type": "stream",
     "text": [
      "Processing page 167: 100%|██████████| 9/9 [00:08<00:00,  1.01it/s]\n",
      "\n",
      "\u001b[A\n",
      "\u001b[A\n",
      "Processing page 166:   0%|          | 0/4 [00:00<?, ?it/s]\n",
      "Processing page 166:  25%|██▌       | 1/4 [00:01<00:03,  1.04s/it]"
     ]
    },
    {
     "name": "stdout",
     "output_type": "stream",
     "text": [
      "Error with this QA!\n"
     ]
    },
    {
     "name": "stderr",
     "output_type": "stream",
     "text": [
      "\n",
      "Processing page 166:  50%|█████     | 2/4 [00:02<00:02,  1.03s/it]\n",
      "Processing page 168: 100%|██████████| 8/8 [00:08<00:00,  1.04s/it]\n",
      "Processing page 166: 100%|██████████| 4/4 [00:04<00:00,  1.06s/it]\n",
      "Processing page 164: 100%|██████████| 6/6 [00:26<00:00,  4.40s/it]\n",
      "Processing page 170: 100%|██████████| 2/2 [00:01<00:00,  1.01it/s]\n"
     ]
    },
    {
     "name": "stdout",
     "output_type": "stream",
     "text": [
      "Can't get connection to https://ivie.vn/cong-dong?page=169! Try again in 3 seconds.\n"
     ]
    },
    {
     "name": "stderr",
     "output_type": "stream",
     "text": [
      "Processing page 172:  14%|█▍        | 1/7 [00:01<00:06,  1.01s/it]"
     ]
    },
    {
     "name": "stdout",
     "output_type": "stream",
     "text": [
      "Can't get connection to https://ivie.vn/cong-dong?page=173! Try again in 3 seconds.\n"
     ]
    },
    {
     "name": "stderr",
     "output_type": "stream",
     "text": [
      "Processing page 172:  86%|████████▌ | 6/7 [00:06<00:01,  1.08s/it]"
     ]
    },
    {
     "name": "stdout",
     "output_type": "stream",
     "text": [
      "Can't get connection to https://ivie.vn/cong-dong?page=171! Try again in 3 seconds.\n"
     ]
    },
    {
     "name": "stderr",
     "output_type": "stream",
     "text": [
      "Processing page 172: 100%|██████████| 7/7 [00:07<00:00,  1.07s/it]\n"
     ]
    },
    {
     "name": "stdout",
     "output_type": "stream",
     "text": [
      "Can't get connection to https://ivie.vn/cong-dong?page=174! Try again in 3 seconds.\n",
      "Can't get connection to https://ivie.vn/cong-dong?page=169! Try again in 3 seconds.\n",
      "Can't get connection to https://ivie.vn/cong-dong?page=173! Try again in 3 seconds.\n"
     ]
    },
    {
     "name": "stderr",
     "output_type": "stream",
     "text": [
      "Processing page 175:  17%|█▋        | 1/6 [00:01<00:05,  1.01s/it]"
     ]
    },
    {
     "name": "stdout",
     "output_type": "stream",
     "text": [
      "Can't get connection to https://ivie.vn/cong-dong?page=171! Try again in 3 seconds.\n"
     ]
    },
    {
     "name": "stderr",
     "output_type": "stream",
     "text": [
      "Processing page 175:  67%|██████▋   | 4/6 [00:06<00:02,  1.49s/it]"
     ]
    },
    {
     "name": "stdout",
     "output_type": "stream",
     "text": [
      "Can't get connection to https://ivie.vn/cong-dong?page=174! Try again in 3 seconds.\n"
     ]
    },
    {
     "name": "stderr",
     "output_type": "stream",
     "text": [
      "Processing page 175: 100%|██████████| 6/6 [00:08<00:00,  1.44s/it]\n",
      "Processing page 169:  20%|██        | 1/5 [00:01<00:04,  1.00s/it]"
     ]
    },
    {
     "name": "stdout",
     "output_type": "stream",
     "text": [
      "Can't get connection to https://ivie.vn/cong-dong?page=173! Try again in 3 seconds.\n"
     ]
    },
    {
     "name": "stderr",
     "output_type": "stream",
     "text": [
      "Processing page 169: 100%|██████████| 5/5 [00:04<00:00,  1.01it/s]\n",
      "Processing page 171: : 0it [00:00, ?it/s]\n",
      "Processing page 176: : 0it [00:00, ?it/s]\n"
     ]
    },
    {
     "name": "stdout",
     "output_type": "stream",
     "text": [
      "Can't get connection to https://ivie.vn/cong-dong?page=174! Try again in 3 seconds.\n"
     ]
    },
    {
     "name": "stderr",
     "output_type": "stream",
     "text": [
      "Processing page 173:   0%|          | 0/4 [00:00<?, ?it/s]"
     ]
    },
    {
     "name": "stdout",
     "output_type": "stream",
     "text": [
      "Can't get connection to https://ivie.vn/cong-dong?page=178! Try again in 3 seconds.\n",
      "Can't get connection to https://ivie.vn/cong-dong?page=177! Try again in 3 seconds.\n"
     ]
    },
    {
     "name": "stderr",
     "output_type": "stream",
     "text": []
    },
    {
     "name": "stdout",
     "output_type": "stream",
     "text": [
      "Can't get connection to https://ivie.vn/cong-dong?page=179! Try again in 3 seconds.\n"
     ]
    },
    {
     "name": "stderr",
     "output_type": "stream",
     "text": [
      "Processing page 174: 100%|██████████| 7/7 [00:07<00:00,  1.02s/it]\n",
      "\n",
      "Processing page 173:  25%|██▌       | 1/4 [00:21<01:03, 21.05s/it]"
     ]
    },
    {
     "name": "stdout",
     "output_type": "stream",
     "text": [
      "Error with this QA!\n"
     ]
    },
    {
     "name": "stderr",
     "output_type": "stream",
     "text": [
      "\n",
      "Processing page 173:  50%|█████     | 2/4 [00:22<00:18,  9.33s/it]\n",
      "Processing page 178: 100%|██████████| 4/4 [00:04<00:00,  1.04s/it]\n",
      "Processing page 173:  75%|███████▌  | 3/4 [00:23<00:05,  5.52s/it]\n",
      "Processing page 173: 100%|██████████| 4/4 [00:24<00:00,  6.04s/it]\n",
      "\n",
      "\u001b[A\n",
      "Processing page 177:   0%|          | 0/6 [00:00<?, ?it/s]\n",
      "Processing page 179: 100%|██████████| 6/6 [00:05<00:00,  1.00it/s]\n",
      "Processing page 180: 100%|██████████| 4/4 [00:04<00:00,  1.01s/it]\n",
      "Processing page 177: 100%|██████████| 6/6 [00:10<00:00,  1.71s/it]\n",
      "Processing page 182: 100%|██████████| 3/3 [00:02<00:00,  1.02it/s]\n",
      "Processing page 181: 100%|██████████| 6/6 [00:06<00:00,  1.01s/it]\n",
      "Processing page 184: 100%|██████████| 3/3 [00:02<00:00,  1.01it/s]\n",
      "Processing page 183: 100%|██████████| 7/7 [00:07<00:00,  1.02s/it]\n"
     ]
    },
    {
     "name": "stdout",
     "output_type": "stream",
     "text": [
      "Can't get connection to https://ivie.vn/cong-dong?page=186! Try again in 3 seconds.\n"
     ]
    },
    {
     "name": "stderr",
     "output_type": "stream",
     "text": []
    },
    {
     "name": "stdout",
     "output_type": "stream",
     "text": [
      "Can't get connection to https://ivie.vn/cong-dong?page=187! Try again in 3 seconds.\n"
     ]
    },
    {
     "name": "stderr",
     "output_type": "stream",
     "text": [
      "Processing page 188:  29%|██▊       | 2/7 [00:01<00:04,  1.06it/s]\n",
      "Processing page 188:  43%|████▎     | 3/7 [00:02<00:03,  1.06it/s]\n",
      "Processing page 188:  57%|█████▋    | 4/7 [00:03<00:03,  1.03s/it]\n",
      "Processing page 188:  71%|███████▏  | 5/7 [00:05<00:02,  1.04s/it]\n",
      "Processing page 188:  86%|████████▌ | 6/7 [00:06<00:01,  1.08s/it]\n",
      "Processing page 188: 100%|██████████| 7/7 [00:07<00:00,  1.02s/it]\n",
      "\n",
      "\u001b[A\n",
      "Processing page 189: 100%|██████████| 6/6 [00:06<00:00,  1.08s/it]\n"
     ]
    },
    {
     "name": "stdout",
     "output_type": "stream",
     "text": [
      "Can't get connection to https://ivie.vn/cong-dong?page=186! Try again in 3 seconds.\n",
      "Can't get connection to https://ivie.vn/cong-dong?page=187! Try again in 3 seconds.\n"
     ]
    },
    {
     "name": "stderr",
     "output_type": "stream",
     "text": []
    },
    {
     "name": "stdout",
     "output_type": "stream",
     "text": [
      "Error with this QA!\n"
     ]
    },
    {
     "name": "stderr",
     "output_type": "stream",
     "text": [
      "Processing page 185: 100%|██████████| 8/8 [00:28<00:00,  3.53s/it]\n"
     ]
    },
    {
     "name": "stdout",
     "output_type": "stream",
     "text": [
      "Can't get connection to https://ivie.vn/cong-dong?page=191! Try again in 3 seconds.\n",
      "Can't get connection to https://ivie.vn/cong-dong?page=190! Try again in 3 seconds.\n"
     ]
    },
    {
     "name": "stderr",
     "output_type": "stream",
     "text": [
      "Processing page 186:  17%|█▋        | 1/6 [00:00<00:04,  1.00it/s]"
     ]
    },
    {
     "name": "stdout",
     "output_type": "stream",
     "text": [
      "Can't get connection to https://ivie.vn/cong-dong?page=187! Try again in 3 seconds.\n"
     ]
    },
    {
     "name": "stderr",
     "output_type": "stream",
     "text": [
      "Processing page 186: 100%|██████████| 6/6 [00:06<00:00,  1.02s/it]\n",
      "Processing page 191: 100%|██████████| 5/5 [00:06<00:00,  1.35s/it]\n",
      "Processing page 190: 100%|██████████| 5/5 [00:04<00:00,  1.01it/s]\n"
     ]
    },
    {
     "name": "stdout",
     "output_type": "stream",
     "text": [
      "Can't get connection to https://ivie.vn/cong-dong?page=187! Try again in 3 seconds.\n",
      "Can't get connection to https://ivie.vn/cong-dong?page=193! Try again in 3 seconds.\n"
     ]
    },
    {
     "name": "stderr",
     "output_type": "stream",
     "text": [
      "Processing page 195: 100%|██████████| 4/4 [00:04<00:00,  1.17s/it]\n",
      "Processing page 194: 100%|██████████| 7/7 [00:07<00:00,  1.12s/it]\n",
      "Processing page 193:   0%|          | 0/5 [00:00<?, ?it/s]\n",
      "Processing page 193:  20%|██        | 1/5 [00:00<00:03,  1.06it/s]\n",
      "Processing page 193:  40%|████      | 2/5 [00:01<00:02,  1.03it/s]\n",
      "Processing page 193:  60%|██████    | 3/5 [00:02<00:01,  1.03it/s]\n",
      "Processing page 193:  80%|████████  | 4/5 [00:04<00:01,  1.04s/it]\n",
      "Processing page 193: 100%|██████████| 5/5 [00:05<00:00,  1.03s/it]\n",
      "Processing page 187: 100%|██████████| 5/5 [00:05<00:00,  1.05s/it]\n",
      "\n",
      "Processing page 192: 100%|██████████| 5/5 [00:05<00:00,  1.08s/it]\n",
      "Processing page 196: 100%|██████████| 7/7 [00:07<00:00,  1.09s/it]\n",
      "Processing page 197: 100%|██████████| 7/7 [00:07<00:00,  1.05s/it]\n",
      "Processing page 199: : 0it [00:00, ?it/s]\n",
      "Processing page 200: : 0it [00:00, ?it/s]\n",
      "Processing page 198: 100%|██████████| 6/6 [00:05<00:00,  1.01it/s]\n",
      "Processing page 201:  62%|██████▎   | 5/8 [00:05<00:03,  1.02s/it]\n",
      "Processing page 201:  75%|███████▌  | 6/8 [00:05<00:02,  1.00s/it]\n",
      "\n",
      "\u001b[A\u001b[A\n",
      "Processing page 201:  88%|████████▊ | 7/8 [00:06<00:00,  1.02it/s]\n",
      "\n",
      "\u001b[A\u001b[A\n",
      "\u001b[A\n",
      "Processing page 201: 100%|██████████| 8/8 [00:08<00:00,  1.00s/it]\n",
      "\n",
      "\n",
      "Processing page 202: 100%|██████████| 8/8 [00:08<00:00,  1.02s/it]\n",
      "\n",
      "Processing page 203: 100%|██████████| 4/4 [00:03<00:00,  1.10it/s]\n",
      "\n",
      "\n",
      "\u001b[A\u001b[A\n",
      "\n",
      "\u001b[A\u001b[A\n",
      "\n",
      "Processing page 204: 100%|██████████| 5/5 [00:05<00:00,  1.02s/it]\n"
     ]
    },
    {
     "name": "stdout",
     "output_type": "stream",
     "text": [
      "Can't get connection to https://ivie.vn/cong-dong?page=205! Try again in 3 seconds.\n"
     ]
    },
    {
     "name": "stderr",
     "output_type": "stream",
     "text": [
      "Processing page 207: : 0it [00:00, ?it/s] [00:00<?, ?it/s]\n",
      "Processing page 206: : 0it [00:00, ?it/s]\n",
      "Processing page 208: 100%|██████████| 6/6 [00:05<00:00,  1.06it/s]\n"
     ]
    },
    {
     "name": "stdout",
     "output_type": "stream",
     "text": [
      "Can't get connection to https://ivie.vn/cong-dong?page=205! Try again in 3 seconds.\n"
     ]
    },
    {
     "name": "stderr",
     "output_type": "stream",
     "text": [
      "Processing page 209: 100%|██████████| 6/6 [00:06<00:00,  1.05s/it]\n",
      "Processing page 211: : 0it [00:00, ?it/s] [00:05<00:00,  1.01it/s]\n",
      "Processing page 210: 100%|██████████| 7/7 [00:06<00:00,  1.00it/s]\n",
      "Processing page 212:  83%|████████▎ | 5/6 [00:05<00:01,  1.12s/it]\n",
      "Processing page 212: 100%|██████████| 6/6 [00:06<00:00,  1.00s/it]\n",
      "\n",
      "\u001b[A\n",
      "\u001b[A\n",
      "\u001b[A\n",
      "Processing page 213: 100%|██████████| 7/7 [00:07<00:00,  1.03s/it]\n",
      "\n",
      "\u001b[A"
     ]
    },
    {
     "name": "stdout",
     "output_type": "stream",
     "text": [
      "Can't get connection to https://ivie.vn/cong-dong?page=214! Try again in 3 seconds.\n"
     ]
    },
    {
     "name": "stderr",
     "output_type": "stream",
     "text": [
      "Processing page 215:   0%|          | 0/4 [00:00<?, ?it/s]\n",
      "Processing page 215:  25%|██▌       | 1/4 [00:00<00:02,  1.01it/s]\n",
      "Processing page 215:  50%|█████     | 2/4 [00:02<00:02,  1.02s/it]\n",
      "Processing page 215:  75%|███████▌  | 3/4 [00:03<00:00,  1.00it/s]\n",
      "Processing page 205: 100%|██████████| 9/9 [00:09<00:00,  1.03s/it]\n",
      "Processing page 215: 100%|██████████| 4/4 [00:04<00:00,  1.01s/it]\n",
      "Processing page 216: 100%|██████████| 6/6 [00:06<00:00,  1.03s/it]\n",
      "Processing page 217: 100%|██████████| 4/4 [00:04<00:00,  1.01s/it]\n"
     ]
    },
    {
     "name": "stdout",
     "output_type": "stream",
     "text": [
      "Can't get connection to https://ivie.vn/cong-dong?page=218! Try again in 3 seconds.\n"
     ]
    },
    {
     "name": "stderr",
     "output_type": "stream",
     "text": [
      "Processing page 214: 100%|██████████| 4/4 [00:03<00:00,  1.11it/s]\n",
      "Processing page 219: 100%|██████████| 6/6 [00:06<00:00,  1.05s/it]\n",
      "Processing page 220: 100%|██████████| 2/2 [00:02<00:00,  1.02s/it]\n",
      "Processing page 221:  86%|████████▌ | 6/7 [00:06<00:01,  1.03s/it]"
     ]
    },
    {
     "name": "stdout",
     "output_type": "stream",
     "text": [
      "Can't get connection to https://ivie.vn/cong-dong?page=222! Try again in 3 seconds.\n"
     ]
    },
    {
     "name": "stderr",
     "output_type": "stream",
     "text": [
      "Processing page 221: 100%|██████████| 7/7 [00:07<00:00,  1.04s/it]\n",
      "Processing page 218: 100%|██████████| 5/5 [00:05<00:00,  1.07s/it]\n"
     ]
    },
    {
     "name": "stdout",
     "output_type": "stream",
     "text": [
      "Can't get connection to https://ivie.vn/cong-dong?page=223! Try again in 3 seconds.\n"
     ]
    },
    {
     "name": "stderr",
     "output_type": "stream",
     "text": [
      "Processing page 224: 100%|██████████| 7/7 [00:07<00:00,  1.03s/it]\n",
      "Processing page 225: 100%|██████████| 5/5 [00:04<00:00,  1.01it/s]\n",
      "Processing page 226:   0%|          | 0/3 [00:00<?, ?it/s]\n",
      "Processing page 226:  33%|███▎      | 1/3 [00:01<00:02,  1.03s/it]\n",
      "Processing page 226:  67%|██████▋   | 2/3 [00:02<00:01,  1.09s/it]\n",
      "Processing page 226: 100%|██████████| 3/3 [00:03<00:00,  1.08s/it]\n",
      "Processing page 222: 100%|██████████| 7/7 [00:07<00:00,  1.00s/it]\n",
      "\n",
      "\u001b[A\n",
      "\u001b[A\n",
      "Processing page 223: 100%|██████████| 5/5 [00:09<00:00,  1.89s/it]\n",
      "Processing page 227: 100%|██████████| 5/5 [00:05<00:00,  1.08s/it]\n"
     ]
    },
    {
     "name": "stdout",
     "output_type": "stream",
     "text": [
      "Can't get connection to https://ivie.vn/cong-dong?page=229! Try again in 3 seconds.\n"
     ]
    },
    {
     "name": "stderr",
     "output_type": "stream",
     "text": [
      "Processing page 228: 100%|██████████| 6/6 [00:06<00:00,  1.07s/it]\n",
      "Processing page 230: 100%|██████████| 6/6 [00:06<00:00,  1.04s/it]\n",
      "Processing page 231: 100%|██████████| 5/5 [00:05<00:00,  1.06s/it]\n"
     ]
    },
    {
     "name": "stdout",
     "output_type": "stream",
     "text": [
      "Can't get connection to https://ivie.vn/cong-dong?page=232! Try again in 3 seconds.\n"
     ]
    },
    {
     "name": "stderr",
     "output_type": "stream",
     "text": [
      "Processing page 233: 100%|██████████| 5/5 [00:04<00:00,  1.00it/s]\n",
      "Processing page 229:  83%|████████▎ | 5/6 [00:05<00:01,  1.02s/it]\n",
      "Processing page 235: : 0it [00:00, ?it/s]\n",
      "Processing page 229: 100%|██████████| 6/6 [00:06<00:00,  1.02s/it]\n",
      "Processing page 234: 100%|██████████| 7/7 [00:07<00:00,  1.00s/it]\n",
      "Processing page 232:  43%|████▎     | 3/7 [00:03<00:04,  1.05s/it]"
     ]
    },
    {
     "name": "stdout",
     "output_type": "stream",
     "text": [
      "Can't get connection to https://ivie.vn/cong-dong?page=236! Try again in 3 seconds.\n"
     ]
    },
    {
     "name": "stderr",
     "output_type": "stream",
     "text": [
      "Processing page 232: 100%|██████████| 7/7 [00:07<00:00,  1.00s/it]\n"
     ]
    },
    {
     "name": "stdout",
     "output_type": "stream",
     "text": [
      "Can't get connection to https://ivie.vn/cong-dong?page=238! Try again in 3 seconds.\n"
     ]
    },
    {
     "name": "stderr",
     "output_type": "stream",
     "text": [
      "Processing page 237: 100%|██████████| 6/6 [00:06<00:00,  1.03s/it]\n",
      "Processing page 240: 100%|██████████| 5/5 [00:04<00:00,  1.01it/s]\n",
      "Processing page 236: 100%|██████████| 4/4 [00:03<00:00,  1.01it/s]\n",
      "Processing page 238:  11%|█         | 1/9 [00:01<00:08,  1.06s/it]"
     ]
    },
    {
     "name": "stdout",
     "output_type": "stream",
     "text": [
      "Can't get connection to https://ivie.vn/cong-dong?page=239! Try again in 3 seconds.\n"
     ]
    },
    {
     "name": "stderr",
     "output_type": "stream",
     "text": [
      "Processing page 241: 100%|██████████| 2/2 [00:02<00:00,  1.06s/it]\n",
      "Processing page 238: 100%|██████████| 9/9 [00:09<00:00,  1.05s/it]\n",
      "Processing page 243: : 0it [00:00, ?it/s] [00:05<00:01,  1.04s/it]\n"
     ]
    },
    {
     "name": "stdout",
     "output_type": "stream",
     "text": [
      "Can't get connection to https://ivie.vn/cong-dong?page=244! Try again in 3 seconds.\n",
      "Can't get connection to https://ivie.vn/cong-dong?page=239! Try again in 3 seconds.\n"
     ]
    },
    {
     "name": "stderr",
     "output_type": "stream",
     "text": []
    },
    {
     "name": "stdout",
     "output_type": "stream",
     "text": [
      "Can't get connection to https://ivie.vn/cong-dong?page=246! Try again in 3 seconds.\n"
     ]
    },
    {
     "name": "stderr",
     "output_type": "stream",
     "text": [
      "Processing page 245: 100%|██████████| 8/8 [00:07<00:00,  1.01it/s]\n",
      "Processing page 242: 100%|██████████| 6/6 [00:26<00:00,  4.40s/it]"
     ]
    },
    {
     "name": "stdout",
     "output_type": "stream",
     "text": [
      "Error with this QA!\n"
     ]
    },
    {
     "name": "stderr",
     "output_type": "stream",
     "text": [
      "\n",
      "Processing page 244:  14%|█▍        | 1/7 [00:01<00:06,  1.02s/it]"
     ]
    },
    {
     "name": "stdout",
     "output_type": "stream",
     "text": [
      "Can't get connection to https://ivie.vn/cong-dong?page=239! Try again in 3 seconds.\n"
     ]
    },
    {
     "name": "stderr",
     "output_type": "stream",
     "text": [
      "Processing page 244: 100%|██████████| 7/7 [00:07<00:00,  1.01s/it]\n",
      "Processing page 247:  50%|█████     | 4/8 [00:04<00:04,  1.03s/it]\n",
      "Processing page 247:  62%|██████▎   | 5/8 [00:05<00:03,  1.00s/it]\n",
      "Processing page 247:  75%|███████▌  | 6/8 [00:06<00:02,  1.01s/it]\n",
      "Processing page 247:  88%|████████▊ | 7/8 [00:07<00:01,  1.02s/it]\n",
      "Processing page 247: 100%|██████████| 8/8 [00:08<00:00,  1.01s/it]\n",
      "Processing page 246: 100%|██████████| 5/5 [00:05<00:00,  1.01s/it]\n",
      "\n",
      "\u001b[A\n",
      "\u001b[A\n",
      "\u001b[A"
     ]
    },
    {
     "name": "stdout",
     "output_type": "stream",
     "text": [
      "Can't get connection to https://ivie.vn/cong-dong?page=239! Try again in 3 seconds.\n",
      "Can't get connection to https://ivie.vn/cong-dong?page=249! Try again in 3 seconds.\n"
     ]
    },
    {
     "name": "stderr",
     "output_type": "stream",
     "text": [
      "\n",
      "Processing page 248: 100%|██████████| 7/7 [00:07<00:00,  1.02s/it]\n"
     ]
    },
    {
     "name": "stdout",
     "output_type": "stream",
     "text": [
      "Can't get connection to https://ivie.vn/cong-dong?page=250! Try again in 3 seconds.\n"
     ]
    },
    {
     "name": "stderr",
     "output_type": "stream",
     "text": [
      "Processing page 251:  83%|████████▎ | 5/6 [00:05<00:01,  1.01s/it]"
     ]
    },
    {
     "name": "stdout",
     "output_type": "stream",
     "text": [
      "Can't get connection to https://ivie.vn/cong-dong?page=239! Try again in 3 seconds.\n",
      "Can't get connection to https://ivie.vn/cong-dong?page=249! Try again in 3 seconds.\n"
     ]
    },
    {
     "name": "stderr",
     "output_type": "stream",
     "text": [
      "Processing page 251: 100%|██████████| 6/6 [00:06<00:00,  1.02s/it]\n",
      "Processing page 252: 100%|██████████| 5/5 [00:05<00:00,  1.01s/it]\n"
     ]
    },
    {
     "name": "stdout",
     "output_type": "stream",
     "text": [
      "Can't get connection to https://ivie.vn/cong-dong?page=250! Try again in 3 seconds.\n",
      "Can't get connection to https://ivie.vn/cong-dong?page=253! Try again in 3 seconds.\n"
     ]
    },
    {
     "name": "stderr",
     "output_type": "stream",
     "text": [
      "Processing page 254:   0%|          | 0/4 [00:00<?, ?it/s]"
     ]
    },
    {
     "name": "stdout",
     "output_type": "stream",
     "text": [
      "Can't get connection to https://ivie.vn/cong-dong?page=239! Try again in 3 seconds.\n"
     ]
    },
    {
     "name": "stderr",
     "output_type": "stream",
     "text": [
      "Processing page 254: 100%|██████████| 4/4 [00:04<00:00,  1.04s/it]\n",
      "Processing page 249: 100%|██████████| 4/4 [00:03<00:00,  1.13it/s]\n"
     ]
    },
    {
     "name": "stdout",
     "output_type": "stream",
     "text": [
      "Can't get connection to https://ivie.vn/cong-dong?page=250! Try again in 3 seconds.\n"
     ]
    },
    {
     "name": "stderr",
     "output_type": "stream",
     "text": [
      "Processing page 253:  88%|████████▊ | 7/8 [00:07<00:01,  1.05s/it]\n",
      "Processing page 253: 100%|██████████| 8/8 [00:08<00:00,  1.05s/it]\n",
      "\n",
      "Processing page 239:   0%|          | 0/2 [00:00<?, ?it/s]\n",
      "Processing page 239:  50%|█████     | 1/2 [00:01<00:01,  1.01s/it]\n",
      "Processing page 239: 100%|██████████| 2/2 [00:02<00:00,  1.03s/it]\n",
      "\n",
      "\u001b[A\n",
      "Processing page 256: 100%|██████████| 5/5 [00:05<00:00,  1.06s/it]\n",
      "Processing page 255: 100%|██████████| 6/6 [00:06<00:00,  1.07s/it]"
     ]
    },
    {
     "name": "stdout",
     "output_type": "stream",
     "text": [
      "Can't get connection to https://ivie.vn/cong-dong?page=250! Try again in 3 seconds.\n"
     ]
    },
    {
     "name": "stderr",
     "output_type": "stream",
     "text": [
      "\n",
      "Processing page 257:  33%|███▎      | 2/6 [00:02<00:04,  1.05s/it]"
     ]
    },
    {
     "name": "stdout",
     "output_type": "stream",
     "text": [
      "Can't get connection to https://ivie.vn/cong-dong?page=258! Try again in 3 seconds.\n"
     ]
    },
    {
     "name": "stderr",
     "output_type": "stream",
     "text": [
      "Processing page 257: 100%|██████████| 6/6 [00:06<00:00,  1.08s/it]\n",
      "Processing page 260: : 0it [00:00, ?it/s]\n",
      "Processing page 259: 100%|██████████| 7/7 [00:07<00:00,  1.03s/it]\n",
      "Processing page 250: 100%|██████████| 6/6 [00:06<00:00,  1.04s/it]\n",
      "Processing page 261:  38%|███▊      | 3/8 [00:03<00:05,  1.05s/it]"
     ]
    },
    {
     "name": "stdout",
     "output_type": "stream",
     "text": [
      "Can't get connection to https://ivie.vn/cong-dong?page=262! Try again in 3 seconds.\n"
     ]
    },
    {
     "name": "stderr",
     "output_type": "stream",
     "text": [
      "Processing page 258: 100%|██████████| 6/6 [00:06<00:00,  1.02s/it]\n",
      "Processing page 261: 100%|██████████| 8/8 [00:08<00:00,  1.08s/it]\n",
      "Processing page 263: 100%|██████████| 7/7 [00:08<00:00,  1.27s/it]\n",
      "Processing page 264: 100%|██████████| 8/8 [00:09<00:00,  1.14s/it]\n",
      "Processing page 266: : 0it [00:00, ?it/s] [00:00<?, ?it/s]\n",
      "Processing page 265: 100%|██████████| 7/7 [00:07<00:00,  1.13s/it]\n",
      "Processing page 262: 100%|██████████| 6/6 [00:06<00:00,  1.13s/it]\n",
      "Processing page 267: 100%|██████████| 4/4 [00:04<00:00,  1.11s/it]\n",
      "Processing page 268: 100%|██████████| 5/5 [00:05<00:00,  1.09s/it]\n"
     ]
    },
    {
     "name": "stdout",
     "output_type": "stream",
     "text": [
      "Can't get connection to https://ivie.vn/cong-dong?page=270! Try again in 3 seconds.\n"
     ]
    },
    {
     "name": "stderr",
     "output_type": "stream",
     "text": [
      "Processing page 269: 100%|██████████| 6/6 [00:06<00:00,  1.13s/it]\n",
      "Processing page 271: 100%|██████████| 8/8 [00:07<00:00,  1.10it/s]\n",
      "Processing page 272: 100%|██████████| 5/5 [00:05<00:00,  1.03s/it]\n",
      "Processing page 273:  43%|████▎     | 3/7 [00:02<00:02,  1.46it/s]"
     ]
    },
    {
     "name": "stdout",
     "output_type": "stream",
     "text": [
      "Can't get connection to https://ivie.vn/cong-dong?page=274! Try again in 3 seconds.\n"
     ]
    },
    {
     "name": "stderr",
     "output_type": "stream",
     "text": [
      "Processing page 273: 100%|██████████| 7/7 [00:06<00:00,  1.05it/s]\n"
     ]
    },
    {
     "name": "stdout",
     "output_type": "stream",
     "text": [
      "Can't get connection to https://ivie.vn/cong-dong?page=270! Try again in 3 seconds.\n",
      "Can't get connection to https://ivie.vn/cong-dong?page=275! Try again in 3 seconds.\n"
     ]
    },
    {
     "name": "stderr",
     "output_type": "stream",
     "text": [
      "Processing page 276: 100%|██████████| 7/7 [00:07<00:00,  1.01s/it]\n"
     ]
    },
    {
     "name": "stdout",
     "output_type": "stream",
     "text": [
      "Can't get connection to https://ivie.vn/cong-dong?page=277! Try again in 3 seconds.\n"
     ]
    },
    {
     "name": "stderr",
     "output_type": "stream",
     "text": [
      "Processing page 274:  71%|███████▏  | 5/7 [00:05<00:02,  1.02s/it]"
     ]
    },
    {
     "name": "stdout",
     "output_type": "stream",
     "text": [
      "Can't get connection to https://ivie.vn/cong-dong?page=270! Try again in 3 seconds.\n"
     ]
    },
    {
     "name": "stderr",
     "output_type": "stream",
     "text": [
      "Processing page 274: 100%|██████████| 7/7 [00:07<00:00,  1.02s/it]\n",
      "Processing page 275:  86%|████████▌ | 6/7 [00:06<00:01,  1.10s/it]\n",
      "Processing page 275: 100%|██████████| 7/7 [00:07<00:00,  1.08s/it]\n",
      "\n",
      "\u001b[A\n",
      "Processing page 278: 100%|██████████| 8/8 [00:08<00:00,  1.04s/it]\n",
      "\n",
      "\u001b[A\n",
      "\u001b[A"
     ]
    },
    {
     "name": "stdout",
     "output_type": "stream",
     "text": [
      "Can't get connection to https://ivie.vn/cong-dong?page=279! Try again in 3 seconds.\n"
     ]
    },
    {
     "name": "stderr",
     "output_type": "stream",
     "text": [
      "\n",
      "\u001b[A\n",
      "\u001b[A\n",
      "\u001b[A\n",
      "\u001b[A"
     ]
    },
    {
     "name": "stdout",
     "output_type": "stream",
     "text": [
      "Can't get connection to https://ivie.vn/cong-dong?page=270! Try again in 3 seconds.\n"
     ]
    },
    {
     "name": "stderr",
     "output_type": "stream",
     "text": [
      "\n",
      "Processing page 277: 100%|██████████| 9/9 [00:08<00:00,  1.05it/s]\n",
      "Processing page 280:  50%|█████     | 2/4 [00:01<00:01,  1.18it/s]"
     ]
    },
    {
     "name": "stdout",
     "output_type": "stream",
     "text": [
      "Can't get connection to https://ivie.vn/cong-dong?page=281! Try again in 3 seconds.\n"
     ]
    },
    {
     "name": "stderr",
     "output_type": "stream",
     "text": [
      "Processing page 280: 100%|██████████| 4/4 [00:03<00:00,  1.12it/s]\n",
      "Processing page 282:  62%|██████▎   | 5/8 [00:05<00:03,  1.12s/it]\n",
      "Processing page 282:  75%|███████▌  | 6/8 [00:06<00:02,  1.08s/it]\n",
      "Processing page 279: 100%|██████████| 7/7 [00:07<00:00,  1.09s/it]\n",
      "\n",
      "Processing page 282: 100%|██████████| 8/8 [00:08<00:00,  1.05s/it]\n",
      "\n",
      "\u001b[A\n",
      "\u001b[A\n",
      "Processing page 270: 100%|██████████| 5/5 [00:05<00:00,  1.08s/it]\n",
      "Processing page 283: 100%|██████████| 8/8 [00:08<00:00,  1.05s/it]\n",
      "Processing page 281: 100%|██████████| 8/8 [00:07<00:00,  1.12it/s]\n",
      "Processing page 285: : 0it [00:00, ?it/s] [00:01<00:06,  1.04s/it]\n",
      "Processing page 284:  86%|████████▌ | 6/7 [00:06<00:01,  1.04s/it]"
     ]
    },
    {
     "name": "stdout",
     "output_type": "stream",
     "text": [
      "Can't get connection to https://ivie.vn/cong-dong?page=287! Try again in 3 seconds.\n"
     ]
    },
    {
     "name": "stderr",
     "output_type": "stream",
     "text": [
      "Processing page 284: 100%|██████████| 7/7 [00:07<00:00,  1.05s/it]\n",
      "Processing page 286: 100%|██████████| 7/7 [00:06<00:00,  1.04it/s]\n"
     ]
    },
    {
     "name": "stdout",
     "output_type": "stream",
     "text": [
      "Can't get connection to https://ivie.vn/cong-dong?page=288! Try again in 3 seconds.\n"
     ]
    },
    {
     "name": "stderr",
     "output_type": "stream",
     "text": [
      "Processing page 289: 100%|██████████| 7/7 [00:05<00:00,  1.17it/s]\n"
     ]
    },
    {
     "name": "stdout",
     "output_type": "stream",
     "text": [
      "Can't get connection to https://ivie.vn/cong-dong?page=291! Try again in 3 seconds.\n"
     ]
    },
    {
     "name": "stderr",
     "output_type": "stream",
     "text": [
      "Processing page 290: 100%|██████████| 5/5 [00:04<00:00,  1.12it/s]\n"
     ]
    },
    {
     "name": "stdout",
     "output_type": "stream",
     "text": [
      "Can't get connection to https://ivie.vn/cong-dong?page=287! Try again in 3 seconds.\n",
      "Can't get connection to https://ivie.vn/cong-dong?page=288! Try again in 3 seconds.\n",
      "Can't get connection to https://ivie.vn/cong-dong?page=292! Try again in 3 seconds.\n"
     ]
    },
    {
     "name": "stderr",
     "output_type": "stream",
     "text": [
      "Processing page 293: 100%|██████████| 9/9 [00:09<00:00,  1.01s/it]\n",
      "Processing page 291:  17%|█▋        | 1/6 [00:01<00:05,  1.17s/it]\n",
      "Processing page 291:  33%|███▎      | 2/6 [00:01<00:03,  1.24it/s]\n",
      "Processing page 287: 100%|██████████| 6/6 [00:06<00:00,  1.04s/it]\n",
      "Processing page 291:  50%|█████     | 3/6 [00:02<00:02,  1.01it/s]\n",
      "Processing page 291:  67%|██████▋   | 4/6 [00:03<00:02,  1.01s/it]\n",
      "Processing page 291:  83%|████████▎ | 5/6 [00:04<00:00,  1.00it/s]\n",
      "Processing page 291: 100%|██████████| 6/6 [00:06<00:00,  1.00s/it]\n",
      "\n",
      "\u001b[A\n",
      "Processing page 288: 100%|██████████| 6/6 [00:05<00:00,  1.00it/s]\n",
      "Processing page 292:  80%|████████  | 4/5 [00:04<00:01,  1.02s/it]"
     ]
    },
    {
     "name": "stdout",
     "output_type": "stream",
     "text": [
      "Can't get connection to https://ivie.vn/cong-dong?page=294! Try again in 3 seconds.\n"
     ]
    },
    {
     "name": "stderr",
     "output_type": "stream",
     "text": [
      "Processing page 292: 100%|██████████| 5/5 [00:05<00:00,  1.02s/it]\n"
     ]
    },
    {
     "name": "stdout",
     "output_type": "stream",
     "text": [
      "Can't get connection to https://ivie.vn/cong-dong?page=295! Try again in 3 seconds.\n"
     ]
    },
    {
     "name": "stderr",
     "output_type": "stream",
     "text": [
      "Processing page 296:  71%|███████▏  | 5/7 [00:05<00:02,  1.00s/it]"
     ]
    },
    {
     "name": "stdout",
     "output_type": "stream",
     "text": [
      "Can't get connection to https://ivie.vn/cong-dong?page=298! Try again in 3 seconds.\n"
     ]
    },
    {
     "name": "stderr",
     "output_type": "stream",
     "text": [
      "Processing page 296:  86%|████████▌ | 6/7 [00:06<00:01,  1.02s/it]"
     ]
    },
    {
     "name": "stdout",
     "output_type": "stream",
     "text": [
      "Can't get connection to https://ivie.vn/cong-dong?page=297! Try again in 3 seconds.\n"
     ]
    },
    {
     "name": "stderr",
     "output_type": "stream",
     "text": [
      "Processing page 296: 100%|██████████| 7/7 [00:07<00:00,  1.01s/it]\n",
      "Processing page 294: 100%|██████████| 7/7 [00:07<00:00,  1.04s/it]\n",
      "Processing page 295: 100%|██████████| 7/7 [00:07<00:00,  1.03s/it]\n",
      "Processing page 299: 100%|██████████| 7/7 [00:07<00:00,  1.06s/it]\n",
      "Processing page 298: 100%|██████████| 4/4 [00:04<00:00,  1.04s/it]\n",
      "Processing page 300:   0%|          | 0/6 [00:00<?, ?it/s]"
     ]
    },
    {
     "name": "stdout",
     "output_type": "stream",
     "text": [
      "Can't get connection to https://ivie.vn/cong-dong?page=297! Try again in 3 seconds.\n"
     ]
    },
    {
     "name": "stderr",
     "output_type": "stream",
     "text": [
      "Processing page 300: 100%|██████████| 6/6 [00:06<00:00,  1.02s/it]\n",
      "Processing page 301: 100%|██████████| 6/6 [00:07<00:00,  1.30s/it]\n",
      "Processing page 302: 100%|██████████| 3/3 [00:03<00:00,  1.02s/it]\n"
     ]
    },
    {
     "name": "stdout",
     "output_type": "stream",
     "text": [
      "Can't get connection to https://ivie.vn/cong-dong?page=303! Try again in 3 seconds.\n"
     ]
    },
    {
     "name": "stderr",
     "output_type": "stream",
     "text": [
      "Processing page 304:  50%|█████     | 3/6 [00:02<00:02,  1.03it/s]"
     ]
    },
    {
     "name": "stdout",
     "output_type": "stream",
     "text": [
      "Can't get connection to https://ivie.vn/cong-dong?page=297! Try again in 3 seconds.\n"
     ]
    },
    {
     "name": "stderr",
     "output_type": "stream",
     "text": [
      "Processing page 304: 100%|██████████| 6/6 [00:06<00:00,  1.00s/it]"
     ]
    },
    {
     "name": "stdout",
     "output_type": "stream",
     "text": [
      "Can't get connection to https://ivie.vn/cong-dong?page=305! Try again in 3 seconds.\n"
     ]
    },
    {
     "name": "stderr",
     "output_type": "stream",
     "text": [
      "\n",
      "Processing page 306: : 0it [00:00, ?it/s]\n",
      "Processing page 303: 100%|██████████| 4/4 [00:04<00:00,  1.05s/it]\n"
     ]
    },
    {
     "name": "stdout",
     "output_type": "stream",
     "text": [
      "Can't get connection to https://ivie.vn/cong-dong?page=307! Try again in 3 seconds.\n"
     ]
    },
    {
     "name": "stderr",
     "output_type": "stream",
     "text": [
      "Processing page 308:  20%|██        | 1/5 [00:01<00:04,  1.02s/it]"
     ]
    },
    {
     "name": "stdout",
     "output_type": "stream",
     "text": [
      "Can't get connection to https://ivie.vn/cong-dong?page=297! Try again in 3 seconds.\n"
     ]
    },
    {
     "name": "stderr",
     "output_type": "stream",
     "text": [
      "Processing page 308: 100%|██████████| 5/5 [00:05<00:00,  1.01s/it]\n"
     ]
    },
    {
     "name": "stdout",
     "output_type": "stream",
     "text": [
      "Can't get connection to https://ivie.vn/cong-dong?page=305! Try again in 3 seconds.\n"
     ]
    },
    {
     "name": "stderr",
     "output_type": "stream",
     "text": [
      "Processing page 309: 100%|██████████| 8/8 [00:08<00:00,  1.03s/it]\n",
      "Processing page 310: : 0it [00:00, ?it/s]\n"
     ]
    },
    {
     "name": "stdout",
     "output_type": "stream",
     "text": [
      "Can't get connection to https://ivie.vn/cong-dong?page=297! Try again in 3 seconds.\n",
      "Can't get connection to https://ivie.vn/cong-dong?page=307! Try again in 3 seconds.\n",
      "Can't get connection to https://ivie.vn/cong-dong?page=305! Try again in 3 seconds.\n",
      "Can't get connection to https://ivie.vn/cong-dong?page=311! Try again in 3 seconds.\n",
      "Can't get connection to https://ivie.vn/cong-dong?page=312! Try again in 3 seconds.\n"
     ]
    },
    {
     "name": "stderr",
     "output_type": "stream",
     "text": [
      "Processing page 297:  50%|█████     | 3/6 [00:03<00:03,  1.01s/it]\n",
      "Processing page 297:  67%|██████▋   | 4/6 [00:04<00:02,  1.01s/it]\n",
      "Processing page 297:  83%|████████▎ | 5/6 [00:05<00:01,  1.01s/it]\n",
      "\u001b[A\n",
      "\u001b[A\n",
      "\u001b[A\n",
      "Processing page 305: 100%|██████████| 5/5 [00:05<00:00,  1.01s/it]\n",
      "\n",
      "\u001b[A\n",
      "\n",
      "\u001b[A\u001b[A\n",
      "\n",
      "\u001b[A\u001b[A\n",
      "\n",
      "\u001b[A\u001b[A\n",
      "\n",
      "\u001b[A\u001b[A\n",
      "\u001b[A\n",
      "\n",
      "\u001b[A\u001b[A\n",
      "\u001b[A\n",
      "\n",
      "Processing page 311: 100%|██████████| 5/5 [00:04<00:00,  1.04it/s]\n",
      "\n",
      "\u001b[A\n",
      "\u001b[A\n",
      "\u001b[A\n",
      "\u001b[A\n",
      "\u001b[A\n",
      "Processing page 312: 100%|██████████| 8/8 [00:11<00:00,  1.49s/it]\n",
      "Processing page 297: 100%|██████████| 6/6 [00:26<00:00,  4.35s/it]\n",
      "\n"
     ]
    },
    {
     "name": "stdout",
     "output_type": "stream",
     "text": [
      "Error with this QA!\n",
      "Error with this QA!\n"
     ]
    },
    {
     "name": "stderr",
     "output_type": "stream",
     "text": [
      "Processing page 307: 100%|██████████| 7/7 [00:27<00:00,  3.88s/it]\u001b[A\n"
     ]
    },
    {
     "name": "stdout",
     "output_type": "stream",
     "text": [
      "Can't get connection to https://ivie.vn/cong-dong?page=313! Try again in 3 seconds.\n"
     ]
    },
    {
     "name": "stderr",
     "output_type": "stream",
     "text": [
      "Processing page 315:  40%|████      | 2/5 [00:02<00:03,  1.04s/it]"
     ]
    },
    {
     "name": "stdout",
     "output_type": "stream",
     "text": [
      "Can't get connection to https://ivie.vn/cong-dong?page=314! Try again in 3 seconds.\n"
     ]
    },
    {
     "name": "stderr",
     "output_type": "stream",
     "text": [
      "Processing page 315: 100%|██████████| 5/5 [00:05<00:00,  1.01s/it]\n",
      "Processing page 316: 100%|██████████| 3/3 [00:03<00:00,  1.03s/it]\n",
      "Processing page 317: 100%|██████████| 8/8 [00:08<00:00,  1.05s/it]\n",
      "Processing page 313: 100%|██████████| 7/7 [00:07<00:00,  1.03s/it]\n",
      "Processing page 318: : 0it [00:00, ?it/s]\n"
     ]
    },
    {
     "name": "stdout",
     "output_type": "stream",
     "text": [
      "Can't get connection to https://ivie.vn/cong-dong?page=314! Try again in 3 seconds.\n",
      "Can't get connection to https://ivie.vn/cong-dong?page=319! Try again in 3 seconds.\n"
     ]
    },
    {
     "name": "stderr",
     "output_type": "stream",
     "text": [
      "Processing page 320:  80%|████████  | 4/5 [00:04<00:01,  1.01s/it]"
     ]
    },
    {
     "name": "stdout",
     "output_type": "stream",
     "text": [
      "Can't get connection to https://ivie.vn/cong-dong?page=322! Try again in 3 seconds.\n"
     ]
    },
    {
     "name": "stderr",
     "output_type": "stream",
     "text": [
      "Processing page 320: 100%|██████████| 5/5 [00:05<00:00,  1.02s/it]\n",
      "Processing page 314:   0%|          | 0/5 [00:00<?, ?it/s]"
     ]
    },
    {
     "name": "stdout",
     "output_type": "stream",
     "text": [
      "Can't get connection to https://ivie.vn/cong-dong?page=321! Try again in 3 seconds.\n"
     ]
    },
    {
     "name": "stderr",
     "output_type": "stream",
     "text": [
      "Processing page 314: 100%|██████████| 5/5 [00:05<00:00,  1.01s/it]\n",
      "Processing page 319: 100%|██████████| 5/5 [00:05<00:00,  1.04s/it]\n",
      "Processing page 323:  88%|████████▊ | 7/8 [00:07<00:01,  1.01s/it]"
     ]
    },
    {
     "name": "stdout",
     "output_type": "stream",
     "text": [
      "Can't get connection to https://ivie.vn/cong-dong?page=321! Try again in 3 seconds.\n"
     ]
    },
    {
     "name": "stderr",
     "output_type": "stream",
     "text": [
      "Processing page 323: 100%|██████████| 8/8 [00:08<00:00,  1.00s/it]\n"
     ]
    },
    {
     "name": "stdout",
     "output_type": "stream",
     "text": [
      "Can't get connection to https://ivie.vn/cong-dong?page=325! Try again in 3 seconds.\n"
     ]
    },
    {
     "name": "stderr",
     "output_type": "stream",
     "text": [
      "Processing page 322: 100%|██████████| 8/8 [00:07<00:00,  1.00it/s]\n"
     ]
    },
    {
     "name": "stdout",
     "output_type": "stream",
     "text": [
      "Can't get connection to https://ivie.vn/cong-dong?page=326! Try again in 3 seconds.\n",
      "Can't get connection to https://ivie.vn/cong-dong?page=321! Try again in 3 seconds.\n"
     ]
    },
    {
     "name": "stderr",
     "output_type": "stream",
     "text": [
      "Processing page 324: 100%|██████████| 6/6 [00:06<00:00,  1.07s/it]\n",
      "Processing page 327: 100%|██████████| 6/6 [00:06<00:00,  1.02s/it]\n"
     ]
    },
    {
     "name": "stdout",
     "output_type": "stream",
     "text": [
      "Can't get connection to https://ivie.vn/cong-dong?page=325! Try again in 3 seconds.\n"
     ]
    },
    {
     "name": "stderr",
     "output_type": "stream",
     "text": [
      "Processing page 326:  80%|████████  | 4/5 [00:04<00:01,  1.02s/it]"
     ]
    },
    {
     "name": "stdout",
     "output_type": "stream",
     "text": [
      "Can't get connection to https://ivie.vn/cong-dong?page=329! Try again in 3 seconds.\n"
     ]
    },
    {
     "name": "stderr",
     "output_type": "stream",
     "text": [
      "Processing page 326: 100%|██████████| 5/5 [00:05<00:00,  1.03s/it]\n",
      "Processing page 321: 100%|██████████| 6/6 [00:06<00:00,  1.06s/it]\n"
     ]
    },
    {
     "name": "stdout",
     "output_type": "stream",
     "text": [
      "Can't get connection to https://ivie.vn/cong-dong?page=328! Try again in 3 seconds.\n"
     ]
    },
    {
     "name": "stderr",
     "output_type": "stream",
     "text": [
      "Processing page 325: 100%|██████████| 4/4 [00:04<00:00,  1.06s/it]\n",
      "Processing page 331: : 0it [00:00, ?it/s]\n",
      "Processing page 330: 100%|██████████| 8/8 [00:08<00:00,  1.02s/it]\n",
      "Processing page 328: 100%|██████████| 6/6 [00:06<00:00,  1.00s/it]\n",
      "Processing page 329: 100%|██████████| 5/5 [00:05<00:00,  1.00s/it]\n",
      "Processing page 333:  50%|█████     | 4/8 [00:04<00:04,  1.08s/it]\n",
      "Processing page 333:  62%|██████▎   | 5/8 [00:05<00:03,  1.09s/it]\n",
      "Processing page 333:  75%|███████▌  | 6/8 [00:06<00:02,  1.10s/it]\n",
      "Processing page 334: 100%|██████████| 2/2 [00:02<00:00,  1.01s/it]\n",
      "Processing page 332: 100%|██████████| 5/5 [00:05<00:00,  1.09s/it]\n",
      "Processing page 333: 100%|██████████| 8/8 [00:08<00:00,  1.06s/it]\n",
      "Processing page 335: 100%|██████████| 7/7 [00:07<00:00,  1.02s/it]\n",
      "Processing page 336: 100%|██████████| 7/7 [00:07<00:00,  1.03s/it]\n",
      "Processing page 337:  33%|███▎      | 2/6 [00:02<00:04,  1.03s/it]\n",
      "Processing page 337:  50%|█████     | 3/6 [00:03<00:03,  1.03s/it]\n",
      "Processing page 337:  67%|██████▋   | 4/6 [00:04<00:02,  1.01s/it]\n",
      "Processing page 337:  83%|████████▎ | 5/6 [00:05<00:01,  1.01s/it]\n",
      "Processing page 337: 100%|██████████| 6/6 [00:06<00:00,  1.00s/it]\n",
      "\n",
      "\u001b[A\n",
      "Processing page 338: 100%|██████████| 7/7 [00:07<00:00,  1.00s/it]\n",
      "\n",
      "\u001b[A\n",
      "\u001b[A\n",
      "\u001b[A\n",
      "Processing page 339: 100%|██████████| 9/9 [00:09<00:00,  1.01s/it]\n",
      "Processing page 341: 100%|██████████| 5/5 [00:05<00:00,  1.01s/it]"
     ]
    },
    {
     "name": "stdout",
     "output_type": "stream",
     "text": [
      "Can't get connection to https://ivie.vn/cong-dong?page=340! Try again in 3 seconds.\n"
     ]
    },
    {
     "name": "stderr",
     "output_type": "stream",
     "text": [
      "\n",
      "Processing page 342:  29%|██▊       | 2/7 [00:01<00:04,  1.01it/s]"
     ]
    },
    {
     "name": "stdout",
     "output_type": "stream",
     "text": [
      "Can't get connection to https://ivie.vn/cong-dong?page=343! Try again in 3 seconds.\n"
     ]
    },
    {
     "name": "stderr",
     "output_type": "stream",
     "text": [
      "Processing page 342: 100%|██████████| 7/7 [00:07<00:00,  1.02s/it]\n",
      "Processing page 344: 100%|██████████| 6/6 [00:05<00:00,  1.01it/s]\n"
     ]
    },
    {
     "name": "stdout",
     "output_type": "stream",
     "text": [
      "Can't get connection to https://ivie.vn/cong-dong?page=345! Try again in 3 seconds.\n",
      "Can't get connection to https://ivie.vn/cong-dong?page=343! Try again in 3 seconds.\n"
     ]
    },
    {
     "name": "stderr",
     "output_type": "stream",
     "text": [
      "Processing page 346:  17%|█▋        | 1/6 [00:00<00:04,  1.05it/s]"
     ]
    },
    {
     "name": "stdout",
     "output_type": "stream",
     "text": [
      "Can't get connection to https://ivie.vn/cong-dong?page=340! Try again in 3 seconds.\n"
     ]
    },
    {
     "name": "stderr",
     "output_type": "stream",
     "text": [
      "Processing page 346: 100%|██████████| 6/6 [00:05<00:00,  1.00it/s]\n",
      "Processing page 347: 100%|██████████| 7/7 [00:07<00:00,  1.01s/it]\n",
      "Processing page 345: 100%|██████████| 8/8 [00:07<00:00,  1.02it/s]\n"
     ]
    },
    {
     "name": "stdout",
     "output_type": "stream",
     "text": [
      "Can't get connection to https://ivie.vn/cong-dong?page=343! Try again in 3 seconds.\n"
     ]
    },
    {
     "name": "stderr",
     "output_type": "stream",
     "text": [
      "Processing page 340: 100%|██████████| 7/7 [00:06<00:00,  1.01it/s]\n",
      "Processing page 349:  50%|█████     | 2/4 [00:01<00:01,  1.01it/s]"
     ]
    },
    {
     "name": "stdout",
     "output_type": "stream",
     "text": [
      "Can't get connection to https://ivie.vn/cong-dong?page=348! Try again in 3 seconds.\n"
     ]
    },
    {
     "name": "stderr",
     "output_type": "stream",
     "text": [
      "Processing page 349: 100%|██████████| 4/4 [00:04<00:00,  1.00s/it]\n",
      "Processing page 350: 100%|██████████| 8/8 [00:08<00:00,  1.02s/it]\n",
      "Processing page 351:  29%|██▊       | 2/7 [00:02<00:05,  1.07s/it]\n",
      "Processing page 351:  43%|████▎     | 3/7 [00:03<00:04,  1.04s/it]\n",
      "\u001b[A"
     ]
    },
    {
     "name": "stdout",
     "output_type": "stream",
     "text": [
      "Can't get connection to https://ivie.vn/cong-dong?page=348! Try again in 3 seconds.\n"
     ]
    },
    {
     "name": "stderr",
     "output_type": "stream",
     "text": [
      "Processing page 351:  57%|█████▋    | 4/7 [00:04<00:03,  1.04s/it]\n",
      "Processing page 351:  71%|███████▏  | 5/7 [00:05<00:02,  1.04s/it]\n",
      "Processing page 352: 100%|██████████| 4/4 [00:04<00:00,  1.08s/it]\n",
      "\n",
      "Processing page 351: 100%|██████████| 7/7 [00:07<00:00,  1.06s/it]\n",
      "\n",
      "Processing page 353: 100%|██████████| 7/7 [00:07<00:00,  1.02s/it]\n",
      "Processing page 354:  25%|██▌       | 1/4 [00:01<00:03,  1.01s/it]"
     ]
    },
    {
     "name": "stdout",
     "output_type": "stream",
     "text": [
      "Can't get connection to https://ivie.vn/cong-dong?page=355! Try again in 3 seconds.\n"
     ]
    },
    {
     "name": "stderr",
     "output_type": "stream",
     "text": [
      "Processing page 354: 100%|██████████| 4/4 [00:04<00:00,  1.02s/it]\n",
      "\n",
      "Processing page 343: 100%|██████████| 6/6 [00:26<00:00,  4.37s/it]"
     ]
    },
    {
     "name": "stdout",
     "output_type": "stream",
     "text": [
      "Error with this QA!\n"
     ]
    },
    {
     "name": "stderr",
     "output_type": "stream",
     "text": [
      "\n",
      "Processing page 348: 100%|██████████| 7/7 [00:07<00:00,  1.05s/it]\n"
     ]
    },
    {
     "name": "stdout",
     "output_type": "stream",
     "text": [
      "Can't get connection to https://ivie.vn/cong-dong?page=356! Try again in 3 seconds.\n",
      "Can't get connection to https://ivie.vn/cong-dong?page=357! Try again in 3 seconds.\n",
      "Can't get connection to https://ivie.vn/cong-dong?page=355! Try again in 3 seconds.\n",
      "Can't get connection to https://ivie.vn/cong-dong?page=359! Try again in 3 seconds.\n"
     ]
    },
    {
     "name": "stderr",
     "output_type": "stream",
     "text": [
      "Processing page 358: 100%|██████████| 7/7 [00:07<00:00,  1.04s/it]\n",
      "Processing page 356: 100%|██████████| 6/6 [00:05<00:00,  1.00it/s]\n",
      "Processing page 355:   0%|          | 0/6 [00:00<?, ?it/s]"
     ]
    },
    {
     "name": "stdout",
     "output_type": "stream",
     "text": [
      "Can't get connection to https://ivie.vn/cong-dong?page=359! Try again in 3 seconds.\n"
     ]
    },
    {
     "name": "stderr",
     "output_type": "stream",
     "text": [
      "Processing page 355:  33%|███▎      | 2/6 [00:02<00:04,  1.11s/it]"
     ]
    },
    {
     "name": "stdout",
     "output_type": "stream",
     "text": [
      "Can't get connection to https://ivie.vn/cong-dong?page=360! Try again in 3 seconds.\n"
     ]
    },
    {
     "name": "stderr",
     "output_type": "stream",
     "text": [
      "Processing page 357: 100%|██████████| 7/7 [00:07<00:00,  1.01s/it]\n",
      "Processing page 355:  83%|████████▎ | 5/6 [00:05<00:01,  1.12s/it]"
     ]
    },
    {
     "name": "stdout",
     "output_type": "stream",
     "text": [
      "Can't get connection to https://ivie.vn/cong-dong?page=361! Try again in 3 seconds.\n"
     ]
    },
    {
     "name": "stderr",
     "output_type": "stream",
     "text": [
      "\n",
      "\u001b[A\n",
      "\n",
      "\u001b[A\u001b[A\n",
      "\u001b[A\n",
      "\n",
      "\u001b[A\u001b[A\n",
      "\u001b[A\n",
      "\n",
      "\u001b[A\u001b[A\n",
      "\u001b[A\n",
      "\n",
      "Processing page 355: 100%|██████████| 6/6 [00:26<00:00,  4.44s/it]\n",
      "\n",
      "\n"
     ]
    },
    {
     "name": "stdout",
     "output_type": "stream",
     "text": [
      "Error with this QA!\n"
     ]
    },
    {
     "name": "stderr",
     "output_type": "stream",
     "text": [
      "Processing page 359:  80%|████████  | 4/5 [00:04<00:00,  1.01it/s]\u001b[A\u001b[A\n",
      "\n",
      "Processing page 362: 100%|██████████| 7/7 [00:06<00:00,  1.08it/s]\n",
      "\n",
      "Processing page 359: 100%|██████████| 5/5 [00:05<00:00,  1.01s/it]\n",
      "\n",
      "\n",
      "\u001b[A\u001b[A\n",
      "\n",
      "Processing page 360: 100%|██████████| 6/6 [00:06<00:00,  1.03s/it]\n"
     ]
    },
    {
     "name": "stdout",
     "output_type": "stream",
     "text": [
      "Can't get connection to https://ivie.vn/cong-dong?page=361! Try again in 3 seconds.\n",
      "Can't get connection to https://ivie.vn/cong-dong?page=363! Try again in 3 seconds.\n"
     ]
    },
    {
     "name": "stderr",
     "output_type": "stream",
     "text": [
      "Processing page 364:   0%|          | 0/7 [00:00<?, ?it/s]"
     ]
    },
    {
     "name": "stdout",
     "output_type": "stream",
     "text": [
      "Can't get connection to https://ivie.vn/cong-dong?page=365! Try again in 3 seconds.\n"
     ]
    },
    {
     "name": "stderr",
     "output_type": "stream",
     "text": [
      "Processing page 364:  43%|████▎     | 3/7 [00:03<00:04,  1.01s/it]"
     ]
    },
    {
     "name": "stdout",
     "output_type": "stream",
     "text": [
      "Can't get connection to https://ivie.vn/cong-dong?page=366! Try again in 3 seconds.\n"
     ]
    },
    {
     "name": "stderr",
     "output_type": "stream",
     "text": [
      "Processing page 364: 100%|██████████| 7/7 [00:07<00:00,  1.02s/it]\n",
      "Processing page 361: 100%|██████████| 7/7 [00:06<00:00,  1.01it/s]\n"
     ]
    },
    {
     "name": "stdout",
     "output_type": "stream",
     "text": [
      "Can't get connection to https://ivie.vn/cong-dong?page=363! Try again in 3 seconds.\n"
     ]
    },
    {
     "name": "stderr",
     "output_type": "stream",
     "text": [
      "Processing page 367:   0%|          | 0/2 [00:00<?, ?it/s]"
     ]
    },
    {
     "name": "stdout",
     "output_type": "stream",
     "text": [
      "Can't get connection to https://ivie.vn/cong-dong?page=366! Try again in 3 seconds.\n"
     ]
    },
    {
     "name": "stderr",
     "output_type": "stream",
     "text": [
      "Processing page 367: 100%|██████████| 2/2 [00:02<00:00,  1.11s/it]\n"
     ]
    },
    {
     "name": "stdout",
     "output_type": "stream",
     "text": [
      "Can't get connection to https://ivie.vn/cong-dong?page=365! Try again in 3 seconds.\n",
      "Can't get connection to https://ivie.vn/cong-dong?page=368! Try again in 3 seconds.\n"
     ]
    },
    {
     "name": "stderr",
     "output_type": "stream",
     "text": [
      "Processing page 369: 100%|██████████| 4/4 [00:03<00:00,  1.10it/s]\n",
      "Processing page 363: 100%|██████████| 5/5 [00:05<00:00,  1.00s/it]\n"
     ]
    },
    {
     "name": "stdout",
     "output_type": "stream",
     "text": [
      "Can't get connection to https://ivie.vn/cong-dong?page=365! Try again in 3 seconds.\n",
      "Can't get connection to https://ivie.vn/cong-dong?page=366! Try again in 3 seconds.\n"
     ]
    },
    {
     "name": "stderr",
     "output_type": "stream",
     "text": [
      "Processing page 370:  43%|████▎     | 3/7 [00:03<00:04,  1.01s/it]"
     ]
    },
    {
     "name": "stdout",
     "output_type": "stream",
     "text": [
      "Can't get connection to https://ivie.vn/cong-dong?page=368! Try again in 3 seconds.\n"
     ]
    },
    {
     "name": "stderr",
     "output_type": "stream",
     "text": [
      "Processing page 370:  86%|████████▌ | 6/7 [00:05<00:00,  1.01it/s]\n",
      "Processing page 370: 100%|██████████| 7/7 [00:06<00:00,  1.00it/s]\n",
      "\n",
      "\u001b[A\n",
      "\u001b[A\n",
      "\u001b[A\n",
      "Processing page 365: 100%|██████████| 6/6 [00:05<00:00,  1.05it/s]\n",
      "\n",
      "\u001b[A\n",
      "\u001b[A\n",
      "Processing page 371: 100%|██████████| 7/7 [00:07<00:00,  1.05s/it]\n",
      "Processing page 366:  71%|███████▏  | 5/7 [00:05<00:02,  1.01s/it]"
     ]
    },
    {
     "name": "stdout",
     "output_type": "stream",
     "text": [
      "Can't get connection to https://ivie.vn/cong-dong?page=372! Try again in 3 seconds.\n"
     ]
    },
    {
     "name": "stderr",
     "output_type": "stream",
     "text": [
      "Processing page 366: 100%|██████████| 7/7 [00:07<00:00,  1.01s/it]\n",
      "Processing page 373:  50%|█████     | 2/4 [00:02<00:02,  1.01s/it]"
     ]
    },
    {
     "name": "stdout",
     "output_type": "stream",
     "text": [
      "Can't get connection to https://ivie.vn/cong-dong?page=374! Try again in 3 seconds.\n",
      "Can't get connection to https://ivie.vn/cong-dong?page=368! Try again in 3 seconds.\n"
     ]
    },
    {
     "name": "stderr",
     "output_type": "stream",
     "text": [
      "Processing page 373: 100%|██████████| 4/4 [00:04<00:00,  1.02s/it]\n"
     ]
    },
    {
     "name": "stdout",
     "output_type": "stream",
     "text": [
      "Can't get connection to https://ivie.vn/cong-dong?page=375! Try again in 3 seconds.\n"
     ]
    },
    {
     "name": "stderr",
     "output_type": "stream",
     "text": [
      "Processing page 372:  83%|████████▎ | 5/6 [00:04<00:00,  1.11it/s]"
     ]
    },
    {
     "name": "stdout",
     "output_type": "stream",
     "text": [
      "Can't get connection to https://ivie.vn/cong-dong?page=368! Try again in 3 seconds.\n"
     ]
    },
    {
     "name": "stderr",
     "output_type": "stream",
     "text": [
      "Processing page 372: 100%|██████████| 6/6 [00:05<00:00,  1.01it/s]\n",
      "Processing page 374:  33%|███▎      | 3/9 [00:03<00:06,  1.02s/it]"
     ]
    },
    {
     "name": "stdout",
     "output_type": "stream",
     "text": [
      "Can't get connection to https://ivie.vn/cong-dong?page=376! Try again in 3 seconds.\n"
     ]
    },
    {
     "name": "stderr",
     "output_type": "stream",
     "text": [
      "Processing page 374: 100%|██████████| 9/9 [00:09<00:00,  1.02s/it]\n"
     ]
    },
    {
     "name": "stdout",
     "output_type": "stream",
     "text": [
      "Can't get connection to https://ivie.vn/cong-dong?page=377! Try again in 3 seconds.\n"
     ]
    },
    {
     "name": "stderr",
     "output_type": "stream",
     "text": [
      "Processing page 375: 100%|██████████| 9/9 [00:09<00:00,  1.03s/it]\n",
      "Processing page 368:  50%|█████     | 2/4 [00:02<00:02,  1.03s/it]"
     ]
    },
    {
     "name": "stdout",
     "output_type": "stream",
     "text": [
      "Can't get connection to https://ivie.vn/cong-dong?page=376! Try again in 3 seconds.\n"
     ]
    },
    {
     "name": "stderr",
     "output_type": "stream",
     "text": [
      "Processing page 368: 100%|██████████| 4/4 [00:04<00:00,  1.04s/it]\n",
      "Processing page 378:  50%|█████     | 3/6 [00:03<00:02,  1.00it/s]"
     ]
    },
    {
     "name": "stdout",
     "output_type": "stream",
     "text": [
      "Can't get connection to https://ivie.vn/cong-dong?page=377! Try again in 3 seconds.\n",
      "Can't get connection to https://ivie.vn/cong-dong?page=379! Try again in 3 seconds.\n"
     ]
    },
    {
     "name": "stderr",
     "output_type": "stream",
     "text": [
      "Processing page 378: 100%|██████████| 6/6 [00:06<00:00,  1.03s/it]\n",
      "Processing page 376: 100%|██████████| 4/4 [00:04<00:00,  1.09s/it]\n"
     ]
    },
    {
     "name": "stdout",
     "output_type": "stream",
     "text": [
      "Can't get connection to https://ivie.vn/cong-dong?page=381! Try again in 3 seconds.\n"
     ]
    },
    {
     "name": "stderr",
     "output_type": "stream",
     "text": [
      "Processing page 380: 100%|██████████| 8/8 [00:08<00:00,  1.01s/it]\n",
      "Processing page 377:  75%|███████▌  | 6/8 [00:06<00:02,  1.01s/it]"
     ]
    },
    {
     "name": "stdout",
     "output_type": "stream",
     "text": [
      "Can't get connection to https://ivie.vn/cong-dong?page=382! Try again in 3 seconds.\n"
     ]
    },
    {
     "name": "stderr",
     "output_type": "stream",
     "text": [
      "Processing page 379: 100%|██████████| 7/7 [00:09<00:00,  1.30s/it]\n",
      "Processing page 377: 100%|██████████| 8/8 [00:10<00:00,  1.27s/it]\n"
     ]
    },
    {
     "name": "stdout",
     "output_type": "stream",
     "text": [
      "Can't get connection to https://ivie.vn/cong-dong?page=383! Try again in 3 seconds.\n"
     ]
    },
    {
     "name": "stderr",
     "output_type": "stream",
     "text": [
      "Processing page 384:  17%|█▋        | 1/6 [00:01<00:05,  1.02s/it]"
     ]
    },
    {
     "name": "stdout",
     "output_type": "stream",
     "text": [
      "Can't get connection to https://ivie.vn/cong-dong?page=382! Try again in 3 seconds.\n"
     ]
    },
    {
     "name": "stderr",
     "output_type": "stream",
     "text": [
      "Processing page 384: 100%|██████████| 6/6 [00:06<00:00,  1.01s/it]\n",
      "Processing page 385: 100%|██████████| 8/8 [00:08<00:00,  1.01s/it]"
     ]
    },
    {
     "name": "stdout",
     "output_type": "stream",
     "text": [
      "Can't get connection to https://ivie.vn/cong-dong?page=381! Try again in 3 seconds.\n"
     ]
    },
    {
     "name": "stderr",
     "output_type": "stream",
     "text": [
      "\n",
      "Processing page 383: 100%|██████████| 7/7 [00:07<00:00,  1.05s/it]\n",
      "Processing page 382:  40%|████      | 2/5 [00:02<00:03,  1.09s/it]"
     ]
    },
    {
     "name": "stdout",
     "output_type": "stream",
     "text": [
      "Can't get connection to https://ivie.vn/cong-dong?page=387! Try again in 3 seconds.\n"
     ]
    },
    {
     "name": "stderr",
     "output_type": "stream",
     "text": [
      "Processing page 382:  80%|████████  | 4/5 [00:04<00:01,  1.07s/it]"
     ]
    },
    {
     "name": "stdout",
     "output_type": "stream",
     "text": [
      "Can't get connection to https://ivie.vn/cong-dong?page=381! Try again in 3 seconds.\n"
     ]
    },
    {
     "name": "stderr",
     "output_type": "stream",
     "text": [
      "\n",
      "\u001b[A\n",
      "\u001b[A\n",
      "\u001b[A\n",
      "\u001b[A\n",
      "\u001b[A\n",
      "\u001b[A\n",
      "\u001b[A\n",
      "\u001b[A\n",
      "\u001b[A\n",
      "Processing page 388: 100%|██████████| 9/9 [00:09<00:00,  1.10s/it]\n",
      "\n",
      "\u001b[A\n",
      "\u001b[A\n",
      "\u001b[A\n",
      "\u001b[A\n",
      "Processing page 382: 100%|██████████| 5/5 [00:25<00:00,  5.07s/it]\n"
     ]
    },
    {
     "name": "stdout",
     "output_type": "stream",
     "text": [
      "Error with this QA!\n",
      "Error with this QA!\n"
     ]
    },
    {
     "name": "stderr",
     "output_type": "stream",
     "text": [
      "\n",
      "\u001b[A\n",
      "Processing page 386: 100%|██████████| 7/7 [00:27<00:00,  3.92s/it]\n",
      "Processing page 381:   0%|          | 0/7 [00:00<?, ?it/s]\n",
      "Processing page 387: 100%|██████████| 7/7 [00:07<00:00,  1.01s/it]\n",
      "Processing page 381: 100%|██████████| 7/7 [00:07<00:00,  1.02s/it]\n",
      "Processing page 389: 100%|██████████| 6/6 [00:05<00:00,  1.01it/s]\n"
     ]
    },
    {
     "name": "stdout",
     "output_type": "stream",
     "text": [
      "Can't get connection to https://ivie.vn/cong-dong?page=390! Try again in 3 seconds.\n"
     ]
    },
    {
     "name": "stderr",
     "output_type": "stream",
     "text": [
      "Processing page 391:   0%|          | 0/7 [00:00<?, ?it/s]"
     ]
    },
    {
     "name": "stdout",
     "output_type": "stream",
     "text": [
      "Can't get connection to https://ivie.vn/cong-dong?page=392! Try again in 3 seconds.\n"
     ]
    },
    {
     "name": "stderr",
     "output_type": "stream",
     "text": [
      "Processing page 391: 100%|██████████| 7/7 [00:07<00:00,  1.09s/it]\n",
      "\n"
     ]
    },
    {
     "name": "stdout",
     "output_type": "stream",
     "text": [
      "Can't get connection to https://ivie.vn/cong-dong?page=394! Try again in 3 seconds.\n"
     ]
    },
    {
     "name": "stderr",
     "output_type": "stream",
     "text": [
      "Processing page 393: 100%|██████████| 5/5 [00:05<00:00,  1.00s/it]\u001b[A\n"
     ]
    },
    {
     "name": "stdout",
     "output_type": "stream",
     "text": [
      "Can't get connection to https://ivie.vn/cong-dong?page=390! Try again in 3 seconds.\n"
     ]
    },
    {
     "name": "stderr",
     "output_type": "stream",
     "text": [
      "Processing page 392: 100%|██████████| 5/5 [00:07<00:00,  1.49s/it]\n",
      "Processing page 396: : 0it [00:00, ?it/s]\n",
      "Processing page 395: 100%|██████████| 7/7 [00:07<00:00,  1.04s/it]\n"
     ]
    },
    {
     "name": "stdout",
     "output_type": "stream",
     "text": [
      "Can't get connection to https://ivie.vn/cong-dong?page=394! Try again in 3 seconds.\n"
     ]
    },
    {
     "name": "stderr",
     "output_type": "stream",
     "text": [
      "Processing page 390:  83%|████████▎ | 5/6 [00:05<00:01,  1.03s/it]"
     ]
    },
    {
     "name": "stdout",
     "output_type": "stream",
     "text": [
      "Can't get connection to https://ivie.vn/cong-dong?page=398! Try again in 3 seconds.\n"
     ]
    },
    {
     "name": "stderr",
     "output_type": "stream",
     "text": [
      "\n",
      "Processing page 390: 100%|██████████| 6/6 [00:06<00:00,  1.05s/it]\n",
      "\n",
      "\u001b[A\n",
      "\u001b[A\n",
      "\u001b[A\n",
      "Processing page 397: 100%|██████████| 6/6 [00:06<00:00,  1.01s/it]\n",
      "\n",
      "\u001b[A\n",
      "\u001b[A\n",
      "\u001b[A\n",
      "Processing page 399: 100%|██████████| 8/8 [00:07<00:00,  1.01it/s]\n"
     ]
    },
    {
     "name": "stdout",
     "output_type": "stream",
     "text": [
      "Can't get connection to https://ivie.vn/cong-dong?page=394! Try again in 3 seconds.\n",
      "Can't get connection to https://ivie.vn/cong-dong?page=400! Try again in 3 seconds.\n"
     ]
    },
    {
     "name": "stderr",
     "output_type": "stream",
     "text": [
      "Processing page 398:   0%|          | 0/7 [00:00<?, ?it/s]"
     ]
    },
    {
     "name": "stdout",
     "output_type": "stream",
     "text": [
      "Can't get connection to https://ivie.vn/cong-dong?page=401! Try again in 3 seconds.\n"
     ]
    },
    {
     "name": "stderr",
     "output_type": "stream",
     "text": [
      "Processing page 398:  43%|████▎     | 3/7 [00:03<00:04,  1.04s/it]"
     ]
    },
    {
     "name": "stdout",
     "output_type": "stream",
     "text": [
      "Can't get connection to https://ivie.vn/cong-dong?page=402! Try again in 3 seconds.\n"
     ]
    },
    {
     "name": "stderr",
     "output_type": "stream",
     "text": [
      "Processing page 398: 100%|██████████| 7/7 [00:07<00:00,  1.05s/it]\n"
     ]
    },
    {
     "name": "stdout",
     "output_type": "stream",
     "text": [
      "Can't get connection to https://ivie.vn/cong-dong?page=394! Try again in 3 seconds.\n",
      "Can't get connection to https://ivie.vn/cong-dong?page=400! Try again in 3 seconds.\n",
      "Can't get connection to https://ivie.vn/cong-dong?page=401! Try again in 3 seconds.\n"
     ]
    },
    {
     "name": "stderr",
     "output_type": "stream",
     "text": [
      "Processing page 402: : 0it [00:00, ?it/s]\n"
     ]
    },
    {
     "name": "stdout",
     "output_type": "stream",
     "text": [
      "Can't get connection to https://ivie.vn/cong-dong?page=403! Try again in 3 seconds.\n"
     ]
    },
    {
     "name": "stderr",
     "output_type": "stream",
     "text": [
      "Processing page 394: 100%|██████████| 6/6 [00:06<00:00,  1.03s/it]\n",
      "Processing page 400: 100%|██████████| 6/6 [00:06<00:00,  1.02s/it]\n",
      "Processing page 401: 100%|██████████| 5/5 [00:05<00:00,  1.02s/it]\n",
      "Processing page 404: 100%|██████████| 7/7 [00:06<00:00,  1.01it/s]\n",
      "Processing page 403:  71%|███████▏  | 5/7 [00:05<00:02,  1.09s/it]"
     ]
    },
    {
     "name": "stdout",
     "output_type": "stream",
     "text": [
      "Can't get connection to https://ivie.vn/cong-dong?page=405! Try again in 3 seconds.\n"
     ]
    },
    {
     "name": "stderr",
     "output_type": "stream",
     "text": [
      "Processing page 403: 100%|██████████| 7/7 [00:07<00:00,  1.05s/it]\n"
     ]
    },
    {
     "name": "stdout",
     "output_type": "stream",
     "text": [
      "Can't get connection to https://ivie.vn/cong-dong?page=406! Try again in 3 seconds.\n"
     ]
    },
    {
     "name": "stderr",
     "output_type": "stream",
     "text": [
      "Processing page 407:  71%|███████▏  | 5/7 [00:05<00:02,  1.09s/it]\n",
      "Processing page 407:  86%|████████▌ | 6/7 [00:06<00:01,  1.08s/it]\n",
      "Processing page 407: 100%|██████████| 7/7 [00:07<00:00,  1.08s/it]\n",
      "\n",
      "\u001b[A\n",
      "\u001b[A\n",
      "Processing page 409: 100%|██████████| 4/4 [00:04<00:00,  1.02s/it]\n",
      "Processing page 408: 100%|██████████| 9/9 [00:09<00:00,  1.08s/it]\n",
      "Processing page 405:  71%|███████▏  | 5/7 [00:05<00:01,  1.00it/s]"
     ]
    },
    {
     "name": "stdout",
     "output_type": "stream",
     "text": [
      "Can't get connection to https://ivie.vn/cong-dong?page=406! Try again in 3 seconds.\n"
     ]
    },
    {
     "name": "stderr",
     "output_type": "stream",
     "text": [
      "Processing page 405: 100%|██████████| 7/7 [00:07<00:00,  1.00s/it]\n",
      "Processing page 410: 100%|██████████| 1/1 [00:00<00:00,  1.01it/s]\n",
      "Processing page 411: 100%|██████████| 4/4 [00:06<00:00,  1.75s/it]\n"
     ]
    },
    {
     "name": "stdout",
     "output_type": "stream",
     "text": [
      "Can't get connection to https://ivie.vn/cong-dong?page=412! Try again in 3 seconds.\n"
     ]
    },
    {
     "name": "stderr",
     "output_type": "stream",
     "text": [
      "Processing page 414: : 0it [00:00, ?it/s] [00:04<00:03,  1.00s/it]\n",
      "Processing page 413: 100%|██████████| 7/7 [00:07<00:00,  1.01s/it]\n",
      "Processing page 406: 100%|██████████| 8/8 [00:07<00:00,  1.12it/s]\n"
     ]
    },
    {
     "name": "stdout",
     "output_type": "stream",
     "text": [
      "Can't get connection to https://ivie.vn/cong-dong?page=416! Try again in 3 seconds.\n",
      "Can't get connection to https://ivie.vn/cong-dong?page=415! Try again in 3 seconds.\n"
     ]
    },
    {
     "name": "stderr",
     "output_type": "stream",
     "text": [
      "Processing page 412: 100%|██████████| 7/7 [00:06<00:00,  1.02it/s]\n"
     ]
    },
    {
     "name": "stdout",
     "output_type": "stream",
     "text": [
      "Can't get connection to https://ivie.vn/cong-dong?page=417! Try again in 3 seconds.\n"
     ]
    },
    {
     "name": "stderr",
     "output_type": "stream",
     "text": [
      "Processing page 418: 100%|██████████| 3/3 [00:03<00:00,  1.02s/it]\n",
      "Processing page 415: 100%|██████████| 7/7 [00:11<00:00,  1.64s/it]\n",
      "Processing page 416: 100%|██████████| 6/6 [00:05<00:00,  1.00it/s]\n"
     ]
    },
    {
     "name": "stdout",
     "output_type": "stream",
     "text": [
      "Can't get connection to https://ivie.vn/cong-dong?page=419! Try again in 3 seconds.\n"
     ]
    },
    {
     "name": "stderr",
     "output_type": "stream",
     "text": [
      "Processing page 417: 100%|██████████| 5/5 [00:05<00:00,  1.04s/it]\n",
      "Processing page 420: 100%|██████████| 6/6 [00:06<00:00,  1.10s/it]\n",
      "Processing page 421: : 0it [00:00, ?it/s]\n",
      "Processing page 422: 100%|██████████| 5/5 [00:05<00:00,  1.01s/it]\n"
     ]
    },
    {
     "name": "stdout",
     "output_type": "stream",
     "text": [
      "Can't get connection to https://ivie.vn/cong-dong?page=423! Try again in 3 seconds.\n",
      "Can't get connection to https://ivie.vn/cong-dong?page=419! Try again in 3 seconds.\n"
     ]
    },
    {
     "name": "stderr",
     "output_type": "stream",
     "text": [
      "Processing page 425: 100%|██████████| 3/3 [00:03<00:00,  1.15s/it]\n",
      "Processing page 424: 100%|██████████| 7/7 [00:07<00:00,  1.04s/it]\n",
      "Processing page 419:   0%|          | 0/7 [00:00<?, ?it/s]"
     ]
    },
    {
     "name": "stdout",
     "output_type": "stream",
     "text": [
      "Can't get connection to https://ivie.vn/cong-dong?page=423! Try again in 3 seconds.\n"
     ]
    },
    {
     "name": "stderr",
     "output_type": "stream",
     "text": [
      "Processing page 419:  43%|████▎     | 3/7 [00:03<00:04,  1.03s/it]"
     ]
    },
    {
     "name": "stdout",
     "output_type": "stream",
     "text": [
      "Can't get connection to https://ivie.vn/cong-dong?page=426! Try again in 3 seconds.\n"
     ]
    },
    {
     "name": "stderr",
     "output_type": "stream",
     "text": [
      "Processing page 419: 100%|██████████| 7/7 [00:07<00:00,  1.01s/it]\n",
      "Processing page 428:  38%|███▊      | 3/8 [00:03<00:05,  1.03s/it]"
     ]
    },
    {
     "name": "stdout",
     "output_type": "stream",
     "text": [
      "Can't get connection to https://ivie.vn/cong-dong?page=427! Try again in 3 seconds.\n"
     ]
    },
    {
     "name": "stderr",
     "output_type": "stream",
     "text": [
      "Processing page 428: 100%|██████████| 8/8 [00:08<00:00,  1.01s/it]\n",
      "Processing page 426: 100%|██████████| 3/3 [00:03<00:00,  1.02s/it]\n",
      "Processing page 429:  60%|██████    | 3/5 [00:03<00:02,  1.08s/it]"
     ]
    },
    {
     "name": "stdout",
     "output_type": "stream",
     "text": [
      "Can't get connection to https://ivie.vn/cong-dong?page=423! Try again in 3 seconds.\n"
     ]
    },
    {
     "name": "stderr",
     "output_type": "stream",
     "text": [
      "Processing page 429: 100%|██████████| 5/5 [00:05<00:00,  1.06s/it]\n",
      "Processing page 430: 100%|██████████| 7/7 [00:06<00:00,  1.16it/s]\n",
      "Processing page 431:   0%|          | 0/6 [00:00<?, ?it/s]\n",
      "Processing page 431:  17%|█▋        | 1/6 [00:01<00:05,  1.09s/it]\n",
      "\n",
      "Processing page 431:  50%|█████     | 3/6 [00:02<00:02,  1.14it/s]\n",
      "\n",
      "Processing page 427: 100%|██████████| 7/7 [00:07<00:00,  1.03s/it]\n",
      "Processing page 431:  67%|██████▋   | 4/6 [00:03<00:01,  1.04it/s]\n",
      "\n",
      "\u001b[A\u001b[A\n",
      "\n",
      "Processing page 431:  83%|████████▎ | 5/6 [00:04<00:01,  1.02s/it]\n",
      "\n",
      "Processing page 431: 100%|██████████| 6/6 [00:05<00:00,  1.00it/s]\n",
      "\n",
      "\u001b[A\n",
      "\n",
      "\u001b[A\u001b[A\n",
      "\u001b[A\n",
      "\n",
      "Processing page 432: 100%|██████████| 6/6 [00:05<00:00,  1.01it/s]\n",
      "\n",
      "\u001b[A\n",
      "\u001b[A\n",
      "Processing page 423: 100%|██████████| 5/5 [00:09<00:00,  1.92s/it]\n"
     ]
    },
    {
     "name": "stdout",
     "output_type": "stream",
     "text": [
      "Can't get connection to https://ivie.vn/cong-dong?page=433! Try again in 3 seconds.\n"
     ]
    },
    {
     "name": "stderr",
     "output_type": "stream",
     "text": [
      "Processing page 434: : 0it [00:00, ?it/s]\n"
     ]
    },
    {
     "name": "stdout",
     "output_type": "stream",
     "text": [
      "Can't get connection to https://ivie.vn/cong-dong?page=435! Try again in 3 seconds.\n",
      "Can't get connection to https://ivie.vn/cong-dong?page=436! Try again in 3 seconds.\n"
     ]
    },
    {
     "name": "stderr",
     "output_type": "stream",
     "text": [
      "Processing page 437: 100%|██████████| 5/5 [00:04<00:00,  1.06it/s]\n",
      "Processing page 433:  20%|██        | 1/5 [00:01<00:04,  1.05s/it]"
     ]
    },
    {
     "name": "stdout",
     "output_type": "stream",
     "text": [
      "Can't get connection to https://ivie.vn/cong-dong?page=438! Try again in 3 seconds.\n"
     ]
    },
    {
     "name": "stderr",
     "output_type": "stream",
     "text": [
      "Processing page 433: 100%|██████████| 5/5 [00:04<00:00,  1.10it/s]\n"
     ]
    },
    {
     "name": "stdout",
     "output_type": "stream",
     "text": [
      "Can't get connection to https://ivie.vn/cong-dong?page=435! Try again in 3 seconds.\n"
     ]
    },
    {
     "name": "stderr",
     "output_type": "stream",
     "text": [
      "Processing page 439: 100%|██████████| 4/4 [00:03<00:00,  1.00it/s]\n",
      "Processing page 436: 100%|██████████| 7/7 [00:07<00:00,  1.00s/it]\n",
      "Processing page 440: 100%|██████████| 2/2 [00:02<00:00,  1.13s/it]\n"
     ]
    },
    {
     "name": "stdout",
     "output_type": "stream",
     "text": [
      "Can't get connection to https://ivie.vn/cong-dong?page=438! Try again in 3 seconds.\n"
     ]
    },
    {
     "name": "stderr",
     "output_type": "stream",
     "text": [
      "Processing page 435:  80%|████████  | 4/5 [00:03<00:00,  1.14it/s]"
     ]
    },
    {
     "name": "stdout",
     "output_type": "stream",
     "text": [
      "Can't get connection to https://ivie.vn/cong-dong?page=441! Try again in 3 seconds.\n"
     ]
    },
    {
     "name": "stderr",
     "output_type": "stream",
     "text": [
      "Processing page 435: 100%|██████████| 5/5 [00:04<00:00,  1.08it/s]\n"
     ]
    },
    {
     "name": "stdout",
     "output_type": "stream",
     "text": [
      "Can't get connection to https://ivie.vn/cong-dong?page=442! Try again in 3 seconds.\n"
     ]
    },
    {
     "name": "stderr",
     "output_type": "stream",
     "text": [
      "Processing page 443: 100%|██████████| 4/4 [00:04<00:00,  1.02s/it]\n"
     ]
    },
    {
     "name": "stdout",
     "output_type": "stream",
     "text": [
      "Can't get connection to https://ivie.vn/cong-dong?page=438! Try again in 3 seconds.\n"
     ]
    },
    {
     "name": "stderr",
     "output_type": "stream",
     "text": [
      "Processing page 444: 100%|██████████| 6/6 [00:06<00:00,  1.02s/it]\n",
      "Processing page 442:  25%|██▌       | 1/4 [00:00<00:02,  1.05it/s]\n",
      "Processing page 445: : 0it [00:00, ?it/s]\n",
      "Processing page 441: 100%|██████████| 5/5 [00:05<00:00,  1.00s/it]\n",
      "Processing page 442: 100%|██████████| 4/4 [00:03<00:00,  1.01it/s]\n"
     ]
    },
    {
     "name": "stdout",
     "output_type": "stream",
     "text": [
      "Can't get connection to https://ivie.vn/cong-dong?page=438! Try again in 3 seconds.\n"
     ]
    },
    {
     "name": "stderr",
     "output_type": "stream",
     "text": [
      "Processing page 446:  50%|█████     | 5/10 [00:05<00:05,  1.01s/it]"
     ]
    },
    {
     "name": "stdout",
     "output_type": "stream",
     "text": [
      "Can't get connection to https://ivie.vn/cong-dong?page=448! Try again in 3 seconds.\n"
     ]
    },
    {
     "name": "stderr",
     "output_type": "stream",
     "text": [
      "Processing page 446:  70%|███████   | 7/10 [00:06<00:02,  1.01it/s]"
     ]
    },
    {
     "name": "stdout",
     "output_type": "stream",
     "text": [
      "Can't get connection to https://ivie.vn/cong-dong?page=449! Try again in 3 seconds.\n"
     ]
    },
    {
     "name": "stderr",
     "output_type": "stream",
     "text": [
      "Processing page 446: 100%|██████████| 10/10 [00:10<00:00,  1.00s/it]\n",
      "Processing page 447: 100%|██████████| 8/8 [00:09<00:00,  1.16s/it]\n",
      "Processing page 438: 100%|██████████| 8/8 [00:08<00:00,  1.02s/it]\n",
      "Processing page 448:  40%|████      | 2/5 [00:02<00:03,  1.06s/it]\n",
      "Processing page 448:  60%|██████    | 3/5 [00:03<00:02,  1.05s/it]\n",
      "Processing page 448:  80%|████████  | 4/5 [00:04<00:01,  1.06s/it]\n",
      "Processing page 448: 100%|██████████| 5/5 [00:05<00:00,  1.05s/it]\n",
      "\n",
      "\u001b[A\n",
      "Processing page 450:   0%|          | 0/8 [00:00<?, ?it/s]\n",
      "Processing page 451: 100%|██████████| 5/5 [00:05<00:00,  1.03s/it]\n",
      "Processing page 449: 100%|██████████| 9/9 [00:09<00:00,  1.07s/it]\n",
      "Processing page 450:  62%|██████▎   | 5/8 [00:05<00:03,  1.02s/it]"
     ]
    },
    {
     "name": "stdout",
     "output_type": "stream",
     "text": [
      "Can't get connection to https://ivie.vn/cong-dong?page=452! Try again in 3 seconds.\n"
     ]
    },
    {
     "name": "stderr",
     "output_type": "stream",
     "text": [
      "Processing page 450: 100%|██████████| 8/8 [00:08<00:00,  1.00s/it]\n",
      "Processing page 453: 100%|██████████| 7/7 [00:06<00:00,  1.00it/s]\n"
     ]
    },
    {
     "name": "stdout",
     "output_type": "stream",
     "text": [
      "Can't get connection to https://ivie.vn/cong-dong?page=454! Try again in 3 seconds.\n"
     ]
    },
    {
     "name": "stderr",
     "output_type": "stream",
     "text": [
      "Processing page 456:   0%|          | 0/7 [00:00<?, ?it/s]\n",
      "Processing page 456:  14%|█▍        | 1/7 [00:00<00:05,  1.06it/s]\n",
      "Processing page 456:  29%|██▊       | 2/7 [00:01<00:04,  1.05it/s]\n",
      "Processing page 455: 100%|██████████| 8/8 [00:08<00:00,  1.02s/it]\n",
      "Processing page 456:  43%|████▎     | 3/7 [00:02<00:03,  1.02it/s]\n",
      "Processing page 456:  57%|█████▋    | 4/7 [00:03<00:02,  1.03it/s]\n",
      "Processing page 456:  71%|███████▏  | 5/7 [00:04<00:01,  1.02it/s]\n",
      "Processing page 456:  86%|████████▌ | 6/7 [00:06<00:01,  1.03s/it]\n",
      "Processing page 452: 100%|██████████| 6/6 [00:06<00:00,  1.02s/it]\n",
      "Processing page 456: 100%|██████████| 7/7 [00:06<00:00,  1.00it/s]\n"
     ]
    },
    {
     "name": "stdout",
     "output_type": "stream",
     "text": [
      "Can't get connection to https://ivie.vn/cong-dong?page=457! Try again in 3 seconds.\n"
     ]
    },
    {
     "name": "stderr",
     "output_type": "stream",
     "text": [
      "Processing page 454: 100%|██████████| 7/7 [00:07<00:00,  1.09s/it]\n",
      "Processing page 458: 100%|██████████| 6/6 [00:06<00:00,  1.03s/it]\n"
     ]
    },
    {
     "name": "stdout",
     "output_type": "stream",
     "text": [
      "Can't get connection to https://ivie.vn/cong-dong?page=459! Try again in 3 seconds.\n"
     ]
    },
    {
     "name": "stderr",
     "output_type": "stream",
     "text": [
      "Processing page 460: 100%|██████████| 6/6 [00:06<00:00,  1.02s/it]\n",
      "Processing page 457:  29%|██▊       | 2/7 [00:02<00:05,  1.01s/it]"
     ]
    },
    {
     "name": "stdout",
     "output_type": "stream",
     "text": [
      "Can't get connection to https://ivie.vn/cong-dong?page=461! Try again in 3 seconds.\n"
     ]
    },
    {
     "name": "stderr",
     "output_type": "stream",
     "text": [
      "Processing page 457: 100%|██████████| 7/7 [00:07<00:00,  1.05s/it]\n"
     ]
    },
    {
     "name": "stdout",
     "output_type": "stream",
     "text": [
      "Can't get connection to https://ivie.vn/cong-dong?page=462! Try again in 3 seconds.\n"
     ]
    },
    {
     "name": "stderr",
     "output_type": "stream",
     "text": [
      "Processing page 459:   0%|          | 0/7 [00:00<?, ?it/s]"
     ]
    },
    {
     "name": "stdout",
     "output_type": "stream",
     "text": [
      "Can't get connection to https://ivie.vn/cong-dong?page=463! Try again in 3 seconds.\n"
     ]
    },
    {
     "name": "stderr",
     "output_type": "stream",
     "text": [
      "Processing page 459:  71%|███████▏  | 5/7 [00:05<00:01,  1.00it/s]"
     ]
    },
    {
     "name": "stdout",
     "output_type": "stream",
     "text": [
      "Can't get connection to https://ivie.vn/cong-dong?page=464! Try again in 3 seconds.\n",
      "Can't get connection to https://ivie.vn/cong-dong?page=461! Try again in 3 seconds.\n"
     ]
    },
    {
     "name": "stderr",
     "output_type": "stream",
     "text": [
      "Processing page 459: 100%|██████████| 7/7 [00:11<00:00,  1.61s/it]\n",
      "Processing page 462:  38%|███▊      | 3/8 [00:05<00:07,  1.56s/it]"
     ]
    },
    {
     "name": "stdout",
     "output_type": "stream",
     "text": [
      "Can't get connection to https://ivie.vn/cong-dong?page=465! Try again in 3 seconds.\n"
     ]
    },
    {
     "name": "stderr",
     "output_type": "stream",
     "text": [
      "Processing page 462: 100%|██████████| 8/8 [00:10<00:00,  1.31s/it]\n",
      "Processing page 464: 100%|██████████| 3/3 [00:03<00:00,  1.03s/it]\n",
      "Processing page 463: 100%|██████████| 3/3 [00:02<00:00,  1.02it/s]\n"
     ]
    },
    {
     "name": "stdout",
     "output_type": "stream",
     "text": [
      "Can't get connection to https://ivie.vn/cong-dong?page=461! Try again in 3 seconds.\n"
     ]
    },
    {
     "name": "stderr",
     "output_type": "stream",
     "text": [
      "Processing page 466:   0%|          | 0/6 [00:00<?, ?it/s]"
     ]
    },
    {
     "name": "stdout",
     "output_type": "stream",
     "text": [
      "Can't get connection to https://ivie.vn/cong-dong?page=465! Try again in 3 seconds.\n"
     ]
    },
    {
     "name": "stderr",
     "output_type": "stream",
     "text": [
      "Processing page 466:  67%|██████▋   | 4/6 [00:03<00:02,  1.00s/it]"
     ]
    },
    {
     "name": "stdout",
     "output_type": "stream",
     "text": [
      "Can't get connection to https://ivie.vn/cong-dong?page=467! Try again in 3 seconds.\n"
     ]
    },
    {
     "name": "stderr",
     "output_type": "stream",
     "text": [
      "Processing page 466: 100%|██████████| 6/6 [00:05<00:00,  1.02it/s]\n"
     ]
    },
    {
     "name": "stdout",
     "output_type": "stream",
     "text": [
      "Can't get connection to https://ivie.vn/cong-dong?page=468! Try again in 3 seconds.\n",
      "Can't get connection to https://ivie.vn/cong-dong?page=461! Try again in 3 seconds.\n",
      "Can't get connection to https://ivie.vn/cong-dong?page=465! Try again in 3 seconds.\n",
      "Can't get connection to https://ivie.vn/cong-dong?page=469! Try again in 3 seconds.\n",
      "Can't get connection to https://ivie.vn/cong-dong?page=467! Try again in 3 seconds.\n",
      "Can't get connection to https://ivie.vn/cong-dong?page=468! Try again in 3 seconds.\n"
     ]
    },
    {
     "name": "stderr",
     "output_type": "stream",
     "text": [
      "Processing page 465:   0%|          | 0/4 [00:00<?, ?it/s]"
     ]
    },
    {
     "name": "stdout",
     "output_type": "stream",
     "text": [
      "Can't get connection to https://ivie.vn/cong-dong?page=469! Try again in 3 seconds.\n"
     ]
    },
    {
     "name": "stderr",
     "output_type": "stream",
     "text": [
      "Processing page 465: 100%|██████████| 4/4 [00:03<00:00,  1.11it/s]\n",
      "Processing page 461: 100%|██████████| 6/6 [00:06<00:00,  1.02s/it]\n",
      "Processing page 467: 100%|██████████| 4/4 [00:04<00:00,  1.06s/it]\n",
      "Processing page 468: 100%|██████████| 9/9 [00:09<00:00,  1.00s/it]\n",
      "Processing page 470:  67%|██████▋   | 4/6 [00:03<00:01,  1.02it/s]"
     ]
    },
    {
     "name": "stdout",
     "output_type": "stream",
     "text": [
      "Can't get connection to https://ivie.vn/cong-dong?page=471! Try again in 3 seconds.\n"
     ]
    },
    {
     "name": "stderr",
     "output_type": "stream",
     "text": [
      "Processing page 470: 100%|██████████| 6/6 [00:05<00:00,  1.01it/s]\n"
     ]
    },
    {
     "name": "stdout",
     "output_type": "stream",
     "text": [
      "Can't get connection to https://ivie.vn/cong-dong?page=472! Try again in 3 seconds.\n"
     ]
    },
    {
     "name": "stderr",
     "output_type": "stream",
     "text": [
      "Processing page 469: 100%|██████████| 7/7 [00:07<00:00,  1.03s/it]\n",
      "Processing page 473:  80%|████████  | 4/5 [00:06<00:01,  1.41s/it]"
     ]
    },
    {
     "name": "stdout",
     "output_type": "stream",
     "text": [
      "Can't get connection to https://ivie.vn/cong-dong?page=474! Try again in 3 seconds.\n"
     ]
    },
    {
     "name": "stderr",
     "output_type": "stream",
     "text": [
      "Processing page 473: 100%|██████████| 5/5 [00:07<00:00,  1.42s/it]\n",
      "Processing page 472:  75%|███████▌  | 3/4 [00:03<00:01,  1.14s/it]"
     ]
    },
    {
     "name": "stdout",
     "output_type": "stream",
     "text": [
      "Can't get connection to https://ivie.vn/cong-dong?page=475! Try again in 3 seconds.\n"
     ]
    },
    {
     "name": "stderr",
     "output_type": "stream",
     "text": [
      "Processing page 472: 100%|██████████| 4/4 [00:04<00:00,  1.11s/it]\n"
     ]
    },
    {
     "name": "stdout",
     "output_type": "stream",
     "text": [
      "Can't get connection to https://ivie.vn/cong-dong?page=476! Try again in 3 seconds.\n",
      "Can't get connection to https://ivie.vn/cong-dong?page=474! Try again in 3 seconds.\n"
     ]
    },
    {
     "name": "stderr",
     "output_type": "stream",
     "text": [
      "Processing page 471:  50%|█████     | 5/10 [00:05<00:05,  1.13s/it]\n",
      "Processing page 471:  60%|██████    | 6/10 [00:06<00:04,  1.12s/it]\n",
      "Processing page 471:  70%|███████   | 7/10 [00:07<00:03,  1.09s/it]\n",
      "Processing page 477: 100%|██████████| 5/5 [00:05<00:00,  1.03s/it]]\n",
      "\n",
      "Processing page 471:  90%|█████████ | 9/10 [00:09<00:01,  1.09s/it]\n",
      "Processing page 471: 100%|██████████| 10/10 [00:11<00:00,  1.10s/it]\n",
      "\n",
      "Processing page 476:  14%|█▍        | 1/7 [00:01<00:06,  1.04s/it]\n",
      "Processing page 475: 100%|██████████| 6/6 [00:06<00:00,  1.08s/it]\n",
      "Processing page 476:  29%|██▊       | 2/7 [00:02<00:05,  1.06s/it]"
     ]
    },
    {
     "name": "stdout",
     "output_type": "stream",
     "text": [
      "Can't get connection to https://ivie.vn/cong-dong?page=478! Try again in 3 seconds.\n"
     ]
    },
    {
     "name": "stderr",
     "output_type": "stream",
     "text": [
      "Processing page 474: 100%|██████████| 6/6 [00:06<00:00,  1.03s/it]\n",
      "\n",
      "\u001b[A\n",
      "\u001b[A\n",
      "\u001b[A\n",
      "\u001b[A\n",
      "Processing page 479: 100%|██████████| 6/6 [00:06<00:00,  1.10s/it]\n",
      "\n",
      "\u001b[A\n",
      "Processing page 480: 100%|██████████| 6/6 [00:06<00:00,  1.09s/it]\n",
      "Processing page 476:  43%|████▎     | 3/7 [00:23<00:40, 10.19s/it]"
     ]
    },
    {
     "name": "stdout",
     "output_type": "stream",
     "text": [
      "Error with this QA!\n"
     ]
    },
    {
     "name": "stderr",
     "output_type": "stream",
     "text": [
      "Processing page 476: 100%|██████████| 7/7 [00:27<00:00,  3.93s/it]\n",
      "Processing page 481: 100%|██████████| 7/7 [00:07<00:00,  1.06s/it]\n",
      "Processing page 478: 100%|██████████| 7/7 [00:07<00:00,  1.05s/it]\n",
      "Processing page 483:  29%|██▊       | 2/7 [00:02<00:05,  1.05s/it]\n",
      "Processing page 483:  43%|████▎     | 3/7 [00:03<00:04,  1.05s/it]\n",
      "Processing page 482: 100%|██████████| 8/8 [00:08<00:00,  1.06s/it]\n",
      "Processing page 483:  57%|█████▋    | 4/7 [00:04<00:03,  1.04s/it]\n",
      "Processing page 483:  71%|███████▏  | 5/7 [00:05<00:02,  1.04s/it]\n",
      "Processing page 483:  86%|████████▌ | 6/7 [00:06<00:01,  1.06s/it]\n",
      "Processing page 483: 100%|██████████| 7/7 [00:07<00:00,  1.05s/it]\n",
      "\n",
      "\u001b[A"
     ]
    },
    {
     "name": "stdout",
     "output_type": "stream",
     "text": [
      "Can't get connection to https://ivie.vn/cong-dong?page=485! Try again in 3 seconds.\n"
     ]
    },
    {
     "name": "stderr",
     "output_type": "stream",
     "text": [
      "\n",
      "\u001b[A\n",
      "\u001b[A\n",
      "\u001b[A\n",
      "Processing page 484: 100%|██████████| 9/9 [00:09<00:00,  1.05s/it]\n",
      "Processing page 486: 100%|██████████| 5/5 [00:05<00:00,  1.06s/it]\n",
      "Processing page 487:  67%|██████▋   | 4/6 [00:04<00:02,  1.06s/it]"
     ]
    },
    {
     "name": "stdout",
     "output_type": "stream",
     "text": [
      "Can't get connection to https://ivie.vn/cong-dong?page=489! Try again in 3 seconds.\n"
     ]
    },
    {
     "name": "stderr",
     "output_type": "stream",
     "text": [
      "Processing page 488: 100%|██████████| 7/7 [00:07<00:00,  1.01s/it]\n"
     ]
    },
    {
     "name": "stdout",
     "output_type": "stream",
     "text": [
      "Can't get connection to https://ivie.vn/cong-dong?page=490! Try again in 3 seconds.\n"
     ]
    },
    {
     "name": "stderr",
     "output_type": "stream",
     "text": [
      "Processing page 485: 100%|██████████| 9/9 [00:09<00:00,  1.01s/it]\n",
      "Processing page 487:  83%|████████▎ | 5/6 [00:25<00:08,  8.27s/it]"
     ]
    },
    {
     "name": "stdout",
     "output_type": "stream",
     "text": [
      "Error with this QA!\n"
     ]
    },
    {
     "name": "stderr",
     "output_type": "stream",
     "text": []
    },
    {
     "name": "stdout",
     "output_type": "stream",
     "text": [
      "Can't get connection to https://ivie.vn/cong-dong?page=489! Try again in 3 seconds.\n"
     ]
    },
    {
     "name": "stderr",
     "output_type": "stream",
     "text": [
      "Processing page 487: 100%|██████████| 6/6 [00:26<00:00,  4.40s/it]\n",
      "Processing page 491: 100%|██████████| 9/9 [00:09<00:00,  1.02s/it]\n",
      "Processing page 492: 100%|██████████| 4/4 [00:04<00:00,  1.03s/it]\n",
      "Processing page 490: 100%|██████████| 7/7 [00:07<00:00,  1.04s/it]\n",
      "Processing page 493: 100%|██████████| 6/6 [00:05<00:00,  1.00it/s]\n",
      "Processing page 489:  33%|███▎      | 3/9 [00:02<00:05,  1.03it/s]\n",
      "Processing page 489:  44%|████▍     | 4/9 [00:04<00:05,  1.02s/it]"
     ]
    },
    {
     "name": "stdout",
     "output_type": "stream",
     "text": [
      "Can't get connection to https://ivie.vn/cong-dong?page=496! Try again in 3 seconds.\n"
     ]
    },
    {
     "name": "stderr",
     "output_type": "stream",
     "text": [
      "\n",
      "Processing page 489:  67%|██████▋   | 6/9 [00:06<00:03,  1.04s/it]\n",
      "\u001b[A\n",
      "Processing page 494: 100%|██████████| 8/8 [00:08<00:00,  1.03s/it]\n",
      "\n",
      "Processing page 489:  89%|████████▉ | 8/9 [00:08<00:01,  1.25s/it]\n",
      "Processing page 489: 100%|██████████| 9/9 [00:09<00:00,  1.11s/it]\n",
      "\n",
      "\u001b[A\n",
      "\u001b[A\n",
      "Processing page 497:   0%|          | 0/6 [00:00<?, ?it/s]\n",
      "Processing page 495: 100%|██████████| 9/9 [00:09<00:00,  1.05s/it]\n",
      "Processing page 497: 100%|██████████| 6/6 [00:05<00:00,  1.01it/s]\n",
      "Processing page 496:  57%|█████▋    | 4/7 [00:03<00:02,  1.01it/s]\n",
      "Processing page 496:  71%|███████▏  | 5/7 [00:04<00:02,  1.01s/it]\n",
      "Processing page 496:  86%|████████▌ | 6/7 [00:05<00:01,  1.01s/it]"
     ]
    },
    {
     "name": "stdout",
     "output_type": "stream",
     "text": [
      "Can't get connection to https://ivie.vn/cong-dong?page=498! Try again in 3 seconds.\n"
     ]
    },
    {
     "name": "stderr",
     "output_type": "stream",
     "text": [
      "\n",
      "Processing page 496: 100%|██████████| 7/7 [00:07<00:00,  1.00s/it]\n",
      "\n",
      "Processing page 499: 100%|██████████| 7/7 [00:06<00:00,  1.02it/s]\n",
      "\n",
      "\u001b[A\n",
      "\u001b[A\n",
      "Processing page 500: 100%|██████████| 6/6 [00:06<00:00,  1.02s/it]\n",
      "Processing page 501: 100%|██████████| 6/6 [00:06<00:00,  1.03s/it]\n",
      "Processing page 503: : 0it [00:00, ?it/s]0 [00:00<?, ?it/s]\n",
      "Processing page 498:  40%|████      | 4/10 [00:04<00:06,  1.03s/it]"
     ]
    },
    {
     "name": "stdout",
     "output_type": "stream",
     "text": [
      "Can't get connection to https://ivie.vn/cong-dong?page=504! Try again in 3 seconds.\n"
     ]
    },
    {
     "name": "stderr",
     "output_type": "stream",
     "text": [
      "Processing page 498: 100%|██████████| 10/10 [00:10<00:00,  1.02s/it]\n",
      "Processing page 502: 100%|██████████| 7/7 [00:11<00:00,  1.60s/it]\n",
      "Processing page 506:  67%|██████▋   | 4/6 [00:03<00:01,  1.02it/s]"
     ]
    },
    {
     "name": "stdout",
     "output_type": "stream",
     "text": [
      "Can't get connection to https://ivie.vn/cong-dong?page=505! Try again in 3 seconds.\n"
     ]
    },
    {
     "name": "stderr",
     "output_type": "stream",
     "text": [
      "Processing page 506: 100%|██████████| 6/6 [00:05<00:00,  1.02it/s]\n"
     ]
    },
    {
     "name": "stdout",
     "output_type": "stream",
     "text": [
      "Can't get connection to https://ivie.vn/cong-dong?page=504! Try again in 3 seconds.\n",
      "Can't get connection to https://ivie.vn/cong-dong?page=508! Try again in 3 seconds.\n"
     ]
    },
    {
     "name": "stderr",
     "output_type": "stream",
     "text": [
      "Processing page 505:   0%|          | 0/5 [00:00<?, ?it/s]"
     ]
    },
    {
     "name": "stdout",
     "output_type": "stream",
     "text": [
      "Can't get connection to https://ivie.vn/cong-dong?page=507! Try again in 3 seconds.\n"
     ]
    },
    {
     "name": "stderr",
     "output_type": "stream",
     "text": [
      "Processing page 505: 100%|██████████| 5/5 [00:05<00:00,  1.06s/it]\n",
      "Processing page 509: 100%|██████████| 8/8 [00:08<00:00,  1.04s/it]\n"
     ]
    },
    {
     "name": "stdout",
     "output_type": "stream",
     "text": [
      "Can't get connection to https://ivie.vn/cong-dong?page=504! Try again in 3 seconds.\n"
     ]
    },
    {
     "name": "stderr",
     "output_type": "stream",
     "text": [
      "Processing page 508:  29%|██▊       | 2/7 [00:02<00:05,  1.04s/it]"
     ]
    },
    {
     "name": "stdout",
     "output_type": "stream",
     "text": [
      "Can't get connection to https://ivie.vn/cong-dong?page=507! Try again in 3 seconds.\n"
     ]
    },
    {
     "name": "stderr",
     "output_type": "stream",
     "text": [
      "Processing page 508: 100%|██████████| 7/7 [00:07<00:00,  1.03s/it]\n",
      "Processing page 510: : 0it [00:00, ?it/s]\n",
      "Processing page 511: 100%|██████████| 5/5 [00:05<00:00,  1.03s/it]\n",
      "Processing page 504: : 0it [00:00, ?it/s]\n",
      "Processing page 507: 100%|██████████| 6/6 [00:06<00:00,  1.01s/it]\n",
      "Processing page 513: 100%|██████████| 5/5 [00:05<00:00,  1.03s/it]\n"
     ]
    },
    {
     "name": "stdout",
     "output_type": "stream",
     "text": [
      "Can't get connection to https://ivie.vn/cong-dong?page=514! Try again in 3 seconds.\n"
     ]
    },
    {
     "name": "stderr",
     "output_type": "stream",
     "text": [
      "Processing page 512: 100%|██████████| 5/5 [00:05<00:00,  1.04s/it]\n"
     ]
    },
    {
     "name": "stdout",
     "output_type": "stream",
     "text": [
      "Can't get connection to https://ivie.vn/cong-dong?page=515! Try again in 3 seconds.\n"
     ]
    },
    {
     "name": "stderr",
     "output_type": "stream",
     "text": [
      "Processing page 516: : 0it [00:00, ?it/s] [00:00<00:05,  1.00it/s]\n",
      "Processing page 514: : 0it [00:00, ?it/s] [00:05<00:02,  1.05s/it]\n",
      "Processing page 518: : 0it [00:00, ?it/s] [00:06<00:01,  1.07s/it]\n",
      "Processing page 517: 100%|██████████| 7/7 [00:07<00:00,  1.05s/it]\n",
      "Processing page 515: 100%|██████████| 7/7 [00:07<00:00,  1.01s/it]\n",
      "Processing page 519: 100%|██████████| 2/2 [00:02<00:00,  1.04s/it]\n"
     ]
    },
    {
     "name": "stdout",
     "output_type": "stream",
     "text": [
      "Can't get connection to https://ivie.vn/cong-dong?page=520! Try again in 3 seconds.\n"
     ]
    },
    {
     "name": "stderr",
     "output_type": "stream",
     "text": [
      "Processing page 521: : 0it [00:00, ?it/s]\n",
      "Processing page 522: 100%|██████████| 6/6 [00:06<00:00,  1.02s/it]\n"
     ]
    },
    {
     "name": "stdout",
     "output_type": "stream",
     "text": [
      "Can't get connection to https://ivie.vn/cong-dong?page=523! Try again in 3 seconds.\n"
     ]
    },
    {
     "name": "stderr",
     "output_type": "stream",
     "text": [
      "Processing page 520:  33%|███▎      | 1/3 [00:00<00:01,  1.00it/s]"
     ]
    },
    {
     "name": "stdout",
     "output_type": "stream",
     "text": [
      "Can't get connection to https://ivie.vn/cong-dong?page=524! Try again in 3 seconds.\n"
     ]
    },
    {
     "name": "stderr",
     "output_type": "stream",
     "text": [
      "Processing page 520: 100%|██████████| 3/3 [00:03<00:00,  1.04s/it]\n",
      "Processing page 526: 100%|██████████| 8/8 [00:08<00:00,  1.02s/it]\n",
      "Processing page 525: : 0it [00:00, ?it/s] [00:00<00:06,  1.03it/s]\n"
     ]
    },
    {
     "name": "stdout",
     "output_type": "stream",
     "text": [
      "Can't get connection to https://ivie.vn/cong-dong?page=527! Try again in 3 seconds.\n"
     ]
    },
    {
     "name": "stderr",
     "output_type": "stream",
     "text": [
      "Processing page 524: 100%|██████████| 5/5 [00:09<00:00,  1.84s/it]\n",
      "\n",
      "\u001b[A\n",
      "\u001b[A\n",
      "Processing page 528: 100%|██████████| 7/7 [00:06<00:00,  1.00it/s]\n",
      "Processing page 523:  25%|██▌       | 2/8 [00:22<01:16, 12.78s/it]"
     ]
    },
    {
     "name": "stdout",
     "output_type": "stream",
     "text": [
      "Error with this QA!\n"
     ]
    },
    {
     "name": "stderr",
     "output_type": "stream",
     "text": [
      "Processing page 523:  38%|███▊      | 3/8 [00:22<00:36,  7.38s/it]"
     ]
    },
    {
     "name": "stdout",
     "output_type": "stream",
     "text": [
      "Can't get connection to https://ivie.vn/cong-dong?page=527! Try again in 3 seconds.\n"
     ]
    },
    {
     "name": "stderr",
     "output_type": "stream",
     "text": [
      "Processing page 523: 100%|██████████| 8/8 [00:27<00:00,  3.48s/it]\n",
      "Processing page 530: 100%|██████████| 7/7 [00:06<00:00,  1.00it/s]\n"
     ]
    },
    {
     "name": "stdout",
     "output_type": "stream",
     "text": [
      "Can't get connection to https://ivie.vn/cong-dong?page=531! Try again in 3 seconds.\n"
     ]
    },
    {
     "name": "stderr",
     "output_type": "stream",
     "text": [
      "\n",
      "\u001b[A"
     ]
    },
    {
     "name": "stdout",
     "output_type": "stream",
     "text": [
      "Error with this QA!\n"
     ]
    },
    {
     "name": "stderr",
     "output_type": "stream",
     "text": [
      "\n",
      "\u001b[A"
     ]
    },
    {
     "name": "stdout",
     "output_type": "stream",
     "text": [
      "Can't get connection to https://ivie.vn/cong-dong?page=532! Try again in 3 seconds.\n",
      "Can't get connection to https://ivie.vn/cong-dong?page=527! Try again in 3 seconds.\n"
     ]
    },
    {
     "name": "stderr",
     "output_type": "stream",
     "text": [
      "\n",
      "\u001b[A\n",
      "\u001b[A\n",
      "\u001b[A\n",
      "Processing page 533:   0%|          | 0/9 [00:00<?, ?it/s]\n",
      "Processing page 529: 100%|██████████| 9/9 [00:29<00:00,  3.25s/it]\n",
      "Processing page 533:  67%|██████▋   | 6/9 [00:06<00:03,  1.17s/it]"
     ]
    },
    {
     "name": "stdout",
     "output_type": "stream",
     "text": [
      "Can't get connection to https://ivie.vn/cong-dong?page=531! Try again in 3 seconds.\n"
     ]
    },
    {
     "name": "stderr",
     "output_type": "stream",
     "text": [
      "Processing page 533: 100%|██████████| 9/9 [00:09<00:00,  1.10s/it]\n"
     ]
    },
    {
     "name": "stdout",
     "output_type": "stream",
     "text": [
      "Can't get connection to https://ivie.vn/cong-dong?page=534! Try again in 3 seconds.\n",
      "Can't get connection to https://ivie.vn/cong-dong?page=527! Try again in 3 seconds.\n",
      "Can't get connection to https://ivie.vn/cong-dong?page=532! Try again in 3 seconds.\n"
     ]
    },
    {
     "name": "stderr",
     "output_type": "stream",
     "text": [
      "Processing page 531: 100%|██████████| 9/9 [00:09<00:00,  1.03s/it]\n",
      "Processing page 535: 100%|██████████| 9/9 [00:12<00:00,  1.37s/it]\n"
     ]
    },
    {
     "name": "stdout",
     "output_type": "stream",
     "text": [
      "Can't get connection to https://ivie.vn/cong-dong?page=534! Try again in 3 seconds.\n",
      "Can't get connection to https://ivie.vn/cong-dong?page=527! Try again in 3 seconds.\n"
     ]
    },
    {
     "name": "stderr",
     "output_type": "stream",
     "text": [
      "Processing page 532: 100%|██████████| 8/8 [00:08<00:00,  1.01s/it]\n"
     ]
    },
    {
     "name": "stdout",
     "output_type": "stream",
     "text": [
      "Can't get connection to https://ivie.vn/cong-dong?page=536! Try again in 3 seconds.\n"
     ]
    },
    {
     "name": "stderr",
     "output_type": "stream",
     "text": [
      "Processing page 537: 100%|██████████| 7/7 [00:06<00:00,  1.05it/s]\n"
     ]
    },
    {
     "name": "stdout",
     "output_type": "stream",
     "text": [
      "Can't get connection to https://ivie.vn/cong-dong?page=527! Try again in 3 seconds.\n",
      "Can't get connection to https://ivie.vn/cong-dong?page=534! Try again in 3 seconds.\n"
     ]
    },
    {
     "name": "stderr",
     "output_type": "stream",
     "text": [
      "Processing page 538: 100%|██████████| 9/9 [00:08<00:00,  1.05it/s]\n",
      "Processing page 536: 100%|██████████| 6/6 [00:05<00:00,  1.07it/s]\n",
      "Processing page 539: 100%|██████████| 6/6 [00:06<00:00,  1.01s/it]\n",
      "Processing page 534:  75%|███████▌  | 6/8 [00:05<00:01,  1.00it/s]\n",
      "Processing page 527: 100%|██████████| 7/7 [00:07<00:00,  1.01s/it]\n",
      "Processing page 534:  88%|████████▊ | 7/8 [00:07<00:01,  1.03s/it]\n",
      "Processing page 534: 100%|██████████| 8/8 [00:07<00:00,  1.00it/s]\n",
      "\n",
      "\u001b[A\n",
      "\u001b[A\n",
      "Processing page 540: 100%|██████████| 4/4 [00:04<00:00,  1.03s/it]\n",
      "Processing page 541:  29%|██▊       | 2/7 [00:02<00:05,  1.02s/it]"
     ]
    },
    {
     "name": "stdout",
     "output_type": "stream",
     "text": [
      "Can't get connection to https://ivie.vn/cong-dong?page=542! Try again in 3 seconds.\n"
     ]
    },
    {
     "name": "stderr",
     "output_type": "stream",
     "text": [
      "Processing page 541:  57%|█████▋    | 4/7 [00:04<00:03,  1.02s/it]\n",
      "\u001b[A\n",
      "\u001b[A\n",
      "\u001b[A\n",
      "\u001b[A\n",
      "\n",
      "\u001b[A\u001b[A\n",
      "\n",
      "\u001b[A\u001b[A\n",
      "\n",
      "\u001b[A\u001b[A\n",
      "\n",
      "\u001b[A\u001b[A\n",
      "\n",
      "\n",
      "\u001b[A\u001b[A\u001b[A\n",
      "\n",
      "\n",
      "\u001b[A\u001b[A\u001b[A\n",
      "\n",
      "\n",
      "Processing page 541:  71%|███████▏  | 5/7 [00:25<00:16,  8.25s/it]\n",
      "\n",
      "\n",
      "\u001b[A\u001b[A\u001b[A"
     ]
    },
    {
     "name": "stdout",
     "output_type": "stream",
     "text": [
      "Error with this QA!\n"
     ]
    },
    {
     "name": "stderr",
     "output_type": "stream",
     "text": [
      "Processing page 541:  86%|████████▌ | 6/7 [00:25<00:05,  5.61s/it]\n",
      "\n",
      "\n",
      "\u001b[A\u001b[A\u001b[A\n",
      "\n",
      "\n",
      "\u001b[A\u001b[A\u001b[A\n",
      "\n",
      "\n",
      "Processing page 542: 100%|██████████| 6/6 [00:05<00:00,  1.00it/s]\n",
      "\n",
      "\u001b[A"
     ]
    },
    {
     "name": "stdout",
     "output_type": "stream",
     "text": [
      "Error with this QA!\n",
      "Error with this QA!\n"
     ]
    },
    {
     "name": "stderr",
     "output_type": "stream",
     "text": [
      "\n",
      "Processing page 544: 100%|██████████| 5/5 [00:24<00:00,  4.94s/it]\n",
      "Processing page 543: 100%|██████████| 8/8 [00:28<00:00,  3.51s/it]\n",
      "\n",
      "\n",
      "\u001b[A\u001b[A"
     ]
    },
    {
     "name": "stdout",
     "output_type": "stream",
     "text": [
      "Error with this QA!\n"
     ]
    },
    {
     "name": "stderr",
     "output_type": "stream",
     "text": [
      "\n",
      "\n",
      "\u001b[A\u001b[A\n",
      "\n",
      "\u001b[A\u001b[A"
     ]
    },
    {
     "name": "stdout",
     "output_type": "stream",
     "text": [
      "Can't get connection to https://ivie.vn/cong-dong?page=546! Try again in 3 seconds.\n"
     ]
    },
    {
     "name": "stderr",
     "output_type": "stream",
     "text": [
      "\n",
      "\n",
      "\u001b[A\u001b[A\n",
      "\n",
      "Processing page 545: 100%|██████████| 8/8 [00:28<00:00,  3.53s/it]\n",
      "Processing page 541: 100%|██████████| 7/7 [00:46<00:00,  6.66s/it]"
     ]
    },
    {
     "name": "stdout",
     "output_type": "stream",
     "text": [
      "Error with this QA!\n"
     ]
    },
    {
     "name": "stderr",
     "output_type": "stream",
     "text": [
      "\n"
     ]
    },
    {
     "name": "stdout",
     "output_type": "stream",
     "text": [
      "Can't get connection to https://ivie.vn/cong-dong?page=547! Try again in 3 seconds.\n",
      "Can't get connection to https://ivie.vn/cong-dong?page=548! Try again in 3 seconds.\n"
     ]
    },
    {
     "name": "stderr",
     "output_type": "stream",
     "text": [
      "Processing page 549:  38%|███▊      | 3/8 [00:03<00:05,  1.03s/it]\n",
      "Processing page 550: : 0it [00:00, ?it/s]\n",
      "Processing page 549: 100%|██████████| 8/8 [00:08<00:00,  1.07s/it]\n",
      "Processing page 546: 100%|██████████| 7/7 [00:07<00:00,  1.03s/it]\n"
     ]
    },
    {
     "name": "stdout",
     "output_type": "stream",
     "text": [
      "Can't get connection to https://ivie.vn/cong-dong?page=547! Try again in 3 seconds.\n",
      "Can't get connection to https://ivie.vn/cong-dong?page=548! Try again in 3 seconds.\n"
     ]
    },
    {
     "name": "stderr",
     "output_type": "stream",
     "text": [
      "Processing page 551: 100%|██████████| 7/7 [00:07<00:00,  1.04s/it]\n",
      "Processing page 552: 100%|██████████| 8/8 [00:08<00:00,  1.01s/it]\n"
     ]
    },
    {
     "name": "stdout",
     "output_type": "stream",
     "text": [
      "Can't get connection to https://ivie.vn/cong-dong?page=547! Try again in 3 seconds.\n"
     ]
    },
    {
     "name": "stderr",
     "output_type": "stream",
     "text": [
      "Processing page 553: 100%|██████████| 4/4 [00:04<00:00,  1.02s/it]\n",
      "Processing page 548:  86%|████████▌ | 6/7 [00:06<00:01,  1.05s/it]"
     ]
    },
    {
     "name": "stdout",
     "output_type": "stream",
     "text": [
      "Can't get connection to https://ivie.vn/cong-dong?page=554! Try again in 3 seconds.\n"
     ]
    },
    {
     "name": "stderr",
     "output_type": "stream",
     "text": [
      "Processing page 548: 100%|██████████| 7/7 [00:07<00:00,  1.06s/it]\n"
     ]
    },
    {
     "name": "stdout",
     "output_type": "stream",
     "text": [
      "Can't get connection to https://ivie.vn/cong-dong?page=555! Try again in 3 seconds.\n"
     ]
    },
    {
     "name": "stderr",
     "output_type": "stream",
     "text": [
      "Processing page 556: 100%|██████████| 6/6 [00:06<00:00,  1.03s/it]\n",
      "Processing page 547: 100%|██████████| 7/7 [00:06<00:00,  1.01it/s]\n"
     ]
    },
    {
     "name": "stdout",
     "output_type": "stream",
     "text": [
      "Can't get connection to https://ivie.vn/cong-dong?page=557! Try again in 3 seconds.\n"
     ]
    },
    {
     "name": "stderr",
     "output_type": "stream",
     "text": []
    },
    {
     "name": "stdout",
     "output_type": "stream",
     "text": [
      "Can't get connection to https://ivie.vn/cong-dong?page=555! Try again in 3 seconds.\n"
     ]
    },
    {
     "name": "stderr",
     "output_type": "stream",
     "text": [
      "Processing page 558: : 0it [00:00, ?it/s]\n",
      "Processing page 554: 100%|██████████| 9/9 [00:09<00:00,  1.06s/it]\n"
     ]
    },
    {
     "name": "stdout",
     "output_type": "stream",
     "text": [
      "Can't get connection to https://ivie.vn/cong-dong?page=560! Try again in 3 seconds.\n",
      "Can't get connection to https://ivie.vn/cong-dong?page=561! Try again in 3 seconds.\n",
      "Can't get connection to https://ivie.vn/cong-dong?page=559! Try again in 3 seconds.\n",
      "Can't get connection to https://ivie.vn/cong-dong?page=555! Try again in 3 seconds.\n",
      "Can't get connection to https://ivie.vn/cong-dong?page=557! Try again in 3 seconds.\n",
      "Can't get connection to https://ivie.vn/cong-dong?page=560! Try again in 3 seconds.\n",
      "Can't get connection to https://ivie.vn/cong-dong?page=559! Try again in 3 seconds.\n",
      "Can't get connection to https://ivie.vn/cong-dong?page=561! Try again in 3 seconds.\n"
     ]
    },
    {
     "name": "stderr",
     "output_type": "stream",
     "text": [
      "Processing page 555:   0%|          | 0/5 [00:00<?, ?it/s]"
     ]
    },
    {
     "name": "stdout",
     "output_type": "stream",
     "text": [
      "Can't get connection to https://ivie.vn/cong-dong?page=557! Try again in 3 seconds.\n"
     ]
    },
    {
     "name": "stderr",
     "output_type": "stream",
     "text": [
      "Processing page 555: 100%|██████████| 5/5 [00:05<00:00,  1.01s/it]\n",
      "Processing page 560:  25%|██▌       | 2/8 [00:01<00:05,  1.01it/s]\n",
      "Processing page 560:  38%|███▊      | 3/8 [00:03<00:05,  1.03s/it]\n",
      "Processing page 560:  50%|█████     | 4/8 [00:04<00:04,  1.03s/it]\n",
      "Processing page 560:  62%|██████▎   | 5/8 [00:04<00:02,  1.21it/s]\n",
      "Processing page 560:  75%|███████▌  | 6/8 [00:05<00:01,  1.11it/s]"
     ]
    },
    {
     "name": "stdout",
     "output_type": "stream",
     "text": [
      "Can't get connection to https://ivie.vn/cong-dong?page=562! Try again in 3 seconds.\n"
     ]
    },
    {
     "name": "stderr",
     "output_type": "stream",
     "text": [
      "\n",
      "Processing page 560:  88%|████████▊ | 7/8 [00:06<00:00,  1.05it/s]\n",
      "\u001b[A\n",
      "\n",
      "Processing page 560: 100%|██████████| 8/8 [00:07<00:00,  1.04it/s]\n",
      "\n",
      "\u001b[A\n",
      "\n",
      "\u001b[A\u001b[A\n",
      "Processing page 557: 100%|██████████| 7/7 [00:07<00:00,  1.01s/it]\n",
      "\n",
      "\n",
      "\u001b[A\u001b[A\n",
      "\n",
      "\u001b[A\u001b[A\n",
      "\n",
      "\u001b[A\u001b[A\n",
      "\n",
      "Processing page 559: 100%|██████████| 8/8 [00:12<00:00,  1.56s/it]\n",
      "\n",
      "\n",
      "Processing page 561: 100%|██████████| 6/6 [00:06<00:00,  1.04s/it]\n",
      "Processing page 563:  50%|█████     | 4/8 [00:04<00:04,  1.02s/it]"
     ]
    },
    {
     "name": "stdout",
     "output_type": "stream",
     "text": [
      "Can't get connection to https://ivie.vn/cong-dong?page=562! Try again in 3 seconds.\n"
     ]
    },
    {
     "name": "stderr",
     "output_type": "stream",
     "text": [
      "Processing page 563:  75%|███████▌  | 6/8 [00:06<00:02,  1.02s/it]"
     ]
    },
    {
     "name": "stdout",
     "output_type": "stream",
     "text": [
      "Can't get connection to https://ivie.vn/cong-dong?page=565! Try again in 3 seconds.\n"
     ]
    },
    {
     "name": "stderr",
     "output_type": "stream",
     "text": [
      "\n",
      "Processing page 563:  88%|████████▊ | 7/8 [00:07<00:01,  1.07s/it]\n",
      "Processing page 563: 100%|██████████| 8/8 [00:08<00:00,  1.04s/it]\n",
      "\n",
      "\u001b[A\n",
      "\u001b[A\n",
      "Processing page 564: 100%|██████████| 8/8 [00:08<00:00,  1.02s/it]\n",
      "\n",
      "\u001b[A\n",
      "Processing page 566: 100%|██████████| 6/6 [00:06<00:00,  1.02s/it]\n"
     ]
    },
    {
     "name": "stdout",
     "output_type": "stream",
     "text": [
      "Can't get connection to https://ivie.vn/cong-dong?page=567! Try again in 3 seconds.\n"
     ]
    },
    {
     "name": "stderr",
     "output_type": "stream",
     "text": [
      "Processing page 562:   0%|          | 0/9 [00:00<?, ?it/s]"
     ]
    },
    {
     "name": "stdout",
     "output_type": "stream",
     "text": [
      "Can't get connection to https://ivie.vn/cong-dong?page=565! Try again in 3 seconds.\n"
     ]
    },
    {
     "name": "stderr",
     "output_type": "stream",
     "text": [
      "\n",
      "\u001b[A\n",
      "\u001b[A\n",
      "\u001b[A\n",
      "\u001b[A\n",
      "Processing page 568: 100%|██████████| 6/6 [00:08<00:00,  1.49s/it]\n",
      "\n",
      "\u001b[A\n",
      "\u001b[A\n",
      "Processing page 569: 100%|██████████| 7/7 [00:08<00:00,  1.25s/it]\n"
     ]
    },
    {
     "name": "stdout",
     "output_type": "stream",
     "text": [
      "Can't get connection to https://ivie.vn/cong-dong?page=567! Try again in 3 seconds.\n"
     ]
    },
    {
     "name": "stderr",
     "output_type": "stream",
     "text": [
      "Processing page 562:  11%|█         | 1/9 [00:21<02:48, 21.05s/it]"
     ]
    },
    {
     "name": "stdout",
     "output_type": "stream",
     "text": [
      "Error with this QA!\n"
     ]
    },
    {
     "name": "stderr",
     "output_type": "stream",
     "text": [
      "Processing page 570: : 0it [00:00, ?it/s] [00:23<00:18,  3.69s/it]\n",
      "Processing page 562:  78%|███████▊  | 7/9 [00:26<00:03,  1.59s/it]"
     ]
    },
    {
     "name": "stdout",
     "output_type": "stream",
     "text": [
      "Can't get connection to https://ivie.vn/cong-dong?page=571! Try again in 3 seconds.\n"
     ]
    },
    {
     "name": "stderr",
     "output_type": "stream",
     "text": [
      "Processing page 562:  89%|████████▉ | 8/9 [00:27<00:01,  1.41s/it]"
     ]
    },
    {
     "name": "stdout",
     "output_type": "stream",
     "text": [
      "Can't get connection to https://ivie.vn/cong-dong?page=565! Try again in 3 seconds.\n"
     ]
    },
    {
     "name": "stderr",
     "output_type": "stream",
     "text": [
      "Processing page 562: 100%|██████████| 9/9 [00:28<00:00,  3.16s/it]\n",
      "Processing page 567:  78%|███████▊  | 7/9 [00:07<00:02,  1.07s/it]\n",
      "Processing page 572: 100%|██████████| 5/5 [00:05<00:00,  1.06s/it]\n",
      "Processing page 567:  89%|████████▉ | 8/9 [00:08<00:01,  1.03s/it]\n",
      "Processing page 567: 100%|██████████| 9/9 [00:09<00:00,  1.03s/it]\n",
      "\n",
      "\u001b[A\n",
      "\u001b[A"
     ]
    },
    {
     "name": "stdout",
     "output_type": "stream",
     "text": [
      "Can't get connection to https://ivie.vn/cong-dong?page=571! Try again in 3 seconds.\n"
     ]
    },
    {
     "name": "stderr",
     "output_type": "stream",
     "text": [
      "\n",
      "Processing page 565:   0%|          | 0/9 [00:00<?, ?it/s]\n",
      "Processing page 565:  11%|█         | 1/9 [00:01<00:08,  1.08s/it]\n",
      "Processing page 573: 100%|██████████| 6/6 [00:06<00:00,  1.02s/it]\n",
      "Processing page 565: 100%|██████████| 9/9 [00:09<00:00,  1.04s/it]\n",
      "Processing page 575:  83%|████████▎ | 5/6 [00:05<00:01,  1.02s/it]\n",
      "Processing page 575: 100%|██████████| 6/6 [00:06<00:00,  1.01s/it]\n",
      "Processing page 574: 100%|██████████| 8/8 [00:07<00:00,  1.03it/s]\n",
      "\n",
      "Processing page 571:   0%|          | 0/9 [00:00<?, ?it/s]\n",
      "Processing page 571:  11%|█         | 1/9 [00:01<00:08,  1.01s/it]\n",
      "Processing page 571:  22%|██▏       | 2/9 [00:01<00:06,  1.00it/s]\n",
      "Processing page 571:  33%|███▎      | 3/9 [00:03<00:06,  1.01s/it]\n",
      "Processing page 571:  44%|████▍     | 4/9 [00:04<00:05,  1.01s/it]\n",
      "Processing page 571:  56%|█████▌    | 5/9 [00:04<00:03,  1.01it/s]\n",
      "Processing page 576: 100%|██████████| 7/7 [00:07<00:00,  1.01s/it]\n",
      "Processing page 571: 100%|██████████| 9/9 [00:08<00:00,  1.01it/s]\n",
      "Processing page 577: 100%|██████████| 7/7 [00:06<00:00,  1.03it/s]\n"
     ]
    },
    {
     "name": "stdout",
     "output_type": "stream",
     "text": [
      "Can't get connection to https://ivie.vn/cong-dong?page=579! Try again in 3 seconds.\n"
     ]
    },
    {
     "name": "stderr",
     "output_type": "stream",
     "text": [
      "Processing page 578: 100%|██████████| 6/6 [00:06<00:00,  1.03s/it]\n",
      "Processing page 581:  14%|█▍        | 1/7 [00:00<00:05,  1.04it/s]\n",
      "Processing page 581:  29%|██▊       | 2/7 [00:01<00:04,  1.05it/s]\n",
      "Processing page 581:  43%|████▎     | 3/7 [00:02<00:03,  1.06it/s]\n",
      "Processing page 581:  57%|█████▋    | 4/7 [00:03<00:02,  1.03it/s]\n",
      "Processing page 580: 100%|██████████| 10/10 [00:09<00:00,  1.02it/s]\n",
      "Processing page 581:  71%|███████▏  | 5/7 [00:04<00:01,  1.03it/s]\n",
      "Processing page 581:  86%|████████▌ | 6/7 [00:05<00:00,  1.04it/s]\n",
      "Processing page 581: 100%|██████████| 7/7 [00:06<00:00,  1.04it/s]\n",
      "Processing page 579:   0%|          | 0/8 [00:00<?, ?it/s]\n",
      "\u001b[A\n",
      "Processing page 582: 100%|██████████| 7/7 [00:06<00:00,  1.11it/s]\n",
      "Processing page 579: 100%|██████████| 8/8 [00:08<00:00,  1.03s/it]\n"
     ]
    },
    {
     "name": "stdout",
     "output_type": "stream",
     "text": [
      "Can't get connection to https://ivie.vn/cong-dong?page=583! Try again in 3 seconds.\n"
     ]
    },
    {
     "name": "stderr",
     "output_type": "stream",
     "text": [
      "Processing page 584:  43%|████▎     | 3/7 [00:02<00:03,  1.02it/s]"
     ]
    },
    {
     "name": "stdout",
     "output_type": "stream",
     "text": [
      "Can't get connection to https://ivie.vn/cong-dong?page=586! Try again in 3 seconds.\n"
     ]
    },
    {
     "name": "stderr",
     "output_type": "stream",
     "text": [
      "Processing page 584: 100%|██████████| 7/7 [00:07<00:00,  1.01s/it]\n",
      "Processing page 585: 100%|██████████| 6/6 [00:06<00:00,  1.00s/it]\n",
      "Processing page 587: 100%|██████████| 6/6 [00:05<00:00,  1.11it/s]\n",
      "Processing page 583: 100%|██████████| 7/7 [00:11<00:00,  1.60s/it]\n",
      "Processing page 586:   0%|          | 0/6 [00:00<?, ?it/s]\n",
      "Processing page 589: : 0it [00:00, ?it/s]\n",
      "Processing page 588: 100%|██████████| 7/7 [00:05<00:00,  1.18it/s]\n",
      "Processing page 586: 100%|██████████| 6/6 [00:06<00:00,  1.02s/it]\n",
      "Processing page 591: : 0it [00:00, ?it/s] [00:02<00:03,  1.29it/s]\n",
      "Processing page 590: 100%|██████████| 8/8 [00:07<00:00,  1.08it/s]\n",
      "Processing page 593:  14%|█▍        | 1/7 [00:01<00:06,  1.06s/it]"
     ]
    },
    {
     "name": "stdout",
     "output_type": "stream",
     "text": [
      "Can't get connection to https://ivie.vn/cong-dong?page=594! Try again in 3 seconds.\n"
     ]
    },
    {
     "name": "stderr",
     "output_type": "stream",
     "text": [
      "Processing page 592: 100%|██████████| 8/8 [00:08<00:00,  1.01s/it]\n",
      "Processing page 593:  86%|████████▌ | 6/7 [00:06<00:01,  1.01s/it]"
     ]
    },
    {
     "name": "stdout",
     "output_type": "stream",
     "text": [
      "Can't get connection to https://ivie.vn/cong-dong?page=596! Try again in 3 seconds.\n",
      "Can't get connection to https://ivie.vn/cong-dong?page=595! Try again in 3 seconds.\n"
     ]
    },
    {
     "name": "stderr",
     "output_type": "stream",
     "text": [
      "\n",
      "\u001b[A\n",
      "\u001b[A\n",
      "\u001b[A\n",
      "Processing page 597: 100%|██████████| 4/4 [00:04<00:00,  1.04s/it]\n",
      "\n",
      "\u001b[A\n",
      "Processing page 594: 100%|██████████| 5/5 [00:05<00:00,  1.01s/it]\n",
      "Processing page 593: 100%|██████████| 7/7 [00:27<00:00,  3.88s/it]"
     ]
    },
    {
     "name": "stdout",
     "output_type": "stream",
     "text": [
      "Error with this QA!\n"
     ]
    },
    {
     "name": "stderr",
     "output_type": "stream",
     "text": [
      "\n",
      "Processing page 595: 100%|██████████| 5/5 [00:05<00:00,  1.03s/it]\n",
      "Processing page 596: 100%|██████████| 6/6 [00:06<00:00,  1.07s/it]\n",
      "Processing page 598: : 0it [00:00, ?it/s] [00:00<?, ?it/s]\n",
      "Processing page 599: 100%|██████████| 2/2 [00:02<00:00,  1.04s/it]\n",
      "Processing page 600: 100%|██████████| 8/8 [00:08<00:00,  1.09s/it]\n"
     ]
    },
    {
     "name": "stdout",
     "output_type": "stream",
     "text": [
      "Can't get connection to https://ivie.vn/cong-dong?page=601! Try again in 3 seconds.\n"
     ]
    },
    {
     "name": "stderr",
     "output_type": "stream",
     "text": [
      "Processing page 602: : 0it [00:00, ?it/s]\n",
      "Processing page 603:  33%|███▎      | 2/6 [00:02<00:04,  1.10s/it]"
     ]
    },
    {
     "name": "stdout",
     "output_type": "stream",
     "text": [
      "Can't get connection to https://ivie.vn/cong-dong?page=604! Try again in 3 seconds.\n"
     ]
    },
    {
     "name": "stderr",
     "output_type": "stream",
     "text": [
      "Processing page 603: 100%|██████████| 6/6 [00:06<00:00,  1.10s/it]\n"
     ]
    },
    {
     "name": "stdout",
     "output_type": "stream",
     "text": [
      "Can't get connection to https://ivie.vn/cong-dong?page=606! Try again in 3 seconds.\n"
     ]
    },
    {
     "name": "stderr",
     "output_type": "stream",
     "text": [
      "Processing page 605:  62%|██████▎   | 5/8 [00:06<00:03,  1.17s/it]"
     ]
    },
    {
     "name": "stdout",
     "output_type": "stream",
     "text": [
      "Can't get connection to https://ivie.vn/cong-dong?page=601! Try again in 3 seconds.\n",
      "Can't get connection to https://ivie.vn/cong-dong?page=607! Try again in 3 seconds.\n"
     ]
    },
    {
     "name": "stderr",
     "output_type": "stream",
     "text": [
      "Processing page 605: 100%|██████████| 8/8 [00:14<00:00,  1.86s/it]\n",
      "Processing page 606:  57%|█████▋    | 4/7 [00:04<00:03,  1.05s/it]"
     ]
    },
    {
     "name": "stdout",
     "output_type": "stream",
     "text": [
      "Can't get connection to https://ivie.vn/cong-dong?page=601! Try again in 3 seconds.\n"
     ]
    },
    {
     "name": "stderr",
     "output_type": "stream",
     "text": [
      "Processing page 606: 100%|██████████| 7/7 [00:07<00:00,  1.05s/it]\n",
      "Processing page 607: : 0it [00:00, ?it/s]\n"
     ]
    },
    {
     "name": "stdout",
     "output_type": "stream",
     "text": [
      "Can't get connection to https://ivie.vn/cong-dong?page=608! Try again in 3 seconds.\n"
     ]
    },
    {
     "name": "stderr",
     "output_type": "stream",
     "text": [
      "Processing page 604: : 0it [00:00, ?it/s]\n",
      "Processing page 609:  20%|██        | 1/5 [00:00<00:03,  1.03it/s]"
     ]
    },
    {
     "name": "stdout",
     "output_type": "stream",
     "text": [
      "Can't get connection to https://ivie.vn/cong-dong?page=601! Try again in 3 seconds.\n"
     ]
    },
    {
     "name": "stderr",
     "output_type": "stream",
     "text": [
      "Processing page 609: 100%|██████████| 5/5 [00:04<00:00,  1.02it/s]\n",
      "Processing page 608:  88%|████████▊ | 7/8 [00:07<00:01,  1.01s/it]\n",
      "Processing page 608: 100%|██████████| 8/8 [00:08<00:00,  1.03s/it]\n",
      "\n",
      "\u001b[A\n",
      "\u001b[A\n",
      "\u001b[A\n",
      "\u001b[A\n",
      "\u001b[A\n",
      "\u001b[A"
     ]
    },
    {
     "name": "stdout",
     "output_type": "stream",
     "text": [
      "Can't get connection to https://ivie.vn/cong-dong?page=612! Try again in 3 seconds.\n"
     ]
    },
    {
     "name": "stderr",
     "output_type": "stream",
     "text": [
      "\n",
      "\u001b[A\n",
      "Processing page 611: 100%|██████████| 8/8 [00:08<00:00,  1.01s/it]\n"
     ]
    },
    {
     "name": "stdout",
     "output_type": "stream",
     "text": [
      "Error with this QA!\n"
     ]
    },
    {
     "name": "stderr",
     "output_type": "stream",
     "text": [
      "Processing page 610: 100%|██████████| 5/5 [00:25<00:00,  5.04s/it]\n",
      "Processing page 601:  43%|████▎     | 3/7 [00:03<00:04,  1.10s/it]"
     ]
    },
    {
     "name": "stdout",
     "output_type": "stream",
     "text": [
      "Can't get connection to https://ivie.vn/cong-dong?page=613! Try again in 3 seconds.\n"
     ]
    },
    {
     "name": "stderr",
     "output_type": "stream",
     "text": [
      "Processing page 601: 100%|██████████| 7/7 [00:07<00:00,  1.07s/it]\n",
      "Processing page 614: 100%|██████████| 3/3 [00:03<00:00,  1.08s/it]\n",
      "Processing page 615: : 0it [00:00, ?it/s]\n",
      "Processing page 612:  50%|█████     | 3/6 [00:03<00:03,  1.06s/it]"
     ]
    },
    {
     "name": "stdout",
     "output_type": "stream",
     "text": [
      "Can't get connection to https://ivie.vn/cong-dong?page=616! Try again in 3 seconds.\n"
     ]
    },
    {
     "name": "stderr",
     "output_type": "stream",
     "text": [
      "Processing page 612: 100%|██████████| 6/6 [00:06<00:00,  1.02s/it]\n"
     ]
    },
    {
     "name": "stdout",
     "output_type": "stream",
     "text": [
      "Can't get connection to https://ivie.vn/cong-dong?page=617! Try again in 3 seconds.\n"
     ]
    },
    {
     "name": "stderr",
     "output_type": "stream",
     "text": []
    },
    {
     "name": "stdout",
     "output_type": "stream",
     "text": [
      "Can't get connection to https://ivie.vn/cong-dong?page=618! Try again in 3 seconds.\n"
     ]
    },
    {
     "name": "stderr",
     "output_type": "stream",
     "text": [
      "Processing page 613: 100%|██████████| 8/8 [00:08<00:00,  1.02s/it]\n",
      "Processing page 619: : 0it [00:00, ?it/s]\n"
     ]
    },
    {
     "name": "stdout",
     "output_type": "stream",
     "text": [
      "Can't get connection to https://ivie.vn/cong-dong?page=616! Try again in 3 seconds.\n"
     ]
    },
    {
     "name": "stderr",
     "output_type": "stream",
     "text": [
      "Processing page 620: : 0it [00:00, ?it/s]\n",
      "Processing page 617:  38%|███▊      | 3/8 [00:03<00:05,  1.05s/it]"
     ]
    },
    {
     "name": "stdout",
     "output_type": "stream",
     "text": [
      "Can't get connection to https://ivie.vn/cong-dong?page=621! Try again in 3 seconds.\n"
     ]
    },
    {
     "name": "stderr",
     "output_type": "stream",
     "text": [
      "Processing page 618: 100%|██████████| 6/6 [00:06<00:00,  1.00s/it]\n",
      "Processing page 617: 100%|██████████| 8/8 [00:08<00:00,  1.02s/it]\n",
      "Processing page 622: : 0it [00:00, ?it/s] [00:00<00:04,  1.02it/s]\n",
      "Processing page 616: 100%|██████████| 6/6 [00:07<00:00,  1.18s/it]\n"
     ]
    },
    {
     "name": "stdout",
     "output_type": "stream",
     "text": [
      "Can't get connection to https://ivie.vn/cong-dong?page=623! Try again in 3 seconds.\n",
      "Can't get connection to https://ivie.vn/cong-dong?page=624! Try again in 3 seconds.\n",
      "Can't get connection to https://ivie.vn/cong-dong?page=621! Try again in 3 seconds.\n",
      "Can't get connection to https://ivie.vn/cong-dong?page=625! Try again in 3 seconds.\n"
     ]
    },
    {
     "name": "stderr",
     "output_type": "stream",
     "text": [
      "Processing page 626:  71%|███████▏  | 5/7 [00:05<00:02,  1.05s/it]"
     ]
    },
    {
     "name": "stdout",
     "output_type": "stream",
     "text": [
      "Can't get connection to https://ivie.vn/cong-dong?page=624! Try again in 3 seconds.\n"
     ]
    },
    {
     "name": "stderr",
     "output_type": "stream",
     "text": [
      "Processing page 626:  86%|████████▌ | 6/7 [00:06<00:01,  1.04s/it]"
     ]
    },
    {
     "name": "stdout",
     "output_type": "stream",
     "text": [
      "Can't get connection to https://ivie.vn/cong-dong?page=625! Try again in 3 seconds.\n"
     ]
    },
    {
     "name": "stderr",
     "output_type": "stream",
     "text": [
      "Processing page 626: 100%|██████████| 7/7 [00:07<00:00,  1.05s/it]\n",
      "Processing page 623: 100%|██████████| 5/5 [00:05<00:00,  1.13s/it]\n",
      "Processing page 621: 100%|██████████| 7/7 [00:07<00:00,  1.12s/it]\n",
      "Processing page 627: 100%|██████████| 6/6 [00:06<00:00,  1.06s/it]\n",
      "Processing page 625: : 0it [00:00, ?it/s]\n",
      "Processing page 624:  80%|████████  | 4/5 [00:04<00:01,  1.08s/it]"
     ]
    },
    {
     "name": "stdout",
     "output_type": "stream",
     "text": [
      "Can't get connection to https://ivie.vn/cong-dong?page=629! Try again in 3 seconds.\n"
     ]
    },
    {
     "name": "stderr",
     "output_type": "stream",
     "text": [
      "Processing page 624: 100%|██████████| 5/5 [00:05<00:00,  1.08s/it]\n",
      "Processing page 628: 100%|██████████| 8/8 [00:08<00:00,  1.03s/it]\n"
     ]
    },
    {
     "name": "stdout",
     "output_type": "stream",
     "text": [
      "Can't get connection to https://ivie.vn/cong-dong?page=630! Try again in 3 seconds.\n"
     ]
    },
    {
     "name": "stderr",
     "output_type": "stream",
     "text": [
      "Processing page 631:  43%|████▎     | 3/7 [00:03<00:04,  1.03s/it]"
     ]
    },
    {
     "name": "stdout",
     "output_type": "stream",
     "text": [
      "Can't get connection to https://ivie.vn/cong-dong?page=632! Try again in 3 seconds.\n"
     ]
    },
    {
     "name": "stderr",
     "output_type": "stream",
     "text": [
      "Processing page 631: 100%|██████████| 7/7 [00:07<00:00,  1.02s/it]\n"
     ]
    },
    {
     "name": "stdout",
     "output_type": "stream",
     "text": [
      "Can't get connection to https://ivie.vn/cong-dong?page=629! Try again in 3 seconds.\n"
     ]
    },
    {
     "name": "stderr",
     "output_type": "stream",
     "text": [
      "Processing page 633: 100%|██████████| 6/6 [00:06<00:00,  1.06s/it]\n",
      "Processing page 630:  50%|█████     | 3/6 [00:02<00:02,  1.01it/s]"
     ]
    },
    {
     "name": "stdout",
     "output_type": "stream",
     "text": [
      "Can't get connection to https://ivie.vn/cong-dong?page=634! Try again in 3 seconds.\n"
     ]
    },
    {
     "name": "stderr",
     "output_type": "stream",
     "text": [
      "Processing page 630: 100%|██████████| 6/6 [00:06<00:00,  1.02s/it]\n",
      "Processing page 632:  86%|████████▌ | 6/7 [00:05<00:01,  1.01s/it]\n",
      "Processing page 632: 100%|██████████| 7/7 [00:07<00:00,  1.00s/it]\n",
      "\n",
      "\u001b[A\n",
      "Processing page 629: 100%|██████████| 6/6 [00:06<00:00,  1.04s/it]\n",
      "\n",
      "\u001b[A\n",
      "\u001b[A\n",
      "Processing page 635: 100%|██████████| 5/5 [00:05<00:00,  1.02s/it]\n",
      "Processing page 636:  86%|████████▌ | 6/7 [00:06<00:01,  1.01s/it]\n",
      "Processing page 636: 100%|██████████| 7/7 [00:07<00:00,  1.02s/it]\n",
      "Processing page 634: 100%|██████████| 4/4 [00:03<00:00,  1.00it/s]\n",
      "\n",
      "\u001b[A\n",
      "\u001b[A\n",
      "Processing page 638:   0%|          | 0/9 [00:00<?, ?it/s]\n",
      "Processing page 638:  11%|█         | 1/9 [00:00<00:07,  1.03it/s]\n",
      "Processing page 638:  22%|██▏       | 2/9 [00:02<00:07,  1.01s/it]\n",
      "Processing page 638:  33%|███▎      | 3/9 [00:03<00:06,  1.01s/it]\n",
      "Processing page 638:  44%|████▍     | 4/9 [00:03<00:04,  1.01it/s]\n",
      "Processing page 638:  56%|█████▌    | 5/9 [00:04<00:03,  1.01it/s]\n",
      "Processing page 637: 100%|██████████| 9/9 [00:09<00:00,  1.05s/it]\n",
      "Processing page 638:  89%|████████▉ | 8/9 [00:08<00:01,  1.03s/it]"
     ]
    },
    {
     "name": "stdout",
     "output_type": "stream",
     "text": [
      "Can't get connection to https://ivie.vn/cong-dong?page=639! Try again in 3 seconds.\n"
     ]
    },
    {
     "name": "stderr",
     "output_type": "stream",
     "text": [
      "Processing page 638: 100%|██████████| 9/9 [00:09<00:00,  1.01s/it]\n",
      "Processing page 641: 100%|██████████| 5/5 [00:04<00:00,  1.03it/s]\n",
      "Processing page 640: 100%|██████████| 8/8 [00:07<00:00,  1.01it/s]\n",
      "Processing page 642:  50%|█████     | 4/8 [00:04<00:04,  1.01s/it]\n",
      "Processing page 642:  62%|██████▎   | 5/8 [00:05<00:03,  1.03s/it]\n",
      "Processing page 643: 100%|██████████| 4/4 [00:04<00:00,  1.08s/it]\n",
      "\n",
      "Processing page 642:  88%|████████▊ | 7/8 [00:07<00:01,  1.02s/it]\n",
      "Processing page 642: 100%|██████████| 8/8 [00:08<00:00,  1.02s/it]\n",
      "\n",
      "\u001b[A\n",
      "\u001b[A\n",
      "\u001b[A\n",
      "\u001b[A"
     ]
    },
    {
     "name": "stdout",
     "output_type": "stream",
     "text": [
      "Can't get connection to https://ivie.vn/cong-dong?page=645! Try again in 3 seconds.\n"
     ]
    },
    {
     "name": "stderr",
     "output_type": "stream",
     "text": [
      "\n",
      "Processing page 639: 100%|██████████| 8/8 [00:07<00:00,  1.06it/s]\n"
     ]
    },
    {
     "name": "stdout",
     "output_type": "stream",
     "text": [
      "Can't get connection to https://ivie.vn/cong-dong?page=644! Try again in 3 seconds.\n"
     ]
    },
    {
     "name": "stderr",
     "output_type": "stream",
     "text": [
      "Processing page 646:  75%|███████▌  | 6/8 [00:06<00:02,  1.04s/it]\n",
      "Processing page 647: 100%|██████████| 4/4 [00:04<00:00,  1.07s/it]\n",
      "Processing page 646: 100%|██████████| 8/8 [00:08<00:00,  1.04s/it]\n",
      "\n",
      "\u001b[A\n",
      "\u001b[A\n",
      "\u001b[A\n",
      "Processing page 645:   0%|          | 0/4 [00:00<?, ?it/s]\n",
      "Processing page 648: 100%|██████████| 5/5 [00:05<00:00,  1.07s/it]\n",
      "Processing page 645: 100%|██████████| 4/4 [00:03<00:00,  1.11it/s]\n"
     ]
    },
    {
     "name": "stdout",
     "output_type": "stream",
     "text": [
      "Can't get connection to https://ivie.vn/cong-dong?page=649! Try again in 3 seconds.\n",
      "Can't get connection to https://ivie.vn/cong-dong?page=650! Try again in 3 seconds.\n"
     ]
    },
    {
     "name": "stderr",
     "output_type": "stream",
     "text": [
      "Processing page 644: 100%|██████████| 8/8 [00:12<00:00,  1.55s/it]\n",
      "Processing page 651: 100%|██████████| 5/5 [00:05<00:00,  1.01s/it]\n",
      "\n"
     ]
    },
    {
     "name": "stdout",
     "output_type": "stream",
     "text": [
      "Can't get connection to https://ivie.vn/cong-dong?page=653! Try again in 3 seconds.\n"
     ]
    },
    {
     "name": "stderr",
     "output_type": "stream",
     "text": [
      "Processing page 652: 100%|██████████| 8/8 [00:08<00:00,  1.11s/it]\u001b[A\n",
      "Processing page 650:  17%|█▋        | 1/6 [00:01<00:05,  1.06s/it]"
     ]
    },
    {
     "name": "stdout",
     "output_type": "stream",
     "text": [
      "Can't get connection to https://ivie.vn/cong-dong?page=649! Try again in 3 seconds.\n"
     ]
    },
    {
     "name": "stderr",
     "output_type": "stream",
     "text": [
      "Processing page 650: 100%|██████████| 6/6 [00:08<00:00,  1.46s/it]\n",
      "Processing page 654: 100%|██████████| 9/9 [00:09<00:00,  1.05s/it]\n",
      "Processing page 655: 100%|██████████| 5/5 [00:04<00:00,  1.00it/s]\n",
      "Processing page 653: 100%|██████████| 5/5 [00:05<00:00,  1.01s/it]\n",
      "Processing page 649:  38%|███▊      | 3/8 [00:03<00:05,  1.03s/it]\n",
      "Processing page 649:  50%|█████     | 4/8 [00:04<00:04,  1.08s/it]\n",
      "Processing page 649:  62%|██████▎   | 5/8 [00:05<00:03,  1.07s/it]\n",
      "Processing page 656: 100%|██████████| 6/6 [00:06<00:00,  1.07s/it]\n",
      "\n",
      "Processing page 649:  88%|████████▊ | 7/8 [00:07<00:01,  1.05s/it]\n",
      "Processing page 649: 100%|██████████| 8/8 [00:08<00:00,  1.05s/it]\n",
      "\n",
      "Processing page 658:   0%|          | 0/7 [00:00<?, ?it/s]\n",
      "Processing page 658:  14%|█▍        | 1/7 [00:01<00:06,  1.01s/it]\n",
      "Processing page 658:  29%|██▊       | 2/7 [00:01<00:04,  1.04it/s]\n",
      "Processing page 658:  43%|████▎     | 3/7 [00:02<00:03,  1.04it/s]"
     ]
    },
    {
     "name": "stdout",
     "output_type": "stream",
     "text": [
      "Can't get connection to https://ivie.vn/cong-dong?page=659! Try again in 3 seconds.\n"
     ]
    },
    {
     "name": "stderr",
     "output_type": "stream",
     "text": [
      "\n",
      "Processing page 658:  57%|█████▋    | 4/7 [00:03<00:02,  1.03it/s]\n",
      "Processing page 657: 100%|██████████| 10/10 [00:10<00:00,  1.01s/it]\n",
      "Processing page 658: 100%|██████████| 7/7 [00:06<00:00,  1.03it/s]\n"
     ]
    },
    {
     "name": "stdout",
     "output_type": "stream",
     "text": [
      "Can't get connection to https://ivie.vn/cong-dong?page=660! Try again in 3 seconds.\n",
      "Can't get connection to https://ivie.vn/cong-dong?page=661! Try again in 3 seconds.\n"
     ]
    },
    {
     "name": "stderr",
     "output_type": "stream",
     "text": [
      "Processing page 662:  38%|███▊      | 3/8 [00:05<00:08,  1.79s/it]"
     ]
    },
    {
     "name": "stdout",
     "output_type": "stream",
     "text": [
      "Can't get connection to https://ivie.vn/cong-dong?page=663! Try again in 3 seconds.\n"
     ]
    },
    {
     "name": "stderr",
     "output_type": "stream",
     "text": [
      "Processing page 662:  88%|████████▊ | 7/8 [00:09<00:01,  1.14s/it]"
     ]
    },
    {
     "name": "stdout",
     "output_type": "stream",
     "text": [
      "Can't get connection to https://ivie.vn/cong-dong?page=659! Try again in 3 seconds.\n"
     ]
    },
    {
     "name": "stderr",
     "output_type": "stream",
     "text": [
      "Processing page 662: 100%|██████████| 8/8 [00:10<00:00,  1.26s/it]\n",
      "Processing page 660:  33%|███▎      | 2/6 [00:02<00:04,  1.07s/it]"
     ]
    },
    {
     "name": "stdout",
     "output_type": "stream",
     "text": [
      "Can't get connection to https://ivie.vn/cong-dong?page=661! Try again in 3 seconds.\n"
     ]
    },
    {
     "name": "stderr",
     "output_type": "stream",
     "text": [
      "Processing page 660: 100%|██████████| 6/6 [00:06<00:00,  1.13s/it]\n",
      "Processing page 663:  40%|████      | 2/5 [00:02<00:03,  1.08s/it]"
     ]
    },
    {
     "name": "stdout",
     "output_type": "stream",
     "text": [
      "Can't get connection to https://ivie.vn/cong-dong?page=659! Try again in 3 seconds.\n"
     ]
    },
    {
     "name": "stderr",
     "output_type": "stream",
     "text": [
      "Processing page 663: 100%|██████████| 5/5 [00:05<00:00,  1.08s/it]\n"
     ]
    },
    {
     "name": "stdout",
     "output_type": "stream",
     "text": [
      "Can't get connection to https://ivie.vn/cong-dong?page=664! Try again in 3 seconds.\n",
      "Can't get connection to https://ivie.vn/cong-dong?page=661! Try again in 3 seconds.\n"
     ]
    },
    {
     "name": "stderr",
     "output_type": "stream",
     "text": [
      "Processing page 665: 100%|██████████| 4/4 [00:04<00:00,  1.13s/it]\n",
      "Processing page 666: : 0it [00:00, ?it/s]\n",
      "Processing page 659: : 0it [00:00, ?it/s]\n"
     ]
    },
    {
     "name": "stdout",
     "output_type": "stream",
     "text": [
      "Can't get connection to https://ivie.vn/cong-dong?page=664! Try again in 3 seconds.\n"
     ]
    },
    {
     "name": "stderr",
     "output_type": "stream",
     "text": [
      "Processing page 667:  33%|███▎      | 3/9 [00:05<00:11,  1.85s/it]"
     ]
    },
    {
     "name": "stdout",
     "output_type": "stream",
     "text": [
      "Can't get connection to https://ivie.vn/cong-dong?page=661! Try again in 3 seconds.\n"
     ]
    },
    {
     "name": "stderr",
     "output_type": "stream",
     "text": [
      "Processing page 667:  44%|████▍     | 4/9 [00:06<00:07,  1.51s/it]"
     ]
    },
    {
     "name": "stdout",
     "output_type": "stream",
     "text": [
      "Can't get connection to https://ivie.vn/cong-dong?page=669! Try again in 3 seconds.\n"
     ]
    },
    {
     "name": "stderr",
     "output_type": "stream",
     "text": [
      "Processing page 668: : 0it [00:00, ?it/s] [00:09<00:02,  1.12s/it]\n",
      "Processing page 667: 100%|██████████| 9/9 [00:11<00:00,  1.30s/it]\n",
      "Processing page 664: 100%|██████████| 4/4 [00:05<00:00,  1.46s/it]\n"
     ]
    },
    {
     "name": "stdout",
     "output_type": "stream",
     "text": [
      "Can't get connection to https://ivie.vn/cong-dong?page=670! Try again in 3 seconds.\n",
      "Can't get connection to https://ivie.vn/cong-dong?page=661! Try again in 3 seconds.\n"
     ]
    },
    {
     "name": "stderr",
     "output_type": "stream",
     "text": [
      "Processing page 671: 100%|██████████| 7/7 [00:07<00:00,  1.09s/it]\n",
      "Processing page 672:  83%|████████▎ | 5/6 [00:05<00:01,  1.01s/it]"
     ]
    },
    {
     "name": "stdout",
     "output_type": "stream",
     "text": [
      "Can't get connection to https://ivie.vn/cong-dong?page=670! Try again in 3 seconds.\n"
     ]
    },
    {
     "name": "stderr",
     "output_type": "stream",
     "text": [
      "Processing page 672: 100%|██████████| 6/6 [00:06<00:00,  1.01s/it]\n",
      "Processing page 661: 100%|██████████| 8/8 [00:08<00:00,  1.01s/it]\n",
      "Processing page 674:  12%|█▎        | 1/8 [00:01<00:07,  1.03s/it]"
     ]
    },
    {
     "name": "stdout",
     "output_type": "stream",
     "text": [
      "Can't get connection to https://ivie.vn/cong-dong?page=673! Try again in 3 seconds.\n"
     ]
    },
    {
     "name": "stderr",
     "output_type": "stream",
     "text": [
      "Processing page 674:  75%|███████▌  | 6/8 [00:06<00:01,  1.01it/s]\n",
      "Processing page 674:  88%|████████▊ | 7/8 [00:07<00:00,  1.02it/s]\n",
      "Processing page 674: 100%|██████████| 8/8 [00:08<00:00,  1.00s/it]\n",
      "\n",
      "\u001b[A\n",
      "Processing page 675:   0%|          | 0/7 [00:00<?, ?it/s]\n",
      "Processing page 675:  14%|█▍        | 1/7 [00:01<00:06,  1.03s/it]\n",
      "Processing page 675:  43%|████▎     | 3/7 [00:02<00:02,  1.34it/s]\n",
      "Processing page 675:  57%|█████▋    | 4/7 [00:03<00:02,  1.16it/s]\n",
      "Processing page 675:  71%|███████▏  | 5/7 [00:04<00:01,  1.07it/s]\n",
      "Processing page 675:  86%|████████▌ | 6/7 [00:05<00:00,  1.04it/s]\n",
      "Processing page 670: 100%|██████████| 9/9 [00:10<00:00,  1.12s/it]\n",
      "Processing page 675: 100%|██████████| 7/7 [00:06<00:00,  1.06it/s]\n"
     ]
    },
    {
     "name": "stdout",
     "output_type": "stream",
     "text": [
      "Can't get connection to https://ivie.vn/cong-dong?page=673! Try again in 3 seconds.\n"
     ]
    },
    {
     "name": "stderr",
     "output_type": "stream",
     "text": [
      "Processing page 669: 100%|██████████| 7/7 [00:26<00:00,  3.86s/it]"
     ]
    },
    {
     "name": "stdout",
     "output_type": "stream",
     "text": [
      "Error with this QA!\n"
     ]
    },
    {
     "name": "stderr",
     "output_type": "stream",
     "text": [
      "\n",
      "Processing page 676:  67%|██████▋   | 4/6 [00:04<00:02,  1.03s/it]"
     ]
    },
    {
     "name": "stdout",
     "output_type": "stream",
     "text": [
      "Can't get connection to https://ivie.vn/cong-dong?page=677! Try again in 3 seconds.\n"
     ]
    },
    {
     "name": "stderr",
     "output_type": "stream",
     "text": [
      "Processing page 676: 100%|██████████| 6/6 [00:06<00:00,  1.01s/it]\n",
      "Processing page 673: 100%|██████████| 7/7 [00:07<00:00,  1.01s/it]\n",
      "Processing page 680:  38%|███▊      | 3/8 [00:03<00:04,  1.01it/s]"
     ]
    },
    {
     "name": "stdout",
     "output_type": "stream",
     "text": [
      "Can't get connection to https://ivie.vn/cong-dong?page=677! Try again in 3 seconds.\n"
     ]
    },
    {
     "name": "stderr",
     "output_type": "stream",
     "text": [
      "Processing page 680:  88%|████████▊ | 7/8 [00:07<00:01,  1.04s/it]"
     ]
    },
    {
     "name": "stdout",
     "output_type": "stream",
     "text": [
      "Can't get connection to https://ivie.vn/cong-dong?page=679! Try again in 3 seconds.\n"
     ]
    },
    {
     "name": "stderr",
     "output_type": "stream",
     "text": [
      "Processing page 680: 100%|██████████| 8/8 [00:08<00:00,  1.03s/it]\n",
      "Processing page 678: 100%|██████████| 8/8 [00:08<00:00,  1.06s/it]\n",
      "Processing page 681: 100%|██████████| 6/6 [00:06<00:00,  1.01s/it]\n"
     ]
    },
    {
     "name": "stdout",
     "output_type": "stream",
     "text": [
      "Can't get connection to https://ivie.vn/cong-dong?page=682! Try again in 3 seconds.\n",
      "Can't get connection to https://ivie.vn/cong-dong?page=677! Try again in 3 seconds.\n",
      "Can't get connection to https://ivie.vn/cong-dong?page=679! Try again in 3 seconds.\n",
      "Can't get connection to https://ivie.vn/cong-dong?page=683! Try again in 3 seconds.\n",
      "Can't get connection to https://ivie.vn/cong-dong?page=684! Try again in 3 seconds.\n",
      "Can't get connection to https://ivie.vn/cong-dong?page=677! Try again in 3 seconds.\n"
     ]
    },
    {
     "name": "stderr",
     "output_type": "stream",
     "text": [
      "Processing page 682:  50%|█████     | 4/8 [00:04<00:04,  1.14s/it]"
     ]
    },
    {
     "name": "stdout",
     "output_type": "stream",
     "text": [
      "Can't get connection to https://ivie.vn/cong-dong?page=679! Try again in 3 seconds.\n"
     ]
    },
    {
     "name": "stderr",
     "output_type": "stream",
     "text": [
      "Processing page 682: 100%|██████████| 8/8 [00:08<00:00,  1.10s/it]\n"
     ]
    },
    {
     "name": "stdout",
     "output_type": "stream",
     "text": [
      "Can't get connection to https://ivie.vn/cong-dong?page=684! Try again in 3 seconds.\n"
     ]
    },
    {
     "name": "stderr",
     "output_type": "stream",
     "text": [
      "Processing page 683: 100%|██████████| 8/8 [00:08<00:00,  1.00s/it]\n",
      "Processing page 685: : 0it [00:00, ?it/s] [00:03<00:10,  1.72s/it]\n",
      "Processing page 677: 100%|██████████| 8/8 [00:09<00:00,  1.25s/it]\n",
      "Processing page 679: 100%|██████████| 6/6 [00:06<00:00,  1.13s/it]\n",
      "Processing page 686: : 0it [00:00, ?it/s]\n"
     ]
    },
    {
     "name": "stdout",
     "output_type": "stream",
     "text": [
      "Can't get connection to https://ivie.vn/cong-dong?page=684! Try again in 3 seconds.\n"
     ]
    },
    {
     "name": "stderr",
     "output_type": "stream",
     "text": [
      "Processing page 687:  78%|███████▊  | 7/9 [00:06<00:01,  1.13it/s]"
     ]
    },
    {
     "name": "stdout",
     "output_type": "stream",
     "text": [
      "Can't get connection to https://ivie.vn/cong-dong?page=689! Try again in 3 seconds.\n"
     ]
    },
    {
     "name": "stderr",
     "output_type": "stream",
     "text": [
      "Processing page 687: 100%|██████████| 9/9 [00:08<00:00,  1.04it/s]\n",
      "Processing page 688: 100%|██████████| 7/7 [00:07<00:00,  1.05s/it]\n",
      "Processing page 690: 100%|██████████| 5/5 [00:04<00:00,  1.09it/s]\n"
     ]
    },
    {
     "name": "stdout",
     "output_type": "stream",
     "text": [
      "Can't get connection to https://ivie.vn/cong-dong?page=684! Try again in 3 seconds.\n",
      "Can't get connection to https://ivie.vn/cong-dong?page=691! Try again in 3 seconds.\n"
     ]
    },
    {
     "name": "stderr",
     "output_type": "stream",
     "text": [
      "Processing page 689: 100%|██████████| 8/8 [00:08<00:00,  1.01s/it]\n"
     ]
    },
    {
     "name": "stdout",
     "output_type": "stream",
     "text": [
      "Can't get connection to https://ivie.vn/cong-dong?page=692! Try again in 3 seconds.\n"
     ]
    },
    {
     "name": "stderr",
     "output_type": "stream",
     "text": [
      "Processing page 684:  17%|█▋        | 1/6 [00:00<00:04,  1.00it/s]"
     ]
    },
    {
     "name": "stdout",
     "output_type": "stream",
     "text": [
      "Can't get connection to https://ivie.vn/cong-dong?page=693! Try again in 3 seconds.\n"
     ]
    },
    {
     "name": "stderr",
     "output_type": "stream",
     "text": [
      "Processing page 684: 100%|██████████| 6/6 [00:06<00:00,  1.01s/it]\n"
     ]
    },
    {
     "name": "stdout",
     "output_type": "stream",
     "text": [
      "Can't get connection to https://ivie.vn/cong-dong?page=694! Try again in 3 seconds.\n"
     ]
    },
    {
     "name": "stderr",
     "output_type": "stream",
     "text": [
      "Processing page 691: 100%|██████████| 7/7 [00:07<00:00,  1.03s/it]\n",
      "Processing page 692:  83%|████████▎ | 5/6 [00:04<00:00,  1.22it/s]\n",
      "Processing page 695: : 0it [00:00, ?it/s]\n",
      "Processing page 692: 100%|██████████| 6/6 [00:05<00:00,  1.09it/s]\n",
      "Processing page 693: 100%|██████████| 6/6 [00:06<00:00,  1.07s/it]\n",
      "Processing page 694: : 0it [00:00, ?it/s] [00:03<00:06,  1.04s/it]\n",
      "Processing page 696:  67%|██████▋   | 6/9 [00:06<00:02,  1.00it/s]\n"
     ]
    },
    {
     "name": "stdout",
     "output_type": "stream",
     "text": [
      "Can't get connection to https://ivie.vn/cong-dong?page=699! Try again in 3 seconds.\n"
     ]
    },
    {
     "name": "stderr",
     "output_type": "stream",
     "text": [
      "Processing page 697:  44%|████▍     | 4/9 [00:04<00:05,  1.05s/it]\u001b[A"
     ]
    },
    {
     "name": "stdout",
     "output_type": "stream",
     "text": [
      "Can't get connection to https://ivie.vn/cong-dong?page=698! Try again in 3 seconds.\n"
     ]
    },
    {
     "name": "stderr",
     "output_type": "stream",
     "text": [
      "\n",
      "Processing page 696:  78%|███████▊  | 7/9 [00:27<00:15,  7.55s/it]"
     ]
    },
    {
     "name": "stdout",
     "output_type": "stream",
     "text": [
      "Error with this QA!\n"
     ]
    },
    {
     "name": "stderr",
     "output_type": "stream",
     "text": [
      "Processing page 696:  89%|████████▉ | 8/9 [00:28<00:05,  5.47s/it]\n",
      "\n",
      "Processing page 696: 100%|██████████| 9/9 [00:29<00:00,  3.24s/it]\n",
      "\n",
      "\n",
      "\u001b[A\u001b[A\n",
      "\n",
      "\u001b[A\u001b[A"
     ]
    },
    {
     "name": "stdout",
     "output_type": "stream",
     "text": [
      "Can't get connection to https://ivie.vn/cong-dong?page=699! Try again in 3 seconds.\n"
     ]
    },
    {
     "name": "stderr",
     "output_type": "stream",
     "text": [
      "\n",
      "\n",
      "\u001b[A\u001b[A\n",
      "\n",
      "Processing page 698: 100%|██████████| 4/4 [00:04<00:00,  1.02s/it]\n"
     ]
    },
    {
     "name": "stdout",
     "output_type": "stream",
     "text": [
      "Error with this QA!\n"
     ]
    },
    {
     "name": "stderr",
     "output_type": "stream",
     "text": [
      "Processing page 697: 100%|██████████| 9/9 [00:29<00:00,  3.27s/it]\n",
      "\n",
      "\u001b[A"
     ]
    },
    {
     "name": "stdout",
     "output_type": "stream",
     "text": [
      "Error with this QA!\n"
     ]
    },
    {
     "name": "stderr",
     "output_type": "stream",
     "text": [
      "\n",
      "\u001b[A\n",
      "\u001b[A\n",
      "\u001b[A\n",
      "\u001b[A\n",
      "Processing page 701:  33%|███▎      | 2/6 [00:02<00:04,  1.10s/it]"
     ]
    },
    {
     "name": "stdout",
     "output_type": "stream",
     "text": [
      "Can't get connection to https://ivie.vn/cong-dong?page=702! Try again in 3 seconds.\n"
     ]
    },
    {
     "name": "stderr",
     "output_type": "stream",
     "text": [
      "Processing page 701:  50%|█████     | 3/6 [00:03<00:04,  1.34s/it]\n",
      "Processing page 700: 100%|██████████| 7/7 [00:31<00:00,  4.55s/it]\n",
      "Processing page 701: 100%|██████████| 6/6 [00:06<00:00,  1.16s/it]\n",
      "Processing page 703: : 0it [00:00, ?it/s] [00:01<00:01,  1.02s/it]\n",
      "Processing page 699: 100%|██████████| 2/2 [00:02<00:00,  1.01s/it]\n",
      "Processing page 702: : 0it [00:00, ?it/s] [00:04<00:02,  1.24s/it]\n",
      "Processing page 704: 100%|██████████| 6/6 [00:07<00:00,  1.18s/it]\n"
     ]
    },
    {
     "name": "stdout",
     "output_type": "stream",
     "text": [
      "Can't get connection to https://ivie.vn/cong-dong?page=707! Try again in 3 seconds.\n"
     ]
    },
    {
     "name": "stderr",
     "output_type": "stream",
     "text": [
      "Processing page 706: 100%|██████████| 2/2 [00:01<00:00,  1.29it/s]\n",
      "Processing page 705:  89%|████████▉ | 8/9 [00:08<00:01,  1.07s/it]\n",
      "Processing page 705: 100%|██████████| 9/9 [00:09<00:00,  1.06s/it]\n",
      "\n",
      "Processing page 708: 100%|██████████| 6/6 [00:06<00:00,  1.02s/it]\n",
      "\n",
      "\u001b[A\n",
      "\u001b[A"
     ]
    },
    {
     "name": "stdout",
     "output_type": "stream",
     "text": [
      "Can't get connection to https://ivie.vn/cong-dong?page=710! Try again in 3 seconds.\n"
     ]
    },
    {
     "name": "stderr",
     "output_type": "stream",
     "text": [
      "\n",
      "\u001b[A\n",
      "\u001b[A\n",
      "\u001b[A\n",
      "Processing page 707: : 0it [00:00, ?it/s]\n",
      "\n",
      "Processing page 709: 100%|██████████| 8/8 [00:08<00:00,  1.04s/it]\n"
     ]
    },
    {
     "name": "stdout",
     "output_type": "stream",
     "text": [
      "Can't get connection to https://ivie.vn/cong-dong?page=711! Try again in 3 seconds.\n",
      "Can't get connection to https://ivie.vn/cong-dong?page=712! Try again in 3 seconds.\n"
     ]
    },
    {
     "name": "stderr",
     "output_type": "stream",
     "text": [
      "Processing page 713:  71%|███████▏  | 5/7 [00:04<00:01,  1.17it/s]"
     ]
    },
    {
     "name": "stdout",
     "output_type": "stream",
     "text": [
      "Can't get connection to https://ivie.vn/cong-dong?page=714! Try again in 3 seconds.\n"
     ]
    },
    {
     "name": "stderr",
     "output_type": "stream",
     "text": [
      "Processing page 713: 100%|██████████| 7/7 [00:06<00:00,  1.03it/s]\n",
      "Processing page 710: 100%|██████████| 8/8 [00:07<00:00,  1.02it/s]\n",
      "Processing page 711:   0%|          | 0/8 [00:00<?, ?it/s]"
     ]
    },
    {
     "name": "stdout",
     "output_type": "stream",
     "text": [
      "Can't get connection to https://ivie.vn/cong-dong?page=712! Try again in 3 seconds.\n"
     ]
    },
    {
     "name": "stderr",
     "output_type": "stream",
     "text": [
      "Processing page 711: 100%|██████████| 8/8 [00:08<00:00,  1.02s/it]\n",
      "Processing page 715:   0%|          | 0/8 [00:00<?, ?it/s]"
     ]
    },
    {
     "name": "stdout",
     "output_type": "stream",
     "text": [
      "Can't get connection to https://ivie.vn/cong-dong?page=714! Try again in 3 seconds.\n"
     ]
    },
    {
     "name": "stderr",
     "output_type": "stream",
     "text": [
      "Processing page 715: 100%|██████████| 8/8 [00:08<00:00,  1.04s/it]\n"
     ]
    },
    {
     "name": "stdout",
     "output_type": "stream",
     "text": [
      "Can't get connection to https://ivie.vn/cong-dong?page=712! Try again in 3 seconds.\n",
      "Can't get connection to https://ivie.vn/cong-dong?page=716! Try again in 3 seconds.\n"
     ]
    },
    {
     "name": "stderr",
     "output_type": "stream",
     "text": [
      "Processing page 717: : 0it [00:00, ?it/s]\n"
     ]
    },
    {
     "name": "stdout",
     "output_type": "stream",
     "text": [
      "Can't get connection to https://ivie.vn/cong-dong?page=718! Try again in 3 seconds.\n"
     ]
    },
    {
     "name": "stderr",
     "output_type": "stream",
     "text": [
      "Processing page 714: 100%|██████████| 7/7 [00:11<00:00,  1.60s/it]\n",
      "Processing page 716:  50%|█████     | 2/4 [00:02<00:02,  1.15s/it]"
     ]
    },
    {
     "name": "stdout",
     "output_type": "stream",
     "text": [
      "Can't get connection to https://ivie.vn/cong-dong?page=712! Try again in 3 seconds.\n"
     ]
    },
    {
     "name": "stderr",
     "output_type": "stream",
     "text": [
      "Processing page 719: 100%|██████████| 5/5 [00:07<00:00,  1.41s/it]\n",
      "Processing page 716: 100%|██████████| 4/4 [00:04<00:00,  1.12s/it]\n",
      "Processing page 720:  86%|████████▌ | 6/7 [00:06<00:01,  1.09s/it]\n",
      "\u001b[A"
     ]
    },
    {
     "name": "stdout",
     "output_type": "stream",
     "text": [
      "Can't get connection to https://ivie.vn/cong-dong?page=722! Try again in 3 seconds.\n"
     ]
    },
    {
     "name": "stderr",
     "output_type": "stream",
     "text": [
      "\n",
      "Processing page 720: 100%|██████████| 7/7 [00:07<00:00,  1.09s/it]\n",
      "\n",
      "\u001b[A\n",
      "\u001b[A\n",
      "Processing page 712:   0%|          | 0/5 [00:00<?, ?it/s]\n",
      "Processing page 712:  20%|██        | 1/5 [00:01<00:04,  1.04s/it]\n",
      "Processing page 712:  40%|████      | 2/5 [00:02<00:03,  1.05s/it]\n",
      "\u001b[A\n",
      "Processing page 712:  60%|██████    | 3/5 [00:03<00:02,  1.41s/it]\n",
      "Processing page 721: 100%|██████████| 9/9 [00:09<00:00,  1.01s/it]\n",
      "Processing page 712: 100%|██████████| 5/5 [00:05<00:00,  1.19s/it]\n",
      "Processing page 723:  10%|█         | 1/10 [00:01<00:09,  1.10s/it]"
     ]
    },
    {
     "name": "stdout",
     "output_type": "stream",
     "text": [
      "Error with this QA!\n"
     ]
    },
    {
     "name": "stderr",
     "output_type": "stream",
     "text": [
      "Processing page 723:  60%|██████    | 6/10 [00:06<00:04,  1.11s/it]\n",
      "Processing page 723:  70%|███████   | 7/10 [00:07<00:03,  1.10s/it]\n",
      "\u001b[A"
     ]
    },
    {
     "name": "stdout",
     "output_type": "stream",
     "text": [
      "Can't get connection to https://ivie.vn/cong-dong?page=724! Try again in 3 seconds.\n"
     ]
    },
    {
     "name": "stderr",
     "output_type": "stream",
     "text": [
      "Processing page 723:  80%|████████  | 8/10 [00:08<00:02,  1.09s/it]\n",
      "\u001b[A\n",
      "Processing page 718: 100%|██████████| 10/10 [00:30<00:00,  3.07s/it]\n",
      "Processing page 723:  90%|█████████ | 9/10 [00:09<00:01,  1.08s/it]\n",
      "Processing page 723: 100%|██████████| 10/10 [00:10<00:00,  1.09s/it]\n",
      "\n",
      "\u001b[A\n",
      "\u001b[A\n",
      "\u001b[A\n",
      "Processing page 722: 100%|██████████| 8/8 [00:07<00:00,  1.00it/s]\n",
      "Processing page 725: 100%|██████████| 8/8 [00:08<00:00,  1.04s/it]\n",
      "Processing page 727:  43%|████▎     | 3/7 [00:02<00:03,  1.07it/s]\n",
      "Processing page 727:  57%|█████▋    | 4/7 [00:03<00:02,  1.05it/s]\n",
      "Processing page 727:  71%|███████▏  | 5/7 [00:04<00:01,  1.05it/s]\n",
      "Processing page 727:  86%|████████▌ | 6/7 [00:05<00:00,  1.01it/s]"
     ]
    },
    {
     "name": "stdout",
     "output_type": "stream",
     "text": [
      "Can't get connection to https://ivie.vn/cong-dong?page=726! Try again in 3 seconds.\n"
     ]
    },
    {
     "name": "stderr",
     "output_type": "stream",
     "text": [
      "\n",
      "Processing page 727: 100%|██████████| 7/7 [00:06<00:00,  1.05it/s]\n",
      "\n",
      "Processing page 729:   0%|          | 0/9 [00:00<?, ?it/s]\n",
      "Processing page 724: 100%|██████████| 7/7 [00:06<00:00,  1.07it/s]\n",
      "\n",
      "Processing page 728: 100%|██████████| 6/6 [00:06<00:00,  1.04s/it]\n",
      "Processing page 729: 100%|██████████| 9/9 [00:09<00:00,  1.06s/it]\n",
      "Processing page 730: : 0it [00:00, ?it/s]\n",
      "Processing page 731: : 0it [00:00, ?it/s] [00:00<?, ?it/s]\n",
      "Processing page 726: 100%|██████████| 7/7 [00:07<00:00,  1.04s/it]\n",
      "Processing page 732: 100%|██████████| 9/9 [00:08<00:00,  1.01it/s]\n",
      "\n",
      "\u001b[A\n",
      "Processing page 733:  50%|█████     | 4/8 [00:08<00:10,  2.65s/it]\n",
      "Processing page 733:  62%|██████▎   | 5/8 [00:09<00:06,  2.08s/it]\n",
      "Processing page 733:  75%|███████▌  | 6/8 [00:10<00:03,  1.73s/it]\n",
      "Processing page 733:  88%|████████▊ | 7/8 [00:11<00:01,  1.50s/it]\n",
      "\u001b[A\n",
      "\n",
      "Processing page 733: 100%|██████████| 8/8 [00:12<00:00,  1.54s/it]\n",
      "\n",
      "Processing page 734: 100%|██████████| 8/8 [00:08<00:00,  1.01s/it]\n",
      "\n",
      "\n",
      "\u001b[A\u001b[A\n",
      "Processing page 735: 100%|██████████| 7/7 [00:07<00:00,  1.03s/it]\n",
      "\n",
      "\n",
      "\u001b[A\u001b[A\n",
      "\n",
      "\u001b[A\u001b[A\n",
      "\n",
      "Processing page 737:   0%|          | 0/8 [00:00<?, ?it/s]\n",
      "\n",
      "Processing page 737:  12%|█▎        | 1/8 [00:01<00:07,  1.09s/it]\n",
      "\n",
      "Processing page 737:  25%|██▌       | 2/8 [00:02<00:07,  1.31s/it]\n",
      "\n",
      "Processing page 736: 100%|██████████| 7/7 [00:07<00:00,  1.05s/it]\n",
      "Processing page 737: 100%|██████████| 8/8 [00:08<00:00,  1.08s/it]\n",
      "Processing page 739:  11%|█         | 1/9 [00:00<00:07,  1.00it/s]\n",
      "Processing page 740: : 0it [00:00, ?it/s]\n",
      "Processing page 739:  89%|████████▉ | 8/9 [00:07<00:00,  1.03it/s]\n",
      "\u001b[A\n",
      "\u001b[A\n",
      "\n",
      "\u001b[A\u001b[A\n",
      "\u001b[A\n",
      "\n",
      "\u001b[A\u001b[A\n",
      "\u001b[A\n",
      "\n",
      "\u001b[A\u001b[A"
     ]
    },
    {
     "name": "stdout",
     "output_type": "stream",
     "text": [
      "Can't get connection to https://ivie.vn/cong-dong?page=743! Try again in 3 seconds.\n"
     ]
    },
    {
     "name": "stderr",
     "output_type": "stream",
     "text": [
      "\n",
      "\u001b[A\n",
      "\n",
      "\u001b[A\u001b[A\n",
      "\u001b[A\n",
      "\n",
      "\u001b[A\u001b[A\n",
      "Processing page 741: 100%|██████████| 6/6 [00:06<00:00,  1.03s/it]\n",
      "\n",
      "\n",
      "\u001b[A\u001b[A\n",
      "\n",
      "\u001b[A\u001b[A\n",
      "\n",
      "Processing page 742: 100%|██████████| 7/7 [00:07<00:00,  1.03s/it]\n"
     ]
    },
    {
     "name": "stdout",
     "output_type": "stream",
     "text": [
      "Error with this QA!\n"
     ]
    },
    {
     "name": "stderr",
     "output_type": "stream",
     "text": [
      "Processing page 738: 100%|██████████| 8/8 [00:28<00:00,  3.53s/it]\n",
      "Processing page 739: 100%|██████████| 9/9 [00:28<00:00,  3.20s/it]"
     ]
    },
    {
     "name": "stdout",
     "output_type": "stream",
     "text": [
      "Error with this QA!\n"
     ]
    },
    {
     "name": "stderr",
     "output_type": "stream",
     "text": [
      "\n",
      "Processing page 743: : 0it [00:00, ?it/s] [00:02<00:07,  1.00s/it]\n",
      "Processing page 745: 100%|██████████| 5/5 [00:05<00:00,  1.06s/it]\n",
      "Processing page 744: 100%|██████████| 9/9 [00:08<00:00,  1.02it/s]\n",
      "Processing page 747: : 0it [00:00, ?it/s] [00:01<00:05,  1.08s/it]\n",
      "Processing page 746: 100%|██████████| 6/6 [00:06<00:00,  1.06s/it]\n",
      "Processing page 748:  71%|███████▏  | 5/7 [00:05<00:01,  1.01it/s]"
     ]
    },
    {
     "name": "stdout",
     "output_type": "stream",
     "text": [
      "Can't get connection to https://ivie.vn/cong-dong?page=749! Try again in 3 seconds.\n"
     ]
    },
    {
     "name": "stderr",
     "output_type": "stream",
     "text": [
      "Processing page 748: 100%|██████████| 7/7 [00:07<00:00,  1.01s/it]\n",
      "Processing page 751:  38%|███▊      | 3/8 [00:03<00:05,  1.10s/it]"
     ]
    },
    {
     "name": "stdout",
     "output_type": "stream",
     "text": [
      "Can't get connection to https://ivie.vn/cong-dong?page=750! Try again in 3 seconds.\n"
     ]
    },
    {
     "name": "stderr",
     "output_type": "stream",
     "text": [
      "Processing page 751: 100%|██████████| 8/8 [00:09<00:00,  1.16s/it]\n",
      "Processing page 752: 100%|██████████| 8/8 [00:08<00:00,  1.10s/it]\n",
      "Processing page 753:  80%|████████  | 4/5 [00:04<00:01,  1.05s/it]"
     ]
    },
    {
     "name": "stdout",
     "output_type": "stream",
     "text": [
      "Can't get connection to https://ivie.vn/cong-dong?page=750! Try again in 3 seconds.\n"
     ]
    },
    {
     "name": "stderr",
     "output_type": "stream",
     "text": [
      "Processing page 753: 100%|██████████| 5/5 [00:05<00:00,  1.06s/it]\n",
      "Processing page 749: 100%|██████████| 7/7 [00:07<00:00,  1.06s/it]\n",
      "Processing page 754: 100%|██████████| 7/7 [00:07<00:00,  1.11s/it]\n",
      "Processing page 756: : 0it [00:00, ?it/s]\n",
      "Processing page 755: 100%|██████████| 9/9 [00:09<00:00,  1.06s/it]\n",
      "Processing page 758: : 0it [00:00, ?it/s] [00:02<00:03,  1.06s/it]\n",
      "Processing page 750:  60%|██████    | 3/5 [00:03<00:02,  1.08s/it]"
     ]
    },
    {
     "name": "stdout",
     "output_type": "stream",
     "text": [
      "Can't get connection to https://ivie.vn/cong-dong?page=757! Try again in 3 seconds.\n"
     ]
    },
    {
     "name": "stderr",
     "output_type": "stream",
     "text": [
      "Processing page 750: 100%|██████████| 5/5 [00:05<00:00,  1.05s/it]\n",
      "Processing page 759: 100%|██████████| 6/6 [00:06<00:00,  1.03s/it]\n"
     ]
    },
    {
     "name": "stdout",
     "output_type": "stream",
     "text": [
      "Can't get connection to https://ivie.vn/cong-dong?page=760! Try again in 3 seconds.\n"
     ]
    },
    {
     "name": "stderr",
     "output_type": "stream",
     "text": [
      "Processing page 761: 100%|██████████| 5/5 [00:04<00:00,  1.02it/s]\n",
      "Processing page 757:  62%|██████▎   | 5/8 [00:09<00:04,  1.40s/it]"
     ]
    },
    {
     "name": "stdout",
     "output_type": "stream",
     "text": [
      "Can't get connection to https://ivie.vn/cong-dong?page=762! Try again in 3 seconds.\n"
     ]
    },
    {
     "name": "stderr",
     "output_type": "stream",
     "text": [
      "Processing page 757: 100%|██████████| 8/8 [00:12<00:00,  1.57s/it]\n",
      "Processing page 763: 100%|██████████| 8/8 [00:08<00:00,  1.05s/it]\n",
      "Processing page 760: 100%|██████████| 7/7 [00:11<00:00,  1.69s/it]\n"
     ]
    },
    {
     "name": "stdout",
     "output_type": "stream",
     "text": [
      "Can't get connection to https://ivie.vn/cong-dong?page=762! Try again in 3 seconds.\n"
     ]
    },
    {
     "name": "stderr",
     "output_type": "stream",
     "text": []
    },
    {
     "name": "stdout",
     "output_type": "stream",
     "text": [
      "Can't get connection to https://ivie.vn/cong-dong?page=765! Try again in 3 seconds.\n"
     ]
    },
    {
     "name": "stderr",
     "output_type": "stream",
     "text": [
      "Processing page 764: 100%|██████████| 8/8 [00:08<00:00,  1.02s/it]\n"
     ]
    },
    {
     "name": "stdout",
     "output_type": "stream",
     "text": [
      "Can't get connection to https://ivie.vn/cong-dong?page=766! Try again in 3 seconds.\n"
     ]
    },
    {
     "name": "stderr",
     "output_type": "stream",
     "text": [
      "Processing page 767:  62%|██████▎   | 5/8 [00:05<00:03,  1.05s/it]"
     ]
    },
    {
     "name": "stdout",
     "output_type": "stream",
     "text": [
      "Can't get connection to https://ivie.vn/cong-dong?page=768! Try again in 3 seconds.\n"
     ]
    },
    {
     "name": "stderr",
     "output_type": "stream",
     "text": [
      "Processing page 767: 100%|██████████| 8/8 [00:08<00:00,  1.07s/it]\n",
      "Processing page 762: : 0it [00:00, ?it/s]\n"
     ]
    },
    {
     "name": "stdout",
     "output_type": "stream",
     "text": [
      "Can't get connection to https://ivie.vn/cong-dong?page=765! Try again in 3 seconds.\n"
     ]
    },
    {
     "name": "stderr",
     "output_type": "stream",
     "text": [
      "Processing page 766: 100%|██████████| 9/9 [00:09<00:00,  1.06s/it]\n",
      "Processing page 769:  38%|███▊      | 3/8 [00:03<00:05,  1.07s/it]\n",
      "Processing page 769:  50%|█████     | 4/8 [00:04<00:04,  1.08s/it]\n",
      "Processing page 769:  62%|██████▎   | 5/8 [00:05<00:03,  1.09s/it]\n",
      "Processing page 769:  75%|███████▌  | 6/8 [00:06<00:02,  1.08s/it]\n",
      "Processing page 769:  88%|████████▊ | 7/8 [00:07<00:01,  1.07s/it]\n",
      "Processing page 769: 100%|██████████| 8/8 [00:08<00:00,  1.07s/it]\n",
      "\n",
      "Processing page 765:   0%|          | 0/7 [00:00<?, ?it/s]\n",
      "Processing page 765:  14%|█▍        | 1/7 [00:01<00:06,  1.06s/it]\n",
      "Processing page 765:  29%|██▊       | 2/7 [00:02<00:05,  1.06s/it]\n",
      "Processing page 768: 100%|██████████| 8/8 [00:08<00:00,  1.05s/it]\n",
      "Processing page 770: 100%|██████████| 8/8 [00:08<00:00,  1.08s/it]\n",
      "Processing page 765: 100%|██████████| 7/7 [00:07<00:00,  1.10s/it]\n",
      "Processing page 772: : 0it [00:00, ?it/s]\n",
      "Processing page 771: 100%|██████████| 10/10 [00:10<00:00,  1.09s/it]\n"
     ]
    },
    {
     "name": "stdout",
     "output_type": "stream",
     "text": [
      "Can't get connection to https://ivie.vn/cong-dong?page=774! Try again in 3 seconds.\n",
      "Can't get connection to https://ivie.vn/cong-dong?page=773! Try again in 3 seconds.\n"
     ]
    },
    {
     "name": "stderr",
     "output_type": "stream",
     "text": [
      "Processing page 775: : 0it [00:00, ?it/s]\n",
      "Processing page 776: 100%|██████████| 5/5 [00:05<00:00,  1.18s/it]\n",
      "Processing page 777: 100%|██████████| 7/7 [00:08<00:00,  1.18s/it]\n",
      "Processing page 773:  17%|█▋        | 1/6 [00:01<00:05,  1.06s/it]\n",
      "Processing page 774: : 0it [00:00, ?it/s]\n",
      "Processing page 778: 100%|██████████| 5/5 [00:05<00:00,  1.04s/it]\n",
      "Processing page 773: 100%|██████████| 6/6 [00:06<00:00,  1.05s/it]\n"
     ]
    },
    {
     "name": "stdout",
     "output_type": "stream",
     "text": [
      "Can't get connection to https://ivie.vn/cong-dong?page=779! Try again in 3 seconds.\n",
      "Can't get connection to https://ivie.vn/cong-dong?page=780! Try again in 3 seconds.\n",
      "Can't get connection to https://ivie.vn/cong-dong?page=781! Try again in 3 seconds.\n"
     ]
    },
    {
     "name": "stderr",
     "output_type": "stream",
     "text": [
      "Processing page 783:   0%|          | 0/6 [00:00<?, ?it/s]"
     ]
    },
    {
     "name": "stdout",
     "output_type": "stream",
     "text": [
      "Can't get connection to https://ivie.vn/cong-dong?page=779! Try again in 3 seconds.\n"
     ]
    },
    {
     "name": "stderr",
     "output_type": "stream",
     "text": [
      "\n",
      "\u001b[A\n",
      "\u001b[A\n",
      "Processing page 783:  17%|█▋        | 1/6 [00:21<01:45, 21.04s/it]"
     ]
    },
    {
     "name": "stdout",
     "output_type": "stream",
     "text": [
      "Error with this QA!\n"
     ]
    },
    {
     "name": "stderr",
     "output_type": "stream",
     "text": [
      "\n",
      "Processing page 783:  33%|███▎      | 2/6 [00:22<00:36,  9.23s/it]\n",
      "Processing page 783:  50%|█████     | 3/6 [00:23<00:16,  5.52s/it]\n",
      "\n",
      "\u001b[A\u001b[A\n",
      "Processing page 783:  67%|██████▋   | 4/6 [00:24<00:07,  3.89s/it]\n",
      "\n",
      "\u001b[A\u001b[A\n",
      "Processing page 782: 100%|██████████| 6/6 [00:06<00:00,  1.12s/it]\n",
      "Processing page 780: 100%|██████████| 7/7 [00:08<00:00,  1.17s/it]\n",
      "\n",
      "\n",
      "Processing page 783: 100%|██████████| 6/6 [00:26<00:00,  4.45s/it]\n",
      "\n",
      "\n",
      "\u001b[A\u001b[A\n",
      "\n",
      "\u001b[A\u001b[A\n",
      "\n",
      "\u001b[A\u001b[A\n",
      "\n",
      "\u001b[A\u001b[A\n",
      "\n",
      "\u001b[A\u001b[A\n",
      "\n",
      "Processing page 781: 100%|██████████| 8/8 [00:08<00:00,  1.04s/it]\n",
      "Processing page 779:  86%|████████▌ | 6/7 [00:06<00:01,  1.05s/it]"
     ]
    },
    {
     "name": "stdout",
     "output_type": "stream",
     "text": [
      "Can't get connection to https://ivie.vn/cong-dong?page=785! Try again in 3 seconds.\n"
     ]
    },
    {
     "name": "stderr",
     "output_type": "stream",
     "text": [
      "Processing page 779: 100%|██████████| 7/7 [00:07<00:00,  1.06s/it]\n",
      "Processing page 784: 100%|██████████| 6/6 [00:06<00:00,  1.02s/it]\n"
     ]
    },
    {
     "name": "stdout",
     "output_type": "stream",
     "text": [
      "Can't get connection to https://ivie.vn/cong-dong?page=786! Try again in 3 seconds.\n"
     ]
    },
    {
     "name": "stderr",
     "output_type": "stream",
     "text": [
      "Processing page 787: 100%|██████████| 8/8 [00:08<00:00,  1.04s/it]\n",
      "Processing page 788: 100%|██████████| 9/9 [00:09<00:00,  1.05s/it]\n",
      "Processing page 789: 100%|██████████| 4/4 [00:04<00:00,  1.10s/it]\n",
      "Processing page 785: 100%|██████████| 4/4 [00:04<00:00,  1.11s/it]\n",
      "Processing page 790:  80%|████████  | 8/10 [00:08<00:02,  1.02s/it]\n",
      "Processing page 790:  90%|█████████ | 9/10 [00:09<00:01,  1.00s/it]\n",
      "Processing page 790: 100%|██████████| 10/10 [00:10<00:00,  1.02s/it]"
     ]
    },
    {
     "name": "stdout",
     "output_type": "stream",
     "text": [
      "Can't get connection to https://ivie.vn/cong-dong?page=792! Try again in 3 seconds.\n"
     ]
    },
    {
     "name": "stderr",
     "output_type": "stream",
     "text": [
      "\n",
      "\n",
      "\u001b[A\n",
      "\u001b[A\n",
      "Processing page 793:   0%|          | 0/6 [00:00<?, ?it/s]\n",
      "Processing page 793:  17%|█▋        | 1/6 [00:00<00:04,  1.02it/s]\n",
      "Processing page 791: 100%|██████████| 6/6 [00:06<00:00,  1.05s/it]\n",
      "Processing page 793:  33%|███▎      | 2/6 [00:02<00:04,  1.04s/it]"
     ]
    },
    {
     "name": "stdout",
     "output_type": "stream",
     "text": [
      "Error with this QA!\n"
     ]
    },
    {
     "name": "stderr",
     "output_type": "stream",
     "text": [
      "Processing page 793: 100%|██████████| 6/6 [00:06<00:00,  1.03s/it]\n",
      "Processing page 786: 100%|██████████| 9/9 [00:29<00:00,  3.27s/it]\n",
      "Processing page 794:  80%|████████  | 8/10 [00:08<00:02,  1.02s/it]"
     ]
    },
    {
     "name": "stdout",
     "output_type": "stream",
     "text": [
      "Can't get connection to https://ivie.vn/cong-dong?page=796! Try again in 3 seconds.\n"
     ]
    },
    {
     "name": "stderr",
     "output_type": "stream",
     "text": [
      "Processing page 794:  90%|█████████ | 9/10 [00:09<00:01,  1.02s/it]\n",
      "\u001b[A"
     ]
    },
    {
     "name": "stdout",
     "output_type": "stream",
     "text": [
      "Can't get connection to https://ivie.vn/cong-dong?page=797! Try again in 3 seconds.\n"
     ]
    },
    {
     "name": "stderr",
     "output_type": "stream",
     "text": [
      "\n",
      "\u001b[A\n",
      "\u001b[A\n",
      "\u001b[A\n",
      "Processing page 795: 100%|██████████| 4/4 [00:04<00:00,  1.00s/it]\n"
     ]
    },
    {
     "name": "stdout",
     "output_type": "stream",
     "text": [
      "Error with this QA!\n",
      "Can't get connection to https://ivie.vn/cong-dong?page=796! Try again in 3 seconds.\n"
     ]
    },
    {
     "name": "stderr",
     "output_type": "stream",
     "text": [
      "Processing page 794: 100%|██████████| 10/10 [00:30<00:00,  3.03s/it]"
     ]
    },
    {
     "name": "stdout",
     "output_type": "stream",
     "text": [
      "Error with this QA!\n"
     ]
    },
    {
     "name": "stderr",
     "output_type": "stream",
     "text": [
      "\n",
      "Processing page 792: 100%|██████████| 7/7 [00:27<00:00,  3.90s/it]\n",
      "Processing page 798: 100%|██████████| 10/10 [00:10<00:00,  1.07s/it]\n",
      "Processing page 797: 100%|██████████| 8/8 [00:08<00:00,  1.06s/it]\n",
      "Processing page 799: : 0it [00:00, ?it/s]\n",
      "Processing page 800: 100%|██████████| 6/6 [00:06<00:00,  1.09s/it]\n",
      "Processing page 796: 100%|██████████| 9/9 [00:09<00:00,  1.05s/it]\n",
      "Processing page 801:  40%|████      | 2/5 [00:01<00:02,  1.02it/s]"
     ]
    },
    {
     "name": "stdout",
     "output_type": "stream",
     "text": [
      "Can't get connection to https://ivie.vn/cong-dong?page=803! Try again in 3 seconds.\n"
     ]
    },
    {
     "name": "stderr",
     "output_type": "stream",
     "text": [
      "Processing page 801: 100%|██████████| 5/5 [00:04<00:00,  1.01it/s]\n",
      "Processing page 802: 100%|██████████| 6/6 [00:06<00:00,  1.01s/it]\n",
      "Processing page 804: 100%|██████████| 9/9 [00:09<00:00,  1.04s/it]\n",
      "Processing page 806: : 0it [00:00, ?it/s]\n",
      "Processing page 805: 100%|██████████| 9/9 [00:09<00:00,  1.04s/it]\n",
      "Processing page 803: 100%|██████████| 8/8 [00:07<00:00,  1.05it/s]\n"
     ]
    },
    {
     "name": "stdout",
     "output_type": "stream",
     "text": [
      "Can't get connection to https://ivie.vn/cong-dong?page=807! Try again in 3 seconds.\n",
      "Can't get connection to https://ivie.vn/cong-dong?page=808! Try again in 3 seconds.\n",
      "Can't get connection to https://ivie.vn/cong-dong?page=809! Try again in 3 seconds.\n",
      "Can't get connection to https://ivie.vn/cong-dong?page=810! Try again in 3 seconds.\n",
      "Can't get connection to https://ivie.vn/cong-dong?page=811! Try again in 3 seconds.\n",
      "Can't get connection to https://ivie.vn/cong-dong?page=808! Try again in 3 seconds.\n",
      "Can't get connection to https://ivie.vn/cong-dong?page=807! Try again in 3 seconds.\n",
      "Can't get connection to https://ivie.vn/cong-dong?page=810! Try again in 3 seconds.\n"
     ]
    },
    {
     "name": "stderr",
     "output_type": "stream",
     "text": [
      "Processing page 809:  86%|████████▌ | 6/7 [00:06<00:01,  1.16s/it]"
     ]
    },
    {
     "name": "stdout",
     "output_type": "stream",
     "text": [
      "Can't get connection to https://ivie.vn/cong-dong?page=811! Try again in 3 seconds.\n"
     ]
    },
    {
     "name": "stderr",
     "output_type": "stream",
     "text": [
      "Processing page 809: 100%|██████████| 7/7 [00:07<00:00,  1.09s/it]\n",
      "Processing page 808: : 0it [00:00, ?it/s]\n"
     ]
    },
    {
     "name": "stdout",
     "output_type": "stream",
     "text": [
      "Can't get connection to https://ivie.vn/cong-dong?page=807! Try again in 3 seconds.\n"
     ]
    },
    {
     "name": "stderr",
     "output_type": "stream",
     "text": [
      "Processing page 810:  88%|████████▊ | 7/8 [00:07<00:01,  1.03s/it]\n",
      "Processing page 810: 100%|██████████| 8/8 [00:08<00:00,  1.03s/it]\n"
     ]
    },
    {
     "name": "stdout",
     "output_type": "stream",
     "text": [
      "Can't get connection to https://ivie.vn/cong-dong?page=813! Try again in 3 seconds.\n"
     ]
    },
    {
     "name": "stderr",
     "output_type": "stream",
     "text": [
      "\n",
      "\u001b[A\n",
      "\u001b[A\n",
      "\u001b[A\n",
      "\u001b[A\n",
      "\u001b[A\n",
      "Processing page 807:  25%|██▌       | 1/4 [00:00<00:01,  1.92it/s]\n",
      "Processing page 807:  50%|█████     | 2/4 [00:01<00:01,  1.24it/s]\n",
      "Processing page 811: 100%|██████████| 8/8 [00:08<00:00,  1.06s/it]\n",
      "Processing page 807: 100%|██████████| 4/4 [00:03<00:00,  1.13it/s]\n"
     ]
    },
    {
     "name": "stdout",
     "output_type": "stream",
     "text": [
      "Can't get connection to https://ivie.vn/cong-dong?page=813! Try again in 3 seconds.\n"
     ]
    },
    {
     "name": "stderr",
     "output_type": "stream",
     "text": []
    },
    {
     "name": "stdout",
     "output_type": "stream",
     "text": [
      "Can't get connection to https://ivie.vn/cong-dong?page=814! Try again in 3 seconds.\n",
      "Error with this QA!\n",
      "Can't get connection to https://ivie.vn/cong-dong?page=815! Try again in 3 seconds.\n"
     ]
    },
    {
     "name": "stderr",
     "output_type": "stream",
     "text": [
      "Processing page 812: 100%|██████████| 9/9 [00:29<00:00,  3.26s/it]\n",
      "Processing page 817: : 0it [00:00, ?it/s] [00:00<?, ?it/s]\n",
      "\n",
      "\u001b[A\n",
      "\u001b[A\n",
      "\u001b[A\n",
      "\n",
      "\u001b[A\u001b[A\n",
      "\u001b[A\n",
      "\n",
      "\u001b[A\u001b[A\n",
      "\u001b[A\n",
      "\n",
      "\u001b[A\u001b[A\n",
      "\u001b[A\n",
      "\n",
      "\u001b[A\u001b[A\n",
      "\u001b[A\n",
      "\n",
      "\u001b[A\u001b[A\n",
      "Processing page 816:  17%|█▋        | 1/6 [00:21<01:46, 21.21s/it]"
     ]
    },
    {
     "name": "stdout",
     "output_type": "stream",
     "text": [
      "Error with this QA!\n"
     ]
    },
    {
     "name": "stderr",
     "output_type": "stream",
     "text": [
      "\n",
      "\n",
      "\u001b[A\u001b[A\n",
      "Processing page 813: 100%|██████████| 10/10 [00:09<00:00,  1.02it/s]\n",
      "\n",
      "\n",
      "Processing page 815: 100%|██████████| 6/6 [00:06<00:00,  1.05s/it]\n",
      "\n",
      "Processing page 814: 100%|██████████| 9/9 [00:08<00:00,  1.02it/s]\n",
      "Processing page 816: 100%|██████████| 6/6 [00:26<00:00,  4.44s/it]\n",
      "Processing page 818: 100%|██████████| 8/8 [00:08<00:00,  1.10s/it]\n",
      "Processing page 821:  33%|███▎      | 2/6 [00:02<00:04,  1.22s/it]\n",
      "Processing page 821:  50%|█████     | 3/6 [00:03<00:03,  1.17s/it]\n",
      "Processing page 821:  67%|██████▋   | 4/6 [00:04<00:02,  1.14s/it]\n",
      "Processing page 819: 100%|██████████| 5/5 [00:05<00:00,  1.14s/it]\n",
      "\n",
      "Processing page 821: 100%|██████████| 6/6 [00:06<00:00,  1.14s/it]\n",
      "\n",
      "Processing page 820:   0%|          | 0/5 [00:00<?, ?it/s]\n",
      "Processing page 820:  20%|██        | 1/5 [00:01<00:04,  1.03s/it]\n",
      "Processing page 820:  40%|████      | 2/5 [00:02<00:03,  1.05s/it]\n",
      "Processing page 822: 100%|██████████| 7/7 [00:07<00:00,  1.11s/it]\n",
      "Processing page 820: 100%|██████████| 5/5 [00:06<00:00,  1.20s/it]\n",
      "Processing page 823: 100%|██████████| 10/10 [00:11<00:00,  1.11s/it]\n",
      "Processing page 824:   0%|          | 0/9 [00:00<?, ?it/s]"
     ]
    },
    {
     "name": "stdout",
     "output_type": "stream",
     "text": [
      "Can't get connection to https://ivie.vn/cong-dong?page=825! Try again in 3 seconds.\n"
     ]
    },
    {
     "name": "stderr",
     "output_type": "stream",
     "text": [
      "Processing page 824:  89%|████████▉ | 8/9 [00:08<00:01,  1.05s/it]"
     ]
    },
    {
     "name": "stdout",
     "output_type": "stream",
     "text": [
      "Can't get connection to https://ivie.vn/cong-dong?page=827! Try again in 3 seconds.\n"
     ]
    },
    {
     "name": "stderr",
     "output_type": "stream",
     "text": [
      "Processing page 824: 100%|██████████| 9/9 [00:09<00:00,  1.05s/it]\n"
     ]
    },
    {
     "name": "stdout",
     "output_type": "stream",
     "text": [
      "Can't get connection to https://ivie.vn/cong-dong?page=828! Try again in 3 seconds.\n"
     ]
    },
    {
     "name": "stderr",
     "output_type": "stream",
     "text": [
      "Processing page 826: 100%|██████████| 9/9 [00:09<00:00,  1.10s/it]\n",
      "Processing page 829: : 0it [00:00, ?it/s]\n",
      "Processing page 825: : 0it [00:00, ?it/s]\n"
     ]
    },
    {
     "name": "stdout",
     "output_type": "stream",
     "text": [
      "Can't get connection to https://ivie.vn/cong-dong?page=830! Try again in 3 seconds.\n",
      "Can't get connection to https://ivie.vn/cong-dong?page=828! Try again in 3 seconds.\n",
      "Can't get connection to https://ivie.vn/cong-dong?page=832! Try again in 3 seconds.\n"
     ]
    },
    {
     "name": "stderr",
     "output_type": "stream",
     "text": [
      "Processing page 827:  50%|█████     | 4/8 [00:05<00:04,  1.21s/it]\n",
      "Processing page 830: : 0it [00:00, ?it/s]\n",
      "\n",
      "\u001b[A\n",
      "\u001b[A\n",
      "\n",
      "Processing page 832: : 0it [00:00, ?it/s]\n",
      "\n",
      "\u001b[A\n",
      "\u001b[A\n",
      "\u001b[A\n",
      "\u001b[A\n",
      "\u001b[A\n",
      "Processing page 827:  62%|██████▎   | 5/8 [00:26<00:25,  8.41s/it]"
     ]
    },
    {
     "name": "stdout",
     "output_type": "stream",
     "text": [
      "Error with this QA!\n"
     ]
    },
    {
     "name": "stderr",
     "output_type": "stream",
     "text": [
      "\n",
      "\n",
      "\u001b[A\u001b[A\n",
      "Processing page 828: 100%|██████████| 8/8 [00:08<00:00,  1.01s/it]\n",
      "Processing page 827:  75%|███████▌  | 6/8 [00:27<00:11,  5.90s/it]\n",
      "\n",
      "\u001b[A\u001b[A"
     ]
    },
    {
     "name": "stdout",
     "output_type": "stream",
     "text": [
      "Error with this QA!\n"
     ]
    },
    {
     "name": "stderr",
     "output_type": "stream",
     "text": [
      "Processing page 827:  88%|████████▊ | 7/8 [00:28<00:04,  4.31s/it]\n",
      "\n",
      "Processing page 827: 100%|██████████| 8/8 [00:29<00:00,  3.68s/it]\n",
      "\n",
      "\n",
      "\u001b[A\u001b[A\n",
      "\n",
      "\u001b[A\u001b[A\n",
      "\n",
      "Processing page 831: 100%|██████████| 10/10 [00:31<00:00,  3.14s/it]\n",
      "\n",
      "\n",
      "\u001b[A\u001b[A\n",
      "\n",
      "Processing page 834:   0%|          | 0/7 [00:00<?, ?it/s]\n",
      "\n",
      "Processing page 833: 100%|██████████| 8/8 [00:08<00:00,  1.04s/it]\n",
      "Processing page 834: 100%|██████████| 7/7 [00:07<00:00,  1.03s/it]\n",
      "Processing page 836:  30%|███       | 3/10 [00:03<00:07,  1.04s/it]\n",
      "Processing page 837: : 0it [00:00, ?it/s]\n",
      "Processing page 835: 100%|██████████| 6/6 [00:06<00:00,  1.04s/it]\n",
      "Processing page 836: 100%|██████████| 10/10 [00:10<00:00,  1.04s/it]\n",
      "Processing page 838: 100%|██████████| 7/7 [00:07<00:00,  1.02s/it]\n",
      "Processing page 839:  29%|██▊       | 2/7 [00:01<00:04,  1.02it/s]"
     ]
    },
    {
     "name": "stdout",
     "output_type": "stream",
     "text": [
      "Can't get connection to https://ivie.vn/cong-dong?page=841! Try again in 3 seconds.\n"
     ]
    },
    {
     "name": "stderr",
     "output_type": "stream",
     "text": [
      "Processing page 842: : 0it [00:00, ?it/s]\n"
     ]
    },
    {
     "name": "stdout",
     "output_type": "stream",
     "text": [
      "Can't get connection to https://ivie.vn/cong-dong?page=840! Try again in 3 seconds.\n"
     ]
    },
    {
     "name": "stderr",
     "output_type": "stream",
     "text": [
      "Processing page 839:  43%|████▎     | 3/7 [00:23<00:40, 10.16s/it]"
     ]
    },
    {
     "name": "stdout",
     "output_type": "stream",
     "text": [
      "Error with this QA!\n"
     ]
    },
    {
     "name": "stderr",
     "output_type": "stream",
     "text": [
      "Processing page 843: 100%|██████████| 8/8 [00:08<00:00,  1.11s/it]\n",
      "Processing page 839:  86%|████████▌ | 6/7 [00:26<00:03,  3.41s/it]\n",
      "Processing page 839: 100%|██████████| 7/7 [00:27<00:00,  3.91s/it]\n",
      "\n",
      "\u001b[A\n",
      "\u001b[A"
     ]
    },
    {
     "name": "stdout",
     "output_type": "stream",
     "text": [
      "Can't get connection to https://ivie.vn/cong-dong?page=840! Try again in 3 seconds.\n"
     ]
    },
    {
     "name": "stderr",
     "output_type": "stream",
     "text": [
      "\n",
      "\u001b[A\n",
      "\u001b[A\n",
      "\u001b[A\n",
      "\u001b[A\n",
      "Processing page 844: 100%|██████████| 8/8 [00:09<00:00,  1.15s/it]\n",
      "\n",
      "\u001b[A\n",
      "\u001b[A\n",
      "Processing page 841: 100%|██████████| 10/10 [00:10<00:00,  1.10s/it]\n",
      "Processing page 845:  12%|█▎        | 1/8 [00:01<00:07,  1.13s/it]"
     ]
    },
    {
     "name": "stdout",
     "output_type": "stream",
     "text": [
      "Can't get connection to https://ivie.vn/cong-dong?page=846! Try again in 3 seconds.\n"
     ]
    },
    {
     "name": "stderr",
     "output_type": "stream",
     "text": [
      "Processing page 845: 100%|██████████| 8/8 [00:08<00:00,  1.07s/it]\n"
     ]
    },
    {
     "name": "stdout",
     "output_type": "stream",
     "text": [
      "Can't get connection to https://ivie.vn/cong-dong?page=840! Try again in 3 seconds.\n",
      "Can't get connection to https://ivie.vn/cong-dong?page=847! Try again in 3 seconds.\n"
     ]
    },
    {
     "name": "stderr",
     "output_type": "stream",
     "text": [
      "Processing page 848: : 0it [00:00, ?it/s]\n",
      "Processing page 849: : 0it [00:00, ?it/s] [00:02<00:04,  1.06s/it]\n",
      "Processing page 846: 100%|██████████| 6/6 [00:06<00:00,  1.02s/it]\n"
     ]
    },
    {
     "name": "stdout",
     "output_type": "stream",
     "text": [
      "Can't get connection to https://ivie.vn/cong-dong?page=850! Try again in 3 seconds.\n",
      "Can't get connection to https://ivie.vn/cong-dong?page=840! Try again in 3 seconds.\n"
     ]
    },
    {
     "name": "stderr",
     "output_type": "stream",
     "text": [
      "Processing page 847: : 0it [00:00, ?it/s]\n",
      "Processing page 852: : 0it [00:00, ?it/s] [00:02<00:03,  1.01it/s]\n",
      "Processing page 851: 100%|██████████| 7/7 [00:07<00:00,  1.01s/it]\n",
      "Processing page 850:  75%|███████▌  | 3/4 [00:03<00:01,  1.15s/it]"
     ]
    },
    {
     "name": "stdout",
     "output_type": "stream",
     "text": [
      "Can't get connection to https://ivie.vn/cong-dong?page=853! Try again in 3 seconds.\n"
     ]
    },
    {
     "name": "stderr",
     "output_type": "stream",
     "text": [
      "Processing page 850: 100%|██████████| 4/4 [00:04<00:00,  1.11s/it]\n",
      "Processing page 840: 100%|██████████| 7/7 [00:07<00:00,  1.09s/it]\n",
      "Processing page 854: 100%|██████████| 7/7 [00:07<00:00,  1.07s/it]\n",
      "Processing page 855: 100%|██████████| 8/8 [00:08<00:00,  1.05s/it]\n",
      "Processing page 856:  56%|█████▌    | 5/9 [00:05<00:04,  1.11s/it]\n",
      "Processing page 856:  67%|██████▋   | 6/9 [00:06<00:03,  1.10s/it]\n",
      "\u001b[A\n",
      "\n",
      "\u001b[A\u001b[A\n",
      "\n",
      "\u001b[A\u001b[A\n",
      "\n",
      "\u001b[A\u001b[A\n",
      "\n",
      "\n",
      "\u001b[A\u001b[A\u001b[A\n",
      "\n",
      "\u001b[A\u001b[A\n",
      "\n",
      "\n",
      "\u001b[A\u001b[A\u001b[A\n",
      "\n",
      "\u001b[A\u001b[A\n",
      "\n",
      "\n",
      "\u001b[A\u001b[A\u001b[A\n",
      "\n",
      "\u001b[A\u001b[A\n",
      "\n",
      "\n",
      "\u001b[A\u001b[A\u001b[A\n",
      "\n",
      "\u001b[A\u001b[A\n",
      "\n",
      "\n",
      "\u001b[A\u001b[A\u001b[A\n",
      "\n",
      "\u001b[A\u001b[A\n",
      "\n",
      "\n",
      "\u001b[A\u001b[A\u001b[A\n",
      "\n",
      "Processing page 858: 100%|██████████| 8/8 [00:08<00:00,  1.04s/it]\n",
      "\n",
      "\n",
      "\n",
      "\u001b[A\u001b[A\u001b[A\n",
      "\n",
      "\n",
      "Processing page 859: 100%|██████████| 7/7 [00:07<00:00,  1.02s/it]\n",
      "Processing page 856:  78%|███████▊  | 7/9 [00:27<00:15,  7.62s/it]"
     ]
    },
    {
     "name": "stdout",
     "output_type": "stream",
     "text": [
      "Error with this QA!Error with this QA!\n",
      "\n"
     ]
    },
    {
     "name": "stderr",
     "output_type": "stream",
     "text": [
      "\n",
      "\u001b[A"
     ]
    },
    {
     "name": "stdout",
     "output_type": "stream",
     "text": [
      "Error with this QA!\n"
     ]
    },
    {
     "name": "stderr",
     "output_type": "stream",
     "text": [
      "Processing page 856:  89%|████████▉ | 8/9 [00:28<00:05,  5.52s/it]\n",
      "Processing page 856: 100%|██████████| 9/9 [00:29<00:00,  3.29s/it]\n",
      "Processing page 853: 100%|██████████| 6/6 [00:26<00:00,  4.44s/it]\n",
      "\n",
      "\u001b[A\n",
      "\u001b[A\n",
      "\u001b[A\n",
      "\u001b[A\n",
      "Processing page 857: 100%|██████████| 8/8 [00:28<00:00,  3.52s/it]\n",
      "Processing page 861:  56%|█████▌    | 5/9 [00:05<00:04,  1.08s/it]"
     ]
    },
    {
     "name": "stdout",
     "output_type": "stream",
     "text": [
      "Can't get connection to https://ivie.vn/cong-dong?page=860! Try again in 3 seconds.\n"
     ]
    },
    {
     "name": "stderr",
     "output_type": "stream",
     "text": [
      "Processing page 861:  78%|███████▊  | 7/9 [00:07<00:02,  1.04s/it]"
     ]
    },
    {
     "name": "stdout",
     "output_type": "stream",
     "text": [
      "Can't get connection to https://ivie.vn/cong-dong?page=862! Try again in 3 seconds.\n",
      "Can't get connection to https://ivie.vn/cong-dong?page=863! Try again in 3 seconds.\n"
     ]
    },
    {
     "name": "stderr",
     "output_type": "stream",
     "text": [
      "Processing page 861: 100%|██████████| 9/9 [00:09<00:00,  1.06s/it]\n",
      "Processing page 864: : 0it [00:00, ?it/s]\n",
      "Processing page 860: 100%|██████████| 7/7 [00:07<00:00,  1.08s/it]\n"
     ]
    },
    {
     "name": "stdout",
     "output_type": "stream",
     "text": [
      "Can't get connection to https://ivie.vn/cong-dong?page=866! Try again in 3 seconds.\n",
      "Can't get connection to https://ivie.vn/cong-dong?page=862! Try again in 3 seconds.\n"
     ]
    },
    {
     "name": "stderr",
     "output_type": "stream",
     "text": [
      "Processing page 863:  70%|███████   | 7/10 [00:07<00:03,  1.03s/it]"
     ]
    },
    {
     "name": "stdout",
     "output_type": "stream",
     "text": [
      "Can't get connection to https://ivie.vn/cong-dong?page=867! Try again in 3 seconds.\n"
     ]
    },
    {
     "name": "stderr",
     "output_type": "stream",
     "text": [
      "Processing page 863: 100%|██████████| 10/10 [00:10<00:00,  1.03s/it]\n"
     ]
    },
    {
     "name": "stdout",
     "output_type": "stream",
     "text": [
      "Can't get connection to https://ivie.vn/cong-dong?page=862! Try again in 3 seconds.\n"
     ]
    },
    {
     "name": "stderr",
     "output_type": "stream",
     "text": [
      "Processing page 866:   0%|          | 0/10 [00:00<?, ?it/s]"
     ]
    },
    {
     "name": "stdout",
     "output_type": "stream",
     "text": [
      "Error with this QA!\n"
     ]
    },
    {
     "name": "stderr",
     "output_type": "stream",
     "text": [
      "Processing page 866:  60%|██████    | 6/10 [00:06<00:04,  1.03s/it]\n",
      "Processing page 865: 100%|██████████| 10/10 [00:34<00:00,  3.49s/it]\n",
      "Processing page 866:  70%|███████   | 7/10 [00:07<00:03,  1.02s/it]\n",
      "\u001b[A"
     ]
    },
    {
     "name": "stdout",
     "output_type": "stream",
     "text": [
      "Can't get connection to https://ivie.vn/cong-dong?page=867! Try again in 3 seconds.\n"
     ]
    },
    {
     "name": "stderr",
     "output_type": "stream",
     "text": [
      "Processing page 866:  80%|████████  | 8/10 [00:08<00:02,  1.05s/it]\n",
      "Processing page 866:  90%|█████████ | 9/10 [00:09<00:01,  1.09s/it]\n",
      "Processing page 866: 100%|██████████| 10/10 [00:10<00:00,  1.06s/it]\n",
      "\n",
      "\u001b[A\n",
      "\u001b[A\n",
      "\u001b[A\n",
      "\u001b[A\n",
      "\u001b[A\n",
      "\u001b[A\n",
      "Processing page 868: 100%|██████████| 10/10 [00:10<00:00,  1.07s/it]\n",
      "Processing page 869: : 0it [00:00, ?it/s]0 [00:01<00:09,  1.00s/it]\n",
      "Processing page 862:  70%|███████   | 7/10 [00:07<00:03,  1.06s/it]"
     ]
    },
    {
     "name": "stdout",
     "output_type": "stream",
     "text": [
      "Can't get connection to https://ivie.vn/cong-dong?page=870! Try again in 3 seconds.\n"
     ]
    },
    {
     "name": "stderr",
     "output_type": "stream",
     "text": [
      "Processing page 862: 100%|██████████| 10/10 [00:10<00:00,  1.05s/it]\n"
     ]
    },
    {
     "name": "stdout",
     "output_type": "stream",
     "text": [
      "Can't get connection to https://ivie.vn/cong-dong?page=867! Try again in 3 seconds.\n"
     ]
    },
    {
     "name": "stderr",
     "output_type": "stream",
     "text": [
      "Processing page 871: : 0it [00:00, ?it/s]\n"
     ]
    },
    {
     "name": "stdout",
     "output_type": "stream",
     "text": [
      "Can't get connection to https://ivie.vn/cong-dong?page=872! Try again in 3 seconds.\n",
      "Can't get connection to https://ivie.vn/cong-dong?page=873! Try again in 3 seconds.\n",
      "Can't get connection to https://ivie.vn/cong-dong?page=874! Try again in 3 seconds.\n"
     ]
    },
    {
     "name": "stderr",
     "output_type": "stream",
     "text": [
      "Processing page 870: : 0it [00:00, ?it/s]\n",
      "Processing page 867: : 0it [00:00, ?it/s]\n",
      "Processing page 872: : 0it [00:00, ?it/s]0 [00:00<?, ?it/s]\n",
      "Processing page 873:  10%|█         | 1/10 [00:01<00:10,  1.15s/it]"
     ]
    },
    {
     "name": "stdout",
     "output_type": "stream",
     "text": [
      "Can't get connection to https://ivie.vn/cong-dong?page=874! Try again in 3 seconds.\n"
     ]
    },
    {
     "name": "stderr",
     "output_type": "stream",
     "text": [
      "Processing page 873:  60%|██████    | 6/10 [00:06<00:04,  1.07s/it]"
     ]
    },
    {
     "name": "stdout",
     "output_type": "stream",
     "text": [
      "Can't get connection to https://ivie.vn/cong-dong?page=876! Try again in 3 seconds.\n"
     ]
    },
    {
     "name": "stderr",
     "output_type": "stream",
     "text": [
      "Processing page 873: 100%|██████████| 10/10 [00:11<00:00,  1.11s/it]\n"
     ]
    },
    {
     "name": "stdout",
     "output_type": "stream",
     "text": [
      "Can't get connection to https://ivie.vn/cong-dong?page=877! Try again in 3 seconds.\n"
     ]
    },
    {
     "name": "stderr",
     "output_type": "stream",
     "text": [
      "Processing page 875: 100%|██████████| 10/10 [00:11<00:00,  1.17s/it]\n"
     ]
    },
    {
     "name": "stdout",
     "output_type": "stream",
     "text": [
      "Can't get connection to https://ivie.vn/cong-dong?page=874! Try again in 3 seconds.\n"
     ]
    },
    {
     "name": "stderr",
     "output_type": "stream",
     "text": [
      "Processing page 878:  20%|██        | 2/10 [00:02<00:08,  1.07s/it]"
     ]
    },
    {
     "name": "stdout",
     "output_type": "stream",
     "text": [
      "Can't get connection to https://ivie.vn/cong-dong?page=876! Try again in 3 seconds.\n"
     ]
    },
    {
     "name": "stderr",
     "output_type": "stream",
     "text": [
      "Processing page 877: : 0it [00:00, ?it/s]0 [00:08<00:02,  1.00s/it]\n",
      "Processing page 878: 100%|██████████| 10/10 [00:10<00:00,  1.03s/it]\n",
      "Processing page 879: 100%|██████████| 6/6 [00:06<00:00,  1.05s/it]\n",
      "Processing page 876: : 0it [00:00, ?it/s]0 [00:04<00:04,  1.02it/s]\n",
      "Processing page 880: : 0it [00:00, ?it/s]0 [00:06<00:03,  1.01s/it]\n",
      "Processing page 874: 100%|██████████| 10/10 [00:10<00:00,  1.01s/it]\n",
      "Processing page 882: : 0it [00:00, ?it/s]\n"
     ]
    },
    {
     "name": "stdout",
     "output_type": "stream",
     "text": [
      "Can't get connection to https://ivie.vn/cong-dong?page=881! Try again in 3 seconds.\n"
     ]
    },
    {
     "name": "stderr",
     "output_type": "stream",
     "text": [
      "Processing page 883: : 0it [00:00, ?it/s]\n"
     ]
    },
    {
     "name": "stdout",
     "output_type": "stream",
     "text": [
      "Can't get connection to https://ivie.vn/cong-dong?page=885! Try again in 3 seconds.\n"
     ]
    },
    {
     "name": "stderr",
     "output_type": "stream",
     "text": [
      "Processing page 886: : 0it [00:00, ?it/s]\n"
     ]
    },
    {
     "name": "stdout",
     "output_type": "stream",
     "text": [
      "Can't get connection to https://ivie.vn/cong-dong?page=884! Try again in 3 seconds.\n"
     ]
    },
    {
     "name": "stderr",
     "output_type": "stream",
     "text": [
      "Processing page 881: : 0it [00:00, ?it/s]\n"
     ]
    },
    {
     "name": "stdout",
     "output_type": "stream",
     "text": [
      "Can't get connection to https://ivie.vn/cong-dong?page=887! Try again in 3 seconds.\n",
      "Can't get connection to https://ivie.vn/cong-dong?page=885! Try again in 3 seconds.\n",
      "Can't get connection to https://ivie.vn/cong-dong?page=889! Try again in 3 seconds.\n",
      "Can't get connection to https://ivie.vn/cong-dong?page=888! Try again in 3 seconds.\n",
      "Can't get connection to https://ivie.vn/cong-dong?page=884! Try again in 3 seconds.\n",
      "Can't get connection to https://ivie.vn/cong-dong?page=887! Try again in 3 seconds.\n",
      "Can't get connection to https://ivie.vn/cong-dong?page=888! Try again in 3 seconds.\n"
     ]
    },
    {
     "name": "stderr",
     "output_type": "stream",
     "text": [
      "Processing page 885: : 0it [00:00, ?it/s]\n",
      "Processing page 889: : 0it [00:00, ?it/s]\n"
     ]
    },
    {
     "name": "stdout",
     "output_type": "stream",
     "text": [
      "Can't get connection to https://ivie.vn/cong-dong?page=884! Try again in 3 seconds.\n"
     ]
    },
    {
     "name": "stderr",
     "output_type": "stream",
     "text": [
      "Processing page 887: : 0it [00:00, ?it/s]\n"
     ]
    },
    {
     "name": "stdout",
     "output_type": "stream",
     "text": [
      "Can't get connection to https://ivie.vn/cong-dong?page=890! Try again in 3 seconds.\n",
      "Can't get connection to https://ivie.vn/cong-dong?page=891! Try again in 3 seconds.\n"
     ]
    },
    {
     "name": "stderr",
     "output_type": "stream",
     "text": [
      "Processing page 888: : 0it [00:00, ?it/s]\n"
     ]
    },
    {
     "name": "stdout",
     "output_type": "stream",
     "text": [
      "Can't get connection to https://ivie.vn/cong-dong?page=892! Try again in 3 seconds.\n",
      "Can't get connection to https://ivie.vn/cong-dong?page=884! Try again in 3 seconds.\n"
     ]
    },
    {
     "name": "stderr",
     "output_type": "stream",
     "text": [
      "Processing page 890: : 0it [00:00, ?it/s]\n",
      "Processing page 893: : 0it [00:00, ?it/s]\n"
     ]
    },
    {
     "name": "stdout",
     "output_type": "stream",
     "text": [
      "Can't get connection to https://ivie.vn/cong-dong?page=891! Try again in 3 seconds.\n",
      "Can't get connection to https://ivie.vn/cong-dong?page=892! Try again in 3 seconds.\n",
      "Can't get connection to https://ivie.vn/cong-dong?page=894! Try again in 3 seconds.\n"
     ]
    },
    {
     "name": "stderr",
     "output_type": "stream",
     "text": [
      "Processing page 884: : 0it [00:00, ?it/s]\n",
      "Processing page 895: : 0it [00:00, ?it/s]\n",
      "Processing page 891: : 0it [00:00, ?it/s]\n"
     ]
    },
    {
     "name": "stdout",
     "output_type": "stream",
     "text": [
      "Can't get connection to https://ivie.vn/cong-dong?page=892! Try again in 3 seconds.\n",
      "Can't get connection to https://ivie.vn/cong-dong?page=894! Try again in 3 seconds.\n"
     ]
    },
    {
     "name": "stderr",
     "output_type": "stream",
     "text": [
      "Processing page 897: : 0it [00:00, ?it/s]\n",
      "Processing page 896: : 0it [00:00, ?it/s]\n",
      "Processing page 899: : 0it [00:00, ?it/s]\n",
      "Processing page 898: : 0it [00:00, ?it/s]\n",
      "Processing page 900: : 0it [00:00, ?it/s]\n",
      "Processing page 894: : 0it [00:00, ?it/s]\n",
      "Processing page 892: : 0it [00:00, ?it/s]\n"
     ]
    },
    {
     "name": "stdout",
     "output_type": "stream",
     "text": [
      "Can't get connection to https://ivie.vn/cong-dong?page=901! Try again in 3 seconds.\n"
     ]
    },
    {
     "name": "stderr",
     "output_type": "stream",
     "text": [
      "Processing page 902: : 0it [00:00, ?it/s]\n",
      "Processing page 903: : 0it [00:00, ?it/s]\n"
     ]
    },
    {
     "name": "stdout",
     "output_type": "stream",
     "text": [
      "Can't get connection to https://ivie.vn/cong-dong?page=904! Try again in 3 seconds.\n"
     ]
    },
    {
     "name": "stderr",
     "output_type": "stream",
     "text": [
      "Processing page 905: : 0it [00:00, ?it/s]\n",
      "Processing page 906: : 0it [00:00, ?it/s]\n"
     ]
    },
    {
     "name": "stdout",
     "output_type": "stream",
     "text": [
      "Can't get connection to https://ivie.vn/cong-dong?page=901! Try again in 3 seconds.\n"
     ]
    },
    {
     "name": "stderr",
     "output_type": "stream",
     "text": [
      "Processing page 907: : 0it [00:00, ?it/s]\n"
     ]
    },
    {
     "name": "stdout",
     "output_type": "stream",
     "text": [
      "Can't get connection to https://ivie.vn/cong-dong?page=908! Try again in 3 seconds.\n"
     ]
    },
    {
     "name": "stderr",
     "output_type": "stream",
     "text": [
      "Processing page 904: : 0it [00:00, ?it/s]\n"
     ]
    },
    {
     "name": "stdout",
     "output_type": "stream",
     "text": [
      "Can't get connection to https://ivie.vn/cong-dong?page=910! Try again in 3 seconds.\n"
     ]
    },
    {
     "name": "stderr",
     "output_type": "stream",
     "text": [
      "Processing page 901: : 0it [00:00, ?it/s]\n"
     ]
    },
    {
     "name": "stdout",
     "output_type": "stream",
     "text": [
      "Can't get connection to https://ivie.vn/cong-dong?page=909! Try again in 3 seconds.\n",
      "Can't get connection to https://ivie.vn/cong-dong?page=911! Try again in 3 seconds.\n"
     ]
    },
    {
     "name": "stderr",
     "output_type": "stream",
     "text": [
      "Processing page 908: : 0it [00:00, ?it/s]\n"
     ]
    },
    {
     "name": "stdout",
     "output_type": "stream",
     "text": [
      "Can't get connection to https://ivie.vn/cong-dong?page=910! Try again in 3 seconds.\n"
     ]
    },
    {
     "name": "stderr",
     "output_type": "stream",
     "text": [
      "Processing page 912: : 0it [00:00, ?it/s]\n"
     ]
    },
    {
     "name": "stdout",
     "output_type": "stream",
     "text": [
      "Can't get connection to https://ivie.vn/cong-dong?page=913! Try again in 3 seconds.\n"
     ]
    },
    {
     "name": "stderr",
     "output_type": "stream",
     "text": [
      "Processing page 909: : 0it [00:00, ?it/s]\n",
      "Processing page 914: : 0it [00:00, ?it/s]\n"
     ]
    },
    {
     "name": "stdout",
     "output_type": "stream",
     "text": [
      "Can't get connection to https://ivie.vn/cong-dong?page=911! Try again in 3 seconds.\n",
      "Can't get connection to https://ivie.vn/cong-dong?page=910! Try again in 3 seconds.\n",
      "Can't get connection to https://ivie.vn/cong-dong?page=915! Try again in 3 seconds.\n",
      "Can't get connection to https://ivie.vn/cong-dong?page=913! Try again in 3 seconds.\n"
     ]
    },
    {
     "name": "stderr",
     "output_type": "stream",
     "text": [
      "Processing page 916: : 0it [00:00, ?it/s]\n"
     ]
    },
    {
     "name": "stdout",
     "output_type": "stream",
     "text": [
      "Can't get connection to https://ivie.vn/cong-dong?page=910! Try again in 3 seconds.\n"
     ]
    },
    {
     "name": "stderr",
     "output_type": "stream",
     "text": [
      "Processing page 911: : 0it [00:00, ?it/s]\n"
     ]
    },
    {
     "name": "stdout",
     "output_type": "stream",
     "text": [
      "Can't get connection to https://ivie.vn/cong-dong?page=913! Try again in 3 seconds.\n"
     ]
    },
    {
     "name": "stderr",
     "output_type": "stream",
     "text": [
      "Processing page 917: : 0it [00:00, ?it/s]\n"
     ]
    },
    {
     "name": "stdout",
     "output_type": "stream",
     "text": [
      "Can't get connection to https://ivie.vn/cong-dong?page=915! Try again in 3 seconds.\n"
     ]
    },
    {
     "name": "stderr",
     "output_type": "stream",
     "text": [
      "Processing page 918: : 0it [00:00, ?it/s]\n"
     ]
    },
    {
     "name": "stdout",
     "output_type": "stream",
     "text": [
      "Can't get connection to https://ivie.vn/cong-dong?page=919! Try again in 3 seconds.\n",
      "Can't get connection to https://ivie.vn/cong-dong?page=913! Try again in 3 seconds.\n"
     ]
    },
    {
     "name": "stderr",
     "output_type": "stream",
     "text": [
      "Processing page 910: : 0it [00:00, ?it/s]\n",
      "Processing page 915: : 0it [00:00, ?it/s]\n",
      "Processing page 920: : 0it [00:00, ?it/s]\n"
     ]
    },
    {
     "name": "stdout",
     "output_type": "stream",
     "text": [
      "Can't get connection to https://ivie.vn/cong-dong?page=919! Try again in 3 seconds.\n"
     ]
    },
    {
     "name": "stderr",
     "output_type": "stream",
     "text": [
      "Processing page 921: : 0it [00:00, ?it/s]\n",
      "Processing page 922: : 0it [00:00, ?it/s]\n",
      "Processing page 913: : 0it [00:00, ?it/s]\n"
     ]
    },
    {
     "name": "stdout",
     "output_type": "stream",
     "text": [
      "Can't get connection to https://ivie.vn/cong-dong?page=923! Try again in 3 seconds.\n",
      "Can't get connection to https://ivie.vn/cong-dong?page=919! Try again in 3 seconds.\n",
      "Can't get connection to https://ivie.vn/cong-dong?page=925! Try again in 3 seconds.\n"
     ]
    },
    {
     "name": "stderr",
     "output_type": "stream",
     "text": [
      "Processing page 924: : 0it [00:00, ?it/s]\n",
      "Processing page 926: : 0it [00:00, ?it/s]\n",
      "Processing page 923: : 0it [00:00, ?it/s]\n"
     ]
    },
    {
     "name": "stdout",
     "output_type": "stream",
     "text": [
      "Can't get connection to https://ivie.vn/cong-dong?page=927! Try again in 3 seconds.\n",
      "Can't get connection to https://ivie.vn/cong-dong?page=919! Try again in 3 seconds.\n"
     ]
    },
    {
     "name": "stderr",
     "output_type": "stream",
     "text": [
      "Processing page 925: : 0it [00:00, ?it/s]\n",
      "Processing page 929: : 0it [00:00, ?it/s]\n"
     ]
    },
    {
     "name": "stdout",
     "output_type": "stream",
     "text": [
      "Can't get connection to https://ivie.vn/cong-dong?page=928! Try again in 3 seconds.\n",
      "Can't get connection to https://ivie.vn/cong-dong?page=919! Try again in 3 seconds.\n"
     ]
    },
    {
     "name": "stderr",
     "output_type": "stream",
     "text": [
      "Processing page 927: : 0it [00:00, ?it/s]\n"
     ]
    },
    {
     "name": "stdout",
     "output_type": "stream",
     "text": [
      "Can't get connection to https://ivie.vn/cong-dong?page=930! Try again in 3 seconds.\n",
      "Can't get connection to https://ivie.vn/cong-dong?page=931! Try again in 3 seconds.\n"
     ]
    },
    {
     "name": "stderr",
     "output_type": "stream",
     "text": [
      "Processing page 928: : 0it [00:00, ?it/s]\n"
     ]
    },
    {
     "name": "stdout",
     "output_type": "stream",
     "text": [
      "Can't get connection to https://ivie.vn/cong-dong?page=919! Try again in 3 seconds.\n"
     ]
    },
    {
     "name": "stderr",
     "output_type": "stream",
     "text": [
      "Processing page 932: : 0it [00:00, ?it/s]\n"
     ]
    },
    {
     "name": "stdout",
     "output_type": "stream",
     "text": [
      "Can't get connection to https://ivie.vn/cong-dong?page=930! Try again in 3 seconds.\n"
     ]
    },
    {
     "name": "stderr",
     "output_type": "stream",
     "text": [
      "Processing page 933: : 0it [00:00, ?it/s]\n",
      "Processing page 934: : 0it [00:00, ?it/s]\n",
      "Processing page 931: : 0it [00:00, ?it/s]\n",
      "Processing page 935: : 0it [00:00, ?it/s]\n",
      "Processing page 919: : 0it [00:00, ?it/s]\n"
     ]
    },
    {
     "name": "stdout",
     "output_type": "stream",
     "text": [
      "Can't get connection to https://ivie.vn/cong-dong?page=930! Try again in 3 seconds.\n",
      "Can't get connection to https://ivie.vn/cong-dong?page=936! Try again in 3 seconds.\n"
     ]
    },
    {
     "name": "stderr",
     "output_type": "stream",
     "text": [
      "Processing page 937: : 0it [00:00, ?it/s]\n"
     ]
    },
    {
     "name": "stdout",
     "output_type": "stream",
     "text": [
      "Can't get connection to https://ivie.vn/cong-dong?page=939! Try again in 3 seconds.\n"
     ]
    },
    {
     "name": "stderr",
     "output_type": "stream",
     "text": [
      "Processing page 938: : 0it [00:00, ?it/s]\n",
      "Processing page 940: : 0it [00:00, ?it/s]\n"
     ]
    },
    {
     "name": "stdout",
     "output_type": "stream",
     "text": [
      "Can't get connection to https://ivie.vn/cong-dong?page=936! Try again in 3 seconds.\n"
     ]
    },
    {
     "name": "stderr",
     "output_type": "stream",
     "text": [
      "Processing page 939: : 0it [00:00, ?it/s]\n",
      "Processing page 930: : 0it [00:00, ?it/s]\n",
      "Processing page 941: : 0it [00:00, ?it/s]\n",
      "Processing page 942: : 0it [00:00, ?it/s]\n",
      "Processing page 944: : 0it [00:00, ?it/s]\n",
      "Processing page 943: : 0it [00:00, ?it/s]\n"
     ]
    },
    {
     "name": "stdout",
     "output_type": "stream",
     "text": [
      "Can't get connection to https://ivie.vn/cong-dong?page=945! Try again in 3 seconds.\n"
     ]
    },
    {
     "name": "stderr",
     "output_type": "stream",
     "text": [
      "Processing page 946: : 0it [00:00, ?it/s]\n",
      "Processing page 936: : 0it [00:00, ?it/s]\n"
     ]
    },
    {
     "name": "stdout",
     "output_type": "stream",
     "text": [
      "Can't get connection to https://ivie.vn/cong-dong?page=948! Try again in 3 seconds.\n"
     ]
    },
    {
     "name": "stderr",
     "output_type": "stream",
     "text": [
      "Processing page 947: : 0it [00:00, ?it/s]\n"
     ]
    },
    {
     "name": "stdout",
     "output_type": "stream",
     "text": [
      "Can't get connection to https://ivie.vn/cong-dong?page=945! Try again in 3 seconds.\n"
     ]
    },
    {
     "name": "stderr",
     "output_type": "stream",
     "text": [
      "Processing page 950: : 0it [00:00, ?it/s]\n",
      "Processing page 949: : 0it [00:00, ?it/s]\n",
      "Processing page 951: : 0it [00:00, ?it/s]\n"
     ]
    },
    {
     "name": "stdout",
     "output_type": "stream",
     "text": [
      "Can't get connection to https://ivie.vn/cong-dong?page=948! Try again in 3 seconds.\n"
     ]
    },
    {
     "name": "stderr",
     "output_type": "stream",
     "text": [
      "Processing page 953: : 0it [00:00, ?it/s]\n"
     ]
    },
    {
     "name": "stdout",
     "output_type": "stream",
     "text": [
      "Can't get connection to https://ivie.vn/cong-dong?page=945! Try again in 3 seconds.\n"
     ]
    },
    {
     "name": "stderr",
     "output_type": "stream",
     "text": [
      "Processing page 952: : 0it [00:00, ?it/s]\n"
     ]
    },
    {
     "name": "stdout",
     "output_type": "stream",
     "text": [
      "Can't get connection to https://ivie.vn/cong-dong?page=954! Try again in 3 seconds.\n",
      "Can't get connection to https://ivie.vn/cong-dong?page=955! Try again in 3 seconds.\n"
     ]
    },
    {
     "name": "stderr",
     "output_type": "stream",
     "text": [
      "Processing page 956: : 0it [00:00, ?it/s]\n",
      "Processing page 948: : 0it [00:00, ?it/s]\n"
     ]
    },
    {
     "name": "stdout",
     "output_type": "stream",
     "text": [
      "Can't get connection to https://ivie.vn/cong-dong?page=945! Try again in 3 seconds.\n"
     ]
    },
    {
     "name": "stderr",
     "output_type": "stream",
     "text": [
      "Processing page 954: : 0it [00:00, ?it/s]\n",
      "Processing page 955: : 0it [00:00, ?it/s]\n",
      "Processing page 957: : 0it [00:00, ?it/s]\n"
     ]
    },
    {
     "name": "stdout",
     "output_type": "stream",
     "text": [
      "Can't get connection to https://ivie.vn/cong-dong?page=958! Try again in 3 seconds.\n"
     ]
    },
    {
     "name": "stderr",
     "output_type": "stream",
     "text": [
      "Processing page 945: : 0it [00:00, ?it/s]\n",
      "Processing page 959: : 0it [00:00, ?it/s]\n",
      "Processing page 960: : 0it [00:00, ?it/s]\n",
      "Processing page 958: : 0it [00:00, ?it/s]\n"
     ]
    },
    {
     "name": "stdout",
     "output_type": "stream",
     "text": [
      "Can't get connection to https://ivie.vn/cong-dong?page=961! Try again in 3 seconds.\n",
      "Can't get connection to https://ivie.vn/cong-dong?page=962! Try again in 3 seconds.\n",
      "Can't get connection to https://ivie.vn/cong-dong?page=963! Try again in 3 seconds.\n"
     ]
    },
    {
     "name": "stderr",
     "output_type": "stream",
     "text": [
      "Processing page 964: : 0it [00:00, ?it/s]\n",
      "Processing page 965: : 0it [00:00, ?it/s]\n",
      "Processing page 961: : 0it [00:00, ?it/s]\n"
     ]
    },
    {
     "name": "stdout",
     "output_type": "stream",
     "text": [
      "Can't get connection to https://ivie.vn/cong-dong?page=962! Try again in 3 seconds.\n",
      "Can't get connection to https://ivie.vn/cong-dong?page=963! Try again in 3 seconds.\n"
     ]
    },
    {
     "name": "stderr",
     "output_type": "stream",
     "text": [
      "Processing page 966: : 0it [00:00, ?it/s]\n"
     ]
    },
    {
     "name": "stdout",
     "output_type": "stream",
     "text": [
      "Can't get connection to https://ivie.vn/cong-dong?page=967! Try again in 3 seconds.\n"
     ]
    },
    {
     "name": "stderr",
     "output_type": "stream",
     "text": [
      "Processing page 968: : 0it [00:00, ?it/s]\n"
     ]
    },
    {
     "name": "stdout",
     "output_type": "stream",
     "text": [
      "Can't get connection to https://ivie.vn/cong-dong?page=962! Try again in 3 seconds.\n",
      "Can't get connection to https://ivie.vn/cong-dong?page=963! Try again in 3 seconds.\n"
     ]
    },
    {
     "name": "stderr",
     "output_type": "stream",
     "text": [
      "Processing page 969: : 0it [00:00, ?it/s]\n"
     ]
    },
    {
     "name": "stdout",
     "output_type": "stream",
     "text": [
      "Can't get connection to https://ivie.vn/cong-dong?page=967! Try again in 3 seconds.\n",
      "Can't get connection to https://ivie.vn/cong-dong?page=970! Try again in 3 seconds.\n",
      "Can't get connection to https://ivie.vn/cong-dong?page=971! Try again in 3 seconds.\n",
      "Can't get connection to https://ivie.vn/cong-dong?page=963! Try again in 3 seconds.\n"
     ]
    },
    {
     "name": "stderr",
     "output_type": "stream",
     "text": [
      "Processing page 970: : 0it [00:00, ?it/s]\n",
      "Processing page 962: : 0it [00:00, ?it/s]\n",
      "Processing page 967: : 0it [00:00, ?it/s]\n",
      "Processing page 963: : 0it [00:00, ?it/s]\n",
      "Processing page 971: : 0it [00:00, ?it/s]\n"
     ]
    },
    {
     "name": "stdout",
     "output_type": "stream",
     "text": [
      "Can't get connection to https://ivie.vn/cong-dong?page=974! Try again in 3 seconds.\n"
     ]
    },
    {
     "name": "stderr",
     "output_type": "stream",
     "text": [
      "Processing page 973: : 0it [00:00, ?it/s]\n",
      "Processing page 972: : 0it [00:00, ?it/s]\n"
     ]
    },
    {
     "name": "stdout",
     "output_type": "stream",
     "text": [
      "Can't get connection to https://ivie.vn/cong-dong?page=976! Try again in 3 seconds.\n",
      "Can't get connection to https://ivie.vn/cong-dong?page=975! Try again in 3 seconds.\n"
     ]
    },
    {
     "name": "stderr",
     "output_type": "stream",
     "text": [
      "Processing page 977: : 0it [00:00, ?it/s]\n",
      "Processing page 978: : 0it [00:00, ?it/s]\n"
     ]
    },
    {
     "name": "stdout",
     "output_type": "stream",
     "text": [
      "Can't get connection to https://ivie.vn/cong-dong?page=974! Try again in 3 seconds.\n"
     ]
    },
    {
     "name": "stderr",
     "output_type": "stream",
     "text": [
      "Processing page 976: : 0it [00:00, ?it/s]\n"
     ]
    },
    {
     "name": "stdout",
     "output_type": "stream",
     "text": [
      "Can't get connection to https://ivie.vn/cong-dong?page=975! Try again in 3 seconds.\n"
     ]
    },
    {
     "name": "stderr",
     "output_type": "stream",
     "text": [
      "Processing page 979: : 0it [00:00, ?it/s]\n",
      "Processing page 980: : 0it [00:00, ?it/s]\n",
      "Processing page 974: : 0it [00:00, ?it/s]\n"
     ]
    },
    {
     "name": "stdout",
     "output_type": "stream",
     "text": [
      "Can't get connection to https://ivie.vn/cong-dong?page=981! Try again in 3 seconds.\n"
     ]
    },
    {
     "name": "stderr",
     "output_type": "stream",
     "text": [
      "Processing page 975: : 0it [00:00, ?it/s]\n",
      "Processing page 983: : 0it [00:00, ?it/s]\n",
      "Processing page 984: : 0it [00:00, ?it/s]\n"
     ]
    },
    {
     "name": "stdout",
     "output_type": "stream",
     "text": [
      "Can't get connection to https://ivie.vn/cong-dong?page=982! Try again in 3 seconds.\n"
     ]
    },
    {
     "name": "stderr",
     "output_type": "stream",
     "text": [
      "Processing page 986: : 0it [00:00, ?it/s]\n"
     ]
    },
    {
     "name": "stdout",
     "output_type": "stream",
     "text": [
      "Can't get connection to https://ivie.vn/cong-dong?page=981! Try again in 3 seconds.\n",
      "Can't get connection to https://ivie.vn/cong-dong?page=987! Try again in 3 seconds.\n",
      "Can't get connection to https://ivie.vn/cong-dong?page=985! Try again in 3 seconds.\n",
      "Can't get connection to https://ivie.vn/cong-dong?page=982! Try again in 3 seconds.\n",
      "Can't get connection to https://ivie.vn/cong-dong?page=988! Try again in 3 seconds.\n"
     ]
    },
    {
     "name": "stderr",
     "output_type": "stream",
     "text": [
      "Processing page 981: : 0it [00:00, ?it/s]\n",
      "Processing page 985: : 0it [00:00, ?it/s]\n"
     ]
    },
    {
     "name": "stdout",
     "output_type": "stream",
     "text": [
      "Can't get connection to https://ivie.vn/cong-dong?page=987! Try again in 3 seconds.\n"
     ]
    },
    {
     "name": "stderr",
     "output_type": "stream",
     "text": [
      "Processing page 982: : 0it [00:00, ?it/s]\n"
     ]
    },
    {
     "name": "stdout",
     "output_type": "stream",
     "text": [
      "Can't get connection to https://ivie.vn/cong-dong?page=988! Try again in 3 seconds.\n"
     ]
    },
    {
     "name": "stderr",
     "output_type": "stream",
     "text": [
      "Processing page 989: : 0it [00:00, ?it/s]\n",
      "Processing page 990: : 0it [00:00, ?it/s]\n",
      "Processing page 987: : 0it [00:00, ?it/s]\n",
      "Processing page 991: : 0it [00:00, ?it/s]\n"
     ]
    },
    {
     "name": "stdout",
     "output_type": "stream",
     "text": [
      "Can't get connection to https://ivie.vn/cong-dong?page=993! Try again in 3 seconds.\n"
     ]
    },
    {
     "name": "stderr",
     "output_type": "stream",
     "text": [
      "Processing page 988: : 0it [00:00, ?it/s]\n"
     ]
    },
    {
     "name": "stdout",
     "output_type": "stream",
     "text": [
      "Can't get connection to https://ivie.vn/cong-dong?page=992! Try again in 3 seconds.\n"
     ]
    },
    {
     "name": "stderr",
     "output_type": "stream",
     "text": [
      "Processing page 994: : 0it [00:00, ?it/s]\n"
     ]
    },
    {
     "name": "stdout",
     "output_type": "stream",
     "text": [
      "Can't get connection to https://ivie.vn/cong-dong?page=995! Try again in 3 seconds.\n",
      "Can't get connection to https://ivie.vn/cong-dong?page=997! Try again in 3 seconds.\n",
      "Can't get connection to https://ivie.vn/cong-dong?page=996! Try again in 3 seconds.\n",
      "Can't get connection to https://ivie.vn/cong-dong?page=993! Try again in 3 seconds.\n",
      "Can't get connection to https://ivie.vn/cong-dong?page=992! Try again in 3 seconds.\n"
     ]
    },
    {
     "name": "stderr",
     "output_type": "stream",
     "text": [
      "Processing page 995: : 0it [00:00, ?it/s]\n"
     ]
    },
    {
     "name": "stdout",
     "output_type": "stream",
     "text": [
      "Can't get connection to https://ivie.vn/cong-dong?page=996! Try again in 3 seconds.\n",
      "Can't get connection to https://ivie.vn/cong-dong?page=997! Try again in 3 seconds.\n"
     ]
    },
    {
     "name": "stderr",
     "output_type": "stream",
     "text": [
      "Processing page 998: : 0it [00:00, ?it/s]\n"
     ]
    },
    {
     "name": "stdout",
     "output_type": "stream",
     "text": [
      "Can't get connection to https://ivie.vn/cong-dong?page=992! Try again in 3 seconds.\n",
      "Can't get connection to https://ivie.vn/cong-dong?page=996! Try again in 3 seconds.\n",
      "Can't get connection to https://ivie.vn/cong-dong?page=999! Try again in 3 seconds.\n",
      "Can't get connection to https://ivie.vn/cong-dong?page=997! Try again in 3 seconds.\n",
      "Can't get connection to https://ivie.vn/cong-dong?page=992! Try again in 3 seconds.\n"
     ]
    },
    {
     "name": "stderr",
     "output_type": "stream",
     "text": [
      "Processing page 993: : 0it [00:00, ?it/s]\n"
     ]
    },
    {
     "name": "stdout",
     "output_type": "stream",
     "text": [
      "Can't get connection to https://ivie.vn/cong-dong?page=996! Try again in 3 seconds.\n"
     ]
    },
    {
     "name": "stderr",
     "output_type": "stream",
     "text": [
      "Processing page 997: : 0it [00:00, ?it/s]\n",
      "Processing page 999: : 0it [00:00, ?it/s]\n",
      "Processing page 1000: : 0it [00:00, ?it/s]\n",
      "Processing page 992: : 0it [00:00, ?it/s]\n",
      "Processing page 1001: : 0it [00:00, ?it/s]\n",
      "Processing page 1002: : 0it [00:00, ?it/s]\n",
      "Processing page 1003: : 0it [00:00, ?it/s]\n",
      "Processing page 996: : 0it [00:00, ?it/s]\n",
      "Processing page 1004: : 0it [00:00, ?it/s]\n"
     ]
    },
    {
     "name": "stdout",
     "output_type": "stream",
     "text": [
      "Can't get connection to https://ivie.vn/cong-dong?page=1005! Try again in 3 seconds.\n",
      "Can't get connection to https://ivie.vn/cong-dong?page=1008! Try again in 3 seconds.\n",
      "Can't get connection to https://ivie.vn/cong-dong?page=1007! Try again in 3 seconds.\n",
      "Can't get connection to https://ivie.vn/cong-dong?page=1006! Try again in 3 seconds.\n"
     ]
    },
    {
     "name": "stderr",
     "output_type": "stream",
     "text": [
      "Processing page 1009: : 0it [00:00, ?it/s]\n",
      "Processing page 1005: : 0it [00:00, ?it/s]\n",
      "Processing page 1007: : 0it [00:00, ?it/s]\n",
      "Processing page 1006: : 0it [00:00, ?it/s]\n",
      "Processing page 1010: : 0it [00:00, ?it/s]\n"
     ]
    },
    {
     "name": "stdout",
     "output_type": "stream",
     "text": [
      "Can't get connection to https://ivie.vn/cong-dong?page=1008! Try again in 3 seconds.\n"
     ]
    },
    {
     "name": "stderr",
     "output_type": "stream",
     "text": [
      "Processing page 1011: : 0it [00:00, ?it/s]\n",
      "Processing page 1012: : 0it [00:00, ?it/s]\n",
      "Processing page 1013: : 0it [00:00, ?it/s]\n",
      "Processing page 1014: : 0it [00:00, ?it/s]\n",
      "Processing page 1008: : 0it [00:00, ?it/s]\n",
      "Processing page 1015: : 0it [00:00, ?it/s]\n",
      "Processing page 1016: : 0it [00:00, ?it/s]\n",
      "Processing page 1017: : 0it [00:00, ?it/s]\n",
      "Processing page 1019: : 0it [00:00, ?it/s]\n"
     ]
    },
    {
     "name": "stdout",
     "output_type": "stream",
     "text": [
      "Can't get connection to https://ivie.vn/cong-dong?page=1020! Try again in 3 seconds.\n"
     ]
    },
    {
     "name": "stderr",
     "output_type": "stream",
     "text": [
      "Processing page 1018: : 0it [00:00, ?it/s]\n"
     ]
    },
    {
     "name": "stdout",
     "output_type": "stream",
     "text": [
      "Can't get connection to https://ivie.vn/cong-dong?page=1023! Try again in 3 seconds.\n",
      "Can't get connection to https://ivie.vn/cong-dong?page=1021! Try again in 3 seconds.Can't get connection to https://ivie.vn/cong-dong?page=1022! Try again in 3 seconds.\n",
      "\n"
     ]
    },
    {
     "name": "stderr",
     "output_type": "stream",
     "text": [
      "Processing page 1020: : 0it [00:00, ?it/s]\n",
      "Processing page 1024: : 0it [00:00, ?it/s]\n"
     ]
    },
    {
     "name": "stdout",
     "output_type": "stream",
     "text": [
      "Can't get connection to https://ivie.vn/cong-dong?page=1021! Try again in 3 seconds.\n"
     ]
    },
    {
     "name": "stderr",
     "output_type": "stream",
     "text": [
      "Processing page 1022: : 0it [00:00, ?it/s]\n",
      "Processing page 1023: : 0it [00:00, ?it/s]\n",
      "Processing page 1025: : 0it [00:00, ?it/s]\n",
      "Processing page 1026: : 0it [00:00, ?it/s]\n"
     ]
    },
    {
     "name": "stdout",
     "output_type": "stream",
     "text": [
      "Can't get connection to https://ivie.vn/cong-dong?page=1028! Try again in 3 seconds.\n"
     ]
    },
    {
     "name": "stderr",
     "output_type": "stream",
     "text": [
      "Processing page 1027: : 0it [00:00, ?it/s]\n"
     ]
    },
    {
     "name": "stdout",
     "output_type": "stream",
     "text": [
      "Can't get connection to https://ivie.vn/cong-dong?page=1021! Try again in 3 seconds.\n"
     ]
    },
    {
     "name": "stderr",
     "output_type": "stream",
     "text": [
      "Processing page 1030: : 0it [00:00, ?it/s]\n",
      "Processing page 1029: : 0it [00:00, ?it/s]\n",
      "Processing page 1031: : 0it [00:00, ?it/s]\n",
      "Processing page 1028: : 0it [00:00, ?it/s]\n",
      "Processing page 1021: : 0it [00:00, ?it/s]\n",
      "Processing page 1033: : 0it [00:00, ?it/s]\n"
     ]
    },
    {
     "name": "stdout",
     "output_type": "stream",
     "text": [
      "Can't get connection to https://ivie.vn/cong-dong?page=1032! Try again in 3 seconds.\n"
     ]
    },
    {
     "name": "stderr",
     "output_type": "stream",
     "text": [
      "Processing page 1034: : 0it [00:00, ?it/s]\n"
     ]
    },
    {
     "name": "stdout",
     "output_type": "stream",
     "text": [
      "Can't get connection to https://ivie.vn/cong-dong?page=1035! Try again in 3 seconds.\n",
      "Can't get connection to https://ivie.vn/cong-dong?page=1036! Try again in 3 seconds.\n"
     ]
    },
    {
     "name": "stderr",
     "output_type": "stream",
     "text": [
      "Processing page 1032: : 0it [00:00, ?it/s]\n",
      "Processing page 1038: : 0it [00:00, ?it/s]\n",
      "Processing page 1037: : 0it [00:00, ?it/s]\n",
      "Processing page 1035: : 0it [00:00, ?it/s]\n"
     ]
    },
    {
     "name": "stdout",
     "output_type": "stream",
     "text": [
      "Can't get connection to https://ivie.vn/cong-dong?page=1036! Try again in 3 seconds.\n",
      "Can't get connection to https://ivie.vn/cong-dong?page=1039! Try again in 3 seconds.\n"
     ]
    },
    {
     "name": "stderr",
     "output_type": "stream",
     "text": [
      "Processing page 1040: : 0it [00:00, ?it/s]\n",
      "Processing page 1041: : 0it [00:00, ?it/s]\n"
     ]
    },
    {
     "name": "stdout",
     "output_type": "stream",
     "text": [
      "Can't get connection to https://ivie.vn/cong-dong?page=1042! Try again in 3 seconds.\n",
      "Can't get connection to https://ivie.vn/cong-dong?page=1043! Try again in 3 seconds.\n"
     ]
    },
    {
     "name": "stderr",
     "output_type": "stream",
     "text": [
      "Processing page 1036: : 0it [00:00, ?it/s]\n",
      "Processing page 1039: : 0it [00:00, ?it/s]\n",
      "Processing page 1044: : 0it [00:00, ?it/s]\n",
      "Processing page 1047: : 0it [00:00, ?it/s]\n",
      "Processing page 1043: : 0it [00:00, ?it/s]\n",
      "Processing page 1042: : 0it [00:00, ?it/s]\n",
      "Processing page 1046: : 0it [00:00, ?it/s]\n",
      "Processing page 1045: : 0it [00:00, ?it/s]\n"
     ]
    },
    {
     "name": "stdout",
     "output_type": "stream",
     "text": [
      "Can't get connection to https://ivie.vn/cong-dong?page=1049! Try again in 3 seconds.\n"
     ]
    },
    {
     "name": "stderr",
     "output_type": "stream",
     "text": [
      "Processing page 1048: : 0it [00:00, ?it/s]\n",
      "Processing page 1050: : 0it [00:00, ?it/s]\n",
      "Processing page 1051: : 0it [00:00, ?it/s]\n",
      "Processing page 1052: : 0it [00:00, ?it/s]\n",
      "Processing page 1053: : 0it [00:00, ?it/s]\n",
      "Processing page 1054: : 0it [00:00, ?it/s]\n"
     ]
    },
    {
     "name": "stdout",
     "output_type": "stream",
     "text": [
      "Can't get connection to https://ivie.vn/cong-dong?page=1049! Try again in 3 seconds.\n",
      "Can't get connection to https://ivie.vn/cong-dong?page=1056! Try again in 3 seconds.\n"
     ]
    },
    {
     "name": "stderr",
     "output_type": "stream",
     "text": [
      "Processing page 1055: : 0it [00:00, ?it/s]\n"
     ]
    },
    {
     "name": "stdout",
     "output_type": "stream",
     "text": [
      "Can't get connection to https://ivie.vn/cong-dong?page=1057! Try again in 3 seconds.\n"
     ]
    },
    {
     "name": "stderr",
     "output_type": "stream",
     "text": [
      "Processing page 1058: : 0it [00:00, ?it/s]\n"
     ]
    },
    {
     "name": "stdout",
     "output_type": "stream",
     "text": [
      "Can't get connection to https://ivie.vn/cong-dong?page=1059! Try again in 3 seconds.\n",
      "Can't get connection to https://ivie.vn/cong-dong?page=1049! Try again in 3 seconds.\n",
      "Can't get connection to https://ivie.vn/cong-dong?page=1056! Try again in 3 seconds.\n",
      "Can't get connection to https://ivie.vn/cong-dong?page=1057! Try again in 3 seconds.\n",
      "Can't get connection to https://ivie.vn/cong-dong?page=1060! Try again in 3 seconds.\n"
     ]
    },
    {
     "name": "stderr",
     "output_type": "stream",
     "text": [
      "Processing page 1059: : 0it [00:00, ?it/s]\n",
      "Processing page 1049: : 0it [00:00, ?it/s]\n"
     ]
    },
    {
     "name": "stdout",
     "output_type": "stream",
     "text": [
      "Can't get connection to https://ivie.vn/cong-dong?page=1056! Try again in 3 seconds.\n",
      "Can't get connection to https://ivie.vn/cong-dong?page=1060! Try again in 3 seconds.\n",
      "Can't get connection to https://ivie.vn/cong-dong?page=1062! Try again in 3 seconds.\n",
      "Can't get connection to https://ivie.vn/cong-dong?page=1061! Try again in 3 seconds.\n",
      "Can't get connection to https://ivie.vn/cong-dong?page=1056! Try again in 3 seconds.\n",
      "Can't get connection to https://ivie.vn/cong-dong?page=1057! Try again in 3 seconds.\n",
      "Can't get connection to https://ivie.vn/cong-dong?page=1060! Try again in 3 seconds.\n"
     ]
    },
    {
     "name": "stderr",
     "output_type": "stream",
     "text": [
      "Processing page 1061: : 0it [00:00, ?it/s]\n",
      "Processing page 1062: : 0it [00:00, ?it/s]\n",
      "Processing page 1056: : 0it [00:00, ?it/s]\n",
      "Processing page 1057: : 0it [00:00, ?it/s]\n"
     ]
    },
    {
     "name": "stdout",
     "output_type": "stream",
     "text": [
      "Can't get connection to https://ivie.vn/cong-dong?page=1060! Try again in 3 seconds.\n"
     ]
    },
    {
     "name": "stderr",
     "output_type": "stream",
     "text": [
      "Processing page 1063: : 0it [00:00, ?it/s]\n",
      "Processing page 1064: : 0it [00:00, ?it/s]\n",
      "Processing page 1065: : 0it [00:00, ?it/s]\n",
      "Processing page 1066: : 0it [00:00, ?it/s]\n",
      "Processing page 1067: : 0it [00:00, ?it/s]\n",
      "Processing page 1068: : 0it [00:00, ?it/s]\n",
      "Processing page 1060: : 0it [00:00, ?it/s]\n",
      "Processing page 1069: : 0it [00:00, ?it/s]\n",
      "Processing page 1070: : 0it [00:00, ?it/s]\n",
      "Processing page 1071: : 0it [00:00, ?it/s]\n",
      "Processing page 1072: : 0it [00:00, ?it/s]\n",
      "Processing page 1073: : 0it [00:00, ?it/s]\n",
      "Processing page 1074: : 0it [00:00, ?it/s]\n",
      "Processing page 1076: : 0it [00:00, ?it/s]\n"
     ]
    },
    {
     "name": "stdout",
     "output_type": "stream",
     "text": [
      "Can't get connection to https://ivie.vn/cong-dong?page=1075! Try again in 3 seconds.\n",
      "Can't get connection to https://ivie.vn/cong-dong?page=1078! Try again in 3 seconds.\n",
      "Can't get connection to https://ivie.vn/cong-dong?page=1079! Try again in 3 seconds.\n",
      "Can't get connection to https://ivie.vn/cong-dong?page=1077! Try again in 3 seconds.\n",
      "Can't get connection to https://ivie.vn/cong-dong?page=1080! Try again in 3 seconds.\n"
     ]
    },
    {
     "name": "stderr",
     "output_type": "stream",
     "text": [
      "Processing page 1075: : 0it [00:00, ?it/s]\n"
     ]
    },
    {
     "name": "stdout",
     "output_type": "stream",
     "text": [
      "Can't get connection to https://ivie.vn/cong-dong?page=1078! Try again in 3 seconds.\n",
      "Can't get connection to https://ivie.vn/cong-dong?page=1077! Try again in 3 seconds.\n"
     ]
    },
    {
     "name": "stderr",
     "output_type": "stream",
     "text": [
      "Processing page 1080: : 0it [00:00, ?it/s]\n"
     ]
    },
    {
     "name": "stdout",
     "output_type": "stream",
     "text": [
      "Can't get connection to https://ivie.vn/cong-dong?page=1081! Try again in 3 seconds.\n",
      "Can't get connection to https://ivie.vn/cong-dong?page=1079! Try again in 3 seconds.\n"
     ]
    },
    {
     "name": "stderr",
     "output_type": "stream",
     "text": [
      "Processing page 1077: : 0it [00:00, ?it/s]\n"
     ]
    },
    {
     "name": "stdout",
     "output_type": "stream",
     "text": [
      "Can't get connection to https://ivie.vn/cong-dong?page=1078! Try again in 3 seconds.\n"
     ]
    },
    {
     "name": "stderr",
     "output_type": "stream",
     "text": [
      "Processing page 1082: : 0it [00:00, ?it/s]\n"
     ]
    },
    {
     "name": "stdout",
     "output_type": "stream",
     "text": [
      "Can't get connection to https://ivie.vn/cong-dong?page=1081! Try again in 3 seconds.\n",
      "Can't get connection to https://ivie.vn/cong-dong?page=1079! Try again in 3 seconds.\n",
      "Can't get connection to https://ivie.vn/cong-dong?page=1083! Try again in 3 seconds.\n",
      "Can't get connection to https://ivie.vn/cong-dong?page=1084! Try again in 3 seconds.\n"
     ]
    },
    {
     "name": "stderr",
     "output_type": "stream",
     "text": [
      "Processing page 1078: : 0it [00:00, ?it/s]\n",
      "Processing page 1081: : 0it [00:00, ?it/s]\n",
      "Processing page 1079: : 0it [00:00, ?it/s]\n",
      "Processing page 1083: : 0it [00:00, ?it/s]\n",
      "Processing page 1084: : 0it [00:00, ?it/s]\n"
     ]
    },
    {
     "name": "stdout",
     "output_type": "stream",
     "text": [
      "Can't get connection to https://ivie.vn/cong-dong?page=1085! Try again in 3 seconds.\n",
      "Can't get connection to https://ivie.vn/cong-dong?page=1086! Try again in 3 seconds.\n"
     ]
    },
    {
     "name": "stderr",
     "output_type": "stream",
     "text": [
      "Processing page 1087: : 0it [00:00, ?it/s]\n",
      "Processing page 1088: : 0it [00:00, ?it/s]\n",
      "Processing page 1089: : 0it [00:00, ?it/s]\n"
     ]
    },
    {
     "name": "stdout",
     "output_type": "stream",
     "text": [
      "Can't get connection to https://ivie.vn/cong-dong?page=1085! Try again in 3 seconds.\n"
     ]
    },
    {
     "name": "stderr",
     "output_type": "stream",
     "text": [
      "Processing page 1090: : 0it [00:00, ?it/s]\n",
      "Processing page 1086: : 0it [00:00, ?it/s]\n"
     ]
    },
    {
     "name": "stdout",
     "output_type": "stream",
     "text": [
      "Can't get connection to https://ivie.vn/cong-dong?page=1091! Try again in 3 seconds.\n",
      "Can't get connection to https://ivie.vn/cong-dong?page=1092! Try again in 3 seconds.\n",
      "Can't get connection to https://ivie.vn/cong-dong?page=1094! Try again in 3 seconds.\n"
     ]
    },
    {
     "name": "stderr",
     "output_type": "stream",
     "text": [
      "Processing page 1093: : 0it [00:00, ?it/s]\n",
      "Processing page 1085: : 0it [00:00, ?it/s]\n",
      "Processing page 1092: : 0it [00:00, ?it/s]\n",
      "Processing page 1091: : 0it [00:00, ?it/s]\n"
     ]
    },
    {
     "name": "stdout",
     "output_type": "stream",
     "text": [
      "Can't get connection to https://ivie.vn/cong-dong?page=1096! Try again in 3 seconds.\n"
     ]
    },
    {
     "name": "stderr",
     "output_type": "stream",
     "text": [
      "Processing page 1095: : 0it [00:00, ?it/s]\n",
      "Processing page 1094: : 0it [00:00, ?it/s]\n",
      "Processing page 1098: : 0it [00:00, ?it/s]\n",
      "Processing page 1097: : 0it [00:00, ?it/s]\n"
     ]
    },
    {
     "name": "stdout",
     "output_type": "stream",
     "text": [
      "Can't get connection to https://ivie.vn/cong-dong?page=1100! Try again in 3 seconds.\n"
     ]
    },
    {
     "name": "stderr",
     "output_type": "stream",
     "text": [
      "Processing page 1099: : 0it [00:00, ?it/s]\n",
      "Processing page 1096: : 0it [00:00, ?it/s]\n",
      "Processing page 1101: : 0it [00:00, ?it/s]\n",
      "Processing page 1102: : 0it [00:00, ?it/s]\n"
     ]
    },
    {
     "name": "stdout",
     "output_type": "stream",
     "text": [
      "Can't get connection to https://ivie.vn/cong-dong?page=1104! Try again in 3 seconds.\n"
     ]
    },
    {
     "name": "stderr",
     "output_type": "stream",
     "text": [
      "Processing page 1100: : 0it [00:00, ?it/s]\n",
      "Processing page 1103: : 0it [00:00, ?it/s]\n",
      "Processing page 1105: : 0it [00:00, ?it/s]\n"
     ]
    },
    {
     "name": "stdout",
     "output_type": "stream",
     "text": [
      "Can't get connection to https://ivie.vn/cong-dong?page=1106! Try again in 3 seconds.\n"
     ]
    },
    {
     "name": "stderr",
     "output_type": "stream",
     "text": [
      "Processing page 1107: : 0it [00:00, ?it/s]\n",
      "Processing page 1108: : 0it [00:00, ?it/s]\n",
      "Processing page 1104: : 0it [00:00, ?it/s]\n",
      "Processing page 1109: : 0it [00:00, ?it/s]\n"
     ]
    },
    {
     "name": "stdout",
     "output_type": "stream",
     "text": [
      "Can't get connection to https://ivie.vn/cong-dong?page=1111! Try again in 3 seconds.\n"
     ]
    },
    {
     "name": "stderr",
     "output_type": "stream",
     "text": [
      "Processing page 1106: : 0it [00:00, ?it/s]\n",
      "Processing page 1110: : 0it [00:00, ?it/s]\n",
      "Processing page 1112: : 0it [00:00, ?it/s]\n",
      "Processing page 1113: : 0it [00:00, ?it/s]\n"
     ]
    },
    {
     "name": "stdout",
     "output_type": "stream",
     "text": [
      "Can't get connection to https://ivie.vn/cong-dong?page=1114! Try again in 3 seconds.\n",
      "Can't get connection to https://ivie.vn/cong-dong?page=1111! Try again in 3 seconds.\n"
     ]
    },
    {
     "name": "stderr",
     "output_type": "stream",
     "text": [
      "Processing page 1117: : 0it [00:00, ?it/s]\n"
     ]
    },
    {
     "name": "stdout",
     "output_type": "stream",
     "text": [
      "Can't get connection to https://ivie.vn/cong-dong?page=1116! Try again in 3 seconds.\n",
      "Can't get connection to https://ivie.vn/cong-dong?page=1114! Try again in 3 seconds.\n"
     ]
    },
    {
     "name": "stderr",
     "output_type": "stream",
     "text": [
      "Processing page 1116: : 0it [00:00, ?it/s]\n",
      "Processing page 1111: : 0it [00:00, ?it/s]\n",
      "Processing page 1115: : 0it [00:00, ?it/s]\n",
      "Processing page 1118: : 0it [00:00, ?it/s]\n"
     ]
    },
    {
     "name": "stdout",
     "output_type": "stream",
     "text": [
      "Can't get connection to https://ivie.vn/cong-dong?page=1119! Try again in 3 seconds.\n"
     ]
    },
    {
     "name": "stderr",
     "output_type": "stream",
     "text": [
      "Processing page 1121: : 0it [00:00, ?it/s]\n",
      "Processing page 1122: : 0it [00:00, ?it/s]\n",
      "Processing page 1119: : 0it [00:00, ?it/s]\n",
      "Processing page 1123: : 0it [00:00, ?it/s]\n"
     ]
    },
    {
     "name": "stdout",
     "output_type": "stream",
     "text": [
      "Can't get connection to https://ivie.vn/cong-dong?page=1114! Try again in 3 seconds.\n",
      "Can't get connection to https://ivie.vn/cong-dong?page=1120! Try again in 3 seconds.\n",
      "Can't get connection to https://ivie.vn/cong-dong?page=1124! Try again in 3 seconds.\n"
     ]
    },
    {
     "name": "stderr",
     "output_type": "stream",
     "text": [
      "Processing page 1126: : 0it [00:00, ?it/s]\n",
      "Processing page 1125: : 0it [00:00, ?it/s]\n"
     ]
    },
    {
     "name": "stdout",
     "output_type": "stream",
     "text": [
      "Can't get connection to https://ivie.vn/cong-dong?page=1120! Try again in 3 seconds.\n"
     ]
    },
    {
     "name": "stderr",
     "output_type": "stream",
     "text": [
      "Processing page 1114: : 0it [00:00, ?it/s]\n",
      "Processing page 1124: : 0it [00:00, ?it/s]\n"
     ]
    },
    {
     "name": "stdout",
     "output_type": "stream",
     "text": [
      "Can't get connection to https://ivie.vn/cong-dong?page=1127! Try again in 3 seconds.\n",
      "Can't get connection to https://ivie.vn/cong-dong?page=1128! Try again in 3 seconds.\n"
     ]
    },
    {
     "name": "stderr",
     "output_type": "stream",
     "text": [
      "Processing page 1129: : 0it [00:00, ?it/s]\n"
     ]
    },
    {
     "name": "stdout",
     "output_type": "stream",
     "text": [
      "Can't get connection to https://ivie.vn/cong-dong?page=1130! Try again in 3 seconds.\n"
     ]
    },
    {
     "name": "stderr",
     "output_type": "stream",
     "text": [
      "Processing page 1120: : 0it [00:00, ?it/s]\n",
      "Processing page 1127: : 0it [00:00, ?it/s]\n",
      "Processing page 1128: : 0it [00:00, ?it/s]\n",
      "Processing page 1131: : 0it [00:00, ?it/s]\n",
      "Processing page 1130: : 0it [00:00, ?it/s]\n"
     ]
    },
    {
     "name": "stdout",
     "output_type": "stream",
     "text": [
      "Can't get connection to https://ivie.vn/cong-dong?page=1133! Try again in 3 seconds.\n"
     ]
    },
    {
     "name": "stderr",
     "output_type": "stream",
     "text": [
      "Processing page 1132: : 0it [00:00, ?it/s]\n"
     ]
    },
    {
     "name": "stdout",
     "output_type": "stream",
     "text": [
      "Can't get connection to https://ivie.vn/cong-dong?page=1135! Try again in 3 seconds.\n"
     ]
    },
    {
     "name": "stderr",
     "output_type": "stream",
     "text": [
      "Processing page 1134: : 0it [00:00, ?it/s]\n"
     ]
    },
    {
     "name": "stdout",
     "output_type": "stream",
     "text": [
      "Can't get connection to https://ivie.vn/cong-dong?page=1136! Try again in 3 seconds.\n",
      "Can't get connection to https://ivie.vn/cong-dong?page=1137! Try again in 3 seconds.\n"
     ]
    },
    {
     "name": "stderr",
     "output_type": "stream",
     "text": [
      "Processing page 1138: : 0it [00:00, ?it/s]\n",
      "Processing page 1133: : 0it [00:00, ?it/s]\n"
     ]
    },
    {
     "name": "stdout",
     "output_type": "stream",
     "text": [
      "Can't get connection to https://ivie.vn/cong-dong?page=1135! Try again in 3 seconds.\n"
     ]
    },
    {
     "name": "stderr",
     "output_type": "stream",
     "text": [
      "Processing page 1136: : 0it [00:00, ?it/s]\n",
      "Processing page 1139: : 0it [00:00, ?it/s]\n"
     ]
    },
    {
     "name": "stdout",
     "output_type": "stream",
     "text": [
      "Can't get connection to https://ivie.vn/cong-dong?page=1137! Try again in 3 seconds.\n"
     ]
    },
    {
     "name": "stderr",
     "output_type": "stream",
     "text": [
      "Processing page 1140: : 0it [00:00, ?it/s]\n",
      "Processing page 1135: : 0it [00:00, ?it/s]\n",
      "Processing page 1141: : 0it [00:00, ?it/s]\n",
      "Processing page 1142: : 0it [00:00, ?it/s]\n",
      "Processing page 1143: : 0it [00:00, ?it/s]\n",
      "Processing page 1144: : 0it [00:00, ?it/s]\n",
      "Processing page 1137: : 0it [00:00, ?it/s]\n"
     ]
    },
    {
     "name": "stdout",
     "output_type": "stream",
     "text": [
      "Can't get connection to https://ivie.vn/cong-dong?page=1145! Try again in 3 seconds.\n"
     ]
    },
    {
     "name": "stderr",
     "output_type": "stream",
     "text": [
      "Processing page 1146: : 0it [00:00, ?it/s]\n"
     ]
    },
    {
     "name": "stdout",
     "output_type": "stream",
     "text": [
      "Can't get connection to https://ivie.vn/cong-dong?page=1147! Try again in 3 seconds.\n"
     ]
    },
    {
     "name": "stderr",
     "output_type": "stream",
     "text": [
      "Processing page 1149: : 0it [00:00, ?it/s]\n",
      "Processing page 1148: : 0it [00:00, ?it/s]\n",
      "Processing page 1150: : 0it [00:00, ?it/s]\n",
      "Processing page 1145: : 0it [00:00, ?it/s]\n"
     ]
    },
    {
     "name": "stdout",
     "output_type": "stream",
     "text": [
      "Can't get connection to https://ivie.vn/cong-dong?page=1147! Try again in 3 seconds.\n"
     ]
    },
    {
     "name": "stderr",
     "output_type": "stream",
     "text": [
      "Processing page 1151: : 0it [00:00, ?it/s]\n",
      "Processing page 1154: : 0it [00:00, ?it/s]\n"
     ]
    },
    {
     "name": "stdout",
     "output_type": "stream",
     "text": [
      "Can't get connection to https://ivie.vn/cong-dong?page=1152! Try again in 3 seconds.\n",
      "Can't get connection to https://ivie.vn/cong-dong?page=1153! Try again in 3 seconds.\n",
      "Can't get connection to https://ivie.vn/cong-dong?page=1155! Try again in 3 seconds.\n"
     ]
    },
    {
     "name": "stderr",
     "output_type": "stream",
     "text": [
      "Processing page 1147: : 0it [00:00, ?it/s]\n",
      "Processing page 1156: : 0it [00:00, ?it/s]\n"
     ]
    },
    {
     "name": "stdout",
     "output_type": "stream",
     "text": [
      "Can't get connection to https://ivie.vn/cong-dong?page=1153! Try again in 3 seconds.\n",
      "Can't get connection to https://ivie.vn/cong-dong?page=1157! Try again in 3 seconds.\n",
      "Can't get connection to https://ivie.vn/cong-dong?page=1152! Try again in 3 seconds.\n"
     ]
    },
    {
     "name": "stderr",
     "output_type": "stream",
     "text": [
      "Processing page 1155: : 0it [00:00, ?it/s]\n",
      "Processing page 1158: : 0it [00:00, ?it/s]\n",
      "Processing page 1152: : 0it [00:00, ?it/s]\n",
      "Processing page 1157: : 0it [00:00, ?it/s]\n"
     ]
    },
    {
     "name": "stdout",
     "output_type": "stream",
     "text": [
      "Can't get connection to https://ivie.vn/cong-dong?page=1159! Try again in 3 seconds.\n"
     ]
    },
    {
     "name": "stderr",
     "output_type": "stream",
     "text": [
      "Processing page 1153: : 0it [00:00, ?it/s]\n",
      "Processing page 1160: : 0it [00:00, ?it/s]\n",
      "Processing page 1161: : 0it [00:00, ?it/s]\n",
      "Processing page 1163: : 0it [00:00, ?it/s]\n",
      "Processing page 1162: : 0it [00:00, ?it/s]\n"
     ]
    },
    {
     "name": "stdout",
     "output_type": "stream",
     "text": [
      "Can't get connection to https://ivie.vn/cong-dong?page=1164! Try again in 3 seconds.\n",
      "Can't get connection to https://ivie.vn/cong-dong?page=1159! Try again in 3 seconds.\n",
      "Can't get connection to https://ivie.vn/cong-dong?page=1165! Try again in 3 seconds.\n"
     ]
    },
    {
     "name": "stderr",
     "output_type": "stream",
     "text": [
      "Processing page 1166: : 0it [00:00, ?it/s]\n",
      "Processing page 1167: : 0it [00:00, ?it/s]\n"
     ]
    },
    {
     "name": "stdout",
     "output_type": "stream",
     "text": [
      "Can't get connection to https://ivie.vn/cong-dong?page=1164! Try again in 3 seconds.\n"
     ]
    },
    {
     "name": "stderr",
     "output_type": "stream",
     "text": [
      "Processing page 1159: : 0it [00:00, ?it/s]\n"
     ]
    },
    {
     "name": "stdout",
     "output_type": "stream",
     "text": [
      "Can't get connection to https://ivie.vn/cong-dong?page=1165! Try again in 3 seconds.\n",
      "Can't get connection to https://ivie.vn/cong-dong?page=1168! Try again in 3 seconds.\n",
      "Can't get connection to https://ivie.vn/cong-dong?page=1169! Try again in 3 seconds.\n",
      "Can't get connection to https://ivie.vn/cong-dong?page=1170! Try again in 3 seconds.\n",
      "Can't get connection to https://ivie.vn/cong-dong?page=1164! Try again in 3 seconds.\n",
      "Can't get connection to https://ivie.vn/cong-dong?page=1165! Try again in 3 seconds.\n",
      "Can't get connection to https://ivie.vn/cong-dong?page=1168! Try again in 3 seconds.\n",
      "Can't get connection to https://ivie.vn/cong-dong?page=1169! Try again in 3 seconds.\n"
     ]
    },
    {
     "name": "stderr",
     "output_type": "stream",
     "text": [
      "Processing page 1170: : 0it [00:00, ?it/s]\n",
      "Processing page 1165: : 0it [00:00, ?it/s]\n",
      "Processing page 1168: : 0it [00:00, ?it/s]\n",
      "Processing page 1164: : 0it [00:00, ?it/s]\n",
      "Processing page 1169: : 0it [00:00, ?it/s]\n"
     ]
    },
    {
     "name": "stdout",
     "output_type": "stream",
     "text": [
      "Can't get connection to https://ivie.vn/cong-dong?page=1171! Try again in 3 seconds.\n",
      "Can't get connection to https://ivie.vn/cong-dong?page=1172! Try again in 3 seconds.\n"
     ]
    },
    {
     "name": "stderr",
     "output_type": "stream",
     "text": [
      "Processing page 1173: : 0it [00:00, ?it/s]\n"
     ]
    },
    {
     "name": "stdout",
     "output_type": "stream",
     "text": [
      "Can't get connection to https://ivie.vn/cong-dong?page=1174! Try again in 3 seconds.\n"
     ]
    },
    {
     "name": "stderr",
     "output_type": "stream",
     "text": [
      "Processing page 1171: : 0it [00:00, ?it/s]\n"
     ]
    },
    {
     "name": "stdout",
     "output_type": "stream",
     "text": [
      "Can't get connection to https://ivie.vn/cong-dong?page=1172! Try again in 3 seconds.\n",
      "Can't get connection to https://ivie.vn/cong-dong?page=1174! Try again in 3 seconds.\n",
      "Can't get connection to https://ivie.vn/cong-dong?page=1176! Try again in 3 seconds.\n"
     ]
    },
    {
     "name": "stderr",
     "output_type": "stream",
     "text": [
      "Processing page 1175: : 0it [00:00, ?it/s]\n",
      "Processing page 1177: : 0it [00:00, ?it/s]\n",
      "Processing page 1178: : 0it [00:00, ?it/s]\n"
     ]
    },
    {
     "name": "stdout",
     "output_type": "stream",
     "text": [
      "Can't get connection to https://ivie.vn/cong-dong?page=1176! Try again in 3 seconds.\n"
     ]
    },
    {
     "name": "stderr",
     "output_type": "stream",
     "text": [
      "Processing page 1174: : 0it [00:00, ?it/s]\n"
     ]
    },
    {
     "name": "stdout",
     "output_type": "stream",
     "text": [
      "Can't get connection to https://ivie.vn/cong-dong?page=1179! Try again in 3 seconds.\n",
      "Can't get connection to https://ivie.vn/cong-dong?page=1172! Try again in 3 seconds.\n",
      "Can't get connection to https://ivie.vn/cong-dong?page=1181! Try again in 3 seconds.\n",
      "Can't get connection to https://ivie.vn/cong-dong?page=1180! Try again in 3 seconds.\n"
     ]
    },
    {
     "name": "stderr",
     "output_type": "stream",
     "text": [
      "Processing page 1172: : 0it [00:00, ?it/s]\n"
     ]
    },
    {
     "name": "stdout",
     "output_type": "stream",
     "text": [
      "Can't get connection to https://ivie.vn/cong-dong?page=1179! Try again in 3 seconds.\n"
     ]
    },
    {
     "name": "stderr",
     "output_type": "stream",
     "text": [
      "Processing page 1180: : 0it [00:00, ?it/s]\n"
     ]
    },
    {
     "name": "stdout",
     "output_type": "stream",
     "text": [
      "Can't get connection to https://ivie.vn/cong-dong?page=1182! Try again in 3 seconds.\n"
     ]
    },
    {
     "name": "stderr",
     "output_type": "stream",
     "text": [
      "Processing page 1181: : 0it [00:00, ?it/s]\n",
      "Processing page 1183: : 0it [00:00, ?it/s]\n"
     ]
    },
    {
     "name": "stdout",
     "output_type": "stream",
     "text": [
      "Can't get connection to https://ivie.vn/cong-dong?page=1179! Try again in 3 seconds.\n"
     ]
    },
    {
     "name": "stderr",
     "output_type": "stream",
     "text": [
      "Processing page 1176: : 0it [00:00, ?it/s]\n",
      "Processing page 1184: : 0it [00:00, ?it/s]\n"
     ]
    },
    {
     "name": "stdout",
     "output_type": "stream",
     "text": [
      "Can't get connection to https://ivie.vn/cong-dong?page=1182! Try again in 3 seconds.\n",
      "Can't get connection to https://ivie.vn/cong-dong?page=1185! Try again in 3 seconds.\n",
      "Can't get connection to https://ivie.vn/cong-dong?page=1179! Try again in 3 seconds.\n",
      "Can't get connection to https://ivie.vn/cong-dong?page=1186! Try again in 3 seconds.\n",
      "Can't get connection to https://ivie.vn/cong-dong?page=1187! Try again in 3 seconds.\n"
     ]
    },
    {
     "name": "stderr",
     "output_type": "stream",
     "text": [
      "Processing page 1182: : 0it [00:00, ?it/s]\n",
      "Processing page 1185: : 0it [00:00, ?it/s]\n"
     ]
    },
    {
     "name": "stdout",
     "output_type": "stream",
     "text": [
      "Can't get connection to https://ivie.vn/cong-dong?page=1179! Try again in 3 seconds.\n"
     ]
    },
    {
     "name": "stderr",
     "output_type": "stream",
     "text": [
      "Processing page 1186: : 0it [00:00, ?it/s]\n",
      "Processing page 1187: : 0it [00:00, ?it/s]\n"
     ]
    },
    {
     "name": "stdout",
     "output_type": "stream",
     "text": [
      "Can't get connection to https://ivie.vn/cong-dong?page=1188! Try again in 3 seconds.\n"
     ]
    },
    {
     "name": "stderr",
     "output_type": "stream",
     "text": [
      "Processing page 1189: : 0it [00:00, ?it/s]\n"
     ]
    },
    {
     "name": "stdout",
     "output_type": "stream",
     "text": [
      "Can't get connection to https://ivie.vn/cong-dong?page=1190! Try again in 3 seconds.\n",
      "Can't get connection to https://ivie.vn/cong-dong?page=1179! Try again in 3 seconds.\n",
      "Can't get connection to https://ivie.vn/cong-dong?page=1192! Try again in 3 seconds.\n",
      "Can't get connection to https://ivie.vn/cong-dong?page=1191! Try again in 3 seconds.\n",
      "Can't get connection to https://ivie.vn/cong-dong?page=1188! Try again in 3 seconds.\n"
     ]
    },
    {
     "name": "stderr",
     "output_type": "stream",
     "text": [
      "Processing page 1179: : 0it [00:00, ?it/s]\n",
      "Processing page 1190: : 0it [00:00, ?it/s]\n"
     ]
    },
    {
     "name": "stdout",
     "output_type": "stream",
     "text": [
      "Can't get connection to https://ivie.vn/cong-dong?page=1192! Try again in 3 seconds.\n"
     ]
    },
    {
     "name": "stderr",
     "output_type": "stream",
     "text": [
      "Processing page 1194: : 0it [00:00, ?it/s]\n",
      "Processing page 1188: : 0it [00:00, ?it/s]\n"
     ]
    },
    {
     "name": "stdout",
     "output_type": "stream",
     "text": [
      "Can't get connection to https://ivie.vn/cong-dong?page=1193! Try again in 3 seconds.\n",
      "Can't get connection to https://ivie.vn/cong-dong?page=1192! Try again in 3 seconds.\n"
     ]
    },
    {
     "name": "stderr",
     "output_type": "stream",
     "text": [
      "Processing page 1196: : 0it [00:00, ?it/s]\n",
      "Processing page 1195: : 0it [00:00, ?it/s]\n"
     ]
    },
    {
     "name": "stdout",
     "output_type": "stream",
     "text": [
      "Can't get connection to https://ivie.vn/cong-dong?page=1191! Try again in 3 seconds.\n"
     ]
    },
    {
     "name": "stderr",
     "output_type": "stream",
     "text": [
      "Processing page 1193: : 0it [00:00, ?it/s]\n"
     ]
    },
    {
     "name": "stdout",
     "output_type": "stream",
     "text": [
      "Can't get connection to https://ivie.vn/cong-dong?page=1197! Try again in 3 seconds.\n"
     ]
    },
    {
     "name": "stderr",
     "output_type": "stream",
     "text": [
      "Processing page 1198: : 0it [00:00, ?it/s]\n"
     ]
    },
    {
     "name": "stdout",
     "output_type": "stream",
     "text": [
      "Can't get connection to https://ivie.vn/cong-dong?page=1192! Try again in 3 seconds.\n",
      "Can't get connection to https://ivie.vn/cong-dong?page=1199! Try again in 3 seconds.\n",
      "Can't get connection to https://ivie.vn/cong-dong?page=1191! Try again in 3 seconds.\n"
     ]
    },
    {
     "name": "stderr",
     "output_type": "stream",
     "text": [
      "Processing page 1200: : 0it [00:00, ?it/s]\n"
     ]
    },
    {
     "name": "stdout",
     "output_type": "stream",
     "text": [
      "Can't get connection to https://ivie.vn/cong-dong?page=1197! Try again in 3 seconds.\n",
      "Can't get connection to https://ivie.vn/cong-dong?page=1192! Try again in 3 seconds.\n"
     ]
    },
    {
     "name": "stderr",
     "output_type": "stream",
     "text": [
      "Processing page 1201: : 0it [00:00, ?it/s]\n"
     ]
    },
    {
     "name": "stdout",
     "output_type": "stream",
     "text": [
      "Can't get connection to https://ivie.vn/cong-dong?page=1199! Try again in 3 seconds.\n"
     ]
    },
    {
     "name": "stderr",
     "output_type": "stream",
     "text": [
      "Processing page 1191: : 0it [00:00, ?it/s]\n"
     ]
    },
    {
     "name": "stdout",
     "output_type": "stream",
     "text": [
      "Can't get connection to https://ivie.vn/cong-dong?page=1202! Try again in 3 seconds.\n",
      "Can't get connection to https://ivie.vn/cong-dong?page=1197! Try again in 3 seconds.\n",
      "Can't get connection to https://ivie.vn/cong-dong?page=1192! Try again in 3 seconds.\n"
     ]
    },
    {
     "name": "stderr",
     "output_type": "stream",
     "text": [
      "Processing page 1199: : 0it [00:00, ?it/s]\n",
      "Processing page 1203: : 0it [00:00, ?it/s]\n",
      "Processing page 1202: : 0it [00:00, ?it/s]\n",
      "Processing page 1204: : 0it [00:00, ?it/s]\n",
      "Processing page 1192: : 0it [00:00, ?it/s]\n"
     ]
    },
    {
     "name": "stdout",
     "output_type": "stream",
     "text": [
      "Can't get connection to https://ivie.vn/cong-dong?page=1197! Try again in 3 seconds.\n",
      "Can't get connection to https://ivie.vn/cong-dong?page=1205! Try again in 3 seconds.\n"
     ]
    },
    {
     "name": "stderr",
     "output_type": "stream",
     "text": [
      "Processing page 1206: : 0it [00:00, ?it/s]\n"
     ]
    },
    {
     "name": "stdout",
     "output_type": "stream",
     "text": [
      "Can't get connection to https://ivie.vn/cong-dong?page=1207! Try again in 3 seconds.\n",
      "Can't get connection to https://ivie.vn/cong-dong?page=1208! Try again in 3 seconds.\n"
     ]
    },
    {
     "name": "stderr",
     "output_type": "stream",
     "text": [
      "Processing page 1197: : 0it [00:00, ?it/s]\n",
      "Processing page 1209: : 0it [00:00, ?it/s]\n"
     ]
    },
    {
     "name": "stdout",
     "output_type": "stream",
     "text": [
      "Can't get connection to https://ivie.vn/cong-dong?page=1205! Try again in 3 seconds.\n",
      "Can't get connection to https://ivie.vn/cong-dong?page=1207! Try again in 3 seconds.\n",
      "Can't get connection to https://ivie.vn/cong-dong?page=1211! Try again in 3 seconds.\n",
      "Can't get connection to https://ivie.vn/cong-dong?page=1208! Try again in 3 seconds.\n",
      "Can't get connection to https://ivie.vn/cong-dong?page=1210! Try again in 3 seconds.\n",
      "Can't get connection to https://ivie.vn/cong-dong?page=1205! Try again in 3 seconds.\n"
     ]
    },
    {
     "name": "stderr",
     "output_type": "stream",
     "text": [
      "Processing page 1207: : 0it [00:00, ?it/s]\n",
      "Processing page 1211: : 0it [00:00, ?it/s]\n",
      "Processing page 1210: : 0it [00:00, ?it/s]\n"
     ]
    },
    {
     "name": "stdout",
     "output_type": "stream",
     "text": [
      "Can't get connection to https://ivie.vn/cong-dong?page=1205! Try again in 3 seconds.\n",
      "Can't get connection to https://ivie.vn/cong-dong?page=1212! Try again in 3 seconds.\n",
      "Can't get connection to https://ivie.vn/cong-dong?page=1213! Try again in 3 seconds.\n",
      "Can't get connection to https://ivie.vn/cong-dong?page=1208! Try again in 3 seconds.\n"
     ]
    },
    {
     "name": "stderr",
     "output_type": "stream",
     "text": [
      "Processing page 1214: : 0it [00:00, ?it/s]\n",
      "Processing page 1205: : 0it [00:00, ?it/s]\n",
      "Processing page 1212: : 0it [00:00, ?it/s]\n"
     ]
    },
    {
     "name": "stdout",
     "output_type": "stream",
     "text": [
      "Can't get connection to https://ivie.vn/cong-dong?page=1215! Try again in 3 seconds.\n",
      "Can't get connection to https://ivie.vn/cong-dong?page=1213! Try again in 3 seconds.\n"
     ]
    },
    {
     "name": "stderr",
     "output_type": "stream",
     "text": [
      "Processing page 1208: : 0it [00:00, ?it/s]\n"
     ]
    },
    {
     "name": "stdout",
     "output_type": "stream",
     "text": [
      "Can't get connection to https://ivie.vn/cong-dong?page=1216! Try again in 3 seconds.\n"
     ]
    },
    {
     "name": "stderr",
     "output_type": "stream",
     "text": [
      "Processing page 1217: : 0it [00:00, ?it/s]\n"
     ]
    },
    {
     "name": "stdout",
     "output_type": "stream",
     "text": [
      "Can't get connection to https://ivie.vn/cong-dong?page=1218! Try again in 3 seconds.\n",
      "Can't get connection to https://ivie.vn/cong-dong?page=1215! Try again in 3 seconds.\n",
      "Can't get connection to https://ivie.vn/cong-dong?page=1219! Try again in 3 seconds.\n",
      "Can't get connection to https://ivie.vn/cong-dong?page=1213! Try again in 3 seconds.\n",
      "Can't get connection to https://ivie.vn/cong-dong?page=1216! Try again in 3 seconds.\n"
     ]
    },
    {
     "name": "stderr",
     "output_type": "stream",
     "text": [
      "Processing page 1218: : 0it [00:00, ?it/s]\n",
      "Processing page 1215: : 0it [00:00, ?it/s]\n",
      "Processing page 1213: : 0it [00:00, ?it/s]\n"
     ]
    },
    {
     "name": "stdout",
     "output_type": "stream",
     "text": [
      "Can't get connection to https://ivie.vn/cong-dong?page=1219! Try again in 3 seconds.\n",
      "Can't get connection to https://ivie.vn/cong-dong?page=1220! Try again in 3 seconds.\n"
     ]
    },
    {
     "name": "stderr",
     "output_type": "stream",
     "text": [
      "Processing page 1221: : 0it [00:00, ?it/s]\n",
      "Processing page 1216: : 0it [00:00, ?it/s]\n"
     ]
    },
    {
     "name": "stdout",
     "output_type": "stream",
     "text": [
      "Can't get connection to https://ivie.vn/cong-dong?page=1222! Try again in 3 seconds.\n",
      "Can't get connection to https://ivie.vn/cong-dong?page=1223! Try again in 3 seconds.\n"
     ]
    },
    {
     "name": "stderr",
     "output_type": "stream",
     "text": [
      "Processing page 1220: : 0it [00:00, ?it/s]\n"
     ]
    },
    {
     "name": "stdout",
     "output_type": "stream",
     "text": [
      "Can't get connection to https://ivie.vn/cong-dong?page=1219! Try again in 3 seconds.\n"
     ]
    },
    {
     "name": "stderr",
     "output_type": "stream",
     "text": [
      "Processing page 1224: : 0it [00:00, ?it/s]\n"
     ]
    },
    {
     "name": "stdout",
     "output_type": "stream",
     "text": [
      "Can't get connection to https://ivie.vn/cong-dong?page=1222! Try again in 3 seconds.\n",
      "Can't get connection to https://ivie.vn/cong-dong?page=1225! Try again in 3 seconds.\n"
     ]
    },
    {
     "name": "stderr",
     "output_type": "stream",
     "text": [
      "Processing page 1223: : 0it [00:00, ?it/s]\n",
      "Processing page 1226: : 0it [00:00, ?it/s]\n",
      "Processing page 1219: : 0it [00:00, ?it/s]\n",
      "Processing page 1222: : 0it [00:00, ?it/s]\n"
     ]
    },
    {
     "name": "stdout",
     "output_type": "stream",
     "text": [
      "Can't get connection to https://ivie.vn/cong-dong?page=1227! Try again in 3 seconds.\n",
      "Can't get connection to https://ivie.vn/cong-dong?page=1228! Try again in 3 seconds.\n",
      "Can't get connection to https://ivie.vn/cong-dong?page=1225! Try again in 3 seconds.\n",
      "Can't get connection to https://ivie.vn/cong-dong?page=1229! Try again in 3 seconds.\n",
      "Can't get connection to https://ivie.vn/cong-dong?page=1230! Try again in 3 seconds.\n",
      "Can't get connection to https://ivie.vn/cong-dong?page=1227! Try again in 3 seconds.\n",
      "Can't get connection to https://ivie.vn/cong-dong?page=1225! Try again in 3 seconds.\n",
      "Can't get connection to https://ivie.vn/cong-dong?page=1228! Try again in 3 seconds.\n",
      "Can't get connection to https://ivie.vn/cong-dong?page=1230! Try again in 3 seconds.\n"
     ]
    },
    {
     "name": "stderr",
     "output_type": "stream",
     "text": [
      "Processing page 1229: : 0it [00:00, ?it/s]\n",
      "Processing page 1227: : 0it [00:00, ?it/s]\n"
     ]
    },
    {
     "name": "stdout",
     "output_type": "stream",
     "text": [
      "Can't get connection to https://ivie.vn/cong-dong?page=1225! Try again in 3 seconds.\n"
     ]
    },
    {
     "name": "stderr",
     "output_type": "stream",
     "text": [
      "Processing page 1228: : 0it [00:00, ?it/s]\n"
     ]
    },
    {
     "name": "stdout",
     "output_type": "stream",
     "text": [
      "Can't get connection to https://ivie.vn/cong-dong?page=1231! Try again in 3 seconds.\n"
     ]
    },
    {
     "name": "stderr",
     "output_type": "stream",
     "text": [
      "Processing page 1230: : 0it [00:00, ?it/s]\n",
      "Processing page 1232: : 0it [00:00, ?it/s]\n"
     ]
    },
    {
     "name": "stdout",
     "output_type": "stream",
     "text": [
      "Can't get connection to https://ivie.vn/cong-dong?page=1233! Try again in 3 seconds.\n",
      "Can't get connection to https://ivie.vn/cong-dong?page=1225! Try again in 3 seconds.\n",
      "Can't get connection to https://ivie.vn/cong-dong?page=1234! Try again in 3 seconds.\n",
      "Can't get connection to https://ivie.vn/cong-dong?page=1231! Try again in 3 seconds.\n",
      "Can't get connection to https://ivie.vn/cong-dong?page=1235! Try again in 3 seconds.\n",
      "Can't get connection to https://ivie.vn/cong-dong?page=1233! Try again in 3 seconds.\n"
     ]
    },
    {
     "name": "stderr",
     "output_type": "stream",
     "text": [
      "Processing page 1225: : 0it [00:00, ?it/s]\n",
      "Processing page 1234: : 0it [00:00, ?it/s]\n"
     ]
    },
    {
     "name": "stdout",
     "output_type": "stream",
     "text": [
      "Can't get connection to https://ivie.vn/cong-dong?page=1231! Try again in 3 seconds.\n"
     ]
    },
    {
     "name": "stderr",
     "output_type": "stream",
     "text": [
      "Processing page 1235: : 0it [00:00, ?it/s]\n",
      "Processing page 1233: : 0it [00:00, ?it/s]\n"
     ]
    },
    {
     "name": "stdout",
     "output_type": "stream",
     "text": [
      "Can't get connection to https://ivie.vn/cong-dong?page=1236! Try again in 3 seconds.\n"
     ]
    },
    {
     "name": "stderr",
     "output_type": "stream",
     "text": [
      "Processing page 1237: : 0it [00:00, ?it/s]\n"
     ]
    },
    {
     "name": "stdout",
     "output_type": "stream",
     "text": [
      "Can't get connection to https://ivie.vn/cong-dong?page=1238! Try again in 3 seconds.\n",
      "Can't get connection to https://ivie.vn/cong-dong?page=1231! Try again in 3 seconds.\n",
      "Can't get connection to https://ivie.vn/cong-dong?page=1240! Try again in 3 seconds.\n",
      "Can't get connection to https://ivie.vn/cong-dong?page=1239! Try again in 3 seconds.\n",
      "Can't get connection to https://ivie.vn/cong-dong?page=1236! Try again in 3 seconds.\n",
      "Can't get connection to https://ivie.vn/cong-dong?page=1238! Try again in 3 seconds.\n",
      "Can't get connection to https://ivie.vn/cong-dong?page=1240! Try again in 3 seconds.\n"
     ]
    },
    {
     "name": "stderr",
     "output_type": "stream",
     "text": [
      "Processing page 1231: : 0it [00:00, ?it/s]\n"
     ]
    },
    {
     "name": "stdout",
     "output_type": "stream",
     "text": [
      "Can't get connection to https://ivie.vn/cong-dong?page=1239! Try again in 3 seconds.\n",
      "Can't get connection to https://ivie.vn/cong-dong?page=1236! Try again in 3 seconds.\n"
     ]
    },
    {
     "name": "stderr",
     "output_type": "stream",
     "text": [
      "Processing page 1241: : 0it [00:00, ?it/s]\n",
      "Processing page 1240: : 0it [00:00, ?it/s]\n"
     ]
    },
    {
     "name": "stdout",
     "output_type": "stream",
     "text": [
      "Can't get connection to https://ivie.vn/cong-dong?page=1239! Try again in 3 seconds.\n"
     ]
    },
    {
     "name": "stderr",
     "output_type": "stream",
     "text": [
      "Processing page 1242: : 0it [00:00, ?it/s]\n"
     ]
    },
    {
     "name": "stdout",
     "output_type": "stream",
     "text": [
      "Can't get connection to https://ivie.vn/cong-dong?page=1236! Try again in 3 seconds.\n"
     ]
    },
    {
     "name": "stderr",
     "output_type": "stream",
     "text": [
      "Processing page 1243: : 0it [00:00, ?it/s]\n"
     ]
    },
    {
     "name": "stdout",
     "output_type": "stream",
     "text": [
      "Can't get connection to https://ivie.vn/cong-dong?page=1239! Try again in 3 seconds.\n",
      "Can't get connection to https://ivie.vn/cong-dong?page=1244! Try again in 3 seconds.\n"
     ]
    },
    {
     "name": "stderr",
     "output_type": "stream",
     "text": [
      "Processing page 1245: : 0it [00:00, ?it/s]\n"
     ]
    },
    {
     "name": "stdout",
     "output_type": "stream",
     "text": [
      "Can't get connection to https://ivie.vn/cong-dong?page=1236! Try again in 3 seconds.\n",
      "Can't get connection to https://ivie.vn/cong-dong?page=1238! Try again in 3 seconds.\n"
     ]
    },
    {
     "name": "stderr",
     "output_type": "stream",
     "text": [
      "Processing page 1239: : 0it [00:00, ?it/s]\n"
     ]
    },
    {
     "name": "stdout",
     "output_type": "stream",
     "text": [
      "Can't get connection to https://ivie.vn/cong-dong?page=1244! Try again in 3 seconds.\n",
      "Can't get connection to https://ivie.vn/cong-dong?page=1236! Try again in 3 seconds.\n",
      "Can't get connection to https://ivie.vn/cong-dong?page=1246! Try again in 3 seconds.\n",
      "Can't get connection to https://ivie.vn/cong-dong?page=1238! Try again in 3 seconds.\n",
      "Can't get connection to https://ivie.vn/cong-dong?page=1247! Try again in 3 seconds.\n",
      "Can't get connection to https://ivie.vn/cong-dong?page=1244! Try again in 3 seconds.\n",
      "Can't get connection to https://ivie.vn/cong-dong?page=1246! Try again in 3 seconds.\n",
      "Can't get connection to https://ivie.vn/cong-dong?page=1236! Try again in 3 seconds.\n"
     ]
    },
    {
     "name": "stderr",
     "output_type": "stream",
     "text": [
      "Processing page 1238: : 0it [00:00, ?it/s]\n"
     ]
    },
    {
     "name": "stdout",
     "output_type": "stream",
     "text": [
      "Can't get connection to https://ivie.vn/cong-dong?page=1247! Try again in 3 seconds.\n",
      "Can't get connection to https://ivie.vn/cong-dong?page=1244! Try again in 3 seconds.\n"
     ]
    },
    {
     "name": "stderr",
     "output_type": "stream",
     "text": [
      "Processing page 1248: : 0it [00:00, ?it/s]\n",
      "Processing page 1246: : 0it [00:00, ?it/s]\n"
     ]
    },
    {
     "name": "stdout",
     "output_type": "stream",
     "text": [
      "Can't get connection to https://ivie.vn/cong-dong?page=1236! Try again in 3 seconds.\n"
     ]
    },
    {
     "name": "stderr",
     "output_type": "stream",
     "text": [
      "Processing page 1247: : 0it [00:00, ?it/s]\n"
     ]
    },
    {
     "name": "stdout",
     "output_type": "stream",
     "text": [
      "Can't get connection to https://ivie.vn/cong-dong?page=1249! Try again in 3 seconds.\n",
      "Can't get connection to https://ivie.vn/cong-dong?page=1244! Try again in 3 seconds.\n",
      "Can't get connection to https://ivie.vn/cong-dong?page=1250! Try again in 3 seconds.\n",
      "Can't get connection to https://ivie.vn/cong-dong?page=1236! Try again in 3 seconds.\n",
      "Can't get connection to https://ivie.vn/cong-dong?page=1251! Try again in 3 seconds.\n"
     ]
    },
    {
     "name": "stderr",
     "output_type": "stream",
     "text": [
      "Processing page 1249: : 0it [00:00, ?it/s]\n",
      "Processing page 1244: : 0it [00:00, ?it/s]\n",
      "Processing page 1236: : 0it [00:00, ?it/s]\n",
      "Processing page 1250: : 0it [00:00, ?it/s]\n",
      "Processing page 1252: : 0it [00:00, ?it/s]\n",
      "Processing page 1251: : 0it [00:00, ?it/s]\n",
      "Processing page 1254: : 0it [00:00, ?it/s]\n"
     ]
    },
    {
     "name": "stdout",
     "output_type": "stream",
     "text": [
      "Can't get connection to https://ivie.vn/cong-dong?page=1253! Try again in 3 seconds.\n"
     ]
    },
    {
     "name": "stderr",
     "output_type": "stream",
     "text": [
      "Processing page 1255: : 0it [00:00, ?it/s]\n"
     ]
    },
    {
     "name": "stdout",
     "output_type": "stream",
     "text": [
      "Can't get connection to https://ivie.vn/cong-dong?page=1256! Try again in 3 seconds.\n",
      "Can't get connection to https://ivie.vn/cong-dong?page=1257! Try again in 3 seconds.\n"
     ]
    },
    {
     "name": "stderr",
     "output_type": "stream",
     "text": [
      "Processing page 1258: : 0it [00:00, ?it/s]\n",
      "Processing page 1256: : 0it [00:00, ?it/s]\n"
     ]
    },
    {
     "name": "stdout",
     "output_type": "stream",
     "text": [
      "Can't get connection to https://ivie.vn/cong-dong?page=1259! Try again in 3 seconds.\n",
      "Can't get connection to https://ivie.vn/cong-dong?page=1253! Try again in 3 seconds.\n"
     ]
    },
    {
     "name": "stderr",
     "output_type": "stream",
     "text": [
      "Processing page 1257: : 0it [00:00, ?it/s]\n"
     ]
    },
    {
     "name": "stdout",
     "output_type": "stream",
     "text": [
      "Can't get connection to https://ivie.vn/cong-dong?page=1260! Try again in 3 seconds.\n",
      "Can't get connection to https://ivie.vn/cong-dong?page=1261! Try again in 3 seconds.\n",
      "Can't get connection to https://ivie.vn/cong-dong?page=1259! Try again in 3 seconds.\n"
     ]
    },
    {
     "name": "stderr",
     "output_type": "stream",
     "text": [
      "Processing page 1253: : 0it [00:00, ?it/s]\n",
      "Processing page 1262: : 0it [00:00, ?it/s]\n",
      "Processing page 1260: : 0it [00:00, ?it/s]\n"
     ]
    },
    {
     "name": "stdout",
     "output_type": "stream",
     "text": [
      "Can't get connection to https://ivie.vn/cong-dong?page=1261! Try again in 3 seconds.\n",
      "Can't get connection to https://ivie.vn/cong-dong?page=1263! Try again in 3 seconds.\n"
     ]
    },
    {
     "name": "stderr",
     "output_type": "stream",
     "text": [
      "Processing page 1259: : 0it [00:00, ?it/s]\n",
      "Processing page 1264: : 0it [00:00, ?it/s]\n"
     ]
    },
    {
     "name": "stdout",
     "output_type": "stream",
     "text": [
      "Can't get connection to https://ivie.vn/cong-dong?page=1265! Try again in 3 seconds.\n",
      "Can't get connection to https://ivie.vn/cong-dong?page=1266! Try again in 3 seconds.\n",
      "Can't get connection to https://ivie.vn/cong-dong?page=1267! Try again in 3 seconds.\n",
      "Can't get connection to https://ivie.vn/cong-dong?page=1261! Try again in 3 seconds.\n"
     ]
    },
    {
     "name": "stderr",
     "output_type": "stream",
     "text": [
      "Processing page 1265: : 0it [00:00, ?it/s]\n"
     ]
    },
    {
     "name": "stdout",
     "output_type": "stream",
     "text": [
      "Can't get connection to https://ivie.vn/cong-dong?page=1266! Try again in 3 seconds.\n"
     ]
    },
    {
     "name": "stderr",
     "output_type": "stream",
     "text": [
      "Processing page 1267: : 0it [00:00, ?it/s]\n",
      "Processing page 1263: : 0it [00:00, ?it/s]\n"
     ]
    },
    {
     "name": "stdout",
     "output_type": "stream",
     "text": [
      "Can't get connection to https://ivie.vn/cong-dong?page=1261! Try again in 3 seconds.\n"
     ]
    },
    {
     "name": "stderr",
     "output_type": "stream",
     "text": [
      "Processing page 1268: : 0it [00:00, ?it/s]\n",
      "Processing page 1269: : 0it [00:00, ?it/s]\n"
     ]
    },
    {
     "name": "stdout",
     "output_type": "stream",
     "text": [
      "Can't get connection to https://ivie.vn/cong-dong?page=1266! Try again in 3 seconds.\n"
     ]
    },
    {
     "name": "stderr",
     "output_type": "stream",
     "text": [
      "Processing page 1271: : 0it [00:00, ?it/s]\n",
      "Processing page 1261: : 0it [00:00, ?it/s]\n",
      "Processing page 1272: : 0it [00:00, ?it/s]\n",
      "Processing page 1266: : 0it [00:00, ?it/s]\n"
     ]
    },
    {
     "name": "stdout",
     "output_type": "stream",
     "text": [
      "Can't get connection to https://ivie.vn/cong-dong?page=1274! Try again in 3 seconds.\n",
      "Can't get connection to https://ivie.vn/cong-dong?page=1275! Try again in 3 seconds.\n",
      "Can't get connection to https://ivie.vn/cong-dong?page=1273! Try again in 3 seconds.\n",
      "Can't get connection to https://ivie.vn/cong-dong?page=1270! Try again in 3 seconds.\n"
     ]
    },
    {
     "name": "stderr",
     "output_type": "stream",
     "text": [
      "Processing page 1276: : 0it [00:00, ?it/s]\n"
     ]
    },
    {
     "name": "stdout",
     "output_type": "stream",
     "text": [
      "Can't get connection to https://ivie.vn/cong-dong?page=1275! Try again in 3 seconds.\n",
      "Can't get connection to https://ivie.vn/cong-dong?page=1270! Try again in 3 seconds.\n"
     ]
    },
    {
     "name": "stderr",
     "output_type": "stream",
     "text": [
      "Processing page 1274: : 0it [00:00, ?it/s]\n",
      "Processing page 1273: : 0it [00:00, ?it/s]\n",
      "Processing page 1277: : 0it [00:00, ?it/s]\n",
      "Processing page 1279: : 0it [00:00, ?it/s]\n",
      "Processing page 1278: : 0it [00:00, ?it/s]\n"
     ]
    },
    {
     "name": "stdout",
     "output_type": "stream",
     "text": [
      "Can't get connection to https://ivie.vn/cong-dong?page=1270! Try again in 3 seconds.\n",
      "Can't get connection to https://ivie.vn/cong-dong?page=1275! Try again in 3 seconds.\n",
      "Can't get connection to https://ivie.vn/cong-dong?page=1281! Try again in 3 seconds.\n"
     ]
    },
    {
     "name": "stderr",
     "output_type": "stream",
     "text": [
      "Processing page 1282: : 0it [00:00, ?it/s]\n"
     ]
    },
    {
     "name": "stdout",
     "output_type": "stream",
     "text": [
      "Can't get connection to https://ivie.vn/cong-dong?page=1280! Try again in 3 seconds.\n"
     ]
    },
    {
     "name": "stderr",
     "output_type": "stream",
     "text": [
      "Processing page 1270: : 0it [00:00, ?it/s]\n"
     ]
    },
    {
     "name": "stdout",
     "output_type": "stream",
     "text": [
      "Can't get connection to https://ivie.vn/cong-dong?page=1275! Try again in 3 seconds.\n"
     ]
    },
    {
     "name": "stderr",
     "output_type": "stream",
     "text": [
      "Processing page 1281: : 0it [00:00, ?it/s]\n",
      "Processing page 1283: : 0it [00:00, ?it/s]\n",
      "Processing page 1284: : 0it [00:00, ?it/s]\n",
      "Processing page 1280: : 0it [00:00, ?it/s]\n"
     ]
    },
    {
     "name": "stdout",
     "output_type": "stream",
     "text": [
      "Can't get connection to https://ivie.vn/cong-dong?page=1285! Try again in 3 seconds.\n",
      "Can't get connection to https://ivie.vn/cong-dong?page=1275! Try again in 3 seconds.\n",
      "Can't get connection to https://ivie.vn/cong-dong?page=1287! Try again in 3 seconds.\n"
     ]
    },
    {
     "name": "stderr",
     "output_type": "stream",
     "text": [
      "Processing page 1286: : 0it [00:00, ?it/s]\n",
      "Processing page 1288: : 0it [00:00, ?it/s]\n",
      "Processing page 1285: : 0it [00:00, ?it/s]\n",
      "Processing page 1289: : 0it [00:00, ?it/s]\n",
      "Processing page 1275: : 0it [00:00, ?it/s]\n",
      "Processing page 1290: : 0it [00:00, ?it/s]\n"
     ]
    },
    {
     "name": "stdout",
     "output_type": "stream",
     "text": [
      "Can't get connection to https://ivie.vn/cong-dong?page=1287! Try again in 3 seconds.\n"
     ]
    },
    {
     "name": "stderr",
     "output_type": "stream",
     "text": [
      "Processing page 1291: : 0it [00:00, ?it/s]\n",
      "Processing page 1292: : 0it [00:00, ?it/s]\n",
      "Processing page 1293: : 0it [00:00, ?it/s]\n"
     ]
    },
    {
     "name": "stdout",
     "output_type": "stream",
     "text": [
      "Can't get connection to https://ivie.vn/cong-dong?page=1294! Try again in 3 seconds.\n"
     ]
    },
    {
     "name": "stderr",
     "output_type": "stream",
     "text": [
      "Processing page 1295: : 0it [00:00, ?it/s]\n"
     ]
    },
    {
     "name": "stdout",
     "output_type": "stream",
     "text": [
      "Can't get connection to https://ivie.vn/cong-dong?page=1296! Try again in 3 seconds.\n",
      "Can't get connection to https://ivie.vn/cong-dong?page=1297! Try again in 3 seconds.\n",
      "Can't get connection to https://ivie.vn/cong-dong?page=1287! Try again in 3 seconds.\n",
      "Can't get connection to https://ivie.vn/cong-dong?page=1298! Try again in 3 seconds.\n",
      "Can't get connection to https://ivie.vn/cong-dong?page=1294! Try again in 3 seconds.\n",
      "Can't get connection to https://ivie.vn/cong-dong?page=1296! Try again in 3 seconds.\n"
     ]
    },
    {
     "name": "stderr",
     "output_type": "stream",
     "text": [
      "Processing page 1287: : 0it [00:00, ?it/s]\n",
      "Processing page 1297: : 0it [00:00, ?it/s]\n",
      "Processing page 1298: : 0it [00:00, ?it/s]\n",
      "Processing page 1294: : 0it [00:00, ?it/s]\n",
      "Processing page 1299: : 0it [00:00, ?it/s]\n"
     ]
    },
    {
     "name": "stdout",
     "output_type": "stream",
     "text": [
      "Can't get connection to https://ivie.vn/cong-dong?page=1296! Try again in 3 seconds.\n",
      "Can't get connection to https://ivie.vn/cong-dong?page=1300! Try again in 3 seconds.\n",
      "Can't get connection to https://ivie.vn/cong-dong?page=1301! Try again in 3 seconds.\n",
      "Can't get connection to https://ivie.vn/cong-dong?page=1302! Try again in 3 seconds.\n"
     ]
    },
    {
     "name": "stderr",
     "output_type": "stream",
     "text": [
      "Processing page 1303: : 0it [00:00, ?it/s]\n"
     ]
    },
    {
     "name": "stdout",
     "output_type": "stream",
     "text": [
      "Can't get connection to https://ivie.vn/cong-dong?page=1300! Try again in 3 seconds.\n"
     ]
    },
    {
     "name": "stderr",
     "output_type": "stream",
     "text": [
      "Processing page 1296: : 0it [00:00, ?it/s]\n"
     ]
    },
    {
     "name": "stdout",
     "output_type": "stream",
     "text": [
      "Can't get connection to https://ivie.vn/cong-dong?page=1301! Try again in 3 seconds.\n"
     ]
    },
    {
     "name": "stderr",
     "output_type": "stream",
     "text": [
      "Processing page 1302: : 0it [00:00, ?it/s]\n",
      "Processing page 1304: : 0it [00:00, ?it/s]\n"
     ]
    },
    {
     "name": "stdout",
     "output_type": "stream",
     "text": [
      "Can't get connection to https://ivie.vn/cong-dong?page=1305! Try again in 3 seconds.\n",
      "Can't get connection to https://ivie.vn/cong-dong?page=1301! Try again in 3 seconds.\n",
      "Can't get connection to https://ivie.vn/cong-dong?page=1306! Try again in 3 seconds.\n",
      "Can't get connection to https://ivie.vn/cong-dong?page=1307! Try again in 3 seconds.\n",
      "Can't get connection to https://ivie.vn/cong-dong?page=1305! Try again in 3 seconds.\n",
      "Can't get connection to https://ivie.vn/cong-dong?page=1300! Try again in 3 seconds.\n",
      "Can't get connection to https://ivie.vn/cong-dong?page=1301! Try again in 3 seconds.\n",
      "Can't get connection to https://ivie.vn/cong-dong?page=1306! Try again in 3 seconds.\n",
      "Can't get connection to https://ivie.vn/cong-dong?page=1307! Try again in 3 seconds.\n"
     ]
    },
    {
     "name": "stderr",
     "output_type": "stream",
     "text": [
      "Processing page 1305: : 0it [00:00, ?it/s]\n",
      "Processing page 1301: : 0it [00:00, ?it/s]\n"
     ]
    },
    {
     "name": "stdout",
     "output_type": "stream",
     "text": [
      "Can't get connection to https://ivie.vn/cong-dong?page=1300! Try again in 3 seconds.\n"
     ]
    },
    {
     "name": "stderr",
     "output_type": "stream",
     "text": [
      "Processing page 1307: : 0it [00:00, ?it/s]\n"
     ]
    },
    {
     "name": "stdout",
     "output_type": "stream",
     "text": [
      "Can't get connection to https://ivie.vn/cong-dong?page=1306! Try again in 3 seconds.\n",
      "Can't get connection to https://ivie.vn/cong-dong?page=1308! Try again in 3 seconds.\n",
      "Can't get connection to https://ivie.vn/cong-dong?page=1310! Try again in 3 seconds.\n",
      "Can't get connection to https://ivie.vn/cong-dong?page=1309! Try again in 3 seconds.\n",
      "Can't get connection to https://ivie.vn/cong-dong?page=1300! Try again in 3 seconds.\n"
     ]
    },
    {
     "name": "stderr",
     "output_type": "stream",
     "text": [
      "Processing page 1306: : 0it [00:00, ?it/s]\n",
      "Processing page 1308: : 0it [00:00, ?it/s]\n",
      "Processing page 1309: : 0it [00:00, ?it/s]\n",
      "Processing page 1310: : 0it [00:00, ?it/s]\n"
     ]
    },
    {
     "name": "stdout",
     "output_type": "stream",
     "text": [
      "Can't get connection to https://ivie.vn/cong-dong?page=1311! Try again in 3 seconds.\n"
     ]
    },
    {
     "name": "stderr",
     "output_type": "stream",
     "text": [
      "Processing page 1312: : 0it [00:00, ?it/s]\n"
     ]
    },
    {
     "name": "stdout",
     "output_type": "stream",
     "text": [
      "Can't get connection to https://ivie.vn/cong-dong?page=1300! Try again in 3 seconds.\n"
     ]
    },
    {
     "name": "stderr",
     "output_type": "stream",
     "text": [
      "Processing page 1313: : 0it [00:00, ?it/s]\n",
      "Processing page 1314: : 0it [00:00, ?it/s]\n"
     ]
    },
    {
     "name": "stdout",
     "output_type": "stream",
     "text": [
      "Can't get connection to https://ivie.vn/cong-dong?page=1311! Try again in 3 seconds.\n",
      "Can't get connection to https://ivie.vn/cong-dong?page=1315! Try again in 3 seconds.\n"
     ]
    },
    {
     "name": "stderr",
     "output_type": "stream",
     "text": [
      "Processing page 1300: : 0it [00:00, ?it/s]\n"
     ]
    },
    {
     "name": "stdout",
     "output_type": "stream",
     "text": [
      "Can't get connection to https://ivie.vn/cong-dong?page=1317! Try again in 3 seconds.\n"
     ]
    },
    {
     "name": "stderr",
     "output_type": "stream",
     "text": [
      "Processing page 1316: : 0it [00:00, ?it/s]\n"
     ]
    },
    {
     "name": "stdout",
     "output_type": "stream",
     "text": [
      "Can't get connection to https://ivie.vn/cong-dong?page=1311! Try again in 3 seconds.\n",
      "Can't get connection to https://ivie.vn/cong-dong?page=1318! Try again in 3 seconds.\n"
     ]
    },
    {
     "name": "stderr",
     "output_type": "stream",
     "text": [
      "Processing page 1315: : 0it [00:00, ?it/s]\n"
     ]
    },
    {
     "name": "stdout",
     "output_type": "stream",
     "text": [
      "Can't get connection to https://ivie.vn/cong-dong?page=1319! Try again in 3 seconds.\n",
      "Can't get connection to https://ivie.vn/cong-dong?page=1317! Try again in 3 seconds.\n"
     ]
    },
    {
     "name": "stderr",
     "output_type": "stream",
     "text": [
      "Processing page 1318: : 0it [00:00, ?it/s]\n"
     ]
    },
    {
     "name": "stdout",
     "output_type": "stream",
     "text": [
      "Can't get connection to https://ivie.vn/cong-dong?page=1311! Try again in 3 seconds.\n",
      "Can't get connection to https://ivie.vn/cong-dong?page=1320! Try again in 3 seconds.\n"
     ]
    },
    {
     "name": "stderr",
     "output_type": "stream",
     "text": [
      "Processing page 1317: : 0it [00:00, ?it/s]\n"
     ]
    },
    {
     "name": "stdout",
     "output_type": "stream",
     "text": [
      "Can't get connection to https://ivie.vn/cong-dong?page=1319! Try again in 3 seconds.\n"
     ]
    },
    {
     "name": "stderr",
     "output_type": "stream",
     "text": [
      "Processing page 1321: : 0it [00:00, ?it/s]\n"
     ]
    },
    {
     "name": "stdout",
     "output_type": "stream",
     "text": [
      "Can't get connection to https://ivie.vn/cong-dong?page=1320! Try again in 3 seconds.\n",
      "Can't get connection to https://ivie.vn/cong-dong?page=1311! Try again in 3 seconds.\n"
     ]
    },
    {
     "name": "stderr",
     "output_type": "stream",
     "text": [
      "Processing page 1323: : 0it [00:00, ?it/s]\n"
     ]
    },
    {
     "name": "stdout",
     "output_type": "stream",
     "text": [
      "Can't get connection to https://ivie.vn/cong-dong?page=1322! Try again in 3 seconds.\n",
      "Can't get connection to https://ivie.vn/cong-dong?page=1319! Try again in 3 seconds.\n"
     ]
    },
    {
     "name": "stderr",
     "output_type": "stream",
     "text": [
      "Processing page 1320: : 0it [00:00, ?it/s]\n",
      "Processing page 1311: : 0it [00:00, ?it/s]\n",
      "Processing page 1324: : 0it [00:00, ?it/s]\n",
      "Processing page 1319: : 0it [00:00, ?it/s]\n"
     ]
    },
    {
     "name": "stdout",
     "output_type": "stream",
     "text": [
      "Can't get connection to https://ivie.vn/cong-dong?page=1325! Try again in 3 seconds.\n",
      "Can't get connection to https://ivie.vn/cong-dong?page=1322! Try again in 3 seconds.\n",
      "Can't get connection to https://ivie.vn/cong-dong?page=1327! Try again in 3 seconds.\n"
     ]
    },
    {
     "name": "stderr",
     "output_type": "stream",
     "text": [
      "Processing page 1328: : 0it [00:00, ?it/s]\n",
      "Processing page 1325: : 0it [00:00, ?it/s]\n",
      "Processing page 1327: : 0it [00:00, ?it/s]\n",
      "Processing page 1329: : 0it [00:00, ?it/s]\n"
     ]
    },
    {
     "name": "stdout",
     "output_type": "stream",
     "text": [
      "Can't get connection to https://ivie.vn/cong-dong?page=1322! Try again in 3 seconds.\n",
      "Can't get connection to https://ivie.vn/cong-dong?page=1326! Try again in 3 seconds.\n",
      "Can't get connection to https://ivie.vn/cong-dong?page=1330! Try again in 3 seconds.\n"
     ]
    },
    {
     "name": "stderr",
     "output_type": "stream",
     "text": [
      "Processing page 1331: : 0it [00:00, ?it/s]\n"
     ]
    },
    {
     "name": "stdout",
     "output_type": "stream",
     "text": [
      "Can't get connection to https://ivie.vn/cong-dong?page=1332! Try again in 3 seconds.\n"
     ]
    },
    {
     "name": "stderr",
     "output_type": "stream",
     "text": [
      "Processing page 1322: : 0it [00:00, ?it/s]\n",
      "Processing page 1333: : 0it [00:00, ?it/s]\n"
     ]
    },
    {
     "name": "stdout",
     "output_type": "stream",
     "text": [
      "Can't get connection to https://ivie.vn/cong-dong?page=1326! Try again in 3 seconds.\n",
      "Can't get connection to https://ivie.vn/cong-dong?page=1330! Try again in 3 seconds.\n"
     ]
    },
    {
     "name": "stderr",
     "output_type": "stream",
     "text": [
      "Processing page 1332: : 0it [00:00, ?it/s]\n",
      "Processing page 1334: : 0it [00:00, ?it/s]\n"
     ]
    },
    {
     "name": "stdout",
     "output_type": "stream",
     "text": [
      "Can't get connection to https://ivie.vn/cong-dong?page=1335! Try again in 3 seconds.\n"
     ]
    },
    {
     "name": "stderr",
     "output_type": "stream",
     "text": [
      "Processing page 1326: : 0it [00:00, ?it/s]\n",
      "Processing page 1336: : 0it [00:00, ?it/s]\n"
     ]
    },
    {
     "name": "stdout",
     "output_type": "stream",
     "text": [
      "Can't get connection to https://ivie.vn/cong-dong?page=1337! Try again in 3 seconds.\n",
      "Can't get connection to https://ivie.vn/cong-dong?page=1330! Try again in 3 seconds.\n",
      "Can't get connection to https://ivie.vn/cong-dong?page=1335! Try again in 3 seconds.\n",
      "Can't get connection to https://ivie.vn/cong-dong?page=1339! Try again in 3 seconds.\n",
      "Can't get connection to https://ivie.vn/cong-dong?page=1338! Try again in 3 seconds.\n",
      "Can't get connection to https://ivie.vn/cong-dong?page=1337! Try again in 3 seconds.\n",
      "Can't get connection to https://ivie.vn/cong-dong?page=1330! Try again in 3 seconds.\n"
     ]
    },
    {
     "name": "stderr",
     "output_type": "stream",
     "text": [
      "Processing page 1335: : 0it [00:00, ?it/s]\n",
      "Processing page 1339: : 0it [00:00, ?it/s]\n",
      "Processing page 1338: : 0it [00:00, ?it/s]\n",
      "Processing page 1337: : 0it [00:00, ?it/s]\n",
      "Processing page 1340: : 0it [00:00, ?it/s]\n"
     ]
    },
    {
     "name": "stdout",
     "output_type": "stream",
     "text": [
      "Can't get connection to https://ivie.vn/cong-dong?page=1342! Try again in 3 seconds.\n",
      "Can't get connection to https://ivie.vn/cong-dong?page=1330! Try again in 3 seconds.\n",
      "Can't get connection to https://ivie.vn/cong-dong?page=1341! Try again in 3 seconds.\n",
      "Can't get connection to https://ivie.vn/cong-dong?page=1343! Try again in 3 seconds.\n",
      "Can't get connection to https://ivie.vn/cong-dong?page=1344! Try again in 3 seconds.\n",
      "Can't get connection to https://ivie.vn/cong-dong?page=1342! Try again in 3 seconds.\n",
      "Can't get connection to https://ivie.vn/cong-dong?page=1330! Try again in 3 seconds.\n",
      "Can't get connection to https://ivie.vn/cong-dong?page=1341! Try again in 3 seconds.\n",
      "Can't get connection to https://ivie.vn/cong-dong?page=1343! Try again in 3 seconds.\n",
      "Can't get connection to https://ivie.vn/cong-dong?page=1344! Try again in 3 seconds.\n"
     ]
    },
    {
     "name": "stderr",
     "output_type": "stream",
     "text": [
      "Processing page 1341: : 0it [00:00, ?it/s]\n"
     ]
    },
    {
     "name": "stdout",
     "output_type": "stream",
     "text": [
      "Can't get connection to https://ivie.vn/cong-dong?page=1342! Try again in 3 seconds.\n",
      "Can't get connection to https://ivie.vn/cong-dong?page=1330! Try again in 3 seconds.\n"
     ]
    },
    {
     "name": "stderr",
     "output_type": "stream",
     "text": [
      "Processing page 1343: : 0it [00:00, ?it/s]\n",
      "Processing page 1345: : 0it [00:00, ?it/s]\n"
     ]
    },
    {
     "name": "stdout",
     "output_type": "stream",
     "text": [
      "Can't get connection to https://ivie.vn/cong-dong?page=1342! Try again in 3 seconds.\n",
      "Can't get connection to https://ivie.vn/cong-dong?page=1344! Try again in 3 seconds.\n"
     ]
    },
    {
     "name": "stderr",
     "output_type": "stream",
     "text": [
      "Processing page 1346: : 0it [00:00, ?it/s]\n",
      "Processing page 1330: : 0it [00:00, ?it/s]\n",
      "Processing page 1347: : 0it [00:00, ?it/s]\n"
     ]
    },
    {
     "name": "stdout",
     "output_type": "stream",
     "text": [
      "Can't get connection to https://ivie.vn/cong-dong?page=1348! Try again in 3 seconds.\n"
     ]
    },
    {
     "name": "stderr",
     "output_type": "stream",
     "text": [
      "Processing page 1342: : 0it [00:00, ?it/s]\n",
      "Processing page 1350: : 0it [00:00, ?it/s]\n",
      "Processing page 1349: : 0it [00:00, ?it/s]\n",
      "Processing page 1344: : 0it [00:00, ?it/s]\n"
     ]
    },
    {
     "name": "stdout",
     "output_type": "stream",
     "text": [
      "Can't get connection to https://ivie.vn/cong-dong?page=1348! Try again in 3 seconds.\n"
     ]
    },
    {
     "name": "stderr",
     "output_type": "stream",
     "text": [
      "Processing page 1351: : 0it [00:00, ?it/s]\n",
      "Processing page 1352: : 0it [00:00, ?it/s]\n"
     ]
    },
    {
     "name": "stdout",
     "output_type": "stream",
     "text": [
      "Can't get connection to https://ivie.vn/cong-dong?page=1354! Try again in 3 seconds.\n"
     ]
    },
    {
     "name": "stderr",
     "output_type": "stream",
     "text": [
      "Processing page 1353: : 0it [00:00, ?it/s]\n"
     ]
    },
    {
     "name": "stdout",
     "output_type": "stream",
     "text": [
      "Can't get connection to https://ivie.vn/cong-dong?page=1355! Try again in 3 seconds.\n"
     ]
    },
    {
     "name": "stderr",
     "output_type": "stream",
     "text": [
      "Processing page 1356: : 0it [00:00, ?it/s]\n",
      "Processing page 1348: : 0it [00:00, ?it/s]\n"
     ]
    },
    {
     "name": "stdout",
     "output_type": "stream",
     "text": [
      "Can't get connection to https://ivie.vn/cong-dong?page=1357! Try again in 3 seconds.\n",
      "Can't get connection to https://ivie.vn/cong-dong?page=1355! Try again in 3 seconds.\n",
      "Can't get connection to https://ivie.vn/cong-dong?page=1359! Try again in 3 seconds.\n"
     ]
    },
    {
     "name": "stderr",
     "output_type": "stream",
     "text": [
      "Processing page 1358: : 0it [00:00, ?it/s]\n"
     ]
    },
    {
     "name": "stdout",
     "output_type": "stream",
     "text": [
      "Can't get connection to https://ivie.vn/cong-dong?page=1357! Try again in 3 seconds.\n",
      "Can't get connection to https://ivie.vn/cong-dong?page=1359! Try again in 3 seconds.\n",
      "Can't get connection to https://ivie.vn/cong-dong?page=1360! Try again in 3 seconds.\n",
      "Can't get connection to https://ivie.vn/cong-dong?page=1355! Try again in 3 seconds.\n",
      "Can't get connection to https://ivie.vn/cong-dong?page=1357! Try again in 3 seconds.\n",
      "Can't get connection to https://ivie.vn/cong-dong?page=1354! Try again in 3 seconds.\n",
      "Can't get connection to https://ivie.vn/cong-dong?page=1359! Try again in 3 seconds.\n"
     ]
    },
    {
     "name": "stderr",
     "output_type": "stream",
     "text": [
      "Processing page 1360: : 0it [00:00, ?it/s]\n",
      "Processing page 1355: : 0it [00:00, ?it/s]\n"
     ]
    },
    {
     "name": "stdout",
     "output_type": "stream",
     "text": [
      "Can't get connection to https://ivie.vn/cong-dong?page=1357! Try again in 3 seconds.\n",
      "Can't get connection to https://ivie.vn/cong-dong?page=1361! Try again in 3 seconds.\n",
      "Can't get connection to https://ivie.vn/cong-dong?page=1354! Try again in 3 seconds.\n",
      "Can't get connection to https://ivie.vn/cong-dong?page=1359! Try again in 3 seconds.\n",
      "Can't get connection to https://ivie.vn/cong-dong?page=1362! Try again in 3 seconds.\n"
     ]
    },
    {
     "name": "stderr",
     "output_type": "stream",
     "text": [
      "Processing page 1357: : 0it [00:00, ?it/s]\n"
     ]
    },
    {
     "name": "stdout",
     "output_type": "stream",
     "text": [
      "Can't get connection to https://ivie.vn/cong-dong?page=1354! Try again in 3 seconds.\n"
     ]
    },
    {
     "name": "stderr",
     "output_type": "stream",
     "text": [
      "Processing page 1361: : 0it [00:00, ?it/s]\n",
      "Processing page 1362: : 0it [00:00, ?it/s]\n"
     ]
    },
    {
     "name": "stdout",
     "output_type": "stream",
     "text": [
      "Can't get connection to https://ivie.vn/cong-dong?page=1359! Try again in 3 seconds.\n"
     ]
    },
    {
     "name": "stderr",
     "output_type": "stream",
     "text": [
      "Processing page 1363: : 0it [00:00, ?it/s]\n",
      "Processing page 1364: : 0it [00:00, ?it/s]\n",
      "Processing page 1365: : 0it [00:00, ?it/s]\n",
      "Processing page 1354: : 0it [00:00, ?it/s]\n",
      "Processing page 1359: : 0it [00:00, ?it/s]\n"
     ]
    },
    {
     "name": "stdout",
     "output_type": "stream",
     "text": [
      "Can't get connection to https://ivie.vn/cong-dong?page=1366! Try again in 3 seconds.\n",
      "Can't get connection to https://ivie.vn/cong-dong?page=1368! Try again in 3 seconds.\n"
     ]
    },
    {
     "name": "stderr",
     "output_type": "stream",
     "text": [
      "Processing page 1369: : 0it [00:00, ?it/s]\n"
     ]
    },
    {
     "name": "stdout",
     "output_type": "stream",
     "text": [
      "Can't get connection to https://ivie.vn/cong-dong?page=1367! Try again in 3 seconds.\n",
      "Can't get connection to https://ivie.vn/cong-dong?page=1370! Try again in 3 seconds.\n",
      "Can't get connection to https://ivie.vn/cong-dong?page=1367! Try again in 3 seconds.\n",
      "Can't get connection to https://ivie.vn/cong-dong?page=1368! Try again in 3 seconds.\n",
      "Can't get connection to https://ivie.vn/cong-dong?page=1366! Try again in 3 seconds.\n",
      "Can't get connection to https://ivie.vn/cong-dong?page=1371! Try again in 3 seconds.\n"
     ]
    },
    {
     "name": "stderr",
     "output_type": "stream",
     "text": [
      "Processing page 1370: : 0it [00:00, ?it/s]\n"
     ]
    },
    {
     "name": "stdout",
     "output_type": "stream",
     "text": [
      "Can't get connection to https://ivie.vn/cong-dong?page=1367! Try again in 3 seconds.\n"
     ]
    },
    {
     "name": "stderr",
     "output_type": "stream",
     "text": [
      "Processing page 1366: : 0it [00:00, ?it/s]\n",
      "Processing page 1368: : 0it [00:00, ?it/s]\n"
     ]
    },
    {
     "name": "stdout",
     "output_type": "stream",
     "text": [
      "Can't get connection to https://ivie.vn/cong-dong?page=1371! Try again in 3 seconds.\n"
     ]
    },
    {
     "name": "stderr",
     "output_type": "stream",
     "text": [
      "Processing page 1372: : 0it [00:00, ?it/s]\n"
     ]
    },
    {
     "name": "stdout",
     "output_type": "stream",
     "text": [
      "Can't get connection to https://ivie.vn/cong-dong?page=1374! Try again in 3 seconds.\n"
     ]
    },
    {
     "name": "stderr",
     "output_type": "stream",
     "text": [
      "Processing page 1373: : 0it [00:00, ?it/s]\n"
     ]
    },
    {
     "name": "stdout",
     "output_type": "stream",
     "text": [
      "Can't get connection to https://ivie.vn/cong-dong?page=1367! Try again in 3 seconds.\n",
      "Can't get connection to https://ivie.vn/cong-dong?page=1375! Try again in 3 seconds.\n",
      "Can't get connection to https://ivie.vn/cong-dong?page=1371! Try again in 3 seconds.\n",
      "Can't get connection to https://ivie.vn/cong-dong?page=1376! Try again in 3 seconds.\n",
      "Can't get connection to https://ivie.vn/cong-dong?page=1374! Try again in 3 seconds.\n",
      "Can't get connection to https://ivie.vn/cong-dong?page=1367! Try again in 3 seconds.\n",
      "Can't get connection to https://ivie.vn/cong-dong?page=1371! Try again in 3 seconds.\n",
      "Can't get connection to https://ivie.vn/cong-dong?page=1375! Try again in 3 seconds.\n"
     ]
    },
    {
     "name": "stderr",
     "output_type": "stream",
     "text": [
      "Processing page 1376: : 0it [00:00, ?it/s]\n"
     ]
    },
    {
     "name": "stdout",
     "output_type": "stream",
     "text": [
      "Can't get connection to https://ivie.vn/cong-dong?page=1374! Try again in 3 seconds.\n"
     ]
    },
    {
     "name": "stderr",
     "output_type": "stream",
     "text": [
      "Processing page 1367: : 0it [00:00, ?it/s]\n"
     ]
    },
    {
     "name": "stdout",
     "output_type": "stream",
     "text": [
      "Can't get connection to https://ivie.vn/cong-dong?page=1377! Try again in 3 seconds.\n",
      "Can't get connection to https://ivie.vn/cong-dong?page=1375! Try again in 3 seconds.\n"
     ]
    },
    {
     "name": "stderr",
     "output_type": "stream",
     "text": [
      "Processing page 1371: : 0it [00:00, ?it/s]\n"
     ]
    },
    {
     "name": "stdout",
     "output_type": "stream",
     "text": [
      "Can't get connection to https://ivie.vn/cong-dong?page=1378! Try again in 3 seconds.\n"
     ]
    },
    {
     "name": "stderr",
     "output_type": "stream",
     "text": [
      "Processing page 1374: : 0it [00:00, ?it/s]\n"
     ]
    },
    {
     "name": "stdout",
     "output_type": "stream",
     "text": [
      "Can't get connection to https://ivie.vn/cong-dong?page=1379! Try again in 3 seconds.\n"
     ]
    },
    {
     "name": "stderr",
     "output_type": "stream",
     "text": [
      "Processing page 1375: : 0it [00:00, ?it/s]\n",
      "Processing page 1377: : 0it [00:00, ?it/s]\n"
     ]
    },
    {
     "name": "stdout",
     "output_type": "stream",
     "text": [
      "Can't get connection to https://ivie.vn/cong-dong?page=1380! Try again in 3 seconds.\n"
     ]
    },
    {
     "name": "stderr",
     "output_type": "stream",
     "text": [
      "Processing page 1378: : 0it [00:00, ?it/s]\n",
      "Processing page 1381: : 0it [00:00, ?it/s]\n"
     ]
    },
    {
     "name": "stdout",
     "output_type": "stream",
     "text": [
      "Can't get connection to https://ivie.vn/cong-dong?page=1379! Try again in 3 seconds.\n",
      "Can't get connection to https://ivie.vn/cong-dong?page=1382! Try again in 3 seconds.\n"
     ]
    },
    {
     "name": "stderr",
     "output_type": "stream",
     "text": [
      "Processing page 1380: : 0it [00:00, ?it/s]\n",
      "Processing page 1384: : 0it [00:00, ?it/s]\n"
     ]
    },
    {
     "name": "stdout",
     "output_type": "stream",
     "text": [
      "Can't get connection to https://ivie.vn/cong-dong?page=1383! Try again in 3 seconds.\n"
     ]
    },
    {
     "name": "stderr",
     "output_type": "stream",
     "text": [
      "Processing page 1379: : 0it [00:00, ?it/s]\n"
     ]
    },
    {
     "name": "stdout",
     "output_type": "stream",
     "text": [
      "Can't get connection to https://ivie.vn/cong-dong?page=1382! Try again in 3 seconds.\n"
     ]
    },
    {
     "name": "stderr",
     "output_type": "stream",
     "text": [
      "Processing page 1385: : 0it [00:00, ?it/s]\n"
     ]
    },
    {
     "name": "stdout",
     "output_type": "stream",
     "text": [
      "Can't get connection to https://ivie.vn/cong-dong?page=1386! Try again in 3 seconds.\n"
     ]
    },
    {
     "name": "stderr",
     "output_type": "stream",
     "text": [
      "Processing page 1383: : 0it [00:00, ?it/s]\n"
     ]
    },
    {
     "name": "stdout",
     "output_type": "stream",
     "text": [
      "Can't get connection to https://ivie.vn/cong-dong?page=1387! Try again in 3 seconds.\n"
     ]
    },
    {
     "name": "stderr",
     "output_type": "stream",
     "text": [
      "Processing page 1382: : 0it [00:00, ?it/s]\n"
     ]
    },
    {
     "name": "stdout",
     "output_type": "stream",
     "text": [
      "Can't get connection to https://ivie.vn/cong-dong?page=1388! Try again in 3 seconds.\n"
     ]
    },
    {
     "name": "stderr",
     "output_type": "stream",
     "text": [
      "Processing page 1386: : 0it [00:00, ?it/s]\n"
     ]
    },
    {
     "name": "stdout",
     "output_type": "stream",
     "text": [
      "Can't get connection to https://ivie.vn/cong-dong?page=1389! Try again in 3 seconds.\n"
     ]
    },
    {
     "name": "stderr",
     "output_type": "stream",
     "text": [
      "Processing page 1390: : 0it [00:00, ?it/s]\n",
      "Processing page 1387: : 0it [00:00, ?it/s]\n",
      "Processing page 1388: : 0it [00:00, ?it/s]\n"
     ]
    },
    {
     "name": "stdout",
     "output_type": "stream",
     "text": [
      "Can't get connection to https://ivie.vn/cong-dong?page=1391! Try again in 3 seconds.\n",
      "Can't get connection to https://ivie.vn/cong-dong?page=1389! Try again in 3 seconds.\n"
     ]
    },
    {
     "name": "stderr",
     "output_type": "stream",
     "text": [
      "Processing page 1393: : 0it [00:00, ?it/s]\n"
     ]
    },
    {
     "name": "stdout",
     "output_type": "stream",
     "text": [
      "Can't get connection to https://ivie.vn/cong-dong?page=1392! Try again in 3 seconds.\n",
      "Can't get connection to https://ivie.vn/cong-dong?page=1394! Try again in 3 seconds.\n",
      "Can't get connection to https://ivie.vn/cong-dong?page=1391! Try again in 3 seconds.\n"
     ]
    },
    {
     "name": "stderr",
     "output_type": "stream",
     "text": [
      "Processing page 1389: : 0it [00:00, ?it/s]\n",
      "Processing page 1392: : 0it [00:00, ?it/s]\n"
     ]
    },
    {
     "name": "stdout",
     "output_type": "stream",
     "text": [
      "Can't get connection to https://ivie.vn/cong-dong?page=1395! Try again in 3 seconds.\n",
      "Can't get connection to https://ivie.vn/cong-dong?page=1391! Try again in 3 seconds.\n",
      "Can't get connection to https://ivie.vn/cong-dong?page=1396! Try again in 3 seconds.\n",
      "Can't get connection to https://ivie.vn/cong-dong?page=1394! Try again in 3 seconds.\n"
     ]
    },
    {
     "name": "stderr",
     "output_type": "stream",
     "text": [
      "Processing page 1395: : 0it [00:00, ?it/s]\n",
      "Processing page 1397: : 0it [00:00, ?it/s]\n",
      "Processing page 1391: : 0it [00:00, ?it/s]\n",
      "Processing page 1396: : 0it [00:00, ?it/s]\n",
      "Processing page 1398: : 0it [00:00, ?it/s]\n"
     ]
    },
    {
     "name": "stdout",
     "output_type": "stream",
     "text": [
      "Can't get connection to https://ivie.vn/cong-dong?page=1394! Try again in 3 seconds.\n"
     ]
    },
    {
     "name": "stderr",
     "output_type": "stream",
     "text": [
      "Processing page 1399: : 0it [00:00, ?it/s]\n"
     ]
    },
    {
     "name": "stdout",
     "output_type": "stream",
     "text": [
      "Can't get connection to https://ivie.vn/cong-dong?page=1400! Try again in 3 seconds.\n"
     ]
    },
    {
     "name": "stderr",
     "output_type": "stream",
     "text": [
      "Processing page 1394: : 0it [00:00, ?it/s]\n"
     ]
    },
    {
     "name": "stdout",
     "output_type": "stream",
     "text": [
      "Can't get connection to https://ivie.vn/cong-dong?page=1403! Try again in 3 seconds.\n",
      "Can't get connection to https://ivie.vn/cong-dong?page=1401! Try again in 3 seconds.\n",
      "Can't get connection to https://ivie.vn/cong-dong?page=1402! Try again in 3 seconds.\n"
     ]
    },
    {
     "name": "stderr",
     "output_type": "stream",
     "text": [
      "Processing page 1400: : 0it [00:00, ?it/s]\n"
     ]
    },
    {
     "name": "stdout",
     "output_type": "stream",
     "text": [
      "Can't get connection to https://ivie.vn/cong-dong?page=1404! Try again in 3 seconds.\n"
     ]
    },
    {
     "name": "stderr",
     "output_type": "stream",
     "text": [
      "Processing page 1403: : 0it [00:00, ?it/s]\n"
     ]
    },
    {
     "name": "stdout",
     "output_type": "stream",
     "text": [
      "Can't get connection to https://ivie.vn/cong-dong?page=1405! Try again in 3 seconds.\n",
      "Can't get connection to https://ivie.vn/cong-dong?page=1401! Try again in 3 seconds.\n",
      "Can't get connection to https://ivie.vn/cong-dong?page=1402! Try again in 3 seconds.\n"
     ]
    },
    {
     "name": "stderr",
     "output_type": "stream",
     "text": [
      "Processing page 1404: : 0it [00:00, ?it/s]\n"
     ]
    },
    {
     "name": "stdout",
     "output_type": "stream",
     "text": [
      "Can't get connection to https://ivie.vn/cong-dong?page=1406! Try again in 3 seconds.\n",
      "Can't get connection to https://ivie.vn/cong-dong?page=1405! Try again in 3 seconds.\n"
     ]
    },
    {
     "name": "stderr",
     "output_type": "stream",
     "text": [
      "Processing page 1407: : 0it [00:00, ?it/s]\n"
     ]
    },
    {
     "name": "stdout",
     "output_type": "stream",
     "text": [
      "Can't get connection to https://ivie.vn/cong-dong?page=1402! Try again in 3 seconds.\n",
      "Can't get connection to https://ivie.vn/cong-dong?page=1401! Try again in 3 seconds.\n"
     ]
    },
    {
     "name": "stderr",
     "output_type": "stream",
     "text": [
      "Processing page 1406: : 0it [00:00, ?it/s]\n",
      "Processing page 1405: : 0it [00:00, ?it/s]\n",
      "Processing page 1402: : 0it [00:00, ?it/s]\n",
      "Processing page 1409: : 0it [00:00, ?it/s]\n"
     ]
    },
    {
     "name": "stdout",
     "output_type": "stream",
     "text": [
      "Can't get connection to https://ivie.vn/cong-dong?page=1401! Try again in 3 seconds.\n"
     ]
    },
    {
     "name": "stderr",
     "output_type": "stream",
     "text": [
      "Processing page 1408: : 0it [00:00, ?it/s]\n"
     ]
    },
    {
     "name": "stdout",
     "output_type": "stream",
     "text": [
      "Can't get connection to https://ivie.vn/cong-dong?page=1410! Try again in 3 seconds.\n"
     ]
    },
    {
     "name": "stderr",
     "output_type": "stream",
     "text": [
      "Processing page 1411: : 0it [00:00, ?it/s]\n",
      "Processing page 1412: : 0it [00:00, ?it/s]\n"
     ]
    },
    {
     "name": "stdout",
     "output_type": "stream",
     "text": [
      "Can't get connection to https://ivie.vn/cong-dong?page=1401! Try again in 3 seconds.\n",
      "Can't get connection to https://ivie.vn/cong-dong?page=1413! Try again in 3 seconds.\n",
      "Can't get connection to https://ivie.vn/cong-dong?page=1414! Try again in 3 seconds.\n"
     ]
    },
    {
     "name": "stderr",
     "output_type": "stream",
     "text": [
      "Processing page 1410: : 0it [00:00, ?it/s]\n"
     ]
    },
    {
     "name": "stdout",
     "output_type": "stream",
     "text": [
      "Can't get connection to https://ivie.vn/cong-dong?page=1415! Try again in 3 seconds.\n",
      "Can't get connection to https://ivie.vn/cong-dong?page=1401! Try again in 3 seconds.\n",
      "Can't get connection to https://ivie.vn/cong-dong?page=1413! Try again in 3 seconds.\n"
     ]
    },
    {
     "name": "stderr",
     "output_type": "stream",
     "text": [
      "Processing page 1416: : 0it [00:00, ?it/s]\n",
      "Processing page 1414: : 0it [00:00, ?it/s]\n"
     ]
    },
    {
     "name": "stdout",
     "output_type": "stream",
     "text": [
      "Can't get connection to https://ivie.vn/cong-dong?page=1415! Try again in 3 seconds.\n",
      "Can't get connection to https://ivie.vn/cong-dong?page=1401! Try again in 3 seconds.\n"
     ]
    },
    {
     "name": "stderr",
     "output_type": "stream",
     "text": [
      "Processing page 1413: : 0it [00:00, ?it/s]\n",
      "Processing page 1417: : 0it [00:00, ?it/s]\n"
     ]
    },
    {
     "name": "stdout",
     "output_type": "stream",
     "text": [
      "Can't get connection to https://ivie.vn/cong-dong?page=1418! Try again in 3 seconds.\n",
      "Can't get connection to https://ivie.vn/cong-dong?page=1420! Try again in 3 seconds.\n"
     ]
    },
    {
     "name": "stderr",
     "output_type": "stream",
     "text": [
      "Processing page 1419: : 0it [00:00, ?it/s]\n"
     ]
    },
    {
     "name": "stdout",
     "output_type": "stream",
     "text": [
      "Can't get connection to https://ivie.vn/cong-dong?page=1415! Try again in 3 seconds.\n"
     ]
    },
    {
     "name": "stderr",
     "output_type": "stream",
     "text": [
      "Processing page 1401: : 0it [00:00, ?it/s]\n"
     ]
    },
    {
     "name": "stdout",
     "output_type": "stream",
     "text": [
      "Can't get connection to https://ivie.vn/cong-dong?page=1418! Try again in 3 seconds.\n"
     ]
    },
    {
     "name": "stderr",
     "output_type": "stream",
     "text": [
      "Processing page 1421: : 0it [00:00, ?it/s]\n"
     ]
    },
    {
     "name": "stdout",
     "output_type": "stream",
     "text": [
      "Can't get connection to https://ivie.vn/cong-dong?page=1422! Try again in 3 seconds.\n"
     ]
    },
    {
     "name": "stderr",
     "output_type": "stream",
     "text": [
      "Processing page 1420: : 0it [00:00, ?it/s]\n"
     ]
    },
    {
     "name": "stdout",
     "output_type": "stream",
     "text": [
      "Can't get connection to https://ivie.vn/cong-dong?page=1415! Try again in 3 seconds.\n",
      "Can't get connection to https://ivie.vn/cong-dong?page=1423! Try again in 3 seconds.\n"
     ]
    },
    {
     "name": "stderr",
     "output_type": "stream",
     "text": [
      "Processing page 1418: : 0it [00:00, ?it/s]\n"
     ]
    },
    {
     "name": "stdout",
     "output_type": "stream",
     "text": [
      "Can't get connection to https://ivie.vn/cong-dong?page=1424! Try again in 3 seconds.\n",
      "Can't get connection to https://ivie.vn/cong-dong?page=1422! Try again in 3 seconds.\n",
      "Can't get connection to https://ivie.vn/cong-dong?page=1415! Try again in 3 seconds.\n"
     ]
    },
    {
     "name": "stderr",
     "output_type": "stream",
     "text": [
      "Processing page 1425: : 0it [00:00, ?it/s]\n",
      "Processing page 1423: : 0it [00:00, ?it/s]\n",
      "Processing page 1424: : 0it [00:00, ?it/s]\n"
     ]
    },
    {
     "name": "stdout",
     "output_type": "stream",
     "text": [
      "Can't get connection to https://ivie.vn/cong-dong?page=1422! Try again in 3 seconds.\n",
      "Can't get connection to https://ivie.vn/cong-dong?page=1426! Try again in 3 seconds.\n"
     ]
    },
    {
     "name": "stderr",
     "output_type": "stream",
     "text": [
      "Processing page 1415: : 0it [00:00, ?it/s]\n",
      "Processing page 1427: : 0it [00:00, ?it/s]\n"
     ]
    },
    {
     "name": "stdout",
     "output_type": "stream",
     "text": [
      "Can't get connection to https://ivie.vn/cong-dong?page=1428! Try again in 3 seconds.\n",
      "Can't get connection to https://ivie.vn/cong-dong?page=1430! Try again in 3 seconds.\n"
     ]
    },
    {
     "name": "stderr",
     "output_type": "stream",
     "text": [
      "Processing page 1429: : 0it [00:00, ?it/s]"
     ]
    },
    {
     "name": "stdout",
     "output_type": "stream",
     "text": [
      "Can't get connection to https://ivie.vn/cong-dong?page=1422! Try again in 3 seconds.\n"
     ]
    },
    {
     "name": "stderr",
     "output_type": "stream",
     "text": [
      "\n",
      "Processing page 1426: : 0it [00:00, ?it/s]\n",
      "Processing page 1428: : 0it [00:00, ?it/s]\n"
     ]
    },
    {
     "name": "stdout",
     "output_type": "stream",
     "text": [
      "Can't get connection to https://ivie.vn/cong-dong?page=1431! Try again in 3 seconds.\n",
      "Can't get connection to https://ivie.vn/cong-dong?page=1430! Try again in 3 seconds.\n"
     ]
    },
    {
     "name": "stderr",
     "output_type": "stream",
     "text": [
      "Processing page 1422: : 0it [00:00, ?it/s]\n",
      "Processing page 1433: : 0it [00:00, ?it/s]\n"
     ]
    },
    {
     "name": "stdout",
     "output_type": "stream",
     "text": [
      "Can't get connection to https://ivie.vn/cong-dong?page=1432! Try again in 3 seconds.\n",
      "Can't get connection to https://ivie.vn/cong-dong?page=1431! Try again in 3 seconds.\n",
      "Can't get connection to https://ivie.vn/cong-dong?page=1435! Try again in 3 seconds.\n"
     ]
    },
    {
     "name": "stderr",
     "output_type": "stream",
     "text": [
      "Processing page 1434: : 0it [00:00, ?it/s]\n"
     ]
    },
    {
     "name": "stdout",
     "output_type": "stream",
     "text": [
      "Can't get connection to https://ivie.vn/cong-dong?page=1430! Try again in 3 seconds.\n"
     ]
    },
    {
     "name": "stderr",
     "output_type": "stream",
     "text": [
      "Processing page 1431: : 0it [00:00, ?it/s]\n"
     ]
    },
    {
     "name": "stdout",
     "output_type": "stream",
     "text": [
      "Can't get connection to https://ivie.vn/cong-dong?page=1436! Try again in 3 seconds.\n",
      "Can't get connection to https://ivie.vn/cong-dong?page=1432! Try again in 3 seconds.\n"
     ]
    },
    {
     "name": "stderr",
     "output_type": "stream",
     "text": [
      "Processing page 1435: : 0it [00:00, ?it/s]\n"
     ]
    },
    {
     "name": "stdout",
     "output_type": "stream",
     "text": [
      "Can't get connection to https://ivie.vn/cong-dong?page=1430! Try again in 3 seconds.\n"
     ]
    },
    {
     "name": "stderr",
     "output_type": "stream",
     "text": [
      "Processing page 1437: : 0it [00:00, ?it/s]\n",
      "Processing page 1438: : 0it [00:00, ?it/s]\n",
      "Processing page 1432: : 0it [00:00, ?it/s]\n",
      "Processing page 1436: : 0it [00:00, ?it/s]\n"
     ]
    },
    {
     "name": "stdout",
     "output_type": "stream",
     "text": [
      "Can't get connection to https://ivie.vn/cong-dong?page=1439! Try again in 3 seconds.\n"
     ]
    },
    {
     "name": "stderr",
     "output_type": "stream",
     "text": [
      "Processing page 1430: : 0it [00:00, ?it/s]\n",
      "Processing page 1440: : 0it [00:00, ?it/s]\n"
     ]
    },
    {
     "name": "stdout",
     "output_type": "stream",
     "text": [
      "Can't get connection to https://ivie.vn/cong-dong?page=1441! Try again in 3 seconds.\n",
      "Can't get connection to https://ivie.vn/cong-dong?page=1442! Try again in 3 seconds.\n",
      "Can't get connection to https://ivie.vn/cong-dong?page=1444! Try again in 3 seconds.\n"
     ]
    },
    {
     "name": "stderr",
     "output_type": "stream",
     "text": [
      "Processing page 1439: : 0it [00:00, ?it/s]\n",
      "Processing page 1443: : 0it [00:00, ?it/s]\n"
     ]
    },
    {
     "name": "stdout",
     "output_type": "stream",
     "text": [
      "Can't get connection to https://ivie.vn/cong-dong?page=1441! Try again in 3 seconds.\n",
      "Can't get connection to https://ivie.vn/cong-dong?page=1442! Try again in 3 seconds.\n",
      "Can't get connection to https://ivie.vn/cong-dong?page=1445! Try again in 3 seconds.\n",
      "Can't get connection to https://ivie.vn/cong-dong?page=1446! Try again in 3 seconds.\n",
      "Can't get connection to https://ivie.vn/cong-dong?page=1444! Try again in 3 seconds.\n",
      "Can't get connection to https://ivie.vn/cong-dong?page=1441! Try again in 3 seconds.\n",
      "Can't get connection to https://ivie.vn/cong-dong?page=1442! Try again in 3 seconds.\n",
      "Can't get connection to https://ivie.vn/cong-dong?page=1445! Try again in 3 seconds.\n"
     ]
    },
    {
     "name": "stderr",
     "output_type": "stream",
     "text": [
      "Processing page 1446: : 0it [00:00, ?it/s]\n",
      "Processing page 1444: : 0it [00:00, ?it/s]\n",
      "Processing page 1441: : 0it [00:00, ?it/s]\n",
      "Processing page 1442: : 0it [00:00, ?it/s]\n"
     ]
    },
    {
     "name": "stdout",
     "output_type": "stream",
     "text": [
      "Can't get connection to https://ivie.vn/cong-dong?page=1445! Try again in 3 seconds.\n"
     ]
    },
    {
     "name": "stderr",
     "output_type": "stream",
     "text": [
      "Processing page 1448: : 0it [00:00, ?it/s]\n"
     ]
    },
    {
     "name": "stdout",
     "output_type": "stream",
     "text": [
      "Can't get connection to https://ivie.vn/cong-dong?page=1447! Try again in 3 seconds.\n"
     ]
    },
    {
     "name": "stderr",
     "output_type": "stream",
     "text": [
      "Processing page 1449: : 0it [00:00, ?it/s]\n",
      "Processing page 1450: : 0it [00:00, ?it/s]\n",
      "Processing page 1451: : 0it [00:00, ?it/s]\n",
      "Processing page 1445: : 0it [00:00, ?it/s]\n"
     ]
    },
    {
     "name": "stdout",
     "output_type": "stream",
     "text": [
      "Can't get connection to https://ivie.vn/cong-dong?page=1447! Try again in 3 seconds.\n",
      "Can't get connection to https://ivie.vn/cong-dong?page=1452! Try again in 3 seconds.\n",
      "Can't get connection to https://ivie.vn/cong-dong?page=1453! Try again in 3 seconds.\n"
     ]
    },
    {
     "name": "stderr",
     "output_type": "stream",
     "text": [
      "Processing page 1454: : 0it [00:00, ?it/s]\n"
     ]
    },
    {
     "name": "stdout",
     "output_type": "stream",
     "text": [
      "Can't get connection to https://ivie.vn/cong-dong?page=1455! Try again in 3 seconds.\n",
      "Can't get connection to https://ivie.vn/cong-dong?page=1447! Try again in 3 seconds.\n",
      "Can't get connection to https://ivie.vn/cong-dong?page=1456! Try again in 3 seconds.\n"
     ]
    },
    {
     "name": "stderr",
     "output_type": "stream",
     "text": [
      "Processing page 1452: : 0it [00:00, ?it/s]\n"
     ]
    },
    {
     "name": "stdout",
     "output_type": "stream",
     "text": [
      "Can't get connection to https://ivie.vn/cong-dong?page=1453! Try again in 3 seconds.\n",
      "Can't get connection to https://ivie.vn/cong-dong?page=1455! Try again in 3 seconds.\n"
     ]
    },
    {
     "name": "stderr",
     "output_type": "stream",
     "text": [
      "Processing page 1447: : 0it [00:00, ?it/s]\n"
     ]
    },
    {
     "name": "stdout",
     "output_type": "stream",
     "text": [
      "Can't get connection to https://ivie.vn/cong-dong?page=1457! Try again in 3 seconds.\n",
      "Can't get connection to https://ivie.vn/cong-dong?page=1456! Try again in 3 seconds.\n",
      "Can't get connection to https://ivie.vn/cong-dong?page=1453! Try again in 3 seconds.\n"
     ]
    },
    {
     "name": "stderr",
     "output_type": "stream",
     "text": [
      "Processing page 1458: : 0it [00:00, ?it/s]\n",
      "Processing page 1455: : 0it [00:00, ?it/s]\n",
      "Processing page 1457: : 0it [00:00, ?it/s]\n"
     ]
    },
    {
     "name": "stdout",
     "output_type": "stream",
     "text": [
      "Can't get connection to https://ivie.vn/cong-dong?page=1456! Try again in 3 seconds.\n"
     ]
    },
    {
     "name": "stderr",
     "output_type": "stream",
     "text": [
      "Processing page 1459: : 0it [00:00, ?it/s]\n",
      "Processing page 1460: : 0it [00:00, ?it/s]\n"
     ]
    },
    {
     "name": "stdout",
     "output_type": "stream",
     "text": [
      "Can't get connection to https://ivie.vn/cong-dong?page=1453! Try again in 3 seconds.\n"
     ]
    },
    {
     "name": "stderr",
     "output_type": "stream",
     "text": [
      "Processing page 1461: : 0it [00:00, ?it/s]\n"
     ]
    },
    {
     "name": "stdout",
     "output_type": "stream",
     "text": [
      "Can't get connection to https://ivie.vn/cong-dong?page=1462! Try again in 3 seconds.\n"
     ]
    },
    {
     "name": "stderr",
     "output_type": "stream",
     "text": [
      "Processing page 1456: : 0it [00:00, ?it/s]\n",
      "Processing page 1463: : 0it [00:00, ?it/s]\n",
      "Processing page 1453: : 0it [00:00, ?it/s]\n"
     ]
    },
    {
     "name": "stdout",
     "output_type": "stream",
     "text": [
      "Can't get connection to https://ivie.vn/cong-dong?page=1464! Try again in 3 seconds.\n",
      "Can't get connection to https://ivie.vn/cong-dong?page=1466! Try again in 3 seconds.\n",
      "Can't get connection to https://ivie.vn/cong-dong?page=1465! Try again in 3 seconds.\n",
      "Can't get connection to https://ivie.vn/cong-dong?page=1467! Try again in 3 seconds.\n",
      "Can't get connection to https://ivie.vn/cong-dong?page=1462! Try again in 3 seconds.\n"
     ]
    },
    {
     "name": "stderr",
     "output_type": "stream",
     "text": [
      "Processing page 1464: : 0it [00:00, ?it/s]\n",
      "Processing page 1466: : 0it [00:00, ?it/s]\n",
      "Processing page 1465: : 0it [00:00, ?it/s]\n",
      "Processing page 1467: : 0it [00:00, ?it/s]\n"
     ]
    },
    {
     "name": "stdout",
     "output_type": "stream",
     "text": [
      "Can't get connection to https://ivie.vn/cong-dong?page=1462! Try again in 3 seconds.\n",
      "Can't get connection to https://ivie.vn/cong-dong?page=1468! Try again in 3 seconds.\n",
      "Can't get connection to https://ivie.vn/cong-dong?page=1470! Try again in 3 seconds.\n",
      "Can't get connection to https://ivie.vn/cong-dong?page=1471! Try again in 3 seconds.\n",
      "Can't get connection to https://ivie.vn/cong-dong?page=1469! Try again in 3 seconds.\n"
     ]
    },
    {
     "name": "stderr",
     "output_type": "stream",
     "text": [
      "Processing page 1462: : 0it [00:00, ?it/s]\n",
      "Processing page 1470: : 0it [00:00, ?it/s]\n",
      "Processing page 1468: : 0it [00:00, ?it/s]\n",
      "Processing page 1469: : 0it [00:00, ?it/s]\n"
     ]
    },
    {
     "name": "stdout",
     "output_type": "stream",
     "text": [
      "Can't get connection to https://ivie.vn/cong-dong?page=1471! Try again in 3 seconds.\n"
     ]
    },
    {
     "name": "stderr",
     "output_type": "stream",
     "text": [
      "Processing page 1472: : 0it [00:00, ?it/s]\n",
      "Processing page 1475: : 0it [00:00, ?it/s]\n"
     ]
    },
    {
     "name": "stdout",
     "output_type": "stream",
     "text": [
      "Can't get connection to https://ivie.vn/cong-dong?page=1473! Try again in 3 seconds.\n",
      "Can't get connection to https://ivie.vn/cong-dong?page=1474! Try again in 3 seconds.\n",
      "Can't get connection to https://ivie.vn/cong-dong?page=1476! Try again in 3 seconds.\n"
     ]
    },
    {
     "name": "stderr",
     "output_type": "stream",
     "text": [
      "Processing page 1471: : 0it [00:00, ?it/s]\n",
      "Processing page 1477: : 0it [00:00, ?it/s]\n"
     ]
    },
    {
     "name": "stdout",
     "output_type": "stream",
     "text": [
      "Can't get connection to https://ivie.vn/cong-dong?page=1478! Try again in 3 seconds.\n"
     ]
    },
    {
     "name": "stderr",
     "output_type": "stream",
     "text": [
      "Processing page 1474: : 0it [00:00, ?it/s]\n"
     ]
    },
    {
     "name": "stdout",
     "output_type": "stream",
     "text": [
      "Can't get connection to https://ivie.vn/cong-dong?page=1473! Try again in 3 seconds.\n",
      "Can't get connection to https://ivie.vn/cong-dong?page=1476! Try again in 3 seconds.\n",
      "Can't get connection to https://ivie.vn/cong-dong?page=1479! Try again in 3 seconds.\n",
      "Can't get connection to https://ivie.vn/cong-dong?page=1480! Try again in 3 seconds.\n"
     ]
    },
    {
     "name": "stderr",
     "output_type": "stream",
     "text": [
      "Processing page 1473: : 0it [00:00, ?it/s]\n"
     ]
    },
    {
     "name": "stdout",
     "output_type": "stream",
     "text": [
      "Can't get connection to https://ivie.vn/cong-dong?page=1478! Try again in 3 seconds.\n",
      "Can't get connection to https://ivie.vn/cong-dong?page=1476! Try again in 3 seconds.\n",
      "Can't get connection to https://ivie.vn/cong-dong?page=1479! Try again in 3 seconds.\n"
     ]
    },
    {
     "name": "stderr",
     "output_type": "stream",
     "text": [
      "Processing page 1481: : 0it [00:00, ?it/s]\n"
     ]
    },
    {
     "name": "stdout",
     "output_type": "stream",
     "text": [
      "Can't get connection to https://ivie.vn/cong-dong?page=1480! Try again in 3 seconds.\n",
      "Can't get connection to https://ivie.vn/cong-dong?page=1478! Try again in 3 seconds.\n",
      "Can't get connection to https://ivie.vn/cong-dong?page=1476! Try again in 3 seconds.\n",
      "Can't get connection to https://ivie.vn/cong-dong?page=1479! Try again in 3 seconds.\n",
      "Can't get connection to https://ivie.vn/cong-dong?page=1480! Try again in 3 seconds.\n"
     ]
    },
    {
     "name": "stderr",
     "output_type": "stream",
     "text": [
      "Processing page 1478: : 0it [00:00, ?it/s]\n",
      "Processing page 1482: : 0it [00:00, ?it/s]\n"
     ]
    },
    {
     "name": "stdout",
     "output_type": "stream",
     "text": [
      "Can't get connection to https://ivie.vn/cong-dong?page=1483! Try again in 3 seconds.\n"
     ]
    },
    {
     "name": "stderr",
     "output_type": "stream",
     "text": [
      "Processing page 1476: : 0it [00:00, ?it/s]\n",
      "Processing page 1479: : 0it [00:00, ?it/s]\n",
      "Processing page 1484: : 0it [00:00, ?it/s]\n",
      "Processing page 1480: : 0it [00:00, ?it/s]\n"
     ]
    },
    {
     "name": "stdout",
     "output_type": "stream",
     "text": [
      "Can't get connection to https://ivie.vn/cong-dong?page=1486! Try again in 3 seconds.\n"
     ]
    },
    {
     "name": "stderr",
     "output_type": "stream",
     "text": [
      "Processing page 1485: : 0it [00:00, ?it/s]\n"
     ]
    },
    {
     "name": "stdout",
     "output_type": "stream",
     "text": [
      "Can't get connection to https://ivie.vn/cong-dong?page=1487! Try again in 3 seconds.\n",
      "Can't get connection to https://ivie.vn/cong-dong?page=1488! Try again in 3 seconds.\n"
     ]
    },
    {
     "name": "stderr",
     "output_type": "stream",
     "text": [
      "Processing page 1483: : 0it [00:00, ?it/s]\n",
      "Processing page 1489: : 0it [00:00, ?it/s]\n",
      "Processing page 1486: : 0it [00:00, ?it/s]\n"
     ]
    },
    {
     "name": "stdout",
     "output_type": "stream",
     "text": [
      "Can't get connection to https://ivie.vn/cong-dong?page=1487! Try again in 3 seconds.\n"
     ]
    },
    {
     "name": "stderr",
     "output_type": "stream",
     "text": [
      "Processing page 1490: : 0it [00:00, ?it/s]\n",
      "Processing page 1488: : 0it [00:00, ?it/s]\n",
      "Processing page 1492: : 0it [00:00, ?it/s]\n"
     ]
    },
    {
     "name": "stdout",
     "output_type": "stream",
     "text": [
      "Can't get connection to https://ivie.vn/cong-dong?page=1491! Try again in 3 seconds.\n"
     ]
    },
    {
     "name": "stderr",
     "output_type": "stream",
     "text": [
      "Processing page 1493: : 0it [00:00, ?it/s]\n"
     ]
    },
    {
     "name": "stdout",
     "output_type": "stream",
     "text": [
      "Can't get connection to https://ivie.vn/cong-dong?page=1494! Try again in 3 seconds.\n"
     ]
    },
    {
     "name": "stderr",
     "output_type": "stream",
     "text": [
      "Processing page 1487: : 0it [00:00, ?it/s]\n",
      "Processing page 1495: : 0it [00:00, ?it/s]\n",
      "Processing page 1496: : 0it [00:00, ?it/s]\n"
     ]
    },
    {
     "name": "stdout",
     "output_type": "stream",
     "text": [
      "Can't get connection to https://ivie.vn/cong-dong?page=1491! Try again in 3 seconds.\n"
     ]
    },
    {
     "name": "stderr",
     "output_type": "stream",
     "text": [
      "Processing page 1497: : 0it [00:00, ?it/s]\n",
      "Processing page 1498: : 0it [00:00, ?it/s]\n",
      "Processing page 1494: : 0it [00:00, ?it/s]\n",
      "Processing page 1499: : 0it [00:00, ?it/s]\n"
     ]
    },
    {
     "name": "stdout",
     "output_type": "stream",
     "text": [
      "Can't get connection to https://ivie.vn/cong-dong?page=1500! Try again in 3 seconds.\n"
     ]
    },
    {
     "name": "stderr",
     "output_type": "stream",
     "text": [
      "Processing page 1491: : 0it [00:00, ?it/s]\n"
     ]
    },
    {
     "name": "stdout",
     "output_type": "stream",
     "text": [
      "Can't get connection to https://ivie.vn/cong-dong?page=1501! Try again in 3 seconds.\n",
      "Can't get connection to https://ivie.vn/cong-dong?page=1502! Try again in 3 seconds.\n"
     ]
    },
    {
     "name": "stderr",
     "output_type": "stream",
     "text": [
      "Processing page 1503: : 0it [00:00, ?it/s]\n",
      "Processing page 1504: : 0it [00:00, ?it/s]\n",
      "Processing page 1500: : 0it [00:00, ?it/s]\n"
     ]
    },
    {
     "name": "stdout",
     "output_type": "stream",
     "text": [
      "Can't get connection to https://ivie.vn/cong-dong?page=1505! Try again in 3 seconds.\n",
      "Can't get connection to https://ivie.vn/cong-dong?page=1501! Try again in 3 seconds.\n"
     ]
    },
    {
     "name": "stderr",
     "output_type": "stream",
     "text": [
      "Processing page 1502: : 0it [00:00, ?it/s]\n"
     ]
    },
    {
     "name": "stdout",
     "output_type": "stream",
     "text": [
      "Can't get connection to https://ivie.vn/cong-dong?page=1506! Try again in 3 seconds.\n",
      "Can't get connection to https://ivie.vn/cong-dong?page=1507! Try again in 3 seconds.\n",
      "Can't get connection to https://ivie.vn/cong-dong?page=1508! Try again in 3 seconds.\n",
      "Can't get connection to https://ivie.vn/cong-dong?page=1505! Try again in 3 seconds.\n",
      "Can't get connection to https://ivie.vn/cong-dong?page=1501! Try again in 3 seconds.\n",
      "Can't get connection to https://ivie.vn/cong-dong?page=1506! Try again in 3 seconds.\n",
      "Can't get connection to https://ivie.vn/cong-dong?page=1507! Try again in 3 seconds.\n"
     ]
    },
    {
     "name": "stderr",
     "output_type": "stream",
     "text": [
      "Processing page 1505: : 0it [00:00, ?it/s]\n"
     ]
    },
    {
     "name": "stdout",
     "output_type": "stream",
     "text": [
      "Can't get connection to https://ivie.vn/cong-dong?page=1508! Try again in 3 seconds.\n",
      "Can't get connection to https://ivie.vn/cong-dong?page=1501! Try again in 3 seconds.\n"
     ]
    },
    {
     "name": "stderr",
     "output_type": "stream",
     "text": [
      "Processing page 1506: : 0it [00:00, ?it/s]\n",
      "Processing page 1507: : 0it [00:00, ?it/s]\n"
     ]
    },
    {
     "name": "stdout",
     "output_type": "stream",
     "text": [
      "Can't get connection to https://ivie.vn/cong-dong?page=1509! Try again in 3 seconds.\n"
     ]
    },
    {
     "name": "stderr",
     "output_type": "stream",
     "text": [
      "Processing page 1508: : 0it [00:00, ?it/s]\n",
      "Processing page 1501: : 0it [00:00, ?it/s]\n"
     ]
    },
    {
     "name": "stdout",
     "output_type": "stream",
     "text": [
      "Can't get connection to https://ivie.vn/cong-dong?page=1511! Try again in 3 seconds.\n",
      "Can't get connection to https://ivie.vn/cong-dong?page=1510! Try again in 3 seconds.\n",
      "Can't get connection to https://ivie.vn/cong-dong?page=1509! Try again in 3 seconds.\n"
     ]
    },
    {
     "name": "stderr",
     "output_type": "stream",
     "text": [
      "Processing page 1512: : 0it [00:00, ?it/s]\n"
     ]
    },
    {
     "name": "stdout",
     "output_type": "stream",
     "text": [
      "Can't get connection to https://ivie.vn/cong-dong?page=1513! Try again in 3 seconds.\n"
     ]
    },
    {
     "name": "stderr",
     "output_type": "stream",
     "text": [
      "Processing page 1514: : 0it [00:00, ?it/s]\n"
     ]
    },
    {
     "name": "stdout",
     "output_type": "stream",
     "text": [
      "Can't get connection to https://ivie.vn/cong-dong?page=1511! Try again in 3 seconds.\n"
     ]
    },
    {
     "name": "stderr",
     "output_type": "stream",
     "text": [
      "Processing page 1509: : 0it [00:00, ?it/s]\n"
     ]
    },
    {
     "name": "stdout",
     "output_type": "stream",
     "text": [
      "Can't get connection to https://ivie.vn/cong-dong?page=1510! Try again in 3 seconds.\n"
     ]
    },
    {
     "name": "stderr",
     "output_type": "stream",
     "text": [
      "Processing page 1513: : 0it [00:00, ?it/s]\n",
      "Processing page 1515: : 0it [00:00, ?it/s]\n"
     ]
    },
    {
     "name": "stdout",
     "output_type": "stream",
     "text": [
      "Can't get connection to https://ivie.vn/cong-dong?page=1511! Try again in 3 seconds.\n",
      "Can't get connection to https://ivie.vn/cong-dong?page=1510! Try again in 3 seconds.\n",
      "Can't get connection to https://ivie.vn/cong-dong?page=1517! Try again in 3 seconds.\n",
      "Can't get connection to https://ivie.vn/cong-dong?page=1516! Try again in 3 seconds.\n",
      "Can't get connection to https://ivie.vn/cong-dong?page=1518! Try again in 3 seconds.\n"
     ]
    },
    {
     "name": "stderr",
     "output_type": "stream",
     "text": [
      "Processing page 1511: : 0it [00:00, ?it/s]\n"
     ]
    },
    {
     "name": "stdout",
     "output_type": "stream",
     "text": [
      "Can't get connection to https://ivie.vn/cong-dong?page=1516! Try again in 3 seconds.\n",
      "Can't get connection to https://ivie.vn/cong-dong?page=1510! Try again in 3 seconds.\n",
      "Can't get connection to https://ivie.vn/cong-dong?page=1517! Try again in 3 seconds.\n",
      "Can't get connection to https://ivie.vn/cong-dong?page=1519! Try again in 3 seconds.\n",
      "Can't get connection to https://ivie.vn/cong-dong?page=1516! Try again in 3 seconds.\n",
      "Can't get connection to https://ivie.vn/cong-dong?page=1510! Try again in 3 seconds.\n"
     ]
    },
    {
     "name": "stderr",
     "output_type": "stream",
     "text": [
      "Processing page 1517: : 0it [00:00, ?it/s]\n",
      "Processing page 1519: : 0it [00:00, ?it/s]\n",
      "Processing page 1518: : 0it [00:00, ?it/s]\n",
      "Processing page 1516: : 0it [00:00, ?it/s]\n",
      "Processing page 1520: : 0it [00:00, ?it/s]\n"
     ]
    },
    {
     "name": "stdout",
     "output_type": "stream",
     "text": [
      "Can't get connection to https://ivie.vn/cong-dong?page=1521! Try again in 3 seconds.\n",
      "Can't get connection to https://ivie.vn/cong-dong?page=1510! Try again in 3 seconds.\n"
     ]
    },
    {
     "name": "stderr",
     "output_type": "stream",
     "text": [
      "Processing page 1523: : 0it [00:00, ?it/s]\n",
      "Processing page 1522: : 0it [00:00, ?it/s]\n"
     ]
    },
    {
     "name": "stdout",
     "output_type": "stream",
     "text": [
      "Can't get connection to https://ivie.vn/cong-dong?page=1524! Try again in 3 seconds.\n"
     ]
    },
    {
     "name": "stderr",
     "output_type": "stream",
     "text": [
      "Processing page 1521: : 0it [00:00, ?it/s]\n"
     ]
    },
    {
     "name": "stdout",
     "output_type": "stream",
     "text": [
      "Can't get connection to https://ivie.vn/cong-dong?page=1525! Try again in 3 seconds.\n"
     ]
    },
    {
     "name": "stderr",
     "output_type": "stream",
     "text": [
      "Processing page 1526: : 0it [00:00, ?it/s]\n",
      "Processing page 1510: : 0it [00:00, ?it/s]\n",
      "Processing page 1524: : 0it [00:00, ?it/s]\n"
     ]
    },
    {
     "name": "stdout",
     "output_type": "stream",
     "text": [
      "Can't get connection to https://ivie.vn/cong-dong?page=1527! Try again in 3 seconds.\n",
      "Can't get connection to https://ivie.vn/cong-dong?page=1528! Try again in 3 seconds.\n",
      "Can't get connection to https://ivie.vn/cong-dong?page=1529! Try again in 3 seconds.\n",
      "Can't get connection to https://ivie.vn/cong-dong?page=1530! Try again in 3 seconds.\n",
      "Can't get connection to https://ivie.vn/cong-dong?page=1527! Try again in 3 seconds.\n",
      "Can't get connection to https://ivie.vn/cong-dong?page=1528! Try again in 3 seconds.\n"
     ]
    },
    {
     "name": "stderr",
     "output_type": "stream",
     "text": [
      "Processing page 1529: : 0it [00:00, ?it/s]\n",
      "Processing page 1525: : 0it [00:00, ?it/s]\n"
     ]
    },
    {
     "name": "stdout",
     "output_type": "stream",
     "text": [
      "Can't get connection to https://ivie.vn/cong-dong?page=1530! Try again in 3 seconds.\n"
     ]
    },
    {
     "name": "stderr",
     "output_type": "stream",
     "text": [
      "Processing page 1531: : 0it [00:00, ?it/s]\n",
      "Processing page 1528: : 0it [00:00, ?it/s]\n",
      "Processing page 1532: : 0it [00:00, ?it/s]\n",
      "Processing page 1530: : 0it [00:00, ?it/s]\n",
      "Processing page 1533: : 0it [00:00, ?it/s]\n",
      "Processing page 1527: : 0it [00:00, ?it/s]\n"
     ]
    },
    {
     "name": "stdout",
     "output_type": "stream",
     "text": [
      "Can't get connection to https://ivie.vn/cong-dong?page=1535! Try again in 3 seconds.\n",
      "Can't get connection to https://ivie.vn/cong-dong?page=1534! Try again in 3 seconds.\n",
      "Can't get connection to https://ivie.vn/cong-dong?page=1536! Try again in 3 seconds.\n",
      "Can't get connection to https://ivie.vn/cong-dong?page=1537! Try again in 3 seconds.\n",
      "Can't get connection to https://ivie.vn/cong-dong?page=1534! Try again in 3 seconds.\n",
      "Can't get connection to https://ivie.vn/cong-dong?page=1538! Try again in 3 seconds.\n",
      "Can't get connection to https://ivie.vn/cong-dong?page=1535! Try again in 3 seconds.\n"
     ]
    },
    {
     "name": "stderr",
     "output_type": "stream",
     "text": [
      "Processing page 1536: : 0it [00:00, ?it/s]\n",
      "Processing page 1537: : 0it [00:00, ?it/s]\n",
      "Processing page 1538: : 0it [00:00, ?it/s]\n",
      "Processing page 1534: : 0it [00:00, ?it/s]\n",
      "Processing page 1539: : 0it [00:00, ?it/s]\n",
      "Processing page 1535: : 0it [00:00, ?it/s]\n"
     ]
    },
    {
     "name": "stdout",
     "output_type": "stream",
     "text": [
      "Can't get connection to https://ivie.vn/cong-dong?page=1540! Try again in 3 seconds.\n",
      "Can't get connection to https://ivie.vn/cong-dong?page=1542! Try again in 3 seconds.\n",
      "Can't get connection to https://ivie.vn/cong-dong?page=1543! Try again in 3 seconds.\n",
      "Can't get connection to https://ivie.vn/cong-dong?page=1544! Try again in 3 seconds.\n",
      "Can't get connection to https://ivie.vn/cong-dong?page=1541! Try again in 3 seconds.\n",
      "Can't get connection to https://ivie.vn/cong-dong?page=1540! Try again in 3 seconds.\n"
     ]
    },
    {
     "name": "stderr",
     "output_type": "stream",
     "text": [
      "Processing page 1542: : 0it [00:00, ?it/s]\n"
     ]
    },
    {
     "name": "stdout",
     "output_type": "stream",
     "text": [
      "Can't get connection to https://ivie.vn/cong-dong?page=1541! Try again in 3 seconds.\n",
      "Can't get connection to https://ivie.vn/cong-dong?page=1544! Try again in 3 seconds.\n"
     ]
    },
    {
     "name": "stderr",
     "output_type": "stream",
     "text": [
      "Processing page 1543: : 0it [00:00, ?it/s]\n",
      "Processing page 1540: : 0it [00:00, ?it/s]\n",
      "Processing page 1545: : 0it [00:00, ?it/s]\n"
     ]
    },
    {
     "name": "stdout",
     "output_type": "stream",
     "text": [
      "Can't get connection to https://ivie.vn/cong-dong?page=1546! Try again in 3 seconds.\n",
      "Can't get connection to https://ivie.vn/cong-dong?page=1547! Try again in 3 seconds.\n"
     ]
    },
    {
     "name": "stderr",
     "output_type": "stream",
     "text": [
      "Processing page 1544: : 0it [00:00, ?it/s]\n"
     ]
    },
    {
     "name": "stdout",
     "output_type": "stream",
     "text": [
      "Can't get connection to https://ivie.vn/cong-dong?page=1541! Try again in 3 seconds.\n"
     ]
    },
    {
     "name": "stderr",
     "output_type": "stream",
     "text": [
      "Processing page 1548: : 0it [00:00, ?it/s]\n"
     ]
    },
    {
     "name": "stdout",
     "output_type": "stream",
     "text": [
      "Can't get connection to https://ivie.vn/cong-dong?page=1549! Try again in 3 seconds.\n"
     ]
    },
    {
     "name": "stderr",
     "output_type": "stream",
     "text": [
      "Processing page 1550: : 0it [00:00, ?it/s]\n",
      "Processing page 1546: : 0it [00:00, ?it/s]\n"
     ]
    },
    {
     "name": "stdout",
     "output_type": "stream",
     "text": [
      "Can't get connection to https://ivie.vn/cong-dong?page=1547! Try again in 3 seconds.\n"
     ]
    },
    {
     "name": "stderr",
     "output_type": "stream",
     "text": [
      "Processing page 1541: : 0it [00:00, ?it/s]\n",
      "Processing page 1552: : 0it [00:00, ?it/s]\n",
      "Processing page 1549: : 0it [00:00, ?it/s]\n",
      "Processing page 1551: : 0it [00:00, ?it/s]\n"
     ]
    },
    {
     "name": "stdout",
     "output_type": "stream",
     "text": [
      "Can't get connection to https://ivie.vn/cong-dong?page=1553! Try again in 3 seconds.\n"
     ]
    },
    {
     "name": "stderr",
     "output_type": "stream",
     "text": [
      "Processing page 1547: : 0it [00:00, ?it/s]\n",
      "Processing page 1555: : 0it [00:00, ?it/s]\n"
     ]
    },
    {
     "name": "stdout",
     "output_type": "stream",
     "text": [
      "Can't get connection to https://ivie.vn/cong-dong?page=1556! Try again in 3 seconds.\n",
      "Can't get connection to https://ivie.vn/cong-dong?page=1554! Try again in 3 seconds.\n"
     ]
    },
    {
     "name": "stderr",
     "output_type": "stream",
     "text": [
      "Processing page 1553: : 0it [00:00, ?it/s]\n",
      "Processing page 1557: : 0it [00:00, ?it/s]\n",
      "Processing page 1558: : 0it [00:00, ?it/s]\n"
     ]
    },
    {
     "name": "stdout",
     "output_type": "stream",
     "text": [
      "Can't get connection to https://ivie.vn/cong-dong?page=1556! Try again in 3 seconds.\n"
     ]
    },
    {
     "name": "stderr",
     "output_type": "stream",
     "text": [
      "Processing page 1559: : 0it [00:00, ?it/s]\n"
     ]
    },
    {
     "name": "stdout",
     "output_type": "stream",
     "text": [
      "Can't get connection to https://ivie.vn/cong-dong?page=1560! Try again in 3 seconds.\n",
      "Can't get connection to https://ivie.vn/cong-dong?page=1561! Try again in 3 seconds.\n",
      "Can't get connection to https://ivie.vn/cong-dong?page=1554! Try again in 3 seconds.\n",
      "Can't get connection to https://ivie.vn/cong-dong?page=1562! Try again in 3 seconds.\n"
     ]
    },
    {
     "name": "stderr",
     "output_type": "stream",
     "text": [
      "Processing page 1556: : 0it [00:00, ?it/s]\n",
      "Processing page 1554: : 0it [00:00, ?it/s]\n",
      "Processing page 1561: : 0it [00:00, ?it/s]\n"
     ]
    },
    {
     "name": "stdout",
     "output_type": "stream",
     "text": [
      "Can't get connection to https://ivie.vn/cong-dong?page=1560! Try again in 3 seconds.\n",
      "Can't get connection to https://ivie.vn/cong-dong?page=1562! Try again in 3 seconds.\n"
     ]
    },
    {
     "name": "stderr",
     "output_type": "stream",
     "text": [
      "Processing page 1564: : 0it [00:00, ?it/s]\n"
     ]
    },
    {
     "name": "stdout",
     "output_type": "stream",
     "text": [
      "Can't get connection to https://ivie.vn/cong-dong?page=1565! Try again in 3 seconds.\n",
      "Can't get connection to https://ivie.vn/cong-dong?page=1563! Try again in 3 seconds.\n"
     ]
    },
    {
     "name": "stderr",
     "output_type": "stream",
     "text": [
      "Processing page 1560: : 0it [00:00, ?it/s]\n",
      "Processing page 1566: : 0it [00:00, ?it/s]\n",
      "Processing page 1562: : 0it [00:00, ?it/s]\n"
     ]
    },
    {
     "name": "stdout",
     "output_type": "stream",
     "text": [
      "Can't get connection to https://ivie.vn/cong-dong?page=1563! Try again in 3 seconds.\n"
     ]
    },
    {
     "name": "stderr",
     "output_type": "stream",
     "text": [
      "Processing page 1567: : 0it [00:00, ?it/s]\n"
     ]
    },
    {
     "name": "stdout",
     "output_type": "stream",
     "text": [
      "Can't get connection to https://ivie.vn/cong-dong?page=1565! Try again in 3 seconds.\n"
     ]
    },
    {
     "name": "stderr",
     "output_type": "stream",
     "text": [
      "Processing page 1568: : 0it [00:00, ?it/s]\n",
      "Processing page 1569: : 0it [00:00, ?it/s]\n",
      "Processing page 1570: : 0it [00:00, ?it/s]\n"
     ]
    },
    {
     "name": "stdout",
     "output_type": "stream",
     "text": [
      "Can't get connection to https://ivie.vn/cong-dong?page=1563! Try again in 3 seconds.\n"
     ]
    },
    {
     "name": "stderr",
     "output_type": "stream",
     "text": [
      "Processing page 1571: : 0it [00:00, ?it/s]\n",
      "Processing page 1572: : 0it [00:00, ?it/s]\n"
     ]
    },
    {
     "name": "stdout",
     "output_type": "stream",
     "text": [
      "Can't get connection to https://ivie.vn/cong-dong?page=1565! Try again in 3 seconds.\n"
     ]
    },
    {
     "name": "stderr",
     "output_type": "stream",
     "text": [
      "Processing page 1573: : 0it [00:00, ?it/s]\n",
      "Processing page 1574: : 0it [00:00, ?it/s]\n"
     ]
    },
    {
     "name": "stdout",
     "output_type": "stream",
     "text": [
      "Can't get connection to https://ivie.vn/cong-dong?page=1563! Try again in 3 seconds.\n",
      "Can't get connection to https://ivie.vn/cong-dong?page=1575! Try again in 3 seconds.\n",
      "Can't get connection to https://ivie.vn/cong-dong?page=1565! Try again in 3 seconds.\n"
     ]
    },
    {
     "name": "stderr",
     "output_type": "stream",
     "text": [
      "Processing page 1577: : 0it [00:00, ?it/s]\n",
      "Processing page 1576: : 0it [00:00, ?it/s]\n"
     ]
    },
    {
     "name": "stdout",
     "output_type": "stream",
     "text": [
      "Can't get connection to https://ivie.vn/cong-dong?page=1575! Try again in 3 seconds.\n"
     ]
    },
    {
     "name": "stderr",
     "output_type": "stream",
     "text": [
      "Processing page 1563: : 0it [00:00, ?it/s]\n"
     ]
    },
    {
     "name": "stdout",
     "output_type": "stream",
     "text": [
      "Can't get connection to https://ivie.vn/cong-dong?page=1578! Try again in 3 seconds.\n"
     ]
    },
    {
     "name": "stderr",
     "output_type": "stream",
     "text": [
      "Processing page 1565: : 0it [00:00, ?it/s]\n",
      "Processing page 1579: : 0it [00:00, ?it/s]\n"
     ]
    },
    {
     "name": "stdout",
     "output_type": "stream",
     "text": [
      "Can't get connection to https://ivie.vn/cong-dong?page=1580! Try again in 3 seconds.\n"
     ]
    },
    {
     "name": "stderr",
     "output_type": "stream",
     "text": [
      "Processing page 1581: : 0it [00:00, ?it/s]\n",
      "Processing page 1582: : 0it [00:00, ?it/s]\n",
      "Processing page 1575: : 0it [00:00, ?it/s]\n"
     ]
    },
    {
     "name": "stdout",
     "output_type": "stream",
     "text": [
      "Can't get connection to https://ivie.vn/cong-dong?page=1578! Try again in 3 seconds.\n",
      "Can't get connection to https://ivie.vn/cong-dong?page=1580! Try again in 3 seconds.\n",
      "Can't get connection to https://ivie.vn/cong-dong?page=1584! Try again in 3 seconds.\n"
     ]
    },
    {
     "name": "stderr",
     "output_type": "stream",
     "text": [
      "Processing page 1583: : 0it [00:00, ?it/s]\n"
     ]
    },
    {
     "name": "stdout",
     "output_type": "stream",
     "text": [
      "Can't get connection to https://ivie.vn/cong-dong?page=1585! Try again in 3 seconds.\n"
     ]
    },
    {
     "name": "stderr",
     "output_type": "stream",
     "text": [
      "Processing page 1578: : 0it [00:00, ?it/s]\n",
      "Processing page 1580: : 0it [00:00, ?it/s]\n"
     ]
    },
    {
     "name": "stdout",
     "output_type": "stream",
     "text": [
      "Can't get connection to https://ivie.vn/cong-dong?page=1584! Try again in 3 seconds.\n",
      "Can't get connection to https://ivie.vn/cong-dong?page=1585! Try again in 3 seconds.\n"
     ]
    },
    {
     "name": "stderr",
     "output_type": "stream",
     "text": [
      "Processing page 1586: : 0it [00:00, ?it/s]\n"
     ]
    },
    {
     "name": "stdout",
     "output_type": "stream",
     "text": [
      "Can't get connection to https://ivie.vn/cong-dong?page=1587! Try again in 3 seconds.\n",
      "Can't get connection to https://ivie.vn/cong-dong?page=1588! Try again in 3 seconds.\n"
     ]
    },
    {
     "name": "stderr",
     "output_type": "stream",
     "text": [
      "Processing page 1585: : 0it [00:00, ?it/s]\n",
      "Processing page 1584: : 0it [00:00, ?it/s]\n"
     ]
    },
    {
     "name": "stdout",
     "output_type": "stream",
     "text": [
      "Can't get connection to https://ivie.vn/cong-dong?page=1589! Try again in 3 seconds.\n"
     ]
    },
    {
     "name": "stderr",
     "output_type": "stream",
     "text": [
      "Processing page 1587: : 0it [00:00, ?it/s]\n"
     ]
    },
    {
     "name": "stdout",
     "output_type": "stream",
     "text": [
      "Can't get connection to https://ivie.vn/cong-dong?page=1588! Try again in 3 seconds.\n",
      "Can't get connection to https://ivie.vn/cong-dong?page=1591! Try again in 3 seconds.\n"
     ]
    },
    {
     "name": "stderr",
     "output_type": "stream",
     "text": [
      "Processing page 1590: : 0it [00:00, ?it/s]\n",
      "Processing page 1592: : 0it [00:00, ?it/s]\n",
      "Processing page 1589: : 0it [00:00, ?it/s]\n",
      "Processing page 1593: : 0it [00:00, ?it/s]\n"
     ]
    },
    {
     "name": "stdout",
     "output_type": "stream",
     "text": [
      "Can't get connection to https://ivie.vn/cong-dong?page=1588! Try again in 3 seconds.\n"
     ]
    },
    {
     "name": "stderr",
     "output_type": "stream",
     "text": [
      "Processing page 1595: : 0it [00:00, ?it/s]\n"
     ]
    },
    {
     "name": "stdout",
     "output_type": "stream",
     "text": [
      "Can't get connection to https://ivie.vn/cong-dong?page=1591! Try again in 3 seconds.\n",
      "Can't get connection to https://ivie.vn/cong-dong?page=1594! Try again in 3 seconds.\n",
      "Can't get connection to https://ivie.vn/cong-dong?page=1596! Try again in 3 seconds.\n",
      "Can't get connection to https://ivie.vn/cong-dong?page=1588! Try again in 3 seconds.\n",
      "Can't get connection to https://ivie.vn/cong-dong?page=1597! Try again in 3 seconds.\n",
      "Can't get connection to https://ivie.vn/cong-dong?page=1591! Try again in 3 seconds.\n",
      "Can't get connection to https://ivie.vn/cong-dong?page=1594! Try again in 3 seconds.\n"
     ]
    },
    {
     "name": "stderr",
     "output_type": "stream",
     "text": [
      "Processing page 1588: : 0it [00:00, ?it/s]\n",
      "Processing page 1597: : 0it [00:00, ?it/s]\n"
     ]
    },
    {
     "name": "stdout",
     "output_type": "stream",
     "text": [
      "Can't get connection to https://ivie.vn/cong-dong?page=1591! Try again in 3 seconds.\n",
      "Can't get connection to https://ivie.vn/cong-dong?page=1594! Try again in 3 seconds.\n"
     ]
    },
    {
     "name": "stderr",
     "output_type": "stream",
     "text": [
      "Processing page 1599: : 0it [00:00, ?it/s]\n"
     ]
    },
    {
     "name": "stdout",
     "output_type": "stream",
     "text": [
      "Can't get connection to https://ivie.vn/cong-dong?page=1598! Try again in 3 seconds.\n",
      "Can't get connection to https://ivie.vn/cong-dong?page=1591! Try again in 3 seconds.\n",
      "Can't get connection to https://ivie.vn/cong-dong?page=1594! Try again in 3 seconds.\n",
      "Can't get connection to https://ivie.vn/cong-dong?page=1600! Try again in 3 seconds.\n",
      "Can't get connection to https://ivie.vn/cong-dong?page=1596! Try again in 3 seconds.\n",
      "Can't get connection to https://ivie.vn/cong-dong?page=1598! Try again in 3 seconds.\n",
      "Can't get connection to https://ivie.vn/cong-dong?page=1591! Try again in 3 seconds.\n",
      "Can't get connection to https://ivie.vn/cong-dong?page=1594! Try again in 3 seconds.\n"
     ]
    },
    {
     "name": "stderr",
     "output_type": "stream",
     "text": [
      "Processing page 1596: : 0it [00:00, ?it/s]\n",
      "Processing page 1600: : 0it [00:00, ?it/s]\n",
      "Processing page 1598: : 0it [00:00, ?it/s]\n",
      "Processing page 1591: : 0it [00:00, ?it/s]\n",
      "Processing page 1601: : 0it [00:00, ?it/s]\n",
      "Processing page 1603: : 0it [00:00, ?it/s]\n",
      "Processing page 1602: : 0it [00:00, ?it/s]\n"
     ]
    },
    {
     "name": "stdout",
     "output_type": "stream",
     "text": [
      "Can't get connection to https://ivie.vn/cong-dong?page=1594! Try again in 3 seconds.\n"
     ]
    },
    {
     "name": "stderr",
     "output_type": "stream",
     "text": [
      "Processing page 1604: : 0it [00:00, ?it/s]\n"
     ]
    },
    {
     "name": "stdout",
     "output_type": "stream",
     "text": [
      "Can't get connection to https://ivie.vn/cong-dong?page=1607! Try again in 3 seconds.\n",
      "Can't get connection to https://ivie.vn/cong-dong?page=1606! Try again in 3 seconds.\n",
      "Can't get connection to https://ivie.vn/cong-dong?page=1605! Try again in 3 seconds.\n",
      "Can't get connection to https://ivie.vn/cong-dong?page=1594! Try again in 3 seconds.\n",
      "Can't get connection to https://ivie.vn/cong-dong?page=1608! Try again in 3 seconds.\n",
      "Can't get connection to https://ivie.vn/cong-dong?page=1607! Try again in 3 seconds.\n"
     ]
    },
    {
     "name": "stderr",
     "output_type": "stream",
     "text": [
      "Processing page 1606: : 0it [00:00, ?it/s]\n",
      "Processing page 1605: : 0it [00:00, ?it/s]\n"
     ]
    },
    {
     "name": "stdout",
     "output_type": "stream",
     "text": [
      "Can't get connection to https://ivie.vn/cong-dong?page=1594! Try again in 3 seconds.\n"
     ]
    },
    {
     "name": "stderr",
     "output_type": "stream",
     "text": [
      "Processing page 1608: : 0it [00:00, ?it/s]\n",
      "Processing page 1609: : 0it [00:00, ?it/s]\n"
     ]
    },
    {
     "name": "stdout",
     "output_type": "stream",
     "text": [
      "Can't get connection to https://ivie.vn/cong-dong?page=1611! Try again in 3 seconds.\n",
      "Can't get connection to https://ivie.vn/cong-dong?page=1610! Try again in 3 seconds.\n",
      "Can't get connection to https://ivie.vn/cong-dong?page=1607! Try again in 3 seconds.\n",
      "Can't get connection to https://ivie.vn/cong-dong?page=1594! Try again in 3 seconds.\n",
      "Can't get connection to https://ivie.vn/cong-dong?page=1612! Try again in 3 seconds.\n",
      "Can't get connection to https://ivie.vn/cong-dong?page=1611! Try again in 3 seconds.\n"
     ]
    },
    {
     "name": "stderr",
     "output_type": "stream",
     "text": [
      "Processing page 1610: : 0it [00:00, ?it/s]\n"
     ]
    },
    {
     "name": "stdout",
     "output_type": "stream",
     "text": [
      "Can't get connection to https://ivie.vn/cong-dong?page=1607! Try again in 3 seconds.\n"
     ]
    },
    {
     "name": "stderr",
     "output_type": "stream",
     "text": [
      "Processing page 1594: : 0it [00:00, ?it/s]\n",
      "Processing page 1612: : 0it [00:00, ?it/s]\n"
     ]
    },
    {
     "name": "stdout",
     "output_type": "stream",
     "text": [
      "Can't get connection to https://ivie.vn/cong-dong?page=1613! Try again in 3 seconds.\n"
     ]
    },
    {
     "name": "stderr",
     "output_type": "stream",
     "text": [
      "Processing page 1611: : 0it [00:00, ?it/s]\n",
      "Processing page 1615: : 0it [00:00, ?it/s]\n"
     ]
    },
    {
     "name": "stdout",
     "output_type": "stream",
     "text": [
      "Can't get connection to https://ivie.vn/cong-dong?page=1607! Try again in 3 seconds.\n"
     ]
    },
    {
     "name": "stderr",
     "output_type": "stream",
     "text": [
      "Processing page 1614: : 0it [00:00, ?it/s]\n"
     ]
    },
    {
     "name": "stdout",
     "output_type": "stream",
     "text": [
      "Can't get connection to https://ivie.vn/cong-dong?page=1613! Try again in 3 seconds.\n",
      "Can't get connection to https://ivie.vn/cong-dong?page=1617! Try again in 3 seconds.\n",
      "Can't get connection to https://ivie.vn/cong-dong?page=1616! Try again in 3 seconds.\n"
     ]
    },
    {
     "name": "stderr",
     "output_type": "stream",
     "text": [
      "Processing page 1607: : 0it [00:00, ?it/s]\n"
     ]
    },
    {
     "name": "stdout",
     "output_type": "stream",
     "text": [
      "Can't get connection to https://ivie.vn/cong-dong?page=1618! Try again in 3 seconds.\n",
      "Can't get connection to https://ivie.vn/cong-dong?page=1613! Try again in 3 seconds.\n",
      "Can't get connection to https://ivie.vn/cong-dong?page=1619! Try again in 3 seconds.\n"
     ]
    },
    {
     "name": "stderr",
     "output_type": "stream",
     "text": [
      "Processing page 1617: : 0it [00:00, ?it/s]\n"
     ]
    },
    {
     "name": "stdout",
     "output_type": "stream",
     "text": [
      "Can't get connection to https://ivie.vn/cong-dong?page=1616! Try again in 3 seconds.\n",
      "Can't get connection to https://ivie.vn/cong-dong?page=1618! Try again in 3 seconds.\n"
     ]
    },
    {
     "name": "stderr",
     "output_type": "stream",
     "text": [
      "Processing page 1613: : 0it [00:00, ?it/s]\n"
     ]
    },
    {
     "name": "stdout",
     "output_type": "stream",
     "text": [
      "Can't get connection to https://ivie.vn/cong-dong?page=1619! Try again in 3 seconds.\n",
      "Can't get connection to https://ivie.vn/cong-dong?page=1616! Try again in 3 seconds.\n",
      "Can't get connection to https://ivie.vn/cong-dong?page=1620! Try again in 3 seconds.\n"
     ]
    },
    {
     "name": "stderr",
     "output_type": "stream",
     "text": [
      "Processing page 1618: : 0it [00:00, ?it/s]\n",
      "Processing page 1621: : 0it [00:00, ?it/s]\n",
      "Processing page 1619: : 0it [00:00, ?it/s]\n"
     ]
    },
    {
     "name": "stdout",
     "output_type": "stream",
     "text": [
      "Can't get connection to https://ivie.vn/cong-dong?page=1622! Try again in 3 seconds.\n"
     ]
    },
    {
     "name": "stderr",
     "output_type": "stream",
     "text": [
      "Processing page 1616: : 0it [00:00, ?it/s]\n"
     ]
    },
    {
     "name": "stdout",
     "output_type": "stream",
     "text": [
      "Can't get connection to https://ivie.vn/cong-dong?page=1620! Try again in 3 seconds.\n",
      "Can't get connection to https://ivie.vn/cong-dong?page=1623! Try again in 3 seconds.\n"
     ]
    },
    {
     "name": "stderr",
     "output_type": "stream",
     "text": [
      "Processing page 1624: : 0it [00:00, ?it/s]\n"
     ]
    },
    {
     "name": "stdout",
     "output_type": "stream",
     "text": [
      "Can't get connection to https://ivie.vn/cong-dong?page=1625! Try again in 3 seconds.\n"
     ]
    },
    {
     "name": "stderr",
     "output_type": "stream",
     "text": [
      "Processing page 1622: : 0it [00:00, ?it/s]\n"
     ]
    },
    {
     "name": "stdout",
     "output_type": "stream",
     "text": [
      "Can't get connection to https://ivie.vn/cong-dong?page=1623! Try again in 3 seconds.\n",
      "Can't get connection to https://ivie.vn/cong-dong?page=1620! Try again in 3 seconds.\n"
     ]
    },
    {
     "name": "stderr",
     "output_type": "stream",
     "text": [
      "Processing page 1626: : 0it [00:00, ?it/s]\n",
      "Processing page 1625: : 0it [00:00, ?it/s]\n"
     ]
    },
    {
     "name": "stdout",
     "output_type": "stream",
     "text": [
      "Can't get connection to https://ivie.vn/cong-dong?page=1627! Try again in 3 seconds.\n"
     ]
    },
    {
     "name": "stderr",
     "output_type": "stream",
     "text": [
      "Processing page 1628: : 0it [00:00, ?it/s]\n"
     ]
    },
    {
     "name": "stdout",
     "output_type": "stream",
     "text": [
      "Can't get connection to https://ivie.vn/cong-dong?page=1623! Try again in 3 seconds.\n",
      "Can't get connection to https://ivie.vn/cong-dong?page=1620! Try again in 3 seconds.\n",
      "Can't get connection to https://ivie.vn/cong-dong?page=1629! Try again in 3 seconds.\n"
     ]
    },
    {
     "name": "stderr",
     "output_type": "stream",
     "text": [
      "Processing page 1627: : 0it [00:00, ?it/s]\n",
      "Processing page 1629: : 0it [00:00, ?it/s]\n"
     ]
    },
    {
     "name": "stdout",
     "output_type": "stream",
     "text": [
      "Can't get connection to https://ivie.vn/cong-dong?page=1630! Try again in 3 seconds.\n"
     ]
    },
    {
     "name": "stderr",
     "output_type": "stream",
     "text": [
      "Processing page 1620: : 0it [00:00, ?it/s]\n"
     ]
    },
    {
     "name": "stdout",
     "output_type": "stream",
     "text": [
      "Can't get connection to https://ivie.vn/cong-dong?page=1631! Try again in 3 seconds.\n",
      "Can't get connection to https://ivie.vn/cong-dong?page=1623! Try again in 3 seconds.\n"
     ]
    },
    {
     "name": "stderr",
     "output_type": "stream",
     "text": [
      "Processing page 1630: : 0it [00:00, ?it/s]\n"
     ]
    },
    {
     "name": "stdout",
     "output_type": "stream",
     "text": [
      "Can't get connection to https://ivie.vn/cong-dong?page=1632! Try again in 3 seconds.\n"
     ]
    },
    {
     "name": "stderr",
     "output_type": "stream",
     "text": [
      "Processing page 1631: : 0it [00:00, ?it/s]\n"
     ]
    },
    {
     "name": "stdout",
     "output_type": "stream",
     "text": [
      "Can't get connection to https://ivie.vn/cong-dong?page=1633! Try again in 3 seconds.\n"
     ]
    },
    {
     "name": "stderr",
     "output_type": "stream",
     "text": [
      "Processing page 1623: : 0it [00:00, ?it/s]\n"
     ]
    },
    {
     "name": "stdout",
     "output_type": "stream",
     "text": [
      "Can't get connection to https://ivie.vn/cong-dong?page=1634! Try again in 3 seconds.\n"
     ]
    },
    {
     "name": "stderr",
     "output_type": "stream",
     "text": [
      "Processing page 1635: : 0it [00:00, ?it/s]\n",
      "Processing page 1636: : 0it [00:00, ?it/s]\n",
      "Processing page 1633: : 0it [00:00, ?it/s]\n"
     ]
    },
    {
     "name": "stdout",
     "output_type": "stream",
     "text": [
      "Can't get connection to https://ivie.vn/cong-dong?page=1632! Try again in 3 seconds.\n"
     ]
    },
    {
     "name": "stderr",
     "output_type": "stream",
     "text": [
      "Processing page 1637: : 0it [00:00, ?it/s]\n",
      "Processing page 1638: : 0it [00:00, ?it/s]\n"
     ]
    },
    {
     "name": "stdout",
     "output_type": "stream",
     "text": [
      "Can't get connection to https://ivie.vn/cong-dong?page=1634! Try again in 3 seconds.\n"
     ]
    },
    {
     "name": "stderr",
     "output_type": "stream",
     "text": [
      "Processing page 1639: : 0it [00:00, ?it/s]\n",
      "Processing page 1632: : 0it [00:00, ?it/s]\n",
      "Processing page 1640: : 0it [00:00, ?it/s]\n"
     ]
    },
    {
     "name": "stdout",
     "output_type": "stream",
     "text": [
      "Can't get connection to https://ivie.vn/cong-dong?page=1641! Try again in 3 seconds.\n"
     ]
    },
    {
     "name": "stderr",
     "output_type": "stream",
     "text": [
      "Processing page 1643: : 0it [00:00, ?it/s]\n"
     ]
    },
    {
     "name": "stdout",
     "output_type": "stream",
     "text": [
      "Can't get connection to https://ivie.vn/cong-dong?page=1634! Try again in 3 seconds.\n",
      "Can't get connection to https://ivie.vn/cong-dong?page=1642! Try again in 3 seconds.\n",
      "Can't get connection to https://ivie.vn/cong-dong?page=1644! Try again in 3 seconds.\n"
     ]
    },
    {
     "name": "stderr",
     "output_type": "stream",
     "text": [
      "Processing page 1641: : 0it [00:00, ?it/s]\n"
     ]
    },
    {
     "name": "stdout",
     "output_type": "stream",
     "text": [
      "Can't get connection to https://ivie.vn/cong-dong?page=1645! Try again in 3 seconds.\n"
     ]
    },
    {
     "name": "stderr",
     "output_type": "stream",
     "text": [
      "Processing page 1642: : 0it [00:00, ?it/s]\n",
      "Processing page 1634: : 0it [00:00, ?it/s]\n"
     ]
    },
    {
     "name": "stdout",
     "output_type": "stream",
     "text": [
      "Can't get connection to https://ivie.vn/cong-dong?page=1644! Try again in 3 seconds.\n",
      "Can't get connection to https://ivie.vn/cong-dong?page=1647! Try again in 3 seconds.\n"
     ]
    },
    {
     "name": "stderr",
     "output_type": "stream",
     "text": [
      "Processing page 1646: : 0it [00:00, ?it/s]\n",
      "Processing page 1648: : 0it [00:00, ?it/s]\n",
      "Processing page 1645: : 0it [00:00, ?it/s]\n",
      "Processing page 1644: : 0it [00:00, ?it/s]\n",
      "Processing page 1650: : 0it [00:00, ?it/s]\n",
      "Processing page 1649: : 0it [00:00, ?it/s]\n"
     ]
    },
    {
     "name": "stdout",
     "output_type": "stream",
     "text": [
      "Can't get connection to https://ivie.vn/cong-dong?page=1651! Try again in 3 seconds.\n"
     ]
    },
    {
     "name": "stderr",
     "output_type": "stream",
     "text": [
      "Processing page 1652: : 0it [00:00, ?it/s]\n",
      "Processing page 1647: : 0it [00:00, ?it/s]\n"
     ]
    },
    {
     "name": "stdout",
     "output_type": "stream",
     "text": [
      "Can't get connection to https://ivie.vn/cong-dong?page=1654! Try again in 3 seconds.\n"
     ]
    },
    {
     "name": "stderr",
     "output_type": "stream",
     "text": [
      "Processing page 1653: : 0it [00:00, ?it/s]\n"
     ]
    },
    {
     "name": "stdout",
     "output_type": "stream",
     "text": [
      "Can't get connection to https://ivie.vn/cong-dong?page=1651! Try again in 3 seconds.\n",
      "Can't get connection to https://ivie.vn/cong-dong?page=1655! Try again in 3 seconds.\n"
     ]
    },
    {
     "name": "stderr",
     "output_type": "stream",
     "text": [
      "Processing page 1657: : 0it [00:00, ?it/s]\n"
     ]
    },
    {
     "name": "stdout",
     "output_type": "stream",
     "text": [
      "Can't get connection to https://ivie.vn/cong-dong?page=1654! Try again in 3 seconds.\n",
      "Can't get connection to https://ivie.vn/cong-dong?page=1656! Try again in 3 seconds.\n",
      "Can't get connection to https://ivie.vn/cong-dong?page=1655! Try again in 3 seconds.\n"
     ]
    },
    {
     "name": "stderr",
     "output_type": "stream",
     "text": [
      "Processing page 1658: : 0it [00:00, ?it/s]\n"
     ]
    },
    {
     "name": "stdout",
     "output_type": "stream",
     "text": [
      "Can't get connection to https://ivie.vn/cong-dong?page=1651! Try again in 3 seconds.\n"
     ]
    },
    {
     "name": "stderr",
     "output_type": "stream",
     "text": [
      "Processing page 1656: : 0it [00:00, ?it/s]\n",
      "Processing page 1654: : 0it [00:00, ?it/s]\n"
     ]
    },
    {
     "name": "stdout",
     "output_type": "stream",
     "text": [
      "Can't get connection to https://ivie.vn/cong-dong?page=1659! Try again in 3 seconds.\n",
      "Can't get connection to https://ivie.vn/cong-dong?page=1655! Try again in 3 seconds.\n",
      "Can't get connection to https://ivie.vn/cong-dong?page=1660! Try again in 3 seconds.\n",
      "Can't get connection to https://ivie.vn/cong-dong?page=1651! Try again in 3 seconds.\n",
      "Can't get connection to https://ivie.vn/cong-dong?page=1661! Try again in 3 seconds.\n"
     ]
    },
    {
     "name": "stderr",
     "output_type": "stream",
     "text": [
      "Processing page 1659: : 0it [00:00, ?it/s]\n",
      "Processing page 1655: : 0it [00:00, ?it/s]\n"
     ]
    },
    {
     "name": "stdout",
     "output_type": "stream",
     "text": [
      "Can't get connection to https://ivie.vn/cong-dong?page=1660! Try again in 3 seconds.\n"
     ]
    },
    {
     "name": "stderr",
     "output_type": "stream",
     "text": [
      "Processing page 1651: : 0it [00:00, ?it/s]\n"
     ]
    },
    {
     "name": "stdout",
     "output_type": "stream",
     "text": [
      "Can't get connection to https://ivie.vn/cong-dong?page=1661! Try again in 3 seconds.\n"
     ]
    },
    {
     "name": "stderr",
     "output_type": "stream",
     "text": [
      "Processing page 1662: : 0it [00:00, ?it/s]\n",
      "Processing page 1663: : 0it [00:00, ?it/s]\n",
      "Processing page 1664: : 0it [00:00, ?it/s]\n",
      "Processing page 1665: : 0it [00:00, ?it/s]\n"
     ]
    },
    {
     "name": "stdout",
     "output_type": "stream",
     "text": [
      "Can't get connection to https://ivie.vn/cong-dong?page=1660! Try again in 3 seconds.\n",
      "Can't get connection to https://ivie.vn/cong-dong?page=1667! Try again in 3 seconds.\n",
      "Can't get connection to https://ivie.vn/cong-dong?page=1668! Try again in 3 seconds.\n"
     ]
    },
    {
     "name": "stderr",
     "output_type": "stream",
     "text": [
      "Processing page 1666: : 0it [00:00, ?it/s]\n",
      "Processing page 1660: : 0it [00:00, ?it/s]\n",
      "Processing page 1661: : 0it [00:00, ?it/s]\n",
      "Processing page 1669: : 0it [00:00, ?it/s]\n"
     ]
    },
    {
     "name": "stdout",
     "output_type": "stream",
     "text": [
      "Can't get connection to https://ivie.vn/cong-dong?page=1667! Try again in 3 seconds.\n"
     ]
    },
    {
     "name": "stderr",
     "output_type": "stream",
     "text": [
      "Processing page 1668: : 0it [00:00, ?it/s]\n",
      "Processing page 1670: : 0it [00:00, ?it/s]\n"
     ]
    },
    {
     "name": "stdout",
     "output_type": "stream",
     "text": [
      "Can't get connection to https://ivie.vn/cong-dong?page=1671! Try again in 3 seconds.\n",
      "Can't get connection to https://ivie.vn/cong-dong?page=1672! Try again in 3 seconds.\n",
      "Can't get connection to https://ivie.vn/cong-dong?page=1673! Try again in 3 seconds.\n"
     ]
    },
    {
     "name": "stderr",
     "output_type": "stream",
     "text": [
      "Processing page 1674: : 0it [00:00, ?it/s]\n",
      "Processing page 1667: : 0it [00:00, ?it/s]\n"
     ]
    },
    {
     "name": "stdout",
     "output_type": "stream",
     "text": [
      "Can't get connection to https://ivie.vn/cong-dong?page=1671! Try again in 3 seconds.\n",
      "Can't get connection to https://ivie.vn/cong-dong?page=1672! Try again in 3 seconds.\n",
      "Can't get connection to https://ivie.vn/cong-dong?page=1675! Try again in 3 seconds.\n",
      "Can't get connection to https://ivie.vn/cong-dong?page=1673! Try again in 3 seconds.\n",
      "Can't get connection to https://ivie.vn/cong-dong?page=1676! Try again in 3 seconds.\n",
      "Can't get connection to https://ivie.vn/cong-dong?page=1671! Try again in 3 seconds.\n"
     ]
    },
    {
     "name": "stderr",
     "output_type": "stream",
     "text": [
      "Processing page 1672: : 0it [00:00, ?it/s]\n",
      "Processing page 1675: : 0it [00:00, ?it/s]\n",
      "Processing page 1676: : 0it [00:00, ?it/s]\n"
     ]
    },
    {
     "name": "stdout",
     "output_type": "stream",
     "text": [
      "Can't get connection to https://ivie.vn/cong-dong?page=1673! Try again in 3 seconds.\n",
      "Can't get connection to https://ivie.vn/cong-dong?page=1671! Try again in 3 seconds.\n"
     ]
    },
    {
     "name": "stderr",
     "output_type": "stream",
     "text": [
      "Processing page 1678: : 0it [00:00, ?it/s]\n"
     ]
    },
    {
     "name": "stdout",
     "output_type": "stream",
     "text": [
      "Can't get connection to https://ivie.vn/cong-dong?page=1677! Try again in 3 seconds.\n"
     ]
    },
    {
     "name": "stderr",
     "output_type": "stream",
     "text": [
      "Processing page 1679: : 0it [00:00, ?it/s]\n",
      "Processing page 1673: : 0it [00:00, ?it/s]\n"
     ]
    },
    {
     "name": "stdout",
     "output_type": "stream",
     "text": [
      "Can't get connection to https://ivie.vn/cong-dong?page=1680! Try again in 3 seconds.\n"
     ]
    },
    {
     "name": "stderr",
     "output_type": "stream",
     "text": [
      "Processing page 1677: : 0it [00:00, ?it/s]\n",
      "Processing page 1671: : 0it [00:00, ?it/s]\n"
     ]
    },
    {
     "name": "stdout",
     "output_type": "stream",
     "text": [
      "Can't get connection to https://ivie.vn/cong-dong?page=1681! Try again in 3 seconds.\n"
     ]
    },
    {
     "name": "stderr",
     "output_type": "stream",
     "text": [
      "Processing page 1683: : 0it [00:00, ?it/s]\n",
      "Processing page 1682: : 0it [00:00, ?it/s]\n"
     ]
    },
    {
     "name": "stdout",
     "output_type": "stream",
     "text": [
      "Can't get connection to https://ivie.vn/cong-dong?page=1684! Try again in 3 seconds.\n",
      "Can't get connection to https://ivie.vn/cong-dong?page=1681! Try again in 3 seconds.\n",
      "Can't get connection to https://ivie.vn/cong-dong?page=1680! Try again in 3 seconds.\n",
      "Can't get connection to https://ivie.vn/cong-dong?page=1685! Try again in 3 seconds.\n"
     ]
    },
    {
     "name": "stderr",
     "output_type": "stream",
     "text": [
      "Processing page 1684: : 0it [00:00, ?it/s]\n",
      "Processing page 1681: : 0it [00:00, ?it/s]\n",
      "Processing page 1680: : 0it [00:00, ?it/s]\n"
     ]
    },
    {
     "name": "stdout",
     "output_type": "stream",
     "text": [
      "Can't get connection to https://ivie.vn/cong-dong?page=1685! Try again in 3 seconds.\n"
     ]
    },
    {
     "name": "stderr",
     "output_type": "stream",
     "text": [
      "Processing page 1686: : 0it [00:00, ?it/s]\n",
      "Processing page 1687: : 0it [00:00, ?it/s]\n"
     ]
    },
    {
     "name": "stdout",
     "output_type": "stream",
     "text": [
      "Can't get connection to https://ivie.vn/cong-dong?page=1688! Try again in 3 seconds.\n"
     ]
    },
    {
     "name": "stderr",
     "output_type": "stream",
     "text": [
      "Processing page 1689: : 0it [00:00, ?it/s]\n",
      "Processing page 1690: : 0it [00:00, ?it/s]\n",
      "Processing page 1685: : 0it [00:00, ?it/s]\n",
      "Processing page 1691: : 0it [00:00, ?it/s]\n",
      "Processing page 1688: : 0it [00:00, ?it/s]\n",
      "Processing page 1693: : 0it [00:00, ?it/s]\n",
      "Processing page 1694: : 0it [00:00, ?it/s]\n"
     ]
    },
    {
     "name": "stdout",
     "output_type": "stream",
     "text": [
      "Can't get connection to https://ivie.vn/cong-dong?page=1696! Try again in 3 seconds.\n",
      "Can't get connection to https://ivie.vn/cong-dong?page=1695! Try again in 3 seconds.\n",
      "Can't get connection to https://ivie.vn/cong-dong?page=1692! Try again in 3 seconds.\n",
      "Can't get connection to https://ivie.vn/cong-dong?page=1698! Try again in 3 seconds.\n",
      "Can't get connection to https://ivie.vn/cong-dong?page=1692! Try again in 3 seconds.\n"
     ]
    },
    {
     "name": "stderr",
     "output_type": "stream",
     "text": [
      "Processing page 1695: : 0it [00:00, ?it/s]\n",
      "Processing page 1696: : 0it [00:00, ?it/s]\n",
      "Processing page 1697: : 0it [00:00, ?it/s]\n",
      "Processing page 1698: : 0it [00:00, ?it/s]\n"
     ]
    },
    {
     "name": "stdout",
     "output_type": "stream",
     "text": [
      "Can't get connection to https://ivie.vn/cong-dong?page=1700! Try again in 3 seconds.\n"
     ]
    },
    {
     "name": "stderr",
     "output_type": "stream",
     "text": [
      "Processing page 1699: : 0it [00:00, ?it/s]\n",
      "Processing page 1692: : 0it [00:00, ?it/s]\n",
      "Processing page 1701: : 0it [00:00, ?it/s]\n",
      "Processing page 1702: : 0it [00:00, ?it/s]\n"
     ]
    },
    {
     "name": "stdout",
     "output_type": "stream",
     "text": [
      "Can't get connection to https://ivie.vn/cong-dong?page=1703! Try again in 3 seconds.\n",
      "Can't get connection to https://ivie.vn/cong-dong?page=1705! Try again in 3 seconds.\n"
     ]
    },
    {
     "name": "stderr",
     "output_type": "stream",
     "text": [
      "Processing page 1704: : 0it [00:00, ?it/s]\n"
     ]
    },
    {
     "name": "stdout",
     "output_type": "stream",
     "text": [
      "Can't get connection to https://ivie.vn/cong-dong?page=1706! Try again in 3 seconds.\n",
      "Can't get connection to https://ivie.vn/cong-dong?page=1700! Try again in 3 seconds.\n"
     ]
    },
    {
     "name": "stderr",
     "output_type": "stream",
     "text": [
      "Processing page 1707: : 0it [00:00, ?it/s]\n",
      "Processing page 1703: : 0it [00:00, ?it/s]\n"
     ]
    },
    {
     "name": "stdout",
     "output_type": "stream",
     "text": [
      "Can't get connection to https://ivie.vn/cong-dong?page=1705! Try again in 3 seconds.\n"
     ]
    },
    {
     "name": "stderr",
     "output_type": "stream",
     "text": [
      "Processing page 1706: : 0it [00:00, ?it/s]\n",
      "Processing page 1700: : 0it [00:00, ?it/s]\n",
      "Processing page 1708: : 0it [00:00, ?it/s]\n",
      "Processing page 1709: : 0it [00:00, ?it/s]\n"
     ]
    },
    {
     "name": "stdout",
     "output_type": "stream",
     "text": [
      "Can't get connection to https://ivie.vn/cong-dong?page=1710! Try again in 3 seconds.\n"
     ]
    },
    {
     "name": "stderr",
     "output_type": "stream",
     "text": [
      "Processing page 1711: : 0it [00:00, ?it/s]\n",
      "Processing page 1705: : 0it [00:00, ?it/s]\n",
      "Processing page 1713: : 0it [00:00, ?it/s]\n",
      "Processing page 1712: : 0it [00:00, ?it/s]\n"
     ]
    },
    {
     "name": "stdout",
     "output_type": "stream",
     "text": [
      "Can't get connection to https://ivie.vn/cong-dong?page=1710! Try again in 3 seconds.\n",
      "Can't get connection to https://ivie.vn/cong-dong?page=1714! Try again in 3 seconds.\n",
      "Can't get connection to https://ivie.vn/cong-dong?page=1716! Try again in 3 seconds.\n",
      "Can't get connection to https://ivie.vn/cong-dong?page=1717! Try again in 3 seconds.\n",
      "Can't get connection to https://ivie.vn/cong-dong?page=1710! Try again in 3 seconds.\n",
      "Can't get connection to https://ivie.vn/cong-dong?page=1715! Try again in 3 seconds.\n",
      "Can't get connection to https://ivie.vn/cong-dong?page=1714! Try again in 3 seconds.\n",
      "Can't get connection to https://ivie.vn/cong-dong?page=1717! Try again in 3 seconds.\n",
      "Can't get connection to https://ivie.vn/cong-dong?page=1716! Try again in 3 seconds.\n"
     ]
    },
    {
     "name": "stderr",
     "output_type": "stream",
     "text": [
      "Processing page 1710: : 0it [00:00, ?it/s]\n",
      "Processing page 1715: : 0it [00:00, ?it/s]\n"
     ]
    },
    {
     "name": "stdout",
     "output_type": "stream",
     "text": [
      "Can't get connection to https://ivie.vn/cong-dong?page=1717! Try again in 3 seconds.\n",
      "Can't get connection to https://ivie.vn/cong-dong?page=1714! Try again in 3 seconds.\n"
     ]
    },
    {
     "name": "stderr",
     "output_type": "stream",
     "text": [
      "Processing page 1718: : 0it [00:00, ?it/s]\n"
     ]
    },
    {
     "name": "stdout",
     "output_type": "stream",
     "text": [
      "Can't get connection to https://ivie.vn/cong-dong?page=1716! Try again in 3 seconds.\n",
      "Can't get connection to https://ivie.vn/cong-dong?page=1719! Try again in 3 seconds.\n"
     ]
    },
    {
     "name": "stderr",
     "output_type": "stream",
     "text": [
      "Processing page 1717: : 0it [00:00, ?it/s]\n",
      "Processing page 1720: : 0it [00:00, ?it/s]\n",
      "Processing page 1714: : 0it [00:00, ?it/s]\n"
     ]
    },
    {
     "name": "stdout",
     "output_type": "stream",
     "text": [
      "Can't get connection to https://ivie.vn/cong-dong?page=1716! Try again in 3 seconds.\n"
     ]
    },
    {
     "name": "stderr",
     "output_type": "stream",
     "text": [
      "Processing page 1719: : 0it [00:00, ?it/s]\n",
      "Processing page 1722: : 0it [00:00, ?it/s]\n",
      "Processing page 1721: : 0it [00:00, ?it/s]\n",
      "Processing page 1723: : 0it [00:00, ?it/s]\n",
      "Processing page 1724: : 0it [00:00, ?it/s]\n"
     ]
    },
    {
     "name": "stdout",
     "output_type": "stream",
     "text": [
      "Can't get connection to https://ivie.vn/cong-dong?page=1726! Try again in 3 seconds.\n"
     ]
    },
    {
     "name": "stderr",
     "output_type": "stream",
     "text": [
      "Processing page 1725: : 0it [00:00, ?it/s]\n",
      "Processing page 1727: : 0it [00:00, ?it/s]\n",
      "Processing page 1716: : 0it [00:00, ?it/s]\n"
     ]
    },
    {
     "name": "stdout",
     "output_type": "stream",
     "text": [
      "Can't get connection to https://ivie.vn/cong-dong?page=1728! Try again in 3 seconds.\n",
      "Can't get connection to https://ivie.vn/cong-dong?page=1729! Try again in 3 seconds.\n",
      "Can't get connection to https://ivie.vn/cong-dong?page=1730! Try again in 3 seconds.\n",
      "Can't get connection to https://ivie.vn/cong-dong?page=1731! Try again in 3 seconds.\n",
      "Can't get connection to https://ivie.vn/cong-dong?page=1726! Try again in 3 seconds.\n"
     ]
    },
    {
     "name": "stderr",
     "output_type": "stream",
     "text": [
      "Processing page 1728: : 0it [00:00, ?it/s]\n",
      "Processing page 1729: : 0it [00:00, ?it/s]\n",
      "Processing page 1730: : 0it [00:00, ?it/s]\n",
      "Processing page 1731: : 0it [00:00, ?it/s]\n",
      "Processing page 1732: : 0it [00:00, ?it/s]\n"
     ]
    },
    {
     "name": "stdout",
     "output_type": "stream",
     "text": [
      "Can't get connection to https://ivie.vn/cong-dong?page=1726! Try again in 3 seconds.\n",
      "Can't get connection to https://ivie.vn/cong-dong?page=1733! Try again in 3 seconds.\n"
     ]
    },
    {
     "name": "stderr",
     "output_type": "stream",
     "text": [
      "Processing page 1734: : 0it [00:00, ?it/s]\n"
     ]
    },
    {
     "name": "stdout",
     "output_type": "stream",
     "text": [
      "Can't get connection to https://ivie.vn/cong-dong?page=1735! Try again in 3 seconds.\n",
      "Can't get connection to https://ivie.vn/cong-dong?page=1736! Try again in 3 seconds.\n",
      "Can't get connection to https://ivie.vn/cong-dong?page=1726! Try again in 3 seconds.\n"
     ]
    },
    {
     "name": "stderr",
     "output_type": "stream",
     "text": [
      "Processing page 1737: : 0it [00:00, ?it/s]\n",
      "Processing page 1733: : 0it [00:00, ?it/s]\n"
     ]
    },
    {
     "name": "stdout",
     "output_type": "stream",
     "text": [
      "Can't get connection to https://ivie.vn/cong-dong?page=1736! Try again in 3 seconds.\n"
     ]
    },
    {
     "name": "stderr",
     "output_type": "stream",
     "text": [
      "Processing page 1735: : 0it [00:00, ?it/s]\n",
      "Processing page 1726: : 0it [00:00, ?it/s]\n",
      "Processing page 1739: : 0it [00:00, ?it/s]\n",
      "Processing page 1738: : 0it [00:00, ?it/s]\n"
     ]
    },
    {
     "name": "stdout",
     "output_type": "stream",
     "text": [
      "Can't get connection to https://ivie.vn/cong-dong?page=1740! Try again in 3 seconds.\n"
     ]
    },
    {
     "name": "stderr",
     "output_type": "stream",
     "text": [
      "Processing page 1736: : 0it [00:00, ?it/s]\n",
      "Processing page 1741: : 0it [00:00, ?it/s]\n",
      "Processing page 1743: : 0it [00:00, ?it/s]\n",
      "Processing page 1742: : 0it [00:00, ?it/s]\n",
      "Processing page 1744: : 0it [00:00, ?it/s]\n"
     ]
    },
    {
     "name": "stdout",
     "output_type": "stream",
     "text": [
      "Can't get connection to https://ivie.vn/cong-dong?page=1740! Try again in 3 seconds.\n"
     ]
    },
    {
     "name": "stderr",
     "output_type": "stream",
     "text": [
      "Processing page 1745: : 0it [00:00, ?it/s]\n"
     ]
    },
    {
     "name": "stdout",
     "output_type": "stream",
     "text": [
      "Can't get connection to https://ivie.vn/cong-dong?page=1747! Try again in 3 seconds.\n"
     ]
    },
    {
     "name": "stderr",
     "output_type": "stream",
     "text": [
      "Processing page 1746: : 0it [00:00, ?it/s]\n",
      "Processing page 1748: : 0it [00:00, ?it/s]\n"
     ]
    },
    {
     "name": "stdout",
     "output_type": "stream",
     "text": [
      "Can't get connection to https://ivie.vn/cong-dong?page=1740! Try again in 3 seconds.\n"
     ]
    },
    {
     "name": "stderr",
     "output_type": "stream",
     "text": [
      "Processing page 1750: : 0it [00:00, ?it/s]\n"
     ]
    },
    {
     "name": "stdout",
     "output_type": "stream",
     "text": [
      "Can't get connection to https://ivie.vn/cong-dong?page=1747! Try again in 3 seconds.\n",
      "Can't get connection to https://ivie.vn/cong-dong?page=1749! Try again in 3 seconds.\n"
     ]
    },
    {
     "name": "stderr",
     "output_type": "stream",
     "text": [
      "Processing page 1751: : 0it [00:00, ?it/s]\n",
      "Processing page 1752: : 0it [00:00, ?it/s]\n"
     ]
    },
    {
     "name": "stdout",
     "output_type": "stream",
     "text": [
      "Can't get connection to https://ivie.vn/cong-dong?page=1740! Try again in 3 seconds.\n",
      "Can't get connection to https://ivie.vn/cong-dong?page=1749! Try again in 3 seconds.\n"
     ]
    },
    {
     "name": "stderr",
     "output_type": "stream",
     "text": [
      "Processing page 1753: : 0it [00:00, ?it/s]\n",
      "Processing page 1747: : 0it [00:00, ?it/s]\n",
      "Processing page 1754: : 0it [00:00, ?it/s]\n"
     ]
    },
    {
     "name": "stdout",
     "output_type": "stream",
     "text": [
      "Can't get connection to https://ivie.vn/cong-dong?page=1740! Try again in 3 seconds.\n"
     ]
    },
    {
     "name": "stderr",
     "output_type": "stream",
     "text": [
      "Processing page 1755: : 0it [00:00, ?it/s]\n",
      "Processing page 1756: : 0it [00:00, ?it/s]\n"
     ]
    },
    {
     "name": "stdout",
     "output_type": "stream",
     "text": [
      "Can't get connection to https://ivie.vn/cong-dong?page=1749! Try again in 3 seconds.\n",
      "Can't get connection to https://ivie.vn/cong-dong?page=1757! Try again in 3 seconds.\n"
     ]
    },
    {
     "name": "stderr",
     "output_type": "stream",
     "text": [
      "Processing page 1758: : 0it [00:00, ?it/s]\n",
      "Processing page 1759: : 0it [00:00, ?it/s]\n"
     ]
    },
    {
     "name": "stdout",
     "output_type": "stream",
     "text": [
      "Can't get connection to https://ivie.vn/cong-dong?page=1740! Try again in 3 seconds.\n",
      "Can't get connection to https://ivie.vn/cong-dong?page=1749! Try again in 3 seconds.\n"
     ]
    },
    {
     "name": "stderr",
     "output_type": "stream",
     "text": [
      "Processing page 1757: : 0it [00:00, ?it/s]\n"
     ]
    },
    {
     "name": "stdout",
     "output_type": "stream",
     "text": [
      "Can't get connection to https://ivie.vn/cong-dong?page=1760! Try again in 3 seconds.\n",
      "Can't get connection to https://ivie.vn/cong-dong?page=1761! Try again in 3 seconds.\n"
     ]
    },
    {
     "name": "stderr",
     "output_type": "stream",
     "text": [
      "Processing page 1740: : 0it [00:00, ?it/s]\n",
      "Processing page 1749: : 0it [00:00, ?it/s]\n",
      "Processing page 1762: : 0it [00:00, ?it/s]\n"
     ]
    },
    {
     "name": "stdout",
     "output_type": "stream",
     "text": [
      "Can't get connection to https://ivie.vn/cong-dong?page=1761! Try again in 3 seconds.\n",
      "Can't get connection to https://ivie.vn/cong-dong?page=1760! Try again in 3 seconds.\n"
     ]
    },
    {
     "name": "stderr",
     "output_type": "stream",
     "text": [
      "Processing page 1763: : 0it [00:00, ?it/s]\n"
     ]
    },
    {
     "name": "stdout",
     "output_type": "stream",
     "text": [
      "Can't get connection to https://ivie.vn/cong-dong?page=1765! Try again in 3 seconds.\n"
     ]
    },
    {
     "name": "stderr",
     "output_type": "stream",
     "text": [
      "Processing page 1766: : 0it [00:00, ?it/s]\n"
     ]
    },
    {
     "name": "stdout",
     "output_type": "stream",
     "text": [
      "Can't get connection to https://ivie.vn/cong-dong?page=1764! Try again in 3 seconds.\n",
      "Can't get connection to https://ivie.vn/cong-dong?page=1760! Try again in 3 seconds.\n",
      "Can't get connection to https://ivie.vn/cong-dong?page=1761! Try again in 3 seconds.\n"
     ]
    },
    {
     "name": "stderr",
     "output_type": "stream",
     "text": [
      "Processing page 1765: : 0it [00:00, ?it/s]\n",
      "Processing page 1767: : 0it [00:00, ?it/s]\n"
     ]
    },
    {
     "name": "stdout",
     "output_type": "stream",
     "text": [
      "Can't get connection to https://ivie.vn/cong-dong?page=1764! Try again in 3 seconds.\n",
      "Can't get connection to https://ivie.vn/cong-dong?page=1760! Try again in 3 seconds.\n",
      "Can't get connection to https://ivie.vn/cong-dong?page=1761! Try again in 3 seconds.\n"
     ]
    },
    {
     "name": "stderr",
     "output_type": "stream",
     "text": [
      "Processing page 1768: : 0it [00:00, ?it/s]\n"
     ]
    },
    {
     "name": "stdout",
     "output_type": "stream",
     "text": [
      "Can't get connection to https://ivie.vn/cong-dong?page=1769! Try again in 3 seconds.\n"
     ]
    },
    {
     "name": "stderr",
     "output_type": "stream",
     "text": [
      "Processing page 1770: : 0it [00:00, ?it/s]\n"
     ]
    },
    {
     "name": "stdout",
     "output_type": "stream",
     "text": [
      "Can't get connection to https://ivie.vn/cong-dong?page=1764! Try again in 3 seconds.\n"
     ]
    },
    {
     "name": "stderr",
     "output_type": "stream",
     "text": [
      "Processing page 1761: : 0it [00:00, ?it/s]\n",
      "Processing page 1760: : 0it [00:00, ?it/s]\n",
      "Processing page 1769: : 0it [00:00, ?it/s]\n"
     ]
    },
    {
     "name": "stdout",
     "output_type": "stream",
     "text": [
      "Can't get connection to https://ivie.vn/cong-dong?page=1771! Try again in 3 seconds.\n"
     ]
    },
    {
     "name": "stderr",
     "output_type": "stream",
     "text": [
      "Processing page 1764: : 0it [00:00, ?it/s]\n"
     ]
    },
    {
     "name": "stdout",
     "output_type": "stream",
     "text": [
      "Can't get connection to https://ivie.vn/cong-dong?page=1773! Try again in 3 seconds.\n",
      "Can't get connection to https://ivie.vn/cong-dong?page=1772! Try again in 3 seconds.\n"
     ]
    },
    {
     "name": "stderr",
     "output_type": "stream",
     "text": [
      "Processing page 1774: : 0it [00:00, ?it/s]\n"
     ]
    },
    {
     "name": "stdout",
     "output_type": "stream",
     "text": [
      "Can't get connection to https://ivie.vn/cong-dong?page=1771! Try again in 3 seconds.\n"
     ]
    },
    {
     "name": "stderr",
     "output_type": "stream",
     "text": [
      "Processing page 1775: : 0it [00:00, ?it/s]\n"
     ]
    },
    {
     "name": "stdout",
     "output_type": "stream",
     "text": [
      "Can't get connection to https://ivie.vn/cong-dong?page=1776! Try again in 3 seconds.\n"
     ]
    },
    {
     "name": "stderr",
     "output_type": "stream",
     "text": [
      "Processing page 1773: : 0it [00:00, ?it/s]\n"
     ]
    },
    {
     "name": "stdout",
     "output_type": "stream",
     "text": [
      "Can't get connection to https://ivie.vn/cong-dong?page=1772! Try again in 3 seconds.\n",
      "Can't get connection to https://ivie.vn/cong-dong?page=1777! Try again in 3 seconds.\n",
      "Can't get connection to https://ivie.vn/cong-dong?page=1771! Try again in 3 seconds.\n",
      "Can't get connection to https://ivie.vn/cong-dong?page=1778! Try again in 3 seconds.\n"
     ]
    },
    {
     "name": "stderr",
     "output_type": "stream",
     "text": [
      "Processing page 1776: : 0it [00:00, ?it/s]\n",
      "Processing page 1772: : 0it [00:00, ?it/s]\n"
     ]
    },
    {
     "name": "stdout",
     "output_type": "stream",
     "text": [
      "Can't get connection to https://ivie.vn/cong-dong?page=1777! Try again in 3 seconds.\n",
      "Can't get connection to https://ivie.vn/cong-dong?page=1779! Try again in 3 seconds.\n"
     ]
    },
    {
     "name": "stderr",
     "output_type": "stream",
     "text": [
      "Processing page 1771: : 0it [00:00, ?it/s]\n",
      "Processing page 1778: : 0it [00:00, ?it/s]\n"
     ]
    },
    {
     "name": "stdout",
     "output_type": "stream",
     "text": [
      "Can't get connection to https://ivie.vn/cong-dong?page=1780! Try again in 3 seconds.\n",
      "Can't get connection to https://ivie.vn/cong-dong?page=1781! Try again in 3 seconds.\n"
     ]
    },
    {
     "name": "stderr",
     "output_type": "stream",
     "text": [
      "Processing page 1777: : 0it [00:00, ?it/s]\n"
     ]
    },
    {
     "name": "stdout",
     "output_type": "stream",
     "text": [
      "Can't get connection to https://ivie.vn/cong-dong?page=1782! Try again in 3 seconds.\n"
     ]
    },
    {
     "name": "stderr",
     "output_type": "stream",
     "text": [
      "Processing page 1779: : 0it [00:00, ?it/s]\n"
     ]
    },
    {
     "name": "stdout",
     "output_type": "stream",
     "text": [
      "Can't get connection to https://ivie.vn/cong-dong?page=1780! Try again in 3 seconds.\n",
      "Can't get connection to https://ivie.vn/cong-dong?page=1783! Try again in 3 seconds.\n",
      "Can't get connection to https://ivie.vn/cong-dong?page=1781! Try again in 3 seconds.\n",
      "Can't get connection to https://ivie.vn/cong-dong?page=1784! Try again in 3 seconds.\n",
      "Can't get connection to https://ivie.vn/cong-dong?page=1782! Try again in 3 seconds.\n",
      "Can't get connection to https://ivie.vn/cong-dong?page=1780! Try again in 3 seconds.\n"
     ]
    },
    {
     "name": "stderr",
     "output_type": "stream",
     "text": [
      "Processing page 1783: : 0it [00:00, ?it/s]\n",
      "Processing page 1781: : 0it [00:00, ?it/s]\n",
      "Processing page 1782: : 0it [00:00, ?it/s]\n"
     ]
    },
    {
     "name": "stdout",
     "output_type": "stream",
     "text": [
      "Can't get connection to https://ivie.vn/cong-dong?page=1784! Try again in 3 seconds.\n"
     ]
    },
    {
     "name": "stderr",
     "output_type": "stream",
     "text": [
      "Processing page 1780: : 0it [00:00, ?it/s]\n"
     ]
    },
    {
     "name": "stdout",
     "output_type": "stream",
     "text": [
      "Can't get connection to https://ivie.vn/cong-dong?page=1785! Try again in 3 seconds.\n"
     ]
    },
    {
     "name": "stderr",
     "output_type": "stream",
     "text": [
      "Processing page 1786: : 0it [00:00, ?it/s]\n",
      "Processing page 1787: : 0it [00:00, ?it/s]\n"
     ]
    },
    {
     "name": "stdout",
     "output_type": "stream",
     "text": [
      "Can't get connection to https://ivie.vn/cong-dong?page=1784! Try again in 3 seconds.\n",
      "Can't get connection to https://ivie.vn/cong-dong?page=1785! Try again in 3 seconds.\n",
      "Can't get connection to https://ivie.vn/cong-dong?page=1788! Try again in 3 seconds.\n"
     ]
    },
    {
     "name": "stderr",
     "output_type": "stream",
     "text": [
      "Processing page 1789: : 0it [00:00, ?it/s]\n",
      "Processing page 1790: : 0it [00:00, ?it/s]\n",
      "Processing page 1784: : 0it [00:00, ?it/s]\n"
     ]
    },
    {
     "name": "stdout",
     "output_type": "stream",
     "text": [
      "Can't get connection to https://ivie.vn/cong-dong?page=1791! Try again in 3 seconds.\n"
     ]
    },
    {
     "name": "stderr",
     "output_type": "stream",
     "text": [
      "Processing page 1788: : 0it [00:00, ?it/s]\n",
      "Processing page 1785: : 0it [00:00, ?it/s]\n"
     ]
    },
    {
     "name": "stdout",
     "output_type": "stream",
     "text": [
      "Can't get connection to https://ivie.vn/cong-dong?page=1792! Try again in 3 seconds.\n"
     ]
    },
    {
     "name": "stderr",
     "output_type": "stream",
     "text": [
      "Processing page 1793: : 0it [00:00, ?it/s]\n"
     ]
    },
    {
     "name": "stdout",
     "output_type": "stream",
     "text": [
      "Can't get connection to https://ivie.vn/cong-dong?page=1794! Try again in 3 seconds.\n",
      "Can't get connection to https://ivie.vn/cong-dong?page=1795! Try again in 3 seconds.\n",
      "Can't get connection to https://ivie.vn/cong-dong?page=1791! Try again in 3 seconds.\n"
     ]
    },
    {
     "name": "stderr",
     "output_type": "stream",
     "text": [
      "Processing page 1796: : 0it [00:00, ?it/s]\n",
      "Processing page 1792: : 0it [00:00, ?it/s]\n"
     ]
    },
    {
     "name": "stdout",
     "output_type": "stream",
     "text": [
      "Can't get connection to https://ivie.vn/cong-dong?page=1794! Try again in 3 seconds.\n",
      "Can't get connection to https://ivie.vn/cong-dong?page=1797! Try again in 3 seconds.\n"
     ]
    },
    {
     "name": "stderr",
     "output_type": "stream",
     "text": [
      "Processing page 1795: : 0it [00:00, ?it/s]\n",
      "Processing page 1798: : 0it [00:00, ?it/s]\n"
     ]
    },
    {
     "name": "stdout",
     "output_type": "stream",
     "text": [
      "Can't get connection to https://ivie.vn/cong-dong?page=1791! Try again in 3 seconds.\n"
     ]
    },
    {
     "name": "stderr",
     "output_type": "stream",
     "text": [
      "Processing page 1794: : 0it [00:00, ?it/s]\n",
      "Processing page 1799: : 0it [00:00, ?it/s]\n",
      "Processing page 1800: : 0it [00:00, ?it/s]\n",
      "Processing page 1797: : 0it [00:00, ?it/s]\n"
     ]
    },
    {
     "name": "stdout",
     "output_type": "stream",
     "text": [
      "Can't get connection to https://ivie.vn/cong-dong?page=1791! Try again in 3 seconds.\n",
      "Can't get connection to https://ivie.vn/cong-dong?page=1801! Try again in 3 seconds.\n",
      "Can't get connection to https://ivie.vn/cong-dong?page=1802! Try again in 3 seconds.\n"
     ]
    },
    {
     "name": "stderr",
     "output_type": "stream",
     "text": [
      "Processing page 1803: : 0it [00:00, ?it/s]\n"
     ]
    },
    {
     "name": "stdout",
     "output_type": "stream",
     "text": [
      "Can't get connection to https://ivie.vn/cong-dong?page=1791! Try again in 3 seconds.\n"
     ]
    },
    {
     "name": "stderr",
     "output_type": "stream",
     "text": [
      "Processing page 1804: : 0it [00:00, ?it/s]\n"
     ]
    },
    {
     "name": "stdout",
     "output_type": "stream",
     "text": [
      "Can't get connection to https://ivie.vn/cong-dong?page=1801! Try again in 3 seconds.\n",
      "Can't get connection to https://ivie.vn/cong-dong?page=1802! Try again in 3 seconds.\n",
      "Can't get connection to https://ivie.vn/cong-dong?page=1805! Try again in 3 seconds.\n"
     ]
    },
    {
     "name": "stderr",
     "output_type": "stream",
     "text": [
      "Processing page 1806: : 0it [00:00, ?it/s]\n"
     ]
    },
    {
     "name": "stdout",
     "output_type": "stream",
     "text": [
      "Can't get connection to https://ivie.vn/cong-dong?page=1791! Try again in 3 seconds.\n",
      "Can't get connection to https://ivie.vn/cong-dong?page=1801! Try again in 3 seconds.\n"
     ]
    },
    {
     "name": "stderr",
     "output_type": "stream",
     "text": [
      "Processing page 1802: : 0it [00:00, ?it/s]\n"
     ]
    },
    {
     "name": "stdout",
     "output_type": "stream",
     "text": [
      "Can't get connection to https://ivie.vn/cong-dong?page=1807! Try again in 3 seconds.\n",
      "Can't get connection to https://ivie.vn/cong-dong?page=1805! Try again in 3 seconds.\n",
      "Can't get connection to https://ivie.vn/cong-dong?page=1791! Try again in 3 seconds.\n",
      "Can't get connection to https://ivie.vn/cong-dong?page=1801! Try again in 3 seconds.\n"
     ]
    },
    {
     "name": "stderr",
     "output_type": "stream",
     "text": [
      "Processing page 1807: : 0it [00:00, ?it/s]\n"
     ]
    },
    {
     "name": "stdout",
     "output_type": "stream",
     "text": [
      "Can't get connection to https://ivie.vn/cong-dong?page=1808! Try again in 3 seconds.\n"
     ]
    },
    {
     "name": "stderr",
     "output_type": "stream",
     "text": [
      "Processing page 1805: : 0it [00:00, ?it/s]\n",
      "Processing page 1791: : 0it [00:00, ?it/s]\n",
      "Processing page 1801: : 0it [00:00, ?it/s]\n",
      "Processing page 1810: : 0it [00:00, ?it/s]\n"
     ]
    },
    {
     "name": "stdout",
     "output_type": "stream",
     "text": [
      "Can't get connection to https://ivie.vn/cong-dong?page=1809! Try again in 3 seconds.\n",
      "Can't get connection to https://ivie.vn/cong-dong?page=1808! Try again in 3 seconds.\n",
      "Can't get connection to https://ivie.vn/cong-dong?page=1811! Try again in 3 seconds.\n"
     ]
    },
    {
     "name": "stderr",
     "output_type": "stream",
     "text": [
      "Processing page 1812: : 0it [00:00, ?it/s]\n",
      "Processing page 1813: : 0it [00:00, ?it/s]\n",
      "Processing page 1808: : 0it [00:00, ?it/s]\n",
      "Processing page 1814: : 0it [00:00, ?it/s]\n"
     ]
    },
    {
     "name": "stdout",
     "output_type": "stream",
     "text": [
      "Can't get connection to https://ivie.vn/cong-dong?page=1809! Try again in 3 seconds.\n",
      "Can't get connection to https://ivie.vn/cong-dong?page=1811! Try again in 3 seconds.\n",
      "Can't get connection to https://ivie.vn/cong-dong?page=1815! Try again in 3 seconds.\n"
     ]
    },
    {
     "name": "stderr",
     "output_type": "stream",
     "text": [
      "Processing page 1816: : 0it [00:00, ?it/s]\n"
     ]
    },
    {
     "name": "stdout",
     "output_type": "stream",
     "text": [
      "Can't get connection to https://ivie.vn/cong-dong?page=1817! Try again in 3 seconds.\n",
      "Can't get connection to https://ivie.vn/cong-dong?page=1809! Try again in 3 seconds.\n",
      "Can't get connection to https://ivie.vn/cong-dong?page=1811! Try again in 3 seconds.\n"
     ]
    },
    {
     "name": "stderr",
     "output_type": "stream",
     "text": [
      "Processing page 1817: : 0it [00:00, ?it/s]\n"
     ]
    },
    {
     "name": "stdout",
     "output_type": "stream",
     "text": [
      "Can't get connection to https://ivie.vn/cong-dong?page=1818! Try again in 3 seconds.\n",
      "Can't get connection to https://ivie.vn/cong-dong?page=1809! Try again in 3 seconds.\n"
     ]
    },
    {
     "name": "stderr",
     "output_type": "stream",
     "text": [
      "Processing page 1811: : 0it [00:00, ?it/s]\n"
     ]
    },
    {
     "name": "stdout",
     "output_type": "stream",
     "text": [
      "Can't get connection to https://ivie.vn/cong-dong?page=1818! Try again in 3 seconds.\n"
     ]
    },
    {
     "name": "stderr",
     "output_type": "stream",
     "text": [
      "Processing page 1819: : 0it [00:00, ?it/s]\n",
      "Processing page 1820: : 0it [00:00, ?it/s]\n",
      "Processing page 1818: : 0it [00:00, ?it/s]\n"
     ]
    },
    {
     "name": "stdout",
     "output_type": "stream",
     "text": [
      "Can't get connection to https://ivie.vn/cong-dong?page=1809! Try again in 3 seconds.\n"
     ]
    },
    {
     "name": "stderr",
     "output_type": "stream",
     "text": [
      "Processing page 1821: : 0it [00:00, ?it/s]\n"
     ]
    },
    {
     "name": "stdout",
     "output_type": "stream",
     "text": [
      "Can't get connection to https://ivie.vn/cong-dong?page=1822! Try again in 3 seconds.\n"
     ]
    },
    {
     "name": "stderr",
     "output_type": "stream",
     "text": [
      "Processing page 1823: : 0it [00:00, ?it/s]\n",
      "Processing page 1809: : 0it [00:00, ?it/s]\n"
     ]
    },
    {
     "name": "stdout",
     "output_type": "stream",
     "text": [
      "Can't get connection to https://ivie.vn/cong-dong?page=1824! Try again in 3 seconds.\n",
      "Can't get connection to https://ivie.vn/cong-dong?page=1815! Try again in 3 seconds.\n"
     ]
    },
    {
     "name": "stderr",
     "output_type": "stream",
     "text": [
      "Processing page 1825: : 0it [00:00, ?it/s]\n",
      "Processing page 1822: : 0it [00:00, ?it/s]\n"
     ]
    },
    {
     "name": "stdout",
     "output_type": "stream",
     "text": [
      "Can't get connection to https://ivie.vn/cong-dong?page=1826! Try again in 3 seconds.\n",
      "Can't get connection to https://ivie.vn/cong-dong?page=1824! Try again in 3 seconds.\n",
      "Can't get connection to https://ivie.vn/cong-dong?page=1815! Try again in 3 seconds.\n",
      "Can't get connection to https://ivie.vn/cong-dong?page=1827! Try again in 3 seconds.\n"
     ]
    },
    {
     "name": "stderr",
     "output_type": "stream",
     "text": [
      "Processing page 1828: : 0it [00:00, ?it/s]\n",
      "Processing page 1826: : 0it [00:00, ?it/s]\n",
      "Processing page 1829: : 0it [00:00, ?it/s]\n",
      "Processing page 1824: : 0it [00:00, ?it/s]\n",
      "Processing page 1827: : 0it [00:00, ?it/s]\n",
      "Processing page 1815: : 0it [00:00, ?it/s]\n"
     ]
    },
    {
     "name": "stdout",
     "output_type": "stream",
     "text": [
      "Can't get connection to https://ivie.vn/cong-dong?page=1830! Try again in 3 seconds.\n"
     ]
    },
    {
     "name": "stderr",
     "output_type": "stream",
     "text": [
      "Processing page 1831: : 0it [00:00, ?it/s]\n",
      "Processing page 1833: : 0it [00:00, ?it/s]\n"
     ]
    },
    {
     "name": "stdout",
     "output_type": "stream",
     "text": [
      "Can't get connection to https://ivie.vn/cong-dong?page=1834! Try again in 3 seconds.\n",
      "Can't get connection to https://ivie.vn/cong-dong?page=1832! Try again in 3 seconds.\n"
     ]
    },
    {
     "name": "stderr",
     "output_type": "stream",
     "text": [
      "Processing page 1835: : 0it [00:00, ?it/s]\n"
     ]
    },
    {
     "name": "stdout",
     "output_type": "stream",
     "text": [
      "Can't get connection to https://ivie.vn/cong-dong?page=1830! Try again in 3 seconds.\n"
     ]
    },
    {
     "name": "stderr",
     "output_type": "stream",
     "text": [
      "Processing page 1836: : 0it [00:00, ?it/s]\n",
      "Processing page 1832: : 0it [00:00, ?it/s]\n",
      "Processing page 1834: : 0it [00:00, ?it/s]\n",
      "Processing page 1837: : 0it [00:00, ?it/s]\n"
     ]
    },
    {
     "name": "stdout",
     "output_type": "stream",
     "text": [
      "Can't get connection to https://ivie.vn/cong-dong?page=1830! Try again in 3 seconds.\n",
      "Can't get connection to https://ivie.vn/cong-dong?page=1838! Try again in 3 seconds.\n"
     ]
    },
    {
     "name": "stderr",
     "output_type": "stream",
     "text": [
      "Processing page 1840: : 0it [00:00, ?it/s]\n",
      "Processing page 1841: : 0it [00:00, ?it/s]\n"
     ]
    },
    {
     "name": "stdout",
     "output_type": "stream",
     "text": [
      "Can't get connection to https://ivie.vn/cong-dong?page=1839! Try again in 3 seconds.\n"
     ]
    },
    {
     "name": "stderr",
     "output_type": "stream",
     "text": [
      "Processing page 1830: : 0it [00:00, ?it/s]\n"
     ]
    },
    {
     "name": "stdout",
     "output_type": "stream",
     "text": [
      "Can't get connection to https://ivie.vn/cong-dong?page=1838! Try again in 3 seconds.\n"
     ]
    },
    {
     "name": "stderr",
     "output_type": "stream",
     "text": [
      "Processing page 1842: : 0it [00:00, ?it/s]\n"
     ]
    },
    {
     "name": "stdout",
     "output_type": "stream",
     "text": [
      "Can't get connection to https://ivie.vn/cong-dong?page=1843! Try again in 3 seconds.\n"
     ]
    },
    {
     "name": "stderr",
     "output_type": "stream",
     "text": [
      "Processing page 1839: : 0it [00:00, ?it/s]\n"
     ]
    },
    {
     "name": "stdout",
     "output_type": "stream",
     "text": [
      "Can't get connection to https://ivie.vn/cong-dong?page=1844! Try again in 3 seconds.\n"
     ]
    },
    {
     "name": "stderr",
     "output_type": "stream",
     "text": [
      "Processing page 1845: : 0it [00:00, ?it/s]\n"
     ]
    },
    {
     "name": "stdout",
     "output_type": "stream",
     "text": [
      "Can't get connection to https://ivie.vn/cong-dong?page=1838! Try again in 3 seconds.\n"
     ]
    },
    {
     "name": "stderr",
     "output_type": "stream",
     "text": [
      "Processing page 1846: : 0it [00:00, ?it/s]\n"
     ]
    },
    {
     "name": "stdout",
     "output_type": "stream",
     "text": [
      "Can't get connection to https://ivie.vn/cong-dong?page=1843! Try again in 3 seconds.\n",
      "Can't get connection to https://ivie.vn/cong-dong?page=1847! Try again in 3 seconds.\n",
      "Can't get connection to https://ivie.vn/cong-dong?page=1844! Try again in 3 seconds.\n",
      "Can't get connection to https://ivie.vn/cong-dong?page=1838! Try again in 3 seconds.\n"
     ]
    },
    {
     "name": "stderr",
     "output_type": "stream",
     "text": [
      "Processing page 1848: : 0it [00:00, ?it/s]\n",
      "Processing page 1843: : 0it [00:00, ?it/s]\n",
      "Processing page 1847: : 0it [00:00, ?it/s]\n",
      "Processing page 1844: : 0it [00:00, ?it/s]\n",
      "Processing page 1849: : 0it [00:00, ?it/s]\n",
      "Processing page 1850: : 0it [00:00, ?it/s]\n",
      "Processing page 1838: : 0it [00:00, ?it/s]\n"
     ]
    },
    {
     "name": "stdout",
     "output_type": "stream",
     "text": [
      "Can't get connection to https://ivie.vn/cong-dong?page=1852! Try again in 3 seconds.\n",
      "Can't get connection to https://ivie.vn/cong-dong?page=1851! Try again in 3 seconds.\n",
      "Can't get connection to https://ivie.vn/cong-dong?page=1854! Try again in 3 seconds.\n",
      "Can't get connection to https://ivie.vn/cong-dong?page=1853! Try again in 3 seconds.\n",
      "Can't get connection to https://ivie.vn/cong-dong?page=1855! Try again in 3 seconds.\n",
      "Can't get connection to https://ivie.vn/cong-dong?page=1852! Try again in 3 seconds.\n"
     ]
    },
    {
     "name": "stderr",
     "output_type": "stream",
     "text": [
      "Processing page 1851: : 0it [00:00, ?it/s]\n",
      "Processing page 1854: : 0it [00:00, ?it/s]\n",
      "Processing page 1853: : 0it [00:00, ?it/s]\n",
      "Processing page 1856: : 0it [00:00, ?it/s]\n",
      "Processing page 1852: : 0it [00:00, ?it/s]\n"
     ]
    },
    {
     "name": "stdout",
     "output_type": "stream",
     "text": [
      "Can't get connection to https://ivie.vn/cong-dong?page=1855! Try again in 3 seconds.\n"
     ]
    },
    {
     "name": "stderr",
     "output_type": "stream",
     "text": [
      "Processing page 1857: : 0it [00:00, ?it/s]\n",
      "Processing page 1858: : 0it [00:00, ?it/s]\n"
     ]
    },
    {
     "name": "stdout",
     "output_type": "stream",
     "text": [
      "Can't get connection to https://ivie.vn/cong-dong?page=1859! Try again in 3 seconds.\n"
     ]
    },
    {
     "name": "stderr",
     "output_type": "stream",
     "text": [
      "Processing page 1860: : 0it [00:00, ?it/s]\n"
     ]
    },
    {
     "name": "stdout",
     "output_type": "stream",
     "text": [
      "Can't get connection to https://ivie.vn/cong-dong?page=1861! Try again in 3 seconds.\n",
      "Can't get connection to https://ivie.vn/cong-dong?page=1855! Try again in 3 seconds.\n"
     ]
    },
    {
     "name": "stderr",
     "output_type": "stream",
     "text": [
      "Processing page 1862: : 0it [00:00, ?it/s]\n"
     ]
    },
    {
     "name": "stdout",
     "output_type": "stream",
     "text": [
      "Can't get connection to https://ivie.vn/cong-dong?page=1859! Try again in 3 seconds.\n"
     ]
    },
    {
     "name": "stderr",
     "output_type": "stream",
     "text": [
      "Processing page 1863: : 0it [00:00, ?it/s]\n"
     ]
    },
    {
     "name": "stdout",
     "output_type": "stream",
     "text": [
      "Can't get connection to https://ivie.vn/cong-dong?page=1864! Try again in 3 seconds.\n",
      "Can't get connection to https://ivie.vn/cong-dong?page=1861! Try again in 3 seconds.\n",
      "Can't get connection to https://ivie.vn/cong-dong?page=1855! Try again in 3 seconds.\n"
     ]
    },
    {
     "name": "stderr",
     "output_type": "stream",
     "text": [
      "Processing page 1865: : 0it [00:00, ?it/s]\n",
      "Processing page 1859: : 0it [00:00, ?it/s]\n",
      "Processing page 1855: : 0it [00:00, ?it/s]\n",
      "Processing page 1864: : 0it [00:00, ?it/s]\n",
      "Processing page 1861: : 0it [00:00, ?it/s]\n",
      "Processing page 1866: : 0it [00:00, ?it/s]\n"
     ]
    },
    {
     "name": "stdout",
     "output_type": "stream",
     "text": [
      "Can't get connection to https://ivie.vn/cong-dong?page=1867! Try again in 3 seconds.\n",
      "Can't get connection to https://ivie.vn/cong-dong?page=1868! Try again in 3 seconds.\n",
      "Can't get connection to https://ivie.vn/cong-dong?page=1869! Try again in 3 seconds.\n",
      "Can't get connection to https://ivie.vn/cong-dong?page=1870! Try again in 3 seconds.\n"
     ]
    },
    {
     "name": "stderr",
     "output_type": "stream",
     "text": [
      "Processing page 1871: : 0it [00:00, ?it/s]\n"
     ]
    },
    {
     "name": "stdout",
     "output_type": "stream",
     "text": [
      "Can't get connection to https://ivie.vn/cong-dong?page=1867! Try again in 3 seconds.\n",
      "Can't get connection to https://ivie.vn/cong-dong?page=1870! Try again in 3 seconds.\n",
      "Can't get connection to https://ivie.vn/cong-dong?page=1868! Try again in 3 seconds.\n",
      "Can't get connection to https://ivie.vn/cong-dong?page=1869! Try again in 3 seconds.\n",
      "Can't get connection to https://ivie.vn/cong-dong?page=1872! Try again in 3 seconds.\n"
     ]
    },
    {
     "name": "stderr",
     "output_type": "stream",
     "text": [
      "Processing page 1867: : 0it [00:00, ?it/s]\n"
     ]
    },
    {
     "name": "stdout",
     "output_type": "stream",
     "text": [
      "Can't get connection to https://ivie.vn/cong-dong?page=1870! Try again in 3 seconds.\n"
     ]
    },
    {
     "name": "stderr",
     "output_type": "stream",
     "text": [
      "Processing page 1868: : 0it [00:00, ?it/s]\n",
      "Processing page 1869: : 0it [00:00, ?it/s]\n"
     ]
    },
    {
     "name": "stdout",
     "output_type": "stream",
     "text": [
      "Can't get connection to https://ivie.vn/cong-dong?page=1872! Try again in 3 seconds.\n",
      "Can't get connection to https://ivie.vn/cong-dong?page=1873! Try again in 3 seconds.\n",
      "Can't get connection to https://ivie.vn/cong-dong?page=1874! Try again in 3 seconds.\n"
     ]
    },
    {
     "name": "stderr",
     "output_type": "stream",
     "text": [
      "Processing page 1870: : 0it [00:00, ?it/s]\n"
     ]
    },
    {
     "name": "stdout",
     "output_type": "stream",
     "text": [
      "Can't get connection to https://ivie.vn/cong-dong?page=1872! Try again in 3 seconds.\n"
     ]
    },
    {
     "name": "stderr",
     "output_type": "stream",
     "text": [
      "Processing page 1873: : 0it [00:00, ?it/s]\n",
      "Processing page 1874: : 0it [00:00, ?it/s]\n",
      "Processing page 1875: : 0it [00:00, ?it/s]\n",
      "Processing page 1876: : 0it [00:00, ?it/s]\n",
      "Processing page 1877: : 0it [00:00, ?it/s]\n",
      "Processing page 1879: : 0it [00:00, ?it/s]\n"
     ]
    },
    {
     "name": "stdout",
     "output_type": "stream",
     "text": [
      "Can't get connection to https://ivie.vn/cong-dong?page=1872! Try again in 3 seconds.\n",
      "Can't get connection to https://ivie.vn/cong-dong?page=1880! Try again in 3 seconds.\n",
      "Can't get connection to https://ivie.vn/cong-dong?page=1881! Try again in 3 seconds.\n",
      "Can't get connection to https://ivie.vn/cong-dong?page=1878! Try again in 3 seconds.\n",
      "Can't get connection to https://ivie.vn/cong-dong?page=1882! Try again in 3 seconds.\n",
      "Can't get connection to https://ivie.vn/cong-dong?page=1872! Try again in 3 seconds.\n",
      "Can't get connection to https://ivie.vn/cong-dong?page=1881! Try again in 3 seconds.\n"
     ]
    },
    {
     "name": "stderr",
     "output_type": "stream",
     "text": [
      "Processing page 1878: : 0it [00:00, ?it/s]\n",
      "Processing page 1880: : 0it [00:00, ?it/s]\n"
     ]
    },
    {
     "name": "stdout",
     "output_type": "stream",
     "text": [
      "Can't get connection to https://ivie.vn/cong-dong?page=1882! Try again in 3 seconds.\n"
     ]
    },
    {
     "name": "stderr",
     "output_type": "stream",
     "text": [
      "Processing page 1883: : 0it [00:00, ?it/s]\n"
     ]
    },
    {
     "name": "stdout",
     "output_type": "stream",
     "text": [
      "Can't get connection to https://ivie.vn/cong-dong?page=1872! Try again in 3 seconds.\n"
     ]
    },
    {
     "name": "stderr",
     "output_type": "stream",
     "text": [
      "Processing page 1884: : 0it [00:00, ?it/s]\n"
     ]
    },
    {
     "name": "stdout",
     "output_type": "stream",
     "text": [
      "Can't get connection to https://ivie.vn/cong-dong?page=1881! Try again in 3 seconds.\n",
      "Can't get connection to https://ivie.vn/cong-dong?page=1882! Try again in 3 seconds.\n"
     ]
    },
    {
     "name": "stderr",
     "output_type": "stream",
     "text": [
      "Processing page 1885: : 0it [00:00, ?it/s]\n"
     ]
    },
    {
     "name": "stdout",
     "output_type": "stream",
     "text": [
      "Can't get connection to https://ivie.vn/cong-dong?page=1872! Try again in 3 seconds.\n",
      "Can't get connection to https://ivie.vn/cong-dong?page=1886! Try again in 3 seconds.\n"
     ]
    },
    {
     "name": "stderr",
     "output_type": "stream",
     "text": [
      "Processing page 1881: : 0it [00:00, ?it/s]\n",
      "Processing page 1882: : 0it [00:00, ?it/s]\n",
      "Processing page 1887: : 0it [00:00, ?it/s]\n"
     ]
    },
    {
     "name": "stdout",
     "output_type": "stream",
     "text": [
      "Can't get connection to https://ivie.vn/cong-dong?page=1872! Try again in 3 seconds.\n",
      "Can't get connection to https://ivie.vn/cong-dong?page=1888! Try again in 3 seconds.\n"
     ]
    },
    {
     "name": "stderr",
     "output_type": "stream",
     "text": [
      "Processing page 1886: : 0it [00:00, ?it/s]\n"
     ]
    },
    {
     "name": "stdout",
     "output_type": "stream",
     "text": [
      "Can't get connection to https://ivie.vn/cong-dong?page=1889! Try again in 3 seconds.\n"
     ]
    },
    {
     "name": "stderr",
     "output_type": "stream",
     "text": [
      "Processing page 1890: : 0it [00:00, ?it/s]\n",
      "Processing page 1891: : 0it [00:00, ?it/s]\n",
      "Processing page 1892: : 0it [00:00, ?it/s]\n",
      "Processing page 1872: : 0it [00:00, ?it/s]\n"
     ]
    },
    {
     "name": "stdout",
     "output_type": "stream",
     "text": [
      "Can't get connection to https://ivie.vn/cong-dong?page=1889! Try again in 3 seconds.\n"
     ]
    },
    {
     "name": "stderr",
     "output_type": "stream",
     "text": [
      "Processing page 1888: : 0it [00:00, ?it/s]\n"
     ]
    },
    {
     "name": "stdout",
     "output_type": "stream",
     "text": [
      "Can't get connection to https://ivie.vn/cong-dong?page=1893! Try again in 3 seconds.\n",
      "Can't get connection to https://ivie.vn/cong-dong?page=1895! Try again in 3 seconds.\n"
     ]
    },
    {
     "name": "stderr",
     "output_type": "stream",
     "text": [
      "Processing page 1894: : 0it [00:00, ?it/s]\n"
     ]
    },
    {
     "name": "stdout",
     "output_type": "stream",
     "text": [
      "Can't get connection to https://ivie.vn/cong-dong?page=1896! Try again in 3 seconds.\n",
      "Can't get connection to https://ivie.vn/cong-dong?page=1893! Try again in 3 seconds.\n",
      "Can't get connection to https://ivie.vn/cong-dong?page=1895! Try again in 3 seconds.\n",
      "Can't get connection to https://ivie.vn/cong-dong?page=1897! Try again in 3 seconds.\n"
     ]
    },
    {
     "name": "stderr",
     "output_type": "stream",
     "text": [
      "Processing page 1896: : 0it [00:00, ?it/s]\n"
     ]
    },
    {
     "name": "stdout",
     "output_type": "stream",
     "text": [
      "Can't get connection to https://ivie.vn/cong-dong?page=1889! Try again in 3 seconds.\n"
     ]
    },
    {
     "name": "stderr",
     "output_type": "stream",
     "text": [
      "Processing page 1893: : 0it [00:00, ?it/s]\n"
     ]
    },
    {
     "name": "stdout",
     "output_type": "stream",
     "text": [
      "Can't get connection to https://ivie.vn/cong-dong?page=1895! Try again in 3 seconds.\n",
      "Can't get connection to https://ivie.vn/cong-dong?page=1898! Try again in 3 seconds.\n",
      "Can't get connection to https://ivie.vn/cong-dong?page=1897! Try again in 3 seconds.\n"
     ]
    },
    {
     "name": "stderr",
     "output_type": "stream",
     "text": [
      "Processing page 1889: : 0it [00:00, ?it/s]\n"
     ]
    },
    {
     "name": "stdout",
     "output_type": "stream",
     "text": [
      "Can't get connection to https://ivie.vn/cong-dong?page=1899! Try again in 3 seconds.\n",
      "Can't get connection to https://ivie.vn/cong-dong?page=1898! Try again in 3 seconds.\n"
     ]
    },
    {
     "name": "stderr",
     "output_type": "stream",
     "text": [
      "Processing page 1895: : 0it [00:00, ?it/s]\n",
      "Processing page 1897: : 0it [00:00, ?it/s]\n"
     ]
    },
    {
     "name": "stdout",
     "output_type": "stream",
     "text": [
      "Can't get connection to https://ivie.vn/cong-dong?page=1900! Try again in 3 seconds.\n"
     ]
    },
    {
     "name": "stderr",
     "output_type": "stream",
     "text": [
      "Processing page 1899: : 0it [00:00, ?it/s]\n",
      "Processing page 1901: : 0it [00:00, ?it/s]\n",
      "Processing page 1902: : 0it [00:00, ?it/s]\n"
     ]
    },
    {
     "name": "stdout",
     "output_type": "stream",
     "text": [
      "Can't get connection to https://ivie.vn/cong-dong?page=1898! Try again in 3 seconds.\n",
      "Can't get connection to https://ivie.vn/cong-dong?page=1900! Try again in 3 seconds.\n",
      "Can't get connection to https://ivie.vn/cong-dong?page=1903! Try again in 3 seconds.\n",
      "Can't get connection to https://ivie.vn/cong-dong?page=1904! Try again in 3 seconds.\n"
     ]
    },
    {
     "name": "stderr",
     "output_type": "stream",
     "text": [
      "Processing page 1898: : 0it [00:00, ?it/s]\n",
      "Processing page 1900: : 0it [00:00, ?it/s]\n",
      "Processing page 1904: : 0it [00:00, ?it/s]\n",
      "Processing page 1905: : 0it [00:00, ?it/s]\n",
      "Processing page 1906: : 0it [00:00, ?it/s]\n",
      "Processing page 1903: : 0it [00:00, ?it/s]\n",
      "Processing page 1907: : 0it [00:00, ?it/s]\n",
      "Processing page 1908: : 0it [00:00, ?it/s]\n",
      "Processing page 1909: : 0it [00:00, ?it/s]\n"
     ]
    },
    {
     "name": "stdout",
     "output_type": "stream",
     "text": [
      "Can't get connection to https://ivie.vn/cong-dong?page=1910! Try again in 3 seconds.\n"
     ]
    },
    {
     "name": "stderr",
     "output_type": "stream",
     "text": [
      "Processing page 1911: : 0it [00:00, ?it/s]\n"
     ]
    },
    {
     "name": "stdout",
     "output_type": "stream",
     "text": [
      "Can't get connection to https://ivie.vn/cong-dong?page=1912! Try again in 3 seconds.\n"
     ]
    },
    {
     "name": "stderr",
     "output_type": "stream",
     "text": [
      "Processing page 1913: : 0it [00:00, ?it/s]\n",
      "Processing page 1914: : 0it [00:00, ?it/s]\n",
      "Processing page 1915: : 0it [00:00, ?it/s]\n",
      "Processing page 1910: : 0it [00:00, ?it/s]\n"
     ]
    },
    {
     "name": "stdout",
     "output_type": "stream",
     "text": [
      "Can't get connection to https://ivie.vn/cong-dong?page=1916! Try again in 3 seconds.\n",
      "Can't get connection to https://ivie.vn/cong-dong?page=1912! Try again in 3 seconds.\n",
      "Can't get connection to https://ivie.vn/cong-dong?page=1917! Try again in 3 seconds.\n",
      "Can't get connection to https://ivie.vn/cong-dong?page=1918! Try again in 3 seconds.\n",
      "Can't get connection to https://ivie.vn/cong-dong?page=1919! Try again in 3 seconds.\n"
     ]
    },
    {
     "name": "stderr",
     "output_type": "stream",
     "text": [
      "Processing page 1916: : 0it [00:00, ?it/s]\n"
     ]
    },
    {
     "name": "stdout",
     "output_type": "stream",
     "text": [
      "Can't get connection to https://ivie.vn/cong-dong?page=1912! Try again in 3 seconds.\n",
      "Can't get connection to https://ivie.vn/cong-dong?page=1917! Try again in 3 seconds.\n"
     ]
    },
    {
     "name": "stderr",
     "output_type": "stream",
     "text": [
      "Processing page 1918: : 0it [00:00, ?it/s]\n"
     ]
    },
    {
     "name": "stdout",
     "output_type": "stream",
     "text": [
      "Can't get connection to https://ivie.vn/cong-dong?page=1919! Try again in 3 seconds.\n",
      "Can't get connection to https://ivie.vn/cong-dong?page=1920! Try again in 3 seconds.\n"
     ]
    },
    {
     "name": "stderr",
     "output_type": "stream",
     "text": [
      "Processing page 1912: : 0it [00:00, ?it/s]\n"
     ]
    },
    {
     "name": "stdout",
     "output_type": "stream",
     "text": [
      "Can't get connection to https://ivie.vn/cong-dong?page=1921! Try again in 3 seconds.\n"
     ]
    },
    {
     "name": "stderr",
     "output_type": "stream",
     "text": [
      "Processing page 1919: : 0it [00:00, ?it/s]\n",
      "Processing page 1920: : 0it [00:00, ?it/s]\n",
      "Processing page 1917: : 0it [00:00, ?it/s]\n",
      "Processing page 1922: : 0it [00:00, ?it/s]\n",
      "Processing page 1923: : 0it [00:00, ?it/s]\n",
      "Processing page 1925: : 0it [00:00, ?it/s]\n"
     ]
    },
    {
     "name": "stdout",
     "output_type": "stream",
     "text": [
      "Can't get connection to https://ivie.vn/cong-dong?page=1921! Try again in 3 seconds.\n",
      "Can't get connection to https://ivie.vn/cong-dong?page=1924! Try again in 3 seconds.\n",
      "Can't get connection to https://ivie.vn/cong-dong?page=1926! Try again in 3 seconds.\n",
      "Can't get connection to https://ivie.vn/cong-dong?page=1927! Try again in 3 seconds.\n",
      "Can't get connection to https://ivie.vn/cong-dong?page=1928! Try again in 3 seconds.\n"
     ]
    },
    {
     "name": "stderr",
     "output_type": "stream",
     "text": [
      "Processing page 1921: : 0it [00:00, ?it/s]\n",
      "Processing page 1924: : 0it [00:00, ?it/s]\n",
      "Processing page 1926: : 0it [00:00, ?it/s]\n"
     ]
    },
    {
     "name": "stdout",
     "output_type": "stream",
     "text": [
      "Can't get connection to https://ivie.vn/cong-dong?page=1928! Try again in 3 seconds.\n"
     ]
    },
    {
     "name": "stderr",
     "output_type": "stream",
     "text": [
      "Processing page 1927: : 0it [00:00, ?it/s]\n",
      "Processing page 1929: : 0it [00:00, ?it/s]\n",
      "Processing page 1931: : 0it [00:00, ?it/s]\n"
     ]
    },
    {
     "name": "stdout",
     "output_type": "stream",
     "text": [
      "Can't get connection to https://ivie.vn/cong-dong?page=1930! Try again in 3 seconds.\n"
     ]
    },
    {
     "name": "stderr",
     "output_type": "stream",
     "text": [
      "Processing page 1928: : 0it [00:00, ?it/s]\n"
     ]
    },
    {
     "name": "stdout",
     "output_type": "stream",
     "text": [
      "Can't get connection to https://ivie.vn/cong-dong?page=1933! Try again in 3 seconds.\n"
     ]
    },
    {
     "name": "stderr",
     "output_type": "stream",
     "text": [
      "Processing page 1932: : 0it [00:00, ?it/s]\n",
      "Processing page 1934: : 0it [00:00, ?it/s]\n"
     ]
    },
    {
     "name": "stdout",
     "output_type": "stream",
     "text": [
      "Can't get connection to https://ivie.vn/cong-dong?page=1930! Try again in 3 seconds.\n"
     ]
    },
    {
     "name": "stderr",
     "output_type": "stream",
     "text": [
      "Processing page 1935: : 0it [00:00, ?it/s]\n",
      "Processing page 1936: : 0it [00:00, ?it/s]\n"
     ]
    },
    {
     "name": "stdout",
     "output_type": "stream",
     "text": [
      "Can't get connection to https://ivie.vn/cong-dong?page=1933! Try again in 3 seconds.\n"
     ]
    },
    {
     "name": "stderr",
     "output_type": "stream",
     "text": [
      "Processing page 1937: : 0it [00:00, ?it/s]\n",
      "Processing page 1938: : 0it [00:00, ?it/s]\n",
      "Processing page 1930: : 0it [00:00, ?it/s]\n"
     ]
    },
    {
     "name": "stdout",
     "output_type": "stream",
     "text": [
      "Can't get connection to https://ivie.vn/cong-dong?page=1939! Try again in 3 seconds.\n"
     ]
    },
    {
     "name": "stderr",
     "output_type": "stream",
     "text": [
      "Processing page 1933: : 0it [00:00, ?it/s]\n",
      "Processing page 1941: : 0it [00:00, ?it/s]\n",
      "Processing page 1942: : 0it [00:00, ?it/s]\n"
     ]
    },
    {
     "name": "stdout",
     "output_type": "stream",
     "text": [
      "Can't get connection to https://ivie.vn/cong-dong?page=1940! Try again in 3 seconds.\n",
      "Can't get connection to https://ivie.vn/cong-dong?page=1939! Try again in 3 seconds.\n"
     ]
    },
    {
     "name": "stderr",
     "output_type": "stream",
     "text": [
      "Processing page 1943: : 0it [00:00, ?it/s]\n",
      "Processing page 1945: : 0it [00:00, ?it/s]\n",
      "Processing page 1940: : 0it [00:00, ?it/s]\n"
     ]
    },
    {
     "name": "stdout",
     "output_type": "stream",
     "text": [
      "Can't get connection to https://ivie.vn/cong-dong?page=1944! Try again in 3 seconds.\n"
     ]
    },
    {
     "name": "stderr",
     "output_type": "stream",
     "text": [
      "Processing page 1946: : 0it [00:00, ?it/s]\n"
     ]
    },
    {
     "name": "stdout",
     "output_type": "stream",
     "text": [
      "Can't get connection to https://ivie.vn/cong-dong?page=1939! Try again in 3 seconds.\n"
     ]
    },
    {
     "name": "stderr",
     "output_type": "stream",
     "text": [
      "Processing page 1948: : 0it [00:00, ?it/s]\n"
     ]
    },
    {
     "name": "stdout",
     "output_type": "stream",
     "text": [
      "Can't get connection to https://ivie.vn/cong-dong?page=1947! Try again in 3 seconds.\n"
     ]
    },
    {
     "name": "stderr",
     "output_type": "stream",
     "text": [
      "Processing page 1949: : 0it [00:00, ?it/s]\n",
      "Processing page 1944: : 0it [00:00, ?it/s]\n",
      "Processing page 1939: : 0it [00:00, ?it/s]\n",
      "Processing page 1950: : 0it [00:00, ?it/s]\n",
      "Processing page 1951: : 0it [00:00, ?it/s]\n"
     ]
    },
    {
     "name": "stdout",
     "output_type": "stream",
     "text": [
      "Can't get connection to https://ivie.vn/cong-dong?page=1947! Try again in 3 seconds.\n"
     ]
    },
    {
     "name": "stderr",
     "output_type": "stream",
     "text": [
      "Processing page 1953: : 0it [00:00, ?it/s]\n"
     ]
    },
    {
     "name": "stdout",
     "output_type": "stream",
     "text": [
      "Can't get connection to https://ivie.vn/cong-dong?page=1952! Try again in 3 seconds.\n",
      "Can't get connection to https://ivie.vn/cong-dong?page=1954! Try again in 3 seconds.\n",
      "Can't get connection to https://ivie.vn/cong-dong?page=1955! Try again in 3 seconds.\n",
      "Can't get connection to https://ivie.vn/cong-dong?page=1956! Try again in 3 seconds.\n",
      "Can't get connection to https://ivie.vn/cong-dong?page=1947! Try again in 3 seconds.\n"
     ]
    },
    {
     "name": "stderr",
     "output_type": "stream",
     "text": [
      "Processing page 1952: : 0it [00:00, ?it/s]\n"
     ]
    },
    {
     "name": "stdout",
     "output_type": "stream",
     "text": [
      "Can't get connection to https://ivie.vn/cong-dong?page=1954! Try again in 3 seconds.\n"
     ]
    },
    {
     "name": "stderr",
     "output_type": "stream",
     "text": [
      "Processing page 1955: : 0it [00:00, ?it/s]\n",
      "Processing page 1956: : 0it [00:00, ?it/s]\n",
      "Processing page 1947: : 0it [00:00, ?it/s]\n"
     ]
    },
    {
     "name": "stdout",
     "output_type": "stream",
     "text": [
      "Can't get connection to https://ivie.vn/cong-dong?page=1957! Try again in 3 seconds.\n"
     ]
    },
    {
     "name": "stderr",
     "output_type": "stream",
     "text": [
      "Processing page 1954: : 0it [00:00, ?it/s]\n",
      "Processing page 1958: : 0it [00:00, ?it/s]\n"
     ]
    },
    {
     "name": "stdout",
     "output_type": "stream",
     "text": [
      "Can't get connection to https://ivie.vn/cong-dong?page=1959! Try again in 3 seconds.\n"
     ]
    },
    {
     "name": "stderr",
     "output_type": "stream",
     "text": [
      "Processing page 1960: : 0it [00:00, ?it/s]\n"
     ]
    },
    {
     "name": "stdout",
     "output_type": "stream",
     "text": [
      "Can't get connection to https://ivie.vn/cong-dong?page=1961! Try again in 3 seconds.\n"
     ]
    },
    {
     "name": "stderr",
     "output_type": "stream",
     "text": [
      "Processing page 1962: : 0it [00:00, ?it/s]\n",
      "Processing page 1957: : 0it [00:00, ?it/s]\n",
      "Processing page 1963: : 0it [00:00, ?it/s]\n"
     ]
    },
    {
     "name": "stdout",
     "output_type": "stream",
     "text": [
      "Can't get connection to https://ivie.vn/cong-dong?page=1959! Try again in 3 seconds.\n"
     ]
    },
    {
     "name": "stderr",
     "output_type": "stream",
     "text": [
      "Processing page 1964: : 0it [00:00, ?it/s]\n",
      "Processing page 1961: : 0it [00:00, ?it/s]\n"
     ]
    },
    {
     "name": "stdout",
     "output_type": "stream",
     "text": [
      "Can't get connection to https://ivie.vn/cong-dong?page=1966! Try again in 3 seconds.\n",
      "Can't get connection to https://ivie.vn/cong-dong?page=1965! Try again in 3 seconds.\n"
     ]
    },
    {
     "name": "stderr",
     "output_type": "stream",
     "text": [
      "Processing page 1959: : 0it [00:00, ?it/s]\n",
      "Processing page 1968: : 0it [00:00, ?it/s]\n",
      "Processing page 1965: : 0it [00:00, ?it/s]\n",
      "Processing page 1966: : 0it [00:00, ?it/s]\n",
      "Processing page 1969: : 0it [00:00, ?it/s]\n",
      "Processing page 1970: : 0it [00:00, ?it/s]\n",
      "Processing page 1967: : 0it [00:00, ?it/s]\n"
     ]
    },
    {
     "name": "stdout",
     "output_type": "stream",
     "text": [
      "Can't get connection to https://ivie.vn/cong-dong?page=1971! Try again in 3 seconds.\n",
      "Can't get connection to https://ivie.vn/cong-dong?page=1972! Try again in 3 seconds.\n"
     ]
    },
    {
     "name": "stderr",
     "output_type": "stream",
     "text": [
      "Processing page 1973: : 0it [00:00, ?it/s]\n",
      "Processing page 1974: : 0it [00:00, ?it/s]\n"
     ]
    },
    {
     "name": "stdout",
     "output_type": "stream",
     "text": [
      "Can't get connection to https://ivie.vn/cong-dong?page=1975! Try again in 3 seconds.\n"
     ]
    },
    {
     "name": "stderr",
     "output_type": "stream",
     "text": [
      "Processing page 1976: : 0it [00:00, ?it/s]\n",
      "Processing page 1971: : 0it [00:00, ?it/s]\n"
     ]
    },
    {
     "name": "stdout",
     "output_type": "stream",
     "text": [
      "Can't get connection to https://ivie.vn/cong-dong?page=1977! Try again in 3 seconds.\n",
      "Can't get connection to https://ivie.vn/cong-dong?page=1972! Try again in 3 seconds.\n",
      "Can't get connection to https://ivie.vn/cong-dong?page=1975! Try again in 3 seconds.\n",
      "Can't get connection to https://ivie.vn/cong-dong?page=1978! Try again in 3 seconds.\n"
     ]
    },
    {
     "name": "stderr",
     "output_type": "stream",
     "text": [
      "Processing page 1979: : 0it [00:00, ?it/s]\n",
      "Processing page 1977: : 0it [00:00, ?it/s]\n",
      "Processing page 1972: : 0it [00:00, ?it/s]\n"
     ]
    },
    {
     "name": "stdout",
     "output_type": "stream",
     "text": [
      "Can't get connection to https://ivie.vn/cong-dong?page=1980! Try again in 3 seconds.\n"
     ]
    },
    {
     "name": "stderr",
     "output_type": "stream",
     "text": [
      "Processing page 1978: : 0it [00:00, ?it/s]\n"
     ]
    },
    {
     "name": "stdout",
     "output_type": "stream",
     "text": [
      "Can't get connection to https://ivie.vn/cong-dong?page=1975! Try again in 3 seconds.\n"
     ]
    },
    {
     "name": "stderr",
     "output_type": "stream",
     "text": [
      "Processing page 1981: : 0it [00:00, ?it/s]\n",
      "Processing page 1983: : 0it [00:00, ?it/s]\n",
      "Processing page 1982: : 0it [00:00, ?it/s]\n"
     ]
    },
    {
     "name": "stdout",
     "output_type": "stream",
     "text": [
      "Can't get connection to https://ivie.vn/cong-dong?page=1980! Try again in 3 seconds.\n",
      "Can't get connection to https://ivie.vn/cong-dong?page=1984! Try again in 3 seconds.\n"
     ]
    },
    {
     "name": "stderr",
     "output_type": "stream",
     "text": [
      "Processing page 1975: : 0it [00:00, ?it/s]\n",
      "Processing page 1985: : 0it [00:00, ?it/s]\n",
      "Processing page 1986: : 0it [00:00, ?it/s]\n",
      "Processing page 1987: : 0it [00:00, ?it/s]\n"
     ]
    },
    {
     "name": "stdout",
     "output_type": "stream",
     "text": [
      "Can't get connection to https://ivie.vn/cong-dong?page=1980! Try again in 3 seconds.\n",
      "Can't get connection to https://ivie.vn/cong-dong?page=1988! Try again in 3 seconds.\n",
      "Can't get connection to https://ivie.vn/cong-dong?page=1989! Try again in 3 seconds.\n",
      "Can't get connection to https://ivie.vn/cong-dong?page=1984! Try again in 3 seconds.\n",
      "Can't get connection to https://ivie.vn/cong-dong?page=1990! Try again in 3 seconds.\n",
      "Can't get connection to https://ivie.vn/cong-dong?page=1980! Try again in 3 seconds.\n"
     ]
    },
    {
     "name": "stderr",
     "output_type": "stream",
     "text": [
      "Processing page 1988: : 0it [00:00, ?it/s]\n",
      "Processing page 1984: : 0it [00:00, ?it/s]\n",
      "Processing page 1989: : 0it [00:00, ?it/s]\n",
      "Processing page 1990: : 0it [00:00, ?it/s]\n"
     ]
    },
    {
     "name": "stdout",
     "output_type": "stream",
     "text": [
      "Can't get connection to https://ivie.vn/cong-dong?page=1991! Try again in 3 seconds.\n"
     ]
    },
    {
     "name": "stderr",
     "output_type": "stream",
     "text": [
      "Processing page 1992: : 0it [00:00, ?it/s]\n",
      "Processing page 1980: : 0it [00:00, ?it/s]\n",
      "Processing page 1994: : 0it [00:00, ?it/s]\n"
     ]
    },
    {
     "name": "stdout",
     "output_type": "stream",
     "text": [
      "Can't get connection to https://ivie.vn/cong-dong?page=1995! Try again in 3 seconds.\n",
      "Can't get connection to https://ivie.vn/cong-dong?page=1996! Try again in 3 seconds.\n",
      "Can't get connection to https://ivie.vn/cong-dong?page=1991! Try again in 3 seconds.\n",
      "Can't get connection to https://ivie.vn/cong-dong?page=1993! Try again in 3 seconds.\n"
     ]
    },
    {
     "name": "stderr",
     "output_type": "stream",
     "text": [
      "Processing page 1997: : 0it [00:00, ?it/s]\n",
      "Processing page 1995: : 0it [00:00, ?it/s]\n",
      "Processing page 1996: : 0it [00:00, ?it/s]\n",
      "Processing page 1991: : 0it [00:00, ?it/s]\n",
      "Processing page 1993: : 0it [00:00, ?it/s]\n",
      "Processing page 1998: : 0it [00:00, ?it/s]\n",
      "Processing page 1999: : 0it [00:00, ?it/s]\n"
     ]
    },
    {
     "name": "stdout",
     "output_type": "stream",
     "text": [
      "Can't get connection to https://ivie.vn/cong-dong?page=2001! Try again in 3 seconds.\n",
      "Can't get connection to https://ivie.vn/cong-dong?page=2002! Try again in 3 seconds.\n"
     ]
    },
    {
     "name": "stderr",
     "output_type": "stream",
     "text": [
      "Processing page 2000: : 0it [00:00, ?it/s]\n",
      "Processing page 2003: : 0it [00:00, ?it/s]\n",
      "Processing page 2004: : 0it [00:00, ?it/s]\n",
      "Processing page 2005: : 0it [00:00, ?it/s]\n",
      "Processing page 2001: : 0it [00:00, ?it/s]\n"
     ]
    },
    {
     "name": "stdout",
     "output_type": "stream",
     "text": [
      "Can't get connection to https://ivie.vn/cong-dong?page=2002! Try again in 3 seconds.\n",
      "Can't get connection to https://ivie.vn/cong-dong?page=2007! Try again in 3 seconds.\n",
      "Can't get connection to https://ivie.vn/cong-dong?page=2006! Try again in 3 seconds.\n"
     ]
    },
    {
     "name": "stderr",
     "output_type": "stream",
     "text": [
      "Processing page 2008: : 0it [00:00, ?it/s]\n",
      "Processing page 2009: : 0it [00:00, ?it/s]\n",
      "Processing page 2002: : 0it [00:00, ?it/s]\n",
      "Processing page 2006: : 0it [00:00, ?it/s]\n"
     ]
    },
    {
     "name": "stdout",
     "output_type": "stream",
     "text": [
      "Can't get connection to https://ivie.vn/cong-dong?page=2010! Try again in 3 seconds.\n"
     ]
    },
    {
     "name": "stderr",
     "output_type": "stream",
     "text": [
      "Processing page 2007: : 0it [00:00, ?it/s]\n"
     ]
    },
    {
     "name": "stdout",
     "output_type": "stream",
     "text": [
      "Can't get connection to https://ivie.vn/cong-dong?page=2011! Try again in 3 seconds.\n"
     ]
    },
    {
     "name": "stderr",
     "output_type": "stream",
     "text": [
      "Processing page 2012: : 0it [00:00, ?it/s]\n",
      "Processing page 2013: : 0it [00:00, ?it/s]\n",
      "Processing page 2014: : 0it [00:00, ?it/s]\n",
      "Processing page 2010: : 0it [00:00, ?it/s]\n"
     ]
    },
    {
     "name": "stdout",
     "output_type": "stream",
     "text": [
      "Can't get connection to https://ivie.vn/cong-dong?page=2011! Try again in 3 seconds.\n"
     ]
    },
    {
     "name": "stderr",
     "output_type": "stream",
     "text": [
      "Processing page 2016: : 0it [00:00, ?it/s]\n",
      "Processing page 2015: : 0it [00:00, ?it/s]\n",
      "Processing page 2017: : 0it [00:00, ?it/s]\n",
      "Processing page 2018: : 0it [00:00, ?it/s]\n"
     ]
    },
    {
     "name": "stdout",
     "output_type": "stream",
     "text": [
      "Can't get connection to https://ivie.vn/cong-dong?page=2020! Try again in 3 seconds.\n",
      "Can't get connection to https://ivie.vn/cong-dong?page=2011! Try again in 3 seconds.\n",
      "Can't get connection to https://ivie.vn/cong-dong?page=2019! Try again in 3 seconds.\n"
     ]
    },
    {
     "name": "stderr",
     "output_type": "stream",
     "text": [
      "Processing page 2022: : 0it [00:00, ?it/s]\n"
     ]
    },
    {
     "name": "stdout",
     "output_type": "stream",
     "text": [
      "Can't get connection to https://ivie.vn/cong-dong?page=2021! Try again in 3 seconds.\n"
     ]
    },
    {
     "name": "stderr",
     "output_type": "stream",
     "text": [
      "Processing page 2020: : 0it [00:00, ?it/s]\n",
      "Processing page 2023: : 0it [00:00, ?it/s]\n",
      "Processing page 2021: : 0it [00:00, ?it/s]\n"
     ]
    },
    {
     "name": "stdout",
     "output_type": "stream",
     "text": [
      "Can't get connection to https://ivie.vn/cong-dong?page=2011! Try again in 3 seconds.\n",
      "Can't get connection to https://ivie.vn/cong-dong?page=2019! Try again in 3 seconds.\n"
     ]
    },
    {
     "name": "stderr",
     "output_type": "stream",
     "text": [
      "Processing page 2024: : 0it [00:00, ?it/s]\n"
     ]
    },
    {
     "name": "stdout",
     "output_type": "stream",
     "text": [
      "Can't get connection to https://ivie.vn/cong-dong?page=2025! Try again in 3 seconds.\n",
      "Can't get connection to https://ivie.vn/cong-dong?page=2026! Try again in 3 seconds.\n"
     ]
    },
    {
     "name": "stderr",
     "output_type": "stream",
     "text": [
      "Processing page 2019: : 0it [00:00, ?it/s]\n"
     ]
    },
    {
     "name": "stdout",
     "output_type": "stream",
     "text": [
      "Can't get connection to https://ivie.vn/cong-dong?page=2027! Try again in 3 seconds.\n",
      "Can't get connection to https://ivie.vn/cong-dong?page=2011! Try again in 3 seconds.\n",
      "Can't get connection to https://ivie.vn/cong-dong?page=2025! Try again in 3 seconds.\n"
     ]
    },
    {
     "name": "stderr",
     "output_type": "stream",
     "text": [
      "Processing page 2026: : 0it [00:00, ?it/s]\n",
      "Processing page 2028: : 0it [00:00, ?it/s]\n",
      "Processing page 2027: : 0it [00:00, ?it/s]\n"
     ]
    },
    {
     "name": "stdout",
     "output_type": "stream",
     "text": [
      "Can't get connection to https://ivie.vn/cong-dong?page=2011! Try again in 3 seconds.\n"
     ]
    },
    {
     "name": "stderr",
     "output_type": "stream",
     "text": [
      "Processing page 2029: : 0it [00:00, ?it/s]\n",
      "Processing page 2025: : 0it [00:00, ?it/s]\n",
      "Processing page 2030: : 0it [00:00, ?it/s]\n"
     ]
    },
    {
     "name": "stdout",
     "output_type": "stream",
     "text": [
      "Can't get connection to https://ivie.vn/cong-dong?page=2031! Try again in 3 seconds.\n",
      "Can't get connection to https://ivie.vn/cong-dong?page=2011! Try again in 3 seconds.\n"
     ]
    },
    {
     "name": "stderr",
     "output_type": "stream",
     "text": [
      "Processing page 2032: : 0it [00:00, ?it/s]\n",
      "Processing page 2033: : 0it [00:00, ?it/s]\n"
     ]
    },
    {
     "name": "stdout",
     "output_type": "stream",
     "text": [
      "Can't get connection to https://ivie.vn/cong-dong?page=2034! Try again in 3 seconds.\n",
      "Can't get connection to https://ivie.vn/cong-dong?page=2031! Try again in 3 seconds.\n"
     ]
    },
    {
     "name": "stderr",
     "output_type": "stream",
     "text": [
      "Processing page 2035: : 0it [00:00, ?it/s]\n",
      "Processing page 2011: : 0it [00:00, ?it/s]\n",
      "Processing page 2036: : 0it [00:00, ?it/s]\n",
      "Processing page 2034: : 0it [00:00, ?it/s]\n",
      "Processing page 2037: : 0it [00:00, ?it/s]\n"
     ]
    },
    {
     "name": "stdout",
     "output_type": "stream",
     "text": [
      "Can't get connection to https://ivie.vn/cong-dong?page=2031! Try again in 3 seconds.\n"
     ]
    },
    {
     "name": "stderr",
     "output_type": "stream",
     "text": [
      "Processing page 2038: : 0it [00:00, ?it/s]\n",
      "Processing page 2041: : 0it [00:00, ?it/s]\n"
     ]
    },
    {
     "name": "stdout",
     "output_type": "stream",
     "text": [
      "Can't get connection to https://ivie.vn/cong-dong?page=2039! Try again in 3 seconds.\n",
      "Can't get connection to https://ivie.vn/cong-dong?page=2040! Try again in 3 seconds.\n"
     ]
    },
    {
     "name": "stderr",
     "output_type": "stream",
     "text": [
      "Processing page 2042: : 0it [00:00, ?it/s]\n"
     ]
    },
    {
     "name": "stdout",
     "output_type": "stream",
     "text": [
      "Can't get connection to https://ivie.vn/cong-dong?page=2043! Try again in 3 seconds.\n",
      "Can't get connection to https://ivie.vn/cong-dong?page=2031! Try again in 3 seconds.\n"
     ]
    },
    {
     "name": "stderr",
     "output_type": "stream",
     "text": [
      "Processing page 2040: : 0it [00:00, ?it/s]\n",
      "Processing page 2044: : 0it [00:00, ?it/s]\n"
     ]
    },
    {
     "name": "stdout",
     "output_type": "stream",
     "text": [
      "Can't get connection to https://ivie.vn/cong-dong?page=2039! Try again in 3 seconds.\n"
     ]
    },
    {
     "name": "stderr",
     "output_type": "stream",
     "text": [
      "Processing page 2043: : 0it [00:00, ?it/s]\n",
      "Processing page 2031: : 0it [00:00, ?it/s]\n",
      "Processing page 2045: : 0it [00:00, ?it/s]\n",
      "Processing page 2046: : 0it [00:00, ?it/s]\n",
      "Processing page 2039: : 0it [00:00, ?it/s]\n",
      "Processing page 2048: : 0it [00:00, ?it/s]\n",
      "Processing page 2049: : 0it [00:00, ?it/s]\n"
     ]
    },
    {
     "name": "stdout",
     "output_type": "stream",
     "text": [
      "Can't get connection to https://ivie.vn/cong-dong?page=2050! Try again in 3 seconds.\n",
      "Can't get connection to https://ivie.vn/cong-dong?page=2047! Try again in 3 seconds.\n",
      "Can't get connection to https://ivie.vn/cong-dong?page=2051! Try again in 3 seconds.\n",
      "Can't get connection to https://ivie.vn/cong-dong?page=2052! Try again in 3 seconds.\n"
     ]
    },
    {
     "name": "stderr",
     "output_type": "stream",
     "text": [
      "Processing page 2053: : 0it [00:00, ?it/s]\n"
     ]
    },
    {
     "name": "stdout",
     "output_type": "stream",
     "text": [
      "Can't get connection to https://ivie.vn/cong-dong?page=2050! Try again in 3 seconds.\n"
     ]
    },
    {
     "name": "stderr",
     "output_type": "stream",
     "text": [
      "Processing page 2047: : 0it [00:00, ?it/s]\n",
      "Processing page 2054: : 0it [00:00, ?it/s]\n",
      "Processing page 2052: : 0it [00:00, ?it/s]\n",
      "Processing page 2051: : 0it [00:00, ?it/s]\n"
     ]
    },
    {
     "name": "stdout",
     "output_type": "stream",
     "text": [
      "Can't get connection to https://ivie.vn/cong-dong?page=2055! Try again in 3 seconds.\n"
     ]
    },
    {
     "name": "stderr",
     "output_type": "stream",
     "text": [
      "Processing page 2050: : 0it [00:00, ?it/s]\n"
     ]
    },
    {
     "name": "stdout",
     "output_type": "stream",
     "text": [
      "Can't get connection to https://ivie.vn/cong-dong?page=2056! Try again in 3 seconds.\n"
     ]
    },
    {
     "name": "stderr",
     "output_type": "stream",
     "text": [
      "Processing page 2057: : 0it [00:00, ?it/s]\n"
     ]
    },
    {
     "name": "stdout",
     "output_type": "stream",
     "text": [
      "Can't get connection to https://ivie.vn/cong-dong?page=2058! Try again in 3 seconds.\n",
      "Can't get connection to https://ivie.vn/cong-dong?page=2059! Try again in 3 seconds.\n",
      "Can't get connection to https://ivie.vn/cong-dong?page=2055! Try again in 3 seconds.\n"
     ]
    },
    {
     "name": "stderr",
     "output_type": "stream",
     "text": [
      "Processing page 2060: : 0it [00:00, ?it/s]\n"
     ]
    },
    {
     "name": "stdout",
     "output_type": "stream",
     "text": [
      "Can't get connection to https://ivie.vn/cong-dong?page=2056! Try again in 3 seconds.\n"
     ]
    },
    {
     "name": "stderr",
     "output_type": "stream",
     "text": [
      "Processing page 2058: : 0it [00:00, ?it/s]\n",
      "Processing page 2061: : 0it [00:00, ?it/s]\n"
     ]
    },
    {
     "name": "stdout",
     "output_type": "stream",
     "text": [
      "Can't get connection to https://ivie.vn/cong-dong?page=2055! Try again in 3 seconds.\n",
      "Can't get connection to https://ivie.vn/cong-dong?page=2059! Try again in 3 seconds.\n"
     ]
    },
    {
     "name": "stderr",
     "output_type": "stream",
     "text": [
      "Processing page 2062: : 0it [00:00, ?it/s]\n"
     ]
    },
    {
     "name": "stdout",
     "output_type": "stream",
     "text": [
      "Can't get connection to https://ivie.vn/cong-dong?page=2056! Try again in 3 seconds.\n"
     ]
    },
    {
     "name": "stderr",
     "output_type": "stream",
     "text": [
      "Processing page 2063: : 0it [00:00, ?it/s]\n",
      "Processing page 2055: : 0it [00:00, ?it/s]\n"
     ]
    },
    {
     "name": "stdout",
     "output_type": "stream",
     "text": [
      "Can't get connection to https://ivie.vn/cong-dong?page=2064! Try again in 3 seconds.\n"
     ]
    },
    {
     "name": "stderr",
     "output_type": "stream",
     "text": [
      "Processing page 2059: : 0it [00:00, ?it/s]\n",
      "Processing page 2065: : 0it [00:00, ?it/s]\n"
     ]
    },
    {
     "name": "stdout",
     "output_type": "stream",
     "text": [
      "Can't get connection to https://ivie.vn/cong-dong?page=2056! Try again in 3 seconds.\n",
      "Can't get connection to https://ivie.vn/cong-dong?page=2067! Try again in 3 seconds.\n"
     ]
    },
    {
     "name": "stderr",
     "output_type": "stream",
     "text": [
      "Processing page 2064: : 0it [00:00, ?it/s]\n"
     ]
    },
    {
     "name": "stdout",
     "output_type": "stream",
     "text": [
      "Can't get connection to https://ivie.vn/cong-dong?page=2068! Try again in 3 seconds.\n",
      "Can't get connection to https://ivie.vn/cong-dong?page=2066! Try again in 3 seconds.\n"
     ]
    },
    {
     "name": "stderr",
     "output_type": "stream",
     "text": [
      "Processing page 2056: : 0it [00:00, ?it/s]\n",
      "Processing page 2069: : 0it [00:00, ?it/s]\n",
      "Processing page 2067: : 0it [00:00, ?it/s]\n"
     ]
    },
    {
     "name": "stdout",
     "output_type": "stream",
     "text": [
      "Can't get connection to https://ivie.vn/cong-dong?page=2068! Try again in 3 seconds.\n"
     ]
    },
    {
     "name": "stderr",
     "output_type": "stream",
     "text": [
      "Processing page 2070: : 0it [00:00, ?it/s]\n",
      "Processing page 2071: : 0it [00:00, ?it/s]\n",
      "Processing page 2066: : 0it [00:00, ?it/s]\n",
      "Processing page 2072: : 0it [00:00, ?it/s]\n",
      "Processing page 2074: : 0it [00:00, ?it/s]\n",
      "Processing page 2073: : 0it [00:00, ?it/s]\n"
     ]
    },
    {
     "name": "stdout",
     "output_type": "stream",
     "text": [
      "Can't get connection to https://ivie.vn/cong-dong?page=2068! Try again in 3 seconds.\n",
      "Can't get connection to https://ivie.vn/cong-dong?page=2075! Try again in 3 seconds.\n",
      "Can't get connection to https://ivie.vn/cong-dong?page=2076! Try again in 3 seconds.\n",
      "Can't get connection to https://ivie.vn/cong-dong?page=2077! Try again in 3 seconds.\n"
     ]
    },
    {
     "name": "stderr",
     "output_type": "stream",
     "text": [
      "Processing page 2078: : 0it [00:00, ?it/s]\n",
      "Processing page 2068: : 0it [00:00, ?it/s]\n",
      "Processing page 2075: : 0it [00:00, ?it/s]\n",
      "Processing page 2076: : 0it [00:00, ?it/s]\n",
      "Processing page 2079: : 0it [00:00, ?it/s]\n"
     ]
    },
    {
     "name": "stdout",
     "output_type": "stream",
     "text": [
      "Can't get connection to https://ivie.vn/cong-dong?page=2080! Try again in 3 seconds.\n"
     ]
    },
    {
     "name": "stderr",
     "output_type": "stream",
     "text": [
      "Processing page 2077: : 0it [00:00, ?it/s]\n",
      "Processing page 2081: : 0it [00:00, ?it/s]\n",
      "Processing page 2083: : 0it [00:00, ?it/s]\n",
      "Processing page 2082: : 0it [00:00, ?it/s]\n"
     ]
    },
    {
     "name": "stdout",
     "output_type": "stream",
     "text": [
      "Can't get connection to https://ivie.vn/cong-dong?page=2084! Try again in 3 seconds.\n"
     ]
    },
    {
     "name": "stderr",
     "output_type": "stream",
     "text": [
      "Processing page 2085: : 0it [00:00, ?it/s]\n",
      "Processing page 2080: : 0it [00:00, ?it/s]\n"
     ]
    },
    {
     "name": "stdout",
     "output_type": "stream",
     "text": [
      "Can't get connection to https://ivie.vn/cong-dong?page=2086! Try again in 3 seconds.\n"
     ]
    },
    {
     "name": "stderr",
     "output_type": "stream",
     "text": [
      "Processing page 2087: : 0it [00:00, ?it/s]\n"
     ]
    },
    {
     "name": "stdout",
     "output_type": "stream",
     "text": [
      "Can't get connection to https://ivie.vn/cong-dong?page=2088! Try again in 3 seconds.\n"
     ]
    },
    {
     "name": "stderr",
     "output_type": "stream",
     "text": [
      "Processing page 2084: : 0it [00:00, ?it/s]\n",
      "Processing page 2089: : 0it [00:00, ?it/s]\n",
      "Processing page 2086: : 0it [00:00, ?it/s]\n",
      "Processing page 2090: : 0it [00:00, ?it/s]\n"
     ]
    },
    {
     "name": "stdout",
     "output_type": "stream",
     "text": [
      "Can't get connection to https://ivie.vn/cong-dong?page=2092! Try again in 3 seconds.\n"
     ]
    },
    {
     "name": "stderr",
     "output_type": "stream",
     "text": [
      "Processing page 2091: : 0it [00:00, ?it/s]\n"
     ]
    },
    {
     "name": "stdout",
     "output_type": "stream",
     "text": [
      "Can't get connection to https://ivie.vn/cong-dong?page=2093! Try again in 3 seconds.\n",
      "Can't get connection to https://ivie.vn/cong-dong?page=2094! Try again in 3 seconds.\n",
      "Can't get connection to https://ivie.vn/cong-dong?page=2088! Try again in 3 seconds.\n"
     ]
    },
    {
     "name": "stderr",
     "output_type": "stream",
     "text": [
      "Processing page 2092: : 0it [00:00, ?it/s]\n"
     ]
    },
    {
     "name": "stdout",
     "output_type": "stream",
     "text": [
      "Can't get connection to https://ivie.vn/cong-dong?page=2095! Try again in 3 seconds.\n",
      "Can't get connection to https://ivie.vn/cong-dong?page=2093! Try again in 3 seconds.\n"
     ]
    },
    {
     "name": "stderr",
     "output_type": "stream",
     "text": [
      "Processing page 2094: : 0it [00:00, ?it/s]\n",
      "Processing page 2096: : 0it [00:00, ?it/s]\n"
     ]
    },
    {
     "name": "stdout",
     "output_type": "stream",
     "text": [
      "Can't get connection to https://ivie.vn/cong-dong?page=2088! Try again in 3 seconds.\n"
     ]
    },
    {
     "name": "stderr",
     "output_type": "stream",
     "text": [
      "Processing page 2095: : 0it [00:00, ?it/s]\n"
     ]
    },
    {
     "name": "stdout",
     "output_type": "stream",
     "text": [
      "Can't get connection to https://ivie.vn/cong-dong?page=2097! Try again in 3 seconds.\n"
     ]
    },
    {
     "name": "stderr",
     "output_type": "stream",
     "text": [
      "Processing page 2098: : 0it [00:00, ?it/s]\n",
      "Processing page 2093: : 0it [00:00, ?it/s]\n"
     ]
    },
    {
     "name": "stdout",
     "output_type": "stream",
     "text": [
      "Can't get connection to https://ivie.vn/cong-dong?page=2099! Try again in 3 seconds.\n"
     ]
    },
    {
     "name": "stderr",
     "output_type": "stream",
     "text": [
      "Processing page 2088: : 0it [00:00, ?it/s]\n"
     ]
    },
    {
     "name": "stdout",
     "output_type": "stream",
     "text": [
      "Can't get connection to https://ivie.vn/cong-dong?page=2100! Try again in 3 seconds.\n"
     ]
    },
    {
     "name": "stderr",
     "output_type": "stream",
     "text": [
      "Processing page 2101: : 0it [00:00, ?it/s]\n",
      "Processing page 2097: : 0it [00:00, ?it/s]\n",
      "Processing page 2102: : 0it [00:00, ?it/s]\n"
     ]
    },
    {
     "name": "stdout",
     "output_type": "stream",
     "text": [
      "Can't get connection to https://ivie.vn/cong-dong?page=2103! Try again in 3 seconds.\n"
     ]
    },
    {
     "name": "stderr",
     "output_type": "stream",
     "text": [
      "Processing page 2100: : 0it [00:00, ?it/s]\n"
     ]
    },
    {
     "name": "stdout",
     "output_type": "stream",
     "text": [
      "Can't get connection to https://ivie.vn/cong-dong?page=2099! Try again in 3 seconds.\n"
     ]
    },
    {
     "name": "stderr",
     "output_type": "stream",
     "text": [
      "Processing page 2105: : 0it [00:00, ?it/s]\n"
     ]
    },
    {
     "name": "stdout",
     "output_type": "stream",
     "text": [
      "Can't get connection to https://ivie.vn/cong-dong?page=2104! Try again in 3 seconds.\n"
     ]
    },
    {
     "name": "stderr",
     "output_type": "stream",
     "text": [
      "Processing page 2106: : 0it [00:00, ?it/s]\n",
      "Processing page 2107: : 0it [00:00, ?it/s]\n"
     ]
    },
    {
     "name": "stdout",
     "output_type": "stream",
     "text": [
      "Can't get connection to https://ivie.vn/cong-dong?page=2103! Try again in 3 seconds.\n",
      "Can't get connection to https://ivie.vn/cong-dong?page=2104! Try again in 3 seconds.\n",
      "Can't get connection to https://ivie.vn/cong-dong?page=2099! Try again in 3 seconds.\n"
     ]
    },
    {
     "name": "stderr",
     "output_type": "stream",
     "text": [
      "Processing page 2109: : 0it [00:00, ?it/s]\n"
     ]
    },
    {
     "name": "stdout",
     "output_type": "stream",
     "text": [
      "Can't get connection to https://ivie.vn/cong-dong?page=2108! Try again in 3 seconds.\n",
      "Can't get connection to https://ivie.vn/cong-dong?page=2103! Try again in 3 seconds.\n"
     ]
    },
    {
     "name": "stderr",
     "output_type": "stream",
     "text": [
      "Processing page 2104: : 0it [00:00, ?it/s]\n",
      "Processing page 2099: : 0it [00:00, ?it/s]\n",
      "Processing page 2110: : 0it [00:00, ?it/s]\n"
     ]
    },
    {
     "name": "stdout",
     "output_type": "stream",
     "text": [
      "Can't get connection to https://ivie.vn/cong-dong?page=2108! Try again in 3 seconds.\n",
      "Can't get connection to https://ivie.vn/cong-dong?page=2111! Try again in 3 seconds.\n"
     ]
    },
    {
     "name": "stderr",
     "output_type": "stream",
     "text": [
      "Processing page 2103: : 0it [00:00, ?it/s]\n",
      "Processing page 2112: : 0it [00:00, ?it/s]\n"
     ]
    },
    {
     "name": "stdout",
     "output_type": "stream",
     "text": [
      "Can't get connection to https://ivie.vn/cong-dong?page=2113! Try again in 3 seconds.\n"
     ]
    },
    {
     "name": "stderr",
     "output_type": "stream",
     "text": [
      "Processing page 2108: : 0it [00:00, ?it/s]\n"
     ]
    },
    {
     "name": "stdout",
     "output_type": "stream",
     "text": [
      "Can't get connection to https://ivie.vn/cong-dong?page=2111! Try again in 3 seconds.\n",
      "Can't get connection to https://ivie.vn/cong-dong?page=2115! Try again in 3 seconds.\n",
      "Can't get connection to https://ivie.vn/cong-dong?page=2114! Try again in 3 seconds.\n"
     ]
    },
    {
     "name": "stderr",
     "output_type": "stream",
     "text": [
      "Processing page 2113: : 0it [00:00, ?it/s]\n"
     ]
    },
    {
     "name": "stdout",
     "output_type": "stream",
     "text": [
      "Can't get connection to https://ivie.vn/cong-dong?page=2116! Try again in 3 seconds.\n"
     ]
    },
    {
     "name": "stderr",
     "output_type": "stream",
     "text": [
      "Processing page 2111: : 0it [00:00, ?it/s]\n",
      "Processing page 2115: : 0it [00:00, ?it/s]\n"
     ]
    },
    {
     "name": "stdout",
     "output_type": "stream",
     "text": [
      "Can't get connection to https://ivie.vn/cong-dong?page=2117! Try again in 3 seconds.\n"
     ]
    },
    {
     "name": "stderr",
     "output_type": "stream",
     "text": [
      "Processing page 2114: : 0it [00:00, ?it/s]\n",
      "Processing page 2118: : 0it [00:00, ?it/s]\n",
      "Processing page 2116: : 0it [00:00, ?it/s]\n"
     ]
    },
    {
     "name": "stdout",
     "output_type": "stream",
     "text": [
      "Can't get connection to https://ivie.vn/cong-dong?page=2119! Try again in 3 seconds.\n",
      "Can't get connection to https://ivie.vn/cong-dong?page=2120! Try again in 3 seconds.\n"
     ]
    },
    {
     "name": "stderr",
     "output_type": "stream",
     "text": [
      "Processing page 2121: : 0it [00:00, ?it/s]\n"
     ]
    },
    {
     "name": "stdout",
     "output_type": "stream",
     "text": [
      "Can't get connection to https://ivie.vn/cong-dong?page=2117! Try again in 3 seconds.\n",
      "Can't get connection to https://ivie.vn/cong-dong?page=2122! Try again in 3 seconds.\n",
      "Can't get connection to https://ivie.vn/cong-dong?page=2119! Try again in 3 seconds.\n",
      "Can't get connection to https://ivie.vn/cong-dong?page=2123! Try again in 3 seconds.\n"
     ]
    },
    {
     "name": "stderr",
     "output_type": "stream",
     "text": [
      "Processing page 2120: : 0it [00:00, ?it/s]\n",
      "Processing page 2122: : 0it [00:00, ?it/s]\n"
     ]
    },
    {
     "name": "stdout",
     "output_type": "stream",
     "text": [
      "Can't get connection to https://ivie.vn/cong-dong?page=2117! Try again in 3 seconds.\n"
     ]
    },
    {
     "name": "stderr",
     "output_type": "stream",
     "text": [
      "Processing page 2124: : 0it [00:00, ?it/s]\n"
     ]
    },
    {
     "name": "stdout",
     "output_type": "stream",
     "text": [
      "Can't get connection to https://ivie.vn/cong-dong?page=2119! Try again in 3 seconds.\n"
     ]
    },
    {
     "name": "stderr",
     "output_type": "stream",
     "text": [
      "Processing page 2123: : 0it [00:00, ?it/s]\n",
      "Processing page 2125: : 0it [00:00, ?it/s]\n"
     ]
    },
    {
     "name": "stdout",
     "output_type": "stream",
     "text": [
      "Can't get connection to https://ivie.vn/cong-dong?page=2126! Try again in 3 seconds.\n",
      "Can't get connection to https://ivie.vn/cong-dong?page=2117! Try again in 3 seconds.\n"
     ]
    },
    {
     "name": "stderr",
     "output_type": "stream",
     "text": [
      "Processing page 2119: : 0it [00:00, ?it/s]\n",
      "Processing page 2128: : 0it [00:00, ?it/s]\n"
     ]
    },
    {
     "name": "stdout",
     "output_type": "stream",
     "text": [
      "Can't get connection to https://ivie.vn/cong-dong?page=2127! Try again in 3 seconds.\n",
      "Can't get connection to https://ivie.vn/cong-dong?page=2126! Try again in 3 seconds.\n"
     ]
    },
    {
     "name": "stderr",
     "output_type": "stream",
     "text": [
      "Processing page 2117: : 0it [00:00, ?it/s]\n"
     ]
    },
    {
     "name": "stdout",
     "output_type": "stream",
     "text": [
      "Can't get connection to https://ivie.vn/cong-dong?page=2130! Try again in 3 seconds.\n"
     ]
    },
    {
     "name": "stderr",
     "output_type": "stream",
     "text": [
      "Processing page 2129: : 0it [00:00, ?it/s]\n",
      "Processing page 2127: : 0it [00:00, ?it/s]\n",
      "Processing page 2131: : 0it [00:00, ?it/s]\n",
      "Processing page 2126: : 0it [00:00, ?it/s]\n"
     ]
    },
    {
     "name": "stdout",
     "output_type": "stream",
     "text": [
      "Can't get connection to https://ivie.vn/cong-dong?page=2130! Try again in 3 seconds.\n"
     ]
    },
    {
     "name": "stderr",
     "output_type": "stream",
     "text": [
      "Processing page 2133: : 0it [00:00, ?it/s]\n"
     ]
    },
    {
     "name": "stdout",
     "output_type": "stream",
     "text": [
      "Can't get connection to https://ivie.vn/cong-dong?page=2132! Try again in 3 seconds.\n",
      "Can't get connection to https://ivie.vn/cong-dong?page=2134! Try again in 3 seconds.\n"
     ]
    },
    {
     "name": "stderr",
     "output_type": "stream",
     "text": [
      "Processing page 2135: : 0it [00:00, ?it/s]\n",
      "Processing page 2136: : 0it [00:00, ?it/s]\n"
     ]
    },
    {
     "name": "stdout",
     "output_type": "stream",
     "text": [
      "Can't get connection to https://ivie.vn/cong-dong?page=2132! Try again in 3 seconds.\n",
      "Can't get connection to https://ivie.vn/cong-dong?page=2130! Try again in 3 seconds.\n",
      "Can't get connection to https://ivie.vn/cong-dong?page=2138! Try again in 3 seconds.\n",
      "Can't get connection to https://ivie.vn/cong-dong?page=2137! Try again in 3 seconds.\n",
      "Can't get connection to https://ivie.vn/cong-dong?page=2134! Try again in 3 seconds.\n",
      "Can't get connection to https://ivie.vn/cong-dong?page=2132! Try again in 3 seconds.\n"
     ]
    },
    {
     "name": "stderr",
     "output_type": "stream",
     "text": [
      "Processing page 2130: : 0it [00:00, ?it/s]\n",
      "Processing page 2134: : 0it [00:00, ?it/s]\n",
      "Processing page 2138: : 0it [00:00, ?it/s]\n"
     ]
    },
    {
     "name": "stdout",
     "output_type": "stream",
     "text": [
      "Can't get connection to https://ivie.vn/cong-dong?page=2137! Try again in 3 seconds.\n",
      "Can't get connection to https://ivie.vn/cong-dong?page=2132! Try again in 3 seconds.\n",
      "Can't get connection to https://ivie.vn/cong-dong?page=2140! Try again in 3 seconds.\n",
      "Can't get connection to https://ivie.vn/cong-dong?page=2141! Try again in 3 seconds.\n"
     ]
    },
    {
     "name": "stderr",
     "output_type": "stream",
     "text": [
      "Processing page 2139: : 0it [00:00, ?it/s]\n",
      "Processing page 2137: : 0it [00:00, ?it/s]\n"
     ]
    },
    {
     "name": "stdout",
     "output_type": "stream",
     "text": [
      "Can't get connection to https://ivie.vn/cong-dong?page=2132! Try again in 3 seconds.\n"
     ]
    },
    {
     "name": "stderr",
     "output_type": "stream",
     "text": [
      "Processing page 2142: : 0it [00:00, ?it/s]\n",
      "Processing page 2140: : 0it [00:00, ?it/s]\n"
     ]
    },
    {
     "name": "stdout",
     "output_type": "stream",
     "text": [
      "Can't get connection to https://ivie.vn/cong-dong?page=2143! Try again in 3 seconds.\n"
     ]
    },
    {
     "name": "stderr",
     "output_type": "stream",
     "text": [
      "Processing page 2132: : 0it [00:00, ?it/s]\n",
      "Processing page 2145: : 0it [00:00, ?it/s]\n",
      "Processing page 2141: : 0it [00:00, ?it/s]\n"
     ]
    },
    {
     "name": "stdout",
     "output_type": "stream",
     "text": [
      "Can't get connection to https://ivie.vn/cong-dong?page=2144! Try again in 3 seconds.\n"
     ]
    },
    {
     "name": "stderr",
     "output_type": "stream",
     "text": [
      "Processing page 2143: : 0it [00:00, ?it/s]\n",
      "Processing page 2146: : 0it [00:00, ?it/s]\n",
      "Processing page 2147: : 0it [00:00, ?it/s]\n",
      "Processing page 2148: : 0it [00:00, ?it/s]\n"
     ]
    },
    {
     "name": "stdout",
     "output_type": "stream",
     "text": [
      "Can't get connection to https://ivie.vn/cong-dong?page=2149! Try again in 3 seconds.\n",
      "Can't get connection to https://ivie.vn/cong-dong?page=2150! Try again in 3 seconds.\n"
     ]
    },
    {
     "name": "stderr",
     "output_type": "stream",
     "text": [
      "Processing page 2151: : 0it [00:00, ?it/s]\n"
     ]
    },
    {
     "name": "stdout",
     "output_type": "stream",
     "text": [
      "Can't get connection to https://ivie.vn/cong-dong?page=2152! Try again in 3 seconds.\n",
      "Can't get connection to https://ivie.vn/cong-dong?page=2144! Try again in 3 seconds.\n"
     ]
    },
    {
     "name": "stderr",
     "output_type": "stream",
     "text": [
      "Processing page 2149: : 0it [00:00, ?it/s]\n"
     ]
    },
    {
     "name": "stdout",
     "output_type": "stream",
     "text": [
      "Can't get connection to https://ivie.vn/cong-dong?page=2153! Try again in 3 seconds.\n"
     ]
    },
    {
     "name": "stderr",
     "output_type": "stream",
     "text": [
      "Processing page 2150: : 0it [00:00, ?it/s]\n",
      "Processing page 2152: : 0it [00:00, ?it/s]\n",
      "Processing page 2154: : 0it [00:00, ?it/s]\n",
      "Processing page 2155: : 0it [00:00, ?it/s]\n"
     ]
    },
    {
     "name": "stdout",
     "output_type": "stream",
     "text": [
      "Can't get connection to https://ivie.vn/cong-dong?page=2144! Try again in 3 seconds.\n",
      "Can't get connection to https://ivie.vn/cong-dong?page=2156! Try again in 3 seconds.\n"
     ]
    },
    {
     "name": "stderr",
     "output_type": "stream",
     "text": [
      "Processing page 2153: : 0it [00:00, ?it/s]\n"
     ]
    },
    {
     "name": "stdout",
     "output_type": "stream",
     "text": [
      "Can't get connection to https://ivie.vn/cong-dong?page=2157! Try again in 3 seconds.\n"
     ]
    },
    {
     "name": "stderr",
     "output_type": "stream",
     "text": [
      "Processing page 2158: : 0it [00:00, ?it/s]\n",
      "Processing page 2144: : 0it [00:00, ?it/s]\n",
      "Processing page 2156: : 0it [00:00, ?it/s]\n",
      "Processing page 2157: : 0it [00:00, ?it/s]\n",
      "Processing page 2159: : 0it [00:00, ?it/s]\n"
     ]
    },
    {
     "name": "stdout",
     "output_type": "stream",
     "text": [
      "Can't get connection to https://ivie.vn/cong-dong?page=2160! Try again in 3 seconds.\n"
     ]
    },
    {
     "name": "stderr",
     "output_type": "stream",
     "text": [
      "Processing page 2161: : 0it [00:00, ?it/s]\n",
      "Processing page 2162: : 0it [00:00, ?it/s]\n"
     ]
    },
    {
     "name": "stdout",
     "output_type": "stream",
     "text": [
      "Can't get connection to https://ivie.vn/cong-dong?page=2164! Try again in 3 seconds.\n"
     ]
    },
    {
     "name": "stderr",
     "output_type": "stream",
     "text": [
      "Processing page 2163: : 0it [00:00, ?it/s]\n"
     ]
    },
    {
     "name": "stdout",
     "output_type": "stream",
     "text": [
      "Can't get connection to https://ivie.vn/cong-dong?page=2160! Try again in 3 seconds.\n"
     ]
    },
    {
     "name": "stderr",
     "output_type": "stream",
     "text": [
      "Processing page 2165: : 0it [00:00, ?it/s]\n",
      "Processing page 2166: : 0it [00:00, ?it/s]\n"
     ]
    },
    {
     "name": "stdout",
     "output_type": "stream",
     "text": [
      "Can't get connection to https://ivie.vn/cong-dong?page=2167! Try again in 3 seconds.\n"
     ]
    },
    {
     "name": "stderr",
     "output_type": "stream",
     "text": [
      "Processing page 2164: : 0it [00:00, ?it/s]\n",
      "Processing page 2168: : 0it [00:00, ?it/s]\n",
      "Processing page 2169: : 0it [00:00, ?it/s]\n",
      "Processing page 2160: : 0it [00:00, ?it/s]\n"
     ]
    },
    {
     "name": "stdout",
     "output_type": "stream",
     "text": [
      "Can't get connection to https://ivie.vn/cong-dong?page=2167! Try again in 3 seconds.\n",
      "Can't get connection to https://ivie.vn/cong-dong?page=2171! Try again in 3 seconds.\n"
     ]
    },
    {
     "name": "stderr",
     "output_type": "stream",
     "text": [
      "Processing page 2170: : 0it [00:00, ?it/s]\n",
      "Processing page 2173: : 0it [00:00, ?it/s]\n"
     ]
    },
    {
     "name": "stdout",
     "output_type": "stream",
     "text": [
      "Can't get connection to https://ivie.vn/cong-dong?page=2172! Try again in 3 seconds.\n"
     ]
    },
    {
     "name": "stderr",
     "output_type": "stream",
     "text": [
      "Processing page 2174: : 0it [00:00, ?it/s]\n",
      "Processing page 2171: : 0it [00:00, ?it/s]\n",
      "Processing page 2175: : 0it [00:00, ?it/s]\n"
     ]
    },
    {
     "name": "stdout",
     "output_type": "stream",
     "text": [
      "Can't get connection to https://ivie.vn/cong-dong?page=2167! Try again in 3 seconds.\n",
      "Can't get connection to https://ivie.vn/cong-dong?page=2172! Try again in 3 seconds.\n"
     ]
    },
    {
     "name": "stderr",
     "output_type": "stream",
     "text": [
      "Processing page 2176: : 0it [00:00, ?it/s]\n"
     ]
    },
    {
     "name": "stdout",
     "output_type": "stream",
     "text": [
      "Can't get connection to https://ivie.vn/cong-dong?page=2178! Try again in 3 seconds.\n"
     ]
    },
    {
     "name": "stderr",
     "output_type": "stream",
     "text": [
      "Processing page 2167: : 0it [00:00, ?it/s]\n"
     ]
    },
    {
     "name": "stdout",
     "output_type": "stream",
     "text": [
      "Can't get connection to https://ivie.vn/cong-dong?page=2177! Try again in 3 seconds.\n",
      "Can't get connection to https://ivie.vn/cong-dong?page=2179! Try again in 3 seconds.\n"
     ]
    },
    {
     "name": "stderr",
     "output_type": "stream",
     "text": [
      "Processing page 2180: : 0it [00:00, ?it/s]\n"
     ]
    },
    {
     "name": "stdout",
     "output_type": "stream",
     "text": [
      "Can't get connection to https://ivie.vn/cong-dong?page=2172! Try again in 3 seconds.\n"
     ]
    },
    {
     "name": "stderr",
     "output_type": "stream",
     "text": [
      "Processing page 2178: : 0it [00:00, ?it/s]\n"
     ]
    },
    {
     "name": "stdout",
     "output_type": "stream",
     "text": [
      "Can't get connection to https://ivie.vn/cong-dong?page=2177! Try again in 3 seconds.\n",
      "Can't get connection to https://ivie.vn/cong-dong?page=2179! Try again in 3 seconds.\n",
      "Can't get connection to https://ivie.vn/cong-dong?page=2181! Try again in 3 seconds.\n",
      "Can't get connection to https://ivie.vn/cong-dong?page=2177! Try again in 3 seconds.\n",
      "Can't get connection to https://ivie.vn/cong-dong?page=2182! Try again in 3 seconds.\n",
      "Can't get connection to https://ivie.vn/cong-dong?page=2172! Try again in 3 seconds.\n"
     ]
    },
    {
     "name": "stderr",
     "output_type": "stream",
     "text": [
      "Processing page 2179: : 0it [00:00, ?it/s]\n"
     ]
    },
    {
     "name": "stdout",
     "output_type": "stream",
     "text": [
      "Can't get connection to https://ivie.vn/cong-dong?page=2181! Try again in 3 seconds.\n"
     ]
    },
    {
     "name": "stderr",
     "output_type": "stream",
     "text": [
      "Processing page 2172: : 0it [00:00, ?it/s]\n",
      "Processing page 2182: : 0it [00:00, ?it/s]\n",
      "Processing page 2177: : 0it [00:00, ?it/s]\n",
      "Processing page 2183: : 0it [00:00, ?it/s]\n",
      "Processing page 2181: : 0it [00:00, ?it/s]\n",
      "Processing page 2184: : 0it [00:00, ?it/s]\n",
      "Processing page 2185: : 0it [00:00, ?it/s]\n",
      "Processing page 2187: : 0it [00:00, ?it/s]\n"
     ]
    },
    {
     "name": "stdout",
     "output_type": "stream",
     "text": [
      "Can't get connection to https://ivie.vn/cong-dong?page=2186! Try again in 3 seconds.\n",
      "Can't get connection to https://ivie.vn/cong-dong?page=2191! Try again in 3 seconds.\n",
      "Can't get connection to https://ivie.vn/cong-dong?page=2188! Try again in 3 seconds.\n"
     ]
    },
    {
     "name": "stderr",
     "output_type": "stream",
     "text": [
      "Processing page 2190: : 0it [00:00, ?it/s]\n"
     ]
    },
    {
     "name": "stdout",
     "output_type": "stream",
     "text": [
      "Can't get connection to https://ivie.vn/cong-dong?page=2189! Try again in 3 seconds.\n",
      "Can't get connection to https://ivie.vn/cong-dong?page=2186! Try again in 3 seconds.\n",
      "Can't get connection to https://ivie.vn/cong-dong?page=2192! Try again in 3 seconds.\n"
     ]
    },
    {
     "name": "stderr",
     "output_type": "stream",
     "text": [
      "Processing page 2189: : 0it [00:00, ?it/s]\n",
      "Processing page 2191: : 0it [00:00, ?it/s]\n",
      "Processing page 2186: : 0it [00:00, ?it/s]\n",
      "Processing page 2188: : 0it [00:00, ?it/s]\n",
      "Processing page 2193: : 0it [00:00, ?it/s]\n",
      "Processing page 2192: : 0it [00:00, ?it/s]\n",
      "Processing page 2194: : 0it [00:00, ?it/s]\n"
     ]
    },
    {
     "name": "stdout",
     "output_type": "stream",
     "text": [
      "Can't get connection to https://ivie.vn/cong-dong?page=2196! Try again in 3 seconds.\n"
     ]
    },
    {
     "name": "stderr",
     "output_type": "stream",
     "text": [
      "Processing page 2195: : 0it [00:00, ?it/s]\n",
      "Processing page 2197: : 0it [00:00, ?it/s]\n",
      "Processing page 2198: : 0it [00:00, ?it/s]\n",
      "Processing page 2199: : 0it [00:00, ?it/s]\n"
     ]
    },
    {
     "name": "stdout",
     "output_type": "stream",
     "text": [
      "Can't get connection to https://ivie.vn/cong-dong?page=2200! Try again in 3 seconds.\n",
      "Can't get connection to https://ivie.vn/cong-dong?page=2196! Try again in 3 seconds.\n",
      "Can't get connection to https://ivie.vn/cong-dong?page=2201! Try again in 3 seconds.\n"
     ]
    },
    {
     "name": "stderr",
     "output_type": "stream",
     "text": [
      "Processing page 2202: : 0it [00:00, ?it/s]\n",
      "Processing page 2203: : 0it [00:00, ?it/s]\n"
     ]
    },
    {
     "name": "stdout",
     "output_type": "stream",
     "text": [
      "Can't get connection to https://ivie.vn/cong-dong?page=2200! Try again in 3 seconds.\n",
      "Can't get connection to https://ivie.vn/cong-dong?page=2204! Try again in 3 seconds.\n",
      "Can't get connection to https://ivie.vn/cong-dong?page=2205! Try again in 3 seconds.\n"
     ]
    },
    {
     "name": "stderr",
     "output_type": "stream",
     "text": [
      "Processing page 2196: : 0it [00:00, ?it/s]\n"
     ]
    },
    {
     "name": "stdout",
     "output_type": "stream",
     "text": [
      "Can't get connection to https://ivie.vn/cong-dong?page=2201! Try again in 3 seconds.\n"
     ]
    },
    {
     "name": "stderr",
     "output_type": "stream",
     "text": [
      "Processing page 2200: : 0it [00:00, ?it/s]\n"
     ]
    },
    {
     "name": "stdout",
     "output_type": "stream",
     "text": [
      "Can't get connection to https://ivie.vn/cong-dong?page=2204! Try again in 3 seconds.\n"
     ]
    },
    {
     "name": "stderr",
     "output_type": "stream",
     "text": [
      "Processing page 2206: : 0it [00:00, ?it/s]\n",
      "Processing page 2201: : 0it [00:00, ?it/s]\n",
      "Processing page 2207: : 0it [00:00, ?it/s]\n",
      "Processing page 2204: : 0it [00:00, ?it/s]\n",
      "Processing page 2208: : 0it [00:00, ?it/s]\n"
     ]
    },
    {
     "name": "stdout",
     "output_type": "stream",
     "text": [
      "Can't get connection to https://ivie.vn/cong-dong?page=2210! Try again in 3 seconds.\n"
     ]
    },
    {
     "name": "stderr",
     "output_type": "stream",
     "text": [
      "Processing page 2209: : 0it [00:00, ?it/s]\n",
      "Processing page 2205: : 0it [00:00, ?it/s]\n",
      "Processing page 2211: : 0it [00:00, ?it/s]\n"
     ]
    },
    {
     "name": "stdout",
     "output_type": "stream",
     "text": [
      "Can't get connection to https://ivie.vn/cong-dong?page=2212! Try again in 3 seconds.\n",
      "Can't get connection to https://ivie.vn/cong-dong?page=2213! Try again in 3 seconds.\n"
     ]
    },
    {
     "name": "stderr",
     "output_type": "stream",
     "text": [
      "Processing page 2214: : 0it [00:00, ?it/s]\n",
      "Processing page 2210: : 0it [00:00, ?it/s]\n",
      "Processing page 2215: : 0it [00:00, ?it/s]\n"
     ]
    },
    {
     "name": "stdout",
     "output_type": "stream",
     "text": [
      "Can't get connection to https://ivie.vn/cong-dong?page=2212! Try again in 3 seconds.\n"
     ]
    },
    {
     "name": "stderr",
     "output_type": "stream",
     "text": [
      "Processing page 2216: : 0it [00:00, ?it/s]\n",
      "Processing page 2213: : 0it [00:00, ?it/s]\n",
      "Processing page 2218: : 0it [00:00, ?it/s]\n",
      "Processing page 2217: : 0it [00:00, ?it/s]\n",
      "Processing page 2219: : 0it [00:00, ?it/s]\n"
     ]
    },
    {
     "name": "stdout",
     "output_type": "stream",
     "text": [
      "Can't get connection to https://ivie.vn/cong-dong?page=2221! Try again in 3 seconds.\n"
     ]
    },
    {
     "name": "stderr",
     "output_type": "stream",
     "text": [
      "Processing page 2222: : 0it [00:00, ?it/s]\n"
     ]
    },
    {
     "name": "stdout",
     "output_type": "stream",
     "text": [
      "Can't get connection to https://ivie.vn/cong-dong?page=2212! Try again in 3 seconds.\n",
      "Can't get connection to https://ivie.vn/cong-dong?page=2220! Try again in 3 seconds.\n",
      "Can't get connection to https://ivie.vn/cong-dong?page=2223! Try again in 3 seconds.\n",
      "Can't get connection to https://ivie.vn/cong-dong?page=2224! Try again in 3 seconds.\n"
     ]
    },
    {
     "name": "stderr",
     "output_type": "stream",
     "text": [
      "Processing page 2221: : 0it [00:00, ?it/s]\n",
      "Processing page 2212: : 0it [00:00, ?it/s]\n",
      "Processing page 2220: : 0it [00:00, ?it/s]\n",
      "Processing page 2223: : 0it [00:00, ?it/s]\n",
      "Processing page 2224: : 0it [00:00, ?it/s]\n",
      "Processing page 2225: : 0it [00:00, ?it/s]\n",
      "Processing page 2226: : 0it [00:00, ?it/s]\n",
      "Processing page 2227: : 0it [00:00, ?it/s]\n",
      "Processing page 2228: : 0it [00:00, ?it/s]\n",
      "Processing page 2229: : 0it [00:00, ?it/s]\n"
     ]
    },
    {
     "name": "stdout",
     "output_type": "stream",
     "text": [
      "Can't get connection to https://ivie.vn/cong-dong?page=2231! Try again in 3 seconds.\n",
      "Can't get connection to https://ivie.vn/cong-dong?page=2232! Try again in 3 seconds.\n",
      "Can't get connection to https://ivie.vn/cong-dong?page=2230! Try again in 3 seconds.\n"
     ]
    },
    {
     "name": "stderr",
     "output_type": "stream",
     "text": [
      "Processing page 2234: : 0it [00:00, ?it/s]\n"
     ]
    },
    {
     "name": "stdout",
     "output_type": "stream",
     "text": [
      "Can't get connection to https://ivie.vn/cong-dong?page=2233! Try again in 3 seconds.\n"
     ]
    },
    {
     "name": "stderr",
     "output_type": "stream",
     "text": [
      "Processing page 2231: : 0it [00:00, ?it/s]\n",
      "Processing page 2232: : 0it [00:00, ?it/s]\n"
     ]
    },
    {
     "name": "stdout",
     "output_type": "stream",
     "text": [
      "Can't get connection to https://ivie.vn/cong-dong?page=2235! Try again in 3 seconds.\n",
      "Can't get connection to https://ivie.vn/cong-dong?page=2230! Try again in 3 seconds.\n"
     ]
    },
    {
     "name": "stderr",
     "output_type": "stream",
     "text": [
      "Processing page 2233: : 0it [00:00, ?it/s]\n"
     ]
    },
    {
     "name": "stdout",
     "output_type": "stream",
     "text": [
      "Can't get connection to https://ivie.vn/cong-dong?page=2236! Try again in 3 seconds.\n"
     ]
    },
    {
     "name": "stderr",
     "output_type": "stream",
     "text": [
      "Processing page 2237: : 0it [00:00, ?it/s]\n",
      "Processing page 2230: : 0it [00:00, ?it/s]\n"
     ]
    },
    {
     "name": "stdout",
     "output_type": "stream",
     "text": [
      "Can't get connection to https://ivie.vn/cong-dong?page=2238! Try again in 3 seconds.\n",
      "Can't get connection to https://ivie.vn/cong-dong?page=2235! Try again in 3 seconds.\n",
      "Can't get connection to https://ivie.vn/cong-dong?page=2236! Try again in 3 seconds.\n"
     ]
    },
    {
     "name": "stderr",
     "output_type": "stream",
     "text": [
      "Processing page 2240: : 0it [00:00, ?it/s]\n"
     ]
    },
    {
     "name": "stdout",
     "output_type": "stream",
     "text": [
      "Can't get connection to https://ivie.vn/cong-dong?page=2239! Try again in 3 seconds.\n"
     ]
    },
    {
     "name": "stderr",
     "output_type": "stream",
     "text": [
      "Processing page 2238: : 0it [00:00, ?it/s]\n"
     ]
    },
    {
     "name": "stdout",
     "output_type": "stream",
     "text": [
      "Can't get connection to https://ivie.vn/cong-dong?page=2241! Try again in 3 seconds.\n",
      "Can't get connection to https://ivie.vn/cong-dong?page=2236! Try again in 3 seconds.\n"
     ]
    },
    {
     "name": "stderr",
     "output_type": "stream",
     "text": [
      "Processing page 2239: : 0it [00:00, ?it/s]\n",
      "Processing page 2235: : 0it [00:00, ?it/s]\n",
      "Processing page 2242: : 0it [00:00, ?it/s]\n"
     ]
    },
    {
     "name": "stdout",
     "output_type": "stream",
     "text": [
      "Can't get connection to https://ivie.vn/cong-dong?page=2241! Try again in 3 seconds.\n"
     ]
    },
    {
     "name": "stderr",
     "output_type": "stream",
     "text": [
      "Processing page 2243: : 0it [00:00, ?it/s]\n",
      "Processing page 2244: : 0it [00:00, ?it/s]\n",
      "Processing page 2236: : 0it [00:00, ?it/s]\n",
      "Processing page 2245: : 0it [00:00, ?it/s]\n",
      "Processing page 2246: : 0it [00:00, ?it/s]\n",
      "Processing page 2247: : 0it [00:00, ?it/s]\n"
     ]
    },
    {
     "name": "stdout",
     "output_type": "stream",
     "text": [
      "Can't get connection to https://ivie.vn/cong-dong?page=2241! Try again in 3 seconds.\n"
     ]
    },
    {
     "name": "stderr",
     "output_type": "stream",
     "text": [
      "Processing page 2248: : 0it [00:00, ?it/s]\n",
      "Processing page 2249: : 0it [00:00, ?it/s]\n"
     ]
    },
    {
     "name": "stdout",
     "output_type": "stream",
     "text": [
      "Can't get connection to https://ivie.vn/cong-dong?page=2250! Try again in 3 seconds.\n",
      "Can't get connection to https://ivie.vn/cong-dong?page=2251! Try again in 3 seconds.\n"
     ]
    },
    {
     "name": "stderr",
     "output_type": "stream",
     "text": [
      "Processing page 2252: : 0it [00:00, ?it/s]\n"
     ]
    },
    {
     "name": "stdout",
     "output_type": "stream",
     "text": [
      "Can't get connection to https://ivie.vn/cong-dong?page=2253! Try again in 3 seconds.\n",
      "Can't get connection to https://ivie.vn/cong-dong?page=2241! Try again in 3 seconds.\n"
     ]
    },
    {
     "name": "stderr",
     "output_type": "stream",
     "text": [
      "Processing page 2250: : 0it [00:00, ?it/s]\n"
     ]
    },
    {
     "name": "stdout",
     "output_type": "stream",
     "text": [
      "Can't get connection to https://ivie.vn/cong-dong?page=2251! Try again in 3 seconds.\n",
      "Can't get connection to https://ivie.vn/cong-dong?page=2241! Try again in 3 seconds.\n"
     ]
    },
    {
     "name": "stderr",
     "output_type": "stream",
     "text": [
      "Processing page 2253: : 0it [00:00, ?it/s]\n"
     ]
    },
    {
     "name": "stdout",
     "output_type": "stream",
     "text": [
      "Can't get connection to https://ivie.vn/cong-dong?page=2255! Try again in 3 seconds.\n",
      "Can't get connection to https://ivie.vn/cong-dong?page=2254! Try again in 3 seconds.\n"
     ]
    },
    {
     "name": "stderr",
     "output_type": "stream",
     "text": [
      "Processing page 2251: : 0it [00:00, ?it/s]\n"
     ]
    },
    {
     "name": "stdout",
     "output_type": "stream",
     "text": [
      "Can't get connection to https://ivie.vn/cong-dong?page=2256! Try again in 3 seconds.\n",
      "Can't get connection to https://ivie.vn/cong-dong?page=2241! Try again in 3 seconds.\n",
      "Can't get connection to https://ivie.vn/cong-dong?page=2255! Try again in 3 seconds.\n"
     ]
    },
    {
     "name": "stderr",
     "output_type": "stream",
     "text": [
      "Processing page 2257: : 0it [00:00, ?it/s]\n",
      "Processing page 2254: : 0it [00:00, ?it/s]\n",
      "Processing page 2256: : 0it [00:00, ?it/s]\n",
      "Processing page 2241: : 0it [00:00, ?it/s]\n"
     ]
    },
    {
     "name": "stdout",
     "output_type": "stream",
     "text": [
      "Can't get connection to https://ivie.vn/cong-dong?page=2255! Try again in 3 seconds.\n",
      "Can't get connection to https://ivie.vn/cong-dong?page=2260! Try again in 3 seconds.\n",
      "Can't get connection to https://ivie.vn/cong-dong?page=2258! Try again in 3 seconds.\n",
      "Can't get connection to https://ivie.vn/cong-dong?page=2259! Try again in 3 seconds.\n"
     ]
    },
    {
     "name": "stderr",
     "output_type": "stream",
     "text": [
      "Processing page 2261: : 0it [00:00, ?it/s]\n"
     ]
    },
    {
     "name": "stdout",
     "output_type": "stream",
     "text": [
      "Can't get connection to https://ivie.vn/cong-dong?page=2255! Try again in 3 seconds.\n",
      "Can't get connection to https://ivie.vn/cong-dong?page=2258! Try again in 3 seconds.\n",
      "Can't get connection to https://ivie.vn/cong-dong?page=2262! Try again in 3 seconds.\n"
     ]
    },
    {
     "name": "stderr",
     "output_type": "stream",
     "text": [
      "Processing page 2260: : 0it [00:00, ?it/s]\n",
      "Processing page 2259: : 0it [00:00, ?it/s]\n",
      "Processing page 2263: : 0it [00:00, ?it/s]\n"
     ]
    },
    {
     "name": "stdout",
     "output_type": "stream",
     "text": [
      "Can't get connection to https://ivie.vn/cong-dong?page=2255! Try again in 3 seconds.\n",
      "Can't get connection to https://ivie.vn/cong-dong?page=2258! Try again in 3 seconds.\n",
      "Can't get connection to https://ivie.vn/cong-dong?page=2262! Try again in 3 seconds.\n"
     ]
    },
    {
     "name": "stderr",
     "output_type": "stream",
     "text": [
      "Processing page 2264: : 0it [00:00, ?it/s]\n",
      "Processing page 2265: : 0it [00:00, ?it/s]\n"
     ]
    },
    {
     "name": "stdout",
     "output_type": "stream",
     "text": [
      "Can't get connection to https://ivie.vn/cong-dong?page=2255! Try again in 3 seconds.\n",
      "Can't get connection to https://ivie.vn/cong-dong?page=2266! Try again in 3 seconds.\n"
     ]
    },
    {
     "name": "stderr",
     "output_type": "stream",
     "text": [
      "Processing page 2262: : 0it [00:00, ?it/s]\n"
     ]
    },
    {
     "name": "stdout",
     "output_type": "stream",
     "text": [
      "Can't get connection to https://ivie.vn/cong-dong?page=2258! Try again in 3 seconds.\n"
     ]
    },
    {
     "name": "stderr",
     "output_type": "stream",
     "text": [
      "Processing page 2267: : 0it [00:00, ?it/s]\n"
     ]
    },
    {
     "name": "stdout",
     "output_type": "stream",
     "text": [
      "Can't get connection to https://ivie.vn/cong-dong?page=2268! Try again in 3 seconds.\n",
      "Can't get connection to https://ivie.vn/cong-dong?page=2269! Try again in 3 seconds.\n"
     ]
    },
    {
     "name": "stderr",
     "output_type": "stream",
     "text": [
      "Processing page 2255: : 0it [00:00, ?it/s]\n",
      "Processing page 2266: : 0it [00:00, ?it/s]\n"
     ]
    },
    {
     "name": "stdout",
     "output_type": "stream",
     "text": [
      "Can't get connection to https://ivie.vn/cong-dong?page=2258! Try again in 3 seconds.\n",
      "Can't get connection to https://ivie.vn/cong-dong?page=2268! Try again in 3 seconds.\n"
     ]
    },
    {
     "name": "stderr",
     "output_type": "stream",
     "text": [
      "Processing page 2270: : 0it [00:00, ?it/s]\n",
      "Processing page 2271: : 0it [00:00, ?it/s]\n"
     ]
    },
    {
     "name": "stdout",
     "output_type": "stream",
     "text": [
      "Can't get connection to https://ivie.vn/cong-dong?page=2258! Try again in 3 seconds.\n",
      "Can't get connection to https://ivie.vn/cong-dong?page=2269! Try again in 3 seconds.\n"
     ]
    },
    {
     "name": "stderr",
     "output_type": "stream",
     "text": [
      "Processing page 2272: : 0it [00:00, ?it/s]\n"
     ]
    },
    {
     "name": "stdout",
     "output_type": "stream",
     "text": [
      "Can't get connection to https://ivie.vn/cong-dong?page=2268! Try again in 3 seconds.\n"
     ]
    },
    {
     "name": "stderr",
     "output_type": "stream",
     "text": [
      "Processing page 2273: : 0it [00:00, ?it/s]\n"
     ]
    },
    {
     "name": "stdout",
     "output_type": "stream",
     "text": [
      "Can't get connection to https://ivie.vn/cong-dong?page=2258! Try again in 3 seconds.\n",
      "Can't get connection to https://ivie.vn/cong-dong?page=2274! Try again in 3 seconds.\n"
     ]
    },
    {
     "name": "stderr",
     "output_type": "stream",
     "text": [
      "Processing page 2269: : 0it [00:00, ?it/s]\n"
     ]
    },
    {
     "name": "stdout",
     "output_type": "stream",
     "text": [
      "Can't get connection to https://ivie.vn/cong-dong?page=2268! Try again in 3 seconds.\n"
     ]
    },
    {
     "name": "stderr",
     "output_type": "stream",
     "text": [
      "Processing page 2275: : 0it [00:00, ?it/s]\n",
      "Processing page 2258: : 0it [00:00, ?it/s]\n",
      "Processing page 2276: : 0it [00:00, ?it/s]\n",
      "Processing page 2274: : 0it [00:00, ?it/s]\n",
      "Processing page 2268: : 0it [00:00, ?it/s]\n",
      "Processing page 2278: : 0it [00:00, ?it/s]\n"
     ]
    },
    {
     "name": "stdout",
     "output_type": "stream",
     "text": [
      "Can't get connection to https://ivie.vn/cong-dong?page=2279! Try again in 3 seconds.\n",
      "Can't get connection to https://ivie.vn/cong-dong?page=2277! Try again in 3 seconds.\n",
      "Can't get connection to https://ivie.vn/cong-dong?page=2280! Try again in 3 seconds.\n"
     ]
    },
    {
     "name": "stderr",
     "output_type": "stream",
     "text": [
      "Processing page 2282: : 0it [00:00, ?it/s]\n",
      "Processing page 2281: : 0it [00:00, ?it/s]\n",
      "Processing page 2277: : 0it [00:00, ?it/s]\n",
      "Processing page 2279: : 0it [00:00, ?it/s]\n",
      "Processing page 2283: : 0it [00:00, ?it/s]\n"
     ]
    },
    {
     "name": "stdout",
     "output_type": "stream",
     "text": [
      "Can't get connection to https://ivie.vn/cong-dong?page=2280! Try again in 3 seconds.\n"
     ]
    },
    {
     "name": "stderr",
     "output_type": "stream",
     "text": [
      "Processing page 2285: : 0it [00:00, ?it/s]\n"
     ]
    },
    {
     "name": "stdout",
     "output_type": "stream",
     "text": [
      "Can't get connection to https://ivie.vn/cong-dong?page=2284! Try again in 3 seconds.\n"
     ]
    },
    {
     "name": "stderr",
     "output_type": "stream",
     "text": [
      "Processing page 2286: : 0it [00:00, ?it/s]\n"
     ]
    },
    {
     "name": "stdout",
     "output_type": "stream",
     "text": [
      "Can't get connection to https://ivie.vn/cong-dong?page=2287! Try again in 3 seconds.\n"
     ]
    },
    {
     "name": "stderr",
     "output_type": "stream",
     "text": [
      "Processing page 2280: : 0it [00:00, ?it/s]\n",
      "Processing page 2288: : 0it [00:00, ?it/s]\n"
     ]
    },
    {
     "name": "stdout",
     "output_type": "stream",
     "text": [
      "Can't get connection to https://ivie.vn/cong-dong?page=2284! Try again in 3 seconds.\n",
      "Can't get connection to https://ivie.vn/cong-dong?page=2289! Try again in 3 seconds.\n",
      "Can't get connection to https://ivie.vn/cong-dong?page=2287! Try again in 3 seconds.\n"
     ]
    },
    {
     "name": "stderr",
     "output_type": "stream",
     "text": [
      "Processing page 2290: : 0it [00:00, ?it/s]\n"
     ]
    },
    {
     "name": "stdout",
     "output_type": "stream",
     "text": [
      "Can't get connection to https://ivie.vn/cong-dong?page=2291! Try again in 3 seconds.\n"
     ]
    },
    {
     "name": "stderr",
     "output_type": "stream",
     "text": [
      "Processing page 2284: : 0it [00:00, ?it/s]\n",
      "Processing page 2292: : 0it [00:00, ?it/s]\n",
      "Processing page 2287: : 0it [00:00, ?it/s]\n",
      "Processing page 2291: : 0it [00:00, ?it/s]\n"
     ]
    },
    {
     "name": "stdout",
     "output_type": "stream",
     "text": [
      "Can't get connection to https://ivie.vn/cong-dong?page=2289! Try again in 3 seconds.\n",
      "Can't get connection to https://ivie.vn/cong-dong?page=2293! Try again in 3 seconds.\n",
      "Can't get connection to https://ivie.vn/cong-dong?page=2294! Try again in 3 seconds.\n"
     ]
    },
    {
     "name": "stderr",
     "output_type": "stream",
     "text": [
      "Processing page 2295: : 0it [00:00, ?it/s]\n",
      "Processing page 2296: : 0it [00:00, ?it/s]\n",
      "Processing page 2289: : 0it [00:00, ?it/s]\n",
      "Processing page 2293: : 0it [00:00, ?it/s]\n"
     ]
    },
    {
     "name": "stdout",
     "output_type": "stream",
     "text": [
      "Can't get connection to https://ivie.vn/cong-dong?page=2294! Try again in 3 seconds.\n",
      "Can't get connection to https://ivie.vn/cong-dong?page=2298! Try again in 3 seconds.\n",
      "Can't get connection to https://ivie.vn/cong-dong?page=2297! Try again in 3 seconds.\n"
     ]
    },
    {
     "name": "stderr",
     "output_type": "stream",
     "text": [
      "Processing page 2299: : 0it [00:00, ?it/s]\n"
     ]
    },
    {
     "name": "stdout",
     "output_type": "stream",
     "text": [
      "Can't get connection to https://ivie.vn/cong-dong?page=2300! Try again in 3 seconds.\n",
      "Can't get connection to https://ivie.vn/cong-dong?page=2294! Try again in 3 seconds.\n",
      "Can't get connection to https://ivie.vn/cong-dong?page=2297! Try again in 3 seconds.\n",
      "Can't get connection to https://ivie.vn/cong-dong?page=2298! Try again in 3 seconds.\n",
      "Can't get connection to https://ivie.vn/cong-dong?page=2301! Try again in 3 seconds.\n"
     ]
    },
    {
     "name": "stderr",
     "output_type": "stream",
     "text": [
      "Processing page 2297: : 0it [00:00, ?it/s]\n",
      "Processing page 2294: : 0it [00:00, ?it/s]\n",
      "Processing page 2301: : 0it [00:00, ?it/s]\n"
     ]
    },
    {
     "name": "stdout",
     "output_type": "stream",
     "text": [
      "Can't get connection to https://ivie.vn/cong-dong?page=2300! Try again in 3 seconds.\n"
     ]
    },
    {
     "name": "stderr",
     "output_type": "stream",
     "text": [
      "Processing page 2302: : 0it [00:00, ?it/s]\n"
     ]
    },
    {
     "name": "stdout",
     "output_type": "stream",
     "text": [
      "Can't get connection to https://ivie.vn/cong-dong?page=2298! Try again in 3 seconds.\n",
      "Can't get connection to https://ivie.vn/cong-dong?page=2304! Try again in 3 seconds.\n",
      "Can't get connection to https://ivie.vn/cong-dong?page=2303! Try again in 3 seconds.\n"
     ]
    },
    {
     "name": "stderr",
     "output_type": "stream",
     "text": [
      "Processing page 2300: : 0it [00:00, ?it/s]\n",
      "Processing page 2305: : 0it [00:00, ?it/s]\n"
     ]
    },
    {
     "name": "stdout",
     "output_type": "stream",
     "text": [
      "Can't get connection to https://ivie.vn/cong-dong?page=2298! Try again in 3 seconds.\n"
     ]
    },
    {
     "name": "stderr",
     "output_type": "stream",
     "text": [
      "Processing page 2303: : 0it [00:00, ?it/s]\n",
      "Processing page 2306: : 0it [00:00, ?it/s]\n",
      "Processing page 2304: : 0it [00:00, ?it/s]\n"
     ]
    },
    {
     "name": "stdout",
     "output_type": "stream",
     "text": [
      "Can't get connection to https://ivie.vn/cong-dong?page=2307! Try again in 3 seconds.\n"
     ]
    },
    {
     "name": "stderr",
     "output_type": "stream",
     "text": [
      "Processing page 2309: : 0it [00:00, ?it/s]\n",
      "Processing page 2298: : 0it [00:00, ?it/s]\n"
     ]
    },
    {
     "name": "stdout",
     "output_type": "stream",
     "text": [
      "Can't get connection to https://ivie.vn/cong-dong?page=2310! Try again in 3 seconds.\n"
     ]
    },
    {
     "name": "stderr",
     "output_type": "stream",
     "text": [
      "Processing page 2308: : 0it [00:00, ?it/s]\n"
     ]
    },
    {
     "name": "stdout",
     "output_type": "stream",
     "text": [
      "Can't get connection to https://ivie.vn/cong-dong?page=2307! Try again in 3 seconds.\n",
      "Can't get connection to https://ivie.vn/cong-dong?page=2311! Try again in 3 seconds.\n",
      "Can't get connection to https://ivie.vn/cong-dong?page=2312! Try again in 3 seconds.\n"
     ]
    },
    {
     "name": "stderr",
     "output_type": "stream",
     "text": [
      "Processing page 2310: : 0it [00:00, ?it/s]\n",
      "Processing page 2313: : 0it [00:00, ?it/s]\n"
     ]
    },
    {
     "name": "stdout",
     "output_type": "stream",
     "text": [
      "Can't get connection to https://ivie.vn/cong-dong?page=2307! Try again in 3 seconds.\n"
     ]
    },
    {
     "name": "stderr",
     "output_type": "stream",
     "text": [
      "Processing page 2312: : 0it [00:00, ?it/s]\n",
      "Processing page 2314: : 0it [00:00, ?it/s]\n"
     ]
    },
    {
     "name": "stdout",
     "output_type": "stream",
     "text": [
      "Can't get connection to https://ivie.vn/cong-dong?page=2315! Try again in 3 seconds.\n"
     ]
    },
    {
     "name": "stderr",
     "output_type": "stream",
     "text": [
      "Processing page 2316: : 0it [00:00, ?it/s]\n"
     ]
    },
    {
     "name": "stdout",
     "output_type": "stream",
     "text": [
      "Can't get connection to https://ivie.vn/cong-dong?page=2307! Try again in 3 seconds.\n"
     ]
    },
    {
     "name": "stderr",
     "output_type": "stream",
     "text": [
      "Processing page 2311: : 0it [00:00, ?it/s]\n",
      "Processing page 2317: : 0it [00:00, ?it/s]\n"
     ]
    },
    {
     "name": "stdout",
     "output_type": "stream",
     "text": [
      "Can't get connection to https://ivie.vn/cong-dong?page=2315! Try again in 3 seconds.\n"
     ]
    },
    {
     "name": "stderr",
     "output_type": "stream",
     "text": [
      "Processing page 2318: : 0it [00:00, ?it/s]\n"
     ]
    },
    {
     "name": "stdout",
     "output_type": "stream",
     "text": [
      "Can't get connection to https://ivie.vn/cong-dong?page=2307! Try again in 3 seconds.\n",
      "Can't get connection to https://ivie.vn/cong-dong?page=2320! Try again in 3 seconds.\n"
     ]
    },
    {
     "name": "stderr",
     "output_type": "stream",
     "text": [
      "Processing page 2319: : 0it [00:00, ?it/s]\n",
      "Processing page 2315: : 0it [00:00, ?it/s]\n"
     ]
    },
    {
     "name": "stdout",
     "output_type": "stream",
     "text": [
      "Can't get connection to https://ivie.vn/cong-dong?page=2321! Try again in 3 seconds.\n"
     ]
    },
    {
     "name": "stderr",
     "output_type": "stream",
     "text": [
      "Processing page 2322: : 0it [00:00, ?it/s]\n",
      "Processing page 2307: : 0it [00:00, ?it/s]\n"
     ]
    },
    {
     "name": "stdout",
     "output_type": "stream",
     "text": [
      "Can't get connection to https://ivie.vn/cong-dong?page=2320! Try again in 3 seconds.\n"
     ]
    },
    {
     "name": "stderr",
     "output_type": "stream",
     "text": [
      "Processing page 2323: : 0it [00:00, ?it/s]\n",
      "Processing page 2321: : 0it [00:00, ?it/s]\n"
     ]
    },
    {
     "name": "stdout",
     "output_type": "stream",
     "text": [
      "Can't get connection to https://ivie.vn/cong-dong?page=2324! Try again in 3 seconds.\n"
     ]
    },
    {
     "name": "stderr",
     "output_type": "stream",
     "text": [
      "Processing page 2325: : 0it [00:00, ?it/s]\n",
      "Processing page 2320: : 0it [00:00, ?it/s]\n"
     ]
    },
    {
     "name": "stdout",
     "output_type": "stream",
     "text": [
      "Can't get connection to https://ivie.vn/cong-dong?page=2326! Try again in 3 seconds.\n",
      "Can't get connection to https://ivie.vn/cong-dong?page=2324! Try again in 3 seconds.\n",
      "Can't get connection to https://ivie.vn/cong-dong?page=2329! Try again in 3 seconds.\n",
      "Can't get connection to https://ivie.vn/cong-dong?page=2328! Try again in 3 seconds.\n"
     ]
    },
    {
     "name": "stderr",
     "output_type": "stream",
     "text": [
      "Processing page 2326: : 0it [00:00, ?it/s]\n",
      "Processing page 2327: : 0it [00:00, ?it/s]\n",
      "Processing page 2324: : 0it [00:00, ?it/s]\n"
     ]
    },
    {
     "name": "stdout",
     "output_type": "stream",
     "text": [
      "Can't get connection to https://ivie.vn/cong-dong?page=2328! Try again in 3 seconds.\n",
      "Can't get connection to https://ivie.vn/cong-dong?page=2329! Try again in 3 seconds.\n",
      "Can't get connection to https://ivie.vn/cong-dong?page=2330! Try again in 3 seconds.\n"
     ]
    },
    {
     "name": "stderr",
     "output_type": "stream",
     "text": [
      "Processing page 2331: : 0it [00:00, ?it/s]\n",
      "Processing page 2332: : 0it [00:00, ?it/s]\n"
     ]
    },
    {
     "name": "stdout",
     "output_type": "stream",
     "text": [
      "Can't get connection to https://ivie.vn/cong-dong?page=2328! Try again in 3 seconds.\n"
     ]
    },
    {
     "name": "stderr",
     "output_type": "stream",
     "text": [
      "Processing page 2333: : 0it [00:00, ?it/s]\n"
     ]
    },
    {
     "name": "stdout",
     "output_type": "stream",
     "text": [
      "Can't get connection to https://ivie.vn/cong-dong?page=2334! Try again in 3 seconds.\n"
     ]
    },
    {
     "name": "stderr",
     "output_type": "stream",
     "text": [
      "Processing page 2329: : 0it [00:00, ?it/s]\n"
     ]
    },
    {
     "name": "stdout",
     "output_type": "stream",
     "text": [
      "Can't get connection to https://ivie.vn/cong-dong?page=2330! Try again in 3 seconds.\n"
     ]
    },
    {
     "name": "stderr",
     "output_type": "stream",
     "text": [
      "Processing page 2335: : 0it [00:00, ?it/s]\n"
     ]
    },
    {
     "name": "stdout",
     "output_type": "stream",
     "text": [
      "Can't get connection to https://ivie.vn/cong-dong?page=2328! Try again in 3 seconds.\n",
      "Can't get connection to https://ivie.vn/cong-dong?page=2336! Try again in 3 seconds.\n"
     ]
    },
    {
     "name": "stderr",
     "output_type": "stream",
     "text": [
      "Processing page 2334: : 0it [00:00, ?it/s]\n",
      "Processing page 2330: : 0it [00:00, ?it/s]\n",
      "Processing page 2337: : 0it [00:00, ?it/s]\n"
     ]
    },
    {
     "name": "stdout",
     "output_type": "stream",
     "text": [
      "Can't get connection to https://ivie.vn/cong-dong?page=2338! Try again in 3 seconds.\n"
     ]
    },
    {
     "name": "stderr",
     "output_type": "stream",
     "text": [
      "Processing page 2336: : 0it [00:00, ?it/s]\n"
     ]
    },
    {
     "name": "stdout",
     "output_type": "stream",
     "text": [
      "Can't get connection to https://ivie.vn/cong-dong?page=2328! Try again in 3 seconds.\n"
     ]
    },
    {
     "name": "stderr",
     "output_type": "stream",
     "text": [
      "Processing page 2339: : 0it [00:00, ?it/s]\n"
     ]
    },
    {
     "name": "stdout",
     "output_type": "stream",
     "text": [
      "Can't get connection to https://ivie.vn/cong-dong?page=2340! Try again in 3 seconds.\n"
     ]
    },
    {
     "name": "stderr",
     "output_type": "stream",
     "text": [
      "Processing page 2341: : 0it [00:00, ?it/s]\n",
      "Processing page 2338: : 0it [00:00, ?it/s]\n",
      "Processing page 2342: : 0it [00:00, ?it/s]\n"
     ]
    },
    {
     "name": "stdout",
     "output_type": "stream",
     "text": [
      "Can't get connection to https://ivie.vn/cong-dong?page=2340! Try again in 3 seconds.\n"
     ]
    },
    {
     "name": "stderr",
     "output_type": "stream",
     "text": [
      "Processing page 2328: : 0it [00:00, ?it/s]\n",
      "Processing page 2343: : 0it [00:00, ?it/s]\n",
      "Processing page 2344: : 0it [00:00, ?it/s]\n"
     ]
    },
    {
     "name": "stdout",
     "output_type": "stream",
     "text": [
      "Can't get connection to https://ivie.vn/cong-dong?page=2345! Try again in 3 seconds.\n"
     ]
    },
    {
     "name": "stderr",
     "output_type": "stream",
     "text": [
      "Processing page 2346: : 0it [00:00, ?it/s]\n",
      "Processing page 2348: : 0it [00:00, ?it/s]\n",
      "Processing page 2347: : 0it [00:00, ?it/s]\n",
      "Processing page 2349: : 0it [00:00, ?it/s]\n",
      "Processing page 2340: : 0it [00:00, ?it/s]\n",
      "Processing page 2345: : 0it [00:00, ?it/s]\n"
     ]
    },
    {
     "name": "stdout",
     "output_type": "stream",
     "text": [
      "Can't get connection to https://ivie.vn/cong-dong?page=2350! Try again in 3 seconds.\n"
     ]
    },
    {
     "name": "stderr",
     "output_type": "stream",
     "text": [
      "Processing page 2351: : 0it [00:00, ?it/s]\n",
      "Processing page 2352: : 0it [00:00, ?it/s]\n"
     ]
    },
    {
     "name": "stdout",
     "output_type": "stream",
     "text": [
      "Can't get connection to https://ivie.vn/cong-dong?page=2353! Try again in 3 seconds.\n",
      "Can't get connection to https://ivie.vn/cong-dong?page=2354! Try again in 3 seconds.\n"
     ]
    },
    {
     "name": "stderr",
     "output_type": "stream",
     "text": [
      "Processing page 2355: : 0it [00:00, ?it/s]\n"
     ]
    },
    {
     "name": "stdout",
     "output_type": "stream",
     "text": [
      "Can't get connection to https://ivie.vn/cong-dong?page=2350! Try again in 3 seconds.\n",
      "Can't get connection to https://ivie.vn/cong-dong?page=2353! Try again in 3 seconds.\n",
      "Can't get connection to https://ivie.vn/cong-dong?page=2357! Try again in 3 seconds.\n",
      "Can't get connection to https://ivie.vn/cong-dong?page=2356! Try again in 3 seconds.\n",
      "Can't get connection to https://ivie.vn/cong-dong?page=2354! Try again in 3 seconds.\n"
     ]
    },
    {
     "name": "stderr",
     "output_type": "stream",
     "text": [
      "Processing page 2350: : 0it [00:00, ?it/s]\n"
     ]
    },
    {
     "name": "stdout",
     "output_type": "stream",
     "text": [
      "Can't get connection to https://ivie.vn/cong-dong?page=2357! Try again in 3 seconds.\n"
     ]
    },
    {
     "name": "stderr",
     "output_type": "stream",
     "text": [
      "Processing page 2353: : 0it [00:00, ?it/s]\n"
     ]
    },
    {
     "name": "stdout",
     "output_type": "stream",
     "text": [
      "Can't get connection to https://ivie.vn/cong-dong?page=2354! Try again in 3 seconds.\n"
     ]
    },
    {
     "name": "stderr",
     "output_type": "stream",
     "text": [
      "Processing page 2356: : 0it [00:00, ?it/s]\n",
      "Processing page 2358: : 0it [00:00, ?it/s]\n",
      "Processing page 2359: : 0it [00:00, ?it/s]\n",
      "Processing page 2360: : 0it [00:00, ?it/s]\n",
      "Processing page 2357: : 0it [00:00, ?it/s]\n"
     ]
    },
    {
     "name": "stdout",
     "output_type": "stream",
     "text": [
      "Can't get connection to https://ivie.vn/cong-dong?page=2354! Try again in 3 seconds.\n"
     ]
    },
    {
     "name": "stderr",
     "output_type": "stream",
     "text": [
      "Processing page 2362: : 0it [00:00, ?it/s]\n"
     ]
    },
    {
     "name": "stdout",
     "output_type": "stream",
     "text": [
      "Can't get connection to https://ivie.vn/cong-dong?page=2361! Try again in 3 seconds.\n"
     ]
    },
    {
     "name": "stderr",
     "output_type": "stream",
     "text": [
      "Processing page 2364: : 0it [00:00, ?it/s]\n",
      "Processing page 2363: : 0it [00:00, ?it/s]\n"
     ]
    },
    {
     "name": "stdout",
     "output_type": "stream",
     "text": [
      "Can't get connection to https://ivie.vn/cong-dong?page=2365! Try again in 3 seconds.\n",
      "Can't get connection to https://ivie.vn/cong-dong?page=2354! Try again in 3 seconds.\n",
      "Can't get connection to https://ivie.vn/cong-dong?page=2361! Try again in 3 seconds.\n"
     ]
    },
    {
     "name": "stderr",
     "output_type": "stream",
     "text": [
      "Processing page 2366: : 0it [00:00, ?it/s]\n"
     ]
    },
    {
     "name": "stdout",
     "output_type": "stream",
     "text": [
      "Can't get connection to https://ivie.vn/cong-dong?page=2367! Try again in 3 seconds.\n",
      "Can't get connection to https://ivie.vn/cong-dong?page=2365! Try again in 3 seconds.\n"
     ]
    },
    {
     "name": "stderr",
     "output_type": "stream",
     "text": [
      "Processing page 2368: : 0it [00:00, ?it/s]\n",
      "Processing page 2361: : 0it [00:00, ?it/s]\n",
      "Processing page 2354: : 0it [00:00, ?it/s]\n"
     ]
    },
    {
     "name": "stdout",
     "output_type": "stream",
     "text": [
      "Can't get connection to https://ivie.vn/cong-dong?page=2367! Try again in 3 seconds.\n",
      "Can't get connection to https://ivie.vn/cong-dong?page=2369! Try again in 3 seconds.\n"
     ]
    },
    {
     "name": "stderr",
     "output_type": "stream",
     "text": [
      "Processing page 2365: : 0it [00:00, ?it/s]\n",
      "Processing page 2370: : 0it [00:00, ?it/s]\n",
      "Processing page 2371: : 0it [00:00, ?it/s]\n",
      "Processing page 2367: : 0it [00:00, ?it/s]\n"
     ]
    },
    {
     "name": "stdout",
     "output_type": "stream",
     "text": [
      "Can't get connection to https://ivie.vn/cong-dong?page=2369! Try again in 3 seconds.\n"
     ]
    },
    {
     "name": "stderr",
     "output_type": "stream",
     "text": [
      "Processing page 2373: : 0it [00:00, ?it/s]\n"
     ]
    },
    {
     "name": "stdout",
     "output_type": "stream",
     "text": [
      "Can't get connection to https://ivie.vn/cong-dong?page=2374! Try again in 3 seconds.\n"
     ]
    },
    {
     "name": "stderr",
     "output_type": "stream",
     "text": [
      "Processing page 2375: : 0it [00:00, ?it/s]\n"
     ]
    },
    {
     "name": "stdout",
     "output_type": "stream",
     "text": [
      "Can't get connection to https://ivie.vn/cong-dong?page=2376! Try again in 3 seconds.\n"
     ]
    },
    {
     "name": "stderr",
     "output_type": "stream",
     "text": [
      "Processing page 2369: : 0it [00:00, ?it/s]\n",
      "Processing page 2372: : 0it [00:00, ?it/s]\n",
      "Processing page 2374: : 0it [00:00, ?it/s]\n"
     ]
    },
    {
     "name": "stdout",
     "output_type": "stream",
     "text": [
      "Can't get connection to https://ivie.vn/cong-dong?page=2377! Try again in 3 seconds.\n",
      "Can't get connection to https://ivie.vn/cong-dong?page=2376! Try again in 3 seconds.\n"
     ]
    },
    {
     "name": "stderr",
     "output_type": "stream",
     "text": [
      "Processing page 2379: : 0it [00:00, ?it/s]\n",
      "Processing page 2378: : 0it [00:00, ?it/s]\n",
      "Processing page 2380: : 0it [00:00, ?it/s]\n"
     ]
    },
    {
     "name": "stdout",
     "output_type": "stream",
     "text": [
      "Can't get connection to https://ivie.vn/cong-dong?page=2381! Try again in 3 seconds.\n"
     ]
    },
    {
     "name": "stderr",
     "output_type": "stream",
     "text": [
      "Processing page 2377: : 0it [00:00, ?it/s]\n"
     ]
    },
    {
     "name": "stdout",
     "output_type": "stream",
     "text": [
      "Can't get connection to https://ivie.vn/cong-dong?page=2382! Try again in 3 seconds.\n",
      "Can't get connection to https://ivie.vn/cong-dong?page=2376! Try again in 3 seconds.\n"
     ]
    },
    {
     "name": "stderr",
     "output_type": "stream",
     "text": [
      "Processing page 2383: : 0it [00:00, ?it/s]\n",
      "Processing page 2384: : 0it [00:00, ?it/s]\n"
     ]
    },
    {
     "name": "stdout",
     "output_type": "stream",
     "text": [
      "Can't get connection to https://ivie.vn/cong-dong?page=2381! Try again in 3 seconds.\n",
      "Can't get connection to https://ivie.vn/cong-dong?page=2382! Try again in 3 seconds.\n"
     ]
    },
    {
     "name": "stderr",
     "output_type": "stream",
     "text": [
      "Processing page 2376: : 0it [00:00, ?it/s]\n"
     ]
    },
    {
     "name": "stdout",
     "output_type": "stream",
     "text": [
      "Can't get connection to https://ivie.vn/cong-dong?page=2385! Try again in 3 seconds.\n",
      "Can't get connection to https://ivie.vn/cong-dong?page=2386! Try again in 3 seconds.\n",
      "Can't get connection to https://ivie.vn/cong-dong?page=2381! Try again in 3 seconds.\n"
     ]
    },
    {
     "name": "stderr",
     "output_type": "stream",
     "text": [
      "Processing page 2387: : 0it [00:00, ?it/s]\n"
     ]
    },
    {
     "name": "stdout",
     "output_type": "stream",
     "text": [
      "Can't get connection to https://ivie.vn/cong-dong?page=2385! Try again in 3 seconds.\n"
     ]
    },
    {
     "name": "stderr",
     "output_type": "stream",
     "text": [
      "Processing page 2386: : 0it [00:00, ?it/s]\n",
      "Processing page 2382: : 0it [00:00, ?it/s]\n",
      "Processing page 2381: : 0it [00:00, ?it/s]\n",
      "Processing page 2388: : 0it [00:00, ?it/s]\n",
      "Processing page 2389: : 0it [00:00, ?it/s]\n",
      "Processing page 2385: : 0it [00:00, ?it/s]\n"
     ]
    },
    {
     "name": "stdout",
     "output_type": "stream",
     "text": [
      "Can't get connection to https://ivie.vn/cong-dong?page=2390! Try again in 3 seconds.\n"
     ]
    },
    {
     "name": "stderr",
     "output_type": "stream",
     "text": [
      "Processing page 2391: : 0it [00:00, ?it/s]\n"
     ]
    },
    {
     "name": "stdout",
     "output_type": "stream",
     "text": [
      "Can't get connection to https://ivie.vn/cong-dong?page=2392! Try again in 3 seconds.\n",
      "Can't get connection to https://ivie.vn/cong-dong?page=2393! Try again in 3 seconds.\n",
      "Can't get connection to https://ivie.vn/cong-dong?page=2394! Try again in 3 seconds.\n",
      "Can't get connection to https://ivie.vn/cong-dong?page=2395! Try again in 3 seconds.\n"
     ]
    },
    {
     "name": "stderr",
     "output_type": "stream",
     "text": [
      "Processing page 2390: : 0it [00:00, ?it/s]\n"
     ]
    },
    {
     "name": "stdout",
     "output_type": "stream",
     "text": [
      "Can't get connection to https://ivie.vn/cong-dong?page=2392! Try again in 3 seconds.\n"
     ]
    },
    {
     "name": "stderr",
     "output_type": "stream",
     "text": [
      "Processing page 2393: : 0it [00:00, ?it/s]\n",
      "Processing page 2394: : 0it [00:00, ?it/s]\n"
     ]
    },
    {
     "name": "stdout",
     "output_type": "stream",
     "text": [
      "Can't get connection to https://ivie.vn/cong-dong?page=2396! Try again in 3 seconds.\n",
      "Can't get connection to https://ivie.vn/cong-dong?page=2395! Try again in 3 seconds.\n",
      "Can't get connection to https://ivie.vn/cong-dong?page=2397! Try again in 3 seconds.\n"
     ]
    },
    {
     "name": "stderr",
     "output_type": "stream",
     "text": [
      "Processing page 2398: : 0it [00:00, ?it/s]\n"
     ]
    },
    {
     "name": "stdout",
     "output_type": "stream",
     "text": [
      "Can't get connection to https://ivie.vn/cong-dong?page=2392! Try again in 3 seconds.\n"
     ]
    },
    {
     "name": "stderr",
     "output_type": "stream",
     "text": [
      "Processing page 2396: : 0it [00:00, ?it/s]\n"
     ]
    },
    {
     "name": "stdout",
     "output_type": "stream",
     "text": [
      "Can't get connection to https://ivie.vn/cong-dong?page=2395! Try again in 3 seconds.\n"
     ]
    },
    {
     "name": "stderr",
     "output_type": "stream",
     "text": [
      "Processing page 2399: : 0it [00:00, ?it/s]\n",
      "Processing page 2397: : 0it [00:00, ?it/s]\n",
      "Processing page 2392: : 0it [00:00, ?it/s]\n",
      "Processing page 2400: : 0it [00:00, ?it/s]\n"
     ]
    },
    {
     "name": "stdout",
     "output_type": "stream",
     "text": [
      "Can't get connection to https://ivie.vn/cong-dong?page=2395! Try again in 3 seconds.\n"
     ]
    },
    {
     "name": "stderr",
     "output_type": "stream",
     "text": [
      "Processing page 2401: : 0it [00:00, ?it/s]\n"
     ]
    },
    {
     "name": "stdout",
     "output_type": "stream",
     "text": [
      "Can't get connection to https://ivie.vn/cong-dong?page=2402! Try again in 3 seconds.\n",
      "Can't get connection to https://ivie.vn/cong-dong?page=2403! Try again in 3 seconds.\n",
      "Can't get connection to https://ivie.vn/cong-dong?page=2404! Try again in 3 seconds.\n",
      "Can't get connection to https://ivie.vn/cong-dong?page=2405! Try again in 3 seconds.\n"
     ]
    },
    {
     "name": "stderr",
     "output_type": "stream",
     "text": [
      "Processing page 2402: : 0it [00:00, ?it/s]\n"
     ]
    },
    {
     "name": "stdout",
     "output_type": "stream",
     "text": [
      "Can't get connection to https://ivie.vn/cong-dong?page=2395! Try again in 3 seconds.\n"
     ]
    },
    {
     "name": "stderr",
     "output_type": "stream",
     "text": [
      "Processing page 2403: : 0it [00:00, ?it/s]\n"
     ]
    },
    {
     "name": "stdout",
     "output_type": "stream",
     "text": [
      "Can't get connection to https://ivie.vn/cong-dong?page=2404! Try again in 3 seconds.\n"
     ]
    },
    {
     "name": "stderr",
     "output_type": "stream",
     "text": [
      "Processing page 2406: : 0it [00:00, ?it/s]\n",
      "Processing page 2395: : 0it [00:00, ?it/s]\n",
      "Processing page 2407: : 0it [00:00, ?it/s]\n",
      "Processing page 2405: : 0it [00:00, ?it/s]\n"
     ]
    },
    {
     "name": "stdout",
     "output_type": "stream",
     "text": [
      "Can't get connection to https://ivie.vn/cong-dong?page=2404! Try again in 3 seconds.\n",
      "Can't get connection to https://ivie.vn/cong-dong?page=2408! Try again in 3 seconds.\n",
      "Can't get connection to https://ivie.vn/cong-dong?page=2410! Try again in 3 seconds.\n"
     ]
    },
    {
     "name": "stderr",
     "output_type": "stream",
     "text": [
      "Processing page 2409: : 0it [00:00, ?it/s]\n",
      "Processing page 2411: : 0it [00:00, ?it/s]\n"
     ]
    },
    {
     "name": "stdout",
     "output_type": "stream",
     "text": [
      "Can't get connection to https://ivie.vn/cong-dong?page=2404! Try again in 3 seconds.\n"
     ]
    },
    {
     "name": "stderr",
     "output_type": "stream",
     "text": [
      "Processing page 2412: : 0it [00:00, ?it/s]\n"
     ]
    },
    {
     "name": "stdout",
     "output_type": "stream",
     "text": [
      "Can't get connection to https://ivie.vn/cong-dong?page=2408! Try again in 3 seconds.\n",
      "Can't get connection to https://ivie.vn/cong-dong?page=2413! Try again in 3 seconds.\n",
      "Can't get connection to https://ivie.vn/cong-dong?page=2410! Try again in 3 seconds.\n"
     ]
    },
    {
     "name": "stderr",
     "output_type": "stream",
     "text": [
      "Processing page 2404: : 0it [00:00, ?it/s]\n"
     ]
    },
    {
     "name": "stdout",
     "output_type": "stream",
     "text": [
      "Can't get connection to https://ivie.vn/cong-dong?page=2414! Try again in 3 seconds.\n",
      "Can't get connection to https://ivie.vn/cong-dong?page=2408! Try again in 3 seconds.\n",
      "Can't get connection to https://ivie.vn/cong-dong?page=2413! Try again in 3 seconds.\n"
     ]
    },
    {
     "name": "stderr",
     "output_type": "stream",
     "text": [
      "Processing page 2415: : 0it [00:00, ?it/s]\n"
     ]
    },
    {
     "name": "stdout",
     "output_type": "stream",
     "text": [
      "Can't get connection to https://ivie.vn/cong-dong?page=2410! Try again in 3 seconds.\n",
      "Can't get connection to https://ivie.vn/cong-dong?page=2414! Try again in 3 seconds.\n",
      "Can't get connection to https://ivie.vn/cong-dong?page=2408! Try again in 3 seconds.\n"
     ]
    },
    {
     "name": "stderr",
     "output_type": "stream",
     "text": [
      "Processing page 2416: : 0it [00:00, ?it/s]\n"
     ]
    },
    {
     "name": "stdout",
     "output_type": "stream",
     "text": [
      "Can't get connection to https://ivie.vn/cong-dong?page=2413! Try again in 3 seconds.\n"
     ]
    },
    {
     "name": "stderr",
     "output_type": "stream",
     "text": [
      "Processing page 2410: : 0it [00:00, ?it/s]\n",
      "Processing page 2414: : 0it [00:00, ?it/s]\n",
      "Processing page 2408: : 0it [00:00, ?it/s]\n",
      "Processing page 2417: : 0it [00:00, ?it/s]\n",
      "Processing page 2413: : 0it [00:00, ?it/s]\n",
      "Processing page 2418: : 0it [00:00, ?it/s]\n",
      "Processing page 2420: : 0it [00:00, ?it/s]\n"
     ]
    },
    {
     "name": "stdout",
     "output_type": "stream",
     "text": [
      "Can't get connection to https://ivie.vn/cong-dong?page=2419! Try again in 3 seconds.\n"
     ]
    },
    {
     "name": "stderr",
     "output_type": "stream",
     "text": [
      "Processing page 2421: : 0it [00:00, ?it/s]\n",
      "Processing page 2422: : 0it [00:00, ?it/s]\n"
     ]
    },
    {
     "name": "stdout",
     "output_type": "stream",
     "text": [
      "Can't get connection to https://ivie.vn/cong-dong?page=2423! Try again in 3 seconds.\n"
     ]
    },
    {
     "name": "stderr",
     "output_type": "stream",
     "text": [
      "Processing page 2424: : 0it [00:00, ?it/s]\n"
     ]
    },
    {
     "name": "stdout",
     "output_type": "stream",
     "text": [
      "Can't get connection to https://ivie.vn/cong-dong?page=2425! Try again in 3 seconds.\n",
      "Can't get connection to https://ivie.vn/cong-dong?page=2419! Try again in 3 seconds.\n"
     ]
    },
    {
     "name": "stderr",
     "output_type": "stream",
     "text": [
      "Processing page 2426: : 0it [00:00, ?it/s]\n"
     ]
    },
    {
     "name": "stdout",
     "output_type": "stream",
     "text": [
      "Can't get connection to https://ivie.vn/cong-dong?page=2423! Try again in 3 seconds.\n"
     ]
    },
    {
     "name": "stderr",
     "output_type": "stream",
     "text": [
      "Processing page 2427: : 0it [00:00, ?it/s]\n"
     ]
    },
    {
     "name": "stdout",
     "output_type": "stream",
     "text": [
      "Can't get connection to https://ivie.vn/cong-dong?page=2425! Try again in 3 seconds.\n"
     ]
    },
    {
     "name": "stderr",
     "output_type": "stream",
     "text": [
      "Processing page 2428: : 0it [00:00, ?it/s]\n"
     ]
    },
    {
     "name": "stdout",
     "output_type": "stream",
     "text": [
      "Can't get connection to https://ivie.vn/cong-dong?page=2419! Try again in 3 seconds.\n",
      "Can't get connection to https://ivie.vn/cong-dong?page=2429! Try again in 3 seconds.\n"
     ]
    },
    {
     "name": "stderr",
     "output_type": "stream",
     "text": [
      "Processing page 2423: : 0it [00:00, ?it/s]\n",
      "Processing page 2425: : 0it [00:00, ?it/s]\n"
     ]
    },
    {
     "name": "stdout",
     "output_type": "stream",
     "text": [
      "Can't get connection to https://ivie.vn/cong-dong?page=2419! Try again in 3 seconds.\n",
      "Can't get connection to https://ivie.vn/cong-dong?page=2430! Try again in 3 seconds.\n"
     ]
    },
    {
     "name": "stderr",
     "output_type": "stream",
     "text": [
      "Processing page 2431: : 0it [00:00, ?it/s]\n",
      "Processing page 2429: : 0it [00:00, ?it/s]\n",
      "Processing page 2432: : 0it [00:00, ?it/s]\n",
      "Processing page 2433: : 0it [00:00, ?it/s]\n"
     ]
    },
    {
     "name": "stdout",
     "output_type": "stream",
     "text": [
      "Can't get connection to https://ivie.vn/cong-dong?page=2419! Try again in 3 seconds.\n",
      "Can't get connection to https://ivie.vn/cong-dong?page=2434! Try again in 3 seconds.\n"
     ]
    },
    {
     "name": "stderr",
     "output_type": "stream",
     "text": [
      "Processing page 2435: : 0it [00:00, ?it/s]\n",
      "Processing page 2430: : 0it [00:00, ?it/s]\n"
     ]
    },
    {
     "name": "stdout",
     "output_type": "stream",
     "text": [
      "Can't get connection to https://ivie.vn/cong-dong?page=2436! Try again in 3 seconds.\n",
      "Can't get connection to https://ivie.vn/cong-dong?page=2419! Try again in 3 seconds.\n"
     ]
    },
    {
     "name": "stderr",
     "output_type": "stream",
     "text": [
      "Processing page 2434: : 0it [00:00, ?it/s]\n",
      "Processing page 2437: : 0it [00:00, ?it/s]\n",
      "Processing page 2438: : 0it [00:00, ?it/s]\n",
      "Processing page 2436: : 0it [00:00, ?it/s]\n"
     ]
    },
    {
     "name": "stdout",
     "output_type": "stream",
     "text": [
      "Can't get connection to https://ivie.vn/cong-dong?page=2439! Try again in 3 seconds.\n"
     ]
    },
    {
     "name": "stderr",
     "output_type": "stream",
     "text": [
      "Processing page 2440: : 0it [00:00, ?it/s]\n",
      "Processing page 2441: : 0it [00:00, ?it/s]\n",
      "Processing page 2442: : 0it [00:00, ?it/s]\n"
     ]
    },
    {
     "name": "stdout",
     "output_type": "stream",
     "text": [
      "Can't get connection to https://ivie.vn/cong-dong?page=2419! Try again in 3 seconds.\n",
      "Can't get connection to https://ivie.vn/cong-dong?page=2443! Try again in 3 seconds.\n",
      "Can't get connection to https://ivie.vn/cong-dong?page=2439! Try again in 3 seconds.\n"
     ]
    },
    {
     "name": "stderr",
     "output_type": "stream",
     "text": [
      "Processing page 2444: : 0it [00:00, ?it/s]\n",
      "Processing page 2419: : 0it [00:00, ?it/s]\n"
     ]
    },
    {
     "name": "stdout",
     "output_type": "stream",
     "text": [
      "Can't get connection to https://ivie.vn/cong-dong?page=2445! Try again in 3 seconds.\n"
     ]
    },
    {
     "name": "stderr",
     "output_type": "stream",
     "text": [
      "Processing page 2446: : 0it [00:00, ?it/s]\n",
      "Processing page 2443: : 0it [00:00, ?it/s]\n",
      "Processing page 2447: : 0it [00:00, ?it/s]\n"
     ]
    },
    {
     "name": "stdout",
     "output_type": "stream",
     "text": [
      "Can't get connection to https://ivie.vn/cong-dong?page=2439! Try again in 3 seconds.\n",
      "Can't get connection to https://ivie.vn/cong-dong?page=2448! Try again in 3 seconds.\n",
      "Can't get connection to https://ivie.vn/cong-dong?page=2449! Try again in 3 seconds.\n"
     ]
    },
    {
     "name": "stderr",
     "output_type": "stream",
     "text": [
      "Processing page 2450: : 0it [00:00, ?it/s]\n"
     ]
    },
    {
     "name": "stdout",
     "output_type": "stream",
     "text": [
      "Can't get connection to https://ivie.vn/cong-dong?page=2439! Try again in 3 seconds.\n"
     ]
    },
    {
     "name": "stderr",
     "output_type": "stream",
     "text": [
      "Processing page 2448: : 0it [00:00, ?it/s]\n"
     ]
    },
    {
     "name": "stdout",
     "output_type": "stream",
     "text": [
      "Can't get connection to https://ivie.vn/cong-dong?page=2445! Try again in 3 seconds.\n",
      "Can't get connection to https://ivie.vn/cong-dong?page=2449! Try again in 3 seconds.\n",
      "Can't get connection to https://ivie.vn/cong-dong?page=2451! Try again in 3 seconds.\n",
      "Can't get connection to https://ivie.vn/cong-dong?page=2439! Try again in 3 seconds.\n"
     ]
    },
    {
     "name": "stderr",
     "output_type": "stream",
     "text": [
      "Processing page 2452: : 0it [00:00, ?it/s]\n",
      "Processing page 2445: : 0it [00:00, ?it/s]\n"
     ]
    },
    {
     "name": "stdout",
     "output_type": "stream",
     "text": [
      "Can't get connection to https://ivie.vn/cong-dong?page=2451! Try again in 3 seconds.\n"
     ]
    },
    {
     "name": "stderr",
     "output_type": "stream",
     "text": [
      "Processing page 2449: : 0it [00:00, ?it/s]\n"
     ]
    },
    {
     "name": "stdout",
     "output_type": "stream",
     "text": [
      "Can't get connection to https://ivie.vn/cong-dong?page=2453! Try again in 3 seconds.\n",
      "Can't get connection to https://ivie.vn/cong-dong?page=2454! Try again in 3 seconds.\n",
      "Can't get connection to https://ivie.vn/cong-dong?page=2439! Try again in 3 seconds.\n"
     ]
    },
    {
     "name": "stderr",
     "output_type": "stream",
     "text": [
      "Processing page 2455: : 0it [00:00, ?it/s]\n"
     ]
    },
    {
     "name": "stdout",
     "output_type": "stream",
     "text": [
      "Can't get connection to https://ivie.vn/cong-dong?page=2451! Try again in 3 seconds.\n"
     ]
    },
    {
     "name": "stderr",
     "output_type": "stream",
     "text": [
      "Processing page 2453: : 0it [00:00, ?it/s]\n"
     ]
    },
    {
     "name": "stdout",
     "output_type": "stream",
     "text": [
      "Can't get connection to https://ivie.vn/cong-dong?page=2454! Try again in 3 seconds.\n",
      "Can't get connection to https://ivie.vn/cong-dong?page=2439! Try again in 3 seconds.\n",
      "Can't get connection to https://ivie.vn/cong-dong?page=2456! Try again in 3 seconds.\n",
      "Can't get connection to https://ivie.vn/cong-dong?page=2451! Try again in 3 seconds.\n",
      "Can't get connection to https://ivie.vn/cong-dong?page=2457! Try again in 3 seconds.\n"
     ]
    },
    {
     "name": "stderr",
     "output_type": "stream",
     "text": [
      "Processing page 2454: : 0it [00:00, ?it/s]\n",
      "Processing page 2439: : 0it [00:00, ?it/s]\n"
     ]
    },
    {
     "name": "stdout",
     "output_type": "stream",
     "text": [
      "Can't get connection to https://ivie.vn/cong-dong?page=2456! Try again in 3 seconds.\n",
      "Can't get connection to https://ivie.vn/cong-dong?page=2451! Try again in 3 seconds.\n"
     ]
    },
    {
     "name": "stderr",
     "output_type": "stream",
     "text": [
      "Processing page 2457: : 0it [00:00, ?it/s]\n",
      "Processing page 2459: : 0it [00:00, ?it/s]\n"
     ]
    },
    {
     "name": "stdout",
     "output_type": "stream",
     "text": [
      "Can't get connection to https://ivie.vn/cong-dong?page=2458! Try again in 3 seconds.\n",
      "Can't get connection to https://ivie.vn/cong-dong?page=2456! Try again in 3 seconds.\n",
      "Can't get connection to https://ivie.vn/cong-dong?page=2460! Try again in 3 seconds.\n",
      "Can't get connection to https://ivie.vn/cong-dong?page=2451! Try again in 3 seconds.\n",
      "Can't get connection to https://ivie.vn/cong-dong?page=2461! Try again in 3 seconds.\n"
     ]
    },
    {
     "name": "stderr",
     "output_type": "stream",
     "text": [
      "Processing page 2458: : 0it [00:00, ?it/s]\n",
      "Processing page 2456: : 0it [00:00, ?it/s]\n",
      "Processing page 2460: : 0it [00:00, ?it/s]\n",
      "Processing page 2451: : 0it [00:00, ?it/s]\n",
      "Processing page 2461: : 0it [00:00, ?it/s]\n"
     ]
    },
    {
     "name": "stdout",
     "output_type": "stream",
     "text": [
      "Can't get connection to https://ivie.vn/cong-dong?page=2462! Try again in 3 seconds.\n",
      "Can't get connection to https://ivie.vn/cong-dong?page=2464! Try again in 3 seconds.\n",
      "Can't get connection to https://ivie.vn/cong-dong?page=2463! Try again in 3 seconds.\n"
     ]
    },
    {
     "name": "stderr",
     "output_type": "stream",
     "text": [
      "Processing page 2466: : 0it [00:00, ?it/s]\n",
      "Processing page 2463: : 0it [00:00, ?it/s]\n",
      "Processing page 2464: : 0it [00:00, ?it/s]\n",
      "Processing page 2462: : 0it [00:00, ?it/s]\n",
      "Processing page 2465: : 0it [00:00, ?it/s]\n",
      "Processing page 2467: : 0it [00:00, ?it/s]\n"
     ]
    },
    {
     "name": "stdout",
     "output_type": "stream",
     "text": [
      "Can't get connection to https://ivie.vn/cong-dong?page=2468! Try again in 3 seconds.\n",
      "Can't get connection to https://ivie.vn/cong-dong?page=2469! Try again in 3 seconds.\n"
     ]
    },
    {
     "name": "stderr",
     "output_type": "stream",
     "text": [
      "Processing page 2471: : 0it [00:00, ?it/s]\n",
      "Processing page 2470: : 0it [00:00, ?it/s]\n",
      "Processing page 2472: : 0it [00:00, ?it/s]\n"
     ]
    },
    {
     "name": "stdout",
     "output_type": "stream",
     "text": [
      "Can't get connection to https://ivie.vn/cong-dong?page=2468! Try again in 3 seconds.\n"
     ]
    },
    {
     "name": "stderr",
     "output_type": "stream",
     "text": [
      "Processing page 2473: : 0it [00:00, ?it/s]\n",
      "Processing page 2474: : 0it [00:00, ?it/s]\n"
     ]
    },
    {
     "name": "stdout",
     "output_type": "stream",
     "text": [
      "Can't get connection to https://ivie.vn/cong-dong?page=2475! Try again in 3 seconds.\n"
     ]
    },
    {
     "name": "stderr",
     "output_type": "stream",
     "text": [
      "Processing page 2469: : 0it [00:00, ?it/s]\n",
      "Processing page 2468: : 0it [00:00, ?it/s]\n",
      "Processing page 2476: : 0it [00:00, ?it/s]\n",
      "Processing page 2477: : 0it [00:00, ?it/s]\n",
      "Processing page 2475: : 0it [00:00, ?it/s]\n",
      "Processing page 2479: : 0it [00:00, ?it/s]\n",
      "Processing page 2480: : 0it [00:00, ?it/s]\n"
     ]
    },
    {
     "name": "stdout",
     "output_type": "stream",
     "text": [
      "Can't get connection to https://ivie.vn/cong-dong?page=2478! Try again in 3 seconds.\n",
      "Can't get connection to https://ivie.vn/cong-dong?page=2481! Try again in 3 seconds.\n"
     ]
    },
    {
     "name": "stderr",
     "output_type": "stream",
     "text": [
      "Processing page 2484: : 0it [00:00, ?it/s]\n"
     ]
    },
    {
     "name": "stdout",
     "output_type": "stream",
     "text": [
      "Can't get connection to https://ivie.vn/cong-dong?page=2482! Try again in 3 seconds.\n",
      "Can't get connection to https://ivie.vn/cong-dong?page=2478! Try again in 3 seconds.\n",
      "Can't get connection to https://ivie.vn/cong-dong?page=2483! Try again in 3 seconds.\n",
      "Can't get connection to https://ivie.vn/cong-dong?page=2481! Try again in 3 seconds.\n"
     ]
    },
    {
     "name": "stderr",
     "output_type": "stream",
     "text": [
      "Processing page 2485: : 0it [00:00, ?it/s]\n",
      "Processing page 2482: : 0it [00:00, ?it/s]\n",
      "Processing page 2478: : 0it [00:00, ?it/s]\n"
     ]
    },
    {
     "name": "stdout",
     "output_type": "stream",
     "text": [
      "Can't get connection to https://ivie.vn/cong-dong?page=2483! Try again in 3 seconds.\n"
     ]
    },
    {
     "name": "stderr",
     "output_type": "stream",
     "text": [
      "Processing page 2481: : 0it [00:00, ?it/s]\n",
      "Processing page 2486: : 0it [00:00, ?it/s]\n",
      "Processing page 2487: : 0it [00:00, ?it/s]\n"
     ]
    },
    {
     "name": "stdout",
     "output_type": "stream",
     "text": [
      "Can't get connection to https://ivie.vn/cong-dong?page=2488! Try again in 3 seconds.\n"
     ]
    },
    {
     "name": "stderr",
     "output_type": "stream",
     "text": [
      "Processing page 2489: : 0it [00:00, ?it/s]\n"
     ]
    },
    {
     "name": "stdout",
     "output_type": "stream",
     "text": [
      "Can't get connection to https://ivie.vn/cong-dong?page=2490! Try again in 3 seconds.\n",
      "Can't get connection to https://ivie.vn/cong-dong?page=2491! Try again in 3 seconds.\n",
      "Can't get connection to https://ivie.vn/cong-dong?page=2483! Try again in 3 seconds.\n"
     ]
    },
    {
     "name": "stderr",
     "output_type": "stream",
     "text": [
      "Processing page 2488: : 0it [00:00, ?it/s]\n"
     ]
    },
    {
     "name": "stdout",
     "output_type": "stream",
     "text": [
      "Can't get connection to https://ivie.vn/cong-dong?page=2492! Try again in 3 seconds.\n"
     ]
    },
    {
     "name": "stderr",
     "output_type": "stream",
     "text": [
      "Processing page 2490: : 0it [00:00, ?it/s]\n",
      "Processing page 2483: : 0it [00:00, ?it/s]\n"
     ]
    },
    {
     "name": "stdout",
     "output_type": "stream",
     "text": [
      "Can't get connection to https://ivie.vn/cong-dong?page=2491! Try again in 3 seconds.\n",
      "Can't get connection to https://ivie.vn/cong-dong?page=2493! Try again in 3 seconds.\n"
     ]
    },
    {
     "name": "stderr",
     "output_type": "stream",
     "text": [
      "Processing page 2492: : 0it [00:00, ?it/s]\n"
     ]
    },
    {
     "name": "stdout",
     "output_type": "stream",
     "text": [
      "Can't get connection to https://ivie.vn/cong-dong?page=2495! Try again in 3 seconds.\n",
      "Can't get connection to https://ivie.vn/cong-dong?page=2494! Try again in 3 seconds.\n"
     ]
    },
    {
     "name": "stderr",
     "output_type": "stream",
     "text": [
      "Processing page 2491: : 0it [00:00, ?it/s]\n"
     ]
    },
    {
     "name": "stdout",
     "output_type": "stream",
     "text": [
      "Can't get connection to https://ivie.vn/cong-dong?page=2496! Try again in 3 seconds.\n",
      "Can't get connection to https://ivie.vn/cong-dong?page=2493! Try again in 3 seconds.\n"
     ]
    },
    {
     "name": "stderr",
     "output_type": "stream",
     "text": [
      "Processing page 2495: : 0it [00:00, ?it/s]\n",
      "Processing page 2497: : 0it [00:00, ?it/s]\n"
     ]
    },
    {
     "name": "stdout",
     "output_type": "stream",
     "text": [
      "Can't get connection to https://ivie.vn/cong-dong?page=2493! Try again in 3 seconds.\n"
     ]
    },
    {
     "name": "stderr",
     "output_type": "stream",
     "text": [
      "Processing page 2496: : 0it [00:00, ?it/s]\n"
     ]
    },
    {
     "name": "stdout",
     "output_type": "stream",
     "text": [
      "Can't get connection to https://ivie.vn/cong-dong?page=2494! Try again in 3 seconds.\n",
      "Can't get connection to https://ivie.vn/cong-dong?page=2499! Try again in 3 seconds.\n",
      "Can't get connection to https://ivie.vn/cong-dong?page=2498! Try again in 3 seconds.\n"
     ]
    },
    {
     "name": "stderr",
     "output_type": "stream",
     "text": [
      "Processing page 2500: : 0it [00:00, ?it/s]\n",
      "Processing page 2493: : 0it [00:00, ?it/s]\n"
     ]
    },
    {
     "name": "stdout",
     "output_type": "stream",
     "text": [
      "Can't get connection to https://ivie.vn/cong-dong?page=2494! Try again in 3 seconds.\n"
     ]
    },
    {
     "name": "stderr",
     "output_type": "stream",
     "text": [
      "Processing page 2499: : 0it [00:00, ?it/s]\n",
      "Processing page 2501: : 0it [00:00, ?it/s]\n"
     ]
    },
    {
     "name": "stdout",
     "output_type": "stream",
     "text": [
      "Can't get connection to https://ivie.vn/cong-dong?page=2498! Try again in 3 seconds.\n"
     ]
    },
    {
     "name": "stderr",
     "output_type": "stream",
     "text": [
      "Processing page 2502: : 0it [00:00, ?it/s]\n"
     ]
    },
    {
     "name": "stdout",
     "output_type": "stream",
     "text": [
      "Can't get connection to https://ivie.vn/cong-dong?page=2504! Try again in 3 seconds.\n"
     ]
    },
    {
     "name": "stderr",
     "output_type": "stream",
     "text": [
      "Processing page 2494: : 0it [00:00, ?it/s]\n",
      "Processing page 2505: : 0it [00:00, ?it/s]\n"
     ]
    },
    {
     "name": "stdout",
     "output_type": "stream",
     "text": [
      "Can't get connection to https://ivie.vn/cong-dong?page=2503! Try again in 3 seconds.\n",
      "Can't get connection to https://ivie.vn/cong-dong?page=2498! Try again in 3 seconds.\n"
     ]
    },
    {
     "name": "stderr",
     "output_type": "stream",
     "text": [
      "Processing page 2506: : 0it [00:00, ?it/s]\n",
      "Processing page 2507: : 0it [00:00, ?it/s]\n",
      "Processing page 2503: : 0it [00:00, ?it/s]\n"
     ]
    },
    {
     "name": "stdout",
     "output_type": "stream",
     "text": [
      "Can't get connection to https://ivie.vn/cong-dong?page=2504! Try again in 3 seconds.\n",
      "Can't get connection to https://ivie.vn/cong-dong?page=2498! Try again in 3 seconds.\n"
     ]
    },
    {
     "name": "stderr",
     "output_type": "stream",
     "text": [
      "Processing page 2508: : 0it [00:00, ?it/s]\n"
     ]
    },
    {
     "name": "stdout",
     "output_type": "stream",
     "text": [
      "Can't get connection to https://ivie.vn/cong-dong?page=2509! Try again in 3 seconds.\n",
      "Can't get connection to https://ivie.vn/cong-dong?page=2510! Try again in 3 seconds.\n"
     ]
    },
    {
     "name": "stderr",
     "output_type": "stream",
     "text": [
      "Processing page 2504: : 0it [00:00, ?it/s]\n",
      "Processing page 2511: : 0it [00:00, ?it/s]\n"
     ]
    },
    {
     "name": "stdout",
     "output_type": "stream",
     "text": [
      "Can't get connection to https://ivie.vn/cong-dong?page=2498! Try again in 3 seconds.\n"
     ]
    },
    {
     "name": "stderr",
     "output_type": "stream",
     "text": [
      "Processing page 2509: : 0it [00:00, ?it/s]\n"
     ]
    },
    {
     "name": "stdout",
     "output_type": "stream",
     "text": [
      "Can't get connection to https://ivie.vn/cong-dong?page=2512! Try again in 3 seconds.\n"
     ]
    },
    {
     "name": "stderr",
     "output_type": "stream",
     "text": [
      "Processing page 2510: : 0it [00:00, ?it/s]\n",
      "Processing page 2513: : 0it [00:00, ?it/s]\n",
      "Processing page 2515: : 0it [00:00, ?it/s]\n",
      "Processing page 2514: : 0it [00:00, ?it/s]\n"
     ]
    },
    {
     "name": "stdout",
     "output_type": "stream",
     "text": [
      "Can't get connection to https://ivie.vn/cong-dong?page=2516! Try again in 3 seconds.\n",
      "Can't get connection to https://ivie.vn/cong-dong?page=2498! Try again in 3 seconds.\n",
      "Can't get connection to https://ivie.vn/cong-dong?page=2512! Try again in 3 seconds.\n"
     ]
    },
    {
     "name": "stderr",
     "output_type": "stream",
     "text": [
      "Processing page 2517: : 0it [00:00, ?it/s]\n",
      "Processing page 2518: : 0it [00:00, ?it/s]\n"
     ]
    },
    {
     "name": "stdout",
     "output_type": "stream",
     "text": [
      "Can't get connection to https://ivie.vn/cong-dong?page=2516! Try again in 3 seconds.\n",
      "Can't get connection to https://ivie.vn/cong-dong?page=2498! Try again in 3 seconds.\n",
      "Can't get connection to https://ivie.vn/cong-dong?page=2512! Try again in 3 seconds.\n",
      "Can't get connection to https://ivie.vn/cong-dong?page=2520! Try again in 3 seconds.\n",
      "Can't get connection to https://ivie.vn/cong-dong?page=2519! Try again in 3 seconds.\n",
      "Can't get connection to https://ivie.vn/cong-dong?page=2516! Try again in 3 seconds.\n",
      "Can't get connection to https://ivie.vn/cong-dong?page=2498! Try again in 3 seconds.\n"
     ]
    },
    {
     "name": "stderr",
     "output_type": "stream",
     "text": [
      "Processing page 2512: : 0it [00:00, ?it/s]\n",
      "Processing page 2520: : 0it [00:00, ?it/s]\n"
     ]
    },
    {
     "name": "stdout",
     "output_type": "stream",
     "text": [
      "Can't get connection to https://ivie.vn/cong-dong?page=2519! Try again in 3 seconds.\n"
     ]
    },
    {
     "name": "stderr",
     "output_type": "stream",
     "text": [
      "Processing page 2516: : 0it [00:00, ?it/s]\n",
      "Processing page 2521: : 0it [00:00, ?it/s]\n",
      "Processing page 2498: : 0it [00:00, ?it/s]\n",
      "Processing page 2522: : 0it [00:00, ?it/s]\n",
      "Processing page 2519: : 0it [00:00, ?it/s]\n",
      "Processing page 2523: : 0it [00:00, ?it/s]\n",
      "Processing page 2524: : 0it [00:00, ?it/s]\n",
      "Processing page 2526: : 0it [00:00, ?it/s]\n",
      "Processing page 2525: : 0it [00:00, ?it/s]\n",
      "Processing page 2527: : 0it [00:00, ?it/s]\n",
      "Processing page 2528: : 0it [00:00, ?it/s]\n"
     ]
    },
    {
     "name": "stdout",
     "output_type": "stream",
     "text": [
      "Can't get connection to https://ivie.vn/cong-dong?page=2529! Try again in 3 seconds.\n",
      "Can't get connection to https://ivie.vn/cong-dong?page=2530! Try again in 3 seconds.\n"
     ]
    },
    {
     "name": "stderr",
     "output_type": "stream",
     "text": [
      "Processing page 2531: : 0it [00:00, ?it/s]\n"
     ]
    },
    {
     "name": "stdout",
     "output_type": "stream",
     "text": [
      "Can't get connection to https://ivie.vn/cong-dong?page=2532! Try again in 3 seconds.\n"
     ]
    },
    {
     "name": "stderr",
     "output_type": "stream",
     "text": [
      "Processing page 2533: : 0it [00:00, ?it/s]\n",
      "Processing page 2529: : 0it [00:00, ?it/s]\n"
     ]
    },
    {
     "name": "stdout",
     "output_type": "stream",
     "text": [
      "Can't get connection to https://ivie.vn/cong-dong?page=2534! Try again in 3 seconds.\n"
     ]
    },
    {
     "name": "stderr",
     "output_type": "stream",
     "text": [
      "Processing page 2535: : 0it [00:00, ?it/s]\n",
      "Processing page 2532: : 0it [00:00, ?it/s]\n",
      "Processing page 2530: : 0it [00:00, ?it/s]\n",
      "Processing page 2537: : 0it [00:00, ?it/s]\n",
      "Processing page 2534: : 0it [00:00, ?it/s]\n",
      "Processing page 2538: : 0it [00:00, ?it/s]\n"
     ]
    },
    {
     "name": "stdout",
     "output_type": "stream",
     "text": [
      "Can't get connection to https://ivie.vn/cong-dong?page=2536! Try again in 3 seconds.\n"
     ]
    },
    {
     "name": "stderr",
     "output_type": "stream",
     "text": [
      "Processing page 2540: : 0it [00:00, ?it/s]\n"
     ]
    },
    {
     "name": "stdout",
     "output_type": "stream",
     "text": [
      "Can't get connection to https://ivie.vn/cong-dong?page=2539! Try again in 3 seconds.\n",
      "Can't get connection to https://ivie.vn/cong-dong?page=2541! Try again in 3 seconds.\n"
     ]
    },
    {
     "name": "stderr",
     "output_type": "stream",
     "text": [
      "Processing page 2542: : 0it [00:00, ?it/s]\n"
     ]
    },
    {
     "name": "stdout",
     "output_type": "stream",
     "text": [
      "Can't get connection to https://ivie.vn/cong-dong?page=2536! Try again in 3 seconds.\n"
     ]
    },
    {
     "name": "stderr",
     "output_type": "stream",
     "text": [
      "Processing page 2543: : 0it [00:00, ?it/s]\n",
      "Processing page 2544: : 0it [00:00, ?it/s]\n",
      "Processing page 2541: : 0it [00:00, ?it/s]\n"
     ]
    },
    {
     "name": "stdout",
     "output_type": "stream",
     "text": [
      "Can't get connection to https://ivie.vn/cong-dong?page=2539! Try again in 3 seconds.\n"
     ]
    },
    {
     "name": "stderr",
     "output_type": "stream",
     "text": [
      "Processing page 2536: : 0it [00:00, ?it/s]\n",
      "Processing page 2545: : 0it [00:00, ?it/s]\n",
      "Processing page 2546: : 0it [00:00, ?it/s]\n",
      "Processing page 2539: : 0it [00:00, ?it/s]\n",
      "Processing page 2547: : 0it [00:00, ?it/s]\n",
      "Processing page 2549: : 0it [00:00, ?it/s]\n"
     ]
    },
    {
     "name": "stdout",
     "output_type": "stream",
     "text": [
      "Can't get connection to https://ivie.vn/cong-dong?page=2548! Try again in 3 seconds.\n",
      "Can't get connection to https://ivie.vn/cong-dong?page=2552! Try again in 3 seconds.\n"
     ]
    },
    {
     "name": "stderr",
     "output_type": "stream",
     "text": [
      "Processing page 2551: : 0it [00:00, ?it/s]\n"
     ]
    },
    {
     "name": "stdout",
     "output_type": "stream",
     "text": [
      "Can't get connection to https://ivie.vn/cong-dong?page=2550! Try again in 3 seconds.\n",
      "Can't get connection to https://ivie.vn/cong-dong?page=2553! Try again in 3 seconds.\n"
     ]
    },
    {
     "name": "stderr",
     "output_type": "stream",
     "text": [
      "Processing page 2548: : 0it [00:00, ?it/s]\n"
     ]
    },
    {
     "name": "stdout",
     "output_type": "stream",
     "text": [
      "Can't get connection to https://ivie.vn/cong-dong?page=2554! Try again in 3 seconds.\n"
     ]
    },
    {
     "name": "stderr",
     "output_type": "stream",
     "text": [
      "Processing page 2552: : 0it [00:00, ?it/s]\n",
      "Processing page 2550: : 0it [00:00, ?it/s]\n"
     ]
    },
    {
     "name": "stdout",
     "output_type": "stream",
     "text": [
      "Can't get connection to https://ivie.vn/cong-dong?page=2555! Try again in 3 seconds.\n",
      "Can't get connection to https://ivie.vn/cong-dong?page=2553! Try again in 3 seconds.\n"
     ]
    },
    {
     "name": "stderr",
     "output_type": "stream",
     "text": [
      "Processing page 2554: : 0it [00:00, ?it/s]\n"
     ]
    },
    {
     "name": "stdout",
     "output_type": "stream",
     "text": [
      "Can't get connection to https://ivie.vn/cong-dong?page=2556! Try again in 3 seconds.\n"
     ]
    },
    {
     "name": "stderr",
     "output_type": "stream",
     "text": [
      "Processing page 2557: : 0it [00:00, ?it/s]\n",
      "Processing page 2555: : 0it [00:00, ?it/s]\n",
      "Processing page 2558: : 0it [00:00, ?it/s]\n",
      "Processing page 2553: : 0it [00:00, ?it/s]\n"
     ]
    },
    {
     "name": "stdout",
     "output_type": "stream",
     "text": [
      "Can't get connection to https://ivie.vn/cong-dong?page=2556! Try again in 3 seconds.\n",
      "Can't get connection to https://ivie.vn/cong-dong?page=2559! Try again in 3 seconds.\n",
      "Can't get connection to https://ivie.vn/cong-dong?page=2560! Try again in 3 seconds.\n",
      "Can't get connection to https://ivie.vn/cong-dong?page=2561! Try again in 3 seconds.\n",
      "Can't get connection to https://ivie.vn/cong-dong?page=2562! Try again in 3 seconds.\n"
     ]
    },
    {
     "name": "stderr",
     "output_type": "stream",
     "text": [
      "Processing page 2556: : 0it [00:00, ?it/s]\n",
      "Processing page 2559: : 0it [00:00, ?it/s]\n"
     ]
    },
    {
     "name": "stdout",
     "output_type": "stream",
     "text": [
      "Can't get connection to https://ivie.vn/cong-dong?page=2560! Try again in 3 seconds.\n",
      "Can't get connection to https://ivie.vn/cong-dong?page=2561! Try again in 3 seconds.\n",
      "Can't get connection to https://ivie.vn/cong-dong?page=2563! Try again in 3 seconds.\n",
      "Can't get connection to https://ivie.vn/cong-dong?page=2564! Try again in 3 seconds.\n",
      "Can't get connection to https://ivie.vn/cong-dong?page=2561! Try again in 3 seconds.\n"
     ]
    },
    {
     "name": "stderr",
     "output_type": "stream",
     "text": [
      "Processing page 2560: : 0it [00:00, ?it/s]\n",
      "Processing page 2563: : 0it [00:00, ?it/s]\n",
      "Processing page 2562: : 0it [00:00, ?it/s]\n"
     ]
    },
    {
     "name": "stdout",
     "output_type": "stream",
     "text": [
      "Can't get connection to https://ivie.vn/cong-dong?page=2564! Try again in 3 seconds.\n",
      "Can't get connection to https://ivie.vn/cong-dong?page=2565! Try again in 3 seconds.\n"
     ]
    },
    {
     "name": "stderr",
     "output_type": "stream",
     "text": [
      "Processing page 2561: : 0it [00:00, ?it/s]\n",
      "Processing page 2567: : 0it [00:00, ?it/s]\n"
     ]
    },
    {
     "name": "stdout",
     "output_type": "stream",
     "text": [
      "Can't get connection to https://ivie.vn/cong-dong?page=2566! Try again in 3 seconds.\n",
      "Can't get connection to https://ivie.vn/cong-dong?page=2564! Try again in 3 seconds.\n"
     ]
    },
    {
     "name": "stderr",
     "output_type": "stream",
     "text": [
      "Processing page 2568: : 0it [00:00, ?it/s]\n",
      "Processing page 2565: : 0it [00:00, ?it/s]\n",
      "Processing page 2569: : 0it [00:00, ?it/s]\n"
     ]
    },
    {
     "name": "stdout",
     "output_type": "stream",
     "text": [
      "Can't get connection to https://ivie.vn/cong-dong?page=2566! Try again in 3 seconds.\n"
     ]
    },
    {
     "name": "stderr",
     "output_type": "stream",
     "text": [
      "Processing page 2570: : 0it [00:00, ?it/s]\n",
      "Processing page 2572: : 0it [00:00, ?it/s]\n",
      "Processing page 2564: : 0it [00:00, ?it/s]\n"
     ]
    },
    {
     "name": "stdout",
     "output_type": "stream",
     "text": [
      "Can't get connection to https://ivie.vn/cong-dong?page=2571! Try again in 3 seconds.\n",
      "Can't get connection to https://ivie.vn/cong-dong?page=2566! Try again in 3 seconds.\n"
     ]
    },
    {
     "name": "stderr",
     "output_type": "stream",
     "text": [
      "Processing page 2573: : 0it [00:00, ?it/s]\n",
      "Processing page 2574: : 0it [00:00, ?it/s]\n",
      "Processing page 2575: : 0it [00:00, ?it/s]\n",
      "Processing page 2571: : 0it [00:00, ?it/s]\n",
      "Processing page 2576: : 0it [00:00, ?it/s]\n",
      "Processing page 2577: : 0it [00:00, ?it/s]\n",
      "Processing page 2566: : 0it [00:00, ?it/s]\n",
      "Processing page 2579: : 0it [00:00, ?it/s]\n"
     ]
    },
    {
     "name": "stdout",
     "output_type": "stream",
     "text": [
      "Can't get connection to https://ivie.vn/cong-dong?page=2578! Try again in 3 seconds.\n"
     ]
    },
    {
     "name": "stderr",
     "output_type": "stream",
     "text": [
      "Processing page 2580: : 0it [00:00, ?it/s]\n"
     ]
    },
    {
     "name": "stdout",
     "output_type": "stream",
     "text": [
      "Can't get connection to https://ivie.vn/cong-dong?page=2581! Try again in 3 seconds.\n"
     ]
    },
    {
     "name": "stderr",
     "output_type": "stream",
     "text": [
      "Processing page 2582: : 0it [00:00, ?it/s]\n"
     ]
    },
    {
     "name": "stdout",
     "output_type": "stream",
     "text": [
      "Can't get connection to https://ivie.vn/cong-dong?page=2583! Try again in 3 seconds.\n",
      "Can't get connection to https://ivie.vn/cong-dong?page=2578! Try again in 3 seconds.\n",
      "Can't get connection to https://ivie.vn/cong-dong?page=2584! Try again in 3 seconds.\n"
     ]
    },
    {
     "name": "stderr",
     "output_type": "stream",
     "text": [
      "Processing page 2585: : 0it [00:00, ?it/s]\n",
      "Processing page 2581: : 0it [00:00, ?it/s]\n",
      "Processing page 2583: : 0it [00:00, ?it/s]\n"
     ]
    },
    {
     "name": "stdout",
     "output_type": "stream",
     "text": [
      "Can't get connection to https://ivie.vn/cong-dong?page=2584! Try again in 3 seconds.\n"
     ]
    },
    {
     "name": "stderr",
     "output_type": "stream",
     "text": [
      "Processing page 2587: : 0it [00:00, ?it/s]\n",
      "Processing page 2578: : 0it [00:00, ?it/s]\n"
     ]
    },
    {
     "name": "stdout",
     "output_type": "stream",
     "text": [
      "Can't get connection to https://ivie.vn/cong-dong?page=2586! Try again in 3 seconds.\n",
      "Can't get connection to https://ivie.vn/cong-dong?page=2588! Try again in 3 seconds.\n",
      "Can't get connection to https://ivie.vn/cong-dong?page=2590! Try again in 3 seconds.\n"
     ]
    },
    {
     "name": "stderr",
     "output_type": "stream",
     "text": [
      "Processing page 2589: : 0it [00:00, ?it/s]\n",
      "Processing page 2584: : 0it [00:00, ?it/s]\n"
     ]
    },
    {
     "name": "stdout",
     "output_type": "stream",
     "text": [
      "Can't get connection to https://ivie.vn/cong-dong?page=2586! Try again in 3 seconds.\n"
     ]
    },
    {
     "name": "stderr",
     "output_type": "stream",
     "text": [
      "Processing page 2588: : 0it [00:00, ?it/s]\n",
      "Processing page 2591: : 0it [00:00, ?it/s]\n",
      "Processing page 2592: : 0it [00:00, ?it/s]\n",
      "Processing page 2590: : 0it [00:00, ?it/s]\n"
     ]
    },
    {
     "name": "stdout",
     "output_type": "stream",
     "text": [
      "Can't get connection to https://ivie.vn/cong-dong?page=2594! Try again in 3 seconds.\n",
      "Can't get connection to https://ivie.vn/cong-dong?page=2593! Try again in 3 seconds.\n"
     ]
    },
    {
     "name": "stderr",
     "output_type": "stream",
     "text": [
      "Processing page 2586: : 0it [00:00, ?it/s]\n",
      "Processing page 2595: : 0it [00:00, ?it/s]\n",
      "Processing page 2596: : 0it [00:00, ?it/s]\n",
      "Processing page 2597: : 0it [00:00, ?it/s]\n"
     ]
    },
    {
     "name": "stdout",
     "output_type": "stream",
     "text": [
      "Can't get connection to https://ivie.vn/cong-dong?page=2594! Try again in 3 seconds.\n"
     ]
    },
    {
     "name": "stderr",
     "output_type": "stream",
     "text": [
      "Processing page 2593: : 0it [00:00, ?it/s]\n",
      "Processing page 2598: : 0it [00:00, ?it/s]\n",
      "Processing page 2599: : 0it [00:00, ?it/s]\n"
     ]
    },
    {
     "name": "stdout",
     "output_type": "stream",
     "text": [
      "Can't get connection to https://ivie.vn/cong-dong?page=2600! Try again in 3 seconds.\n"
     ]
    },
    {
     "name": "stderr",
     "output_type": "stream",
     "text": [
      "Processing page 2601: : 0it [00:00, ?it/s]\n"
     ]
    },
    {
     "name": "stdout",
     "output_type": "stream",
     "text": [
      "Can't get connection to https://ivie.vn/cong-dong?page=2602! Try again in 3 seconds.\n"
     ]
    },
    {
     "name": "stderr",
     "output_type": "stream",
     "text": [
      "Processing page 2603: : 0it [00:00, ?it/s]\n",
      "Processing page 2594: : 0it [00:00, ?it/s]\n",
      "Processing page 2600: : 0it [00:00, ?it/s]\n",
      "Processing page 2605: : 0it [00:00, ?it/s]\n",
      "Processing page 2604: : 0it [00:00, ?it/s]\n",
      "Processing page 2602: : 0it [00:00, ?it/s]\n",
      "Processing page 2606: : 0it [00:00, ?it/s]\n",
      "Processing page 2607: : 0it [00:00, ?it/s]\n"
     ]
    },
    {
     "name": "stdout",
     "output_type": "stream",
     "text": [
      "Can't get connection to https://ivie.vn/cong-dong?page=2610! Try again in 3 seconds.\n"
     ]
    },
    {
     "name": "stderr",
     "output_type": "stream",
     "text": [
      "Processing page 2609: : 0it [00:00, ?it/s]\n",
      "Processing page 2608: : 0it [00:00, ?it/s]\n",
      "Processing page 2611: : 0it [00:00, ?it/s]\n",
      "Processing page 2612: : 0it [00:00, ?it/s]\n"
     ]
    },
    {
     "name": "stdout",
     "output_type": "stream",
     "text": [
      "Can't get connection to https://ivie.vn/cong-dong?page=2613! Try again in 3 seconds.\n",
      "Can't get connection to https://ivie.vn/cong-dong?page=2614! Try again in 3 seconds.\n",
      "Can't get connection to https://ivie.vn/cong-dong?page=2610! Try again in 3 seconds.\n"
     ]
    },
    {
     "name": "stderr",
     "output_type": "stream",
     "text": [
      "Processing page 2615: : 0it [00:00, ?it/s]\n"
     ]
    },
    {
     "name": "stdout",
     "output_type": "stream",
     "text": [
      "Can't get connection to https://ivie.vn/cong-dong?page=2616! Try again in 3 seconds.\n"
     ]
    },
    {
     "name": "stderr",
     "output_type": "stream",
     "text": [
      "Processing page 2614: : 0it [00:00, ?it/s]\n",
      "Processing page 2613: : 0it [00:00, ?it/s]\n",
      "Processing page 2610: : 0it [00:00, ?it/s]\n",
      "Processing page 2617: : 0it [00:00, ?it/s]\n"
     ]
    },
    {
     "name": "stdout",
     "output_type": "stream",
     "text": [
      "Can't get connection to https://ivie.vn/cong-dong?page=2616! Try again in 3 seconds.\n",
      "Can't get connection to https://ivie.vn/cong-dong?page=2618! Try again in 3 seconds.\n"
     ]
    },
    {
     "name": "stderr",
     "output_type": "stream",
     "text": [
      "Processing page 2620: : 0it [00:00, ?it/s]\n"
     ]
    },
    {
     "name": "stdout",
     "output_type": "stream",
     "text": [
      "Can't get connection to https://ivie.vn/cong-dong?page=2619! Try again in 3 seconds.\n",
      "Can't get connection to https://ivie.vn/cong-dong?page=2621! Try again in 3 seconds.\n"
     ]
    },
    {
     "name": "stderr",
     "output_type": "stream",
     "text": [
      "Processing page 2616: : 0it [00:00, ?it/s]\n"
     ]
    },
    {
     "name": "stdout",
     "output_type": "stream",
     "text": [
      "Can't get connection to https://ivie.vn/cong-dong?page=2622! Try again in 3 seconds.\n"
     ]
    },
    {
     "name": "stderr",
     "output_type": "stream",
     "text": [
      "Processing page 2619: : 0it [00:00, ?it/s]\n"
     ]
    },
    {
     "name": "stdout",
     "output_type": "stream",
     "text": [
      "Can't get connection to https://ivie.vn/cong-dong?page=2618! Try again in 3 seconds.\n"
     ]
    },
    {
     "name": "stderr",
     "output_type": "stream",
     "text": [
      "Processing page 2621: : 0it [00:00, ?it/s]\n"
     ]
    },
    {
     "name": "stdout",
     "output_type": "stream",
     "text": [
      "Can't get connection to https://ivie.vn/cong-dong?page=2623! Try again in 3 seconds.\n"
     ]
    },
    {
     "name": "stderr",
     "output_type": "stream",
     "text": [
      "Processing page 2622: : 0it [00:00, ?it/s]\n",
      "Processing page 2625: : 0it [00:00, ?it/s]\n"
     ]
    },
    {
     "name": "stdout",
     "output_type": "stream",
     "text": [
      "Can't get connection to https://ivie.vn/cong-dong?page=2624! Try again in 3 seconds.\n"
     ]
    },
    {
     "name": "stderr",
     "output_type": "stream",
     "text": [
      "Processing page 2618: : 0it [00:00, ?it/s]\n"
     ]
    },
    {
     "name": "stdout",
     "output_type": "stream",
     "text": [
      "Can't get connection to https://ivie.vn/cong-dong?page=2623! Try again in 3 seconds.\n",
      "Can't get connection to https://ivie.vn/cong-dong?page=2627! Try again in 3 seconds.\n",
      "Can't get connection to https://ivie.vn/cong-dong?page=2624! Try again in 3 seconds.\n",
      "Can't get connection to https://ivie.vn/cong-dong?page=2626! Try again in 3 seconds.\n"
     ]
    },
    {
     "name": "stderr",
     "output_type": "stream",
     "text": [
      "Processing page 2628: : 0it [00:00, ?it/s]\n",
      "Processing page 2623: : 0it [00:00, ?it/s]\n"
     ]
    },
    {
     "name": "stdout",
     "output_type": "stream",
     "text": [
      "Can't get connection to https://ivie.vn/cong-dong?page=2627! Try again in 3 seconds.\n"
     ]
    },
    {
     "name": "stderr",
     "output_type": "stream",
     "text": [
      "Processing page 2629: : 0it [00:00, ?it/s]\n"
     ]
    },
    {
     "name": "stdout",
     "output_type": "stream",
     "text": [
      "Can't get connection to https://ivie.vn/cong-dong?page=2626! Try again in 3 seconds.\n"
     ]
    },
    {
     "name": "stderr",
     "output_type": "stream",
     "text": [
      "Processing page 2624: : 0it [00:00, ?it/s]\n"
     ]
    },
    {
     "name": "stdout",
     "output_type": "stream",
     "text": [
      "Can't get connection to https://ivie.vn/cong-dong?page=2630! Try again in 3 seconds.\n"
     ]
    },
    {
     "name": "stderr",
     "output_type": "stream",
     "text": [
      "Processing page 2631: : 0it [00:00, ?it/s]\n",
      "Processing page 2627: : 0it [00:00, ?it/s]\n",
      "Processing page 2632: : 0it [00:00, ?it/s]\n",
      "Processing page 2626: : 0it [00:00, ?it/s]\n"
     ]
    },
    {
     "name": "stdout",
     "output_type": "stream",
     "text": [
      "Can't get connection to https://ivie.vn/cong-dong?page=2630! Try again in 3 seconds.\n"
     ]
    },
    {
     "name": "stderr",
     "output_type": "stream",
     "text": [
      "Processing page 2633: : 0it [00:00, ?it/s]\n"
     ]
    },
    {
     "name": "stdout",
     "output_type": "stream",
     "text": [
      "Can't get connection to https://ivie.vn/cong-dong?page=2635! Try again in 3 seconds.\n",
      "Can't get connection to https://ivie.vn/cong-dong?page=2636! Try again in 3 seconds.\n"
     ]
    },
    {
     "name": "stderr",
     "output_type": "stream",
     "text": [
      "Processing page 2634: : 0it [00:00, ?it/s]\n"
     ]
    },
    {
     "name": "stdout",
     "output_type": "stream",
     "text": [
      "Can't get connection to https://ivie.vn/cong-dong?page=2637! Try again in 3 seconds.\n",
      "Can't get connection to https://ivie.vn/cong-dong?page=2630! Try again in 3 seconds.\n",
      "Can't get connection to https://ivie.vn/cong-dong?page=2638! Try again in 3 seconds.\n",
      "Can't get connection to https://ivie.vn/cong-dong?page=2636! Try again in 3 seconds.\n"
     ]
    },
    {
     "name": "stderr",
     "output_type": "stream",
     "text": [
      "Processing page 2635: : 0it [00:00, ?it/s]\n",
      "Processing page 2637: : 0it [00:00, ?it/s]\n",
      "Processing page 2630: : 0it [00:00, ?it/s]\n"
     ]
    },
    {
     "name": "stdout",
     "output_type": "stream",
     "text": [
      "Can't get connection to https://ivie.vn/cong-dong?page=2639! Try again in 3 seconds.\n"
     ]
    },
    {
     "name": "stderr",
     "output_type": "stream",
     "text": [
      "Processing page 2638: : 0it [00:00, ?it/s]\n",
      "Processing page 2636: : 0it [00:00, ?it/s]\n"
     ]
    },
    {
     "name": "stdout",
     "output_type": "stream",
     "text": [
      "Can't get connection to https://ivie.vn/cong-dong?page=2641! Try again in 3 seconds.\n",
      "Can't get connection to https://ivie.vn/cong-dong?page=2642! Try again in 3 seconds.\n",
      "Can't get connection to https://ivie.vn/cong-dong?page=2640! Try again in 3 seconds.\n",
      "Can't get connection to https://ivie.vn/cong-dong?page=2639! Try again in 3 seconds.\n"
     ]
    },
    {
     "name": "stderr",
     "output_type": "stream",
     "text": [
      "Processing page 2643: : 0it [00:00, ?it/s]\n"
     ]
    },
    {
     "name": "stdout",
     "output_type": "stream",
     "text": [
      "Can't get connection to https://ivie.vn/cong-dong?page=2640! Try again in 3 seconds.\n",
      "Can't get connection to https://ivie.vn/cong-dong?page=2641! Try again in 3 seconds.\n",
      "Can't get connection to https://ivie.vn/cong-dong?page=2644! Try again in 3 seconds.\n"
     ]
    },
    {
     "name": "stderr",
     "output_type": "stream",
     "text": [
      "Processing page 2642: : 0it [00:00, ?it/s]\n"
     ]
    },
    {
     "name": "stdout",
     "output_type": "stream",
     "text": [
      "Can't get connection to https://ivie.vn/cong-dong?page=2639! Try again in 3 seconds.\n",
      "Can't get connection to https://ivie.vn/cong-dong?page=2645! Try again in 3 seconds.\n",
      "Can't get connection to https://ivie.vn/cong-dong?page=2641! Try again in 3 seconds.\n"
     ]
    },
    {
     "name": "stderr",
     "output_type": "stream",
     "text": [
      "Processing page 2640: : 0it [00:00, ?it/s]\n"
     ]
    },
    {
     "name": "stdout",
     "output_type": "stream",
     "text": [
      "Can't get connection to https://ivie.vn/cong-dong?page=2639! Try again in 3 seconds.\n",
      "Can't get connection to https://ivie.vn/cong-dong?page=2645! Try again in 3 seconds.\n"
     ]
    },
    {
     "name": "stderr",
     "output_type": "stream",
     "text": [
      "Processing page 2641: : 0it [00:00, ?it/s]\n"
     ]
    },
    {
     "name": "stdout",
     "output_type": "stream",
     "text": [
      "Can't get connection to https://ivie.vn/cong-dong?page=2646! Try again in 3 seconds.\n"
     ]
    },
    {
     "name": "stderr",
     "output_type": "stream",
     "text": [
      "Processing page 2644: : 0it [00:00, ?it/s]\n",
      "Processing page 2639: : 0it [00:00, ?it/s]\n"
     ]
    },
    {
     "name": "stdout",
     "output_type": "stream",
     "text": [
      "Can't get connection to https://ivie.vn/cong-dong?page=2647! Try again in 3 seconds.\n",
      "Can't get connection to https://ivie.vn/cong-dong?page=2648! Try again in 3 seconds.\n"
     ]
    },
    {
     "name": "stderr",
     "output_type": "stream",
     "text": [
      "Processing page 2646: : 0it [00:00, ?it/s]\n",
      "Processing page 2649: : 0it [00:00, ?it/s]\n",
      "Processing page 2647: : 0it [00:00, ?it/s]\n",
      "Processing page 2650: : 0it [00:00, ?it/s]\n",
      "Processing page 2645: : 0it [00:00, ?it/s]\n",
      "Processing page 2651: : 0it [00:00, ?it/s]\n"
     ]
    },
    {
     "name": "stdout",
     "output_type": "stream",
     "text": [
      "Can't get connection to https://ivie.vn/cong-dong?page=2648! Try again in 3 seconds.\n",
      "Can't get connection to https://ivie.vn/cong-dong?page=2652! Try again in 3 seconds.\n",
      "Can't get connection to https://ivie.vn/cong-dong?page=2653! Try again in 3 seconds.\n"
     ]
    },
    {
     "name": "stderr",
     "output_type": "stream",
     "text": [
      "Processing page 2655: : 0it [00:00, ?it/s]\n"
     ]
    },
    {
     "name": "stdout",
     "output_type": "stream",
     "text": [
      "Can't get connection to https://ivie.vn/cong-dong?page=2648! Try again in 3 seconds.\n",
      "Can't get connection to https://ivie.vn/cong-dong?page=2653! Try again in 3 seconds.\n"
     ]
    },
    {
     "name": "stderr",
     "output_type": "stream",
     "text": [
      "Processing page 2656: : 0it [00:00, ?it/s]\n"
     ]
    },
    {
     "name": "stdout",
     "output_type": "stream",
     "text": [
      "Can't get connection to https://ivie.vn/cong-dong?page=2654! Try again in 3 seconds.\n"
     ]
    },
    {
     "name": "stderr",
     "output_type": "stream",
     "text": [
      "Processing page 2652: : 0it [00:00, ?it/s]\n"
     ]
    },
    {
     "name": "stdout",
     "output_type": "stream",
     "text": [
      "Can't get connection to https://ivie.vn/cong-dong?page=2657! Try again in 3 seconds.\n"
     ]
    },
    {
     "name": "stderr",
     "output_type": "stream",
     "text": [
      "Processing page 2658: : 0it [00:00, ?it/s]\n",
      "Processing page 2648: : 0it [00:00, ?it/s]\n"
     ]
    },
    {
     "name": "stdout",
     "output_type": "stream",
     "text": [
      "Can't get connection to https://ivie.vn/cong-dong?page=2654! Try again in 3 seconds.\n"
     ]
    },
    {
     "name": "stderr",
     "output_type": "stream",
     "text": [
      "Processing page 2653: : 0it [00:00, ?it/s]\n",
      "Processing page 2659: : 0it [00:00, ?it/s]\n",
      "Processing page 2660: : 0it [00:00, ?it/s]\n",
      "Processing page 2657: : 0it [00:00, ?it/s]\n"
     ]
    },
    {
     "name": "stdout",
     "output_type": "stream",
     "text": [
      "Can't get connection to https://ivie.vn/cong-dong?page=2661! Try again in 3 seconds.\n"
     ]
    },
    {
     "name": "stderr",
     "output_type": "stream",
     "text": [
      "Processing page 2663: : 0it [00:00, ?it/s]\n",
      "Processing page 2662: : 0it [00:00, ?it/s]\n",
      "Processing page 2664: : 0it [00:00, ?it/s]\n"
     ]
    },
    {
     "name": "stdout",
     "output_type": "stream",
     "text": [
      "Can't get connection to https://ivie.vn/cong-dong?page=2654! Try again in 3 seconds.\n",
      "Can't get connection to https://ivie.vn/cong-dong?page=2665! Try again in 3 seconds.\n"
     ]
    },
    {
     "name": "stderr",
     "output_type": "stream",
     "text": [
      "Processing page 2666: : 0it [00:00, ?it/s]\n"
     ]
    },
    {
     "name": "stdout",
     "output_type": "stream",
     "text": [
      "Can't get connection to https://ivie.vn/cong-dong?page=2667! Try again in 3 seconds.\n"
     ]
    },
    {
     "name": "stderr",
     "output_type": "stream",
     "text": [
      "Processing page 2661: : 0it [00:00, ?it/s]\n"
     ]
    },
    {
     "name": "stdout",
     "output_type": "stream",
     "text": [
      "Can't get connection to https://ivie.vn/cong-dong?page=2654! Try again in 3 seconds.\n"
     ]
    },
    {
     "name": "stderr",
     "output_type": "stream",
     "text": [
      "Processing page 2668: : 0it [00:00, ?it/s]\n",
      "Processing page 2665: : 0it [00:00, ?it/s]\n"
     ]
    },
    {
     "name": "stdout",
     "output_type": "stream",
     "text": [
      "Can't get connection to https://ivie.vn/cong-dong?page=2669! Try again in 3 seconds.\n",
      "Can't get connection to https://ivie.vn/cong-dong?page=2667! Try again in 3 seconds.\n"
     ]
    },
    {
     "name": "stderr",
     "output_type": "stream",
     "text": [
      "Processing page 2670: : 0it [00:00, ?it/s]\n",
      "Processing page 2654: : 0it [00:00, ?it/s]\n",
      "Processing page 2671: : 0it [00:00, ?it/s]\n",
      "Processing page 2669: : 0it [00:00, ?it/s]\n"
     ]
    },
    {
     "name": "stdout",
     "output_type": "stream",
     "text": [
      "Can't get connection to https://ivie.vn/cong-dong?page=2672! Try again in 3 seconds.\n"
     ]
    },
    {
     "name": "stderr",
     "output_type": "stream",
     "text": [
      "Processing page 2673: : 0it [00:00, ?it/s]\n",
      "Processing page 2667: : 0it [00:00, ?it/s]\n",
      "Processing page 2674: : 0it [00:00, ?it/s]\n"
     ]
    },
    {
     "name": "stdout",
     "output_type": "stream",
     "text": [
      "Can't get connection to https://ivie.vn/cong-dong?page=2676! Try again in 3 seconds.\n"
     ]
    },
    {
     "name": "stderr",
     "output_type": "stream",
     "text": [
      "Processing page 2672: : 0it [00:00, ?it/s]\n",
      "Processing page 2677: : 0it [00:00, ?it/s]\n"
     ]
    },
    {
     "name": "stdout",
     "output_type": "stream",
     "text": [
      "Can't get connection to https://ivie.vn/cong-dong?page=2675! Try again in 3 seconds.\n",
      "Can't get connection to https://ivie.vn/cong-dong?page=2678! Try again in 3 seconds.\n"
     ]
    },
    {
     "name": "stderr",
     "output_type": "stream",
     "text": [
      "Processing page 2679: : 0it [00:00, ?it/s]\n",
      "Processing page 2676: : 0it [00:00, ?it/s]\n",
      "Processing page 2678: : 0it [00:00, ?it/s]\n"
     ]
    },
    {
     "name": "stdout",
     "output_type": "stream",
     "text": [
      "Can't get connection to https://ivie.vn/cong-dong?page=2680! Try again in 3 seconds.\n",
      "Can't get connection to https://ivie.vn/cong-dong?page=2675! Try again in 3 seconds.\n"
     ]
    },
    {
     "name": "stderr",
     "output_type": "stream",
     "text": [
      "Processing page 2681: : 0it [00:00, ?it/s]\n",
      "Processing page 2682: : 0it [00:00, ?it/s]\n"
     ]
    },
    {
     "name": "stdout",
     "output_type": "stream",
     "text": [
      "Can't get connection to https://ivie.vn/cong-dong?page=2683! Try again in 3 seconds.\n"
     ]
    },
    {
     "name": "stderr",
     "output_type": "stream",
     "text": [
      "Processing page 2680: : 0it [00:00, ?it/s]\n",
      "Processing page 2675: : 0it [00:00, ?it/s]\n"
     ]
    },
    {
     "name": "stdout",
     "output_type": "stream",
     "text": [
      "Can't get connection to https://ivie.vn/cong-dong?page=2685! Try again in 3 seconds.\n",
      "Can't get connection to https://ivie.vn/cong-dong?page=2684! Try again in 3 seconds.\n",
      "Can't get connection to https://ivie.vn/cong-dong?page=2686! Try again in 3 seconds.\n"
     ]
    },
    {
     "name": "stderr",
     "output_type": "stream",
     "text": [
      "Processing page 2683: : 0it [00:00, ?it/s]\n",
      "Processing page 2687: : 0it [00:00, ?it/s]\n",
      "Processing page 2685: : 0it [00:00, ?it/s]\n",
      "Processing page 2688: : 0it [00:00, ?it/s]\n",
      "Processing page 2686: : 0it [00:00, ?it/s]\n",
      "Processing page 2689: : 0it [00:00, ?it/s]\n",
      "Processing page 2690: : 0it [00:00, ?it/s]\n"
     ]
    },
    {
     "name": "stdout",
     "output_type": "stream",
     "text": [
      "Can't get connection to https://ivie.vn/cong-dong?page=2684! Try again in 3 seconds.\n"
     ]
    },
    {
     "name": "stderr",
     "output_type": "stream",
     "text": [
      "Processing page 2691: : 0it [00:00, ?it/s]\n",
      "Processing page 2692: : 0it [00:00, ?it/s]\n"
     ]
    },
    {
     "name": "stdout",
     "output_type": "stream",
     "text": [
      "Can't get connection to https://ivie.vn/cong-dong?page=2693! Try again in 3 seconds.\n"
     ]
    },
    {
     "name": "stderr",
     "output_type": "stream",
     "text": [
      "Processing page 2694: : 0it [00:00, ?it/s]\n"
     ]
    },
    {
     "name": "stdout",
     "output_type": "stream",
     "text": [
      "Can't get connection to https://ivie.vn/cong-dong?page=2695! Try again in 3 seconds.\n"
     ]
    },
    {
     "name": "stderr",
     "output_type": "stream",
     "text": [
      "Processing page 2684: : 0it [00:00, ?it/s]\n"
     ]
    },
    {
     "name": "stdout",
     "output_type": "stream",
     "text": [
      "Can't get connection to https://ivie.vn/cong-dong?page=2696! Try again in 3 seconds.\n"
     ]
    },
    {
     "name": "stderr",
     "output_type": "stream",
     "text": [
      "Processing page 2693: : 0it [00:00, ?it/s]\n",
      "Processing page 2698: : 0it [00:00, ?it/s]\n"
     ]
    },
    {
     "name": "stdout",
     "output_type": "stream",
     "text": [
      "Can't get connection to https://ivie.vn/cong-dong?page=2697! Try again in 3 seconds.\n",
      "Can't get connection to https://ivie.vn/cong-dong?page=2696! Try again in 3 seconds.\n"
     ]
    },
    {
     "name": "stderr",
     "output_type": "stream",
     "text": [
      "Processing page 2695: : 0it [00:00, ?it/s]\n",
      "Processing page 2699: : 0it [00:00, ?it/s]\n",
      "Processing page 2700: : 0it [00:00, ?it/s]\n"
     ]
    },
    {
     "name": "stdout",
     "output_type": "stream",
     "text": [
      "Can't get connection to https://ivie.vn/cong-dong?page=2697! Try again in 3 seconds.\n",
      "Can't get connection to https://ivie.vn/cong-dong?page=2702! Try again in 3 seconds.\n"
     ]
    },
    {
     "name": "stderr",
     "output_type": "stream",
     "text": [
      "Processing page 2701: : 0it [00:00, ?it/s]\n",
      "Processing page 2696: : 0it [00:00, ?it/s]\n",
      "Processing page 2703: : 0it [00:00, ?it/s]\n",
      "Processing page 2704: : 0it [00:00, ?it/s]\n"
     ]
    },
    {
     "name": "stdout",
     "output_type": "stream",
     "text": [
      "Can't get connection to https://ivie.vn/cong-dong?page=2697! Try again in 3 seconds.\n"
     ]
    },
    {
     "name": "stderr",
     "output_type": "stream",
     "text": [
      "Processing page 2702: : 0it [00:00, ?it/s]\n",
      "Processing page 2705: : 0it [00:00, ?it/s]\n",
      "Processing page 2706: : 0it [00:00, ?it/s]\n"
     ]
    },
    {
     "name": "stdout",
     "output_type": "stream",
     "text": [
      "Can't get connection to https://ivie.vn/cong-dong?page=2707! Try again in 3 seconds.\n",
      "Can't get connection to https://ivie.vn/cong-dong?page=2709! Try again in 3 seconds.\n"
     ]
    },
    {
     "name": "stderr",
     "output_type": "stream",
     "text": [
      "Processing page 2708: : 0it [00:00, ?it/s]\n",
      "Processing page 2697: : 0it [00:00, ?it/s]\n",
      "Processing page 2710: : 0it [00:00, ?it/s]\n"
     ]
    },
    {
     "name": "stdout",
     "output_type": "stream",
     "text": [
      "Can't get connection to https://ivie.vn/cong-dong?page=2707! Try again in 3 seconds.\n"
     ]
    },
    {
     "name": "stderr",
     "output_type": "stream",
     "text": [
      "Processing page 2711: : 0it [00:00, ?it/s]\n",
      "Processing page 2712: : 0it [00:00, ?it/s]\n",
      "Processing page 2713: : 0it [00:00, ?it/s]\n",
      "Processing page 2709: : 0it [00:00, ?it/s]\n"
     ]
    },
    {
     "name": "stdout",
     "output_type": "stream",
     "text": [
      "Can't get connection to https://ivie.vn/cong-dong?page=2707! Try again in 3 seconds.\n"
     ]
    },
    {
     "name": "stderr",
     "output_type": "stream",
     "text": [
      "Processing page 2714: : 0it [00:00, ?it/s]\n",
      "Processing page 2715: : 0it [00:00, ?it/s]\n",
      "Processing page 2716: : 0it [00:00, ?it/s]\n"
     ]
    },
    {
     "name": "stdout",
     "output_type": "stream",
     "text": [
      "Can't get connection to https://ivie.vn/cong-dong?page=2717! Try again in 3 seconds.\n"
     ]
    },
    {
     "name": "stderr",
     "output_type": "stream",
     "text": [
      "Processing page 2718: : 0it [00:00, ?it/s]\n"
     ]
    },
    {
     "name": "stdout",
     "output_type": "stream",
     "text": [
      "Can't get connection to https://ivie.vn/cong-dong?page=2719! Try again in 3 seconds.\n",
      "Can't get connection to https://ivie.vn/cong-dong?page=2707! Try again in 3 seconds.\n",
      "Can't get connection to https://ivie.vn/cong-dong?page=2720! Try again in 3 seconds.\n"
     ]
    },
    {
     "name": "stderr",
     "output_type": "stream",
     "text": [
      "Processing page 2721: : 0it [00:00, ?it/s]\n"
     ]
    },
    {
     "name": "stdout",
     "output_type": "stream",
     "text": [
      "Can't get connection to https://ivie.vn/cong-dong?page=2719! Try again in 3 seconds.\n",
      "Can't get connection to https://ivie.vn/cong-dong?page=2717! Try again in 3 seconds.\n",
      "Can't get connection to https://ivie.vn/cong-dong?page=2720! Try again in 3 seconds.\n"
     ]
    },
    {
     "name": "stderr",
     "output_type": "stream",
     "text": [
      "Processing page 2707: : 0it [00:00, ?it/s]\n",
      "Processing page 2722: : 0it [00:00, ?it/s]\n",
      "Processing page 2723: : 0it [00:00, ?it/s]\n",
      "Processing page 2719: : 0it [00:00, ?it/s]\n",
      "Processing page 2724: : 0it [00:00, ?it/s]\n",
      "Processing page 2720: : 0it [00:00, ?it/s]\n"
     ]
    },
    {
     "name": "stdout",
     "output_type": "stream",
     "text": [
      "Can't get connection to https://ivie.vn/cong-dong?page=2717! Try again in 3 seconds.\n"
     ]
    },
    {
     "name": "stderr",
     "output_type": "stream",
     "text": [
      "Processing page 2725: : 0it [00:00, ?it/s]\n",
      "Processing page 2727: : 0it [00:00, ?it/s]\n",
      "Processing page 2728: : 0it [00:00, ?it/s]\n"
     ]
    },
    {
     "name": "stdout",
     "output_type": "stream",
     "text": [
      "Can't get connection to https://ivie.vn/cong-dong?page=2726! Try again in 3 seconds.\n"
     ]
    },
    {
     "name": "stderr",
     "output_type": "stream",
     "text": [
      "Processing page 2717: : 0it [00:00, ?it/s]\n",
      "Processing page 2729: : 0it [00:00, ?it/s]\n",
      "Processing page 2730: : 0it [00:00, ?it/s]\n",
      "Processing page 2731: : 0it [00:00, ?it/s]\n",
      "Processing page 2726: : 0it [00:00, ?it/s]\n",
      "Processing page 2732: : 0it [00:00, ?it/s]\n",
      "Processing page 2733: : 0it [00:00, ?it/s]\n",
      "Processing page 2734: : 0it [00:00, ?it/s]\n"
     ]
    },
    {
     "name": "stdout",
     "output_type": "stream",
     "text": [
      "Can't get connection to https://ivie.vn/cong-dong?page=2735! Try again in 3 seconds.\n"
     ]
    },
    {
     "name": "stderr",
     "output_type": "stream",
     "text": [
      "Processing page 2736: : 0it [00:00, ?it/s]\n"
     ]
    },
    {
     "name": "stdout",
     "output_type": "stream",
     "text": [
      "Can't get connection to https://ivie.vn/cong-dong?page=2737! Try again in 3 seconds.\n",
      "Can't get connection to https://ivie.vn/cong-dong?page=2738! Try again in 3 seconds.\n"
     ]
    },
    {
     "name": "stderr",
     "output_type": "stream",
     "text": [
      "Processing page 2740: : 0it [00:00, ?it/s]\n"
     ]
    },
    {
     "name": "stdout",
     "output_type": "stream",
     "text": [
      "Can't get connection to https://ivie.vn/cong-dong?page=2735! Try again in 3 seconds.\n",
      "Can't get connection to https://ivie.vn/cong-dong?page=2739! Try again in 3 seconds.\n",
      "Can't get connection to https://ivie.vn/cong-dong?page=2737! Try again in 3 seconds.\n",
      "Can't get connection to https://ivie.vn/cong-dong?page=2738! Try again in 3 seconds.\n"
     ]
    },
    {
     "name": "stderr",
     "output_type": "stream",
     "text": [
      "Processing page 2741: : 0it [00:00, ?it/s]\n",
      "Processing page 2739: : 0it [00:00, ?it/s]\n"
     ]
    },
    {
     "name": "stdout",
     "output_type": "stream",
     "text": [
      "Can't get connection to https://ivie.vn/cong-dong?page=2735! Try again in 3 seconds.\n"
     ]
    },
    {
     "name": "stderr",
     "output_type": "stream",
     "text": [
      "Processing page 2742: : 0it [00:00, ?it/s]\n"
     ]
    },
    {
     "name": "stdout",
     "output_type": "stream",
     "text": [
      "Can't get connection to https://ivie.vn/cong-dong?page=2737! Try again in 3 seconds.\n"
     ]
    },
    {
     "name": "stderr",
     "output_type": "stream",
     "text": [
      "Processing page 2738: : 0it [00:00, ?it/s]\n"
     ]
    },
    {
     "name": "stdout",
     "output_type": "stream",
     "text": [
      "Can't get connection to https://ivie.vn/cong-dong?page=2743! Try again in 3 seconds.\n"
     ]
    },
    {
     "name": "stderr",
     "output_type": "stream",
     "text": [
      "Processing page 2735: : 0it [00:00, ?it/s]\n",
      "Processing page 2744: : 0it [00:00, ?it/s]\n",
      "Processing page 2745: : 0it [00:00, ?it/s]\n",
      "Processing page 2737: : 0it [00:00, ?it/s]\n",
      "Processing page 2743: : 0it [00:00, ?it/s]\n",
      "Processing page 2746: : 0it [00:00, ?it/s]\n"
     ]
    },
    {
     "name": "stdout",
     "output_type": "stream",
     "text": [
      "Can't get connection to https://ivie.vn/cong-dong?page=2747! Try again in 3 seconds.\n"
     ]
    },
    {
     "name": "stderr",
     "output_type": "stream",
     "text": [
      "Processing page 2748: : 0it [00:00, ?it/s]\n",
      "Processing page 2749: : 0it [00:00, ?it/s]\n",
      "Processing page 2750: : 0it [00:00, ?it/s]\n"
     ]
    },
    {
     "name": "stdout",
     "output_type": "stream",
     "text": [
      "Can't get connection to https://ivie.vn/cong-dong?page=2751! Try again in 3 seconds.\n"
     ]
    },
    {
     "name": "stderr",
     "output_type": "stream",
     "text": [
      "Processing page 2747: : 0it [00:00, ?it/s]\n"
     ]
    },
    {
     "name": "stdout",
     "output_type": "stream",
     "text": [
      "Can't get connection to https://ivie.vn/cong-dong?page=2753! Try again in 3 seconds.\n",
      "Can't get connection to https://ivie.vn/cong-dong?page=2754! Try again in 3 seconds.\n",
      "Can't get connection to https://ivie.vn/cong-dong?page=2752! Try again in 3 seconds.\n",
      "Can't get connection to https://ivie.vn/cong-dong?page=2751! Try again in 3 seconds.\n"
     ]
    },
    {
     "name": "stderr",
     "output_type": "stream",
     "text": [
      "Processing page 2755: : 0it [00:00, ?it/s]\n"
     ]
    },
    {
     "name": "stdout",
     "output_type": "stream",
     "text": [
      "Can't get connection to https://ivie.vn/cong-dong?page=2752! Try again in 3 seconds.\n"
     ]
    },
    {
     "name": "stderr",
     "output_type": "stream",
     "text": [
      "Processing page 2753: : 0it [00:00, ?it/s]\n"
     ]
    },
    {
     "name": "stdout",
     "output_type": "stream",
     "text": [
      "Can't get connection to https://ivie.vn/cong-dong?page=2754! Try again in 3 seconds.\n",
      "Can't get connection to https://ivie.vn/cong-dong?page=2751! Try again in 3 seconds.\n",
      "Can't get connection to https://ivie.vn/cong-dong?page=2756! Try again in 3 seconds.\n",
      "Can't get connection to https://ivie.vn/cong-dong?page=2757! Try again in 3 seconds.\n"
     ]
    },
    {
     "name": "stderr",
     "output_type": "stream",
     "text": [
      "Processing page 2752: : 0it [00:00, ?it/s]\n",
      "Processing page 2754: : 0it [00:00, ?it/s]\n"
     ]
    },
    {
     "name": "stdout",
     "output_type": "stream",
     "text": [
      "Can't get connection to https://ivie.vn/cong-dong?page=2751! Try again in 3 seconds.\n"
     ]
    },
    {
     "name": "stderr",
     "output_type": "stream",
     "text": [
      "Processing page 2756: : 0it [00:00, ?it/s]\n"
     ]
    },
    {
     "name": "stdout",
     "output_type": "stream",
     "text": [
      "Can't get connection to https://ivie.vn/cong-dong?page=2757! Try again in 3 seconds.\n"
     ]
    },
    {
     "name": "stderr",
     "output_type": "stream",
     "text": [
      "Processing page 2758: : 0it [00:00, ?it/s]\n"
     ]
    },
    {
     "name": "stdout",
     "output_type": "stream",
     "text": [
      "Can't get connection to https://ivie.vn/cong-dong?page=2759! Try again in 3 seconds.\n"
     ]
    },
    {
     "name": "stderr",
     "output_type": "stream",
     "text": [
      "Processing page 2760: : 0it [00:00, ?it/s]\n",
      "Processing page 2761: : 0it [00:00, ?it/s]\n",
      "Processing page 2751: : 0it [00:00, ?it/s]\n"
     ]
    },
    {
     "name": "stdout",
     "output_type": "stream",
     "text": [
      "Can't get connection to https://ivie.vn/cong-dong?page=2759! Try again in 3 seconds.\n"
     ]
    },
    {
     "name": "stderr",
     "output_type": "stream",
     "text": [
      "Processing page 2762: : 0it [00:00, ?it/s]\n"
     ]
    },
    {
     "name": "stdout",
     "output_type": "stream",
     "text": [
      "Can't get connection to https://ivie.vn/cong-dong?page=2757! Try again in 3 seconds.\n"
     ]
    },
    {
     "name": "stderr",
     "output_type": "stream",
     "text": [
      "Processing page 2763: : 0it [00:00, ?it/s]\n",
      "Processing page 2764: : 0it [00:00, ?it/s]\n"
     ]
    },
    {
     "name": "stdout",
     "output_type": "stream",
     "text": [
      "Can't get connection to https://ivie.vn/cong-dong?page=2765! Try again in 3 seconds.\n"
     ]
    },
    {
     "name": "stderr",
     "output_type": "stream",
     "text": [
      "Processing page 2759: : 0it [00:00, ?it/s]\n",
      "Processing page 2766: : 0it [00:00, ?it/s]\n",
      "Processing page 2767: : 0it [00:00, ?it/s]\n",
      "Processing page 2757: : 0it [00:00, ?it/s]\n",
      "Processing page 2765: : 0it [00:00, ?it/s]\n"
     ]
    },
    {
     "name": "stdout",
     "output_type": "stream",
     "text": [
      "Can't get connection to https://ivie.vn/cong-dong?page=2771! Try again in 3 seconds.\n",
      "Can't get connection to https://ivie.vn/cong-dong?page=2768! Try again in 3 seconds.\n",
      "Can't get connection to https://ivie.vn/cong-dong?page=2769! Try again in 3 seconds.\n"
     ]
    },
    {
     "name": "stderr",
     "output_type": "stream",
     "text": [
      "Processing page 2772: : 0it [00:00, ?it/s]\n"
     ]
    },
    {
     "name": "stdout",
     "output_type": "stream",
     "text": [
      "Can't get connection to https://ivie.vn/cong-dong?page=2770! Try again in 3 seconds.\n"
     ]
    },
    {
     "name": "stderr",
     "output_type": "stream",
     "text": [
      "Processing page 2768: : 0it [00:00, ?it/s]\n",
      "Processing page 2769: : 0it [00:00, ?it/s]\n",
      "Processing page 2771: : 0it [00:00, ?it/s]\n",
      "Processing page 2773: : 0it [00:00, ?it/s]\n",
      "Processing page 2770: : 0it [00:00, ?it/s]\n",
      "Processing page 2774: : 0it [00:00, ?it/s]\n",
      "Processing page 2775: : 0it [00:00, ?it/s]\n"
     ]
    },
    {
     "name": "stdout",
     "output_type": "stream",
     "text": [
      "Can't get connection to https://ivie.vn/cong-dong?page=2776! Try again in 3 seconds.\n"
     ]
    },
    {
     "name": "stderr",
     "output_type": "stream",
     "text": [
      "Processing page 2777: : 0it [00:00, ?it/s]\n",
      "Processing page 2778: : 0it [00:00, ?it/s]\n",
      "Processing page 2779: : 0it [00:00, ?it/s]\n",
      "Processing page 2780: : 0it [00:00, ?it/s]\n",
      "Processing page 2781: : 0it [00:00, ?it/s]\n"
     ]
    },
    {
     "name": "stdout",
     "output_type": "stream",
     "text": [
      "Can't get connection to https://ivie.vn/cong-dong?page=2776! Try again in 3 seconds.\n",
      "Can't get connection to https://ivie.vn/cong-dong?page=2783! Try again in 3 seconds.\n"
     ]
    },
    {
     "name": "stderr",
     "output_type": "stream",
     "text": [
      "Processing page 2784: : 0it [00:00, ?it/s]\n"
     ]
    },
    {
     "name": "stdout",
     "output_type": "stream",
     "text": [
      "Can't get connection to https://ivie.vn/cong-dong?page=2782! Try again in 3 seconds.\n",
      "Can't get connection to https://ivie.vn/cong-dong?page=2785! Try again in 3 seconds.\n",
      "Can't get connection to https://ivie.vn/cong-dong?page=2786! Try again in 3 seconds.\n"
     ]
    },
    {
     "name": "stderr",
     "output_type": "stream",
     "text": [
      "Processing page 2776: : 0it [00:00, ?it/s]\n"
     ]
    },
    {
     "name": "stdout",
     "output_type": "stream",
     "text": [
      "Can't get connection to https://ivie.vn/cong-dong?page=2782! Try again in 3 seconds.\n"
     ]
    },
    {
     "name": "stderr",
     "output_type": "stream",
     "text": [
      "Processing page 2783: : 0it [00:00, ?it/s]\n",
      "Processing page 2785: : 0it [00:00, ?it/s]\n"
     ]
    },
    {
     "name": "stdout",
     "output_type": "stream",
     "text": [
      "Can't get connection to https://ivie.vn/cong-dong?page=2787! Try again in 3 seconds.\n",
      "Can't get connection to https://ivie.vn/cong-dong?page=2786! Try again in 3 seconds.\n"
     ]
    },
    {
     "name": "stderr",
     "output_type": "stream",
     "text": [
      "Processing page 2788: : 0it [00:00, ?it/s]\n",
      "Processing page 2789: : 0it [00:00, ?it/s]\n",
      "Processing page 2782: : 0it [00:00, ?it/s]\n"
     ]
    },
    {
     "name": "stdout",
     "output_type": "stream",
     "text": [
      "Can't get connection to https://ivie.vn/cong-dong?page=2790! Try again in 3 seconds.\n"
     ]
    },
    {
     "name": "stderr",
     "output_type": "stream",
     "text": [
      "Processing page 2787: : 0it [00:00, ?it/s]\n",
      "Processing page 2786: : 0it [00:00, ?it/s]\n"
     ]
    },
    {
     "name": "stdout",
     "output_type": "stream",
     "text": [
      "Can't get connection to https://ivie.vn/cong-dong?page=2791! Try again in 3 seconds.\n"
     ]
    },
    {
     "name": "stderr",
     "output_type": "stream",
     "text": [
      "Processing page 2792: : 0it [00:00, ?it/s]\n",
      "Processing page 2793: : 0it [00:00, ?it/s]\n"
     ]
    },
    {
     "name": "stdout",
     "output_type": "stream",
     "text": [
      "Can't get connection to https://ivie.vn/cong-dong?page=2790! Try again in 3 seconds.\n"
     ]
    },
    {
     "name": "stderr",
     "output_type": "stream",
     "text": [
      "Processing page 2794: : 0it [00:00, ?it/s]\n"
     ]
    },
    {
     "name": "stdout",
     "output_type": "stream",
     "text": [
      "Can't get connection to https://ivie.vn/cong-dong?page=2795! Try again in 3 seconds.\n"
     ]
    },
    {
     "name": "stderr",
     "output_type": "stream",
     "text": [
      "Processing page 2791: : 0it [00:00, ?it/s]\n"
     ]
    },
    {
     "name": "stdout",
     "output_type": "stream",
     "text": [
      "Can't get connection to https://ivie.vn/cong-dong?page=2796! Try again in 3 seconds.\n"
     ]
    },
    {
     "name": "stderr",
     "output_type": "stream",
     "text": [
      "Processing page 2797: : 0it [00:00, ?it/s]\n",
      "Processing page 2790: : 0it [00:00, ?it/s]\n"
     ]
    },
    {
     "name": "stdout",
     "output_type": "stream",
     "text": [
      "Can't get connection to https://ivie.vn/cong-dong?page=2795! Try again in 3 seconds.\n",
      "Can't get connection to https://ivie.vn/cong-dong?page=2798! Try again in 3 seconds.\n"
     ]
    },
    {
     "name": "stderr",
     "output_type": "stream",
     "text": [
      "Processing page 2796: : 0it [00:00, ?it/s]\n",
      "Processing page 2799: : 0it [00:00, ?it/s]\n"
     ]
    },
    {
     "name": "stdout",
     "output_type": "stream",
     "text": [
      "Can't get connection to https://ivie.vn/cong-dong?page=2800! Try again in 3 seconds.\n"
     ]
    },
    {
     "name": "stderr",
     "output_type": "stream",
     "text": [
      "Processing page 2795: : 0it [00:00, ?it/s]\n"
     ]
    },
    {
     "name": "stdout",
     "output_type": "stream",
     "text": [
      "Can't get connection to https://ivie.vn/cong-dong?page=2801! Try again in 3 seconds.\n"
     ]
    },
    {
     "name": "stderr",
     "output_type": "stream",
     "text": [
      "Processing page 2802: : 0it [00:00, ?it/s]\n",
      "Processing page 2798: : 0it [00:00, ?it/s]\n"
     ]
    },
    {
     "name": "stdout",
     "output_type": "stream",
     "text": [
      "Can't get connection to https://ivie.vn/cong-dong?page=2800! Try again in 3 seconds.\n",
      "Can't get connection to https://ivie.vn/cong-dong?page=2803! Try again in 3 seconds.\n",
      "Can't get connection to https://ivie.vn/cong-dong?page=2804! Try again in 3 seconds.\n",
      "Can't get connection to https://ivie.vn/cong-dong?page=2801! Try again in 3 seconds.\n"
     ]
    },
    {
     "name": "stderr",
     "output_type": "stream",
     "text": [
      "Processing page 2805: : 0it [00:00, ?it/s]\n"
     ]
    },
    {
     "name": "stdout",
     "output_type": "stream",
     "text": [
      "Can't get connection to https://ivie.vn/cong-dong?page=2800! Try again in 3 seconds.\n"
     ]
    },
    {
     "name": "stderr",
     "output_type": "stream",
     "text": [
      "Processing page 2804: : 0it [00:00, ?it/s]\n"
     ]
    },
    {
     "name": "stdout",
     "output_type": "stream",
     "text": [
      "Can't get connection to https://ivie.vn/cong-dong?page=2803! Try again in 3 seconds.\n",
      "Can't get connection to https://ivie.vn/cong-dong?page=2806! Try again in 3 seconds.\n"
     ]
    },
    {
     "name": "stderr",
     "output_type": "stream",
     "text": [
      "Processing page 2801: : 0it [00:00, ?it/s]\n"
     ]
    },
    {
     "name": "stdout",
     "output_type": "stream",
     "text": [
      "Can't get connection to https://ivie.vn/cong-dong?page=2807! Try again in 3 seconds.\n",
      "Can't get connection to https://ivie.vn/cong-dong?page=2800! Try again in 3 seconds.\n"
     ]
    },
    {
     "name": "stderr",
     "output_type": "stream",
     "text": [
      "Processing page 2808: : 0it [00:00, ?it/s]\n"
     ]
    },
    {
     "name": "stdout",
     "output_type": "stream",
     "text": [
      "Can't get connection to https://ivie.vn/cong-dong?page=2803! Try again in 3 seconds.\n"
     ]
    },
    {
     "name": "stderr",
     "output_type": "stream",
     "text": [
      "Processing page 2806: : 0it [00:00, ?it/s]\n"
     ]
    },
    {
     "name": "stdout",
     "output_type": "stream",
     "text": [
      "Can't get connection to https://ivie.vn/cong-dong?page=2800! Try again in 3 seconds.\n",
      "Can't get connection to https://ivie.vn/cong-dong?page=2807! Try again in 3 seconds.\n",
      "Can't get connection to https://ivie.vn/cong-dong?page=2809! Try again in 3 seconds.\n",
      "Can't get connection to https://ivie.vn/cong-dong?page=2810! Try again in 3 seconds.\n"
     ]
    },
    {
     "name": "stderr",
     "output_type": "stream",
     "text": [
      "Processing page 2803: : 0it [00:00, ?it/s]\n"
     ]
    },
    {
     "name": "stdout",
     "output_type": "stream",
     "text": [
      "Can't get connection to https://ivie.vn/cong-dong?page=2800! Try again in 3 seconds.\n",
      "Can't get connection to https://ivie.vn/cong-dong?page=2807! Try again in 3 seconds.\n"
     ]
    },
    {
     "name": "stderr",
     "output_type": "stream",
     "text": [
      "Processing page 2809: : 0it [00:00, ?it/s]\n",
      "Processing page 2811: : 0it [00:00, ?it/s]\n",
      "Processing page 2810: : 0it [00:00, ?it/s]\n",
      "Processing page 2812: : 0it [00:00, ?it/s]\n",
      "Processing page 2813: : 0it [00:00, ?it/s]\n"
     ]
    },
    {
     "name": "stdout",
     "output_type": "stream",
     "text": [
      "Can't get connection to https://ivie.vn/cong-dong?page=2800! Try again in 3 seconds.\n",
      "Can't get connection to https://ivie.vn/cong-dong?page=2815! Try again in 3 seconds.\n",
      "Can't get connection to https://ivie.vn/cong-dong?page=2814! Try again in 3 seconds.\n",
      "Can't get connection to https://ivie.vn/cong-dong?page=2816! Try again in 3 seconds.\n",
      "Can't get connection to https://ivie.vn/cong-dong?page=2800! Try again in 3 seconds.\n",
      "Can't get connection to https://ivie.vn/cong-dong?page=2807! Try again in 3 seconds.\n",
      "Can't get connection to https://ivie.vn/cong-dong?page=2814! Try again in 3 seconds.\n",
      "Can't get connection to https://ivie.vn/cong-dong?page=2815! Try again in 3 seconds.\n",
      "Can't get connection to https://ivie.vn/cong-dong?page=2816! Try again in 3 seconds.\n",
      "Can't get connection to https://ivie.vn/cong-dong?page=2800! Try again in 3 seconds.\n"
     ]
    },
    {
     "name": "stderr",
     "output_type": "stream",
     "text": [
      "Processing page 2807: : 0it [00:00, ?it/s]\n",
      "Processing page 2815: : 0it [00:00, ?it/s]\n"
     ]
    },
    {
     "name": "stdout",
     "output_type": "stream",
     "text": [
      "Can't get connection to https://ivie.vn/cong-dong?page=2816! Try again in 3 seconds.\n"
     ]
    },
    {
     "name": "stderr",
     "output_type": "stream",
     "text": [
      "Processing page 2814: : 0it [00:00, ?it/s]\n",
      "Processing page 2817: : 0it [00:00, ?it/s]\n"
     ]
    },
    {
     "name": "stdout",
     "output_type": "stream",
     "text": [
      "Can't get connection to https://ivie.vn/cong-dong?page=2800! Try again in 3 seconds.\n"
     ]
    },
    {
     "name": "stderr",
     "output_type": "stream",
     "text": [
      "Processing page 2818: : 0it [00:00, ?it/s]\n",
      "Processing page 2819: : 0it [00:00, ?it/s]\n"
     ]
    },
    {
     "name": "stdout",
     "output_type": "stream",
     "text": [
      "Can't get connection to https://ivie.vn/cong-dong?page=2820! Try again in 3 seconds.\n"
     ]
    },
    {
     "name": "stderr",
     "output_type": "stream",
     "text": [
      "Processing page 2816: : 0it [00:00, ?it/s]\n",
      "Processing page 2800: : 0it [00:00, ?it/s]\n",
      "Processing page 2821: : 0it [00:00, ?it/s]\n"
     ]
    },
    {
     "name": "stdout",
     "output_type": "stream",
     "text": [
      "Can't get connection to https://ivie.vn/cong-dong?page=2820! Try again in 3 seconds.\n",
      "Can't get connection to https://ivie.vn/cong-dong?page=2822! Try again in 3 seconds.\n"
     ]
    },
    {
     "name": "stderr",
     "output_type": "stream",
     "text": [
      "Processing page 2824: : 0it [00:00, ?it/s]\n",
      "Processing page 2823: : 0it [00:00, ?it/s]\n",
      "Processing page 2825: : 0it [00:00, ?it/s]\n",
      "Processing page 2822: : 0it [00:00, ?it/s]\n"
     ]
    },
    {
     "name": "stdout",
     "output_type": "stream",
     "text": [
      "Can't get connection to https://ivie.vn/cong-dong?page=2820! Try again in 3 seconds."
     ]
    },
    {
     "name": "stderr",
     "output_type": "stream",
     "text": [
      "Processing page 2827: : 0it [00:00, ?it/s]"
     ]
    },
    {
     "name": "stdout",
     "output_type": "stream",
     "text": [
      "\n"
     ]
    },
    {
     "name": "stderr",
     "output_type": "stream",
     "text": [
      "\n",
      "Processing page 2826: : 0it [00:00, ?it/s]\n",
      "Processing page 2828: : 0it [00:00, ?it/s]\n",
      "Processing page 2829: : 0it [00:00, ?it/s]\n",
      "Processing page 2830: : 0it [00:00, ?it/s]\n",
      "Processing page 2831: : 0it [00:00, ?it/s]\n",
      "Processing page 2832: : 0it [00:00, ?it/s]\n"
     ]
    },
    {
     "name": "stdout",
     "output_type": "stream",
     "text": [
      "Can't get connection to https://ivie.vn/cong-dong?page=2833! Try again in 3 seconds.\n",
      "Can't get connection to https://ivie.vn/cong-dong?page=2820! Try again in 3 seconds.\n",
      "Can't get connection to https://ivie.vn/cong-dong?page=2834! Try again in 3 seconds.\n",
      "Can't get connection to https://ivie.vn/cong-dong?page=2835! Try again in 3 seconds.\n",
      "Can't get connection to https://ivie.vn/cong-dong?page=2836! Try again in 3 seconds.\n",
      "Can't get connection to https://ivie.vn/cong-dong?page=2820! Try again in 3 seconds.\n"
     ]
    },
    {
     "name": "stderr",
     "output_type": "stream",
     "text": [
      "Processing page 2834: : 0it [00:00, ?it/s]\n",
      "Processing page 2833: : 0it [00:00, ?it/s]\n"
     ]
    },
    {
     "name": "stdout",
     "output_type": "stream",
     "text": [
      "Can't get connection to https://ivie.vn/cong-dong?page=2835! Try again in 3 seconds.\n",
      "Can't get connection to https://ivie.vn/cong-dong?page=2836! Try again in 3 seconds.\n",
      "Can't get connection to https://ivie.vn/cong-dong?page=2820! Try again in 3 seconds.\n",
      "Can't get connection to https://ivie.vn/cong-dong?page=2837! Try again in 3 seconds.\n"
     ]
    },
    {
     "name": "stderr",
     "output_type": "stream",
     "text": [
      "Processing page 2838: : 0it [00:00, ?it/s]\n",
      "Processing page 2835: : 0it [00:00, ?it/s]\n",
      "Processing page 2836: : 0it [00:00, ?it/s]\n"
     ]
    },
    {
     "name": "stdout",
     "output_type": "stream",
     "text": [
      "Can't get connection to https://ivie.vn/cong-dong?page=2840! Try again in 3 seconds.\n",
      "Can't get connection to https://ivie.vn/cong-dong?page=2839! Try again in 3 seconds.\n",
      "Can't get connection to https://ivie.vn/cong-dong?page=2820! Try again in 3 seconds.\n",
      "Can't get connection to https://ivie.vn/cong-dong?page=2837! Try again in 3 seconds.\n"
     ]
    },
    {
     "name": "stderr",
     "output_type": "stream",
     "text": [
      "Processing page 2841: : 0it [00:00, ?it/s]\n"
     ]
    },
    {
     "name": "stdout",
     "output_type": "stream",
     "text": [
      "Can't get connection to https://ivie.vn/cong-dong?page=2839! Try again in 3 seconds.\n",
      "Can't get connection to https://ivie.vn/cong-dong?page=2842! Try again in 3 seconds.\n"
     ]
    },
    {
     "name": "stderr",
     "output_type": "stream",
     "text": [
      "Processing page 2840: : 0it [00:00, ?it/s]\n",
      "Processing page 2820: : 0it [00:00, ?it/s]\n",
      "Processing page 2837: : 0it [00:00, ?it/s]\n",
      "Processing page 2843: : 0it [00:00, ?it/s]\n",
      "Processing page 2839: : 0it [00:00, ?it/s]\n"
     ]
    },
    {
     "name": "stdout",
     "output_type": "stream",
     "text": [
      "Can't get connection to https://ivie.vn/cong-dong?page=2844! Try again in 3 seconds.\n"
     ]
    },
    {
     "name": "stderr",
     "output_type": "stream",
     "text": [
      "Processing page 2845: : 0it [00:00, ?it/s]\n"
     ]
    },
    {
     "name": "stdout",
     "output_type": "stream",
     "text": [
      "Can't get connection to https://ivie.vn/cong-dong?page=2842! Try again in 3 seconds.\n"
     ]
    },
    {
     "name": "stderr",
     "output_type": "stream",
     "text": [
      "Processing page 2846: : 0it [00:00, ?it/s]\n"
     ]
    },
    {
     "name": "stdout",
     "output_type": "stream",
     "text": [
      "Can't get connection to https://ivie.vn/cong-dong?page=2848! Try again in 3 seconds.\n",
      "Can't get connection to https://ivie.vn/cong-dong?page=2847! Try again in 3 seconds.\n"
     ]
    },
    {
     "name": "stderr",
     "output_type": "stream",
     "text": [
      "Processing page 2844: : 0it [00:00, ?it/s]\n",
      "Processing page 2842: : 0it [00:00, ?it/s]\n",
      "Processing page 2849: : 0it [00:00, ?it/s]\n",
      "Processing page 2850: : 0it [00:00, ?it/s]\n",
      "Processing page 2848: : 0it [00:00, ?it/s]\n"
     ]
    },
    {
     "name": "stdout",
     "output_type": "stream",
     "text": [
      "Can't get connection to https://ivie.vn/cong-dong?page=2851! Try again in 3 seconds.\n"
     ]
    },
    {
     "name": "stderr",
     "output_type": "stream",
     "text": [
      "Processing page 2847: : 0it [00:00, ?it/s]\n",
      "Processing page 2852: : 0it [00:00, ?it/s]\n",
      "Processing page 2853: : 0it [00:00, ?it/s]\n"
     ]
    },
    {
     "name": "stdout",
     "output_type": "stream",
     "text": [
      "Can't get connection to https://ivie.vn/cong-dong?page=2856! Try again in 3 seconds.\n",
      "Can't get connection to https://ivie.vn/cong-dong?page=2851! Try again in 3 seconds.\n",
      "Can't get connection to https://ivie.vn/cong-dong?page=2855! Try again in 3 seconds.\n"
     ]
    },
    {
     "name": "stderr",
     "output_type": "stream",
     "text": [
      "Processing page 2857: : 0it [00:00, ?it/s]\n"
     ]
    },
    {
     "name": "stdout",
     "output_type": "stream",
     "text": [
      "Can't get connection to https://ivie.vn/cong-dong?page=2856! Try again in 3 seconds.\n",
      "Can't get connection to https://ivie.vn/cong-dong?page=2851! Try again in 3 seconds.\n",
      "Can't get connection to https://ivie.vn/cong-dong?page=2855! Try again in 3 seconds.\n"
     ]
    },
    {
     "name": "stderr",
     "output_type": "stream",
     "text": [
      "Processing page 2858: : 0it [00:00, ?it/s]\n",
      "Processing page 2854: : 0it [00:00, ?it/s]\n",
      "Processing page 2856: : 0it [00:00, ?it/s]\n",
      "Processing page 2859: : 0it [00:00, ?it/s]\n"
     ]
    },
    {
     "name": "stdout",
     "output_type": "stream",
     "text": [
      "Can't get connection to https://ivie.vn/cong-dong?page=2851! Try again in 3 seconds.\n",
      "Can't get connection to https://ivie.vn/cong-dong?page=2860! Try again in 3 seconds.\n"
     ]
    },
    {
     "name": "stderr",
     "output_type": "stream",
     "text": [
      "Processing page 2855: : 0it [00:00, ?it/s]\n"
     ]
    },
    {
     "name": "stdout",
     "output_type": "stream",
     "text": [
      "Can't get connection to https://ivie.vn/cong-dong?page=2861! Try again in 3 seconds.\n",
      "Can't get connection to https://ivie.vn/cong-dong?page=2862! Try again in 3 seconds.\n",
      "Can't get connection to https://ivie.vn/cong-dong?page=2863! Try again in 3 seconds.\n",
      "Can't get connection to https://ivie.vn/cong-dong?page=2851! Try again in 3 seconds.\n",
      "Can't get connection to https://ivie.vn/cong-dong?page=2862! Try again in 3 seconds.\n"
     ]
    },
    {
     "name": "stderr",
     "output_type": "stream",
     "text": [
      "Processing page 2861: : 0it [00:00, ?it/s]\n",
      "Processing page 2860: : 0it [00:00, ?it/s]\n",
      "Processing page 2863: : 0it [00:00, ?it/s]\n"
     ]
    },
    {
     "name": "stdout",
     "output_type": "stream",
     "text": [
      "Can't get connection to https://ivie.vn/cong-dong?page=2851! Try again in 3 seconds.\n"
     ]
    },
    {
     "name": "stderr",
     "output_type": "stream",
     "text": [
      "Processing page 2862: : 0it [00:00, ?it/s]\n"
     ]
    },
    {
     "name": "stdout",
     "output_type": "stream",
     "text": [
      "Can't get connection to https://ivie.vn/cong-dong?page=2864! Try again in 3 seconds.\n",
      "Can't get connection to https://ivie.vn/cong-dong?page=2865! Try again in 3 seconds.\n",
      "Can't get connection to https://ivie.vn/cong-dong?page=2867! Try again in 3 seconds.\n",
      "Can't get connection to https://ivie.vn/cong-dong?page=2866! Try again in 3 seconds.\n"
     ]
    },
    {
     "name": "stderr",
     "output_type": "stream",
     "text": [
      "Processing page 2851: : 0it [00:00, ?it/s]\n"
     ]
    },
    {
     "name": "stdout",
     "output_type": "stream",
     "text": [
      "Can't get connection to https://ivie.vn/cong-dong?page=2864! Try again in 3 seconds.\n"
     ]
    },
    {
     "name": "stderr",
     "output_type": "stream",
     "text": [
      "Processing page 2865: : 0it [00:00, ?it/s]\n",
      "Processing page 2866: : 0it [00:00, ?it/s]\n"
     ]
    },
    {
     "name": "stdout",
     "output_type": "stream",
     "text": [
      "Can't get connection to https://ivie.vn/cong-dong?page=2868! Try again in 3 seconds.\n"
     ]
    },
    {
     "name": "stderr",
     "output_type": "stream",
     "text": [
      "Processing page 2867: : 0it [00:00, ?it/s]\n",
      "Processing page 2864: : 0it [00:00, ?it/s]\n"
     ]
    },
    {
     "name": "stdout",
     "output_type": "stream",
     "text": [
      "Can't get connection to https://ivie.vn/cong-dong?page=2869! Try again in 3 seconds.\n",
      "Can't get connection to https://ivie.vn/cong-dong?page=2870! Try again in 3 seconds.\n"
     ]
    },
    {
     "name": "stderr",
     "output_type": "stream",
     "text": [
      "Processing page 2868: : 0it [00:00, ?it/s]\n",
      "Processing page 2871: : 0it [00:00, ?it/s]\n"
     ]
    },
    {
     "name": "stdout",
     "output_type": "stream",
     "text": [
      "Can't get connection to https://ivie.vn/cong-dong?page=2872! Try again in 3 seconds.\n",
      "Can't get connection to https://ivie.vn/cong-dong?page=2873! Try again in 3 seconds.\n",
      "Can't get connection to https://ivie.vn/cong-dong?page=2874! Try again in 3 seconds.\n"
     ]
    },
    {
     "name": "stderr",
     "output_type": "stream",
     "text": [
      "Processing page 2870: : 0it [00:00, ?it/s]"
     ]
    },
    {
     "name": "stdout",
     "output_type": "stream",
     "text": [
      "Can't get connection to https://ivie.vn/cong-dong?page=2869! Try again in 3 seconds.\n"
     ]
    },
    {
     "name": "stderr",
     "output_type": "stream",
     "text": [
      "\n"
     ]
    },
    {
     "name": "stdout",
     "output_type": "stream",
     "text": [
      "Can't get connection to https://ivie.vn/cong-dong?page=2875! Try again in 3 seconds.\n"
     ]
    },
    {
     "name": "stderr",
     "output_type": "stream",
     "text": [
      "Processing page 2872: : 0it [00:00, ?it/s]\n"
     ]
    },
    {
     "name": "stdout",
     "output_type": "stream",
     "text": [
      "Can't get connection to https://ivie.vn/cong-dong?page=2873! Try again in 3 seconds.\n",
      "Can't get connection to https://ivie.vn/cong-dong?page=2869! Try again in 3 seconds.\n"
     ]
    },
    {
     "name": "stderr",
     "output_type": "stream",
     "text": [
      "Processing page 2874: : 0it [00:00, ?it/s]\n",
      "Processing page 2876: : 0it [00:00, ?it/s]\n",
      "Processing page 2875: : 0it [00:00, ?it/s]\n"
     ]
    },
    {
     "name": "stdout",
     "output_type": "stream",
     "text": [
      "Can't get connection to https://ivie.vn/cong-dong?page=2877! Try again in 3 seconds.\n"
     ]
    },
    {
     "name": "stderr",
     "output_type": "stream",
     "text": [
      "Processing page 2869: : 0it [00:00, ?it/s]\n",
      "Processing page 2873: : 0it [00:00, ?it/s]\n",
      "Processing page 2879: : 0it [00:00, ?it/s]\n",
      "Processing page 2880: : 0it [00:00, ?it/s]\n",
      "Processing page 2881: : 0it [00:00, ?it/s]\n"
     ]
    },
    {
     "name": "stdout",
     "output_type": "stream",
     "text": [
      "Can't get connection to https://ivie.vn/cong-dong?page=2877! Try again in 3 seconds.\n"
     ]
    },
    {
     "name": "stderr",
     "output_type": "stream",
     "text": [
      "Processing page 2878: : 0it [00:00, ?it/s]\n",
      "Processing page 2882: : 0it [00:00, ?it/s]\n"
     ]
    },
    {
     "name": "stdout",
     "output_type": "stream",
     "text": [
      "Can't get connection to https://ivie.vn/cong-dong?page=2883! Try again in 3 seconds.\n"
     ]
    },
    {
     "name": "stderr",
     "output_type": "stream",
     "text": [
      "Processing page 2884: : 0it [00:00, ?it/s]\n",
      "Processing page 2885: : 0it [00:00, ?it/s]\n"
     ]
    },
    {
     "name": "stdout",
     "output_type": "stream",
     "text": [
      "Can't get connection to https://ivie.vn/cong-dong?page=2877! Try again in 3 seconds.\n"
     ]
    },
    {
     "name": "stderr",
     "output_type": "stream",
     "text": [
      "Processing page 2886: : 0it [00:00, ?it/s]\n"
     ]
    },
    {
     "name": "stdout",
     "output_type": "stream",
     "text": [
      "Can't get connection to https://ivie.vn/cong-dong?page=2883! Try again in 3 seconds.\n",
      "Can't get connection to https://ivie.vn/cong-dong?page=2887! Try again in 3 seconds.\n"
     ]
    },
    {
     "name": "stderr",
     "output_type": "stream",
     "text": [
      "Processing page 2888: : 0it [00:00, ?it/s]\n"
     ]
    },
    {
     "name": "stdout",
     "output_type": "stream",
     "text": [
      "Can't get connection to https://ivie.vn/cong-dong?page=2889! Try again in 3 seconds.\n"
     ]
    },
    {
     "name": "stderr",
     "output_type": "stream",
     "text": [
      "Processing page 2877: : 0it [00:00, ?it/s]\n"
     ]
    },
    {
     "name": "stdout",
     "output_type": "stream",
     "text": [
      "Can't get connection to https://ivie.vn/cong-dong?page=2887! Try again in 3 seconds.\n"
     ]
    },
    {
     "name": "stderr",
     "output_type": "stream",
     "text": [
      "Processing page 2883: : 0it [00:00, ?it/s]\n",
      "Processing page 2890: : 0it [00:00, ?it/s]\n"
     ]
    },
    {
     "name": "stdout",
     "output_type": "stream",
     "text": [
      "Can't get connection to https://ivie.vn/cong-dong?page=2889! Try again in 3 seconds.\n"
     ]
    },
    {
     "name": "stderr",
     "output_type": "stream",
     "text": [
      "Processing page 2891: : 0it [00:00, ?it/s]\n",
      "Processing page 2892: : 0it [00:00, ?it/s]\n",
      "Processing page 2893: : 0it [00:00, ?it/s]\n",
      "Processing page 2887: : 0it [00:00, ?it/s]\n"
     ]
    },
    {
     "name": "stdout",
     "output_type": "stream",
     "text": [
      "Can't get connection to https://ivie.vn/cong-dong?page=2894! Try again in 3 seconds.\n"
     ]
    },
    {
     "name": "stderr",
     "output_type": "stream",
     "text": [
      "Processing page 2895: : 0it [00:00, ?it/s]\n"
     ]
    },
    {
     "name": "stdout",
     "output_type": "stream",
     "text": [
      "Can't get connection to https://ivie.vn/cong-dong?page=2896! Try again in 3 seconds.\n",
      "Can't get connection to https://ivie.vn/cong-dong?page=2889! Try again in 3 seconds.\n",
      "Can't get connection to https://ivie.vn/cong-dong?page=2897! Try again in 3 seconds.\n",
      "Can't get connection to https://ivie.vn/cong-dong?page=2898! Try again in 3 seconds.\n",
      "Can't get connection to https://ivie.vn/cong-dong?page=2894! Try again in 3 seconds.\n"
     ]
    },
    {
     "name": "stderr",
     "output_type": "stream",
     "text": [
      "Processing page 2896: : 0it [00:00, ?it/s]\n",
      "Processing page 2889: : 0it [00:00, ?it/s]\n",
      "Processing page 2897: : 0it [00:00, ?it/s]\n",
      "Processing page 2898: : 0it [00:00, ?it/s]\n"
     ]
    },
    {
     "name": "stdout",
     "output_type": "stream",
     "text": [
      "Can't get connection to https://ivie.vn/cong-dong?page=2894! Try again in 3 seconds.\n"
     ]
    },
    {
     "name": "stderr",
     "output_type": "stream",
     "text": [
      "Processing page 2899: : 0it [00:00, ?it/s]\n",
      "Processing page 2900: : 0it [00:00, ?it/s]\n"
     ]
    },
    {
     "name": "stdout",
     "output_type": "stream",
     "text": [
      "Can't get connection to https://ivie.vn/cong-dong?page=2901! Try again in 3 seconds.\n",
      "Can't get connection to https://ivie.vn/cong-dong?page=2902! Try again in 3 seconds.\n",
      "Can't get connection to https://ivie.vn/cong-dong?page=2903! Try again in 3 seconds.\n",
      "Can't get connection to https://ivie.vn/cong-dong?page=2904! Try again in 3 seconds.\n"
     ]
    },
    {
     "name": "stderr",
     "output_type": "stream",
     "text": [
      "Processing page 2894: : 0it [00:00, ?it/s]\n"
     ]
    },
    {
     "name": "stdout",
     "output_type": "stream",
     "text": [
      "Can't get connection to https://ivie.vn/cong-dong?page=2901! Try again in 3 seconds.\n"
     ]
    },
    {
     "name": "stderr",
     "output_type": "stream",
     "text": [
      "Processing page 2902: : 0it [00:00, ?it/s]\n",
      "Processing page 2905: : 0it [00:00, ?it/s]\n",
      "Processing page 2903: : 0it [00:00, ?it/s]\n"
     ]
    },
    {
     "name": "stdout",
     "output_type": "stream",
     "text": [
      "Can't get connection to https://ivie.vn/cong-dong?page=2906! Try again in 3 seconds.\n"
     ]
    },
    {
     "name": "stderr",
     "output_type": "stream",
     "text": [
      "Processing page 2904: : 0it [00:00, ?it/s]\n"
     ]
    },
    {
     "name": "stdout",
     "output_type": "stream",
     "text": [
      "Can't get connection to https://ivie.vn/cong-dong?page=2907! Try again in 3 seconds.\n"
     ]
    },
    {
     "name": "stderr",
     "output_type": "stream",
     "text": [
      "Processing page 2908: : 0it [00:00, ?it/s]\n",
      "Processing page 2901: : 0it [00:00, ?it/s]\n",
      "Processing page 2909: : 0it [00:00, ?it/s]\n",
      "Processing page 2911: : 0it [00:00, ?it/s]\n"
     ]
    },
    {
     "name": "stdout",
     "output_type": "stream",
     "text": [
      "Can't get connection to https://ivie.vn/cong-dong?page=2906! Try again in 3 seconds.\n"
     ]
    },
    {
     "name": "stderr",
     "output_type": "stream",
     "text": [
      "Processing page 2907: : 0it [00:00, ?it/s]\n"
     ]
    },
    {
     "name": "stdout",
     "output_type": "stream",
     "text": [
      "Can't get connection to https://ivie.vn/cong-dong?page=2910! Try again in 3 seconds.\n"
     ]
    },
    {
     "name": "stderr",
     "output_type": "stream",
     "text": [
      "Processing page 2912: : 0it [00:00, ?it/s]\n"
     ]
    },
    {
     "name": "stdout",
     "output_type": "stream",
     "text": [
      "Can't get connection to https://ivie.vn/cong-dong?page=2913! Try again in 3 seconds.\n"
     ]
    },
    {
     "name": "stderr",
     "output_type": "stream",
     "text": [
      "Processing page 2910: : 0it [00:00, ?it/s]\n",
      "Processing page 2914: : 0it [00:00, ?it/s]\n"
     ]
    },
    {
     "name": "stdout",
     "output_type": "stream",
     "text": [
      "Can't get connection to https://ivie.vn/cong-dong?page=2906! Try again in 3 seconds.\n"
     ]
    },
    {
     "name": "stderr",
     "output_type": "stream",
     "text": [
      "Processing page 2915: : 0it [00:00, ?it/s]\n",
      "Processing page 2916: : 0it [00:00, ?it/s]\n",
      "Processing page 2917: : 0it [00:00, ?it/s]\n"
     ]
    },
    {
     "name": "stdout",
     "output_type": "stream",
     "text": [
      "Can't get connection to https://ivie.vn/cong-dong?page=2913! Try again in 3 seconds.\n",
      "Can't get connection to https://ivie.vn/cong-dong?page=2906! Try again in 3 seconds.\n",
      "Can't get connection to https://ivie.vn/cong-dong?page=2918! Try again in 3 seconds.\n",
      "Can't get connection to https://ivie.vn/cong-dong?page=2919! Try again in 3 seconds.\n",
      "Can't get connection to https://ivie.vn/cong-dong?page=2920! Try again in 3 seconds.\n"
     ]
    },
    {
     "name": "stderr",
     "output_type": "stream",
     "text": [
      "Processing page 2913: : 0it [00:00, ?it/s]\n",
      "Processing page 2906: : 0it [00:00, ?it/s]\n"
     ]
    },
    {
     "name": "stdout",
     "output_type": "stream",
     "text": [
      "Can't get connection to https://ivie.vn/cong-dong?page=2919! Try again in 3 seconds.\n",
      "Can't get connection to https://ivie.vn/cong-dong?page=2918! Try again in 3 seconds.\n",
      "Can't get connection to https://ivie.vn/cong-dong?page=2920! Try again in 3 seconds.\n"
     ]
    },
    {
     "name": "stderr",
     "output_type": "stream",
     "text": [
      "Processing page 2921: : 0it [00:00, ?it/s]\n",
      "Processing page 2922: : 0it [00:00, ?it/s]\n",
      "Processing page 2923: : 0it [00:00, ?it/s]\n",
      "Processing page 2919: : 0it [00:00, ?it/s]\n",
      "Processing page 2918: : 0it [00:00, ?it/s]\n",
      "Processing page 2920: : 0it [00:00, ?it/s]\n",
      "Processing page 2924: : 0it [00:00, ?it/s]\n",
      "Processing page 2926: : 0it [00:00, ?it/s]\n"
     ]
    },
    {
     "name": "stdout",
     "output_type": "stream",
     "text": [
      "Can't get connection to https://ivie.vn/cong-dong?page=2927! Try again in 3 seconds.\n"
     ]
    },
    {
     "name": "stderr",
     "output_type": "stream",
     "text": [
      "Processing page 2925: : 0it [00:00, ?it/s]\n"
     ]
    },
    {
     "name": "stdout",
     "output_type": "stream",
     "text": [
      "Can't get connection to https://ivie.vn/cong-dong?page=2928! Try again in 3 seconds.\n"
     ]
    },
    {
     "name": "stderr",
     "output_type": "stream",
     "text": [
      "Processing page 2929: : 0it [00:00, ?it/s]\n",
      "Processing page 2930: : 0it [00:00, ?it/s]\n",
      "Processing page 2927: : 0it [00:00, ?it/s]\n",
      "Processing page 2932: : 0it [00:00, ?it/s]\n",
      "Processing page 2931: : 0it [00:00, ?it/s]\n",
      "Processing page 2928: : 0it [00:00, ?it/s]\n",
      "Processing page 2933: : 0it [00:00, ?it/s]\n",
      "Processing page 2934: : 0it [00:00, ?it/s]\n",
      "Processing page 2935: : 0it [00:00, ?it/s]\n",
      "Processing page 2936: : 0it [00:00, ?it/s]\n"
     ]
    },
    {
     "name": "stdout",
     "output_type": "stream",
     "text": [
      "Can't get connection to https://ivie.vn/cong-dong?page=2938! Try again in 3 seconds.\n"
     ]
    },
    {
     "name": "stderr",
     "output_type": "stream",
     "text": [
      "Processing page 2937: : 0it [00:00, ?it/s]\n",
      "Processing page 2939: : 0it [00:00, ?it/s]\n",
      "Processing page 2940: : 0it [00:00, ?it/s]\n"
     ]
    },
    {
     "name": "stdout",
     "output_type": "stream",
     "text": [
      "Can't get connection to https://ivie.vn/cong-dong?page=2941! Try again in 3 seconds.\n",
      "Can't get connection to https://ivie.vn/cong-dong?page=2942! Try again in 3 seconds.\n",
      "Can't get connection to https://ivie.vn/cong-dong?page=2938! Try again in 3 seconds.\n",
      "Can't get connection to https://ivie.vn/cong-dong?page=2943! Try again in 3 seconds.\n",
      "Can't get connection to https://ivie.vn/cong-dong?page=2944! Try again in 3 seconds.\n"
     ]
    },
    {
     "name": "stderr",
     "output_type": "stream",
     "text": [
      "Processing page 2941: : 0it [00:00, ?it/s]\n",
      "Processing page 2942: : 0it [00:00, ?it/s]\n"
     ]
    },
    {
     "name": "stdout",
     "output_type": "stream",
     "text": [
      "Can't get connection to https://ivie.vn/cong-dong?page=2938! Try again in 3 seconds.\n"
     ]
    },
    {
     "name": "stderr",
     "output_type": "stream",
     "text": [
      "Processing page 2945: : 0it [00:00, ?it/s]\n",
      "Processing page 2943: : 0it [00:00, ?it/s]\n",
      "Processing page 2944: : 0it [00:00, ?it/s]\n",
      "Processing page 2946: : 0it [00:00, ?it/s]\n"
     ]
    },
    {
     "name": "stdout",
     "output_type": "stream",
     "text": [
      "Can't get connection to https://ivie.vn/cong-dong?page=2947! Try again in 3 seconds.\n",
      "Can't get connection to https://ivie.vn/cong-dong?page=2948! Try again in 3 seconds.\n",
      "Can't get connection to https://ivie.vn/cong-dong?page=2949! Try again in 3 seconds.\n",
      "Can't get connection to https://ivie.vn/cong-dong?page=2938! Try again in 3 seconds.\n"
     ]
    },
    {
     "name": "stderr",
     "output_type": "stream",
     "text": [
      "Processing page 2950: : 0it [00:00, ?it/s]\n",
      "Processing page 2947: : 0it [00:00, ?it/s]\n",
      "Processing page 2938: : 0it [00:00, ?it/s]\n",
      "Processing page 2951: : 0it [00:00, ?it/s]\n",
      "Processing page 2949: : 0it [00:00, ?it/s]\n",
      "Processing page 2948: : 0it [00:00, ?it/s]\n",
      "Processing page 2952: : 0it [00:00, ?it/s]\n",
      "Processing page 2953: : 0it [00:00, ?it/s]\n",
      "Processing page 2955: : 0it [00:00, ?it/s]\n",
      "Processing page 2956: : 0it [00:00, ?it/s]\n"
     ]
    },
    {
     "name": "stdout",
     "output_type": "stream",
     "text": [
      "Can't get connection to https://ivie.vn/cong-dong?page=2954! Try again in 3 seconds.\n",
      "Can't get connection to https://ivie.vn/cong-dong?page=2957! Try again in 3 seconds.\n"
     ]
    },
    {
     "name": "stderr",
     "output_type": "stream",
     "text": [
      "Processing page 2958: : 0it [00:00, ?it/s]\n",
      "Processing page 2959: : 0it [00:00, ?it/s]\n",
      "Processing page 2960: : 0it [00:00, ?it/s]\n",
      "Processing page 2954: : 0it [00:00, ?it/s]\n",
      "Processing page 2957: : 0it [00:00, ?it/s]\n",
      "Processing page 2962: : 0it [00:00, ?it/s]\n",
      "Processing page 2961: : 0it [00:00, ?it/s]\n"
     ]
    },
    {
     "name": "stdout",
     "output_type": "stream",
     "text": [
      "Can't get connection to https://ivie.vn/cong-dong?page=2963! Try again in 3 seconds.\n"
     ]
    },
    {
     "name": "stderr",
     "output_type": "stream",
     "text": [
      "Processing page 2964: : 0it [00:00, ?it/s]\n"
     ]
    },
    {
     "name": "stdout",
     "output_type": "stream",
     "text": [
      "Can't get connection to https://ivie.vn/cong-dong?page=2966! Try again in 3 seconds.\n",
      "Can't get connection to https://ivie.vn/cong-dong?page=2967! Try again in 3 seconds.\n",
      "Can't get connection to https://ivie.vn/cong-dong?page=2965! Try again in 3 seconds.\n"
     ]
    },
    {
     "name": "stderr",
     "output_type": "stream",
     "text": [
      "Processing page 2963: : 0it [00:00, ?it/s]\n",
      "Processing page 2968: : 0it [00:00, ?it/s]\n",
      "Processing page 2965: : 0it [00:00, ?it/s]\n",
      "Processing page 2966: : 0it [00:00, ?it/s]\n",
      "Processing page 2967: : 0it [00:00, ?it/s]\n"
     ]
    },
    {
     "name": "stdout",
     "output_type": "stream",
     "text": [
      "Can't get connection to https://ivie.vn/cong-dong?page=2970! Try again in 3 seconds.\n"
     ]
    },
    {
     "name": "stderr",
     "output_type": "stream",
     "text": [
      "Processing page 2969: : 0it [00:00, ?it/s]\n",
      "Processing page 2971: : 0it [00:00, ?it/s]\n"
     ]
    },
    {
     "name": "stdout",
     "output_type": "stream",
     "text": [
      "Can't get connection to https://ivie.vn/cong-dong?page=2972! Try again in 3 seconds.\n"
     ]
    },
    {
     "name": "stderr",
     "output_type": "stream",
     "text": [
      "Processing page 2974: : 0it [00:00, ?it/s]\n",
      "Processing page 2970: : 0it [00:00, ?it/s]\n"
     ]
    },
    {
     "name": "stdout",
     "output_type": "stream",
     "text": [
      "Can't get connection to https://ivie.vn/cong-dong?page=2975! Try again in 3 seconds.\n"
     ]
    },
    {
     "name": "stderr",
     "output_type": "stream",
     "text": [
      "Processing page 2976: : 0it [00:00, ?it/s]\n"
     ]
    },
    {
     "name": "stdout",
     "output_type": "stream",
     "text": [
      "Can't get connection to https://ivie.vn/cong-dong?page=2977! Try again in 3 seconds.\n",
      "Can't get connection to https://ivie.vn/cong-dong?page=2972! Try again in 3 seconds.\n",
      "Can't get connection to https://ivie.vn/cong-dong?page=2975! Try again in 3 seconds.\n"
     ]
    },
    {
     "name": "stderr",
     "output_type": "stream",
     "text": [
      "Processing page 2978: : 0it [00:00, ?it/s]\n",
      "Processing page 2977: : 0it [00:00, ?it/s]\n",
      "Processing page 2972: : 0it [00:00, ?it/s]\n",
      "Processing page 2973: : 0it [00:00, ?it/s]\n",
      "Processing page 2979: : 0it [00:00, ?it/s]\n"
     ]
    },
    {
     "name": "stdout",
     "output_type": "stream",
     "text": [
      "Can't get connection to https://ivie.vn/cong-dong?page=2975! Try again in 3 seconds.\n",
      "Can't get connection to https://ivie.vn/cong-dong?page=2980! Try again in 3 seconds.\n",
      "Can't get connection to https://ivie.vn/cong-dong?page=2982! Try again in 3 seconds.\n",
      "Can't get connection to https://ivie.vn/cong-dong?page=2981! Try again in 3 seconds.\n",
      "Can't get connection to https://ivie.vn/cong-dong?page=2983! Try again in 3 seconds.\n",
      "Can't get connection to https://ivie.vn/cong-dong?page=2975! Try again in 3 seconds.\n"
     ]
    },
    {
     "name": "stderr",
     "output_type": "stream",
     "text": [
      "Processing page 2980: : 0it [00:00, ?it/s]\n"
     ]
    },
    {
     "name": "stdout",
     "output_type": "stream",
     "text": [
      "Can't get connection to https://ivie.vn/cong-dong?page=2981! Try again in 3 seconds.\n",
      "Can't get connection to https://ivie.vn/cong-dong?page=2982! Try again in 3 seconds.\n",
      "Can't get connection to https://ivie.vn/cong-dong?page=2975! Try again in 3 seconds.\n"
     ]
    },
    {
     "name": "stderr",
     "output_type": "stream",
     "text": [
      "Processing page 2984: : 0it [00:00, ?it/s]\n"
     ]
    },
    {
     "name": "stdout",
     "output_type": "stream",
     "text": [
      "Can't get connection to https://ivie.vn/cong-dong?page=2985! Try again in 3 seconds.\n"
     ]
    },
    {
     "name": "stderr",
     "output_type": "stream",
     "text": [
      "Processing page 2981: : 0it [00:00, ?it/s]\n",
      "Processing page 2982: : 0it [00:00, ?it/s]\n",
      "Processing page 2983: : 0it [00:00, ?it/s]\n",
      "Processing page 2975: : 0it [00:00, ?it/s]\n"
     ]
    },
    {
     "name": "stdout",
     "output_type": "stream",
     "text": [
      "Can't get connection to https://ivie.vn/cong-dong?page=2986! Try again in 3 seconds.\n",
      "Can't get connection to https://ivie.vn/cong-dong?page=2987! Try again in 3 seconds.\n",
      "Can't get connection to https://ivie.vn/cong-dong?page=2988! Try again in 3 seconds.\n"
     ]
    },
    {
     "name": "stderr",
     "output_type": "stream",
     "text": [
      "Processing page 2989: : 0it [00:00, ?it/s]\n",
      "Processing page 2985: : 0it [00:00, ?it/s]\n",
      "Processing page 2986: : 0it [00:00, ?it/s]\n",
      "Processing page 2990: : 0it [00:00, ?it/s]\n",
      "Processing page 2987: : 0it [00:00, ?it/s]\n"
     ]
    },
    {
     "name": "stdout",
     "output_type": "stream",
     "text": [
      "Can't get connection to https://ivie.vn/cong-dong?page=2988! Try again in 3 seconds.\n"
     ]
    },
    {
     "name": "stderr",
     "output_type": "stream",
     "text": [
      "Processing page 2991: : 0it [00:00, ?it/s]\n",
      "Processing page 2992: : 0it [00:00, ?it/s]\n",
      "Processing page 2993: : 0it [00:00, ?it/s]\n"
     ]
    },
    {
     "name": "stdout",
     "output_type": "stream",
     "text": [
      "Can't get connection to https://ivie.vn/cong-dong?page=2994! Try again in 3 seconds.\n"
     ]
    },
    {
     "name": "stderr",
     "output_type": "stream",
     "text": [
      "Processing page 2995: : 0it [00:00, ?it/s]\n"
     ]
    },
    {
     "name": "stdout",
     "output_type": "stream",
     "text": [
      "Can't get connection to https://ivie.vn/cong-dong?page=2996! Try again in 3 seconds.\n",
      "Can't get connection to https://ivie.vn/cong-dong?page=2988! Try again in 3 seconds.\n",
      "Can't get connection to https://ivie.vn/cong-dong?page=2997! Try again in 3 seconds.\n",
      "Can't get connection to https://ivie.vn/cong-dong?page=2994! Try again in 3 seconds.\n",
      "Can't get connection to https://ivie.vn/cong-dong?page=2998! Try again in 3 seconds.\n"
     ]
    },
    {
     "name": "stderr",
     "output_type": "stream",
     "text": [
      "Processing page 2996: : 0it [00:00, ?it/s]\n",
      "Processing page 2997: : 0it [00:00, ?it/s]\n"
     ]
    },
    {
     "name": "stdout",
     "output_type": "stream",
     "text": [
      "Can't get connection to https://ivie.vn/cong-dong?page=2988! Try again in 3 seconds.\n"
     ]
    },
    {
     "name": "stderr",
     "output_type": "stream",
     "text": [
      "Processing page 2994: : 0it [00:00, ?it/s]\n"
     ]
    },
    {
     "name": "stdout",
     "output_type": "stream",
     "text": [
      "Can't get connection to https://ivie.vn/cong-dong?page=3000! Try again in 3 seconds.\n"
     ]
    },
    {
     "name": "stderr",
     "output_type": "stream",
     "text": [
      "Processing page 2999: : 0it [00:00, ?it/s]\n"
     ]
    },
    {
     "name": "stdout",
     "output_type": "stream",
     "text": [
      "Can't get connection to https://ivie.vn/cong-dong?page=2998! Try again in 3 seconds.\n"
     ]
    },
    {
     "name": "stderr",
     "output_type": "stream",
     "text": [
      "Processing page 3001: : 0it [00:00, ?it/s]\n",
      "Processing page 2988: : 0it [00:00, ?it/s]\n"
     ]
    },
    {
     "name": "stdout",
     "output_type": "stream",
     "text": [
      "Can't get connection to https://ivie.vn/cong-dong?page=3002! Try again in 3 seconds.\n"
     ]
    },
    {
     "name": "stderr",
     "output_type": "stream",
     "text": [
      "Processing page 2998: : 0it [00:00, ?it/s]\n"
     ]
    },
    {
     "name": "stdout",
     "output_type": "stream",
     "text": [
      "Can't get connection to https://ivie.vn/cong-dong?page=3003! Try again in 3 seconds.\n"
     ]
    },
    {
     "name": "stderr",
     "output_type": "stream",
     "text": [
      "Processing page 3000: : 0it [00:00, ?it/s]\n"
     ]
    },
    {
     "name": "stdout",
     "output_type": "stream",
     "text": [
      "Can't get connection to https://ivie.vn/cong-dong?page=3004! Try again in 3 seconds.\n"
     ]
    },
    {
     "name": "stderr",
     "output_type": "stream",
     "text": [
      "Processing page 3002: : 0it [00:00, ?it/s]\n",
      "Processing page 3005: : 0it [00:00, ?it/s]\n"
     ]
    },
    {
     "name": "stdout",
     "output_type": "stream",
     "text": [
      "Can't get connection to https://ivie.vn/cong-dong?page=3006! Try again in 3 seconds.\n"
     ]
    },
    {
     "name": "stderr",
     "output_type": "stream",
     "text": [
      "Processing page 3003: : 0it [00:00, ?it/s]\n",
      "Processing page 3004: : 0it [00:00, ?it/s]\n",
      "Processing page 3007: : 0it [00:00, ?it/s]\n"
     ]
    },
    {
     "name": "stdout",
     "output_type": "stream",
     "text": [
      "Can't get connection to https://ivie.vn/cong-dong?page=3008! Try again in 3 seconds.\n"
     ]
    },
    {
     "name": "stderr",
     "output_type": "stream",
     "text": [
      "Processing page 3010: : 0it [00:00, ?it/s]\n"
     ]
    },
    {
     "name": "stdout",
     "output_type": "stream",
     "text": [
      "Can't get connection to https://ivie.vn/cong-dong?page=3006! Try again in 3 seconds.\n"
     ]
    },
    {
     "name": "stderr",
     "output_type": "stream",
     "text": [
      "Processing page 3011: : 0it [00:00, ?it/s]\n"
     ]
    },
    {
     "name": "stdout",
     "output_type": "stream",
     "text": [
      "Can't get connection to https://ivie.vn/cong-dong?page=3009! Try again in 3 seconds.\n"
     ]
    },
    {
     "name": "stderr",
     "output_type": "stream",
     "text": [
      "Processing page 3008: : 0it [00:00, ?it/s]\n"
     ]
    },
    {
     "name": "stdout",
     "output_type": "stream",
     "text": [
      "Can't get connection to https://ivie.vn/cong-dong?page=3013! Try again in 3 seconds.\n",
      "Can't get connection to https://ivie.vn/cong-dong?page=3012! Try again in 3 seconds.\n"
     ]
    },
    {
     "name": "stderr",
     "output_type": "stream",
     "text": [
      "Processing page 3006: : 0it [00:00, ?it/s]\n"
     ]
    },
    {
     "name": "stdout",
     "output_type": "stream",
     "text": [
      "Can't get connection to https://ivie.vn/cong-dong?page=3014! Try again in 3 seconds.\n"
     ]
    },
    {
     "name": "stderr",
     "output_type": "stream",
     "text": [
      "Processing page 3009: : 0it [00:00, ?it/s]\n",
      "Processing page 3015: : 0it [00:00, ?it/s]\n"
     ]
    },
    {
     "name": "stdout",
     "output_type": "stream",
     "text": [
      "Can't get connection to https://ivie.vn/cong-dong?page=3013! Try again in 3 seconds.\n"
     ]
    },
    {
     "name": "stderr",
     "output_type": "stream",
     "text": [
      "Processing page 3012: : 0it [00:00, ?it/s]\n",
      "Processing page 3014: : 0it [00:00, ?it/s]\n"
     ]
    },
    {
     "name": "stdout",
     "output_type": "stream",
     "text": [
      "Can't get connection to https://ivie.vn/cong-dong?page=3016! Try again in 3 seconds.\n"
     ]
    },
    {
     "name": "stderr",
     "output_type": "stream",
     "text": [
      "Processing page 3017: : 0it [00:00, ?it/s]\n",
      "Processing page 3018: : 0it [00:00, ?it/s]\n",
      "Processing page 3019: : 0it [00:00, ?it/s]\n"
     ]
    },
    {
     "name": "stdout",
     "output_type": "stream",
     "text": [
      "Can't get connection to https://ivie.vn/cong-dong?page=3013! Try again in 3 seconds.\n",
      "Can't get connection to https://ivie.vn/cong-dong?page=3016! Try again in 3 seconds.\n"
     ]
    },
    {
     "name": "stderr",
     "output_type": "stream",
     "text": [
      "Processing page 3021: : 0it [00:00, ?it/s]\n"
     ]
    },
    {
     "name": "stdout",
     "output_type": "stream",
     "text": [
      "Can't get connection to https://ivie.vn/cong-dong?page=3022! Try again in 3 seconds.\n",
      "Can't get connection to https://ivie.vn/cong-dong?page=3020! Try again in 3 seconds.\n",
      "Can't get connection to https://ivie.vn/cong-dong?page=3013! Try again in 3 seconds.\n"
     ]
    },
    {
     "name": "stderr",
     "output_type": "stream",
     "text": [
      "Processing page 3023: : 0it [00:00, ?it/s]\n"
     ]
    },
    {
     "name": "stdout",
     "output_type": "stream",
     "text": [
      "Can't get connection to https://ivie.vn/cong-dong?page=3016! Try again in 3 seconds.\n"
     ]
    },
    {
     "name": "stderr",
     "output_type": "stream",
     "text": [
      "Processing page 3020: : 0it [00:00, ?it/s]\n"
     ]
    },
    {
     "name": "stdout",
     "output_type": "stream",
     "text": [
      "Can't get connection to https://ivie.vn/cong-dong?page=3022! Try again in 3 seconds.\n"
     ]
    },
    {
     "name": "stderr",
     "output_type": "stream",
     "text": [
      "Processing page 3013: : 0it [00:00, ?it/s]\n",
      "Processing page 3024: : 0it [00:00, ?it/s]\n",
      "Processing page 3016: : 0it [00:00, ?it/s]\n"
     ]
    },
    {
     "name": "stdout",
     "output_type": "stream",
     "text": [
      "Can't get connection to https://ivie.vn/cong-dong?page=3026! Try again in 3 seconds.\n",
      "Can't get connection to https://ivie.vn/cong-dong?page=3022! Try again in 3 seconds.\n",
      "Can't get connection to https://ivie.vn/cong-dong?page=3025! Try again in 3 seconds.\n"
     ]
    },
    {
     "name": "stderr",
     "output_type": "stream",
     "text": [
      "Processing page 3027: : 0it [00:00, ?it/s]\n"
     ]
    },
    {
     "name": "stdout",
     "output_type": "stream",
     "text": [
      "Can't get connection to https://ivie.vn/cong-dong?page=3028! Try again in 3 seconds.\n"
     ]
    },
    {
     "name": "stderr",
     "output_type": "stream",
     "text": [
      "Processing page 3022: : 0it [00:00, ?it/s]\n",
      "Processing page 3026: : 0it [00:00, ?it/s]\n"
     ]
    },
    {
     "name": "stdout",
     "output_type": "stream",
     "text": [
      "Can't get connection to https://ivie.vn/cong-dong?page=3025! Try again in 3 seconds.\n",
      "Can't get connection to https://ivie.vn/cong-dong?page=3028! Try again in 3 seconds.\n",
      "Can't get connection to https://ivie.vn/cong-dong?page=3029! Try again in 3 seconds.\n",
      "Can't get connection to https://ivie.vn/cong-dong?page=3030! Try again in 3 seconds.\n",
      "Can't get connection to https://ivie.vn/cong-dong?page=3031! Try again in 3 seconds.\n"
     ]
    },
    {
     "name": "stderr",
     "output_type": "stream",
     "text": [
      "Processing page 3025: : 0it [00:00, ?it/s]\n"
     ]
    },
    {
     "name": "stdout",
     "output_type": "stream",
     "text": [
      "Can't get connection to https://ivie.vn/cong-dong?page=3029! Try again in 3 seconds.\n"
     ]
    },
    {
     "name": "stderr",
     "output_type": "stream",
     "text": [
      "Processing page 3028: : 0it [00:00, ?it/s]\n",
      "Processing page 3030: : 0it [00:00, ?it/s]\n"
     ]
    },
    {
     "name": "stdout",
     "output_type": "stream",
     "text": [
      "Can't get connection to https://ivie.vn/cong-dong?page=3032! Try again in 3 seconds.\n"
     ]
    },
    {
     "name": "stderr",
     "output_type": "stream",
     "text": [
      "Processing page 3031: : 0it [00:00, ?it/s]\n",
      "Processing page 3033: : 0it [00:00, ?it/s]\n",
      "Processing page 3029: : 0it [00:00, ?it/s]\n"
     ]
    },
    {
     "name": "stdout",
     "output_type": "stream",
     "text": [
      "Can't get connection to https://ivie.vn/cong-dong?page=3034! Try again in 3 seconds.\n"
     ]
    },
    {
     "name": "stderr",
     "output_type": "stream",
     "text": [
      "Processing page 3035: : 0it [00:00, ?it/s]\n",
      "Processing page 3036: : 0it [00:00, ?it/s]\n"
     ]
    },
    {
     "name": "stdout",
     "output_type": "stream",
     "text": [
      "Can't get connection to https://ivie.vn/cong-dong?page=3037! Try again in 3 seconds.\n",
      "Can't get connection to https://ivie.vn/cong-dong?page=3032! Try again in 3 seconds.\n",
      "Can't get connection to https://ivie.vn/cong-dong?page=3034! Try again in 3 seconds.\n"
     ]
    },
    {
     "name": "stderr",
     "output_type": "stream",
     "text": [
      "Processing page 3038: : 0it [00:00, ?it/s]\n"
     ]
    },
    {
     "name": "stdout",
     "output_type": "stream",
     "text": [
      "Can't get connection to https://ivie.vn/cong-dong?page=3039! Try again in 3 seconds.\n"
     ]
    },
    {
     "name": "stderr",
     "output_type": "stream",
     "text": [
      "Processing page 3032: : 0it [00:00, ?it/s]\n",
      "Processing page 3040: : 0it [00:00, ?it/s]\n"
     ]
    },
    {
     "name": "stdout",
     "output_type": "stream",
     "text": [
      "Can't get connection to https://ivie.vn/cong-dong?page=3037! Try again in 3 seconds.\n"
     ]
    },
    {
     "name": "stderr",
     "output_type": "stream",
     "text": [
      "Processing page 3034: : 0it [00:00, ?it/s]\n",
      "Processing page 3041: : 0it [00:00, ?it/s]\n"
     ]
    },
    {
     "name": "stdout",
     "output_type": "stream",
     "text": [
      "Can't get connection to https://ivie.vn/cong-dong?page=3039! Try again in 3 seconds.\n"
     ]
    },
    {
     "name": "stderr",
     "output_type": "stream",
     "text": [
      "Processing page 3042: : 0it [00:00, ?it/s]\n"
     ]
    },
    {
     "name": "stdout",
     "output_type": "stream",
     "text": [
      "Can't get connection to https://ivie.vn/cong-dong?page=3037! Try again in 3 seconds.\n",
      "Can't get connection to https://ivie.vn/cong-dong?page=3043! Try again in 3 seconds.\n",
      "Can't get connection to https://ivie.vn/cong-dong?page=3044! Try again in 3 seconds.\n"
     ]
    },
    {
     "name": "stderr",
     "output_type": "stream",
     "text": [
      "Processing page 3045: : 0it [00:00, ?it/s]\n",
      "Processing page 3039: : 0it [00:00, ?it/s]\n",
      "Processing page 3043: : 0it [00:00, ?it/s]\n",
      "Processing page 3037: : 0it [00:00, ?it/s]\n"
     ]
    },
    {
     "name": "stdout",
     "output_type": "stream",
     "text": [
      "Can't get connection to https://ivie.vn/cong-dong?page=3044! Try again in 3 seconds.\n",
      "Can't get connection to https://ivie.vn/cong-dong?page=3046! Try again in 3 seconds.\n",
      "Can't get connection to https://ivie.vn/cong-dong?page=3047! Try again in 3 seconds.\n"
     ]
    },
    {
     "name": "stderr",
     "output_type": "stream",
     "text": [
      "Processing page 3048: : 0it [00:00, ?it/s]\n",
      "Processing page 3049: : 0it [00:00, ?it/s]\n"
     ]
    },
    {
     "name": "stdout",
     "output_type": "stream",
     "text": [
      "Can't get connection to https://ivie.vn/cong-dong?page=3044! Try again in 3 seconds.\n",
      "Can't get connection to https://ivie.vn/cong-dong?page=3046! Try again in 3 seconds.\n"
     ]
    },
    {
     "name": "stderr",
     "output_type": "stream",
     "text": [
      "Processing page 3047: : 0it [00:00, ?it/s]\n"
     ]
    },
    {
     "name": "stdout",
     "output_type": "stream",
     "text": [
      "Can't get connection to https://ivie.vn/cong-dong?page=3050! Try again in 3 seconds.\n"
     ]
    },
    {
     "name": "stderr",
     "output_type": "stream",
     "text": [
      "Processing page 3051: : 0it [00:00, ?it/s]\n"
     ]
    },
    {
     "name": "stdout",
     "output_type": "stream",
     "text": [
      "Can't get connection to https://ivie.vn/cong-dong?page=3052! Try again in 3 seconds.\n",
      "Can't get connection to https://ivie.vn/cong-dong?page=3044! Try again in 3 seconds.\n"
     ]
    },
    {
     "name": "stderr",
     "output_type": "stream",
     "text": [
      "Processing page 3053: : 0it [00:00, ?it/s]\n",
      "Processing page 3052: : 0it [00:00, ?it/s]\n"
     ]
    },
    {
     "name": "stdout",
     "output_type": "stream",
     "text": [
      "Can't get connection to https://ivie.vn/cong-dong?page=3046! Try again in 3 seconds.\n"
     ]
    },
    {
     "name": "stderr",
     "output_type": "stream",
     "text": [
      "Processing page 3044: : 0it [00:00, ?it/s]\n"
     ]
    },
    {
     "name": "stdout",
     "output_type": "stream",
     "text": [
      "Can't get connection to https://ivie.vn/cong-dong?page=3050! Try again in 3 seconds.\n",
      "Can't get connection to https://ivie.vn/cong-dong?page=3054! Try again in 3 seconds.\n"
     ]
    },
    {
     "name": "stderr",
     "output_type": "stream",
     "text": [
      "Processing page 3055: : 0it [00:00, ?it/s]\n"
     ]
    },
    {
     "name": "stdout",
     "output_type": "stream",
     "text": [
      "Can't get connection to https://ivie.vn/cong-dong?page=3056! Try again in 3 seconds.\n",
      "Can't get connection to https://ivie.vn/cong-dong?page=3046! Try again in 3 seconds.\n"
     ]
    },
    {
     "name": "stderr",
     "output_type": "stream",
     "text": [
      "Processing page 3054: : 0it [00:00, ?it/s]\n",
      "Processing page 3050: : 0it [00:00, ?it/s]\n"
     ]
    },
    {
     "name": "stdout",
     "output_type": "stream",
     "text": [
      "Can't get connection to https://ivie.vn/cong-dong?page=3057! Try again in 3 seconds.\n",
      "Can't get connection to https://ivie.vn/cong-dong?page=3056! Try again in 3 seconds.\n"
     ]
    },
    {
     "name": "stderr",
     "output_type": "stream",
     "text": [
      "Processing page 3046: : 0it [00:00, ?it/s]\n",
      "Processing page 3058: : 0it [00:00, ?it/s]\n"
     ]
    },
    {
     "name": "stdout",
     "output_type": "stream",
     "text": [
      "Can't get connection to https://ivie.vn/cong-dong?page=3059! Try again in 3 seconds.\n"
     ]
    },
    {
     "name": "stderr",
     "output_type": "stream",
     "text": [
      "Processing page 3057: : 0it [00:00, ?it/s]\n"
     ]
    },
    {
     "name": "stdout",
     "output_type": "stream",
     "text": [
      "Can't get connection to https://ivie.vn/cong-dong?page=3056! Try again in 3 seconds.\n"
     ]
    },
    {
     "name": "stderr",
     "output_type": "stream",
     "text": [
      "Processing page 3061: : 0it [00:00, ?it/s]\n"
     ]
    },
    {
     "name": "stdout",
     "output_type": "stream",
     "text": [
      "Can't get connection to https://ivie.vn/cong-dong?page=3060! Try again in 3 seconds.\n",
      "Can't get connection to https://ivie.vn/cong-dong?page=3059! Try again in 3 seconds.\n",
      "Can't get connection to https://ivie.vn/cong-dong?page=3056! Try again in 3 seconds.\n",
      "Can't get connection to https://ivie.vn/cong-dong?page=3062! Try again in 3 seconds.\n"
     ]
    },
    {
     "name": "stderr",
     "output_type": "stream",
     "text": [
      "Processing page 3063: : 0it [00:00, ?it/s]\n",
      "Processing page 3060: : 0it [00:00, ?it/s]\n",
      "Processing page 3059: : 0it [00:00, ?it/s]\n",
      "Processing page 3064: : 0it [00:00, ?it/s]\n"
     ]
    },
    {
     "name": "stdout",
     "output_type": "stream",
     "text": [
      "Can't get connection to https://ivie.vn/cong-dong?page=3062! Try again in 3 seconds.\n"
     ]
    },
    {
     "name": "stderr",
     "output_type": "stream",
     "text": [
      "Processing page 3056: : 0it [00:00, ?it/s]\n",
      "Processing page 3065: : 0it [00:00, ?it/s]\n"
     ]
    },
    {
     "name": "stdout",
     "output_type": "stream",
     "text": [
      "Can't get connection to https://ivie.vn/cong-dong?page=3066! Try again in 3 seconds.\n",
      "Can't get connection to https://ivie.vn/cong-dong?page=3067! Try again in 3 seconds.\n"
     ]
    },
    {
     "name": "stderr",
     "output_type": "stream",
     "text": [
      "Processing page 3069: : 0it [00:00, ?it/s]\n"
     ]
    },
    {
     "name": "stdout",
     "output_type": "stream",
     "text": [
      "Can't get connection to https://ivie.vn/cong-dong?page=3062! Try again in 3 seconds.\n",
      "Can't get connection to https://ivie.vn/cong-dong?page=3068! Try again in 3 seconds.\n"
     ]
    },
    {
     "name": "stderr",
     "output_type": "stream",
     "text": [
      "Processing page 3066: : 0it [00:00, ?it/s]\n"
     ]
    },
    {
     "name": "stdout",
     "output_type": "stream",
     "text": [
      "Can't get connection to https://ivie.vn/cong-dong?page=3067! Try again in 3 seconds.\n"
     ]
    },
    {
     "name": "stderr",
     "output_type": "stream",
     "text": [
      "Processing page 3070: : 0it [00:00, ?it/s]\n"
     ]
    },
    {
     "name": "stdout",
     "output_type": "stream",
     "text": [
      "Can't get connection to https://ivie.vn/cong-dong?page=3071! Try again in 3 seconds.\n"
     ]
    },
    {
     "name": "stderr",
     "output_type": "stream",
     "text": [
      "Processing page 3062: : 0it [00:00, ?it/s]\n",
      "Processing page 3068: : 0it [00:00, ?it/s]\n",
      "Processing page 3067: : 0it [00:00, ?it/s]\n"
     ]
    },
    {
     "name": "stdout",
     "output_type": "stream",
     "text": [
      "Can't get connection to https://ivie.vn/cong-dong?page=3072! Try again in 3 seconds.\n"
     ]
    },
    {
     "name": "stderr",
     "output_type": "stream",
     "text": [
      "Processing page 3073: : 0it [00:00, ?it/s]\n"
     ]
    },
    {
     "name": "stdout",
     "output_type": "stream",
     "text": [
      "Can't get connection to https://ivie.vn/cong-dong?page=3071! Try again in 3 seconds.\n",
      "Can't get connection to https://ivie.vn/cong-dong?page=3075! Try again in 3 seconds.\n",
      "Can't get connection to https://ivie.vn/cong-dong?page=3074! Try again in 3 seconds.\n",
      "Can't get connection to https://ivie.vn/cong-dong?page=3072! Try again in 3 seconds.\n"
     ]
    },
    {
     "name": "stderr",
     "output_type": "stream",
     "text": [
      "Processing page 3076: : 0it [00:00, ?it/s]\n"
     ]
    },
    {
     "name": "stdout",
     "output_type": "stream",
     "text": [
      "Can't get connection to https://ivie.vn/cong-dong?page=3074! Try again in 3 seconds.\n"
     ]
    },
    {
     "name": "stderr",
     "output_type": "stream",
     "text": [
      "Processing page 3075: : 0it [00:00, ?it/s]\n",
      "Processing page 3071: : 0it [00:00, ?it/s]\n"
     ]
    },
    {
     "name": "stdout",
     "output_type": "stream",
     "text": [
      "Can't get connection to https://ivie.vn/cong-dong?page=3077! Try again in 3 seconds.\n",
      "Can't get connection to https://ivie.vn/cong-dong?page=3072! Try again in 3 seconds.\n"
     ]
    },
    {
     "name": "stderr",
     "output_type": "stream",
     "text": [
      "Processing page 3078: : 0it [00:00, ?it/s]\n",
      "Processing page 3079: : 0it [00:00, ?it/s]\n",
      "Processing page 3074: : 0it [00:00, ?it/s]\n",
      "Processing page 3077: : 0it [00:00, ?it/s]\n",
      "Processing page 3080: : 0it [00:00, ?it/s]\n",
      "Processing page 3081: : 0it [00:00, ?it/s]\n",
      "Processing page 3082: : 0it [00:00, ?it/s]\n"
     ]
    },
    {
     "name": "stdout",
     "output_type": "stream",
     "text": [
      "Can't get connection to https://ivie.vn/cong-dong?page=3072! Try again in 3 seconds.\n"
     ]
    },
    {
     "name": "stderr",
     "output_type": "stream",
     "text": [
      "Processing page 3083: : 0it [00:00, ?it/s]\n",
      "Processing page 3084: : 0it [00:00, ?it/s]\n"
     ]
    },
    {
     "name": "stdout",
     "output_type": "stream",
     "text": [
      "Can't get connection to https://ivie.vn/cong-dong?page=3085! Try again in 3 seconds.\n"
     ]
    },
    {
     "name": "stderr",
     "output_type": "stream",
     "text": [
      "Processing page 3086: : 0it [00:00, ?it/s]\n",
      "Processing page 3072: : 0it [00:00, ?it/s]\n",
      "Processing page 3087: : 0it [00:00, ?it/s]\n",
      "Processing page 3088: : 0it [00:00, ?it/s]\n"
     ]
    },
    {
     "name": "stdout",
     "output_type": "stream",
     "text": [
      "Can't get connection to https://ivie.vn/cong-dong?page=3089! Try again in 3 seconds.\n"
     ]
    },
    {
     "name": "stderr",
     "output_type": "stream",
     "text": [
      "Processing page 3085: : 0it [00:00, ?it/s]\n"
     ]
    },
    {
     "name": "stdout",
     "output_type": "stream",
     "text": [
      "Can't get connection to https://ivie.vn/cong-dong?page=3090! Try again in 3 seconds.\n"
     ]
    },
    {
     "name": "stderr",
     "output_type": "stream",
     "text": [
      "Processing page 3091: : 0it [00:00, ?it/s]\n",
      "Processing page 3092: : 0it [00:00, ?it/s]\n"
     ]
    },
    {
     "name": "stdout",
     "output_type": "stream",
     "text": [
      "Can't get connection to https://ivie.vn/cong-dong?page=3093! Try again in 3 seconds.\n"
     ]
    },
    {
     "name": "stderr",
     "output_type": "stream",
     "text": [
      "Processing page 3089: : 0it [00:00, ?it/s]\n"
     ]
    },
    {
     "name": "stdout",
     "output_type": "stream",
     "text": [
      "Can't get connection to https://ivie.vn/cong-dong?page=3094! Try again in 3 seconds.\n",
      "Can't get connection to https://ivie.vn/cong-dong?page=3090! Try again in 3 seconds.\n"
     ]
    },
    {
     "name": "stderr",
     "output_type": "stream",
     "text": [
      "Processing page 3095: : 0it [00:00, ?it/s]\n"
     ]
    },
    {
     "name": "stdout",
     "output_type": "stream",
     "text": [
      "Can't get connection to https://ivie.vn/cong-dong?page=3093! Try again in 3 seconds.\n",
      "Can't get connection to https://ivie.vn/cong-dong?page=3096! Try again in 3 seconds.\n",
      "Can't get connection to https://ivie.vn/cong-dong?page=3097! Try again in 3 seconds.\n"
     ]
    },
    {
     "name": "stderr",
     "output_type": "stream",
     "text": [
      "Processing page 3094: : 0it [00:00, ?it/s]\n"
     ]
    },
    {
     "name": "stdout",
     "output_type": "stream",
     "text": [
      "Can't get connection to https://ivie.vn/cong-dong?page=3090! Try again in 3 seconds.\n"
     ]
    },
    {
     "name": "stderr",
     "output_type": "stream",
     "text": [
      "Processing page 3093: : 0it [00:00, ?it/s]\n",
      "Processing page 3096: : 0it [00:00, ?it/s]\n",
      "Processing page 3098: : 0it [00:00, ?it/s]\n",
      "Processing page 3097: : 0it [00:00, ?it/s]\n"
     ]
    },
    {
     "name": "stdout",
     "output_type": "stream",
     "text": [
      "Can't get connection to https://ivie.vn/cong-dong?page=3090! Try again in 3 seconds.\n"
     ]
    },
    {
     "name": "stderr",
     "output_type": "stream",
     "text": [
      "Processing page 3099: : 0it [00:00, ?it/s]\n"
     ]
    },
    {
     "name": "stdout",
     "output_type": "stream",
     "text": [
      "Can't get connection to https://ivie.vn/cong-dong?page=3101! Try again in 3 seconds.\n",
      "Can't get connection to https://ivie.vn/cong-dong?page=3100! Try again in 3 seconds.\n"
     ]
    },
    {
     "name": "stderr",
     "output_type": "stream",
     "text": [
      "Processing page 3102: : 0it [00:00, ?it/s]\n",
      "Processing page 3103: : 0it [00:00, ?it/s]\n",
      "Processing page 3101: : 0it [00:00, ?it/s]\n",
      "Processing page 3100: : 0it [00:00, ?it/s]\n",
      "Processing page 3104: : 0it [00:00, ?it/s]\n",
      "Processing page 3105: : 0it [00:00, ?it/s]\n"
     ]
    },
    {
     "name": "stdout",
     "output_type": "stream",
     "text": [
      "Can't get connection to https://ivie.vn/cong-dong?page=3090! Try again in 3 seconds.\n"
     ]
    },
    {
     "name": "stderr",
     "output_type": "stream",
     "text": [
      "Processing page 3106: : 0it [00:00, ?it/s]\n",
      "Processing page 3107: : 0it [00:00, ?it/s]\n",
      "Processing page 3108: : 0it [00:00, ?it/s]\n",
      "Processing page 3109: : 0it [00:00, ?it/s]\n"
     ]
    },
    {
     "name": "stdout",
     "output_type": "stream",
     "text": [
      "Can't get connection to https://ivie.vn/cong-dong?page=3110! Try again in 3 seconds.\n"
     ]
    },
    {
     "name": "stderr",
     "output_type": "stream",
     "text": [
      "Processing page 3111: : 0it [00:00, ?it/s]\n",
      "Processing page 3090: : 0it [00:00, ?it/s]\n",
      "Processing page 3112: : 0it [00:00, ?it/s]\n",
      "Processing page 3113: : 0it [00:00, ?it/s]\n",
      "Processing page 3110: : 0it [00:00, ?it/s]\n",
      "Processing page 3115: : 0it [00:00, ?it/s]\n",
      "Processing page 3117: : 0it [00:00, ?it/s]\n",
      "Processing page 3116: : 0it [00:00, ?it/s]\n",
      "Processing page 3114: : 0it [00:00, ?it/s]\n",
      "Processing page 3118: : 0it [00:00, ?it/s]\n",
      "Processing page 3119: : 0it [00:00, ?it/s]\n",
      "Processing page 3120: : 0it [00:00, ?it/s]\n"
     ]
    },
    {
     "name": "stdout",
     "output_type": "stream",
     "text": [
      "Can't get connection to https://ivie.vn/cong-dong?page=3121! Try again in 3 seconds.\n"
     ]
    },
    {
     "name": "stderr",
     "output_type": "stream",
     "text": [
      "Processing page 3122: : 0it [00:00, ?it/s]\n"
     ]
    },
    {
     "name": "stdout",
     "output_type": "stream",
     "text": [
      "Can't get connection to https://ivie.vn/cong-dong?page=3123! Try again in 3 seconds.\n"
     ]
    },
    {
     "name": "stderr",
     "output_type": "stream",
     "text": [
      "Processing page 3124: : 0it [00:00, ?it/s]\n"
     ]
    },
    {
     "name": "stdout",
     "output_type": "stream",
     "text": [
      "Can't get connection to https://ivie.vn/cong-dong?page=3126! Try again in 3 seconds.\n",
      "Can't get connection to https://ivie.vn/cong-dong?page=3121! Try again in 3 seconds.\n",
      "Can't get connection to https://ivie.vn/cong-dong?page=3125! Try again in 3 seconds.\n"
     ]
    },
    {
     "name": "stderr",
     "output_type": "stream",
     "text": [
      "Processing page 3127: : 0it [00:00, ?it/s]\n"
     ]
    },
    {
     "name": "stdout",
     "output_type": "stream",
     "text": [
      "Can't get connection to https://ivie.vn/cong-dong?page=3123! Try again in 3 seconds.\n"
     ]
    },
    {
     "name": "stderr",
     "output_type": "stream",
     "text": [
      "Processing page 3121: : 0it [00:00, ?it/s]\n",
      "Processing page 3126: : 0it [00:00, ?it/s]\n",
      "Processing page 3125: : 0it [00:00, ?it/s]\n"
     ]
    },
    {
     "name": "stdout",
     "output_type": "stream",
     "text": [
      "Can't get connection to https://ivie.vn/cong-dong?page=3128! Try again in 3 seconds.\n"
     ]
    },
    {
     "name": "stderr",
     "output_type": "stream",
     "text": [
      "Processing page 3123: : 0it [00:00, ?it/s]\n"
     ]
    },
    {
     "name": "stdout",
     "output_type": "stream",
     "text": [
      "Can't get connection to https://ivie.vn/cong-dong?page=3129! Try again in 3 seconds.\n"
     ]
    },
    {
     "name": "stderr",
     "output_type": "stream",
     "text": [
      "Processing page 3130: : 0it [00:00, ?it/s]\n",
      "Processing page 3131: : 0it [00:00, ?it/s]\n",
      "Processing page 3128: : 0it [00:00, ?it/s]\n",
      "Processing page 3132: : 0it [00:00, ?it/s]\n"
     ]
    },
    {
     "name": "stdout",
     "output_type": "stream",
     "text": [
      "Can't get connection to https://ivie.vn/cong-dong?page=3133! Try again in 3 seconds.\n",
      "Can't get connection to https://ivie.vn/cong-dong?page=3134! Try again in 3 seconds.\n",
      "Can't get connection to https://ivie.vn/cong-dong?page=3129! Try again in 3 seconds.\n"
     ]
    },
    {
     "name": "stderr",
     "output_type": "stream",
     "text": [
      "Processing page 3136: : 0it [00:00, ?it/s]\n",
      "Processing page 3135: : 0it [00:00, ?it/s]\n"
     ]
    },
    {
     "name": "stdout",
     "output_type": "stream",
     "text": [
      "Can't get connection to https://ivie.vn/cong-dong?page=3133! Try again in 3 seconds.\n",
      "Can't get connection to https://ivie.vn/cong-dong?page=3134! Try again in 3 seconds.\n"
     ]
    },
    {
     "name": "stderr",
     "output_type": "stream",
     "text": [
      "Processing page 3137: : 0it [00:00, ?it/s]\n",
      "Processing page 3138: : 0it [00:00, ?it/s]\n"
     ]
    },
    {
     "name": "stdout",
     "output_type": "stream",
     "text": [
      "Can't get connection to https://ivie.vn/cong-dong?page=3129! Try again in 3 seconds.\n"
     ]
    },
    {
     "name": "stderr",
     "output_type": "stream",
     "text": [
      "Processing page 3133: : 0it [00:00, ?it/s]\n"
     ]
    },
    {
     "name": "stdout",
     "output_type": "stream",
     "text": [
      "Can't get connection to https://ivie.vn/cong-dong?page=3140! Try again in 3 seconds.\n"
     ]
    },
    {
     "name": "stderr",
     "output_type": "stream",
     "text": [
      "Processing page 3134: : 0it [00:00, ?it/s]\n"
     ]
    },
    {
     "name": "stdout",
     "output_type": "stream",
     "text": [
      "Can't get connection to https://ivie.vn/cong-dong?page=3139! Try again in 3 seconds.\n",
      "Can't get connection to https://ivie.vn/cong-dong?page=3129! Try again in 3 seconds.\n"
     ]
    },
    {
     "name": "stderr",
     "output_type": "stream",
     "text": [
      "Processing page 3141: : 0it [00:00, ?it/s]\n"
     ]
    },
    {
     "name": "stdout",
     "output_type": "stream",
     "text": [
      "Can't get connection to https://ivie.vn/cong-dong?page=3142! Try again in 3 seconds.\n"
     ]
    },
    {
     "name": "stderr",
     "output_type": "stream",
     "text": [
      "Processing page 3140: : 0it [00:00, ?it/s]\n",
      "Processing page 3143: : 0it [00:00, ?it/s]\n",
      "Processing page 3139: : 0it [00:00, ?it/s]\n",
      "Processing page 3129: : 0it [00:00, ?it/s]\n",
      "Processing page 3142: : 0it [00:00, ?it/s]\n",
      "Processing page 3144: : 0it [00:00, ?it/s]\n",
      "Processing page 3145: : 0it [00:00, ?it/s]\n",
      "Processing page 3146: : 0it [00:00, ?it/s]\n",
      "Processing page 3147: : 0it [00:00, ?it/s]\n",
      "Processing page 3148: : 0it [00:00, ?it/s]\n"
     ]
    },
    {
     "name": "stdout",
     "output_type": "stream",
     "text": [
      "Can't get connection to https://ivie.vn/cong-dong?page=3149! Try again in 3 seconds.\n"
     ]
    },
    {
     "name": "stderr",
     "output_type": "stream",
     "text": [
      "Processing page 3150: : 0it [00:00, ?it/s]\n"
     ]
    },
    {
     "name": "stdout",
     "output_type": "stream",
     "text": [
      "Can't get connection to https://ivie.vn/cong-dong?page=3151! Try again in 3 seconds.\n",
      "Can't get connection to https://ivie.vn/cong-dong?page=3152! Try again in 3 seconds.\n",
      "Can't get connection to https://ivie.vn/cong-dong?page=3153! Try again in 3 seconds.\n",
      "Can't get connection to https://ivie.vn/cong-dong?page=3154! Try again in 3 seconds.\n"
     ]
    },
    {
     "name": "stderr",
     "output_type": "stream",
     "text": [
      "Processing page 3149: : 0it [00:00, ?it/s]\n"
     ]
    },
    {
     "name": "stdout",
     "output_type": "stream",
     "text": [
      "Can't get connection to https://ivie.vn/cong-dong?page=3152! Try again in 3 seconds.\n"
     ]
    },
    {
     "name": "stderr",
     "output_type": "stream",
     "text": [
      "Processing page 3153: : 0it [00:00, ?it/s]\n"
     ]
    },
    {
     "name": "stdout",
     "output_type": "stream",
     "text": [
      "Can't get connection to https://ivie.vn/cong-dong?page=3151! Try again in 3 seconds.\n",
      "Can't get connection to https://ivie.vn/cong-dong?page=3154! Try again in 3 seconds.\n",
      "Can't get connection to https://ivie.vn/cong-dong?page=3155! Try again in 3 seconds.\n"
     ]
    },
    {
     "name": "stderr",
     "output_type": "stream",
     "text": [
      "Processing page 3156: : 0it [00:00, ?it/s]\n",
      "Processing page 3152: : 0it [00:00, ?it/s]\n",
      "Processing page 3151: : 0it [00:00, ?it/s]\n",
      "Processing page 3154: : 0it [00:00, ?it/s]\n",
      "Processing page 3155: : 0it [00:00, ?it/s]\n"
     ]
    },
    {
     "name": "stdout",
     "output_type": "stream",
     "text": [
      "Can't get connection to https://ivie.vn/cong-dong?page=3157! Try again in 3 seconds.\n"
     ]
    },
    {
     "name": "stderr",
     "output_type": "stream",
     "text": [
      "Processing page 3158: : 0it [00:00, ?it/s]\n",
      "Processing page 3159: : 0it [00:00, ?it/s]\n",
      "Processing page 3161: : 0it [00:00, ?it/s]\n"
     ]
    },
    {
     "name": "stdout",
     "output_type": "stream",
     "text": [
      "Can't get connection to https://ivie.vn/cong-dong?page=3162! Try again in 3 seconds.\n",
      "Can't get connection to https://ivie.vn/cong-dong?page=3160! Try again in 3 seconds.\n"
     ]
    },
    {
     "name": "stderr",
     "output_type": "stream",
     "text": [
      "Processing page 3157: : 0it [00:00, ?it/s]\n",
      "Processing page 3163: : 0it [00:00, ?it/s]\n",
      "Processing page 3164: : 0it [00:00, ?it/s]\n"
     ]
    },
    {
     "name": "stdout",
     "output_type": "stream",
     "text": [
      "Can't get connection to https://ivie.vn/cong-dong?page=3165! Try again in 3 seconds.\n",
      "Can't get connection to https://ivie.vn/cong-dong?page=3160! Try again in 3 seconds.\n",
      "Can't get connection to https://ivie.vn/cong-dong?page=3166! Try again in 3 seconds.\n"
     ]
    },
    {
     "name": "stderr",
     "output_type": "stream",
     "text": [
      "Processing page 3167: : 0it [00:00, ?it/s]\n"
     ]
    },
    {
     "name": "stdout",
     "output_type": "stream",
     "text": [
      "Can't get connection to https://ivie.vn/cong-dong?page=3165! Try again in 3 seconds.\n"
     ]
    },
    {
     "name": "stderr",
     "output_type": "stream",
     "text": [
      "Processing page 3160: : 0it [00:00, ?it/s]\n"
     ]
    },
    {
     "name": "stdout",
     "output_type": "stream",
     "text": [
      "Can't get connection to https://ivie.vn/cong-dong?page=3166! Try again in 3 seconds.\n"
     ]
    },
    {
     "name": "stderr",
     "output_type": "stream",
     "text": [
      "Processing page 3168: : 0it [00:00, ?it/s]\n",
      "Processing page 3162: : 0it [00:00, ?it/s]\n",
      "Processing page 3165: : 0it [00:00, ?it/s]\n",
      "Processing page 3169: : 0it [00:00, ?it/s]\n",
      "Processing page 3170: : 0it [00:00, ?it/s]\n",
      "Processing page 3166: : 0it [00:00, ?it/s]\n"
     ]
    },
    {
     "name": "stdout",
     "output_type": "stream",
     "text": [
      "Can't get connection to https://ivie.vn/cong-dong?page=3171! Try again in 3 seconds.\n",
      "Can't get connection to https://ivie.vn/cong-dong?page=3173! Try again in 3 seconds.\n"
     ]
    },
    {
     "name": "stderr",
     "output_type": "stream",
     "text": [
      "Processing page 3172: : 0it [00:00, ?it/s]\n",
      "Processing page 3174: : 0it [00:00, ?it/s]\n"
     ]
    },
    {
     "name": "stdout",
     "output_type": "stream",
     "text": [
      "Can't get connection to https://ivie.vn/cong-dong?page=3171! Try again in 3 seconds.\n",
      "Can't get connection to https://ivie.vn/cong-dong?page=3175! Try again in 3 seconds.\n",
      "Can't get connection to https://ivie.vn/cong-dong?page=3176! Try again in 3 seconds.\n"
     ]
    },
    {
     "name": "stderr",
     "output_type": "stream",
     "text": [
      "Processing page 3177: : 0it [00:00, ?it/s]\n",
      "Processing page 3173: : 0it [00:00, ?it/s]\n",
      "Processing page 3171: : 0it [00:00, ?it/s]\n"
     ]
    },
    {
     "name": "stdout",
     "output_type": "stream",
     "text": [
      "Can't get connection to https://ivie.vn/cong-dong?page=3178! Try again in 3 seconds.\n",
      "Can't get connection to https://ivie.vn/cong-dong?page=3175! Try again in 3 seconds.\n",
      "Can't get connection to https://ivie.vn/cong-dong?page=3176! Try again in 3 seconds.\n",
      "Can't get connection to https://ivie.vn/cong-dong?page=3179! Try again in 3 seconds.\n"
     ]
    },
    {
     "name": "stderr",
     "output_type": "stream",
     "text": [
      "Processing page 3180: : 0it [00:00, ?it/s]\n",
      "Processing page 3178: : 0it [00:00, ?it/s]\n",
      "Processing page 3175: : 0it [00:00, ?it/s]\n"
     ]
    },
    {
     "name": "stdout",
     "output_type": "stream",
     "text": [
      "Can't get connection to https://ivie.vn/cong-dong?page=3176! Try again in 3 seconds.\n",
      "Can't get connection to https://ivie.vn/cong-dong?page=3181! Try again in 3 seconds.\n"
     ]
    },
    {
     "name": "stderr",
     "output_type": "stream",
     "text": [
      "Processing page 3179: : 0it [00:00, ?it/s]\n",
      "Processing page 3182: : 0it [00:00, ?it/s]\n",
      "Processing page 3183: : 0it [00:00, ?it/s]\n"
     ]
    },
    {
     "name": "stdout",
     "output_type": "stream",
     "text": [
      "Can't get connection to https://ivie.vn/cong-dong?page=3176! Try again in 3 seconds.\n",
      "Can't get connection to https://ivie.vn/cong-dong?page=3184! Try again in 3 seconds.\n",
      "Can't get connection to https://ivie.vn/cong-dong?page=3181! Try again in 3 seconds.\n"
     ]
    },
    {
     "name": "stderr",
     "output_type": "stream",
     "text": [
      "Processing page 3186: : 0it [00:00, ?it/s]\n"
     ]
    },
    {
     "name": "stdout",
     "output_type": "stream",
     "text": [
      "Can't get connection to https://ivie.vn/cong-dong?page=3185! Try again in 3 seconds.\n",
      "Can't get connection to https://ivie.vn/cong-dong?page=3176! Try again in 3 seconds.\n"
     ]
    },
    {
     "name": "stderr",
     "output_type": "stream",
     "text": [
      "Processing page 3184: : 0it [00:00, ?it/s]\n",
      "Processing page 3181: : 0it [00:00, ?it/s]\n",
      "Processing page 3185: : 0it [00:00, ?it/s]\n"
     ]
    },
    {
     "name": "stdout",
     "output_type": "stream",
     "text": [
      "Can't get connection to https://ivie.vn/cong-dong?page=3187! Try again in 3 seconds.\n"
     ]
    },
    {
     "name": "stderr",
     "output_type": "stream",
     "text": [
      "Processing page 3189: : 0it [00:00, ?it/s]\n",
      "Processing page 3176: : 0it [00:00, ?it/s]\n"
     ]
    },
    {
     "name": "stdout",
     "output_type": "stream",
     "text": [
      "Can't get connection to https://ivie.vn/cong-dong?page=3188! Try again in 3 seconds.\n"
     ]
    },
    {
     "name": "stderr",
     "output_type": "stream",
     "text": [
      "Processing page 3190: : 0it [00:00, ?it/s]\n"
     ]
    },
    {
     "name": "stdout",
     "output_type": "stream",
     "text": [
      "Can't get connection to https://ivie.vn/cong-dong?page=3187! Try again in 3 seconds.\n"
     ]
    },
    {
     "name": "stderr",
     "output_type": "stream",
     "text": [
      "Processing page 3191: : 0it [00:00, ?it/s]\n"
     ]
    },
    {
     "name": "stdout",
     "output_type": "stream",
     "text": [
      "Can't get connection to https://ivie.vn/cong-dong?page=3192! Try again in 3 seconds.\n",
      "Can't get connection to https://ivie.vn/cong-dong?page=3193! Try again in 3 seconds.\n",
      "Can't get connection to https://ivie.vn/cong-dong?page=3188! Try again in 3 seconds.\n"
     ]
    },
    {
     "name": "stderr",
     "output_type": "stream",
     "text": [
      "Processing page 3187: : 0it [00:00, ?it/s]\n",
      "Processing page 3192: : 0it [00:00, ?it/s]\n"
     ]
    },
    {
     "name": "stdout",
     "output_type": "stream",
     "text": [
      "Can't get connection to https://ivie.vn/cong-dong?page=3194! Try again in 3 seconds.\n"
     ]
    },
    {
     "name": "stderr",
     "output_type": "stream",
     "text": [
      "Processing page 3193: : 0it [00:00, ?it/s]\n",
      "Processing page 3195: : 0it [00:00, ?it/s]\n",
      "Processing page 3188: : 0it [00:00, ?it/s]\n",
      "Processing page 3197: : 0it [00:00, ?it/s]\n"
     ]
    },
    {
     "name": "stdout",
     "output_type": "stream",
     "text": [
      "Can't get connection to https://ivie.vn/cong-dong?page=3198! Try again in 3 seconds.\n",
      "Can't get connection to https://ivie.vn/cong-dong?page=3196! Try again in 3 seconds.\n"
     ]
    },
    {
     "name": "stderr",
     "output_type": "stream",
     "text": [
      "Processing page 3199: : 0it [00:00, ?it/s]\n"
     ]
    },
    {
     "name": "stdout",
     "output_type": "stream",
     "text": [
      "Can't get connection to https://ivie.vn/cong-dong?page=3194! Try again in 3 seconds.\n"
     ]
    },
    {
     "name": "stderr",
     "output_type": "stream",
     "text": [
      "Processing page 3201: : 0it [00:00, ?it/s]\n"
     ]
    },
    {
     "name": "stdout",
     "output_type": "stream",
     "text": [
      "Can't get connection to https://ivie.vn/cong-dong?page=3200! Try again in 3 seconds.\n"
     ]
    },
    {
     "name": "stderr",
     "output_type": "stream",
     "text": [
      "Processing page 3198: : 0it [00:00, ?it/s]\n"
     ]
    },
    {
     "name": "stdout",
     "output_type": "stream",
     "text": [
      "Can't get connection to https://ivie.vn/cong-dong?page=3194! Try again in 3 seconds.\n"
     ]
    },
    {
     "name": "stderr",
     "output_type": "stream",
     "text": [
      "Processing page 3196: : 0it [00:00, ?it/s]\n",
      "Processing page 3202: : 0it [00:00, ?it/s]\n",
      "Processing page 3203: : 0it [00:00, ?it/s]\n",
      "Processing page 3200: : 0it [00:00, ?it/s]\n"
     ]
    },
    {
     "name": "stdout",
     "output_type": "stream",
     "text": [
      "Can't get connection to https://ivie.vn/cong-dong?page=3194! Try again in 3 seconds.\n",
      "Can't get connection to https://ivie.vn/cong-dong?page=3204! Try again in 3 seconds.\n",
      "Can't get connection to https://ivie.vn/cong-dong?page=3205! Try again in 3 seconds.\n"
     ]
    },
    {
     "name": "stderr",
     "output_type": "stream",
     "text": [
      "Processing page 3206: : 0it [00:00, ?it/s]\n"
     ]
    },
    {
     "name": "stdout",
     "output_type": "stream",
     "text": [
      "Can't get connection to https://ivie.vn/cong-dong?page=3207! Try again in 3 seconds.\n"
     ]
    },
    {
     "name": "stderr",
     "output_type": "stream",
     "text": [
      "Processing page 3194: : 0it [00:00, ?it/s]\n",
      "Processing page 3205: : 0it [00:00, ?it/s]\n",
      "Processing page 3208: : 0it [00:00, ?it/s]\n",
      "Processing page 3207: : 0it [00:00, ?it/s]\n"
     ]
    },
    {
     "name": "stdout",
     "output_type": "stream",
     "text": [
      "Can't get connection to https://ivie.vn/cong-dong?page=3204! Try again in 3 seconds.\n"
     ]
    },
    {
     "name": "stderr",
     "output_type": "stream",
     "text": [
      "Processing page 3210: : 0it [00:00, ?it/s]\n"
     ]
    },
    {
     "name": "stdout",
     "output_type": "stream",
     "text": [
      "Can't get connection to https://ivie.vn/cong-dong?page=3209! Try again in 3 seconds.\n"
     ]
    },
    {
     "name": "stderr",
     "output_type": "stream",
     "text": [
      "Processing page 3213: : 0it [00:00, ?it/s]\n"
     ]
    },
    {
     "name": "stdout",
     "output_type": "stream",
     "text": [
      "Can't get connection to https://ivie.vn/cong-dong?page=3212! Try again in 3 seconds.\n"
     ]
    },
    {
     "name": "stderr",
     "output_type": "stream",
     "text": [
      "Processing page 3204: : 0it [00:00, ?it/s]\n"
     ]
    },
    {
     "name": "stdout",
     "output_type": "stream",
     "text": [
      "Can't get connection to https://ivie.vn/cong-dong?page=3209! Try again in 3 seconds.\n",
      "Can't get connection to https://ivie.vn/cong-dong?page=3214! Try again in 3 seconds.\n"
     ]
    },
    {
     "name": "stderr",
     "output_type": "stream",
     "text": [
      "Processing page 3215: : 0it [00:00, ?it/s]\n",
      "Processing page 3212: : 0it [00:00, ?it/s]\n"
     ]
    },
    {
     "name": "stdout",
     "output_type": "stream",
     "text": [
      "Can't get connection to https://ivie.vn/cong-dong?page=3216! Try again in 3 seconds.\n"
     ]
    },
    {
     "name": "stderr",
     "output_type": "stream",
     "text": [
      "Processing page 3209: : 0it [00:00, ?it/s]\n"
     ]
    },
    {
     "name": "stdout",
     "output_type": "stream",
     "text": [
      "Can't get connection to https://ivie.vn/cong-dong?page=3211! Try again in 3 seconds.\n",
      "Can't get connection to https://ivie.vn/cong-dong?page=3214! Try again in 3 seconds.\n",
      "Can't get connection to https://ivie.vn/cong-dong?page=3217! Try again in 3 seconds.\n"
     ]
    },
    {
     "name": "stderr",
     "output_type": "stream",
     "text": [
      "Processing page 3218: : 0it [00:00, ?it/s]\n",
      "Processing page 3216: : 0it [00:00, ?it/s]\n",
      "Processing page 3214: : 0it [00:00, ?it/s]\n",
      "Processing page 3211: : 0it [00:00, ?it/s]\n"
     ]
    },
    {
     "name": "stdout",
     "output_type": "stream",
     "text": [
      "Can't get connection to https://ivie.vn/cong-dong?page=3217! Try again in 3 seconds.\n",
      "Can't get connection to https://ivie.vn/cong-dong?page=3219! Try again in 3 seconds.\n"
     ]
    },
    {
     "name": "stderr",
     "output_type": "stream",
     "text": [
      "Processing page 3220: : 0it [00:00, ?it/s]\n"
     ]
    },
    {
     "name": "stdout",
     "output_type": "stream",
     "text": [
      "Can't get connection to https://ivie.vn/cong-dong?page=3222! Try again in 3 seconds.\n",
      "Can't get connection to https://ivie.vn/cong-dong?page=3221! Try again in 3 seconds.\n"
     ]
    },
    {
     "name": "stderr",
     "output_type": "stream",
     "text": [
      "Processing page 3217: : 0it [00:00, ?it/s]\n",
      "Processing page 3223: : 0it [00:00, ?it/s]\n",
      "Processing page 3219: : 0it [00:00, ?it/s]\n",
      "Processing page 3224: : 0it [00:00, ?it/s]\n"
     ]
    },
    {
     "name": "stdout",
     "output_type": "stream",
     "text": [
      "Can't get connection to https://ivie.vn/cong-dong?page=3221! Try again in 3 seconds.\n"
     ]
    },
    {
     "name": "stderr",
     "output_type": "stream",
     "text": [
      "Processing page 3222: : 0it [00:00, ?it/s]\n",
      "Processing page 3225: : 0it [00:00, ?it/s]\n"
     ]
    },
    {
     "name": "stdout",
     "output_type": "stream",
     "text": [
      "Can't get connection to https://ivie.vn/cong-dong?page=3226! Try again in 3 seconds.\n"
     ]
    },
    {
     "name": "stderr",
     "output_type": "stream",
     "text": [
      "Processing page 3227: : 0it [00:00, ?it/s]\n",
      "Processing page 3228: : 0it [00:00, ?it/s]\n",
      "Processing page 3229: : 0it [00:00, ?it/s]\n"
     ]
    },
    {
     "name": "stdout",
     "output_type": "stream",
     "text": [
      "Can't get connection to https://ivie.vn/cong-dong?page=3221! Try again in 3 seconds.\n",
      "Can't get connection to https://ivie.vn/cong-dong?page=3226! Try again in 3 seconds.\n"
     ]
    },
    {
     "name": "stderr",
     "output_type": "stream",
     "text": [
      "Processing page 3230: : 0it [00:00, ?it/s]\n"
     ]
    },
    {
     "name": "stdout",
     "output_type": "stream",
     "text": [
      "Can't get connection to https://ivie.vn/cong-dong?page=3231! Try again in 3 seconds.\n"
     ]
    },
    {
     "name": "stderr",
     "output_type": "stream",
     "text": [
      "Processing page 3232: : 0it [00:00, ?it/s]\n",
      "Processing page 3226: : 0it [00:00, ?it/s]\n",
      "Processing page 3221: : 0it [00:00, ?it/s]\n",
      "Processing page 3233: : 0it [00:00, ?it/s]\n",
      "Processing page 3231: : 0it [00:00, ?it/s]\n"
     ]
    },
    {
     "name": "stdout",
     "output_type": "stream",
     "text": [
      "Can't get connection to https://ivie.vn/cong-dong?page=3236! Try again in 3 seconds.\n"
     ]
    },
    {
     "name": "stderr",
     "output_type": "stream",
     "text": [
      "Processing page 3235: : 0it [00:00, ?it/s]\n"
     ]
    },
    {
     "name": "stdout",
     "output_type": "stream",
     "text": [
      "Can't get connection to https://ivie.vn/cong-dong?page=3234! Try again in 3 seconds.\n"
     ]
    },
    {
     "name": "stderr",
     "output_type": "stream",
     "text": [
      "Processing page 3237: : 0it [00:00, ?it/s]\n"
     ]
    },
    {
     "name": "stdout",
     "output_type": "stream",
     "text": [
      "Can't get connection to https://ivie.vn/cong-dong?page=3238! Try again in 3 seconds.\n",
      "Can't get connection to https://ivie.vn/cong-dong?page=3239! Try again in 3 seconds.\n"
     ]
    },
    {
     "name": "stderr",
     "output_type": "stream",
     "text": [
      "Processing page 3240: : 0it [00:00, ?it/s]\n",
      "Processing page 3236: : 0it [00:00, ?it/s]\n",
      "Processing page 3234: : 0it [00:00, ?it/s]\n",
      "Processing page 3238: : 0it [00:00, ?it/s]\n"
     ]
    },
    {
     "name": "stdout",
     "output_type": "stream",
     "text": [
      "Can't get connection to https://ivie.vn/cong-dong?page=3241! Try again in 3 seconds.\n",
      "Can't get connection to https://ivie.vn/cong-dong?page=3239! Try again in 3 seconds.\n"
     ]
    },
    {
     "name": "stderr",
     "output_type": "stream",
     "text": [
      "Processing page 3242: : 0it [00:00, ?it/s]\n",
      "Processing page 3243: : 0it [00:00, ?it/s]\n"
     ]
    },
    {
     "name": "stdout",
     "output_type": "stream",
     "text": [
      "Can't get connection to https://ivie.vn/cong-dong?page=3244! Try again in 3 seconds.\n",
      "Can't get connection to https://ivie.vn/cong-dong?page=3245! Try again in 3 seconds.\n",
      "Can't get connection to https://ivie.vn/cong-dong?page=3246! Try again in 3 seconds.\n",
      "Can't get connection to https://ivie.vn/cong-dong?page=3239! Try again in 3 seconds.\n",
      "Can't get connection to https://ivie.vn/cong-dong?page=3241! Try again in 3 seconds.\n"
     ]
    },
    {
     "name": "stderr",
     "output_type": "stream",
     "text": [
      "Processing page 3244: : 0it [00:00, ?it/s]\n"
     ]
    },
    {
     "name": "stdout",
     "output_type": "stream",
     "text": [
      "Can't get connection to https://ivie.vn/cong-dong?page=3245! Try again in 3 seconds.\n"
     ]
    },
    {
     "name": "stderr",
     "output_type": "stream",
     "text": [
      "Processing page 3241: : 0it [00:00, ?it/s]\n"
     ]
    },
    {
     "name": "stdout",
     "output_type": "stream",
     "text": [
      "Can't get connection to https://ivie.vn/cong-dong?page=3239! Try again in 3 seconds.\n"
     ]
    },
    {
     "name": "stderr",
     "output_type": "stream",
     "text": [
      "Processing page 3246: : 0it [00:00, ?it/s]\n",
      "Processing page 3247: : 0it [00:00, ?it/s]\n",
      "Processing page 3245: : 0it [00:00, ?it/s]\n",
      "Processing page 3248: : 0it [00:00, ?it/s]\n",
      "Processing page 3239: : 0it [00:00, ?it/s]\n"
     ]
    },
    {
     "name": "stdout",
     "output_type": "stream",
     "text": [
      "Can't get connection to https://ivie.vn/cong-dong?page=3250! Try again in 3 seconds.\n",
      "Can't get connection to https://ivie.vn/cong-dong?page=3249! Try again in 3 seconds.\n"
     ]
    },
    {
     "name": "stderr",
     "output_type": "stream",
     "text": [
      "Processing page 3251: : 0it [00:00, ?it/s]\n"
     ]
    },
    {
     "name": "stdout",
     "output_type": "stream",
     "text": [
      "Can't get connection to https://ivie.vn/cong-dong?page=3252! Try again in 3 seconds.\n",
      "Can't get connection to https://ivie.vn/cong-dong?page=3253! Try again in 3 seconds.\n",
      "Can't get connection to https://ivie.vn/cong-dong?page=3250! Try again in 3 seconds.\n"
     ]
    },
    {
     "name": "stderr",
     "output_type": "stream",
     "text": [
      "Processing page 3249: : 0it [00:00, ?it/s]\n"
     ]
    },
    {
     "name": "stdout",
     "output_type": "stream",
     "text": [
      "Can't get connection to https://ivie.vn/cong-dong?page=3254! Try again in 3 seconds.\n",
      "Can't get connection to https://ivie.vn/cong-dong?page=3255! Try again in 3 seconds.\n",
      "Can't get connection to https://ivie.vn/cong-dong?page=3250! Try again in 3 seconds.\n",
      "Can't get connection to https://ivie.vn/cong-dong?page=3252! Try again in 3 seconds.\n",
      "Can't get connection to https://ivie.vn/cong-dong?page=3253! Try again in 3 seconds.\n"
     ]
    },
    {
     "name": "stderr",
     "output_type": "stream",
     "text": [
      "Processing page 3254: : 0it [00:00, ?it/s]\n"
     ]
    },
    {
     "name": "stdout",
     "output_type": "stream",
     "text": [
      "Can't get connection to https://ivie.vn/cong-dong?page=3255! Try again in 3 seconds.\n"
     ]
    },
    {
     "name": "stderr",
     "output_type": "stream",
     "text": [
      "Processing page 3252: : 0it [00:00, ?it/s]\n",
      "Processing page 3250: : 0it [00:00, ?it/s]\n",
      "Processing page 3256: : 0it [00:00, ?it/s]\n"
     ]
    },
    {
     "name": "stdout",
     "output_type": "stream",
     "text": [
      "Can't get connection to https://ivie.vn/cong-dong?page=3253! Try again in 3 seconds.\n"
     ]
    },
    {
     "name": "stderr",
     "output_type": "stream",
     "text": [
      "Processing page 3257: : 0it [00:00, ?it/s]\n"
     ]
    },
    {
     "name": "stdout",
     "output_type": "stream",
     "text": [
      "Can't get connection to https://ivie.vn/cong-dong?page=3258! Try again in 3 seconds.\n"
     ]
    },
    {
     "name": "stderr",
     "output_type": "stream",
     "text": [
      "Processing page 3255: : 0it [00:00, ?it/s]\n",
      "Processing page 3253: : 0it [00:00, ?it/s]\n"
     ]
    },
    {
     "name": "stdout",
     "output_type": "stream",
     "text": [
      "Can't get connection to https://ivie.vn/cong-dong?page=3260! Try again in 3 seconds.\n",
      "Can't get connection to https://ivie.vn/cong-dong?page=3259! Try again in 3 seconds.\n",
      "Can't get connection to https://ivie.vn/cong-dong?page=3261! Try again in 3 seconds.\n",
      "Can't get connection to https://ivie.vn/cong-dong?page=3262! Try again in 3 seconds.\n"
     ]
    },
    {
     "name": "stderr",
     "output_type": "stream",
     "text": [
      "Processing page 3258: : 0it [00:00, ?it/s]\n",
      "Processing page 3259: : 0it [00:00, ?it/s]\n",
      "Processing page 3260: : 0it [00:00, ?it/s]\n",
      "Processing page 3263: : 0it [00:00, ?it/s]\n",
      "Processing page 3261: : 0it [00:00, ?it/s]\n"
     ]
    },
    {
     "name": "stdout",
     "output_type": "stream",
     "text": [
      "Can't get connection to https://ivie.vn/cong-dong?page=3262! Try again in 3 seconds.\n",
      "Can't get connection to https://ivie.vn/cong-dong?page=3266! Try again in 3 seconds.\n"
     ]
    },
    {
     "name": "stderr",
     "output_type": "stream",
     "text": [
      "Processing page 3267: : 0it [00:00, ?it/s]\n"
     ]
    },
    {
     "name": "stdout",
     "output_type": "stream",
     "text": [
      "Can't get connection to https://ivie.vn/cong-dong?page=3264! Try again in 3 seconds.\n"
     ]
    },
    {
     "name": "stderr",
     "output_type": "stream",
     "text": [
      "Processing page 3265: : 0it [00:00, ?it/s]\n"
     ]
    },
    {
     "name": "stdout",
     "output_type": "stream",
     "text": [
      "Can't get connection to https://ivie.vn/cong-dong?page=3262! Try again in 3 seconds.\n",
      "Can't get connection to https://ivie.vn/cong-dong?page=3268! Try again in 3 seconds.\n"
     ]
    },
    {
     "name": "stderr",
     "output_type": "stream",
     "text": [
      "Processing page 3264: : 0it [00:00, ?it/s]\n",
      "Processing page 3266: : 0it [00:00, ?it/s]\n",
      "Processing page 3269: : 0it [00:00, ?it/s]\n",
      "Processing page 3262: : 0it [00:00, ?it/s]\n",
      "Processing page 3270: : 0it [00:00, ?it/s]\n",
      "Processing page 3271: : 0it [00:00, ?it/s]\n"
     ]
    },
    {
     "name": "stdout",
     "output_type": "stream",
     "text": [
      "Can't get connection to https://ivie.vn/cong-dong?page=3268! Try again in 3 seconds.\n",
      "Can't get connection to https://ivie.vn/cong-dong?page=3272! Try again in 3 seconds.\n"
     ]
    },
    {
     "name": "stderr",
     "output_type": "stream",
     "text": [
      "Processing page 3273: : 0it [00:00, ?it/s]\n"
     ]
    },
    {
     "name": "stdout",
     "output_type": "stream",
     "text": [
      "Can't get connection to https://ivie.vn/cong-dong?page=3274! Try again in 3 seconds.\n",
      "Can't get connection to https://ivie.vn/cong-dong?page=3275! Try again in 3 seconds.\n"
     ]
    },
    {
     "name": "stderr",
     "output_type": "stream",
     "text": [
      "Processing page 3268: : 0it [00:00, ?it/s]\n"
     ]
    },
    {
     "name": "stdout",
     "output_type": "stream",
     "text": [
      "Can't get connection to https://ivie.vn/cong-dong?page=3272! Try again in 3 seconds.\n",
      "Can't get connection to https://ivie.vn/cong-dong?page=3276! Try again in 3 seconds.\n",
      "Can't get connection to https://ivie.vn/cong-dong?page=3274! Try again in 3 seconds.\n"
     ]
    },
    {
     "name": "stderr",
     "output_type": "stream",
     "text": [
      "Processing page 3275: : 0it [00:00, ?it/s]\n"
     ]
    },
    {
     "name": "stdout",
     "output_type": "stream",
     "text": [
      "Can't get connection to https://ivie.vn/cong-dong?page=3277! Try again in 3 seconds.\n",
      "Can't get connection to https://ivie.vn/cong-dong?page=3276! Try again in 3 seconds.\n"
     ]
    },
    {
     "name": "stderr",
     "output_type": "stream",
     "text": [
      "Processing page 3278: : 0it [00:00, ?it/s]\n",
      "Processing page 3272: : 0it [00:00, ?it/s]\n"
     ]
    },
    {
     "name": "stdout",
     "output_type": "stream",
     "text": [
      "Can't get connection to https://ivie.vn/cong-dong?page=3274! Try again in 3 seconds.\n"
     ]
    },
    {
     "name": "stderr",
     "output_type": "stream",
     "text": [
      "Processing page 3277: : 0it [00:00, ?it/s]\n"
     ]
    },
    {
     "name": "stdout",
     "output_type": "stream",
     "text": [
      "Can't get connection to https://ivie.vn/cong-dong?page=3280! Try again in 3 seconds.\n"
     ]
    },
    {
     "name": "stderr",
     "output_type": "stream",
     "text": [
      "Processing page 3279: : 0it [00:00, ?it/s]\n",
      "Processing page 3276: : 0it [00:00, ?it/s]\n",
      "Processing page 3281: : 0it [00:00, ?it/s]\n",
      "Processing page 3274: : 0it [00:00, ?it/s]\n",
      "Processing page 3282: : 0it [00:00, ?it/s]\n"
     ]
    },
    {
     "name": "stdout",
     "output_type": "stream",
     "text": [
      "Can't get connection to https://ivie.vn/cong-dong?page=3280! Try again in 3 seconds.\n",
      "Can't get connection to https://ivie.vn/cong-dong?page=3284! Try again in 3 seconds.\n"
     ]
    },
    {
     "name": "stderr",
     "output_type": "stream",
     "text": [
      "Processing page 3285: : 0it [00:00, ?it/s]\n",
      "Processing page 3286: : 0it [00:00, ?it/s]\n",
      "Processing page 3283: : 0it [00:00, ?it/s]\n",
      "Processing page 3280: : 0it [00:00, ?it/s]\n",
      "Processing page 3287: : 0it [00:00, ?it/s]\n"
     ]
    },
    {
     "name": "stdout",
     "output_type": "stream",
     "text": [
      "Can't get connection to https://ivie.vn/cong-dong?page=3288! Try again in 3 seconds.\n",
      "Can't get connection to https://ivie.vn/cong-dong?page=3284! Try again in 3 seconds.\n"
     ]
    },
    {
     "name": "stderr",
     "output_type": "stream",
     "text": [
      "Processing page 3289: : 0it [00:00, ?it/s]\n",
      "Processing page 3290: : 0it [00:00, ?it/s]\n",
      "Processing page 3291: : 0it [00:00, ?it/s]\n",
      "Processing page 3284: : 0it [00:00, ?it/s]\n"
     ]
    },
    {
     "name": "stdout",
     "output_type": "stream",
     "text": [
      "Can't get connection to https://ivie.vn/cong-dong?page=3292! Try again in 3 seconds.\n",
      "Can't get connection to https://ivie.vn/cong-dong?page=3288! Try again in 3 seconds.\n"
     ]
    },
    {
     "name": "stderr",
     "output_type": "stream",
     "text": [
      "Processing page 3293: : 0it [00:00, ?it/s]\n",
      "Processing page 3294: : 0it [00:00, ?it/s]\n",
      "Processing page 3295: : 0it [00:00, ?it/s]\n"
     ]
    },
    {
     "name": "stdout",
     "output_type": "stream",
     "text": [
      "Can't get connection to https://ivie.vn/cong-dong?page=3292! Try again in 3 seconds.\n"
     ]
    },
    {
     "name": "stderr",
     "output_type": "stream",
     "text": [
      "Processing page 3296: : 0it [00:00, ?it/s]\n"
     ]
    },
    {
     "name": "stdout",
     "output_type": "stream",
     "text": [
      "Can't get connection to https://ivie.vn/cong-dong?page=3297! Try again in 3 seconds.\n",
      "Can't get connection to https://ivie.vn/cong-dong?page=3288! Try again in 3 seconds.\n",
      "Can't get connection to https://ivie.vn/cong-dong?page=3298! Try again in 3 seconds.\n"
     ]
    },
    {
     "name": "stderr",
     "output_type": "stream",
     "text": [
      "Processing page 3299: : 0it [00:00, ?it/s]\n",
      "Processing page 3297: : 0it [00:00, ?it/s]\n"
     ]
    },
    {
     "name": "stdout",
     "output_type": "stream",
     "text": [
      "Can't get connection to https://ivie.vn/cong-dong?page=3298! Try again in 3 seconds.\n",
      "Can't get connection to https://ivie.vn/cong-dong?page=3300! Try again in 3 seconds.\n"
     ]
    },
    {
     "name": "stderr",
     "output_type": "stream",
     "text": [
      "Processing page 3292: : 0it [00:00, ?it/s]\n",
      "Processing page 3301: : 0it [00:00, ?it/s]\n"
     ]
    },
    {
     "name": "stdout",
     "output_type": "stream",
     "text": [
      "Can't get connection to https://ivie.vn/cong-dong?page=3288! Try again in 3 seconds.\n",
      "Can't get connection to https://ivie.vn/cong-dong?page=3302! Try again in 3 seconds.\n",
      "Can't get connection to https://ivie.vn/cong-dong?page=3300! Try again in 3 seconds.\n"
     ]
    },
    {
     "name": "stderr",
     "output_type": "stream",
     "text": [
      "Processing page 3298: : 0it [00:00, ?it/s]\n",
      "Processing page 3303: : 0it [00:00, ?it/s]\n"
     ]
    },
    {
     "name": "stdout",
     "output_type": "stream",
     "text": [
      "Can't get connection to https://ivie.vn/cong-dong?page=3302! Try again in 3 seconds.\n"
     ]
    },
    {
     "name": "stderr",
     "output_type": "stream",
     "text": [
      "Processing page 3288: : 0it [00:00, ?it/s]\n",
      "Processing page 3304: : 0it [00:00, ?it/s]\n"
     ]
    },
    {
     "name": "stdout",
     "output_type": "stream",
     "text": [
      "Can't get connection to https://ivie.vn/cong-dong?page=3300! Try again in 3 seconds.\n"
     ]
    },
    {
     "name": "stderr",
     "output_type": "stream",
     "text": [
      "Processing page 3305: : 0it [00:00, ?it/s]\n"
     ]
    },
    {
     "name": "stdout",
     "output_type": "stream",
     "text": [
      "Can't get connection to https://ivie.vn/cong-dong?page=3306! Try again in 3 seconds.\n",
      "Can't get connection to https://ivie.vn/cong-dong?page=3302! Try again in 3 seconds.\n",
      "Can't get connection to https://ivie.vn/cong-dong?page=3307! Try again in 3 seconds.\n"
     ]
    },
    {
     "name": "stderr",
     "output_type": "stream",
     "text": [
      "Processing page 3308: : 0it [00:00, ?it/s]\n",
      "Processing page 3300: : 0it [00:00, ?it/s]\n",
      "Processing page 3306: : 0it [00:00, ?it/s]\n"
     ]
    },
    {
     "name": "stdout",
     "output_type": "stream",
     "text": [
      "Can't get connection to https://ivie.vn/cong-dong?page=3302! Try again in 3 seconds.\n"
     ]
    },
    {
     "name": "stderr",
     "output_type": "stream",
     "text": [
      "Processing page 3307: : 0it [00:00, ?it/s]\n",
      "Processing page 3310: : 0it [00:00, ?it/s]\n"
     ]
    },
    {
     "name": "stdout",
     "output_type": "stream",
     "text": [
      "Can't get connection to https://ivie.vn/cong-dong?page=3309! Try again in 3 seconds.\n"
     ]
    },
    {
     "name": "stderr",
     "output_type": "stream",
     "text": [
      "Processing page 3311: : 0it [00:00, ?it/s]\n",
      "Processing page 3312: : 0it [00:00, ?it/s]\n",
      "Processing page 3302: : 0it [00:00, ?it/s]\n",
      "Processing page 3314: : 0it [00:00, ?it/s]\n"
     ]
    },
    {
     "name": "stdout",
     "output_type": "stream",
     "text": [
      "Can't get connection to https://ivie.vn/cong-dong?page=3313! Try again in 3 seconds.\n"
     ]
    },
    {
     "name": "stderr",
     "output_type": "stream",
     "text": [
      "Processing page 3309: : 0it [00:00, ?it/s]\n",
      "Processing page 3315: : 0it [00:00, ?it/s]\n"
     ]
    },
    {
     "name": "stdout",
     "output_type": "stream",
     "text": [
      "Can't get connection to https://ivie.vn/cong-dong?page=3316! Try again in 3 seconds.\n"
     ]
    },
    {
     "name": "stderr",
     "output_type": "stream",
     "text": [
      "Processing page 3317: : 0it [00:00, ?it/s]\n",
      "Processing page 3318: : 0it [00:00, ?it/s]\n"
     ]
    },
    {
     "name": "stdout",
     "output_type": "stream",
     "text": [
      "Can't get connection to https://ivie.vn/cong-dong?page=3313! Try again in 3 seconds.\n"
     ]
    },
    {
     "name": "stderr",
     "output_type": "stream",
     "text": [
      "Processing page 3319: : 0it [00:00, ?it/s]\n"
     ]
    },
    {
     "name": "stdout",
     "output_type": "stream",
     "text": [
      "Can't get connection to https://ivie.vn/cong-dong?page=3320! Try again in 3 seconds.\n"
     ]
    },
    {
     "name": "stderr",
     "output_type": "stream",
     "text": [
      "Processing page 3316: : 0it [00:00, ?it/s]\n",
      "Processing page 3321: : 0it [00:00, ?it/s]\n",
      "Processing page 3313: : 0it [00:00, ?it/s]\n",
      "Processing page 3322: : 0it [00:00, ?it/s]\n",
      "Processing page 3323: : 0it [00:00, ?it/s]\n",
      "Processing page 3320: : 0it [00:00, ?it/s]\n",
      "Processing page 3325: : 0it [00:00, ?it/s]\n",
      "Processing page 3326: : 0it [00:00, ?it/s]\n",
      "Processing page 3327: : 0it [00:00, ?it/s]\n"
     ]
    },
    {
     "name": "stdout",
     "output_type": "stream",
     "text": [
      "Can't get connection to https://ivie.vn/cong-dong?page=3324! Try again in 3 seconds.\n"
     ]
    },
    {
     "name": "stderr",
     "output_type": "stream",
     "text": [
      "Processing page 3329: : 0it [00:00, ?it/s]\n"
     ]
    },
    {
     "name": "stdout",
     "output_type": "stream",
     "text": [
      "Can't get connection to https://ivie.vn/cong-dong?page=3328! Try again in 3 seconds.\n"
     ]
    },
    {
     "name": "stderr",
     "output_type": "stream",
     "text": [
      "Processing page 3330: : 0it [00:00, ?it/s]\n"
     ]
    },
    {
     "name": "stdout",
     "output_type": "stream",
     "text": [
      "Can't get connection to https://ivie.vn/cong-dong?page=3331! Try again in 3 seconds.\n"
     ]
    },
    {
     "name": "stderr",
     "output_type": "stream",
     "text": [
      "Processing page 3332: : 0it [00:00, ?it/s]\n",
      "Processing page 3324: : 0it [00:00, ?it/s]\n",
      "Processing page 3328: : 0it [00:00, ?it/s]\n"
     ]
    },
    {
     "name": "stdout",
     "output_type": "stream",
     "text": [
      "Can't get connection to https://ivie.vn/cong-dong?page=3334! Try again in 3 seconds.\n",
      "Can't get connection to https://ivie.vn/cong-dong?page=3333! Try again in 3 seconds.\n",
      "Can't get connection to https://ivie.vn/cong-dong?page=3331! Try again in 3 seconds.\n",
      "Can't get connection to https://ivie.vn/cong-dong?page=3335! Try again in 3 seconds.\n",
      "Can't get connection to https://ivie.vn/cong-dong?page=3336! Try again in 3 seconds.\n"
     ]
    },
    {
     "name": "stderr",
     "output_type": "stream",
     "text": [
      "Processing page 3333: : 0it [00:00, ?it/s]\n"
     ]
    },
    {
     "name": "stdout",
     "output_type": "stream",
     "text": [
      "Can't get connection to https://ivie.vn/cong-dong?page=3334! Try again in 3 seconds.\n"
     ]
    },
    {
     "name": "stderr",
     "output_type": "stream",
     "text": [
      "Processing page 3331: : 0it [00:00, ?it/s]\n"
     ]
    },
    {
     "name": "stdout",
     "output_type": "stream",
     "text": [
      "Can't get connection to https://ivie.vn/cong-dong?page=3335! Try again in 3 seconds.\n"
     ]
    },
    {
     "name": "stderr",
     "output_type": "stream",
     "text": [
      "Processing page 3336: : 0it [00:00, ?it/s]\n"
     ]
    },
    {
     "name": "stdout",
     "output_type": "stream",
     "text": [
      "Can't get connection to https://ivie.vn/cong-dong?page=3337! Try again in 3 seconds.\n",
      "Can't get connection to https://ivie.vn/cong-dong?page=3338! Try again in 3 seconds.\n"
     ]
    },
    {
     "name": "stderr",
     "output_type": "stream",
     "text": [
      "Processing page 3334: : 0it [00:00, ?it/s]\n",
      "Processing page 3335: : 0it [00:00, ?it/s]\n"
     ]
    },
    {
     "name": "stdout",
     "output_type": "stream",
     "text": [
      "Can't get connection to https://ivie.vn/cong-dong?page=3339! Try again in 3 seconds.\n"
     ]
    },
    {
     "name": "stderr",
     "output_type": "stream",
     "text": [
      "Processing page 3337: : 0it [00:00, ?it/s]\n",
      "Processing page 3338: : 0it [00:00, ?it/s]\n",
      "Processing page 3340: : 0it [00:00, ?it/s]\n",
      "Processing page 3342: : 0it [00:00, ?it/s]\n",
      "Processing page 3339: : 0it [00:00, ?it/s]\n"
     ]
    },
    {
     "name": "stdout",
     "output_type": "stream",
     "text": [
      "Can't get connection to https://ivie.vn/cong-dong?page=3341! Try again in 3 seconds.\n",
      "Can't get connection to https://ivie.vn/cong-dong?page=3343! Try again in 3 seconds.\n",
      "Can't get connection to https://ivie.vn/cong-dong?page=3344! Try again in 3 seconds.\n",
      "Can't get connection to https://ivie.vn/cong-dong?page=3345! Try again in 3 seconds.\n"
     ]
    },
    {
     "name": "stderr",
     "output_type": "stream",
     "text": [
      "Processing page 3346: : 0it [00:00, ?it/s]\n",
      "Processing page 3341: : 0it [00:00, ?it/s]\n",
      "Processing page 3344: : 0it [00:00, ?it/s]\n",
      "Processing page 3343: : 0it [00:00, ?it/s]\n",
      "Processing page 3347: : 0it [00:00, ?it/s]\n",
      "Processing page 3345: : 0it [00:00, ?it/s]\n",
      "Processing page 3349: : 0it [00:00, ?it/s]\n"
     ]
    },
    {
     "name": "stdout",
     "output_type": "stream",
     "text": [
      "Can't get connection to https://ivie.vn/cong-dong?page=3350! Try again in 3 seconds.\n"
     ]
    },
    {
     "name": "stderr",
     "output_type": "stream",
     "text": [
      "Processing page 3351: : 0it [00:00, ?it/s]\n"
     ]
    },
    {
     "name": "stdout",
     "output_type": "stream",
     "text": [
      "Can't get connection to https://ivie.vn/cong-dong?page=3352! Try again in 3 seconds.\n",
      "Can't get connection to https://ivie.vn/cong-dong?page=3348! Try again in 3 seconds.\n"
     ]
    },
    {
     "name": "stderr",
     "output_type": "stream",
     "text": [
      "Processing page 3353: : 0it [00:00, ?it/s]\n",
      "Processing page 3350: : 0it [00:00, ?it/s]\n",
      "Processing page 3354: : 0it [00:00, ?it/s]\n"
     ]
    },
    {
     "name": "stdout",
     "output_type": "stream",
     "text": [
      "Can't get connection to https://ivie.vn/cong-dong?page=3352! Try again in 3 seconds.\n"
     ]
    },
    {
     "name": "stderr",
     "output_type": "stream",
     "text": [
      "Processing page 3355: : 0it [00:00, ?it/s]\n"
     ]
    },
    {
     "name": "stdout",
     "output_type": "stream",
     "text": [
      "Can't get connection to https://ivie.vn/cong-dong?page=3348! Try again in 3 seconds.\n"
     ]
    },
    {
     "name": "stderr",
     "output_type": "stream",
     "text": [
      "Processing page 3356: : 0it [00:00, ?it/s]\n"
     ]
    },
    {
     "name": "stdout",
     "output_type": "stream",
     "text": [
      "Can't get connection to https://ivie.vn/cong-dong?page=3357! Try again in 3 seconds.\n",
      "Can't get connection to https://ivie.vn/cong-dong?page=3358! Try again in 3 seconds.\n"
     ]
    },
    {
     "name": "stderr",
     "output_type": "stream",
     "text": [
      "Processing page 3352: : 0it [00:00, ?it/s]\n",
      "Processing page 3359: : 0it [00:00, ?it/s]\n"
     ]
    },
    {
     "name": "stdout",
     "output_type": "stream",
     "text": [
      "Can't get connection to https://ivie.vn/cong-dong?page=3348! Try again in 3 seconds.\n",
      "Can't get connection to https://ivie.vn/cong-dong?page=3357! Try again in 3 seconds.\n",
      "Can't get connection to https://ivie.vn/cong-dong?page=3361! Try again in 3 seconds.\n"
     ]
    },
    {
     "name": "stderr",
     "output_type": "stream",
     "text": [
      "Processing page 3360: : 0it [00:00, ?it/s]\n"
     ]
    },
    {
     "name": "stdout",
     "output_type": "stream",
     "text": [
      "Can't get connection to https://ivie.vn/cong-dong?page=3358! Try again in 3 seconds.\n"
     ]
    },
    {
     "name": "stderr",
     "output_type": "stream",
     "text": [
      "Processing page 3348: : 0it [00:00, ?it/s]\n",
      "Processing page 3362: : 0it [00:00, ?it/s]\n",
      "Processing page 3357: : 0it [00:00, ?it/s]\n",
      "Processing page 3361: : 0it [00:00, ?it/s]\n"
     ]
    },
    {
     "name": "stdout",
     "output_type": "stream",
     "text": [
      "Can't get connection to https://ivie.vn/cong-dong?page=3358! Try again in 3 seconds.\n",
      "Can't get connection to https://ivie.vn/cong-dong?page=3363! Try again in 3 seconds.\n",
      "Can't get connection to https://ivie.vn/cong-dong?page=3364! Try again in 3 seconds.\n"
     ]
    },
    {
     "name": "stderr",
     "output_type": "stream",
     "text": [
      "Processing page 3366: : 0it [00:00, ?it/s]\n",
      "Processing page 3365: : 0it [00:00, ?it/s]\n"
     ]
    },
    {
     "name": "stdout",
     "output_type": "stream",
     "text": [
      "Can't get connection to https://ivie.vn/cong-dong?page=3358! Try again in 3 seconds.\n"
     ]
    },
    {
     "name": "stderr",
     "output_type": "stream",
     "text": [
      "Processing page 3364: : 0it [00:00, ?it/s]\n"
     ]
    },
    {
     "name": "stdout",
     "output_type": "stream",
     "text": [
      "Can't get connection to https://ivie.vn/cong-dong?page=3367! Try again in 3 seconds.\n"
     ]
    },
    {
     "name": "stderr",
     "output_type": "stream",
     "text": [
      "Processing page 3368: : 0it [00:00, ?it/s]\n"
     ]
    },
    {
     "name": "stdout",
     "output_type": "stream",
     "text": [
      "Can't get connection to https://ivie.vn/cong-dong?page=3363! Try again in 3 seconds.\n"
     ]
    },
    {
     "name": "stderr",
     "output_type": "stream",
     "text": [
      "Processing page 3369: : 0it [00:00, ?it/s]\n",
      "Processing page 3370: : 0it [00:00, ?it/s]\n"
     ]
    },
    {
     "name": "stdout",
     "output_type": "stream",
     "text": [
      "Can't get connection to https://ivie.vn/cong-dong?page=3358! Try again in 3 seconds.\n"
     ]
    },
    {
     "name": "stderr",
     "output_type": "stream",
     "text": [
      "Processing page 3367: : 0it [00:00, ?it/s]\n",
      "Processing page 3363: : 0it [00:00, ?it/s]\n",
      "Processing page 3371: : 0it [00:00, ?it/s]\n",
      "Processing page 3372: : 0it [00:00, ?it/s]\n",
      "Processing page 3358: : 0it [00:00, ?it/s]\n"
     ]
    },
    {
     "name": "stdout",
     "output_type": "stream",
     "text": [
      "Can't get connection to https://ivie.vn/cong-dong?page=3373! Try again in 3 seconds.\n"
     ]
    },
    {
     "name": "stderr",
     "output_type": "stream",
     "text": [
      "Processing page 3374: : 0it [00:00, ?it/s]\n",
      "Processing page 3375: : 0it [00:00, ?it/s]\n",
      "Processing page 3378: : 0it [00:00, ?it/s]\n"
     ]
    },
    {
     "name": "stdout",
     "output_type": "stream",
     "text": [
      "Can't get connection to https://ivie.vn/cong-dong?page=3376! Try again in 3 seconds.\n",
      "Can't get connection to https://ivie.vn/cong-dong?page=3377! Try again in 3 seconds.\n"
     ]
    },
    {
     "name": "stderr",
     "output_type": "stream",
     "text": [
      "Processing page 3373: : 0it [00:00, ?it/s]\n",
      "Processing page 3379: : 0it [00:00, ?it/s]\n",
      "Processing page 3380: : 0it [00:00, ?it/s]\n",
      "Processing page 3376: : 0it [00:00, ?it/s]\n",
      "Processing page 3377: : 0it [00:00, ?it/s]\n",
      "Processing page 3383: : 0it [00:00, ?it/s]\n",
      "Processing page 3382: : 0it [00:00, ?it/s]\n",
      "Processing page 3384: : 0it [00:00, ?it/s]\n",
      "Processing page 3381: : 0it [00:00, ?it/s]\n"
     ]
    },
    {
     "name": "stdout",
     "output_type": "stream",
     "text": [
      "Can't get connection to https://ivie.vn/cong-dong?page=3385! Try again in 3 seconds.\n",
      "Can't get connection to https://ivie.vn/cong-dong?page=3386! Try again in 3 seconds.\n"
     ]
    },
    {
     "name": "stderr",
     "output_type": "stream",
     "text": [
      "Processing page 3388: : 0it [00:00, ?it/s]\n"
     ]
    },
    {
     "name": "stdout",
     "output_type": "stream",
     "text": [
      "Can't get connection to https://ivie.vn/cong-dong?page=3389! Try again in 3 seconds.\n",
      "Can't get connection to https://ivie.vn/cong-dong?page=3387! Try again in 3 seconds.\n"
     ]
    },
    {
     "name": "stderr",
     "output_type": "stream",
     "text": [
      "Processing page 3385: : 0it [00:00, ?it/s]\n",
      "Processing page 3386: : 0it [00:00, ?it/s]\n"
     ]
    },
    {
     "name": "stdout",
     "output_type": "stream",
     "text": [
      "Can't get connection to https://ivie.vn/cong-dong?page=3391! Try again in 3 seconds.\n"
     ]
    },
    {
     "name": "stderr",
     "output_type": "stream",
     "text": [
      "Processing page 3389: : 0it [00:00, ?it/s]\n",
      "Processing page 3387: : 0it [00:00, ?it/s]\n",
      "Processing page 3390: : 0it [00:00, ?it/s]\n"
     ]
    },
    {
     "name": "stdout",
     "output_type": "stream",
     "text": [
      "Can't get connection to https://ivie.vn/cong-dong?page=3392! Try again in 3 seconds.\n"
     ]
    },
    {
     "name": "stderr",
     "output_type": "stream",
     "text": [
      "Processing page 3394: : 0it [00:00, ?it/s]\n",
      "Processing page 3393: : 0it [00:00, ?it/s]\n"
     ]
    },
    {
     "name": "stdout",
     "output_type": "stream",
     "text": [
      "Can't get connection to https://ivie.vn/cong-dong?page=3391! Try again in 3 seconds.\n"
     ]
    },
    {
     "name": "stderr",
     "output_type": "stream",
     "text": [
      "Processing page 3395: : 0it [00:00, ?it/s]\n"
     ]
    },
    {
     "name": "stdout",
     "output_type": "stream",
     "text": [
      "Can't get connection to https://ivie.vn/cong-dong?page=3392! Try again in 3 seconds.\n",
      "Can't get connection to https://ivie.vn/cong-dong?page=3396! Try again in 3 seconds.\n"
     ]
    },
    {
     "name": "stderr",
     "output_type": "stream",
     "text": [
      "Processing page 3397: : 0it [00:00, ?it/s]\n",
      "Processing page 3398: : 0it [00:00, ?it/s]\n"
     ]
    },
    {
     "name": "stdout",
     "output_type": "stream",
     "text": [
      "Can't get connection to https://ivie.vn/cong-dong?page=3391! Try again in 3 seconds.\n"
     ]
    },
    {
     "name": "stderr",
     "output_type": "stream",
     "text": [
      "Processing page 3399: : 0it [00:00, ?it/s]\n"
     ]
    },
    {
     "name": "stdout",
     "output_type": "stream",
     "text": [
      "Can't get connection to https://ivie.vn/cong-dong?page=3392! Try again in 3 seconds.\n"
     ]
    },
    {
     "name": "stderr",
     "output_type": "stream",
     "text": [
      "Processing page 3396: : 0it [00:00, ?it/s]\n"
     ]
    },
    {
     "name": "stdout",
     "output_type": "stream",
     "text": [
      "Can't get connection to https://ivie.vn/cong-dong?page=3400! Try again in 3 seconds.\n",
      "Can't get connection to https://ivie.vn/cong-dong?page=3401! Try again in 3 seconds.\n",
      "Can't get connection to https://ivie.vn/cong-dong?page=3402! Try again in 3 seconds.\n",
      "Can't get connection to https://ivie.vn/cong-dong?page=3391! Try again in 3 seconds.\n"
     ]
    },
    {
     "name": "stderr",
     "output_type": "stream",
     "text": [
      "Processing page 3392: : 0it [00:00, ?it/s]\n",
      "Processing page 3400: : 0it [00:00, ?it/s]\n",
      "Processing page 3401: : 0it [00:00, ?it/s]\n",
      "Processing page 3402: : 0it [00:00, ?it/s]\n",
      "Processing page 3391: : 0it [00:00, ?it/s]\n",
      "Processing page 3403: : 0it [00:00, ?it/s]\n",
      "Processing page 3404: : 0it [00:00, ?it/s]\n"
     ]
    },
    {
     "name": "stdout",
     "output_type": "stream",
     "text": [
      "Can't get connection to https://ivie.vn/cong-dong?page=3406! Try again in 3 seconds.\n",
      "Can't get connection to https://ivie.vn/cong-dong?page=3405! Try again in 3 seconds.\n",
      "Can't get connection to https://ivie.vn/cong-dong?page=3407! Try again in 3 seconds.\n",
      "Can't get connection to https://ivie.vn/cong-dong?page=3408! Try again in 3 seconds.\n",
      "Can't get connection to https://ivie.vn/cong-dong?page=3409! Try again in 3 seconds.\n"
     ]
    },
    {
     "name": "stderr",
     "output_type": "stream",
     "text": [
      "Processing page 3405: : 0it [00:00, ?it/s]\n"
     ]
    },
    {
     "name": "stdout",
     "output_type": "stream",
     "text": [
      "Can't get connection to https://ivie.vn/cong-dong?page=3406! Try again in 3 seconds.\n"
     ]
    },
    {
     "name": "stderr",
     "output_type": "stream",
     "text": [
      "Processing page 3408: : 0it [00:00, ?it/s]\n"
     ]
    },
    {
     "name": "stdout",
     "output_type": "stream",
     "text": [
      "Can't get connection to https://ivie.vn/cong-dong?page=3407! Try again in 3 seconds.\n"
     ]
    },
    {
     "name": "stderr",
     "output_type": "stream",
     "text": [
      "Processing page 3409: : 0it [00:00, ?it/s]\n",
      "Processing page 3410: : 0it [00:00, ?it/s]\n",
      "Processing page 3406: : 0it [00:00, ?it/s]\n"
     ]
    },
    {
     "name": "stdout",
     "output_type": "stream",
     "text": [
      "Can't get connection to https://ivie.vn/cong-dong?page=3411! Try again in 3 seconds.\n"
     ]
    },
    {
     "name": "stderr",
     "output_type": "stream",
     "text": [
      "Processing page 3412: : 0it [00:00, ?it/s]\n"
     ]
    },
    {
     "name": "stdout",
     "output_type": "stream",
     "text": [
      "Can't get connection to https://ivie.vn/cong-dong?page=3407! Try again in 3 seconds.\n",
      "Can't get connection to https://ivie.vn/cong-dong?page=3413! Try again in 3 seconds.\n",
      "Can't get connection to https://ivie.vn/cong-dong?page=3414! Try again in 3 seconds.\n"
     ]
    },
    {
     "name": "stderr",
     "output_type": "stream",
     "text": [
      "Processing page 3415: : 0it [00:00, ?it/s]\n"
     ]
    },
    {
     "name": "stdout",
     "output_type": "stream",
     "text": [
      "Can't get connection to https://ivie.vn/cong-dong?page=3411! Try again in 3 seconds.\n"
     ]
    },
    {
     "name": "stderr",
     "output_type": "stream",
     "text": [
      "Processing page 3413: : 0it [00:00, ?it/s]\n"
     ]
    },
    {
     "name": "stdout",
     "output_type": "stream",
     "text": [
      "Can't get connection to https://ivie.vn/cong-dong?page=3407! Try again in 3 seconds.\n"
     ]
    },
    {
     "name": "stderr",
     "output_type": "stream",
     "text": [
      "Processing page 3414: : 0it [00:00, ?it/s]\n",
      "Processing page 3416: : 0it [00:00, ?it/s]\n",
      "Processing page 3411: : 0it [00:00, ?it/s]\n",
      "Processing page 3417: : 0it [00:00, ?it/s]\n",
      "Processing page 3418: : 0it [00:00, ?it/s]\n",
      "Processing page 3407: : 0it [00:00, ?it/s]\n",
      "Processing page 3419: : 0it [00:00, ?it/s]\n",
      "Processing page 3421: : 0it [00:00, ?it/s]\n",
      "Processing page 3420: : 0it [00:00, ?it/s]\n",
      "Processing page 3422: : 0it [00:00, ?it/s]\n",
      "Processing page 3423: : 0it [00:00, ?it/s]\n"
     ]
    },
    {
     "name": "stdout",
     "output_type": "stream",
     "text": [
      "Can't get connection to https://ivie.vn/cong-dong?page=3424! Try again in 3 seconds.\n",
      "Can't get connection to https://ivie.vn/cong-dong?page=3425! Try again in 3 seconds.\n"
     ]
    },
    {
     "name": "stderr",
     "output_type": "stream",
     "text": [
      "Processing page 3426: : 0it [00:00, ?it/s]\n",
      "Processing page 3427: : 0it [00:00, ?it/s]\n",
      "Processing page 3428: : 0it [00:00, ?it/s]\n",
      "Processing page 3424: : 0it [00:00, ?it/s]\n"
     ]
    },
    {
     "name": "stdout",
     "output_type": "stream",
     "text": [
      "Can't get connection to https://ivie.vn/cong-dong?page=3425! Try again in 3 seconds.\n"
     ]
    },
    {
     "name": "stderr",
     "output_type": "stream",
     "text": [
      "Processing page 3430: : 0it [00:00, ?it/s]\n"
     ]
    },
    {
     "name": "stdout",
     "output_type": "stream",
     "text": [
      "Can't get connection to https://ivie.vn/cong-dong?page=3431! Try again in 3 seconds.\n",
      "Can't get connection to https://ivie.vn/cong-dong?page=3429! Try again in 3 seconds.\n",
      "Can't get connection to https://ivie.vn/cong-dong?page=3432! Try again in 3 seconds.\n",
      "Can't get connection to https://ivie.vn/cong-dong?page=3433! Try again in 3 seconds.\n"
     ]
    },
    {
     "name": "stderr",
     "output_type": "stream",
     "text": [
      "Processing page 3425: : 0it [00:00, ?it/s]\n",
      "Processing page 3431: : 0it [00:00, ?it/s]\n"
     ]
    },
    {
     "name": "stdout",
     "output_type": "stream",
     "text": [
      "Can't get connection to https://ivie.vn/cong-dong?page=3429! Try again in 3 seconds.\n",
      "Can't get connection to https://ivie.vn/cong-dong?page=3432! Try again in 3 seconds.\n"
     ]
    },
    {
     "name": "stderr",
     "output_type": "stream",
     "text": [
      "Processing page 3434: : 0it [00:00, ?it/s]\n"
     ]
    },
    {
     "name": "stdout",
     "output_type": "stream",
     "text": [
      "Can't get connection to https://ivie.vn/cong-dong?page=3433! Try again in 3 seconds.\n",
      "Can't get connection to https://ivie.vn/cong-dong?page=3435! Try again in 3 seconds.\n",
      "Can't get connection to https://ivie.vn/cong-dong?page=3429! Try again in 3 seconds.\n"
     ]
    },
    {
     "name": "stderr",
     "output_type": "stream",
     "text": [
      "Processing page 3436: : 0it [00:00, ?it/s]\n"
     ]
    },
    {
     "name": "stdout",
     "output_type": "stream",
     "text": [
      "Can't get connection to https://ivie.vn/cong-dong?page=3432! Try again in 3 seconds.\n"
     ]
    },
    {
     "name": "stderr",
     "output_type": "stream",
     "text": [
      "Processing page 3435: : 0it [00:00, ?it/s]\n",
      "Processing page 3433: : 0it [00:00, ?it/s]\n"
     ]
    },
    {
     "name": "stdout",
     "output_type": "stream",
     "text": [
      "Can't get connection to https://ivie.vn/cong-dong?page=3429! Try again in 3 seconds.\n"
     ]
    },
    {
     "name": "stderr",
     "output_type": "stream",
     "text": [
      "Processing page 3437: : 0it [00:00, ?it/s]\n"
     ]
    },
    {
     "name": "stdout",
     "output_type": "stream",
     "text": [
      "Can't get connection to https://ivie.vn/cong-dong?page=3439! Try again in 3 seconds.\n"
     ]
    },
    {
     "name": "stderr",
     "output_type": "stream",
     "text": [
      "Processing page 3432: : 0it [00:00, ?it/s]\n",
      "Processing page 3438: : 0it [00:00, ?it/s]\n",
      "Processing page 3440: : 0it [00:00, ?it/s]\n",
      "Processing page 3429: : 0it [00:00, ?it/s]\n"
     ]
    },
    {
     "name": "stdout",
     "output_type": "stream",
     "text": [
      "Can't get connection to https://ivie.vn/cong-dong?page=3442! Try again in 3 seconds.\n",
      "Can't get connection to https://ivie.vn/cong-dong?page=3441! Try again in 3 seconds.\n",
      "Can't get connection to https://ivie.vn/cong-dong?page=3439! Try again in 3 seconds.\n"
     ]
    },
    {
     "name": "stderr",
     "output_type": "stream",
     "text": [
      "Processing page 3443: : 0it [00:00, ?it/s]\n"
     ]
    },
    {
     "name": "stdout",
     "output_type": "stream",
     "text": [
      "Can't get connection to https://ivie.vn/cong-dong?page=3444! Try again in 3 seconds.\n"
     ]
    },
    {
     "name": "stderr",
     "output_type": "stream",
     "text": [
      "Processing page 3441: : 0it [00:00, ?it/s]\n",
      "Processing page 3445: : 0it [00:00, ?it/s]\n"
     ]
    },
    {
     "name": "stdout",
     "output_type": "stream",
     "text": [
      "Can't get connection to https://ivie.vn/cong-dong?page=3442! Try again in 3 seconds.\n",
      "Can't get connection to https://ivie.vn/cong-dong?page=3439! Try again in 3 seconds.\n",
      "Can't get connection to https://ivie.vn/cong-dong?page=3444! Try again in 3 seconds.\n"
     ]
    },
    {
     "name": "stderr",
     "output_type": "stream",
     "text": [
      "Processing page 3447: : 0it [00:00, ?it/s]\n",
      "Processing page 3446: : 0it [00:00, ?it/s]\n",
      "Processing page 3439: : 0it [00:00, ?it/s]\n",
      "Processing page 3442: : 0it [00:00, ?it/s]\n"
     ]
    },
    {
     "name": "stdout",
     "output_type": "stream",
     "text": [
      "Can't get connection to https://ivie.vn/cong-dong?page=3444! Try again in 3 seconds.\n",
      "Can't get connection to https://ivie.vn/cong-dong?page=3449! Try again in 3 seconds.\n"
     ]
    },
    {
     "name": "stderr",
     "output_type": "stream",
     "text": [
      "Processing page 3450: : 0it [00:00, ?it/s]\n"
     ]
    },
    {
     "name": "stdout",
     "output_type": "stream",
     "text": [
      "Can't get connection to https://ivie.vn/cong-dong?page=3448! Try again in 3 seconds.\n"
     ]
    },
    {
     "name": "stderr",
     "output_type": "stream",
     "text": [
      "Processing page 3451: : 0it [00:00, ?it/s]\n",
      "Processing page 3444: : 0it [00:00, ?it/s]\n",
      "Processing page 3449: : 0it [00:00, ?it/s]\n"
     ]
    },
    {
     "name": "stdout",
     "output_type": "stream",
     "text": [
      "Can't get connection to https://ivie.vn/cong-dong?page=3452! Try again in 3 seconds.\n"
     ]
    },
    {
     "name": "stderr",
     "output_type": "stream",
     "text": [
      "Processing page 3453: : 0it [00:00, ?it/s]\n"
     ]
    },
    {
     "name": "stdout",
     "output_type": "stream",
     "text": [
      "Can't get connection to https://ivie.vn/cong-dong?page=3454! Try again in 3 seconds.\n",
      "Can't get connection to https://ivie.vn/cong-dong?page=3448! Try again in 3 seconds.\n",
      "Can't get connection to https://ivie.vn/cong-dong?page=3455! Try again in 3 seconds.\n"
     ]
    },
    {
     "name": "stderr",
     "output_type": "stream",
     "text": [
      "Processing page 3456: : 0it [00:00, ?it/s]\n"
     ]
    },
    {
     "name": "stdout",
     "output_type": "stream",
     "text": [
      "Can't get connection to https://ivie.vn/cong-dong?page=3452! Try again in 3 seconds.\n"
     ]
    },
    {
     "name": "stderr",
     "output_type": "stream",
     "text": [
      "Processing page 3448: : 0it [00:00, ?it/s]\n",
      "Processing page 3454: : 0it [00:00, ?it/s]\n"
     ]
    },
    {
     "name": "stdout",
     "output_type": "stream",
     "text": [
      "Can't get connection to https://ivie.vn/cong-dong?page=3457! Try again in 3 seconds.\n"
     ]
    },
    {
     "name": "stderr",
     "output_type": "stream",
     "text": [
      "Processing page 3455: : 0it [00:00, ?it/s]\n",
      "Processing page 3458: : 0it [00:00, ?it/s]\n",
      "Processing page 3452: : 0it [00:00, ?it/s]\n",
      "Processing page 3459: : 0it [00:00, ?it/s]\n",
      "Processing page 3460: : 0it [00:00, ?it/s]\n"
     ]
    },
    {
     "name": "stdout",
     "output_type": "stream",
     "text": [
      "Can't get connection to https://ivie.vn/cong-dong?page=3457! Try again in 3 seconds.\n"
     ]
    },
    {
     "name": "stderr",
     "output_type": "stream",
     "text": [
      "Processing page 3461: : 0it [00:00, ?it/s]\n",
      "Processing page 3462: : 0it [00:00, ?it/s]\n",
      "Processing page 3464: : 0it [00:00, ?it/s]\n",
      "Processing page 3463: : 0it [00:00, ?it/s]\n",
      "Processing page 3466: : 0it [00:00, ?it/s]\n",
      "Processing page 3465: : 0it [00:00, ?it/s]\n",
      "Processing page 3457: : 0it [00:00, ?it/s]\n",
      "Processing page 3467: : 0it [00:00, ?it/s]\n",
      "Processing page 3468: : 0it [00:00, ?it/s]\n",
      "Processing page 3470: : 0it [00:00, ?it/s]\n",
      "Processing page 3469: : 0it [00:00, ?it/s]\n",
      "Processing page 3471: : 0it [00:00, ?it/s]\n"
     ]
    },
    {
     "name": "stdout",
     "output_type": "stream",
     "text": [
      "Can't get connection to https://ivie.vn/cong-dong?page=3472! Try again in 3 seconds.\n",
      "Can't get connection to https://ivie.vn/cong-dong?page=3474! Try again in 3 seconds.\n",
      "Can't get connection to https://ivie.vn/cong-dong?page=3475! Try again in 3 seconds.\n",
      "Can't get connection to https://ivie.vn/cong-dong?page=3473! Try again in 3 seconds.\n"
     ]
    },
    {
     "name": "stderr",
     "output_type": "stream",
     "text": [
      "Processing page 3472: : 0it [00:00, ?it/s]\n"
     ]
    },
    {
     "name": "stdout",
     "output_type": "stream",
     "text": [
      "Can't get connection to https://ivie.vn/cong-dong?page=3473! Try again in 3 seconds.\n"
     ]
    },
    {
     "name": "stderr",
     "output_type": "stream",
     "text": [
      "Processing page 3474: : 0it [00:00, ?it/s]\n"
     ]
    },
    {
     "name": "stdout",
     "output_type": "stream",
     "text": [
      "Can't get connection to https://ivie.vn/cong-dong?page=3476! Try again in 3 seconds.\n"
     ]
    },
    {
     "name": "stderr",
     "output_type": "stream",
     "text": [
      "Processing page 3475: : 0it [00:00, ?it/s]\n",
      "Processing page 3477: : 0it [00:00, ?it/s]\n",
      "Processing page 3478: : 0it [00:00, ?it/s]\n"
     ]
    },
    {
     "name": "stdout",
     "output_type": "stream",
     "text": [
      "Can't get connection to https://ivie.vn/cong-dong?page=3479! Try again in 3 seconds.\n",
      "Can't get connection to https://ivie.vn/cong-dong?page=3476! Try again in 3 seconds.\n"
     ]
    },
    {
     "name": "stderr",
     "output_type": "stream",
     "text": [
      "Processing page 3473: : 0it [00:00, ?it/s]\n",
      "Processing page 3480: : 0it [00:00, ?it/s]\n",
      "Processing page 3481: : 0it [00:00, ?it/s]\n"
     ]
    },
    {
     "name": "stdout",
     "output_type": "stream",
     "text": [
      "Can't get connection to https://ivie.vn/cong-dong?page=3482! Try again in 3 seconds.\n"
     ]
    },
    {
     "name": "stderr",
     "output_type": "stream",
     "text": [
      "Processing page 3479: : 0it [00:00, ?it/s]\n"
     ]
    },
    {
     "name": "stdout",
     "output_type": "stream",
     "text": [
      "Can't get connection to https://ivie.vn/cong-dong?page=3483! Try again in 3 seconds.\n"
     ]
    },
    {
     "name": "stderr",
     "output_type": "stream",
     "text": [
      "Processing page 3476: : 0it [00:00, ?it/s]\n"
     ]
    },
    {
     "name": "stdout",
     "output_type": "stream",
     "text": [
      "Can't get connection to https://ivie.vn/cong-dong?page=3484! Try again in 3 seconds.\n",
      "Can't get connection to https://ivie.vn/cong-dong?page=3485! Try again in 3 seconds.\n",
      "Can't get connection to https://ivie.vn/cong-dong?page=3482! Try again in 3 seconds.\n"
     ]
    },
    {
     "name": "stderr",
     "output_type": "stream",
     "text": [
      "Processing page 3483: : 0it [00:00, ?it/s]\n",
      "Processing page 3486: : 0it [00:00, ?it/s]\n",
      "Processing page 3484: : 0it [00:00, ?it/s]\n",
      "Processing page 3485: : 0it [00:00, ?it/s]\n",
      "Processing page 3487: : 0it [00:00, ?it/s]\n",
      "Processing page 3488: : 0it [00:00, ?it/s]\n"
     ]
    },
    {
     "name": "stdout",
     "output_type": "stream",
     "text": [
      "Can't get connection to https://ivie.vn/cong-dong?page=3489! Try again in 3 seconds.\n",
      "Can't get connection to https://ivie.vn/cong-dong?page=3482! Try again in 3 seconds.\n",
      "Can't get connection to https://ivie.vn/cong-dong?page=3490! Try again in 3 seconds.\n",
      "Can't get connection to https://ivie.vn/cong-dong?page=3491! Try again in 3 seconds.\n",
      "Can't get connection to https://ivie.vn/cong-dong?page=3492! Try again in 3 seconds.\n"
     ]
    },
    {
     "name": "stderr",
     "output_type": "stream",
     "text": [
      "Processing page 3489: : 0it [00:00, ?it/s]\n",
      "Processing page 3482: : 0it [00:00, ?it/s]\n"
     ]
    },
    {
     "name": "stdout",
     "output_type": "stream",
     "text": [
      "Can't get connection to https://ivie.vn/cong-dong?page=3490! Try again in 3 seconds.\n"
     ]
    },
    {
     "name": "stderr",
     "output_type": "stream",
     "text": [
      "Processing page 3492: : 0it [00:00, ?it/s]\n"
     ]
    },
    {
     "name": "stdout",
     "output_type": "stream",
     "text": [
      "Can't get connection to https://ivie.vn/cong-dong?page=3491! Try again in 3 seconds.\n",
      "Can't get connection to https://ivie.vn/cong-dong?page=3493! Try again in 3 seconds.\n"
     ]
    },
    {
     "name": "stderr",
     "output_type": "stream",
     "text": [
      "Processing page 3494: : 0it [00:00, ?it/s]\n"
     ]
    },
    {
     "name": "stdout",
     "output_type": "stream",
     "text": [
      "Can't get connection to https://ivie.vn/cong-dong?page=3495! Try again in 3 seconds.\n",
      "Can't get connection to https://ivie.vn/cong-dong?page=3490! Try again in 3 seconds.\n"
     ]
    },
    {
     "name": "stderr",
     "output_type": "stream",
     "text": [
      "Processing page 3496: : 0it [00:00, ?it/s]\n",
      "Processing page 3491: : 0it [00:00, ?it/s]\n",
      "Processing page 3493: : 0it [00:00, ?it/s]\n"
     ]
    },
    {
     "name": "stdout",
     "output_type": "stream",
     "text": [
      "Can't get connection to https://ivie.vn/cong-dong?page=3495! Try again in 3 seconds.\n",
      "Can't get connection to https://ivie.vn/cong-dong?page=3490! Try again in 3 seconds.\n",
      "Can't get connection to https://ivie.vn/cong-dong?page=3499! Try again in 3 seconds.\n"
     ]
    },
    {
     "name": "stderr",
     "output_type": "stream",
     "text": [
      "Processing page 3497: : 0it [00:00, ?it/s]\n",
      "Processing page 3500: : 0it [00:00, ?it/s]\n"
     ]
    },
    {
     "name": "stdout",
     "output_type": "stream",
     "text": [
      "Can't get connection to https://ivie.vn/cong-dong?page=3498! Try again in 3 seconds.\n"
     ]
    },
    {
     "name": "stderr",
     "output_type": "stream",
     "text": [
      "Processing page 3499: : 0it [00:00, ?it/s]\n"
     ]
    },
    {
     "name": "stdout",
     "output_type": "stream",
     "text": [
      "Can't get connection to https://ivie.vn/cong-dong?page=3495! Try again in 3 seconds.\n"
     ]
    },
    {
     "name": "stderr",
     "output_type": "stream",
     "text": [
      "Processing page 3490: : 0it [00:00, ?it/s]\n",
      "Processing page 3501: : 0it [00:00, ?it/s]\n",
      "Processing page 3498: : 0it [00:00, ?it/s]\n",
      "Processing page 3503: : 0it [00:00, ?it/s]\n",
      "Processing page 3502: : 0it [00:00, ?it/s]\n",
      "Processing page 3495: : 0it [00:00, ?it/s]\n",
      "Processing page 3505: : 0it [00:00, ?it/s]\n",
      "Processing page 3504: : 0it [00:00, ?it/s]\n",
      "Processing page 3506: : 0it [00:00, ?it/s]\n",
      "Processing page 3507: : 0it [00:00, ?it/s]\n"
     ]
    },
    {
     "name": "stdout",
     "output_type": "stream",
     "text": [
      "Can't get connection to https://ivie.vn/cong-dong?page=3509! Try again in 3 seconds.\n"
     ]
    },
    {
     "name": "stderr",
     "output_type": "stream",
     "text": [
      "Processing page 3510: : 0it [00:00, ?it/s]\n"
     ]
    },
    {
     "name": "stdout",
     "output_type": "stream",
     "text": [
      "Can't get connection to https://ivie.vn/cong-dong?page=3511! Try again in 3 seconds.\n",
      "Can't get connection to https://ivie.vn/cong-dong?page=3508! Try again in 3 seconds.\n"
     ]
    },
    {
     "name": "stderr",
     "output_type": "stream",
     "text": [
      "Processing page 3512: : 0it [00:00, ?it/s]\n"
     ]
    },
    {
     "name": "stdout",
     "output_type": "stream",
     "text": [
      "Can't get connection to https://ivie.vn/cong-dong?page=3513! Try again in 3 seconds.\n",
      "Can't get connection to https://ivie.vn/cong-dong?page=3509! Try again in 3 seconds.\n"
     ]
    },
    {
     "name": "stderr",
     "output_type": "stream",
     "text": [
      "Processing page 3508: : 0it [00:00, ?it/s]\n"
     ]
    },
    {
     "name": "stdout",
     "output_type": "stream",
     "text": [
      "Can't get connection to https://ivie.vn/cong-dong?page=3514! Try again in 3 seconds.\n",
      "Can't get connection to https://ivie.vn/cong-dong?page=3511! Try again in 3 seconds.\n",
      "Can't get connection to https://ivie.vn/cong-dong?page=3513! Try again in 3 seconds.\n"
     ]
    },
    {
     "name": "stderr",
     "output_type": "stream",
     "text": [
      "Processing page 3515: : 0it [00:00, ?it/s]\n"
     ]
    },
    {
     "name": "stdout",
     "output_type": "stream",
     "text": [
      "Can't get connection to https://ivie.vn/cong-dong?page=3509! Try again in 3 seconds.\n"
     ]
    },
    {
     "name": "stderr",
     "output_type": "stream",
     "text": [
      "Processing page 3514: : 0it [00:00, ?it/s]\n"
     ]
    },
    {
     "name": "stdout",
     "output_type": "stream",
     "text": [
      "Can't get connection to https://ivie.vn/cong-dong?page=3511! Try again in 3 seconds.\n",
      "Can't get connection to https://ivie.vn/cong-dong?page=3516! Try again in 3 seconds.\n",
      "Can't get connection to https://ivie.vn/cong-dong?page=3513! Try again in 3 seconds.\n",
      "Can't get connection to https://ivie.vn/cong-dong?page=3517! Try again in 3 seconds.\n",
      "Can't get connection to https://ivie.vn/cong-dong?page=3511! Try again in 3 seconds.\n",
      "Can't get connection to https://ivie.vn/cong-dong?page=3509! Try again in 3 seconds.\n",
      "Can't get connection to https://ivie.vn/cong-dong?page=3516! Try again in 3 seconds.\n",
      "Can't get connection to https://ivie.vn/cong-dong?page=3517! Try again in 3 seconds.\n"
     ]
    },
    {
     "name": "stderr",
     "output_type": "stream",
     "text": [
      "Processing page 3513: : 0it [00:00, ?it/s]\n",
      "Processing page 3511: : 0it [00:00, ?it/s]\n"
     ]
    },
    {
     "name": "stdout",
     "output_type": "stream",
     "text": [
      "Can't get connection to https://ivie.vn/cong-dong?page=3516! Try again in 3 seconds.\n",
      "Can't get connection to https://ivie.vn/cong-dong?page=3518! Try again in 3 seconds.\n",
      "Can't get connection to https://ivie.vn/cong-dong?page=3509! Try again in 3 seconds.\n"
     ]
    },
    {
     "name": "stderr",
     "output_type": "stream",
     "text": [
      "Processing page 3517: : 0it [00:00, ?it/s]\n",
      "Processing page 3519: : 0it [00:00, ?it/s]\n",
      "Processing page 3516: : 0it [00:00, ?it/s]\n",
      "Processing page 3518: : 0it [00:00, ?it/s]\n",
      "Processing page 3520: : 0it [00:00, ?it/s]\n",
      "Processing page 3521: : 0it [00:00, ?it/s]\n"
     ]
    },
    {
     "name": "stdout",
     "output_type": "stream",
     "text": [
      "Can't get connection to https://ivie.vn/cong-dong?page=3509! Try again in 3 seconds.\n",
      "Can't get connection to https://ivie.vn/cong-dong?page=3522! Try again in 3 seconds.\n",
      "Can't get connection to https://ivie.vn/cong-dong?page=3523! Try again in 3 seconds.\n"
     ]
    },
    {
     "name": "stderr",
     "output_type": "stream",
     "text": [
      "Processing page 3524: : 0it [00:00, ?it/s]\n",
      "Processing page 3525: : 0it [00:00, ?it/s]\n",
      "Processing page 3526: : 0it [00:00, ?it/s]\n",
      "Processing page 3509: : 0it [00:00, ?it/s]\n",
      "Processing page 3522: : 0it [00:00, ?it/s]\n",
      "Processing page 3523: : 0it [00:00, ?it/s]\n",
      "Processing page 3527: : 0it [00:00, ?it/s]\n",
      "Processing page 3528: : 0it [00:00, ?it/s]\n"
     ]
    },
    {
     "name": "stdout",
     "output_type": "stream",
     "text": [
      "Can't get connection to https://ivie.vn/cong-dong?page=3529! Try again in 3 seconds.\n"
     ]
    },
    {
     "name": "stderr",
     "output_type": "stream",
     "text": [
      "Processing page 3530: : 0it [00:00, ?it/s]\n",
      "Processing page 3531: : 0it [00:00, ?it/s]\n"
     ]
    },
    {
     "name": "stdout",
     "output_type": "stream",
     "text": [
      "Can't get connection to https://ivie.vn/cong-dong?page=3532! Try again in 3 seconds.\n",
      "Can't get connection to https://ivie.vn/cong-dong?page=3533! Try again in 3 seconds.\n"
     ]
    },
    {
     "name": "stderr",
     "output_type": "stream",
     "text": [
      "Processing page 3534: : 0it [00:00, ?it/s]\n",
      "Processing page 3535: : 0it [00:00, ?it/s]\n",
      "Processing page 3529: : 0it [00:00, ?it/s]\n"
     ]
    },
    {
     "name": "stdout",
     "output_type": "stream",
     "text": [
      "Can't get connection to https://ivie.vn/cong-dong?page=3532! Try again in 3 seconds.\n"
     ]
    },
    {
     "name": "stderr",
     "output_type": "stream",
     "text": [
      "Processing page 3537: : 0it [00:00, ?it/s]\n"
     ]
    },
    {
     "name": "stdout",
     "output_type": "stream",
     "text": [
      "Can't get connection to https://ivie.vn/cong-dong?page=3533! Try again in 3 seconds.\n"
     ]
    },
    {
     "name": "stderr",
     "output_type": "stream",
     "text": [
      "Processing page 3536: : 0it [00:00, ?it/s]\n",
      "Processing page 3538: : 0it [00:00, ?it/s]\n",
      "Processing page 3539: : 0it [00:00, ?it/s]\n"
     ]
    },
    {
     "name": "stdout",
     "output_type": "stream",
     "text": [
      "Can't get connection to https://ivie.vn/cong-dong?page=3532! Try again in 3 seconds.\n"
     ]
    },
    {
     "name": "stderr",
     "output_type": "stream",
     "text": [
      "Processing page 3533: : 0it [00:00, ?it/s]\n",
      "Processing page 3541: : 0it [00:00, ?it/s]\n",
      "Processing page 3540: : 0it [00:00, ?it/s]\n",
      "Processing page 3544: : 0it [00:00, ?it/s]\n",
      "Processing page 3543: : 0it [00:00, ?it/s]\n"
     ]
    },
    {
     "name": "stdout",
     "output_type": "stream",
     "text": [
      "Can't get connection to https://ivie.vn/cong-dong?page=3542! Try again in 3 seconds.\n"
     ]
    },
    {
     "name": "stderr",
     "output_type": "stream",
     "text": [
      "Processing page 3532: : 0it [00:00, ?it/s]\n",
      "Processing page 3545: : 0it [00:00, ?it/s]\n",
      "Processing page 3546: : 0it [00:00, ?it/s]\n",
      "Processing page 3547: : 0it [00:00, ?it/s]\n"
     ]
    },
    {
     "name": "stdout",
     "output_type": "stream",
     "text": [
      "Can't get connection to https://ivie.vn/cong-dong?page=3548! Try again in 3 seconds.\n"
     ]
    },
    {
     "name": "stderr",
     "output_type": "stream",
     "text": [
      "Processing page 3542: : 0it [00:00, ?it/s]\n",
      "Processing page 3549: : 0it [00:00, ?it/s]\n",
      "Processing page 3551: : 0it [00:00, ?it/s]\n"
     ]
    },
    {
     "name": "stdout",
     "output_type": "stream",
     "text": [
      "Can't get connection to https://ivie.vn/cong-dong?page=3552! Try again in 3 seconds.\n",
      "Can't get connection to https://ivie.vn/cong-dong?page=3550! Try again in 3 seconds.\n"
     ]
    },
    {
     "name": "stderr",
     "output_type": "stream",
     "text": [
      "Processing page 3553: : 0it [00:00, ?it/s]\n",
      "Processing page 3548: : 0it [00:00, ?it/s]\n",
      "Processing page 3554: : 0it [00:00, ?it/s]\n",
      "Processing page 3550: : 0it [00:00, ?it/s]\n",
      "Processing page 3555: : 0it [00:00, ?it/s]\n",
      "Processing page 3552: : 0it [00:00, ?it/s]\n",
      "Processing page 3557: : 0it [00:00, ?it/s]\n",
      "Processing page 3558: : 0it [00:00, ?it/s]\n",
      "Processing page 3559: : 0it [00:00, ?it/s]\n",
      "Processing page 3556: : 0it [00:00, ?it/s]\n",
      "Processing page 3560: : 0it [00:00, ?it/s]\n",
      "Processing page 3562: : 0it [00:00, ?it/s]\n"
     ]
    },
    {
     "name": "stdout",
     "output_type": "stream",
     "text": [
      "Can't get connection to https://ivie.vn/cong-dong?page=3563! Try again in 3 seconds.\n",
      "Can't get connection to https://ivie.vn/cong-dong?page=3561! Try again in 3 seconds.\n"
     ]
    },
    {
     "name": "stderr",
     "output_type": "stream",
     "text": [
      "Processing page 3564: : 0it [00:00, ?it/s]\n",
      "Processing page 3566: : 0it [00:00, ?it/s]\n",
      "Processing page 3565: : 0it [00:00, ?it/s]\n",
      "Processing page 3561: : 0it [00:00, ?it/s]\n",
      "Processing page 3563: : 0it [00:00, ?it/s]\n"
     ]
    },
    {
     "name": "stdout",
     "output_type": "stream",
     "text": [
      "Can't get connection to https://ivie.vn/cong-dong?page=3567! Try again in 3 seconds.\n"
     ]
    },
    {
     "name": "stderr",
     "output_type": "stream",
     "text": [
      "Processing page 3568: : 0it [00:00, ?it/s]\n",
      "Processing page 3569: : 0it [00:00, ?it/s]\n",
      "Processing page 3570: : 0it [00:00, ?it/s]\n"
     ]
    },
    {
     "name": "stdout",
     "output_type": "stream",
     "text": [
      "Can't get connection to https://ivie.vn/cong-dong?page=3571! Try again in 3 seconds.\n"
     ]
    },
    {
     "name": "stderr",
     "output_type": "stream",
     "text": [
      "Processing page 3572: : 0it [00:00, ?it/s]\n"
     ]
    },
    {
     "name": "stdout",
     "output_type": "stream",
     "text": [
      "Can't get connection to https://ivie.vn/cong-dong?page=3567! Try again in 3 seconds.\n"
     ]
    },
    {
     "name": "stderr",
     "output_type": "stream",
     "text": [
      "Processing page 3574: : 0it [00:00, ?it/s]\n",
      "Processing page 3573: : 0it [00:00, ?it/s]\n",
      "Processing page 3575: : 0it [00:00, ?it/s]\n"
     ]
    },
    {
     "name": "stdout",
     "output_type": "stream",
     "text": [
      "Can't get connection to https://ivie.vn/cong-dong?page=3571! Try again in 3 seconds.\n"
     ]
    },
    {
     "name": "stderr",
     "output_type": "stream",
     "text": [
      "Processing page 3576: : 0it [00:00, ?it/s]\n"
     ]
    },
    {
     "name": "stdout",
     "output_type": "stream",
     "text": [
      "Can't get connection to https://ivie.vn/cong-dong?page=3567! Try again in 3 seconds.\n",
      "Can't get connection to https://ivie.vn/cong-dong?page=3578! Try again in 3 seconds.\n",
      "Can't get connection to https://ivie.vn/cong-dong?page=3579! Try again in 3 seconds.\n"
     ]
    },
    {
     "name": "stderr",
     "output_type": "stream",
     "text": [
      "Processing page 3571: : 0it [00:00, ?it/s]\n",
      "Processing page 3567: : 0it [00:00, ?it/s]\n",
      "Processing page 3577: : 0it [00:00, ?it/s]\n"
     ]
    },
    {
     "name": "stdout",
     "output_type": "stream",
     "text": [
      "Can't get connection to https://ivie.vn/cong-dong?page=3578! Try again in 3 seconds.\n"
     ]
    },
    {
     "name": "stderr",
     "output_type": "stream",
     "text": [
      "Processing page 3580: : 0it [00:00, ?it/s]\n",
      "Processing page 3579: : 0it [00:00, ?it/s]\n",
      "Processing page 3581: : 0it [00:00, ?it/s]\n"
     ]
    },
    {
     "name": "stdout",
     "output_type": "stream",
     "text": [
      "Can't get connection to https://ivie.vn/cong-dong?page=3582! Try again in 3 seconds.\n",
      "Can't get connection to https://ivie.vn/cong-dong?page=3583! Try again in 3 seconds.\n"
     ]
    },
    {
     "name": "stderr",
     "output_type": "stream",
     "text": [
      "Processing page 3578: : 0it [00:00, ?it/s]\n",
      "Processing page 3584: : 0it [00:00, ?it/s]\n",
      "Processing page 3585: : 0it [00:00, ?it/s]\n"
     ]
    },
    {
     "name": "stdout",
     "output_type": "stream",
     "text": [
      "Can't get connection to https://ivie.vn/cong-dong?page=3586! Try again in 3 seconds.\n"
     ]
    },
    {
     "name": "stderr",
     "output_type": "stream",
     "text": [
      "Processing page 3582: : 0it [00:00, ?it/s]\n",
      "Processing page 3583: : 0it [00:00, ?it/s]\n",
      "Processing page 3587: : 0it [00:00, ?it/s]\n",
      "Processing page 3588: : 0it [00:00, ?it/s]\n"
     ]
    },
    {
     "name": "stdout",
     "output_type": "stream",
     "text": [
      "Can't get connection to https://ivie.vn/cong-dong?page=3586! Try again in 3 seconds.\n"
     ]
    },
    {
     "name": "stderr",
     "output_type": "stream",
     "text": [
      "Processing page 3590: : 0it [00:00, ?it/s]\n",
      "Processing page 3592: : 0it [00:00, ?it/s]\n"
     ]
    },
    {
     "name": "stdout",
     "output_type": "stream",
     "text": [
      "Can't get connection to https://ivie.vn/cong-dong?page=3589! Try again in 3 seconds.\n",
      "Can't get connection to https://ivie.vn/cong-dong?page=3591! Try again in 3 seconds.\n"
     ]
    },
    {
     "name": "stderr",
     "output_type": "stream",
     "text": [
      "Processing page 3593: : 0it [00:00, ?it/s]\n",
      "Processing page 3591: : 0it [00:00, ?it/s]\n",
      "Processing page 3594: : 0it [00:00, ?it/s]\n",
      "Processing page 3586: : 0it [00:00, ?it/s]\n",
      "Processing page 3595: : 0it [00:00, ?it/s]\n"
     ]
    },
    {
     "name": "stdout",
     "output_type": "stream",
     "text": [
      "Can't get connection to https://ivie.vn/cong-dong?page=3589! Try again in 3 seconds.\n"
     ]
    },
    {
     "name": "stderr",
     "output_type": "stream",
     "text": [
      "Processing page 3596: : 0it [00:00, ?it/s]\n",
      "Processing page 3597: : 0it [00:00, ?it/s]\n",
      "Processing page 3589: : 0it [00:00, ?it/s]\n",
      "Processing page 3599: : 0it [00:00, ?it/s]\n"
     ]
    },
    {
     "name": "stdout",
     "output_type": "stream",
     "text": [
      "Can't get connection to https://ivie.vn/cong-dong?page=3598! Try again in 3 seconds.\n",
      "Can't get connection to https://ivie.vn/cong-dong?page=3601! Try again in 3 seconds.\n",
      "Can't get connection to https://ivie.vn/cong-dong?page=3600! Try again in 3 seconds.\n"
     ]
    },
    {
     "name": "stderr",
     "output_type": "stream",
     "text": [
      "Processing page 3598: : 0it [00:00, ?it/s]\n",
      "Processing page 3602: : 0it [00:00, ?it/s]\n",
      "Processing page 3603: : 0it [00:00, ?it/s]\n"
     ]
    },
    {
     "name": "stdout",
     "output_type": "stream",
     "text": [
      "Can't get connection to https://ivie.vn/cong-dong?page=3601! Try again in 3 seconds.\n",
      "Can't get connection to https://ivie.vn/cong-dong?page=3604! Try again in 3 seconds.\n"
     ]
    },
    {
     "name": "stderr",
     "output_type": "stream",
     "text": [
      "Processing page 3600: : 0it [00:00, ?it/s]\n"
     ]
    },
    {
     "name": "stdout",
     "output_type": "stream",
     "text": [
      "Can't get connection to https://ivie.vn/cong-dong?page=3606! Try again in 3 seconds.\n",
      "Can't get connection to https://ivie.vn/cong-dong?page=3605! Try again in 3 seconds.\n"
     ]
    },
    {
     "name": "stderr",
     "output_type": "stream",
     "text": [
      "Processing page 3601: : 0it [00:00, ?it/s]\n",
      "Processing page 3607: : 0it [00:00, ?it/s]\n",
      "Processing page 3604: : 0it [00:00, ?it/s]\n",
      "Processing page 3605: : 0it [00:00, ?it/s]\n"
     ]
    },
    {
     "name": "stdout",
     "output_type": "stream",
     "text": [
      "Can't get connection to https://ivie.vn/cong-dong?page=3606! Try again in 3 seconds.\n"
     ]
    },
    {
     "name": "stderr",
     "output_type": "stream",
     "text": [
      "Processing page 3608: : 0it [00:00, ?it/s]\n",
      "Processing page 3609: : 0it [00:00, ?it/s]\n"
     ]
    },
    {
     "name": "stdout",
     "output_type": "stream",
     "text": [
      "Can't get connection to https://ivie.vn/cong-dong?page=3610! Try again in 3 seconds.\n",
      "Can't get connection to https://ivie.vn/cong-dong?page=3611! Try again in 3 seconds.\n"
     ]
    },
    {
     "name": "stderr",
     "output_type": "stream",
     "text": [
      "Processing page 3612: : 0it [00:00, ?it/s]\n"
     ]
    },
    {
     "name": "stdout",
     "output_type": "stream",
     "text": [
      "Can't get connection to https://ivie.vn/cong-dong?page=3613! Try again in 3 seconds.\n",
      "Can't get connection to https://ivie.vn/cong-dong?page=3606! Try again in 3 seconds.\n",
      "Can't get connection to https://ivie.vn/cong-dong?page=3614! Try again in 3 seconds.\n"
     ]
    },
    {
     "name": "stderr",
     "output_type": "stream",
     "text": [
      "Processing page 3610: : 0it [00:00, ?it/s]\n"
     ]
    },
    {
     "name": "stdout",
     "output_type": "stream",
     "text": [
      "Can't get connection to https://ivie.vn/cong-dong?page=3611! Try again in 3 seconds.\n"
     ]
    },
    {
     "name": "stderr",
     "output_type": "stream",
     "text": [
      "Processing page 3613: : 0it [00:00, ?it/s]\n",
      "Processing page 3614: : 0it [00:00, ?it/s]\n",
      "Processing page 3615: : 0it [00:00, ?it/s]\n",
      "Processing page 3611: : 0it [00:00, ?it/s]\n",
      "Processing page 3616: : 0it [00:00, ?it/s]\n"
     ]
    },
    {
     "name": "stdout",
     "output_type": "stream",
     "text": [
      "Can't get connection to https://ivie.vn/cong-dong?page=3606! Try again in 3 seconds.\n"
     ]
    },
    {
     "name": "stderr",
     "output_type": "stream",
     "text": [
      "Processing page 3617: : 0it [00:00, ?it/s]\n",
      "Processing page 3619: : 0it [00:00, ?it/s]\n",
      "Processing page 3620: : 0it [00:00, ?it/s]\n",
      "Processing page 3618: : 0it [00:00, ?it/s]\n",
      "Processing page 3606: : 0it [00:00, ?it/s]\n",
      "Processing page 3621: : 0it [00:00, ?it/s]\n",
      "Processing page 3622: : 0it [00:00, ?it/s]\n",
      "Processing page 3623: : 0it [00:00, ?it/s]\n",
      "Processing page 3624: : 0it [00:00, ?it/s]\n",
      "Processing page 3625: : 0it [00:00, ?it/s]\n"
     ]
    },
    {
     "name": "stdout",
     "output_type": "stream",
     "text": [
      "Can't get connection to https://ivie.vn/cong-dong?page=3626! Try again in 3 seconds.\n",
      "Can't get connection to https://ivie.vn/cong-dong?page=3628! Try again in 3 seconds.\n",
      "Can't get connection to https://ivie.vn/cong-dong?page=3629! Try again in 3 seconds.\n",
      "Can't get connection to https://ivie.vn/cong-dong?page=3627! Try again in 3 seconds.\n"
     ]
    },
    {
     "name": "stderr",
     "output_type": "stream",
     "text": [
      "Processing page 3630: : 0it [00:00, ?it/s]\n",
      "Processing page 3626: : 0it [00:00, ?it/s]\n",
      "Processing page 3628: : 0it [00:00, ?it/s]\n"
     ]
    },
    {
     "name": "stdout",
     "output_type": "stream",
     "text": [
      "Can't get connection to https://ivie.vn/cong-dong?page=3631! Try again in 3 seconds.\n",
      "Can't get connection to https://ivie.vn/cong-dong?page=3627! Try again in 3 seconds.\n",
      "Can't get connection to https://ivie.vn/cong-dong?page=3629! Try again in 3 seconds.\n",
      "Can't get connection to https://ivie.vn/cong-dong?page=3632! Try again in 3 seconds.\n"
     ]
    },
    {
     "name": "stderr",
     "output_type": "stream",
     "text": [
      "Processing page 3633: : 0it [00:00, ?it/s]\n",
      "Processing page 3627: : 0it [00:00, ?it/s]\n"
     ]
    },
    {
     "name": "stdout",
     "output_type": "stream",
     "text": [
      "Can't get connection to https://ivie.vn/cong-dong?page=3631! Try again in 3 seconds.\n",
      "Can't get connection to https://ivie.vn/cong-dong?page=3629! Try again in 3 seconds.\n"
     ]
    },
    {
     "name": "stderr",
     "output_type": "stream",
     "text": [
      "Processing page 3632: : 0it [00:00, ?it/s]\n",
      "Processing page 3634: : 0it [00:00, ?it/s]\n"
     ]
    },
    {
     "name": "stdout",
     "output_type": "stream",
     "text": [
      "Can't get connection to https://ivie.vn/cong-dong?page=3635! Try again in 3 seconds.\n",
      "Can't get connection to https://ivie.vn/cong-dong?page=3636! Try again in 3 seconds.\n",
      "Can't get connection to https://ivie.vn/cong-dong?page=3637! Try again in 3 seconds.\n"
     ]
    },
    {
     "name": "stderr",
     "output_type": "stream",
     "text": [
      "Processing page 3631: : 0it [00:00, ?it/s]\n"
     ]
    },
    {
     "name": "stdout",
     "output_type": "stream",
     "text": [
      "Can't get connection to https://ivie.vn/cong-dong?page=3629! Try again in 3 seconds.\n",
      "Can't get connection to https://ivie.vn/cong-dong?page=3635! Try again in 3 seconds.\n"
     ]
    },
    {
     "name": "stderr",
     "output_type": "stream",
     "text": [
      "Processing page 3638: : 0it [00:00, ?it/s]\n"
     ]
    },
    {
     "name": "stdout",
     "output_type": "stream",
     "text": [
      "Can't get connection to https://ivie.vn/cong-dong?page=3629! Try again in 3 seconds.\n"
     ]
    },
    {
     "name": "stderr",
     "output_type": "stream",
     "text": [
      "Processing page 3636: : 0it [00:00, ?it/s]\n",
      "Processing page 3637: : 0it [00:00, ?it/s]\n"
     ]
    },
    {
     "name": "stdout",
     "output_type": "stream",
     "text": [
      "Can't get connection to https://ivie.vn/cong-dong?page=3635! Try again in 3 seconds.\n",
      "Can't get connection to https://ivie.vn/cong-dong?page=3639! Try again in 3 seconds.\n"
     ]
    },
    {
     "name": "stderr",
     "output_type": "stream",
     "text": [
      "Processing page 3640: : 0it [00:00, ?it/s]\n"
     ]
    },
    {
     "name": "stdout",
     "output_type": "stream",
     "text": [
      "Can't get connection to https://ivie.vn/cong-dong?page=3641! Try again in 3 seconds.\n"
     ]
    },
    {
     "name": "stderr",
     "output_type": "stream",
     "text": [
      "Processing page 3629: : 0it [00:00, ?it/s]\n",
      "Processing page 3635: : 0it [00:00, ?it/s]\n",
      "Processing page 3639: : 0it [00:00, ?it/s]\n",
      "Processing page 3642: : 0it [00:00, ?it/s]\n",
      "Processing page 3643: : 0it [00:00, ?it/s]\n",
      "Processing page 3641: : 0it [00:00, ?it/s]\n",
      "Processing page 3644: : 0it [00:00, ?it/s]\n",
      "Processing page 3646: : 0it [00:00, ?it/s]\n"
     ]
    },
    {
     "name": "stdout",
     "output_type": "stream",
     "text": [
      "Can't get connection to https://ivie.vn/cong-dong?page=3647! Try again in 3 seconds.\n",
      "Can't get connection to https://ivie.vn/cong-dong?page=3645! Try again in 3 seconds.\n",
      "Can't get connection to https://ivie.vn/cong-dong?page=3648! Try again in 3 seconds.\n"
     ]
    },
    {
     "name": "stderr",
     "output_type": "stream",
     "text": [
      "Processing page 3649: : 0it [00:00, ?it/s]\n",
      "Processing page 3650: : 0it [00:00, ?it/s]\n",
      "Processing page 3645: : 0it [00:00, ?it/s]\n",
      "Processing page 3648: : 0it [00:00, ?it/s]\n",
      "Processing page 3651: : 0it [00:00, ?it/s]\n",
      "Processing page 3647: : 0it [00:00, ?it/s]\n",
      "Processing page 3652: : 0it [00:00, ?it/s]\n",
      "Processing page 3654: : 0it [00:00, ?it/s]\n"
     ]
    },
    {
     "name": "stdout",
     "output_type": "stream",
     "text": [
      "Can't get connection to https://ivie.vn/cong-dong?page=3653! Try again in 3 seconds.\n",
      "Can't get connection to https://ivie.vn/cong-dong?page=3655! Try again in 3 seconds.Can't get connection to https://ivie.vn/cong-dong?page=3656! Try again in 3 seconds.\n",
      "\n",
      "Can't get connection to https://ivie.vn/cong-dong?page=3657! Try again in 3 seconds.\n"
     ]
    },
    {
     "name": "stderr",
     "output_type": "stream",
     "text": [
      "Processing page 3658: : 0it [00:00, ?it/s]\n",
      "Processing page 3653: : 0it [00:00, ?it/s]\n"
     ]
    },
    {
     "name": "stdout",
     "output_type": "stream",
     "text": [
      "Can't get connection to https://ivie.vn/cong-dong?page=3656! Try again in 3 seconds.\n"
     ]
    },
    {
     "name": "stderr",
     "output_type": "stream",
     "text": [
      "Processing page 3655: : 0it [00:00, ?it/s]\n"
     ]
    },
    {
     "name": "stdout",
     "output_type": "stream",
     "text": [
      "Can't get connection to https://ivie.vn/cong-dong?page=3657! Try again in 3 seconds.\n"
     ]
    },
    {
     "name": "stderr",
     "output_type": "stream",
     "text": [
      "Processing page 3659: : 0it [00:00, ?it/s]\n",
      "Processing page 3660: : 0it [00:00, ?it/s]\n",
      "Processing page 3661: : 0it [00:00, ?it/s]\n",
      "Processing page 3656: : 0it [00:00, ?it/s]\n",
      "Processing page 3657: : 0it [00:00, ?it/s]\n",
      "Processing page 3662: : 0it [00:00, ?it/s]\n"
     ]
    },
    {
     "name": "stdout",
     "output_type": "stream",
     "text": [
      "Can't get connection to https://ivie.vn/cong-dong?page=3663! Try again in 3 seconds.\n"
     ]
    },
    {
     "name": "stderr",
     "output_type": "stream",
     "text": [
      "Processing page 3664: : 0it [00:00, ?it/s]\n",
      "Processing page 3665: : 0it [00:00, ?it/s]\n"
     ]
    },
    {
     "name": "stdout",
     "output_type": "stream",
     "text": [
      "Can't get connection to https://ivie.vn/cong-dong?page=3666! Try again in 3 seconds.\n"
     ]
    },
    {
     "name": "stderr",
     "output_type": "stream",
     "text": [
      "Processing page 3667: : 0it [00:00, ?it/s]\n"
     ]
    },
    {
     "name": "stdout",
     "output_type": "stream",
     "text": [
      "Can't get connection to https://ivie.vn/cong-dong?page=3668! Try again in 3 seconds.\n",
      "Can't get connection to https://ivie.vn/cong-dong?page=3669! Try again in 3 seconds.\n"
     ]
    },
    {
     "name": "stderr",
     "output_type": "stream",
     "text": [
      "Processing page 3663: : 0it [00:00, ?it/s]\n",
      "Processing page 3670: : 0it [00:00, ?it/s]\n"
     ]
    },
    {
     "name": "stdout",
     "output_type": "stream",
     "text": [
      "Can't get connection to https://ivie.vn/cong-dong?page=3666! Try again in 3 seconds.\n",
      "Can't get connection to https://ivie.vn/cong-dong?page=3668! Try again in 3 seconds.\n"
     ]
    },
    {
     "name": "stderr",
     "output_type": "stream",
     "text": [
      "Processing page 3671: : 0it [00:00, ?it/s]\n",
      "Processing page 3672: : 0it [00:00, ?it/s]\n",
      "Processing page 3669: : 0it [00:00, ?it/s]\n",
      "Processing page 3666: : 0it [00:00, ?it/s]\n",
      "Processing page 3673: : 0it [00:00, ?it/s]\n",
      "Processing page 3668: : 0it [00:00, ?it/s]\n"
     ]
    },
    {
     "name": "stdout",
     "output_type": "stream",
     "text": [
      "Can't get connection to https://ivie.vn/cong-dong?page=3674! Try again in 3 seconds.\n"
     ]
    },
    {
     "name": "stderr",
     "output_type": "stream",
     "text": [
      "Processing page 3675: : 0it [00:00, ?it/s]\n",
      "Processing page 3677: : 0it [00:00, ?it/s]\n"
     ]
    },
    {
     "name": "stdout",
     "output_type": "stream",
     "text": [
      "Can't get connection to https://ivie.vn/cong-dong?page=3676! Try again in 3 seconds.\n"
     ]
    },
    {
     "name": "stderr",
     "output_type": "stream",
     "text": [
      "Processing page 3678: : 0it [00:00, ?it/s]\n",
      "Processing page 3674: : 0it [00:00, ?it/s]\n"
     ]
    },
    {
     "name": "stdout",
     "output_type": "stream",
     "text": [
      "Can't get connection to https://ivie.vn/cong-dong?page=3680! Try again in 3 seconds.\n",
      "Can't get connection to https://ivie.vn/cong-dong?page=3679! Try again in 3 seconds.\n"
     ]
    },
    {
     "name": "stderr",
     "output_type": "stream",
     "text": [
      "Processing page 3676: : 0it [00:00, ?it/s]\n"
     ]
    },
    {
     "name": "stdout",
     "output_type": "stream",
     "text": [
      "Can't get connection to https://ivie.vn/cong-dong?page=3681! Try again in 3 seconds.\n",
      "Can't get connection to https://ivie.vn/cong-dong?page=3682! Try again in 3 seconds.\n",
      "Can't get connection to https://ivie.vn/cong-dong?page=3679! Try again in 3 seconds.\n",
      "Can't get connection to https://ivie.vn/cong-dong?page=3683! Try again in 3 seconds.\n"
     ]
    },
    {
     "name": "stderr",
     "output_type": "stream",
     "text": [
      "Processing page 3680: : 0it [00:00, ?it/s]\n",
      "Processing page 3681: : 0it [00:00, ?it/s]\n",
      "Processing page 3684: : 0it [00:00, ?it/s]\n"
     ]
    },
    {
     "name": "stdout",
     "output_type": "stream",
     "text": [
      "Can't get connection to https://ivie.vn/cong-dong?page=3682! Try again in 3 seconds.\n",
      "Can't get connection to https://ivie.vn/cong-dong?page=3683! Try again in 3 seconds.\n",
      "Can't get connection to https://ivie.vn/cong-dong?page=3679! Try again in 3 seconds.\n"
     ]
    },
    {
     "name": "stderr",
     "output_type": "stream",
     "text": [
      "Processing page 3685: : 0it [00:00, ?it/s]\n"
     ]
    },
    {
     "name": "stdout",
     "output_type": "stream",
     "text": [
      "Can't get connection to https://ivie.vn/cong-dong?page=3686! Try again in 3 seconds.\n"
     ]
    },
    {
     "name": "stderr",
     "output_type": "stream",
     "text": [
      "Processing page 3682: : 0it [00:00, ?it/s]\n"
     ]
    },
    {
     "name": "stdout",
     "output_type": "stream",
     "text": [
      "Can't get connection to https://ivie.vn/cong-dong?page=3687! Try again in 3 seconds.\n",
      "Can't get connection to https://ivie.vn/cong-dong?page=3679! Try again in 3 seconds.\n"
     ]
    },
    {
     "name": "stderr",
     "output_type": "stream",
     "text": [
      "Processing page 3683: : 0it [00:00, ?it/s]\n"
     ]
    },
    {
     "name": "stdout",
     "output_type": "stream",
     "text": [
      "Can't get connection to https://ivie.vn/cong-dong?page=3686! Try again in 3 seconds.\n"
     ]
    },
    {
     "name": "stderr",
     "output_type": "stream",
     "text": [
      "Processing page 3688: : 0it [00:00, ?it/s]\n"
     ]
    },
    {
     "name": "stdout",
     "output_type": "stream",
     "text": [
      "Can't get connection to https://ivie.vn/cong-dong?page=3689! Try again in 3 seconds.\n",
      "Can't get connection to https://ivie.vn/cong-dong?page=3687! Try again in 3 seconds.\n"
     ]
    },
    {
     "name": "stderr",
     "output_type": "stream",
     "text": [
      "Processing page 3679: : 0it [00:00, ?it/s]\n",
      "Processing page 3690: : 0it [00:00, ?it/s]\n"
     ]
    },
    {
     "name": "stdout",
     "output_type": "stream",
     "text": [
      "Can't get connection to https://ivie.vn/cong-dong?page=3686! Try again in 3 seconds.\n",
      "Can't get connection to https://ivie.vn/cong-dong?page=3689! Try again in 3 seconds.\n"
     ]
    },
    {
     "name": "stderr",
     "output_type": "stream",
     "text": [
      "Processing page 3687: : 0it [00:00, ?it/s]\n"
     ]
    },
    {
     "name": "stdout",
     "output_type": "stream",
     "text": [
      "Can't get connection to https://ivie.vn/cong-dong?page=3686! Try again in 3 seconds.\n",
      "Can't get connection to https://ivie.vn/cong-dong?page=3692! Try again in 3 seconds.\n",
      "Can't get connection to https://ivie.vn/cong-dong?page=3689! Try again in 3 seconds.\n"
     ]
    },
    {
     "name": "stderr",
     "output_type": "stream",
     "text": [
      "Processing page 3691: : 0it [00:00, ?it/s]\n",
      "Processing page 3693: : 0it [00:00, ?it/s]\n",
      "Processing page 3692: : 0it [00:00, ?it/s]\n"
     ]
    },
    {
     "name": "stdout",
     "output_type": "stream",
     "text": [
      "Can't get connection to https://ivie.vn/cong-dong?page=3695! Try again in 3 seconds.\n"
     ]
    },
    {
     "name": "stderr",
     "output_type": "stream",
     "text": [
      "Processing page 3686: : 0it [00:00, ?it/s]\n",
      "Processing page 3689: : 0it [00:00, ?it/s]\n"
     ]
    },
    {
     "name": "stdout",
     "output_type": "stream",
     "text": [
      "Can't get connection to https://ivie.vn/cong-dong?page=3694! Try again in 3 seconds.\n",
      "Can't get connection to https://ivie.vn/cong-dong?page=3696! Try again in 3 seconds.\n"
     ]
    },
    {
     "name": "stderr",
     "output_type": "stream",
     "text": [
      "Processing page 3697: : 0it [00:00, ?it/s]\n",
      "Processing page 3695: : 0it [00:00, ?it/s]\n",
      "Processing page 3698: : 0it [00:00, ?it/s]\n",
      "Processing page 3694: : 0it [00:00, ?it/s]\n",
      "Processing page 3699: : 0it [00:00, ?it/s]\n"
     ]
    },
    {
     "name": "stdout",
     "output_type": "stream",
     "text": [
      "Can't get connection to https://ivie.vn/cong-dong?page=3696! Try again in 3 seconds.\n",
      "Can't get connection to https://ivie.vn/cong-dong?page=3700! Try again in 3 seconds.\n",
      "Can't get connection to https://ivie.vn/cong-dong?page=3701! Try again in 3 seconds.\n",
      "Can't get connection to https://ivie.vn/cong-dong?page=3702! Try again in 3 seconds.\n"
     ]
    },
    {
     "name": "stderr",
     "output_type": "stream",
     "text": [
      "Processing page 3703: : 0it [00:00, ?it/s]\n",
      "Processing page 3696: : 0it [00:00, ?it/s]\n"
     ]
    },
    {
     "name": "stdout",
     "output_type": "stream",
     "text": [
      "Can't get connection to https://ivie.vn/cong-dong?page=3700! Try again in 3 seconds.\n"
     ]
    },
    {
     "name": "stderr",
     "output_type": "stream",
     "text": [
      "Processing page 3701: : 0it [00:00, ?it/s]\n",
      "Processing page 3704: : 0it [00:00, ?it/s]\n",
      "Processing page 3702: : 0it [00:00, ?it/s]\n",
      "Processing page 3705: : 0it [00:00, ?it/s]\n"
     ]
    },
    {
     "name": "stdout",
     "output_type": "stream",
     "text": [
      "Can't get connection to https://ivie.vn/cong-dong?page=3706! Try again in 3 seconds.\n"
     ]
    },
    {
     "name": "stderr",
     "output_type": "stream",
     "text": [
      "Processing page 3707: : 0it [00:00, ?it/s]\n"
     ]
    },
    {
     "name": "stdout",
     "output_type": "stream",
     "text": [
      "Can't get connection to https://ivie.vn/cong-dong?page=3708! Try again in 3 seconds.\n",
      "Can't get connection to https://ivie.vn/cong-dong?page=3700! Try again in 3 seconds.\n"
     ]
    },
    {
     "name": "stderr",
     "output_type": "stream",
     "text": [
      "Processing page 3709: : 0it [00:00, ?it/s]\n",
      "Processing page 3710: : 0it [00:00, ?it/s]\n",
      "Processing page 3706: : 0it [00:00, ?it/s]\n"
     ]
    },
    {
     "name": "stdout",
     "output_type": "stream",
     "text": [
      "Can't get connection to https://ivie.vn/cong-dong?page=3708! Try again in 3 seconds.\n"
     ]
    },
    {
     "name": "stderr",
     "output_type": "stream",
     "text": [
      "Processing page 3700: : 0it [00:00, ?it/s]\n",
      "Processing page 3711: : 0it [00:00, ?it/s]\n",
      "Processing page 3712: : 0it [00:00, ?it/s]\n",
      "Processing page 3713: : 0it [00:00, ?it/s]\n"
     ]
    },
    {
     "name": "stdout",
     "output_type": "stream",
     "text": [
      "Can't get connection to https://ivie.vn/cong-dong?page=3714! Try again in 3 seconds.\n"
     ]
    },
    {
     "name": "stderr",
     "output_type": "stream",
     "text": [
      "Processing page 3715: : 0it [00:00, ?it/s]\n",
      "Processing page 3716: : 0it [00:00, ?it/s]\n",
      "Processing page 3708: : 0it [00:00, ?it/s]\n",
      "Processing page 3718: : 0it [00:00, ?it/s]\n",
      "Processing page 3719: : 0it [00:00, ?it/s]\n"
     ]
    },
    {
     "name": "stdout",
     "output_type": "stream",
     "text": [
      "Can't get connection to https://ivie.vn/cong-dong?page=3717! Try again in 3 seconds.\n",
      "Can't get connection to https://ivie.vn/cong-dong?page=3714! Try again in 3 seconds.\n"
     ]
    },
    {
     "name": "stderr",
     "output_type": "stream",
     "text": [
      "Processing page 3720: : 0it [00:00, ?it/s]\n"
     ]
    },
    {
     "name": "stdout",
     "output_type": "stream",
     "text": [
      "Can't get connection to https://ivie.vn/cong-dong?page=3721! Try again in 3 seconds.\n"
     ]
    },
    {
     "name": "stderr",
     "output_type": "stream",
     "text": [
      "Processing page 3722: : 0it [00:00, ?it/s]\n",
      "Processing page 3717: : 0it [00:00, ?it/s]\n",
      "Processing page 3714: : 0it [00:00, ?it/s]\n",
      "Processing page 3724: : 0it [00:00, ?it/s]\n",
      "Processing page 3726: : 0it [00:00, ?it/s]\n",
      "Processing page 3725: : 0it [00:00, ?it/s]\n",
      "Processing page 3721: : 0it [00:00, ?it/s]\n",
      "Processing page 3723: : 0it [00:00, ?it/s]\n"
     ]
    },
    {
     "name": "stdout",
     "output_type": "stream",
     "text": [
      "Can't get connection to https://ivie.vn/cong-dong?page=3727! Try again in 3 seconds.\n",
      "Can't get connection to https://ivie.vn/cong-dong?page=3728! Try again in 3 seconds.\n"
     ]
    },
    {
     "name": "stderr",
     "output_type": "stream",
     "text": [
      "Processing page 3729: : 0it [00:00, ?it/s]\n"
     ]
    },
    {
     "name": "stdout",
     "output_type": "stream",
     "text": [
      "Can't get connection to https://ivie.vn/cong-dong?page=3731! Try again in 3 seconds.\n",
      "Can't get connection to https://ivie.vn/cong-dong?page=3730! Try again in 3 seconds.\n",
      "Can't get connection to https://ivie.vn/cong-dong?page=3732! Try again in 3 seconds.\n"
     ]
    },
    {
     "name": "stderr",
     "output_type": "stream",
     "text": [
      "Processing page 3727: : 0it [00:00, ?it/s]\n"
     ]
    },
    {
     "name": "stdout",
     "output_type": "stream",
     "text": [
      "Can't get connection to https://ivie.vn/cong-dong?page=3728! Try again in 3 seconds.\n"
     ]
    },
    {
     "name": "stderr",
     "output_type": "stream",
     "text": [
      "Processing page 3731: : 0it [00:00, ?it/s]\n",
      "Processing page 3733: : 0it [00:00, ?it/s]\n",
      "Processing page 3732: : 0it [00:00, ?it/s]\n",
      "Processing page 3730: : 0it [00:00, ?it/s]\n",
      "Processing page 3734: : 0it [00:00, ?it/s]\n"
     ]
    },
    {
     "name": "stdout",
     "output_type": "stream",
     "text": [
      "Can't get connection to https://ivie.vn/cong-dong?page=3728! Try again in 3 seconds.\n",
      "Can't get connection to https://ivie.vn/cong-dong?page=3735! Try again in 3 seconds.\n"
     ]
    },
    {
     "name": "stderr",
     "output_type": "stream",
     "text": [
      "Processing page 3736: : 0it [00:00, ?it/s]\n"
     ]
    },
    {
     "name": "stdout",
     "output_type": "stream",
     "text": [
      "Can't get connection to https://ivie.vn/cong-dong?page=3738! Try again in 3 seconds.\n"
     ]
    },
    {
     "name": "stderr",
     "output_type": "stream",
     "text": [
      "Processing page 3737: : 0it [00:00, ?it/s]\n",
      "Processing page 3728: : 0it [00:00, ?it/s]\n",
      "Processing page 3735: : 0it [00:00, ?it/s]\n",
      "Processing page 3740: : 0it [00:00, ?it/s]\n"
     ]
    },
    {
     "name": "stdout",
     "output_type": "stream",
     "text": [
      "Can't get connection to https://ivie.vn/cong-dong?page=3739! Try again in 3 seconds.\n"
     ]
    },
    {
     "name": "stderr",
     "output_type": "stream",
     "text": [
      "Processing page 3738: : 0it [00:00, ?it/s]\n",
      "Processing page 3741: : 0it [00:00, ?it/s]\n"
     ]
    },
    {
     "name": "stdout",
     "output_type": "stream",
     "text": [
      "Can't get connection to https://ivie.vn/cong-dong?page=3742! Try again in 3 seconds.\n"
     ]
    },
    {
     "name": "stderr",
     "output_type": "stream",
     "text": [
      "Processing page 3743: : 0it [00:00, ?it/s]\n"
     ]
    },
    {
     "name": "stdout",
     "output_type": "stream",
     "text": [
      "Can't get connection to https://ivie.vn/cong-dong?page=3739! Try again in 3 seconds.\n"
     ]
    },
    {
     "name": "stderr",
     "output_type": "stream",
     "text": [
      "Processing page 3744: : 0it [00:00, ?it/s]\n"
     ]
    },
    {
     "name": "stdout",
     "output_type": "stream",
     "text": [
      "Can't get connection to https://ivie.vn/cong-dong?page=3746! Try again in 3 seconds.\n"
     ]
    },
    {
     "name": "stderr",
     "output_type": "stream",
     "text": [
      "Processing page 3745: : 0it [00:00, ?it/s]\n"
     ]
    },
    {
     "name": "stdout",
     "output_type": "stream",
     "text": [
      "Can't get connection to https://ivie.vn/cong-dong?page=3747! Try again in 3 seconds.\n",
      "Can't get connection to https://ivie.vn/cong-dong?page=3739! Try again in 3 seconds.\n"
     ]
    },
    {
     "name": "stderr",
     "output_type": "stream",
     "text": [
      "Processing page 3742: : 0it [00:00, ?it/s]\n",
      "Processing page 3748: : 0it [00:00, ?it/s]\n"
     ]
    },
    {
     "name": "stdout",
     "output_type": "stream",
     "text": [
      "Can't get connection to https://ivie.vn/cong-dong?page=3746! Try again in 3 seconds.\n",
      "Can't get connection to https://ivie.vn/cong-dong?page=3749! Try again in 3 seconds.\n",
      "Can't get connection to https://ivie.vn/cong-dong?page=3747! Try again in 3 seconds.\n",
      "Can't get connection to https://ivie.vn/cong-dong?page=3750! Try again in 3 seconds.\n"
     ]
    },
    {
     "name": "stderr",
     "output_type": "stream",
     "text": [
      "Processing page 3746: : 0it [00:00, ?it/s]\n",
      "Processing page 3749: : 0it [00:00, ?it/s]\n",
      "Processing page 3739: : 0it [00:00, ?it/s]\n",
      "Processing page 3747: : 0it [00:00, ?it/s]\n"
     ]
    },
    {
     "name": "stdout",
     "output_type": "stream",
     "text": [
      "Can't get connection to https://ivie.vn/cong-dong?page=3750! Try again in 3 seconds.\n"
     ]
    },
    {
     "name": "stderr",
     "output_type": "stream",
     "text": [
      "Processing page 3751: : 0it [00:00, ?it/s]\n",
      "Processing page 3752: : 0it [00:00, ?it/s]\n"
     ]
    },
    {
     "name": "stdout",
     "output_type": "stream",
     "text": [
      "Can't get connection to https://ivie.vn/cong-dong?page=3753! Try again in 3 seconds.\n"
     ]
    },
    {
     "name": "stderr",
     "output_type": "stream",
     "text": [
      "Processing page 3754: : 0it [00:00, ?it/s]\n"
     ]
    },
    {
     "name": "stdout",
     "output_type": "stream",
     "text": [
      "Can't get connection to https://ivie.vn/cong-dong?page=3755! Try again in 3 seconds.\n"
     ]
    },
    {
     "name": "stderr",
     "output_type": "stream",
     "text": [
      "Processing page 3750: : 0it [00:00, ?it/s]\n"
     ]
    },
    {
     "name": "stdout",
     "output_type": "stream",
     "text": [
      "Can't get connection to https://ivie.vn/cong-dong?page=3756! Try again in 3 seconds.\n",
      "Can't get connection to https://ivie.vn/cong-dong?page=3753! Try again in 3 seconds.\n",
      "Can't get connection to https://ivie.vn/cong-dong?page=3757! Try again in 3 seconds.\n"
     ]
    },
    {
     "name": "stderr",
     "output_type": "stream",
     "text": [
      "Processing page 3758: : 0it [00:00, ?it/s]\n",
      "Processing page 3755: : 0it [00:00, ?it/s]\n",
      "Processing page 3756: : 0it [00:00, ?it/s]\n"
     ]
    },
    {
     "name": "stdout",
     "output_type": "stream",
     "text": [
      "Can't get connection to https://ivie.vn/cong-dong?page=3753! Try again in 3 seconds.\n",
      "Can't get connection to https://ivie.vn/cong-dong?page=3759! Try again in 3 seconds.\n"
     ]
    },
    {
     "name": "stderr",
     "output_type": "stream",
     "text": [
      "Processing page 3760: : 0it [00:00, ?it/s]\n",
      "Processing page 3757: : 0it [00:00, ?it/s]\n",
      "Processing page 3761: : 0it [00:00, ?it/s]\n"
     ]
    },
    {
     "name": "stdout",
     "output_type": "stream",
     "text": [
      "Can't get connection to https://ivie.vn/cong-dong?page=3763! Try again in 3 seconds.\n"
     ]
    },
    {
     "name": "stderr",
     "output_type": "stream",
     "text": [
      "Processing page 3753: : 0it [00:00, ?it/s]\n",
      "Processing page 3759: : 0it [00:00, ?it/s]\n",
      "Processing page 3762: : 0it [00:00, ?it/s]\n"
     ]
    },
    {
     "name": "stdout",
     "output_type": "stream",
     "text": [
      "Can't get connection to https://ivie.vn/cong-dong?page=3764! Try again in 3 seconds.\n",
      "Can't get connection to https://ivie.vn/cong-dong?page=3766! Try again in 3 seconds.\n"
     ]
    },
    {
     "name": "stderr",
     "output_type": "stream",
     "text": [
      "Processing page 3767: : 0it [00:00, ?it/s]\n",
      "Processing page 3765: : 0it [00:00, ?it/s]\n",
      "Processing page 3763: : 0it [00:00, ?it/s]\n",
      "Processing page 3764: : 0it [00:00, ?it/s]\n",
      "Processing page 3768: : 0it [00:00, ?it/s]\n"
     ]
    },
    {
     "name": "stdout",
     "output_type": "stream",
     "text": [
      "Can't get connection to https://ivie.vn/cong-dong?page=3769! Try again in 3 seconds.\n"
     ]
    },
    {
     "name": "stderr",
     "output_type": "stream",
     "text": [
      "Processing page 3770: : 0it [00:00, ?it/s]\n",
      "Processing page 3766: : 0it [00:00, ?it/s]\n"
     ]
    },
    {
     "name": "stdout",
     "output_type": "stream",
     "text": [
      "Can't get connection to https://ivie.vn/cong-dong?page=3771! Try again in 3 seconds.\n"
     ]
    },
    {
     "name": "stderr",
     "output_type": "stream",
     "text": [
      "Processing page 3772: : 0it [00:00, ?it/s]\n",
      "Processing page 3769: : 0it [00:00, ?it/s]\n"
     ]
    },
    {
     "name": "stdout",
     "output_type": "stream",
     "text": [
      "Can't get connection to https://ivie.vn/cong-dong?page=3773! Try again in 3 seconds.\n",
      "Can't get connection to https://ivie.vn/cong-dong?page=3774! Try again in 3 seconds.\n"
     ]
    },
    {
     "name": "stderr",
     "output_type": "stream",
     "text": [
      "Processing page 3775: : 0it [00:00, ?it/s]\n",
      "Processing page 3771: : 0it [00:00, ?it/s]\n"
     ]
    },
    {
     "name": "stdout",
     "output_type": "stream",
     "text": [
      "Can't get connection to https://ivie.vn/cong-dong?page=3776! Try again in 3 seconds.\n"
     ]
    },
    {
     "name": "stderr",
     "output_type": "stream",
     "text": [
      "Processing page 3774: : 0it [00:00, ?it/s]\n",
      "Processing page 3773: : 0it [00:00, ?it/s]\n",
      "Processing page 3778: : 0it [00:00, ?it/s]\n",
      "Processing page 3777: : 0it [00:00, ?it/s]\n"
     ]
    },
    {
     "name": "stdout",
     "output_type": "stream",
     "text": [
      "Can't get connection to https://ivie.vn/cong-dong?page=3779! Try again in 3 seconds.\n"
     ]
    },
    {
     "name": "stderr",
     "output_type": "stream",
     "text": [
      "Processing page 3776: : 0it [00:00, ?it/s]\n"
     ]
    },
    {
     "name": "stdout",
     "output_type": "stream",
     "text": [
      "Can't get connection to https://ivie.vn/cong-dong?page=3781! Try again in 3 seconds.\n"
     ]
    },
    {
     "name": "stderr",
     "output_type": "stream",
     "text": [
      "Processing page 3782: : 0it [00:00, ?it/s]\n"
     ]
    },
    {
     "name": "stdout",
     "output_type": "stream",
     "text": [
      "Can't get connection to https://ivie.vn/cong-dong?page=3783! Try again in 3 seconds.\n",
      "Can't get connection to https://ivie.vn/cong-dong?page=3779! Try again in 3 seconds.\n"
     ]
    },
    {
     "name": "stderr",
     "output_type": "stream",
     "text": [
      "Processing page 3780: : 0it [00:00, ?it/s]\n",
      "Processing page 3784: : 0it [00:00, ?it/s]\n",
      "Processing page 3781: : 0it [00:00, ?it/s]\n",
      "Processing page 3785: : 0it [00:00, ?it/s]\n",
      "Processing page 3783: : 0it [00:00, ?it/s]\n",
      "Processing page 3786: : 0it [00:00, ?it/s]\n"
     ]
    },
    {
     "name": "stdout",
     "output_type": "stream",
     "text": [
      "Can't get connection to https://ivie.vn/cong-dong?page=3787! Try again in 3 seconds.\n",
      "Can't get connection to https://ivie.vn/cong-dong?page=3779! Try again in 3 seconds.\n"
     ]
    },
    {
     "name": "stderr",
     "output_type": "stream",
     "text": [
      "Processing page 3788: : 0it [00:00, ?it/s]\n",
      "Processing page 3789: : 0it [00:00, ?it/s]\n",
      "Processing page 3790: : 0it [00:00, ?it/s]\n"
     ]
    },
    {
     "name": "stdout",
     "output_type": "stream",
     "text": [
      "Can't get connection to https://ivie.vn/cong-dong?page=3779! Try again in 3 seconds.\n"
     ]
    },
    {
     "name": "stderr",
     "output_type": "stream",
     "text": [
      "Processing page 3787: : 0it [00:00, ?it/s]\n"
     ]
    },
    {
     "name": "stdout",
     "output_type": "stream",
     "text": [
      "Can't get connection to https://ivie.vn/cong-dong?page=3791! Try again in 3 seconds.\n",
      "Can't get connection to https://ivie.vn/cong-dong?page=3792! Try again in 3 seconds.\n"
     ]
    },
    {
     "name": "stderr",
     "output_type": "stream",
     "text": [
      "Processing page 3793: : 0it [00:00, ?it/s]\n",
      "Processing page 3795: : 0it [00:00, ?it/s]\n",
      "Processing page 3794: : 0it [00:00, ?it/s]\n"
     ]
    },
    {
     "name": "stdout",
     "output_type": "stream",
     "text": [
      "Can't get connection to https://ivie.vn/cong-dong?page=3779! Try again in 3 seconds.\n",
      "Can't get connection to https://ivie.vn/cong-dong?page=3792! Try again in 3 seconds.\n"
     ]
    },
    {
     "name": "stderr",
     "output_type": "stream",
     "text": [
      "Processing page 3791: : 0it [00:00, ?it/s]\n",
      "Processing page 3796: : 0it [00:00, ?it/s]\n"
     ]
    },
    {
     "name": "stdout",
     "output_type": "stream",
     "text": [
      "Can't get connection to https://ivie.vn/cong-dong?page=3798! Try again in 3 seconds.\n",
      "Can't get connection to https://ivie.vn/cong-dong?page=3797! Try again in 3 seconds.\n",
      "Can't get connection to https://ivie.vn/cong-dong?page=3779! Try again in 3 seconds.\n"
     ]
    },
    {
     "name": "stderr",
     "output_type": "stream",
     "text": [
      "Processing page 3792: : 0it [00:00, ?it/s]\n"
     ]
    },
    {
     "name": "stdout",
     "output_type": "stream",
     "text": [
      "Can't get connection to https://ivie.vn/cong-dong?page=3799! Try again in 3 seconds.\n"
     ]
    },
    {
     "name": "stderr",
     "output_type": "stream",
     "text": [
      "Processing page 3800: : 0it [00:00, ?it/s]\n"
     ]
    },
    {
     "name": "stdout",
     "output_type": "stream",
     "text": [
      "Can't get connection to https://ivie.vn/cong-dong?page=3797! Try again in 3 seconds.\n"
     ]
    },
    {
     "name": "stderr",
     "output_type": "stream",
     "text": [
      "Processing page 3798: : 0it [00:00, ?it/s]\n",
      "Processing page 3779: : 0it [00:00, ?it/s]\n"
     ]
    },
    {
     "name": "stdout",
     "output_type": "stream",
     "text": [
      "Can't get connection to https://ivie.vn/cong-dong?page=3801! Try again in 3 seconds.\n"
     ]
    },
    {
     "name": "stderr",
     "output_type": "stream",
     "text": [
      "Processing page 3799: : 0it [00:00, ?it/s]\n",
      "Processing page 3802: : 0it [00:00, ?it/s]\n",
      "Processing page 3803: : 0it [00:00, ?it/s]\n"
     ]
    },
    {
     "name": "stdout",
     "output_type": "stream",
     "text": [
      "Can't get connection to https://ivie.vn/cong-dong?page=3797! Try again in 3 seconds.\n"
     ]
    },
    {
     "name": "stderr",
     "output_type": "stream",
     "text": [
      "Processing page 3805: : 0it [00:00, ?it/s]\n",
      "Processing page 3804: : 0it [00:00, ?it/s]\n",
      "Processing page 3801: : 0it [00:00, ?it/s]\n",
      "Processing page 3806: : 0it [00:00, ?it/s]\n",
      "Processing page 3797: : 0it [00:00, ?it/s]\n",
      "Processing page 3808: : 0it [00:00, ?it/s]\n",
      "Processing page 3809: : 0it [00:00, ?it/s]\n",
      "Processing page 3807: : 0it [00:00, ?it/s]\n"
     ]
    },
    {
     "name": "stdout",
     "output_type": "stream",
     "text": [
      "Can't get connection to https://ivie.vn/cong-dong?page=3811! Try again in 3 seconds.\n",
      "Can't get connection to https://ivie.vn/cong-dong?page=3810! Try again in 3 seconds.\n",
      "Can't get connection to https://ivie.vn/cong-dong?page=3812! Try again in 3 seconds.\n"
     ]
    },
    {
     "name": "stderr",
     "output_type": "stream",
     "text": [
      "Processing page 3814: : 0it [00:00, ?it/s]\n"
     ]
    },
    {
     "name": "stdout",
     "output_type": "stream",
     "text": [
      "Can't get connection to https://ivie.vn/cong-dong?page=3811! Try again in 3 seconds.\n",
      "Can't get connection to https://ivie.vn/cong-dong?page=3810! Try again in 3 seconds.\n"
     ]
    },
    {
     "name": "stderr",
     "output_type": "stream",
     "text": [
      "Processing page 3812: : 0it [00:00, ?it/s]\n",
      "Processing page 3815: : 0it [00:00, ?it/s]\n"
     ]
    },
    {
     "name": "stdout",
     "output_type": "stream",
     "text": [
      "Can't get connection to https://ivie.vn/cong-dong?page=3813! Try again in 3 seconds.\n",
      "Can't get connection to https://ivie.vn/cong-dong?page=3816! Try again in 3 seconds.\n"
     ]
    },
    {
     "name": "stderr",
     "output_type": "stream",
     "text": [
      "Processing page 3817: : 0it [00:00, ?it/s]\n"
     ]
    },
    {
     "name": "stdout",
     "output_type": "stream",
     "text": [
      "Can't get connection to https://ivie.vn/cong-dong?page=3811! Try again in 3 seconds.\n",
      "Can't get connection to https://ivie.vn/cong-dong?page=3810! Try again in 3 seconds.\n"
     ]
    },
    {
     "name": "stderr",
     "output_type": "stream",
     "text": [
      "Processing page 3813: : 0it [00:00, ?it/s]\n",
      "Processing page 3818: : 0it [00:00, ?it/s]\n",
      "Processing page 3816: : 0it [00:00, ?it/s]\n",
      "Processing page 3811: : 0it [00:00, ?it/s]\n",
      "Processing page 3819: : 0it [00:00, ?it/s]\n"
     ]
    },
    {
     "name": "stdout",
     "output_type": "stream",
     "text": [
      "Can't get connection to https://ivie.vn/cong-dong?page=3810! Try again in 3 seconds.\n"
     ]
    },
    {
     "name": "stderr",
     "output_type": "stream",
     "text": [
      "Processing page 3820: : 0it [00:00, ?it/s]\n",
      "Processing page 3821: : 0it [00:00, ?it/s]\n",
      "Processing page 3823: : 0it [00:00, ?it/s]\n",
      "Processing page 3822: : 0it [00:00, ?it/s]\n"
     ]
    },
    {
     "name": "stdout",
     "output_type": "stream",
     "text": [
      "Can't get connection to https://ivie.vn/cong-dong?page=3824! Try again in 3 seconds.\n"
     ]
    },
    {
     "name": "stderr",
     "output_type": "stream",
     "text": [
      "Processing page 3810: : 0it [00:00, ?it/s]\n"
     ]
    },
    {
     "name": "stdout",
     "output_type": "stream",
     "text": [
      "Can't get connection to https://ivie.vn/cong-dong?page=3825! Try again in 3 seconds.\n"
     ]
    },
    {
     "name": "stderr",
     "output_type": "stream",
     "text": [
      "Processing page 3826: : 0it [00:00, ?it/s]\n",
      "Processing page 3827: : 0it [00:00, ?it/s]\n"
     ]
    },
    {
     "name": "stdout",
     "output_type": "stream",
     "text": [
      "Can't get connection to https://ivie.vn/cong-dong?page=3828! Try again in 3 seconds.\n"
     ]
    },
    {
     "name": "stderr",
     "output_type": "stream",
     "text": [
      "Processing page 3824: : 0it [00:00, ?it/s]\n",
      "Processing page 3825: : 0it [00:00, ?it/s]\n",
      "Processing page 3829: : 0it [00:00, ?it/s]\n",
      "Processing page 3830: : 0it [00:00, ?it/s]\n",
      "Processing page 3828: : 0it [00:00, ?it/s]\n",
      "Processing page 3832: : 0it [00:00, ?it/s]\n",
      "Processing page 3831: : 0it [00:00, ?it/s]\n",
      "Processing page 3833: : 0it [00:00, ?it/s]\n",
      "Processing page 3834: : 0it [00:00, ?it/s]\n"
     ]
    },
    {
     "name": "stdout",
     "output_type": "stream",
     "text": [
      "Can't get connection to https://ivie.vn/cong-dong?page=3835! Try again in 3 seconds.\n",
      "Can't get connection to https://ivie.vn/cong-dong?page=3836! Try again in 3 seconds.\n"
     ]
    },
    {
     "name": "stderr",
     "output_type": "stream",
     "text": [
      "Processing page 3837: : 0it [00:00, ?it/s]\n",
      "Processing page 3838: : 0it [00:00, ?it/s]\n",
      "Processing page 3839: : 0it [00:00, ?it/s]\n"
     ]
    },
    {
     "name": "stdout",
     "output_type": "stream",
     "text": [
      "Can't get connection to https://ivie.vn/cong-dong?page=3835! Try again in 3 seconds.\n"
     ]
    },
    {
     "name": "stderr",
     "output_type": "stream",
     "text": [
      "Processing page 3840: : 0it [00:00, ?it/s]\n"
     ]
    },
    {
     "name": "stdout",
     "output_type": "stream",
     "text": [
      "Can't get connection to https://ivie.vn/cong-dong?page=3841! Try again in 3 seconds.\n"
     ]
    },
    {
     "name": "stderr",
     "output_type": "stream",
     "text": [
      "Processing page 3836: : 0it [00:00, ?it/s]\n",
      "Processing page 3842: : 0it [00:00, ?it/s]\n",
      "Processing page 3843: : 0it [00:00, ?it/s]\n",
      "Processing page 3835: : 0it [00:00, ?it/s]\n"
     ]
    },
    {
     "name": "stdout",
     "output_type": "stream",
     "text": [
      "Can't get connection to https://ivie.vn/cong-dong?page=3844! Try again in 3 seconds.\n"
     ]
    },
    {
     "name": "stderr",
     "output_type": "stream",
     "text": [
      "Processing page 3845: : 0it [00:00, ?it/s]\n"
     ]
    },
    {
     "name": "stdout",
     "output_type": "stream",
     "text": [
      "Can't get connection to https://ivie.vn/cong-dong?page=3841! Try again in 3 seconds.\n"
     ]
    },
    {
     "name": "stderr",
     "output_type": "stream",
     "text": [
      "Processing page 3846: : 0it [00:00, ?it/s]\n"
     ]
    },
    {
     "name": "stdout",
     "output_type": "stream",
     "text": [
      "Can't get connection to https://ivie.vn/cong-dong?page=3848! Try again in 3 seconds.\n",
      "Can't get connection to https://ivie.vn/cong-dong?page=3847! Try again in 3 seconds.\n"
     ]
    },
    {
     "name": "stderr",
     "output_type": "stream",
     "text": [
      "Processing page 3844: : 0it [00:00, ?it/s]\n",
      "Processing page 3849: : 0it [00:00, ?it/s]\n",
      "Processing page 3841: : 0it [00:00, ?it/s]\n",
      "Processing page 3848: : 0it [00:00, ?it/s]\n",
      "Processing page 3847: : 0it [00:00, ?it/s]\n",
      "Processing page 3850: : 0it [00:00, ?it/s]\n",
      "Processing page 3851: : 0it [00:00, ?it/s]\n",
      "Processing page 3852: : 0it [00:00, ?it/s]\n",
      "Processing page 3854: : 0it [00:00, ?it/s]\n",
      "Processing page 3855: : 0it [00:00, ?it/s]\n",
      "Processing page 3853: : 0it [00:00, ?it/s]\n",
      "Processing page 3857: : 0it [00:00, ?it/s]\n",
      "Processing page 3856: : 0it [00:00, ?it/s]\n",
      "Processing page 3858: : 0it [00:00, ?it/s]\n"
     ]
    },
    {
     "name": "stdout",
     "output_type": "stream",
     "text": [
      "Can't get connection to https://ivie.vn/cong-dong?page=3859! Try again in 3 seconds.\n"
     ]
    },
    {
     "name": "stderr",
     "output_type": "stream",
     "text": [
      "Processing page 3860: : 0it [00:00, ?it/s]\n",
      "Processing page 3862: : 0it [00:00, ?it/s]\n"
     ]
    },
    {
     "name": "stdout",
     "output_type": "stream",
     "text": [
      "Can't get connection to https://ivie.vn/cong-dong?page=3861! Try again in 3 seconds.\n"
     ]
    },
    {
     "name": "stderr",
     "output_type": "stream",
     "text": [
      "Processing page 3864: : 0it [00:00, ?it/s]\n"
     ]
    },
    {
     "name": "stdout",
     "output_type": "stream",
     "text": [
      "Can't get connection to https://ivie.vn/cong-dong?page=3863! Try again in 3 seconds.\n",
      "Can't get connection to https://ivie.vn/cong-dong?page=3859! Try again in 3 seconds.\n",
      "Can't get connection to https://ivie.vn/cong-dong?page=3865! Try again in 3 seconds.\n"
     ]
    },
    {
     "name": "stderr",
     "output_type": "stream",
     "text": [
      "Processing page 3861: : 0it [00:00, ?it/s]\n",
      "Processing page 3863: : 0it [00:00, ?it/s]\n"
     ]
    },
    {
     "name": "stdout",
     "output_type": "stream",
     "text": [
      "Can't get connection to https://ivie.vn/cong-dong?page=3866! Try again in 3 seconds.\n",
      "Can't get connection to https://ivie.vn/cong-dong?page=3865! Try again in 3 seconds.\n"
     ]
    },
    {
     "name": "stderr",
     "output_type": "stream",
     "text": [
      "Processing page 3859: : 0it [00:00, ?it/s]\n",
      "Processing page 3867: : 0it [00:00, ?it/s]\n",
      "Processing page 3868: : 0it [00:00, ?it/s]\n"
     ]
    },
    {
     "name": "stdout",
     "output_type": "stream",
     "text": [
      "Can't get connection to https://ivie.vn/cong-dong?page=3866! Try again in 3 seconds.\n",
      "Can't get connection to https://ivie.vn/cong-dong?page=3869! Try again in 3 seconds.\n"
     ]
    },
    {
     "name": "stderr",
     "output_type": "stream",
     "text": [
      "Processing page 3870: : 0it [00:00, ?it/s]\n",
      "Processing page 3865: : 0it [00:00, ?it/s]\n",
      "Processing page 3871: : 0it [00:00, ?it/s]\n",
      "Processing page 3866: : 0it [00:00, ?it/s]\n"
     ]
    },
    {
     "name": "stdout",
     "output_type": "stream",
     "text": [
      "Can't get connection to https://ivie.vn/cong-dong?page=3872! Try again in 3 seconds.\n"
     ]
    },
    {
     "name": "stderr",
     "output_type": "stream",
     "text": [
      "Processing page 3869: : 0it [00:00, ?it/s]\n"
     ]
    },
    {
     "name": "stdout",
     "output_type": "stream",
     "text": [
      "Can't get connection to https://ivie.vn/cong-dong?page=3873! Try again in 3 seconds.\n"
     ]
    },
    {
     "name": "stderr",
     "output_type": "stream",
     "text": [
      "Processing page 3874: : 0it [00:00, ?it/s]\n",
      "Processing page 3875: : 0it [00:00, ?it/s]\n"
     ]
    },
    {
     "name": "stdout",
     "output_type": "stream",
     "text": [
      "Can't get connection to https://ivie.vn/cong-dong?page=3877! Try again in 3 seconds.\n",
      "Can't get connection to https://ivie.vn/cong-dong?page=3876! Try again in 3 seconds.\n"
     ]
    },
    {
     "name": "stderr",
     "output_type": "stream",
     "text": [
      "Processing page 3873: : 0it [00:00, ?it/s]\n"
     ]
    },
    {
     "name": "stdout",
     "output_type": "stream",
     "text": [
      "Can't get connection to https://ivie.vn/cong-dong?page=3872! Try again in 3 seconds.\n",
      "Can't get connection to https://ivie.vn/cong-dong?page=3878! Try again in 3 seconds.\n",
      "Can't get connection to https://ivie.vn/cong-dong?page=3879! Try again in 3 seconds.\n"
     ]
    },
    {
     "name": "stderr",
     "output_type": "stream",
     "text": [
      "Processing page 3877: : 0it [00:00, ?it/s]\n",
      "Processing page 3876: : 0it [00:00, ?it/s]\n",
      "Processing page 3872: : 0it [00:00, ?it/s]\n"
     ]
    },
    {
     "name": "stdout",
     "output_type": "stream",
     "text": [
      "Can't get connection to https://ivie.vn/cong-dong?page=3881! Try again in 3 seconds.\n"
     ]
    },
    {
     "name": "stderr",
     "output_type": "stream",
     "text": [
      "Processing page 3880: : 0it [00:00, ?it/s]\n",
      "Processing page 3882: : 0it [00:00, ?it/s]\n"
     ]
    },
    {
     "name": "stdout",
     "output_type": "stream",
     "text": [
      "Can't get connection to https://ivie.vn/cong-dong?page=3878! Try again in 3 seconds.\n"
     ]
    },
    {
     "name": "stderr",
     "output_type": "stream",
     "text": [
      "Processing page 3879: : 0it [00:00, ?it/s]\n"
     ]
    },
    {
     "name": "stdout",
     "output_type": "stream",
     "text": [
      "Can't get connection to https://ivie.vn/cong-dong?page=3884! Try again in 3 seconds.\n"
     ]
    },
    {
     "name": "stderr",
     "output_type": "stream",
     "text": [
      "Processing page 3883: : 0it [00:00, ?it/s]\n"
     ]
    },
    {
     "name": "stdout",
     "output_type": "stream",
     "text": [
      "Can't get connection to https://ivie.vn/cong-dong?page=3878! Try again in 3 seconds.\n",
      "Can't get connection to https://ivie.vn/cong-dong?page=3881! Try again in 3 seconds.\n",
      "Can't get connection to https://ivie.vn/cong-dong?page=3885! Try again in 3 seconds.\n",
      "Can't get connection to https://ivie.vn/cong-dong?page=3886! Try again in 3 seconds.\n"
     ]
    },
    {
     "name": "stderr",
     "output_type": "stream",
     "text": [
      "Processing page 3884: : 0it [00:00, ?it/s]\n",
      "Processing page 3885: : 0it [00:00, ?it/s]\n",
      "Processing page 3881: : 0it [00:00, ?it/s]\n",
      "Processing page 3878: : 0it [00:00, ?it/s]\n"
     ]
    },
    {
     "name": "stdout",
     "output_type": "stream",
     "text": [
      "Can't get connection to https://ivie.vn/cong-dong?page=3886! Try again in 3 seconds.\n"
     ]
    },
    {
     "name": "stderr",
     "output_type": "stream",
     "text": [
      "Processing page 3887: : 0it [00:00, ?it/s]\n",
      "Processing page 3888: : 0it [00:00, ?it/s]\n",
      "Processing page 3889: : 0it [00:00, ?it/s]\n"
     ]
    },
    {
     "name": "stdout",
     "output_type": "stream",
     "text": [
      "Can't get connection to https://ivie.vn/cong-dong?page=3890! Try again in 3 seconds.\n",
      "Can't get connection to https://ivie.vn/cong-dong?page=3891! Try again in 3 seconds.\n"
     ]
    },
    {
     "name": "stderr",
     "output_type": "stream",
     "text": [
      "Processing page 3886: : 0it [00:00, ?it/s]\n",
      "Processing page 3892: : 0it [00:00, ?it/s]\n",
      "Processing page 3893: : 0it [00:00, ?it/s]\n",
      "Processing page 3890: : 0it [00:00, ?it/s]\n"
     ]
    },
    {
     "name": "stdout",
     "output_type": "stream",
     "text": [
      "Can't get connection to https://ivie.vn/cong-dong?page=3895! Try again in 3 seconds.\n"
     ]
    },
    {
     "name": "stderr",
     "output_type": "stream",
     "text": [
      "Processing page 3894: : 0it [00:00, ?it/s]\n"
     ]
    },
    {
     "name": "stdout",
     "output_type": "stream",
     "text": [
      "Can't get connection to https://ivie.vn/cong-dong?page=3891! Try again in 3 seconds.\n",
      "Can't get connection to https://ivie.vn/cong-dong?page=3896! Try again in 3 seconds.\n",
      "Can't get connection to https://ivie.vn/cong-dong?page=3897! Try again in 3 seconds.\n"
     ]
    },
    {
     "name": "stderr",
     "output_type": "stream",
     "text": [
      "Processing page 3898: : 0it [00:00, ?it/s]\n"
     ]
    },
    {
     "name": "stdout",
     "output_type": "stream",
     "text": [
      "Can't get connection to https://ivie.vn/cong-dong?page=3895! Try again in 3 seconds.\n"
     ]
    },
    {
     "name": "stderr",
     "output_type": "stream",
     "text": [
      "Processing page 3896: : 0it [00:00, ?it/s]\n"
     ]
    },
    {
     "name": "stdout",
     "output_type": "stream",
     "text": [
      "Can't get connection to https://ivie.vn/cong-dong?page=3891! Try again in 3 seconds.\n",
      "Can't get connection to https://ivie.vn/cong-dong?page=3897! Try again in 3 seconds.\n"
     ]
    },
    {
     "name": "stderr",
     "output_type": "stream",
     "text": [
      "Processing page 3899: : 0it [00:00, ?it/s]\n",
      "Processing page 3895: : 0it [00:00, ?it/s]\n"
     ]
    },
    {
     "name": "stdout",
     "output_type": "stream",
     "text": [
      "Can't get connection to https://ivie.vn/cong-dong?page=3897! Try again in 3 seconds.\n",
      "Can't get connection to https://ivie.vn/cong-dong?page=3900! Try again in 3 seconds.\n"
     ]
    },
    {
     "name": "stderr",
     "output_type": "stream",
     "text": [
      "Processing page 3891: : 0it [00:00, ?it/s]\n",
      "Processing page 3901: : 0it [00:00, ?it/s]\n",
      "Processing page 3902: : 0it [00:00, ?it/s]\n",
      "Processing page 3900: : 0it [00:00, ?it/s]\n",
      "Processing page 3903: : 0it [00:00, ?it/s]\n"
     ]
    },
    {
     "name": "stdout",
     "output_type": "stream",
     "text": [
      "Can't get connection to https://ivie.vn/cong-dong?page=3897! Try again in 3 seconds.\n"
     ]
    },
    {
     "name": "stderr",
     "output_type": "stream",
     "text": [
      "Processing page 3904: : 0it [00:00, ?it/s]\n"
     ]
    },
    {
     "name": "stdout",
     "output_type": "stream",
     "text": [
      "Can't get connection to https://ivie.vn/cong-dong?page=3905! Try again in 3 seconds.\n"
     ]
    },
    {
     "name": "stderr",
     "output_type": "stream",
     "text": [
      "Processing page 3907: : 0it [00:00, ?it/s]\n"
     ]
    },
    {
     "name": "stdout",
     "output_type": "stream",
     "text": [
      "Can't get connection to https://ivie.vn/cong-dong?page=3908! Try again in 3 seconds.\n",
      "Can't get connection to https://ivie.vn/cong-dong?page=3906! Try again in 3 seconds.\n",
      "Can't get connection to https://ivie.vn/cong-dong?page=3897! Try again in 3 seconds.\n",
      "Can't get connection to https://ivie.vn/cong-dong?page=3905! Try again in 3 seconds.\n"
     ]
    },
    {
     "name": "stderr",
     "output_type": "stream",
     "text": [
      "Processing page 3909: : 0it [00:00, ?it/s]\n",
      "Processing page 3906: : 0it [00:00, ?it/s]\n"
     ]
    },
    {
     "name": "stdout",
     "output_type": "stream",
     "text": [
      "Can't get connection to https://ivie.vn/cong-dong?page=3908! Try again in 3 seconds.\n",
      "Can't get connection to https://ivie.vn/cong-dong?page=3897! Try again in 3 seconds.\n",
      "Can't get connection to https://ivie.vn/cong-dong?page=3905! Try again in 3 seconds.\n"
     ]
    },
    {
     "name": "stderr",
     "output_type": "stream",
     "text": [
      "Processing page 3910: : 0it [00:00, ?it/s]\n"
     ]
    },
    {
     "name": "stdout",
     "output_type": "stream",
     "text": [
      "Can't get connection to https://ivie.vn/cong-dong?page=3911! Try again in 3 seconds.\n"
     ]
    },
    {
     "name": "stderr",
     "output_type": "stream",
     "text": [
      "Processing page 3908: : 0it [00:00, ?it/s]\n"
     ]
    },
    {
     "name": "stdout",
     "output_type": "stream",
     "text": [
      "Can't get connection to https://ivie.vn/cong-dong?page=3912! Try again in 3 seconds.\n",
      "Can't get connection to https://ivie.vn/cong-dong?page=3905! Try again in 3 seconds.\n",
      "Can't get connection to https://ivie.vn/cong-dong?page=3897! Try again in 3 seconds.\n",
      "Can't get connection to https://ivie.vn/cong-dong?page=3911! Try again in 3 seconds.\n"
     ]
    },
    {
     "name": "stderr",
     "output_type": "stream",
     "text": [
      "Processing page 3913: : 0it [00:00, ?it/s]\n"
     ]
    },
    {
     "name": "stdout",
     "output_type": "stream",
     "text": [
      "Can't get connection to https://ivie.vn/cong-dong?page=3912! Try again in 3 seconds.\n"
     ]
    },
    {
     "name": "stderr",
     "output_type": "stream",
     "text": [
      "Processing page 3897: : 0it [00:00, ?it/s]\n",
      "Processing page 3905: : 0it [00:00, ?it/s]\n",
      "Processing page 3914: : 0it [00:00, ?it/s]\n",
      "Processing page 3911: : 0it [00:00, ?it/s]\n"
     ]
    },
    {
     "name": "stdout",
     "output_type": "stream",
     "text": [
      "Can't get connection to https://ivie.vn/cong-dong?page=3915! Try again in 3 seconds.\n"
     ]
    },
    {
     "name": "stderr",
     "output_type": "stream",
     "text": [
      "Processing page 3916: : 0it [00:00, ?it/s]\n"
     ]
    },
    {
     "name": "stdout",
     "output_type": "stream",
     "text": [
      "Can't get connection to https://ivie.vn/cong-dong?page=3917! Try again in 3 seconds.\n"
     ]
    },
    {
     "name": "stderr",
     "output_type": "stream",
     "text": [
      "Processing page 3912: : 0it [00:00, ?it/s]\n",
      "Processing page 3918: : 0it [00:00, ?it/s]\n",
      "Processing page 3919: : 0it [00:00, ?it/s]\n",
      "Processing page 3920: : 0it [00:00, ?it/s]\n",
      "Processing page 3921: : 0it [00:00, ?it/s]\n",
      "Processing page 3915: : 0it [00:00, ?it/s]\n"
     ]
    },
    {
     "name": "stdout",
     "output_type": "stream",
     "text": [
      "Can't get connection to https://ivie.vn/cong-dong?page=3917! Try again in 3 seconds.\n",
      "Can't get connection to https://ivie.vn/cong-dong?page=3923! Try again in 3 seconds.\n"
     ]
    },
    {
     "name": "stderr",
     "output_type": "stream",
     "text": [
      "Processing page 3924: : 0it [00:00, ?it/s]\n"
     ]
    },
    {
     "name": "stdout",
     "output_type": "stream",
     "text": [
      "Can't get connection to https://ivie.vn/cong-dong?page=3922! Try again in 3 seconds.\n"
     ]
    },
    {
     "name": "stderr",
     "output_type": "stream",
     "text": [
      "Processing page 3925: : 0it [00:00, ?it/s]\n",
      "Processing page 3917: : 0it [00:00, ?it/s]\n",
      "Processing page 3926: : 0it [00:00, ?it/s]\n",
      "Processing page 3922: : 0it [00:00, ?it/s]\n",
      "Processing page 3923: : 0it [00:00, ?it/s]\n",
      "Processing page 3927: : 0it [00:00, ?it/s]\n",
      "Processing page 3928: : 0it [00:00, ?it/s]\n",
      "Processing page 3929: : 0it [00:00, ?it/s]\n",
      "Processing page 3932: : 0it [00:00, ?it/s]\n"
     ]
    },
    {
     "name": "stdout",
     "output_type": "stream",
     "text": [
      "Can't get connection to https://ivie.vn/cong-dong?page=3930! Try again in 3 seconds.\n",
      "Can't get connection to https://ivie.vn/cong-dong?page=3931! Try again in 3 seconds.\n"
     ]
    },
    {
     "name": "stderr",
     "output_type": "stream",
     "text": [
      "Processing page 3933: : 0it [00:00, ?it/s]\n"
     ]
    },
    {
     "name": "stdout",
     "output_type": "stream",
     "text": [
      "Can't get connection to https://ivie.vn/cong-dong?page=3934! Try again in 3 seconds.\n"
     ]
    },
    {
     "name": "stderr",
     "output_type": "stream",
     "text": [
      "Processing page 3935: : 0it [00:00, ?it/s]\n"
     ]
    },
    {
     "name": "stdout",
     "output_type": "stream",
     "text": [
      "Can't get connection to https://ivie.vn/cong-dong?page=3931! Try again in 3 seconds.\n",
      "Can't get connection to https://ivie.vn/cong-dong?page=3930! Try again in 3 seconds.\n",
      "Can't get connection to https://ivie.vn/cong-dong?page=3936! Try again in 3 seconds.\n"
     ]
    },
    {
     "name": "stderr",
     "output_type": "stream",
     "text": [
      "Processing page 3934: : 0it [00:00, ?it/s]\n"
     ]
    },
    {
     "name": "stdout",
     "output_type": "stream",
     "text": [
      "Can't get connection to https://ivie.vn/cong-dong?page=3937! Try again in 3 seconds.\n",
      "Can't get connection to https://ivie.vn/cong-dong?page=3931! Try again in 3 seconds.\n"
     ]
    },
    {
     "name": "stderr",
     "output_type": "stream",
     "text": [
      "Processing page 3930: : 0it [00:00, ?it/s]\n",
      "Processing page 3938: : 0it [00:00, ?it/s]\n"
     ]
    },
    {
     "name": "stdout",
     "output_type": "stream",
     "text": [
      "Can't get connection to https://ivie.vn/cong-dong?page=3936! Try again in 3 seconds.\n",
      "Can't get connection to https://ivie.vn/cong-dong?page=3937! Try again in 3 seconds.\n"
     ]
    },
    {
     "name": "stderr",
     "output_type": "stream",
     "text": [
      "Processing page 3939: : 0it [00:00, ?it/s]\n",
      "Processing page 3940: : 0it [00:00, ?it/s]\n",
      "Processing page 3931: : 0it [00:00, ?it/s]\n"
     ]
    },
    {
     "name": "stdout",
     "output_type": "stream",
     "text": [
      "Can't get connection to https://ivie.vn/cong-dong?page=3941! Try again in 3 seconds.\n"
     ]
    },
    {
     "name": "stderr",
     "output_type": "stream",
     "text": [
      "Processing page 3937: : 0it [00:00, ?it/s]\n"
     ]
    },
    {
     "name": "stdout",
     "output_type": "stream",
     "text": [
      "Can't get connection to https://ivie.vn/cong-dong?page=3936! Try again in 3 seconds.\n"
     ]
    },
    {
     "name": "stderr",
     "output_type": "stream",
     "text": [
      "Processing page 3942: : 0it [00:00, ?it/s]\n"
     ]
    },
    {
     "name": "stdout",
     "output_type": "stream",
     "text": [
      "Can't get connection to https://ivie.vn/cong-dong?page=3943! Try again in 3 seconds.\n"
     ]
    },
    {
     "name": "stderr",
     "output_type": "stream",
     "text": [
      "Processing page 3944: : 0it [00:00, ?it/s]\n",
      "Processing page 3936: : 0it [00:00, ?it/s]\n",
      "Processing page 3941: : 0it [00:00, ?it/s]\n",
      "Processing page 3943: : 0it [00:00, ?it/s]\n"
     ]
    },
    {
     "name": "stdout",
     "output_type": "stream",
     "text": [
      "Can't get connection to https://ivie.vn/cong-dong?page=3945! Try again in 3 seconds.\n"
     ]
    },
    {
     "name": "stderr",
     "output_type": "stream",
     "text": [
      "Processing page 3946: : 0it [00:00, ?it/s]\n",
      "Processing page 3947: : 0it [00:00, ?it/s]\n"
     ]
    },
    {
     "name": "stdout",
     "output_type": "stream",
     "text": [
      "Can't get connection to https://ivie.vn/cong-dong?page=3948! Try again in 3 seconds.\n"
     ]
    },
    {
     "name": "stderr",
     "output_type": "stream",
     "text": [
      "Processing page 3949: : 0it [00:00, ?it/s]\n"
     ]
    },
    {
     "name": "stdout",
     "output_type": "stream",
     "text": [
      "Can't get connection to https://ivie.vn/cong-dong?page=3945! Try again in 3 seconds.\n"
     ]
    },
    {
     "name": "stderr",
     "output_type": "stream",
     "text": [
      "Processing page 3950: : 0it [00:00, ?it/s]\n"
     ]
    },
    {
     "name": "stdout",
     "output_type": "stream",
     "text": [
      "Can't get connection to https://ivie.vn/cong-dong?page=3951! Try again in 3 seconds.\n"
     ]
    },
    {
     "name": "stderr",
     "output_type": "stream",
     "text": [
      "Processing page 3952: : 0it [00:00, ?it/s]\n",
      "Processing page 3948: : 0it [00:00, ?it/s]\n"
     ]
    },
    {
     "name": "stdout",
     "output_type": "stream",
     "text": [
      "Can't get connection to https://ivie.vn/cong-dong?page=3945! Try again in 3 seconds.\n"
     ]
    },
    {
     "name": "stderr",
     "output_type": "stream",
     "text": [
      "Processing page 3954: : 0it [00:00, ?it/s]\n"
     ]
    },
    {
     "name": "stdout",
     "output_type": "stream",
     "text": [
      "Can't get connection to https://ivie.vn/cong-dong?page=3951! Try again in 3 seconds.\n",
      "Can't get connection to https://ivie.vn/cong-dong?page=3953! Try again in 3 seconds.\n"
     ]
    },
    {
     "name": "stderr",
     "output_type": "stream",
     "text": [
      "Processing page 3955: : 0it [00:00, ?it/s]\n"
     ]
    },
    {
     "name": "stdout",
     "output_type": "stream",
     "text": [
      "Can't get connection to https://ivie.vn/cong-dong?page=3945! Try again in 3 seconds.\n",
      "Can't get connection to https://ivie.vn/cong-dong?page=3956! Try again in 3 seconds.\n",
      "Can't get connection to https://ivie.vn/cong-dong?page=3951! Try again in 3 seconds.\n"
     ]
    },
    {
     "name": "stderr",
     "output_type": "stream",
     "text": [
      "Processing page 3957: : 0it [00:00, ?it/s]\n",
      "Processing page 3953: : 0it [00:00, ?it/s]\n",
      "Processing page 3945: : 0it [00:00, ?it/s]\n",
      "Processing page 3956: : 0it [00:00, ?it/s]\n",
      "Processing page 3958: : 0it [00:00, ?it/s]\n",
      "Processing page 3959: : 0it [00:00, ?it/s]\n",
      "Processing page 3951: : 0it [00:00, ?it/s]\n",
      "Processing page 3961: : 0it [00:00, ?it/s]\n"
     ]
    },
    {
     "name": "stdout",
     "output_type": "stream",
     "text": [
      "Can't get connection to https://ivie.vn/cong-dong?page=3962! Try again in 3 seconds.\n"
     ]
    },
    {
     "name": "stderr",
     "output_type": "stream",
     "text": [
      "Processing page 3963: : 0it [00:00, ?it/s]\n"
     ]
    },
    {
     "name": "stdout",
     "output_type": "stream",
     "text": [
      "Can't get connection to https://ivie.vn/cong-dong?page=3960! Try again in 3 seconds.\n"
     ]
    },
    {
     "name": "stderr",
     "output_type": "stream",
     "text": [
      "Processing page 3964: : 0it [00:00, ?it/s]\n",
      "Processing page 3965: : 0it [00:00, ?it/s]\n",
      "Processing page 3960: : 0it [00:00, ?it/s]\n"
     ]
    },
    {
     "name": "stdout",
     "output_type": "stream",
     "text": [
      "Can't get connection to https://ivie.vn/cong-dong?page=3962! Try again in 3 seconds.\n"
     ]
    },
    {
     "name": "stderr",
     "output_type": "stream",
     "text": [
      "Processing page 3966: : 0it [00:00, ?it/s]\n"
     ]
    },
    {
     "name": "stdout",
     "output_type": "stream",
     "text": [
      "Can't get connection to https://ivie.vn/cong-dong?page=3967! Try again in 3 seconds.\n"
     ]
    },
    {
     "name": "stderr",
     "output_type": "stream",
     "text": [
      "Processing page 3968: : 0it [00:00, ?it/s]\n"
     ]
    },
    {
     "name": "stdout",
     "output_type": "stream",
     "text": [
      "Can't get connection to https://ivie.vn/cong-dong?page=3969! Try again in 3 seconds.\n"
     ]
    },
    {
     "name": "stderr",
     "output_type": "stream",
     "text": [
      "Processing page 3970: : 0it [00:00, ?it/s]\n"
     ]
    },
    {
     "name": "stdout",
     "output_type": "stream",
     "text": [
      "Can't get connection to https://ivie.vn/cong-dong?page=3962! Try again in 3 seconds.\n",
      "Can't get connection to https://ivie.vn/cong-dong?page=3971! Try again in 3 seconds.\n",
      "Can't get connection to https://ivie.vn/cong-dong?page=3967! Try again in 3 seconds.\n"
     ]
    },
    {
     "name": "stderr",
     "output_type": "stream",
     "text": [
      "Processing page 3969: : 0it [00:00, ?it/s]\n",
      "Processing page 3972: : 0it [00:00, ?it/s]\n"
     ]
    },
    {
     "name": "stdout",
     "output_type": "stream",
     "text": [
      "Can't get connection to https://ivie.vn/cong-dong?page=3962! Try again in 3 seconds.\n"
     ]
    },
    {
     "name": "stderr",
     "output_type": "stream",
     "text": [
      "Processing page 3967: : 0it [00:00, ?it/s]\n",
      "Processing page 3971: : 0it [00:00, ?it/s]\n"
     ]
    },
    {
     "name": "stdout",
     "output_type": "stream",
     "text": [
      "Can't get connection to https://ivie.vn/cong-dong?page=3974! Try again in 3 seconds.\n"
     ]
    },
    {
     "name": "stderr",
     "output_type": "stream",
     "text": [
      "Processing page 3973: : 0it [00:00, ?it/s]\n",
      "Processing page 3975: : 0it [00:00, ?it/s]\n",
      "Processing page 3962: : 0it [00:00, ?it/s]\n",
      "Processing page 3977: : 0it [00:00, ?it/s]\n",
      "Processing page 3976: : 0it [00:00, ?it/s]\n"
     ]
    },
    {
     "name": "stdout",
     "output_type": "stream",
     "text": [
      "Can't get connection to https://ivie.vn/cong-dong?page=3974! Try again in 3 seconds.\n"
     ]
    },
    {
     "name": "stderr",
     "output_type": "stream",
     "text": [
      "Processing page 3978: : 0it [00:00, ?it/s]\n",
      "Processing page 3979: : 0it [00:00, ?it/s]\n"
     ]
    },
    {
     "name": "stdout",
     "output_type": "stream",
     "text": [
      "Can't get connection to https://ivie.vn/cong-dong?page=3981! Try again in 3 seconds.\n",
      "Can't get connection to https://ivie.vn/cong-dong?page=3980! Try again in 3 seconds.\n",
      "Can't get connection to https://ivie.vn/cong-dong?page=3974! Try again in 3 seconds.\n"
     ]
    },
    {
     "name": "stderr",
     "output_type": "stream",
     "text": [
      "Processing page 3983: : 0it [00:00, ?it/s]\n"
     ]
    },
    {
     "name": "stdout",
     "output_type": "stream",
     "text": [
      "Can't get connection to https://ivie.vn/cong-dong?page=3982! Try again in 3 seconds.\n"
     ]
    },
    {
     "name": "stderr",
     "output_type": "stream",
     "text": [
      "Processing page 3981: : 0it [00:00, ?it/s]\n"
     ]
    },
    {
     "name": "stdout",
     "output_type": "stream",
     "text": [
      "Can't get connection to https://ivie.vn/cong-dong?page=3980! Try again in 3 seconds.\n"
     ]
    },
    {
     "name": "stderr",
     "output_type": "stream",
     "text": [
      "Processing page 3984: : 0it [00:00, ?it/s]\n",
      "Processing page 3974: : 0it [00:00, ?it/s]\n"
     ]
    },
    {
     "name": "stdout",
     "output_type": "stream",
     "text": [
      "Can't get connection to https://ivie.vn/cong-dong?page=3982! Try again in 3 seconds.\n",
      "Can't get connection to https://ivie.vn/cong-dong?page=3985! Try again in 3 seconds.\n"
     ]
    },
    {
     "name": "stderr",
     "output_type": "stream",
     "text": [
      "Processing page 3986: : 0it [00:00, ?it/s]\n",
      "Processing page 3987: : 0it [00:00, ?it/s]\n"
     ]
    },
    {
     "name": "stdout",
     "output_type": "stream",
     "text": [
      "Can't get connection to https://ivie.vn/cong-dong?page=3980! Try again in 3 seconds.\n",
      "Can't get connection to https://ivie.vn/cong-dong?page=3988! Try again in 3 seconds.\n"
     ]
    },
    {
     "name": "stderr",
     "output_type": "stream",
     "text": [
      "Processing page 3985: : 0it [00:00, ?it/s]\n",
      "Processing page 3982: : 0it [00:00, ?it/s]\n"
     ]
    },
    {
     "name": "stdout",
     "output_type": "stream",
     "text": [
      "Can't get connection to https://ivie.vn/cong-dong?page=3989! Try again in 3 seconds.\n"
     ]
    },
    {
     "name": "stderr",
     "output_type": "stream",
     "text": [
      "Processing page 3991: : 0it [00:00, ?it/s]\n"
     ]
    },
    {
     "name": "stdout",
     "output_type": "stream",
     "text": [
      "Can't get connection to https://ivie.vn/cong-dong?page=3980! Try again in 3 seconds.\n"
     ]
    },
    {
     "name": "stderr",
     "output_type": "stream",
     "text": [
      "Processing page 3988: : 0it [00:00, ?it/s]\n"
     ]
    },
    {
     "name": "stdout",
     "output_type": "stream",
     "text": [
      "Can't get connection to https://ivie.vn/cong-dong?page=3990! Try again in 3 seconds.\n"
     ]
    },
    {
     "name": "stderr",
     "output_type": "stream",
     "text": [
      "Processing page 3989: : 0it [00:00, ?it/s]\n",
      "Processing page 3992: : 0it [00:00, ?it/s]\n",
      "Processing page 3980: : 0it [00:00, ?it/s]\n",
      "Processing page 3990: : 0it [00:00, ?it/s]\n"
     ]
    },
    {
     "name": "stdout",
     "output_type": "stream",
     "text": [
      "Can't get connection to https://ivie.vn/cong-dong?page=3993! Try again in 3 seconds.\n",
      "Can't get connection to https://ivie.vn/cong-dong?page=3994! Try again in 3 seconds.\n"
     ]
    },
    {
     "name": "stderr",
     "output_type": "stream",
     "text": [
      "Processing page 3996: : 0it [00:00, ?it/s]\n"
     ]
    },
    {
     "name": "stdout",
     "output_type": "stream",
     "text": [
      "Can't get connection to https://ivie.vn/cong-dong?page=3995! Try again in 3 seconds.\n",
      "Can't get connection to https://ivie.vn/cong-dong?page=3993! Try again in 3 seconds.\n",
      "Can't get connection to https://ivie.vn/cong-dong?page=3997! Try again in 3 seconds.\n"
     ]
    },
    {
     "name": "stderr",
     "output_type": "stream",
     "text": [
      "Processing page 3994: : 0it [00:00, ?it/s]\n",
      "Processing page 3998: : 0it [00:00, ?it/s]\n",
      "Processing page 3995: : 0it [00:00, ?it/s]\n"
     ]
    },
    {
     "name": "stdout",
     "output_type": "stream",
     "text": [
      "Can't get connection to https://ivie.vn/cong-dong?page=3997! Try again in 3 seconds.\n",
      "Can't get connection to https://ivie.vn/cong-dong?page=3993! Try again in 3 seconds.\n",
      "Can't get connection to https://ivie.vn/cong-dong?page=3999! Try again in 3 seconds.\n",
      "Can't get connection to https://ivie.vn/cong-dong?page=4000! Try again in 3 seconds.\n",
      "Can't get connection to https://ivie.vn/cong-dong?page=4001! Try again in 3 seconds.\n"
     ]
    },
    {
     "name": "stderr",
     "output_type": "stream",
     "text": [
      "Processing page 4001: : 0it [00:00, ?it/s]\n",
      "Processing page 4000: : 0it [00:00, ?it/s]\n",
      "Processing page 3999: : 0it [00:00, ?it/s]\n",
      "Processing page 3993: : 0it [00:00, ?it/s]\n",
      "Processing page 3997: : 0it [00:00, ?it/s]\n",
      "Processing page 4003: : 0it [00:00, ?it/s]\n",
      "Processing page 4002: : 0it [00:00, ?it/s]\n",
      "Processing page 4006: : 0it [00:00, ?it/s]\n",
      "Processing page 4004: : 0it [00:00, ?it/s]\n",
      "Processing page 4005: : 0it [00:00, ?it/s]\n",
      "Processing page 4007: : 0it [00:00, ?it/s]\n",
      "Processing page 4008: : 0it [00:00, ?it/s]\n"
     ]
    },
    {
     "name": "stdout",
     "output_type": "stream",
     "text": [
      "Can't get connection to https://ivie.vn/cong-dong?page=4009! Try again in 3 seconds.\n",
      "Can't get connection to https://ivie.vn/cong-dong?page=4010! Try again in 3 seconds.\n",
      "Can't get connection to https://ivie.vn/cong-dong?page=4012! Try again in 3 seconds.\n"
     ]
    },
    {
     "name": "stderr",
     "output_type": "stream",
     "text": [
      "Processing page 4013: : 0it [00:00, ?it/s]\n"
     ]
    },
    {
     "name": "stdout",
     "output_type": "stream",
     "text": [
      "Can't get connection to https://ivie.vn/cong-dong?page=4009! Try again in 3 seconds.\n",
      "Can't get connection to https://ivie.vn/cong-dong?page=4010! Try again in 3 seconds.\n",
      "Can't get connection to https://ivie.vn/cong-dong?page=4011! Try again in 3 seconds.\n",
      "Can't get connection to https://ivie.vn/cong-dong?page=4014! Try again in 3 seconds.\n"
     ]
    },
    {
     "name": "stderr",
     "output_type": "stream",
     "text": [
      "Processing page 4012: : 0it [00:00, ?it/s]\n",
      "Processing page 4009: : 0it [00:00, ?it/s]\n",
      "Processing page 4011: : 0it [00:00, ?it/s]\n",
      "Processing page 4010: : 0it [00:00, ?it/s]\n",
      "Processing page 4014: : 0it [00:00, ?it/s]\n",
      "Processing page 4015: : 0it [00:00, ?it/s]\n"
     ]
    },
    {
     "name": "stdout",
     "output_type": "stream",
     "text": [
      "Can't get connection to https://ivie.vn/cong-dong?page=4016! Try again in 3 seconds.\n"
     ]
    },
    {
     "name": "stderr",
     "output_type": "stream",
     "text": [
      "Processing page 4017: : 0it [00:00, ?it/s]\n",
      "Processing page 4018: : 0it [00:00, ?it/s]\n",
      "Processing page 4019: : 0it [00:00, ?it/s]\n",
      "Processing page 4020: : 0it [00:00, ?it/s]\n"
     ]
    },
    {
     "name": "stdout",
     "output_type": "stream",
     "text": [
      "Can't get connection to https://ivie.vn/cong-dong?page=4022! Try again in 3 seconds.\n"
     ]
    },
    {
     "name": "stderr",
     "output_type": "stream",
     "text": [
      "Processing page 4021: : 0it [00:00, ?it/s]\n",
      "Processing page 4016: : 0it [00:00, ?it/s]\n"
     ]
    },
    {
     "name": "stdout",
     "output_type": "stream",
     "text": [
      "Can't get connection to https://ivie.vn/cong-dong?page=4024! Try again in 3 seconds.\n",
      "Can't get connection to https://ivie.vn/cong-dong?page=4023! Try again in 3 seconds.\n",
      "Can't get connection to https://ivie.vn/cong-dong?page=4025! Try again in 3 seconds.\n"
     ]
    },
    {
     "name": "stderr",
     "output_type": "stream",
     "text": [
      "Processing page 4022: : 0it [00:00, ?it/s]\n",
      "Processing page 4026: : 0it [00:00, ?it/s]\n"
     ]
    },
    {
     "name": "stdout",
     "output_type": "stream",
     "text": [
      "Can't get connection to https://ivie.vn/cong-dong?page=4024! Try again in 3 seconds.\n",
      "Can't get connection to https://ivie.vn/cong-dong?page=4023! Try again in 3 seconds.\n"
     ]
    },
    {
     "name": "stderr",
     "output_type": "stream",
     "text": [
      "Processing page 4027: : 0it [00:00, ?it/s]\n"
     ]
    },
    {
     "name": "stdout",
     "output_type": "stream",
     "text": [
      "Can't get connection to https://ivie.vn/cong-dong?page=4028! Try again in 3 seconds.\n",
      "Can't get connection to https://ivie.vn/cong-dong?page=4025! Try again in 3 seconds.\n",
      "Can't get connection to https://ivie.vn/cong-dong?page=4029! Try again in 3 seconds.\n"
     ]
    },
    {
     "name": "stderr",
     "output_type": "stream",
     "text": [
      "Processing page 4023: : 0it [00:00, ?it/s]\n",
      "Processing page 4024: : 0it [00:00, ?it/s]\n"
     ]
    },
    {
     "name": "stdout",
     "output_type": "stream",
     "text": [
      "Can't get connection to https://ivie.vn/cong-dong?page=4028! Try again in 3 seconds.\n",
      "Can't get connection to https://ivie.vn/cong-dong?page=4025! Try again in 3 seconds.\n"
     ]
    },
    {
     "name": "stderr",
     "output_type": "stream",
     "text": [
      "Processing page 4029: : 0it [00:00, ?it/s]\n"
     ]
    },
    {
     "name": "stdout",
     "output_type": "stream",
     "text": [
      "Can't get connection to https://ivie.vn/cong-dong?page=4031! Try again in 3 seconds.\n",
      "Can't get connection to https://ivie.vn/cong-dong?page=4030! Try again in 3 seconds.\n"
     ]
    },
    {
     "name": "stderr",
     "output_type": "stream",
     "text": [
      "Processing page 4032: : 0it [00:00, ?it/s]\n",
      "Processing page 4028: : 0it [00:00, ?it/s]\n",
      "Processing page 4025: : 0it [00:00, ?it/s]\n"
     ]
    },
    {
     "name": "stdout",
     "output_type": "stream",
     "text": [
      "Can't get connection to https://ivie.vn/cong-dong?page=4031! Try again in 3 seconds.\n"
     ]
    },
    {
     "name": "stderr",
     "output_type": "stream",
     "text": [
      "Processing page 4030: : 0it [00:00, ?it/s]\n",
      "Processing page 4033: : 0it [00:00, ?it/s]\n"
     ]
    },
    {
     "name": "stdout",
     "output_type": "stream",
     "text": [
      "Can't get connection to https://ivie.vn/cong-dong?page=4034! Try again in 3 seconds.\n"
     ]
    },
    {
     "name": "stderr",
     "output_type": "stream",
     "text": [
      "Processing page 4035: : 0it [00:00, ?it/s]\n",
      "Processing page 4036: : 0it [00:00, ?it/s]\n",
      "Processing page 4031: : 0it [00:00, ?it/s]\n",
      "Processing page 4037: : 0it [00:00, ?it/s]\n",
      "Processing page 4038: : 0it [00:00, ?it/s]\n"
     ]
    },
    {
     "name": "stdout",
     "output_type": "stream",
     "text": [
      "Can't get connection to https://ivie.vn/cong-dong?page=4034! Try again in 3 seconds.\n"
     ]
    },
    {
     "name": "stderr",
     "output_type": "stream",
     "text": [
      "Processing page 4039: : 0it [00:00, ?it/s]\n"
     ]
    },
    {
     "name": "stdout",
     "output_type": "stream",
     "text": [
      "Can't get connection to https://ivie.vn/cong-dong?page=4040! Try again in 3 seconds.\n",
      "Can't get connection to https://ivie.vn/cong-dong?page=4041! Try again in 3 seconds.\n"
     ]
    },
    {
     "name": "stderr",
     "output_type": "stream",
     "text": [
      "Processing page 4042: : 0it [00:00, ?it/s]\n",
      "Processing page 4034: : 0it [00:00, ?it/s]\n",
      "Processing page 4043: : 0it [00:00, ?it/s]\n",
      "Processing page 4041: : 0it [00:00, ?it/s]\n",
      "Processing page 4040: : 0it [00:00, ?it/s]\n"
     ]
    },
    {
     "name": "stdout",
     "output_type": "stream",
     "text": [
      "Can't get connection to https://ivie.vn/cong-dong?page=4044! Try again in 3 seconds.\n"
     ]
    },
    {
     "name": "stderr",
     "output_type": "stream",
     "text": [
      "Processing page 4046: : 0it [00:00, ?it/s]\n"
     ]
    },
    {
     "name": "stdout",
     "output_type": "stream",
     "text": [
      "Can't get connection to https://ivie.vn/cong-dong?page=4045! Try again in 3 seconds.\n"
     ]
    },
    {
     "name": "stderr",
     "output_type": "stream",
     "text": [
      "Processing page 4048: : 0it [00:00, ?it/s]\n",
      "Processing page 4047: : 0it [00:00, ?it/s]\n"
     ]
    },
    {
     "name": "stdout",
     "output_type": "stream",
     "text": [
      "Can't get connection to https://ivie.vn/cong-dong?page=4049! Try again in 3 seconds.\n"
     ]
    },
    {
     "name": "stderr",
     "output_type": "stream",
     "text": [
      "Processing page 4044: : 0it [00:00, ?it/s]\n",
      "Processing page 4050: : 0it [00:00, ?it/s]\n",
      "Processing page 4051: : 0it [00:00, ?it/s]\n",
      "Processing page 4045: : 0it [00:00, ?it/s]\n",
      "Processing page 4052: : 0it [00:00, ?it/s]\n",
      "Processing page 4049: : 0it [00:00, ?it/s]\n"
     ]
    },
    {
     "name": "stdout",
     "output_type": "stream",
     "text": [
      "Can't get connection to https://ivie.vn/cong-dong?page=4054! Try again in 3 seconds.\n"
     ]
    },
    {
     "name": "stderr",
     "output_type": "stream",
     "text": [
      "Processing page 4053: : 0it [00:00, ?it/s]\n",
      "Processing page 4055: : 0it [00:00, ?it/s]\n",
      "Processing page 4056: : 0it [00:00, ?it/s]\n",
      "Processing page 4057: : 0it [00:00, ?it/s]\n",
      "Processing page 4058: : 0it [00:00, ?it/s]\n"
     ]
    },
    {
     "name": "stdout",
     "output_type": "stream",
     "text": [
      "Can't get connection to https://ivie.vn/cong-dong?page=4059! Try again in 3 seconds.\n"
     ]
    },
    {
     "name": "stderr",
     "output_type": "stream",
     "text": [
      "Processing page 4054: : 0it [00:00, ?it/s]\n"
     ]
    },
    {
     "name": "stdout",
     "output_type": "stream",
     "text": [
      "Can't get connection to https://ivie.vn/cong-dong?page=4062! Try again in 3 seconds.\n"
     ]
    },
    {
     "name": "stderr",
     "output_type": "stream",
     "text": [
      "Processing page 4061: : 0it [00:00, ?it/s]\n"
     ]
    },
    {
     "name": "stdout",
     "output_type": "stream",
     "text": [
      "Can't get connection to https://ivie.vn/cong-dong?page=4060! Try again in 3 seconds.\n",
      "Can't get connection to https://ivie.vn/cong-dong?page=4063! Try again in 3 seconds.\n",
      "Can't get connection to https://ivie.vn/cong-dong?page=4064! Try again in 3 seconds.\n",
      "Can't get connection to https://ivie.vn/cong-dong?page=4059! Try again in 3 seconds.\n"
     ]
    },
    {
     "name": "stderr",
     "output_type": "stream",
     "text": [
      "Processing page 4062: : 0it [00:00, ?it/s]\n",
      "Processing page 4060: : 0it [00:00, ?it/s]\n",
      "Processing page 4063: : 0it [00:00, ?it/s]\n",
      "Processing page 4064: : 0it [00:00, ?it/s]\n",
      "Processing page 4059: : 0it [00:00, ?it/s]\n",
      "Processing page 4065: : 0it [00:00, ?it/s]\n"
     ]
    },
    {
     "name": "stdout",
     "output_type": "stream",
     "text": [
      "Can't get connection to https://ivie.vn/cong-dong?page=4066! Try again in 3 seconds.\n"
     ]
    },
    {
     "name": "stderr",
     "output_type": "stream",
     "text": [
      "Processing page 4067: : 0it [00:00, ?it/s]\n",
      "Processing page 4068: : 0it [00:00, ?it/s]\n",
      "Processing page 4069: : 0it [00:00, ?it/s]\n",
      "Processing page 4070: : 0it [00:00, ?it/s]\n"
     ]
    },
    {
     "name": "stdout",
     "output_type": "stream",
     "text": [
      "Can't get connection to https://ivie.vn/cong-dong?page=4071! Try again in 3 seconds.\n",
      "Can't get connection to https://ivie.vn/cong-dong?page=4066! Try again in 3 seconds.\n"
     ]
    },
    {
     "name": "stderr",
     "output_type": "stream",
     "text": [
      "Processing page 4072: : 0it [00:00, ?it/s]\n"
     ]
    },
    {
     "name": "stdout",
     "output_type": "stream",
     "text": [
      "Can't get connection to https://ivie.vn/cong-dong?page=4073! Try again in 3 seconds.\n",
      "Can't get connection to https://ivie.vn/cong-dong?page=4074! Try again in 3 seconds.\n"
     ]
    },
    {
     "name": "stderr",
     "output_type": "stream",
     "text": [
      "Processing page 4071: : 0it [00:00, ?it/s]\n"
     ]
    },
    {
     "name": "stdout",
     "output_type": "stream",
     "text": [
      "Can't get connection to https://ivie.vn/cong-dong?page=4066! Try again in 3 seconds.\n",
      "Can't get connection to https://ivie.vn/cong-dong?page=4075! Try again in 3 seconds.\n",
      "Can't get connection to https://ivie.vn/cong-dong?page=4073! Try again in 3 seconds.\n"
     ]
    },
    {
     "name": "stderr",
     "output_type": "stream",
     "text": [
      "Processing page 4076: : 0it [00:00, ?it/s]\n",
      "Processing page 4074: : 0it [00:00, ?it/s]\n"
     ]
    },
    {
     "name": "stdout",
     "output_type": "stream",
     "text": [
      "Can't get connection to https://ivie.vn/cong-dong?page=4066! Try again in 3 seconds.\n",
      "Can't get connection to https://ivie.vn/cong-dong?page=4075! Try again in 3 seconds.\n",
      "Can't get connection to https://ivie.vn/cong-dong?page=4073! Try again in 3 seconds.Can't get connection to https://ivie.vn/cong-dong?page=4077! Try again in 3 seconds.\n",
      "\n"
     ]
    },
    {
     "name": "stderr",
     "output_type": "stream",
     "text": [
      "Processing page 4078: : 0it [00:00, ?it/s]\n",
      "Processing page 4066: : 0it [00:00, ?it/s]\n",
      "Processing page 4075: : 0it [00:00, ?it/s]\n",
      "Processing page 4079: : 0it [00:00, ?it/s]\n",
      "Processing page 4073: : 0it [00:00, ?it/s]\n"
     ]
    },
    {
     "name": "stdout",
     "output_type": "stream",
     "text": [
      "Can't get connection to https://ivie.vn/cong-dong?page=4077! Try again in 3 seconds.\n"
     ]
    },
    {
     "name": "stderr",
     "output_type": "stream",
     "text": [
      "Processing page 4080: : 0it [00:00, ?it/s]\n",
      "Processing page 4081: : 0it [00:00, ?it/s]\n",
      "Processing page 4082: : 0it [00:00, ?it/s]\n",
      "Processing page 4084: : 0it [00:00, ?it/s]\n",
      "Processing page 4077: : 0it [00:00, ?it/s]\n"
     ]
    },
    {
     "name": "stdout",
     "output_type": "stream",
     "text": [
      "Can't get connection to https://ivie.vn/cong-dong?page=4085! Try again in 3 seconds.\n"
     ]
    },
    {
     "name": "stderr",
     "output_type": "stream",
     "text": [
      "Processing page 4086: : 0it [00:00, ?it/s]\n",
      "Processing page 4087: : 0it [00:00, ?it/s]\n",
      "Processing page 4083: : 0it [00:00, ?it/s]\n",
      "Processing page 4088: : 0it [00:00, ?it/s]\n",
      "Processing page 4085: : 0it [00:00, ?it/s]\n"
     ]
    },
    {
     "name": "stdout",
     "output_type": "stream",
     "text": [
      "Can't get connection to https://ivie.vn/cong-dong?page=4090! Try again in 3 seconds.\n"
     ]
    },
    {
     "name": "stderr",
     "output_type": "stream",
     "text": [
      "Processing page 4089: : 0it [00:00, ?it/s]\n",
      "Processing page 4092: : 0it [00:00, ?it/s]\n",
      "Processing page 4091: : 0it [00:00, ?it/s]\n",
      "Processing page 4093: : 0it [00:00, ?it/s]\n",
      "Processing page 4094: : 0it [00:00, ?it/s]\n",
      "Processing page 4090: : 0it [00:00, ?it/s]\n"
     ]
    },
    {
     "name": "stdout",
     "output_type": "stream",
     "text": [
      "Can't get connection to https://ivie.vn/cong-dong?page=4095! Try again in 3 seconds.\n",
      "Can't get connection to https://ivie.vn/cong-dong?page=4096! Try again in 3 seconds.\n",
      "Can't get connection to https://ivie.vn/cong-dong?page=4097! Try again in 3 seconds.\n"
     ]
    },
    {
     "name": "stderr",
     "output_type": "stream",
     "text": [
      "Processing page 4098: : 0it [00:00, ?it/s]\n"
     ]
    },
    {
     "name": "stdout",
     "output_type": "stream",
     "text": [
      "Can't get connection to https://ivie.vn/cong-dong?page=4099! Try again in 3 seconds.\n",
      "Can't get connection to https://ivie.vn/cong-dong?page=4096! Try again in 3 seconds.\n",
      "Can't get connection to https://ivie.vn/cong-dong?page=4095! Try again in 3 seconds.\n"
     ]
    },
    {
     "name": "stderr",
     "output_type": "stream",
     "text": [
      "Processing page 4100: : 0it [00:00, ?it/s]\n"
     ]
    },
    {
     "name": "stdout",
     "output_type": "stream",
     "text": [
      "Can't get connection to https://ivie.vn/cong-dong?page=4097! Try again in 3 seconds.\n",
      "Can't get connection to https://ivie.vn/cong-dong?page=4099! Try again in 3 seconds.\n",
      "Can't get connection to https://ivie.vn/cong-dong?page=4101! Try again in 3 seconds.\n",
      "Can't get connection to https://ivie.vn/cong-dong?page=4096! Try again in 3 seconds.\n"
     ]
    },
    {
     "name": "stderr",
     "output_type": "stream",
     "text": [
      "Processing page 4095: : 0it [00:00, ?it/s]\n",
      "Processing page 4097: : 0it [00:00, ?it/s]\n",
      "Processing page 4099: : 0it [00:00, ?it/s]\n",
      "Processing page 4101: : 0it [00:00, ?it/s]\n"
     ]
    },
    {
     "name": "stdout",
     "output_type": "stream",
     "text": [
      "Can't get connection to https://ivie.vn/cong-dong?page=4096! Try again in 3 seconds.\n"
     ]
    },
    {
     "name": "stderr",
     "output_type": "stream",
     "text": [
      "Processing page 4104: : 0it [00:00, ?it/s]\n"
     ]
    },
    {
     "name": "stdout",
     "output_type": "stream",
     "text": [
      "Can't get connection to https://ivie.vn/cong-dong?page=4103! Try again in 3 seconds.\n"
     ]
    },
    {
     "name": "stderr",
     "output_type": "stream",
     "text": [
      "Processing page 4105: : 0it [00:00, ?it/s]\n"
     ]
    },
    {
     "name": "stdout",
     "output_type": "stream",
     "text": [
      "Can't get connection to https://ivie.vn/cong-dong?page=4096! Try again in 3 seconds.\n"
     ]
    },
    {
     "name": "stderr",
     "output_type": "stream",
     "text": [
      "Processing page 4106: : 0it [00:00, ?it/s]\n",
      "Processing page 4103: : 0it [00:00, ?it/s]\n",
      "Processing page 4107: : 0it [00:00, ?it/s]\n"
     ]
    },
    {
     "name": "stdout",
     "output_type": "stream",
     "text": [
      "Can't get connection to https://ivie.vn/cong-dong?page=4102! Try again in 3 seconds.\n"
     ]
    },
    {
     "name": "stderr",
     "output_type": "stream",
     "text": [
      "Processing page 4108: : 0it [00:00, ?it/s]\n",
      "Processing page 4109: : 0it [00:00, ?it/s]\n",
      "Processing page 4096: : 0it [00:00, ?it/s]\n"
     ]
    },
    {
     "name": "stdout",
     "output_type": "stream",
     "text": [
      "Can't get connection to https://ivie.vn/cong-dong?page=4110! Try again in 3 seconds.\n"
     ]
    },
    {
     "name": "stderr",
     "output_type": "stream",
     "text": [
      "Processing page 4111: : 0it [00:00, ?it/s]\n"
     ]
    },
    {
     "name": "stdout",
     "output_type": "stream",
     "text": [
      "Can't get connection to https://ivie.vn/cong-dong?page=4112! Try again in 3 seconds.\n",
      "Can't get connection to https://ivie.vn/cong-dong?page=4102! Try again in 3 seconds.\n"
     ]
    },
    {
     "name": "stderr",
     "output_type": "stream",
     "text": [
      "Processing page 4113: : 0it [00:00, ?it/s]\n"
     ]
    },
    {
     "name": "stdout",
     "output_type": "stream",
     "text": [
      "Can't get connection to https://ivie.vn/cong-dong?page=4110! Try again in 3 seconds.\n"
     ]
    },
    {
     "name": "stderr",
     "output_type": "stream",
     "text": [
      "Processing page 4114: : 0it [00:00, ?it/s]\n"
     ]
    },
    {
     "name": "stdout",
     "output_type": "stream",
     "text": [
      "Can't get connection to https://ivie.vn/cong-dong?page=4102! Try again in 3 seconds.\n"
     ]
    },
    {
     "name": "stderr",
     "output_type": "stream",
     "text": [
      "Processing page 4112: : 0it [00:00, ?it/s]\n"
     ]
    },
    {
     "name": "stdout",
     "output_type": "stream",
     "text": [
      "Can't get connection to https://ivie.vn/cong-dong?page=4115! Try again in 3 seconds.\n",
      "Can't get connection to https://ivie.vn/cong-dong?page=4110! Try again in 3 seconds.\n"
     ]
    },
    {
     "name": "stderr",
     "output_type": "stream",
     "text": [
      "Processing page 4116: : 0it [00:00, ?it/s]\n",
      "Processing page 4117: : 0it [00:00, ?it/s]\n"
     ]
    },
    {
     "name": "stdout",
     "output_type": "stream",
     "text": [
      "Can't get connection to https://ivie.vn/cong-dong?page=4102! Try again in 3 seconds.\n"
     ]
    },
    {
     "name": "stderr",
     "output_type": "stream",
     "text": [
      "Processing page 4115: : 0it [00:00, ?it/s]\n",
      "Processing page 4118: : 0it [00:00, ?it/s]\n"
     ]
    },
    {
     "name": "stdout",
     "output_type": "stream",
     "text": [
      "Can't get connection to https://ivie.vn/cong-dong?page=4110! Try again in 3 seconds.\n"
     ]
    },
    {
     "name": "stderr",
     "output_type": "stream",
     "text": [
      "Processing page 4119: : 0it [00:00, ?it/s]\n",
      "Processing page 4120: : 0it [00:00, ?it/s]\n"
     ]
    },
    {
     "name": "stdout",
     "output_type": "stream",
     "text": [
      "Can't get connection to https://ivie.vn/cong-dong?page=4102! Try again in 3 seconds.\n"
     ]
    },
    {
     "name": "stderr",
     "output_type": "stream",
     "text": [
      "Processing page 4121: : 0it [00:00, ?it/s]\n",
      "Processing page 4122: : 0it [00:00, ?it/s]\n"
     ]
    },
    {
     "name": "stdout",
     "output_type": "stream",
     "text": [
      "Can't get connection to https://ivie.vn/cong-dong?page=4123! Try again in 3 seconds.\n"
     ]
    },
    {
     "name": "stderr",
     "output_type": "stream",
     "text": [
      "Processing page 4110: : 0it [00:00, ?it/s]\n",
      "Processing page 4124: : 0it [00:00, ?it/s]\n"
     ]
    },
    {
     "name": "stdout",
     "output_type": "stream",
     "text": [
      "Can't get connection to https://ivie.vn/cong-dong?page=4102! Try again in 3 seconds.\n"
     ]
    },
    {
     "name": "stderr",
     "output_type": "stream",
     "text": [
      "Processing page 4125: : 0it [00:00, ?it/s]\n"
     ]
    },
    {
     "name": "stdout",
     "output_type": "stream",
     "text": [
      "Can't get connection to https://ivie.vn/cong-dong?page=4126! Try again in 3 seconds.\n",
      "Can't get connection to https://ivie.vn/cong-dong?page=4123! Try again in 3 seconds.\n"
     ]
    },
    {
     "name": "stderr",
     "output_type": "stream",
     "text": [
      "Processing page 4127: : 0it [00:00, ?it/s]\n"
     ]
    },
    {
     "name": "stdout",
     "output_type": "stream",
     "text": [
      "Can't get connection to https://ivie.vn/cong-dong?page=4128! Try again in 3 seconds.\n",
      "Can't get connection to https://ivie.vn/cong-dong?page=4102! Try again in 3 seconds.\n"
     ]
    },
    {
     "name": "stderr",
     "output_type": "stream",
     "text": [
      "Processing page 4129: : 0it [00:00, ?it/s]\n",
      "Processing page 4126: : 0it [00:00, ?it/s]\n"
     ]
    },
    {
     "name": "stdout",
     "output_type": "stream",
     "text": [
      "Can't get connection to https://ivie.vn/cong-dong?page=4123! Try again in 3 seconds.\n",
      "Can't get connection to https://ivie.vn/cong-dong?page=4128! Try again in 3 seconds.\n",
      "Can't get connection to https://ivie.vn/cong-dong?page=4130! Try again in 3 seconds.\n"
     ]
    },
    {
     "name": "stderr",
     "output_type": "stream",
     "text": [
      "Processing page 4102: : 0it [00:00, ?it/s]\n"
     ]
    },
    {
     "name": "stdout",
     "output_type": "stream",
     "text": [
      "Can't get connection to https://ivie.vn/cong-dong?page=4131! Try again in 3 seconds.\n"
     ]
    },
    {
     "name": "stderr",
     "output_type": "stream",
     "text": [
      "Processing page 4123: : 0it [00:00, ?it/s]\n"
     ]
    },
    {
     "name": "stdout",
     "output_type": "stream",
     "text": [
      "Can't get connection to https://ivie.vn/cong-dong?page=4132! Try again in 3 seconds.\n",
      "Can't get connection to https://ivie.vn/cong-dong?page=4128! Try again in 3 seconds.\n",
      "Can't get connection to https://ivie.vn/cong-dong?page=4131! Try again in 3 seconds.\n",
      "Can't get connection to https://ivie.vn/cong-dong?page=4130! Try again in 3 seconds.\n"
     ]
    },
    {
     "name": "stderr",
     "output_type": "stream",
     "text": [
      "Processing page 4133: : 0it [00:00, ?it/s]\n",
      "Processing page 4132: : 0it [00:00, ?it/s]\n",
      "Processing page 4128: : 0it [00:00, ?it/s]\n",
      "Processing page 4131: : 0it [00:00, ?it/s]\n",
      "Processing page 4130: : 0it [00:00, ?it/s]\n",
      "Processing page 4134: : 0it [00:00, ?it/s]\n",
      "Processing page 4135: : 0it [00:00, ?it/s]\n"
     ]
    },
    {
     "name": "stdout",
     "output_type": "stream",
     "text": [
      "Can't get connection to https://ivie.vn/cong-dong?page=4136! Try again in 3 seconds.\n"
     ]
    },
    {
     "name": "stderr",
     "output_type": "stream",
     "text": [
      "Processing page 4138: : 0it [00:00, ?it/s]\n"
     ]
    },
    {
     "name": "stdout",
     "output_type": "stream",
     "text": [
      "Can't get connection to https://ivie.vn/cong-dong?page=4139! Try again in 3 seconds.\n",
      "Can't get connection to https://ivie.vn/cong-dong?page=4137! Try again in 3 seconds.\n"
     ]
    },
    {
     "name": "stderr",
     "output_type": "stream",
     "text": [
      "Processing page 4140: : 0it [00:00, ?it/s]\n",
      "Processing page 4136: : 0it [00:00, ?it/s]\n",
      "Processing page 4141: : 0it [00:00, ?it/s]\n"
     ]
    },
    {
     "name": "stdout",
     "output_type": "stream",
     "text": [
      "Can't get connection to https://ivie.vn/cong-dong?page=4142! Try again in 3 seconds.\n",
      "Can't get connection to https://ivie.vn/cong-dong?page=4137! Try again in 3 seconds.\n"
     ]
    },
    {
     "name": "stderr",
     "output_type": "stream",
     "text": [
      "Processing page 4139: : 0it [00:00, ?it/s]\n",
      "Processing page 4143: : 0it [00:00, ?it/s]\n",
      "Processing page 4144: : 0it [00:00, ?it/s]\n"
     ]
    },
    {
     "name": "stdout",
     "output_type": "stream",
     "text": [
      "Can't get connection to https://ivie.vn/cong-dong?page=4145! Try again in 3 seconds.\n",
      "Can't get connection to https://ivie.vn/cong-dong?page=4137! Try again in 3 seconds.\n"
     ]
    },
    {
     "name": "stderr",
     "output_type": "stream",
     "text": [
      "Processing page 4146: : 0it [00:00, ?it/s]\n"
     ]
    },
    {
     "name": "stdout",
     "output_type": "stream",
     "text": [
      "Can't get connection to https://ivie.vn/cong-dong?page=4147! Try again in 3 seconds.\n"
     ]
    },
    {
     "name": "stderr",
     "output_type": "stream",
     "text": [
      "Processing page 4145: : 0it [00:00, ?it/s]\n"
     ]
    },
    {
     "name": "stdout",
     "output_type": "stream",
     "text": [
      "Can't get connection to https://ivie.vn/cong-dong?page=4148! Try again in 3 seconds.\n",
      "Can't get connection to https://ivie.vn/cong-dong?page=4137! Try again in 3 seconds.\n"
     ]
    },
    {
     "name": "stderr",
     "output_type": "stream",
     "text": [
      "Processing page 4147: : 0it [00:00, ?it/s]\n",
      "Processing page 4149: : 0it [00:00, ?it/s]\n"
     ]
    },
    {
     "name": "stdout",
     "output_type": "stream",
     "text": [
      "Can't get connection to https://ivie.vn/cong-dong?page=4148! Try again in 3 seconds.\n"
     ]
    },
    {
     "name": "stderr",
     "output_type": "stream",
     "text": [
      "Processing page 4142: : 0it [00:00, ?it/s]\n"
     ]
    },
    {
     "name": "stdout",
     "output_type": "stream",
     "text": [
      "Can't get connection to https://ivie.vn/cong-dong?page=4137! Try again in 3 seconds.\n"
     ]
    },
    {
     "name": "stderr",
     "output_type": "stream",
     "text": [
      "Processing page 4150: : 0it [00:00, ?it/s]\n",
      "Processing page 4151: : 0it [00:00, ?it/s]\n",
      "Processing page 4148: : 0it [00:00, ?it/s]\n"
     ]
    },
    {
     "name": "stdout",
     "output_type": "stream",
     "text": [
      "Can't get connection to https://ivie.vn/cong-dong?page=4152! Try again in 3 seconds.\n",
      "Can't get connection to https://ivie.vn/cong-dong?page=4154! Try again in 3 seconds.\n",
      "Can't get connection to https://ivie.vn/cong-dong?page=4137! Try again in 3 seconds.\n"
     ]
    },
    {
     "name": "stderr",
     "output_type": "stream",
     "text": [
      "Processing page 4153: : 0it [00:00, ?it/s]\n"
     ]
    },
    {
     "name": "stdout",
     "output_type": "stream",
     "text": [
      "Can't get connection to https://ivie.vn/cong-dong?page=4155! Try again in 3 seconds.\n",
      "Can't get connection to https://ivie.vn/cong-dong?page=4154! Try again in 3 seconds.\n",
      "Can't get connection to https://ivie.vn/cong-dong?page=4152! Try again in 3 seconds.\n"
     ]
    },
    {
     "name": "stderr",
     "output_type": "stream",
     "text": [
      "Processing page 4137: : 0it [00:00, ?it/s]\n"
     ]
    },
    {
     "name": "stdout",
     "output_type": "stream",
     "text": [
      "Can't get connection to https://ivie.vn/cong-dong?page=4156! Try again in 3 seconds.\n"
     ]
    },
    {
     "name": "stderr",
     "output_type": "stream",
     "text": [
      "Processing page 4155: : 0it [00:00, ?it/s]\n",
      "Processing page 4157: : 0it [00:00, ?it/s]\n",
      "Processing page 4154: : 0it [00:00, ?it/s]\n",
      "Processing page 4152: : 0it [00:00, ?it/s]\n",
      "Processing page 4156: : 0it [00:00, ?it/s]\n"
     ]
    },
    {
     "name": "stdout",
     "output_type": "stream",
     "text": [
      "Can't get connection to https://ivie.vn/cong-dong?page=4158! Try again in 3 seconds.\n"
     ]
    },
    {
     "name": "stderr",
     "output_type": "stream",
     "text": [
      "Processing page 4159: : 0it [00:00, ?it/s]\n"
     ]
    },
    {
     "name": "stdout",
     "output_type": "stream",
     "text": [
      "Can't get connection to https://ivie.vn/cong-dong?page=4161! Try again in 3 seconds.\n",
      "Can't get connection to https://ivie.vn/cong-dong?page=4162! Try again in 3 seconds.\n",
      "Can't get connection to https://ivie.vn/cong-dong?page=4160! Try again in 3 seconds.\n"
     ]
    },
    {
     "name": "stderr",
     "output_type": "stream",
     "text": [
      "Processing page 4158: : 0it [00:00, ?it/s]\n",
      "Processing page 4163: : 0it [00:00, ?it/s]\n"
     ]
    },
    {
     "name": "stdout",
     "output_type": "stream",
     "text": [
      "Can't get connection to https://ivie.vn/cong-dong?page=4161! Try again in 3 seconds.\n"
     ]
    },
    {
     "name": "stderr",
     "output_type": "stream",
     "text": [
      "Processing page 4162: : 0it [00:00, ?it/s]\n"
     ]
    },
    {
     "name": "stdout",
     "output_type": "stream",
     "text": [
      "Can't get connection to https://ivie.vn/cong-dong?page=4160! Try again in 3 seconds.\n"
     ]
    },
    {
     "name": "stderr",
     "output_type": "stream",
     "text": [
      "Processing page 4164: : 0it [00:00, ?it/s]\n",
      "Processing page 4165: : 0it [00:00, ?it/s]\n"
     ]
    },
    {
     "name": "stdout",
     "output_type": "stream",
     "text": [
      "Can't get connection to https://ivie.vn/cong-dong?page=4166! Try again in 3 seconds.\n"
     ]
    },
    {
     "name": "stderr",
     "output_type": "stream",
     "text": [
      "Processing page 4161: : 0it [00:00, ?it/s]\n",
      "Processing page 4167: : 0it [00:00, ?it/s]\n",
      "Processing page 4160: : 0it [00:00, ?it/s]\n"
     ]
    },
    {
     "name": "stdout",
     "output_type": "stream",
     "text": [
      "Can't get connection to https://ivie.vn/cong-dong?page=4168! Try again in 3 seconds.\n",
      "Can't get connection to https://ivie.vn/cong-dong?page=4169! Try again in 3 seconds.\n"
     ]
    },
    {
     "name": "stderr",
     "output_type": "stream",
     "text": [
      "Processing page 4170: : 0it [00:00, ?it/s]\n",
      "Processing page 4166: : 0it [00:00, ?it/s]\n",
      "Processing page 4171: : 0it [00:00, ?it/s]\n"
     ]
    },
    {
     "name": "stdout",
     "output_type": "stream",
     "text": [
      "Can't get connection to https://ivie.vn/cong-dong?page=4168! Try again in 3 seconds.\n"
     ]
    },
    {
     "name": "stderr",
     "output_type": "stream",
     "text": [
      "Processing page 4173: : 0it [00:00, ?it/s]\n"
     ]
    },
    {
     "name": "stdout",
     "output_type": "stream",
     "text": [
      "Can't get connection to https://ivie.vn/cong-dong?page=4172! Try again in 3 seconds.\n",
      "Can't get connection to https://ivie.vn/cong-dong?page=4169! Try again in 3 seconds.\n",
      "Can't get connection to https://ivie.vn/cong-dong?page=4174! Try again in 3 seconds.\n"
     ]
    },
    {
     "name": "stderr",
     "output_type": "stream",
     "text": [
      "Processing page 4168: : 0it [00:00, ?it/s]\n"
     ]
    },
    {
     "name": "stdout",
     "output_type": "stream",
     "text": [
      "Can't get connection to https://ivie.vn/cong-dong?page=4175! Try again in 3 seconds.\n",
      "Can't get connection to https://ivie.vn/cong-dong?page=4172! Try again in 3 seconds.\n"
     ]
    },
    {
     "name": "stderr",
     "output_type": "stream",
     "text": [
      "Processing page 4169: : 0it [00:00, ?it/s]\n",
      "Processing page 4176: : 0it [00:00, ?it/s]\n"
     ]
    },
    {
     "name": "stdout",
     "output_type": "stream",
     "text": [
      "Can't get connection to https://ivie.vn/cong-dong?page=4174! Try again in 3 seconds.\n",
      "Can't get connection to https://ivie.vn/cong-dong?page=4175! Try again in 3 seconds.\n"
     ]
    },
    {
     "name": "stderr",
     "output_type": "stream",
     "text": [
      "Processing page 4178: : 0it [00:00, ?it/s]\n",
      "Processing page 4177: : 0it [00:00, ?it/s]\n",
      "Processing page 4172: : 0it [00:00, ?it/s]\n"
     ]
    },
    {
     "name": "stdout",
     "output_type": "stream",
     "text": [
      "Can't get connection to https://ivie.vn/cong-dong?page=4174! Try again in 3 seconds.\n"
     ]
    },
    {
     "name": "stderr",
     "output_type": "stream",
     "text": [
      "Processing page 4175: : 0it [00:00, ?it/s]\n",
      "Processing page 4179: : 0it [00:00, ?it/s]\n",
      "Processing page 4180: : 0it [00:00, ?it/s]\n",
      "Processing page 4181: : 0it [00:00, ?it/s]\n",
      "Processing page 4182: : 0it [00:00, ?it/s]\n"
     ]
    },
    {
     "name": "stdout",
     "output_type": "stream",
     "text": [
      "Can't get connection to https://ivie.vn/cong-dong?page=4174! Try again in 3 seconds.\n"
     ]
    },
    {
     "name": "stderr",
     "output_type": "stream",
     "text": [
      "Processing page 4183: : 0it [00:00, ?it/s]\n",
      "Processing page 4184: : 0it [00:00, ?it/s]\n",
      "Processing page 4185: : 0it [00:00, ?it/s]\n",
      "Processing page 4186: : 0it [00:00, ?it/s]\n",
      "Processing page 4187: : 0it [00:00, ?it/s]\n",
      "Processing page 4188: : 0it [00:00, ?it/s]\n",
      "Processing page 4174: : 0it [00:00, ?it/s]\n"
     ]
    },
    {
     "name": "stdout",
     "output_type": "stream",
     "text": [
      "Can't get connection to https://ivie.vn/cong-dong?page=4189! Try again in 3 seconds.\n"
     ]
    },
    {
     "name": "stderr",
     "output_type": "stream",
     "text": [
      "Processing page 4190: : 0it [00:00, ?it/s]\n",
      "Processing page 4192: : 0it [00:00, ?it/s]\n",
      "Processing page 4191: : 0it [00:00, ?it/s]\n",
      "Processing page 4193: : 0it [00:00, ?it/s]\n",
      "Processing page 4189: : 0it [00:00, ?it/s]\n"
     ]
    },
    {
     "name": "stdout",
     "output_type": "stream",
     "text": [
      "Can't get connection to https://ivie.vn/cong-dong?page=4194! Try again in 3 seconds.\n"
     ]
    },
    {
     "name": "stderr",
     "output_type": "stream",
     "text": [
      "Processing page 4195: : 0it [00:00, ?it/s]\n"
     ]
    },
    {
     "name": "stdout",
     "output_type": "stream",
     "text": [
      "Can't get connection to https://ivie.vn/cong-dong?page=4197! Try again in 3 seconds.\n"
     ]
    },
    {
     "name": "stderr",
     "output_type": "stream",
     "text": [
      "Processing page 4196: : 0it [00:00, ?it/s]\n"
     ]
    },
    {
     "name": "stdout",
     "output_type": "stream",
     "text": [
      "Can't get connection to https://ivie.vn/cong-dong?page=4198! Try again in 3 seconds.\n"
     ]
    },
    {
     "name": "stderr",
     "output_type": "stream",
     "text": [
      "Processing page 4194: : 0it [00:00, ?it/s]\n"
     ]
    },
    {
     "name": "stdout",
     "output_type": "stream",
     "text": [
      "Can't get connection to https://ivie.vn/cong-dong?page=4197! Try again in 3 seconds.\n",
      "Can't get connection to https://ivie.vn/cong-dong?page=4199! Try again in 3 seconds.\n",
      "Can't get connection to https://ivie.vn/cong-dong?page=4200! Try again in 3 seconds.\n"
     ]
    },
    {
     "name": "stderr",
     "output_type": "stream",
     "text": [
      "Processing page 4201: : 0it [00:00, ?it/s]\n",
      "Processing page 4198: : 0it [00:00, ?it/s]\n",
      "Processing page 4197: : 0it [00:00, ?it/s]\n"
     ]
    },
    {
     "name": "stdout",
     "output_type": "stream",
     "text": [
      "Can't get connection to https://ivie.vn/cong-dong?page=4200! Try again in 3 seconds.\n",
      "Can't get connection to https://ivie.vn/cong-dong?page=4202! Try again in 3 seconds.\n",
      "Can't get connection to https://ivie.vn/cong-dong?page=4199! Try again in 3 seconds.\n",
      "Can't get connection to https://ivie.vn/cong-dong?page=4203! Try again in 3 seconds.\n",
      "Can't get connection to https://ivie.vn/cong-dong?page=4204! Try again in 3 seconds.\n",
      "Can't get connection to https://ivie.vn/cong-dong?page=4200! Try again in 3 seconds.\n"
     ]
    },
    {
     "name": "stderr",
     "output_type": "stream",
     "text": [
      "Processing page 4199: : 0it [00:00, ?it/s]\n",
      "Processing page 4202: : 0it [00:00, ?it/s]\n"
     ]
    },
    {
     "name": "stdout",
     "output_type": "stream",
     "text": [
      "Can't get connection to https://ivie.vn/cong-dong?page=4203! Try again in 3 seconds.\n",
      "Can't get connection to https://ivie.vn/cong-dong?page=4204! Try again in 3 seconds.\n"
     ]
    },
    {
     "name": "stderr",
     "output_type": "stream",
     "text": [
      "Processing page 4200: : 0it [00:00, ?it/s]\n",
      "Processing page 4205: : 0it [00:00, ?it/s]\n"
     ]
    },
    {
     "name": "stdout",
     "output_type": "stream",
     "text": [
      "Can't get connection to https://ivie.vn/cong-dong?page=4206! Try again in 3 seconds.\n"
     ]
    },
    {
     "name": "stderr",
     "output_type": "stream",
     "text": [
      "Processing page 4203: : 0it [00:00, ?it/s]\n"
     ]
    },
    {
     "name": "stdout",
     "output_type": "stream",
     "text": [
      "Can't get connection to https://ivie.vn/cong-dong?page=4204! Try again in 3 seconds.\n"
     ]
    },
    {
     "name": "stderr",
     "output_type": "stream",
     "text": [
      "Processing page 4207: : 0it [00:00, ?it/s]\n",
      "Processing page 4208: : 0it [00:00, ?it/s]\n",
      "Processing page 4206: : 0it [00:00, ?it/s]\n",
      "Processing page 4209: : 0it [00:00, ?it/s]\n",
      "Processing page 4210: : 0it [00:00, ?it/s]\n",
      "Processing page 4204: : 0it [00:00, ?it/s]\n",
      "Processing page 4211: : 0it [00:00, ?it/s]\n",
      "Processing page 4213: : 0it [00:00, ?it/s]\n"
     ]
    },
    {
     "name": "stdout",
     "output_type": "stream",
     "text": [
      "Can't get connection to https://ivie.vn/cong-dong?page=4212! Try again in 3 seconds.\n",
      "Can't get connection to https://ivie.vn/cong-dong?page=4214! Try again in 3 seconds.\n",
      "Can't get connection to https://ivie.vn/cong-dong?page=4215! Try again in 3 seconds.\n"
     ]
    },
    {
     "name": "stderr",
     "output_type": "stream",
     "text": [
      "Processing page 4216: : 0it [00:00, ?it/s]\n"
     ]
    },
    {
     "name": "stdout",
     "output_type": "stream",
     "text": [
      "Can't get connection to https://ivie.vn/cong-dong?page=4217! Try again in 3 seconds.\n"
     ]
    },
    {
     "name": "stderr",
     "output_type": "stream",
     "text": [
      "Processing page 4218: : 0it [00:00, ?it/s]\n",
      "Processing page 4215: : 0it [00:00, ?it/s]\n",
      "Processing page 4214: : 0it [00:00, ?it/s]\n",
      "Processing page 4212: : 0it [00:00, ?it/s]\n",
      "Processing page 4217: : 0it [00:00, ?it/s]\n"
     ]
    },
    {
     "name": "stdout",
     "output_type": "stream",
     "text": [
      "Can't get connection to https://ivie.vn/cong-dong?page=4221! Try again in 3 seconds.\n"
     ]
    },
    {
     "name": "stderr",
     "output_type": "stream",
     "text": [
      "Processing page 4219: : 0it [00:00, ?it/s]\n",
      "Processing page 4222: : 0it [00:00, ?it/s]\n",
      "Processing page 4223: : 0it [00:00, ?it/s]\n"
     ]
    },
    {
     "name": "stdout",
     "output_type": "stream",
     "text": [
      "Can't get connection to https://ivie.vn/cong-dong?page=4220! Try again in 3 seconds.\n",
      "Can't get connection to https://ivie.vn/cong-dong?page=4224! Try again in 3 seconds.\n"
     ]
    },
    {
     "name": "stderr",
     "output_type": "stream",
     "text": [
      "Processing page 4225: : 0it [00:00, ?it/s]\n"
     ]
    },
    {
     "name": "stdout",
     "output_type": "stream",
     "text": [
      "Can't get connection to https://ivie.vn/cong-dong?page=4221! Try again in 3 seconds.\n"
     ]
    },
    {
     "name": "stderr",
     "output_type": "stream",
     "text": [
      "Processing page 4226: : 0it [00:00, ?it/s]\n",
      "Processing page 4220: : 0it [00:00, ?it/s]\n"
     ]
    },
    {
     "name": "stdout",
     "output_type": "stream",
     "text": [
      "Can't get connection to https://ivie.vn/cong-dong?page=4227! Try again in 3 seconds.\n"
     ]
    },
    {
     "name": "stderr",
     "output_type": "stream",
     "text": [
      "Processing page 4224: : 0it [00:00, ?it/s]\n",
      "Processing page 4228: : 0it [00:00, ?it/s]\n",
      "Processing page 4229: : 0it [00:00, ?it/s]\n",
      "Processing page 4221: : 0it [00:00, ?it/s]\n",
      "Processing page 4230: : 0it [00:00, ?it/s]\n",
      "Processing page 4231: : 0it [00:00, ?it/s]\n",
      "Processing page 4227: : 0it [00:00, ?it/s]\n",
      "Processing page 4233: : 0it [00:00, ?it/s]\n"
     ]
    },
    {
     "name": "stdout",
     "output_type": "stream",
     "text": [
      "Can't get connection to https://ivie.vn/cong-dong?page=4232! Try again in 3 seconds.\n"
     ]
    },
    {
     "name": "stderr",
     "output_type": "stream",
     "text": [
      "Processing page 4234: : 0it [00:00, ?it/s]\n",
      "Processing page 4235: : 0it [00:00, ?it/s]\n"
     ]
    },
    {
     "name": "stdout",
     "output_type": "stream",
     "text": [
      "Can't get connection to https://ivie.vn/cong-dong?page=4236! Try again in 3 seconds.\n"
     ]
    },
    {
     "name": "stderr",
     "output_type": "stream",
     "text": [
      "Processing page 4237: : 0it [00:00, ?it/s]\n"
     ]
    },
    {
     "name": "stdout",
     "output_type": "stream",
     "text": [
      "Can't get connection to https://ivie.vn/cong-dong?page=4238! Try again in 3 seconds.\n"
     ]
    },
    {
     "name": "stderr",
     "output_type": "stream",
     "text": [
      "Processing page 4232: : 0it [00:00, ?it/s]\n"
     ]
    },
    {
     "name": "stdout",
     "output_type": "stream",
     "text": [
      "Can't get connection to https://ivie.vn/cong-dong?page=4239! Try again in 3 seconds.\n"
     ]
    },
    {
     "name": "stderr",
     "output_type": "stream",
     "text": [
      "Processing page 4240: : 0it [00:00, ?it/s]\n",
      "Processing page 4236: : 0it [00:00, ?it/s]\n"
     ]
    },
    {
     "name": "stdout",
     "output_type": "stream",
     "text": [
      "Can't get connection to https://ivie.vn/cong-dong?page=4241! Try again in 3 seconds.\n",
      "Can't get connection to https://ivie.vn/cong-dong?page=4238! Try again in 3 seconds.\n",
      "Can't get connection to https://ivie.vn/cong-dong?page=4243! Try again in 3 seconds.\n",
      "Can't get connection to https://ivie.vn/cong-dong?page=4239! Try again in 3 seconds.\n",
      "Can't get connection to https://ivie.vn/cong-dong?page=4242! Try again in 3 seconds.\n"
     ]
    },
    {
     "name": "stderr",
     "output_type": "stream",
     "text": [
      "Processing page 4241: : 0it [00:00, ?it/s]\n",
      "Processing page 4238: : 0it [00:00, ?it/s]\n",
      "Processing page 4243: : 0it [00:00, ?it/s]\n"
     ]
    },
    {
     "name": "stdout",
     "output_type": "stream",
     "text": [
      "Can't get connection to https://ivie.vn/cong-dong?page=4239! Try again in 3 seconds.\n"
     ]
    },
    {
     "name": "stderr",
     "output_type": "stream",
     "text": [
      "Processing page 4244: : 0it [00:00, ?it/s]\n",
      "Processing page 4245: : 0it [00:00, ?it/s]\n"
     ]
    },
    {
     "name": "stdout",
     "output_type": "stream",
     "text": [
      "Can't get connection to https://ivie.vn/cong-dong?page=4242! Try again in 3 seconds.\n",
      "Can't get connection to https://ivie.vn/cong-dong?page=4247! Try again in 3 seconds.\n",
      "Can't get connection to https://ivie.vn/cong-dong?page=4246! Try again in 3 seconds.\n",
      "Can't get connection to https://ivie.vn/cong-dong?page=4248! Try again in 3 seconds.\n"
     ]
    },
    {
     "name": "stderr",
     "output_type": "stream",
     "text": [
      "Processing page 4242: : 0it [00:00, ?it/s]\n",
      "Processing page 4247: : 0it [00:00, ?it/s]\n",
      "Processing page 4239: : 0it [00:00, ?it/s]\n",
      "Processing page 4248: : 0it [00:00, ?it/s]\n"
     ]
    },
    {
     "name": "stdout",
     "output_type": "stream",
     "text": [
      "Can't get connection to https://ivie.vn/cong-dong?page=4249! Try again in 3 seconds.\n",
      "Can't get connection to https://ivie.vn/cong-dong?page=4246! Try again in 3 seconds.\n"
     ]
    },
    {
     "name": "stderr",
     "output_type": "stream",
     "text": [
      "Processing page 4250: : 0it [00:00, ?it/s]\n",
      "Processing page 4252: : 0it [00:00, ?it/s]\n",
      "Processing page 4251: : 0it [00:00, ?it/s]\n"
     ]
    },
    {
     "name": "stdout",
     "output_type": "stream",
     "text": [
      "Can't get connection to https://ivie.vn/cong-dong?page=4246! Try again in 3 seconds.\n",
      "Can't get connection to https://ivie.vn/cong-dong?page=4249! Try again in 3 seconds.\n",
      "Can't get connection to https://ivie.vn/cong-dong?page=4253! Try again in 3 seconds.\n"
     ]
    },
    {
     "name": "stderr",
     "output_type": "stream",
     "text": [
      "Processing page 4255: : 0it [00:00, ?it/s]\n"
     ]
    },
    {
     "name": "stdout",
     "output_type": "stream",
     "text": [
      "Can't get connection to https://ivie.vn/cong-dong?page=4254! Try again in 3 seconds.\n"
     ]
    },
    {
     "name": "stderr",
     "output_type": "stream",
     "text": [
      "Processing page 4246: : 0it [00:00, ?it/s]\n"
     ]
    },
    {
     "name": "stdout",
     "output_type": "stream",
     "text": [
      "Can't get connection to https://ivie.vn/cong-dong?page=4249! Try again in 3 seconds.\n"
     ]
    },
    {
     "name": "stderr",
     "output_type": "stream",
     "text": [
      "Processing page 4253: : 0it [00:00, ?it/s]\n",
      "Processing page 4256: : 0it [00:00, ?it/s]\n",
      "Processing page 4257: : 0it [00:00, ?it/s]\n",
      "Processing page 4254: : 0it [00:00, ?it/s]\n"
     ]
    },
    {
     "name": "stdout",
     "output_type": "stream",
     "text": [
      "Can't get connection to https://ivie.vn/cong-dong?page=4258! Try again in 3 seconds.\n",
      "Can't get connection to https://ivie.vn/cong-dong?page=4249! Try again in 3 seconds.\n",
      "Can't get connection to https://ivie.vn/cong-dong?page=4259! Try again in 3 seconds.\n",
      "Can't get connection to https://ivie.vn/cong-dong?page=4261! Try again in 3 seconds.\n"
     ]
    },
    {
     "name": "stderr",
     "output_type": "stream",
     "text": [
      "Processing page 4260: : 0it [00:00, ?it/s]\n"
     ]
    },
    {
     "name": "stdout",
     "output_type": "stream",
     "text": [
      "Can't get connection to https://ivie.vn/cong-dong?page=4258! Try again in 3 seconds.\n"
     ]
    },
    {
     "name": "stderr",
     "output_type": "stream",
     "text": [
      "Processing page 4249: : 0it [00:00, ?it/s]\n",
      "Processing page 4262: : 0it [00:00, ?it/s]\n",
      "Processing page 4259: : 0it [00:00, ?it/s]\n"
     ]
    },
    {
     "name": "stdout",
     "output_type": "stream",
     "text": [
      "Can't get connection to https://ivie.vn/cong-dong?page=4261! Try again in 3 seconds.\n",
      "Can't get connection to https://ivie.vn/cong-dong?page=4263! Try again in 3 seconds.\n"
     ]
    },
    {
     "name": "stderr",
     "output_type": "stream",
     "text": [
      "Processing page 4258: : 0it [00:00, ?it/s]\n",
      "Processing page 4264: : 0it [00:00, ?it/s]\n"
     ]
    },
    {
     "name": "stdout",
     "output_type": "stream",
     "text": [
      "Can't get connection to https://ivie.vn/cong-dong?page=4265! Try again in 3 seconds.\n",
      "Can't get connection to https://ivie.vn/cong-dong?page=4261! Try again in 3 seconds.\n",
      "Can't get connection to https://ivie.vn/cong-dong?page=4266! Try again in 3 seconds.\n"
     ]
    },
    {
     "name": "stderr",
     "output_type": "stream",
     "text": [
      "Processing page 4267: : 0it [00:00, ?it/s]\n"
     ]
    },
    {
     "name": "stdout",
     "output_type": "stream",
     "text": [
      "Can't get connection to https://ivie.vn/cong-dong?page=4263! Try again in 3 seconds.\n"
     ]
    },
    {
     "name": "stderr",
     "output_type": "stream",
     "text": [
      "Processing page 4265: : 0it [00:00, ?it/s]\n"
     ]
    },
    {
     "name": "stdout",
     "output_type": "stream",
     "text": [
      "Can't get connection to https://ivie.vn/cong-dong?page=4268! Try again in 3 seconds.\n"
     ]
    },
    {
     "name": "stderr",
     "output_type": "stream",
     "text": [
      "Processing page 4261: : 0it [00:00, ?it/s]\n"
     ]
    },
    {
     "name": "stdout",
     "output_type": "stream",
     "text": [
      "Can't get connection to https://ivie.vn/cong-dong?page=4266! Try again in 3 seconds.\n",
      "Can't get connection to https://ivie.vn/cong-dong?page=4263! Try again in 3 seconds.\n"
     ]
    },
    {
     "name": "stderr",
     "output_type": "stream",
     "text": [
      "Processing page 4269: : 0it [00:00, ?it/s]\n",
      "Processing page 4270: : 0it [00:00, ?it/s]\n",
      "Processing page 4268: : 0it [00:00, ?it/s]\n",
      "Processing page 4271: : 0it [00:00, ?it/s]\n"
     ]
    },
    {
     "name": "stdout",
     "output_type": "stream",
     "text": [
      "Can't get connection to https://ivie.vn/cong-dong?page=4266! Try again in 3 seconds.\n"
     ]
    },
    {
     "name": "stderr",
     "output_type": "stream",
     "text": [
      "Processing page 4272: : 0it [00:00, ?it/s]\n",
      "Processing page 4273: : 0it [00:00, ?it/s]\n",
      "Processing page 4274: : 0it [00:00, ?it/s]\n"
     ]
    },
    {
     "name": "stdout",
     "output_type": "stream",
     "text": [
      "Can't get connection to https://ivie.vn/cong-dong?page=4266! Try again in 3 seconds.\n"
     ]
    },
    {
     "name": "stderr",
     "output_type": "stream",
     "text": [
      "Processing page 4275: : 0it [00:00, ?it/s]\n"
     ]
    },
    {
     "name": "stdout",
     "output_type": "stream",
     "text": [
      "Can't get connection to https://ivie.vn/cong-dong?page=4276! Try again in 3 seconds.\n"
     ]
    },
    {
     "name": "stderr",
     "output_type": "stream",
     "text": [
      "Processing page 4263: : 0it [00:00, ?it/s]\n"
     ]
    },
    {
     "name": "stdout",
     "output_type": "stream",
     "text": [
      "Can't get connection to https://ivie.vn/cong-dong?page=4277! Try again in 3 seconds.\n"
     ]
    },
    {
     "name": "stderr",
     "output_type": "stream",
     "text": [
      "Processing page 4266: : 0it [00:00, ?it/s]\n",
      "Processing page 4278: : 0it [00:00, ?it/s]\n",
      "Processing page 4279: : 0it [00:00, ?it/s]\n",
      "Processing page 4276: : 0it [00:00, ?it/s]\n",
      "Processing page 4277: : 0it [00:00, ?it/s]\n",
      "Processing page 4280: : 0it [00:00, ?it/s]\n",
      "Processing page 4282: : 0it [00:00, ?it/s]\n"
     ]
    },
    {
     "name": "stdout",
     "output_type": "stream",
     "text": [
      "Can't get connection to https://ivie.vn/cong-dong?page=4283! Try again in 3 seconds.\n",
      "Can't get connection to https://ivie.vn/cong-dong?page=4281! Try again in 3 seconds.\n",
      "Can't get connection to https://ivie.vn/cong-dong?page=4285! Try again in 3 seconds.\n",
      "Can't get connection to https://ivie.vn/cong-dong?page=4286! Try again in 3 seconds.\n",
      "Can't get connection to https://ivie.vn/cong-dong?page=4284! Try again in 3 seconds.\n"
     ]
    },
    {
     "name": "stderr",
     "output_type": "stream",
     "text": [
      "Processing page 4281: : 0it [00:00, ?it/s]\n"
     ]
    },
    {
     "name": "stdout",
     "output_type": "stream",
     "text": [
      "Can't get connection to https://ivie.vn/cong-dong?page=4283! Try again in 3 seconds.\n",
      "Can't get connection to https://ivie.vn/cong-dong?page=4284! Try again in 3 seconds.\n",
      "Can't get connection to https://ivie.vn/cong-dong?page=4285! Try again in 3 seconds.\n",
      "Can't get connection to https://ivie.vn/cong-dong?page=4286! Try again in 3 seconds.\n"
     ]
    },
    {
     "name": "stderr",
     "output_type": "stream",
     "text": [
      "Processing page 4287: : 0it [00:00, ?it/s]\n"
     ]
    },
    {
     "name": "stdout",
     "output_type": "stream",
     "text": [
      "Can't get connection to https://ivie.vn/cong-dong?page=4283! Try again in 3 seconds.\n",
      "Can't get connection to https://ivie.vn/cong-dong?page=4286! Try again in 3 seconds.\n"
     ]
    },
    {
     "name": "stderr",
     "output_type": "stream",
     "text": [
      "Processing page 4285: : 0it [00:00, ?it/s]\n",
      "Processing page 4288: : 0it [00:00, ?it/s]\n",
      "Processing page 4284: : 0it [00:00, ?it/s]\n",
      "Processing page 4283: : 0it [00:00, ?it/s]\n"
     ]
    },
    {
     "name": "stdout",
     "output_type": "stream",
     "text": [
      "Can't get connection to https://ivie.vn/cong-dong?page=4289! Try again in 3 seconds.\n",
      "Can't get connection to https://ivie.vn/cong-dong?page=4290! Try again in 3 seconds.\n"
     ]
    },
    {
     "name": "stderr",
     "output_type": "stream",
     "text": [
      "Processing page 4286: : 0it [00:00, ?it/s]\n",
      "Processing page 4291: : 0it [00:00, ?it/s]\n",
      "Processing page 4292: : 0it [00:00, ?it/s]\n"
     ]
    },
    {
     "name": "stdout",
     "output_type": "stream",
     "text": [
      "Can't get connection to https://ivie.vn/cong-dong?page=4294! Try again in 3 seconds.\n"
     ]
    },
    {
     "name": "stderr",
     "output_type": "stream",
     "text": [
      "Processing page 4293: : 0it [00:00, ?it/s]\n",
      "Processing page 4295: : 0it [00:00, ?it/s]\n",
      "Processing page 4289: : 0it [00:00, ?it/s]\n",
      "Processing page 4290: : 0it [00:00, ?it/s]\n"
     ]
    },
    {
     "name": "stdout",
     "output_type": "stream",
     "text": [
      "Can't get connection to https://ivie.vn/cong-dong?page=4294! Try again in 3 seconds.\n"
     ]
    },
    {
     "name": "stderr",
     "output_type": "stream",
     "text": [
      "Processing page 4296: : 0it [00:00, ?it/s]\n",
      "Processing page 4298: : 0it [00:00, ?it/s]\n",
      "Processing page 4297: : 0it [00:00, ?it/s]\n",
      "Processing page 4299: : 0it [00:00, ?it/s]\n",
      "Processing page 4300: : 0it [00:00, ?it/s]\n",
      "Processing page 4301: : 0it [00:00, ?it/s]\n"
     ]
    },
    {
     "name": "stdout",
     "output_type": "stream",
     "text": [
      "Can't get connection to https://ivie.vn/cong-dong?page=4294! Try again in 3 seconds.\n"
     ]
    },
    {
     "name": "stderr",
     "output_type": "stream",
     "text": [
      "Processing page 4302: : 0it [00:00, ?it/s]\n",
      "Processing page 4304: : 0it [00:00, ?it/s]\n",
      "Processing page 4303: : 0it [00:00, ?it/s]\n"
     ]
    },
    {
     "name": "stdout",
     "output_type": "stream",
     "text": [
      "Can't get connection to https://ivie.vn/cong-dong?page=4305! Try again in 3 seconds.\n"
     ]
    },
    {
     "name": "stderr",
     "output_type": "stream",
     "text": [
      "Processing page 4306: : 0it [00:00, ?it/s]\n",
      "Processing page 4294: : 0it [00:00, ?it/s]\n",
      "Processing page 4307: : 0it [00:00, ?it/s]\n",
      "Processing page 4308: : 0it [00:00, ?it/s]\n",
      "Processing page 4305: : 0it [00:00, ?it/s]\n"
     ]
    },
    {
     "name": "stdout",
     "output_type": "stream",
     "text": [
      "Can't get connection to https://ivie.vn/cong-dong?page=4309! Try again in 3 seconds.\n"
     ]
    },
    {
     "name": "stderr",
     "output_type": "stream",
     "text": [
      "Processing page 4310: : 0it [00:00, ?it/s]\n"
     ]
    },
    {
     "name": "stdout",
     "output_type": "stream",
     "text": [
      "Can't get connection to https://ivie.vn/cong-dong?page=4311! Try again in 3 seconds.\n"
     ]
    },
    {
     "name": "stderr",
     "output_type": "stream",
     "text": [
      "Processing page 4312: : 0it [00:00, ?it/s]\n"
     ]
    },
    {
     "name": "stdout",
     "output_type": "stream",
     "text": [
      "Can't get connection to https://ivie.vn/cong-dong?page=4313! Try again in 3 seconds.\n",
      "Can't get connection to https://ivie.vn/cong-dong?page=4314! Try again in 3 seconds.\n",
      "Can't get connection to https://ivie.vn/cong-dong?page=4309! Try again in 3 seconds.\n"
     ]
    },
    {
     "name": "stderr",
     "output_type": "stream",
     "text": [
      "Processing page 4315: : 0it [00:00, ?it/s]\n",
      "Processing page 4311: : 0it [00:00, ?it/s]\n"
     ]
    },
    {
     "name": "stdout",
     "output_type": "stream",
     "text": [
      "Can't get connection to https://ivie.vn/cong-dong?page=4313! Try again in 3 seconds.\n"
     ]
    },
    {
     "name": "stderr",
     "output_type": "stream",
     "text": [
      "Processing page 4316: : 0it [00:00, ?it/s]\n",
      "Processing page 4314: : 0it [00:00, ?it/s]\n"
     ]
    },
    {
     "name": "stdout",
     "output_type": "stream",
     "text": [
      "Can't get connection to https://ivie.vn/cong-dong?page=4309! Try again in 3 seconds.\n",
      "Can't get connection to https://ivie.vn/cong-dong?page=4317! Try again in 3 seconds.\n",
      "Can't get connection to https://ivie.vn/cong-dong?page=4318! Try again in 3 seconds.\n"
     ]
    },
    {
     "name": "stderr",
     "output_type": "stream",
     "text": [
      "Processing page 4319: : 0it [00:00, ?it/s]\n",
      "Processing page 4313: : 0it [00:00, ?it/s]\n",
      "Processing page 4317: : 0it [00:00, ?it/s]\n",
      "Processing page 4309: : 0it [00:00, ?it/s]\n"
     ]
    },
    {
     "name": "stdout",
     "output_type": "stream",
     "text": [
      "Can't get connection to https://ivie.vn/cong-dong?page=4320! Try again in 3 seconds.\n",
      "Can't get connection to https://ivie.vn/cong-dong?page=4318! Try again in 3 seconds.\n"
     ]
    },
    {
     "name": "stderr",
     "output_type": "stream",
     "text": [
      "Processing page 4321: : 0it [00:00, ?it/s]\n",
      "Processing page 4322: : 0it [00:00, ?it/s]\n",
      "Processing page 4323: : 0it [00:00, ?it/s]\n",
      "Processing page 4320: : 0it [00:00, ?it/s]\n",
      "Processing page 4324: : 0it [00:00, ?it/s]\n"
     ]
    },
    {
     "name": "stdout",
     "output_type": "stream",
     "text": [
      "Can't get connection to https://ivie.vn/cong-dong?page=4325! Try again in 3 seconds.\n",
      "Can't get connection to https://ivie.vn/cong-dong?page=4326! Try again in 3 seconds.\n"
     ]
    },
    {
     "name": "stderr",
     "output_type": "stream",
     "text": [
      "Processing page 4318: : 0it [00:00, ?it/s]\n",
      "Processing page 4327: : 0it [00:00, ?it/s]\n"
     ]
    },
    {
     "name": "stdout",
     "output_type": "stream",
     "text": [
      "Can't get connection to https://ivie.vn/cong-dong?page=4328! Try again in 3 seconds.\n"
     ]
    },
    {
     "name": "stderr",
     "output_type": "stream",
     "text": [
      "Processing page 4325: : 0it [00:00, ?it/s]\n"
     ]
    },
    {
     "name": "stdout",
     "output_type": "stream",
     "text": [
      "Can't get connection to https://ivie.vn/cong-dong?page=4329! Try again in 3 seconds.\n",
      "Can't get connection to https://ivie.vn/cong-dong?page=4330! Try again in 3 seconds.\n"
     ]
    },
    {
     "name": "stderr",
     "output_type": "stream",
     "text": [
      "Processing page 4326: : 0it [00:00, ?it/s]\n",
      "Processing page 4328: : 0it [00:00, ?it/s]\n"
     ]
    },
    {
     "name": "stdout",
     "output_type": "stream",
     "text": [
      "Can't get connection to https://ivie.vn/cong-dong?page=4331! Try again in 3 seconds.\n",
      "Can't get connection to https://ivie.vn/cong-dong?page=4329! Try again in 3 seconds.\n",
      "Can't get connection to https://ivie.vn/cong-dong?page=4330! Try again in 3 seconds.\n"
     ]
    },
    {
     "name": "stderr",
     "output_type": "stream",
     "text": [
      "Processing page 4333: : 0it [00:00, ?it/s]\n"
     ]
    },
    {
     "name": "stdout",
     "output_type": "stream",
     "text": [
      "Can't get connection to https://ivie.vn/cong-dong?page=4331! Try again in 3 seconds.\n",
      "Can't get connection to https://ivie.vn/cong-dong?page=4329! Try again in 3 seconds.\n"
     ]
    },
    {
     "name": "stderr",
     "output_type": "stream",
     "text": [
      "Processing page 4332: : 0it [00:00, ?it/s]\n"
     ]
    },
    {
     "name": "stdout",
     "output_type": "stream",
     "text": [
      "Can't get connection to https://ivie.vn/cong-dong?page=4334! Try again in 3 seconds.\n"
     ]
    },
    {
     "name": "stderr",
     "output_type": "stream",
     "text": [
      "Processing page 4330: : 0it [00:00, ?it/s]\n",
      "Processing page 4331: : 0it [00:00, ?it/s]\n",
      "Processing page 4335: : 0it [00:00, ?it/s]\n"
     ]
    },
    {
     "name": "stdout",
     "output_type": "stream",
     "text": [
      "Can't get connection to https://ivie.vn/cong-dong?page=4329! Try again in 3 seconds.\n"
     ]
    },
    {
     "name": "stderr",
     "output_type": "stream",
     "text": [
      "Processing page 4336: : 0it [00:00, ?it/s]\n"
     ]
    },
    {
     "name": "stdout",
     "output_type": "stream",
     "text": [
      "Can't get connection to https://ivie.vn/cong-dong?page=4334! Try again in 3 seconds.\n",
      "Can't get connection to https://ivie.vn/cong-dong?page=4339! Try again in 3 seconds.\n",
      "Can't get connection to https://ivie.vn/cong-dong?page=4337! Try again in 3 seconds.\n",
      "Can't get connection to https://ivie.vn/cong-dong?page=4338! Try again in 3 seconds.\n"
     ]
    },
    {
     "name": "stderr",
     "output_type": "stream",
     "text": [
      "Processing page 4329: : 0it [00:00, ?it/s]\n",
      "Processing page 4334: : 0it [00:00, ?it/s]\n",
      "Processing page 4340: : 0it [00:00, ?it/s]\n",
      "Processing page 4338: : 0it [00:00, ?it/s]\n",
      "Processing page 4339: : 0it [00:00, ?it/s]\n"
     ]
    },
    {
     "name": "stdout",
     "output_type": "stream",
     "text": [
      "Can't get connection to https://ivie.vn/cong-dong?page=4337! Try again in 3 seconds.\n"
     ]
    },
    {
     "name": "stderr",
     "output_type": "stream",
     "text": [
      "Processing page 4341: : 0it [00:00, ?it/s]\n",
      "Processing page 4343: : 0it [00:00, ?it/s]\n",
      "Processing page 4342: : 0it [00:00, ?it/s]\n",
      "Processing page 4344: : 0it [00:00, ?it/s]\n",
      "Processing page 4345: : 0it [00:00, ?it/s]\n"
     ]
    },
    {
     "name": "stdout",
     "output_type": "stream",
     "text": [
      "Can't get connection to https://ivie.vn/cong-dong?page=4337! Try again in 3 seconds.\n",
      "Can't get connection to https://ivie.vn/cong-dong?page=4347! Try again in 3 seconds.\n",
      "Can't get connection to https://ivie.vn/cong-dong?page=4346! Try again in 3 seconds.\n"
     ]
    },
    {
     "name": "stderr",
     "output_type": "stream",
     "text": [
      "Processing page 4349: : 0it [00:00, ?it/s]\n"
     ]
    },
    {
     "name": "stdout",
     "output_type": "stream",
     "text": [
      "Can't get connection to https://ivie.vn/cong-dong?page=4348! Try again in 3 seconds.\n"
     ]
    },
    {
     "name": "stderr",
     "output_type": "stream",
     "text": [
      "Processing page 4337: : 0it [00:00, ?it/s]\n"
     ]
    },
    {
     "name": "stdout",
     "output_type": "stream",
     "text": [
      "Can't get connection to https://ivie.vn/cong-dong?page=4350! Try again in 3 seconds.\n",
      "Can't get connection to https://ivie.vn/cong-dong?page=4347! Try again in 3 seconds.\n",
      "Can't get connection to https://ivie.vn/cong-dong?page=4346! Try again in 3 seconds.\n"
     ]
    },
    {
     "name": "stderr",
     "output_type": "stream",
     "text": [
      "Processing page 4348: : 0it [00:00, ?it/s]\n",
      "Processing page 4351: : 0it [00:00, ?it/s]\n",
      "Processing page 4350: : 0it [00:00, ?it/s]\n",
      "Processing page 4352: : 0it [00:00, ?it/s]\n",
      "Processing page 4347: : 0it [00:00, ?it/s]\n"
     ]
    },
    {
     "name": "stdout",
     "output_type": "stream",
     "text": [
      "Can't get connection to https://ivie.vn/cong-dong?page=4346! Try again in 3 seconds.\n"
     ]
    },
    {
     "name": "stderr",
     "output_type": "stream",
     "text": [
      "Processing page 4353: : 0it [00:00, ?it/s]\n",
      "Processing page 4354: : 0it [00:00, ?it/s]\n"
     ]
    },
    {
     "name": "stdout",
     "output_type": "stream",
     "text": [
      "Can't get connection to https://ivie.vn/cong-dong?page=4356! Try again in 3 seconds.\n"
     ]
    },
    {
     "name": "stderr",
     "output_type": "stream",
     "text": [
      "Processing page 4357: : 0it [00:00, ?it/s]\n",
      "Processing page 4355: : 0it [00:00, ?it/s]\n"
     ]
    },
    {
     "name": "stdout",
     "output_type": "stream",
     "text": [
      "Can't get connection to https://ivie.vn/cong-dong?page=4346! Try again in 3 seconds.\n"
     ]
    },
    {
     "name": "stderr",
     "output_type": "stream",
     "text": [
      "Processing page 4358: : 0it [00:00, ?it/s]\n"
     ]
    },
    {
     "name": "stdout",
     "output_type": "stream",
     "text": [
      "Can't get connection to https://ivie.vn/cong-dong?page=4356! Try again in 3 seconds.\n",
      "Can't get connection to https://ivie.vn/cong-dong?page=4360! Try again in 3 seconds.\n"
     ]
    },
    {
     "name": "stderr",
     "output_type": "stream",
     "text": [
      "Processing page 4359: : 0it [00:00, ?it/s]\n",
      "Processing page 4361: : 0it [00:00, ?it/s]\n",
      "Processing page 4346: : 0it [00:00, ?it/s]\n",
      "Processing page 4362: : 0it [00:00, ?it/s]\n"
     ]
    },
    {
     "name": "stdout",
     "output_type": "stream",
     "text": [
      "Can't get connection to https://ivie.vn/cong-dong?page=4356! Try again in 3 seconds.\n"
     ]
    },
    {
     "name": "stderr",
     "output_type": "stream",
     "text": [
      "Processing page 4360: : 0it [00:00, ?it/s]\n",
      "Processing page 4363: : 0it [00:00, ?it/s]\n"
     ]
    },
    {
     "name": "stdout",
     "output_type": "stream",
     "text": [
      "Can't get connection to https://ivie.vn/cong-dong?page=4365! Try again in 3 seconds.\n"
     ]
    },
    {
     "name": "stderr",
     "output_type": "stream",
     "text": [
      "Processing page 4364: : 0it [00:00, ?it/s]\n",
      "Processing page 4366: : 0it [00:00, ?it/s]\n"
     ]
    },
    {
     "name": "stdout",
     "output_type": "stream",
     "text": [
      "Can't get connection to https://ivie.vn/cong-dong?page=4367! Try again in 3 seconds.\n"
     ]
    },
    {
     "name": "stderr",
     "output_type": "stream",
     "text": [
      "Processing page 4356: : 0it [00:00, ?it/s]\n",
      "Processing page 4365: : 0it [00:00, ?it/s]\n",
      "Processing page 4369: : 0it [00:00, ?it/s]\n"
     ]
    },
    {
     "name": "stdout",
     "output_type": "stream",
     "text": [
      "Can't get connection to https://ivie.vn/cong-dong?page=4368! Try again in 3 seconds.\n"
     ]
    },
    {
     "name": "stderr",
     "output_type": "stream",
     "text": [
      "Processing page 4370: : 0it [00:00, ?it/s]\n"
     ]
    },
    {
     "name": "stdout",
     "output_type": "stream",
     "text": [
      "Can't get connection to https://ivie.vn/cong-dong?page=4367! Try again in 3 seconds.\n"
     ]
    },
    {
     "name": "stderr",
     "output_type": "stream",
     "text": [
      "Processing page 4371: : 0it [00:00, ?it/s]\n",
      "Processing page 4372: : 0it [00:00, ?it/s]\n",
      "Processing page 4373: : 0it [00:00, ?it/s]\n"
     ]
    },
    {
     "name": "stdout",
     "output_type": "stream",
     "text": [
      "Can't get connection to https://ivie.vn/cong-dong?page=4374! Try again in 3 seconds.\n",
      "Can't get connection to https://ivie.vn/cong-dong?page=4368! Try again in 3 seconds.\n"
     ]
    },
    {
     "name": "stderr",
     "output_type": "stream",
     "text": [
      "Processing page 4375: : 0it [00:00, ?it/s]\n"
     ]
    },
    {
     "name": "stdout",
     "output_type": "stream",
     "text": [
      "Can't get connection to https://ivie.vn/cong-dong?page=4367! Try again in 3 seconds.\n",
      "Can't get connection to https://ivie.vn/cong-dong?page=4376! Try again in 3 seconds.\n"
     ]
    },
    {
     "name": "stderr",
     "output_type": "stream",
     "text": [
      "Processing page 4368: : 0it [00:00, ?it/s]\n",
      "Processing page 4377: : 0it [00:00, ?it/s]\n",
      "Processing page 4374: : 0it [00:00, ?it/s]\n",
      "Processing page 4367: : 0it [00:00, ?it/s]\n",
      "Processing page 4378: : 0it [00:00, ?it/s]\n"
     ]
    },
    {
     "name": "stdout",
     "output_type": "stream",
     "text": [
      "Can't get connection to https://ivie.vn/cong-dong?page=4376! Try again in 3 seconds.\n"
     ]
    },
    {
     "name": "stderr",
     "output_type": "stream",
     "text": [
      "Processing page 4379: : 0it [00:00, ?it/s]\n",
      "Processing page 4380: : 0it [00:00, ?it/s]\n",
      "Processing page 4381: : 0it [00:00, ?it/s]\n",
      "Processing page 4382: : 0it [00:00, ?it/s]\n"
     ]
    },
    {
     "name": "stdout",
     "output_type": "stream",
     "text": [
      "Can't get connection to https://ivie.vn/cong-dong?page=4383! Try again in 3 seconds.\n",
      "Can't get connection to https://ivie.vn/cong-dong?page=4376! Try again in 3 seconds.\n"
     ]
    },
    {
     "name": "stderr",
     "output_type": "stream",
     "text": [
      "Processing page 4384: : 0it [00:00, ?it/s]\n"
     ]
    },
    {
     "name": "stdout",
     "output_type": "stream",
     "text": [
      "Can't get connection to https://ivie.vn/cong-dong?page=4385! Try again in 3 seconds.\n"
     ]
    },
    {
     "name": "stderr",
     "output_type": "stream",
     "text": [
      "Processing page 4386: : 0it [00:00, ?it/s]\n"
     ]
    },
    {
     "name": "stdout",
     "output_type": "stream",
     "text": [
      "Can't get connection to https://ivie.vn/cong-dong?page=4387! Try again in 3 seconds.\n"
     ]
    },
    {
     "name": "stderr",
     "output_type": "stream",
     "text": [
      "Processing page 4388: : 0it [00:00, ?it/s]\n",
      "Processing page 4385: : 0it [00:00, ?it/s]\n"
     ]
    },
    {
     "name": "stdout",
     "output_type": "stream",
     "text": [
      "Can't get connection to https://ivie.vn/cong-dong?page=4387! Try again in 3 seconds.\n",
      "Can't get connection to https://ivie.vn/cong-dong?page=4383! Try again in 3 seconds.\n",
      "Can't get connection to https://ivie.vn/cong-dong?page=4376! Try again in 3 seconds.\n",
      "Can't get connection to https://ivie.vn/cong-dong?page=4389! Try again in 3 seconds.\n",
      "Can't get connection to https://ivie.vn/cong-dong?page=4390! Try again in 3 seconds.\n",
      "Can't get connection to https://ivie.vn/cong-dong?page=4387! Try again in 3 seconds.\n",
      "Can't get connection to https://ivie.vn/cong-dong?page=4383! Try again in 3 seconds.\n"
     ]
    },
    {
     "name": "stderr",
     "output_type": "stream",
     "text": [
      "Processing page 4389: : 0it [00:00, ?it/s]\n",
      "Processing page 4376: : 0it [00:00, ?it/s]\n",
      "Processing page 4390: : 0it [00:00, ?it/s]\n",
      "Processing page 4387: : 0it [00:00, ?it/s]\n",
      "Processing page 4391: : 0it [00:00, ?it/s]\n",
      "Processing page 4392: : 0it [00:00, ?it/s]\n",
      "Processing page 4383: : 0it [00:00, ?it/s]\n",
      "Processing page 4393: : 0it [00:00, ?it/s]\n"
     ]
    },
    {
     "name": "stdout",
     "output_type": "stream",
     "text": [
      "Can't get connection to https://ivie.vn/cong-dong?page=4394! Try again in 3 seconds.\n",
      "Can't get connection to https://ivie.vn/cong-dong?page=4396! Try again in 3 seconds.\n"
     ]
    },
    {
     "name": "stderr",
     "output_type": "stream",
     "text": [
      "Processing page 4395: : 0it [00:00, ?it/s]\n"
     ]
    },
    {
     "name": "stdout",
     "output_type": "stream",
     "text": [
      "Can't get connection to https://ivie.vn/cong-dong?page=4397! Try again in 3 seconds.\n",
      "Can't get connection to https://ivie.vn/cong-dong?page=4398! Try again in 3 seconds.\n",
      "Can't get connection to https://ivie.vn/cong-dong?page=4399! Try again in 3 seconds.\n",
      "Can't get connection to https://ivie.vn/cong-dong?page=4394! Try again in 3 seconds.\n"
     ]
    },
    {
     "name": "stderr",
     "output_type": "stream",
     "text": [
      "Processing page 4396: : 0it [00:00, ?it/s]\n",
      "Processing page 4397: : 0it [00:00, ?it/s]\n"
     ]
    },
    {
     "name": "stdout",
     "output_type": "stream",
     "text": [
      "Can't get connection to https://ivie.vn/cong-dong?page=4398! Try again in 3 seconds.\n"
     ]
    },
    {
     "name": "stderr",
     "output_type": "stream",
     "text": [
      "Processing page 4399: : 0it [00:00, ?it/s]\n",
      "Processing page 4400: : 0it [00:00, ?it/s]\n",
      "Processing page 4394: : 0it [00:00, ?it/s]\n",
      "Processing page 4401: : 0it [00:00, ?it/s]\n",
      "Processing page 4398: : 0it [00:00, ?it/s]\n",
      "Processing page 4402: : 0it [00:00, ?it/s]\n"
     ]
    },
    {
     "name": "stdout",
     "output_type": "stream",
     "text": [
      "Can't get connection to https://ivie.vn/cong-dong?page=4403! Try again in 3 seconds.\n",
      "Can't get connection to https://ivie.vn/cong-dong?page=4404! Try again in 3 seconds.\n",
      "Can't get connection to https://ivie.vn/cong-dong?page=4405! Try again in 3 seconds.\n",
      "Can't get connection to https://ivie.vn/cong-dong?page=4406! Try again in 3 seconds.\n"
     ]
    },
    {
     "name": "stderr",
     "output_type": "stream",
     "text": [
      "Processing page 4407: : 0it [00:00, ?it/s]\n"
     ]
    },
    {
     "name": "stdout",
     "output_type": "stream",
     "text": [
      "Can't get connection to https://ivie.vn/cong-dong?page=4403! Try again in 3 seconds.\n",
      "Can't get connection to https://ivie.vn/cong-dong?page=4408! Try again in 3 seconds.\n"
     ]
    },
    {
     "name": "stderr",
     "output_type": "stream",
     "text": [
      "Processing page 4405: : 0it [00:00, ?it/s]\n"
     ]
    },
    {
     "name": "stdout",
     "output_type": "stream",
     "text": [
      "Can't get connection to https://ivie.vn/cong-dong?page=4409! Try again in 3 seconds.\n"
     ]
    },
    {
     "name": "stderr",
     "output_type": "stream",
     "text": [
      "Processing page 4404: : 0it [00:00, ?it/s]\n"
     ]
    },
    {
     "name": "stdout",
     "output_type": "stream",
     "text": [
      "Can't get connection to https://ivie.vn/cong-dong?page=4403! Try again in 3 seconds.\n",
      "Can't get connection to https://ivie.vn/cong-dong?page=4408! Try again in 3 seconds.\n",
      "Can't get connection to https://ivie.vn/cong-dong?page=4406! Try again in 3 seconds.\n"
     ]
    },
    {
     "name": "stderr",
     "output_type": "stream",
     "text": [
      "Processing page 4409: : 0it [00:00, ?it/s]\n"
     ]
    },
    {
     "name": "stdout",
     "output_type": "stream",
     "text": [
      "Can't get connection to https://ivie.vn/cong-dong?page=4403! Try again in 3 seconds.\n",
      "Can't get connection to https://ivie.vn/cong-dong?page=4410! Try again in 3 seconds.\n"
     ]
    },
    {
     "name": "stderr",
     "output_type": "stream",
     "text": [
      "Processing page 4408: : 0it [00:00, ?it/s]\n"
     ]
    },
    {
     "name": "stdout",
     "output_type": "stream",
     "text": [
      "Can't get connection to https://ivie.vn/cong-dong?page=4411! Try again in 3 seconds.\n",
      "Can't get connection to https://ivie.vn/cong-dong?page=4406! Try again in 3 seconds.\n",
      "Can't get connection to https://ivie.vn/cong-dong?page=4412! Try again in 3 seconds.\n",
      "Can't get connection to https://ivie.vn/cong-dong?page=4403! Try again in 3 seconds.\n",
      "Can't get connection to https://ivie.vn/cong-dong?page=4410! Try again in 3 seconds.\n"
     ]
    },
    {
     "name": "stderr",
     "output_type": "stream",
     "text": [
      "Processing page 4406: : 0it [00:00, ?it/s]\n",
      "Processing page 4411: : 0it [00:00, ?it/s]\n",
      "Processing page 4412: : 0it [00:00, ?it/s]\n"
     ]
    },
    {
     "name": "stdout",
     "output_type": "stream",
     "text": [
      "Can't get connection to https://ivie.vn/cong-dong?page=4403! Try again in 3 seconds.\n"
     ]
    },
    {
     "name": "stderr",
     "output_type": "stream",
     "text": [
      "Processing page 4410: : 0it [00:00, ?it/s]\n"
     ]
    },
    {
     "name": "stdout",
     "output_type": "stream",
     "text": [
      "Can't get connection to https://ivie.vn/cong-dong?page=4413! Try again in 3 seconds.\n",
      "Can't get connection to https://ivie.vn/cong-dong?page=4414! Try again in 3 seconds.\n"
     ]
    },
    {
     "name": "stderr",
     "output_type": "stream",
     "text": [
      "Processing page 4415: : 0it [00:00, ?it/s]\n",
      "Processing page 4416: : 0it [00:00, ?it/s]\n"
     ]
    },
    {
     "name": "stdout",
     "output_type": "stream",
     "text": [
      "Can't get connection to https://ivie.vn/cong-dong?page=4403! Try again in 3 seconds.\n"
     ]
    },
    {
     "name": "stderr",
     "output_type": "stream",
     "text": [
      "Processing page 4413: : 0it [00:00, ?it/s]\n",
      "Processing page 4417: : 0it [00:00, ?it/s]\n"
     ]
    },
    {
     "name": "stdout",
     "output_type": "stream",
     "text": [
      "Can't get connection to https://ivie.vn/cong-dong?page=4418! Try again in 3 seconds.\n"
     ]
    },
    {
     "name": "stderr",
     "output_type": "stream",
     "text": [
      "Processing page 4414: : 0it [00:00, ?it/s]\n",
      "Processing page 4403: : 0it [00:00, ?it/s]\n"
     ]
    },
    {
     "name": "stdout",
     "output_type": "stream",
     "text": [
      "Can't get connection to https://ivie.vn/cong-dong?page=4420! Try again in 3 seconds.\n"
     ]
    },
    {
     "name": "stderr",
     "output_type": "stream",
     "text": [
      "Processing page 4421: : 0it [00:00, ?it/s]\n",
      "Processing page 4418: : 0it [00:00, ?it/s]\n"
     ]
    },
    {
     "name": "stdout",
     "output_type": "stream",
     "text": [
      "Can't get connection to https://ivie.vn/cong-dong?page=4419! Try again in 3 seconds.\n"
     ]
    },
    {
     "name": "stderr",
     "output_type": "stream",
     "text": [
      "Processing page 4422: : 0it [00:00, ?it/s]\n",
      "Processing page 4423: : 0it [00:00, ?it/s]\n",
      "Processing page 4420: : 0it [00:00, ?it/s]\n"
     ]
    },
    {
     "name": "stdout",
     "output_type": "stream",
     "text": [
      "Can't get connection to https://ivie.vn/cong-dong?page=4424! Try again in 3 seconds.\n",
      "Can't get connection to https://ivie.vn/cong-dong?page=4419! Try again in 3 seconds.\n",
      "Can't get connection to https://ivie.vn/cong-dong?page=4425! Try again in 3 seconds.\n"
     ]
    },
    {
     "name": "stderr",
     "output_type": "stream",
     "text": [
      "Processing page 4426: : 0it [00:00, ?it/s]\n",
      "Processing page 4427: : 0it [00:00, ?it/s]\n"
     ]
    },
    {
     "name": "stdout",
     "output_type": "stream",
     "text": [
      "Can't get connection to https://ivie.vn/cong-dong?page=4424! Try again in 3 seconds.\n",
      "Can't get connection to https://ivie.vn/cong-dong?page=4419! Try again in 3 seconds.\n"
     ]
    },
    {
     "name": "stderr",
     "output_type": "stream",
     "text": [
      "Processing page 4425: : 0it [00:00, ?it/s]\n"
     ]
    },
    {
     "name": "stdout",
     "output_type": "stream",
     "text": [
      "Can't get connection to https://ivie.vn/cong-dong?page=4428! Try again in 3 seconds.\n"
     ]
    },
    {
     "name": "stderr",
     "output_type": "stream",
     "text": [
      "Processing page 4429: : 0it [00:00, ?it/s]\n",
      "Processing page 4424: : 0it [00:00, ?it/s]\n",
      "Processing page 4419: : 0it [00:00, ?it/s]\n"
     ]
    },
    {
     "name": "stdout",
     "output_type": "stream",
     "text": [
      "Can't get connection to https://ivie.vn/cong-dong?page=4430! Try again in 3 seconds.\n",
      "Can't get connection to https://ivie.vn/cong-dong?page=4431! Try again in 3 seconds.\n"
     ]
    },
    {
     "name": "stderr",
     "output_type": "stream",
     "text": [
      "Processing page 4432: : 0it [00:00, ?it/s]\n"
     ]
    },
    {
     "name": "stdout",
     "output_type": "stream",
     "text": [
      "Can't get connection to https://ivie.vn/cong-dong?page=4428! Try again in 3 seconds.\n"
     ]
    },
    {
     "name": "stderr",
     "output_type": "stream",
     "text": [
      "Processing page 4433: : 0it [00:00, ?it/s]\n"
     ]
    },
    {
     "name": "stdout",
     "output_type": "stream",
     "text": [
      "Can't get connection to https://ivie.vn/cong-dong?page=4431! Try again in 3 seconds.\n"
     ]
    },
    {
     "name": "stderr",
     "output_type": "stream",
     "text": [
      "Processing page 4430: : 0it [00:00, ?it/s]\n",
      "Processing page 4434: : 0it [00:00, ?it/s]\n",
      "Processing page 4428: : 0it [00:00, ?it/s]\n",
      "Processing page 4435: : 0it [00:00, ?it/s]\n",
      "Processing page 4437: : 0it [00:00, ?it/s]\n"
     ]
    },
    {
     "name": "stdout",
     "output_type": "stream",
     "text": [
      "Can't get connection to https://ivie.vn/cong-dong?page=4438! Try again in 3 seconds.\n",
      "Can't get connection to https://ivie.vn/cong-dong?page=4439! Try again in 3 seconds.\n",
      "Can't get connection to https://ivie.vn/cong-dong?page=4431! Try again in 3 seconds.\n"
     ]
    },
    {
     "name": "stderr",
     "output_type": "stream",
     "text": [
      "Processing page 4436: : 0it [00:00, ?it/s]\n",
      "Processing page 4440: : 0it [00:00, ?it/s]\n"
     ]
    },
    {
     "name": "stdout",
     "output_type": "stream",
     "text": [
      "Can't get connection to https://ivie.vn/cong-dong?page=4438! Try again in 3 seconds.\n"
     ]
    },
    {
     "name": "stderr",
     "output_type": "stream",
     "text": [
      "Processing page 4439: : 0it [00:00, ?it/s]\n"
     ]
    },
    {
     "name": "stdout",
     "output_type": "stream",
     "text": [
      "Can't get connection to https://ivie.vn/cong-dong?page=4431! Try again in 3 seconds.\n"
     ]
    },
    {
     "name": "stderr",
     "output_type": "stream",
     "text": [
      "Processing page 4442: : 0it [00:00, ?it/s]\n"
     ]
    },
    {
     "name": "stdout",
     "output_type": "stream",
     "text": [
      "Can't get connection to https://ivie.vn/cong-dong?page=4441! Try again in 3 seconds.\n"
     ]
    },
    {
     "name": "stderr",
     "output_type": "stream",
     "text": [
      "Processing page 4443: : 0it [00:00, ?it/s]\n",
      "Processing page 4438: : 0it [00:00, ?it/s]\n",
      "Processing page 4444: : 0it [00:00, ?it/s]\n",
      "Processing page 4431: : 0it [00:00, ?it/s]\n",
      "Processing page 4441: : 0it [00:00, ?it/s]\n"
     ]
    },
    {
     "name": "stdout",
     "output_type": "stream",
     "text": [
      "Can't get connection to https://ivie.vn/cong-dong?page=4446! Try again in 3 seconds.\n"
     ]
    },
    {
     "name": "stderr",
     "output_type": "stream",
     "text": [
      "Processing page 4445: : 0it [00:00, ?it/s]\n"
     ]
    },
    {
     "name": "stdout",
     "output_type": "stream",
     "text": [
      "Can't get connection to https://ivie.vn/cong-dong?page=4447! Try again in 3 seconds.\n"
     ]
    },
    {
     "name": "stderr",
     "output_type": "stream",
     "text": [
      "Processing page 4448: : 0it [00:00, ?it/s]\n",
      "Processing page 4449: : 0it [00:00, ?it/s]\n",
      "Processing page 4450: : 0it [00:00, ?it/s]\n",
      "Processing page 4451: : 0it [00:00, ?it/s]\n",
      "Processing page 4446: : 0it [00:00, ?it/s]\n",
      "Processing page 4452: : 0it [00:00, ?it/s]\n",
      "Processing page 4453: : 0it [00:00, ?it/s]\n",
      "Processing page 4447: : 0it [00:00, ?it/s]\n",
      "Processing page 4454: : 0it [00:00, ?it/s]\n",
      "Processing page 4456: : 0it [00:00, ?it/s]\n",
      "Processing page 4457: : 0it [00:00, ?it/s]\n",
      "Processing page 4455: : 0it [00:00, ?it/s]\n"
     ]
    },
    {
     "name": "stdout",
     "output_type": "stream",
     "text": [
      "Can't get connection to https://ivie.vn/cong-dong?page=4459! Try again in 3 seconds.\n"
     ]
    },
    {
     "name": "stderr",
     "output_type": "stream",
     "text": [
      "Processing page 4460: : 0it [00:00, ?it/s]\n"
     ]
    },
    {
     "name": "stdout",
     "output_type": "stream",
     "text": [
      "Can't get connection to https://ivie.vn/cong-dong?page=4458! Try again in 3 seconds.\n"
     ]
    },
    {
     "name": "stderr",
     "output_type": "stream",
     "text": [
      "Processing page 4461: : 0it [00:00, ?it/s]\n",
      "Processing page 4462: : 0it [00:00, ?it/s]\n"
     ]
    },
    {
     "name": "stdout",
     "output_type": "stream",
     "text": [
      "Can't get connection to https://ivie.vn/cong-dong?page=4459! Try again in 3 seconds.\n",
      "Can't get connection to https://ivie.vn/cong-dong?page=4463! Try again in 3 seconds.\n",
      "Can't get connection to https://ivie.vn/cong-dong?page=4464! Try again in 3 seconds.\n",
      "Can't get connection to https://ivie.vn/cong-dong?page=4465! Try again in 3 seconds.\n",
      "Can't get connection to https://ivie.vn/cong-dong?page=4458! Try again in 3 seconds.\n"
     ]
    },
    {
     "name": "stderr",
     "output_type": "stream",
     "text": [
      "Processing page 4459: : 0it [00:00, ?it/s]\n",
      "Processing page 4463: : 0it [00:00, ?it/s]\n"
     ]
    },
    {
     "name": "stdout",
     "output_type": "stream",
     "text": [
      "Can't get connection to https://ivie.vn/cong-dong?page=4464! Try again in 3 seconds.\n"
     ]
    },
    {
     "name": "stderr",
     "output_type": "stream",
     "text": [
      "Processing page 4458: : 0it [00:00, ?it/s]\n",
      "Processing page 4465: : 0it [00:00, ?it/s]\n"
     ]
    },
    {
     "name": "stdout",
     "output_type": "stream",
     "text": [
      "Can't get connection to https://ivie.vn/cong-dong?page=4466! Try again in 3 seconds.\n",
      "Can't get connection to https://ivie.vn/cong-dong?page=4467! Try again in 3 seconds.\n"
     ]
    },
    {
     "name": "stderr",
     "output_type": "stream",
     "text": [
      "Processing page 4468: : 0it [00:00, ?it/s]\n",
      "Processing page 4469: : 0it [00:00, ?it/s]\n",
      "Processing page 4464: : 0it [00:00, ?it/s]\n",
      "Processing page 4466: : 0it [00:00, ?it/s]\n",
      "Processing page 4470: : 0it [00:00, ?it/s]\n",
      "Processing page 4467: : 0it [00:00, ?it/s]\n",
      "Processing page 4471: : 0it [00:00, ?it/s]\n"
     ]
    },
    {
     "name": "stdout",
     "output_type": "stream",
     "text": [
      "Can't get connection to https://ivie.vn/cong-dong?page=4472! Try again in 3 seconds.\n",
      "Can't get connection to https://ivie.vn/cong-dong?page=4473! Try again in 3 seconds.\n"
     ]
    },
    {
     "name": "stderr",
     "output_type": "stream",
     "text": [
      "Processing page 4474: : 0it [00:00, ?it/s]\n"
     ]
    },
    {
     "name": "stdout",
     "output_type": "stream",
     "text": [
      "Can't get connection to https://ivie.vn/cong-dong?page=4475! Try again in 3 seconds.\n"
     ]
    },
    {
     "name": "stderr",
     "output_type": "stream",
     "text": [
      "Processing page 4476: : 0it [00:00, ?it/s]\n",
      "Processing page 4473: : 0it [00:00, ?it/s]\n"
     ]
    },
    {
     "name": "stdout",
     "output_type": "stream",
     "text": [
      "Can't get connection to https://ivie.vn/cong-dong?page=4472! Try again in 3 seconds.\n",
      "Can't get connection to https://ivie.vn/cong-dong?page=4478! Try again in 3 seconds.\n"
     ]
    },
    {
     "name": "stderr",
     "output_type": "stream",
     "text": [
      "Processing page 4477: : 0it [00:00, ?it/s]\n",
      "Processing page 4475: : 0it [00:00, ?it/s]\n"
     ]
    },
    {
     "name": "stdout",
     "output_type": "stream",
     "text": [
      "Can't get connection to https://ivie.vn/cong-dong?page=4479! Try again in 3 seconds.\n",
      "Can't get connection to https://ivie.vn/cong-dong?page=4472! Try again in 3 seconds.\n",
      "Can't get connection to https://ivie.vn/cong-dong?page=4478! Try again in 3 seconds.\n",
      "Can't get connection to https://ivie.vn/cong-dong?page=4481! Try again in 3 seconds.\n",
      "Can't get connection to https://ivie.vn/cong-dong?page=4479! Try again in 3 seconds.\n"
     ]
    },
    {
     "name": "stderr",
     "output_type": "stream",
     "text": [
      "Processing page 4472: : 0it [00:00, ?it/s]\n",
      "Processing page 4480: : 0it [00:00, ?it/s]\n",
      "Processing page 4478: : 0it [00:00, ?it/s]\n"
     ]
    },
    {
     "name": "stdout",
     "output_type": "stream",
     "text": [
      "Can't get connection to https://ivie.vn/cong-dong?page=4481! Try again in 3 seconds.\n"
     ]
    },
    {
     "name": "stderr",
     "output_type": "stream",
     "text": [
      "Processing page 4482: : 0it [00:00, ?it/s]\n",
      "Processing page 4483: : 0it [00:00, ?it/s]\n"
     ]
    },
    {
     "name": "stdout",
     "output_type": "stream",
     "text": [
      "Can't get connection to https://ivie.vn/cong-dong?page=4479! Try again in 3 seconds.\n",
      "Can't get connection to https://ivie.vn/cong-dong?page=4484! Try again in 3 seconds.\n"
     ]
    },
    {
     "name": "stderr",
     "output_type": "stream",
     "text": [
      "Processing page 4485: : 0it [00:00, ?it/s]\n"
     ]
    },
    {
     "name": "stdout",
     "output_type": "stream",
     "text": [
      "Can't get connection to https://ivie.vn/cong-dong?page=4481! Try again in 3 seconds.\n"
     ]
    },
    {
     "name": "stderr",
     "output_type": "stream",
     "text": [
      "Processing page 4486: : 0it [00:00, ?it/s]\n",
      "Processing page 4479: : 0it [00:00, ?it/s]\n",
      "Processing page 4487: : 0it [00:00, ?it/s]\n",
      "Processing page 4484: : 0it [00:00, ?it/s]\n",
      "Processing page 4488: : 0it [00:00, ?it/s]\n"
     ]
    },
    {
     "name": "stdout",
     "output_type": "stream",
     "text": [
      "Can't get connection to https://ivie.vn/cong-dong?page=4489! Try again in 3 seconds.\n"
     ]
    },
    {
     "name": "stderr",
     "output_type": "stream",
     "text": [
      "Processing page 4481: : 0it [00:00, ?it/s]\n",
      "Processing page 4492: : 0it [00:00, ?it/s]\n",
      "Processing page 4490: : 0it [00:00, ?it/s]\n"
     ]
    },
    {
     "name": "stdout",
     "output_type": "stream",
     "text": [
      "Can't get connection to https://ivie.vn/cong-dong?page=4491! Try again in 3 seconds.\n",
      "Can't get connection to https://ivie.vn/cong-dong?page=4493! Try again in 3 seconds.\n"
     ]
    },
    {
     "name": "stderr",
     "output_type": "stream",
     "text": [
      "Processing page 4489: : 0it [00:00, ?it/s]\n"
     ]
    },
    {
     "name": "stdout",
     "output_type": "stream",
     "text": [
      "Can't get connection to https://ivie.vn/cong-dong?page=4494! Try again in 3 seconds.\n",
      "Can't get connection to https://ivie.vn/cong-dong?page=4493! Try again in 3 seconds.\n",
      "Can't get connection to https://ivie.vn/cong-dong?page=4491! Try again in 3 seconds.\n",
      "Can't get connection to https://ivie.vn/cong-dong?page=4494! Try again in 3 seconds.\n"
     ]
    },
    {
     "name": "stderr",
     "output_type": "stream",
     "text": [
      "Processing page 4493: : 0it [00:00, ?it/s]\n",
      "Processing page 4491: : 0it [00:00, ?it/s]\n",
      "Processing page 4494: : 0it [00:00, ?it/s]\n"
     ]
    }
   ],
   "source": [
    "with ThreadPoolExecutor(max_workers=5) as executor:\n",
    "    results = list(executor.map(crawling_one_page, [i for i in range(1, 4495)]))"
   ]
  },
  {
   "cell_type": "markdown",
   "metadata": {},
   "source": [
    "# Tách specialty cho Da Liễu"
   ]
  },
  {
   "cell_type": "code",
   "execution_count": 6,
   "metadata": {},
   "outputs": [],
   "source": [
    "da_lieu_dict = {\n",
    "    \"specialty\": [],\n",
    "    \"title\": [],\n",
    "    \"gender\": [],\n",
    "    \"age\": [],\n",
    "    \"text\": []\n",
    "}\n",
    "\n",
    "# Duyệt qua từng mục trong data_dict\n",
    "for i in range(len(data_dict[\"specialty\"])):\n",
    "    if \"Da Liễu\" in data_dict[\"specialty\"][i]:\n",
    "        da_lieu_dict[\"specialty\"].append(data_dict[\"specialty\"][i])\n",
    "        da_lieu_dict[\"title\"].append(data_dict[\"title\"][i])\n",
    "        da_lieu_dict[\"gender\"].append(data_dict[\"gender\"][i])\n",
    "        da_lieu_dict[\"age\"].append(data_dict[\"age\"][i])\n",
    "        da_lieu_dict[\"text\"].append(data_dict[\"text\"][i])"
   ]
  },
  {
   "cell_type": "markdown",
   "metadata": {},
   "source": [
    "# Lưu data"
   ]
  },
  {
   "cell_type": "code",
   "execution_count": 7,
   "metadata": {},
   "outputs": [
    {
     "name": "stdout",
     "output_type": "stream",
     "text": [
      "Số lượng dữ liệu trong ivie_datacrawling.csv cào được: 4942\n",
      "Số lượng dữ liệu trong dalieu_ivie_datacrawling.csv cào được: 644\n"
     ]
    }
   ],
   "source": [
    "import pandas as pd\n",
    "df = pd.DataFrame(data_dict)\n",
    "df.to_csv(\"ivie_datacrawling.csv\", index=False)\n",
    "print(f\"Số lượng dữ liệu trong ivie_datacrawling.csv cào được: {df.shape[0]}\")\n",
    "\n",
    "df = pd.DataFrame(da_lieu_dict)\n",
    "df.to_csv(\"dalieu_ivie_datacrawling.csv\", index=False)\n",
    "print(f\"Số lượng dữ liệu trong dalieu_ivie_datacrawling.csv cào được: {df.shape[0]}\")"
   ]
  },
  {
   "cell_type": "code",
   "execution_count": null,
   "metadata": {},
   "outputs": [],
   "source": []
  }
 ],
 "metadata": {
  "kernelspec": {
   "display_name": "Python 3",
   "language": "python",
   "name": "python3"
  },
  "language_info": {
   "codemirror_mode": {
    "name": "ipython",
    "version": 3
   },
   "file_extension": ".py",
   "mimetype": "text/x-python",
   "name": "python",
   "nbconvert_exporter": "python",
   "pygments_lexer": "ipython3",
   "version": "3.10.14"
  }
 },
 "nbformat": 4,
 "nbformat_minor": 2
}
