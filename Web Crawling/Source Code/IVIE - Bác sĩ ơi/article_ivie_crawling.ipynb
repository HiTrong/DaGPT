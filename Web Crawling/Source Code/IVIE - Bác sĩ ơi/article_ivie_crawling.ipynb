{
 "cells": [
  {
   "cell_type": "markdown",
   "metadata": {},
   "source": [
    "# Import thư viện"
   ]
  },
  {
   "cell_type": "code",
   "execution_count": 1,
   "metadata": {},
   "outputs": [
    {
     "name": "stderr",
     "output_type": "stream",
     "text": [
      "d:\\TLCN\\Source Code\\GPT test\\gptenv\\lib\\site-packages\\tqdm\\auto.py:21: TqdmWarning: IProgress not found. Please update jupyter and ipywidgets. See https://ipywidgets.readthedocs.io/en/stable/user_install.html\n",
      "  from .autonotebook import tqdm as notebook_tqdm\n"
     ]
    }
   ],
   "source": [
    "import requests\n",
    "from bs4 import BeautifulSoup\n",
    "from tqdm.auto import tqdm\n",
    "from selenium import webdriver\n",
    "from selenium.webdriver.chrome.service import Service\n",
    "from webdriver_manager.chrome import ChromeDriverManager\n",
    "from selenium.webdriver.common.by import By\n",
    "from concurrent.futures import ThreadPoolExecutor\n",
    "import pandas as pd\n",
    "import re\n",
    "import time "
   ]
  },
  {
   "cell_type": "markdown",
   "metadata": {},
   "source": [
    "# Url seed & keyword"
   ]
  },
  {
   "cell_type": "code",
   "execution_count": 2,
   "metadata": {},
   "outputs": [],
   "source": [
    "url_skip = [\n",
    "    \"/\",\n",
    "    \"/cong-dong\",\n",
    "    \"/ho-so-suc-khoe\",\n",
    "    \"/cam-nang-y-te\",\n",
    "    \"/huong-dan-di-kham-1\",\n",
    "    \"/san-phu-khoa-0\",\n",
    "    \"/benh-xuong-khop-0\",\n",
    "    \"/giao-duc-gioi-tinh-0\",\n",
    "    \"/benh-tieu-hoa-0\",\n",
    "    \"/tai-bien-mach-mau-nao-0\",\n",
    "    \"/tu-dien-xet-nghiem-0\",\n",
    "    \"/noi-khoa-0\",\n",
    "    \"/vaccine-covid--0\",\n",
    "    \"/covid-va-cham-soc-f--0\",\n",
    "    \"/rang-mieng-0\",\n",
    "    \"/covid--0\",\n",
    "    \"/benh-tim-mach-0\",\n",
    "    \"/nam-hoc-1\",\n",
    "    \"/tai-mui-hong-0\",\n",
    "    \"/mat-0\",\n",
    "    \"/nhi-khoa-0\",\n",
    "    \"/benh-truyen-nhiem-0\",\n",
    "    \"/hau-mon-truc-trang-0\",\n",
    "    \"/tin-tuc-0\",\n",
    "    \"/suc-khoe-sinh-san-0\",\n",
    "    \"/phuc-hoi-chuc-nang-0\",\n",
    "    \"/tam-than-tam-ly-0\",\n",
    "    \"/benh-ly-da-lieu-0\",\n",
    "    \"/benh-noi-tiet-0\",\n",
    "    \"/benh-than-kinh-0\",\n",
    "    \"/than-tieu-nieu-0\",\n",
    "    \"/tiem-chung-0\",\n",
    "    \"/kham-tong-quat-0\",\n",
    "    \"/ngo-doc-0\",\n",
    "    \"/di-truyen-0\",\n",
    "    \"/benh-ly-di-ung-0\",\n",
    "    \"/bac-si-oi-nhan-ai-0\",\n",
    "    \"/goi-kham-suc-khoe-0\",\n",
    "    \"/benh-ly-giao-mua-0\",\n",
    "    \"/huong-dan-su-dung-1\",\n",
    "    \"/giu-suc-khoe-dip-le-0\",\n",
    "    \"/y-hoc-co-truyen-0\",\n",
    "    \"/sinh-ly-hoc-tham-do-chuc-nang-0\",\n",
    "    \"/podcast-ivie-bac-si-oi-0\",\n",
    "    \"/chan-doan-hinh-anh-0\",\n",
    "    \"/benh-ho-hap-0\",\n",
    "    \"/bac-si-noi-bat\",\n",
    "    \"/tim-benh-vien\",\n",
    "    \"/dich-vu\",\n",
    "    \"/tro-thanh-nha-ban-hang-chien-luoc-cung-ivie-shopping-mall\",\n",
    "    \"/cong-dong\",\n",
    "    \"/cam-nang-y-te\",\n",
    "    \"/doi-tac\",\n",
    "    \"/dieu-khoan-su-dung-cua-isofhcare-0\",\n",
    "    \"/chinh-sach-bao-mat-thong-tin-isofhcare-0\",\n",
    "    \"/quy-che-hoat-dong-cua-website-san-giao-dich-thuong-mai-dien-tu-isofhcare-com-0\"\n",
    "]\n",
    "\n",
    "url_seed = {\n",
    "    \"/san-phu-khoa-0\": \"Sản phụ khoa\",\n",
    "    \"/benh-xuong-khop-0\": \"Bệnh xương khớp\",\n",
    "    \"/giao-duc-gioi-tinh-0\": \"Giáo dục giới tính\",\n",
    "    \"/benh-tieu-hoa-0\": \"Bệnh tiêu hóa\",\n",
    "    \"/tai-bien-mach-mau-nao-0\": \"Tai biến mạch máu não\",\n",
    "    \"/tu-dien-xet-nghiem-0\": \"Từ điển xét nghiệm\",\n",
    "    \"/noi-khoa-0\": \"Nội khoa\",\n",
    "    \"/vaccine-covid--0\": \"Vaccine COVID\",\n",
    "    \"/covid-va-cham-soc-f--0\": \"COVID và chăm sóc F0\",\n",
    "    \"/rang-mieng-0\": \"Răng miệng\",\n",
    "    \"/covid--0\": \"COVID\",\n",
    "    \"/benh-tim-mach-0\": \"Bệnh tim mạch\",\n",
    "    \"/nam-hoc-1\": \"Nam học\",\n",
    "    \"/tai-mui-hong-0\": \"Tai mũi họng\",\n",
    "    \"/mat-0\": \"Mắt\",\n",
    "    \"/nhi-khoa-0\": \"Nhi khoa\",\n",
    "    \"/benh-truyen-nhiem-0\": \"Bệnh truyền nhiễm\",\n",
    "    \"/hau-mon-truc-trang-0\": \"Hậu môn trực tràng\",\n",
    "    \"/suc-khoe-sinh-san-0\": \"Sức khỏe sinh sản\",\n",
    "    \"/phuc-hoi-chuc-nang-0\": \"Phục hồi chức năng\",\n",
    "    \"/tam-than-tam-ly-0\": \"Tâm thần tâm lý\",\n",
    "    \"/benh-ly-da-lieu-0\": \"Bệnh lý da liễu\",\n",
    "    \"/benh-noi-tiet-0\": \"Bệnh nội tiết\",\n",
    "    \"/benh-than-kinh-0\": \"Bệnh thần kinh\",\n",
    "    \"/than-tieu-nieu-0\": \"Thận tiết niệu\",\n",
    "    \"/tiem-chung-0\": \"Tiêm chủng\",\n",
    "    \"/ngo-doc-0\": \"Ngộ độc\",\n",
    "    \"/di-truyen-0\": \"Di truyền\",\n",
    "    \"/benh-ly-di-ung-0\": \"Bệnh lý dị ứng\",\n",
    "    \"/benh-ly-giao-mua-0\": \"Bệnh lý giao mùa\",\n",
    "    \"/giu-suc-khoe-dip-le-0\": \"Giữ sức khỏe dịp lễ\",\n",
    "    \"/y-hoc-co-truyen-0\": \"Y học cổ truyền\",\n",
    "    \"/sinh-ly-hoc-tham-do-chuc-nang-0\": \"Sinh lý học thăm dò chức năng\",\n",
    "    \"/chan-doan-hinh-anh-0\": \"Chẩn đoán hình ảnh\",\n",
    "    \"/benh-ho-hap-0\": \"Bệnh hô hấp\"\n",
    "}\n",
    "\n",
    "url_template = \"https://ivie.vn{}\""
   ]
  },
  {
   "cell_type": "markdown",
   "metadata": {},
   "source": [
    "# Crawling"
   ]
  },
  {
   "cell_type": "code",
   "execution_count": 19,
   "metadata": {},
   "outputs": [],
   "source": [
    "data_dict = {\n",
    "    \"specialty\": [], \n",
    "    \"title\": [],\n",
    "    \"text\": []\n",
    "}"
   ]
  },
  {
   "cell_type": "code",
   "execution_count": 20,
   "metadata": {},
   "outputs": [],
   "source": [
    "def get_html(url):\n",
    "    try_again = 0\n",
    "    while True:\n",
    "        try:\n",
    "            # Gửi yêu cầu HTTP để lấy nội dung HTML\n",
    "            response = requests.get(url)\n",
    "            \n",
    "            if response.status_code == 200:\n",
    "                html_content = response.text\n",
    "                if html_content is None:\n",
    "                    try_again = 1\n",
    "                    print(f\"BeautifulSoup: None to {url}! Try again ({try_again}) in 3 seconds\")\n",
    "                    time.sleep(3)\n",
    "                    continue\n",
    "                return html_content\n",
    "        except:\n",
    "            if try_again>=20:\n",
    "                return None\n",
    "            try_again += 1\n",
    "            print(f\"BeautifulSoup: Unable to connect to {url}! Try again ({try_again}) in 3 seconds\")\n",
    "            time.sleep(3)\n",
    "        \n",
    "def get_html_selenium(url):\n",
    "    try_again = 0\n",
    "    while True:\n",
    "        try:\n",
    "            # Khởi động trình duyệt Chrome với WebDriverManager\n",
    "            driver = webdriver.Chrome(service=Service(ChromeDriverManager().install()))\n",
    "            driver.set_page_load_timeout(10)\n",
    "            # Điều hướng đến trang web\n",
    "            driver.get(url)\n",
    "\n",
    "            # Lấy mã HTML của trang\n",
    "            html_source = driver.page_source\n",
    "            driver.quit()\n",
    "            return html_source\n",
    "        except:\n",
    "            if try_again==10:\n",
    "                return None\n",
    "            try_again += 1\n",
    "            print(f\"Selenium: Can't get connection to {url}! Try again ({try_again}) in 3 seconds.\")\n",
    "            time.sleep(3)\n",
    "\n",
    "def save_csv(data):\n",
    "    df = pd.DataFrame(data)\n",
    "    df.to_csv(\"nhi_khoa_ivie_article_crawling.csv\",index=False)\n",
    "\n",
    "def crawling(url):\n",
    "    href_processed = []\n",
    "    try:\n",
    "        page=1\n",
    "        while True:\n",
    "            url_page = url_template.format(url + \"?page=\" + str(page))\n",
    "            html_content_page = get_html_selenium(url_page)\n",
    "            if html_content_page is None:\n",
    "                break\n",
    "            soup = BeautifulSoup(html_content_page, 'html.parser')\n",
    "            url_article = []\n",
    "            links = soup.find_all('a')\n",
    "            for link in links:\n",
    "                href = link.get('href')\n",
    "                if href is not None:\n",
    "                    if href not in url_skip and \"/\" in href and url not in href and \"/tim-kiem/\" not in href and href not in href_processed and \"http\" not in href and \"www\" not in href:\n",
    "                        url_article.append(url_template.format(href))\n",
    "                        href_processed.append(href)\n",
    "            if len(url_article) == 0:\n",
    "                break\n",
    "            for link in tqdm(url_article, desc=f\"Phân tích khoa {url_seed[url]} trang {page}: \"):\n",
    "                html_content = get_html(link)\n",
    "                if html_content is None:\n",
    "                    continue\n",
    "                soup = BeautifulSoup(html_content, 'html.parser')\n",
    "                text = re.sub(r'\\n+', '\\n', soup.select('div.detail__DetailBody-sc-xxj5tu-4.styleHelpers__styledSystem-sc-1x1jqqv-0.hYPtGx.eKGzPD.mostly-customized-scrollbar.content-html')[0].text)\n",
    "                specialty = url_seed[url]\n",
    "                title = soup.find_all('h1')[0].text\n",
    "                data_dict[\"specialty\"].append(specialty)\n",
    "                data_dict[\"title\"].append(title)\n",
    "                data_dict[\"text\"].append(text)\n",
    "            save_csv(data_dict)\n",
    "            print(\"ĐÃ LƯU!\")\n",
    "            page+=1\n",
    "    except:\n",
    "        print(f\"Error with {url_seed[url]}! Current page: {page}\")"
   ]
  },
  {
   "cell_type": "code",
   "execution_count": 5,
   "metadata": {},
   "outputs": [
    {
     "name": "stdout",
     "output_type": "stream",
     "text": [
      "Selenium: Can't get connection to https://ivie.vn/san-phu-khoa-0?page=1! Try again (1) in 3 seconds.\n"
     ]
    },
    {
     "name": "stderr",
     "output_type": "stream",
     "text": [
      "Phân tích khoa Bệnh xương khớp trang 1:  84%|████████▍ | 16/19 [00:11<00:03,  1.02s/it]"
     ]
    },
    {
     "name": "stdout",
     "output_type": "stream",
     "text": [
      "Selenium: Can't get connection to https://ivie.vn/benh-tieu-hoa-0?page=1! Try again (1) in 3 seconds.\n"
     ]
    },
    {
     "name": "stderr",
     "output_type": "stream",
     "text": [
      "Phân tích khoa Bệnh xương khớp trang 1: 100%|██████████| 19/19 [00:14<00:00,  1.34it/s]\n"
     ]
    },
    {
     "name": "stdout",
     "output_type": "stream",
     "text": [
      "ĐÃ LƯU!\n",
      "Selenium: Can't get connection to https://ivie.vn/san-phu-khoa-0?page=1! Try again (2) in 3 seconds.\n"
     ]
    },
    {
     "name": "stderr",
     "output_type": "stream",
     "text": [
      "Phân tích khoa Bệnh xương khớp trang 2: 100%|██████████| 9/9 [00:04<00:00,  1.91it/s]\n"
     ]
    },
    {
     "name": "stdout",
     "output_type": "stream",
     "text": [
      "ĐÃ LƯU!\n"
     ]
    },
    {
     "name": "stderr",
     "output_type": "stream",
     "text": []
    },
    {
     "name": "stdout",
     "output_type": "stream",
     "text": [
      "Selenium: Can't get connection to https://ivie.vn/san-phu-khoa-0?page=1! Try again (3) in 3 seconds.\n"
     ]
    },
    {
     "name": "stderr",
     "output_type": "stream",
     "text": [
      "Phân tích khoa Bệnh tiêu hóa trang 1: 100%|██████████| 19/19 [00:14<00:00,  1.35it/s]\n"
     ]
    },
    {
     "name": "stdout",
     "output_type": "stream",
     "text": [
      "ĐÃ LƯU!\n",
      "Selenium: Can't get connection to https://ivie.vn/benh-xuong-khop-0?page=3! Try again (1) in 3 seconds.\n"
     ]
    },
    {
     "name": "stderr",
     "output_type": "stream",
     "text": [
      "Phân tích khoa Sản phụ khoa trang 1:  84%|████████▍ | 16/19 [00:10<00:02,  1.29it/s]\n",
      "\u001b[A\n",
      "Phân tích khoa Bệnh tiêu hóa trang 2: 100%|██████████| 9/9 [00:08<00:00,  1.08it/s]]\n",
      "\n",
      "\u001b[A"
     ]
    },
    {
     "name": "stdout",
     "output_type": "stream",
     "text": [
      "ĐÃ LƯU!\n"
     ]
    },
    {
     "name": "stderr",
     "output_type": "stream",
     "text": [
      "Phân tích khoa Sản phụ khoa trang 1:  95%|█████████▍| 18/19 [00:11<00:00,  1.35it/s]\n",
      "\u001b[A\n",
      "Phân tích khoa Sản phụ khoa trang 1: 100%|██████████| 19/19 [00:12<00:00,  1.50it/s]\n"
     ]
    },
    {
     "name": "stdout",
     "output_type": "stream",
     "text": [
      "ĐÃ LƯU!\n"
     ]
    },
    {
     "name": "stderr",
     "output_type": "stream",
     "text": [
      "\n",
      "\u001b[A\n",
      "\u001b[A\n",
      "\u001b[A\n",
      "\u001b[A\n",
      "Phân tích khoa Bệnh xương khớp trang 3: 100%|██████████| 9/9 [00:04<00:00,  1.91it/s]\n"
     ]
    },
    {
     "name": "stdout",
     "output_type": "stream",
     "text": [
      "ĐÃ LƯU!\n"
     ]
    },
    {
     "name": "stderr",
     "output_type": "stream",
     "text": [
      "Phân tích khoa Sản phụ khoa trang 2:  67%|██████▋   | 6/9 [00:05<00:02,  1.07it/s]"
     ]
    },
    {
     "name": "stdout",
     "output_type": "stream",
     "text": [
      "Selenium: Can't get connection to https://ivie.vn/benh-tieu-hoa-0?page=3! Try again (1) in 3 seconds.\n"
     ]
    },
    {
     "name": "stderr",
     "output_type": "stream",
     "text": [
      "Phân tích khoa Bệnh xương khớp trang 4: 100%|██████████| 9/9 [00:05<00:00,  1.76it/s]\n"
     ]
    },
    {
     "name": "stdout",
     "output_type": "stream",
     "text": [
      "ĐÃ LƯU!\n"
     ]
    },
    {
     "name": "stderr",
     "output_type": "stream",
     "text": [
      "Phân tích khoa Sản phụ khoa trang 2: 100%|██████████| 9/9 [00:08<00:00,  1.09it/s]\n"
     ]
    },
    {
     "name": "stdout",
     "output_type": "stream",
     "text": [
      "ĐÃ LƯU!\n",
      "Selenium: Can't get connection to https://ivie.vn/benh-xuong-khop-0?page=5! Try again (1) in 3 seconds.\n",
      "Selenium: Can't get connection to https://ivie.vn/benh-tieu-hoa-0?page=3! Try again (2) in 3 seconds.\n"
     ]
    },
    {
     "name": "stderr",
     "output_type": "stream",
     "text": [
      "Phân tích khoa Sản phụ khoa trang 3: 100%|██████████| 9/9 [00:08<00:00,  1.06it/s]\n"
     ]
    },
    {
     "name": "stdout",
     "output_type": "stream",
     "text": [
      "ĐÃ LƯU!\n"
     ]
    },
    {
     "name": "stderr",
     "output_type": "stream",
     "text": [
      "Phân tích khoa Bệnh xương khớp trang 5: 100%|██████████| 9/9 [00:04<00:00,  2.19it/s]\n"
     ]
    },
    {
     "name": "stdout",
     "output_type": "stream",
     "text": [
      "ĐÃ LƯU!\n"
     ]
    },
    {
     "name": "stderr",
     "output_type": "stream",
     "text": [
      "Phân tích khoa Bệnh tiêu hóa trang 3: 100%|██████████| 9/9 [00:04<00:00,  1.86it/s]\n",
      "Phân tích khoa Sản phụ khoa trang 4:   0%|          | 0/9 [00:00<?, ?it/s]"
     ]
    },
    {
     "name": "stdout",
     "output_type": "stream",
     "text": [
      "ĐÃ LƯU!\n"
     ]
    },
    {
     "name": "stderr",
     "output_type": "stream",
     "text": [
      "Phân tích khoa Sản phụ khoa trang 4: 100%|██████████| 9/9 [00:06<00:00,  1.36it/s]\n"
     ]
    },
    {
     "name": "stdout",
     "output_type": "stream",
     "text": [
      "ĐÃ LƯU!\n"
     ]
    },
    {
     "name": "stderr",
     "output_type": "stream",
     "text": [
      "Phân tích khoa Bệnh xương khớp trang 6: 100%|██████████| 9/9 [00:04<00:00,  2.04it/s]\n"
     ]
    },
    {
     "name": "stdout",
     "output_type": "stream",
     "text": [
      "ĐÃ LƯU!\n"
     ]
    },
    {
     "name": "stderr",
     "output_type": "stream",
     "text": [
      "Phân tích khoa Bệnh tiêu hóa trang 4: 100%|██████████| 8/8 [00:04<00:00,  1.85it/s]\n"
     ]
    },
    {
     "name": "stdout",
     "output_type": "stream",
     "text": [
      "ĐÃ LƯU!\n",
      "Selenium: Can't get connection to https://ivie.vn/san-phu-khoa-0?page=5! Try again (1) in 3 seconds.\n",
      "Selenium: Can't get connection to https://ivie.vn/benh-xuong-khop-0?page=7! Try again (1) in 3 seconds.\n"
     ]
    },
    {
     "name": "stderr",
     "output_type": "stream",
     "text": [
      "Phân tích khoa Bệnh tiêu hóa trang 5: 100%|██████████| 9/9 [00:04<00:00,  2.00it/s]\n"
     ]
    },
    {
     "name": "stdout",
     "output_type": "stream",
     "text": [
      "ĐÃ LƯU!\n"
     ]
    },
    {
     "name": "stderr",
     "output_type": "stream",
     "text": [
      "Phân tích khoa Sản phụ khoa trang 5: 100%|██████████| 9/9 [00:06<00:00,  1.30it/s]\n"
     ]
    },
    {
     "name": "stdout",
     "output_type": "stream",
     "text": [
      "ĐÃ LƯU!\n"
     ]
    },
    {
     "name": "stderr",
     "output_type": "stream",
     "text": [
      "Phân tích khoa Bệnh xương khớp trang 7: 100%|██████████| 9/9 [00:04<00:00,  2.22it/s]\n"
     ]
    },
    {
     "name": "stdout",
     "output_type": "stream",
     "text": [
      "ĐÃ LƯU!\n"
     ]
    },
    {
     "name": "stderr",
     "output_type": "stream",
     "text": [
      "Phân tích khoa Bệnh tiêu hóa trang 6: 100%|██████████| 9/9 [00:04<00:00,  1.92it/s]\n"
     ]
    },
    {
     "name": "stdout",
     "output_type": "stream",
     "text": [
      "ĐÃ LƯU!\n",
      "Selenium: Can't get connection to https://ivie.vn/san-phu-khoa-0?page=6! Try again (1) in 3 seconds.\n"
     ]
    },
    {
     "name": "stderr",
     "output_type": "stream",
     "text": [
      "Phân tích khoa Bệnh xương khớp trang 8: 100%|██████████| 9/9 [00:04<00:00,  1.82it/s]\n"
     ]
    },
    {
     "name": "stdout",
     "output_type": "stream",
     "text": [
      "ĐÃ LƯU!\n"
     ]
    },
    {
     "name": "stderr",
     "output_type": "stream",
     "text": [
      "Phân tích khoa Bệnh tiêu hóa trang 7: 100%|██████████| 9/9 [00:05<00:00,  1.76it/s]\n"
     ]
    },
    {
     "name": "stdout",
     "output_type": "stream",
     "text": [
      "ĐÃ LƯU!\n"
     ]
    },
    {
     "name": "stderr",
     "output_type": "stream",
     "text": [
      "Phân tích khoa Sản phụ khoa trang 6: 100%|██████████| 9/9 [00:05<00:00,  1.64it/s]\n"
     ]
    },
    {
     "name": "stdout",
     "output_type": "stream",
     "text": [
      "ĐÃ LƯU!\n",
      "Selenium: Can't get connection to https://ivie.vn/benh-xuong-khop-0?page=9! Try again (1) in 3 seconds.\n",
      "Selenium: Can't get connection to https://ivie.vn/benh-tieu-hoa-0?page=8! Try again (1) in 3 seconds.\n",
      "Selenium: Can't get connection to https://ivie.vn/san-phu-khoa-0?page=7! Try again (1) in 3 seconds.\n",
      "Selenium: Can't get connection to https://ivie.vn/benh-xuong-khop-0?page=9! Try again (2) in 3 seconds.\n"
     ]
    },
    {
     "name": "stderr",
     "output_type": "stream",
     "text": [
      "Phân tích khoa Sản phụ khoa trang 7: 100%|██████████| 9/9 [00:05<00:00,  1.52it/s]\n"
     ]
    },
    {
     "name": "stdout",
     "output_type": "stream",
     "text": [
      "ĐÃ LƯU!\n"
     ]
    },
    {
     "name": "stderr",
     "output_type": "stream",
     "text": [
      "Phân tích khoa Bệnh xương khớp trang 9: 100%|██████████| 9/9 [00:04<00:00,  2.18it/s]\n"
     ]
    },
    {
     "name": "stdout",
     "output_type": "stream",
     "text": [
      "ĐÃ LƯU!\n",
      "Selenium: Can't get connection to https://ivie.vn/tai-bien-mach-mau-nao-0?page=1! Try again (1) in 3 seconds.\n"
     ]
    },
    {
     "name": "stderr",
     "output_type": "stream",
     "text": [
      "Phân tích khoa Sản phụ khoa trang 8: 100%|██████████| 9/9 [00:04<00:00,  2.07it/s]\n"
     ]
    },
    {
     "name": "stdout",
     "output_type": "stream",
     "text": [
      "ĐÃ LƯU!\n"
     ]
    },
    {
     "name": "stderr",
     "output_type": "stream",
     "text": [
      "Phân tích khoa Bệnh xương khớp trang 10: 100%|██████████| 9/9 [00:04<00:00,  2.23it/s]\n"
     ]
    },
    {
     "name": "stdout",
     "output_type": "stream",
     "text": [
      "ĐÃ LƯU!\n"
     ]
    },
    {
     "name": "stderr",
     "output_type": "stream",
     "text": []
    },
    {
     "name": "stdout",
     "output_type": "stream",
     "text": [
      "Selenium: Can't get connection to https://ivie.vn/san-phu-khoa-0?page=9! Try again (1) in 3 seconds.\n"
     ]
    },
    {
     "name": "stderr",
     "output_type": "stream",
     "text": [
      "Phân tích khoa Tai biến mạch máu não trang 1: 100%|██████████| 15/15 [00:09<00:00,  1.59it/s]\n"
     ]
    },
    {
     "name": "stdout",
     "output_type": "stream",
     "text": [
      "ĐÃ LƯU!\n"
     ]
    },
    {
     "name": "stderr",
     "output_type": "stream",
     "text": [
      "Phân tích khoa Bệnh xương khớp trang 11:  78%|███████▊  | 7/9 [00:14<00:04,  2.19s/it]\n",
      "Phân tích khoa Bệnh xương khớp trang 11:  89%|████████▉ | 8/9 [00:16<00:02,  2.13s/it]\n",
      "Phân tích khoa Bệnh xương khớp trang 11: 100%|██████████| 9/9 [00:18<00:00,  2.08s/it]\n"
     ]
    },
    {
     "name": "stdout",
     "output_type": "stream",
     "text": [
      "ĐÃ LƯU!\n"
     ]
    },
    {
     "name": "stderr",
     "output_type": "stream",
     "text": [
      "\n",
      "\u001b[A\n",
      "\u001b[A\n",
      "Phân tích khoa Tai biến mạch máu não trang 2: 100%|██████████| 8/8 [00:16<00:00,  2.12s/it]\n"
     ]
    },
    {
     "name": "stdout",
     "output_type": "stream",
     "text": [
      "ĐÃ LƯU!\n"
     ]
    },
    {
     "name": "stderr",
     "output_type": "stream",
     "text": [
      "\n",
      "\u001b[A\n",
      "\u001b[A\n",
      "\u001b[A\n",
      "Phân tích khoa Sản phụ khoa trang 9: 100%|██████████| 8/8 [00:19<00:00,  2.38s/it]\n"
     ]
    },
    {
     "name": "stdout",
     "output_type": "stream",
     "text": [
      "ĐÃ LƯU!\n"
     ]
    },
    {
     "name": "stderr",
     "output_type": "stream",
     "text": [
      "Phân tích khoa Bệnh xương khớp trang 12:  75%|███████▌  | 6/8 [00:13<00:04,  2.39s/it]\n",
      "Phân tích khoa Bệnh xương khớp trang 12:  88%|████████▊ | 7/8 [00:15<00:02,  2.29s/it]\n",
      "Phân tích khoa Bệnh xương khớp trang 12: 100%|██████████| 8/8 [00:18<00:00,  2.25s/it]\n"
     ]
    },
    {
     "name": "stdout",
     "output_type": "stream",
     "text": [
      "ĐÃ LƯU!\n"
     ]
    },
    {
     "name": "stderr",
     "output_type": "stream",
     "text": [
      "\n",
      "\u001b[A\n",
      "\u001b[A\n",
      "\u001b[A\n",
      "\u001b[A\n",
      "Phân tích khoa Tai biến mạch máu não trang 3: 100%|██████████| 8/8 [00:23<00:00,  2.96s/it]\n"
     ]
    },
    {
     "name": "stdout",
     "output_type": "stream",
     "text": [
      "ĐÃ LƯU!\n"
     ]
    },
    {
     "name": "stderr",
     "output_type": "stream",
     "text": [
      "\n",
      "Phân tích khoa Bệnh xương khớp trang 13:   0%|          | 0/9 [00:00<?, ?it/s]\n",
      "Phân tích khoa Bệnh xương khớp trang 13:  11%|█         | 1/9 [00:02<00:18,  2.36s/it]\n",
      "Phân tích khoa Sản phụ khoa trang 10: 100%|██████████| 9/9 [00:22<00:00,  2.45s/it]\n"
     ]
    },
    {
     "name": "stdout",
     "output_type": "stream",
     "text": [
      "ĐÃ LƯU!\n"
     ]
    },
    {
     "name": "stderr",
     "output_type": "stream",
     "text": [
      "Phân tích khoa Bệnh xương khớp trang 13: 100%|██████████| 9/9 [00:14<00:00,  1.59s/it]\n"
     ]
    },
    {
     "name": "stdout",
     "output_type": "stream",
     "text": [
      "ĐÃ LƯU!\n"
     ]
    },
    {
     "name": "stderr",
     "output_type": "stream",
     "text": [
      "Phân tích khoa Tai biến mạch máu não trang 4: 100%|██████████| 8/8 [00:11<00:00,  1.45s/it]\n"
     ]
    },
    {
     "name": "stdout",
     "output_type": "stream",
     "text": [
      "ĐÃ LƯU!\n"
     ]
    },
    {
     "name": "stderr",
     "output_type": "stream",
     "text": [
      "Phân tích khoa Sản phụ khoa trang 11: 100%|██████████| 9/9 [00:07<00:00,  1.26it/s]\n"
     ]
    },
    {
     "name": "stdout",
     "output_type": "stream",
     "text": [
      "ĐÃ LƯU!\n"
     ]
    },
    {
     "name": "stderr",
     "output_type": "stream",
     "text": [
      "Phân tích khoa Bệnh xương khớp trang 14: 100%|██████████| 9/9 [00:04<00:00,  1.80it/s]\n"
     ]
    },
    {
     "name": "stdout",
     "output_type": "stream",
     "text": [
      "ĐÃ LƯU!\n"
     ]
    },
    {
     "name": "stderr",
     "output_type": "stream",
     "text": [
      "Phân tích khoa Tai biến mạch máu não trang 5: 100%|██████████| 6/6 [00:03<00:00,  1.92it/s]\n"
     ]
    },
    {
     "name": "stdout",
     "output_type": "stream",
     "text": [
      "ĐÃ LƯU!\n"
     ]
    },
    {
     "name": "stderr",
     "output_type": "stream",
     "text": [
      "Phân tích khoa Sản phụ khoa trang 12: 100%|██████████| 9/9 [00:04<00:00,  1.85it/s]\n"
     ]
    },
    {
     "name": "stdout",
     "output_type": "stream",
     "text": [
      "ĐÃ LƯU!\n"
     ]
    },
    {
     "name": "stderr",
     "output_type": "stream",
     "text": [
      "Phân tích khoa Bệnh xương khớp trang 15: 100%|██████████| 9/9 [00:05<00:00,  1.69it/s]\n"
     ]
    },
    {
     "name": "stdout",
     "output_type": "stream",
     "text": [
      "ĐÃ LƯU!\n"
     ]
    },
    {
     "name": "stderr",
     "output_type": "stream",
     "text": [
      "Phân tích khoa Sản phụ khoa trang 13: 100%|██████████| 9/9 [00:04<00:00,  1.92it/s]\n"
     ]
    },
    {
     "name": "stdout",
     "output_type": "stream",
     "text": [
      "ĐÃ LƯU!\n"
     ]
    },
    {
     "name": "stderr",
     "output_type": "stream",
     "text": [
      "Phân tích khoa Bệnh xương khớp trang 16: 100%|██████████| 6/6 [00:03<00:00,  1.72it/s]\n"
     ]
    },
    {
     "name": "stdout",
     "output_type": "stream",
     "text": [
      "ĐÃ LƯU!\n"
     ]
    },
    {
     "name": "stderr",
     "output_type": "stream",
     "text": [
      "Phân tích khoa Từ điển xét nghiệm trang 1: 100%|██████████| 19/19 [00:08<00:00,  2.16it/s]\n"
     ]
    },
    {
     "name": "stdout",
     "output_type": "stream",
     "text": [
      "ĐÃ LƯU!\n"
     ]
    },
    {
     "name": "stderr",
     "output_type": "stream",
     "text": [
      "Phân tích khoa Sản phụ khoa trang 14: 100%|██████████| 9/9 [00:04<00:00,  1.86it/s]\n"
     ]
    },
    {
     "name": "stdout",
     "output_type": "stream",
     "text": [
      "ĐÃ LƯU!\n"
     ]
    },
    {
     "name": "stderr",
     "output_type": "stream",
     "text": [
      "Phân tích khoa Bệnh xương khớp trang 17: 100%|██████████| 9/9 [00:05<00:00,  1.73it/s]\n"
     ]
    },
    {
     "name": "stdout",
     "output_type": "stream",
     "text": [
      "ĐÃ LƯU!\n"
     ]
    },
    {
     "name": "stderr",
     "output_type": "stream",
     "text": [
      "Phân tích khoa Từ điển xét nghiệm trang 2:  67%|██████▋   | 6/9 [00:02<00:01,  2.17it/s]"
     ]
    },
    {
     "name": "stdout",
     "output_type": "stream",
     "text": [
      "Selenium: Can't get connection to https://ivie.vn/san-phu-khoa-0?page=15! Try again (1) in 3 seconds.\n"
     ]
    },
    {
     "name": "stderr",
     "output_type": "stream",
     "text": [
      "Phân tích khoa Từ điển xét nghiệm trang 2: 100%|██████████| 9/9 [00:04<00:00,  2.15it/s]\n"
     ]
    },
    {
     "name": "stdout",
     "output_type": "stream",
     "text": [
      "ĐÃ LƯU!\n",
      "Selenium: Can't get connection to https://ivie.vn/benh-xuong-khop-0?page=18! Try again (1) in 3 seconds.\n"
     ]
    },
    {
     "name": "stderr",
     "output_type": "stream",
     "text": [
      "Phân tích khoa Bệnh xương khớp trang 18: 100%|██████████| 9/9 [00:06<00:00,  1.47it/s]\n"
     ]
    },
    {
     "name": "stdout",
     "output_type": "stream",
     "text": [
      "ĐÃ LƯU!\n"
     ]
    },
    {
     "name": "stderr",
     "output_type": "stream",
     "text": [
      "Phân tích khoa Nội khoa trang 1: 100%|██████████| 13/13 [00:06<00:00,  1.98it/s]\n"
     ]
    },
    {
     "name": "stdout",
     "output_type": "stream",
     "text": [
      "ĐÃ LƯU!\n"
     ]
    },
    {
     "name": "stderr",
     "output_type": "stream",
     "text": [
      "Phân tích khoa Vaccine COVID trang 1: 100%|██████████| 18/18 [00:08<00:00,  2.25it/s]\n"
     ]
    },
    {
     "name": "stdout",
     "output_type": "stream",
     "text": [
      "ĐÃ LƯU!\n"
     ]
    },
    {
     "name": "stderr",
     "output_type": "stream",
     "text": [
      "Phân tích khoa Bệnh xương khớp trang 19: 100%|██████████| 5/5 [00:02<00:00,  1.83it/s]\n"
     ]
    },
    {
     "name": "stdout",
     "output_type": "stream",
     "text": [
      "ĐÃ LƯU!\n",
      "Selenium: Can't get connection to https://ivie.vn/noi-khoa-0?page=2! Try again (1) in 3 seconds.\n",
      "Selenium: Can't get connection to https://ivie.vn/benh-xuong-khop-0?page=20! Try again (1) in 3 seconds.\n"
     ]
    },
    {
     "name": "stderr",
     "output_type": "stream",
     "text": [
      "Phân tích khoa Vaccine COVID trang 2: 100%|██████████| 6/6 [00:02<00:00,  2.54it/s]\n"
     ]
    },
    {
     "name": "stdout",
     "output_type": "stream",
     "text": [
      "ĐÃ LƯU!\n",
      "Selenium: Can't get connection to https://ivie.vn/noi-khoa-0?page=2! Try again (2) in 3 seconds.\n"
     ]
    },
    {
     "name": "stderr",
     "output_type": "stream",
     "text": [
      "Phân tích khoa Vaccine COVID trang 3: 100%|██████████| 4/4 [00:01<00:00,  2.15it/s]/s]\n"
     ]
    },
    {
     "name": "stdout",
     "output_type": "stream",
     "text": [
      "ĐÃ LƯU!\n"
     ]
    },
    {
     "name": "stderr",
     "output_type": "stream",
     "text": [
      "Phân tích khoa Bệnh xương khớp trang 20: 100%|██████████| 9/9 [00:05<00:00,  1.79it/s]\n"
     ]
    },
    {
     "name": "stdout",
     "output_type": "stream",
     "text": [
      "ĐÃ LƯU!\n"
     ]
    },
    {
     "name": "stderr",
     "output_type": "stream",
     "text": [
      "Phân tích khoa Nội khoa trang 2: 100%|██████████| 5/5 [00:03<00:00,  1.60it/s]\n"
     ]
    },
    {
     "name": "stdout",
     "output_type": "stream",
     "text": [
      "ĐÃ LƯU!\n"
     ]
    },
    {
     "name": "stderr",
     "output_type": "stream",
     "text": [
      "Phân tích khoa Vaccine COVID trang 4: 100%|██████████| 6/6 [00:02<00:00,  2.28it/s]/s]\n",
      "Phân tích khoa Bệnh xương khớp trang 21:  86%|████████▌ | 6/7 [00:03<00:00,  1.58it/s]"
     ]
    },
    {
     "name": "stdout",
     "output_type": "stream",
     "text": [
      "ĐÃ LƯU!\n"
     ]
    },
    {
     "name": "stderr",
     "output_type": "stream",
     "text": [
      "Phân tích khoa Bệnh xương khớp trang 21: 100%|██████████| 7/7 [00:04<00:00,  1.59it/s]\n"
     ]
    },
    {
     "name": "stdout",
     "output_type": "stream",
     "text": [
      "ĐÃ LƯU!\n"
     ]
    },
    {
     "name": "stderr",
     "output_type": "stream",
     "text": [
      "Phân tích khoa Bệnh xương khớp trang 22: 100%|██████████| 9/9 [00:05<00:00,  1.69it/s]\n"
     ]
    },
    {
     "name": "stdout",
     "output_type": "stream",
     "text": [
      "ĐÃ LƯU!\n"
     ]
    },
    {
     "name": "stderr",
     "output_type": "stream",
     "text": [
      "Phân tích khoa COVID và chăm sóc F0 trang 1: 100%|██████████| 17/17 [00:08<00:00,  1.98it/s]\n"
     ]
    },
    {
     "name": "stdout",
     "output_type": "stream",
     "text": [
      "ĐÃ LƯU!\n"
     ]
    },
    {
     "name": "stderr",
     "output_type": "stream",
     "text": [
      "Phân tích khoa Răng miệng trang 1:  26%|██▋       | 5/19 [00:02<00:08,  1.74it/s]"
     ]
    },
    {
     "name": "stdout",
     "output_type": "stream",
     "text": [
      "Selenium: Can't get connection to https://ivie.vn/benh-xuong-khop-0?page=23! Try again (1) in 3 seconds.\n"
     ]
    },
    {
     "name": "stderr",
     "output_type": "stream",
     "text": [
      "Phân tích khoa COVID và chăm sóc F0 trang 2: 100%|██████████| 2/2 [00:01<00:00,  1.52it/s]\n"
     ]
    },
    {
     "name": "stdout",
     "output_type": "stream",
     "text": [
      "ĐÃ LƯU!\n"
     ]
    },
    {
     "name": "stderr",
     "output_type": "stream",
     "text": [
      "Phân tích khoa Răng miệng trang 1: 100%|██████████| 19/19 [00:10<00:00,  1.77it/s]\n"
     ]
    },
    {
     "name": "stdout",
     "output_type": "stream",
     "text": [
      "ĐÃ LƯU!\n"
     ]
    },
    {
     "name": "stderr",
     "output_type": "stream",
     "text": [
      "Phân tích khoa Bệnh xương khớp trang 23:  33%|███▎      | 1/3 [00:00<00:01,  1.87it/s]"
     ]
    },
    {
     "name": "stdout",
     "output_type": "stream",
     "text": [
      "Selenium: Can't get connection to https://ivie.vn/covid-va-cham-soc-f--0?page=3! Try again (1) in 3 seconds.\n"
     ]
    },
    {
     "name": "stderr",
     "output_type": "stream",
     "text": [
      "Phân tích khoa Bệnh xương khớp trang 23: 100%|██████████| 3/3 [00:01<00:00,  1.90it/s]\n"
     ]
    },
    {
     "name": "stdout",
     "output_type": "stream",
     "text": [
      "ĐÃ LƯU!\n"
     ]
    },
    {
     "name": "stderr",
     "output_type": "stream",
     "text": [
      "Phân tích khoa Răng miệng trang 2: 100%|██████████| 9/9 [00:05<00:00,  1.62it/s]\n"
     ]
    },
    {
     "name": "stdout",
     "output_type": "stream",
     "text": [
      "ĐÃ LƯU!\n",
      "Selenium: Can't get connection to https://ivie.vn/rang-mieng-0?page=3! Try again (1) in 3 seconds.\n",
      "Selenium: Can't get connection to https://ivie.vn/covid--0?page=1! Try again (1) in 3 seconds.\n",
      "Selenium: Can't get connection to https://ivie.vn/benh-tim-mach-0?page=1! Try again (1) in 3 seconds.\n"
     ]
    },
    {
     "name": "stderr",
     "output_type": "stream",
     "text": [
      "Phân tích khoa Răng miệng trang 3: 100%|██████████| 9/9 [00:04<00:00,  1.94it/s]\n"
     ]
    },
    {
     "name": "stdout",
     "output_type": "stream",
     "text": [
      "ĐÃ LƯU!\n"
     ]
    },
    {
     "name": "stderr",
     "output_type": "stream",
     "text": [
      "Phân tích khoa COVID trang 1: 100%|██████████| 13/13 [00:06<00:00,  2.16it/s]\n"
     ]
    },
    {
     "name": "stdout",
     "output_type": "stream",
     "text": [
      "ĐÃ LƯU!\n"
     ]
    },
    {
     "name": "stderr",
     "output_type": "stream",
     "text": [
      "Phân tích khoa Bệnh tim mạch trang 1: 100%|██████████| 19/19 [00:09<00:00,  2.05it/s]\n"
     ]
    },
    {
     "name": "stdout",
     "output_type": "stream",
     "text": [
      "ĐÃ LƯU!\n"
     ]
    },
    {
     "name": "stderr",
     "output_type": "stream",
     "text": [
      "Phân tích khoa Răng miệng trang 4: 100%|██████████| 9/9 [00:04<00:00,  2.06it/s]\n"
     ]
    },
    {
     "name": "stdout",
     "output_type": "stream",
     "text": [
      "ĐÃ LƯU!\n"
     ]
    },
    {
     "name": "stderr",
     "output_type": "stream",
     "text": [
      "Phân tích khoa COVID trang 2: 100%|██████████| 7/7 [00:02<00:00,  2.39it/s]\n"
     ]
    },
    {
     "name": "stdout",
     "output_type": "stream",
     "text": [
      "ĐÃ LƯU!\n"
     ]
    },
    {
     "name": "stderr",
     "output_type": "stream",
     "text": [
      "Phân tích khoa Bệnh tim mạch trang 2: 100%|██████████| 8/8 [00:03<00:00,  2.07it/s]\n"
     ]
    },
    {
     "name": "stdout",
     "output_type": "stream",
     "text": [
      "ĐÃ LƯU!\n"
     ]
    },
    {
     "name": "stderr",
     "output_type": "stream",
     "text": [
      "Phân tích khoa Răng miệng trang 5: 100%|██████████| 9/9 [00:03<00:00,  2.26it/s]\n"
     ]
    },
    {
     "name": "stdout",
     "output_type": "stream",
     "text": [
      "ĐÃ LƯU!\n"
     ]
    },
    {
     "name": "stderr",
     "output_type": "stream",
     "text": [
      "Phân tích khoa COVID trang 3: 100%|██████████| 2/2 [00:00<00:00,  2.37it/s]\n"
     ]
    },
    {
     "name": "stdout",
     "output_type": "stream",
     "text": [
      "ĐÃ LƯU!\n"
     ]
    },
    {
     "name": "stderr",
     "output_type": "stream",
     "text": [
      "Phân tích khoa Bệnh tim mạch trang 3: 100%|██████████| 9/9 [00:04<00:00,  1.95it/s]\n"
     ]
    },
    {
     "name": "stdout",
     "output_type": "stream",
     "text": [
      "ĐÃ LƯU!\n",
      "Selenium: Can't get connection to https://ivie.vn/covid--0?page=4! Try again (1) in 3 seconds.\n",
      "Selenium: Can't get connection to https://ivie.vn/benh-tim-mach-0?page=4! Try again (1) in 3 seconds.\n"
     ]
    },
    {
     "name": "stderr",
     "output_type": "stream",
     "text": [
      "Phân tích khoa Bệnh tim mạch trang 4:  78%|███████▊  | 7/9 [00:03<00:01,  1.80it/s]"
     ]
    },
    {
     "name": "stdout",
     "output_type": "stream",
     "text": [
      "Selenium: Can't get connection to https://ivie.vn/nam-hoc-1?page=1! Try again (1) in 3 seconds.\n"
     ]
    },
    {
     "name": "stderr",
     "output_type": "stream",
     "text": [
      "Phân tích khoa Bệnh tim mạch trang 4: 100%|██████████| 9/9 [00:04<00:00,  1.80it/s]\n"
     ]
    },
    {
     "name": "stdout",
     "output_type": "stream",
     "text": [
      "ĐÃ LƯU!\n"
     ]
    },
    {
     "name": "stderr",
     "output_type": "stream",
     "text": [
      "Phân tích khoa Tai mũi họng trang 1: 100%|██████████| 19/19 [00:12<00:00,  1.57it/s]\n"
     ]
    },
    {
     "name": "stdout",
     "output_type": "stream",
     "text": [
      "ĐÃ LƯU!\n"
     ]
    },
    {
     "name": "stderr",
     "output_type": "stream",
     "text": [
      "Phân tích khoa Nam học trang 1:  53%|█████▎    | 10/19 [00:04<00:04,  2.04it/s]"
     ]
    },
    {
     "name": "stdout",
     "output_type": "stream",
     "text": [
      "Selenium: Can't get connection to https://ivie.vn/benh-tim-mach-0?page=5! Try again (1) in 3 seconds.\n"
     ]
    },
    {
     "name": "stderr",
     "output_type": "stream",
     "text": [
      "Phân tích khoa Nam học trang 1: 100%|██████████| 19/19 [00:11<00:00,  1.62it/s]\n"
     ]
    },
    {
     "name": "stdout",
     "output_type": "stream",
     "text": [
      "ĐÃ LƯU!\n"
     ]
    },
    {
     "name": "stderr",
     "output_type": "stream",
     "text": [
      "Phân tích khoa Tai mũi họng trang 2: 100%|██████████| 6/6 [00:03<00:00,  1.78it/s]\n"
     ]
    },
    {
     "name": "stdout",
     "output_type": "stream",
     "text": [
      "ĐÃ LƯU!\n"
     ]
    },
    {
     "name": "stderr",
     "output_type": "stream",
     "text": [
      "Phân tích khoa Bệnh tim mạch trang 5: 100%|██████████| 9/9 [00:04<00:00,  1.97it/s]\n",
      "Phân tích khoa Tai mũi họng trang 3:   0%|          | 0/6 [00:00<?, ?it/s]"
     ]
    },
    {
     "name": "stdout",
     "output_type": "stream",
     "text": [
      "ĐÃ LƯU!\n"
     ]
    },
    {
     "name": "stderr",
     "output_type": "stream",
     "text": [
      "Phân tích khoa Nam học trang 2: 100%|██████████| 7/7 [00:03<00:00,  2.10it/s]it/s]\n",
      "Phân tích khoa Tai mũi họng trang 3:  67%|██████▋   | 4/6 [00:02<00:01,  1.89it/s]"
     ]
    },
    {
     "name": "stdout",
     "output_type": "stream",
     "text": [
      "ĐÃ LƯU!\n"
     ]
    },
    {
     "name": "stderr",
     "output_type": "stream",
     "text": [
      "Phân tích khoa Tai mũi họng trang 3: 100%|██████████| 6/6 [00:03<00:00,  1.88it/s]\n"
     ]
    },
    {
     "name": "stdout",
     "output_type": "stream",
     "text": [
      "ĐÃ LƯU!\n",
      "Selenium: Can't get connection to https://ivie.vn/benh-tim-mach-0?page=6! Try again (1) in 3 seconds.\n"
     ]
    },
    {
     "name": "stderr",
     "output_type": "stream",
     "text": [
      "Phân tích khoa Nam học trang 3:  25%|██▌       | 2/8 [00:00<00:02,  2.16it/s]"
     ]
    },
    {
     "name": "stdout",
     "output_type": "stream",
     "text": [
      "Selenium: Can't get connection to https://ivie.vn/tai-mui-hong-0?page=4! Try again (1) in 3 seconds.\n"
     ]
    },
    {
     "name": "stderr",
     "output_type": "stream",
     "text": [
      "Phân tích khoa Nam học trang 3: 100%|██████████| 8/8 [00:03<00:00,  2.01it/s]\n"
     ]
    },
    {
     "name": "stdout",
     "output_type": "stream",
     "text": [
      "ĐÃ LƯU!\n"
     ]
    },
    {
     "name": "stderr",
     "output_type": "stream",
     "text": [
      "Phân tích khoa Nam học trang 4:  22%|██▏       | 2/9 [00:01<00:03,  1.97it/s]"
     ]
    },
    {
     "name": "stdout",
     "output_type": "stream",
     "text": [
      "Selenium: Can't get connection to https://ivie.vn/benh-tim-mach-0?page=6! Try again (2) in 3 seconds.\n"
     ]
    },
    {
     "name": "stderr",
     "output_type": "stream",
     "text": [
      "Phân tích khoa Nam học trang 4: 100%|██████████| 9/9 [00:04<00:00,  1.96it/s]\n"
     ]
    },
    {
     "name": "stdout",
     "output_type": "stream",
     "text": [
      "ĐÃ LƯU!\n",
      "Selenium: Can't get connection to https://ivie.vn/tai-mui-hong-0?page=4! Try again (2) in 3 seconds.\n"
     ]
    },
    {
     "name": "stderr",
     "output_type": "stream",
     "text": [
      "Phân tích khoa Bệnh tim mạch trang 6: 100%|██████████| 9/9 [00:09<00:00,  1.01s/it]\n"
     ]
    },
    {
     "name": "stdout",
     "output_type": "stream",
     "text": [
      "ĐÃ LƯU!\n",
      "Selenium: Can't get connection to https://ivie.vn/tai-mui-hong-0?page=4! Try again (3) in 3 seconds.\n"
     ]
    },
    {
     "name": "stderr",
     "output_type": "stream",
     "text": [
      "Phân tích khoa Nam học trang 5: 100%|██████████| 6/6 [00:04<00:00,  1.29it/s]\n"
     ]
    },
    {
     "name": "stdout",
     "output_type": "stream",
     "text": [
      "ĐÃ LƯU!\n"
     ]
    },
    {
     "name": "stderr",
     "output_type": "stream",
     "text": [
      "Phân tích khoa Bệnh tim mạch trang 7: 100%|██████████| 9/9 [00:04<00:00,  1.91it/s]\n"
     ]
    },
    {
     "name": "stdout",
     "output_type": "stream",
     "text": [
      "ĐÃ LƯU!\n"
     ]
    },
    {
     "name": "stderr",
     "output_type": "stream",
     "text": [
      "Phân tích khoa Tai mũi họng trang 4: 100%|██████████| 9/9 [00:04<00:00,  1.80it/s]\n"
     ]
    },
    {
     "name": "stdout",
     "output_type": "stream",
     "text": [
      "ĐÃ LƯU!\n"
     ]
    },
    {
     "name": "stderr",
     "output_type": "stream",
     "text": [
      "Phân tích khoa Nam học trang 6: 100%|██████████| 9/9 [00:05<00:00,  1.71it/s]\n"
     ]
    },
    {
     "name": "stdout",
     "output_type": "stream",
     "text": [
      "ĐÃ LƯU!\n"
     ]
    },
    {
     "name": "stderr",
     "output_type": "stream",
     "text": [
      "Phân tích khoa Bệnh tim mạch trang 8: 100%|██████████| 8/8 [00:04<00:00,  1.80it/s]\n"
     ]
    },
    {
     "name": "stdout",
     "output_type": "stream",
     "text": [
      "ĐÃ LƯU!\n"
     ]
    },
    {
     "name": "stderr",
     "output_type": "stream",
     "text": [
      "Phân tích khoa Tai mũi họng trang 5: 100%|██████████| 7/7 [00:03<00:00,  1.90it/s]\n"
     ]
    },
    {
     "name": "stdout",
     "output_type": "stream",
     "text": [
      "ĐÃ LƯU!\n"
     ]
    },
    {
     "name": "stderr",
     "output_type": "stream",
     "text": [
      "Phân tích khoa Nam học trang 7: 100%|██████████| 8/8 [00:04<00:00,  1.71it/s]\n"
     ]
    },
    {
     "name": "stdout",
     "output_type": "stream",
     "text": [
      "ĐÃ LƯU!\n"
     ]
    },
    {
     "name": "stderr",
     "output_type": "stream",
     "text": [
      "Phân tích khoa Bệnh tim mạch trang 9: 100%|██████████| 7/7 [00:04<00:00,  1.69it/s]\n"
     ]
    },
    {
     "name": "stdout",
     "output_type": "stream",
     "text": [
      "ĐÃ LƯU!\n",
      "Selenium: Can't get connection to https://ivie.vn/tai-mui-hong-0?page=6! Try again (1) in 3 seconds.\n"
     ]
    },
    {
     "name": "stderr",
     "output_type": "stream",
     "text": [
      "Phân tích khoa Nam học trang 8: 100%|██████████| 3/3 [00:01<00:00,  1.68it/s]\n"
     ]
    },
    {
     "name": "stdout",
     "output_type": "stream",
     "text": [
      "ĐÃ LƯU!\n"
     ]
    },
    {
     "name": "stderr",
     "output_type": "stream",
     "text": [
      "Phân tích khoa Bệnh tim mạch trang 10: 100%|██████████| 7/7 [00:03<00:00,  2.06it/s]\n"
     ]
    },
    {
     "name": "stdout",
     "output_type": "stream",
     "text": [
      "ĐÃ LƯU!\n",
      "Selenium: Can't get connection to https://ivie.vn/tai-mui-hong-0?page=6! Try again (2) in 3 seconds.\n"
     ]
    },
    {
     "name": "stderr",
     "output_type": "stream",
     "text": [
      "Phân tích khoa Bệnh tim mạch trang 11: 100%|██████████| 9/9 [00:04<00:00,  1.93it/s]\n"
     ]
    },
    {
     "name": "stdout",
     "output_type": "stream",
     "text": [
      "ĐÃ LƯU!\n"
     ]
    },
    {
     "name": "stderr",
     "output_type": "stream",
     "text": [
      "Phân tích khoa Mắt trang 1: 100%|██████████| 17/17 [00:07<00:00,  2.17it/s]\n"
     ]
    },
    {
     "name": "stdout",
     "output_type": "stream",
     "text": [
      "ĐÃ LƯU!\n"
     ]
    },
    {
     "name": "stderr",
     "output_type": "stream",
     "text": [
      "Phân tích khoa Tai mũi họng trang 6: 100%|██████████| 9/9 [00:03<00:00,  2.39it/s]\n"
     ]
    },
    {
     "name": "stdout",
     "output_type": "stream",
     "text": [
      "ĐÃ LƯU!\n"
     ]
    },
    {
     "name": "stderr",
     "output_type": "stream",
     "text": [
      "Phân tích khoa Bệnh tim mạch trang 12: 100%|██████████| 8/8 [00:04<00:00,  1.95it/s]\n"
     ]
    },
    {
     "name": "stdout",
     "output_type": "stream",
     "text": [
      "ĐÃ LƯU!\n",
      "Selenium: Can't get connection to https://ivie.vn/mat-0?page=2! Try again (1) in 3 seconds.\n",
      "Selenium: Can't get connection to https://ivie.vn/tai-mui-hong-0?page=7! Try again (1) in 3 seconds.\n",
      "Selenium: Can't get connection to https://ivie.vn/benh-tim-mach-0?page=13! Try again (1) in 3 seconds.\n"
     ]
    },
    {
     "name": "stderr",
     "output_type": "stream",
     "text": [
      "Phân tích khoa Mắt trang 2: 100%|██████████| 8/8 [00:03<00:00,  2.07it/s]\n",
      "Phân tích khoa Tai mũi họng trang 7:   0%|          | 0/9 [00:00<?, ?it/s]"
     ]
    },
    {
     "name": "stdout",
     "output_type": "stream",
     "text": [
      "ĐÃ LƯU!\n"
     ]
    },
    {
     "name": "stderr",
     "output_type": "stream",
     "text": [
      "Phân tích khoa Tai mũi họng trang 7: 100%|██████████| 9/9 [00:03<00:00,  2.28it/s]\n"
     ]
    },
    {
     "name": "stdout",
     "output_type": "stream",
     "text": [
      "ĐÃ LƯU!\n"
     ]
    },
    {
     "name": "stderr",
     "output_type": "stream",
     "text": [
      "Phân tích khoa Bệnh tim mạch trang 13: 100%|██████████| 9/9 [00:06<00:00,  1.37it/s]\n"
     ]
    },
    {
     "name": "stdout",
     "output_type": "stream",
     "text": [
      "Selenium: Can't get connection to https://ivie.vn/mat-0?page=3! Try again (1) in 3 seconds.\n",
      "ĐÃ LƯU!\n"
     ]
    },
    {
     "name": "stderr",
     "output_type": "stream",
     "text": [
      "Phân tích khoa Tai mũi họng trang 8: 100%|██████████| 7/7 [00:06<00:00,  1.03it/s]\n"
     ]
    },
    {
     "name": "stdout",
     "output_type": "stream",
     "text": [
      "ĐÃ LƯU!\n"
     ]
    },
    {
     "name": "stderr",
     "output_type": "stream",
     "text": [
      "Phân tích khoa Bệnh tim mạch trang 14: 100%|██████████| 9/9 [00:04<00:00,  1.84it/s]\n"
     ]
    },
    {
     "name": "stdout",
     "output_type": "stream",
     "text": [
      "ĐÃ LƯU!\n"
     ]
    },
    {
     "name": "stderr",
     "output_type": "stream",
     "text": [
      "Phân tích khoa Mắt trang 3:  67%|██████▋   | 4/6 [00:04<00:01,  1.06it/s]"
     ]
    },
    {
     "name": "stdout",
     "output_type": "stream",
     "text": [
      "Selenium: Can't get connection to https://ivie.vn/tai-mui-hong-0?page=9! Try again (1) in 3 seconds.\n"
     ]
    },
    {
     "name": "stderr",
     "output_type": "stream",
     "text": [
      "Phân tích khoa Mắt trang 3: 100%|██████████| 6/6 [00:05<00:00,  1.07it/s]\n"
     ]
    },
    {
     "name": "stdout",
     "output_type": "stream",
     "text": [
      "ĐÃ LƯU!\n"
     ]
    },
    {
     "name": "stderr",
     "output_type": "stream",
     "text": [
      "Phân tích khoa Bệnh tim mạch trang 15: 100%|██████████| 6/6 [00:03<00:00,  1.90it/s]\n"
     ]
    },
    {
     "name": "stdout",
     "output_type": "stream",
     "text": [
      "ĐÃ LƯU!\n"
     ]
    },
    {
     "name": "stderr",
     "output_type": "stream",
     "text": [
      "Phân tích khoa Mắt trang 4: 100%|██████████| 7/7 [00:03<00:00,  2.27it/s]\n"
     ]
    },
    {
     "name": "stdout",
     "output_type": "stream",
     "text": [
      "ĐÃ LƯU!\n"
     ]
    },
    {
     "name": "stderr",
     "output_type": "stream",
     "text": [
      "Phân tích khoa Tai mũi họng trang 9:  80%|████████  | 4/5 [00:05<00:01,  1.48s/it]"
     ]
    },
    {
     "name": "stdout",
     "output_type": "stream",
     "text": [
      "Selenium: Can't get connection to https://ivie.vn/benh-tim-mach-0?page=16! Try again (1) in 3 seconds.\n"
     ]
    },
    {
     "name": "stderr",
     "output_type": "stream",
     "text": [
      "Phân tích khoa Tai mũi họng trang 9: 100%|██████████| 5/5 [00:07<00:00,  1.41s/it]\n"
     ]
    },
    {
     "name": "stdout",
     "output_type": "stream",
     "text": [
      "ĐÃ LƯU!\n"
     ]
    },
    {
     "name": "stderr",
     "output_type": "stream",
     "text": [
      "Phân tích khoa Mắt trang 5: 100%|██████████| 7/7 [00:14<00:00,  2.08s/it]\n"
     ]
    },
    {
     "name": "stdout",
     "output_type": "stream",
     "text": [
      "ĐÃ LƯU!\n"
     ]
    },
    {
     "name": "stderr",
     "output_type": "stream",
     "text": [
      "Phân tích khoa Nhi khoa trang 1:  16%|█▌        | 3/19 [00:04<00:23,  1.45s/it]"
     ]
    },
    {
     "name": "stdout",
     "output_type": "stream",
     "text": [
      "Selenium: Can't get connection to https://ivie.vn/mat-0?page=6! Try again (1) in 3 seconds.\n"
     ]
    },
    {
     "name": "stderr",
     "output_type": "stream",
     "text": [
      "Phân tích khoa Nhi khoa trang 1:  58%|█████▊    | 11/19 [00:22<00:24,  3.10s/it]\n",
      "Phân tích khoa Nhi khoa trang 1:  63%|██████▎   | 12/19 [00:26<00:24,  3.49s/it]\n",
      "\u001b[A\n",
      "Phân tích khoa Mắt trang 6: 100%|██████████| 2/2 [00:03<00:00,  1.52s/it]\n"
     ]
    },
    {
     "name": "stdout",
     "output_type": "stream",
     "text": [
      "ĐÃ LƯU!\n"
     ]
    },
    {
     "name": "stderr",
     "output_type": "stream",
     "text": [
      "Phân tích khoa Bệnh truyền nhiễm trang 1: 100%|██████████| 17/17 [00:27<00:00,  1.63s/it]\n"
     ]
    },
    {
     "name": "stdout",
     "output_type": "stream",
     "text": [
      "ĐÃ LƯU!\n"
     ]
    },
    {
     "name": "stderr",
     "output_type": "stream",
     "text": [
      "Phân tích khoa Nhi khoa trang 1: 100%|██████████| 19/19 [00:37<00:00,  1.96s/it]\n"
     ]
    },
    {
     "name": "stdout",
     "output_type": "stream",
     "text": [
      "ĐÃ LƯU!\n"
     ]
    },
    {
     "name": "stderr",
     "output_type": "stream",
     "text": [
      "Phân tích khoa Bệnh truyền nhiễm trang 2: 100%|██████████| 9/9 [00:04<00:00,  2.21it/s]\n"
     ]
    },
    {
     "name": "stdout",
     "output_type": "stream",
     "text": [
      "ĐÃ LƯU!\n"
     ]
    },
    {
     "name": "stderr",
     "output_type": "stream",
     "text": [
      "Phân tích khoa Nhi khoa trang 2: 100%|██████████| 9/9 [00:03<00:00,  2.67it/s]\n"
     ]
    },
    {
     "name": "stdout",
     "output_type": "stream",
     "text": [
      "ĐÃ LƯU!\n"
     ]
    },
    {
     "name": "stderr",
     "output_type": "stream",
     "text": [
      "Phân tích khoa Hậu môn trực tràng trang 1: 100%|██████████| 3/3 [00:01<00:00,  2.12it/s]\n"
     ]
    },
    {
     "name": "stdout",
     "output_type": "stream",
     "text": [
      "ĐÃ LƯU!\n"
     ]
    },
    {
     "name": "stderr",
     "output_type": "stream",
     "text": [
      "Phân tích khoa Bệnh truyền nhiễm trang 3: 100%|██████████| 6/6 [00:02<00:00,  2.16it/s]\n"
     ]
    },
    {
     "name": "stdout",
     "output_type": "stream",
     "text": [
      "ĐÃ LƯU!\n"
     ]
    },
    {
     "name": "stderr",
     "output_type": "stream",
     "text": [
      "Phân tích khoa Nhi khoa trang 3: 100%|██████████| 9/9 [00:03<00:00,  2.63it/s]\n"
     ]
    },
    {
     "name": "stdout",
     "output_type": "stream",
     "text": [
      "ĐÃ LƯU!\n",
      "Selenium: Can't get connection to https://ivie.vn/hau-mon-truc-trang-0?page=2! Try again (1) in 3 seconds.\n"
     ]
    },
    {
     "name": "stderr",
     "output_type": "stream",
     "text": [
      "Phân tích khoa Bệnh truyền nhiễm trang 4: 100%|██████████| 9/9 [00:03<00:00,  2.29it/s]\n"
     ]
    },
    {
     "name": "stdout",
     "output_type": "stream",
     "text": [
      "ĐÃ LƯU!\n",
      "Selenium: Can't get connection to https://ivie.vn/nhi-khoa-0?page=4! Try again (1) in 3 seconds.\n"
     ]
    },
    {
     "name": "stderr",
     "output_type": "stream",
     "text": [
      "Phân tích khoa Bệnh truyền nhiễm trang 5: 100%|██████████| 9/9 [00:03<00:00,  2.35it/s]\n"
     ]
    },
    {
     "name": "stdout",
     "output_type": "stream",
     "text": [
      "ĐÃ LƯU!\n"
     ]
    },
    {
     "name": "stderr",
     "output_type": "stream",
     "text": [
      "Phân tích khoa Sức khỏe sinh sản trang 1: 100%|██████████| 5/5 [00:02<00:00,  1.97it/s]\n"
     ]
    },
    {
     "name": "stdout",
     "output_type": "stream",
     "text": [
      "ĐÃ LƯU!\n",
      "Selenium: Can't get connection to https://ivie.vn/nhi-khoa-0?page=4! Try again (2) in 3 seconds.\n",
      "Selenium: Can't get connection to https://ivie.vn/benh-truyen-nhiem-0?page=6! Try again (1) in 3 seconds.\n"
     ]
    },
    {
     "name": "stderr",
     "output_type": "stream",
     "text": [
      "Phân tích khoa Nhi khoa trang 4: 100%|██████████| 9/9 [00:03<00:00,  2.63it/s]\n"
     ]
    },
    {
     "name": "stdout",
     "output_type": "stream",
     "text": [
      "ĐÃ LƯU!\n"
     ]
    },
    {
     "name": "stderr",
     "output_type": "stream",
     "text": [
      "Phân tích khoa Bệnh truyền nhiễm trang 6: 100%|██████████| 8/8 [00:04<00:00,  1.87it/s]\n"
     ]
    },
    {
     "name": "stdout",
     "output_type": "stream",
     "text": [
      "ĐÃ LƯU!\n"
     ]
    },
    {
     "name": "stderr",
     "output_type": "stream",
     "text": [
      "Phân tích khoa Phục hồi chức năng trang 1: 100%|██████████| 19/19 [00:09<00:00,  2.05it/s]\n",
      "Phân tích khoa Nhi khoa trang 5:  22%|██▏       | 2/9 [00:00<00:02,  2.49it/s]"
     ]
    },
    {
     "name": "stdout",
     "output_type": "stream",
     "text": [
      "ĐÃ LƯU!\n"
     ]
    },
    {
     "name": "stderr",
     "output_type": "stream",
     "text": [
      "Phân tích khoa Nhi khoa trang 5: 100%|██████████| 9/9 [00:03<00:00,  2.61it/s]\n"
     ]
    },
    {
     "name": "stdout",
     "output_type": "stream",
     "text": [
      "ĐÃ LƯU!\n"
     ]
    },
    {
     "name": "stderr",
     "output_type": "stream",
     "text": [
      "Phân tích khoa Bệnh truyền nhiễm trang 7: 100%|██████████| 9/9 [00:04<00:00,  2.23it/s]\n"
     ]
    },
    {
     "name": "stdout",
     "output_type": "stream",
     "text": [
      "ĐÃ LƯU!\n"
     ]
    },
    {
     "name": "stderr",
     "output_type": "stream",
     "text": [
      "Phân tích khoa Phục hồi chức năng trang 2: 100%|██████████| 8/8 [00:03<00:00,  2.06it/s]\n"
     ]
    },
    {
     "name": "stdout",
     "output_type": "stream",
     "text": [
      "ĐÃ LƯU!\n"
     ]
    },
    {
     "name": "stderr",
     "output_type": "stream",
     "text": [
      "Phân tích khoa Nhi khoa trang 6: 100%|██████████| 9/9 [00:03<00:00,  2.58it/s]\n"
     ]
    },
    {
     "name": "stdout",
     "output_type": "stream",
     "text": [
      "ĐÃ LƯU!\n",
      "Selenium: Can't get connection to https://ivie.vn/benh-truyen-nhiem-0?page=8! Try again (1) in 3 seconds.\n"
     ]
    },
    {
     "name": "stderr",
     "output_type": "stream",
     "text": [
      "Phân tích khoa Phục hồi chức năng trang 3: 100%|██████████| 3/3 [00:01<00:00,  1.83it/s]\n"
     ]
    },
    {
     "name": "stdout",
     "output_type": "stream",
     "text": [
      "ĐÃ LƯU!\n"
     ]
    },
    {
     "name": "stderr",
     "output_type": "stream",
     "text": [
      "Phân tích khoa Nhi khoa trang 7: 100%|██████████| 9/9 [00:03<00:00,  2.36it/s]\n"
     ]
    },
    {
     "name": "stdout",
     "output_type": "stream",
     "text": [
      "ĐÃ LƯU!\n"
     ]
    },
    {
     "name": "stderr",
     "output_type": "stream",
     "text": [
      "Phân tích khoa Bệnh truyền nhiễm trang 8: 100%|██████████| 8/8 [00:03<00:00,  2.26it/s]\n"
     ]
    },
    {
     "name": "stdout",
     "output_type": "stream",
     "text": [
      "ĐÃ LƯU!\n"
     ]
    },
    {
     "name": "stderr",
     "output_type": "stream",
     "text": [
      "Phân tích khoa Phục hồi chức năng trang 4: 100%|██████████| 6/6 [00:02<00:00,  2.03it/s]\n"
     ]
    },
    {
     "name": "stdout",
     "output_type": "stream",
     "text": [
      "ĐÃ LƯU!\n"
     ]
    },
    {
     "name": "stderr",
     "output_type": "stream",
     "text": [
      "Phân tích khoa Nhi khoa trang 8: 100%|██████████| 9/9 [00:03<00:00,  2.55it/s]\n"
     ]
    },
    {
     "name": "stdout",
     "output_type": "stream",
     "text": [
      "ĐÃ LƯU!\n",
      "Selenium: Can't get connection to https://ivie.vn/benh-truyen-nhiem-0?page=9! Try again (1) in 3 seconds.\n",
      "Selenium: Can't get connection to https://ivie.vn/phuc-hoi-chuc-nang-0?page=5! Try again (1) in 3 seconds.\n"
     ]
    },
    {
     "name": "stderr",
     "output_type": "stream",
     "text": [
      "Phân tích khoa Nhi khoa trang 9: 100%|██████████| 9/9 [00:03<00:00,  2.26it/s]\n"
     ]
    },
    {
     "name": "stdout",
     "output_type": "stream",
     "text": [
      "ĐÃ LƯU!\n"
     ]
    },
    {
     "name": "stderr",
     "output_type": "stream",
     "text": [
      "Phân tích khoa Bệnh truyền nhiễm trang 9: 100%|██████████| 8/8 [00:03<00:00,  2.16it/s]\n"
     ]
    },
    {
     "name": "stdout",
     "output_type": "stream",
     "text": [
      "ĐÃ LƯU!\n"
     ]
    },
    {
     "name": "stderr",
     "output_type": "stream",
     "text": [
      "Phân tích khoa Phục hồi chức năng trang 5: 100%|██████████| 2/2 [00:01<00:00,  2.00it/s]\n"
     ]
    },
    {
     "name": "stdout",
     "output_type": "stream",
     "text": [
      "ĐÃ LƯU!\n"
     ]
    },
    {
     "name": "stderr",
     "output_type": "stream",
     "text": [
      "Phân tích khoa Nhi khoa trang 10: 100%|██████████| 9/9 [00:03<00:00,  2.30it/s]\n"
     ]
    },
    {
     "name": "stdout",
     "output_type": "stream",
     "text": [
      "ĐÃ LƯU!\n"
     ]
    },
    {
     "name": "stderr",
     "output_type": "stream",
     "text": [
      "Phân tích khoa Bệnh truyền nhiễm trang 10: 100%|██████████| 5/5 [00:01<00:00,  2.52it/s]\n"
     ]
    },
    {
     "name": "stdout",
     "output_type": "stream",
     "text": [
      "ĐÃ LƯU!\n"
     ]
    },
    {
     "name": "stderr",
     "output_type": "stream",
     "text": [
      "Phân tích khoa Nhi khoa trang 11: 100%|██████████| 9/9 [00:04<00:00,  2.05it/s]\n"
     ]
    },
    {
     "name": "stdout",
     "output_type": "stream",
     "text": [
      "ĐÃ LƯU!\n",
      "Selenium: Can't get connection to https://ivie.vn/tam-than-tam-ly-0?page=1! Try again (1) in 3 seconds.\n",
      "Selenium: Can't get connection to https://ivie.vn/benh-ly-da-lieu-0?page=1! Try again (1) in 3 seconds.\n"
     ]
    },
    {
     "name": "stderr",
     "output_type": "stream",
     "text": [
      "Phân tích khoa Nhi khoa trang 12: 100%|██████████| 9/9 [00:04<00:00,  2.19it/s]\n"
     ]
    },
    {
     "name": "stdout",
     "output_type": "stream",
     "text": [
      "ĐÃ LƯU!\n"
     ]
    },
    {
     "name": "stderr",
     "output_type": "stream",
     "text": [
      "Phân tích khoa Tâm thần tâm lý trang 1: 100%|██████████| 19/19 [00:08<00:00,  2.19it/s]\n"
     ]
    },
    {
     "name": "stdout",
     "output_type": "stream",
     "text": [
      "ĐÃ LƯU!\n",
      "Selenium: Can't get connection to https://ivie.vn/benh-ly-da-lieu-0?page=1! Try again (2) in 3 seconds.\n"
     ]
    },
    {
     "name": "stderr",
     "output_type": "stream",
     "text": [
      "Phân tích khoa Nhi khoa trang 13: 100%|██████████| 9/9 [00:03<00:00,  2.33it/s]\n"
     ]
    },
    {
     "name": "stdout",
     "output_type": "stream",
     "text": [
      "ĐÃ LƯU!\n"
     ]
    },
    {
     "name": "stderr",
     "output_type": "stream",
     "text": [
      "Phân tích khoa Tâm thần tâm lý trang 2: 100%|██████████| 9/9 [00:03<00:00,  2.72it/s]\n"
     ]
    },
    {
     "name": "stdout",
     "output_type": "stream",
     "text": [
      "ĐÃ LƯU!\n"
     ]
    },
    {
     "name": "stderr",
     "output_type": "stream",
     "text": [
      "Phân tích khoa Nhi khoa trang 14: 100%|██████████| 9/9 [00:03<00:00,  2.33it/s].64it/s]\n"
     ]
    },
    {
     "name": "stdout",
     "output_type": "stream",
     "text": [
      "ĐÃ LƯU!\n"
     ]
    },
    {
     "name": "stderr",
     "output_type": "stream",
     "text": [
      "Phân tích khoa Bệnh lý da liễu trang 1: 100%|██████████| 19/19 [00:10<00:00,  1.80it/s]\n",
      "Phân tích khoa Tâm thần tâm lý trang 3:  11%|█         | 1/9 [00:00<00:02,  2.89it/s]"
     ]
    },
    {
     "name": "stdout",
     "output_type": "stream",
     "text": [
      "ĐÃ LƯU!\n"
     ]
    },
    {
     "name": "stderr",
     "output_type": "stream",
     "text": [
      "Phân tích khoa Tâm thần tâm lý trang 3: 100%|██████████| 9/9 [00:03<00:00,  2.70it/s]\n"
     ]
    },
    {
     "name": "stdout",
     "output_type": "stream",
     "text": [
      "ĐÃ LƯU!\n"
     ]
    },
    {
     "name": "stderr",
     "output_type": "stream",
     "text": [
      "Phân tích khoa Nhi khoa trang 15: 100%|██████████| 9/9 [00:03<00:00,  2.29it/s]\n"
     ]
    },
    {
     "name": "stdout",
     "output_type": "stream",
     "text": [
      "ĐÃ LƯU!\n",
      "Selenium: Can't get connection to https://ivie.vn/tam-than-tam-ly-0?page=4! Try again (1) in 3 seconds.\n",
      "Selenium: Can't get connection to https://ivie.vn/benh-noi-tiet-0?page=1! Try again (1) in 3 seconds.\n"
     ]
    },
    {
     "name": "stderr",
     "output_type": "stream",
     "text": [
      "Phân tích khoa Nhi khoa trang 16: 100%|██████████| 9/9 [00:03<00:00,  2.35it/s]\n"
     ]
    },
    {
     "name": "stdout",
     "output_type": "stream",
     "text": [
      "ĐÃ LƯU!\n",
      "Selenium: Can't get connection to https://ivie.vn/tam-than-tam-ly-0?page=4! Try again (2) in 3 seconds.\n"
     ]
    },
    {
     "name": "stderr",
     "output_type": "stream",
     "text": [
      "Phân tích khoa Nhi khoa trang 17: 100%|██████████| 9/9 [00:03<00:00,  2.29it/s]it/s]\n",
      "Phân tích khoa Bệnh nội tiết trang 1:  47%|████▋     | 9/19 [00:04<00:05,  1.88it/s]"
     ]
    },
    {
     "name": "stdout",
     "output_type": "stream",
     "text": [
      "ĐÃ LƯU!\n"
     ]
    },
    {
     "name": "stderr",
     "output_type": "stream",
     "text": [
      "Phân tích khoa Bệnh nội tiết trang 1: 100%|██████████| 19/19 [00:09<00:00,  2.01it/s]\n"
     ]
    },
    {
     "name": "stdout",
     "output_type": "stream",
     "text": [
      "ĐÃ LƯU!\n"
     ]
    },
    {
     "name": "stderr",
     "output_type": "stream",
     "text": [
      "Phân tích khoa Tâm thần tâm lý trang 4: 100%|██████████| 9/9 [00:03<00:00,  2.62it/s]\n"
     ]
    },
    {
     "name": "stdout",
     "output_type": "stream",
     "text": [
      "ĐÃ LƯU!\n"
     ]
    },
    {
     "name": "stderr",
     "output_type": "stream",
     "text": [
      "Phân tích khoa Bệnh nội tiết trang 2:  56%|█████▌    | 5/9 [00:02<00:01,  2.08it/s]"
     ]
    },
    {
     "name": "stdout",
     "output_type": "stream",
     "text": [
      "Selenium: Can't get connection to https://ivie.vn/tam-than-tam-ly-0?page=5! Try again (1) in 3 seconds.\n"
     ]
    },
    {
     "name": "stderr",
     "output_type": "stream",
     "text": [
      "Phân tích khoa Bệnh nội tiết trang 2: 100%|██████████| 9/9 [00:04<00:00,  2.20it/s]\n"
     ]
    },
    {
     "name": "stdout",
     "output_type": "stream",
     "text": [
      "ĐÃ LƯU!\n"
     ]
    },
    {
     "name": "stderr",
     "output_type": "stream",
     "text": [
      "Phân tích khoa Bệnh thần kinh trang 1: 100%|██████████| 13/13 [00:06<00:00,  2.09it/s]\n"
     ]
    },
    {
     "name": "stdout",
     "output_type": "stream",
     "text": [
      "ĐÃ LƯU!\n"
     ]
    },
    {
     "name": "stderr",
     "output_type": "stream",
     "text": [
      "Phân tích khoa Bệnh nội tiết trang 3:  62%|██████▎   | 5/8 [00:02<00:01,  2.22it/s]"
     ]
    },
    {
     "name": "stdout",
     "output_type": "stream",
     "text": [
      "Selenium: Can't get connection to https://ivie.vn/tam-than-tam-ly-0?page=5! Try again (2) in 3 seconds.\n"
     ]
    },
    {
     "name": "stderr",
     "output_type": "stream",
     "text": [
      "Phân tích khoa Bệnh nội tiết trang 3: 100%|██████████| 8/8 [00:03<00:00,  2.14it/s]\n"
     ]
    },
    {
     "name": "stdout",
     "output_type": "stream",
     "text": [
      "ĐÃ LƯU!\n",
      "Selenium: Can't get connection to https://ivie.vn/benh-noi-tiet-0?page=4! Try again (1) in 3 seconds.\n"
     ]
    },
    {
     "name": "stderr",
     "output_type": "stream",
     "text": [
      "Phân tích khoa Thận tiết niệu trang 1: 100%|██████████| 17/17 [00:09<00:00,  1.76it/s]\n"
     ]
    },
    {
     "name": "stdout",
     "output_type": "stream",
     "text": [
      "ĐÃ LƯU!\n"
     ]
    },
    {
     "name": "stderr",
     "output_type": "stream",
     "text": [
      "Phân tích khoa Bệnh nội tiết trang 4: 100%|██████████| 9/9 [00:04<00:00,  1.88it/s]\n"
     ]
    },
    {
     "name": "stdout",
     "output_type": "stream",
     "text": [
      "ĐÃ LƯU!\n"
     ]
    },
    {
     "name": "stderr",
     "output_type": "stream",
     "text": [
      "Phân tích khoa Tâm thần tâm lý trang 5: 100%|██████████| 9/9 [00:06<00:00,  1.35it/s]\n",
      "Phân tích khoa Thận tiết niệu trang 2:  11%|█         | 1/9 [00:00<00:04,  1.84it/s]"
     ]
    },
    {
     "name": "stdout",
     "output_type": "stream",
     "text": [
      "ĐÃ LƯU!\n"
     ]
    },
    {
     "name": "stderr",
     "output_type": "stream",
     "text": [
      "Phân tích khoa Thận tiết niệu trang 2: 100%|██████████| 9/9 [00:04<00:00,  1.90it/s]\n"
     ]
    },
    {
     "name": "stdout",
     "output_type": "stream",
     "text": [
      "ĐÃ LƯU!\n"
     ]
    },
    {
     "name": "stderr",
     "output_type": "stream",
     "text": [
      "Phân tích khoa Bệnh nội tiết trang 5:  78%|███████▊  | 7/9 [00:03<00:01,  1.86it/s]\n",
      "\u001b[A\n",
      "Phân tích khoa Tâm thần tâm lý trang 6: 100%|██████████| 8/8 [00:05<00:00,  1.55it/s]\n",
      "\n",
      "\u001b[A"
     ]
    },
    {
     "name": "stdout",
     "output_type": "stream",
     "text": [
      "ĐÃ LƯU!\n"
     ]
    },
    {
     "name": "stderr",
     "output_type": "stream",
     "text": [
      "\n",
      "\u001b[A\n",
      "\u001b[A\n",
      "\u001b[A\n",
      "\u001b[A\n",
      "\u001b[A\n",
      "\u001b[A\n",
      "Phân tích khoa Thận tiết niệu trang 3: 100%|██████████| 9/9 [00:04<00:00,  1.89it/s]\n"
     ]
    },
    {
     "name": "stdout",
     "output_type": "stream",
     "text": [
      "ĐÃ LƯU!\n",
      "BeautifulSoup: Unable to connect to https://ivie.vn/benh-dai-thao-duong-tuyp-nguyen-nhan-dac-diem-chan-doan-phan-loai-va-nguyen-tac-dieu-tri--0! Try again (1) in 3 seconds\n"
     ]
    },
    {
     "name": "stderr",
     "output_type": "stream",
     "text": [
      "Phân tích khoa Bệnh nội tiết trang 5:  89%|████████▉ | 8/9 [00:28<00:08,  8.23s/it]"
     ]
    },
    {
     "name": "stdout",
     "output_type": "stream",
     "text": [
      "Selenium: Can't get connection to https://ivie.vn/than-tieu-nieu-0?page=4! Try again (1) in 3 seconds.\n"
     ]
    },
    {
     "name": "stderr",
     "output_type": "stream",
     "text": [
      "Phân tích khoa Bệnh nội tiết trang 5: 100%|██████████| 9/9 [00:29<00:00,  3.22s/it]\n"
     ]
    },
    {
     "name": "stdout",
     "output_type": "stream",
     "text": [
      "ĐÃ LƯU!\n"
     ]
    },
    {
     "name": "stderr",
     "output_type": "stream",
     "text": [
      "Phân tích khoa Tâm thần tâm lý trang 7: 100%|██████████| 7/7 [00:04<00:00,  1.59it/s]\n"
     ]
    },
    {
     "name": "stdout",
     "output_type": "stream",
     "text": [
      "ĐÃ LƯU!\n"
     ]
    },
    {
     "name": "stderr",
     "output_type": "stream",
     "text": [
      "Phân tích khoa Thận tiết niệu trang 4:  86%|████████▌ | 6/7 [00:02<00:00,  1.98it/s]"
     ]
    },
    {
     "name": "stdout",
     "output_type": "stream",
     "text": [
      "Selenium: Can't get connection to https://ivie.vn/benh-noi-tiet-0?page=6! Try again (1) in 3 seconds.\n"
     ]
    },
    {
     "name": "stderr",
     "output_type": "stream",
     "text": [
      "Phân tích khoa Thận tiết niệu trang 4: 100%|██████████| 7/7 [00:03<00:00,  1.99it/s]\n"
     ]
    },
    {
     "name": "stdout",
     "output_type": "stream",
     "text": [
      "ĐÃ LƯU!\n"
     ]
    },
    {
     "name": "stderr",
     "output_type": "stream",
     "text": [
      "Phân tích khoa Tiêm chủng trang 1: 100%|██████████| 1/1 [00:00<00:00,  1.80it/s]\n"
     ]
    },
    {
     "name": "stdout",
     "output_type": "stream",
     "text": [
      "ĐÃ LƯU!\n"
     ]
    },
    {
     "name": "stderr",
     "output_type": "stream",
     "text": [
      "Phân tích khoa Bệnh nội tiết trang 6:  29%|██▊       | 2/7 [00:00<00:02,  2.11it/s]"
     ]
    },
    {
     "name": "stdout",
     "output_type": "stream",
     "text": [
      "Selenium: Can't get connection to https://ivie.vn/than-tieu-nieu-0?page=5! Try again (1) in 3 seconds.\n"
     ]
    },
    {
     "name": "stderr",
     "output_type": "stream",
     "text": [
      "Phân tích khoa Bệnh nội tiết trang 6: 100%|██████████| 7/7 [00:07<00:00,  1.07s/it]\n"
     ]
    },
    {
     "name": "stdout",
     "output_type": "stream",
     "text": [
      "ĐÃ LƯU!\n"
     ]
    },
    {
     "name": "stderr",
     "output_type": "stream",
     "text": [
      "Phân tích khoa Ngộ độc trang 1: 100%|██████████| 2/2 [00:00<00:00,  2.84it/s]15it/s]\n",
      "Phân tích khoa Thận tiết niệu trang 5: 100%|██████████| 7/7 [00:03<00:00,  2.10it/s]\n"
     ]
    },
    {
     "name": "stdout",
     "output_type": "stream",
     "text": [
      "ĐÃ LƯU!\n",
      "ĐÃ LƯU!\n",
      "Selenium: Can't get connection to https://ivie.vn/di-truyen-0?page=1! Try again (1) in 3 seconds.\n",
      "Selenium: Can't get connection to https://ivie.vn/ngo-doc-0?page=2! Try again (1) in 3 seconds.\n",
      "Selenium: Can't get connection to https://ivie.vn/than-tieu-nieu-0?page=6! Try again (1) in 3 seconds.\n"
     ]
    },
    {
     "name": "stderr",
     "output_type": "stream",
     "text": [
      "Phân tích khoa Thận tiết niệu trang 6: 100%|██████████| 6/6 [00:02<00:00,  2.04it/s]\n",
      "Phân tích khoa Di truyền trang 1:  95%|█████████▍| 18/19 [00:09<00:00,  1.80it/s]"
     ]
    },
    {
     "name": "stdout",
     "output_type": "stream",
     "text": [
      "ĐÃ LƯU!\n"
     ]
    },
    {
     "name": "stderr",
     "output_type": "stream",
     "text": [
      "Phân tích khoa Di truyền trang 1: 100%|██████████| 19/19 [00:10<00:00,  1.86it/s]\n"
     ]
    },
    {
     "name": "stdout",
     "output_type": "stream",
     "text": [
      "ĐÃ LƯU!\n"
     ]
    },
    {
     "name": "stderr",
     "output_type": "stream",
     "text": [
      "Phân tích khoa Bệnh lý dị ứng trang 1: 100%|██████████| 10/10 [00:04<00:00,  2.25it/s]\n"
     ]
    },
    {
     "name": "stdout",
     "output_type": "stream",
     "text": [
      "ĐÃ LƯU!\n"
     ]
    },
    {
     "name": "stderr",
     "output_type": "stream",
     "text": [
      "Phân tích khoa Thận tiết niệu trang 7:  20%|██        | 1/5 [00:00<00:02,  1.80it/s]"
     ]
    },
    {
     "name": "stdout",
     "output_type": "stream",
     "text": [
      "Selenium: Can't get connection to https://ivie.vn/di-truyen-0?page=2! Try again (1) in 3 seconds.\n"
     ]
    },
    {
     "name": "stderr",
     "output_type": "stream",
     "text": [
      "Phân tích khoa Thận tiết niệu trang 7: 100%|██████████| 5/5 [00:02<00:00,  1.80it/s]\n"
     ]
    },
    {
     "name": "stdout",
     "output_type": "stream",
     "text": [
      "ĐÃ LƯU!\n",
      "Selenium: Can't get connection to https://ivie.vn/benh-ly-di-ung-0?page=2! Try again (1) in 3 seconds.\n",
      "Selenium: Can't get connection to https://ivie.vn/di-truyen-0?page=2! Try again (2) in 3 seconds.\n",
      "Selenium: Can't get connection to https://ivie.vn/benh-ly-giao-mua-0?page=1! Try again (1) in 3 seconds.\n",
      "Selenium: Can't get connection to https://ivie.vn/di-truyen-0?page=2! Try again (3) in 3 seconds.\n"
     ]
    },
    {
     "name": "stderr",
     "output_type": "stream",
     "text": [
      "Phân tích khoa Giữ sức khỏe dịp lễ trang 1: 100%|██████████| 13/13 [00:05<00:00,  2.17it/s]\n"
     ]
    },
    {
     "name": "stdout",
     "output_type": "stream",
     "text": [
      "ĐÃ LƯU!\n"
     ]
    },
    {
     "name": "stderr",
     "output_type": "stream",
     "text": [
      "Phân tích khoa Bệnh lý giao mùa trang 1: 100%|██████████| 11/11 [00:04<00:00,  2.51it/s]\n"
     ]
    },
    {
     "name": "stdout",
     "output_type": "stream",
     "text": [
      "ĐÃ LƯU!\n"
     ]
    },
    {
     "name": "stderr",
     "output_type": "stream",
     "text": [
      "Phân tích khoa Di truyền trang 2: 100%|██████████| 8/8 [00:04<00:00,  1.95it/s]\n"
     ]
    },
    {
     "name": "stdout",
     "output_type": "stream",
     "text": [
      "ĐÃ LƯU!\n"
     ]
    },
    {
     "name": "stderr",
     "output_type": "stream",
     "text": [
      "Phân tích khoa Giữ sức khỏe dịp lễ trang 2: 100%|██████████| 5/5 [00:02<00:00,  2.49it/s]\n"
     ]
    },
    {
     "name": "stdout",
     "output_type": "stream",
     "text": [
      "ĐÃ LƯU!\n",
      "Selenium: Can't get connection to https://ivie.vn/benh-ly-giao-mua-0?page=2! Try again (1) in 3 seconds.\n"
     ]
    },
    {
     "name": "stderr",
     "output_type": "stream",
     "text": [
      "Phân tích khoa Di truyền trang 3: 100%|██████████| 9/9 [00:05<00:00,  1.75it/s]\n",
      "Phân tích khoa Giữ sức khỏe dịp lễ trang 3:   0%|          | 0/1 [00:00<?, ?it/s]"
     ]
    },
    {
     "name": "stdout",
     "output_type": "stream",
     "text": [
      "ĐÃ LƯU!\n"
     ]
    },
    {
     "name": "stderr",
     "output_type": "stream",
     "text": [
      "Phân tích khoa Giữ sức khỏe dịp lễ trang 3: 100%|██████████| 1/1 [00:00<00:00,  2.44it/s]\n"
     ]
    },
    {
     "name": "stdout",
     "output_type": "stream",
     "text": [
      "ĐÃ LƯU!\n",
      "Selenium: Can't get connection to https://ivie.vn/benh-ly-giao-mua-0?page=2! Try again (2) in 3 seconds.\n",
      "Selenium: Can't get connection to https://ivie.vn/di-truyen-0?page=4! Try again (1) in 3 seconds.\n",
      "Selenium: Can't get connection to https://ivie.vn/benh-ly-giao-mua-0?page=2! Try again (3) in 3 seconds.\n",
      "Selenium: Can't get connection to https://ivie.vn/y-hoc-co-truyen-0?page=1! Try again (1) in 3 seconds.\n",
      "Selenium: Can't get connection to https://ivie.vn/di-truyen-0?page=4! Try again (2) in 3 seconds.\n",
      "Selenium: Can't get connection to https://ivie.vn/benh-ly-giao-mua-0?page=2! Try again (4) in 3 seconds.\n"
     ]
    },
    {
     "name": "stderr",
     "output_type": "stream",
     "text": [
      "Phân tích khoa Y học cổ truyền trang 1: 100%|██████████| 9/9 [00:05<00:00,  1.70it/s]\n"
     ]
    },
    {
     "name": "stdout",
     "output_type": "stream",
     "text": [
      "ĐÃ LƯU!\n"
     ]
    },
    {
     "name": "stderr",
     "output_type": "stream",
     "text": [
      "Phân tích khoa Di truyền trang 4: 100%|██████████| 9/9 [00:05<00:00,  1.68it/s]\n"
     ]
    },
    {
     "name": "stdout",
     "output_type": "stream",
     "text": [
      "ĐÃ LƯU!\n"
     ]
    },
    {
     "name": "stderr",
     "output_type": "stream",
     "text": [
      "Phân tích khoa Bệnh lý giao mùa trang 2: 100%|██████████| 4/4 [00:01<00:00,  2.77it/s]\n"
     ]
    },
    {
     "name": "stdout",
     "output_type": "stream",
     "text": [
      "ĐÃ LƯU!\n",
      "Selenium: Can't get connection to https://ivie.vn/y-hoc-co-truyen-0?page=2! Try again (1) in 3 seconds.\n",
      "Selenium: Can't get connection to https://ivie.vn/di-truyen-0?page=5! Try again (1) in 3 seconds.\n",
      "Selenium: Can't get connection to https://ivie.vn/benh-ly-giao-mua-0?page=3! Try again (1) in 3 seconds.\n",
      "Selenium: Can't get connection to https://ivie.vn/y-hoc-co-truyen-0?page=2! Try again (2) in 3 seconds.\n",
      "Selenium: Can't get connection to https://ivie.vn/di-truyen-0?page=5! Try again (2) in 3 seconds.\n",
      "Selenium: Can't get connection to https://ivie.vn/y-hoc-co-truyen-0?page=2! Try again (3) in 3 seconds.\n"
     ]
    },
    {
     "name": "stderr",
     "output_type": "stream",
     "text": [
      "Phân tích khoa Sinh lý học thăm dò chức năng trang 1: 100%|██████████| 7/7 [00:03<00:00,  1.92it/s]\n"
     ]
    },
    {
     "name": "stdout",
     "output_type": "stream",
     "text": [
      "ĐÃ LƯU!\n",
      "Selenium: Can't get connection to https://ivie.vn/sinh-ly-hoc-tham-do-chuc-nang-0?page=2! Try again (1) in 3 seconds.\n",
      "Selenium: Can't get connection to https://ivie.vn/chan-doan-hinh-anh-0?page=1! Try again (1) in 3 seconds.\n",
      "BeautifulSoup: Unable to connect to https://ivie.vn/hoi-chung-khong-nhay-cam-voi-androgen-nguyen-nhan-va-trieu-chung-0! Try again (1) in 3 seconds\n"
     ]
    },
    {
     "name": "stderr",
     "output_type": "stream",
     "text": [
      "Phân tích khoa Di truyền trang 5: 100%|██████████| 8/8 [00:28<00:00,  3.61s/it]\n"
     ]
    },
    {
     "name": "stdout",
     "output_type": "stream",
     "text": [
      "ĐÃ LƯU!\n",
      "Selenium: Can't get connection to https://ivie.vn/chan-doan-hinh-anh-0?page=1! Try again (2) in 3 seconds.\n"
     ]
    },
    {
     "name": "stderr",
     "output_type": "stream",
     "text": [
      "Phân tích khoa Di truyền trang 6: 100%|██████████| 8/8 [00:04<00:00,  1.79it/s]\n"
     ]
    },
    {
     "name": "stdout",
     "output_type": "stream",
     "text": [
      "ĐÃ LƯU!\n"
     ]
    },
    {
     "name": "stderr",
     "output_type": "stream",
     "text": [
      "Phân tích khoa Bệnh hô hấp trang 1: 100%|██████████| 19/19 [00:11<00:00,  1.71it/s]\n"
     ]
    },
    {
     "name": "stdout",
     "output_type": "stream",
     "text": [
      "ĐÃ LƯU!\n",
      "Selenium: Can't get connection to https://ivie.vn/chan-doan-hinh-anh-0?page=1! Try again (3) in 3 seconds.\n"
     ]
    },
    {
     "name": "stderr",
     "output_type": "stream",
     "text": [
      "Phân tích khoa Di truyền trang 7: 100%|██████████| 8/8 [00:04<00:00,  1.90it/s]\n"
     ]
    },
    {
     "name": "stdout",
     "output_type": "stream",
     "text": [
      "ĐÃ LƯU!\n",
      "Selenium: Can't get connection to https://ivie.vn/benh-ho-hap-0?page=2! Try again (1) in 3 seconds.\n"
     ]
    },
    {
     "name": "stderr",
     "output_type": "stream",
     "text": [
      "Phân tích khoa Di truyền trang 8: 100%|██████████| 8/8 [00:04<00:00,  1.79it/s]  1.79it/s]\n"
     ]
    },
    {
     "name": "stdout",
     "output_type": "stream",
     "text": [
      "ĐÃ LƯU!\n"
     ]
    },
    {
     "name": "stderr",
     "output_type": "stream",
     "text": [
      "Phân tích khoa Chẩn đoán hình ảnh trang 1: 100%|██████████| 19/19 [00:09<00:00,  2.05it/s]\n"
     ]
    },
    {
     "name": "stdout",
     "output_type": "stream",
     "text": [
      "ĐÃ LƯU!\n"
     ]
    },
    {
     "name": "stderr",
     "output_type": "stream",
     "text": [
      "Phân tích khoa Bệnh hô hấp trang 2: 100%|██████████| 8/8 [00:04<00:00,  1.85it/s]\n"
     ]
    },
    {
     "name": "stdout",
     "output_type": "stream",
     "text": [
      "ĐÃ LƯU!\n",
      "Selenium: Can't get connection to https://ivie.vn/chan-doan-hinh-anh-0?page=2! Try again (1) in 3 seconds.\n"
     ]
    },
    {
     "name": "stderr",
     "output_type": "stream",
     "text": [
      "Phân tích khoa Di truyền trang 9: 100%|██████████| 8/8 [00:04<00:00,  1.80it/s]\n"
     ]
    },
    {
     "name": "stdout",
     "output_type": "stream",
     "text": [
      "ĐÃ LƯU!\n",
      "Selenium: Can't get connection to https://ivie.vn/benh-ho-hap-0?page=3! Try again (1) in 3 seconds.\n",
      "Selenium: Can't get connection to https://ivie.vn/di-truyen-0?page=10! Try again (1) in 3 seconds.\n"
     ]
    },
    {
     "name": "stderr",
     "output_type": "stream",
     "text": [
      "Phân tích khoa Chẩn đoán hình ảnh trang 2: 100%|██████████| 9/9 [00:04<00:00,  2.16it/s]\n"
     ]
    },
    {
     "name": "stdout",
     "output_type": "stream",
     "text": [
      "ĐÃ LƯU!\n",
      "Selenium: Can't get connection to https://ivie.vn/benh-ho-hap-0?page=3! Try again (2) in 3 seconds.\n",
      "Selenium: Can't get connection to https://ivie.vn/di-truyen-0?page=10! Try again (2) in 3 seconds.\n"
     ]
    },
    {
     "name": "stderr",
     "output_type": "stream",
     "text": [
      "Phân tích khoa Chẩn đoán hình ảnh trang 3: 100%|██████████| 9/9 [00:05<00:00,  1.67it/s]\n"
     ]
    },
    {
     "name": "stdout",
     "output_type": "stream",
     "text": [
      "ĐÃ LƯU!\n",
      "Selenium: Can't get connection to https://ivie.vn/benh-ho-hap-0?page=3! Try again (3) in 3 seconds.\n",
      "Selenium: Can't get connection to https://ivie.vn/di-truyen-0?page=10! Try again (3) in 3 seconds.\n"
     ]
    },
    {
     "name": "stderr",
     "output_type": "stream",
     "text": [
      "Phân tích khoa Chẩn đoán hình ảnh trang 4: 100%|██████████| 8/8 [00:03<00:00,  2.11it/s]\n"
     ]
    },
    {
     "name": "stdout",
     "output_type": "stream",
     "text": [
      "ĐÃ LƯU!\n"
     ]
    },
    {
     "name": "stderr",
     "output_type": "stream",
     "text": [
      "Phân tích khoa Bệnh hô hấp trang 3: 100%|██████████| 7/7 [00:03<00:00,  1.92it/s]\n"
     ]
    },
    {
     "name": "stdout",
     "output_type": "stream",
     "text": [
      "ĐÃ LƯU!\n"
     ]
    },
    {
     "name": "stderr",
     "output_type": "stream",
     "text": [
      "Phân tích khoa Di truyền trang 10: 100%|██████████| 9/9 [00:05<00:00,  1.74it/s]\n"
     ]
    },
    {
     "name": "stdout",
     "output_type": "stream",
     "text": [
      "ĐÃ LƯU!\n"
     ]
    },
    {
     "name": "stderr",
     "output_type": "stream",
     "text": [
      "Phân tích khoa Chẩn đoán hình ảnh trang 5: 100%|██████████| 7/7 [00:03<00:00,  1.89it/s]\n"
     ]
    },
    {
     "name": "stdout",
     "output_type": "stream",
     "text": [
      "ĐÃ LƯU!\n"
     ]
    },
    {
     "name": "stderr",
     "output_type": "stream",
     "text": [
      "Phân tích khoa Bệnh hô hấp trang 4: 100%|██████████| 8/8 [00:04<00:00,  1.80it/s]\n"
     ]
    },
    {
     "name": "stdout",
     "output_type": "stream",
     "text": [
      "ĐÃ LƯU!\n"
     ]
    },
    {
     "name": "stderr",
     "output_type": "stream",
     "text": [
      "Phân tích khoa Di truyền trang 11: 100%|██████████| 8/8 [00:04<00:00,  1.70it/s]\n"
     ]
    },
    {
     "name": "stdout",
     "output_type": "stream",
     "text": [
      "ĐÃ LƯU!\n"
     ]
    },
    {
     "name": "stderr",
     "output_type": "stream",
     "text": [
      "Phân tích khoa Chẩn đoán hình ảnh trang 6: 100%|██████████| 8/8 [00:03<00:00,  2.13it/s]\n"
     ]
    },
    {
     "name": "stdout",
     "output_type": "stream",
     "text": [
      "ĐÃ LƯU!\n"
     ]
    },
    {
     "name": "stderr",
     "output_type": "stream",
     "text": [
      "Phân tích khoa Bệnh hô hấp trang 5: 100%|██████████| 9/9 [00:04<00:00,  1.87it/s]\n"
     ]
    },
    {
     "name": "stdout",
     "output_type": "stream",
     "text": [
      "ĐÃ LƯU!\n",
      "Selenium: Can't get connection to https://ivie.vn/di-truyen-0?page=12! Try again (1) in 3 seconds.\n"
     ]
    },
    {
     "name": "stderr",
     "output_type": "stream",
     "text": [
      "Phân tích khoa Chẩn đoán hình ảnh trang 7: 100%|██████████| 6/6 [00:03<00:00,  1.79it/s]\n"
     ]
    },
    {
     "name": "stdout",
     "output_type": "stream",
     "text": [
      "ĐÃ LƯU!\n"
     ]
    },
    {
     "name": "stderr",
     "output_type": "stream",
     "text": [
      "Phân tích khoa Bệnh hô hấp trang 6: 100%|██████████| 6/6 [00:03<00:00,  1.94it/s]\n"
     ]
    },
    {
     "name": "stdout",
     "output_type": "stream",
     "text": [
      "ĐÃ LƯU!\n"
     ]
    },
    {
     "name": "stderr",
     "output_type": "stream",
     "text": [
      "Phân tích khoa Chẩn đoán hình ảnh trang 8: 100%|██████████| 7/7 [00:03<00:00,  2.13it/s]\n"
     ]
    },
    {
     "name": "stdout",
     "output_type": "stream",
     "text": [
      "ĐÃ LƯU!\n"
     ]
    },
    {
     "name": "stderr",
     "output_type": "stream",
     "text": [
      "Phân tích khoa Bệnh hô hấp trang 7: 100%|██████████| 4/4 [00:02<00:00,  1.67it/s]\n"
     ]
    },
    {
     "name": "stdout",
     "output_type": "stream",
     "text": [
      "ĐÃ LƯU!\n",
      "Selenium: Can't get connection to https://ivie.vn/chan-doan-hinh-anh-0?page=9! Try again (1) in 3 seconds.\n",
      "Selenium: Can't get connection to https://ivie.vn/benh-ho-hap-0?page=8! Try again (1) in 3 seconds.\n",
      "Selenium: Can't get connection to https://ivie.vn/chan-doan-hinh-anh-0?page=9! Try again (2) in 3 seconds.\n"
     ]
    },
    {
     "name": "stderr",
     "output_type": "stream",
     "text": [
      "Phân tích khoa Chẩn đoán hình ảnh trang 9: 100%|██████████| 4/4 [00:02<00:00,  1.88it/s]\n"
     ]
    },
    {
     "name": "stdout",
     "output_type": "stream",
     "text": [
      "ĐÃ LƯU!\n"
     ]
    }
   ],
   "source": [
    "with ThreadPoolExecutor(max_workers=3) as executor:\n",
    "    results = list(executor.map(crawling, [u for u in url_seed]))"
   ]
  },
  {
   "cell_type": "code",
   "execution_count": 5,
   "metadata": {},
   "outputs": [
    {
     "data": {
      "text/plain": [
       "(1780, 3)"
      ]
     },
     "execution_count": 5,
     "metadata": {},
     "output_type": "execute_result"
    }
   ],
   "source": [
    "df = pd.read_csv(\"ivie_article_crawling.csv\")\n",
    "df.shape"
   ]
  },
  {
   "cell_type": "code",
   "execution_count": 6,
   "metadata": {},
   "outputs": [
    {
     "data": {
      "text/html": [
       "<div>\n",
       "<style scoped>\n",
       "    .dataframe tbody tr th:only-of-type {\n",
       "        vertical-align: middle;\n",
       "    }\n",
       "\n",
       "    .dataframe tbody tr th {\n",
       "        vertical-align: top;\n",
       "    }\n",
       "\n",
       "    .dataframe thead th {\n",
       "        text-align: right;\n",
       "    }\n",
       "</style>\n",
       "<table border=\"1\" class=\"dataframe\">\n",
       "  <thead>\n",
       "    <tr style=\"text-align: right;\">\n",
       "      <th></th>\n",
       "      <th>title</th>\n",
       "      <th>text</th>\n",
       "    </tr>\n",
       "    <tr>\n",
       "      <th>specialty</th>\n",
       "      <th></th>\n",
       "      <th></th>\n",
       "    </tr>\n",
       "  </thead>\n",
       "  <tbody>\n",
       "    <tr>\n",
       "      <th>Bệnh hô hấp</th>\n",
       "      <td>61</td>\n",
       "      <td>61</td>\n",
       "    </tr>\n",
       "    <tr>\n",
       "      <th>Bệnh lý da liễu</th>\n",
       "      <td>19</td>\n",
       "      <td>19</td>\n",
       "    </tr>\n",
       "    <tr>\n",
       "      <th>Bệnh lý dị ứng</th>\n",
       "      <td>10</td>\n",
       "      <td>10</td>\n",
       "    </tr>\n",
       "    <tr>\n",
       "      <th>Bệnh lý giao mùa</th>\n",
       "      <td>15</td>\n",
       "      <td>15</td>\n",
       "    </tr>\n",
       "    <tr>\n",
       "      <th>Bệnh nội tiết</th>\n",
       "      <td>61</td>\n",
       "      <td>61</td>\n",
       "    </tr>\n",
       "    <tr>\n",
       "      <th>Bệnh thần kinh</th>\n",
       "      <td>13</td>\n",
       "      <td>13</td>\n",
       "    </tr>\n",
       "    <tr>\n",
       "      <th>Bệnh tim mạch</th>\n",
       "      <td>135</td>\n",
       "      <td>135</td>\n",
       "    </tr>\n",
       "    <tr>\n",
       "      <th>Bệnh tiêu hóa</th>\n",
       "      <td>72</td>\n",
       "      <td>72</td>\n",
       "    </tr>\n",
       "    <tr>\n",
       "      <th>Bệnh truyền nhiễm</th>\n",
       "      <td>88</td>\n",
       "      <td>88</td>\n",
       "    </tr>\n",
       "    <tr>\n",
       "      <th>Bệnh xương khớp</th>\n",
       "      <td>201</td>\n",
       "      <td>201</td>\n",
       "    </tr>\n",
       "    <tr>\n",
       "      <th>COVID</th>\n",
       "      <td>22</td>\n",
       "      <td>22</td>\n",
       "    </tr>\n",
       "    <tr>\n",
       "      <th>COVID và chăm sóc F0</th>\n",
       "      <td>19</td>\n",
       "      <td>19</td>\n",
       "    </tr>\n",
       "    <tr>\n",
       "      <th>Chẩn đoán hình ảnh</th>\n",
       "      <td>77</td>\n",
       "      <td>77</td>\n",
       "    </tr>\n",
       "    <tr>\n",
       "      <th>Di truyền</th>\n",
       "      <td>102</td>\n",
       "      <td>102</td>\n",
       "    </tr>\n",
       "    <tr>\n",
       "      <th>Giữ sức khỏe dịp lễ</th>\n",
       "      <td>19</td>\n",
       "      <td>19</td>\n",
       "    </tr>\n",
       "    <tr>\n",
       "      <th>Hậu môn trực tràng</th>\n",
       "      <td>3</td>\n",
       "      <td>3</td>\n",
       "    </tr>\n",
       "    <tr>\n",
       "      <th>Mắt</th>\n",
       "      <td>47</td>\n",
       "      <td>47</td>\n",
       "    </tr>\n",
       "    <tr>\n",
       "      <th>Nam học</th>\n",
       "      <td>69</td>\n",
       "      <td>69</td>\n",
       "    </tr>\n",
       "    <tr>\n",
       "      <th>Ngộ độc</th>\n",
       "      <td>2</td>\n",
       "      <td>2</td>\n",
       "    </tr>\n",
       "    <tr>\n",
       "      <th>Nhi khoa</th>\n",
       "      <td>163</td>\n",
       "      <td>163</td>\n",
       "    </tr>\n",
       "    <tr>\n",
       "      <th>Nội khoa</th>\n",
       "      <td>18</td>\n",
       "      <td>18</td>\n",
       "    </tr>\n",
       "    <tr>\n",
       "      <th>Phục hồi chức năng</th>\n",
       "      <td>38</td>\n",
       "      <td>38</td>\n",
       "    </tr>\n",
       "    <tr>\n",
       "      <th>Răng miệng</th>\n",
       "      <td>55</td>\n",
       "      <td>55</td>\n",
       "    </tr>\n",
       "    <tr>\n",
       "      <th>Sinh lý học thăm dò chức năng</th>\n",
       "      <td>7</td>\n",
       "      <td>7</td>\n",
       "    </tr>\n",
       "    <tr>\n",
       "      <th>Sản phụ khoa</th>\n",
       "      <td>135</td>\n",
       "      <td>135</td>\n",
       "    </tr>\n",
       "    <tr>\n",
       "      <th>Sức khỏe sinh sản</th>\n",
       "      <td>5</td>\n",
       "      <td>5</td>\n",
       "    </tr>\n",
       "    <tr>\n",
       "      <th>Tai biến mạch máu não</th>\n",
       "      <td>45</td>\n",
       "      <td>45</td>\n",
       "    </tr>\n",
       "    <tr>\n",
       "      <th>Tai mũi họng</th>\n",
       "      <td>77</td>\n",
       "      <td>77</td>\n",
       "    </tr>\n",
       "    <tr>\n",
       "      <th>Thận tiết niệu</th>\n",
       "      <td>60</td>\n",
       "      <td>60</td>\n",
       "    </tr>\n",
       "    <tr>\n",
       "      <th>Tiêm chủng</th>\n",
       "      <td>1</td>\n",
       "      <td>1</td>\n",
       "    </tr>\n",
       "    <tr>\n",
       "      <th>Tâm thần tâm lý</th>\n",
       "      <td>70</td>\n",
       "      <td>70</td>\n",
       "    </tr>\n",
       "    <tr>\n",
       "      <th>Từ điển xét nghiệm</th>\n",
       "      <td>28</td>\n",
       "      <td>28</td>\n",
       "    </tr>\n",
       "    <tr>\n",
       "      <th>Vaccine COVID</th>\n",
       "      <td>34</td>\n",
       "      <td>34</td>\n",
       "    </tr>\n",
       "    <tr>\n",
       "      <th>Y học cổ truyền</th>\n",
       "      <td>9</td>\n",
       "      <td>9</td>\n",
       "    </tr>\n",
       "  </tbody>\n",
       "</table>\n",
       "</div>"
      ],
      "text/plain": [
       "                               title  text\n",
       "specialty                                 \n",
       "Bệnh hô hấp                       61    61\n",
       "Bệnh lý da liễu                   19    19\n",
       "Bệnh lý dị ứng                    10    10\n",
       "Bệnh lý giao mùa                  15    15\n",
       "Bệnh nội tiết                     61    61\n",
       "Bệnh thần kinh                    13    13\n",
       "Bệnh tim mạch                    135   135\n",
       "Bệnh tiêu hóa                     72    72\n",
       "Bệnh truyền nhiễm                 88    88\n",
       "Bệnh xương khớp                  201   201\n",
       "COVID                             22    22\n",
       "COVID và chăm sóc F0              19    19\n",
       "Chẩn đoán hình ảnh                77    77\n",
       "Di truyền                        102   102\n",
       "Giữ sức khỏe dịp lễ               19    19\n",
       "Hậu môn trực tràng                 3     3\n",
       "Mắt                               47    47\n",
       "Nam học                           69    69\n",
       "Ngộ độc                            2     2\n",
       "Nhi khoa                         163   163\n",
       "Nội khoa                          18    18\n",
       "Phục hồi chức năng                38    38\n",
       "Răng miệng                        55    55\n",
       "Sinh lý học thăm dò chức năng      7     7\n",
       "Sản phụ khoa                     135   135\n",
       "Sức khỏe sinh sản                  5     5\n",
       "Tai biến mạch máu não             45    45\n",
       "Tai mũi họng                      77    77\n",
       "Thận tiết niệu                    60    60\n",
       "Tiêm chủng                         1     1\n",
       "Tâm thần tâm lý                   70    70\n",
       "Từ điển xét nghiệm                28    28\n",
       "Vaccine COVID                     34    34\n",
       "Y học cổ truyền                    9     9"
      ]
     },
     "execution_count": 6,
     "metadata": {},
     "output_type": "execute_result"
    }
   ],
   "source": [
    "df.groupby(\"specialty\").count()"
   ]
  },
  {
   "cell_type": "markdown",
   "metadata": {},
   "source": [
    "# Cào thêm vì thất lạc"
   ]
  },
  {
   "cell_type": "code",
   "execution_count": 21,
   "metadata": {},
   "outputs": [
    {
     "name": "stdout",
     "output_type": "stream",
     "text": [
      "Selenium: Can't get connection to https://ivie.vn/nhi-khoa-0?page=1! Try again (1) in 3 seconds.\n"
     ]
    },
    {
     "name": "stderr",
     "output_type": "stream",
     "text": [
      "Phân tích khoa Nhi khoa trang 1: 100%|██████████| 19/19 [00:16<00:00,  1.14it/s]\n"
     ]
    },
    {
     "name": "stdout",
     "output_type": "stream",
     "text": [
      "ĐÃ LƯU!\n"
     ]
    },
    {
     "name": "stderr",
     "output_type": "stream",
     "text": [
      "Phân tích khoa Nhi khoa trang 2: 100%|██████████| 9/9 [00:03<00:00,  2.51it/s]\n"
     ]
    },
    {
     "name": "stdout",
     "output_type": "stream",
     "text": [
      "ĐÃ LƯU!\n"
     ]
    },
    {
     "name": "stderr",
     "output_type": "stream",
     "text": [
      "Phân tích khoa Nhi khoa trang 3: 100%|██████████| 9/9 [00:03<00:00,  2.59it/s]\n"
     ]
    },
    {
     "name": "stdout",
     "output_type": "stream",
     "text": [
      "ĐÃ LƯU!\n"
     ]
    },
    {
     "name": "stderr",
     "output_type": "stream",
     "text": [
      "Phân tích khoa Nhi khoa trang 4: 100%|██████████| 9/9 [00:03<00:00,  2.69it/s]\n"
     ]
    },
    {
     "name": "stdout",
     "output_type": "stream",
     "text": [
      "ĐÃ LƯU!\n"
     ]
    },
    {
     "name": "stderr",
     "output_type": "stream",
     "text": [
      "Phân tích khoa Nhi khoa trang 5: 100%|██████████| 9/9 [00:03<00:00,  2.74it/s]\n"
     ]
    },
    {
     "name": "stdout",
     "output_type": "stream",
     "text": [
      "ĐÃ LƯU!\n"
     ]
    },
    {
     "name": "stderr",
     "output_type": "stream",
     "text": [
      "Phân tích khoa Nhi khoa trang 6: 100%|██████████| 9/9 [00:03<00:00,  2.70it/s]\n"
     ]
    },
    {
     "name": "stdout",
     "output_type": "stream",
     "text": [
      "ĐÃ LƯU!\n"
     ]
    },
    {
     "name": "stderr",
     "output_type": "stream",
     "text": [
      "Phân tích khoa Nhi khoa trang 7: 100%|██████████| 9/9 [00:03<00:00,  2.59it/s]\n"
     ]
    },
    {
     "name": "stdout",
     "output_type": "stream",
     "text": [
      "ĐÃ LƯU!\n",
      "Selenium: Can't get connection to https://ivie.vn/nhi-khoa-0?page=8! Try again (1) in 3 seconds.\n"
     ]
    },
    {
     "name": "stderr",
     "output_type": "stream",
     "text": [
      "Phân tích khoa Nhi khoa trang 8: 100%|██████████| 9/9 [00:03<00:00,  2.64it/s]\n"
     ]
    },
    {
     "name": "stdout",
     "output_type": "stream",
     "text": [
      "ĐÃ LƯU!\n"
     ]
    },
    {
     "name": "stderr",
     "output_type": "stream",
     "text": [
      "Phân tích khoa Nhi khoa trang 9: 100%|██████████| 9/9 [00:03<00:00,  2.40it/s]\n"
     ]
    },
    {
     "name": "stdout",
     "output_type": "stream",
     "text": [
      "ĐÃ LƯU!\n"
     ]
    },
    {
     "name": "stderr",
     "output_type": "stream",
     "text": [
      "Phân tích khoa Nhi khoa trang 10: 100%|██████████| 9/9 [00:03<00:00,  2.42it/s]\n"
     ]
    },
    {
     "name": "stdout",
     "output_type": "stream",
     "text": [
      "ĐÃ LƯU!\n",
      "Selenium: Can't get connection to https://ivie.vn/nhi-khoa-0?page=11! Try again (1) in 3 seconds.\n"
     ]
    },
    {
     "name": "stderr",
     "output_type": "stream",
     "text": [
      "Phân tích khoa Nhi khoa trang 11: 100%|██████████| 9/9 [00:03<00:00,  2.36it/s]\n"
     ]
    },
    {
     "name": "stdout",
     "output_type": "stream",
     "text": [
      "ĐÃ LƯU!\n"
     ]
    },
    {
     "name": "stderr",
     "output_type": "stream",
     "text": [
      "Phân tích khoa Nhi khoa trang 12: 100%|██████████| 9/9 [00:03<00:00,  2.59it/s]\n"
     ]
    },
    {
     "name": "stdout",
     "output_type": "stream",
     "text": [
      "ĐÃ LƯU!\n"
     ]
    },
    {
     "name": "stderr",
     "output_type": "stream",
     "text": [
      "Phân tích khoa Nhi khoa trang 13: 100%|██████████| 9/9 [00:03<00:00,  2.37it/s]\n"
     ]
    },
    {
     "name": "stdout",
     "output_type": "stream",
     "text": [
      "ĐÃ LƯU!\n",
      "Selenium: Can't get connection to https://ivie.vn/nhi-khoa-0?page=14! Try again (1) in 3 seconds.\n"
     ]
    },
    {
     "name": "stderr",
     "output_type": "stream",
     "text": [
      "Phân tích khoa Nhi khoa trang 14: 100%|██████████| 9/9 [00:03<00:00,  2.31it/s]\n"
     ]
    },
    {
     "name": "stdout",
     "output_type": "stream",
     "text": [
      "ĐÃ LƯU!\n"
     ]
    },
    {
     "name": "stderr",
     "output_type": "stream",
     "text": [
      "Phân tích khoa Nhi khoa trang 15: 100%|██████████| 9/9 [00:03<00:00,  2.33it/s]\n"
     ]
    },
    {
     "name": "stdout",
     "output_type": "stream",
     "text": [
      "ĐÃ LƯU!\n"
     ]
    },
    {
     "name": "stderr",
     "output_type": "stream",
     "text": [
      "Phân tích khoa Nhi khoa trang 16: 100%|██████████| 9/9 [00:03<00:00,  2.46it/s]\n"
     ]
    },
    {
     "name": "stdout",
     "output_type": "stream",
     "text": [
      "ĐÃ LƯU!\n"
     ]
    },
    {
     "name": "stderr",
     "output_type": "stream",
     "text": [
      "Phân tích khoa Nhi khoa trang 17: 100%|██████████| 9/9 [00:03<00:00,  2.46it/s]\n"
     ]
    },
    {
     "name": "stdout",
     "output_type": "stream",
     "text": [
      "ĐÃ LƯU!\n"
     ]
    },
    {
     "name": "stderr",
     "output_type": "stream",
     "text": [
      "Phân tích khoa Nhi khoa trang 18: 100%|██████████| 9/9 [00:03<00:00,  2.45it/s]\n"
     ]
    },
    {
     "name": "stdout",
     "output_type": "stream",
     "text": [
      "ĐÃ LƯU!\n"
     ]
    },
    {
     "name": "stderr",
     "output_type": "stream",
     "text": [
      "Phân tích khoa Nhi khoa trang 19: 100%|██████████| 9/9 [00:03<00:00,  2.41it/s]\n"
     ]
    },
    {
     "name": "stdout",
     "output_type": "stream",
     "text": [
      "ĐÃ LƯU!\n"
     ]
    },
    {
     "name": "stderr",
     "output_type": "stream",
     "text": [
      "Phân tích khoa Nhi khoa trang 20: 100%|██████████| 9/9 [00:05<00:00,  1.78it/s]\n"
     ]
    },
    {
     "name": "stdout",
     "output_type": "stream",
     "text": [
      "ĐÃ LƯU!\n"
     ]
    },
    {
     "name": "stderr",
     "output_type": "stream",
     "text": [
      "Phân tích khoa Nhi khoa trang 21: 100%|██████████| 9/9 [00:04<00:00,  1.92it/s]\n"
     ]
    },
    {
     "name": "stdout",
     "output_type": "stream",
     "text": [
      "ĐÃ LƯU!\n"
     ]
    },
    {
     "name": "stderr",
     "output_type": "stream",
     "text": [
      "Phân tích khoa Nhi khoa trang 22: 100%|██████████| 9/9 [00:08<00:00,  1.09it/s]\n"
     ]
    },
    {
     "name": "stdout",
     "output_type": "stream",
     "text": [
      "ĐÃ LƯU!\n"
     ]
    },
    {
     "name": "stderr",
     "output_type": "stream",
     "text": [
      "Phân tích khoa Nhi khoa trang 23: 100%|██████████| 6/6 [00:04<00:00,  1.45it/s]\n"
     ]
    },
    {
     "name": "stdout",
     "output_type": "stream",
     "text": [
      "ĐÃ LƯU!\n"
     ]
    },
    {
     "name": "stderr",
     "output_type": "stream",
     "text": [
      "Phân tích khoa Nhi khoa trang 24: 100%|██████████| 9/9 [00:06<00:00,  1.49it/s]\n"
     ]
    },
    {
     "name": "stdout",
     "output_type": "stream",
     "text": [
      "ĐÃ LƯU!\n"
     ]
    },
    {
     "name": "stderr",
     "output_type": "stream",
     "text": [
      "Phân tích khoa Nhi khoa trang 25: 100%|██████████| 9/9 [00:05<00:00,  1.54it/s]\n"
     ]
    },
    {
     "name": "stdout",
     "output_type": "stream",
     "text": [
      "ĐÃ LƯU!\n",
      "Selenium: Can't get connection to https://ivie.vn/nhi-khoa-0?page=26! Try again (1) in 3 seconds.\n"
     ]
    },
    {
     "name": "stderr",
     "output_type": "stream",
     "text": [
      "Phân tích khoa Nhi khoa trang 26: 100%|██████████| 8/8 [00:05<00:00,  1.57it/s]\n"
     ]
    },
    {
     "name": "stdout",
     "output_type": "stream",
     "text": [
      "ĐÃ LƯU!\n"
     ]
    },
    {
     "name": "stderr",
     "output_type": "stream",
     "text": [
      "Phân tích khoa Nhi khoa trang 27: 100%|██████████| 8/8 [00:05<00:00,  1.42it/s]\n"
     ]
    },
    {
     "name": "stdout",
     "output_type": "stream",
     "text": [
      "ĐÃ LƯU!\n"
     ]
    },
    {
     "name": "stderr",
     "output_type": "stream",
     "text": [
      "Phân tích khoa Nhi khoa trang 28: 100%|██████████| 9/9 [00:05<00:00,  1.61it/s]\n"
     ]
    },
    {
     "name": "stdout",
     "output_type": "stream",
     "text": [
      "ĐÃ LƯU!\n"
     ]
    },
    {
     "name": "stderr",
     "output_type": "stream",
     "text": [
      "Phân tích khoa Nhi khoa trang 29: 100%|██████████| 7/7 [00:04<00:00,  1.63it/s]\n"
     ]
    },
    {
     "name": "stdout",
     "output_type": "stream",
     "text": [
      "ĐÃ LƯU!\n"
     ]
    },
    {
     "name": "stderr",
     "output_type": "stream",
     "text": [
      "Phân tích khoa Nhi khoa trang 30: 100%|██████████| 8/8 [00:07<00:00,  1.01it/s]\n"
     ]
    },
    {
     "name": "stdout",
     "output_type": "stream",
     "text": [
      "ĐÃ LƯU!\n"
     ]
    },
    {
     "name": "stderr",
     "output_type": "stream",
     "text": [
      "Phân tích khoa Nhi khoa trang 31: 100%|██████████| 8/8 [00:09<00:00,  1.18s/it]\n"
     ]
    },
    {
     "name": "stdout",
     "output_type": "stream",
     "text": [
      "ĐÃ LƯU!\n",
      "Selenium: Can't get connection to https://ivie.vn/nhi-khoa-0?page=32! Try again (1) in 3 seconds.\n"
     ]
    },
    {
     "name": "stderr",
     "output_type": "stream",
     "text": [
      "Phân tích khoa Nhi khoa trang 32: 100%|██████████| 8/8 [00:05<00:00,  1.35it/s]\n"
     ]
    },
    {
     "name": "stdout",
     "output_type": "stream",
     "text": [
      "ĐÃ LƯU!\n"
     ]
    }
   ],
   "source": [
    "crawling(\"/nhi-khoa-0\")"
   ]
  },
  {
   "cell_type": "code",
   "execution_count": null,
   "metadata": {},
   "outputs": [],
   "source": []
  }
 ],
 "metadata": {
  "kernelspec": {
   "display_name": "Python 3",
   "language": "python",
   "name": "python3"
  },
  "language_info": {
   "codemirror_mode": {
    "name": "ipython",
    "version": 3
   },
   "file_extension": ".py",
   "mimetype": "text/x-python",
   "name": "python",
   "nbconvert_exporter": "python",
   "pygments_lexer": "ipython3",
   "version": "3.10.14"
  }
 },
 "nbformat": 4,
 "nbformat_minor": 2
}
